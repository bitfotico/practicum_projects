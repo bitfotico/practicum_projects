{
 "cells": [
  {
   "cell_type": "markdown",
   "metadata": {},
   "source": [
    "# Research on car sales ads\n",
    "\n",
    "You're an analyst at Crankshaft List. Hundreds of free advertisements for vehicles are published on your site every day.\n",
    "\n",
    "You need to study data collected over the last few years and determine which factors influence the price of a vehicle. "
   ]
  },
  {
   "cell_type": "markdown",
   "metadata": {},
   "source": [
    "## Open the data file and study the general information. "
   ]
  },
  {
   "cell_type": "code",
   "execution_count": 1,
   "metadata": {},
   "outputs": [],
   "source": [
    "import pandas as pd\n",
    "import numpy as np\n",
    "import matplotlib.pyplot as plt\n",
    "import seaborn as sns\n",
    "\n",
    "try:\n",
    "    df = pd.read_csv('/datasets/vehicles_us.csv')\n",
    "except:\n",
    "    df = pd.read_csv('/vehicles_us.csv')"
   ]
  },
  {
   "cell_type": "code",
   "execution_count": 2,
   "metadata": {},
   "outputs": [
    {
     "name": "stdout",
     "output_type": "stream",
     "text": [
      "<class 'pandas.core.frame.DataFrame'>\n",
      "RangeIndex: 51525 entries, 0 to 51524\n",
      "Data columns (total 13 columns):\n",
      "price           51525 non-null int64\n",
      "model_year      47906 non-null float64\n",
      "model           51525 non-null object\n",
      "condition       51525 non-null object\n",
      "cylinders       46265 non-null float64\n",
      "fuel            51525 non-null object\n",
      "odometer        43633 non-null float64\n",
      "transmission    51525 non-null object\n",
      "type            51525 non-null object\n",
      "paint_color     42258 non-null object\n",
      "is_4wd          25572 non-null float64\n",
      "date_posted     51525 non-null object\n",
      "days_listed     51525 non-null int64\n",
      "dtypes: float64(4), int64(2), object(7)\n",
      "memory usage: 5.1+ MB\n"
     ]
    },
    {
     "data": {
      "text/html": [
       "<div>\n",
       "<style scoped>\n",
       "    .dataframe tbody tr th:only-of-type {\n",
       "        vertical-align: middle;\n",
       "    }\n",
       "\n",
       "    .dataframe tbody tr th {\n",
       "        vertical-align: top;\n",
       "    }\n",
       "\n",
       "    .dataframe thead th {\n",
       "        text-align: right;\n",
       "    }\n",
       "</style>\n",
       "<table border=\"1\" class=\"dataframe\">\n",
       "  <thead>\n",
       "    <tr style=\"text-align: right;\">\n",
       "      <th></th>\n",
       "      <th>price</th>\n",
       "      <th>model_year</th>\n",
       "      <th>model</th>\n",
       "      <th>condition</th>\n",
       "      <th>cylinders</th>\n",
       "      <th>fuel</th>\n",
       "      <th>odometer</th>\n",
       "      <th>transmission</th>\n",
       "      <th>type</th>\n",
       "      <th>paint_color</th>\n",
       "      <th>is_4wd</th>\n",
       "      <th>date_posted</th>\n",
       "      <th>days_listed</th>\n",
       "    </tr>\n",
       "  </thead>\n",
       "  <tbody>\n",
       "    <tr>\n",
       "      <td>0</td>\n",
       "      <td>9400</td>\n",
       "      <td>2011.0</td>\n",
       "      <td>bmw x5</td>\n",
       "      <td>good</td>\n",
       "      <td>6.0</td>\n",
       "      <td>gas</td>\n",
       "      <td>145000.0</td>\n",
       "      <td>automatic</td>\n",
       "      <td>SUV</td>\n",
       "      <td>NaN</td>\n",
       "      <td>1.0</td>\n",
       "      <td>2018-06-23</td>\n",
       "      <td>19</td>\n",
       "    </tr>\n",
       "    <tr>\n",
       "      <td>1</td>\n",
       "      <td>25500</td>\n",
       "      <td>NaN</td>\n",
       "      <td>ford f-150</td>\n",
       "      <td>good</td>\n",
       "      <td>6.0</td>\n",
       "      <td>gas</td>\n",
       "      <td>88705.0</td>\n",
       "      <td>automatic</td>\n",
       "      <td>pickup</td>\n",
       "      <td>white</td>\n",
       "      <td>1.0</td>\n",
       "      <td>2018-10-19</td>\n",
       "      <td>50</td>\n",
       "    </tr>\n",
       "    <tr>\n",
       "      <td>2</td>\n",
       "      <td>5500</td>\n",
       "      <td>2013.0</td>\n",
       "      <td>hyundai sonata</td>\n",
       "      <td>like new</td>\n",
       "      <td>4.0</td>\n",
       "      <td>gas</td>\n",
       "      <td>110000.0</td>\n",
       "      <td>automatic</td>\n",
       "      <td>sedan</td>\n",
       "      <td>red</td>\n",
       "      <td>NaN</td>\n",
       "      <td>2019-02-07</td>\n",
       "      <td>79</td>\n",
       "    </tr>\n",
       "    <tr>\n",
       "      <td>3</td>\n",
       "      <td>1500</td>\n",
       "      <td>2003.0</td>\n",
       "      <td>ford f-150</td>\n",
       "      <td>fair</td>\n",
       "      <td>8.0</td>\n",
       "      <td>gas</td>\n",
       "      <td>NaN</td>\n",
       "      <td>automatic</td>\n",
       "      <td>pickup</td>\n",
       "      <td>NaN</td>\n",
       "      <td>NaN</td>\n",
       "      <td>2019-03-22</td>\n",
       "      <td>9</td>\n",
       "    </tr>\n",
       "    <tr>\n",
       "      <td>4</td>\n",
       "      <td>14900</td>\n",
       "      <td>2017.0</td>\n",
       "      <td>chrysler 200</td>\n",
       "      <td>excellent</td>\n",
       "      <td>4.0</td>\n",
       "      <td>gas</td>\n",
       "      <td>80903.0</td>\n",
       "      <td>automatic</td>\n",
       "      <td>sedan</td>\n",
       "      <td>black</td>\n",
       "      <td>NaN</td>\n",
       "      <td>2019-04-02</td>\n",
       "      <td>28</td>\n",
       "    </tr>\n",
       "    <tr>\n",
       "      <td>...</td>\n",
       "      <td>...</td>\n",
       "      <td>...</td>\n",
       "      <td>...</td>\n",
       "      <td>...</td>\n",
       "      <td>...</td>\n",
       "      <td>...</td>\n",
       "      <td>...</td>\n",
       "      <td>...</td>\n",
       "      <td>...</td>\n",
       "      <td>...</td>\n",
       "      <td>...</td>\n",
       "      <td>...</td>\n",
       "      <td>...</td>\n",
       "    </tr>\n",
       "    <tr>\n",
       "      <td>51520</td>\n",
       "      <td>9249</td>\n",
       "      <td>2013.0</td>\n",
       "      <td>nissan maxima</td>\n",
       "      <td>like new</td>\n",
       "      <td>6.0</td>\n",
       "      <td>gas</td>\n",
       "      <td>88136.0</td>\n",
       "      <td>automatic</td>\n",
       "      <td>sedan</td>\n",
       "      <td>black</td>\n",
       "      <td>NaN</td>\n",
       "      <td>2018-10-03</td>\n",
       "      <td>37</td>\n",
       "    </tr>\n",
       "    <tr>\n",
       "      <td>51521</td>\n",
       "      <td>2700</td>\n",
       "      <td>2002.0</td>\n",
       "      <td>honda civic</td>\n",
       "      <td>salvage</td>\n",
       "      <td>4.0</td>\n",
       "      <td>gas</td>\n",
       "      <td>181500.0</td>\n",
       "      <td>automatic</td>\n",
       "      <td>sedan</td>\n",
       "      <td>white</td>\n",
       "      <td>NaN</td>\n",
       "      <td>2018-11-14</td>\n",
       "      <td>22</td>\n",
       "    </tr>\n",
       "    <tr>\n",
       "      <td>51522</td>\n",
       "      <td>3950</td>\n",
       "      <td>2009.0</td>\n",
       "      <td>hyundai sonata</td>\n",
       "      <td>excellent</td>\n",
       "      <td>4.0</td>\n",
       "      <td>gas</td>\n",
       "      <td>128000.0</td>\n",
       "      <td>automatic</td>\n",
       "      <td>sedan</td>\n",
       "      <td>blue</td>\n",
       "      <td>NaN</td>\n",
       "      <td>2018-11-15</td>\n",
       "      <td>32</td>\n",
       "    </tr>\n",
       "    <tr>\n",
       "      <td>51523</td>\n",
       "      <td>7455</td>\n",
       "      <td>2013.0</td>\n",
       "      <td>toyota corolla</td>\n",
       "      <td>good</td>\n",
       "      <td>4.0</td>\n",
       "      <td>gas</td>\n",
       "      <td>139573.0</td>\n",
       "      <td>automatic</td>\n",
       "      <td>sedan</td>\n",
       "      <td>black</td>\n",
       "      <td>NaN</td>\n",
       "      <td>2018-07-02</td>\n",
       "      <td>71</td>\n",
       "    </tr>\n",
       "    <tr>\n",
       "      <td>51524</td>\n",
       "      <td>6300</td>\n",
       "      <td>2014.0</td>\n",
       "      <td>nissan altima</td>\n",
       "      <td>good</td>\n",
       "      <td>4.0</td>\n",
       "      <td>gas</td>\n",
       "      <td>NaN</td>\n",
       "      <td>automatic</td>\n",
       "      <td>sedan</td>\n",
       "      <td>NaN</td>\n",
       "      <td>NaN</td>\n",
       "      <td>2018-06-05</td>\n",
       "      <td>10</td>\n",
       "    </tr>\n",
       "  </tbody>\n",
       "</table>\n",
       "<p>51525 rows × 13 columns</p>\n",
       "</div>"
      ],
      "text/plain": [
       "       price  model_year           model  condition  cylinders fuel  odometer  \\\n",
       "0       9400      2011.0          bmw x5       good        6.0  gas  145000.0   \n",
       "1      25500         NaN      ford f-150       good        6.0  gas   88705.0   \n",
       "2       5500      2013.0  hyundai sonata   like new        4.0  gas  110000.0   \n",
       "3       1500      2003.0      ford f-150       fair        8.0  gas       NaN   \n",
       "4      14900      2017.0    chrysler 200  excellent        4.0  gas   80903.0   \n",
       "...      ...         ...             ...        ...        ...  ...       ...   \n",
       "51520   9249      2013.0   nissan maxima   like new        6.0  gas   88136.0   \n",
       "51521   2700      2002.0     honda civic    salvage        4.0  gas  181500.0   \n",
       "51522   3950      2009.0  hyundai sonata  excellent        4.0  gas  128000.0   \n",
       "51523   7455      2013.0  toyota corolla       good        4.0  gas  139573.0   \n",
       "51524   6300      2014.0   nissan altima       good        4.0  gas       NaN   \n",
       "\n",
       "      transmission    type paint_color  is_4wd date_posted  days_listed  \n",
       "0        automatic     SUV         NaN     1.0  2018-06-23           19  \n",
       "1        automatic  pickup       white     1.0  2018-10-19           50  \n",
       "2        automatic   sedan         red     NaN  2019-02-07           79  \n",
       "3        automatic  pickup         NaN     NaN  2019-03-22            9  \n",
       "4        automatic   sedan       black     NaN  2019-04-02           28  \n",
       "...            ...     ...         ...     ...         ...          ...  \n",
       "51520    automatic   sedan       black     NaN  2018-10-03           37  \n",
       "51521    automatic   sedan       white     NaN  2018-11-14           22  \n",
       "51522    automatic   sedan        blue     NaN  2018-11-15           32  \n",
       "51523    automatic   sedan       black     NaN  2018-07-02           71  \n",
       "51524    automatic   sedan         NaN     NaN  2018-06-05           10  \n",
       "\n",
       "[51525 rows x 13 columns]"
      ]
     },
     "execution_count": 2,
     "metadata": {},
     "output_type": "execute_result"
    }
   ],
   "source": [
    "df.info()\n",
    "df"
   ]
  },
  {
   "cell_type": "markdown",
   "metadata": {},
   "source": [
    "The 'condition' column will need to be reformatted to be able to preform numeric calculations on it as well as plot it, and there seems to be a clear issue with 'is_4wd' not having the correct values."
   ]
  },
  {
   "cell_type": "markdown",
   "metadata": {},
   "source": [
    "## Data preprocessing"
   ]
  },
  {
   "cell_type": "code",
   "execution_count": 3,
   "metadata": {},
   "outputs": [
    {
     "data": {
      "text/html": [
       "<div>\n",
       "<style scoped>\n",
       "    .dataframe tbody tr th:only-of-type {\n",
       "        vertical-align: middle;\n",
       "    }\n",
       "\n",
       "    .dataframe tbody tr th {\n",
       "        vertical-align: top;\n",
       "    }\n",
       "\n",
       "    .dataframe thead th {\n",
       "        text-align: right;\n",
       "    }\n",
       "</style>\n",
       "<table border=\"1\" class=\"dataframe\">\n",
       "  <thead>\n",
       "    <tr style=\"text-align: right;\">\n",
       "      <th></th>\n",
       "      <th>price</th>\n",
       "      <th>model_year</th>\n",
       "      <th>model</th>\n",
       "      <th>condition</th>\n",
       "      <th>cylinders</th>\n",
       "      <th>fuel</th>\n",
       "      <th>odometer</th>\n",
       "      <th>transmission</th>\n",
       "      <th>type</th>\n",
       "      <th>paint_color</th>\n",
       "      <th>is_4wd</th>\n",
       "      <th>date_posted</th>\n",
       "      <th>days_listed</th>\n",
       "    </tr>\n",
       "  </thead>\n",
       "  <tbody>\n",
       "    <tr>\n",
       "      <td>0</td>\n",
       "      <td>9400</td>\n",
       "      <td>2011.0</td>\n",
       "      <td>bmw x5</td>\n",
       "      <td>good</td>\n",
       "      <td>6.0</td>\n",
       "      <td>gas</td>\n",
       "      <td>145000.0</td>\n",
       "      <td>automatic</td>\n",
       "      <td>SUV</td>\n",
       "      <td>NaN</td>\n",
       "      <td>True</td>\n",
       "      <td>2018-06-23</td>\n",
       "      <td>19</td>\n",
       "    </tr>\n",
       "    <tr>\n",
       "      <td>1</td>\n",
       "      <td>25500</td>\n",
       "      <td>NaN</td>\n",
       "      <td>ford f-150</td>\n",
       "      <td>good</td>\n",
       "      <td>6.0</td>\n",
       "      <td>gas</td>\n",
       "      <td>88705.0</td>\n",
       "      <td>automatic</td>\n",
       "      <td>pickup</td>\n",
       "      <td>white</td>\n",
       "      <td>True</td>\n",
       "      <td>2018-10-19</td>\n",
       "      <td>50</td>\n",
       "    </tr>\n",
       "    <tr>\n",
       "      <td>2</td>\n",
       "      <td>5500</td>\n",
       "      <td>2013.0</td>\n",
       "      <td>hyundai sonata</td>\n",
       "      <td>like new</td>\n",
       "      <td>4.0</td>\n",
       "      <td>gas</td>\n",
       "      <td>110000.0</td>\n",
       "      <td>automatic</td>\n",
       "      <td>sedan</td>\n",
       "      <td>red</td>\n",
       "      <td>False</td>\n",
       "      <td>2019-02-07</td>\n",
       "      <td>79</td>\n",
       "    </tr>\n",
       "    <tr>\n",
       "      <td>3</td>\n",
       "      <td>1500</td>\n",
       "      <td>2003.0</td>\n",
       "      <td>ford f-150</td>\n",
       "      <td>fair</td>\n",
       "      <td>8.0</td>\n",
       "      <td>gas</td>\n",
       "      <td>NaN</td>\n",
       "      <td>automatic</td>\n",
       "      <td>pickup</td>\n",
       "      <td>NaN</td>\n",
       "      <td>False</td>\n",
       "      <td>2019-03-22</td>\n",
       "      <td>9</td>\n",
       "    </tr>\n",
       "    <tr>\n",
       "      <td>4</td>\n",
       "      <td>14900</td>\n",
       "      <td>2017.0</td>\n",
       "      <td>chrysler 200</td>\n",
       "      <td>excellent</td>\n",
       "      <td>4.0</td>\n",
       "      <td>gas</td>\n",
       "      <td>80903.0</td>\n",
       "      <td>automatic</td>\n",
       "      <td>sedan</td>\n",
       "      <td>black</td>\n",
       "      <td>False</td>\n",
       "      <td>2019-04-02</td>\n",
       "      <td>28</td>\n",
       "    </tr>\n",
       "    <tr>\n",
       "      <td>...</td>\n",
       "      <td>...</td>\n",
       "      <td>...</td>\n",
       "      <td>...</td>\n",
       "      <td>...</td>\n",
       "      <td>...</td>\n",
       "      <td>...</td>\n",
       "      <td>...</td>\n",
       "      <td>...</td>\n",
       "      <td>...</td>\n",
       "      <td>...</td>\n",
       "      <td>...</td>\n",
       "      <td>...</td>\n",
       "      <td>...</td>\n",
       "    </tr>\n",
       "    <tr>\n",
       "      <td>51520</td>\n",
       "      <td>9249</td>\n",
       "      <td>2013.0</td>\n",
       "      <td>nissan maxima</td>\n",
       "      <td>like new</td>\n",
       "      <td>6.0</td>\n",
       "      <td>gas</td>\n",
       "      <td>88136.0</td>\n",
       "      <td>automatic</td>\n",
       "      <td>sedan</td>\n",
       "      <td>black</td>\n",
       "      <td>False</td>\n",
       "      <td>2018-10-03</td>\n",
       "      <td>37</td>\n",
       "    </tr>\n",
       "    <tr>\n",
       "      <td>51521</td>\n",
       "      <td>2700</td>\n",
       "      <td>2002.0</td>\n",
       "      <td>honda civic</td>\n",
       "      <td>salvage</td>\n",
       "      <td>4.0</td>\n",
       "      <td>gas</td>\n",
       "      <td>181500.0</td>\n",
       "      <td>automatic</td>\n",
       "      <td>sedan</td>\n",
       "      <td>white</td>\n",
       "      <td>False</td>\n",
       "      <td>2018-11-14</td>\n",
       "      <td>22</td>\n",
       "    </tr>\n",
       "    <tr>\n",
       "      <td>51522</td>\n",
       "      <td>3950</td>\n",
       "      <td>2009.0</td>\n",
       "      <td>hyundai sonata</td>\n",
       "      <td>excellent</td>\n",
       "      <td>4.0</td>\n",
       "      <td>gas</td>\n",
       "      <td>128000.0</td>\n",
       "      <td>automatic</td>\n",
       "      <td>sedan</td>\n",
       "      <td>blue</td>\n",
       "      <td>False</td>\n",
       "      <td>2018-11-15</td>\n",
       "      <td>32</td>\n",
       "    </tr>\n",
       "    <tr>\n",
       "      <td>51523</td>\n",
       "      <td>7455</td>\n",
       "      <td>2013.0</td>\n",
       "      <td>toyota corolla</td>\n",
       "      <td>good</td>\n",
       "      <td>4.0</td>\n",
       "      <td>gas</td>\n",
       "      <td>139573.0</td>\n",
       "      <td>automatic</td>\n",
       "      <td>sedan</td>\n",
       "      <td>black</td>\n",
       "      <td>False</td>\n",
       "      <td>2018-07-02</td>\n",
       "      <td>71</td>\n",
       "    </tr>\n",
       "    <tr>\n",
       "      <td>51524</td>\n",
       "      <td>6300</td>\n",
       "      <td>2014.0</td>\n",
       "      <td>nissan altima</td>\n",
       "      <td>good</td>\n",
       "      <td>4.0</td>\n",
       "      <td>gas</td>\n",
       "      <td>NaN</td>\n",
       "      <td>automatic</td>\n",
       "      <td>sedan</td>\n",
       "      <td>NaN</td>\n",
       "      <td>False</td>\n",
       "      <td>2018-06-05</td>\n",
       "      <td>10</td>\n",
       "    </tr>\n",
       "  </tbody>\n",
       "</table>\n",
       "<p>51525 rows × 13 columns</p>\n",
       "</div>"
      ],
      "text/plain": [
       "       price  model_year           model  condition  cylinders fuel  odometer  \\\n",
       "0       9400      2011.0          bmw x5       good        6.0  gas  145000.0   \n",
       "1      25500         NaN      ford f-150       good        6.0  gas   88705.0   \n",
       "2       5500      2013.0  hyundai sonata   like new        4.0  gas  110000.0   \n",
       "3       1500      2003.0      ford f-150       fair        8.0  gas       NaN   \n",
       "4      14900      2017.0    chrysler 200  excellent        4.0  gas   80903.0   \n",
       "...      ...         ...             ...        ...        ...  ...       ...   \n",
       "51520   9249      2013.0   nissan maxima   like new        6.0  gas   88136.0   \n",
       "51521   2700      2002.0     honda civic    salvage        4.0  gas  181500.0   \n",
       "51522   3950      2009.0  hyundai sonata  excellent        4.0  gas  128000.0   \n",
       "51523   7455      2013.0  toyota corolla       good        4.0  gas  139573.0   \n",
       "51524   6300      2014.0   nissan altima       good        4.0  gas       NaN   \n",
       "\n",
       "      transmission    type paint_color  is_4wd date_posted  days_listed  \n",
       "0        automatic     SUV         NaN    True  2018-06-23           19  \n",
       "1        automatic  pickup       white    True  2018-10-19           50  \n",
       "2        automatic   sedan         red   False  2019-02-07           79  \n",
       "3        automatic  pickup         NaN   False  2019-03-22            9  \n",
       "4        automatic   sedan       black   False  2019-04-02           28  \n",
       "...            ...     ...         ...     ...         ...          ...  \n",
       "51520    automatic   sedan       black   False  2018-10-03           37  \n",
       "51521    automatic   sedan       white   False  2018-11-14           22  \n",
       "51522    automatic   sedan        blue   False  2018-11-15           32  \n",
       "51523    automatic   sedan       black   False  2018-07-02           71  \n",
       "51524    automatic   sedan         NaN   False  2018-06-05           10  \n",
       "\n",
       "[51525 rows x 13 columns]"
      ]
     },
     "execution_count": 3,
     "metadata": {},
     "output_type": "execute_result"
    }
   ],
   "source": [
    "df['is_4wd'] = df['is_4wd'].replace(1.0, True)\n",
    "df['is_4wd'] = df['is_4wd'].fillna(False)\n",
    "\n",
    "df['date_posted'] = pd.to_datetime(df['date_posted'])\n",
    "df.drop_duplicates()\n",
    "df"
   ]
  },
  {
   "cell_type": "markdown",
   "metadata": {},
   "source": [
    "I replaced the values in is_4wd with True and False and it seemed to be most likely the case the \"1.0\" and \"Nan\" values were simply a true and false category. Typically 1 is True and 0 is False and the question of whether it's a 4 wheel drive or not being boolean, so I presumed the same and assumed 1.0 was meant to represent True. If it's then the case that 1.0 is true, it would naturally follow the other variables that aren't 1.0 are false,  which in this case were NaN.\n",
    "\n",
    "I also converted date_posted to datetime to make the next columns easier to make.\n",
    "\n",
    "For model year, odometer, and paint color there are missing values but too little information to fill them in with anything, or to determine why they're missing in the first place. There doesn't appear to be any correlation between NaN and other values."
   ]
  },
  {
   "cell_type": "code",
   "execution_count": 4,
   "metadata": {},
   "outputs": [],
   "source": [
    "## Fixing data column types\n",
    "df['model_year'] = df['model_year'].astype(pd.Int64Dtype())\n",
    "df['cylinders'] = df['cylinders'].astype(pd.Int64Dtype())\n",
    "df['odometer'] = df['odometer'].astype(pd.Int64Dtype())\n",
    "\n",
    "#### I move the following from the next sction to here:\n",
    "\n",
    "## Replacing condition column with numeric values\n",
    "def corrected_condition(row):\n",
    "    if row['condition'] == 'like new':\n",
    "        return 4\n",
    "    if row['condition'] == 'new':\n",
    "        return 5\n",
    "    if row['condition'] == 'excellent':\n",
    "        return 3\n",
    "    if row['condition'] == 'good':\n",
    "        return 2\n",
    "    if row['condition'] == 'fair':\n",
    "        return 1\n",
    "    if row['condition'] == 'salvage':\n",
    "        return 0\n",
    "    \n",
    "df['condition'] = df.apply(lambda row: corrected_condition(row), axis=1)"
   ]
  },
  {
   "cell_type": "code",
   "execution_count": 5,
   "metadata": {},
   "outputs": [
    {
     "data": {
      "text/html": [
       "<div>\n",
       "<style scoped>\n",
       "    .dataframe tbody tr th:only-of-type {\n",
       "        vertical-align: middle;\n",
       "    }\n",
       "\n",
       "    .dataframe tbody tr th {\n",
       "        vertical-align: top;\n",
       "    }\n",
       "\n",
       "    .dataframe thead th {\n",
       "        text-align: right;\n",
       "    }\n",
       "</style>\n",
       "<table border=\"1\" class=\"dataframe\">\n",
       "  <thead>\n",
       "    <tr style=\"text-align: right;\">\n",
       "      <th></th>\n",
       "      <th>price</th>\n",
       "      <th>model_year</th>\n",
       "      <th>model</th>\n",
       "      <th>condition</th>\n",
       "      <th>cylinders</th>\n",
       "      <th>fuel</th>\n",
       "      <th>odometer</th>\n",
       "      <th>transmission</th>\n",
       "      <th>type</th>\n",
       "      <th>paint_color</th>\n",
       "      <th>is_4wd</th>\n",
       "      <th>date_posted</th>\n",
       "      <th>days_listed</th>\n",
       "    </tr>\n",
       "  </thead>\n",
       "  <tbody>\n",
       "    <tr>\n",
       "      <td>0</td>\n",
       "      <td>9400</td>\n",
       "      <td>2011</td>\n",
       "      <td>bmw x5</td>\n",
       "      <td>2</td>\n",
       "      <td>6</td>\n",
       "      <td>gas</td>\n",
       "      <td>145000</td>\n",
       "      <td>automatic</td>\n",
       "      <td>SUV</td>\n",
       "      <td>NaN</td>\n",
       "      <td>True</td>\n",
       "      <td>2018-06-23</td>\n",
       "      <td>19</td>\n",
       "    </tr>\n",
       "    <tr>\n",
       "      <td>1</td>\n",
       "      <td>25500</td>\n",
       "      <td>NaN</td>\n",
       "      <td>ford f-150</td>\n",
       "      <td>2</td>\n",
       "      <td>6</td>\n",
       "      <td>gas</td>\n",
       "      <td>88705</td>\n",
       "      <td>automatic</td>\n",
       "      <td>pickup</td>\n",
       "      <td>white</td>\n",
       "      <td>True</td>\n",
       "      <td>2018-10-19</td>\n",
       "      <td>50</td>\n",
       "    </tr>\n",
       "    <tr>\n",
       "      <td>2</td>\n",
       "      <td>5500</td>\n",
       "      <td>2013</td>\n",
       "      <td>hyundai sonata</td>\n",
       "      <td>4</td>\n",
       "      <td>4</td>\n",
       "      <td>gas</td>\n",
       "      <td>110000</td>\n",
       "      <td>automatic</td>\n",
       "      <td>sedan</td>\n",
       "      <td>red</td>\n",
       "      <td>False</td>\n",
       "      <td>2019-02-07</td>\n",
       "      <td>79</td>\n",
       "    </tr>\n",
       "    <tr>\n",
       "      <td>3</td>\n",
       "      <td>1500</td>\n",
       "      <td>2003</td>\n",
       "      <td>ford f-150</td>\n",
       "      <td>1</td>\n",
       "      <td>8</td>\n",
       "      <td>gas</td>\n",
       "      <td>NaN</td>\n",
       "      <td>automatic</td>\n",
       "      <td>pickup</td>\n",
       "      <td>NaN</td>\n",
       "      <td>False</td>\n",
       "      <td>2019-03-22</td>\n",
       "      <td>9</td>\n",
       "    </tr>\n",
       "    <tr>\n",
       "      <td>4</td>\n",
       "      <td>14900</td>\n",
       "      <td>2017</td>\n",
       "      <td>chrysler 200</td>\n",
       "      <td>3</td>\n",
       "      <td>4</td>\n",
       "      <td>gas</td>\n",
       "      <td>80903</td>\n",
       "      <td>automatic</td>\n",
       "      <td>sedan</td>\n",
       "      <td>black</td>\n",
       "      <td>False</td>\n",
       "      <td>2019-04-02</td>\n",
       "      <td>28</td>\n",
       "    </tr>\n",
       "    <tr>\n",
       "      <td>...</td>\n",
       "      <td>...</td>\n",
       "      <td>...</td>\n",
       "      <td>...</td>\n",
       "      <td>...</td>\n",
       "      <td>...</td>\n",
       "      <td>...</td>\n",
       "      <td>...</td>\n",
       "      <td>...</td>\n",
       "      <td>...</td>\n",
       "      <td>...</td>\n",
       "      <td>...</td>\n",
       "      <td>...</td>\n",
       "      <td>...</td>\n",
       "    </tr>\n",
       "    <tr>\n",
       "      <td>51520</td>\n",
       "      <td>9249</td>\n",
       "      <td>2013</td>\n",
       "      <td>nissan maxima</td>\n",
       "      <td>4</td>\n",
       "      <td>6</td>\n",
       "      <td>gas</td>\n",
       "      <td>88136</td>\n",
       "      <td>automatic</td>\n",
       "      <td>sedan</td>\n",
       "      <td>black</td>\n",
       "      <td>False</td>\n",
       "      <td>2018-10-03</td>\n",
       "      <td>37</td>\n",
       "    </tr>\n",
       "    <tr>\n",
       "      <td>51521</td>\n",
       "      <td>2700</td>\n",
       "      <td>2002</td>\n",
       "      <td>honda civic</td>\n",
       "      <td>0</td>\n",
       "      <td>4</td>\n",
       "      <td>gas</td>\n",
       "      <td>181500</td>\n",
       "      <td>automatic</td>\n",
       "      <td>sedan</td>\n",
       "      <td>white</td>\n",
       "      <td>False</td>\n",
       "      <td>2018-11-14</td>\n",
       "      <td>22</td>\n",
       "    </tr>\n",
       "    <tr>\n",
       "      <td>51522</td>\n",
       "      <td>3950</td>\n",
       "      <td>2009</td>\n",
       "      <td>hyundai sonata</td>\n",
       "      <td>3</td>\n",
       "      <td>4</td>\n",
       "      <td>gas</td>\n",
       "      <td>128000</td>\n",
       "      <td>automatic</td>\n",
       "      <td>sedan</td>\n",
       "      <td>blue</td>\n",
       "      <td>False</td>\n",
       "      <td>2018-11-15</td>\n",
       "      <td>32</td>\n",
       "    </tr>\n",
       "    <tr>\n",
       "      <td>51523</td>\n",
       "      <td>7455</td>\n",
       "      <td>2013</td>\n",
       "      <td>toyota corolla</td>\n",
       "      <td>2</td>\n",
       "      <td>4</td>\n",
       "      <td>gas</td>\n",
       "      <td>139573</td>\n",
       "      <td>automatic</td>\n",
       "      <td>sedan</td>\n",
       "      <td>black</td>\n",
       "      <td>False</td>\n",
       "      <td>2018-07-02</td>\n",
       "      <td>71</td>\n",
       "    </tr>\n",
       "    <tr>\n",
       "      <td>51524</td>\n",
       "      <td>6300</td>\n",
       "      <td>2014</td>\n",
       "      <td>nissan altima</td>\n",
       "      <td>2</td>\n",
       "      <td>4</td>\n",
       "      <td>gas</td>\n",
       "      <td>NaN</td>\n",
       "      <td>automatic</td>\n",
       "      <td>sedan</td>\n",
       "      <td>NaN</td>\n",
       "      <td>False</td>\n",
       "      <td>2018-06-05</td>\n",
       "      <td>10</td>\n",
       "    </tr>\n",
       "  </tbody>\n",
       "</table>\n",
       "<p>51525 rows × 13 columns</p>\n",
       "</div>"
      ],
      "text/plain": [
       "       price  model_year           model  condition  cylinders fuel  odometer  \\\n",
       "0       9400        2011          bmw x5          2          6  gas    145000   \n",
       "1      25500         NaN      ford f-150          2          6  gas     88705   \n",
       "2       5500        2013  hyundai sonata          4          4  gas    110000   \n",
       "3       1500        2003      ford f-150          1          8  gas       NaN   \n",
       "4      14900        2017    chrysler 200          3          4  gas     80903   \n",
       "...      ...         ...             ...        ...        ...  ...       ...   \n",
       "51520   9249        2013   nissan maxima          4          6  gas     88136   \n",
       "51521   2700        2002     honda civic          0          4  gas    181500   \n",
       "51522   3950        2009  hyundai sonata          3          4  gas    128000   \n",
       "51523   7455        2013  toyota corolla          2          4  gas    139573   \n",
       "51524   6300        2014   nissan altima          2          4  gas       NaN   \n",
       "\n",
       "      transmission    type paint_color  is_4wd date_posted  days_listed  \n",
       "0        automatic     SUV         NaN    True  2018-06-23           19  \n",
       "1        automatic  pickup       white    True  2018-10-19           50  \n",
       "2        automatic   sedan         red   False  2019-02-07           79  \n",
       "3        automatic  pickup         NaN   False  2019-03-22            9  \n",
       "4        automatic   sedan       black   False  2019-04-02           28  \n",
       "...            ...     ...         ...     ...         ...          ...  \n",
       "51520    automatic   sedan       black   False  2018-10-03           37  \n",
       "51521    automatic   sedan       white   False  2018-11-14           22  \n",
       "51522    automatic   sedan        blue   False  2018-11-15           32  \n",
       "51523    automatic   sedan       black   False  2018-07-02           71  \n",
       "51524    automatic   sedan         NaN   False  2018-06-05           10  \n",
       "\n",
       "[51525 rows x 13 columns]"
      ]
     },
     "execution_count": 5,
     "metadata": {},
     "output_type": "execute_result"
    }
   ],
   "source": [
    "df"
   ]
  },
  {
   "cell_type": "markdown",
   "metadata": {},
   "source": [
    "## Make calculations and add them to the table"
   ]
  },
  {
   "cell_type": "code",
   "execution_count": 6,
   "metadata": {},
   "outputs": [
    {
     "data": {
      "text/html": [
       "<div>\n",
       "<style scoped>\n",
       "    .dataframe tbody tr th:only-of-type {\n",
       "        vertical-align: middle;\n",
       "    }\n",
       "\n",
       "    .dataframe tbody tr th {\n",
       "        vertical-align: top;\n",
       "    }\n",
       "\n",
       "    .dataframe thead th {\n",
       "        text-align: right;\n",
       "    }\n",
       "</style>\n",
       "<table border=\"1\" class=\"dataframe\">\n",
       "  <thead>\n",
       "    <tr style=\"text-align: right;\">\n",
       "      <th></th>\n",
       "      <th>price</th>\n",
       "      <th>model_year</th>\n",
       "      <th>model</th>\n",
       "      <th>condition</th>\n",
       "      <th>cylinders</th>\n",
       "      <th>fuel</th>\n",
       "      <th>odometer</th>\n",
       "      <th>transmission</th>\n",
       "      <th>type</th>\n",
       "      <th>paint_color</th>\n",
       "      <th>is_4wd</th>\n",
       "      <th>date_posted</th>\n",
       "      <th>days_listed</th>\n",
       "      <th>vehicle_age</th>\n",
       "      <th>date_posted_day</th>\n",
       "      <th>date_posted_month</th>\n",
       "      <th>date_posted_year</th>\n",
       "      <th>mileage_per_year</th>\n",
       "    </tr>\n",
       "  </thead>\n",
       "  <tbody>\n",
       "    <tr>\n",
       "      <td>0</td>\n",
       "      <td>9400</td>\n",
       "      <td>2011</td>\n",
       "      <td>bmw x5</td>\n",
       "      <td>2</td>\n",
       "      <td>6</td>\n",
       "      <td>gas</td>\n",
       "      <td>145000</td>\n",
       "      <td>automatic</td>\n",
       "      <td>SUV</td>\n",
       "      <td>NaN</td>\n",
       "      <td>True</td>\n",
       "      <td>2018-06-23</td>\n",
       "      <td>19</td>\n",
       "      <td>7</td>\n",
       "      <td>Saturday</td>\n",
       "      <td>June</td>\n",
       "      <td>2018</td>\n",
       "      <td>20714.285714</td>\n",
       "    </tr>\n",
       "    <tr>\n",
       "      <td>1</td>\n",
       "      <td>25500</td>\n",
       "      <td>NaN</td>\n",
       "      <td>ford f-150</td>\n",
       "      <td>2</td>\n",
       "      <td>6</td>\n",
       "      <td>gas</td>\n",
       "      <td>88705</td>\n",
       "      <td>automatic</td>\n",
       "      <td>pickup</td>\n",
       "      <td>white</td>\n",
       "      <td>True</td>\n",
       "      <td>2018-10-19</td>\n",
       "      <td>50</td>\n",
       "      <td>NaN</td>\n",
       "      <td>Friday</td>\n",
       "      <td>October</td>\n",
       "      <td>2018</td>\n",
       "      <td>NaN</td>\n",
       "    </tr>\n",
       "    <tr>\n",
       "      <td>2</td>\n",
       "      <td>5500</td>\n",
       "      <td>2013</td>\n",
       "      <td>hyundai sonata</td>\n",
       "      <td>4</td>\n",
       "      <td>4</td>\n",
       "      <td>gas</td>\n",
       "      <td>110000</td>\n",
       "      <td>automatic</td>\n",
       "      <td>sedan</td>\n",
       "      <td>red</td>\n",
       "      <td>False</td>\n",
       "      <td>2019-02-07</td>\n",
       "      <td>79</td>\n",
       "      <td>6</td>\n",
       "      <td>Thursday</td>\n",
       "      <td>February</td>\n",
       "      <td>2019</td>\n",
       "      <td>18333.333333</td>\n",
       "    </tr>\n",
       "    <tr>\n",
       "      <td>3</td>\n",
       "      <td>1500</td>\n",
       "      <td>2003</td>\n",
       "      <td>ford f-150</td>\n",
       "      <td>1</td>\n",
       "      <td>8</td>\n",
       "      <td>gas</td>\n",
       "      <td>NaN</td>\n",
       "      <td>automatic</td>\n",
       "      <td>pickup</td>\n",
       "      <td>NaN</td>\n",
       "      <td>False</td>\n",
       "      <td>2019-03-22</td>\n",
       "      <td>9</td>\n",
       "      <td>16</td>\n",
       "      <td>Friday</td>\n",
       "      <td>March</td>\n",
       "      <td>2019</td>\n",
       "      <td>NaN</td>\n",
       "    </tr>\n",
       "    <tr>\n",
       "      <td>4</td>\n",
       "      <td>14900</td>\n",
       "      <td>2017</td>\n",
       "      <td>chrysler 200</td>\n",
       "      <td>3</td>\n",
       "      <td>4</td>\n",
       "      <td>gas</td>\n",
       "      <td>80903</td>\n",
       "      <td>automatic</td>\n",
       "      <td>sedan</td>\n",
       "      <td>black</td>\n",
       "      <td>False</td>\n",
       "      <td>2019-04-02</td>\n",
       "      <td>28</td>\n",
       "      <td>2</td>\n",
       "      <td>Tuesday</td>\n",
       "      <td>April</td>\n",
       "      <td>2019</td>\n",
       "      <td>40451.500000</td>\n",
       "    </tr>\n",
       "    <tr>\n",
       "      <td>...</td>\n",
       "      <td>...</td>\n",
       "      <td>...</td>\n",
       "      <td>...</td>\n",
       "      <td>...</td>\n",
       "      <td>...</td>\n",
       "      <td>...</td>\n",
       "      <td>...</td>\n",
       "      <td>...</td>\n",
       "      <td>...</td>\n",
       "      <td>...</td>\n",
       "      <td>...</td>\n",
       "      <td>...</td>\n",
       "      <td>...</td>\n",
       "      <td>...</td>\n",
       "      <td>...</td>\n",
       "      <td>...</td>\n",
       "      <td>...</td>\n",
       "      <td>...</td>\n",
       "    </tr>\n",
       "    <tr>\n",
       "      <td>51520</td>\n",
       "      <td>9249</td>\n",
       "      <td>2013</td>\n",
       "      <td>nissan maxima</td>\n",
       "      <td>4</td>\n",
       "      <td>6</td>\n",
       "      <td>gas</td>\n",
       "      <td>88136</td>\n",
       "      <td>automatic</td>\n",
       "      <td>sedan</td>\n",
       "      <td>black</td>\n",
       "      <td>False</td>\n",
       "      <td>2018-10-03</td>\n",
       "      <td>37</td>\n",
       "      <td>5</td>\n",
       "      <td>Wednesday</td>\n",
       "      <td>October</td>\n",
       "      <td>2018</td>\n",
       "      <td>17627.200000</td>\n",
       "    </tr>\n",
       "    <tr>\n",
       "      <td>51521</td>\n",
       "      <td>2700</td>\n",
       "      <td>2002</td>\n",
       "      <td>honda civic</td>\n",
       "      <td>0</td>\n",
       "      <td>4</td>\n",
       "      <td>gas</td>\n",
       "      <td>181500</td>\n",
       "      <td>automatic</td>\n",
       "      <td>sedan</td>\n",
       "      <td>white</td>\n",
       "      <td>False</td>\n",
       "      <td>2018-11-14</td>\n",
       "      <td>22</td>\n",
       "      <td>16</td>\n",
       "      <td>Wednesday</td>\n",
       "      <td>November</td>\n",
       "      <td>2018</td>\n",
       "      <td>11343.750000</td>\n",
       "    </tr>\n",
       "    <tr>\n",
       "      <td>51522</td>\n",
       "      <td>3950</td>\n",
       "      <td>2009</td>\n",
       "      <td>hyundai sonata</td>\n",
       "      <td>3</td>\n",
       "      <td>4</td>\n",
       "      <td>gas</td>\n",
       "      <td>128000</td>\n",
       "      <td>automatic</td>\n",
       "      <td>sedan</td>\n",
       "      <td>blue</td>\n",
       "      <td>False</td>\n",
       "      <td>2018-11-15</td>\n",
       "      <td>32</td>\n",
       "      <td>9</td>\n",
       "      <td>Thursday</td>\n",
       "      <td>November</td>\n",
       "      <td>2018</td>\n",
       "      <td>14222.222222</td>\n",
       "    </tr>\n",
       "    <tr>\n",
       "      <td>51523</td>\n",
       "      <td>7455</td>\n",
       "      <td>2013</td>\n",
       "      <td>toyota corolla</td>\n",
       "      <td>2</td>\n",
       "      <td>4</td>\n",
       "      <td>gas</td>\n",
       "      <td>139573</td>\n",
       "      <td>automatic</td>\n",
       "      <td>sedan</td>\n",
       "      <td>black</td>\n",
       "      <td>False</td>\n",
       "      <td>2018-07-02</td>\n",
       "      <td>71</td>\n",
       "      <td>5</td>\n",
       "      <td>Monday</td>\n",
       "      <td>July</td>\n",
       "      <td>2018</td>\n",
       "      <td>27914.600000</td>\n",
       "    </tr>\n",
       "    <tr>\n",
       "      <td>51524</td>\n",
       "      <td>6300</td>\n",
       "      <td>2014</td>\n",
       "      <td>nissan altima</td>\n",
       "      <td>2</td>\n",
       "      <td>4</td>\n",
       "      <td>gas</td>\n",
       "      <td>NaN</td>\n",
       "      <td>automatic</td>\n",
       "      <td>sedan</td>\n",
       "      <td>NaN</td>\n",
       "      <td>False</td>\n",
       "      <td>2018-06-05</td>\n",
       "      <td>10</td>\n",
       "      <td>4</td>\n",
       "      <td>Tuesday</td>\n",
       "      <td>June</td>\n",
       "      <td>2018</td>\n",
       "      <td>NaN</td>\n",
       "    </tr>\n",
       "  </tbody>\n",
       "</table>\n",
       "<p>51525 rows × 18 columns</p>\n",
       "</div>"
      ],
      "text/plain": [
       "       price  model_year           model  condition  cylinders fuel  odometer  \\\n",
       "0       9400        2011          bmw x5          2          6  gas    145000   \n",
       "1      25500         NaN      ford f-150          2          6  gas     88705   \n",
       "2       5500        2013  hyundai sonata          4          4  gas    110000   \n",
       "3       1500        2003      ford f-150          1          8  gas       NaN   \n",
       "4      14900        2017    chrysler 200          3          4  gas     80903   \n",
       "...      ...         ...             ...        ...        ...  ...       ...   \n",
       "51520   9249        2013   nissan maxima          4          6  gas     88136   \n",
       "51521   2700        2002     honda civic          0          4  gas    181500   \n",
       "51522   3950        2009  hyundai sonata          3          4  gas    128000   \n",
       "51523   7455        2013  toyota corolla          2          4  gas    139573   \n",
       "51524   6300        2014   nissan altima          2          4  gas       NaN   \n",
       "\n",
       "      transmission    type paint_color  is_4wd date_posted  days_listed  \\\n",
       "0        automatic     SUV         NaN    True  2018-06-23           19   \n",
       "1        automatic  pickup       white    True  2018-10-19           50   \n",
       "2        automatic   sedan         red   False  2019-02-07           79   \n",
       "3        automatic  pickup         NaN   False  2019-03-22            9   \n",
       "4        automatic   sedan       black   False  2019-04-02           28   \n",
       "...            ...     ...         ...     ...         ...          ...   \n",
       "51520    automatic   sedan       black   False  2018-10-03           37   \n",
       "51521    automatic   sedan       white   False  2018-11-14           22   \n",
       "51522    automatic   sedan        blue   False  2018-11-15           32   \n",
       "51523    automatic   sedan       black   False  2018-07-02           71   \n",
       "51524    automatic   sedan         NaN   False  2018-06-05           10   \n",
       "\n",
       "       vehicle_age date_posted_day date_posted_month  date_posted_year  \\\n",
       "0                7        Saturday              June              2018   \n",
       "1              NaN          Friday           October              2018   \n",
       "2                6        Thursday          February              2019   \n",
       "3               16          Friday             March              2019   \n",
       "4                2         Tuesday             April              2019   \n",
       "...            ...             ...               ...               ...   \n",
       "51520            5       Wednesday           October              2018   \n",
       "51521           16       Wednesday          November              2018   \n",
       "51522            9        Thursday          November              2018   \n",
       "51523            5          Monday              July              2018   \n",
       "51524            4         Tuesday              June              2018   \n",
       "\n",
       "       mileage_per_year  \n",
       "0          20714.285714  \n",
       "1                   NaN  \n",
       "2          18333.333333  \n",
       "3                   NaN  \n",
       "4          40451.500000  \n",
       "...                 ...  \n",
       "51520      17627.200000  \n",
       "51521      11343.750000  \n",
       "51522      14222.222222  \n",
       "51523      27914.600000  \n",
       "51524               NaN  \n",
       "\n",
       "[51525 rows x 18 columns]"
      ]
     },
     "execution_count": 6,
     "metadata": {},
     "output_type": "execute_result"
    }
   ],
   "source": [
    "## This creates a column for how many years old the vehicle is\n",
    "df['vehicle_age'] = df['date_posted'].dt.year - df['model_year']\n",
    "\n",
    "## Creating the columns for the day of the week, month, and year\n",
    "df['date_posted_day'] = df['date_posted'].dt.day_name()\n",
    "df['date_posted_month'] = df['date_posted'].dt.month_name()\n",
    "df['date_posted_year'] = df['date_posted'].dt.year\n",
    "\n",
    "## Column for average mileage per year\n",
    "df['mileage_per_year'] = df['odometer'] / df['vehicle_age']\n",
    "\n",
    "df"
   ]
  },
  {
   "cell_type": "markdown",
   "metadata": {},
   "source": [
    "I added each column using the other preexisting columns and calculated it's general age using model year - the year the ad was published."
   ]
  },
  {
   "cell_type": "markdown",
   "metadata": {},
   "source": [
    "## Carry out exploratory data analysis"
   ]
  },
  {
   "cell_type": "code",
   "execution_count": 7,
   "metadata": {},
   "outputs": [
    {
     "data": {
      "image/png": "[encoded data removed]",
      "text/plain": [
       "<Figure size 1080x720 with 6 Axes>"
      ]
     },
     "metadata": {
      "needs_background": "light"
     },
     "output_type": "display_data"
    }
   ],
   "source": [
    "fig, ax = plt.subplots(nrows=3, ncols=2, figsize=(15, 10))\n",
    "\n",
    "ax[0, 0].hist(df['price']);\n",
    "ax[0, 0].set_xlabel('Price in USD', fontsize=15);\n",
    "ax[0, 0].set_ylabel('Number of Listings', fontsize=15);\n",
    "ax[0, 0].set_title('Price', fontsize=15);\n",
    "\n",
    "ax[0, 1].hist(df['vehicle_age']);\n",
    "ax[0, 1].set_xlabel(\"Vehicle's Age\", fontsize=15);\n",
    "ax[0, 1].set_ylabel('Number of Listings', fontsize=15);\n",
    "ax[0, 1].set_title('Age', fontsize=15);\n",
    "\n",
    "ax[1, 0].hist(df['odometer']);\n",
    "ax[1, 0].set_xlabel('Miles', fontsize=15);\n",
    "ax[1, 0].set_ylabel('Number of Listings', fontsize=15);\n",
    "ax[1, 0].set_title('Odometer', fontsize=15);\n",
    "\n",
    "ax[1, 1].hist(df['cylinders']);\n",
    "ax[1, 1].set_xlabel('Amount of Cylinders', fontsize=15);\n",
    "ax[1, 1].set_ylabel('Number of Listings', fontsize=15);\n",
    "ax[1, 1].set_title('Cylinders', fontsize=15);\n",
    "\n",
    "ax[2, 1].hist(df['condition']);\n",
    "ax[2, 1].set_xlabel('Condition of Vehicles, from best to worst', fontsize=15);\n",
    "ax[2, 1].set_ylabel('Number of Listings', fontsize=15);\n",
    "ax[2, 1].set_title('Condition', fontsize=15);\n",
    "plt.tight_layout()"
   ]
  },
  {
   "cell_type": "markdown",
   "metadata": {},
   "source": [
    "The Price chart seems to have a/multiple significant outliers, drawing the price to about 400k on the far end. The number of listings also decreases rapidly at 50k according to the chart. The same applies to the Odometer, which one number supposedly reaching a million miles on the odometer. The Age chart suffers from the same type of outliers, all squishing the data onto the left side. Cylinders and Conditions appear to have a few outliers that create a new x value for the right side with almost no bar."
   ]
  },
  {
   "cell_type": "code",
   "execution_count": 8,
   "metadata": {},
   "outputs": [
    {
     "data": {
      "image/png": "[encoded data removed]",
      "text/plain": [
       "<Figure size 1080x2880 with 6 Axes>"
      ]
     },
     "metadata": {
      "needs_background": "light"
     },
     "output_type": "display_data"
    }
   ],
   "source": [
    "x, y = plt.subplots(nrows=3, ncols=2, figsize=(15, 40))\n",
    "\n",
    "y[0, 0].boxplot(df['price']);\n",
    "y[0, 0].set_xlabel('Price in USD', fontsize=15);\n",
    "y[0, 0].set_ylabel('Number of Listings', fontsize=15);\n",
    "y[0, 0].set_title('Price', fontsize=15);\n",
    "\n",
    "y[0, 1].boxplot(df['vehicle_age']);\n",
    "y[0, 1].set_xlabel(\"Vehicle's Age\", fontsize=15);\n",
    "y[0, 1].set_ylabel('Number of Listings', fontsize=15);\n",
    "y[0, 1].set_title('Age', fontsize=15);\n",
    "\n",
    "y[1, 0].boxplot(df['odometer']);\n",
    "y[1, 0].set_xlabel('Miles', fontsize=15);\n",
    "y[1, 0].set_ylabel('Number of Listings', fontsize=15);\n",
    "y[1, 0].set_title('Odometer', fontsize=15);\n",
    "\n",
    "y[1, 1].boxplot(df['cylinders']);\n",
    "y[1, 1].set_xlabel('Amount of Cylinders', fontsize=15);\n",
    "y[1, 1].set_ylabel('Number of Listings', fontsize=15);\n",
    "y[1, 1].set_title('Cylinders', fontsize=15);\n",
    "\n",
    "y[2, 1].boxplot(df['condition']);\n",
    "y[2, 1].set_xlabel('Condition of Vehicles, from best to worst', fontsize=15);\n",
    "y[2, 1].set_ylabel('Number of Listings', fontsize=15);\n",
    "y[2, 1].set_title('Condition', fontsize=15);\n",
    "\n",
    "plt.tight_layout()"
   ]
  },
  {
   "cell_type": "markdown",
   "metadata": {},
   "source": [
    "The boxplots clearly show the outliers out of the normal range, each category having their own rare values far outside of the normal."
   ]
  },
  {
   "cell_type": "code",
   "execution_count": 9,
   "metadata": {},
   "outputs": [],
   "source": [
    "filtered_df = df\n",
    "\n",
    "filtered_df['price'] = filtered_df['price'].loc[(filtered_df['price'] < filtered_df['price'].quantile(0.99))]\n",
    "filtered_df['vehicle_age'] = filtered_df['vehicle_age'].loc[(filtered_df['vehicle_age'] < filtered_df['vehicle_age'].quantile(0.99))]\n",
    "filtered_df['odometer'] = filtered_df['odometer'].loc[(filtered_df['odometer'] < filtered_df['odometer'].quantile(0.99))]\n",
    "filtered_df['cylinders'] = filtered_df['cylinders'].loc[(filtered_df['cylinders'] < 12) & (3 < filtered_df['cylinders'])]\n",
    "filtered_df['condition'] = filtered_df['condition'].loc[(filtered_df['condition'] < 5) & (0 < filtered_df['condition'])]"
   ]
  },
  {
   "cell_type": "code",
   "execution_count": 10,
   "metadata": {},
   "outputs": [
    {
     "data": {
      "image/png": "[encoded data removed]",
      "text/plain": [
       "<Figure size 1080x720 with 6 Axes>"
      ]
     },
     "metadata": {
      "needs_background": "light"
     },
     "output_type": "display_data"
    }
   ],
   "source": [
    "c, z = plt.subplots(nrows=3, ncols=2, figsize=(15, 10))\n",
    "\n",
    "z[0, 0].hist(filtered_df['price']);\n",
    "z[0, 0].set_xlabel('Price in USD', fontsize=15);\n",
    "z[0, 0].set_ylabel('Number of Listings', fontsize=15);\n",
    "z[0, 0].set_title('Price', fontsize=15);\n",
    "\n",
    "z[0, 1].hist(filtered_df['vehicle_age']);\n",
    "z[0, 1].set_xlabel(\"Vehicle's Age\", fontsize=15);\n",
    "z[0, 1].set_ylabel('Number of Listings', fontsize=15);\n",
    "z[0, 1].set_title('Age', fontsize=15);\n",
    "\n",
    "z[1, 0].hist(filtered_df['odometer']);\n",
    "z[1, 0].set_xlabel('Miles', fontsize=15);\n",
    "z[1, 0].set_ylabel('Number of Listings', fontsize=15);\n",
    "z[1, 0].set_title('Odometer', fontsize=15);\n",
    "\n",
    "z[1, 1].hist(filtered_df['cylinders']);\n",
    "z[1, 1].set_xlabel('Amount of Cylinders', fontsize=15);\n",
    "z[1, 1].set_ylabel('Number of Listings', fontsize=15);\n",
    "z[1, 1].set_title('Cylinders', fontsize=15);\n",
    "\n",
    "z[2, 1].hist(filtered_df['condition']);\n",
    "z[2, 1].set_xlabel('Condition of Vehicles, from best to worst', fontsize=15);\n",
    "z[2, 1].set_ylabel('Number of Listings', fontsize=15);\n",
    "z[2, 1].set_title('Condition', fontsize=15);\n",
    "\n",
    "plt.tight_layout()"
   ]
  },
  {
   "cell_type": "markdown",
   "metadata": {},
   "source": [
    "I decided the best way to filter the data for outliers would be to simply cut off the values that are in the top 1%. This would easily cut off the outliers without sacrificing much data at all. For cylinders and condition I manually cut off the outliers as the values were much smaller and thus easier to do it to. After doing so, the data in the histograms is much more clear and it's range is much more clearly visible than with the outliers, and is more properly zoomed in.\n",
    "\n",
    "The condition of the cars tends to be around 2-3 which is expected of a used car, as with the odometer miles, resting around 100k-150k miles for the majority. Comparing the odometer to the price graph, those heavily used cars are often less than 10k, and more often 5k. The age of these vehicles has a spike around 3-7 years, which is a bit surprising considering the other graphs would make one think these are much more heavily used."
   ]
  },
  {
   "cell_type": "code",
   "execution_count": 11,
   "metadata": {},
   "outputs": [
    {
     "name": "stdout",
     "output_type": "stream",
     "text": [
      "The mean of days_listed is 39.55\n",
      "The median of days_listed is 33.0\n"
     ]
    },
    {
     "data": {
      "image/png": "[encoded data removed]",
      "text/plain": [
       "<Figure size 432x288 with 1 Axes>"
      ]
     },
     "metadata": {
      "needs_background": "light"
     },
     "output_type": "display_data"
    }
   ],
   "source": [
    "filtered_df['days_listed'].hist()\n",
    "\n",
    "print('The mean of days_listed is {:.4}'.format(df[\"days_listed\"].mean()))\n",
    "print('The median of days_listed is {:.4}'.format(df[\"days_listed\"].median()))"
   ]
  },
  {
   "cell_type": "markdown",
   "metadata": {},
   "source": [
    "The average listing is about a month long and then removed. There are some that are up for much longer, maybe double or triple the avergae, and these listings may have an unreasonable price comparatively, hence why they stay up for so long, or it could be that some car types are much quicker sells than others, like how buses would likely take much longer than an SUV. Since 3 months is a long time to try to sell a vehicle, it may be the case they're more often removed by the owner rather than sold. Some vehicles sell in much quicker time and is mostly likely the case that they were listed for a good price and bought quickly. Given that a significant portion of listings don't stay up for very long, it may be reasonable to infer that these cars are bought often around just a month, otherwise there would be a higher average days that listings stay listed."
   ]
  },
  {
   "cell_type": "code",
   "execution_count": 12,
   "metadata": {},
   "outputs": [
    {
     "name": "stdout",
     "output_type": "stream",
     "text": [
      "             price\n",
      "type              \n",
      "SUV          12306\n",
      "convertible    428\n",
      "coupe         2266\n",
      "hatchback     1047\n",
      "mini-van      1158\n",
      "offroad        210\n",
      "other          255\n",
      "pickup        6900\n",
      "sedan        12150\n",
      "truck        12091\n",
      "van            632\n",
      "wagon         1538\n"
     ]
    },
    {
     "data": {
      "text/plain": [
       "Text(0, 0.5, 'Listings')"
      ]
     },
     "execution_count": 12,
     "metadata": {},
     "output_type": "execute_result"
    },
    {
     "data": {
      "image/png": "[encoded data removed]",
      "text/plain": [
       "<Figure size 1800x1080 with 1 Axes>"
      ]
     },
     "metadata": {
      "needs_background": "light"
     },
     "output_type": "display_data"
    }
   ],
   "source": [
    "ads_pvt = df.pivot_table(index='type', values='price', aggfunc='count')\n",
    "\n",
    "# Bus has too few ads to be worth including\n",
    "ads_pvt = ads_pvt.drop('bus')\n",
    "\n",
    "print(ads_pvt)\n",
    "\n",
    "plt.figure(figsize=(25, 15))\n",
    "plt.plot(ads_pvt)\n",
    "plt.title('Number of Listings per Vehicle Type', size=25)\n",
    "plt.xlabel('Type', size=20)\n",
    "plt.ylabel('Listings', size=20)"
   ]
  },
  {
   "cell_type": "markdown",
   "metadata": {},
   "source": [
    "Looking at the chart and pivot table, SUV and Sedan are the most popularly listed vehicle types."
   ]
  },
  {
   "cell_type": "code",
   "execution_count": 13,
   "metadata": {},
   "outputs": [
    {
     "data": {
      "text/html": [
       "<div>\n",
       "<style scoped>\n",
       "    .dataframe tbody tr th:only-of-type {\n",
       "        vertical-align: middle;\n",
       "    }\n",
       "\n",
       "    .dataframe tbody tr th {\n",
       "        vertical-align: top;\n",
       "    }\n",
       "\n",
       "    .dataframe thead th {\n",
       "        text-align: right;\n",
       "    }\n",
       "</style>\n",
       "<table border=\"1\" class=\"dataframe\">\n",
       "  <thead>\n",
       "    <tr style=\"text-align: right;\">\n",
       "      <th></th>\n",
       "      <th>price</th>\n",
       "      <th>model_year</th>\n",
       "      <th>model</th>\n",
       "      <th>condition</th>\n",
       "      <th>cylinders</th>\n",
       "      <th>fuel</th>\n",
       "      <th>odometer</th>\n",
       "      <th>transmission</th>\n",
       "      <th>type</th>\n",
       "      <th>paint_color</th>\n",
       "      <th>is_4wd</th>\n",
       "      <th>date_posted</th>\n",
       "      <th>days_listed</th>\n",
       "      <th>vehicle_age</th>\n",
       "      <th>date_posted_day</th>\n",
       "      <th>date_posted_month</th>\n",
       "      <th>date_posted_year</th>\n",
       "      <th>mileage_per_year</th>\n",
       "    </tr>\n",
       "  </thead>\n",
       "  <tbody>\n",
       "    <tr>\n",
       "      <td>0</td>\n",
       "      <td>9400.0</td>\n",
       "      <td>2011</td>\n",
       "      <td>bmw x5</td>\n",
       "      <td>2.0</td>\n",
       "      <td>6</td>\n",
       "      <td>gas</td>\n",
       "      <td>145000</td>\n",
       "      <td>automatic</td>\n",
       "      <td>SUV</td>\n",
       "      <td>NaN</td>\n",
       "      <td>True</td>\n",
       "      <td>2018-06-23</td>\n",
       "      <td>19</td>\n",
       "      <td>7</td>\n",
       "      <td>Saturday</td>\n",
       "      <td>June</td>\n",
       "      <td>2018</td>\n",
       "      <td>20714.285714</td>\n",
       "    </tr>\n",
       "    <tr>\n",
       "      <td>1</td>\n",
       "      <td>25500.0</td>\n",
       "      <td>NaN</td>\n",
       "      <td>ford f-150</td>\n",
       "      <td>2.0</td>\n",
       "      <td>6</td>\n",
       "      <td>gas</td>\n",
       "      <td>88705</td>\n",
       "      <td>automatic</td>\n",
       "      <td>pickup</td>\n",
       "      <td>white</td>\n",
       "      <td>True</td>\n",
       "      <td>2018-10-19</td>\n",
       "      <td>50</td>\n",
       "      <td>NaN</td>\n",
       "      <td>Friday</td>\n",
       "      <td>October</td>\n",
       "      <td>2018</td>\n",
       "      <td>NaN</td>\n",
       "    </tr>\n",
       "    <tr>\n",
       "      <td>2</td>\n",
       "      <td>5500.0</td>\n",
       "      <td>2013</td>\n",
       "      <td>hyundai sonata</td>\n",
       "      <td>4.0</td>\n",
       "      <td>4</td>\n",
       "      <td>gas</td>\n",
       "      <td>110000</td>\n",
       "      <td>automatic</td>\n",
       "      <td>sedan</td>\n",
       "      <td>red</td>\n",
       "      <td>False</td>\n",
       "      <td>2019-02-07</td>\n",
       "      <td>79</td>\n",
       "      <td>6</td>\n",
       "      <td>Thursday</td>\n",
       "      <td>February</td>\n",
       "      <td>2019</td>\n",
       "      <td>18333.333333</td>\n",
       "    </tr>\n",
       "    <tr>\n",
       "      <td>3</td>\n",
       "      <td>1500.0</td>\n",
       "      <td>2003</td>\n",
       "      <td>ford f-150</td>\n",
       "      <td>1.0</td>\n",
       "      <td>8</td>\n",
       "      <td>gas</td>\n",
       "      <td>NaN</td>\n",
       "      <td>automatic</td>\n",
       "      <td>pickup</td>\n",
       "      <td>NaN</td>\n",
       "      <td>False</td>\n",
       "      <td>2019-03-22</td>\n",
       "      <td>9</td>\n",
       "      <td>16</td>\n",
       "      <td>Friday</td>\n",
       "      <td>March</td>\n",
       "      <td>2019</td>\n",
       "      <td>NaN</td>\n",
       "    </tr>\n",
       "    <tr>\n",
       "      <td>4</td>\n",
       "      <td>14900.0</td>\n",
       "      <td>2017</td>\n",
       "      <td>chrysler 200</td>\n",
       "      <td>3.0</td>\n",
       "      <td>4</td>\n",
       "      <td>gas</td>\n",
       "      <td>80903</td>\n",
       "      <td>automatic</td>\n",
       "      <td>sedan</td>\n",
       "      <td>black</td>\n",
       "      <td>False</td>\n",
       "      <td>2019-04-02</td>\n",
       "      <td>28</td>\n",
       "      <td>2</td>\n",
       "      <td>Tuesday</td>\n",
       "      <td>April</td>\n",
       "      <td>2019</td>\n",
       "      <td>40451.500000</td>\n",
       "    </tr>\n",
       "    <tr>\n",
       "      <td>...</td>\n",
       "      <td>...</td>\n",
       "      <td>...</td>\n",
       "      <td>...</td>\n",
       "      <td>...</td>\n",
       "      <td>...</td>\n",
       "      <td>...</td>\n",
       "      <td>...</td>\n",
       "      <td>...</td>\n",
       "      <td>...</td>\n",
       "      <td>...</td>\n",
       "      <td>...</td>\n",
       "      <td>...</td>\n",
       "      <td>...</td>\n",
       "      <td>...</td>\n",
       "      <td>...</td>\n",
       "      <td>...</td>\n",
       "      <td>...</td>\n",
       "      <td>...</td>\n",
       "    </tr>\n",
       "    <tr>\n",
       "      <td>51520</td>\n",
       "      <td>9249.0</td>\n",
       "      <td>2013</td>\n",
       "      <td>nissan maxima</td>\n",
       "      <td>4.0</td>\n",
       "      <td>6</td>\n",
       "      <td>gas</td>\n",
       "      <td>88136</td>\n",
       "      <td>automatic</td>\n",
       "      <td>sedan</td>\n",
       "      <td>black</td>\n",
       "      <td>False</td>\n",
       "      <td>2018-10-03</td>\n",
       "      <td>37</td>\n",
       "      <td>5</td>\n",
       "      <td>Wednesday</td>\n",
       "      <td>October</td>\n",
       "      <td>2018</td>\n",
       "      <td>17627.200000</td>\n",
       "    </tr>\n",
       "    <tr>\n",
       "      <td>51521</td>\n",
       "      <td>2700.0</td>\n",
       "      <td>2002</td>\n",
       "      <td>honda civic</td>\n",
       "      <td>NaN</td>\n",
       "      <td>4</td>\n",
       "      <td>gas</td>\n",
       "      <td>181500</td>\n",
       "      <td>automatic</td>\n",
       "      <td>sedan</td>\n",
       "      <td>white</td>\n",
       "      <td>False</td>\n",
       "      <td>2018-11-14</td>\n",
       "      <td>22</td>\n",
       "      <td>16</td>\n",
       "      <td>Wednesday</td>\n",
       "      <td>November</td>\n",
       "      <td>2018</td>\n",
       "      <td>11343.750000</td>\n",
       "    </tr>\n",
       "    <tr>\n",
       "      <td>51522</td>\n",
       "      <td>3950.0</td>\n",
       "      <td>2009</td>\n",
       "      <td>hyundai sonata</td>\n",
       "      <td>3.0</td>\n",
       "      <td>4</td>\n",
       "      <td>gas</td>\n",
       "      <td>128000</td>\n",
       "      <td>automatic</td>\n",
       "      <td>sedan</td>\n",
       "      <td>blue</td>\n",
       "      <td>False</td>\n",
       "      <td>2018-11-15</td>\n",
       "      <td>32</td>\n",
       "      <td>9</td>\n",
       "      <td>Thursday</td>\n",
       "      <td>November</td>\n",
       "      <td>2018</td>\n",
       "      <td>14222.222222</td>\n",
       "    </tr>\n",
       "    <tr>\n",
       "      <td>51523</td>\n",
       "      <td>7455.0</td>\n",
       "      <td>2013</td>\n",
       "      <td>toyota corolla</td>\n",
       "      <td>2.0</td>\n",
       "      <td>4</td>\n",
       "      <td>gas</td>\n",
       "      <td>139573</td>\n",
       "      <td>automatic</td>\n",
       "      <td>sedan</td>\n",
       "      <td>black</td>\n",
       "      <td>False</td>\n",
       "      <td>2018-07-02</td>\n",
       "      <td>71</td>\n",
       "      <td>5</td>\n",
       "      <td>Monday</td>\n",
       "      <td>July</td>\n",
       "      <td>2018</td>\n",
       "      <td>27914.600000</td>\n",
       "    </tr>\n",
       "    <tr>\n",
       "      <td>51524</td>\n",
       "      <td>6300.0</td>\n",
       "      <td>2014</td>\n",
       "      <td>nissan altima</td>\n",
       "      <td>2.0</td>\n",
       "      <td>4</td>\n",
       "      <td>gas</td>\n",
       "      <td>NaN</td>\n",
       "      <td>automatic</td>\n",
       "      <td>sedan</td>\n",
       "      <td>NaN</td>\n",
       "      <td>False</td>\n",
       "      <td>2018-06-05</td>\n",
       "      <td>10</td>\n",
       "      <td>4</td>\n",
       "      <td>Tuesday</td>\n",
       "      <td>June</td>\n",
       "      <td>2018</td>\n",
       "      <td>NaN</td>\n",
       "    </tr>\n",
       "  </tbody>\n",
       "</table>\n",
       "<p>51525 rows × 18 columns</p>\n",
       "</div>"
      ],
      "text/plain": [
       "         price  model_year           model  condition  cylinders fuel  \\\n",
       "0       9400.0        2011          bmw x5        2.0          6  gas   \n",
       "1      25500.0         NaN      ford f-150        2.0          6  gas   \n",
       "2       5500.0        2013  hyundai sonata        4.0          4  gas   \n",
       "3       1500.0        2003      ford f-150        1.0          8  gas   \n",
       "4      14900.0        2017    chrysler 200        3.0          4  gas   \n",
       "...        ...         ...             ...        ...        ...  ...   \n",
       "51520   9249.0        2013   nissan maxima        4.0          6  gas   \n",
       "51521   2700.0        2002     honda civic        NaN          4  gas   \n",
       "51522   3950.0        2009  hyundai sonata        3.0          4  gas   \n",
       "51523   7455.0        2013  toyota corolla        2.0          4  gas   \n",
       "51524   6300.0        2014   nissan altima        2.0          4  gas   \n",
       "\n",
       "       odometer transmission    type paint_color  is_4wd date_posted  \\\n",
       "0        145000    automatic     SUV         NaN    True  2018-06-23   \n",
       "1         88705    automatic  pickup       white    True  2018-10-19   \n",
       "2        110000    automatic   sedan         red   False  2019-02-07   \n",
       "3           NaN    automatic  pickup         NaN   False  2019-03-22   \n",
       "4         80903    automatic   sedan       black   False  2019-04-02   \n",
       "...         ...          ...     ...         ...     ...         ...   \n",
       "51520     88136    automatic   sedan       black   False  2018-10-03   \n",
       "51521    181500    automatic   sedan       white   False  2018-11-14   \n",
       "51522    128000    automatic   sedan        blue   False  2018-11-15   \n",
       "51523    139573    automatic   sedan       black   False  2018-07-02   \n",
       "51524       NaN    automatic   sedan         NaN   False  2018-06-05   \n",
       "\n",
       "       days_listed  vehicle_age date_posted_day date_posted_month  \\\n",
       "0               19            7        Saturday              June   \n",
       "1               50          NaN          Friday           October   \n",
       "2               79            6        Thursday          February   \n",
       "3                9           16          Friday             March   \n",
       "4               28            2         Tuesday             April   \n",
       "...            ...          ...             ...               ...   \n",
       "51520           37            5       Wednesday           October   \n",
       "51521           22           16       Wednesday          November   \n",
       "51522           32            9        Thursday          November   \n",
       "51523           71            5          Monday              July   \n",
       "51524           10            4         Tuesday              June   \n",
       "\n",
       "       date_posted_year  mileage_per_year  \n",
       "0                  2018      20714.285714  \n",
       "1                  2018               NaN  \n",
       "2                  2019      18333.333333  \n",
       "3                  2019               NaN  \n",
       "4                  2019      40451.500000  \n",
       "...                 ...               ...  \n",
       "51520              2018      17627.200000  \n",
       "51521              2018      11343.750000  \n",
       "51522              2018      14222.222222  \n",
       "51523              2018      27914.600000  \n",
       "51524              2018               NaN  \n",
       "\n",
       "[51525 rows x 18 columns]"
      ]
     },
     "execution_count": 13,
     "metadata": {},
     "output_type": "execute_result"
    }
   ],
   "source": [
    "filtered_df"
   ]
  },
  {
   "cell_type": "code",
   "execution_count": 14,
   "metadata": {},
   "outputs": [
    {
     "data": {
      "image/png": "[encoded data removed]",
      "text/plain": [
       "<Figure size 720x360 with 1 Axes>"
      ]
     },
     "metadata": {
      "needs_background": "light"
     },
     "output_type": "display_data"
    },
    {
     "data": {
      "image/png": "[encoded data removed]",
      "text/plain": [
       "<Figure size 720x360 with 1 Axes>"
      ]
     },
     "metadata": {
      "needs_background": "light"
     },
     "output_type": "display_data"
    },
    {
     "data": {
      "image/png": "[encoded data removed]",
      "text/plain": [
       "<Figure size 720x360 with 1 Axes>"
      ]
     },
     "metadata": {
      "needs_background": "light"
     },
     "output_type": "display_data"
    },
    {
     "data": {
      "image/png": "[encoded data removed]",
      "text/plain": [
       "<Figure size 720x360 with 1 Axes>"
      ]
     },
     "metadata": {
      "needs_background": "light"
     },
     "output_type": "display_data"
    }
   ],
   "source": [
    "suv_cars_only = filtered_df.query('paint_color != \"yellow\" & paint_color != \"purple\" & type == \"SUV\"')\n",
    "\n",
    "plt.figure(figsize=(10, 5))\n",
    "sns.scatterplot(data=suv_cars_only, x='vehicle_age', y='price')\n",
    "plt.title('Vehicle Age / Price', size=14)\n",
    "plt.xlabel('Age', size=13)\n",
    "plt.ylabel('Price', size=13);\n",
    "\n",
    "plt.figure(figsize=(10, 5))\n",
    "sns.scatterplot(data=suv_cars_only, x='odometer', y='price')\n",
    "plt.title('Odometer Mileage / Price', size=14)\n",
    "plt.xlabel('Mileage', size=13)\n",
    "plt.ylabel('Price', size=13);\n",
    "\n",
    "plt.figure(figsize=(10, 5))\n",
    "sns.scatterplot(data=suv_cars_only, x='condition', y='price')\n",
    "plt.title('Condition / Price', size=14)\n",
    "plt.xlabel('Condition', size=13)\n",
    "plt.ylabel('Price', size=13);\n",
    "\n",
    "plt.figure(figsize=(10, 5))\n",
    "sns.boxplot(data=suv_cars_only, x='paint_color', y='price')\n",
    "plt.title('Vehicle Colors', size=14)\n",
    "plt.xlabel('Colors', size=13)\n",
    "plt.ylabel('Price', size=13);"
   ]
  },
  {
   "cell_type": "markdown",
   "metadata": {},
   "source": [
    "The results for SUVs show a linear decrease in price as more miles accumulate on the odometer, as well as a linear decrease in age. With the condition of the vehicles there are significantly less vehicles with a condtion of 'Like New', which is reasonable as most people wouldn't resell such a new vehicle so soon. With vehicle colors, orange is suprisingly much more noticeably higher priced than other colors."
   ]
  },
  {
   "cell_type": "code",
   "execution_count": 15,
   "metadata": {},
   "outputs": [
    {
     "data": {
      "image/png": "[encoded data removed]",
      "text/plain": [
       "<Figure size 720x360 with 1 Axes>"
      ]
     },
     "metadata": {
      "needs_background": "light"
     },
     "output_type": "display_data"
    },
    {
     "data": {
      "image/png": "[encoded data removed]",
      "text/plain": [
       "<Figure size 720x360 with 1 Axes>"
      ]
     },
     "metadata": {
      "needs_background": "light"
     },
     "output_type": "display_data"
    },
    {
     "data": {
      "image/png": "[encoded data removed]",
      "text/plain": [
       "<Figure size 720x360 with 1 Axes>"
      ]
     },
     "metadata": {
      "needs_background": "light"
     },
     "output_type": "display_data"
    },
    {
     "data": {
      "image/png": "[encoded data removed]",
      "text/plain": [
       "<Figure size 720x360 with 1 Axes>"
      ]
     },
     "metadata": {
      "needs_background": "light"
     },
     "output_type": "display_data"
    }
   ],
   "source": [
    "sedan_cars_only = filtered_df.query('paint_color != \"yellow\" & paint_color != \"purple\" & paint_color != \"orange\" & type == \"sedan\"')\n",
    "\n",
    "\n",
    "plt.figure(figsize=(10, 5))\n",
    "sns.scatterplot(data=sedan_cars_only, x='vehicle_age', y='price')\n",
    "plt.title('Vehicle Age / Price', size=14)\n",
    "plt.xlabel('Age', size=13)\n",
    "plt.ylabel('Price', size=13);\n",
    "\n",
    "plt.figure(figsize=(10, 5))\n",
    "sns.scatterplot(data=sedan_cars_only, x='odometer', y='price')\n",
    "plt.title('Odometer Mileage / Price', size=14)\n",
    "plt.xlabel('Mileage', size=13)\n",
    "plt.ylabel('Price', size=13);\n",
    "\n",
    "plt.figure(figsize=(10, 5))\n",
    "sns.scatterplot(data=sedan_cars_only, x='condition', y='price')\n",
    "plt.title('Condition / Price', size=14)\n",
    "plt.xlabel('Condition', size=13)\n",
    "plt.ylabel('Price', size=13);\n",
    "\n",
    "plt.figure(figsize=(10, 5))\n",
    "sns.boxplot(data=sedan_cars_only, x='paint_color', y='price')\n",
    "plt.title('Vehicle Colors', size=14)\n",
    "plt.xlabel('Colors', size=13)\n",
    "plt.ylabel('Price', size=13);"
   ]
  },
  {
   "cell_type": "markdown",
   "metadata": {},
   "source": [
    "The results for Sedans show a linear decrease in price as more miles accumulate on the odometer, as well as a linear decrease in age. However, compared to SUVs, the prices are much lower overall. With the condition of the vehicles there are again significantly less vehicles with a condtion of 'Like New'. With vehicle colors, all colors are about at the same price, but black and white are slightly higher priced."
   ]
  },
  {
   "cell_type": "markdown",
   "metadata": {},
   "source": [
    "Overall, vehicle age and mileage carries a clear linear decrease in price the higher for each. For both cars types they have the same average of listings for each condtion of the vehicles, although Sedans are typically lower priced. Vehicle colors plays little effect on Sedan price compared to SUVs, which can vary m"
   ]
  },
  {
   "cell_type": "markdown",
   "metadata": {},
   "source": [
    "## Overall conclusion"
   ]
  },
  {
   "cell_type": "markdown",
   "metadata": {},
   "source": [
    "Vehicle age generally influences the price of a vehicle in the ads with a linear slope downward as the age of the vehicle goes up. It can start for newest cars anywhere in the price spectrum, but as it gets older all ads for that car type tend to smaller and cheaper. However, there are exceptions for this rule: Vehicles such as those under \"Other\", \"Convertibles\", and \"Coupe\" may have a wide range as the vehicle gets older that doesn't follow any trend, and prices may continue to vary up and down regardless of it's age.\n",
    "\n",
    "The vehicle's odometer has a much more consistent affect on it's price, having a constant downtrend with all vehicles, including those that didn't follow a trend with age.\n",
    "\n",
    "The condition of the vehicle follows an expected trend that there are almost no condition 5 cars, \"New\", as it would unreasonable for a buyer to immediately resell a brand new vehicle. For condition 2 and 3 vehicles, \"Good\" and \"Excellent\" respectively, tend to have a bulk of the listings in the lower half of the price range of 15k and under. Those in condition 4, \"Like New\", tend to have a slightly higher price range per vehicle, but still find an unusual amount still resting in the lower price range.\n",
    "\n",
    "Transmission type tends to follow the general rule that automatics are priced higher, then manuals, then 'other'. However, in the case of SUV's manual is priced just a bit higher, and some cars like 'Vans' and 'Pickups' have an unusually higher price for transmissions in the 'other' category, with the other transmission types falling behind.\n",
    "\n",
    "For colors, Sedans, Mini-Vans, Vans, Hatchbacks, Wagons, and 'Other' vehicle types tend to be priced the same across the board regardless of color choice, although some with noticable but mostly insignificant price differences. For SUV's, Orange is unusually a more highly priced version and Yellow having a much wider range of prices than other colors. Yellow's range may hint that the body or tint of yellow may vary noticably depending on the vehicle, explaining the bigger range. With Convertibles, Black, Custom colors, Orange, and Yellow are priced quite higher on average than other colors. Coupe style vehicles are different than the other vehicles in that there is a much larger range of prices for each color, and with Yellow being alarmingly more highly priced. Offroad vehicles in general are more highly priced than the others, with all color prices showing as much. However, there is also more of a wider range of prices per color. Pickups and Trucks also follow the trend of a much wider range of prices with colors.\n",
    "\n",
    "Overall, a vehicle's age, odometer, and condition have expected results in it's pricing. Some vehicles are priced more in general comparatively but all tend to follow the same trend. In the case of transmission, an automatic vehicle is the better priced transmission but may vary for a few vehicle categories. Colors are much more random across prices but the majority tend to be priced similarly. There are some noticible differences with some colors with specific vehicle types being much more higher priced, although there seems to be little evidence to suggest why this may be the case."
   ]
  },
  {
   "cell_type": "code",
   "execution_count": null,
   "metadata": {},
   "outputs": [],
   "source": []
  }
 ],
 "metadata": {
  "ExecuteTimeLog": [
   {
    "duration": 493,
    "start_time": "2021-07-05T18:21:41.571Z"
   },
   {
    "duration": 1273,
    "start_time": "2021-07-05T18:21:46.326Z"
   },
   {
    "duration": 53,
    "start_time": "2021-07-05T18:21:49.772Z"
   },
   {
    "duration": 94,
    "start_time": "2021-07-05T18:21:59.988Z"
   },
   {
    "duration": 581,
    "start_time": "2021-07-05T18:22:38.720Z"
   },
   {
    "duration": 330,
    "start_time": "2021-07-05T18:23:43.224Z"
   },
   {
    "duration": 288,
    "start_time": "2021-07-05T18:23:56.480Z"
   },
   {
    "duration": 10,
    "start_time": "2021-07-05T18:24:10.645Z"
   },
   {
    "duration": 9,
    "start_time": "2021-07-05T18:24:31.473Z"
   },
   {
    "duration": 7,
    "start_time": "2021-07-05T18:24:40.581Z"
   },
   {
    "duration": 11,
    "start_time": "2021-07-05T18:24:52.981Z"
   },
   {
    "duration": 8,
    "start_time": "2021-07-05T18:25:01.245Z"
   },
   {
    "duration": 10,
    "start_time": "2021-07-05T18:25:27.176Z"
   },
   {
    "duration": 12,
    "start_time": "2021-07-05T18:25:32.678Z"
   },
   {
    "duration": 12,
    "start_time": "2021-07-05T18:25:45.424Z"
   },
   {
    "duration": 15,
    "start_time": "2021-07-05T18:26:06.302Z"
   },
   {
    "duration": 7,
    "start_time": "2021-07-05T18:26:21.487Z"
   },
   {
    "duration": 270,
    "start_time": "2021-07-05T18:26:33.704Z"
   },
   {
    "duration": 129,
    "start_time": "2021-07-05T18:26:42.794Z"
   },
   {
    "duration": 17,
    "start_time": "2021-07-05T18:26:44.874Z"
   },
   {
    "duration": 103,
    "start_time": "2021-07-05T18:31:05.696Z"
   },
   {
    "duration": 12566,
    "start_time": "2021-07-05T18:31:53.994Z"
   },
   {
    "duration": 58,
    "start_time": "2021-07-05T18:33:08.488Z"
   },
   {
    "duration": 319,
    "start_time": "2021-07-05T18:34:01.020Z"
   },
   {
    "duration": 9095,
    "start_time": "2021-07-05T18:34:19.686Z"
   },
   {
    "duration": 162,
    "start_time": "2021-07-05T18:35:40.034Z"
   },
   {
    "duration": 37,
    "start_time": "2021-07-05T18:35:45.557Z"
   },
   {
    "duration": 34,
    "start_time": "2021-07-05T18:35:51.557Z"
   },
   {
    "duration": 48,
    "start_time": "2021-07-05T18:36:07.721Z"
   },
   {
    "duration": 353,
    "start_time": "2021-07-05T18:36:34.776Z"
   },
   {
    "duration": 79,
    "start_time": "2021-07-05T18:36:42.251Z"
   },
   {
    "duration": 70,
    "start_time": "2021-07-05T18:37:11.899Z"
   },
   {
    "duration": 214,
    "start_time": "2021-07-05T18:37:58.433Z"
   },
   {
    "duration": 42,
    "start_time": "2021-07-05T18:44:50.363Z"
   },
   {
    "duration": 46,
    "start_time": "2021-07-05T18:45:13.404Z"
   },
   {
    "duration": 9,
    "start_time": "2021-07-05T18:45:40.740Z"
   },
   {
    "duration": 41,
    "start_time": "2021-07-05T18:45:46.873Z"
   },
   {
    "duration": 302,
    "start_time": "2021-07-05T18:46:32.228Z"
   },
   {
    "duration": 283,
    "start_time": "2021-07-05T18:47:32.423Z"
   },
   {
    "duration": 344,
    "start_time": "2021-07-05T18:49:24.673Z"
   },
   {
    "duration": 441,
    "start_time": "2021-07-05T18:49:44.314Z"
   },
   {
    "duration": 1178,
    "start_time": "2021-07-05T18:50:43.300Z"
   },
   {
    "duration": 9122,
    "start_time": "2021-07-05T18:51:06.044Z"
   },
   {
    "duration": 10,
    "start_time": "2021-07-05T18:51:28.785Z"
   },
   {
    "duration": 12,
    "start_time": "2021-07-05T18:51:34.921Z"
   },
   {
    "duration": 915,
    "start_time": "2021-07-05T18:51:48.649Z"
   },
   {
    "duration": 342,
    "start_time": "2021-07-05T18:51:53.365Z"
   },
   {
    "duration": 363,
    "start_time": "2021-07-05T18:53:46.498Z"
   },
   {
    "duration": 315,
    "start_time": "2021-07-05T18:53:59.251Z"
   },
   {
    "duration": 464,
    "start_time": "2021-07-05T18:54:07.825Z"
   },
   {
    "duration": 59,
    "start_time": "2021-07-05T18:54:20.858Z"
   },
   {
    "duration": 7069,
    "start_time": "2021-07-05T18:54:51.817Z"
   },
   {
    "duration": 344,
    "start_time": "2021-07-05T18:55:06.905Z"
   },
   {
    "duration": 18,
    "start_time": "2021-07-05T18:55:11.924Z"
   },
   {
    "duration": 44,
    "start_time": "2021-07-05T18:55:23.790Z"
   },
   {
    "duration": 342,
    "start_time": "2021-07-05T18:57:04.822Z"
   },
   {
    "duration": 1107,
    "start_time": "2021-07-05T18:57:22.890Z"
   },
   {
    "duration": 10,
    "start_time": "2021-07-05T18:59:09.172Z"
   },
   {
    "duration": 38,
    "start_time": "2021-07-05T18:59:13.217Z"
   },
   {
    "duration": 288,
    "start_time": "2021-07-05T19:01:34.061Z"
   },
   {
    "duration": 289,
    "start_time": "2021-07-05T19:02:22.712Z"
   },
   {
    "duration": 446,
    "start_time": "2021-07-05T19:02:26.239Z"
   },
   {
    "duration": 11,
    "start_time": "2021-07-05T19:02:31.692Z"
   },
   {
    "duration": 14,
    "start_time": "2021-07-05T19:02:52.903Z"
   },
   {
    "duration": 12,
    "start_time": "2021-07-05T19:02:56.026Z"
   },
   {
    "duration": 42,
    "start_time": "2021-07-05T19:03:08.492Z"
   },
   {
    "duration": 29,
    "start_time": "2021-07-05T19:03:35.331Z"
   },
   {
    "duration": 54,
    "start_time": "2021-07-05T19:03:57.805Z"
   },
   {
    "duration": 49,
    "start_time": "2021-07-05T19:04:05.384Z"
   },
   {
    "duration": 15,
    "start_time": "2021-07-05T19:05:49.882Z"
   },
   {
    "duration": 59,
    "start_time": "2021-07-05T19:05:54.344Z"
   },
   {
    "duration": 303,
    "start_time": "2021-07-06T01:19:48.262Z"
   },
   {
    "duration": 669,
    "start_time": "2021-07-06T01:19:52.944Z"
   },
   {
    "duration": 33,
    "start_time": "2021-07-06T01:19:56.417Z"
   },
   {
    "duration": 6,
    "start_time": "2021-07-06T01:27:33.618Z"
   },
   {
    "duration": 22,
    "start_time": "2021-07-06T01:27:54.432Z"
   },
   {
    "duration": 53,
    "start_time": "2021-07-06T01:54:07.386Z"
   },
   {
    "duration": 55,
    "start_time": "2021-07-06T01:54:16.176Z"
   },
   {
    "duration": 14,
    "start_time": "2021-07-06T01:54:54.669Z"
   },
   {
    "duration": 23,
    "start_time": "2021-07-06T01:54:57.361Z"
   },
   {
    "duration": 14,
    "start_time": "2021-07-06T01:55:42.020Z"
   },
   {
    "duration": 21,
    "start_time": "2021-07-06T02:02:52.426Z"
   },
   {
    "duration": 24,
    "start_time": "2021-07-06T02:04:20.669Z"
   },
   {
    "duration": 22,
    "start_time": "2021-07-06T02:04:23.209Z"
   },
   {
    "duration": 20,
    "start_time": "2021-07-06T02:04:26.630Z"
   },
   {
    "duration": 20,
    "start_time": "2021-07-06T02:04:28.742Z"
   },
   {
    "duration": 19,
    "start_time": "2021-07-06T02:04:31.273Z"
   },
   {
    "duration": 770,
    "start_time": "2021-07-06T02:04:38.720Z"
   },
   {
    "duration": 39,
    "start_time": "2021-07-06T02:04:39.491Z"
   },
   {
    "duration": 21,
    "start_time": "2021-07-06T02:05:49.136Z"
   },
   {
    "duration": 3472,
    "start_time": "2021-07-06T02:06:01.634Z"
   },
   {
    "duration": 240,
    "start_time": "2021-07-06T02:06:21.431Z"
   },
   {
    "duration": 54,
    "start_time": "2021-07-06T02:07:00.574Z"
   },
   {
    "duration": 776,
    "start_time": "2021-07-06T02:07:50.465Z"
   },
   {
    "duration": 13,
    "start_time": "2021-07-06T02:08:19.169Z"
   },
   {
    "duration": 746,
    "start_time": "2021-07-06T02:08:26.966Z"
   },
   {
    "duration": 916,
    "start_time": "2021-07-06T02:16:10.415Z"
   },
   {
    "duration": 986,
    "start_time": "2021-07-06T02:16:32.663Z"
   },
   {
    "duration": 917,
    "start_time": "2021-07-06T02:17:39.600Z"
   },
   {
    "duration": 954,
    "start_time": "2021-07-06T02:19:59.783Z"
   },
   {
    "duration": 958,
    "start_time": "2021-07-06T02:21:53.446Z"
   },
   {
    "duration": 1194,
    "start_time": "2021-07-06T02:22:03.035Z"
   },
   {
    "duration": 1154,
    "start_time": "2021-07-06T02:22:16.651Z"
   },
   {
    "duration": 1198,
    "start_time": "2021-07-06T02:24:25.717Z"
   },
   {
    "duration": 97,
    "start_time": "2021-07-06T02:28:07.524Z"
   },
   {
    "duration": 1075,
    "start_time": "2021-07-06T02:28:11.721Z"
   },
   {
    "duration": 922,
    "start_time": "2021-07-06T02:28:26.641Z"
   },
   {
    "duration": 89,
    "start_time": "2021-07-06T02:29:16.760Z"
   },
   {
    "duration": 637,
    "start_time": "2021-07-06T02:33:40.647Z"
   },
   {
    "duration": 21,
    "start_time": "2021-07-06T02:33:41.286Z"
   },
   {
    "duration": 927,
    "start_time": "2021-07-06T02:33:41.309Z"
   },
   {
    "duration": 2982,
    "start_time": "2021-07-06T02:39:13.474Z"
   },
   {
    "duration": -115253,
    "start_time": "2021-07-06T02:49:37.780Z"
   },
   {
    "duration": 3317,
    "start_time": "2021-07-06T02:48:35.774Z"
   },
   {
    "duration": 7144,
    "start_time": "2021-07-06T02:48:44.388Z"
   },
   {
    "duration": 7224,
    "start_time": "2021-07-06T02:49:32.726Z"
   },
   {
    "duration": 945,
    "start_time": "2021-07-06T02:50:05.460Z"
   },
   {
    "duration": 6819,
    "start_time": "2021-07-06T02:50:25.496Z"
   },
   {
    "duration": 6924,
    "start_time": "2021-07-06T02:54:13.043Z"
   },
   {
    "duration": 1207,
    "start_time": "2021-07-06T02:58:26.173Z"
   },
   {
    "duration": 6148,
    "start_time": "2021-07-06T02:58:40.274Z"
   },
   {
    "duration": 1215,
    "start_time": "2021-07-06T03:03:14.911Z"
   },
   {
    "duration": 1614,
    "start_time": "2021-07-06T03:04:19.043Z"
   },
   {
    "duration": 961,
    "start_time": "2021-07-06T03:06:45.812Z"
   },
   {
    "duration": 1058,
    "start_time": "2021-07-06T03:07:40.065Z"
   },
   {
    "duration": 1033,
    "start_time": "2021-07-06T03:08:13.954Z"
   },
   {
    "duration": 998,
    "start_time": "2021-07-06T03:09:55.641Z"
   },
   {
    "duration": 1026,
    "start_time": "2021-07-06T03:10:13.830Z"
   },
   {
    "duration": 1059,
    "start_time": "2021-07-06T03:10:18.290Z"
   },
   {
    "duration": 244,
    "start_time": "2021-07-06T03:16:23.997Z"
   },
   {
    "duration": 61,
    "start_time": "2021-07-06T03:16:34.753Z"
   },
   {
    "duration": 60,
    "start_time": "2021-07-06T03:16:40.713Z"
   },
   {
    "duration": 1265,
    "start_time": "2021-07-06T03:20:22.468Z"
   },
   {
    "duration": 1956,
    "start_time": "2021-07-06T03:20:24.973Z"
   },
   {
    "duration": 61,
    "start_time": "2021-07-06T03:20:39.225Z"
   },
   {
    "duration": 619,
    "start_time": "2021-07-06T03:20:46.374Z"
   },
   {
    "duration": 23,
    "start_time": "2021-07-06T03:20:46.995Z"
   },
   {
    "duration": 77,
    "start_time": "2021-07-06T03:20:47.020Z"
   },
   {
    "duration": 1335,
    "start_time": "2021-07-06T03:21:00.661Z"
   },
   {
    "duration": 2021,
    "start_time": "2021-07-06T03:40:15.532Z"
   },
   {
    "duration": 27,
    "start_time": "2021-07-06T03:40:21.228Z"
   },
   {
    "duration": 84,
    "start_time": "2021-07-06T03:40:51.615Z"
   },
   {
    "duration": 19,
    "start_time": "2021-07-06T03:40:57.001Z"
   },
   {
    "duration": 308,
    "start_time": "2021-07-06T03:42:38.504Z"
   },
   {
    "duration": 243,
    "start_time": "2021-07-06T03:42:43.545Z"
   },
   {
    "duration": 11,
    "start_time": "2021-07-06T03:42:51.466Z"
   },
   {
    "duration": 7,
    "start_time": "2021-07-06T03:43:20.822Z"
   },
   {
    "duration": 477,
    "start_time": "2021-07-06T03:46:40.229Z"
   },
   {
    "duration": 160,
    "start_time": "2021-07-06T03:50:13.808Z"
   },
   {
    "duration": 6597,
    "start_time": "2021-07-06T03:51:42.616Z"
   },
   {
    "duration": 6696,
    "start_time": "2021-07-06T03:52:23.295Z"
   },
   {
    "duration": 589,
    "start_time": "2021-07-06T03:52:42.583Z"
   },
   {
    "duration": 24,
    "start_time": "2021-07-06T03:52:43.174Z"
   },
   {
    "duration": 21,
    "start_time": "2021-07-06T03:52:43.200Z"
   },
   {
    "duration": 1278,
    "start_time": "2021-07-06T03:52:43.223Z"
   },
   {
    "duration": 25,
    "start_time": "2021-07-06T03:52:44.502Z"
   },
   {
    "duration": 283,
    "start_time": "2021-07-06T03:52:44.529Z"
   },
   {
    "duration": 172,
    "start_time": "2021-07-06T03:52:54.305Z"
   },
   {
    "duration": 158,
    "start_time": "2021-07-06T03:53:06.938Z"
   },
   {
    "duration": 192,
    "start_time": "2021-07-06T03:53:13.691Z"
   },
   {
    "duration": 6963,
    "start_time": "2021-07-06T03:58:23.455Z"
   },
   {
    "duration": 15,
    "start_time": "2021-07-06T03:58:55.232Z"
   },
   {
    "duration": 7075,
    "start_time": "2021-07-06T03:59:02.420Z"
   },
   {
    "duration": 13877,
    "start_time": "2021-07-06T03:59:36.316Z"
   },
   {
    "duration": 13541,
    "start_time": "2021-07-06T03:59:54.487Z"
   },
   {
    "duration": 14062,
    "start_time": "2021-07-06T04:01:01.197Z"
   },
   {
    "duration": 180,
    "start_time": "2021-07-06T04:02:02.006Z"
   },
   {
    "duration": 579,
    "start_time": "2021-07-06T04:03:13.690Z"
   },
   {
    "duration": 25,
    "start_time": "2021-07-06T04:03:14.270Z"
   },
   {
    "duration": 24,
    "start_time": "2021-07-06T04:03:14.297Z"
   },
   {
    "duration": 1306,
    "start_time": "2021-07-06T04:03:14.323Z"
   },
   {
    "duration": 30,
    "start_time": "2021-07-06T04:03:15.630Z"
   },
   {
    "duration": 267,
    "start_time": "2021-07-06T04:03:15.661Z"
   },
   {
    "duration": 169,
    "start_time": "2021-07-06T04:03:29.577Z"
   },
   {
    "duration": 170,
    "start_time": "2021-07-06T04:04:52.456Z"
   },
   {
    "duration": 183,
    "start_time": "2021-07-06T04:05:24.523Z"
   },
   {
    "duration": 170,
    "start_time": "2021-07-06T04:05:40.146Z"
   },
   {
    "duration": 218,
    "start_time": "2021-07-06T04:08:01.379Z"
   },
   {
    "duration": 213,
    "start_time": "2021-07-06T04:15:44.188Z"
   },
   {
    "duration": 316,
    "start_time": "2021-07-06T04:19:59.699Z"
   },
   {
    "duration": 156,
    "start_time": "2021-07-06T04:20:02.076Z"
   },
   {
    "duration": 218,
    "start_time": "2021-07-06T04:20:11.343Z"
   },
   {
    "duration": 165,
    "start_time": "2021-07-06T04:20:15.684Z"
   },
   {
    "duration": 176,
    "start_time": "2021-07-06T04:20:20.835Z"
   },
   {
    "duration": 274,
    "start_time": "2021-07-06T04:21:13.046Z"
   },
   {
    "duration": 5,
    "start_time": "2021-07-06T04:21:19.386Z"
   },
   {
    "duration": 4,
    "start_time": "2021-07-06T04:21:25.893Z"
   },
   {
    "duration": 6,
    "start_time": "2021-07-06T04:21:31.101Z"
   },
   {
    "duration": 7,
    "start_time": "2021-07-06T04:22:42.190Z"
   },
   {
    "duration": 164,
    "start_time": "2021-07-06T04:22:59.806Z"
   },
   {
    "duration": 165,
    "start_time": "2021-07-06T04:23:10.176Z"
   },
   {
    "duration": 167,
    "start_time": "2021-07-06T04:23:16.262Z"
   },
   {
    "duration": 162,
    "start_time": "2021-07-06T04:23:20.858Z"
   },
   {
    "duration": 167,
    "start_time": "2021-07-06T04:23:33.840Z"
   },
   {
    "duration": 154,
    "start_time": "2021-07-06T04:23:37.304Z"
   },
   {
    "duration": 149,
    "start_time": "2021-07-06T04:23:42.830Z"
   },
   {
    "duration": 157,
    "start_time": "2021-07-06T04:23:46.121Z"
   },
   {
    "duration": 232,
    "start_time": "2021-07-06T04:23:48.834Z"
   },
   {
    "duration": 158,
    "start_time": "2021-07-06T04:24:03.508Z"
   },
   {
    "duration": 159,
    "start_time": "2021-07-06T04:24:18.482Z"
   },
   {
    "duration": 601,
    "start_time": "2021-07-06T04:26:44.271Z"
   },
   {
    "duration": 541,
    "start_time": "2021-07-06T04:26:47.815Z"
   },
   {
    "duration": 148,
    "start_time": "2021-07-06T04:28:24.754Z"
   },
   {
    "duration": 384,
    "start_time": "2021-07-06T04:28:54.007Z"
   },
   {
    "duration": 367,
    "start_time": "2021-07-06T04:29:12.445Z"
   },
   {
    "duration": 597,
    "start_time": "2021-07-06T04:32:45.587Z"
   },
   {
    "duration": 25,
    "start_time": "2021-07-06T04:32:46.185Z"
   },
   {
    "duration": 31,
    "start_time": "2021-07-06T04:32:46.212Z"
   },
   {
    "duration": 1298,
    "start_time": "2021-07-06T04:32:46.244Z"
   },
   {
    "duration": 25,
    "start_time": "2021-07-06T04:32:47.544Z"
   },
   {
    "duration": 335,
    "start_time": "2021-07-06T04:32:47.570Z"
   },
   {
    "duration": 307,
    "start_time": "2021-07-06T04:32:47.907Z"
   },
   {
    "duration": 398,
    "start_time": "2021-07-06T04:33:13.599Z"
   },
   {
    "duration": 374,
    "start_time": "2021-07-06T04:33:37.798Z"
   },
   {
    "duration": 841,
    "start_time": "2021-07-06T04:34:07.999Z"
   },
   {
    "duration": 504,
    "start_time": "2021-07-06T04:34:33.752Z"
   },
   {
    "duration": 615,
    "start_time": "2021-07-06T04:34:53.707Z"
   },
   {
    "duration": 309,
    "start_time": "2021-07-06T04:36:51.445Z"
   },
   {
    "duration": 765,
    "start_time": "2021-07-06T04:37:15.698Z"
   },
   {
    "duration": 208,
    "start_time": "2021-07-06T04:39:14.236Z"
   },
   {
    "duration": 524,
    "start_time": "2021-07-08T02:48:16.628Z"
   },
   {
    "duration": 918,
    "start_time": "2021-07-08T02:48:26.689Z"
   },
   {
    "duration": 60,
    "start_time": "2021-07-08T02:48:27.610Z"
   },
   {
    "duration": 40,
    "start_time": "2021-07-08T02:48:27.675Z"
   },
   {
    "duration": 2634,
    "start_time": "2021-07-08T02:48:27.717Z"
   },
   {
    "duration": 55,
    "start_time": "2021-07-08T02:48:30.353Z"
   },
   {
    "duration": 2219,
    "start_time": "2021-07-08T02:48:30.410Z"
   },
   {
    "duration": 398,
    "start_time": "2021-07-08T02:48:32.631Z"
   },
   {
    "duration": 1951,
    "start_time": "2021-07-08T02:48:51.066Z"
   },
   {
    "duration": 1467,
    "start_time": "2021-07-08T02:49:10.003Z"
   },
   {
    "duration": 2471,
    "start_time": "2021-07-08T02:49:23.710Z"
   },
   {
    "duration": 465,
    "start_time": "2021-07-08T02:51:49.570Z"
   },
   {
    "duration": 732,
    "start_time": "2021-07-08T02:53:30.529Z"
   },
   {
    "duration": 450,
    "start_time": "2021-07-08T02:53:40.008Z"
   },
   {
    "duration": 620,
    "start_time": "2021-07-08T02:54:37.551Z"
   },
   {
    "duration": 893,
    "start_time": "2021-07-08T02:54:44.390Z"
   },
   {
    "duration": 45,
    "start_time": "2021-07-08T02:54:45.285Z"
   },
   {
    "duration": 64,
    "start_time": "2021-07-08T02:54:45.332Z"
   },
   {
    "duration": 2558,
    "start_time": "2021-07-08T02:54:45.398Z"
   },
   {
    "duration": 49,
    "start_time": "2021-07-08T02:54:47.959Z"
   },
   {
    "duration": 2177,
    "start_time": "2021-07-08T02:54:48.011Z"
   },
   {
    "duration": 830,
    "start_time": "2021-07-08T02:54:50.190Z"
   },
   {
    "duration": 1428,
    "start_time": "2021-07-08T02:55:52.216Z"
   },
   {
    "duration": 929,
    "start_time": "2021-07-08T02:56:05.171Z"
   },
   {
    "duration": 46,
    "start_time": "2021-07-08T02:56:06.103Z"
   },
   {
    "duration": 57,
    "start_time": "2021-07-08T02:56:06.151Z"
   },
   {
    "duration": 2629,
    "start_time": "2021-07-08T02:56:06.210Z"
   },
   {
    "duration": 62,
    "start_time": "2021-07-08T02:56:08.841Z"
   },
   {
    "duration": 2077,
    "start_time": "2021-07-08T02:56:08.905Z"
   },
   {
    "duration": 1858,
    "start_time": "2021-07-08T02:56:10.986Z"
   },
   {
    "duration": 2346,
    "start_time": "2021-07-08T02:57:02.057Z"
   },
   {
    "duration": 1560,
    "start_time": "2021-07-08T02:57:20.466Z"
   },
   {
    "duration": 1779,
    "start_time": "2021-07-08T02:57:32.691Z"
   },
   {
    "duration": 929,
    "start_time": "2021-07-08T02:57:46.032Z"
   },
   {
    "duration": 52,
    "start_time": "2021-07-08T02:57:46.964Z"
   },
   {
    "duration": 62,
    "start_time": "2021-07-08T02:57:47.019Z"
   },
   {
    "duration": 2635,
    "start_time": "2021-07-08T02:57:47.085Z"
   },
   {
    "duration": 71,
    "start_time": "2021-07-08T02:57:49.722Z"
   },
   {
    "duration": 2197,
    "start_time": "2021-07-08T02:57:49.797Z"
   },
   {
    "duration": 1788,
    "start_time": "2021-07-08T02:57:51.996Z"
   },
   {
    "duration": 1390,
    "start_time": "2021-07-08T02:58:07.289Z"
   },
   {
    "duration": 1312,
    "start_time": "2021-07-08T02:59:02.435Z"
   },
   {
    "duration": 110,
    "start_time": "2021-07-08T02:59:26.352Z"
   },
   {
    "duration": 1789,
    "start_time": "2021-07-08T02:59:33.195Z"
   },
   {
    "duration": 1273,
    "start_time": "2021-07-08T03:01:43.050Z"
   },
   {
    "duration": 1276,
    "start_time": "2021-07-08T03:01:52.429Z"
   },
   {
    "duration": 1253,
    "start_time": "2021-07-08T03:02:02.226Z"
   },
   {
    "duration": 1268,
    "start_time": "2021-07-08T03:02:22.137Z"
   },
   {
    "duration": 1241,
    "start_time": "2021-07-08T03:02:46.858Z"
   },
   {
    "duration": 1234,
    "start_time": "2021-07-08T03:02:58.092Z"
   },
   {
    "duration": 976,
    "start_time": "2021-07-08T03:03:51.123Z"
   },
   {
    "duration": 927,
    "start_time": "2021-07-08T03:03:59.491Z"
   },
   {
    "duration": 64,
    "start_time": "2021-07-08T03:04:00.421Z"
   },
   {
    "duration": 36,
    "start_time": "2021-07-08T03:04:00.488Z"
   },
   {
    "duration": 2632,
    "start_time": "2021-07-08T03:04:00.527Z"
   },
   {
    "duration": 51,
    "start_time": "2021-07-08T03:04:03.161Z"
   },
   {
    "duration": 2139,
    "start_time": "2021-07-08T03:04:03.215Z"
   },
   {
    "duration": 1147,
    "start_time": "2021-07-08T03:04:05.358Z"
   },
   {
    "duration": 1343,
    "start_time": "2021-07-08T03:07:01.163Z"
   },
   {
    "duration": 1281,
    "start_time": "2021-07-08T03:07:14.660Z"
   },
   {
    "duration": 55,
    "start_time": "2021-07-08T03:07:15.944Z"
   },
   {
    "duration": 39,
    "start_time": "2021-07-08T03:07:16.002Z"
   },
   {
    "duration": 2594,
    "start_time": "2021-07-08T03:07:16.044Z"
   },
   {
    "duration": 61,
    "start_time": "2021-07-08T03:07:18.640Z"
   },
   {
    "duration": 2125,
    "start_time": "2021-07-08T03:07:18.704Z"
   },
   {
    "duration": 1359,
    "start_time": "2021-07-08T03:07:20.831Z"
   },
   {
    "duration": 1105,
    "start_time": "2021-07-08T03:07:35.173Z"
   },
   {
    "duration": 924,
    "start_time": "2021-07-08T03:11:40.458Z"
   },
   {
    "duration": 46,
    "start_time": "2021-07-08T03:11:41.385Z"
   },
   {
    "duration": 63,
    "start_time": "2021-07-08T03:11:41.434Z"
   },
   {
    "duration": 2601,
    "start_time": "2021-07-08T03:11:41.499Z"
   },
   {
    "duration": 43,
    "start_time": "2021-07-08T03:11:44.102Z"
   },
   {
    "duration": 2062,
    "start_time": "2021-07-08T03:11:44.167Z"
   },
   {
    "duration": 628,
    "start_time": "2021-07-09T11:55:44.485Z"
   },
   {
    "duration": 28,
    "start_time": "2021-07-09T11:55:45.115Z"
   },
   {
    "duration": 22,
    "start_time": "2021-07-09T11:55:45.144Z"
   },
   {
    "duration": 1353,
    "start_time": "2021-07-09T11:55:45.168Z"
   },
   {
    "duration": 26,
    "start_time": "2021-07-09T11:55:46.523Z"
   },
   {
    "duration": 1177,
    "start_time": "2021-07-09T11:55:46.550Z"
   },
   {
    "duration": 977,
    "start_time": "2021-07-11T14:58:02.290Z"
   },
   {
    "duration": 53,
    "start_time": "2021-07-11T14:58:03.270Z"
   },
   {
    "duration": 37,
    "start_time": "2021-07-11T14:58:03.327Z"
   },
   {
    "duration": 2442,
    "start_time": "2021-07-11T14:58:03.367Z"
   },
   {
    "duration": 45,
    "start_time": "2021-07-11T14:58:05.811Z"
   },
   {
    "duration": 2030,
    "start_time": "2021-07-11T14:58:05.858Z"
   },
   {
    "duration": 893,
    "start_time": "2021-07-16T00:00:16.022Z"
   },
   {
    "duration": 53,
    "start_time": "2021-07-16T00:00:16.918Z"
   },
   {
    "duration": 40,
    "start_time": "2021-07-16T00:00:16.975Z"
   },
   {
    "duration": 2325,
    "start_time": "2021-07-16T00:00:17.017Z"
   },
   {
    "duration": 57,
    "start_time": "2021-07-16T00:00:19.345Z"
   },
   {
    "duration": 2061,
    "start_time": "2021-07-16T00:00:19.405Z"
   },
   {
    "duration": 861,
    "start_time": "2021-07-16T00:10:04.442Z"
   },
   {
    "duration": 56,
    "start_time": "2021-07-16T00:10:05.306Z"
   },
   {
    "duration": 39,
    "start_time": "2021-07-16T00:10:05.365Z"
   },
   {
    "duration": 2336,
    "start_time": "2021-07-16T00:10:05.407Z"
   },
   {
    "duration": 50,
    "start_time": "2021-07-16T00:10:07.746Z"
   },
   {
    "duration": 2033,
    "start_time": "2021-07-16T00:10:07.799Z"
   },
   {
    "duration": 6936,
    "start_time": "2021-07-16T00:10:09.835Z"
   },
   {
    "duration": 44,
    "start_time": "2021-07-16T00:13:08.883Z"
   },
   {
    "duration": 6791,
    "start_time": "2021-07-16T00:13:27.961Z"
   },
   {
    "duration": 273,
    "start_time": "2021-07-16T00:14:15.069Z"
   },
   {
    "duration": 6989,
    "start_time": "2021-07-16T00:14:30.605Z"
   },
   {
    "duration": 60,
    "start_time": "2021-07-16T00:19:27.997Z"
   },
   {
    "duration": 54,
    "start_time": "2021-07-16T00:22:57.684Z"
   },
   {
    "duration": 44,
    "start_time": "2021-07-16T00:23:07.621Z"
   },
   {
    "duration": 817,
    "start_time": "2021-07-16T00:23:14.479Z"
   },
   {
    "duration": 43,
    "start_time": "2021-07-16T00:23:15.298Z"
   },
   {
    "duration": 36,
    "start_time": "2021-07-16T00:23:15.355Z"
   },
   {
    "duration": 2451,
    "start_time": "2021-07-16T00:23:15.393Z"
   },
   {
    "duration": 49,
    "start_time": "2021-07-16T00:23:17.847Z"
   },
   {
    "duration": 1901,
    "start_time": "2021-07-16T00:23:17.898Z"
   },
   {
    "duration": 73,
    "start_time": "2021-07-16T00:23:19.802Z"
   },
   {
    "duration": 43,
    "start_time": "2021-07-16T00:30:52.852Z"
   },
   {
    "duration": 365,
    "start_time": "2021-07-16T00:31:17.978Z"
   },
   {
    "duration": 7404,
    "start_time": "2021-07-16T00:31:56.403Z"
   },
   {
    "duration": 1594,
    "start_time": "2021-07-16T00:34:21.189Z"
   },
   {
    "duration": 896,
    "start_time": "2021-07-16T00:34:44.383Z"
   },
   {
    "duration": 45,
    "start_time": "2021-07-16T00:34:45.282Z"
   },
   {
    "duration": 56,
    "start_time": "2021-07-16T00:34:45.330Z"
   },
   {
    "duration": 2355,
    "start_time": "2021-07-16T00:34:45.388Z"
   },
   {
    "duration": 47,
    "start_time": "2021-07-16T00:34:47.745Z"
   },
   {
    "duration": 1946,
    "start_time": "2021-07-16T00:34:47.795Z"
   },
   {
    "duration": 1566,
    "start_time": "2021-07-16T00:34:49.743Z"
   },
   {
    "duration": 1505,
    "start_time": "2021-07-16T00:38:15.851Z"
   },
   {
    "duration": 815,
    "start_time": "2021-07-16T00:38:23.086Z"
   },
   {
    "duration": 56,
    "start_time": "2021-07-16T00:38:23.903Z"
   },
   {
    "duration": 35,
    "start_time": "2021-07-16T00:38:23.962Z"
   },
   {
    "duration": 2327,
    "start_time": "2021-07-16T00:38:24.000Z"
   },
   {
    "duration": 52,
    "start_time": "2021-07-16T00:38:26.329Z"
   },
   {
    "duration": 1918,
    "start_time": "2021-07-16T00:38:26.384Z"
   },
   {
    "duration": 1568,
    "start_time": "2021-07-16T00:38:28.305Z"
   },
   {
    "duration": 830,
    "start_time": "2021-07-16T00:45:11.182Z"
   },
   {
    "duration": 50,
    "start_time": "2021-07-16T00:45:12.014Z"
   },
   {
    "duration": 36,
    "start_time": "2021-07-16T00:45:12.066Z"
   },
   {
    "duration": 2336,
    "start_time": "2021-07-16T00:45:12.105Z"
   },
   {
    "duration": 48,
    "start_time": "2021-07-16T00:45:14.444Z"
   },
   {
    "duration": 1948,
    "start_time": "2021-07-16T00:45:14.495Z"
   },
   {
    "duration": 1040,
    "start_time": "2021-07-16T00:45:16.445Z"
   },
   {
    "duration": 820,
    "start_time": "2021-07-16T00:47:12.093Z"
   },
   {
    "duration": 53,
    "start_time": "2021-07-16T00:47:12.916Z"
   },
   {
    "duration": 36,
    "start_time": "2021-07-16T00:47:12.972Z"
   },
   {
    "duration": 2363,
    "start_time": "2021-07-16T00:47:13.010Z"
   },
   {
    "duration": 45,
    "start_time": "2021-07-16T00:47:15.375Z"
   },
   {
    "duration": 1914,
    "start_time": "2021-07-16T00:47:15.423Z"
   },
   {
    "duration": 705,
    "start_time": "2021-07-16T00:47:17.340Z"
   },
   {
    "duration": 746,
    "start_time": "2021-07-16T00:47:48.122Z"
   },
   {
    "duration": 187,
    "start_time": "2021-07-16T00:49:24.431Z"
   },
   {
    "duration": 92,
    "start_time": "2021-07-16T00:50:19.662Z"
   },
   {
    "duration": 100,
    "start_time": "2021-07-16T00:50:29.383Z"
   },
   {
    "duration": 120,
    "start_time": "2021-07-16T00:50:42.746Z"
   },
   {
    "duration": 487,
    "start_time": "2021-07-16T00:55:47.458Z"
   },
   {
    "duration": 383,
    "start_time": "2021-07-16T00:55:57.051Z"
   },
   {
    "duration": 90,
    "start_time": "2021-07-16T00:57:00.997Z"
   },
   {
    "duration": 362,
    "start_time": "2021-07-16T00:57:17.640Z"
   },
   {
    "duration": 85,
    "start_time": "2021-07-16T00:57:26.976Z"
   },
   {
    "duration": 102,
    "start_time": "2021-07-16T00:59:37.161Z"
   },
   {
    "duration": 70,
    "start_time": "2021-07-16T01:00:56.506Z"
   },
   {
    "duration": 1418,
    "start_time": "2021-07-16T01:01:30.398Z"
   },
   {
    "duration": 1114,
    "start_time": "2021-07-16T01:01:51.812Z"
   },
   {
    "duration": 48,
    "start_time": "2021-07-16T01:01:52.929Z"
   },
   {
    "duration": 39,
    "start_time": "2021-07-16T01:01:52.980Z"
   },
   {
    "duration": 2366,
    "start_time": "2021-07-16T01:01:53.274Z"
   },
   {
    "duration": 51,
    "start_time": "2021-07-16T01:01:55.642Z"
   },
   {
    "duration": 1926,
    "start_time": "2021-07-16T01:01:55.695Z"
   },
   {
    "duration": 1900,
    "start_time": "2021-07-16T01:01:57.624Z"
   },
   {
    "duration": 364,
    "start_time": "2021-07-16T01:29:32.792Z"
   },
   {
    "duration": 295,
    "start_time": "2021-07-16T01:30:54.921Z"
   },
   {
    "duration": 294,
    "start_time": "2021-07-16T01:31:07.894Z"
   },
   {
    "duration": 87,
    "start_time": "2021-07-16T01:31:56.054Z"
   },
   {
    "duration": 94,
    "start_time": "2021-07-16T01:32:06.112Z"
   },
   {
    "duration": 99,
    "start_time": "2021-07-16T01:33:42.459Z"
   },
   {
    "duration": 100,
    "start_time": "2021-07-16T01:33:46.512Z"
   },
   {
    "duration": 95,
    "start_time": "2021-07-16T01:33:49.373Z"
   },
   {
    "duration": 676,
    "start_time": "2021-07-16T01:33:54.183Z"
   },
   {
    "duration": 312,
    "start_time": "2021-07-16T01:34:09.547Z"
   },
   {
    "duration": 290,
    "start_time": "2021-07-16T01:34:24.607Z"
   },
   {
    "duration": 299,
    "start_time": "2021-07-16T01:34:33.561Z"
   },
   {
    "duration": 99,
    "start_time": "2021-07-16T01:35:07.488Z"
   },
   {
    "duration": 87,
    "start_time": "2021-07-16T01:35:10.560Z"
   },
   {
    "duration": 455,
    "start_time": "2021-07-16T01:35:17.921Z"
   },
   {
    "duration": 91,
    "start_time": "2021-07-16T01:35:57.871Z"
   },
   {
    "duration": 92,
    "start_time": "2021-07-16T01:36:04.178Z"
   },
   {
    "duration": 296,
    "start_time": "2021-07-16T01:36:11.809Z"
   },
   {
    "duration": 309,
    "start_time": "2021-07-16T01:36:30.372Z"
   },
   {
    "duration": 431,
    "start_time": "2021-07-18T13:12:56.649Z"
   },
   {
    "duration": 900,
    "start_time": "2021-07-18T13:13:03.564Z"
   },
   {
    "duration": 44,
    "start_time": "2021-07-18T13:13:04.468Z"
   },
   {
    "duration": 57,
    "start_time": "2021-07-18T13:13:04.516Z"
   },
   {
    "duration": 2391,
    "start_time": "2021-07-18T13:13:04.576Z"
   },
   {
    "duration": 47,
    "start_time": "2021-07-18T13:13:06.969Z"
   },
   {
    "duration": 1999,
    "start_time": "2021-07-18T13:13:07.018Z"
   },
   {
    "duration": 1956,
    "start_time": "2021-07-18T13:13:09.019Z"
   },
   {
    "duration": 407,
    "start_time": "2021-07-18T13:13:10.978Z"
   },
   {
    "duration": 8,
    "start_time": "2021-07-18T13:24:07.428Z"
   },
   {
    "duration": 444,
    "start_time": "2021-07-18T13:24:17.062Z"
   },
   {
    "duration": 12,
    "start_time": "2021-07-18T13:24:35.843Z"
   },
   {
    "duration": 10,
    "start_time": "2021-07-18T13:26:14.537Z"
   },
   {
    "duration": 14,
    "start_time": "2021-07-18T13:26:21.731Z"
   },
   {
    "duration": 23,
    "start_time": "2021-07-18T13:28:22.554Z"
   },
   {
    "duration": 483,
    "start_time": "2021-07-18T13:28:55.861Z"
   },
   {
    "duration": 22,
    "start_time": "2021-07-18T13:29:07.735Z"
   },
   {
    "duration": 368,
    "start_time": "2021-07-18T13:29:18.825Z"
   },
   {
    "duration": 22,
    "start_time": "2021-07-18T13:29:21.883Z"
   },
   {
    "duration": 38,
    "start_time": "2021-07-18T13:32:23.324Z"
   },
   {
    "duration": 42,
    "start_time": "2021-07-18T13:32:42.275Z"
   },
   {
    "duration": 364,
    "start_time": "2021-07-18T13:33:27.439Z"
   },
   {
    "duration": 425,
    "start_time": "2021-07-18T13:33:34.475Z"
   },
   {
    "duration": 40,
    "start_time": "2021-07-18T13:33:37.871Z"
   },
   {
    "duration": 36,
    "start_time": "2021-07-18T13:34:19.005Z"
   },
   {
    "duration": 423,
    "start_time": "2021-07-18T13:34:36.358Z"
   },
   {
    "duration": 376,
    "start_time": "2021-07-18T13:34:39.352Z"
   },
   {
    "duration": 38,
    "start_time": "2021-07-18T13:34:48.901Z"
   },
   {
    "duration": 327,
    "start_time": "2021-07-18T13:35:59.742Z"
   },
   {
    "duration": 34,
    "start_time": "2021-07-18T13:38:27.602Z"
   },
   {
    "duration": 300,
    "start_time": "2021-07-18T13:38:33.679Z"
   },
   {
    "duration": 307,
    "start_time": "2021-07-18T13:39:22.138Z"
   },
   {
    "duration": 418,
    "start_time": "2021-07-18T13:41:55.110Z"
   },
   {
    "duration": 422,
    "start_time": "2021-07-18T13:41:59.927Z"
   },
   {
    "duration": 312,
    "start_time": "2021-07-18T13:42:04.593Z"
   },
   {
    "duration": 322,
    "start_time": "2021-07-18T13:42:11.064Z"
   },
   {
    "duration": 46,
    "start_time": "2021-07-18T13:45:20.450Z"
   },
   {
    "duration": 2303,
    "start_time": "2021-07-18T13:47:49.667Z"
   },
   {
    "duration": 38,
    "start_time": "2021-07-18T13:48:14.519Z"
   },
   {
    "duration": 52,
    "start_time": "2021-07-18T13:48:26.086Z"
   },
   {
    "duration": 359,
    "start_time": "2021-07-18T13:49:58.340Z"
   },
   {
    "duration": 56,
    "start_time": "2021-07-18T13:50:07.511Z"
   },
   {
    "duration": 634,
    "start_time": "2021-07-18T13:50:42.333Z"
   },
   {
    "duration": 55,
    "start_time": "2021-07-18T13:55:28.444Z"
   },
   {
    "duration": 24,
    "start_time": "2021-07-18T13:57:18.767Z"
   },
   {
    "duration": 411,
    "start_time": "2021-07-18T14:00:31.811Z"
   },
   {
    "duration": 357,
    "start_time": "2021-07-18T14:02:29.328Z"
   },
   {
    "duration": 9482,
    "start_time": "2021-07-18T14:03:03.746Z"
   },
   {
    "duration": 654,
    "start_time": "2021-07-18T14:03:27.367Z"
   },
   {
    "duration": 77,
    "start_time": "2021-07-18T14:04:00.669Z"
   },
   {
    "duration": 662,
    "start_time": "2021-07-18T14:04:25.144Z"
   },
   {
    "duration": 74,
    "start_time": "2021-07-18T14:04:34.980Z"
   },
   {
    "duration": 45,
    "start_time": "2021-07-18T14:06:11.877Z"
   },
   {
    "duration": 662,
    "start_time": "2021-07-18T14:06:29.069Z"
   },
   {
    "duration": 854,
    "start_time": "2021-07-18T14:06:43.102Z"
   },
   {
    "duration": 48,
    "start_time": "2021-07-18T14:06:43.959Z"
   },
   {
    "duration": 66,
    "start_time": "2021-07-18T14:06:44.012Z"
   },
   {
    "duration": 2469,
    "start_time": "2021-07-18T14:06:44.081Z"
   },
   {
    "duration": 52,
    "start_time": "2021-07-18T14:06:46.552Z"
   },
   {
    "duration": 2027,
    "start_time": "2021-07-18T14:06:46.606Z"
   },
   {
    "duration": 1925,
    "start_time": "2021-07-18T14:06:48.635Z"
   },
   {
    "duration": 388,
    "start_time": "2021-07-18T14:06:50.567Z"
   },
   {
    "duration": 330,
    "start_time": "2021-07-18T14:06:50.957Z"
   },
   {
    "duration": 44,
    "start_time": "2021-07-18T14:06:51.289Z"
   },
   {
    "duration": 790,
    "start_time": "2021-07-18T14:06:51.335Z"
   },
   {
    "duration": 624,
    "start_time": "2021-07-18T14:08:24.700Z"
   },
   {
    "duration": 602,
    "start_time": "2021-07-18T14:08:54.319Z"
   },
   {
    "duration": 2630,
    "start_time": "2021-07-18T14:10:13.012Z"
   },
   {
    "duration": 2338,
    "start_time": "2021-07-18T14:10:42.397Z"
   },
   {
    "duration": 2168,
    "start_time": "2021-07-18T14:11:03.592Z"
   },
   {
    "duration": 10938,
    "start_time": "2021-07-18T14:12:12.100Z"
   },
   {
    "duration": 10127,
    "start_time": "2021-07-18T14:12:24.177Z"
   },
   {
    "duration": 889,
    "start_time": "2021-07-18T14:13:15.698Z"
   },
   {
    "duration": 873,
    "start_time": "2021-07-18T14:13:37.813Z"
   },
   {
    "duration": -134520,
    "start_time": "2021-07-18T14:16:22.806Z"
   },
   {
    "duration": 29,
    "start_time": "2021-07-18T14:14:53.155Z"
   },
   {
    "duration": 66,
    "start_time": "2021-07-18T14:15:05.947Z"
   },
   {
    "duration": 903,
    "start_time": "2021-07-18T14:18:09.127Z"
   },
   {
    "duration": 72,
    "start_time": "2021-07-18T14:18:10.033Z"
   },
   {
    "duration": 38,
    "start_time": "2021-07-18T14:18:10.107Z"
   },
   {
    "duration": 2421,
    "start_time": "2021-07-18T14:18:10.148Z"
   },
   {
    "duration": 46,
    "start_time": "2021-07-18T14:18:12.572Z"
   },
   {
    "duration": 2041,
    "start_time": "2021-07-18T14:18:12.620Z"
   },
   {
    "duration": 2165,
    "start_time": "2021-07-18T14:18:14.667Z"
   },
   {
    "duration": 397,
    "start_time": "2021-07-18T14:18:16.835Z"
   },
   {
    "duration": 335,
    "start_time": "2021-07-18T14:18:17.235Z"
   },
   {
    "duration": 43,
    "start_time": "2021-07-18T14:18:17.572Z"
   },
   {
    "duration": 597,
    "start_time": "2021-07-18T14:18:17.618Z"
   },
   {
    "duration": 1646,
    "start_time": "2021-07-18T14:19:45.731Z"
   },
   {
    "duration": 1677,
    "start_time": "2021-07-18T14:20:31.980Z"
   },
   {
    "duration": 1721,
    "start_time": "2021-07-18T14:21:27.765Z"
   },
   {
    "duration": 1778,
    "start_time": "2021-07-18T14:21:49.400Z"
   },
   {
    "duration": 1808,
    "start_time": "2021-07-18T14:22:04.559Z"
   },
   {
    "duration": 1759,
    "start_time": "2021-07-18T14:22:15.142Z"
   },
   {
    "duration": 14810,
    "start_time": "2021-07-18T14:24:28.431Z"
   },
   {
    "duration": 28192,
    "start_time": "2021-07-18T14:24:59.558Z"
   },
   {
    "duration": 827,
    "start_time": "2021-07-18T14:29:23.873Z"
   },
   {
    "duration": 762,
    "start_time": "2021-07-18T14:30:02.380Z"
   },
   {
    "duration": 3037,
    "start_time": "2021-07-18T14:30:53.906Z"
   },
   {
    "duration": 2271,
    "start_time": "2021-07-18T14:31:09.628Z"
   },
   {
    "duration": 3327,
    "start_time": "2021-07-18T14:31:17.362Z"
   },
   {
    "duration": 2910,
    "start_time": "2021-07-18T14:31:41.103Z"
   },
   {
    "duration": 5341,
    "start_time": "2021-07-18T14:31:59.754Z"
   },
   {
    "duration": 5182,
    "start_time": "2021-07-18T14:34:43.676Z"
   },
   {
    "duration": 2112,
    "start_time": "2021-07-18T14:35:56.959Z"
   },
   {
    "duration": 929,
    "start_time": "2021-07-18T14:44:27.592Z"
   },
   {
    "duration": 78,
    "start_time": "2021-07-18T14:44:28.523Z"
   },
   {
    "duration": 36,
    "start_time": "2021-07-18T14:44:28.604Z"
   },
   {
    "duration": 2543,
    "start_time": "2021-07-18T14:44:28.643Z"
   },
   {
    "duration": 48,
    "start_time": "2021-07-18T14:44:31.189Z"
   },
   {
    "duration": 2106,
    "start_time": "2021-07-18T14:44:31.240Z"
   },
   {
    "duration": 2084,
    "start_time": "2021-07-18T14:44:33.349Z"
   },
   {
    "duration": 407,
    "start_time": "2021-07-18T14:44:35.438Z"
   },
   {
    "duration": 365,
    "start_time": "2021-07-18T14:44:35.848Z"
   },
   {
    "duration": 65,
    "start_time": "2021-07-18T14:44:36.216Z"
   },
   {
    "duration": 5250,
    "start_time": "2021-07-18T14:44:36.283Z"
   },
   {
    "duration": 5232,
    "start_time": "2021-07-18T14:44:41.536Z"
   },
   {
    "duration": 4410,
    "start_time": "2021-07-18T14:44:46.774Z"
   },
   {
    "duration": 5538,
    "start_time": "2021-07-18T14:44:51.188Z"
   },
   {
    "duration": 4710,
    "start_time": "2021-07-18T14:44:56.728Z"
   },
   {
    "duration": 5400,
    "start_time": "2021-07-18T14:45:01.441Z"
   },
   {
    "duration": 5581,
    "start_time": "2021-07-18T14:45:06.844Z"
   },
   {
    "duration": 4916,
    "start_time": "2021-07-18T14:45:12.429Z"
   },
   {
    "duration": 5112,
    "start_time": "2021-07-18T14:45:17.349Z"
   },
   {
    "duration": 5243,
    "start_time": "2021-07-18T14:45:22.464Z"
   },
   {
    "duration": 797,
    "start_time": "2021-07-19T20:27:08.307Z"
   },
   {
    "duration": 77,
    "start_time": "2021-07-19T20:27:09.106Z"
   },
   {
    "duration": 45,
    "start_time": "2021-07-19T20:27:09.187Z"
   },
   {
    "duration": 2388,
    "start_time": "2021-07-19T20:27:09.235Z"
   },
   {
    "duration": 56,
    "start_time": "2021-07-19T20:27:11.625Z"
   },
   {
    "duration": 1932,
    "start_time": "2021-07-19T20:27:11.683Z"
   },
   {
    "duration": 1997,
    "start_time": "2021-07-19T20:27:13.618Z"
   },
   {
    "duration": 376,
    "start_time": "2021-07-19T20:27:15.619Z"
   },
   {
    "duration": 321,
    "start_time": "2021-07-19T20:27:15.998Z"
   },
   {
    "duration": 61,
    "start_time": "2021-07-19T20:27:16.323Z"
   },
   {
    "duration": 4925,
    "start_time": "2021-07-19T20:27:16.387Z"
   },
   {
    "duration": 5155,
    "start_time": "2021-07-19T20:27:21.315Z"
   },
   {
    "duration": 4390,
    "start_time": "2021-07-19T20:27:26.474Z"
   },
   {
    "duration": 4838,
    "start_time": "2021-07-19T20:27:30.867Z"
   },
   {
    "duration": 4883,
    "start_time": "2021-07-19T20:27:35.708Z"
   },
   {
    "duration": 4678,
    "start_time": "2021-07-19T20:27:40.593Z"
   },
   {
    "duration": 4447,
    "start_time": "2021-07-19T20:27:45.273Z"
   },
   {
    "duration": 4222,
    "start_time": "2021-07-19T20:27:49.722Z"
   },
   {
    "duration": 4914,
    "start_time": "2021-07-19T20:27:53.946Z"
   },
   {
    "duration": 5098,
    "start_time": "2021-07-19T20:27:58.863Z"
   },
   {
    "duration": 4253,
    "start_time": "2021-07-19T20:28:03.963Z"
   },
   {
    "duration": 4443,
    "start_time": "2021-07-19T20:28:08.219Z"
   },
   {
    "duration": 866,
    "start_time": "2021-07-19T20:37:36.132Z"
   },
   {
    "duration": 63,
    "start_time": "2021-07-19T20:37:37.001Z"
   },
   {
    "duration": 36,
    "start_time": "2021-07-19T20:37:37.067Z"
   },
   {
    "duration": 2610,
    "start_time": "2021-07-19T20:37:37.106Z"
   },
   {
    "duration": 54,
    "start_time": "2021-07-19T20:37:39.718Z"
   },
   {
    "duration": 1941,
    "start_time": "2021-07-19T20:37:39.774Z"
   },
   {
    "duration": 2015,
    "start_time": "2021-07-19T20:37:41.717Z"
   },
   {
    "duration": 385,
    "start_time": "2021-07-19T20:37:43.736Z"
   },
   {
    "duration": 328,
    "start_time": "2021-07-19T20:37:44.124Z"
   },
   {
    "duration": 47,
    "start_time": "2021-07-19T20:37:44.455Z"
   },
   {
    "duration": 4750,
    "start_time": "2021-07-19T20:37:44.504Z"
   },
   {
    "duration": 4960,
    "start_time": "2021-07-19T20:37:49.257Z"
   },
   {
    "duration": 4400,
    "start_time": "2021-07-19T20:37:54.220Z"
   },
   {
    "duration": 4609,
    "start_time": "2021-07-19T20:37:58.622Z"
   },
   {
    "duration": 4596,
    "start_time": "2021-07-19T20:38:03.234Z"
   },
   {
    "duration": 4364,
    "start_time": "2021-07-19T20:38:07.832Z"
   },
   {
    "duration": 4531,
    "start_time": "2021-07-19T20:38:12.199Z"
   },
   {
    "duration": 4429,
    "start_time": "2021-07-19T20:38:16.733Z"
   },
   {
    "duration": 4831,
    "start_time": "2021-07-19T20:38:21.164Z"
   },
   {
    "duration": 5077,
    "start_time": "2021-07-19T20:38:25.998Z"
   },
   {
    "duration": 4180,
    "start_time": "2021-07-19T20:38:31.078Z"
   },
   {
    "duration": 4623,
    "start_time": "2021-07-19T20:38:35.261Z"
   },
   {
    "duration": 904,
    "start_time": "2021-07-19T21:10:02.091Z"
   },
   {
    "duration": 421,
    "start_time": "2021-07-19T21:10:19.342Z"
   },
   {
    "duration": 426,
    "start_time": "2021-07-19T21:12:29.266Z"
   },
   {
    "duration": 1379,
    "start_time": "2021-07-20T04:35:59.903Z"
   },
   {
    "duration": 69,
    "start_time": "2021-07-20T04:36:01.285Z"
   },
   {
    "duration": 43,
    "start_time": "2021-07-20T04:36:01.367Z"
   },
   {
    "duration": 1686,
    "start_time": "2021-07-20T04:36:01.413Z"
   },
   {
    "duration": 40,
    "start_time": "2021-07-20T04:36:03.102Z"
   },
   {
    "duration": 115033,
    "start_time": "2021-07-20T04:36:03.144Z"
   },
   {
    "duration": 2179,
    "start_time": "2021-07-20T04:37:58.179Z"
   },
   {
    "duration": 328,
    "start_time": "2021-07-20T04:38:00.366Z"
   },
   {
    "duration": 463,
    "start_time": "2021-07-20T04:38:00.698Z"
   },
   {
    "duration": 46,
    "start_time": "2021-07-20T04:38:01.167Z"
   },
   {
    "duration": 5071,
    "start_time": "2021-07-20T04:38:01.217Z"
   },
   {
    "duration": 5084,
    "start_time": "2021-07-20T04:38:06.291Z"
   },
   {
    "duration": 4352,
    "start_time": "2021-07-20T04:38:11.378Z"
   },
   {
    "duration": 4593,
    "start_time": "2021-07-20T04:38:15.732Z"
   },
   {
    "duration": 4591,
    "start_time": "2021-07-20T04:38:20.328Z"
   },
   {
    "duration": 4435,
    "start_time": "2021-07-20T04:38:24.921Z"
   },
   {
    "duration": 4563,
    "start_time": "2021-07-20T04:38:29.358Z"
   },
   {
    "duration": 4756,
    "start_time": "2021-07-20T04:38:33.923Z"
   },
   {
    "duration": 4914,
    "start_time": "2021-07-20T04:38:38.681Z"
   },
   {
    "duration": 5446,
    "start_time": "2021-07-20T04:38:43.597Z"
   },
   {
    "duration": 4311,
    "start_time": "2021-07-20T04:38:49.046Z"
   },
   {
    "duration": 4578,
    "start_time": "2021-07-20T04:38:53.367Z"
   },
   {
    "duration": 959,
    "start_time": "2021-07-20T14:04:46.380Z"
   },
   {
    "duration": 71,
    "start_time": "2021-07-20T14:04:47.342Z"
   },
   {
    "duration": 53,
    "start_time": "2021-07-20T14:04:47.417Z"
   },
   {
    "duration": 2531,
    "start_time": "2021-07-20T14:04:47.473Z"
   },
   {
    "duration": 61,
    "start_time": "2021-07-20T14:04:50.007Z"
   },
   {
    "duration": 2402,
    "start_time": "2021-07-20T14:04:50.071Z"
   },
   {
    "duration": 2492,
    "start_time": "2021-07-20T14:04:52.475Z"
   },
   {
    "duration": 378,
    "start_time": "2021-07-20T14:04:54.971Z"
   },
   {
    "duration": 518,
    "start_time": "2021-07-20T14:04:55.352Z"
   },
   {
    "duration": 61,
    "start_time": "2021-07-20T14:04:55.872Z"
   },
   {
    "duration": 5053,
    "start_time": "2021-07-20T14:04:55.936Z"
   },
   {
    "duration": 5435,
    "start_time": "2021-07-20T14:05:00.991Z"
   },
   {
    "duration": 4803,
    "start_time": "2021-07-20T14:05:06.428Z"
   },
   {
    "duration": 8142,
    "start_time": "2021-07-20T14:05:11.234Z"
   },
   {
    "duration": 8714,
    "start_time": "2021-07-20T14:05:19.379Z"
   },
   {
    "duration": 10576,
    "start_time": "2021-07-20T14:05:28.095Z"
   },
   {
    "duration": 9436,
    "start_time": "2021-07-20T14:05:38.674Z"
   },
   {
    "duration": 7068,
    "start_time": "2021-07-20T14:05:48.168Z"
   },
   {
    "duration": 5148,
    "start_time": "2021-07-20T14:05:55.240Z"
   },
   {
    "duration": 5251,
    "start_time": "2021-07-20T14:06:00.391Z"
   },
   {
    "duration": 4333,
    "start_time": "2021-07-20T14:06:05.645Z"
   },
   {
    "duration": 4516,
    "start_time": "2021-07-20T14:06:09.981Z"
   },
   {
    "duration": 797,
    "start_time": "2021-07-20T21:05:35.172Z"
   },
   {
    "duration": 72,
    "start_time": "2021-07-20T21:05:35.972Z"
   },
   {
    "duration": 45,
    "start_time": "2021-07-20T21:05:36.067Z"
   },
   {
    "duration": 1631,
    "start_time": "2021-07-20T21:05:36.115Z"
   },
   {
    "duration": 50,
    "start_time": "2021-07-20T21:05:37.749Z"
   },
   {
    "duration": 138015,
    "start_time": "2021-07-20T21:05:37.801Z"
   },
   {
    "duration": 2163,
    "start_time": "2021-07-20T21:07:55.819Z"
   },
   {
    "duration": 326,
    "start_time": "2021-07-20T21:07:57.985Z"
   },
   {
    "duration": 453,
    "start_time": "2021-07-20T21:07:58.314Z"
   },
   {
    "duration": 43,
    "start_time": "2021-07-20T21:07:58.769Z"
   },
   {
    "duration": 5185,
    "start_time": "2021-07-20T21:07:58.815Z"
   },
   {
    "duration": 5259,
    "start_time": "2021-07-20T21:08:04.003Z"
   },
   {
    "duration": 4470,
    "start_time": "2021-07-20T21:08:09.267Z"
   },
   {
    "duration": 4843,
    "start_time": "2021-07-20T21:08:13.740Z"
   },
   {
    "duration": 4736,
    "start_time": "2021-07-20T21:08:18.586Z"
   },
   {
    "duration": 4842,
    "start_time": "2021-07-20T21:08:23.325Z"
   },
   {
    "duration": 4449,
    "start_time": "2021-07-20T21:08:28.170Z"
   },
   {
    "duration": 4765,
    "start_time": "2021-07-20T21:08:32.622Z"
   },
   {
    "duration": 5096,
    "start_time": "2021-07-20T21:08:37.389Z"
   },
   {
    "duration": 5194,
    "start_time": "2021-07-20T21:08:42.487Z"
   },
   {
    "duration": 4401,
    "start_time": "2021-07-20T21:08:47.684Z"
   },
   {
    "duration": 4557,
    "start_time": "2021-07-20T21:08:52.087Z"
   },
   {
    "duration": 804,
    "start_time": "2021-07-20T23:41:16.206Z"
   },
   {
    "duration": 65,
    "start_time": "2021-07-20T23:41:17.013Z"
   },
   {
    "duration": 34,
    "start_time": "2021-07-20T23:41:17.081Z"
   },
   {
    "duration": 2459,
    "start_time": "2021-07-20T23:41:17.118Z"
   },
   {
    "duration": 44,
    "start_time": "2021-07-20T23:41:19.580Z"
   },
   {
    "duration": 1996,
    "start_time": "2021-07-20T23:41:19.627Z"
   },
   {
    "duration": 2074,
    "start_time": "2021-07-20T23:41:21.625Z"
   },
   {
    "duration": 395,
    "start_time": "2021-07-20T23:41:23.703Z"
   },
   {
    "duration": 502,
    "start_time": "2021-07-20T23:41:24.101Z"
   },
   {
    "duration": 70,
    "start_time": "2021-07-20T23:41:24.606Z"
   },
   {
    "duration": 4731,
    "start_time": "2021-07-20T23:41:24.679Z"
   },
   {
    "duration": 4828,
    "start_time": "2021-07-20T23:41:29.412Z"
   },
   {
    "duration": 4239,
    "start_time": "2021-07-20T23:41:34.243Z"
   },
   {
    "duration": 4458,
    "start_time": "2021-07-20T23:41:38.485Z"
   },
   {
    "duration": 4376,
    "start_time": "2021-07-20T23:41:42.945Z"
   },
   {
    "duration": 4118,
    "start_time": "2021-07-20T23:41:47.323Z"
   },
   {
    "duration": 4237,
    "start_time": "2021-07-20T23:41:51.443Z"
   },
   {
    "duration": 4249,
    "start_time": "2021-07-20T23:41:55.683Z"
   },
   {
    "duration": 4675,
    "start_time": "2021-07-20T23:41:59.934Z"
   },
   {
    "duration": 4958,
    "start_time": "2021-07-20T23:42:04.611Z"
   },
   {
    "duration": 4295,
    "start_time": "2021-07-20T23:42:09.571Z"
   },
   {
    "duration": 4396,
    "start_time": "2021-07-20T23:42:13.868Z"
   },
   {
    "duration": 4790,
    "start_time": "2021-07-21T05:04:52.039Z"
   },
   {
    "duration": 4898,
    "start_time": "2021-07-21T05:04:59.244Z"
   },
   {
    "duration": 347,
    "start_time": "2021-07-22T08:27:08.474Z"
   },
   {
    "duration": 918,
    "start_time": "2021-07-22T08:27:18.962Z"
   },
   {
    "duration": 76,
    "start_time": "2021-07-22T08:27:21.720Z"
   },
   {
    "duration": 122,
    "start_time": "2021-07-22T08:29:11.367Z"
   },
   {
    "duration": 24,
    "start_time": "2021-07-22T08:35:13.676Z"
   },
   {
    "duration": 26,
    "start_time": "2021-07-22T08:38:22.704Z"
   },
   {
    "duration": 30,
    "start_time": "2021-07-22T08:39:10.309Z"
   },
   {
    "duration": 2363,
    "start_time": "2021-07-22T08:40:14.562Z"
   },
   {
    "duration": 3896,
    "start_time": "2021-07-22T08:43:04.230Z"
   },
   {
    "duration": 34,
    "start_time": "2021-07-22T08:43:21.593Z"
   },
   {
    "duration": 955,
    "start_time": "2021-07-22T08:46:46.346Z"
   },
   {
    "duration": -139185,
    "start_time": "2021-07-22T08:49:06.490Z"
   },
   {
    "duration": -139185,
    "start_time": "2021-07-22T08:49:06.492Z"
   },
   {
    "duration": -139185,
    "start_time": "2021-07-22T08:49:06.493Z"
   },
   {
    "duration": -139189,
    "start_time": "2021-07-22T08:49:06.498Z"
   },
   {
    "duration": -139190,
    "start_time": "2021-07-22T08:49:06.500Z"
   },
   {
    "duration": -139189,
    "start_time": "2021-07-22T08:49:06.501Z"
   },
   {
    "duration": -139332,
    "start_time": "2021-07-22T08:49:06.645Z"
   },
   {
    "duration": -139335,
    "start_time": "2021-07-22T08:49:06.649Z"
   },
   {
    "duration": -139335,
    "start_time": "2021-07-22T08:49:06.651Z"
   },
   {
    "duration": -139335,
    "start_time": "2021-07-22T08:49:06.652Z"
   },
   {
    "duration": -139336,
    "start_time": "2021-07-22T08:49:06.654Z"
   },
   {
    "duration": -139336,
    "start_time": "2021-07-22T08:49:06.655Z"
   },
   {
    "duration": -139337,
    "start_time": "2021-07-22T08:49:06.657Z"
   },
   {
    "duration": -139336,
    "start_time": "2021-07-22T08:49:06.658Z"
   },
   {
    "duration": -139336,
    "start_time": "2021-07-22T08:49:06.659Z"
   },
   {
    "duration": -139337,
    "start_time": "2021-07-22T08:49:06.661Z"
   },
   {
    "duration": -139337,
    "start_time": "2021-07-22T08:49:06.662Z"
   },
   {
    "duration": -139483,
    "start_time": "2021-07-22T08:49:06.809Z"
   },
   {
    "duration": -139488,
    "start_time": "2021-07-22T08:49:06.816Z"
   },
   {
    "duration": -139489,
    "start_time": "2021-07-22T08:49:06.818Z"
   },
   {
    "duration": -139489,
    "start_time": "2021-07-22T08:49:06.819Z"
   },
   {
    "duration": -139490,
    "start_time": "2021-07-22T08:49:06.822Z"
   },
   {
    "duration": -139491,
    "start_time": "2021-07-22T08:49:06.824Z"
   },
   {
    "duration": 302,
    "start_time": "2021-07-22T08:46:55.068Z"
   },
   {
    "duration": 649,
    "start_time": "2021-07-22T08:47:04.509Z"
   },
   {
    "duration": 320,
    "start_time": "2021-07-22T08:47:10.433Z"
   },
   {
    "duration": 888,
    "start_time": "2021-07-22T08:47:34.580Z"
   },
   {
    "duration": 64,
    "start_time": "2021-07-22T08:47:35.470Z"
   },
   {
    "duration": 143,
    "start_time": "2021-07-22T08:47:35.537Z"
   },
   {
    "duration": 2389,
    "start_time": "2021-07-22T08:47:35.684Z"
   },
   {
    "duration": 34,
    "start_time": "2021-07-22T08:47:38.075Z"
   },
   {
    "duration": 96,
    "start_time": "2021-07-22T08:47:38.112Z"
   },
   {
    "duration": 54,
    "start_time": "2021-07-22T08:47:38.211Z"
   },
   {
    "duration": 2264,
    "start_time": "2021-07-22T08:47:38.270Z"
   },
   {
    "duration": 2680,
    "start_time": "2021-07-22T08:47:40.537Z"
   },
   {
    "duration": 451,
    "start_time": "2021-07-22T08:47:43.220Z"
   },
   {
    "duration": 505,
    "start_time": "2021-07-22T08:47:43.674Z"
   },
   {
    "duration": 51,
    "start_time": "2021-07-22T08:47:44.183Z"
   },
   {
    "duration": 5291,
    "start_time": "2021-07-22T08:47:44.236Z"
   },
   {
    "duration": 5274,
    "start_time": "2021-07-22T08:47:49.530Z"
   },
   {
    "duration": 4684,
    "start_time": "2021-07-22T08:47:54.807Z"
   },
   {
    "duration": 5194,
    "start_time": "2021-07-22T08:47:59.494Z"
   },
   {
    "duration": 4818,
    "start_time": "2021-07-22T08:48:04.690Z"
   },
   {
    "duration": 4711,
    "start_time": "2021-07-22T08:48:09.511Z"
   },
   {
    "duration": 4869,
    "start_time": "2021-07-22T08:48:14.224Z"
   },
   {
    "duration": 4619,
    "start_time": "2021-07-22T08:48:19.096Z"
   },
   {
    "duration": 5337,
    "start_time": "2021-07-22T08:48:23.717Z"
   },
   {
    "duration": 5476,
    "start_time": "2021-07-22T08:48:29.057Z"
   },
   {
    "duration": 4589,
    "start_time": "2021-07-22T08:48:34.539Z"
   },
   {
    "duration": 4886,
    "start_time": "2021-07-22T08:48:39.130Z"
   },
   {
    "duration": 411,
    "start_time": "2021-07-22T08:50:52.466Z"
   },
   {
    "duration": 16,
    "start_time": "2021-07-22T08:51:17.216Z"
   },
   {
    "duration": 6,
    "start_time": "2021-07-22T08:51:35.192Z"
   },
   {
    "duration": 6,
    "start_time": "2021-07-22T08:51:49.409Z"
   },
   {
    "duration": 7861,
    "start_time": "2021-07-22T09:17:21.719Z"
   },
   {
    "duration": 49,
    "start_time": "2021-07-22T09:17:33.308Z"
   },
   {
    "duration": 288,
    "start_time": "2021-07-22T09:18:06.542Z"
   },
   {
    "duration": 289,
    "start_time": "2021-07-22T09:18:16.904Z"
   },
   {
    "duration": 308,
    "start_time": "2021-07-22T09:18:24.188Z"
   },
   {
    "duration": 10,
    "start_time": "2021-07-22T09:18:31.961Z"
   },
   {
    "duration": 43,
    "start_time": "2021-07-22T09:18:40.004Z"
   },
   {
    "duration": 55,
    "start_time": "2021-07-22T09:18:55.854Z"
   },
   {
    "duration": 56,
    "start_time": "2021-07-22T09:19:17.438Z"
   },
   {
    "duration": 35,
    "start_time": "2021-07-22T09:19:26.803Z"
   },
   {
    "duration": 66,
    "start_time": "2021-07-22T09:20:30.312Z"
   },
   {
    "duration": 1321,
    "start_time": "2021-07-22T09:23:19.764Z"
   },
   {
    "duration": 1359,
    "start_time": "2021-07-22T09:23:30.797Z"
   },
   {
    "duration": 58,
    "start_time": "2021-07-22T09:23:54.743Z"
   },
   {
    "duration": 311,
    "start_time": "2021-07-22T09:25:01.793Z"
   },
   {
    "duration": 62,
    "start_time": "2021-07-22T09:25:09.638Z"
   },
   {
    "duration": 632,
    "start_time": "2021-07-22T09:25:45.691Z"
   },
   {
    "duration": 231,
    "start_time": "2021-07-22T09:25:49.546Z"
   },
   {
    "duration": 871,
    "start_time": "2021-07-22T09:27:07.069Z"
   },
   {
    "duration": 76,
    "start_time": "2021-07-22T09:27:07.943Z"
   },
   {
    "duration": 134,
    "start_time": "2021-07-22T09:27:08.022Z"
   },
   {
    "duration": 2426,
    "start_time": "2021-07-22T09:27:08.160Z"
   },
   {
    "duration": 399,
    "start_time": "2021-07-22T09:27:10.589Z"
   },
   {
    "duration": -138792,
    "start_time": "2021-07-22T09:29:29.783Z"
   },
   {
    "duration": -138792,
    "start_time": "2021-07-22T09:29:29.785Z"
   },
   {
    "duration": -138953,
    "start_time": "2021-07-22T09:29:29.947Z"
   },
   {
    "duration": -138955,
    "start_time": "2021-07-22T09:29:29.951Z"
   },
   {
    "duration": -138955,
    "start_time": "2021-07-22T09:29:29.952Z"
   },
   {
    "duration": -138955,
    "start_time": "2021-07-22T09:29:29.954Z"
   },
   {
    "duration": -138956,
    "start_time": "2021-07-22T09:29:29.956Z"
   },
   {
    "duration": -138956,
    "start_time": "2021-07-22T09:29:29.957Z"
   },
   {
    "duration": -138956,
    "start_time": "2021-07-22T09:29:29.959Z"
   },
   {
    "duration": -138959,
    "start_time": "2021-07-22T09:29:29.963Z"
   },
   {
    "duration": -138959,
    "start_time": "2021-07-22T09:29:29.965Z"
   },
   {
    "duration": -138959,
    "start_time": "2021-07-22T09:29:29.966Z"
   },
   {
    "duration": -138959,
    "start_time": "2021-07-22T09:29:29.967Z"
   },
   {
    "duration": -138958,
    "start_time": "2021-07-22T09:29:29.968Z"
   },
   {
    "duration": -138959,
    "start_time": "2021-07-22T09:29:29.970Z"
   },
   {
    "duration": -138960,
    "start_time": "2021-07-22T09:29:29.972Z"
   },
   {
    "duration": -138960,
    "start_time": "2021-07-22T09:29:29.973Z"
   },
   {
    "duration": -138959,
    "start_time": "2021-07-22T09:29:29.974Z"
   },
   {
    "duration": -138960,
    "start_time": "2021-07-22T09:29:29.976Z"
   },
   {
    "duration": 162,
    "start_time": "2021-07-22T09:27:19.134Z"
   },
   {
    "duration": 852,
    "start_time": "2021-07-22T09:28:14.495Z"
   },
   {
    "duration": 71,
    "start_time": "2021-07-22T09:28:15.350Z"
   },
   {
    "duration": 138,
    "start_time": "2021-07-22T09:28:15.423Z"
   },
   {
    "duration": 2485,
    "start_time": "2021-07-22T09:28:15.565Z"
   },
   {
    "duration": 39,
    "start_time": "2021-07-22T09:28:18.052Z"
   },
   {
    "duration": 101,
    "start_time": "2021-07-22T09:28:18.094Z"
   },
   {
    "duration": 42,
    "start_time": "2021-07-22T09:28:18.197Z"
   },
   {
    "duration": 2180,
    "start_time": "2021-07-22T09:28:18.243Z"
   },
   {
    "duration": 2362,
    "start_time": "2021-07-22T09:28:20.426Z"
   },
   {
    "duration": 488,
    "start_time": "2021-07-22T09:28:22.790Z"
   },
   {
    "duration": 464,
    "start_time": "2021-07-22T09:28:23.281Z"
   },
   {
    "duration": 52,
    "start_time": "2021-07-22T09:28:23.748Z"
   },
   {
    "duration": 5164,
    "start_time": "2021-07-22T09:28:23.802Z"
   },
   {
    "duration": 5162,
    "start_time": "2021-07-22T09:28:28.969Z"
   },
   {
    "duration": 4448,
    "start_time": "2021-07-22T09:28:34.133Z"
   },
   {
    "duration": 5040,
    "start_time": "2021-07-22T09:28:38.583Z"
   },
   {
    "duration": 4539,
    "start_time": "2021-07-22T09:28:43.626Z"
   },
   {
    "duration": 4329,
    "start_time": "2021-07-22T09:28:48.169Z"
   },
   {
    "duration": 4588,
    "start_time": "2021-07-22T09:28:52.500Z"
   },
   {
    "duration": 4618,
    "start_time": "2021-07-22T09:28:57.091Z"
   },
   {
    "duration": 5227,
    "start_time": "2021-07-22T09:29:01.711Z"
   },
   {
    "duration": 5386,
    "start_time": "2021-07-22T09:29:06.954Z"
   },
   {
    "duration": 4569,
    "start_time": "2021-07-22T09:29:12.344Z"
   },
   {
    "duration": 4666,
    "start_time": "2021-07-22T09:29:16.916Z"
   },
   {
    "duration": 574,
    "start_time": "2021-07-22T09:30:22.672Z"
   },
   {
    "duration": 105,
    "start_time": "2021-07-22T09:30:41.367Z"
   },
   {
    "duration": 8,
    "start_time": "2021-07-22T09:30:45.298Z"
   },
   {
    "duration": 8,
    "start_time": "2021-07-22T09:30:52.212Z"
   },
   {
    "duration": 60,
    "start_time": "2021-07-22T09:30:54.221Z"
   },
   {
    "duration": 913,
    "start_time": "2021-07-22T09:32:30.415Z"
   },
   {
    "duration": 72,
    "start_time": "2021-07-22T09:32:31.331Z"
   },
   {
    "duration": 137,
    "start_time": "2021-07-22T09:32:31.406Z"
   },
   {
    "duration": 2461,
    "start_time": "2021-07-22T09:32:31.546Z"
   },
   {
    "duration": 62,
    "start_time": "2021-07-22T09:32:34.009Z"
   },
   {
    "duration": 68,
    "start_time": "2021-07-22T09:32:34.074Z"
   },
   {
    "duration": 61,
    "start_time": "2021-07-22T09:32:34.144Z"
   },
   {
    "duration": 2165,
    "start_time": "2021-07-22T09:32:34.210Z"
   },
   {
    "duration": 2310,
    "start_time": "2021-07-22T09:32:36.378Z"
   },
   {
    "duration": 438,
    "start_time": "2021-07-22T09:32:38.691Z"
   },
   {
    "duration": 479,
    "start_time": "2021-07-22T09:32:39.131Z"
   },
   {
    "duration": 62,
    "start_time": "2021-07-22T09:32:39.612Z"
   },
   {
    "duration": 5254,
    "start_time": "2021-07-22T09:32:39.677Z"
   },
   {
    "duration": 5378,
    "start_time": "2021-07-22T09:32:44.934Z"
   },
   {
    "duration": 4615,
    "start_time": "2021-07-22T09:32:50.314Z"
   },
   {
    "duration": 4893,
    "start_time": "2021-07-22T09:32:54.932Z"
   },
   {
    "duration": 4567,
    "start_time": "2021-07-22T09:32:59.828Z"
   },
   {
    "duration": 4465,
    "start_time": "2021-07-22T09:33:04.397Z"
   },
   {
    "duration": 4672,
    "start_time": "2021-07-22T09:33:08.864Z"
   },
   {
    "duration": 4623,
    "start_time": "2021-07-22T09:33:13.539Z"
   },
   {
    "duration": 5093,
    "start_time": "2021-07-22T09:33:18.165Z"
   },
   {
    "duration": 5410,
    "start_time": "2021-07-22T09:33:23.262Z"
   },
   {
    "duration": 4502,
    "start_time": "2021-07-22T09:33:28.676Z"
   },
   {
    "duration": 4741,
    "start_time": "2021-07-22T09:33:33.181Z"
   },
   {
    "duration": 301,
    "start_time": "2021-07-22T09:39:18.690Z"
   },
   {
    "duration": 299,
    "start_time": "2021-07-22T09:39:26.834Z"
   },
   {
    "duration": 301,
    "start_time": "2021-07-22T09:39:35.575Z"
   },
   {
    "duration": 848,
    "start_time": "2021-07-22T09:42:56.089Z"
   },
   {
    "duration": 68,
    "start_time": "2021-07-22T09:42:56.940Z"
   },
   {
    "duration": 139,
    "start_time": "2021-07-22T09:42:57.011Z"
   },
   {
    "duration": 2263,
    "start_time": "2021-07-22T09:42:57.154Z"
   },
   {
    "duration": 50,
    "start_time": "2021-07-22T09:42:59.419Z"
   },
   {
    "duration": 86,
    "start_time": "2021-07-22T09:42:59.472Z"
   },
   {
    "duration": 45,
    "start_time": "2021-07-22T09:42:59.561Z"
   },
   {
    "duration": 2051,
    "start_time": "2021-07-22T09:42:59.610Z"
   },
   {
    "duration": 2145,
    "start_time": "2021-07-22T09:43:01.665Z"
   },
   {
    "duration": 408,
    "start_time": "2021-07-22T09:43:03.813Z"
   },
   {
    "duration": 438,
    "start_time": "2021-07-22T09:43:04.223Z"
   },
   {
    "duration": 49,
    "start_time": "2021-07-22T09:43:04.663Z"
   },
   {
    "duration": 5184,
    "start_time": "2021-07-22T09:43:04.714Z"
   },
   {
    "duration": 4956,
    "start_time": "2021-07-22T09:43:09.901Z"
   },
   {
    "duration": 4280,
    "start_time": "2021-07-22T09:43:14.860Z"
   },
   {
    "duration": 4782,
    "start_time": "2021-07-22T09:43:19.143Z"
   },
   {
    "duration": 4440,
    "start_time": "2021-07-22T09:43:23.927Z"
   },
   {
    "duration": 4248,
    "start_time": "2021-07-22T09:43:28.369Z"
   },
   {
    "duration": 4438,
    "start_time": "2021-07-22T09:43:32.620Z"
   },
   {
    "duration": 4367,
    "start_time": "2021-07-22T09:43:37.061Z"
   },
   {
    "duration": 4936,
    "start_time": "2021-07-22T09:43:41.430Z"
   },
   {
    "duration": 5260,
    "start_time": "2021-07-22T09:43:46.369Z"
   },
   {
    "duration": 4523,
    "start_time": "2021-07-22T09:43:51.634Z"
   },
   {
    "duration": 4839,
    "start_time": "2021-07-22T09:43:56.160Z"
   },
   {
    "duration": 605,
    "start_time": "2021-07-22T09:46:38.257Z"
   },
   {
    "duration": 7475,
    "start_time": "2021-07-22T09:46:44.613Z"
   },
   {
    "duration": 7456,
    "start_time": "2021-07-22T09:47:00.884Z"
   },
   {
    "duration": 818,
    "start_time": "2021-07-22T09:47:17.481Z"
   },
   {
    "duration": 67,
    "start_time": "2021-07-22T09:47:18.302Z"
   },
   {
    "duration": 129,
    "start_time": "2021-07-22T09:47:18.371Z"
   },
   {
    "duration": 2251,
    "start_time": "2021-07-22T09:47:18.503Z"
   },
   {
    "duration": 37,
    "start_time": "2021-07-22T09:47:20.756Z"
   },
   {
    "duration": 94,
    "start_time": "2021-07-22T09:47:20.795Z"
   },
   {
    "duration": 41,
    "start_time": "2021-07-22T09:47:20.891Z"
   },
   {
    "duration": 7384,
    "start_time": "2021-07-22T09:47:20.936Z"
   },
   {
    "duration": 2048,
    "start_time": "2021-07-22T09:47:28.323Z"
   },
   {
    "duration": 2222,
    "start_time": "2021-07-22T09:47:30.374Z"
   },
   {
    "duration": 326,
    "start_time": "2021-07-22T09:47:32.599Z"
   },
   {
    "duration": 457,
    "start_time": "2021-07-22T09:47:32.928Z"
   },
   {
    "duration": 47,
    "start_time": "2021-07-22T09:47:33.387Z"
   },
   {
    "duration": 5104,
    "start_time": "2021-07-22T09:47:33.455Z"
   },
   {
    "duration": 5452,
    "start_time": "2021-07-22T09:47:38.561Z"
   },
   {
    "duration": 4325,
    "start_time": "2021-07-22T09:47:44.015Z"
   },
   {
    "duration": 4632,
    "start_time": "2021-07-22T09:47:48.343Z"
   },
   {
    "duration": 4880,
    "start_time": "2021-07-22T09:47:52.977Z"
   },
   {
    "duration": 4475,
    "start_time": "2021-07-22T09:47:57.860Z"
   },
   {
    "duration": 4253,
    "start_time": "2021-07-22T09:48:02.337Z"
   },
   {
    "duration": 4508,
    "start_time": "2021-07-22T09:48:06.593Z"
   },
   {
    "duration": 4868,
    "start_time": "2021-07-22T09:48:11.103Z"
   },
   {
    "duration": 5204,
    "start_time": "2021-07-22T09:48:15.975Z"
   },
   {
    "duration": 4344,
    "start_time": "2021-07-22T09:48:21.182Z"
   },
   {
    "duration": 4845,
    "start_time": "2021-07-22T09:48:25.529Z"
   },
   {
    "duration": 100,
    "start_time": "2021-07-22T09:49:22.336Z"
   },
   {
    "duration": 679,
    "start_time": "2021-07-22T09:49:24.067Z"
   },
   {
    "duration": 690,
    "start_time": "2021-07-22T09:49:40.439Z"
   },
   {
    "duration": 799,
    "start_time": "2021-07-22T09:50:22.865Z"
   },
   {
    "duration": 154,
    "start_time": "2021-07-22T09:53:37.194Z"
   },
   {
    "duration": 7609,
    "start_time": "2021-07-22T09:53:43.271Z"
   },
   {
    "duration": 571,
    "start_time": "2021-07-22T09:55:29.497Z"
   },
   {
    "duration": 91,
    "start_time": "2021-07-22T09:57:50.132Z"
   },
   {
    "duration": 860,
    "start_time": "2021-07-22T09:57:55.424Z"
   },
   {
    "duration": 100,
    "start_time": "2021-07-22T09:59:23.293Z"
   },
   {
    "duration": 510,
    "start_time": "2021-07-22T09:59:32.435Z"
   },
   {
    "duration": 7735,
    "start_time": "2021-07-22T10:00:53.088Z"
   },
   {
    "duration": -138728,
    "start_time": "2021-07-22T10:04:20.065Z"
   },
   {
    "duration": 287,
    "start_time": "2021-07-22T10:02:02.978Z"
   },
   {
    "duration": 91,
    "start_time": "2021-07-22T10:04:17.320Z"
   },
   {
    "duration": 516,
    "start_time": "2021-07-22T10:04:22.386Z"
   },
   {
    "duration": 802,
    "start_time": "2021-07-22T10:04:30.296Z"
   },
   {
    "duration": 541,
    "start_time": "2021-07-22T10:04:39.121Z"
   },
   {
    "duration": 510,
    "start_time": "2021-07-22T10:05:26.875Z"
   },
   {
    "duration": 276,
    "start_time": "2021-07-22T10:05:55.438Z"
   },
   {
    "duration": 106,
    "start_time": "2021-07-22T10:07:37.662Z"
   },
   {
    "duration": 93,
    "start_time": "2021-07-22T10:07:39.067Z"
   },
   {
    "duration": 732,
    "start_time": "2021-07-22T10:07:40.366Z"
   },
   {
    "duration": 517,
    "start_time": "2021-07-22T10:07:52.963Z"
   },
   {
    "duration": 538,
    "start_time": "2021-07-22T10:08:35.023Z"
   },
   {
    "duration": 742,
    "start_time": "2021-07-22T10:08:41.100Z"
   },
   {
    "duration": 866,
    "start_time": "2021-07-22T10:09:33.237Z"
   },
   {
    "duration": 67,
    "start_time": "2021-07-22T10:09:34.105Z"
   },
   {
    "duration": 157,
    "start_time": "2021-07-22T10:09:34.175Z"
   },
   {
    "duration": 2495,
    "start_time": "2021-07-22T10:09:34.335Z"
   },
   {
    "duration": 42,
    "start_time": "2021-07-22T10:09:36.832Z"
   },
   {
    "duration": 83,
    "start_time": "2021-07-22T10:09:36.876Z"
   },
   {
    "duration": 671,
    "start_time": "2021-07-22T10:09:36.961Z"
   },
   {
    "duration": -138711,
    "start_time": "2021-07-22T10:11:56.347Z"
   },
   {
    "duration": -138711,
    "start_time": "2021-07-22T10:11:56.349Z"
   },
   {
    "duration": -138710,
    "start_time": "2021-07-22T10:11:56.350Z"
   },
   {
    "duration": -138874,
    "start_time": "2021-07-22T10:11:56.516Z"
   },
   {
    "duration": -138874,
    "start_time": "2021-07-22T10:11:56.518Z"
   },
   {
    "duration": -138873,
    "start_time": "2021-07-22T10:11:56.520Z"
   },
   {
    "duration": -138873,
    "start_time": "2021-07-22T10:11:56.522Z"
   },
   {
    "duration": -138873,
    "start_time": "2021-07-22T10:11:56.524Z"
   },
   {
    "duration": -138871,
    "start_time": "2021-07-22T10:11:56.525Z"
   },
   {
    "duration": -138870,
    "start_time": "2021-07-22T10:11:56.526Z"
   },
   {
    "duration": -138873,
    "start_time": "2021-07-22T10:11:56.531Z"
   },
   {
    "duration": -138872,
    "start_time": "2021-07-22T10:11:56.533Z"
   },
   {
    "duration": -138871,
    "start_time": "2021-07-22T10:11:56.534Z"
   },
   {
    "duration": -138871,
    "start_time": "2021-07-22T10:11:56.536Z"
   },
   {
    "duration": -138869,
    "start_time": "2021-07-22T10:11:56.537Z"
   },
   {
    "duration": -138869,
    "start_time": "2021-07-22T10:11:56.539Z"
   },
   {
    "duration": -138868,
    "start_time": "2021-07-22T10:11:56.540Z"
   },
   {
    "duration": 93,
    "start_time": "2021-07-22T10:09:58.556Z"
   },
   {
    "duration": 7190,
    "start_time": "2021-07-22T10:10:01.291Z"
   },
   {
    "duration": 7389,
    "start_time": "2021-07-22T10:10:17.560Z"
   },
   {
    "duration": 877,
    "start_time": "2021-07-22T10:12:08.094Z"
   },
   {
    "duration": 7124,
    "start_time": "2021-07-22T10:12:37.847Z"
   },
   {
    "duration": 3,
    "start_time": "2021-07-22T10:22:41.063Z"
   },
   {
    "duration": 100,
    "start_time": "2021-07-22T10:24:23.662Z"
   },
   {
    "duration": 66,
    "start_time": "2021-07-22T10:25:07.394Z"
   },
   {
    "duration": 117,
    "start_time": "2021-07-22T10:25:31.047Z"
   },
   {
    "duration": 821,
    "start_time": "2021-07-22T10:31:01.101Z"
   },
   {
    "duration": 79,
    "start_time": "2021-07-22T10:31:01.925Z"
   },
   {
    "duration": 131,
    "start_time": "2021-07-22T10:31:02.008Z"
   },
   {
    "duration": 2221,
    "start_time": "2021-07-22T10:31:02.142Z"
   },
   {
    "duration": 35,
    "start_time": "2021-07-22T10:31:04.366Z"
   },
   {
    "duration": 131,
    "start_time": "2021-07-22T10:31:04.403Z"
   },
   {
    "duration": 2023,
    "start_time": "2021-07-22T10:31:04.536Z"
   },
   {
    "duration": 2143,
    "start_time": "2021-07-22T10:31:06.563Z"
   },
   {
    "duration": 383,
    "start_time": "2021-07-22T10:31:08.709Z"
   },
   {
    "duration": 443,
    "start_time": "2021-07-22T10:31:09.094Z"
   },
   {
    "duration": 57,
    "start_time": "2021-07-22T10:31:09.539Z"
   },
   {
    "duration": 4778,
    "start_time": "2021-07-22T10:31:09.598Z"
   },
   {
    "duration": 4892,
    "start_time": "2021-07-22T10:31:14.378Z"
   },
   {
    "duration": 4274,
    "start_time": "2021-07-22T10:31:19.274Z"
   },
   {
    "duration": 4556,
    "start_time": "2021-07-22T10:31:23.550Z"
   },
   {
    "duration": 4406,
    "start_time": "2021-07-22T10:31:28.108Z"
   },
   {
    "duration": 4339,
    "start_time": "2021-07-22T10:31:32.517Z"
   },
   {
    "duration": 4456,
    "start_time": "2021-07-22T10:31:36.859Z"
   },
   {
    "duration": 4475,
    "start_time": "2021-07-22T10:31:41.318Z"
   },
   {
    "duration": 4886,
    "start_time": "2021-07-22T10:31:45.796Z"
   },
   {
    "duration": 5060,
    "start_time": "2021-07-22T10:31:50.685Z"
   },
   {
    "duration": 4337,
    "start_time": "2021-07-22T10:31:55.748Z"
   },
   {
    "duration": 4496,
    "start_time": "2021-07-22T10:32:00.089Z"
   },
   {
    "duration": 2030,
    "start_time": "2021-07-22T10:32:43.726Z"
   },
   {
    "duration": 2142,
    "start_time": "2021-07-22T10:34:58.812Z"
   },
   {
    "duration": 123,
    "start_time": "2021-07-22T10:35:44.293Z"
   },
   {
    "duration": 121,
    "start_time": "2021-07-22T10:35:48.074Z"
   },
   {
    "duration": 285,
    "start_time": "2021-07-22T10:35:54.849Z"
   },
   {
    "duration": 864,
    "start_time": "2021-07-22T10:36:10.873Z"
   },
   {
    "duration": 68,
    "start_time": "2021-07-22T10:36:11.739Z"
   },
   {
    "duration": 137,
    "start_time": "2021-07-22T10:36:11.810Z"
   },
   {
    "duration": 2432,
    "start_time": "2021-07-22T10:36:11.954Z"
   },
   {
    "duration": 34,
    "start_time": "2021-07-22T10:36:14.388Z"
   },
   {
    "duration": 131,
    "start_time": "2021-07-22T10:36:14.425Z"
   },
   {
    "duration": 2445,
    "start_time": "2021-07-22T10:36:14.558Z"
   },
   {
    "duration": -139321,
    "start_time": "2021-07-22T10:38:36.327Z"
   },
   {
    "duration": -139328,
    "start_time": "2021-07-22T10:38:36.336Z"
   },
   {
    "duration": -139330,
    "start_time": "2021-07-22T10:38:36.339Z"
   },
   {
    "duration": -139330,
    "start_time": "2021-07-22T10:38:36.341Z"
   },
   {
    "duration": -139333,
    "start_time": "2021-07-22T10:38:36.345Z"
   },
   {
    "duration": -139334,
    "start_time": "2021-07-22T10:38:36.348Z"
   },
   {
    "duration": -139337,
    "start_time": "2021-07-22T10:38:36.352Z"
   },
   {
    "duration": -139336,
    "start_time": "2021-07-22T10:38:36.353Z"
   },
   {
    "duration": -139336,
    "start_time": "2021-07-22T10:38:36.354Z"
   },
   {
    "duration": -139337,
    "start_time": "2021-07-22T10:38:36.356Z"
   },
   {
    "duration": -139338,
    "start_time": "2021-07-22T10:38:36.358Z"
   },
   {
    "duration": -139339,
    "start_time": "2021-07-22T10:38:36.361Z"
   },
   {
    "duration": -139340,
    "start_time": "2021-07-22T10:38:36.363Z"
   },
   {
    "duration": -139428,
    "start_time": "2021-07-22T10:38:36.482Z"
   },
   {
    "duration": -139430,
    "start_time": "2021-07-22T10:38:36.485Z"
   },
   {
    "duration": -139429,
    "start_time": "2021-07-22T10:38:36.486Z"
   },
   {
    "duration": 126,
    "start_time": "2021-07-22T10:37:07.145Z"
   },
   {
    "duration": 300,
    "start_time": "2021-07-22T10:37:14.375Z"
   },
   {
    "duration": 293,
    "start_time": "2021-07-22T10:37:34.990Z"
   },
   {
    "duration": 1395,
    "start_time": "2021-07-22T10:38:26.310Z"
   },
   {
    "duration": 284,
    "start_time": "2021-07-22T10:38:52.323Z"
   },
   {
    "duration": 282,
    "start_time": "2021-07-22T10:39:03.888Z"
   },
   {
    "duration": 953,
    "start_time": "2021-07-22T10:39:17.070Z"
   },
   {
    "duration": 65,
    "start_time": "2021-07-22T10:39:18.025Z"
   },
   {
    "duration": 138,
    "start_time": "2021-07-22T10:39:18.093Z"
   },
   {
    "duration": 2280,
    "start_time": "2021-07-22T10:39:18.234Z"
   },
   {
    "duration": 43,
    "start_time": "2021-07-22T10:39:20.516Z"
   },
   {
    "duration": 130,
    "start_time": "2021-07-22T10:39:20.562Z"
   },
   {
    "duration": 1924,
    "start_time": "2021-07-22T10:39:20.694Z"
   },
   {
    "duration": 2171,
    "start_time": "2021-07-22T10:39:22.622Z"
   },
   {
    "duration": 315,
    "start_time": "2021-07-22T10:39:24.796Z"
   },
   {
    "duration": 501,
    "start_time": "2021-07-22T10:39:25.113Z"
   },
   {
    "duration": 60,
    "start_time": "2021-07-22T10:39:25.617Z"
   },
   {
    "duration": 4978,
    "start_time": "2021-07-22T10:39:25.680Z"
   },
   {
    "duration": 5045,
    "start_time": "2021-07-22T10:39:30.661Z"
   },
   {
    "duration": 4631,
    "start_time": "2021-07-22T10:39:35.710Z"
   },
   {
    "duration": 4748,
    "start_time": "2021-07-22T10:39:40.344Z"
   },
   {
    "duration": 4463,
    "start_time": "2021-07-22T10:39:45.094Z"
   },
   {
    "duration": 4413,
    "start_time": "2021-07-22T10:39:49.559Z"
   },
   {
    "duration": 4379,
    "start_time": "2021-07-22T10:39:53.975Z"
   },
   {
    "duration": 4597,
    "start_time": "2021-07-22T10:39:58.357Z"
   },
   {
    "duration": 4878,
    "start_time": "2021-07-22T10:40:02.957Z"
   },
   {
    "duration": 4831,
    "start_time": "2021-07-22T10:40:07.837Z"
   },
   {
    "duration": 4801,
    "start_time": "2021-07-22T10:40:12.671Z"
   },
   {
    "duration": 5120,
    "start_time": "2021-07-22T10:40:17.478Z"
   },
   {
    "duration": 2306,
    "start_time": "2021-07-22T10:40:22.601Z"
   },
   {
    "duration": 452,
    "start_time": "2021-07-22T10:40:24.910Z"
   },
   {
    "duration": 416,
    "start_time": "2021-07-22T10:42:05.208Z"
   },
   {
    "duration": 432,
    "start_time": "2021-07-22T10:42:18.319Z"
   },
   {
    "duration": 1901,
    "start_time": "2021-07-22T10:43:23.356Z"
   },
   {
    "duration": 337,
    "start_time": "2021-07-23T02:08:35.406Z"
   },
   {
    "duration": 900,
    "start_time": "2021-07-23T02:08:42.570Z"
   },
   {
    "duration": 57,
    "start_time": "2021-07-23T02:08:43.473Z"
   },
   {
    "duration": 131,
    "start_time": "2021-07-23T02:08:43.533Z"
   },
   {
    "duration": 2200,
    "start_time": "2021-07-23T02:08:43.666Z"
   },
   {
    "duration": 34,
    "start_time": "2021-07-23T02:08:45.868Z"
   },
   {
    "duration": 123,
    "start_time": "2021-07-23T02:08:45.904Z"
   },
   {
    "duration": 1844,
    "start_time": "2021-07-23T02:08:46.029Z"
   },
   {
    "duration": 2011,
    "start_time": "2021-07-23T02:08:47.876Z"
   },
   {
    "duration": 410,
    "start_time": "2021-07-23T02:08:49.891Z"
   },
   {
    "duration": 481,
    "start_time": "2021-07-23T02:08:50.304Z"
   },
   {
    "duration": 42,
    "start_time": "2021-07-23T02:08:50.787Z"
   },
   {
    "duration": 4527,
    "start_time": "2021-07-23T02:08:50.831Z"
   },
   {
    "duration": 4640,
    "start_time": "2021-07-23T02:08:55.361Z"
   },
   {
    "duration": 4074,
    "start_time": "2021-07-23T02:09:00.004Z"
   },
   {
    "duration": 4280,
    "start_time": "2021-07-23T02:09:04.080Z"
   },
   {
    "duration": 3996,
    "start_time": "2021-07-23T02:09:08.363Z"
   },
   {
    "duration": 4081,
    "start_time": "2021-07-23T02:09:12.361Z"
   },
   {
    "duration": 4113,
    "start_time": "2021-07-23T02:09:16.444Z"
   },
   {
    "duration": 4164,
    "start_time": "2021-07-23T02:09:20.559Z"
   },
   {
    "duration": 4783,
    "start_time": "2021-07-23T02:09:24.726Z"
   },
   {
    "duration": 4848,
    "start_time": "2021-07-23T02:09:29.512Z"
   },
   {
    "duration": 4502,
    "start_time": "2021-07-23T02:09:34.362Z"
   },
   {
    "duration": 4097,
    "start_time": "2021-07-23T02:09:38.867Z"
   },
   {
    "duration": 10249,
    "start_time": "2021-07-23T02:50:51.535Z"
   },
   {
    "duration": 9345,
    "start_time": "2021-07-23T02:51:48.460Z"
   },
   {
    "duration": 2815,
    "start_time": "2021-07-23T02:52:26.196Z"
   },
   {
    "duration": 2811,
    "start_time": "2021-07-23T02:53:47.025Z"
   },
   {
    "duration": 3237,
    "start_time": "2021-07-23T02:53:53.023Z"
   },
   {
    "duration": 2798,
    "start_time": "2021-07-23T02:55:10.017Z"
   },
   {
    "duration": 2864,
    "start_time": "2021-07-23T02:55:24.785Z"
   },
   {
    "duration": 2864,
    "start_time": "2021-07-23T02:55:51.088Z"
   },
   {
    "duration": 3092,
    "start_time": "2021-07-23T02:56:08.520Z"
   },
   {
    "duration": 2629,
    "start_time": "2021-07-23T02:56:45.067Z"
   },
   {
    "duration": 2890,
    "start_time": "2021-07-23T02:56:57.713Z"
   },
   {
    "duration": 3957,
    "start_time": "2021-07-23T02:58:11.032Z"
   },
   {
    "duration": 4131,
    "start_time": "2021-07-23T02:59:02.675Z"
   },
   {
    "duration": 2837,
    "start_time": "2021-07-23T03:00:26.672Z"
   },
   {
    "duration": 1069,
    "start_time": "2021-07-23T03:00:39.897Z"
   },
   {
    "duration": 1178,
    "start_time": "2021-07-23T03:01:41.464Z"
   },
   {
    "duration": 1131,
    "start_time": "2021-07-23T03:02:25.451Z"
   },
   {
    "duration": 1085,
    "start_time": "2021-07-23T03:02:49.493Z"
   },
   {
    "duration": 1111,
    "start_time": "2021-07-23T03:02:59.037Z"
   },
   {
    "duration": 1140,
    "start_time": "2021-07-23T03:03:09.819Z"
   },
   {
    "duration": 1174,
    "start_time": "2021-07-23T03:03:33.441Z"
   },
   {
    "duration": 1539,
    "start_time": "2021-07-23T03:06:08.494Z"
   },
   {
    "duration": 1145,
    "start_time": "2021-07-23T03:06:17.526Z"
   },
   {
    "duration": 1183,
    "start_time": "2021-07-23T03:07:25.340Z"
   },
   {
    "duration": 2359,
    "start_time": "2021-07-23T03:08:15.027Z"
   },
   {
    "duration": 2182,
    "start_time": "2021-07-23T03:09:02.800Z"
   },
   {
    "duration": 1622,
    "start_time": "2021-07-23T03:09:56.483Z"
   },
   {
    "duration": 2114,
    "start_time": "2021-07-23T03:10:19.664Z"
   },
   {
    "duration": 1891,
    "start_time": "2021-07-23T03:11:00.221Z"
   },
   {
    "duration": 1854,
    "start_time": "2021-07-23T03:11:37.354Z"
   },
   {
    "duration": 1604,
    "start_time": "2021-07-23T03:11:43.799Z"
   },
   {
    "duration": 1633,
    "start_time": "2021-07-23T03:13:47.671Z"
   },
   {
    "duration": 1727,
    "start_time": "2021-07-23T03:13:59.123Z"
   },
   {
    "duration": 2314,
    "start_time": "2021-07-23T03:15:06.745Z"
   },
   {
    "duration": 2438,
    "start_time": "2021-07-23T03:15:16.570Z"
   },
   {
    "duration": 934,
    "start_time": "2021-07-23T03:15:59.764Z"
   },
   {
    "duration": 61,
    "start_time": "2021-07-23T03:16:00.700Z"
   },
   {
    "duration": 126,
    "start_time": "2021-07-23T03:16:00.764Z"
   },
   {
    "duration": 2310,
    "start_time": "2021-07-23T03:16:00.892Z"
   },
   {
    "duration": 34,
    "start_time": "2021-07-23T03:16:03.204Z"
   },
   {
    "duration": 108,
    "start_time": "2021-07-23T03:16:03.256Z"
   },
   {
    "duration": 2095,
    "start_time": "2021-07-23T03:16:03.367Z"
   },
   {
    "duration": 2154,
    "start_time": "2021-07-23T03:16:05.466Z"
   },
   {
    "duration": 308,
    "start_time": "2021-07-23T03:16:07.624Z"
   },
   {
    "duration": 546,
    "start_time": "2021-07-23T03:16:07.934Z"
   },
   {
    "duration": 41,
    "start_time": "2021-07-23T03:16:08.482Z"
   },
   {
    "duration": 4713,
    "start_time": "2021-07-23T03:16:08.526Z"
   },
   {
    "duration": 4790,
    "start_time": "2021-07-23T03:16:13.241Z"
   },
   {
    "duration": 4142,
    "start_time": "2021-07-23T03:16:18.033Z"
   },
   {
    "duration": 4369,
    "start_time": "2021-07-23T03:16:22.179Z"
   },
   {
    "duration": 4282,
    "start_time": "2021-07-23T03:16:26.551Z"
   },
   {
    "duration": 4120,
    "start_time": "2021-07-23T03:16:30.835Z"
   },
   {
    "duration": 4064,
    "start_time": "2021-07-23T03:16:34.958Z"
   },
   {
    "duration": 4075,
    "start_time": "2021-07-23T03:16:39.024Z"
   },
   {
    "duration": 4509,
    "start_time": "2021-07-23T03:16:43.101Z"
   },
   {
    "duration": 4506,
    "start_time": "2021-07-23T03:16:47.613Z"
   },
   {
    "duration": 4223,
    "start_time": "2021-07-23T03:16:52.121Z"
   },
   {
    "duration": 4108,
    "start_time": "2021-07-23T03:16:56.349Z"
   },
   {
    "duration": 4265,
    "start_time": "2021-07-23T03:21:11.370Z"
   },
   {
    "duration": 2087,
    "start_time": "2021-07-23T03:21:24.519Z"
   },
   {
    "duration": 2061,
    "start_time": "2021-07-23T03:22:22.182Z"
   },
   {
    "duration": 2084,
    "start_time": "2021-07-23T03:22:51.624Z"
   },
   {
    "duration": 2113,
    "start_time": "2021-07-23T03:23:16.061Z"
   },
   {
    "duration": 2526,
    "start_time": "2021-07-23T03:24:35.369Z"
   },
   {
    "duration": 896,
    "start_time": "2021-07-23T03:24:57.161Z"
   },
   {
    "duration": 57,
    "start_time": "2021-07-23T03:24:58.060Z"
   },
   {
    "duration": 129,
    "start_time": "2021-07-23T03:24:58.120Z"
   },
   {
    "duration": 2155,
    "start_time": "2021-07-23T03:24:58.252Z"
   },
   {
    "duration": 48,
    "start_time": "2021-07-23T03:25:00.409Z"
   },
   {
    "duration": 113,
    "start_time": "2021-07-23T03:25:00.460Z"
   },
   {
    "duration": 2090,
    "start_time": "2021-07-23T03:25:00.575Z"
   },
   {
    "duration": 2297,
    "start_time": "2021-07-23T03:25:02.668Z"
   },
   {
    "duration": 318,
    "start_time": "2021-07-23T03:25:04.968Z"
   },
   {
    "duration": 510,
    "start_time": "2021-07-23T03:25:05.289Z"
   },
   {
    "duration": 58,
    "start_time": "2021-07-23T03:25:05.801Z"
   },
   {
    "duration": 4629,
    "start_time": "2021-07-23T03:25:05.862Z"
   },
   {
    "duration": 4749,
    "start_time": "2021-07-23T03:25:10.494Z"
   },
   {
    "duration": 3954,
    "start_time": "2021-07-23T03:25:15.246Z"
   },
   {
    "duration": 4377,
    "start_time": "2021-07-23T03:25:19.203Z"
   },
   {
    "duration": 4217,
    "start_time": "2021-07-23T03:25:23.583Z"
   },
   {
    "duration": 4058,
    "start_time": "2021-07-23T03:25:27.803Z"
   },
   {
    "duration": 4110,
    "start_time": "2021-07-23T03:25:31.864Z"
   },
   {
    "duration": 3981,
    "start_time": "2021-07-23T03:25:35.977Z"
   },
   {
    "duration": 4581,
    "start_time": "2021-07-23T03:25:39.960Z"
   },
   {
    "duration": 4549,
    "start_time": "2021-07-23T03:25:44.544Z"
   },
   {
    "duration": 4063,
    "start_time": "2021-07-23T03:25:49.096Z"
   },
   {
    "duration": 3994,
    "start_time": "2021-07-23T03:25:53.165Z"
   },
   {
    "duration": 2158,
    "start_time": "2021-07-23T03:25:57.162Z"
   },
   {
    "duration": 2151,
    "start_time": "2021-07-23T03:26:12.587Z"
   },
   {
    "duration": 2595,
    "start_time": "2021-07-23T03:26:28.900Z"
   },
   {
    "duration": 123,
    "start_time": "2021-07-23T03:28:05.162Z"
   },
   {
    "duration": 69,
    "start_time": "2021-07-23T03:28:05.287Z"
   },
   {
    "duration": 127,
    "start_time": "2021-07-23T03:28:05.358Z"
   },
   {
    "duration": 2480,
    "start_time": "2021-07-23T03:28:05.487Z"
   },
   {
    "duration": 34,
    "start_time": "2021-07-23T03:28:07.970Z"
   },
   {
    "duration": 123,
    "start_time": "2021-07-23T03:28:08.007Z"
   },
   {
    "duration": 2048,
    "start_time": "2021-07-23T03:28:08.133Z"
   },
   {
    "duration": 2292,
    "start_time": "2021-07-23T03:28:10.183Z"
   },
   {
    "duration": 296,
    "start_time": "2021-07-23T03:28:12.477Z"
   },
   {
    "duration": 527,
    "start_time": "2021-07-23T03:28:12.776Z"
   },
   {
    "duration": 59,
    "start_time": "2021-07-23T03:28:13.305Z"
   },
   {
    "duration": 4696,
    "start_time": "2021-07-23T03:28:13.366Z"
   },
   {
    "duration": 4994,
    "start_time": "2021-07-23T03:28:18.065Z"
   },
   {
    "duration": 3969,
    "start_time": "2021-07-23T03:28:23.061Z"
   },
   {
    "duration": 4292,
    "start_time": "2021-07-23T03:28:27.033Z"
   },
   {
    "duration": 4613,
    "start_time": "2021-07-23T03:28:31.327Z"
   },
   {
    "duration": 3951,
    "start_time": "2021-07-23T03:28:35.943Z"
   },
   {
    "duration": 3833,
    "start_time": "2021-07-23T03:28:39.897Z"
   },
   {
    "duration": 4437,
    "start_time": "2021-07-23T03:28:43.732Z"
   },
   {
    "duration": 4497,
    "start_time": "2021-07-23T03:28:48.171Z"
   },
   {
    "duration": 4886,
    "start_time": "2021-07-23T03:28:52.670Z"
   },
   {
    "duration": 4018,
    "start_time": "2021-07-23T03:28:57.558Z"
   },
   {
    "duration": 4687,
    "start_time": "2021-07-23T03:29:01.579Z"
   },
   {
    "duration": 2187,
    "start_time": "2021-07-23T03:29:06.272Z"
   },
   {
    "duration": 959,
    "start_time": "2021-07-23T03:29:22.330Z"
   },
   {
    "duration": 66,
    "start_time": "2021-07-23T03:29:23.292Z"
   },
   {
    "duration": 126,
    "start_time": "2021-07-23T03:29:23.362Z"
   },
   {
    "duration": 2191,
    "start_time": "2021-07-23T03:29:23.492Z"
   },
   {
    "duration": 38,
    "start_time": "2021-07-23T03:29:25.685Z"
   },
   {
    "duration": 125,
    "start_time": "2021-07-23T03:29:25.726Z"
   },
   {
    "duration": 2175,
    "start_time": "2021-07-23T03:29:25.856Z"
   },
   {
    "duration": 2223,
    "start_time": "2021-07-23T03:29:28.035Z"
   },
   {
    "duration": 294,
    "start_time": "2021-07-23T03:29:30.261Z"
   },
   {
    "duration": 500,
    "start_time": "2021-07-23T03:29:30.558Z"
   },
   {
    "duration": 45,
    "start_time": "2021-07-23T03:29:31.061Z"
   },
   {
    "duration": 4450,
    "start_time": "2021-07-23T03:29:31.108Z"
   },
   {
    "duration": 4988,
    "start_time": "2021-07-23T03:29:35.562Z"
   },
   {
    "duration": 4106,
    "start_time": "2021-07-23T03:29:40.555Z"
   },
   {
    "duration": 4232,
    "start_time": "2021-07-23T03:29:44.664Z"
   },
   {
    "duration": 4308,
    "start_time": "2021-07-23T03:29:48.899Z"
   },
   {
    "duration": 4433,
    "start_time": "2021-07-23T03:29:53.210Z"
   },
   {
    "duration": 4393,
    "start_time": "2021-07-23T03:29:57.645Z"
   },
   {
    "duration": 4399,
    "start_time": "2021-07-23T03:30:02.040Z"
   },
   {
    "duration": 878,
    "start_time": "2021-07-23T03:30:18.281Z"
   },
   {
    "duration": 57,
    "start_time": "2021-07-23T03:30:19.162Z"
   },
   {
    "duration": 134,
    "start_time": "2021-07-23T03:30:19.223Z"
   },
   {
    "duration": 2211,
    "start_time": "2021-07-23T03:30:19.360Z"
   },
   {
    "duration": 34,
    "start_time": "2021-07-23T03:30:21.574Z"
   },
   {
    "duration": 128,
    "start_time": "2021-07-23T03:30:21.611Z"
   },
   {
    "duration": 2058,
    "start_time": "2021-07-23T03:30:21.742Z"
   },
   {
    "duration": 2594,
    "start_time": "2021-07-23T03:30:23.804Z"
   },
   {
    "duration": 298,
    "start_time": "2021-07-23T03:30:26.402Z"
   },
   {
    "duration": 488,
    "start_time": "2021-07-23T03:30:26.703Z"
   },
   {
    "duration": 66,
    "start_time": "2021-07-23T03:30:27.194Z"
   },
   {
    "duration": 4580,
    "start_time": "2021-07-23T03:30:27.263Z"
   },
   {
    "duration": 4872,
    "start_time": "2021-07-23T03:30:31.846Z"
   },
   {
    "duration": 3984,
    "start_time": "2021-07-23T03:30:36.720Z"
   },
   {
    "duration": 4209,
    "start_time": "2021-07-23T03:30:40.707Z"
   },
   {
    "duration": 4306,
    "start_time": "2021-07-23T03:30:44.919Z"
   },
   {
    "duration": 4168,
    "start_time": "2021-07-23T03:30:49.227Z"
   },
   {
    "duration": 4537,
    "start_time": "2021-07-23T03:30:53.398Z"
   },
   {
    "duration": 4146,
    "start_time": "2021-07-23T03:30:57.937Z"
   },
   {
    "duration": 4515,
    "start_time": "2021-07-23T03:31:02.085Z"
   },
   {
    "duration": 4462,
    "start_time": "2021-07-23T03:31:06.603Z"
   },
   {
    "duration": 4148,
    "start_time": "2021-07-23T03:31:11.067Z"
   },
   {
    "duration": 4215,
    "start_time": "2021-07-23T03:31:15.219Z"
   },
   {
    "duration": 440,
    "start_time": "2021-07-23T21:48:01.038Z"
   },
   {
    "duration": 962,
    "start_time": "2021-07-23T21:48:12.223Z"
   },
   {
    "duration": 65,
    "start_time": "2021-07-23T21:48:13.188Z"
   },
   {
    "duration": 132,
    "start_time": "2021-07-23T21:48:13.257Z"
   },
   {
    "duration": 2241,
    "start_time": "2021-07-23T21:48:13.393Z"
   },
   {
    "duration": 35,
    "start_time": "2021-07-23T21:48:15.636Z"
   },
   {
    "duration": 130,
    "start_time": "2021-07-23T21:48:15.673Z"
   },
   {
    "duration": 2128,
    "start_time": "2021-07-23T21:48:15.805Z"
   },
   {
    "duration": 1984,
    "start_time": "2021-07-23T21:48:17.936Z"
   },
   {
    "duration": 440,
    "start_time": "2021-07-23T21:48:19.924Z"
   },
   {
    "duration": -141547,
    "start_time": "2021-07-23T21:50:41.914Z"
   },
   {
    "duration": -141547,
    "start_time": "2021-07-23T21:50:41.915Z"
   },
   {
    "duration": -141550,
    "start_time": "2021-07-23T21:50:41.920Z"
   },
   {
    "duration": -141551,
    "start_time": "2021-07-23T21:50:41.922Z"
   },
   {
    "duration": -141550,
    "start_time": "2021-07-23T21:50:41.923Z"
   },
   {
    "duration": -141551,
    "start_time": "2021-07-23T21:50:41.925Z"
   },
   {
    "duration": -141551,
    "start_time": "2021-07-23T21:50:41.927Z"
   },
   {
    "duration": -141551,
    "start_time": "2021-07-23T21:50:41.928Z"
   },
   {
    "duration": -141555,
    "start_time": "2021-07-23T21:50:41.933Z"
   },
   {
    "duration": -141555,
    "start_time": "2021-07-23T21:50:41.935Z"
   },
   {
    "duration": -141558,
    "start_time": "2021-07-23T21:50:41.939Z"
   },
   {
    "duration": -141557,
    "start_time": "2021-07-23T21:50:41.940Z"
   },
   {
    "duration": -141558,
    "start_time": "2021-07-23T21:50:41.942Z"
   },
   {
    "duration": -141572,
    "start_time": "2021-07-23T21:50:41.957Z"
   },
   {
    "duration": 2949,
    "start_time": "2021-07-23T21:50:11.253Z"
   },
   {
    "duration": 367,
    "start_time": "2021-07-23T21:56:21.188Z"
   },
   {
    "duration": 8,
    "start_time": "2021-07-23T21:56:44.561Z"
   },
   {
    "duration": 7,
    "start_time": "2021-07-23T21:57:37.152Z"
   },
   {
    "duration": 1023,
    "start_time": "2021-07-23T21:58:40.912Z"
   },
   {
    "duration": 64,
    "start_time": "2021-07-23T21:58:41.938Z"
   },
   {
    "duration": 120,
    "start_time": "2021-07-23T21:58:42.004Z"
   },
   {
    "duration": 2177,
    "start_time": "2021-07-23T21:58:42.127Z"
   },
   {
    "duration": 33,
    "start_time": "2021-07-23T21:58:44.306Z"
   },
   {
    "duration": 116,
    "start_time": "2021-07-23T21:58:44.342Z"
   },
   {
    "duration": 2080,
    "start_time": "2021-07-23T21:58:44.460Z"
   },
   {
    "duration": 2631,
    "start_time": "2021-07-23T21:58:46.544Z"
   },
   {
    "duration": 8,
    "start_time": "2021-07-23T21:58:49.178Z"
   },
   {
    "duration": 481,
    "start_time": "2021-07-23T21:58:49.201Z"
   },
   {
    "duration": -141517,
    "start_time": "2021-07-23T22:01:11.201Z"
   },
   {
    "duration": -141519,
    "start_time": "2021-07-23T22:01:11.205Z"
   },
   {
    "duration": -141524,
    "start_time": "2021-07-23T22:01:11.212Z"
   },
   {
    "duration": -141528,
    "start_time": "2021-07-23T22:01:11.217Z"
   },
   {
    "duration": -141528,
    "start_time": "2021-07-23T22:01:11.219Z"
   },
   {
    "duration": -141529,
    "start_time": "2021-07-23T22:01:11.221Z"
   },
   {
    "duration": -141531,
    "start_time": "2021-07-23T22:01:11.225Z"
   },
   {
    "duration": -141532,
    "start_time": "2021-07-23T22:01:11.227Z"
   },
   {
    "duration": -141533,
    "start_time": "2021-07-23T22:01:11.229Z"
   },
   {
    "duration": -141533,
    "start_time": "2021-07-23T22:01:11.231Z"
   },
   {
    "duration": -141536,
    "start_time": "2021-07-23T22:01:11.235Z"
   },
   {
    "duration": -141536,
    "start_time": "2021-07-23T22:01:11.237Z"
   },
   {
    "duration": -141539,
    "start_time": "2021-07-23T22:01:11.241Z"
   },
   {
    "duration": -141540,
    "start_time": "2021-07-23T22:01:11.244Z"
   },
   {
    "duration": 2792,
    "start_time": "2021-07-23T21:59:31.971Z"
   },
   {
    "duration": 1687,
    "start_time": "2021-07-23T22:04:00.615Z"
   },
   {
    "duration": 128,
    "start_time": "2021-07-23T22:05:48.756Z"
   },
   {
    "duration": 1004,
    "start_time": "2021-07-23T22:06:06.372Z"
   },
   {
    "duration": 61,
    "start_time": "2021-07-23T22:06:07.379Z"
   },
   {
    "duration": 134,
    "start_time": "2021-07-23T22:06:07.443Z"
   },
   {
    "duration": 2287,
    "start_time": "2021-07-23T22:06:07.580Z"
   },
   {
    "duration": 47,
    "start_time": "2021-07-23T22:06:09.869Z"
   },
   {
    "duration": 113,
    "start_time": "2021-07-23T22:06:09.918Z"
   },
   {
    "duration": 2121,
    "start_time": "2021-07-23T22:06:10.033Z"
   },
   {
    "duration": 2726,
    "start_time": "2021-07-23T22:06:12.157Z"
   },
   {
    "duration": 148,
    "start_time": "2021-07-23T22:06:14.886Z"
   },
   {
    "duration": -141864,
    "start_time": "2021-07-23T22:08:36.900Z"
   },
   {
    "duration": -141863,
    "start_time": "2021-07-23T22:08:36.901Z"
   },
   {
    "duration": -141862,
    "start_time": "2021-07-23T22:08:36.902Z"
   },
   {
    "duration": -141865,
    "start_time": "2021-07-23T22:08:36.906Z"
   },
   {
    "duration": -141866,
    "start_time": "2021-07-23T22:08:36.908Z"
   },
   {
    "duration": -141871,
    "start_time": "2021-07-23T22:08:36.915Z"
   },
   {
    "duration": -141872,
    "start_time": "2021-07-23T22:08:36.917Z"
   },
   {
    "duration": -141872,
    "start_time": "2021-07-23T22:08:36.919Z"
   },
   {
    "duration": -141873,
    "start_time": "2021-07-23T22:08:36.921Z"
   },
   {
    "duration": -141873,
    "start_time": "2021-07-23T22:08:36.922Z"
   },
   {
    "duration": -141873,
    "start_time": "2021-07-23T22:08:36.924Z"
   },
   {
    "duration": -141872,
    "start_time": "2021-07-23T22:08:36.925Z"
   },
   {
    "duration": -141876,
    "start_time": "2021-07-23T22:08:36.930Z"
   },
   {
    "duration": -141876,
    "start_time": "2021-07-23T22:08:36.932Z"
   },
   {
    "duration": -141925,
    "start_time": "2021-07-23T22:08:36.982Z"
   },
   {
    "duration": 127,
    "start_time": "2021-07-23T22:08:50.434Z"
   },
   {
    "duration": 125,
    "start_time": "2021-07-23T22:09:23.429Z"
   },
   {
    "duration": 1737,
    "start_time": "2021-07-23T22:09:56.952Z"
   },
   {
    "duration": 120,
    "start_time": "2021-07-23T22:10:21.634Z"
   },
   {
    "duration": 8767,
    "start_time": "2021-07-23T22:10:32.314Z"
   },
   {
    "duration": 8,
    "start_time": "2021-07-23T22:11:08.027Z"
   },
   {
    "duration": 1605,
    "start_time": "2021-07-23T22:11:17.395Z"
   },
   {
    "duration": 6,
    "start_time": "2021-07-23T22:11:44.873Z"
   },
   {
    "duration": 1578,
    "start_time": "2021-07-23T22:11:48.682Z"
   },
   {
    "duration": 1822,
    "start_time": "2021-07-23T22:12:46.259Z"
   },
   {
    "duration": 1897,
    "start_time": "2021-07-23T22:14:02.382Z"
   },
   {
    "duration": 158,
    "start_time": "2021-07-23T22:15:07.351Z"
   },
   {
    "duration": 1809,
    "start_time": "2021-07-23T22:15:11.278Z"
   },
   {
    "duration": 912,
    "start_time": "2021-07-23T22:15:57.645Z"
   },
   {
    "duration": 71,
    "start_time": "2021-07-23T22:15:58.560Z"
   },
   {
    "duration": 122,
    "start_time": "2021-07-23T22:15:58.634Z"
   },
   {
    "duration": 2213,
    "start_time": "2021-07-23T22:15:58.759Z"
   },
   {
    "duration": 44,
    "start_time": "2021-07-23T22:16:00.975Z"
   },
   {
    "duration": 122,
    "start_time": "2021-07-23T22:16:01.022Z"
   },
   {
    "duration": 2169,
    "start_time": "2021-07-23T22:16:01.146Z"
   },
   {
    "duration": 2711,
    "start_time": "2021-07-23T22:16:03.319Z"
   },
   {
    "duration": 126,
    "start_time": "2021-07-23T22:16:06.033Z"
   },
   {
    "duration": -141953,
    "start_time": "2021-07-23T22:18:28.114Z"
   },
   {
    "duration": -141953,
    "start_time": "2021-07-23T22:18:28.116Z"
   },
   {
    "duration": -141953,
    "start_time": "2021-07-23T22:18:28.117Z"
   },
   {
    "duration": -141953,
    "start_time": "2021-07-23T22:18:28.119Z"
   },
   {
    "duration": -141954,
    "start_time": "2021-07-23T22:18:28.121Z"
   },
   {
    "duration": -141955,
    "start_time": "2021-07-23T22:18:28.123Z"
   },
   {
    "duration": -141955,
    "start_time": "2021-07-23T22:18:28.125Z"
   },
   {
    "duration": -141955,
    "start_time": "2021-07-23T22:18:28.126Z"
   },
   {
    "duration": -141955,
    "start_time": "2021-07-23T22:18:28.128Z"
   },
   {
    "duration": -141956,
    "start_time": "2021-07-23T22:18:28.130Z"
   },
   {
    "duration": -141955,
    "start_time": "2021-07-23T22:18:28.131Z"
   },
   {
    "duration": -141955,
    "start_time": "2021-07-23T22:18:28.133Z"
   },
   {
    "duration": -141956,
    "start_time": "2021-07-23T22:18:28.135Z"
   },
   {
    "duration": -141956,
    "start_time": "2021-07-23T22:18:28.136Z"
   },
   {
    "duration": -141957,
    "start_time": "2021-07-23T22:18:28.138Z"
   },
   {
    "duration": -141956,
    "start_time": "2021-07-23T22:18:28.139Z"
   },
   {
    "duration": 85,
    "start_time": "2021-07-23T22:16:29.490Z"
   },
   {
    "duration": 2170,
    "start_time": "2021-07-23T22:16:32.859Z"
   },
   {
    "duration": 88,
    "start_time": "2021-07-23T22:16:55.807Z"
   },
   {
    "duration": 2144,
    "start_time": "2021-07-23T22:17:01.118Z"
   },
   {
    "duration": 121,
    "start_time": "2021-07-23T22:22:06.140Z"
   },
   {
    "duration": 140,
    "start_time": "2021-07-23T22:22:31.802Z"
   },
   {
    "duration": 434,
    "start_time": "2021-07-23T22:22:48.224Z"
   },
   {
    "duration": 8945,
    "start_time": "2021-07-23T22:24:00.030Z"
   },
   {
    "duration": 356,
    "start_time": "2021-07-23T22:24:20.737Z"
   },
   {
    "duration": 397,
    "start_time": "2021-07-23T22:24:47.445Z"
   },
   {
    "duration": 428,
    "start_time": "2021-07-23T22:25:05.468Z"
   },
   {
    "duration": 440,
    "start_time": "2021-07-23T22:25:41.982Z"
   },
   {
    "duration": 84,
    "start_time": "2021-07-23T22:27:29.251Z"
   },
   {
    "duration": 86,
    "start_time": "2021-07-23T22:27:49.628Z"
   },
   {
    "duration": 2220,
    "start_time": "2021-07-23T22:28:35.903Z"
   },
   {
    "duration": 422,
    "start_time": "2021-07-23T22:30:32.200Z"
   },
   {
    "duration": 43,
    "start_time": "2021-07-23T22:38:13.300Z"
   },
   {
    "duration": 134,
    "start_time": "2021-07-23T22:41:07.377Z"
   },
   {
    "duration": 2170,
    "start_time": "2021-07-23T22:41:09.561Z"
   },
   {
    "duration": 85,
    "start_time": "2021-07-23T22:41:19.174Z"
   },
   {
    "duration": 2179,
    "start_time": "2021-07-23T22:41:20.896Z"
   },
   {
    "duration": 441,
    "start_time": "2021-07-23T22:41:58.509Z"
   },
   {
    "duration": 92,
    "start_time": "2021-07-23T22:42:14.159Z"
   },
   {
    "duration": 2352,
    "start_time": "2021-07-23T22:42:18.663Z"
   },
   {
    "duration": 891,
    "start_time": "2021-07-23T22:42:46.155Z"
   },
   {
    "duration": 399,
    "start_time": "2021-07-23T22:42:56.611Z"
   },
   {
    "duration": 91,
    "start_time": "2021-07-23T22:43:34.548Z"
   },
   {
    "duration": 2070,
    "start_time": "2021-07-23T22:43:38.857Z"
   },
   {
    "duration": 91,
    "start_time": "2021-07-23T22:44:45.459Z"
   },
   {
    "duration": 2092,
    "start_time": "2021-07-23T22:44:52.951Z"
   },
   {
    "duration": 2355,
    "start_time": "2021-07-23T22:45:14.938Z"
   },
   {
    "duration": 4592,
    "start_time": "2021-07-23T22:57:18.915Z"
   },
   {
    "duration": 52,
    "start_time": "2021-07-23T23:06:06.686Z"
   },
   {
    "duration": 390,
    "start_time": "2021-07-23T23:06:32.146Z"
   },
   {
    "duration": 703,
    "start_time": "2021-07-23T23:06:40.618Z"
   },
   {
    "duration": 574,
    "start_time": "2021-07-23T23:06:50.570Z"
   },
   {
    "duration": 2358,
    "start_time": "2021-07-23T23:07:24.712Z"
   },
   {
    "duration": 860,
    "start_time": "2021-07-23T23:08:18.748Z"
   },
   {
    "duration": 2763,
    "start_time": "2021-07-23T23:08:36.344Z"
   },
   {
    "duration": 2801,
    "start_time": "2021-07-23T23:11:10.640Z"
   },
   {
    "duration": 2406,
    "start_time": "2021-07-23T23:11:43.528Z"
   },
   {
    "duration": 2306,
    "start_time": "2021-07-23T23:13:57.770Z"
   },
   {
    "duration": 2373,
    "start_time": "2021-07-23T23:14:51.303Z"
   },
   {
    "duration": 1988,
    "start_time": "2021-07-23T23:15:30.126Z"
   },
   {
    "duration": 1512,
    "start_time": "2021-07-23T23:19:22.853Z"
   },
   {
    "duration": 66,
    "start_time": "2021-07-23T23:19:24.368Z"
   },
   {
    "duration": 130,
    "start_time": "2021-07-23T23:19:24.438Z"
   },
   {
    "duration": 2147,
    "start_time": "2021-07-23T23:19:24.571Z"
   },
   {
    "duration": 35,
    "start_time": "2021-07-23T23:19:26.720Z"
   },
   {
    "duration": 119,
    "start_time": "2021-07-23T23:19:26.757Z"
   },
   {
    "duration": 2178,
    "start_time": "2021-07-23T23:19:26.878Z"
   },
   {
    "duration": 2680,
    "start_time": "2021-07-23T23:19:29.061Z"
   },
   {
    "duration": 115,
    "start_time": "2021-07-23T23:19:31.743Z"
   },
   {
    "duration": 2357,
    "start_time": "2021-07-23T23:19:31.860Z"
   },
   {
    "duration": 313,
    "start_time": "2021-07-23T23:19:34.219Z"
   },
   {
    "duration": 533,
    "start_time": "2021-07-23T23:19:34.535Z"
   },
   {
    "duration": 58,
    "start_time": "2021-07-23T23:19:35.070Z"
   },
   {
    "duration": 2358,
    "start_time": "2021-07-23T23:19:35.130Z"
   },
   {
    "duration": 2317,
    "start_time": "2021-07-23T23:19:37.490Z"
   },
   {
    "duration": 2137,
    "start_time": "2021-07-23T23:19:39.809Z"
   },
   {
    "duration": 2134,
    "start_time": "2021-07-23T23:19:41.949Z"
   },
   {
    "duration": 2009,
    "start_time": "2021-07-23T23:19:44.085Z"
   },
   {
    "duration": 2006,
    "start_time": "2021-07-23T23:19:46.097Z"
   },
   {
    "duration": 1945,
    "start_time": "2021-07-23T23:19:48.106Z"
   },
   {
    "duration": 2070,
    "start_time": "2021-07-23T23:19:50.053Z"
   },
   {
    "duration": 2207,
    "start_time": "2021-07-23T23:19:52.126Z"
   },
   {
    "duration": 2360,
    "start_time": "2021-07-23T23:19:54.338Z"
   },
   {
    "duration": 1936,
    "start_time": "2021-07-23T23:19:56.701Z"
   },
   {
    "duration": 1822,
    "start_time": "2021-07-23T23:19:58.639Z"
   },
   {
    "duration": 2220,
    "start_time": "2021-07-23T23:30:45.284Z"
   },
   {
    "duration": 2304,
    "start_time": "2021-07-23T23:31:10.672Z"
   },
   {
    "duration": 2411,
    "start_time": "2021-07-23T23:31:41.199Z"
   },
   {
    "duration": 2325,
    "start_time": "2021-07-23T23:32:32.229Z"
   },
   {
    "duration": 2240,
    "start_time": "2021-07-23T23:34:49.076Z"
   },
   {
    "duration": 405,
    "start_time": "2021-07-23T23:35:57.472Z"
   },
   {
    "duration": 567,
    "start_time": "2021-07-23T23:37:11.592Z"
   },
   {
    "duration": 398,
    "start_time": "2021-07-23T23:37:16.679Z"
   },
   {
    "duration": 381,
    "start_time": "2021-07-23T23:37:47.792Z"
   },
   {
    "duration": 445,
    "start_time": "2021-07-23T23:37:59.082Z"
   },
   {
    "duration": 664,
    "start_time": "2021-07-23T23:39:41.359Z"
   },
   {
    "duration": 685,
    "start_time": "2021-07-23T23:39:43.822Z"
   },
   {
    "duration": 362,
    "start_time": "2021-07-23T23:39:54.610Z"
   },
   {
    "duration": 381,
    "start_time": "2021-07-23T23:40:45.316Z"
   },
   {
    "duration": 384,
    "start_time": "2021-07-23T23:41:12.842Z"
   },
   {
    "duration": 533,
    "start_time": "2021-07-23T23:43:37.878Z"
   },
   {
    "duration": 232,
    "start_time": "2021-07-23T23:43:44.649Z"
   },
   {
    "duration": 238,
    "start_time": "2021-07-23T23:44:02.330Z"
   },
   {
    "duration": 289,
    "start_time": "2021-07-23T23:44:06.171Z"
   },
   {
    "duration": 475,
    "start_time": "2021-07-23T23:44:45.655Z"
   },
   {
    "duration": 374,
    "start_time": "2021-07-23T23:45:18.886Z"
   },
   {
    "duration": 409,
    "start_time": "2021-07-23T23:46:31.763Z"
   },
   {
    "duration": 395,
    "start_time": "2021-07-23T23:46:41.605Z"
   },
   {
    "duration": 354,
    "start_time": "2021-07-23T23:46:51.117Z"
   },
   {
    "duration": 371,
    "start_time": "2021-07-23T23:47:32.160Z"
   },
   {
    "duration": 413,
    "start_time": "2021-07-23T23:47:52.135Z"
   },
   {
    "duration": 376,
    "start_time": "2021-07-23T23:47:58.624Z"
   },
   {
    "duration": 21,
    "start_time": "2021-07-23T23:48:03.500Z"
   },
   {
    "duration": 18,
    "start_time": "2021-07-23T23:49:38.601Z"
   },
   {
    "duration": 17,
    "start_time": "2021-07-23T23:49:44.796Z"
   },
   {
    "duration": 22,
    "start_time": "2021-07-23T23:49:48.785Z"
   },
   {
    "duration": 335,
    "start_time": "2021-07-23T23:50:09.410Z"
   },
   {
    "duration": 17,
    "start_time": "2021-07-23T23:50:29.525Z"
   },
   {
    "duration": 21,
    "start_time": "2021-07-23T23:50:33.599Z"
   },
   {
    "duration": 21,
    "start_time": "2021-07-23T23:50:53.932Z"
   },
   {
    "duration": 24,
    "start_time": "2021-07-23T23:51:00.013Z"
   },
   {
    "duration": 22,
    "start_time": "2021-07-23T23:52:01.109Z"
   },
   {
    "duration": 1578,
    "start_time": "2021-07-23T23:52:07.977Z"
   },
   {
    "duration": 62,
    "start_time": "2021-07-23T23:52:09.558Z"
   },
   {
    "duration": 120,
    "start_time": "2021-07-23T23:52:09.623Z"
   },
   {
    "duration": 2156,
    "start_time": "2021-07-23T23:52:09.745Z"
   },
   {
    "duration": 33,
    "start_time": "2021-07-23T23:52:11.903Z"
   },
   {
    "duration": 122,
    "start_time": "2021-07-23T23:52:11.938Z"
   },
   {
    "duration": 2099,
    "start_time": "2021-07-23T23:52:12.062Z"
   },
   {
    "duration": 2617,
    "start_time": "2021-07-23T23:52:14.167Z"
   },
   {
    "duration": 118,
    "start_time": "2021-07-23T23:52:16.787Z"
   },
   {
    "duration": 2095,
    "start_time": "2021-07-23T23:52:16.908Z"
   },
   {
    "duration": 299,
    "start_time": "2021-07-23T23:52:19.006Z"
   },
   {
    "duration": 40,
    "start_time": "2021-07-23T23:52:19.308Z"
   },
   {
    "duration": 72,
    "start_time": "2021-07-23T23:52:19.351Z"
   },
   {
    "duration": 2388,
    "start_time": "2021-07-23T23:52:19.426Z"
   },
   {
    "duration": 2415,
    "start_time": "2021-07-23T23:52:21.817Z"
   },
   {
    "duration": 505,
    "start_time": "2021-07-23T23:52:42.265Z"
   },
   {
    "duration": 389,
    "start_time": "2021-07-23T23:53:48.637Z"
   },
   {
    "duration": 369,
    "start_time": "2021-07-23T23:54:19.501Z"
   },
   {
    "duration": 386,
    "start_time": "2021-07-23T23:54:41.064Z"
   },
   {
    "duration": 381,
    "start_time": "2021-07-23T23:55:27.504Z"
   },
   {
    "duration": 403,
    "start_time": "2021-07-23T23:55:53.472Z"
   },
   {
    "duration": 1522,
    "start_time": "2021-07-23T23:55:58.428Z"
   },
   {
    "duration": 64,
    "start_time": "2021-07-23T23:55:59.953Z"
   },
   {
    "duration": 125,
    "start_time": "2021-07-23T23:56:00.021Z"
   },
   {
    "duration": 2151,
    "start_time": "2021-07-23T23:56:00.149Z"
   },
   {
    "duration": 34,
    "start_time": "2021-07-23T23:56:02.303Z"
   },
   {
    "duration": 138,
    "start_time": "2021-07-23T23:56:02.339Z"
   },
   {
    "duration": 2121,
    "start_time": "2021-07-23T23:56:02.480Z"
   },
   {
    "duration": 2598,
    "start_time": "2021-07-23T23:56:04.603Z"
   },
   {
    "duration": 114,
    "start_time": "2021-07-23T23:56:07.206Z"
   },
   {
    "duration": 2114,
    "start_time": "2021-07-23T23:56:07.322Z"
   },
   {
    "duration": 296,
    "start_time": "2021-07-23T23:56:09.439Z"
   },
   {
    "duration": 500,
    "start_time": "2021-07-23T23:56:09.738Z"
   },
   {
    "duration": -141313,
    "start_time": "2021-07-23T23:58:31.553Z"
   },
   {
    "duration": -141312,
    "start_time": "2021-07-23T23:58:31.554Z"
   },
   {
    "duration": -141313,
    "start_time": "2021-07-23T23:58:31.556Z"
   },
   {
    "duration": 402,
    "start_time": "2021-07-23T23:56:40.403Z"
   },
   {
    "duration": 334,
    "start_time": "2021-07-23T23:56:50.885Z"
   },
   {
    "duration": 375,
    "start_time": "2021-07-23T23:57:07.271Z"
   },
   {
    "duration": 257,
    "start_time": "2021-07-23T23:57:20.758Z"
   },
   {
    "duration": 282,
    "start_time": "2021-07-23T23:58:09.955Z"
   },
   {
    "duration": 268,
    "start_time": "2021-07-23T23:58:25.074Z"
   },
   {
    "duration": 632,
    "start_time": "2021-07-24T00:04:30.884Z"
   },
   {
    "duration": 277,
    "start_time": "2021-07-24T00:04:50.176Z"
   },
   {
    "duration": 978,
    "start_time": "2021-07-24T00:05:00.898Z"
   },
   {
    "duration": 697,
    "start_time": "2021-07-24T00:05:15.233Z"
   },
   {
    "duration": 1484,
    "start_time": "2021-07-24T22:26:02.364Z"
   },
   {
    "duration": 65,
    "start_time": "2021-07-24T22:26:03.851Z"
   },
   {
    "duration": 127,
    "start_time": "2021-07-24T22:26:03.919Z"
   },
   {
    "duration": 2280,
    "start_time": "2021-07-24T22:26:04.049Z"
   },
   {
    "duration": 52,
    "start_time": "2021-07-24T22:26:06.332Z"
   },
   {
    "duration": 114,
    "start_time": "2021-07-24T22:26:06.386Z"
   },
   {
    "duration": 2213,
    "start_time": "2021-07-24T22:26:06.503Z"
   },
   {
    "duration": 2775,
    "start_time": "2021-07-24T22:26:08.719Z"
   },
   {
    "duration": 121,
    "start_time": "2021-07-24T22:26:11.496Z"
   },
   {
    "duration": 2297,
    "start_time": "2021-07-24T22:26:11.619Z"
   },
   {
    "duration": 316,
    "start_time": "2021-07-24T22:26:13.918Z"
   },
   {
    "duration": 394,
    "start_time": "2021-07-24T22:26:14.236Z"
   },
   {
    "duration": 55,
    "start_time": "2021-07-24T22:26:14.632Z"
   },
   {
    "duration": 2386,
    "start_time": "2021-07-24T22:26:14.690Z"
   },
   {
    "duration": 2377,
    "start_time": "2021-07-24T22:26:17.079Z"
   },
   {
    "duration": 285,
    "start_time": "2021-07-24T22:27:23.235Z"
   },
   {
    "duration": 680,
    "start_time": "2021-07-24T22:27:41.989Z"
   },
   {
    "duration": 324,
    "start_time": "2021-07-24T22:28:01.460Z"
   },
   {
    "duration": 281,
    "start_time": "2021-07-24T22:28:14.705Z"
   },
   {
    "duration": 304,
    "start_time": "2021-07-24T22:28:17.387Z"
   },
   {
    "duration": 499,
    "start_time": "2021-07-24T22:28:31.774Z"
   },
   {
    "duration": 980,
    "start_time": "2021-07-24T22:28:44.587Z"
   },
   {
    "duration": 1188,
    "start_time": "2021-07-24T22:29:09.539Z"
   },
   {
    "duration": 884,
    "start_time": "2021-07-24T22:30:04.551Z"
   },
   {
    "duration": 1623,
    "start_time": "2021-07-25T22:57:13.731Z"
   },
   {
    "duration": 60,
    "start_time": "2021-07-25T22:57:15.357Z"
   },
   {
    "duration": 135,
    "start_time": "2021-07-25T22:57:15.420Z"
   },
   {
    "duration": 2315,
    "start_time": "2021-07-25T22:57:15.566Z"
   },
   {
    "duration": 35,
    "start_time": "2021-07-25T22:57:17.883Z"
   },
   {
    "duration": 189,
    "start_time": "2021-07-25T22:57:17.921Z"
   },
   {
    "duration": 1662,
    "start_time": "2021-07-25T22:57:18.112Z"
   },
   {
    "duration": 1652,
    "start_time": "2021-07-25T22:57:19.778Z"
   },
   {
    "duration": 120,
    "start_time": "2021-07-25T22:57:21.433Z"
   },
   {
    "duration": 1547,
    "start_time": "2021-07-25T22:57:21.556Z"
   },
   {
    "duration": 233,
    "start_time": "2021-07-25T22:57:23.106Z"
   },
   {
    "duration": 510,
    "start_time": "2021-07-25T22:57:23.341Z"
   },
   {
    "duration": 53,
    "start_time": "2021-07-25T22:57:23.853Z"
   },
   {
    "duration": 1139,
    "start_time": "2021-07-25T22:57:23.908Z"
   },
   {
    "duration": 1217,
    "start_time": "2021-07-25T22:57:25.050Z"
   }
  ],
  "kernelspec": {
   "display_name": "Python 3 (ipykernel)",
   "language": "python",
   "name": "python3"
  },
  "language_info": {
   "codemirror_mode": {
    "name": "ipython",
    "version": 3
   },
   "file_extension": ".py",
   "mimetype": "text/x-python",
   "name": "python",
   "nbconvert_exporter": "python",
   "pygments_lexer": "ipython3",
   "version": "3.9.5"
  },
  "toc": {
   "base_numbering": 1,
   "nav_menu": {},
   "number_sections": true,
   "sideBar": true,
   "skip_h1_title": true,
   "title_cell": "Table of Contents",
   "title_sidebar": "Contents",
   "toc_cell": false,
   "toc_position": {},
   "toc_section_display": true,
   "toc_window_display": false
  }
 },
 "nbformat": 4,
 "nbformat_minor": 2
}
