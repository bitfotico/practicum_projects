{
 "cells": [
  {
   "cell_type": "markdown",
   "metadata": {},
   "source": [
    "# Rusty Bargain"
   ]
  },
  {
   "cell_type": "markdown",
   "metadata": {},
   "source": [
    "Rusty Bargain used car sales service is developing an app to attract new customers. In that app, you can quickly find out the market value of your car. You have access to historical data: technical specifications, trim versions, and prices. You need to build the model to determine the value. \n",
    "\n",
    "Rusty Bargain is interested in:\n",
    "\n",
    "- the quality of the prediction\n",
    "- the speed of the prediction\n",
    "- the time required for training"
   ]
  },
  {
   "cell_type": "markdown",
   "metadata": {},
   "source": [
    "## Preparation"
   ]
  },
  {
   "cell_type": "code",
   "execution_count": 1,
   "metadata": {},
   "outputs": [],
   "source": [
    "import pandas as pd\n",
    "import numpy as np\n",
    "import seaborn as sns\n",
    "from math import sqrt\n",
    "\n",
    "from sklearn.model_selection import train_test_split\n",
    "from sklearn.impute import KNNImputer\n",
    "from sklearn.model_selection import GridSearchCV\n",
    "from sklearn.preprocessing import LabelEncoder, OneHotEncoder, OrdinalEncoder\n",
    "from sklearn.preprocessing import MaxAbsScaler\n",
    "from sklearn.metrics import mean_squared_error\n",
    "\n",
    "from sklearn.tree import DecisionTreeRegressor\n",
    "from sklearn.linear_model import LinearRegression\n",
    "from sklearn.ensemble import RandomForestRegressor\n",
    "import lightgbm"
   ]
  },
  {
   "cell_type": "code",
   "execution_count": 2,
   "metadata": {},
   "outputs": [],
   "source": [
    "df = pd.read_csv('C:/Users/Kayo/Downloads/car_data.csv')"
   ]
  },
  {
   "cell_type": "code",
   "execution_count": 3,
   "metadata": {},
   "outputs": [
    {
     "name": "stdout",
     "output_type": "stream",
     "text": [
      "<class 'pandas.core.frame.DataFrame'>\n",
      "RangeIndex: 354369 entries, 0 to 354368\n",
      "Data columns (total 16 columns):\n",
      " #   Column             Non-Null Count   Dtype \n",
      "---  ------             --------------   ----- \n",
      " 0   DateCrawled        354369 non-null  object\n",
      " 1   Price              354369 non-null  int64 \n",
      " 2   VehicleType        316879 non-null  object\n",
      " 3   RegistrationYear   354369 non-null  int64 \n",
      " 4   Gearbox            334536 non-null  object\n",
      " 5   Power              354369 non-null  int64 \n",
      " 6   Model              334664 non-null  object\n",
      " 7   Mileage            354369 non-null  int64 \n",
      " 8   RegistrationMonth  354369 non-null  int64 \n",
      " 9   FuelType           321474 non-null  object\n",
      " 10  Brand              354369 non-null  object\n",
      " 11  NotRepaired        283215 non-null  object\n",
      " 12  DateCreated        354369 non-null  object\n",
      " 13  NumberOfPictures   354369 non-null  int64 \n",
      " 14  PostalCode         354369 non-null  int64 \n",
      " 15  LastSeen           354369 non-null  object\n",
      "dtypes: int64(7), object(9)\n",
      "memory usage: 43.3+ MB\n"
     ]
    }
   ],
   "source": [
    "# Checking general info\n",
    "df.info()"
   ]
  },
  {
   "cell_type": "code",
   "execution_count": 4,
   "metadata": {},
   "outputs": [
    {
     "data": {
      "text/html": [
       "<div>\n",
       "<style scoped>\n",
       "    .dataframe tbody tr th:only-of-type {\n",
       "        vertical-align: middle;\n",
       "    }\n",
       "\n",
       "    .dataframe tbody tr th {\n",
       "        vertical-align: top;\n",
       "    }\n",
       "\n",
       "    .dataframe thead th {\n",
       "        text-align: right;\n",
       "    }\n",
       "</style>\n",
       "<table border=\"1\" class=\"dataframe\">\n",
       "  <thead>\n",
       "    <tr style=\"text-align: right;\">\n",
       "      <th></th>\n",
       "      <th>DateCrawled</th>\n",
       "      <th>Price</th>\n",
       "      <th>VehicleType</th>\n",
       "      <th>RegistrationYear</th>\n",
       "      <th>Gearbox</th>\n",
       "      <th>Power</th>\n",
       "      <th>Model</th>\n",
       "      <th>Mileage</th>\n",
       "      <th>RegistrationMonth</th>\n",
       "      <th>FuelType</th>\n",
       "      <th>Brand</th>\n",
       "      <th>NotRepaired</th>\n",
       "      <th>DateCreated</th>\n",
       "      <th>NumberOfPictures</th>\n",
       "      <th>PostalCode</th>\n",
       "      <th>LastSeen</th>\n",
       "    </tr>\n",
       "  </thead>\n",
       "  <tbody>\n",
       "    <tr>\n",
       "      <th>0</th>\n",
       "      <td>24/03/2016 11:52</td>\n",
       "      <td>480</td>\n",
       "      <td>NaN</td>\n",
       "      <td>1993</td>\n",
       "      <td>manual</td>\n",
       "      <td>0</td>\n",
       "      <td>golf</td>\n",
       "      <td>150000</td>\n",
       "      <td>0</td>\n",
       "      <td>petrol</td>\n",
       "      <td>volkswagen</td>\n",
       "      <td>NaN</td>\n",
       "      <td>24/03/2016 00:00</td>\n",
       "      <td>0</td>\n",
       "      <td>70435</td>\n",
       "      <td>07/04/2016 03:16</td>\n",
       "    </tr>\n",
       "    <tr>\n",
       "      <th>1</th>\n",
       "      <td>24/03/2016 10:58</td>\n",
       "      <td>18300</td>\n",
       "      <td>coupe</td>\n",
       "      <td>2011</td>\n",
       "      <td>manual</td>\n",
       "      <td>190</td>\n",
       "      <td>NaN</td>\n",
       "      <td>125000</td>\n",
       "      <td>5</td>\n",
       "      <td>gasoline</td>\n",
       "      <td>audi</td>\n",
       "      <td>yes</td>\n",
       "      <td>24/03/2016 00:00</td>\n",
       "      <td>0</td>\n",
       "      <td>66954</td>\n",
       "      <td>07/04/2016 01:46</td>\n",
       "    </tr>\n",
       "    <tr>\n",
       "      <th>2</th>\n",
       "      <td>14/03/2016 12:52</td>\n",
       "      <td>9800</td>\n",
       "      <td>suv</td>\n",
       "      <td>2004</td>\n",
       "      <td>auto</td>\n",
       "      <td>163</td>\n",
       "      <td>grand</td>\n",
       "      <td>125000</td>\n",
       "      <td>8</td>\n",
       "      <td>gasoline</td>\n",
       "      <td>jeep</td>\n",
       "      <td>NaN</td>\n",
       "      <td>14/03/2016 00:00</td>\n",
       "      <td>0</td>\n",
       "      <td>90480</td>\n",
       "      <td>05/04/2016 12:47</td>\n",
       "    </tr>\n",
       "    <tr>\n",
       "      <th>3</th>\n",
       "      <td>17/03/2016 16:54</td>\n",
       "      <td>1500</td>\n",
       "      <td>small</td>\n",
       "      <td>2001</td>\n",
       "      <td>manual</td>\n",
       "      <td>75</td>\n",
       "      <td>golf</td>\n",
       "      <td>150000</td>\n",
       "      <td>6</td>\n",
       "      <td>petrol</td>\n",
       "      <td>volkswagen</td>\n",
       "      <td>no</td>\n",
       "      <td>17/03/2016 00:00</td>\n",
       "      <td>0</td>\n",
       "      <td>91074</td>\n",
       "      <td>17/03/2016 17:40</td>\n",
       "    </tr>\n",
       "    <tr>\n",
       "      <th>4</th>\n",
       "      <td>31/03/2016 17:25</td>\n",
       "      <td>3600</td>\n",
       "      <td>small</td>\n",
       "      <td>2008</td>\n",
       "      <td>manual</td>\n",
       "      <td>69</td>\n",
       "      <td>fabia</td>\n",
       "      <td>90000</td>\n",
       "      <td>7</td>\n",
       "      <td>gasoline</td>\n",
       "      <td>skoda</td>\n",
       "      <td>no</td>\n",
       "      <td>31/03/2016 00:00</td>\n",
       "      <td>0</td>\n",
       "      <td>60437</td>\n",
       "      <td>06/04/2016 10:17</td>\n",
       "    </tr>\n",
       "  </tbody>\n",
       "</table>\n",
       "</div>"
      ],
      "text/plain": [
       "        DateCrawled  Price VehicleType  RegistrationYear Gearbox  Power  \\\n",
       "0  24/03/2016 11:52    480         NaN              1993  manual      0   \n",
       "1  24/03/2016 10:58  18300       coupe              2011  manual    190   \n",
       "2  14/03/2016 12:52   9800         suv              2004    auto    163   \n",
       "3  17/03/2016 16:54   1500       small              2001  manual     75   \n",
       "4  31/03/2016 17:25   3600       small              2008  manual     69   \n",
       "\n",
       "   Model  Mileage  RegistrationMonth  FuelType       Brand NotRepaired  \\\n",
       "0   golf   150000                  0    petrol  volkswagen         NaN   \n",
       "1    NaN   125000                  5  gasoline        audi         yes   \n",
       "2  grand   125000                  8  gasoline        jeep         NaN   \n",
       "3   golf   150000                  6    petrol  volkswagen          no   \n",
       "4  fabia    90000                  7  gasoline       skoda          no   \n",
       "\n",
       "        DateCreated  NumberOfPictures  PostalCode          LastSeen  \n",
       "0  24/03/2016 00:00                 0       70435  07/04/2016 03:16  \n",
       "1  24/03/2016 00:00                 0       66954  07/04/2016 01:46  \n",
       "2  14/03/2016 00:00                 0       90480  05/04/2016 12:47  \n",
       "3  17/03/2016 00:00                 0       91074  17/03/2016 17:40  \n",
       "4  31/03/2016 00:00                 0       60437  06/04/2016 10:17  "
      ]
     },
     "execution_count": 4,
     "metadata": {},
     "output_type": "execute_result"
    }
   ],
   "source": [
    "df.head()"
   ]
  },
  {
   "cell_type": "markdown",
   "metadata": {},
   "source": [
    "For our purposes, DateCrawled, RegistrationMonth, DateCreated, PostalCode, and LastSeen aren't needed. While RegistrationMonth alongside RegistrationYear will help us predict a car's value, RegistrationMonth is a much less important weight that may affect the output, even with scaling, more than it should. "
   ]
  },
  {
   "cell_type": "code",
   "execution_count": 5,
   "metadata": {},
   "outputs": [
    {
     "data": {
      "text/html": [
       "<div>\n",
       "<style scoped>\n",
       "    .dataframe tbody tr th:only-of-type {\n",
       "        vertical-align: middle;\n",
       "    }\n",
       "\n",
       "    .dataframe tbody tr th {\n",
       "        vertical-align: top;\n",
       "    }\n",
       "\n",
       "    .dataframe thead th {\n",
       "        text-align: right;\n",
       "    }\n",
       "</style>\n",
       "<table border=\"1\" class=\"dataframe\">\n",
       "  <thead>\n",
       "    <tr style=\"text-align: right;\">\n",
       "      <th></th>\n",
       "      <th>Price</th>\n",
       "      <th>RegistrationYear</th>\n",
       "      <th>Power</th>\n",
       "      <th>Mileage</th>\n",
       "      <th>RegistrationMonth</th>\n",
       "      <th>NumberOfPictures</th>\n",
       "      <th>PostalCode</th>\n",
       "    </tr>\n",
       "  </thead>\n",
       "  <tbody>\n",
       "    <tr>\n",
       "      <th>count</th>\n",
       "      <td>354369.000000</td>\n",
       "      <td>354369.000000</td>\n",
       "      <td>354369.000000</td>\n",
       "      <td>354369.000000</td>\n",
       "      <td>354369.000000</td>\n",
       "      <td>354369.0</td>\n",
       "      <td>354369.000000</td>\n",
       "    </tr>\n",
       "    <tr>\n",
       "      <th>mean</th>\n",
       "      <td>4416.656776</td>\n",
       "      <td>2004.234448</td>\n",
       "      <td>110.094337</td>\n",
       "      <td>128211.172535</td>\n",
       "      <td>5.714645</td>\n",
       "      <td>0.0</td>\n",
       "      <td>50508.689087</td>\n",
       "    </tr>\n",
       "    <tr>\n",
       "      <th>std</th>\n",
       "      <td>4514.158514</td>\n",
       "      <td>90.227958</td>\n",
       "      <td>189.850405</td>\n",
       "      <td>37905.341530</td>\n",
       "      <td>3.726421</td>\n",
       "      <td>0.0</td>\n",
       "      <td>25783.096248</td>\n",
       "    </tr>\n",
       "    <tr>\n",
       "      <th>min</th>\n",
       "      <td>0.000000</td>\n",
       "      <td>1000.000000</td>\n",
       "      <td>0.000000</td>\n",
       "      <td>5000.000000</td>\n",
       "      <td>0.000000</td>\n",
       "      <td>0.0</td>\n",
       "      <td>1067.000000</td>\n",
       "    </tr>\n",
       "    <tr>\n",
       "      <th>25%</th>\n",
       "      <td>1050.000000</td>\n",
       "      <td>1999.000000</td>\n",
       "      <td>69.000000</td>\n",
       "      <td>125000.000000</td>\n",
       "      <td>3.000000</td>\n",
       "      <td>0.0</td>\n",
       "      <td>30165.000000</td>\n",
       "    </tr>\n",
       "    <tr>\n",
       "      <th>50%</th>\n",
       "      <td>2700.000000</td>\n",
       "      <td>2003.000000</td>\n",
       "      <td>105.000000</td>\n",
       "      <td>150000.000000</td>\n",
       "      <td>6.000000</td>\n",
       "      <td>0.0</td>\n",
       "      <td>49413.000000</td>\n",
       "    </tr>\n",
       "    <tr>\n",
       "      <th>75%</th>\n",
       "      <td>6400.000000</td>\n",
       "      <td>2008.000000</td>\n",
       "      <td>143.000000</td>\n",
       "      <td>150000.000000</td>\n",
       "      <td>9.000000</td>\n",
       "      <td>0.0</td>\n",
       "      <td>71083.000000</td>\n",
       "    </tr>\n",
       "    <tr>\n",
       "      <th>max</th>\n",
       "      <td>20000.000000</td>\n",
       "      <td>9999.000000</td>\n",
       "      <td>20000.000000</td>\n",
       "      <td>150000.000000</td>\n",
       "      <td>12.000000</td>\n",
       "      <td>0.0</td>\n",
       "      <td>99998.000000</td>\n",
       "    </tr>\n",
       "  </tbody>\n",
       "</table>\n",
       "</div>"
      ],
      "text/plain": [
       "               Price  RegistrationYear          Power        Mileage  \\\n",
       "count  354369.000000     354369.000000  354369.000000  354369.000000   \n",
       "mean     4416.656776       2004.234448     110.094337  128211.172535   \n",
       "std      4514.158514         90.227958     189.850405   37905.341530   \n",
       "min         0.000000       1000.000000       0.000000    5000.000000   \n",
       "25%      1050.000000       1999.000000      69.000000  125000.000000   \n",
       "50%      2700.000000       2003.000000     105.000000  150000.000000   \n",
       "75%      6400.000000       2008.000000     143.000000  150000.000000   \n",
       "max     20000.000000       9999.000000   20000.000000  150000.000000   \n",
       "\n",
       "       RegistrationMonth  NumberOfPictures     PostalCode  \n",
       "count      354369.000000          354369.0  354369.000000  \n",
       "mean            5.714645               0.0   50508.689087  \n",
       "std             3.726421               0.0   25783.096248  \n",
       "min             0.000000               0.0    1067.000000  \n",
       "25%             3.000000               0.0   30165.000000  \n",
       "50%             6.000000               0.0   49413.000000  \n",
       "75%             9.000000               0.0   71083.000000  \n",
       "max            12.000000               0.0   99998.000000  "
      ]
     },
     "execution_count": 5,
     "metadata": {},
     "output_type": "execute_result"
    }
   ],
   "source": [
    "df.describe()"
   ]
  },
  {
   "cell_type": "markdown",
   "metadata": {},
   "source": [
    "After reviewing our minimum, we can see some outliers. Price of the listed vehicle should of course never cost \\\\$0, nor have 0 horsepower, among other issues that are readily apparent. While $0 and 0 horsepower could indicate the vehicle is free or that the vehicle doesn't have a motor, our purpose here is to make a model to predict a car's value, so these are still worth removing as they don't help accurately predict a new customer's listing."
   ]
  },
  {
   "cell_type": "code",
   "execution_count": 6,
   "metadata": {},
   "outputs": [],
   "source": [
    "# Cut off outliers\n",
    "df = df[(df['Price'] > 0) & (df['Power'] > 0) & (df['RegistrationYear'] < 2022) & (df['RegistrationYear'] > 1900) & (\n",
    "    df['Power'] < 2000)].reset_index(drop=True)"
   ]
  },
  {
   "cell_type": "markdown",
   "metadata": {},
   "source": [
    "It's not clear what year this dataset was made, so we'll just cut off all values past this year for RegistrationYear, 2022, and before 1900."
   ]
  },
  {
   "cell_type": "code",
   "execution_count": 7,
   "metadata": {},
   "outputs": [
    {
     "name": "stdout",
     "output_type": "stream",
     "text": [
      "Unique values in NumberOfPictures: [0]\n"
     ]
    }
   ],
   "source": [
    "# Drop unnecesary columns\n",
    "df = df.drop(['DateCrawled', 'RegistrationMonth', 'DateCreated', 'LastSeen', 'PostalCode'], axis=1)\n",
    "\n",
    "# NumberOfPictures seems to have only 0's, checking it here\n",
    "print('Unique values in NumberOfPictures:', df['NumberOfPictures'].unique())\n",
    "# then Dropping NumberOfPictures\n",
    "df = df.drop(['NumberOfPictures'], axis=1)"
   ]
  },
  {
   "cell_type": "markdown",
   "metadata": {},
   "source": [
    "While NumberOfPictures could be useful, none of the listings in this dataset have any, so there's no point in keeping it as a feature for the model."
   ]
  },
  {
   "cell_type": "code",
   "execution_count": 8,
   "metadata": {},
   "outputs": [
    {
     "name": "stdout",
     "output_type": "stream",
     "text": [
      "Total duplicate rows: 39780\n",
      "Total duplicate rows after dropping: 0\n"
     ]
    }
   ],
   "source": [
    "# Identify if there's duplicates\n",
    "print('Total duplicate rows:', len(df) - len(df.drop_duplicates()))\n",
    "# then Dropping duplicates\n",
    "df = df.drop_duplicates()\n",
    "print('Total duplicate rows after dropping:', len(df) - len(df.drop_duplicates()))"
   ]
  },
  {
   "cell_type": "code",
   "execution_count": 9,
   "metadata": {},
   "outputs": [],
   "source": [
    "# Imputing away NaNs\n",
    "numeric_feature_names = ['Price', 'RegistrationYear', 'Power', 'Mileage'] \n",
    "df[numeric_feature_names] = KNNImputer().fit_transform(df[numeric_feature_names])"
   ]
  },
  {
   "cell_type": "code",
   "execution_count": 10,
   "metadata": {},
   "outputs": [],
   "source": [
    "# Changing string columns into numbers for our Linear Regression model\n",
    "df_lr = df.copy()\n",
    "df_lr = pd.get_dummies(df_lr)\n",
    "\n",
    "# Changing string columns into numbers for our other models\n",
    "# label encoder will also replace string NaNs with 0\n",
    "df_ml = df.copy()\n",
    "\n",
    "for column in df_ml[['FuelType', 'VehicleType', 'Brand', 'Model', 'Gearbox', 'NotRepaired']]:\n",
    "    df_ml[column] = LabelEncoder().fit_transform(df_ml[column])"
   ]
  },
  {
   "cell_type": "code",
   "execution_count": 11,
   "metadata": {},
   "outputs": [
    {
     "data": {
      "text/html": [
       "<div>\n",
       "<style scoped>\n",
       "    .dataframe tbody tr th:only-of-type {\n",
       "        vertical-align: middle;\n",
       "    }\n",
       "\n",
       "    .dataframe tbody tr th {\n",
       "        vertical-align: top;\n",
       "    }\n",
       "\n",
       "    .dataframe thead th {\n",
       "        text-align: right;\n",
       "    }\n",
       "</style>\n",
       "<table border=\"1\" class=\"dataframe\">\n",
       "  <thead>\n",
       "    <tr style=\"text-align: right;\">\n",
       "      <th></th>\n",
       "      <th>Price</th>\n",
       "      <th>VehicleType</th>\n",
       "      <th>RegistrationYear</th>\n",
       "      <th>Gearbox</th>\n",
       "      <th>Power</th>\n",
       "      <th>Model</th>\n",
       "      <th>Mileage</th>\n",
       "      <th>FuelType</th>\n",
       "      <th>Brand</th>\n",
       "      <th>NotRepaired</th>\n",
       "    </tr>\n",
       "  </thead>\n",
       "  <tbody>\n",
       "    <tr>\n",
       "      <th>0</th>\n",
       "      <td>18300.0</td>\n",
       "      <td>2</td>\n",
       "      <td>2011.0</td>\n",
       "      <td>1</td>\n",
       "      <td>190.0</td>\n",
       "      <td>249</td>\n",
       "      <td>125000.0</td>\n",
       "      <td>2</td>\n",
       "      <td>1</td>\n",
       "      <td>1</td>\n",
       "    </tr>\n",
       "    <tr>\n",
       "      <th>1</th>\n",
       "      <td>9800.0</td>\n",
       "      <td>6</td>\n",
       "      <td>2004.0</td>\n",
       "      <td>0</td>\n",
       "      <td>163.0</td>\n",
       "      <td>117</td>\n",
       "      <td>125000.0</td>\n",
       "      <td>2</td>\n",
       "      <td>14</td>\n",
       "      <td>2</td>\n",
       "    </tr>\n",
       "    <tr>\n",
       "      <th>2</th>\n",
       "      <td>1500.0</td>\n",
       "      <td>5</td>\n",
       "      <td>2001.0</td>\n",
       "      <td>1</td>\n",
       "      <td>75.0</td>\n",
       "      <td>116</td>\n",
       "      <td>150000.0</td>\n",
       "      <td>6</td>\n",
       "      <td>38</td>\n",
       "      <td>0</td>\n",
       "    </tr>\n",
       "    <tr>\n",
       "      <th>3</th>\n",
       "      <td>3600.0</td>\n",
       "      <td>5</td>\n",
       "      <td>2008.0</td>\n",
       "      <td>1</td>\n",
       "      <td>69.0</td>\n",
       "      <td>101</td>\n",
       "      <td>90000.0</td>\n",
       "      <td>2</td>\n",
       "      <td>31</td>\n",
       "      <td>0</td>\n",
       "    </tr>\n",
       "    <tr>\n",
       "      <th>4</th>\n",
       "      <td>650.0</td>\n",
       "      <td>4</td>\n",
       "      <td>1995.0</td>\n",
       "      <td>1</td>\n",
       "      <td>102.0</td>\n",
       "      <td>11</td>\n",
       "      <td>150000.0</td>\n",
       "      <td>6</td>\n",
       "      <td>2</td>\n",
       "      <td>1</td>\n",
       "    </tr>\n",
       "  </tbody>\n",
       "</table>\n",
       "</div>"
      ],
      "text/plain": [
       "     Price  VehicleType  RegistrationYear  Gearbox  Power  Model   Mileage  \\\n",
       "0  18300.0            2            2011.0        1  190.0    249  125000.0   \n",
       "1   9800.0            6            2004.0        0  163.0    117  125000.0   \n",
       "2   1500.0            5            2001.0        1   75.0    116  150000.0   \n",
       "3   3600.0            5            2008.0        1   69.0    101   90000.0   \n",
       "4    650.0            4            1995.0        1  102.0     11  150000.0   \n",
       "\n",
       "   FuelType  Brand  NotRepaired  \n",
       "0         2      1            1  \n",
       "1         2     14            2  \n",
       "2         6     38            0  \n",
       "3         2     31            0  \n",
       "4         6      2            1  "
      ]
     },
     "execution_count": 11,
     "metadata": {},
     "output_type": "execute_result"
    }
   ],
   "source": [
    "df_ml.head()"
   ]
  },
  {
   "cell_type": "code",
   "execution_count": 12,
   "metadata": {},
   "outputs": [
    {
     "data": {
      "text/html": [
       "<div>\n",
       "<style scoped>\n",
       "    .dataframe tbody tr th:only-of-type {\n",
       "        vertical-align: middle;\n",
       "    }\n",
       "\n",
       "    .dataframe tbody tr th {\n",
       "        vertical-align: top;\n",
       "    }\n",
       "\n",
       "    .dataframe thead th {\n",
       "        text-align: right;\n",
       "    }\n",
       "</style>\n",
       "<table border=\"1\" class=\"dataframe\">\n",
       "  <thead>\n",
       "    <tr style=\"text-align: right;\">\n",
       "      <th></th>\n",
       "      <th>Price</th>\n",
       "      <th>RegistrationYear</th>\n",
       "      <th>Power</th>\n",
       "      <th>Mileage</th>\n",
       "      <th>VehicleType_bus</th>\n",
       "      <th>VehicleType_convertible</th>\n",
       "      <th>VehicleType_coupe</th>\n",
       "      <th>VehicleType_other</th>\n",
       "      <th>VehicleType_sedan</th>\n",
       "      <th>VehicleType_small</th>\n",
       "      <th>...</th>\n",
       "      <th>Brand_smart</th>\n",
       "      <th>Brand_sonstige_autos</th>\n",
       "      <th>Brand_subaru</th>\n",
       "      <th>Brand_suzuki</th>\n",
       "      <th>Brand_toyota</th>\n",
       "      <th>Brand_trabant</th>\n",
       "      <th>Brand_volkswagen</th>\n",
       "      <th>Brand_volvo</th>\n",
       "      <th>NotRepaired_no</th>\n",
       "      <th>NotRepaired_yes</th>\n",
       "    </tr>\n",
       "  </thead>\n",
       "  <tbody>\n",
       "    <tr>\n",
       "      <th>0</th>\n",
       "      <td>18300.0</td>\n",
       "      <td>2011.0</td>\n",
       "      <td>190.0</td>\n",
       "      <td>125000.0</td>\n",
       "      <td>0</td>\n",
       "      <td>0</td>\n",
       "      <td>1</td>\n",
       "      <td>0</td>\n",
       "      <td>0</td>\n",
       "      <td>0</td>\n",
       "      <td>...</td>\n",
       "      <td>0</td>\n",
       "      <td>0</td>\n",
       "      <td>0</td>\n",
       "      <td>0</td>\n",
       "      <td>0</td>\n",
       "      <td>0</td>\n",
       "      <td>0</td>\n",
       "      <td>0</td>\n",
       "      <td>0</td>\n",
       "      <td>1</td>\n",
       "    </tr>\n",
       "    <tr>\n",
       "      <th>1</th>\n",
       "      <td>9800.0</td>\n",
       "      <td>2004.0</td>\n",
       "      <td>163.0</td>\n",
       "      <td>125000.0</td>\n",
       "      <td>0</td>\n",
       "      <td>0</td>\n",
       "      <td>0</td>\n",
       "      <td>0</td>\n",
       "      <td>0</td>\n",
       "      <td>0</td>\n",
       "      <td>...</td>\n",
       "      <td>0</td>\n",
       "      <td>0</td>\n",
       "      <td>0</td>\n",
       "      <td>0</td>\n",
       "      <td>0</td>\n",
       "      <td>0</td>\n",
       "      <td>0</td>\n",
       "      <td>0</td>\n",
       "      <td>0</td>\n",
       "      <td>0</td>\n",
       "    </tr>\n",
       "    <tr>\n",
       "      <th>2</th>\n",
       "      <td>1500.0</td>\n",
       "      <td>2001.0</td>\n",
       "      <td>75.0</td>\n",
       "      <td>150000.0</td>\n",
       "      <td>0</td>\n",
       "      <td>0</td>\n",
       "      <td>0</td>\n",
       "      <td>0</td>\n",
       "      <td>0</td>\n",
       "      <td>1</td>\n",
       "      <td>...</td>\n",
       "      <td>0</td>\n",
       "      <td>0</td>\n",
       "      <td>0</td>\n",
       "      <td>0</td>\n",
       "      <td>0</td>\n",
       "      <td>0</td>\n",
       "      <td>1</td>\n",
       "      <td>0</td>\n",
       "      <td>1</td>\n",
       "      <td>0</td>\n",
       "    </tr>\n",
       "    <tr>\n",
       "      <th>3</th>\n",
       "      <td>3600.0</td>\n",
       "      <td>2008.0</td>\n",
       "      <td>69.0</td>\n",
       "      <td>90000.0</td>\n",
       "      <td>0</td>\n",
       "      <td>0</td>\n",
       "      <td>0</td>\n",
       "      <td>0</td>\n",
       "      <td>0</td>\n",
       "      <td>1</td>\n",
       "      <td>...</td>\n",
       "      <td>0</td>\n",
       "      <td>0</td>\n",
       "      <td>0</td>\n",
       "      <td>0</td>\n",
       "      <td>0</td>\n",
       "      <td>0</td>\n",
       "      <td>0</td>\n",
       "      <td>0</td>\n",
       "      <td>1</td>\n",
       "      <td>0</td>\n",
       "    </tr>\n",
       "    <tr>\n",
       "      <th>4</th>\n",
       "      <td>650.0</td>\n",
       "      <td>1995.0</td>\n",
       "      <td>102.0</td>\n",
       "      <td>150000.0</td>\n",
       "      <td>0</td>\n",
       "      <td>0</td>\n",
       "      <td>0</td>\n",
       "      <td>0</td>\n",
       "      <td>1</td>\n",
       "      <td>0</td>\n",
       "      <td>...</td>\n",
       "      <td>0</td>\n",
       "      <td>0</td>\n",
       "      <td>0</td>\n",
       "      <td>0</td>\n",
       "      <td>0</td>\n",
       "      <td>0</td>\n",
       "      <td>0</td>\n",
       "      <td>0</td>\n",
       "      <td>0</td>\n",
       "      <td>1</td>\n",
       "    </tr>\n",
       "  </tbody>\n",
       "</table>\n",
       "<p>5 rows × 312 columns</p>\n",
       "</div>"
      ],
      "text/plain": [
       "     Price  RegistrationYear  Power   Mileage  VehicleType_bus  \\\n",
       "0  18300.0            2011.0  190.0  125000.0                0   \n",
       "1   9800.0            2004.0  163.0  125000.0                0   \n",
       "2   1500.0            2001.0   75.0  150000.0                0   \n",
       "3   3600.0            2008.0   69.0   90000.0                0   \n",
       "4    650.0            1995.0  102.0  150000.0                0   \n",
       "\n",
       "   VehicleType_convertible  VehicleType_coupe  VehicleType_other  \\\n",
       "0                        0                  1                  0   \n",
       "1                        0                  0                  0   \n",
       "2                        0                  0                  0   \n",
       "3                        0                  0                  0   \n",
       "4                        0                  0                  0   \n",
       "\n",
       "   VehicleType_sedan  VehicleType_small  ...  Brand_smart  \\\n",
       "0                  0                  0  ...            0   \n",
       "1                  0                  0  ...            0   \n",
       "2                  0                  1  ...            0   \n",
       "3                  0                  1  ...            0   \n",
       "4                  1                  0  ...            0   \n",
       "\n",
       "   Brand_sonstige_autos  Brand_subaru  Brand_suzuki  Brand_toyota  \\\n",
       "0                     0             0             0             0   \n",
       "1                     0             0             0             0   \n",
       "2                     0             0             0             0   \n",
       "3                     0             0             0             0   \n",
       "4                     0             0             0             0   \n",
       "\n",
       "   Brand_trabant  Brand_volkswagen  Brand_volvo  NotRepaired_no  \\\n",
       "0              0                 0            0               0   \n",
       "1              0                 0            0               0   \n",
       "2              0                 1            0               1   \n",
       "3              0                 0            0               1   \n",
       "4              0                 0            0               0   \n",
       "\n",
       "   NotRepaired_yes  \n",
       "0                1  \n",
       "1                0  \n",
       "2                0  \n",
       "3                0  \n",
       "4                1  \n",
       "\n",
       "[5 rows x 312 columns]"
      ]
     },
     "execution_count": 12,
     "metadata": {},
     "output_type": "execute_result"
    }
   ],
   "source": [
    "df_lr.head()"
   ]
  },
  {
   "cell_type": "markdown",
   "metadata": {},
   "source": [
    "After cleaning up our dataset by dropping duplicates, unnecessary columns, and outliers after scaling and replacing our string columns with numbers we can move onto the next stage."
   ]
  },
  {
   "cell_type": "markdown",
   "metadata": {},
   "source": [
    "## Model Training"
   ]
  },
  {
   "cell_type": "code",
   "execution_count": 13,
   "metadata": {},
   "outputs": [
    {
     "name": "stdout",
     "output_type": "stream",
     "text": [
      "Target Train Shape: (240573,)\n",
      "Features Train Shape: (240573, 9)\n",
      "\n",
      "Target Test Shape: (26731,)\n",
      "Features Test Shape: (26731, 9)\n"
     ]
    }
   ],
   "source": [
    "# Creating variables for testing and training for LR\n",
    "target_train_lr, target_test_lr, features_train_lr, features_test_lr = train_test_split(\n",
    "    df_lr['Price'], df_lr.drop(['Price'], axis=1), test_size=0.1, random_state=123)\n",
    "\n",
    "# Creating variables for testing and training for ML\n",
    "target_train_ml, target_test_ml, features_train_ml, features_test_ml = train_test_split(\n",
    "    df_ml['Price'], df_ml.drop(['Price'], axis=1), test_size=0.1, random_state=123)\n",
    "\n",
    "# The following prints are only for the ML variables, however since I only copy/pasted for the ML variables and \n",
    "# made small edits to turn change it to LR, so since it's closely the same code it would be redundant to test both\n",
    "print('Target Train Shape:', target_train_ml.shape)\n",
    "print('Features Train Shape:', features_train_ml.shape)\n",
    "print()\n",
    "print('Target Test Shape:', target_test_ml.shape)\n",
    "print('Features Test Shape:', features_test_ml.shape)"
   ]
  },
  {
   "cell_type": "code",
   "execution_count": 14,
   "metadata": {},
   "outputs": [],
   "source": [
    "# Scaling our LR variables\n",
    "transformer_mas = MaxAbsScaler().fit(features_train_lr)\n",
    "features_train_lr = transformer_mas.transform(features_train_lr)\n",
    "features_test_lr = transformer_mas.transform(features_test_lr)\n",
    "\n",
    "# Scaling our ML variables\n",
    "transformer_mas = MaxAbsScaler().fit(features_train_ml)\n",
    "features_train_ml = transformer_mas.transform(features_train_ml)\n",
    "features_test_ml = transformer_mas.transform(features_test_ml)"
   ]
  },
  {
   "cell_type": "markdown",
   "metadata": {},
   "source": [
    "### Linear Regression"
   ]
  },
  {
   "cell_type": "code",
   "execution_count": 15,
   "metadata": {},
   "outputs": [
    {
     "name": "stdout",
     "output_type": "stream",
     "text": [
      "Wall time: 12.1 s\n"
     ]
    },
    {
     "data": {
      "text/plain": [
       "GridSearchCV(cv=5, estimator=LinearRegression(), param_grid={})"
      ]
     },
     "execution_count": 15,
     "metadata": {},
     "output_type": "execute_result"
    }
   ],
   "source": [
    "%%time\n",
    "# Testing Linear Regression with GridSearchCV for cross-validation\n",
    "param_grid = {}\n",
    "\n",
    "lr_model = GridSearchCV(estimator=LinearRegression(), param_grid=param_grid, cv=5)\n",
    "lr_model.fit(features_train_lr, target_train_lr)"
   ]
  },
  {
   "cell_type": "code",
   "execution_count": 16,
   "metadata": {},
   "outputs": [
    {
     "name": "stdout",
     "output_type": "stream",
     "text": [
      "Wall time: 15 ms\n"
     ]
    }
   ],
   "source": [
    "%%time\n",
    "lr_predict = lr_model.predict(features_test_lr)"
   ]
  },
  {
   "cell_type": "markdown",
   "metadata": {},
   "source": [
    "### Decision Tree Regressor"
   ]
  },
  {
   "cell_type": "code",
   "execution_count": 17,
   "metadata": {},
   "outputs": [
    {
     "name": "stdout",
     "output_type": "stream",
     "text": [
      "Wall time: 10.3 s\n"
     ]
    },
    {
     "data": {
      "text/plain": [
       "GridSearchCV(cv=5, estimator=DecisionTreeRegressor(random_state=123),\n",
       "             param_grid={'max_depth': [3, 6, 9, 12, 15],\n",
       "                         'max_features': ['auto', 'sqrt', 'log2']})"
      ]
     },
     "execution_count": 17,
     "metadata": {},
     "output_type": "execute_result"
    }
   ],
   "source": [
    "%%time\n",
    "# Tuning Decision Tree Regression parameters using GridSearchCV\n",
    "param = {\n",
    "    'max_features': ['auto', 'sqrt', 'log2'],\n",
    "    'max_depth': [int(x) for x in np.linspace(3, 15, num = 5)],\n",
    "}\n",
    "\n",
    "dtr_model = GridSearchCV(estimator=DecisionTreeRegressor(random_state=123), param_grid=param, cv=5)\n",
    "dtr_model.fit(features_train_ml, target_train_ml)"
   ]
  },
  {
   "cell_type": "code",
   "execution_count": 18,
   "metadata": {
    "scrolled": true
   },
   "outputs": [
    {
     "name": "stdout",
     "output_type": "stream",
     "text": [
      "Wall time: 3.99 ms\n"
     ]
    }
   ],
   "source": [
    "%%time\n",
    "dtr_predict = dtr_model.predict(features_test_ml)"
   ]
  },
  {
   "cell_type": "markdown",
   "metadata": {},
   "source": [
    "### Random Forest Regressor"
   ]
  },
  {
   "cell_type": "code",
   "execution_count": 19,
   "metadata": {},
   "outputs": [
    {
     "name": "stdout",
     "output_type": "stream",
     "text": [
      "Wall time: 8min 33s\n"
     ]
    },
    {
     "data": {
      "text/plain": [
       "GridSearchCV(cv=3, estimator=RandomForestRegressor(random_state=123),\n",
       "             param_grid={'max_depth': [3, 9, 15],\n",
       "                         'max_features': ['auto', 'sqrt'],\n",
       "                         'n_estimators': [100, 200]})"
      ]
     },
     "execution_count": 19,
     "metadata": {},
     "output_type": "execute_result"
    }
   ],
   "source": [
    "%%time\n",
    "# Tuning Random Forest Regressors parameters using GridSearchCV\n",
    "# limited paramater tuning due to training time\n",
    "param = {\n",
    "    'n_estimators': [int(x) for x in np.linspace(start = 100, stop = 200, num = 2)],\n",
    "    'max_features': ['auto', 'sqrt'],\n",
    "    'max_depth': [int(x) for x in np.linspace(3, 15, num = 3)],\n",
    "}\n",
    "\n",
    "rfr_model = GridSearchCV(estimator=RandomForestRegressor(random_state=123), param_grid=param, cv=3)\n",
    "rfr_model.fit(features_train_ml, target_train_ml)"
   ]
  },
  {
   "cell_type": "code",
   "execution_count": 20,
   "metadata": {},
   "outputs": [
    {
     "name": "stdout",
     "output_type": "stream",
     "text": [
      "Wall time: 732 ms\n"
     ]
    }
   ],
   "source": [
    "%%time\n",
    "rfr_predict = rfr_model.predict(features_test_ml)"
   ]
  },
  {
   "cell_type": "markdown",
   "metadata": {},
   "source": [
    "### Light GBM"
   ]
  },
  {
   "cell_type": "markdown",
   "metadata": {},
   "source": [
    "#### Light GBM 1"
   ]
  },
  {
   "cell_type": "code",
   "execution_count": 21,
   "metadata": {},
   "outputs": [
    {
     "name": "stdout",
     "output_type": "stream",
     "text": [
      "Wall time: 2.51 s\n"
     ]
    },
    {
     "data": {
      "text/plain": [
       "GridSearchCV(cv=5, estimator=LGBMRegressor(random_state=123), param_grid={})"
      ]
     },
     "execution_count": 21,
     "metadata": {},
     "output_type": "execute_result"
    }
   ],
   "source": [
    "%%time\n",
    "# Train using LightGBM\n",
    "param = {}\n",
    "\n",
    "lgb_model_1 = GridSearchCV(estimator=lightgbm.LGBMRegressor(random_state=123), param_grid=param, cv=5)\n",
    "lgb_model_1.fit(features_train_ml, target_train_ml, eval_metric='logloss')"
   ]
  },
  {
   "cell_type": "code",
   "execution_count": 22,
   "metadata": {},
   "outputs": [
    {
     "name": "stdout",
     "output_type": "stream",
     "text": [
      "Wall time: 28.9 ms\n"
     ]
    }
   ],
   "source": [
    "%%time\n",
    "lgb_predict_1 = lgb_model_1.predict(features_test_ml)"
   ]
  },
  {
   "cell_type": "markdown",
   "metadata": {},
   "source": [
    "#### Light GBM 2"
   ]
  },
  {
   "cell_type": "code",
   "execution_count": 23,
   "metadata": {},
   "outputs": [
    {
     "name": "stdout",
     "output_type": "stream",
     "text": [
      "Wall time: 4.6 s\n"
     ]
    },
    {
     "data": {
      "text/plain": [
       "GridSearchCV(cv=5, estimator=LGBMRegressor(random_state=123),\n",
       "             param_grid={'n_estimators': [10, 15, 20, 25, 30]})"
      ]
     },
     "execution_count": 23,
     "metadata": {},
     "output_type": "execute_result"
    }
   ],
   "source": [
    "%%time\n",
    "# Train using LightGBM with weight\n",
    "param = {\n",
    "    'n_estimators' : [int(x) for x in np.linspace(10, 30, 5)]\n",
    "}\n",
    "\n",
    "lgb_model_2 = GridSearchCV(estimator=lightgbm.LGBMRegressor(random_state=123), param_grid=param, cv=5)\n",
    "lgb_model_2.fit(features_train_ml, target_train_ml, eval_metric='logloss')"
   ]
  },
  {
   "cell_type": "code",
   "execution_count": 24,
   "metadata": {},
   "outputs": [
    {
     "name": "stdout",
     "output_type": "stream",
     "text": [
      "Wall time: 12 ms\n"
     ]
    }
   ],
   "source": [
    "%%time\n",
    "lgb_predict_2 = lgb_model_2.predict(features_test_ml)"
   ]
  },
  {
   "cell_type": "markdown",
   "metadata": {},
   "source": [
    "#### Light GBM 3"
   ]
  },
  {
   "cell_type": "code",
   "execution_count": 25,
   "metadata": {},
   "outputs": [
    {
     "name": "stdout",
     "output_type": "stream",
     "text": [
      "Wall time: 13.9 s\n"
     ]
    },
    {
     "data": {
      "text/plain": [
       "GridSearchCV(cv=5, estimator=LGBMRegressor(random_state=123),\n",
       "             param_grid={'n_estimators': [10, 15, 20, 25, 30],\n",
       "                         'num_leaves': [3, 6, 9, 12]})"
      ]
     },
     "execution_count": 25,
     "metadata": {},
     "output_type": "execute_result"
    }
   ],
   "source": [
    "%%time\n",
    "# Train using LightGBM with weights and leaves\n",
    "param = {\n",
    "    'n_estimators' : [int(x) for x in np.linspace(10, 30, 5)],\n",
    "    'num_leaves' : [int(x) for x in np.linspace(3, 12, 4)]\n",
    "}\n",
    "\n",
    "lgb_model_3 = GridSearchCV(estimator=lightgbm.LGBMRegressor(random_state=123), param_grid=param, cv=5)\n",
    "lgb_model_3.fit(features_train_ml, target_train_ml, eval_metric='logloss')"
   ]
  },
  {
   "cell_type": "code",
   "execution_count": 26,
   "metadata": {},
   "outputs": [
    {
     "name": "stdout",
     "output_type": "stream",
     "text": [
      "Wall time: 8.48 ms\n"
     ]
    }
   ],
   "source": [
    "%%time\n",
    "lgb_predict_3 = lgb_model_3.predict(features_test_ml)"
   ]
  },
  {
   "cell_type": "markdown",
   "metadata": {},
   "source": [
    "The base LightGBM took quite a long time, and changing around the parameters caused it to be much much faster. RFR took quite a while as well, whereas the remaining models quite quick."
   ]
  },
  {
   "cell_type": "markdown",
   "metadata": {},
   "source": [
    "## Model Analysis"
   ]
  },
  {
   "cell_type": "code",
   "execution_count": 27,
   "metadata": {},
   "outputs": [
    {
     "name": "stdout",
     "output_type": "stream",
     "text": [
      "RMSE for Linear Regression, considered a sanity check: 2736.073812677318\n",
      "\n",
      "RMSE for Decision Tree Regression: 1914.796661771209\n",
      "\n",
      "RMSE for Random Forest Regression: 1663.5666798183497\n",
      "\n",
      "RMSE for LightGBM: 1725.0605109375585\n",
      "\n",
      "RMSE for LightGBM with weights: 1945.7446062028644\n",
      "\n",
      "RMSE for LightGBM with weights and leaves: 2118.8878036259757\n",
      "\n"
     ]
    }
   ],
   "source": [
    "# RMSE for LinearRegression\n",
    "print('RMSE for Linear Regression, considered a sanity check:', sqrt(mean_squared_error(target_test_lr, lr_predict)))\n",
    "print()\n",
    "\n",
    "# RMSE for DecisionTreeRegressor\n",
    "print('RMSE for Decision Tree Regression:', sqrt(mean_squared_error(target_test_ml, dtr_predict)))\n",
    "print()\n",
    "\n",
    "# RMSE for RandomForestRegressor\n",
    "print('RMSE for Random Forest Regression:', sqrt(mean_squared_error(target_test_ml, rfr_predict)))\n",
    "print()\n",
    "\n",
    "# RMSE for LightGBM\n",
    "print('RMSE for LightGBM:', sqrt(mean_squared_error(target_test_ml, lgb_predict_1)))\n",
    "print()\n",
    "\n",
    "# RMSE for LightGBM with weights\n",
    "print('RMSE for LightGBM with weights:', sqrt(mean_squared_error(target_test_ml, lgb_predict_2)))\n",
    "print()\n",
    "\n",
    "# RMSE for LightGBM with weights and leaves\n",
    "print('RMSE for LightGBM with weights and leaves:', sqrt(mean_squared_error(target_test_ml, lgb_predict_3)))\n",
    "print()"
   ]
  },
  {
   "cell_type": "markdown",
   "metadata": {},
   "source": [
    "LightGBM has the second lowest RMSE score after RFR, however both took much longer than other models comparatively. That leaves the LightGBM model with modified weights and Decision Tree left to choose beteween, and the DTR was quicker and has lower RMSE."
   ]
  }
 ],
 "metadata": {
  "ExecuteTimeLog": [
   {
    "duration": 87,
    "start_time": "2022-07-05T21:07:59.737Z"
   },
   {
    "duration": 75,
    "start_time": "2022-07-05T21:08:04.548Z"
   },
   {
    "duration": 2797,
    "start_time": "2022-07-05T21:55:39.936Z"
   },
   {
    "duration": 30,
    "start_time": "2022-07-05T21:56:03.685Z"
   },
   {
    "duration": 14,
    "start_time": "2022-07-05T22:22:38.212Z"
   },
   {
    "duration": 16,
    "start_time": "2022-07-05T22:35:36.655Z"
   },
   {
    "duration": 28,
    "start_time": "2022-07-05T22:37:04.997Z"
   },
   {
    "duration": 12,
    "start_time": "2022-07-05T22:37:21.548Z"
   },
   {
    "duration": 11,
    "start_time": "2022-07-05T22:37:28.238Z"
   },
   {
    "duration": 19,
    "start_time": "2022-07-05T22:37:34.098Z"
   },
   {
    "duration": 1177,
    "start_time": "2022-07-05T22:38:05.883Z"
   },
   {
    "duration": 21,
    "start_time": "2022-07-05T22:38:07.063Z"
   },
   {
    "duration": 31,
    "start_time": "2022-07-05T22:38:07.086Z"
   },
   {
    "duration": 21,
    "start_time": "2022-07-05T22:38:07.119Z"
   },
   {
    "duration": 6,
    "start_time": "2022-07-05T22:38:44.102Z"
   },
   {
    "duration": 9,
    "start_time": "2022-07-05T22:38:49.833Z"
   },
   {
    "duration": 16,
    "start_time": "2022-07-05T22:38:56.172Z"
   },
   {
    "duration": 18,
    "start_time": "2022-07-05T22:39:00.294Z"
   },
   {
    "duration": 13,
    "start_time": "2022-07-05T22:39:01.951Z"
   },
   {
    "duration": 14,
    "start_time": "2022-07-05T22:39:03.814Z"
   },
   {
    "duration": 6,
    "start_time": "2022-07-05T22:40:48.012Z"
   },
   {
    "duration": 75,
    "start_time": "2022-07-05T22:41:24.485Z"
   },
   {
    "duration": 1167,
    "start_time": "2022-07-05T22:41:29.915Z"
   },
   {
    "duration": 24,
    "start_time": "2022-07-05T22:41:31.084Z"
   },
   {
    "duration": 110,
    "start_time": "2022-07-05T22:41:31.110Z"
   },
   {
    "duration": 0,
    "start_time": "2022-07-05T22:41:31.222Z"
   },
   {
    "duration": 15,
    "start_time": "2022-07-05T22:41:46.623Z"
   },
   {
    "duration": 1156,
    "start_time": "2022-07-05T22:41:57.578Z"
   },
   {
    "duration": 21,
    "start_time": "2022-07-05T22:41:58.737Z"
   },
   {
    "duration": 43,
    "start_time": "2022-07-05T22:41:58.760Z"
   },
   {
    "duration": 6,
    "start_time": "2022-07-05T22:41:58.805Z"
   },
   {
    "duration": 33,
    "start_time": "2022-07-05T22:42:47.567Z"
   },
   {
    "duration": 83,
    "start_time": "2022-07-05T22:43:35.178Z"
   },
   {
    "duration": 1116,
    "start_time": "2022-07-05T22:43:40.563Z"
   },
   {
    "duration": 22,
    "start_time": "2022-07-05T22:43:41.681Z"
   },
   {
    "duration": 35,
    "start_time": "2022-07-05T22:43:41.705Z"
   },
   {
    "duration": 32,
    "start_time": "2022-07-05T22:43:41.742Z"
   },
   {
    "duration": 19,
    "start_time": "2022-07-05T22:43:53.283Z"
   },
   {
    "duration": 69,
    "start_time": "2022-07-05T23:44:08.213Z"
   },
   {
    "duration": 86,
    "start_time": "2022-07-05T23:44:12.347Z"
   },
   {
    "duration": 80,
    "start_time": "2022-07-05T23:44:20.569Z"
   },
   {
    "duration": 1642,
    "start_time": "2022-07-05T23:51:27.094Z"
   },
   {
    "duration": 58,
    "start_time": "2022-07-05T23:52:19.489Z"
   },
   {
    "duration": 10,
    "start_time": "2022-07-05T23:52:34.729Z"
   },
   {
    "duration": 752,
    "start_time": "2022-07-05T23:52:39.285Z"
   },
   {
    "duration": 731,
    "start_time": "2022-07-05T23:53:06.012Z"
   },
   {
    "duration": 10,
    "start_time": "2022-07-05T23:53:28.677Z"
   },
   {
    "duration": 391,
    "start_time": "2022-07-05T23:54:14.348Z"
   },
   {
    "duration": 444,
    "start_time": "2022-07-05T23:54:28.242Z"
   },
   {
    "duration": 15,
    "start_time": "2022-07-05T23:54:37.224Z"
   },
   {
    "duration": 2152,
    "start_time": "2022-07-05T23:55:14.682Z"
   },
   {
    "duration": 26,
    "start_time": "2022-07-05T23:55:16.836Z"
   },
   {
    "duration": 55,
    "start_time": "2022-07-05T23:55:16.865Z"
   },
   {
    "duration": 272,
    "start_time": "2022-07-05T23:55:16.923Z"
   },
   {
    "duration": 219,
    "start_time": "2022-07-05T23:55:17.197Z"
   },
   {
    "duration": 186,
    "start_time": "2022-07-05T23:55:58.128Z"
   },
   {
    "duration": 1961,
    "start_time": "2022-07-05T23:56:10.121Z"
   },
   {
    "duration": 24,
    "start_time": "2022-07-05T23:56:12.084Z"
   },
   {
    "duration": 29,
    "start_time": "2022-07-05T23:56:12.111Z"
   },
   {
    "duration": 30,
    "start_time": "2022-07-05T23:56:12.142Z"
   },
   {
    "duration": 241,
    "start_time": "2022-07-05T23:56:12.174Z"
   },
   {
    "duration": 114,
    "start_time": "2022-07-05T23:56:16.034Z"
   },
   {
    "duration": 19,
    "start_time": "2022-07-05T23:56:44.407Z"
   },
   {
    "duration": 2054,
    "start_time": "2022-07-05T23:56:50.338Z"
   },
   {
    "duration": 33,
    "start_time": "2022-07-05T23:56:52.394Z"
   },
   {
    "duration": 28,
    "start_time": "2022-07-05T23:56:52.429Z"
   },
   {
    "duration": 509,
    "start_time": "2022-07-05T23:56:52.459Z"
   },
   {
    "duration": 202,
    "start_time": "2022-07-05T23:56:52.970Z"
   },
   {
    "duration": 120,
    "start_time": "2022-07-05T23:57:18.038Z"
   },
   {
    "duration": 2089,
    "start_time": "2022-07-05T23:57:23.400Z"
   },
   {
    "duration": 26,
    "start_time": "2022-07-05T23:57:25.491Z"
   },
   {
    "duration": 38,
    "start_time": "2022-07-05T23:57:25.519Z"
   },
   {
    "duration": 643,
    "start_time": "2022-07-05T23:57:25.559Z"
   },
   {
    "duration": 1936,
    "start_time": "2022-07-05T23:57:57.248Z"
   },
   {
    "duration": 28,
    "start_time": "2022-07-05T23:57:59.186Z"
   },
   {
    "duration": 28,
    "start_time": "2022-07-05T23:57:59.216Z"
   },
   {
    "duration": 637,
    "start_time": "2022-07-05T23:57:59.246Z"
   },
   {
    "duration": 2020,
    "start_time": "2022-07-05T23:59:00.630Z"
   },
   {
    "duration": 21,
    "start_time": "2022-07-05T23:59:02.653Z"
   },
   {
    "duration": 70,
    "start_time": "2022-07-05T23:59:02.676Z"
   },
   {
    "duration": 635,
    "start_time": "2022-07-05T23:59:02.749Z"
   },
   {
    "duration": 120,
    "start_time": "2022-07-05T23:59:37.145Z"
   },
   {
    "duration": 2005,
    "start_time": "2022-07-05T23:59:42.540Z"
   },
   {
    "duration": 21,
    "start_time": "2022-07-05T23:59:44.547Z"
   },
   {
    "duration": 67,
    "start_time": "2022-07-05T23:59:44.570Z"
   },
   {
    "duration": 570,
    "start_time": "2022-07-05T23:59:44.639Z"
   },
   {
    "duration": 63,
    "start_time": "2022-07-06T00:01:15.769Z"
   },
   {
    "duration": 1976,
    "start_time": "2022-07-06T00:01:52.445Z"
   },
   {
    "duration": 20,
    "start_time": "2022-07-06T00:01:54.423Z"
   },
   {
    "duration": 115,
    "start_time": "2022-07-06T00:01:54.445Z"
   },
   {
    "duration": 66,
    "start_time": "2022-07-06T00:01:54.562Z"
   },
   {
    "duration": 598,
    "start_time": "2022-07-06T00:01:54.630Z"
   },
   {
    "duration": 1957,
    "start_time": "2022-07-06T01:10:29.497Z"
   },
   {
    "duration": 22,
    "start_time": "2022-07-06T01:10:31.456Z"
   },
   {
    "duration": 119,
    "start_time": "2022-07-06T01:10:31.480Z"
   },
   {
    "duration": 81,
    "start_time": "2022-07-06T01:10:31.602Z"
   },
   {
    "duration": 0,
    "start_time": "2022-07-06T01:10:31.685Z"
   },
   {
    "duration": 0,
    "start_time": "2022-07-06T01:10:31.686Z"
   },
   {
    "duration": 1151,
    "start_time": "2022-07-06T01:11:55.551Z"
   },
   {
    "duration": 218,
    "start_time": "2022-07-06T01:12:50.465Z"
   },
   {
    "duration": 164,
    "start_time": "2022-07-06T01:13:01.409Z"
   },
   {
    "duration": 507,
    "start_time": "2022-07-06T01:21:08.891Z"
   },
   {
    "duration": 684,
    "start_time": "2022-07-06T01:21:47.746Z"
   },
   {
    "duration": 563,
    "start_time": "2022-07-06T01:21:52.769Z"
   },
   {
    "duration": 458,
    "start_time": "2022-07-06T01:22:02.006Z"
   },
   {
    "duration": 545,
    "start_time": "2022-07-06T01:22:06.300Z"
   },
   {
    "duration": 0,
    "start_time": "2022-07-06T01:30:55.103Z"
   },
   {
    "duration": 325,
    "start_time": "2022-07-06T01:32:23.981Z"
   },
   {
    "duration": 24,
    "start_time": "2022-07-06T01:32:29.975Z"
   },
   {
    "duration": 2186,
    "start_time": "2022-07-06T01:32:42.626Z"
   },
   {
    "duration": 18,
    "start_time": "2022-07-06T01:32:44.814Z"
   },
   {
    "duration": 108,
    "start_time": "2022-07-06T01:32:44.834Z"
   },
   {
    "duration": 331,
    "start_time": "2022-07-06T01:32:44.945Z"
   },
   {
    "duration": 30,
    "start_time": "2022-07-06T01:32:45.278Z"
   },
   {
    "duration": 210,
    "start_time": "2022-07-06T01:32:45.309Z"
   },
   {
    "duration": 736,
    "start_time": "2022-07-06T01:32:45.521Z"
   },
   {
    "duration": 2153,
    "start_time": "2022-07-06T01:33:00.014Z"
   },
   {
    "duration": 18,
    "start_time": "2022-07-06T01:33:02.169Z"
   },
   {
    "duration": 102,
    "start_time": "2022-07-06T01:33:02.188Z"
   },
   {
    "duration": 2,
    "start_time": "2022-07-06T01:33:02.298Z"
   },
   {
    "duration": 31,
    "start_time": "2022-07-06T01:33:02.301Z"
   },
   {
    "duration": 66,
    "start_time": "2022-07-06T01:33:02.334Z"
   },
   {
    "duration": 561,
    "start_time": "2022-07-06T01:33:02.402Z"
   },
   {
    "duration": 275,
    "start_time": "2022-07-06T01:34:22.471Z"
   },
   {
    "duration": 2146,
    "start_time": "2022-07-06T01:34:50.642Z"
   },
   {
    "duration": 18,
    "start_time": "2022-07-06T01:34:52.790Z"
   },
   {
    "duration": 151,
    "start_time": "2022-07-06T01:34:52.810Z"
   },
   {
    "duration": 300,
    "start_time": "2022-07-06T01:34:52.963Z"
   },
   {
    "duration": 0,
    "start_time": "2022-07-06T01:34:53.311Z"
   },
   {
    "duration": 0,
    "start_time": "2022-07-06T01:34:53.313Z"
   },
   {
    "duration": 0,
    "start_time": "2022-07-06T01:34:53.314Z"
   },
   {
    "duration": 32,
    "start_time": "2022-07-06T01:35:44.510Z"
   },
   {
    "duration": 45,
    "start_time": "2022-07-06T01:36:15.437Z"
   },
   {
    "duration": 67,
    "start_time": "2022-07-06T01:37:35.866Z"
   },
   {
    "duration": 25,
    "start_time": "2022-07-06T01:37:38.525Z"
   },
   {
    "duration": 106,
    "start_time": "2022-07-06T01:38:25.224Z"
   },
   {
    "duration": 9,
    "start_time": "2022-07-06T01:38:27.605Z"
   },
   {
    "duration": 2170,
    "start_time": "2022-07-06T01:38:35.352Z"
   },
   {
    "duration": 18,
    "start_time": "2022-07-06T01:38:37.524Z"
   },
   {
    "duration": 162,
    "start_time": "2022-07-06T01:38:37.544Z"
   },
   {
    "duration": 46,
    "start_time": "2022-07-06T01:38:37.709Z"
   },
   {
    "duration": 48,
    "start_time": "2022-07-06T01:38:37.757Z"
   },
   {
    "duration": 50,
    "start_time": "2022-07-06T01:38:37.808Z"
   },
   {
    "duration": 558,
    "start_time": "2022-07-06T01:38:37.860Z"
   },
   {
    "duration": 40,
    "start_time": "2022-07-06T01:39:56.341Z"
   },
   {
    "duration": 18,
    "start_time": "2022-07-06T01:39:57.368Z"
   },
   {
    "duration": 6,
    "start_time": "2022-07-06T01:40:34.455Z"
   },
   {
    "duration": 5,
    "start_time": "2022-07-06T01:40:39.109Z"
   },
   {
    "duration": 60,
    "start_time": "2022-07-06T01:41:19.841Z"
   },
   {
    "duration": 5,
    "start_time": "2022-07-06T01:41:21.301Z"
   },
   {
    "duration": 5,
    "start_time": "2022-07-06T01:41:24.165Z"
   },
   {
    "duration": 5,
    "start_time": "2022-07-06T01:41:32.371Z"
   },
   {
    "duration": 2225,
    "start_time": "2022-07-06T01:41:37.863Z"
   },
   {
    "duration": 19,
    "start_time": "2022-07-06T01:41:40.090Z"
   },
   {
    "duration": 103,
    "start_time": "2022-07-06T01:41:40.111Z"
   },
   {
    "duration": 2,
    "start_time": "2022-07-06T01:41:40.220Z"
   },
   {
    "duration": 8,
    "start_time": "2022-07-06T01:41:40.224Z"
   },
   {
    "duration": 74,
    "start_time": "2022-07-06T01:41:40.234Z"
   },
   {
    "duration": 626,
    "start_time": "2022-07-06T01:41:40.310Z"
   },
   {
    "duration": 5,
    "start_time": "2022-07-06T01:41:49.408Z"
   },
   {
    "duration": 1525,
    "start_time": "2022-07-06T01:42:02.908Z"
   },
   {
    "duration": 1169,
    "start_time": "2022-07-06T01:42:07.527Z"
   },
   {
    "duration": 1445,
    "start_time": "2022-07-06T01:42:18.489Z"
   },
   {
    "duration": 24,
    "start_time": "2022-07-06T01:42:22.618Z"
   },
   {
    "duration": 2029,
    "start_time": "2022-07-06T01:42:32.326Z"
   },
   {
    "duration": 3,
    "start_time": "2022-07-06T01:42:35.328Z"
   },
   {
    "duration": 3,
    "start_time": "2022-07-06T01:42:39.864Z"
   },
   {
    "duration": 3,
    "start_time": "2022-07-06T01:42:41.824Z"
   },
   {
    "duration": 4,
    "start_time": "2022-07-06T01:42:46.781Z"
   },
   {
    "duration": 2251,
    "start_time": "2022-07-06T01:43:01.587Z"
   },
   {
    "duration": 18,
    "start_time": "2022-07-06T01:43:03.840Z"
   },
   {
    "duration": 107,
    "start_time": "2022-07-06T01:43:03.859Z"
   },
   {
    "duration": 5492,
    "start_time": "2022-07-06T01:43:03.971Z"
   },
   {
    "duration": 4,
    "start_time": "2022-07-06T01:43:09.465Z"
   },
   {
    "duration": 130,
    "start_time": "2022-07-06T01:43:09.470Z"
   },
   {
    "duration": 0,
    "start_time": "2022-07-06T01:43:09.602Z"
   },
   {
    "duration": 10,
    "start_time": "2022-07-06T01:43:16.232Z"
   },
   {
    "duration": 12,
    "start_time": "2022-07-06T01:44:34.011Z"
   },
   {
    "duration": 9,
    "start_time": "2022-07-06T01:45:20.491Z"
   },
   {
    "duration": 2204,
    "start_time": "2022-07-06T01:45:51.607Z"
   },
   {
    "duration": 17,
    "start_time": "2022-07-06T01:45:53.813Z"
   },
   {
    "duration": 156,
    "start_time": "2022-07-06T01:45:53.832Z"
   },
   {
    "duration": 113,
    "start_time": "2022-07-06T01:45:53.990Z"
   },
   {
    "duration": 13,
    "start_time": "2022-07-06T01:45:54.105Z"
   },
   {
    "duration": 53,
    "start_time": "2022-07-06T01:45:54.120Z"
   },
   {
    "duration": 590,
    "start_time": "2022-07-06T01:45:54.175Z"
   },
   {
    "duration": 11,
    "start_time": "2022-07-06T01:46:10.805Z"
   },
   {
    "duration": 17,
    "start_time": "2022-07-06T01:46:15.567Z"
   },
   {
    "duration": 2328,
    "start_time": "2022-07-06T01:46:42.365Z"
   },
   {
    "duration": 24,
    "start_time": "2022-07-06T01:46:44.695Z"
   },
   {
    "duration": 106,
    "start_time": "2022-07-06T01:46:44.721Z"
   },
   {
    "duration": 55,
    "start_time": "2022-07-06T01:46:44.829Z"
   },
   {
    "duration": 14,
    "start_time": "2022-07-06T01:46:44.886Z"
   },
   {
    "duration": 122,
    "start_time": "2022-07-06T01:46:44.908Z"
   },
   {
    "duration": 0,
    "start_time": "2022-07-06T01:46:45.032Z"
   },
   {
    "duration": 10,
    "start_time": "2022-07-06T01:47:24.653Z"
   },
   {
    "duration": 2116,
    "start_time": "2022-07-06T01:47:29.655Z"
   },
   {
    "duration": 17,
    "start_time": "2022-07-06T01:47:31.773Z"
   },
   {
    "duration": 96,
    "start_time": "2022-07-06T01:47:31.791Z"
   },
   {
    "duration": 101,
    "start_time": "2022-07-06T01:47:31.889Z"
   },
   {
    "duration": 23,
    "start_time": "2022-07-06T01:47:31.997Z"
   },
   {
    "duration": 42,
    "start_time": "2022-07-06T01:47:32.022Z"
   },
   {
    "duration": 478,
    "start_time": "2022-07-06T01:47:32.065Z"
   },
   {
    "duration": 49,
    "start_time": "2022-07-06T01:49:58.919Z"
   },
   {
    "duration": 19,
    "start_time": "2022-07-06T01:50:01.789Z"
   },
   {
    "duration": 2172,
    "start_time": "2022-07-06T01:50:19.826Z"
   },
   {
    "duration": 17,
    "start_time": "2022-07-06T01:50:21.999Z"
   },
   {
    "duration": 112,
    "start_time": "2022-07-06T01:50:22.017Z"
   },
   {
    "duration": 101,
    "start_time": "2022-07-06T01:50:22.132Z"
   },
   {
    "duration": 22,
    "start_time": "2022-07-06T01:50:22.235Z"
   },
   {
    "duration": 63,
    "start_time": "2022-07-06T01:50:22.264Z"
   },
   {
    "duration": 479,
    "start_time": "2022-07-06T01:50:22.328Z"
   },
   {
    "duration": 125,
    "start_time": "2022-07-06T01:52:09.627Z"
   },
   {
    "duration": 2162,
    "start_time": "2022-07-06T01:52:42.337Z"
   },
   {
    "duration": 17,
    "start_time": "2022-07-06T01:52:44.501Z"
   },
   {
    "duration": 160,
    "start_time": "2022-07-06T01:52:44.520Z"
   },
   {
    "duration": 105,
    "start_time": "2022-07-06T01:52:44.681Z"
   },
   {
    "duration": 52,
    "start_time": "2022-07-06T01:52:44.788Z"
   },
   {
    "duration": 470,
    "start_time": "2022-07-06T01:52:44.842Z"
   },
   {
    "duration": 37,
    "start_time": "2022-07-06T01:55:05.057Z"
   },
   {
    "duration": 65,
    "start_time": "2022-07-06T01:57:27.488Z"
   },
   {
    "duration": 111,
    "start_time": "2022-07-06T02:04:13.307Z"
   },
   {
    "duration": 38,
    "start_time": "2022-07-06T02:04:35.153Z"
   },
   {
    "duration": 23,
    "start_time": "2022-07-06T02:04:42.586Z"
   },
   {
    "duration": 673,
    "start_time": "2022-07-06T02:04:56.137Z"
   },
   {
    "duration": 663,
    "start_time": "2022-07-06T02:05:26.601Z"
   },
   {
    "duration": 101,
    "start_time": "2022-07-06T02:05:34.955Z"
   },
   {
    "duration": 32,
    "start_time": "2022-07-06T02:06:11.951Z"
   },
   {
    "duration": 202,
    "start_time": "2022-07-06T02:06:52.405Z"
   },
   {
    "duration": 38,
    "start_time": "2022-07-06T02:11:35.001Z"
   },
   {
    "duration": 34,
    "start_time": "2022-07-06T02:11:39.472Z"
   },
   {
    "duration": 2216,
    "start_time": "2022-07-06T02:12:07.220Z"
   },
   {
    "duration": 18,
    "start_time": "2022-07-06T02:12:09.438Z"
   },
   {
    "duration": 112,
    "start_time": "2022-07-06T02:12:09.457Z"
   },
   {
    "duration": 109,
    "start_time": "2022-07-06T02:12:09.571Z"
   },
   {
    "duration": 50,
    "start_time": "2022-07-06T02:12:09.683Z"
   },
   {
    "duration": 468,
    "start_time": "2022-07-06T02:12:09.734Z"
   },
   {
    "duration": 196,
    "start_time": "2022-07-06T02:12:10.204Z"
   },
   {
    "duration": 19,
    "start_time": "2022-07-06T02:24:19.472Z"
   },
   {
    "duration": 21,
    "start_time": "2022-07-06T02:25:15.775Z"
   },
   {
    "duration": 211,
    "start_time": "2022-07-06T02:25:25.354Z"
   },
   {
    "duration": 223,
    "start_time": "2022-07-06T02:26:03.625Z"
   },
   {
    "duration": 212,
    "start_time": "2022-07-06T02:26:06.328Z"
   },
   {
    "duration": 68,
    "start_time": "2022-07-06T02:31:13.266Z"
   },
   {
    "duration": 97,
    "start_time": "2022-07-06T02:34:35.052Z"
   },
   {
    "duration": 95,
    "start_time": "2022-07-06T02:34:39.651Z"
   },
   {
    "duration": 12,
    "start_time": "2022-07-06T05:26:26.530Z"
   },
   {
    "duration": 11,
    "start_time": "2022-07-06T05:27:08.522Z"
   },
   {
    "duration": 696,
    "start_time": "2022-07-06T05:27:15.280Z"
   },
   {
    "duration": 100,
    "start_time": "2022-07-06T05:27:20.552Z"
   },
   {
    "duration": 13,
    "start_time": "2022-07-06T05:27:28.259Z"
   },
   {
    "duration": 19,
    "start_time": "2022-07-06T05:29:58.511Z"
   },
   {
    "duration": 102,
    "start_time": "2022-07-06T05:30:21.910Z"
   },
   {
    "duration": 134,
    "start_time": "2022-07-06T05:33:44.152Z"
   },
   {
    "duration": 1396,
    "start_time": "2022-07-06T05:36:47.953Z"
   },
   {
    "duration": 17,
    "start_time": "2022-07-06T05:40:10.716Z"
   },
   {
    "duration": 93,
    "start_time": "2022-07-06T05:46:22.139Z"
   },
   {
    "duration": 3,
    "start_time": "2022-07-06T05:46:25.114Z"
   },
   {
    "duration": 24,
    "start_time": "2022-07-06T05:46:28.511Z"
   },
   {
    "duration": 2305,
    "start_time": "2022-07-06T05:46:55.858Z"
   },
   {
    "duration": 20,
    "start_time": "2022-07-06T05:46:58.165Z"
   },
   {
    "duration": 131,
    "start_time": "2022-07-06T05:46:58.187Z"
   },
   {
    "duration": 99,
    "start_time": "2022-07-06T05:46:58.320Z"
   },
   {
    "duration": 41,
    "start_time": "2022-07-06T05:46:58.421Z"
   },
   {
    "duration": 560,
    "start_time": "2022-07-06T05:46:58.465Z"
   },
   {
    "duration": 18,
    "start_time": "2022-07-06T05:46:59.027Z"
   },
   {
    "duration": 17,
    "start_time": "2022-07-06T05:46:59.047Z"
   },
   {
    "duration": 148,
    "start_time": "2022-07-06T05:46:59.066Z"
   },
   {
    "duration": 85,
    "start_time": "2022-07-06T05:46:59.217Z"
   },
   {
    "duration": 57,
    "start_time": "2022-07-06T16:03:03.067Z"
   },
   {
    "duration": 3096,
    "start_time": "2022-07-06T16:03:10.164Z"
   },
   {
    "duration": 17,
    "start_time": "2022-07-06T16:03:13.262Z"
   },
   {
    "duration": 112,
    "start_time": "2022-07-06T16:03:13.280Z"
   },
   {
    "duration": 107,
    "start_time": "2022-07-06T16:03:13.394Z"
   },
   {
    "duration": 47,
    "start_time": "2022-07-06T16:03:13.504Z"
   },
   {
    "duration": 543,
    "start_time": "2022-07-06T16:03:13.554Z"
   },
   {
    "duration": 30,
    "start_time": "2022-07-06T16:03:14.100Z"
   },
   {
    "duration": 29,
    "start_time": "2022-07-06T16:03:14.134Z"
   },
   {
    "duration": 145,
    "start_time": "2022-07-06T16:03:14.165Z"
   },
   {
    "duration": 90,
    "start_time": "2022-07-06T16:03:14.312Z"
   },
   {
    "duration": 21,
    "start_time": "2022-07-06T16:03:45.723Z"
   },
   {
    "duration": 20,
    "start_time": "2022-07-06T16:03:55.237Z"
   },
   {
    "duration": 25,
    "start_time": "2022-07-06T16:04:17.827Z"
   },
   {
    "duration": 28,
    "start_time": "2022-07-06T16:04:36.217Z"
   },
   {
    "duration": 2506,
    "start_time": "2022-07-06T16:04:41.880Z"
   },
   {
    "duration": 23,
    "start_time": "2022-07-06T16:04:44.388Z"
   },
   {
    "duration": 184,
    "start_time": "2022-07-06T16:04:44.412Z"
   },
   {
    "duration": 121,
    "start_time": "2022-07-06T16:04:44.599Z"
   },
   {
    "duration": 55,
    "start_time": "2022-07-06T16:04:44.725Z"
   },
   {
    "duration": 566,
    "start_time": "2022-07-06T16:04:44.782Z"
   },
   {
    "duration": 27,
    "start_time": "2022-07-06T16:04:45.350Z"
   },
   {
    "duration": 70,
    "start_time": "2022-07-06T16:04:45.379Z"
   },
   {
    "duration": 203,
    "start_time": "2022-07-06T16:04:45.453Z"
   },
   {
    "duration": 106,
    "start_time": "2022-07-06T16:04:45.659Z"
   },
   {
    "duration": 19,
    "start_time": "2022-07-06T16:05:59.472Z"
   },
   {
    "duration": 26,
    "start_time": "2022-07-06T16:06:23.911Z"
   },
   {
    "duration": 2396,
    "start_time": "2022-07-06T16:06:49.638Z"
   },
   {
    "duration": 30,
    "start_time": "2022-07-06T16:06:52.039Z"
   },
   {
    "duration": 193,
    "start_time": "2022-07-06T16:06:52.071Z"
   },
   {
    "duration": 119,
    "start_time": "2022-07-06T16:06:52.266Z"
   },
   {
    "duration": 75,
    "start_time": "2022-07-06T16:06:52.388Z"
   },
   {
    "duration": 570,
    "start_time": "2022-07-06T16:06:52.466Z"
   },
   {
    "duration": 24,
    "start_time": "2022-07-06T16:06:53.038Z"
   },
   {
    "duration": 11,
    "start_time": "2022-07-06T16:06:53.065Z"
   },
   {
    "duration": 174,
    "start_time": "2022-07-06T16:06:53.078Z"
   },
   {
    "duration": 101,
    "start_time": "2022-07-06T16:06:53.254Z"
   },
   {
    "duration": 1271,
    "start_time": "2022-07-06T16:08:08.593Z"
   },
   {
    "duration": 79,
    "start_time": "2022-07-06T16:08:23.980Z"
   },
   {
    "duration": 12,
    "start_time": "2022-07-06T16:08:37.228Z"
   },
   {
    "duration": 64,
    "start_time": "2022-07-06T16:08:40.443Z"
   },
   {
    "duration": 14,
    "start_time": "2022-07-06T16:10:32.349Z"
   },
   {
    "duration": 11,
    "start_time": "2022-07-06T16:10:44.162Z"
   },
   {
    "duration": 71,
    "start_time": "2022-07-06T16:10:51.641Z"
   },
   {
    "duration": 31,
    "start_time": "2022-07-06T16:13:54.816Z"
   },
   {
    "duration": 27,
    "start_time": "2022-07-06T16:14:35.240Z"
   },
   {
    "duration": 693,
    "start_time": "2022-07-06T16:15:04.603Z"
   },
   {
    "duration": 547,
    "start_time": "2022-07-06T16:15:19.380Z"
   },
   {
    "duration": 2528,
    "start_time": "2022-07-06T16:15:37.188Z"
   },
   {
    "duration": 20,
    "start_time": "2022-07-06T16:15:39.717Z"
   },
   {
    "duration": 97,
    "start_time": "2022-07-06T16:15:39.739Z"
   },
   {
    "duration": 115,
    "start_time": "2022-07-06T16:15:39.840Z"
   },
   {
    "duration": 68,
    "start_time": "2022-07-06T16:15:39.956Z"
   },
   {
    "duration": 533,
    "start_time": "2022-07-06T16:15:40.030Z"
   },
   {
    "duration": 171,
    "start_time": "2022-07-06T16:15:40.565Z"
   },
   {
    "duration": 0,
    "start_time": "2022-07-06T16:15:40.739Z"
   },
   {
    "duration": 0,
    "start_time": "2022-07-06T16:15:40.740Z"
   },
   {
    "duration": 0,
    "start_time": "2022-07-06T16:15:40.742Z"
   },
   {
    "duration": 0,
    "start_time": "2022-07-06T16:15:40.743Z"
   },
   {
    "duration": 11,
    "start_time": "2022-07-06T16:16:29.030Z"
   },
   {
    "duration": 13,
    "start_time": "2022-07-06T16:16:32.766Z"
   },
   {
    "duration": 329,
    "start_time": "2022-07-06T16:17:17.838Z"
   },
   {
    "duration": 79,
    "start_time": "2022-07-06T16:17:40.673Z"
   },
   {
    "duration": 51,
    "start_time": "2022-07-06T16:18:12.478Z"
   },
   {
    "duration": 92,
    "start_time": "2022-07-06T16:18:25.246Z"
   },
   {
    "duration": 55,
    "start_time": "2022-07-06T16:18:35.342Z"
   },
   {
    "duration": 5,
    "start_time": "2022-07-06T16:19:38.136Z"
   },
   {
    "duration": 12,
    "start_time": "2022-07-06T16:19:41.026Z"
   },
   {
    "duration": 154,
    "start_time": "2022-07-06T16:19:41.190Z"
   },
   {
    "duration": 192,
    "start_time": "2022-07-06T16:19:52.593Z"
   },
   {
    "duration": 165,
    "start_time": "2022-07-06T16:20:05.997Z"
   },
   {
    "duration": 3,
    "start_time": "2022-07-06T16:20:07.260Z"
   },
   {
    "duration": 16,
    "start_time": "2022-07-06T16:20:07.428Z"
   },
   {
    "duration": 526,
    "start_time": "2022-07-06T16:20:07.643Z"
   },
   {
    "duration": 12,
    "start_time": "2022-07-06T16:20:16.672Z"
   },
   {
    "duration": 15,
    "start_time": "2022-07-06T16:20:24.233Z"
   },
   {
    "duration": 101,
    "start_time": "2022-07-06T16:27:28.884Z"
   },
   {
    "duration": 89,
    "start_time": "2022-07-06T16:28:38.918Z"
   },
   {
    "duration": 94,
    "start_time": "2022-07-06T16:29:06.568Z"
   },
   {
    "duration": 22681,
    "start_time": "2022-07-06T16:40:44.357Z"
   },
   {
    "duration": 22865,
    "start_time": "2022-07-06T16:41:27.955Z"
   },
   {
    "duration": 406557,
    "start_time": "2022-07-06T16:43:35.086Z"
   },
   {
    "duration": 0,
    "start_time": "2022-07-06T16:50:42.534Z"
   },
   {
    "duration": 393257,
    "start_time": "2022-07-06T16:50:46.687Z"
   },
   {
    "duration": 522493,
    "start_time": "2022-07-06T16:57:19.945Z"
   },
   {
    "duration": 257,
    "start_time": "2022-07-06T20:32:11.469Z"
   },
   {
    "duration": 16852,
    "start_time": "2022-07-06T20:32:25.971Z"
   },
   {
    "duration": 2017,
    "start_time": "2022-07-06T20:33:01.796Z"
   },
   {
    "duration": 16,
    "start_time": "2022-07-06T20:33:03.814Z"
   },
   {
    "duration": 99,
    "start_time": "2022-07-06T20:33:03.832Z"
   },
   {
    "duration": 101,
    "start_time": "2022-07-06T20:33:03.936Z"
   },
   {
    "duration": 45,
    "start_time": "2022-07-06T20:33:04.038Z"
   },
   {
    "duration": 446,
    "start_time": "2022-07-06T20:33:04.085Z"
   },
   {
    "duration": 2,
    "start_time": "2022-07-06T20:33:04.533Z"
   },
   {
    "duration": 295,
    "start_time": "2022-07-06T20:33:04.537Z"
   },
   {
    "duration": 394,
    "start_time": "2022-07-06T20:33:04.834Z"
   },
   {
    "duration": 20,
    "start_time": "2022-07-06T20:33:05.231Z"
   },
   {
    "duration": 94,
    "start_time": "2022-07-06T20:33:05.253Z"
   },
   {
    "duration": 344,
    "start_time": "2022-07-06T20:33:05.349Z"
   },
   {
    "duration": 17262,
    "start_time": "2022-07-06T20:33:05.694Z"
   },
   {
    "duration": 464260,
    "start_time": "2022-07-06T20:33:22.957Z"
   },
   {
    "duration": 216,
    "start_time": "2022-07-06T20:41:07.220Z"
   },
   {
    "duration": 52,
    "start_time": "2022-07-06T21:01:08.783Z"
   },
   {
    "duration": 329,
    "start_time": "2022-07-06T21:01:21.084Z"
   },
   {
    "duration": 200,
    "start_time": "2022-07-06T21:01:55.709Z"
   },
   {
    "duration": 76,
    "start_time": "2022-07-06T21:02:56.634Z"
   },
   {
    "duration": 110,
    "start_time": "2022-07-06T21:03:11.994Z"
   },
   {
    "duration": 250,
    "start_time": "2022-07-06T21:03:33.212Z"
   },
   {
    "duration": 598,
    "start_time": "2022-07-06T21:10:47.604Z"
   },
   {
    "duration": 11,
    "start_time": "2022-07-06T21:11:43.497Z"
   },
   {
    "duration": 602,
    "start_time": "2022-07-06T21:11:47.905Z"
   },
   {
    "duration": 15,
    "start_time": "2022-07-06T21:11:51.395Z"
   },
   {
    "duration": 13,
    "start_time": "2022-07-06T21:12:05.109Z"
   },
   {
    "duration": 12,
    "start_time": "2022-07-06T21:12:32.936Z"
   },
   {
    "duration": 6,
    "start_time": "2022-07-06T21:12:42.694Z"
   },
   {
    "duration": 7,
    "start_time": "2022-07-06T21:13:03.784Z"
   },
   {
    "duration": 11,
    "start_time": "2022-07-06T21:13:34.344Z"
   },
   {
    "duration": 13,
    "start_time": "2022-07-06T21:14:31.313Z"
   },
   {
    "duration": 1934,
    "start_time": "2022-07-06T21:16:12.188Z"
   },
   {
    "duration": 16,
    "start_time": "2022-07-06T21:16:14.124Z"
   },
   {
    "duration": 133,
    "start_time": "2022-07-06T21:16:14.141Z"
   },
   {
    "duration": 98,
    "start_time": "2022-07-06T21:16:14.276Z"
   },
   {
    "duration": 55,
    "start_time": "2022-07-06T21:16:14.376Z"
   },
   {
    "duration": 448,
    "start_time": "2022-07-06T21:16:14.433Z"
   },
   {
    "duration": 2,
    "start_time": "2022-07-06T21:16:14.883Z"
   },
   {
    "duration": 309,
    "start_time": "2022-07-06T21:16:14.887Z"
   },
   {
    "duration": 448,
    "start_time": "2022-07-06T21:16:15.198Z"
   },
   {
    "duration": 12,
    "start_time": "2022-07-06T21:16:15.649Z"
   },
   {
    "duration": 77,
    "start_time": "2022-07-06T21:16:15.663Z"
   },
   {
    "duration": 466,
    "start_time": "2022-07-06T21:16:15.742Z"
   },
   {
    "duration": 22336,
    "start_time": "2022-07-06T21:16:16.210Z"
   },
   {
    "duration": 3370,
    "start_time": "2022-07-06T21:16:38.548Z"
   },
   {
    "duration": 688,
    "start_time": "2022-07-06T21:16:41.920Z"
   },
   {
    "duration": 392,
    "start_time": "2022-07-06T21:16:42.610Z"
   },
   {
    "duration": 13,
    "start_time": "2022-07-06T21:16:43.003Z"
   },
   {
    "duration": 14,
    "start_time": "2022-07-06T21:16:45.748Z"
   },
   {
    "duration": 3143,
    "start_time": "2022-07-06T21:17:10.672Z"
   },
   {
    "duration": 51,
    "start_time": "2022-07-07T03:43:05.179Z"
   },
   {
    "duration": 2707,
    "start_time": "2022-07-07T03:43:13.595Z"
   },
   {
    "duration": 21,
    "start_time": "2022-07-07T03:43:16.315Z"
   },
   {
    "duration": 117,
    "start_time": "2022-07-07T03:43:16.337Z"
   },
   {
    "duration": 114,
    "start_time": "2022-07-07T03:43:16.457Z"
   },
   {
    "duration": 56,
    "start_time": "2022-07-07T03:43:16.576Z"
   },
   {
    "duration": 521,
    "start_time": "2022-07-07T03:43:16.634Z"
   },
   {
    "duration": 10,
    "start_time": "2022-07-07T03:43:17.161Z"
   },
   {
    "duration": 346,
    "start_time": "2022-07-07T03:43:17.181Z"
   },
   {
    "duration": 394,
    "start_time": "2022-07-07T03:43:17.528Z"
   },
   {
    "duration": 13,
    "start_time": "2022-07-07T03:43:17.924Z"
   },
   {
    "duration": 242,
    "start_time": "2022-07-07T03:43:17.938Z"
   },
   {
    "duration": 487,
    "start_time": "2022-07-07T03:43:18.182Z"
   },
   {
    "duration": 25324,
    "start_time": "2022-07-07T03:43:18.670Z"
   },
   {
    "duration": 2332,
    "start_time": "2022-07-07T03:45:15.389Z"
   },
   {
    "duration": 17,
    "start_time": "2022-07-07T03:45:17.723Z"
   },
   {
    "duration": 96,
    "start_time": "2022-07-07T03:45:17.742Z"
   },
   {
    "duration": 108,
    "start_time": "2022-07-07T03:45:19.643Z"
   },
   {
    "duration": 53,
    "start_time": "2022-07-07T03:45:20.805Z"
   },
   {
    "duration": 532,
    "start_time": "2022-07-07T03:45:22.500Z"
   },
   {
    "duration": 5,
    "start_time": "2022-07-07T03:45:23.279Z"
   },
   {
    "duration": 354,
    "start_time": "2022-07-07T03:45:25.004Z"
   },
   {
    "duration": 12,
    "start_time": "2022-07-07T03:45:25.642Z"
   },
   {
    "duration": 183,
    "start_time": "2022-07-07T03:46:48.354Z"
   },
   {
    "duration": 47,
    "start_time": "2022-07-07T03:58:13.903Z"
   },
   {
    "duration": 8,
    "start_time": "2022-07-08T00:55:48.967Z"
   },
   {
    "duration": 45,
    "start_time": "2022-07-08T00:56:21.460Z"
   },
   {
    "duration": 9,
    "start_time": "2022-07-08T00:56:27.615Z"
   },
   {
    "duration": 9,
    "start_time": "2022-07-08T00:56:42.169Z"
   },
   {
    "duration": 3,
    "start_time": "2022-07-08T00:57:31.785Z"
   },
   {
    "duration": 9,
    "start_time": "2022-07-08T00:57:41.817Z"
   },
   {
    "duration": 5,
    "start_time": "2022-07-08T00:57:56.569Z"
   },
   {
    "duration": 5,
    "start_time": "2022-07-08T00:58:44.096Z"
   },
   {
    "duration": 49,
    "start_time": "2022-07-08T20:44:09.375Z"
   },
   {
    "duration": 4600,
    "start_time": "2022-07-08T20:44:23.274Z"
   },
   {
    "duration": 19,
    "start_time": "2022-07-08T20:44:27.877Z"
   },
   {
    "duration": 107,
    "start_time": "2022-07-08T20:44:27.898Z"
   },
   {
    "duration": 99,
    "start_time": "2022-07-08T20:44:29.846Z"
   },
   {
    "duration": 44,
    "start_time": "2022-07-08T20:44:31.406Z"
   },
   {
    "duration": 502,
    "start_time": "2022-07-08T20:44:33.644Z"
   },
   {
    "duration": 145,
    "start_time": "2022-07-08T20:44:34.764Z"
   },
   {
    "duration": 715,
    "start_time": "2022-07-08T20:56:14.266Z"
   },
   {
    "duration": 1627,
    "start_time": "2022-07-08T20:58:37.588Z"
   },
   {
    "duration": 84,
    "start_time": "2022-07-08T20:58:54.088Z"
   },
   {
    "duration": 114,
    "start_time": "2022-07-08T21:00:12.291Z"
   },
   {
    "duration": 105,
    "start_time": "2022-07-08T21:00:19.267Z"
   },
   {
    "duration": 14,
    "start_time": "2022-07-08T21:00:58.967Z"
   },
   {
    "duration": 139,
    "start_time": "2022-07-08T21:01:18.686Z"
   },
   {
    "duration": 393,
    "start_time": "2022-07-08T21:01:19.949Z"
   },
   {
    "duration": 10,
    "start_time": "2022-07-08T21:01:27.943Z"
   },
   {
    "duration": 4,
    "start_time": "2022-07-08T21:01:31.247Z"
   },
   {
    "duration": 18,
    "start_time": "2022-07-08T21:01:40.542Z"
   },
   {
    "duration": 17,
    "start_time": "2022-07-08T21:01:54.143Z"
   },
   {
    "duration": 23,
    "start_time": "2022-07-08T21:02:20.444Z"
   },
   {
    "duration": 24,
    "start_time": "2022-07-08T21:02:25.860Z"
   },
   {
    "duration": 387,
    "start_time": "2022-07-08T21:02:38.441Z"
   },
   {
    "duration": 364,
    "start_time": "2022-07-08T21:02:45.266Z"
   },
   {
    "duration": 356,
    "start_time": "2022-07-08T21:07:10.779Z"
   },
   {
    "duration": 56,
    "start_time": "2022-07-08T21:07:24.170Z"
   },
   {
    "duration": 383,
    "start_time": "2022-07-08T21:07:55.700Z"
   },
   {
    "duration": 22,
    "start_time": "2022-07-08T21:08:52.819Z"
   },
   {
    "duration": 2218,
    "start_time": "2022-07-08T21:09:08.979Z"
   },
   {
    "duration": 17,
    "start_time": "2022-07-08T21:09:11.199Z"
   },
   {
    "duration": 108,
    "start_time": "2022-07-08T21:09:11.217Z"
   },
   {
    "duration": 108,
    "start_time": "2022-07-08T21:09:11.327Z"
   },
   {
    "duration": 42,
    "start_time": "2022-07-08T21:09:11.651Z"
   },
   {
    "duration": 463,
    "start_time": "2022-07-08T21:09:12.977Z"
   },
   {
    "duration": 73,
    "start_time": "2022-07-08T21:09:14.946Z"
   },
   {
    "duration": 390,
    "start_time": "2022-07-08T21:09:15.811Z"
   },
   {
    "duration": 619,
    "start_time": "2022-07-08T21:09:27.514Z"
   },
   {
    "duration": 594,
    "start_time": "2022-07-08T21:09:42.638Z"
   },
   {
    "duration": 27,
    "start_time": "2022-07-08T21:09:48.414Z"
   },
   {
    "duration": 75,
    "start_time": "2022-07-08T21:31:33.392Z"
   },
   {
    "duration": 13,
    "start_time": "2022-07-08T21:33:14.909Z"
   },
   {
    "duration": 9,
    "start_time": "2022-07-08T21:33:23.983Z"
   },
   {
    "duration": 11,
    "start_time": "2022-07-08T21:33:36.750Z"
   },
   {
    "duration": 34006,
    "start_time": "2022-07-08T21:34:12.182Z"
   },
   {
    "duration": 21,
    "start_time": "2022-07-08T21:34:52.451Z"
   },
   {
    "duration": 44,
    "start_time": "2022-07-08T21:35:05.693Z"
   },
   {
    "duration": 663,
    "start_time": "2022-07-08T21:41:29.650Z"
   },
   {
    "duration": 2138,
    "start_time": "2022-07-08T21:42:10.948Z"
   },
   {
    "duration": 18,
    "start_time": "2022-07-08T21:42:13.088Z"
   },
   {
    "duration": 101,
    "start_time": "2022-07-08T21:42:13.107Z"
   },
   {
    "duration": 96,
    "start_time": "2022-07-08T21:42:13.389Z"
   },
   {
    "duration": 52,
    "start_time": "2022-07-08T21:42:15.146Z"
   },
   {
    "duration": 510,
    "start_time": "2022-07-08T21:42:16.458Z"
   },
   {
    "duration": 196,
    "start_time": "2022-07-08T21:42:17.934Z"
   },
   {
    "duration": 49,
    "start_time": "2022-07-08T21:49:00.149Z"
   },
   {
    "duration": 46,
    "start_time": "2022-07-08T21:49:10.702Z"
   },
   {
    "duration": 31,
    "start_time": "2022-07-08T21:50:02.258Z"
   },
   {
    "duration": 32,
    "start_time": "2022-07-08T21:50:20.872Z"
   },
   {
    "duration": 4,
    "start_time": "2022-07-08T21:52:14.099Z"
   },
   {
    "duration": 40,
    "start_time": "2022-07-08T21:52:17.726Z"
   },
   {
    "duration": 79,
    "start_time": "2022-07-08T21:52:45.970Z"
   },
   {
    "duration": 31,
    "start_time": "2022-07-08T21:52:49.346Z"
   },
   {
    "duration": 39,
    "start_time": "2022-07-08T21:56:05.747Z"
   },
   {
    "duration": 59,
    "start_time": "2022-07-08T21:57:46.224Z"
   },
   {
    "duration": 60,
    "start_time": "2022-07-08T21:58:00.109Z"
   },
   {
    "duration": 119,
    "start_time": "2022-07-08T21:58:21.069Z"
   },
   {
    "duration": 113,
    "start_time": "2022-07-08T21:58:32.305Z"
   },
   {
    "duration": 138,
    "start_time": "2022-07-08T21:58:50.712Z"
   },
   {
    "duration": 115,
    "start_time": "2022-07-08T21:58:58.008Z"
   },
   {
    "duration": 93,
    "start_time": "2022-07-08T21:59:11.518Z"
   },
   {
    "duration": 103,
    "start_time": "2022-07-08T21:59:18.079Z"
   },
   {
    "duration": 90,
    "start_time": "2022-07-08T21:59:37.068Z"
   },
   {
    "duration": 217,
    "start_time": "2022-07-08T21:59:52.192Z"
   },
   {
    "duration": 2,
    "start_time": "2022-07-08T22:01:24.959Z"
   },
   {
    "duration": 15945,
    "start_time": "2022-07-08T22:01:40.995Z"
   },
   {
    "duration": 139,
    "start_time": "2022-07-08T22:02:42.219Z"
   },
   {
    "duration": 2,
    "start_time": "2022-07-08T22:02:55.771Z"
   },
   {
    "duration": 98,
    "start_time": "2022-07-08T22:08:29.648Z"
   },
   {
    "duration": 40,
    "start_time": "2022-07-08T22:08:33.828Z"
   },
   {
    "duration": 12,
    "start_time": "2022-07-08T22:09:28.525Z"
   },
   {
    "duration": 68,
    "start_time": "2022-07-08T22:12:02.359Z"
   },
   {
    "duration": 2199,
    "start_time": "2022-07-08T22:12:28.253Z"
   },
   {
    "duration": 19,
    "start_time": "2022-07-08T22:12:30.454Z"
   },
   {
    "duration": 112,
    "start_time": "2022-07-08T22:12:30.475Z"
   },
   {
    "duration": 105,
    "start_time": "2022-07-08T22:12:30.598Z"
   },
   {
    "duration": 55,
    "start_time": "2022-07-08T22:12:30.705Z"
   },
   {
    "duration": 489,
    "start_time": "2022-07-08T22:12:30.762Z"
   },
   {
    "duration": 2,
    "start_time": "2022-07-08T22:12:31.253Z"
   },
   {
    "duration": 16283,
    "start_time": "2022-07-08T22:12:31.257Z"
   },
   {
    "duration": 64,
    "start_time": "2022-07-08T22:12:47.541Z"
   },
   {
    "duration": 343,
    "start_time": "2022-07-08T22:12:47.616Z"
   },
   {
    "duration": 421,
    "start_time": "2022-07-08T22:15:59.527Z"
   },
   {
    "duration": 120,
    "start_time": "2022-07-08T22:17:14.226Z"
   },
   {
    "duration": 2237,
    "start_time": "2022-07-08T22:17:22.887Z"
   },
   {
    "duration": 18,
    "start_time": "2022-07-08T22:17:25.127Z"
   },
   {
    "duration": 108,
    "start_time": "2022-07-08T22:17:25.147Z"
   },
   {
    "duration": 104,
    "start_time": "2022-07-08T22:17:25.257Z"
   },
   {
    "duration": 59,
    "start_time": "2022-07-08T22:17:25.618Z"
   },
   {
    "duration": 468,
    "start_time": "2022-07-08T22:17:29.167Z"
   },
   {
    "duration": 2,
    "start_time": "2022-07-08T22:17:30.767Z"
   },
   {
    "duration": 17006,
    "start_time": "2022-07-08T22:17:34.105Z"
   },
   {
    "duration": 55,
    "start_time": "2022-07-08T22:17:51.113Z"
   },
   {
    "duration": 354,
    "start_time": "2022-07-08T22:17:51.170Z"
   },
   {
    "duration": 57,
    "start_time": "2022-07-08T22:18:03.746Z"
   },
   {
    "duration": 14946,
    "start_time": "2022-07-08T22:18:06.179Z"
   },
   {
    "duration": 68,
    "start_time": "2022-07-08T22:18:27.570Z"
   },
   {
    "duration": 9,
    "start_time": "2022-07-08T22:18:56.570Z"
   },
   {
    "duration": 887,
    "start_time": "2022-07-08T22:21:11.008Z"
   },
   {
    "duration": 13,
    "start_time": "2022-07-08T22:21:18.547Z"
   },
   {
    "duration": 995,
    "start_time": "2022-07-08T22:21:29.507Z"
   },
   {
    "duration": 2291,
    "start_time": "2022-07-08T22:23:26.392Z"
   },
   {
    "duration": 18,
    "start_time": "2022-07-08T22:23:28.686Z"
   },
   {
    "duration": 102,
    "start_time": "2022-07-08T22:23:28.706Z"
   },
   {
    "duration": 108,
    "start_time": "2022-07-08T22:23:28.810Z"
   },
   {
    "duration": 54,
    "start_time": "2022-07-08T22:23:28.920Z"
   },
   {
    "duration": 488,
    "start_time": "2022-07-08T22:23:28.976Z"
   },
   {
    "duration": 3,
    "start_time": "2022-07-08T22:23:29.465Z"
   },
   {
    "duration": 17392,
    "start_time": "2022-07-08T22:23:29.469Z"
   },
   {
    "duration": 76,
    "start_time": "2022-07-08T22:23:46.863Z"
   },
   {
    "duration": 756,
    "start_time": "2022-07-08T22:23:46.943Z"
   },
   {
    "duration": 0,
    "start_time": "2022-07-08T22:23:47.701Z"
   },
   {
    "duration": 0,
    "start_time": "2022-07-08T22:23:47.702Z"
   },
   {
    "duration": 0,
    "start_time": "2022-07-08T22:23:47.703Z"
   },
   {
    "duration": 0,
    "start_time": "2022-07-08T22:23:47.704Z"
   },
   {
    "duration": 0,
    "start_time": "2022-07-08T22:23:47.705Z"
   },
   {
    "duration": 0,
    "start_time": "2022-07-08T22:23:47.706Z"
   },
   {
    "duration": 0,
    "start_time": "2022-07-08T22:23:47.707Z"
   },
   {
    "duration": 0,
    "start_time": "2022-07-08T22:23:47.708Z"
   },
   {
    "duration": 0,
    "start_time": "2022-07-08T22:23:47.709Z"
   },
   {
    "duration": 0,
    "start_time": "2022-07-08T22:23:47.710Z"
   },
   {
    "duration": 0,
    "start_time": "2022-07-08T22:23:47.711Z"
   },
   {
    "duration": 0,
    "start_time": "2022-07-08T22:23:47.712Z"
   },
   {
    "duration": 0,
    "start_time": "2022-07-08T22:23:47.713Z"
   },
   {
    "duration": 0,
    "start_time": "2022-07-08T22:23:47.714Z"
   },
   {
    "duration": 0,
    "start_time": "2022-07-08T22:23:47.715Z"
   },
   {
    "duration": 0,
    "start_time": "2022-07-08T22:23:47.716Z"
   },
   {
    "duration": 108,
    "start_time": "2022-07-08T22:26:14.751Z"
   },
   {
    "duration": 3,
    "start_time": "2022-07-08T22:26:22.221Z"
   },
   {
    "duration": 668,
    "start_time": "2022-07-08T22:28:31.798Z"
   },
   {
    "duration": 835,
    "start_time": "2022-07-08T22:28:59.845Z"
   },
   {
    "duration": 711,
    "start_time": "2022-07-08T22:29:28.522Z"
   },
   {
    "duration": 688,
    "start_time": "2022-07-08T22:29:32.953Z"
   },
   {
    "duration": 727,
    "start_time": "2022-07-08T22:29:41.623Z"
   },
   {
    "duration": 848,
    "start_time": "2022-07-08T22:29:51.514Z"
   },
   {
    "duration": 923,
    "start_time": "2022-07-08T22:31:25.665Z"
   },
   {
    "duration": 650,
    "start_time": "2022-07-08T22:32:50.055Z"
   },
   {
    "duration": 1020,
    "start_time": "2022-07-08T22:33:03.955Z"
   },
   {
    "duration": 9,
    "start_time": "2022-07-08T22:39:48.204Z"
   },
   {
    "duration": 3,
    "start_time": "2022-07-08T22:40:11.864Z"
   },
   {
    "duration": 3,
    "start_time": "2022-07-08T22:40:45.504Z"
   },
   {
    "duration": 86,
    "start_time": "2022-07-08T22:41:44.368Z"
   },
   {
    "duration": 79,
    "start_time": "2022-07-08T22:41:54.147Z"
   },
   {
    "duration": 130,
    "start_time": "2022-07-08T22:42:05.316Z"
   },
   {
    "duration": 17,
    "start_time": "2022-07-08T22:44:08.624Z"
   },
   {
    "duration": 472,
    "start_time": "2022-07-08T22:45:34.181Z"
   },
   {
    "duration": 389,
    "start_time": "2022-07-08T22:46:01.336Z"
   },
   {
    "duration": 1055,
    "start_time": "2022-07-08T22:48:40.420Z"
   },
   {
    "duration": 1052,
    "start_time": "2022-07-08T22:48:52.788Z"
   },
   {
    "duration": 1201,
    "start_time": "2022-07-08T22:49:15.541Z"
   },
   {
    "duration": 1207,
    "start_time": "2022-07-08T22:49:30.420Z"
   },
   {
    "duration": 4225,
    "start_time": "2022-07-08T22:51:27.238Z"
   },
   {
    "duration": 19,
    "start_time": "2022-07-08T22:51:31.466Z"
   },
   {
    "duration": 98,
    "start_time": "2022-07-08T22:51:31.486Z"
   },
   {
    "duration": 112,
    "start_time": "2022-07-08T22:51:31.586Z"
   },
   {
    "duration": 50,
    "start_time": "2022-07-08T22:51:31.700Z"
   },
   {
    "duration": 496,
    "start_time": "2022-07-08T22:51:31.751Z"
   },
   {
    "duration": 17192,
    "start_time": "2022-07-08T22:51:32.249Z"
   },
   {
    "duration": 971,
    "start_time": "2022-07-08T22:51:49.442Z"
   },
   {
    "duration": 10,
    "start_time": "2022-07-08T22:51:50.415Z"
   },
   {
    "duration": 19,
    "start_time": "2022-07-08T22:51:50.427Z"
   },
   {
    "duration": 6,
    "start_time": "2022-07-08T22:51:50.447Z"
   },
   {
    "duration": 492,
    "start_time": "2022-07-08T22:51:50.455Z"
   },
   {
    "duration": 3536,
    "start_time": "2022-07-08T22:51:50.949Z"
   },
   {
    "duration": 0,
    "start_time": "2022-07-08T22:51:54.487Z"
   },
   {
    "duration": 0,
    "start_time": "2022-07-08T22:51:54.488Z"
   },
   {
    "duration": 0,
    "start_time": "2022-07-08T22:51:54.489Z"
   },
   {
    "duration": 0,
    "start_time": "2022-07-08T22:51:54.490Z"
   },
   {
    "duration": 0,
    "start_time": "2022-07-08T22:51:54.491Z"
   },
   {
    "duration": 0,
    "start_time": "2022-07-08T22:51:54.498Z"
   },
   {
    "duration": 0,
    "start_time": "2022-07-08T22:51:54.499Z"
   },
   {
    "duration": 0,
    "start_time": "2022-07-08T22:51:54.502Z"
   },
   {
    "duration": 0,
    "start_time": "2022-07-08T22:51:54.503Z"
   },
   {
    "duration": 0,
    "start_time": "2022-07-08T22:51:54.504Z"
   },
   {
    "duration": 0,
    "start_time": "2022-07-08T22:51:54.505Z"
   },
   {
    "duration": 0,
    "start_time": "2022-07-08T22:51:54.506Z"
   },
   {
    "duration": 0,
    "start_time": "2022-07-08T22:51:54.507Z"
   },
   {
    "duration": 4044,
    "start_time": "2022-07-08T22:52:44.255Z"
   },
   {
    "duration": 18,
    "start_time": "2022-07-08T22:52:48.301Z"
   },
   {
    "duration": 107,
    "start_time": "2022-07-08T22:52:48.321Z"
   },
   {
    "duration": 103,
    "start_time": "2022-07-08T22:52:48.429Z"
   },
   {
    "duration": 63,
    "start_time": "2022-07-08T22:52:48.535Z"
   },
   {
    "duration": 489,
    "start_time": "2022-07-08T22:52:48.599Z"
   },
   {
    "duration": 17311,
    "start_time": "2022-07-08T22:52:49.090Z"
   },
   {
    "duration": 992,
    "start_time": "2022-07-08T22:53:06.403Z"
   },
   {
    "duration": 9,
    "start_time": "2022-07-08T22:53:07.397Z"
   },
   {
    "duration": 28,
    "start_time": "2022-07-08T22:53:07.408Z"
   },
   {
    "duration": 11,
    "start_time": "2022-07-08T22:53:07.437Z"
   },
   {
    "duration": 499,
    "start_time": "2022-07-08T22:53:07.450Z"
   },
   {
    "duration": 844,
    "start_time": "2022-07-08T22:53:07.951Z"
   },
   {
    "duration": 0,
    "start_time": "2022-07-08T22:53:08.797Z"
   },
   {
    "duration": 0,
    "start_time": "2022-07-08T22:53:08.799Z"
   },
   {
    "duration": 0,
    "start_time": "2022-07-08T22:53:08.800Z"
   },
   {
    "duration": 0,
    "start_time": "2022-07-08T22:53:08.801Z"
   },
   {
    "duration": 0,
    "start_time": "2022-07-08T22:53:08.803Z"
   },
   {
    "duration": 0,
    "start_time": "2022-07-08T22:53:08.804Z"
   },
   {
    "duration": 0,
    "start_time": "2022-07-08T22:53:08.805Z"
   },
   {
    "duration": 0,
    "start_time": "2022-07-08T22:53:08.806Z"
   },
   {
    "duration": 0,
    "start_time": "2022-07-08T22:53:08.808Z"
   },
   {
    "duration": 0,
    "start_time": "2022-07-08T22:53:08.809Z"
   },
   {
    "duration": 0,
    "start_time": "2022-07-08T22:53:08.810Z"
   },
   {
    "duration": 0,
    "start_time": "2022-07-08T22:53:08.811Z"
   },
   {
    "duration": 0,
    "start_time": "2022-07-08T22:53:08.813Z"
   },
   {
    "duration": 725,
    "start_time": "2022-07-08T22:53:19.633Z"
   },
   {
    "duration": 610,
    "start_time": "2022-07-08T22:55:57.175Z"
   },
   {
    "duration": 622,
    "start_time": "2022-07-08T22:56:51.415Z"
   },
   {
    "duration": 635,
    "start_time": "2022-07-08T22:58:05.473Z"
   },
   {
    "duration": 626,
    "start_time": "2022-07-08T22:58:08.685Z"
   },
   {
    "duration": 622,
    "start_time": "2022-07-08T22:58:32.805Z"
   },
   {
    "duration": 619,
    "start_time": "2022-07-08T22:58:48.092Z"
   },
   {
    "duration": 642,
    "start_time": "2022-07-08T23:02:15.812Z"
   },
   {
    "duration": 1198,
    "start_time": "2022-07-08T23:02:37.465Z"
   },
   {
    "duration": 1483,
    "start_time": "2022-07-08T23:03:36.611Z"
   },
   {
    "duration": 2302,
    "start_time": "2022-07-08T23:04:21.616Z"
   },
   {
    "duration": 19,
    "start_time": "2022-07-08T23:04:23.920Z"
   },
   {
    "duration": 115,
    "start_time": "2022-07-08T23:04:23.940Z"
   },
   {
    "duration": 108,
    "start_time": "2022-07-08T23:04:24.057Z"
   },
   {
    "duration": 62,
    "start_time": "2022-07-08T23:04:24.167Z"
   },
   {
    "duration": 492,
    "start_time": "2022-07-08T23:04:24.230Z"
   },
   {
    "duration": 15200,
    "start_time": "2022-07-08T23:04:24.724Z"
   },
   {
    "duration": 931,
    "start_time": "2022-07-08T23:04:39.926Z"
   },
   {
    "duration": 9,
    "start_time": "2022-07-08T23:04:40.858Z"
   },
   {
    "duration": 17,
    "start_time": "2022-07-08T23:04:40.869Z"
   },
   {
    "duration": 4,
    "start_time": "2022-07-08T23:04:40.897Z"
   },
   {
    "duration": 484,
    "start_time": "2022-07-08T23:04:40.903Z"
   },
   {
    "duration": 1488,
    "start_time": "2022-07-08T23:04:41.389Z"
   },
   {
    "duration": 189,
    "start_time": "2022-07-08T23:04:42.880Z"
   },
   {
    "duration": 108,
    "start_time": "2022-07-08T23:04:43.071Z"
   },
   {
    "duration": 94,
    "start_time": "2022-07-08T23:04:43.180Z"
   },
   {
    "duration": 119,
    "start_time": "2022-07-08T23:04:43.276Z"
   },
   {
    "duration": 94,
    "start_time": "2022-07-08T23:04:43.397Z"
   },
   {
    "duration": 124,
    "start_time": "2022-07-08T23:04:43.493Z"
   },
   {
    "duration": 157,
    "start_time": "2022-07-08T23:04:43.619Z"
   },
   {
    "duration": 121,
    "start_time": "2022-07-08T23:04:43.778Z"
   },
   {
    "duration": 86,
    "start_time": "2022-07-08T23:04:43.900Z"
   },
   {
    "duration": 84,
    "start_time": "2022-07-08T23:04:43.987Z"
   },
   {
    "duration": 116,
    "start_time": "2022-07-08T23:04:44.072Z"
   },
   {
    "duration": 148,
    "start_time": "2022-07-08T23:04:44.190Z"
   },
   {
    "duration": 12,
    "start_time": "2022-07-08T23:04:44.340Z"
   },
   {
    "duration": 43,
    "start_time": "2022-07-08T23:04:54.991Z"
   },
   {
    "duration": 16012,
    "start_time": "2022-07-08T23:05:18.788Z"
   },
   {
    "duration": 99,
    "start_time": "2022-07-08T23:05:34.802Z"
   },
   {
    "duration": 2265,
    "start_time": "2022-07-08T23:07:32.969Z"
   },
   {
    "duration": 19,
    "start_time": "2022-07-08T23:07:35.237Z"
   },
   {
    "duration": 110,
    "start_time": "2022-07-08T23:07:35.258Z"
   },
   {
    "duration": 106,
    "start_time": "2022-07-08T23:07:35.370Z"
   },
   {
    "duration": 56,
    "start_time": "2022-07-08T23:07:35.478Z"
   },
   {
    "duration": 499,
    "start_time": "2022-07-08T23:07:35.536Z"
   },
   {
    "duration": 17066,
    "start_time": "2022-07-08T23:07:36.037Z"
   },
   {
    "duration": 968,
    "start_time": "2022-07-08T23:07:53.104Z"
   },
   {
    "duration": 13,
    "start_time": "2022-07-08T23:07:54.074Z"
   },
   {
    "duration": 43,
    "start_time": "2022-07-08T23:07:54.090Z"
   },
   {
    "duration": 6,
    "start_time": "2022-07-08T23:07:54.135Z"
   },
   {
    "duration": 520,
    "start_time": "2022-07-08T23:07:54.143Z"
   },
   {
    "duration": 1528,
    "start_time": "2022-07-08T23:07:54.665Z"
   },
   {
    "duration": 18609,
    "start_time": "2022-07-08T23:07:56.195Z"
   },
   {
    "duration": 96,
    "start_time": "2022-07-08T23:08:14.806Z"
   },
   {
    "duration": 888,
    "start_time": "2022-07-08T23:08:14.904Z"
   },
   {
    "duration": 43,
    "start_time": "2022-07-08T23:08:15.799Z"
   },
   {
    "duration": 47239,
    "start_time": "2022-07-08T23:08:15.844Z"
   },
   {
    "duration": 3580,
    "start_time": "2022-07-08T23:09:03.085Z"
   },
   {
    "duration": 4841,
    "start_time": "2022-07-08T23:09:06.667Z"
   },
   {
    "duration": 697,
    "start_time": "2022-07-08T23:09:11.509Z"
   },
   {
    "duration": 1291,
    "start_time": "2022-07-08T23:09:12.208Z"
   },
   {
    "duration": 14,
    "start_time": "2022-07-08T23:09:13.500Z"
   },
   {
    "duration": 818,
    "start_time": "2022-07-08T23:09:13.599Z"
   },
   {
    "duration": 15,
    "start_time": "2022-07-08T23:09:14.499Z"
   },
   {
    "duration": 122,
    "start_time": "2022-07-08T23:09:14.598Z"
   },
   {
    "duration": 439,
    "start_time": "2022-07-09T01:48:57.257Z"
   },
   {
    "duration": 430,
    "start_time": "2022-07-09T01:49:13.278Z"
   },
   {
    "duration": 415,
    "start_time": "2022-07-09T01:50:27.516Z"
   },
   {
    "duration": 415,
    "start_time": "2022-07-09T01:50:35.685Z"
   },
   {
    "duration": 413,
    "start_time": "2022-07-09T01:52:43.270Z"
   },
   {
    "duration": 424,
    "start_time": "2022-07-09T01:52:57.691Z"
   },
   {
    "duration": 417,
    "start_time": "2022-07-09T01:53:17.242Z"
   },
   {
    "duration": 5,
    "start_time": "2022-07-09T02:18:57.556Z"
   },
   {
    "duration": 14,
    "start_time": "2022-07-09T02:19:42.522Z"
   },
   {
    "duration": 69,
    "start_time": "2022-07-09T02:20:43.221Z"
   },
   {
    "duration": 99,
    "start_time": "2022-07-09T02:20:56.156Z"
   },
   {
    "duration": 12,
    "start_time": "2022-07-09T02:21:42.582Z"
   },
   {
    "duration": 42,
    "start_time": "2022-07-09T02:45:29.312Z"
   },
   {
    "duration": 83,
    "start_time": "2022-07-09T02:46:28.289Z"
   },
   {
    "duration": 44,
    "start_time": "2022-07-09T02:46:30.390Z"
   },
   {
    "duration": 47,
    "start_time": "2022-07-09T02:46:52.023Z"
   },
   {
    "duration": 19,
    "start_time": "2022-07-09T02:59:12.142Z"
   },
   {
    "duration": 151,
    "start_time": "2022-07-09T03:18:37.915Z"
   },
   {
    "duration": 13,
    "start_time": "2022-07-09T03:18:42.563Z"
   },
   {
    "duration": 105,
    "start_time": "2022-07-09T03:19:09.935Z"
   },
   {
    "duration": 120,
    "start_time": "2022-07-09T03:19:15.756Z"
   },
   {
    "duration": 1470,
    "start_time": "2022-07-09T03:20:43.986Z"
   },
   {
    "duration": 2199,
    "start_time": "2022-07-09T03:21:26.598Z"
   },
   {
    "duration": 18,
    "start_time": "2022-07-09T03:21:28.799Z"
   },
   {
    "duration": 113,
    "start_time": "2022-07-09T03:21:28.819Z"
   },
   {
    "duration": 108,
    "start_time": "2022-07-09T03:21:28.935Z"
   },
   {
    "duration": 59,
    "start_time": "2022-07-09T03:21:29.045Z"
   },
   {
    "duration": 473,
    "start_time": "2022-07-09T03:21:29.107Z"
   },
   {
    "duration": 16930,
    "start_time": "2022-07-09T03:21:29.582Z"
   },
   {
    "duration": 918,
    "start_time": "2022-07-09T03:21:46.514Z"
   },
   {
    "duration": 9,
    "start_time": "2022-07-09T03:21:47.434Z"
   },
   {
    "duration": 16,
    "start_time": "2022-07-09T03:21:47.447Z"
   },
   {
    "duration": 3,
    "start_time": "2022-07-09T03:21:47.465Z"
   },
   {
    "duration": 540,
    "start_time": "2022-07-09T03:21:47.469Z"
   },
   {
    "duration": 1463,
    "start_time": "2022-07-09T03:21:48.011Z"
   },
   {
    "duration": 16123,
    "start_time": "2022-07-09T03:21:49.476Z"
   },
   {
    "duration": 101,
    "start_time": "2022-07-09T03:22:05.601Z"
   },
   {
    "duration": 914,
    "start_time": "2022-07-09T03:22:05.704Z"
   },
   {
    "duration": 34,
    "start_time": "2022-07-09T03:22:06.620Z"
   },
   {
    "duration": 50130,
    "start_time": "2022-07-09T03:22:06.656Z"
   },
   {
    "duration": 2500,
    "start_time": "2022-07-09T03:22:56.788Z"
   },
   {
    "duration": 77,
    "start_time": "2022-07-09T03:22:59.290Z"
   },
   {
    "duration": 11,
    "start_time": "2022-07-09T03:22:59.369Z"
   },
   {
    "duration": 232,
    "start_time": "2022-07-09T03:22:59.399Z"
   },
   {
    "duration": 108,
    "start_time": "2022-07-09T03:22:59.633Z"
   },
   {
    "duration": 860,
    "start_time": "2022-07-09T03:22:59.743Z"
   },
   {
    "duration": 94,
    "start_time": "2022-07-09T03:23:00.605Z"
   },
   {
    "duration": 604,
    "start_time": "2022-07-09T03:23:00.701Z"
   },
   {
    "duration": 96,
    "start_time": "2022-07-09T03:23:01.306Z"
   },
   {
    "duration": 19,
    "start_time": "2022-07-09T03:23:01.405Z"
   },
   {
    "duration": 4,
    "start_time": "2022-07-09T03:25:52.857Z"
   },
   {
    "duration": 4080,
    "start_time": "2022-07-09T03:26:19.329Z"
   },
   {
    "duration": 597,
    "start_time": "2022-07-09T03:26:23.411Z"
   },
   {
    "duration": 18,
    "start_time": "2022-07-09T03:26:46.330Z"
   },
   {
    "duration": 789,
    "start_time": "2022-07-09T03:28:38.280Z"
   },
   {
    "duration": 1659,
    "start_time": "2022-07-09T03:28:40.817Z"
   },
   {
    "duration": 29333,
    "start_time": "2022-07-09T03:28:42.478Z"
   },
   {
    "duration": 87,
    "start_time": "2022-07-09T03:29:11.816Z"
   },
   {
    "duration": 102,
    "start_time": "2022-07-09T03:29:11.917Z"
   },
   {
    "duration": 16,
    "start_time": "2022-07-09T03:29:29.617Z"
   },
   {
    "duration": 15,
    "start_time": "2022-07-09T03:34:29.911Z"
   },
   {
    "duration": 23,
    "start_time": "2022-07-09T03:34:47.158Z"
   },
   {
    "duration": 30,
    "start_time": "2022-07-09T03:34:54.221Z"
   },
   {
    "duration": 17,
    "start_time": "2022-07-09T03:35:20.472Z"
   },
   {
    "duration": 18,
    "start_time": "2022-07-09T03:36:22.397Z"
   },
   {
    "duration": 16,
    "start_time": "2022-07-09T03:37:31.168Z"
   },
   {
    "duration": 21,
    "start_time": "2022-07-09T03:39:39.320Z"
   },
   {
    "duration": 13,
    "start_time": "2022-07-09T03:40:06.979Z"
   },
   {
    "duration": 10,
    "start_time": "2022-07-09T03:40:09.892Z"
   },
   {
    "duration": 7,
    "start_time": "2022-07-09T03:40:26.449Z"
   },
   {
    "duration": 799,
    "start_time": "2022-07-09T03:42:31.578Z"
   },
   {
    "duration": 18,
    "start_time": "2022-07-09T03:43:56.523Z"
   },
   {
    "duration": 26,
    "start_time": "2022-07-09T03:46:30.790Z"
   },
   {
    "duration": 4,
    "start_time": "2022-07-09T03:46:48.778Z"
   },
   {
    "duration": 4,
    "start_time": "2022-07-09T03:46:59.759Z"
   },
   {
    "duration": 4,
    "start_time": "2022-07-09T03:47:12.659Z"
   },
   {
    "duration": 799,
    "start_time": "2022-07-09T03:51:53.811Z"
   },
   {
    "duration": 1768,
    "start_time": "2022-07-09T03:51:56.469Z"
   },
   {
    "duration": 2379,
    "start_time": "2022-07-09T03:52:20.939Z"
   },
   {
    "duration": 18,
    "start_time": "2022-07-09T03:52:23.320Z"
   },
   {
    "duration": 128,
    "start_time": "2022-07-09T03:52:23.340Z"
   },
   {
    "duration": 115,
    "start_time": "2022-07-09T03:52:23.470Z"
   },
   {
    "duration": 49,
    "start_time": "2022-07-09T03:52:23.587Z"
   },
   {
    "duration": 548,
    "start_time": "2022-07-09T03:52:23.637Z"
   },
   {
    "duration": 17050,
    "start_time": "2022-07-09T03:52:24.187Z"
   },
   {
    "duration": 979,
    "start_time": "2022-07-09T03:52:41.239Z"
   },
   {
    "duration": 15,
    "start_time": "2022-07-09T03:52:42.221Z"
   },
   {
    "duration": 27,
    "start_time": "2022-07-09T03:52:42.241Z"
   },
   {
    "duration": 4,
    "start_time": "2022-07-09T03:52:42.270Z"
   },
   {
    "duration": 903,
    "start_time": "2022-07-09T03:52:42.298Z"
   },
   {
    "duration": 1749,
    "start_time": "2022-07-09T03:52:43.206Z"
   },
   {
    "duration": 40043,
    "start_time": "2022-07-09T03:52:44.957Z"
   },
   {
    "duration": 93,
    "start_time": "2022-07-09T03:53:25.009Z"
   },
   {
    "duration": 1079,
    "start_time": "2022-07-09T03:53:25.104Z"
   },
   {
    "duration": 38,
    "start_time": "2022-07-09T03:53:26.185Z"
   },
   {
    "duration": 61699,
    "start_time": "2022-07-09T03:53:26.226Z"
   },
   {
    "duration": 2748,
    "start_time": "2022-07-09T03:54:27.928Z"
   },
   {
    "duration": 524462,
    "start_time": "2022-07-09T03:54:30.679Z"
   },
   {
    "duration": 507,
    "start_time": "2022-07-09T04:03:15.143Z"
   },
   {
    "duration": 42888,
    "start_time": "2022-07-09T04:03:15.652Z"
   },
   {
    "duration": 80,
    "start_time": "2022-07-09T04:03:58.543Z"
   },
   {
    "duration": 5481,
    "start_time": "2022-07-09T04:03:58.625Z"
   },
   {
    "duration": 48,
    "start_time": "2022-07-09T04:04:04.108Z"
   },
   {
    "duration": 45,
    "start_time": "2022-07-09T04:04:04.158Z"
   },
   {
    "duration": 43,
    "start_time": "2022-07-09T04:04:04.204Z"
   },
   {
    "duration": 3153,
    "start_time": "2022-07-09T11:35:35.933Z"
   },
   {
    "duration": 26,
    "start_time": "2022-07-09T11:35:44.884Z"
   },
   {
    "duration": 12,
    "start_time": "2022-07-09T11:35:50.352Z"
   },
   {
    "duration": 135,
    "start_time": "2022-07-09T11:35:52.383Z"
   },
   {
    "duration": 1008,
    "start_time": "2022-07-09T11:37:27.391Z"
   },
   {
    "duration": 671,
    "start_time": "2022-07-09T11:37:45.850Z"
   },
   {
    "duration": 7,
    "start_time": "2022-07-09T11:37:56.355Z"
   },
   {
    "duration": 30,
    "start_time": "2022-07-09T11:38:01.497Z"
   },
   {
    "duration": 444,
    "start_time": "2022-07-09T11:38:08.464Z"
   },
   {
    "duration": 43,
    "start_time": "2022-07-09T11:39:04.912Z"
   },
   {
    "duration": 435,
    "start_time": "2022-07-09T11:39:11.453Z"
   },
   {
    "duration": 110,
    "start_time": "2022-07-09T11:50:42.643Z"
   },
   {
    "duration": 32,
    "start_time": "2022-07-09T11:51:17.825Z"
   },
   {
    "duration": 257409,
    "start_time": "2022-07-09T11:51:50.400Z"
   },
   {
    "duration": 76289,
    "start_time": "2022-07-09T11:56:23.549Z"
   },
   {
    "duration": 262042,
    "start_time": "2022-07-09T11:59:37.088Z"
   },
   {
    "duration": 94,
    "start_time": "2022-07-10T10:25:28.312Z"
   },
   {
    "duration": 92,
    "start_time": "2022-07-10T10:25:37.146Z"
   },
   {
    "duration": 2358,
    "start_time": "2022-07-13T09:45:11.782Z"
   },
   {
    "duration": 131,
    "start_time": "2022-07-13T09:45:14.142Z"
   },
   {
    "duration": 16,
    "start_time": "2022-07-13T09:45:14.275Z"
   },
   {
    "duration": 103,
    "start_time": "2022-07-13T09:45:14.292Z"
   },
   {
    "duration": 99,
    "start_time": "2022-07-13T09:45:14.397Z"
   },
   {
    "duration": 56,
    "start_time": "2022-07-13T09:45:14.498Z"
   },
   {
    "duration": 519,
    "start_time": "2022-07-13T09:45:14.555Z"
   },
   {
    "duration": 15102,
    "start_time": "2022-07-13T09:45:15.076Z"
   },
   {
    "duration": 78,
    "start_time": "2022-07-13T09:45:30.180Z"
   },
   {
    "duration": 948,
    "start_time": "2022-07-13T09:45:30.259Z"
   },
   {
    "duration": 20,
    "start_time": "2022-07-13T09:45:31.209Z"
   },
   {
    "duration": 36,
    "start_time": "2022-07-13T09:45:31.240Z"
   },
   {
    "duration": 13,
    "start_time": "2022-07-13T09:45:31.278Z"
   },
   {
    "duration": 851,
    "start_time": "2022-07-13T09:45:31.294Z"
   },
   {
    "duration": 1693,
    "start_time": "2022-07-13T09:45:32.147Z"
   },
   {
    "duration": 46488,
    "start_time": "2022-07-13T09:45:33.841Z"
   },
   {
    "duration": 108,
    "start_time": "2022-07-13T09:46:20.331Z"
   },
   {
    "duration": 860,
    "start_time": "2022-07-13T09:46:20.441Z"
   },
   {
    "duration": 39,
    "start_time": "2022-07-13T09:46:21.302Z"
   },
   {
    "duration": 52206,
    "start_time": "2022-07-13T09:46:21.343Z"
   },
   {
    "duration": 2245,
    "start_time": "2022-07-13T09:47:13.551Z"
   },
   {
    "duration": 241845,
    "start_time": "2022-07-13T09:47:15.798Z"
   },
   {
    "duration": 492,
    "start_time": "2022-07-13T09:51:17.647Z"
   },
   {
    "duration": 5305,
    "start_time": "2022-07-13T09:51:18.141Z"
   },
   {
    "duration": 84,
    "start_time": "2022-07-13T09:51:23.447Z"
   },
   {
    "duration": 2908,
    "start_time": "2022-07-13T09:51:23.533Z"
   },
   {
    "duration": 89,
    "start_time": "2022-07-13T09:51:26.443Z"
   },
   {
    "duration": 13,
    "start_time": "2022-07-13T09:51:26.542Z"
   }
  ],
  "kernelspec": {
   "display_name": "Python 3 (ipykernel)",
   "language": "python",
   "name": "python3"
  },
  "language_info": {
   "codemirror_mode": {
    "name": "ipython",
    "version": 3
   },
   "file_extension": ".py",
   "mimetype": "text/x-python",
   "name": "python",
   "nbconvert_exporter": "python",
   "pygments_lexer": "ipython3",
   "version": "3.9.7"
  },
  "toc": {
   "base_numbering": 1,
   "nav_menu": {},
   "number_sections": true,
   "sideBar": true,
   "skip_h1_title": true,
   "title_cell": "Table of Contents",
   "title_sidebar": "Contents",
   "toc_cell": false,
   "toc_position": {},
   "toc_section_display": true,
   "toc_window_display": false
  }
 },
 "nbformat": 4,
 "nbformat_minor": 2
}
