{
 "cells": [
  {
   "cell_type": "markdown",
   "id": "3a1cfd59",
   "metadata": {},
   "source": [
    "# Interconnect Final Project\n",
    "\n",
    "The telecom operator Interconnect would like to be able to forecast their churn of clients. Interconnect's marketing team has collected some of their clientele's personal data, including information about their plans and contracts, to predict whether a customer will leave. Ensure AUC-ROC metric is 85 > and high accuracy.\n",
    "\n",
    "## Interconnect's services\n",
    "\n",
    "Interconnect mainly provides two types of services:\n",
    "\n",
    "1. Landline communication. The telephone can be connected to several lines simultaneously.\n",
    "2. Internet. The network can be set up via a telephone line (DSL, *digital subscriber line*) or through a fiber optic cable.\n",
    "\n",
    "Some other services the company provides include:\n",
    "\n",
    "- Internet security: antivirus software (*DeviceProtection*) and a malicious website blocker (*OnlineSecurity*)\n",
    "- A dedicated technical support line (*TechSupport*)\n",
    "- Cloud file storage and data backup (*OnlineBackup*)\n",
    "- TV streaming (*StreamingTV*) and a movie directory (*StreamingMovies*)\n",
    "\n",
    "The clients can choose either a monthly payment or sign a 1- or 2-year contract. They can use various payment methods and receive an electronic invoice after a transaction."
   ]
  },
  {
   "cell_type": "markdown",
   "id": "6c236795",
   "metadata": {},
   "source": [
    "# Data Preprocessing"
   ]
  },
  {
   "cell_type": "code",
   "execution_count": 1,
   "id": "4c2596cc",
   "metadata": {
    "tags": []
   },
   "outputs": [],
   "source": [
    "# core imports\n",
    "import pandas as pd\n",
    "import numpy as np\n",
    "import seaborn as sns\n",
    "import matplotlib.pyplot as plt\n",
    "\n",
    "# model and metric requirements\n",
    "from functools import reduce\n",
    "from sklearn.model_selection import train_test_split, GridSearchCV, cross_val_score\n",
    "from sklearn.metrics import accuracy_score, roc_auc_score \n",
    "\n",
    "# models\n",
    "from sklearn.tree import DecisionTreeClassifier\n",
    "from sklearn.ensemble import RandomForestClassifier\n",
    "from catboost import CatBoostClassifier\n",
    "from sklearn.dummy import DummyClassifier"
   ]
  },
  {
   "cell_type": "markdown",
   "id": "971d0e35",
   "metadata": {},
   "source": [
    "## Initial Check"
   ]
  },
  {
   "cell_type": "code",
   "execution_count": 2,
   "id": "4b7cec86",
   "metadata": {},
   "outputs": [],
   "source": [
    "contract = pd.read_csv('C:/Users/Kayo/Downloads/final_provider/final_provider/contract.csv')\n",
    "internet = pd.read_csv('C:/Users/Kayo/Downloads/final_provider/final_provider/internet.csv')\n",
    "personal = pd.read_csv('C:/Users/Kayo/Downloads/final_provider/final_provider/personal.csv')\n",
    "phone = pd.read_csv('C:/Users/Kayo/Downloads/final_provider/final_provider/phone.csv')"
   ]
  },
  {
   "cell_type": "code",
   "execution_count": 3,
   "id": "e4b69508",
   "metadata": {},
   "outputs": [
    {
     "data": {
      "text/html": [
       "<div>\n",
       "<style scoped>\n",
       "    .dataframe tbody tr th:only-of-type {\n",
       "        vertical-align: middle;\n",
       "    }\n",
       "\n",
       "    .dataframe tbody tr th {\n",
       "        vertical-align: top;\n",
       "    }\n",
       "\n",
       "    .dataframe thead th {\n",
       "        text-align: right;\n",
       "    }\n",
       "</style>\n",
       "<table border=\"1\" class=\"dataframe\">\n",
       "  <thead>\n",
       "    <tr style=\"text-align: right;\">\n",
       "      <th></th>\n",
       "      <th>customerID</th>\n",
       "      <th>BeginDate</th>\n",
       "      <th>EndDate</th>\n",
       "      <th>Type</th>\n",
       "      <th>PaperlessBilling</th>\n",
       "      <th>PaymentMethod</th>\n",
       "      <th>MonthlyCharges</th>\n",
       "      <th>TotalCharges</th>\n",
       "    </tr>\n",
       "  </thead>\n",
       "  <tbody>\n",
       "    <tr>\n",
       "      <th>0</th>\n",
       "      <td>7590-VHVEG</td>\n",
       "      <td>2020-01-01</td>\n",
       "      <td>No</td>\n",
       "      <td>Month-to-month</td>\n",
       "      <td>Yes</td>\n",
       "      <td>Electronic check</td>\n",
       "      <td>29.85</td>\n",
       "      <td>29.85</td>\n",
       "    </tr>\n",
       "    <tr>\n",
       "      <th>1</th>\n",
       "      <td>5575-GNVDE</td>\n",
       "      <td>2017-04-01</td>\n",
       "      <td>No</td>\n",
       "      <td>One year</td>\n",
       "      <td>No</td>\n",
       "      <td>Mailed check</td>\n",
       "      <td>56.95</td>\n",
       "      <td>1889.5</td>\n",
       "    </tr>\n",
       "    <tr>\n",
       "      <th>2</th>\n",
       "      <td>3668-QPYBK</td>\n",
       "      <td>2019-10-01</td>\n",
       "      <td>2019-12-01 00:00:00</td>\n",
       "      <td>Month-to-month</td>\n",
       "      <td>Yes</td>\n",
       "      <td>Mailed check</td>\n",
       "      <td>53.85</td>\n",
       "      <td>108.15</td>\n",
       "    </tr>\n",
       "    <tr>\n",
       "      <th>3</th>\n",
       "      <td>7795-CFOCW</td>\n",
       "      <td>2016-05-01</td>\n",
       "      <td>No</td>\n",
       "      <td>One year</td>\n",
       "      <td>No</td>\n",
       "      <td>Bank transfer (automatic)</td>\n",
       "      <td>42.30</td>\n",
       "      <td>1840.75</td>\n",
       "    </tr>\n",
       "    <tr>\n",
       "      <th>4</th>\n",
       "      <td>9237-HQITU</td>\n",
       "      <td>2019-09-01</td>\n",
       "      <td>2019-11-01 00:00:00</td>\n",
       "      <td>Month-to-month</td>\n",
       "      <td>Yes</td>\n",
       "      <td>Electronic check</td>\n",
       "      <td>70.70</td>\n",
       "      <td>151.65</td>\n",
       "    </tr>\n",
       "  </tbody>\n",
       "</table>\n",
       "</div>"
      ],
      "text/plain": [
       "   customerID   BeginDate              EndDate            Type  \\\n",
       "0  7590-VHVEG  2020-01-01                   No  Month-to-month   \n",
       "1  5575-GNVDE  2017-04-01                   No        One year   \n",
       "2  3668-QPYBK  2019-10-01  2019-12-01 00:00:00  Month-to-month   \n",
       "3  7795-CFOCW  2016-05-01                   No        One year   \n",
       "4  9237-HQITU  2019-09-01  2019-11-01 00:00:00  Month-to-month   \n",
       "\n",
       "  PaperlessBilling              PaymentMethod  MonthlyCharges TotalCharges  \n",
       "0              Yes           Electronic check           29.85        29.85  \n",
       "1               No               Mailed check           56.95       1889.5  \n",
       "2              Yes               Mailed check           53.85       108.15  \n",
       "3               No  Bank transfer (automatic)           42.30      1840.75  \n",
       "4              Yes           Electronic check           70.70       151.65  "
      ]
     },
     "execution_count": 3,
     "metadata": {},
     "output_type": "execute_result"
    }
   ],
   "source": [
    "# Checking Dataframe info, our target is 'No' in contract EndDate\n",
    "contract.head()"
   ]
  },
  {
   "cell_type": "code",
   "execution_count": 4,
   "id": "27600a1e",
   "metadata": {},
   "outputs": [
    {
     "data": {
      "text/html": [
       "<div>\n",
       "<style scoped>\n",
       "    .dataframe tbody tr th:only-of-type {\n",
       "        vertical-align: middle;\n",
       "    }\n",
       "\n",
       "    .dataframe tbody tr th {\n",
       "        vertical-align: top;\n",
       "    }\n",
       "\n",
       "    .dataframe thead th {\n",
       "        text-align: right;\n",
       "    }\n",
       "</style>\n",
       "<table border=\"1\" class=\"dataframe\">\n",
       "  <thead>\n",
       "    <tr style=\"text-align: right;\">\n",
       "      <th></th>\n",
       "      <th>customerID</th>\n",
       "      <th>InternetService</th>\n",
       "      <th>OnlineSecurity</th>\n",
       "      <th>OnlineBackup</th>\n",
       "      <th>DeviceProtection</th>\n",
       "      <th>TechSupport</th>\n",
       "      <th>StreamingTV</th>\n",
       "      <th>StreamingMovies</th>\n",
       "    </tr>\n",
       "  </thead>\n",
       "  <tbody>\n",
       "    <tr>\n",
       "      <th>0</th>\n",
       "      <td>7590-VHVEG</td>\n",
       "      <td>DSL</td>\n",
       "      <td>No</td>\n",
       "      <td>Yes</td>\n",
       "      <td>No</td>\n",
       "      <td>No</td>\n",
       "      <td>No</td>\n",
       "      <td>No</td>\n",
       "    </tr>\n",
       "    <tr>\n",
       "      <th>1</th>\n",
       "      <td>5575-GNVDE</td>\n",
       "      <td>DSL</td>\n",
       "      <td>Yes</td>\n",
       "      <td>No</td>\n",
       "      <td>Yes</td>\n",
       "      <td>No</td>\n",
       "      <td>No</td>\n",
       "      <td>No</td>\n",
       "    </tr>\n",
       "    <tr>\n",
       "      <th>2</th>\n",
       "      <td>3668-QPYBK</td>\n",
       "      <td>DSL</td>\n",
       "      <td>Yes</td>\n",
       "      <td>Yes</td>\n",
       "      <td>No</td>\n",
       "      <td>No</td>\n",
       "      <td>No</td>\n",
       "      <td>No</td>\n",
       "    </tr>\n",
       "    <tr>\n",
       "      <th>3</th>\n",
       "      <td>7795-CFOCW</td>\n",
       "      <td>DSL</td>\n",
       "      <td>Yes</td>\n",
       "      <td>No</td>\n",
       "      <td>Yes</td>\n",
       "      <td>Yes</td>\n",
       "      <td>No</td>\n",
       "      <td>No</td>\n",
       "    </tr>\n",
       "    <tr>\n",
       "      <th>4</th>\n",
       "      <td>9237-HQITU</td>\n",
       "      <td>Fiber optic</td>\n",
       "      <td>No</td>\n",
       "      <td>No</td>\n",
       "      <td>No</td>\n",
       "      <td>No</td>\n",
       "      <td>No</td>\n",
       "      <td>No</td>\n",
       "    </tr>\n",
       "  </tbody>\n",
       "</table>\n",
       "</div>"
      ],
      "text/plain": [
       "   customerID InternetService OnlineSecurity OnlineBackup DeviceProtection  \\\n",
       "0  7590-VHVEG             DSL             No          Yes               No   \n",
       "1  5575-GNVDE             DSL            Yes           No              Yes   \n",
       "2  3668-QPYBK             DSL            Yes          Yes               No   \n",
       "3  7795-CFOCW             DSL            Yes           No              Yes   \n",
       "4  9237-HQITU     Fiber optic             No           No               No   \n",
       "\n",
       "  TechSupport StreamingTV StreamingMovies  \n",
       "0          No          No              No  \n",
       "1          No          No              No  \n",
       "2          No          No              No  \n",
       "3         Yes          No              No  \n",
       "4          No          No              No  "
      ]
     },
     "execution_count": 4,
     "metadata": {},
     "output_type": "execute_result"
    }
   ],
   "source": [
    "internet.head()"
   ]
  },
  {
   "cell_type": "code",
   "execution_count": 5,
   "id": "c0a66981",
   "metadata": {},
   "outputs": [
    {
     "data": {
      "text/html": [
       "<div>\n",
       "<style scoped>\n",
       "    .dataframe tbody tr th:only-of-type {\n",
       "        vertical-align: middle;\n",
       "    }\n",
       "\n",
       "    .dataframe tbody tr th {\n",
       "        vertical-align: top;\n",
       "    }\n",
       "\n",
       "    .dataframe thead th {\n",
       "        text-align: right;\n",
       "    }\n",
       "</style>\n",
       "<table border=\"1\" class=\"dataframe\">\n",
       "  <thead>\n",
       "    <tr style=\"text-align: right;\">\n",
       "      <th></th>\n",
       "      <th>customerID</th>\n",
       "      <th>gender</th>\n",
       "      <th>SeniorCitizen</th>\n",
       "      <th>Partner</th>\n",
       "      <th>Dependents</th>\n",
       "    </tr>\n",
       "  </thead>\n",
       "  <tbody>\n",
       "    <tr>\n",
       "      <th>0</th>\n",
       "      <td>7590-VHVEG</td>\n",
       "      <td>Female</td>\n",
       "      <td>0</td>\n",
       "      <td>Yes</td>\n",
       "      <td>No</td>\n",
       "    </tr>\n",
       "    <tr>\n",
       "      <th>1</th>\n",
       "      <td>5575-GNVDE</td>\n",
       "      <td>Male</td>\n",
       "      <td>0</td>\n",
       "      <td>No</td>\n",
       "      <td>No</td>\n",
       "    </tr>\n",
       "    <tr>\n",
       "      <th>2</th>\n",
       "      <td>3668-QPYBK</td>\n",
       "      <td>Male</td>\n",
       "      <td>0</td>\n",
       "      <td>No</td>\n",
       "      <td>No</td>\n",
       "    </tr>\n",
       "    <tr>\n",
       "      <th>3</th>\n",
       "      <td>7795-CFOCW</td>\n",
       "      <td>Male</td>\n",
       "      <td>0</td>\n",
       "      <td>No</td>\n",
       "      <td>No</td>\n",
       "    </tr>\n",
       "    <tr>\n",
       "      <th>4</th>\n",
       "      <td>9237-HQITU</td>\n",
       "      <td>Female</td>\n",
       "      <td>0</td>\n",
       "      <td>No</td>\n",
       "      <td>No</td>\n",
       "    </tr>\n",
       "  </tbody>\n",
       "</table>\n",
       "</div>"
      ],
      "text/plain": [
       "   customerID  gender  SeniorCitizen Partner Dependents\n",
       "0  7590-VHVEG  Female              0     Yes         No\n",
       "1  5575-GNVDE    Male              0      No         No\n",
       "2  3668-QPYBK    Male              0      No         No\n",
       "3  7795-CFOCW    Male              0      No         No\n",
       "4  9237-HQITU  Female              0      No         No"
      ]
     },
     "execution_count": 5,
     "metadata": {},
     "output_type": "execute_result"
    }
   ],
   "source": [
    "personal.head()"
   ]
  },
  {
   "cell_type": "code",
   "execution_count": 6,
   "id": "6bc2aef5",
   "metadata": {},
   "outputs": [
    {
     "data": {
      "text/html": [
       "<div>\n",
       "<style scoped>\n",
       "    .dataframe tbody tr th:only-of-type {\n",
       "        vertical-align: middle;\n",
       "    }\n",
       "\n",
       "    .dataframe tbody tr th {\n",
       "        vertical-align: top;\n",
       "    }\n",
       "\n",
       "    .dataframe thead th {\n",
       "        text-align: right;\n",
       "    }\n",
       "</style>\n",
       "<table border=\"1\" class=\"dataframe\">\n",
       "  <thead>\n",
       "    <tr style=\"text-align: right;\">\n",
       "      <th></th>\n",
       "      <th>customerID</th>\n",
       "      <th>MultipleLines</th>\n",
       "    </tr>\n",
       "  </thead>\n",
       "  <tbody>\n",
       "    <tr>\n",
       "      <th>0</th>\n",
       "      <td>5575-GNVDE</td>\n",
       "      <td>No</td>\n",
       "    </tr>\n",
       "    <tr>\n",
       "      <th>1</th>\n",
       "      <td>3668-QPYBK</td>\n",
       "      <td>No</td>\n",
       "    </tr>\n",
       "    <tr>\n",
       "      <th>2</th>\n",
       "      <td>9237-HQITU</td>\n",
       "      <td>No</td>\n",
       "    </tr>\n",
       "    <tr>\n",
       "      <th>3</th>\n",
       "      <td>9305-CDSKC</td>\n",
       "      <td>Yes</td>\n",
       "    </tr>\n",
       "    <tr>\n",
       "      <th>4</th>\n",
       "      <td>1452-KIOVK</td>\n",
       "      <td>Yes</td>\n",
       "    </tr>\n",
       "  </tbody>\n",
       "</table>\n",
       "</div>"
      ],
      "text/plain": [
       "   customerID MultipleLines\n",
       "0  5575-GNVDE            No\n",
       "1  3668-QPYBK            No\n",
       "2  9237-HQITU            No\n",
       "3  9305-CDSKC           Yes\n",
       "4  1452-KIOVK           Yes"
      ]
     },
     "execution_count": 6,
     "metadata": {},
     "output_type": "execute_result"
    }
   ],
   "source": [
    "phone.head()"
   ]
  },
  {
   "cell_type": "markdown",
   "id": "54038ea8",
   "metadata": {},
   "source": [
    "Paperless billing in contract seems like a useless column, though it could be an indicator of age would might be helpful for our predictions. Additionally, there's little reason to keep these separate, we can merge these into one dataframe on customerID. Many of these columns can also be converted to 0s or 1s."
   ]
  },
  {
   "cell_type": "markdown",
   "id": "1960b9cf-7158-4c7e-927c-c17661363815",
   "metadata": {},
   "source": [
    "## Processing"
   ]
  },
  {
   "cell_type": "code",
   "execution_count": 7,
   "id": "07452a7b",
   "metadata": {},
   "outputs": [],
   "source": [
    "# Creating a column so our model can better understand missing values for the phoneline df\n",
    "phone['has_phoneline'] = 'Yes'\n",
    "\n",
    "# Dataframe merging\n",
    "df = reduce(lambda left, right: pd.merge(left, right, on=['customerID'], how='outer'), [contract, internet, personal, phone])\n",
    "\n",
    "# Replacing NaN from merger\n",
    "df['has_phoneline'] = df['has_phoneline'].fillna('None')\n",
    "df['MultipleLines'] = df['MultipleLines'].fillna('No')"
   ]
  },
  {
   "cell_type": "markdown",
   "id": "afb061e8-a64e-4aef-8c07-334771fb1f1d",
   "metadata": {},
   "source": [
    "Successfully merged our datasets into one, now making it easier to use."
   ]
  },
  {
   "cell_type": "code",
   "execution_count": 8,
   "id": "f2ed327d",
   "metadata": {},
   "outputs": [
    {
     "name": "stdout",
     "output_type": "stream",
     "text": [
      "<class 'pandas.core.frame.DataFrame'>\n",
      "Int64Index: 7043 entries, 0 to 7042\n",
      "Data columns (total 21 columns):\n",
      " #   Column            Non-Null Count  Dtype  \n",
      "---  ------            --------------  -----  \n",
      " 0   customerID        7043 non-null   object \n",
      " 1   BeginDate         7043 non-null   object \n",
      " 2   EndDate           7043 non-null   object \n",
      " 3   Type              7043 non-null   object \n",
      " 4   PaperlessBilling  7043 non-null   object \n",
      " 5   PaymentMethod     7043 non-null   object \n",
      " 6   MonthlyCharges    7043 non-null   float64\n",
      " 7   TotalCharges      7043 non-null   object \n",
      " 8   InternetService   5517 non-null   object \n",
      " 9   OnlineSecurity    5517 non-null   object \n",
      " 10  OnlineBackup      5517 non-null   object \n",
      " 11  DeviceProtection  5517 non-null   object \n",
      " 12  TechSupport       5517 non-null   object \n",
      " 13  StreamingTV       5517 non-null   object \n",
      " 14  StreamingMovies   5517 non-null   object \n",
      " 15  gender            7043 non-null   object \n",
      " 16  SeniorCitizen     7043 non-null   int64  \n",
      " 17  Partner           7043 non-null   object \n",
      " 18  Dependents        7043 non-null   object \n",
      " 19  MultipleLines     7043 non-null   object \n",
      " 20  has_phoneline     7043 non-null   object \n",
      "dtypes: float64(1), int64(1), object(19)\n",
      "memory usage: 1.2+ MB\n"
     ]
    }
   ],
   "source": [
    "df.info()"
   ]
  },
  {
   "cell_type": "code",
   "execution_count": 9,
   "id": "b0f4d072",
   "metadata": {},
   "outputs": [],
   "source": [
    "# Changing strings into int\n",
    "df_exclude = df[['BeginDate', 'EndDate', 'MonthlyCharges', 'TotalCharges', 'customerID']]\n",
    "df_mod = pd.get_dummies(df[['Type', 'PaperlessBilling', 'PaymentMethod', 'InternetService', 'OnlineSecurity', 'OnlineBackup', 'DeviceProtection', 'TechSupport', 'StreamingTV', \n",
    "    'StreamingMovies', 'gender', 'SeniorCitizen', 'Partner', 'Dependents', 'MultipleLines', 'has_phoneline']], drop_first=True)\n",
    "df = df_exclude.merge(df_mod, left_index=True, right_index=True)\n",
    "\n",
    "# Converting columns to lowercase\n",
    "df.columns = df.columns.str.lower()"
   ]
  },
  {
   "cell_type": "code",
   "execution_count": 10,
   "id": "2379eadc",
   "metadata": {
    "scrolled": true
   },
   "outputs": [],
   "source": [
    "# Converting target into new column\n",
    "target_list = []\n",
    "for row in df['enddate']:\n",
    "    target_list.append(row != 'No')\n",
    "\n",
    "df['target'] = pd.get_dummies(target_list, drop_first=True)\n",
    "\n",
    "# Converting old target columns into datetime\n",
    "df.loc[df['enddate'] == 'No', 'enddate'] = np.NaN"
   ]
  },
  {
   "cell_type": "code",
   "execution_count": 11,
   "id": "4aef59d1",
   "metadata": {},
   "outputs": [],
   "source": [
    "# Removing datetime and the few leftover NaNs from our dataset, to avoid errors\n",
    "df_final = df.drop(['enddate', 'begindate'], axis=1).dropna()\n",
    "\n",
    "# CustomerID is no longer needed, but can be used as an index\n",
    "df_final = df_final.set_index('customerid')"
   ]
  },
  {
   "cell_type": "markdown",
   "id": "095d46fb",
   "metadata": {},
   "source": [
    "The datetime column will cause an error when making my models, so I instead dropped it here."
   ]
  },
  {
   "cell_type": "code",
   "execution_count": 12,
   "id": "3a9e142f",
   "metadata": {},
   "outputs": [],
   "source": [
    "# Removing blank cells\n",
    "df_final['totalcharges'] = pd.to_numeric(df_final['totalcharges'], errors='coerce')\n",
    "df_final = df_final.dropna()\n",
    "df_final.reset_index(drop=True, inplace=True)"
   ]
  },
  {
   "cell_type": "code",
   "execution_count": 13,
   "id": "6f90c262",
   "metadata": {},
   "outputs": [
    {
     "name": "stdout",
     "output_type": "stream",
     "text": [
      "Total NaN Count: 0\n",
      "Total Duplicate Rows Count: 22\n"
     ]
    }
   ],
   "source": [
    "# Checking for NaN/Duplicates\n",
    "print('Total NaN Count:', len(df_final) - len(df_final.isnull()))\n",
    "print('Total Duplicate Rows Count:', len(df_final) - len(df_final.drop_duplicates()))"
   ]
  },
  {
   "cell_type": "markdown",
   "id": "6b5a19e6",
   "metadata": {},
   "source": [
    "While ideally I would replace the total charges blank cells with a value similar to monthly charge * months since begindate, the total charges column isn't consistent and thus it would only skew the data."
   ]
  },
  {
   "cell_type": "code",
   "execution_count": 14,
   "id": "813aeeed",
   "metadata": {},
   "outputs": [
    {
     "data": {
      "text/html": [
       "<div>\n",
       "<style scoped>\n",
       "    .dataframe tbody tr th:only-of-type {\n",
       "        vertical-align: middle;\n",
       "    }\n",
       "\n",
       "    .dataframe tbody tr th {\n",
       "        vertical-align: top;\n",
       "    }\n",
       "\n",
       "    .dataframe thead th {\n",
       "        text-align: right;\n",
       "    }\n",
       "</style>\n",
       "<table border=\"1\" class=\"dataframe\">\n",
       "  <thead>\n",
       "    <tr style=\"text-align: right;\">\n",
       "      <th></th>\n",
       "      <th>monthlycharges</th>\n",
       "      <th>totalcharges</th>\n",
       "      <th>seniorcitizen</th>\n",
       "      <th>type_one year</th>\n",
       "      <th>type_two year</th>\n",
       "      <th>paperlessbilling_yes</th>\n",
       "      <th>paymentmethod_credit card (automatic)</th>\n",
       "      <th>paymentmethod_electronic check</th>\n",
       "      <th>paymentmethod_mailed check</th>\n",
       "      <th>internetservice_fiber optic</th>\n",
       "      <th>...</th>\n",
       "      <th>deviceprotection_yes</th>\n",
       "      <th>techsupport_yes</th>\n",
       "      <th>streamingtv_yes</th>\n",
       "      <th>streamingmovies_yes</th>\n",
       "      <th>gender_male</th>\n",
       "      <th>partner_yes</th>\n",
       "      <th>dependents_yes</th>\n",
       "      <th>multiplelines_yes</th>\n",
       "      <th>has_phoneline_yes</th>\n",
       "      <th>target</th>\n",
       "    </tr>\n",
       "  </thead>\n",
       "  <tbody>\n",
       "    <tr>\n",
       "      <th>0</th>\n",
       "      <td>29.85</td>\n",
       "      <td>29.85</td>\n",
       "      <td>0</td>\n",
       "      <td>0</td>\n",
       "      <td>0</td>\n",
       "      <td>1</td>\n",
       "      <td>0</td>\n",
       "      <td>1</td>\n",
       "      <td>0</td>\n",
       "      <td>0</td>\n",
       "      <td>...</td>\n",
       "      <td>0</td>\n",
       "      <td>0</td>\n",
       "      <td>0</td>\n",
       "      <td>0</td>\n",
       "      <td>0</td>\n",
       "      <td>1</td>\n",
       "      <td>0</td>\n",
       "      <td>0</td>\n",
       "      <td>0</td>\n",
       "      <td>0</td>\n",
       "    </tr>\n",
       "    <tr>\n",
       "      <th>1</th>\n",
       "      <td>56.95</td>\n",
       "      <td>1889.50</td>\n",
       "      <td>0</td>\n",
       "      <td>1</td>\n",
       "      <td>0</td>\n",
       "      <td>0</td>\n",
       "      <td>0</td>\n",
       "      <td>0</td>\n",
       "      <td>1</td>\n",
       "      <td>0</td>\n",
       "      <td>...</td>\n",
       "      <td>1</td>\n",
       "      <td>0</td>\n",
       "      <td>0</td>\n",
       "      <td>0</td>\n",
       "      <td>1</td>\n",
       "      <td>0</td>\n",
       "      <td>0</td>\n",
       "      <td>0</td>\n",
       "      <td>1</td>\n",
       "      <td>0</td>\n",
       "    </tr>\n",
       "    <tr>\n",
       "      <th>2</th>\n",
       "      <td>53.85</td>\n",
       "      <td>108.15</td>\n",
       "      <td>0</td>\n",
       "      <td>0</td>\n",
       "      <td>0</td>\n",
       "      <td>1</td>\n",
       "      <td>0</td>\n",
       "      <td>0</td>\n",
       "      <td>1</td>\n",
       "      <td>0</td>\n",
       "      <td>...</td>\n",
       "      <td>0</td>\n",
       "      <td>0</td>\n",
       "      <td>0</td>\n",
       "      <td>0</td>\n",
       "      <td>1</td>\n",
       "      <td>0</td>\n",
       "      <td>0</td>\n",
       "      <td>0</td>\n",
       "      <td>1</td>\n",
       "      <td>1</td>\n",
       "    </tr>\n",
       "    <tr>\n",
       "      <th>3</th>\n",
       "      <td>42.30</td>\n",
       "      <td>1840.75</td>\n",
       "      <td>0</td>\n",
       "      <td>1</td>\n",
       "      <td>0</td>\n",
       "      <td>0</td>\n",
       "      <td>0</td>\n",
       "      <td>0</td>\n",
       "      <td>0</td>\n",
       "      <td>0</td>\n",
       "      <td>...</td>\n",
       "      <td>1</td>\n",
       "      <td>1</td>\n",
       "      <td>0</td>\n",
       "      <td>0</td>\n",
       "      <td>1</td>\n",
       "      <td>0</td>\n",
       "      <td>0</td>\n",
       "      <td>0</td>\n",
       "      <td>0</td>\n",
       "      <td>0</td>\n",
       "    </tr>\n",
       "    <tr>\n",
       "      <th>4</th>\n",
       "      <td>70.70</td>\n",
       "      <td>151.65</td>\n",
       "      <td>0</td>\n",
       "      <td>0</td>\n",
       "      <td>0</td>\n",
       "      <td>1</td>\n",
       "      <td>0</td>\n",
       "      <td>1</td>\n",
       "      <td>0</td>\n",
       "      <td>1</td>\n",
       "      <td>...</td>\n",
       "      <td>0</td>\n",
       "      <td>0</td>\n",
       "      <td>0</td>\n",
       "      <td>0</td>\n",
       "      <td>0</td>\n",
       "      <td>0</td>\n",
       "      <td>0</td>\n",
       "      <td>0</td>\n",
       "      <td>1</td>\n",
       "      <td>1</td>\n",
       "    </tr>\n",
       "  </tbody>\n",
       "</table>\n",
       "<p>5 rows × 22 columns</p>\n",
       "</div>"
      ],
      "text/plain": [
       "   monthlycharges  totalcharges  seniorcitizen  type_one year  type_two year  \\\n",
       "0           29.85         29.85              0              0              0   \n",
       "1           56.95       1889.50              0              1              0   \n",
       "2           53.85        108.15              0              0              0   \n",
       "3           42.30       1840.75              0              1              0   \n",
       "4           70.70        151.65              0              0              0   \n",
       "\n",
       "   paperlessbilling_yes  paymentmethod_credit card (automatic)  \\\n",
       "0                     1                                      0   \n",
       "1                     0                                      0   \n",
       "2                     1                                      0   \n",
       "3                     0                                      0   \n",
       "4                     1                                      0   \n",
       "\n",
       "   paymentmethod_electronic check  paymentmethod_mailed check  \\\n",
       "0                               1                           0   \n",
       "1                               0                           1   \n",
       "2                               0                           1   \n",
       "3                               0                           0   \n",
       "4                               1                           0   \n",
       "\n",
       "   internetservice_fiber optic  ...  deviceprotection_yes  techsupport_yes  \\\n",
       "0                            0  ...                     0                0   \n",
       "1                            0  ...                     1                0   \n",
       "2                            0  ...                     0                0   \n",
       "3                            0  ...                     1                1   \n",
       "4                            1  ...                     0                0   \n",
       "\n",
       "   streamingtv_yes  streamingmovies_yes  gender_male  partner_yes  \\\n",
       "0                0                    0            0            1   \n",
       "1                0                    0            1            0   \n",
       "2                0                    0            1            0   \n",
       "3                0                    0            1            0   \n",
       "4                0                    0            0            0   \n",
       "\n",
       "   dependents_yes  multiplelines_yes  has_phoneline_yes  target  \n",
       "0               0                  0                  0       0  \n",
       "1               0                  0                  1       0  \n",
       "2               0                  0                  1       1  \n",
       "3               0                  0                  0       0  \n",
       "4               0                  0                  1       1  \n",
       "\n",
       "[5 rows x 22 columns]"
      ]
     },
     "execution_count": 14,
     "metadata": {},
     "output_type": "execute_result"
    }
   ],
   "source": [
    "# Confirming values are fixed\n",
    "df_final.head()"
   ]
  },
  {
   "cell_type": "code",
   "execution_count": 15,
   "id": "fb56217e",
   "metadata": {},
   "outputs": [
    {
     "name": "stdout",
     "output_type": "stream",
     "text": [
      "<class 'pandas.core.frame.DataFrame'>\n",
      "RangeIndex: 7032 entries, 0 to 7031\n",
      "Data columns (total 22 columns):\n",
      " #   Column                                 Non-Null Count  Dtype  \n",
      "---  ------                                 --------------  -----  \n",
      " 0   monthlycharges                         7032 non-null   float64\n",
      " 1   totalcharges                           7032 non-null   float64\n",
      " 2   seniorcitizen                          7032 non-null   int64  \n",
      " 3   type_one year                          7032 non-null   uint8  \n",
      " 4   type_two year                          7032 non-null   uint8  \n",
      " 5   paperlessbilling_yes                   7032 non-null   uint8  \n",
      " 6   paymentmethod_credit card (automatic)  7032 non-null   uint8  \n",
      " 7   paymentmethod_electronic check         7032 non-null   uint8  \n",
      " 8   paymentmethod_mailed check             7032 non-null   uint8  \n",
      " 9   internetservice_fiber optic            7032 non-null   uint8  \n",
      " 10  onlinesecurity_yes                     7032 non-null   uint8  \n",
      " 11  onlinebackup_yes                       7032 non-null   uint8  \n",
      " 12  deviceprotection_yes                   7032 non-null   uint8  \n",
      " 13  techsupport_yes                        7032 non-null   uint8  \n",
      " 14  streamingtv_yes                        7032 non-null   uint8  \n",
      " 15  streamingmovies_yes                    7032 non-null   uint8  \n",
      " 16  gender_male                            7032 non-null   uint8  \n",
      " 17  partner_yes                            7032 non-null   uint8  \n",
      " 18  dependents_yes                         7032 non-null   uint8  \n",
      " 19  multiplelines_yes                      7032 non-null   uint8  \n",
      " 20  has_phoneline_yes                      7032 non-null   uint8  \n",
      " 21  target                                 7032 non-null   uint8  \n",
      "dtypes: float64(2), int64(1), uint8(19)\n",
      "memory usage: 295.4 KB\n"
     ]
    }
   ],
   "source": [
    "# Confirming values are fixed\n",
    "df_final.info()"
   ]
  },
  {
   "cell_type": "markdown",
   "id": "517154e2",
   "metadata": {},
   "source": [
    "# Explore the Data"
   ]
  },
  {
   "cell_type": "code",
   "execution_count": 16,
   "id": "f8982239",
   "metadata": {},
   "outputs": [
    {
     "data": {
      "image/png": "[encoded data removed]",
      "text/plain": [
       "<Figure size 1584x576 with 1 Axes>"
      ]
     },
     "metadata": {},
     "output_type": "display_data"
    }
   ],
   "source": [
    "# Showing customer count and how many have left in our dataset\n",
    "sns.set(rc={'figure.figsize':(22, 8)});\n",
    "df['target'].plot(kind='hist', bins=2)\n",
    "\n",
    "plt.ylabel('Number of Customers');\n",
    "plt.xlabel('Customers');\n",
    "plt.title('Old vs Current Customer Count', fontsize=16);"
   ]
  },
  {
   "cell_type": "markdown",
   "id": "fe6d86d0",
   "metadata": {},
   "source": [
    "Notably, there are about 2.5x more customers still with Interconnect than those who left, showing strong customer retention."
   ]
  },
  {
   "cell_type": "code",
   "execution_count": 17,
   "id": "2d18bebb-d5ad-4a6b-80bd-6ea3d4d9555f",
   "metadata": {},
   "outputs": [
    {
     "data": {
      "image/png": "[encoded data removed]",
      "text/plain": [
       "<Figure size 1584x576 with 1 Axes>"
      ]
     },
     "metadata": {},
     "output_type": "display_data"
    }
   ],
   "source": [
    "# Plotting correlation and editing column names for better viewability\n",
    "graph = df_final.rename(\n",
    "    columns=lambda name: name.replace('_', ' ').replace('yes', '').replace('male', '').replace('no', '').replace('paymentmethod', 'payment method').replace('monthlycharges', \n",
    "    'monthly charges').replace('paperlessbilling', 'paperless billing').replace('seniorcitizen', 'senior citizen').replace('streamingmovies', 'streaming movies').replace('multiplelines',\n",
    "    'multiple lines').replace('deviceprotection', 'device protection').replace('onlinebackup', 'online backup').replace('techsupport', 'tech support').replace('onlinesecurity', \n",
    "    'online security').replace('phoneline', 'phone line').replace('totalcharges', 'total charges').title().replace('Streamingtv', 'Streaming TV')).corr()['Target'].sort_values(\n",
    "    ).plot(kind='bar', figsize=(22, 8));\n",
    "graph.set_xticklabels(graph.get_xticklabels(), rotation=45, horizontalalignment='right')\n",
    "\n",
    "plt.title('Which values strongest correlate with our target?', fontsize=16);\n",
    "plt.ylabel('Rate of Correlation');\n",
    "plt.show()"
   ]
  },
  {
   "cell_type": "markdown",
   "id": "cb11a3d0-be51-440d-9f12-945f114df934",
   "metadata": {},
   "source": [
    "As we can see by our graph, those that select the two year plan and have the highest amount of charges are less likely to leave, which would make logical sense since someone with Interconnect longer would be more likely to stay."
   ]
  },
  {
   "cell_type": "markdown",
   "id": "d913c86c",
   "metadata": {},
   "source": [
    "# Model Creation"
   ]
  },
  {
   "cell_type": "code",
   "execution_count": 18,
   "id": "45a24237",
   "metadata": {},
   "outputs": [
    {
     "name": "stdout",
     "output_type": "stream",
     "text": [
      "Training set shapes: (6328, 21) (6328,)\n",
      "Testing set shapes: (704, 21) (704,)\n"
     ]
    }
   ],
   "source": [
    "# Building our training and test data sets\n",
    "features_train, features_test, target_train, target_test = train_test_split(\n",
    "    df_final.drop('target', axis=1), df_final['target'], train_size=0.9, random_state=12345)\n",
    "\n",
    "print('Training set shapes:', features_train.shape, target_train.shape)\n",
    "print('Testing set shapes:', features_test.shape, target_test.shape)"
   ]
  },
  {
   "cell_type": "code",
   "execution_count": 19,
   "id": "49235fb0",
   "metadata": {},
   "outputs": [],
   "source": [
    "# Creating a list of our best model scores\n",
    "best_accuracy = []\n",
    "best_roc = []"
   ]
  },
  {
   "cell_type": "markdown",
   "id": "bf08c54f",
   "metadata": {},
   "source": [
    "## Random Forest Classification"
   ]
  },
  {
   "cell_type": "code",
   "execution_count": null,
   "id": "f6a41a38",
   "metadata": {},
   "outputs": [],
   "source": [
    "# Tuning Random Forest Regressors parameters using GridSearchCV\n",
    "param_grid = {\n",
    "    'n_estimators': [int(x) for x in np.linspace(start = 100, stop = 300, num = 10)],\n",
    "    'max_features': ['auto', 'sqrt'],\n",
    "    'max_depth': [int(x) for x in np.linspace(3, 15, num = 5)],\n",
    "}\n",
    "\n",
    "rfc = GridSearchCV(estimator=RandomForestClassifier(random_state=123), param_grid=param_grid, cv=4, scoring='roc_auc')\n",
    "rfc.fit(features_train, target_train)\n",
    "\n",
    "best_accuracy.append(cross_val_score(rfc, features_train, target_train, scoring='accuracy').mean())\n",
    "best_roc.append(cross_val_score(rfc, features_train, target_train, scoring='roc_auc').mean())"
   ]
  },
  {
   "cell_type": "markdown",
   "id": "c5c59253",
   "metadata": {},
   "source": [
    "## Decision Tree Classification"
   ]
  },
  {
   "cell_type": "code",
   "execution_count": null,
   "id": "59b6adf9",
   "metadata": {},
   "outputs": [],
   "source": [
    "# Tuning Decision Tree Classification parameters using GridSearchCV\n",
    "param_grid = {\n",
    "    'max_features': ['auto', 'sqrt', 'log2'],\n",
    "    'max_depth': [int(x) for x in np.linspace(3, 15, num = 5)],\n",
    "    'criterion' : ['gini', 'entropy']\n",
    "}\n",
    "\n",
    "dtc = GridSearchCV(estimator=DecisionTreeClassifier(random_state=123), param_grid=param_grid, cv=4)\n",
    "dtc.fit(features_train, target_train)\n",
    "\n",
    "best_accuracy.append(cross_val_score(dtc, features_train, target_train, scoring='accuracy').mean())\n",
    "best_roc.append(cross_val_score(dtc, features_train, target_train, scoring='roc_auc').mean())"
   ]
  },
  {
   "cell_type": "markdown",
   "id": "8f09ddc8",
   "metadata": {},
   "source": [
    "## Cat Boost Classification"
   ]
  },
  {
   "cell_type": "code",
   "execution_count": null,
   "id": "8b38a9c4",
   "metadata": {},
   "outputs": [],
   "source": [
    "# Tuning Cat Boost Regressors parameters using GridSearchCV\n",
    "param_grid = {\n",
    "    'n_estimators': [1000],\n",
    "    'depth': [6, 8, 10],\n",
    "    'learning_rate': [0.001, 0.003]\n",
    "}\n",
    "\n",
    "cat = GridSearchCV(estimator=CatBoostClassifier(random_state=123, logging_level='Silent', eval_metric='AUC', loss_function='Logloss'), param_grid=param_grid, cv=4)\n",
    "cat.fit(features_train, target_train)\n",
    "\n",
    "best_accuracy.append(cross_val_score(cat, features_train, target_train, scoring='accuracy').mean())\n",
    "best_roc.append(cross_val_score(cat, features_train, target_train, scoring='roc_auc').mean())"
   ]
  },
  {
   "cell_type": "markdown",
   "id": "b9cd5e23",
   "metadata": {},
   "source": [
    "## Best Scores"
   ]
  },
  {
   "cell_type": "code",
   "execution_count": null,
   "id": "594a9d76",
   "metadata": {},
   "outputs": [],
   "source": [
    "# Sanity check our model accuracy\n",
    "dummy_model = DummyClassifier(strategy='most_frequent')\n",
    "dummy_model.fit(features_train, target_train)\n",
    "dummy_predict = dummy_model.predict(features_test)\n",
    "\n",
    "print('Dummy AUC-ROC Score:', roc_auc_score(target_test, dummy_model.predict_proba(features_test)[:, 1]))\n",
    "print('Dummy Accuracy Score:', accuracy_score(target_test, dummy_predict))"
   ]
  },
  {
   "cell_type": "code",
   "execution_count": null,
   "id": "307263cd",
   "metadata": {},
   "outputs": [],
   "source": [
    "# Adding model type to list, then merging\n",
    "model_name = ['Random Forest Classification', 'Decision Tree Classification', 'Cat Boost Classification']\n",
    "scores = {'Model Name': pd.Series(model_name), 'AUC-ROC Score': pd.Series(best_roc), 'Accuracy Score': pd.Series(best_accuracy)}\n",
    "  \n",
    "pd.concat(scores, axis = 1).sort_values('AUC-ROC Score', ascending=False)"
   ]
  },
  {
   "cell_type": "code",
   "execution_count": null,
   "id": "57c603cc",
   "metadata": {},
   "outputs": [],
   "source": [
    "# Final with test set\n",
    "print('Cat Boost Score with Test Set:', roc_auc_score(target_test, cat.predict_proba(features_test)[:, 1]))"
   ]
  },
  {
   "cell_type": "markdown",
   "id": "61cd3e22",
   "metadata": {},
   "source": [
    "# Conclusion"
   ]
  },
  {
   "cell_type": "markdown",
   "id": "c6efa41d",
   "metadata": {},
   "source": [
    "The winning model is Cat Boost Classifier,\n",
    "The best hyperparameters are: {'depth': 6, 'learning_rate': 0.003, 'n_estimators': 1000}\n",
    "\n",
    "The best ROC-AUC score is 0.855 which was around the same score as Random Forest Classification. The train set has noticable improvements in score but is small enough that it can be determined there was little overfitting.\n",
    "\n",
    "The most important features that affected client leave rates were the fiber optic internet service and monthly charges, which could hint at worse-than-average fiber optic internet and higher costs than market average."
   ]
  }
 ],
 "metadata": {
  "ExecuteTimeLog": [
   {
    "duration": 52,
    "start_time": "2022-09-08T20:06:10.955Z"
   },
   {
    "duration": 1609,
    "start_time": "2022-09-08T20:06:16.352Z"
   },
   {
    "duration": 158,
    "start_time": "2022-09-08T20:06:17.963Z"
   },
   {
    "duration": 0,
    "start_time": "2022-09-08T20:06:18.122Z"
   },
   {
    "duration": 0,
    "start_time": "2022-09-08T20:06:18.124Z"
   },
   {
    "duration": 0,
    "start_time": "2022-09-08T20:06:18.126Z"
   },
   {
    "duration": 0,
    "start_time": "2022-09-08T20:06:18.126Z"
   },
   {
    "duration": 11,
    "start_time": "2022-09-08T20:06:18.744Z"
   },
   {
    "duration": 63,
    "start_time": "2022-09-08T20:07:01.449Z"
   },
   {
    "duration": 47,
    "start_time": "2022-09-08T20:07:06.814Z"
   },
   {
    "duration": 46,
    "start_time": "2022-09-08T20:07:32.211Z"
   },
   {
    "duration": 16,
    "start_time": "2022-09-08T20:08:15.117Z"
   },
   {
    "duration": 61,
    "start_time": "2022-09-08T20:08:20.054Z"
   },
   {
    "duration": 1879,
    "start_time": "2022-09-09T19:02:21.499Z"
   },
   {
    "duration": 179,
    "start_time": "2022-09-09T19:03:44.545Z"
   },
   {
    "duration": 5,
    "start_time": "2022-09-09T19:03:56.398Z"
   },
   {
    "duration": 65,
    "start_time": "2022-09-09T19:03:56.506Z"
   },
   {
    "duration": 0,
    "start_time": "2022-09-09T19:03:56.573Z"
   },
   {
    "duration": 0,
    "start_time": "2022-09-09T19:03:56.575Z"
   },
   {
    "duration": 11,
    "start_time": "2022-09-09T19:03:56.670Z"
   },
   {
    "duration": 0,
    "start_time": "2022-09-09T19:03:56.682Z"
   },
   {
    "duration": 11,
    "start_time": "2022-09-09T19:03:56.729Z"
   },
   {
    "duration": 8,
    "start_time": "2022-09-09T19:03:56.798Z"
   },
   {
    "duration": 32,
    "start_time": "2022-09-09T19:03:56.849Z"
   },
   {
    "duration": 11,
    "start_time": "2022-09-09T19:03:56.937Z"
   },
   {
    "duration": 10,
    "start_time": "2022-09-09T19:03:56.969Z"
   },
   {
    "duration": 11,
    "start_time": "2022-09-09T19:03:57.060Z"
   },
   {
    "duration": 0,
    "start_time": "2022-09-09T19:03:57.073Z"
   },
   {
    "duration": 10,
    "start_time": "2022-09-09T19:03:57.183Z"
   },
   {
    "duration": 0,
    "start_time": "2022-09-09T19:03:57.195Z"
   },
   {
    "duration": 12,
    "start_time": "2022-09-09T19:03:57.270Z"
   },
   {
    "duration": 16,
    "start_time": "2022-09-09T19:03:57.355Z"
   },
   {
    "duration": 10,
    "start_time": "2022-09-09T19:03:57.483Z"
   },
   {
    "duration": 2,
    "start_time": "2022-09-09T19:03:57.541Z"
   },
   {
    "duration": 11,
    "start_time": "2022-09-09T19:03:57.625Z"
   },
   {
    "duration": 36,
    "start_time": "2022-09-09T19:03:57.642Z"
   },
   {
    "duration": 10,
    "start_time": "2022-09-09T19:03:59.361Z"
   },
   {
    "duration": 49,
    "start_time": "2022-09-11T06:03:12.999Z"
   },
   {
    "duration": 1501,
    "start_time": "2022-09-11T06:04:58.512Z"
   },
   {
    "duration": 171,
    "start_time": "2022-09-11T06:05:00.015Z"
   },
   {
    "duration": 0,
    "start_time": "2022-09-11T06:05:00.188Z"
   },
   {
    "duration": 0,
    "start_time": "2022-09-11T06:05:00.190Z"
   },
   {
    "duration": 0,
    "start_time": "2022-09-11T06:05:00.191Z"
   },
   {
    "duration": 0,
    "start_time": "2022-09-11T06:05:00.193Z"
   },
   {
    "duration": 0,
    "start_time": "2022-09-11T06:05:00.195Z"
   },
   {
    "duration": 0,
    "start_time": "2022-09-11T06:05:00.196Z"
   },
   {
    "duration": 0,
    "start_time": "2022-09-11T06:05:00.197Z"
   },
   {
    "duration": 0,
    "start_time": "2022-09-11T06:05:00.199Z"
   },
   {
    "duration": 0,
    "start_time": "2022-09-11T06:05:00.200Z"
   },
   {
    "duration": 0,
    "start_time": "2022-09-11T06:05:00.201Z"
   },
   {
    "duration": 0,
    "start_time": "2022-09-11T06:05:00.203Z"
   },
   {
    "duration": 0,
    "start_time": "2022-09-11T06:05:00.204Z"
   },
   {
    "duration": 0,
    "start_time": "2022-09-11T06:05:00.206Z"
   },
   {
    "duration": 0,
    "start_time": "2022-09-11T06:05:00.207Z"
   },
   {
    "duration": 0,
    "start_time": "2022-09-11T06:05:00.208Z"
   },
   {
    "duration": 0,
    "start_time": "2022-09-11T06:05:00.210Z"
   },
   {
    "duration": 0,
    "start_time": "2022-09-11T06:05:00.211Z"
   },
   {
    "duration": 0,
    "start_time": "2022-09-11T06:05:00.213Z"
   },
   {
    "duration": 0,
    "start_time": "2022-09-11T06:05:00.214Z"
   },
   {
    "duration": 0,
    "start_time": "2022-09-11T06:05:00.215Z"
   },
   {
    "duration": 0,
    "start_time": "2022-09-11T06:05:00.216Z"
   },
   {
    "duration": 0,
    "start_time": "2022-09-11T06:05:00.267Z"
   },
   {
    "duration": 0,
    "start_time": "2022-09-11T06:05:00.269Z"
   },
   {
    "duration": 1727,
    "start_time": "2022-09-11T16:52:09.017Z"
   },
   {
    "duration": 157,
    "start_time": "2022-09-11T16:52:10.746Z"
   },
   {
    "duration": 0,
    "start_time": "2022-09-11T16:52:10.906Z"
   },
   {
    "duration": 0,
    "start_time": "2022-09-11T16:52:10.907Z"
   },
   {
    "duration": 0,
    "start_time": "2022-09-11T16:52:10.908Z"
   },
   {
    "duration": 0,
    "start_time": "2022-09-11T16:52:10.909Z"
   },
   {
    "duration": 0,
    "start_time": "2022-09-11T16:52:10.911Z"
   },
   {
    "duration": 0,
    "start_time": "2022-09-11T16:52:10.912Z"
   },
   {
    "duration": 0,
    "start_time": "2022-09-11T16:52:10.913Z"
   },
   {
    "duration": 0,
    "start_time": "2022-09-11T16:52:10.915Z"
   },
   {
    "duration": 0,
    "start_time": "2022-09-11T16:52:10.916Z"
   },
   {
    "duration": 0,
    "start_time": "2022-09-11T16:52:10.917Z"
   },
   {
    "duration": 0,
    "start_time": "2022-09-11T16:52:10.918Z"
   },
   {
    "duration": 0,
    "start_time": "2022-09-11T16:52:10.920Z"
   },
   {
    "duration": 0,
    "start_time": "2022-09-11T16:52:10.920Z"
   },
   {
    "duration": 0,
    "start_time": "2022-09-11T16:52:10.921Z"
   },
   {
    "duration": 0,
    "start_time": "2022-09-11T16:52:10.922Z"
   },
   {
    "duration": 0,
    "start_time": "2022-09-11T16:52:10.923Z"
   },
   {
    "duration": 0,
    "start_time": "2022-09-11T16:52:10.925Z"
   },
   {
    "duration": 0,
    "start_time": "2022-09-11T16:52:10.926Z"
   },
   {
    "duration": 0,
    "start_time": "2022-09-11T16:52:10.927Z"
   },
   {
    "duration": 0,
    "start_time": "2022-09-11T16:52:10.928Z"
   },
   {
    "duration": 0,
    "start_time": "2022-09-11T16:52:10.929Z"
   },
   {
    "duration": 0,
    "start_time": "2022-09-11T16:52:10.930Z"
   },
   {
    "duration": 0,
    "start_time": "2022-09-11T16:52:10.931Z"
   }
  ],
  "kernelspec": {
   "display_name": "Python 3",
   "language": "python",
   "name": "python3"
  },
  "language_info": {
   "codemirror_mode": {
    "name": "ipython",
    "version": 3
   },
   "file_extension": ".py",
   "mimetype": "text/x-python",
   "name": "python",
   "nbconvert_exporter": "python",
   "pygments_lexer": "ipython3",
   "version": "3.8.8"
  },
  "toc": {
   "base_numbering": 1,
   "nav_menu": {},
   "number_sections": true,
   "sideBar": true,
   "skip_h1_title": true,
   "title_cell": "Table of Contents",
   "title_sidebar": "Contents",
   "toc_cell": false,
   "toc_position": {},
   "toc_section_display": true,
   "toc_window_display": false
  },
  "toc-autonumbering": true,
  "toc-showcode": false,
  "toc-showmarkdowntxt": false,
  "toc-showtags": false
 },
 "nbformat": 4,
 "nbformat_minor": 5
}
