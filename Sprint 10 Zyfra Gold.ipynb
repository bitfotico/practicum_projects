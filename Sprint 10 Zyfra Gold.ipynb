{
 "cells": [
  {
   "cell_type": "markdown",
   "metadata": {},
   "source": [
    "# Zyfra Gold ML"
   ]
  },
  {
   "cell_type": "markdown",
   "metadata": {},
   "source": [
    "Our goal with Zyfra is to prepare our data, analyze, and build a working ML model. We will use the instructions provided to us for our guideline for the project."
   ]
  },
  {
   "cell_type": "markdown",
   "metadata": {},
   "source": [
    "## Prepare the Data"
   ]
  },
  {
   "cell_type": "markdown",
   "metadata": {},
   "source": [
    "### Open the files and look into the data"
   ]
  },
  {
   "cell_type": "code",
   "execution_count": 1,
   "metadata": {},
   "outputs": [],
   "source": [
    "import pandas as pd\n",
    "import numpy as np\n",
    "from sklearn.metrics import mean_absolute_error\n",
    "from sklearn.metrics import make_scorer\n",
    "import matplotlib.pyplot as plt\n",
    "import seaborn as sns\n",
    "from sklearn.model_selection import cross_val_score\n",
    "from sklearn.preprocessing import StandardScaler\n",
    "from sklearn.linear_model import LinearRegression\n",
    "from sklearn.tree import DecisionTreeRegressor\n",
    "from sklearn.ensemble import RandomForestRegressor\n",
    "from sklearn.model_selection import cross_validate\n",
    "from sklearn.model_selection import GridSearchCV\n",
    "\n",
    "try:\n",
    "    df_train = pd.read_csv('/datasets/gold_recovery_train.csv')\n",
    "    df_test = pd.read_csv('/datasets/gold_recovery_test.csv')\n",
    "    df_full = pd.read_csv('/datasets/gold_recovery_full.csv')\n",
    "except:\n",
    "    df_train = pd.read_csv('/gold_recovery_train.csv')\n",
    "    df_test = pd.read_csv('/gold_recovery_test.csv')\n",
    "    df_full = pd.read_csv('/gold_recovery_full.csv')"
   ]
  },
  {
   "cell_type": "code",
   "execution_count": 2,
   "metadata": {},
   "outputs": [],
   "source": [
    "import warnings\n",
    "warnings.filterwarnings('ignore')"
   ]
  },
  {
   "cell_type": "code",
   "execution_count": 3,
   "metadata": {},
   "outputs": [
    {
     "data": {
      "text/html": [
       "<div>\n",
       "<style scoped>\n",
       "    .dataframe tbody tr th:only-of-type {\n",
       "        vertical-align: middle;\n",
       "    }\n",
       "\n",
       "    .dataframe tbody tr th {\n",
       "        vertical-align: top;\n",
       "    }\n",
       "\n",
       "    .dataframe thead th {\n",
       "        text-align: right;\n",
       "    }\n",
       "</style>\n",
       "<table border=\"1\" class=\"dataframe\">\n",
       "  <thead>\n",
       "    <tr style=\"text-align: right;\">\n",
       "      <th></th>\n",
       "      <th>date</th>\n",
       "      <th>final.output.concentrate_ag</th>\n",
       "      <th>final.output.concentrate_pb</th>\n",
       "      <th>final.output.concentrate_sol</th>\n",
       "      <th>final.output.concentrate_au</th>\n",
       "      <th>final.output.recovery</th>\n",
       "      <th>final.output.tail_ag</th>\n",
       "      <th>final.output.tail_pb</th>\n",
       "      <th>final.output.tail_sol</th>\n",
       "      <th>final.output.tail_au</th>\n",
       "      <th>...</th>\n",
       "      <th>secondary_cleaner.state.floatbank4_a_air</th>\n",
       "      <th>secondary_cleaner.state.floatbank4_a_level</th>\n",
       "      <th>secondary_cleaner.state.floatbank4_b_air</th>\n",
       "      <th>secondary_cleaner.state.floatbank4_b_level</th>\n",
       "      <th>secondary_cleaner.state.floatbank5_a_air</th>\n",
       "      <th>secondary_cleaner.state.floatbank5_a_level</th>\n",
       "      <th>secondary_cleaner.state.floatbank5_b_air</th>\n",
       "      <th>secondary_cleaner.state.floatbank5_b_level</th>\n",
       "      <th>secondary_cleaner.state.floatbank6_a_air</th>\n",
       "      <th>secondary_cleaner.state.floatbank6_a_level</th>\n",
       "    </tr>\n",
       "  </thead>\n",
       "  <tbody>\n",
       "    <tr>\n",
       "      <td>0</td>\n",
       "      <td>2016-01-15 00:00:00</td>\n",
       "      <td>6.055403</td>\n",
       "      <td>9.889648</td>\n",
       "      <td>5.507324</td>\n",
       "      <td>42.192020</td>\n",
       "      <td>70.541216</td>\n",
       "      <td>10.411962</td>\n",
       "      <td>0.895447</td>\n",
       "      <td>16.904297</td>\n",
       "      <td>2.143149</td>\n",
       "      <td>...</td>\n",
       "      <td>14.016835</td>\n",
       "      <td>-502.488007</td>\n",
       "      <td>12.099931</td>\n",
       "      <td>-504.715942</td>\n",
       "      <td>9.925633</td>\n",
       "      <td>-498.310211</td>\n",
       "      <td>8.079666</td>\n",
       "      <td>-500.470978</td>\n",
       "      <td>14.151341</td>\n",
       "      <td>-605.841980</td>\n",
       "    </tr>\n",
       "    <tr>\n",
       "      <td>1</td>\n",
       "      <td>2016-01-15 01:00:00</td>\n",
       "      <td>6.029369</td>\n",
       "      <td>9.968944</td>\n",
       "      <td>5.257781</td>\n",
       "      <td>42.701629</td>\n",
       "      <td>69.266198</td>\n",
       "      <td>10.462676</td>\n",
       "      <td>0.927452</td>\n",
       "      <td>16.634514</td>\n",
       "      <td>2.224930</td>\n",
       "      <td>...</td>\n",
       "      <td>13.992281</td>\n",
       "      <td>-505.503262</td>\n",
       "      <td>11.950531</td>\n",
       "      <td>-501.331529</td>\n",
       "      <td>10.039245</td>\n",
       "      <td>-500.169983</td>\n",
       "      <td>7.984757</td>\n",
       "      <td>-500.582168</td>\n",
       "      <td>13.998353</td>\n",
       "      <td>-599.787184</td>\n",
       "    </tr>\n",
       "    <tr>\n",
       "      <td>2</td>\n",
       "      <td>2016-01-15 02:00:00</td>\n",
       "      <td>6.055926</td>\n",
       "      <td>10.213995</td>\n",
       "      <td>5.383759</td>\n",
       "      <td>42.657501</td>\n",
       "      <td>68.116445</td>\n",
       "      <td>10.507046</td>\n",
       "      <td>0.953716</td>\n",
       "      <td>16.208849</td>\n",
       "      <td>2.257889</td>\n",
       "      <td>...</td>\n",
       "      <td>14.015015</td>\n",
       "      <td>-502.520901</td>\n",
       "      <td>11.912783</td>\n",
       "      <td>-501.133383</td>\n",
       "      <td>10.070913</td>\n",
       "      <td>-500.129135</td>\n",
       "      <td>8.013877</td>\n",
       "      <td>-500.517572</td>\n",
       "      <td>14.028663</td>\n",
       "      <td>-601.427363</td>\n",
       "    </tr>\n",
       "    <tr>\n",
       "      <td>3</td>\n",
       "      <td>2016-01-15 03:00:00</td>\n",
       "      <td>6.047977</td>\n",
       "      <td>9.977019</td>\n",
       "      <td>4.858634</td>\n",
       "      <td>42.689819</td>\n",
       "      <td>68.347543</td>\n",
       "      <td>10.422762</td>\n",
       "      <td>0.883763</td>\n",
       "      <td>16.532835</td>\n",
       "      <td>2.146849</td>\n",
       "      <td>...</td>\n",
       "      <td>14.036510</td>\n",
       "      <td>-500.857308</td>\n",
       "      <td>11.999550</td>\n",
       "      <td>-501.193686</td>\n",
       "      <td>9.970366</td>\n",
       "      <td>-499.201640</td>\n",
       "      <td>7.977324</td>\n",
       "      <td>-500.255908</td>\n",
       "      <td>14.005551</td>\n",
       "      <td>-599.996129</td>\n",
       "    </tr>\n",
       "    <tr>\n",
       "      <td>4</td>\n",
       "      <td>2016-01-15 04:00:00</td>\n",
       "      <td>6.148599</td>\n",
       "      <td>10.142511</td>\n",
       "      <td>4.939416</td>\n",
       "      <td>42.774141</td>\n",
       "      <td>66.927016</td>\n",
       "      <td>10.360302</td>\n",
       "      <td>0.792826</td>\n",
       "      <td>16.525686</td>\n",
       "      <td>2.055292</td>\n",
       "      <td>...</td>\n",
       "      <td>14.027298</td>\n",
       "      <td>-499.838632</td>\n",
       "      <td>11.953070</td>\n",
       "      <td>-501.053894</td>\n",
       "      <td>9.925709</td>\n",
       "      <td>-501.686727</td>\n",
       "      <td>7.894242</td>\n",
       "      <td>-500.356035</td>\n",
       "      <td>13.996647</td>\n",
       "      <td>-601.496691</td>\n",
       "    </tr>\n",
       "  </tbody>\n",
       "</table>\n",
       "<p>5 rows × 87 columns</p>\n",
       "</div>"
      ],
      "text/plain": [
       "                  date  final.output.concentrate_ag  \\\n",
       "0  2016-01-15 00:00:00                     6.055403   \n",
       "1  2016-01-15 01:00:00                     6.029369   \n",
       "2  2016-01-15 02:00:00                     6.055926   \n",
       "3  2016-01-15 03:00:00                     6.047977   \n",
       "4  2016-01-15 04:00:00                     6.148599   \n",
       "\n",
       "   final.output.concentrate_pb  final.output.concentrate_sol  \\\n",
       "0                     9.889648                      5.507324   \n",
       "1                     9.968944                      5.257781   \n",
       "2                    10.213995                      5.383759   \n",
       "3                     9.977019                      4.858634   \n",
       "4                    10.142511                      4.939416   \n",
       "\n",
       "   final.output.concentrate_au  final.output.recovery  final.output.tail_ag  \\\n",
       "0                    42.192020              70.541216             10.411962   \n",
       "1                    42.701629              69.266198             10.462676   \n",
       "2                    42.657501              68.116445             10.507046   \n",
       "3                    42.689819              68.347543             10.422762   \n",
       "4                    42.774141              66.927016             10.360302   \n",
       "\n",
       "   final.output.tail_pb  final.output.tail_sol  final.output.tail_au  ...  \\\n",
       "0              0.895447              16.904297              2.143149  ...   \n",
       "1              0.927452              16.634514              2.224930  ...   \n",
       "2              0.953716              16.208849              2.257889  ...   \n",
       "3              0.883763              16.532835              2.146849  ...   \n",
       "4              0.792826              16.525686              2.055292  ...   \n",
       "\n",
       "   secondary_cleaner.state.floatbank4_a_air  \\\n",
       "0                                 14.016835   \n",
       "1                                 13.992281   \n",
       "2                                 14.015015   \n",
       "3                                 14.036510   \n",
       "4                                 14.027298   \n",
       "\n",
       "   secondary_cleaner.state.floatbank4_a_level  \\\n",
       "0                                 -502.488007   \n",
       "1                                 -505.503262   \n",
       "2                                 -502.520901   \n",
       "3                                 -500.857308   \n",
       "4                                 -499.838632   \n",
       "\n",
       "   secondary_cleaner.state.floatbank4_b_air  \\\n",
       "0                                 12.099931   \n",
       "1                                 11.950531   \n",
       "2                                 11.912783   \n",
       "3                                 11.999550   \n",
       "4                                 11.953070   \n",
       "\n",
       "   secondary_cleaner.state.floatbank4_b_level  \\\n",
       "0                                 -504.715942   \n",
       "1                                 -501.331529   \n",
       "2                                 -501.133383   \n",
       "3                                 -501.193686   \n",
       "4                                 -501.053894   \n",
       "\n",
       "   secondary_cleaner.state.floatbank5_a_air  \\\n",
       "0                                  9.925633   \n",
       "1                                 10.039245   \n",
       "2                                 10.070913   \n",
       "3                                  9.970366   \n",
       "4                                  9.925709   \n",
       "\n",
       "   secondary_cleaner.state.floatbank5_a_level  \\\n",
       "0                                 -498.310211   \n",
       "1                                 -500.169983   \n",
       "2                                 -500.129135   \n",
       "3                                 -499.201640   \n",
       "4                                 -501.686727   \n",
       "\n",
       "   secondary_cleaner.state.floatbank5_b_air  \\\n",
       "0                                  8.079666   \n",
       "1                                  7.984757   \n",
       "2                                  8.013877   \n",
       "3                                  7.977324   \n",
       "4                                  7.894242   \n",
       "\n",
       "   secondary_cleaner.state.floatbank5_b_level  \\\n",
       "0                                 -500.470978   \n",
       "1                                 -500.582168   \n",
       "2                                 -500.517572   \n",
       "3                                 -500.255908   \n",
       "4                                 -500.356035   \n",
       "\n",
       "   secondary_cleaner.state.floatbank6_a_air  \\\n",
       "0                                 14.151341   \n",
       "1                                 13.998353   \n",
       "2                                 14.028663   \n",
       "3                                 14.005551   \n",
       "4                                 13.996647   \n",
       "\n",
       "   secondary_cleaner.state.floatbank6_a_level  \n",
       "0                                 -605.841980  \n",
       "1                                 -599.787184  \n",
       "2                                 -601.427363  \n",
       "3                                 -599.996129  \n",
       "4                                 -601.496691  \n",
       "\n",
       "[5 rows x 87 columns]"
      ]
     },
     "execution_count": 3,
     "metadata": {},
     "output_type": "execute_result"
    }
   ],
   "source": [
    "df_train.head()"
   ]
  },
  {
   "cell_type": "code",
   "execution_count": 4,
   "metadata": {},
   "outputs": [
    {
     "data": {
      "text/html": [
       "<div>\n",
       "<style scoped>\n",
       "    .dataframe tbody tr th:only-of-type {\n",
       "        vertical-align: middle;\n",
       "    }\n",
       "\n",
       "    .dataframe tbody tr th {\n",
       "        vertical-align: top;\n",
       "    }\n",
       "\n",
       "    .dataframe thead th {\n",
       "        text-align: right;\n",
       "    }\n",
       "</style>\n",
       "<table border=\"1\" class=\"dataframe\">\n",
       "  <thead>\n",
       "    <tr style=\"text-align: right;\">\n",
       "      <th></th>\n",
       "      <th>date</th>\n",
       "      <th>primary_cleaner.input.sulfate</th>\n",
       "      <th>primary_cleaner.input.depressant</th>\n",
       "      <th>primary_cleaner.input.feed_size</th>\n",
       "      <th>primary_cleaner.input.xanthate</th>\n",
       "      <th>primary_cleaner.state.floatbank8_a_air</th>\n",
       "      <th>primary_cleaner.state.floatbank8_a_level</th>\n",
       "      <th>primary_cleaner.state.floatbank8_b_air</th>\n",
       "      <th>primary_cleaner.state.floatbank8_b_level</th>\n",
       "      <th>primary_cleaner.state.floatbank8_c_air</th>\n",
       "      <th>...</th>\n",
       "      <th>secondary_cleaner.state.floatbank4_a_air</th>\n",
       "      <th>secondary_cleaner.state.floatbank4_a_level</th>\n",
       "      <th>secondary_cleaner.state.floatbank4_b_air</th>\n",
       "      <th>secondary_cleaner.state.floatbank4_b_level</th>\n",
       "      <th>secondary_cleaner.state.floatbank5_a_air</th>\n",
       "      <th>secondary_cleaner.state.floatbank5_a_level</th>\n",
       "      <th>secondary_cleaner.state.floatbank5_b_air</th>\n",
       "      <th>secondary_cleaner.state.floatbank5_b_level</th>\n",
       "      <th>secondary_cleaner.state.floatbank6_a_air</th>\n",
       "      <th>secondary_cleaner.state.floatbank6_a_level</th>\n",
       "    </tr>\n",
       "  </thead>\n",
       "  <tbody>\n",
       "    <tr>\n",
       "      <td>0</td>\n",
       "      <td>2016-09-01 00:59:59</td>\n",
       "      <td>210.800909</td>\n",
       "      <td>14.993118</td>\n",
       "      <td>8.080000</td>\n",
       "      <td>1.005021</td>\n",
       "      <td>1398.981301</td>\n",
       "      <td>-500.225577</td>\n",
       "      <td>1399.144926</td>\n",
       "      <td>-499.919735</td>\n",
       "      <td>1400.102998</td>\n",
       "      <td>...</td>\n",
       "      <td>12.023554</td>\n",
       "      <td>-497.795834</td>\n",
       "      <td>8.016656</td>\n",
       "      <td>-501.289139</td>\n",
       "      <td>7.946562</td>\n",
       "      <td>-432.317850</td>\n",
       "      <td>4.872511</td>\n",
       "      <td>-500.037437</td>\n",
       "      <td>26.705889</td>\n",
       "      <td>-499.709414</td>\n",
       "    </tr>\n",
       "    <tr>\n",
       "      <td>1</td>\n",
       "      <td>2016-09-01 01:59:59</td>\n",
       "      <td>215.392455</td>\n",
       "      <td>14.987471</td>\n",
       "      <td>8.080000</td>\n",
       "      <td>0.990469</td>\n",
       "      <td>1398.777912</td>\n",
       "      <td>-500.057435</td>\n",
       "      <td>1398.055362</td>\n",
       "      <td>-499.778182</td>\n",
       "      <td>1396.151033</td>\n",
       "      <td>...</td>\n",
       "      <td>12.058140</td>\n",
       "      <td>-498.695773</td>\n",
       "      <td>8.130979</td>\n",
       "      <td>-499.634209</td>\n",
       "      <td>7.958270</td>\n",
       "      <td>-525.839648</td>\n",
       "      <td>4.878850</td>\n",
       "      <td>-500.162375</td>\n",
       "      <td>25.019940</td>\n",
       "      <td>-499.819438</td>\n",
       "    </tr>\n",
       "    <tr>\n",
       "      <td>2</td>\n",
       "      <td>2016-09-01 02:59:59</td>\n",
       "      <td>215.259946</td>\n",
       "      <td>12.884934</td>\n",
       "      <td>7.786667</td>\n",
       "      <td>0.996043</td>\n",
       "      <td>1398.493666</td>\n",
       "      <td>-500.868360</td>\n",
       "      <td>1398.860436</td>\n",
       "      <td>-499.764529</td>\n",
       "      <td>1398.075709</td>\n",
       "      <td>...</td>\n",
       "      <td>11.962366</td>\n",
       "      <td>-498.767484</td>\n",
       "      <td>8.096893</td>\n",
       "      <td>-500.827423</td>\n",
       "      <td>8.071056</td>\n",
       "      <td>-500.801673</td>\n",
       "      <td>4.905125</td>\n",
       "      <td>-499.828510</td>\n",
       "      <td>24.994862</td>\n",
       "      <td>-500.622559</td>\n",
       "    </tr>\n",
       "    <tr>\n",
       "      <td>3</td>\n",
       "      <td>2016-09-01 03:59:59</td>\n",
       "      <td>215.336236</td>\n",
       "      <td>12.006805</td>\n",
       "      <td>7.640000</td>\n",
       "      <td>0.863514</td>\n",
       "      <td>1399.618111</td>\n",
       "      <td>-498.863574</td>\n",
       "      <td>1397.440120</td>\n",
       "      <td>-499.211024</td>\n",
       "      <td>1400.129303</td>\n",
       "      <td>...</td>\n",
       "      <td>12.033091</td>\n",
       "      <td>-498.350935</td>\n",
       "      <td>8.074946</td>\n",
       "      <td>-499.474407</td>\n",
       "      <td>7.897085</td>\n",
       "      <td>-500.868509</td>\n",
       "      <td>4.931400</td>\n",
       "      <td>-499.963623</td>\n",
       "      <td>24.948919</td>\n",
       "      <td>-498.709987</td>\n",
       "    </tr>\n",
       "    <tr>\n",
       "      <td>4</td>\n",
       "      <td>2016-09-01 04:59:59</td>\n",
       "      <td>199.099327</td>\n",
       "      <td>10.682530</td>\n",
       "      <td>7.530000</td>\n",
       "      <td>0.805575</td>\n",
       "      <td>1401.268123</td>\n",
       "      <td>-500.808305</td>\n",
       "      <td>1398.128818</td>\n",
       "      <td>-499.504543</td>\n",
       "      <td>1402.172226</td>\n",
       "      <td>...</td>\n",
       "      <td>12.025367</td>\n",
       "      <td>-500.786497</td>\n",
       "      <td>8.054678</td>\n",
       "      <td>-500.397500</td>\n",
       "      <td>8.107890</td>\n",
       "      <td>-509.526725</td>\n",
       "      <td>4.957674</td>\n",
       "      <td>-500.360026</td>\n",
       "      <td>25.003331</td>\n",
       "      <td>-500.856333</td>\n",
       "    </tr>\n",
       "  </tbody>\n",
       "</table>\n",
       "<p>5 rows × 53 columns</p>\n",
       "</div>"
      ],
      "text/plain": [
       "                  date  primary_cleaner.input.sulfate  \\\n",
       "0  2016-09-01 00:59:59                     210.800909   \n",
       "1  2016-09-01 01:59:59                     215.392455   \n",
       "2  2016-09-01 02:59:59                     215.259946   \n",
       "3  2016-09-01 03:59:59                     215.336236   \n",
       "4  2016-09-01 04:59:59                     199.099327   \n",
       "\n",
       "   primary_cleaner.input.depressant  primary_cleaner.input.feed_size  \\\n",
       "0                         14.993118                         8.080000   \n",
       "1                         14.987471                         8.080000   \n",
       "2                         12.884934                         7.786667   \n",
       "3                         12.006805                         7.640000   \n",
       "4                         10.682530                         7.530000   \n",
       "\n",
       "   primary_cleaner.input.xanthate  primary_cleaner.state.floatbank8_a_air  \\\n",
       "0                        1.005021                             1398.981301   \n",
       "1                        0.990469                             1398.777912   \n",
       "2                        0.996043                             1398.493666   \n",
       "3                        0.863514                             1399.618111   \n",
       "4                        0.805575                             1401.268123   \n",
       "\n",
       "   primary_cleaner.state.floatbank8_a_level  \\\n",
       "0                               -500.225577   \n",
       "1                               -500.057435   \n",
       "2                               -500.868360   \n",
       "3                               -498.863574   \n",
       "4                               -500.808305   \n",
       "\n",
       "   primary_cleaner.state.floatbank8_b_air  \\\n",
       "0                             1399.144926   \n",
       "1                             1398.055362   \n",
       "2                             1398.860436   \n",
       "3                             1397.440120   \n",
       "4                             1398.128818   \n",
       "\n",
       "   primary_cleaner.state.floatbank8_b_level  \\\n",
       "0                               -499.919735   \n",
       "1                               -499.778182   \n",
       "2                               -499.764529   \n",
       "3                               -499.211024   \n",
       "4                               -499.504543   \n",
       "\n",
       "   primary_cleaner.state.floatbank8_c_air  ...  \\\n",
       "0                             1400.102998  ...   \n",
       "1                             1396.151033  ...   \n",
       "2                             1398.075709  ...   \n",
       "3                             1400.129303  ...   \n",
       "4                             1402.172226  ...   \n",
       "\n",
       "   secondary_cleaner.state.floatbank4_a_air  \\\n",
       "0                                 12.023554   \n",
       "1                                 12.058140   \n",
       "2                                 11.962366   \n",
       "3                                 12.033091   \n",
       "4                                 12.025367   \n",
       "\n",
       "   secondary_cleaner.state.floatbank4_a_level  \\\n",
       "0                                 -497.795834   \n",
       "1                                 -498.695773   \n",
       "2                                 -498.767484   \n",
       "3                                 -498.350935   \n",
       "4                                 -500.786497   \n",
       "\n",
       "   secondary_cleaner.state.floatbank4_b_air  \\\n",
       "0                                  8.016656   \n",
       "1                                  8.130979   \n",
       "2                                  8.096893   \n",
       "3                                  8.074946   \n",
       "4                                  8.054678   \n",
       "\n",
       "   secondary_cleaner.state.floatbank4_b_level  \\\n",
       "0                                 -501.289139   \n",
       "1                                 -499.634209   \n",
       "2                                 -500.827423   \n",
       "3                                 -499.474407   \n",
       "4                                 -500.397500   \n",
       "\n",
       "   secondary_cleaner.state.floatbank5_a_air  \\\n",
       "0                                  7.946562   \n",
       "1                                  7.958270   \n",
       "2                                  8.071056   \n",
       "3                                  7.897085   \n",
       "4                                  8.107890   \n",
       "\n",
       "   secondary_cleaner.state.floatbank5_a_level  \\\n",
       "0                                 -432.317850   \n",
       "1                                 -525.839648   \n",
       "2                                 -500.801673   \n",
       "3                                 -500.868509   \n",
       "4                                 -509.526725   \n",
       "\n",
       "   secondary_cleaner.state.floatbank5_b_air  \\\n",
       "0                                  4.872511   \n",
       "1                                  4.878850   \n",
       "2                                  4.905125   \n",
       "3                                  4.931400   \n",
       "4                                  4.957674   \n",
       "\n",
       "   secondary_cleaner.state.floatbank5_b_level  \\\n",
       "0                                 -500.037437   \n",
       "1                                 -500.162375   \n",
       "2                                 -499.828510   \n",
       "3                                 -499.963623   \n",
       "4                                 -500.360026   \n",
       "\n",
       "   secondary_cleaner.state.floatbank6_a_air  \\\n",
       "0                                 26.705889   \n",
       "1                                 25.019940   \n",
       "2                                 24.994862   \n",
       "3                                 24.948919   \n",
       "4                                 25.003331   \n",
       "\n",
       "   secondary_cleaner.state.floatbank6_a_level  \n",
       "0                                 -499.709414  \n",
       "1                                 -499.819438  \n",
       "2                                 -500.622559  \n",
       "3                                 -498.709987  \n",
       "4                                 -500.856333  \n",
       "\n",
       "[5 rows x 53 columns]"
      ]
     },
     "execution_count": 4,
     "metadata": {},
     "output_type": "execute_result"
    }
   ],
   "source": [
    "df_test.head()"
   ]
  },
  {
   "cell_type": "code",
   "execution_count": 5,
   "metadata": {},
   "outputs": [
    {
     "data": {
      "text/html": [
       "<div>\n",
       "<style scoped>\n",
       "    .dataframe tbody tr th:only-of-type {\n",
       "        vertical-align: middle;\n",
       "    }\n",
       "\n",
       "    .dataframe tbody tr th {\n",
       "        vertical-align: top;\n",
       "    }\n",
       "\n",
       "    .dataframe thead th {\n",
       "        text-align: right;\n",
       "    }\n",
       "</style>\n",
       "<table border=\"1\" class=\"dataframe\">\n",
       "  <thead>\n",
       "    <tr style=\"text-align: right;\">\n",
       "      <th></th>\n",
       "      <th>date</th>\n",
       "      <th>final.output.concentrate_ag</th>\n",
       "      <th>final.output.concentrate_pb</th>\n",
       "      <th>final.output.concentrate_sol</th>\n",
       "      <th>final.output.concentrate_au</th>\n",
       "      <th>final.output.recovery</th>\n",
       "      <th>final.output.tail_ag</th>\n",
       "      <th>final.output.tail_pb</th>\n",
       "      <th>final.output.tail_sol</th>\n",
       "      <th>final.output.tail_au</th>\n",
       "      <th>...</th>\n",
       "      <th>secondary_cleaner.state.floatbank4_a_air</th>\n",
       "      <th>secondary_cleaner.state.floatbank4_a_level</th>\n",
       "      <th>secondary_cleaner.state.floatbank4_b_air</th>\n",
       "      <th>secondary_cleaner.state.floatbank4_b_level</th>\n",
       "      <th>secondary_cleaner.state.floatbank5_a_air</th>\n",
       "      <th>secondary_cleaner.state.floatbank5_a_level</th>\n",
       "      <th>secondary_cleaner.state.floatbank5_b_air</th>\n",
       "      <th>secondary_cleaner.state.floatbank5_b_level</th>\n",
       "      <th>secondary_cleaner.state.floatbank6_a_air</th>\n",
       "      <th>secondary_cleaner.state.floatbank6_a_level</th>\n",
       "    </tr>\n",
       "  </thead>\n",
       "  <tbody>\n",
       "    <tr>\n",
       "      <td>0</td>\n",
       "      <td>2016-01-15 00:00:00</td>\n",
       "      <td>6.055403</td>\n",
       "      <td>9.889648</td>\n",
       "      <td>5.507324</td>\n",
       "      <td>42.192020</td>\n",
       "      <td>70.541216</td>\n",
       "      <td>10.411962</td>\n",
       "      <td>0.895447</td>\n",
       "      <td>16.904297</td>\n",
       "      <td>2.143149</td>\n",
       "      <td>...</td>\n",
       "      <td>14.016835</td>\n",
       "      <td>-502.488007</td>\n",
       "      <td>12.099931</td>\n",
       "      <td>-504.715942</td>\n",
       "      <td>9.925633</td>\n",
       "      <td>-498.310211</td>\n",
       "      <td>8.079666</td>\n",
       "      <td>-500.470978</td>\n",
       "      <td>14.151341</td>\n",
       "      <td>-605.841980</td>\n",
       "    </tr>\n",
       "    <tr>\n",
       "      <td>1</td>\n",
       "      <td>2016-01-15 01:00:00</td>\n",
       "      <td>6.029369</td>\n",
       "      <td>9.968944</td>\n",
       "      <td>5.257781</td>\n",
       "      <td>42.701629</td>\n",
       "      <td>69.266198</td>\n",
       "      <td>10.462676</td>\n",
       "      <td>0.927452</td>\n",
       "      <td>16.634514</td>\n",
       "      <td>2.224930</td>\n",
       "      <td>...</td>\n",
       "      <td>13.992281</td>\n",
       "      <td>-505.503262</td>\n",
       "      <td>11.950531</td>\n",
       "      <td>-501.331529</td>\n",
       "      <td>10.039245</td>\n",
       "      <td>-500.169983</td>\n",
       "      <td>7.984757</td>\n",
       "      <td>-500.582168</td>\n",
       "      <td>13.998353</td>\n",
       "      <td>-599.787184</td>\n",
       "    </tr>\n",
       "    <tr>\n",
       "      <td>2</td>\n",
       "      <td>2016-01-15 02:00:00</td>\n",
       "      <td>6.055926</td>\n",
       "      <td>10.213995</td>\n",
       "      <td>5.383759</td>\n",
       "      <td>42.657501</td>\n",
       "      <td>68.116445</td>\n",
       "      <td>10.507046</td>\n",
       "      <td>0.953716</td>\n",
       "      <td>16.208849</td>\n",
       "      <td>2.257889</td>\n",
       "      <td>...</td>\n",
       "      <td>14.015015</td>\n",
       "      <td>-502.520901</td>\n",
       "      <td>11.912783</td>\n",
       "      <td>-501.133383</td>\n",
       "      <td>10.070913</td>\n",
       "      <td>-500.129135</td>\n",
       "      <td>8.013877</td>\n",
       "      <td>-500.517572</td>\n",
       "      <td>14.028663</td>\n",
       "      <td>-601.427363</td>\n",
       "    </tr>\n",
       "    <tr>\n",
       "      <td>3</td>\n",
       "      <td>2016-01-15 03:00:00</td>\n",
       "      <td>6.047977</td>\n",
       "      <td>9.977019</td>\n",
       "      <td>4.858634</td>\n",
       "      <td>42.689819</td>\n",
       "      <td>68.347543</td>\n",
       "      <td>10.422762</td>\n",
       "      <td>0.883763</td>\n",
       "      <td>16.532835</td>\n",
       "      <td>2.146849</td>\n",
       "      <td>...</td>\n",
       "      <td>14.036510</td>\n",
       "      <td>-500.857308</td>\n",
       "      <td>11.999550</td>\n",
       "      <td>-501.193686</td>\n",
       "      <td>9.970366</td>\n",
       "      <td>-499.201640</td>\n",
       "      <td>7.977324</td>\n",
       "      <td>-500.255908</td>\n",
       "      <td>14.005551</td>\n",
       "      <td>-599.996129</td>\n",
       "    </tr>\n",
       "    <tr>\n",
       "      <td>4</td>\n",
       "      <td>2016-01-15 04:00:00</td>\n",
       "      <td>6.148599</td>\n",
       "      <td>10.142511</td>\n",
       "      <td>4.939416</td>\n",
       "      <td>42.774141</td>\n",
       "      <td>66.927016</td>\n",
       "      <td>10.360302</td>\n",
       "      <td>0.792826</td>\n",
       "      <td>16.525686</td>\n",
       "      <td>2.055292</td>\n",
       "      <td>...</td>\n",
       "      <td>14.027298</td>\n",
       "      <td>-499.838632</td>\n",
       "      <td>11.953070</td>\n",
       "      <td>-501.053894</td>\n",
       "      <td>9.925709</td>\n",
       "      <td>-501.686727</td>\n",
       "      <td>7.894242</td>\n",
       "      <td>-500.356035</td>\n",
       "      <td>13.996647</td>\n",
       "      <td>-601.496691</td>\n",
       "    </tr>\n",
       "  </tbody>\n",
       "</table>\n",
       "<p>5 rows × 87 columns</p>\n",
       "</div>"
      ],
      "text/plain": [
       "                  date  final.output.concentrate_ag  \\\n",
       "0  2016-01-15 00:00:00                     6.055403   \n",
       "1  2016-01-15 01:00:00                     6.029369   \n",
       "2  2016-01-15 02:00:00                     6.055926   \n",
       "3  2016-01-15 03:00:00                     6.047977   \n",
       "4  2016-01-15 04:00:00                     6.148599   \n",
       "\n",
       "   final.output.concentrate_pb  final.output.concentrate_sol  \\\n",
       "0                     9.889648                      5.507324   \n",
       "1                     9.968944                      5.257781   \n",
       "2                    10.213995                      5.383759   \n",
       "3                     9.977019                      4.858634   \n",
       "4                    10.142511                      4.939416   \n",
       "\n",
       "   final.output.concentrate_au  final.output.recovery  final.output.tail_ag  \\\n",
       "0                    42.192020              70.541216             10.411962   \n",
       "1                    42.701629              69.266198             10.462676   \n",
       "2                    42.657501              68.116445             10.507046   \n",
       "3                    42.689819              68.347543             10.422762   \n",
       "4                    42.774141              66.927016             10.360302   \n",
       "\n",
       "   final.output.tail_pb  final.output.tail_sol  final.output.tail_au  ...  \\\n",
       "0              0.895447              16.904297              2.143149  ...   \n",
       "1              0.927452              16.634514              2.224930  ...   \n",
       "2              0.953716              16.208849              2.257889  ...   \n",
       "3              0.883763              16.532835              2.146849  ...   \n",
       "4              0.792826              16.525686              2.055292  ...   \n",
       "\n",
       "   secondary_cleaner.state.floatbank4_a_air  \\\n",
       "0                                 14.016835   \n",
       "1                                 13.992281   \n",
       "2                                 14.015015   \n",
       "3                                 14.036510   \n",
       "4                                 14.027298   \n",
       "\n",
       "   secondary_cleaner.state.floatbank4_a_level  \\\n",
       "0                                 -502.488007   \n",
       "1                                 -505.503262   \n",
       "2                                 -502.520901   \n",
       "3                                 -500.857308   \n",
       "4                                 -499.838632   \n",
       "\n",
       "   secondary_cleaner.state.floatbank4_b_air  \\\n",
       "0                                 12.099931   \n",
       "1                                 11.950531   \n",
       "2                                 11.912783   \n",
       "3                                 11.999550   \n",
       "4                                 11.953070   \n",
       "\n",
       "   secondary_cleaner.state.floatbank4_b_level  \\\n",
       "0                                 -504.715942   \n",
       "1                                 -501.331529   \n",
       "2                                 -501.133383   \n",
       "3                                 -501.193686   \n",
       "4                                 -501.053894   \n",
       "\n",
       "   secondary_cleaner.state.floatbank5_a_air  \\\n",
       "0                                  9.925633   \n",
       "1                                 10.039245   \n",
       "2                                 10.070913   \n",
       "3                                  9.970366   \n",
       "4                                  9.925709   \n",
       "\n",
       "   secondary_cleaner.state.floatbank5_a_level  \\\n",
       "0                                 -498.310211   \n",
       "1                                 -500.169983   \n",
       "2                                 -500.129135   \n",
       "3                                 -499.201640   \n",
       "4                                 -501.686727   \n",
       "\n",
       "   secondary_cleaner.state.floatbank5_b_air  \\\n",
       "0                                  8.079666   \n",
       "1                                  7.984757   \n",
       "2                                  8.013877   \n",
       "3                                  7.977324   \n",
       "4                                  7.894242   \n",
       "\n",
       "   secondary_cleaner.state.floatbank5_b_level  \\\n",
       "0                                 -500.470978   \n",
       "1                                 -500.582168   \n",
       "2                                 -500.517572   \n",
       "3                                 -500.255908   \n",
       "4                                 -500.356035   \n",
       "\n",
       "   secondary_cleaner.state.floatbank6_a_air  \\\n",
       "0                                 14.151341   \n",
       "1                                 13.998353   \n",
       "2                                 14.028663   \n",
       "3                                 14.005551   \n",
       "4                                 13.996647   \n",
       "\n",
       "   secondary_cleaner.state.floatbank6_a_level  \n",
       "0                                 -605.841980  \n",
       "1                                 -599.787184  \n",
       "2                                 -601.427363  \n",
       "3                                 -599.996129  \n",
       "4                                 -601.496691  \n",
       "\n",
       "[5 rows x 87 columns]"
      ]
     },
     "execution_count": 5,
     "metadata": {},
     "output_type": "execute_result"
    }
   ],
   "source": [
    "df_full.head()"
   ]
  },
  {
   "cell_type": "code",
   "execution_count": 6,
   "metadata": {},
   "outputs": [
    {
     "name": "stdout",
     "output_type": "stream",
     "text": [
      "<class 'pandas.core.frame.DataFrame'>\n",
      "RangeIndex: 5856 entries, 0 to 5855\n",
      "Data columns (total 53 columns):\n",
      "date                                          5856 non-null object\n",
      "primary_cleaner.input.sulfate                 5554 non-null float64\n",
      "primary_cleaner.input.depressant              5572 non-null float64\n",
      "primary_cleaner.input.feed_size               5856 non-null float64\n",
      "primary_cleaner.input.xanthate                5690 non-null float64\n",
      "primary_cleaner.state.floatbank8_a_air        5840 non-null float64\n",
      "primary_cleaner.state.floatbank8_a_level      5840 non-null float64\n",
      "primary_cleaner.state.floatbank8_b_air        5840 non-null float64\n",
      "primary_cleaner.state.floatbank8_b_level      5840 non-null float64\n",
      "primary_cleaner.state.floatbank8_c_air        5840 non-null float64\n",
      "primary_cleaner.state.floatbank8_c_level      5840 non-null float64\n",
      "primary_cleaner.state.floatbank8_d_air        5840 non-null float64\n",
      "primary_cleaner.state.floatbank8_d_level      5840 non-null float64\n",
      "rougher.input.feed_ag                         5840 non-null float64\n",
      "rougher.input.feed_pb                         5840 non-null float64\n",
      "rougher.input.feed_rate                       5816 non-null float64\n",
      "rougher.input.feed_size                       5834 non-null float64\n",
      "rougher.input.feed_sol                        5789 non-null float64\n",
      "rougher.input.feed_au                         5840 non-null float64\n",
      "rougher.input.floatbank10_sulfate             5599 non-null float64\n",
      "rougher.input.floatbank10_xanthate            5733 non-null float64\n",
      "rougher.input.floatbank11_sulfate             5801 non-null float64\n",
      "rougher.input.floatbank11_xanthate            5503 non-null float64\n",
      "rougher.state.floatbank10_a_air               5839 non-null float64\n",
      "rougher.state.floatbank10_a_level             5840 non-null float64\n",
      "rougher.state.floatbank10_b_air               5839 non-null float64\n",
      "rougher.state.floatbank10_b_level             5840 non-null float64\n",
      "rougher.state.floatbank10_c_air               5839 non-null float64\n",
      "rougher.state.floatbank10_c_level             5840 non-null float64\n",
      "rougher.state.floatbank10_d_air               5839 non-null float64\n",
      "rougher.state.floatbank10_d_level             5840 non-null float64\n",
      "rougher.state.floatbank10_e_air               5839 non-null float64\n",
      "rougher.state.floatbank10_e_level             5840 non-null float64\n",
      "rougher.state.floatbank10_f_air               5839 non-null float64\n",
      "rougher.state.floatbank10_f_level             5840 non-null float64\n",
      "secondary_cleaner.state.floatbank2_a_air      5836 non-null float64\n",
      "secondary_cleaner.state.floatbank2_a_level    5840 non-null float64\n",
      "secondary_cleaner.state.floatbank2_b_air      5833 non-null float64\n",
      "secondary_cleaner.state.floatbank2_b_level    5840 non-null float64\n",
      "secondary_cleaner.state.floatbank3_a_air      5822 non-null float64\n",
      "secondary_cleaner.state.floatbank3_a_level    5840 non-null float64\n",
      "secondary_cleaner.state.floatbank3_b_air      5840 non-null float64\n",
      "secondary_cleaner.state.floatbank3_b_level    5840 non-null float64\n",
      "secondary_cleaner.state.floatbank4_a_air      5840 non-null float64\n",
      "secondary_cleaner.state.floatbank4_a_level    5840 non-null float64\n",
      "secondary_cleaner.state.floatbank4_b_air      5840 non-null float64\n",
      "secondary_cleaner.state.floatbank4_b_level    5840 non-null float64\n",
      "secondary_cleaner.state.floatbank5_a_air      5840 non-null float64\n",
      "secondary_cleaner.state.floatbank5_a_level    5840 non-null float64\n",
      "secondary_cleaner.state.floatbank5_b_air      5840 non-null float64\n",
      "secondary_cleaner.state.floatbank5_b_level    5840 non-null float64\n",
      "secondary_cleaner.state.floatbank6_a_air      5840 non-null float64\n",
      "secondary_cleaner.state.floatbank6_a_level    5840 non-null float64\n",
      "dtypes: float64(52), object(1)\n",
      "memory usage: 2.4+ MB\n"
     ]
    }
   ],
   "source": [
    "df_test.info()"
   ]
  },
  {
   "cell_type": "code",
   "execution_count": 7,
   "metadata": {},
   "outputs": [
    {
     "name": "stdout",
     "output_type": "stream",
     "text": [
      "<class 'pandas.core.frame.DataFrame'>\n",
      "RangeIndex: 16860 entries, 0 to 16859\n",
      "Data columns (total 87 columns):\n",
      "date                                                  16860 non-null object\n",
      "final.output.concentrate_ag                           16788 non-null float64\n",
      "final.output.concentrate_pb                           16788 non-null float64\n",
      "final.output.concentrate_sol                          16490 non-null float64\n",
      "final.output.concentrate_au                           16789 non-null float64\n",
      "final.output.recovery                                 15339 non-null float64\n",
      "final.output.tail_ag                                  16794 non-null float64\n",
      "final.output.tail_pb                                  16677 non-null float64\n",
      "final.output.tail_sol                                 16715 non-null float64\n",
      "final.output.tail_au                                  16794 non-null float64\n",
      "primary_cleaner.input.sulfate                         15553 non-null float64\n",
      "primary_cleaner.input.depressant                      15598 non-null float64\n",
      "primary_cleaner.input.feed_size                       16860 non-null float64\n",
      "primary_cleaner.input.xanthate                        15875 non-null float64\n",
      "primary_cleaner.output.concentrate_ag                 16778 non-null float64\n",
      "primary_cleaner.output.concentrate_pb                 16502 non-null float64\n",
      "primary_cleaner.output.concentrate_sol                16224 non-null float64\n",
      "primary_cleaner.output.concentrate_au                 16778 non-null float64\n",
      "primary_cleaner.output.tail_ag                        16777 non-null float64\n",
      "primary_cleaner.output.tail_pb                        16761 non-null float64\n",
      "primary_cleaner.output.tail_sol                       16579 non-null float64\n",
      "primary_cleaner.output.tail_au                        16777 non-null float64\n",
      "primary_cleaner.state.floatbank8_a_air                16820 non-null float64\n",
      "primary_cleaner.state.floatbank8_a_level              16827 non-null float64\n",
      "primary_cleaner.state.floatbank8_b_air                16820 non-null float64\n",
      "primary_cleaner.state.floatbank8_b_level              16833 non-null float64\n",
      "primary_cleaner.state.floatbank8_c_air                16822 non-null float64\n",
      "primary_cleaner.state.floatbank8_c_level              16833 non-null float64\n",
      "primary_cleaner.state.floatbank8_d_air                16821 non-null float64\n",
      "primary_cleaner.state.floatbank8_d_level              16833 non-null float64\n",
      "rougher.calculation.sulfate_to_au_concentrate         16833 non-null float64\n",
      "rougher.calculation.floatbank10_sulfate_to_au_feed    16833 non-null float64\n",
      "rougher.calculation.floatbank11_sulfate_to_au_feed    16833 non-null float64\n",
      "rougher.calculation.au_pb_ratio                       15618 non-null float64\n",
      "rougher.input.feed_ag                                 16778 non-null float64\n",
      "rougher.input.feed_pb                                 16632 non-null float64\n",
      "rougher.input.feed_rate                               16347 non-null float64\n",
      "rougher.input.feed_size                               16443 non-null float64\n",
      "rougher.input.feed_sol                                16568 non-null float64\n",
      "rougher.input.feed_au                                 16777 non-null float64\n",
      "rougher.input.floatbank10_sulfate                     15816 non-null float64\n",
      "rougher.input.floatbank10_xanthate                    16514 non-null float64\n",
      "rougher.input.floatbank11_sulfate                     16237 non-null float64\n",
      "rougher.input.floatbank11_xanthate                    14956 non-null float64\n",
      "rougher.output.concentrate_ag                         16778 non-null float64\n",
      "rougher.output.concentrate_pb                         16778 non-null float64\n",
      "rougher.output.concentrate_sol                        16698 non-null float64\n",
      "rougher.output.concentrate_au                         16778 non-null float64\n",
      "rougher.output.recovery                               14287 non-null float64\n",
      "rougher.output.tail_ag                                14610 non-null float64\n",
      "rougher.output.tail_pb                                16778 non-null float64\n",
      "rougher.output.tail_sol                               14611 non-null float64\n",
      "rougher.output.tail_au                                14611 non-null float64\n",
      "rougher.state.floatbank10_a_air                       16807 non-null float64\n",
      "rougher.state.floatbank10_a_level                     16807 non-null float64\n",
      "rougher.state.floatbank10_b_air                       16807 non-null float64\n",
      "rougher.state.floatbank10_b_level                     16807 non-null float64\n",
      "rougher.state.floatbank10_c_air                       16807 non-null float64\n",
      "rougher.state.floatbank10_c_level                     16814 non-null float64\n",
      "rougher.state.floatbank10_d_air                       16802 non-null float64\n",
      "rougher.state.floatbank10_d_level                     16809 non-null float64\n",
      "rougher.state.floatbank10_e_air                       16257 non-null float64\n",
      "rougher.state.floatbank10_e_level                     16809 non-null float64\n",
      "rougher.state.floatbank10_f_air                       16802 non-null float64\n",
      "rougher.state.floatbank10_f_level                     16802 non-null float64\n",
      "secondary_cleaner.output.tail_ag                      16776 non-null float64\n",
      "secondary_cleaner.output.tail_pb                      16764 non-null float64\n",
      "secondary_cleaner.output.tail_sol                     14874 non-null float64\n",
      "secondary_cleaner.output.tail_au                      16778 non-null float64\n",
      "secondary_cleaner.state.floatbank2_a_air              16497 non-null float64\n",
      "secondary_cleaner.state.floatbank2_a_level            16751 non-null float64\n",
      "secondary_cleaner.state.floatbank2_b_air              16705 non-null float64\n",
      "secondary_cleaner.state.floatbank2_b_level            16748 non-null float64\n",
      "secondary_cleaner.state.floatbank3_a_air              16763 non-null float64\n",
      "secondary_cleaner.state.floatbank3_a_level            16747 non-null float64\n",
      "secondary_cleaner.state.floatbank3_b_air              16752 non-null float64\n",
      "secondary_cleaner.state.floatbank3_b_level            16750 non-null float64\n",
      "secondary_cleaner.state.floatbank4_a_air              16731 non-null float64\n",
      "secondary_cleaner.state.floatbank4_a_level            16747 non-null float64\n",
      "secondary_cleaner.state.floatbank4_b_air              16768 non-null float64\n",
      "secondary_cleaner.state.floatbank4_b_level            16767 non-null float64\n",
      "secondary_cleaner.state.floatbank5_a_air              16775 non-null float64\n",
      "secondary_cleaner.state.floatbank5_a_level            16775 non-null float64\n",
      "secondary_cleaner.state.floatbank5_b_air              16775 non-null float64\n",
      "secondary_cleaner.state.floatbank5_b_level            16776 non-null float64\n",
      "secondary_cleaner.state.floatbank6_a_air              16757 non-null float64\n",
      "secondary_cleaner.state.floatbank6_a_level            16775 non-null float64\n",
      "dtypes: float64(86), object(1)\n",
      "memory usage: 11.2+ MB\n"
     ]
    }
   ],
   "source": [
    "df_train.info()"
   ]
  },
  {
   "cell_type": "code",
   "execution_count": 8,
   "metadata": {},
   "outputs": [
    {
     "name": "stdout",
     "output_type": "stream",
     "text": [
      "<class 'pandas.core.frame.DataFrame'>\n",
      "RangeIndex: 22716 entries, 0 to 22715\n",
      "Data columns (total 87 columns):\n",
      "date                                                  22716 non-null object\n",
      "final.output.concentrate_ag                           22627 non-null float64\n",
      "final.output.concentrate_pb                           22629 non-null float64\n",
      "final.output.concentrate_sol                          22331 non-null float64\n",
      "final.output.concentrate_au                           22630 non-null float64\n",
      "final.output.recovery                                 20753 non-null float64\n",
      "final.output.tail_ag                                  22633 non-null float64\n",
      "final.output.tail_pb                                  22516 non-null float64\n",
      "final.output.tail_sol                                 22445 non-null float64\n",
      "final.output.tail_au                                  22635 non-null float64\n",
      "primary_cleaner.input.sulfate                         21107 non-null float64\n",
      "primary_cleaner.input.depressant                      21170 non-null float64\n",
      "primary_cleaner.input.feed_size                       22716 non-null float64\n",
      "primary_cleaner.input.xanthate                        21565 non-null float64\n",
      "primary_cleaner.output.concentrate_ag                 22618 non-null float64\n",
      "primary_cleaner.output.concentrate_pb                 22268 non-null float64\n",
      "primary_cleaner.output.concentrate_sol                21918 non-null float64\n",
      "primary_cleaner.output.concentrate_au                 22618 non-null float64\n",
      "primary_cleaner.output.tail_ag                        22614 non-null float64\n",
      "primary_cleaner.output.tail_pb                        22594 non-null float64\n",
      "primary_cleaner.output.tail_sol                       22365 non-null float64\n",
      "primary_cleaner.output.tail_au                        22617 non-null float64\n",
      "primary_cleaner.state.floatbank8_a_air                22660 non-null float64\n",
      "primary_cleaner.state.floatbank8_a_level              22667 non-null float64\n",
      "primary_cleaner.state.floatbank8_b_air                22660 non-null float64\n",
      "primary_cleaner.state.floatbank8_b_level              22673 non-null float64\n",
      "primary_cleaner.state.floatbank8_c_air                22662 non-null float64\n",
      "primary_cleaner.state.floatbank8_c_level              22673 non-null float64\n",
      "primary_cleaner.state.floatbank8_d_air                22661 non-null float64\n",
      "primary_cleaner.state.floatbank8_d_level              22673 non-null float64\n",
      "rougher.calculation.sulfate_to_au_concentrate         22672 non-null float64\n",
      "rougher.calculation.floatbank10_sulfate_to_au_feed    22672 non-null float64\n",
      "rougher.calculation.floatbank11_sulfate_to_au_feed    22672 non-null float64\n",
      "rougher.calculation.au_pb_ratio                       21089 non-null float64\n",
      "rougher.input.feed_ag                                 22618 non-null float64\n",
      "rougher.input.feed_pb                                 22472 non-null float64\n",
      "rougher.input.feed_rate                               22163 non-null float64\n",
      "rougher.input.feed_size                               22277 non-null float64\n",
      "rougher.input.feed_sol                                22357 non-null float64\n",
      "rougher.input.feed_au                                 22617 non-null float64\n",
      "rougher.input.floatbank10_sulfate                     21415 non-null float64\n",
      "rougher.input.floatbank10_xanthate                    22247 non-null float64\n",
      "rougher.input.floatbank11_sulfate                     22038 non-null float64\n",
      "rougher.input.floatbank11_xanthate                    20459 non-null float64\n",
      "rougher.output.concentrate_ag                         22618 non-null float64\n",
      "rougher.output.concentrate_pb                         22618 non-null float64\n",
      "rougher.output.concentrate_sol                        22526 non-null float64\n",
      "rougher.output.concentrate_au                         22618 non-null float64\n",
      "rougher.output.recovery                               19597 non-null float64\n",
      "rougher.output.tail_ag                                19979 non-null float64\n",
      "rougher.output.tail_pb                                22618 non-null float64\n",
      "rougher.output.tail_sol                               19980 non-null float64\n",
      "rougher.output.tail_au                                19980 non-null float64\n",
      "rougher.state.floatbank10_a_air                       22646 non-null float64\n",
      "rougher.state.floatbank10_a_level                     22647 non-null float64\n",
      "rougher.state.floatbank10_b_air                       22646 non-null float64\n",
      "rougher.state.floatbank10_b_level                     22647 non-null float64\n",
      "rougher.state.floatbank10_c_air                       22646 non-null float64\n",
      "rougher.state.floatbank10_c_level                     22654 non-null float64\n",
      "rougher.state.floatbank10_d_air                       22641 non-null float64\n",
      "rougher.state.floatbank10_d_level                     22649 non-null float64\n",
      "rougher.state.floatbank10_e_air                       22096 non-null float64\n",
      "rougher.state.floatbank10_e_level                     22649 non-null float64\n",
      "rougher.state.floatbank10_f_air                       22641 non-null float64\n",
      "rougher.state.floatbank10_f_level                     22642 non-null float64\n",
      "secondary_cleaner.output.tail_ag                      22616 non-null float64\n",
      "secondary_cleaner.output.tail_pb                      22600 non-null float64\n",
      "secondary_cleaner.output.tail_sol                     20501 non-null float64\n",
      "secondary_cleaner.output.tail_au                      22618 non-null float64\n",
      "secondary_cleaner.state.floatbank2_a_air              22333 non-null float64\n",
      "secondary_cleaner.state.floatbank2_a_level            22591 non-null float64\n",
      "secondary_cleaner.state.floatbank2_b_air              22538 non-null float64\n",
      "secondary_cleaner.state.floatbank2_b_level            22588 non-null float64\n",
      "secondary_cleaner.state.floatbank3_a_air              22585 non-null float64\n",
      "secondary_cleaner.state.floatbank3_a_level            22587 non-null float64\n",
      "secondary_cleaner.state.floatbank3_b_air              22592 non-null float64\n",
      "secondary_cleaner.state.floatbank3_b_level            22590 non-null float64\n",
      "secondary_cleaner.state.floatbank4_a_air              22571 non-null float64\n",
      "secondary_cleaner.state.floatbank4_a_level            22587 non-null float64\n",
      "secondary_cleaner.state.floatbank4_b_air              22608 non-null float64\n",
      "secondary_cleaner.state.floatbank4_b_level            22607 non-null float64\n",
      "secondary_cleaner.state.floatbank5_a_air              22615 non-null float64\n",
      "secondary_cleaner.state.floatbank5_a_level            22615 non-null float64\n",
      "secondary_cleaner.state.floatbank5_b_air              22615 non-null float64\n",
      "secondary_cleaner.state.floatbank5_b_level            22616 non-null float64\n",
      "secondary_cleaner.state.floatbank6_a_air              22597 non-null float64\n",
      "secondary_cleaner.state.floatbank6_a_level            22615 non-null float64\n",
      "dtypes: float64(86), object(1)\n",
      "memory usage: 15.1+ MB\n"
     ]
    }
   ],
   "source": [
    "df_full.info()"
   ]
  },
  {
   "cell_type": "markdown",
   "metadata": {},
   "source": [
    "<div class=\"alert alert-success\">\n",
    "<b>Reviewer's comment</b>\n",
    "\n",
    "The data was loaded and inspected!\n",
    "\n",
    "</div>"
   ]
  },
  {
   "cell_type": "markdown",
   "metadata": {},
   "source": [
    "### Check that recovery is calculated correctly"
   ]
  },
  {
   "cell_type": "code",
   "execution_count": 9,
   "metadata": {},
   "outputs": [
    {
     "name": "stdout",
     "output_type": "stream",
     "text": [
      "MAE:  1.3493917094820063e-10\n"
     ]
    }
   ],
   "source": [
    "# Defining variables for recovery\n",
    "C = df_train['rougher.output.concentrate_au']\n",
    "F = df_train['rougher.input.feed_au']\n",
    "T = df_train['rougher.output.tail_au']\n",
    "\n",
    "# Finding recovery and MAE\n",
    "lambda_var = (C * (F - T)) / (F * (C - T)) * 100\n",
    "mae = (lambda_var - df_train['rougher.output.recovery']).abs().sum()\n",
    "\n",
    "print('MAE: ', mae)"
   ]
  },
  {
   "cell_type": "markdown",
   "metadata": {},
   "source": [
    "Our MAE is an extraordinarily small number, indicating near-perfect recovery calculations."
   ]
  },
  {
   "cell_type": "markdown",
   "metadata": {},
   "source": [
    "<div class=\"alert alert-success\">\n",
    "<b>Reviewer's comment</b>\n",
    "\n",
    "Recovery data was validated successfully!\n",
    "\n",
    "</div>"
   ]
  },
  {
   "cell_type": "markdown",
   "metadata": {},
   "source": [
    "### Analyze the features not available in the test set"
   ]
  },
  {
   "cell_type": "code",
   "execution_count": 10,
   "metadata": {},
   "outputs": [
    {
     "name": "stdout",
     "output_type": "stream",
     "text": [
      "Index(['final.output.concentrate_ag', 'final.output.concentrate_au',\n",
      "       'final.output.concentrate_pb', 'final.output.concentrate_sol',\n",
      "       'final.output.recovery', 'final.output.tail_ag', 'final.output.tail_au',\n",
      "       'final.output.tail_pb', 'final.output.tail_sol',\n",
      "       'primary_cleaner.output.concentrate_ag',\n",
      "       'primary_cleaner.output.concentrate_au',\n",
      "       'primary_cleaner.output.concentrate_pb',\n",
      "       'primary_cleaner.output.concentrate_sol',\n",
      "       'primary_cleaner.output.tail_ag', 'primary_cleaner.output.tail_au',\n",
      "       'primary_cleaner.output.tail_pb', 'primary_cleaner.output.tail_sol',\n",
      "       'rougher.calculation.au_pb_ratio',\n",
      "       'rougher.calculation.floatbank10_sulfate_to_au_feed',\n",
      "       'rougher.calculation.floatbank11_sulfate_to_au_feed',\n",
      "       'rougher.calculation.sulfate_to_au_concentrate',\n",
      "       'rougher.output.concentrate_ag', 'rougher.output.concentrate_au',\n",
      "       'rougher.output.concentrate_pb', 'rougher.output.concentrate_sol',\n",
      "       'rougher.output.recovery', 'rougher.output.tail_ag',\n",
      "       'rougher.output.tail_au', 'rougher.output.tail_pb',\n",
      "       'rougher.output.tail_sol', 'secondary_cleaner.output.tail_ag',\n",
      "       'secondary_cleaner.output.tail_au', 'secondary_cleaner.output.tail_pb',\n",
      "       'secondary_cleaner.output.tail_sol'],\n",
      "      dtype='object')\n"
     ]
    }
   ],
   "source": [
    "# Checking for missing columns\n",
    "print(df_train.columns.difference(df_test.columns))\n",
    "\n",
    "#df_train = df_train.drop(df_train.columns.difference(df_test.columns), axis=1)"
   ]
  },
  {
   "cell_type": "markdown",
   "metadata": {},
   "source": [
    "There's a noticable amount of columns in one of the dataframes but not the other. These columns have been dropped."
   ]
  },
  {
   "cell_type": "markdown",
   "metadata": {},
   "source": [
    "<div class=\"alert alert-warning\">\n",
    "<b>Reviewer's comment</b>\n",
    "\n",
    "Yep! It should be noted that all these columns are either outputs of the process or calculations based on them, which means they can't be used in our model\n",
    "\n",
    "</div>"
   ]
  },
  {
   "cell_type": "markdown",
   "metadata": {},
   "source": [
    "### Perform data preprocessing"
   ]
  },
  {
   "cell_type": "code",
   "execution_count": 11,
   "metadata": {},
   "outputs": [],
   "source": [
    "# Turning our dates into panda's datetime\n",
    "for dataframe in [df_train, df_test, df_full]:\n",
    "    dataframe['date'] = pd.to_datetime(dataframe['date'])"
   ]
  },
  {
   "cell_type": "code",
   "execution_count": 12,
   "metadata": {},
   "outputs": [
    {
     "data": {
      "text/html": [
       "<div>\n",
       "<style scoped>\n",
       "    .dataframe tbody tr th:only-of-type {\n",
       "        vertical-align: middle;\n",
       "    }\n",
       "\n",
       "    .dataframe tbody tr th {\n",
       "        vertical-align: top;\n",
       "    }\n",
       "\n",
       "    .dataframe thead th {\n",
       "        text-align: right;\n",
       "    }\n",
       "</style>\n",
       "<table border=\"1\" class=\"dataframe\">\n",
       "  <thead>\n",
       "    <tr style=\"text-align: right;\">\n",
       "      <th></th>\n",
       "      <th>final.output.concentrate_ag</th>\n",
       "      <th>final.output.concentrate_pb</th>\n",
       "      <th>final.output.concentrate_sol</th>\n",
       "      <th>final.output.concentrate_au</th>\n",
       "      <th>final.output.recovery</th>\n",
       "      <th>final.output.tail_ag</th>\n",
       "      <th>final.output.tail_pb</th>\n",
       "      <th>final.output.tail_sol</th>\n",
       "      <th>final.output.tail_au</th>\n",
       "      <th>primary_cleaner.input.sulfate</th>\n",
       "      <th>...</th>\n",
       "      <th>secondary_cleaner.state.floatbank4_a_air</th>\n",
       "      <th>secondary_cleaner.state.floatbank4_a_level</th>\n",
       "      <th>secondary_cleaner.state.floatbank4_b_air</th>\n",
       "      <th>secondary_cleaner.state.floatbank4_b_level</th>\n",
       "      <th>secondary_cleaner.state.floatbank5_a_air</th>\n",
       "      <th>secondary_cleaner.state.floatbank5_a_level</th>\n",
       "      <th>secondary_cleaner.state.floatbank5_b_air</th>\n",
       "      <th>secondary_cleaner.state.floatbank5_b_level</th>\n",
       "      <th>secondary_cleaner.state.floatbank6_a_air</th>\n",
       "      <th>secondary_cleaner.state.floatbank6_a_level</th>\n",
       "    </tr>\n",
       "  </thead>\n",
       "  <tbody>\n",
       "    <tr>\n",
       "      <td>count</td>\n",
       "      <td>16788.0</td>\n",
       "      <td>16788.0</td>\n",
       "      <td>16490.0</td>\n",
       "      <td>16789.0</td>\n",
       "      <td>15339.0</td>\n",
       "      <td>16794.0</td>\n",
       "      <td>16677.0</td>\n",
       "      <td>16715.0</td>\n",
       "      <td>16794.0</td>\n",
       "      <td>15553.0</td>\n",
       "      <td>...</td>\n",
       "      <td>16731.0</td>\n",
       "      <td>16747.0</td>\n",
       "      <td>16768.0</td>\n",
       "      <td>16767.0</td>\n",
       "      <td>16775.0</td>\n",
       "      <td>16775.0</td>\n",
       "      <td>16775.0</td>\n",
       "      <td>16776.0</td>\n",
       "      <td>16757.0</td>\n",
       "      <td>16775.0</td>\n",
       "    </tr>\n",
       "  </tbody>\n",
       "</table>\n",
       "<p>1 rows × 86 columns</p>\n",
       "</div>"
      ],
      "text/plain": [
       "       final.output.concentrate_ag  final.output.concentrate_pb  \\\n",
       "count                      16788.0                      16788.0   \n",
       "\n",
       "       final.output.concentrate_sol  final.output.concentrate_au  \\\n",
       "count                       16490.0                      16789.0   \n",
       "\n",
       "       final.output.recovery  final.output.tail_ag  final.output.tail_pb  \\\n",
       "count                15339.0               16794.0               16677.0   \n",
       "\n",
       "       final.output.tail_sol  final.output.tail_au  \\\n",
       "count                16715.0               16794.0   \n",
       "\n",
       "       primary_cleaner.input.sulfate  ...  \\\n",
       "count                        15553.0  ...   \n",
       "\n",
       "       secondary_cleaner.state.floatbank4_a_air  \\\n",
       "count                                   16731.0   \n",
       "\n",
       "       secondary_cleaner.state.floatbank4_a_level  \\\n",
       "count                                     16747.0   \n",
       "\n",
       "       secondary_cleaner.state.floatbank4_b_air  \\\n",
       "count                                   16768.0   \n",
       "\n",
       "       secondary_cleaner.state.floatbank4_b_level  \\\n",
       "count                                     16767.0   \n",
       "\n",
       "       secondary_cleaner.state.floatbank5_a_air  \\\n",
       "count                                   16775.0   \n",
       "\n",
       "       secondary_cleaner.state.floatbank5_a_level  \\\n",
       "count                                     16775.0   \n",
       "\n",
       "       secondary_cleaner.state.floatbank5_b_air  \\\n",
       "count                                   16775.0   \n",
       "\n",
       "       secondary_cleaner.state.floatbank5_b_level  \\\n",
       "count                                     16776.0   \n",
       "\n",
       "       secondary_cleaner.state.floatbank6_a_air  \\\n",
       "count                                   16757.0   \n",
       "\n",
       "       secondary_cleaner.state.floatbank6_a_level  \n",
       "count                                     16775.0  \n",
       "\n",
       "[1 rows x 86 columns]"
      ]
     },
     "execution_count": 12,
     "metadata": {},
     "output_type": "execute_result"
    }
   ],
   "source": [
    "# Checking for missing row counts\n",
    "df_train.describe().head(1)"
   ]
  },
  {
   "cell_type": "code",
   "execution_count": 13,
   "metadata": {},
   "outputs": [
    {
     "data": {
      "text/html": [
       "<div>\n",
       "<style scoped>\n",
       "    .dataframe tbody tr th:only-of-type {\n",
       "        vertical-align: middle;\n",
       "    }\n",
       "\n",
       "    .dataframe tbody tr th {\n",
       "        vertical-align: top;\n",
       "    }\n",
       "\n",
       "    .dataframe thead th {\n",
       "        text-align: right;\n",
       "    }\n",
       "</style>\n",
       "<table border=\"1\" class=\"dataframe\">\n",
       "  <thead>\n",
       "    <tr style=\"text-align: right;\">\n",
       "      <th></th>\n",
       "      <th>primary_cleaner.input.sulfate</th>\n",
       "      <th>primary_cleaner.input.depressant</th>\n",
       "      <th>primary_cleaner.input.feed_size</th>\n",
       "      <th>primary_cleaner.input.xanthate</th>\n",
       "      <th>primary_cleaner.state.floatbank8_a_air</th>\n",
       "      <th>primary_cleaner.state.floatbank8_a_level</th>\n",
       "      <th>primary_cleaner.state.floatbank8_b_air</th>\n",
       "      <th>primary_cleaner.state.floatbank8_b_level</th>\n",
       "      <th>primary_cleaner.state.floatbank8_c_air</th>\n",
       "      <th>primary_cleaner.state.floatbank8_c_level</th>\n",
       "      <th>...</th>\n",
       "      <th>secondary_cleaner.state.floatbank4_a_air</th>\n",
       "      <th>secondary_cleaner.state.floatbank4_a_level</th>\n",
       "      <th>secondary_cleaner.state.floatbank4_b_air</th>\n",
       "      <th>secondary_cleaner.state.floatbank4_b_level</th>\n",
       "      <th>secondary_cleaner.state.floatbank5_a_air</th>\n",
       "      <th>secondary_cleaner.state.floatbank5_a_level</th>\n",
       "      <th>secondary_cleaner.state.floatbank5_b_air</th>\n",
       "      <th>secondary_cleaner.state.floatbank5_b_level</th>\n",
       "      <th>secondary_cleaner.state.floatbank6_a_air</th>\n",
       "      <th>secondary_cleaner.state.floatbank6_a_level</th>\n",
       "    </tr>\n",
       "  </thead>\n",
       "  <tbody>\n",
       "    <tr>\n",
       "      <td>count</td>\n",
       "      <td>5554.0</td>\n",
       "      <td>5572.0</td>\n",
       "      <td>5856.0</td>\n",
       "      <td>5690.0</td>\n",
       "      <td>5840.0</td>\n",
       "      <td>5840.0</td>\n",
       "      <td>5840.0</td>\n",
       "      <td>5840.0</td>\n",
       "      <td>5840.0</td>\n",
       "      <td>5840.0</td>\n",
       "      <td>...</td>\n",
       "      <td>5840.0</td>\n",
       "      <td>5840.0</td>\n",
       "      <td>5840.0</td>\n",
       "      <td>5840.0</td>\n",
       "      <td>5840.0</td>\n",
       "      <td>5840.0</td>\n",
       "      <td>5840.0</td>\n",
       "      <td>5840.0</td>\n",
       "      <td>5840.0</td>\n",
       "      <td>5840.0</td>\n",
       "    </tr>\n",
       "  </tbody>\n",
       "</table>\n",
       "<p>1 rows × 52 columns</p>\n",
       "</div>"
      ],
      "text/plain": [
       "       primary_cleaner.input.sulfate  primary_cleaner.input.depressant  \\\n",
       "count                         5554.0                            5572.0   \n",
       "\n",
       "       primary_cleaner.input.feed_size  primary_cleaner.input.xanthate  \\\n",
       "count                           5856.0                          5690.0   \n",
       "\n",
       "       primary_cleaner.state.floatbank8_a_air  \\\n",
       "count                                  5840.0   \n",
       "\n",
       "       primary_cleaner.state.floatbank8_a_level  \\\n",
       "count                                    5840.0   \n",
       "\n",
       "       primary_cleaner.state.floatbank8_b_air  \\\n",
       "count                                  5840.0   \n",
       "\n",
       "       primary_cleaner.state.floatbank8_b_level  \\\n",
       "count                                    5840.0   \n",
       "\n",
       "       primary_cleaner.state.floatbank8_c_air  \\\n",
       "count                                  5840.0   \n",
       "\n",
       "       primary_cleaner.state.floatbank8_c_level  ...  \\\n",
       "count                                    5840.0  ...   \n",
       "\n",
       "       secondary_cleaner.state.floatbank4_a_air  \\\n",
       "count                                    5840.0   \n",
       "\n",
       "       secondary_cleaner.state.floatbank4_a_level  \\\n",
       "count                                      5840.0   \n",
       "\n",
       "       secondary_cleaner.state.floatbank4_b_air  \\\n",
       "count                                    5840.0   \n",
       "\n",
       "       secondary_cleaner.state.floatbank4_b_level  \\\n",
       "count                                      5840.0   \n",
       "\n",
       "       secondary_cleaner.state.floatbank5_a_air  \\\n",
       "count                                    5840.0   \n",
       "\n",
       "       secondary_cleaner.state.floatbank5_a_level  \\\n",
       "count                                      5840.0   \n",
       "\n",
       "       secondary_cleaner.state.floatbank5_b_air  \\\n",
       "count                                    5840.0   \n",
       "\n",
       "       secondary_cleaner.state.floatbank5_b_level  \\\n",
       "count                                      5840.0   \n",
       "\n",
       "       secondary_cleaner.state.floatbank6_a_air  \\\n",
       "count                                    5840.0   \n",
       "\n",
       "       secondary_cleaner.state.floatbank6_a_level  \n",
       "count                                      5840.0  \n",
       "\n",
       "[1 rows x 52 columns]"
      ]
     },
     "execution_count": 13,
     "metadata": {},
     "output_type": "execute_result"
    }
   ],
   "source": [
    "# Checking for missing row counts\n",
    "df_test.describe().head(1)"
   ]
  },
  {
   "cell_type": "code",
   "execution_count": 14,
   "metadata": {},
   "outputs": [],
   "source": [
    "# Filling missing values\n",
    "df_train = df_train.ffill()\n",
    "df_test = df_test.ffill()\n",
    "df_full = df_full.ffill()"
   ]
  },
  {
   "cell_type": "code",
   "execution_count": 15,
   "metadata": {},
   "outputs": [],
   "source": [
    "# Merging to replace missing values\n",
    "df_full_merge = df_full[['date', 'rougher.output.recovery', 'final.output.recovery', 'rougher.output.concentrate_au',\n",
    "                        'rougher.output.concentrate_ag', 'rougher.output.concentrate_pb', 'rougher.output.concentrate_sol', \n",
    "                         'final.output.concentrate_au', 'final.output.concentrate_ag', 'final.output.concentrate_pb', \n",
    "                         'final.output.concentrate_sol']]\n",
    "\n",
    "df_test = df_test.merge(df_full_merge, on='date', how='left')\n",
    "df_full_merge = df_full_merge.drop(['date', 'rougher.output.recovery', 'final.output.recovery'], axis=1)"
   ]
  },
  {
   "cell_type": "code",
   "execution_count": 16,
   "metadata": {},
   "outputs": [],
   "source": [
    "# Dropping useless column 'date'\n",
    "df_train = df_train.drop('date', axis=1)\n",
    "df_test = df_test.drop('date', axis=1)\n",
    "df_full = df_full.drop('date', axis=1)"
   ]
  },
  {
   "cell_type": "markdown",
   "metadata": {},
   "source": [
    "<div class=\"alert alert-success\">\n",
    "<b>Reviewer's comment</b>\n",
    "\n",
    "Preprocessing looks good! Missing values were dealt with reasonably, and you correctly merged the target columns with the test dataframe\n",
    "\n",
    "</div>"
   ]
  },
  {
   "cell_type": "markdown",
   "metadata": {},
   "source": [
    "## Analyze the data"
   ]
  },
  {
   "cell_type": "markdown",
   "metadata": {},
   "source": [
    "### Take note of how the concentrations of metals (Au, Ag, Pb) change depending on the purification stage"
   ]
  },
  {
   "cell_type": "code",
   "execution_count": 17,
   "metadata": {},
   "outputs": [],
   "source": [
    "# Prepping for plotting\n",
    "metal_au = df_full[['rougher.input.feed_au', 'rougher.output.concentrate_au', \n",
    "                    'primary_cleaner.output.concentrate_au', 'final.output.concentrate_au']]\n",
    "metal_ag = df_full[['rougher.input.feed_ag', 'rougher.output.concentrate_ag', \n",
    "                    'primary_cleaner.output.concentrate_ag', 'final.output.concentrate_ag']]\n",
    "metal_pb = df_full[['rougher.input.feed_pb', 'rougher.output.concentrate_pb', \n",
    "                    'primary_cleaner.output.concentrate_pb', 'final.output.concentrate_pb']]"
   ]
  },
  {
   "cell_type": "code",
   "execution_count": 18,
   "metadata": {},
   "outputs": [
    {
     "data": {
      "image/png": "[encoded data removed]",
      "text/plain": [
       "<Figure size 720x1440 with 3 Axes>"
      ]
     },
     "metadata": {
      "needs_background": "light"
     },
     "output_type": "display_data"
    }
   ],
   "source": [
    "# Plotting metal concentrations\n",
    "fig, axes = plt.subplots(3, 1, figsize=(10, 20))\n",
    "for column in list(metal_au):\n",
    "    sns.distplot(metal_au[column], ax=axes[0], kde=False)\n",
    "axes[0].set(title='Au', xlabel='Concentration', ylabel='Amount')\n",
    "for column in list(metal_ag):\n",
    "    sns.distplot(metal_ag[column], ax=axes[1], kde=False)\n",
    "axes[1].set(title='Ag', xlabel='Concentration', ylabel='Amount')\n",
    "for column in list(metal_pb):\n",
    "    sns.distplot(metal_pb[column], ax=axes[2], kde=False)\n",
    "axes[2].set(title=\"Pb\", xlabel='Concentration', ylabel='Amount')\n",
    "fig.suptitle('Metal Concentraions at Purification Stages')\n",
    "fig.legend(['rougher.input.feed', 'rougher.output.concentrate', 'primary.cleaner.output concentrate',\n",
    "            'final.output.concentrate',])\n",
    "fig.show()"
   ]
  },
  {
   "cell_type": "markdown",
   "metadata": {},
   "source": [
    "There are a lot of values on each graph of concentration for 0. This likely indicates outliers. As for actual concentrations, on some graphs there's overlaps and for Au the concentrations have much less overlap."
   ]
  },
  {
   "cell_type": "markdown",
   "metadata": {},
   "source": [
    "<div class=\"alert alert-danger\">\n",
    "<s><b>Reviewer's comment</b>\n",
    "\n",
    "The plots are correct, but what are your conclusions? :)\n",
    "\n",
    "</div>"
   ]
  },
  {
   "cell_type": "markdown",
   "metadata": {},
   "source": [
    "<div class=\"alert alert-success\">\n",
    "<b>Reviewer's comment V2</b>\n",
    "\n",
    "Ok!\n",
    "\n",
    "</div>"
   ]
  },
  {
   "cell_type": "markdown",
   "metadata": {},
   "source": [
    "### Compare the feed particle size distributions in the training set and in the test set"
   ]
  },
  {
   "cell_type": "code",
   "execution_count": 19,
   "metadata": {},
   "outputs": [
    {
     "data": {
      "image/png": "[encoded data removed]",
      "text/plain": [
       "<Figure size 720x1080 with 2 Axes>"
      ]
     },
     "metadata": {
      "needs_background": "light"
     },
     "output_type": "display_data"
    }
   ],
   "source": [
    "# Plotting feed distributions\n",
    "fig, axes = plt.subplots(2,1, figsize=(10, 15))\n",
    "axes[0].hist(df_train['primary_cleaner.input.feed_size'], density=True, alpha=0.5, bins=50)\n",
    "axes[0].hist(df_test['primary_cleaner.input.feed_size'], density=True, alpha=0.5, bins=50)\n",
    "axes[0].set(title='Primary Cleaner Input Feed Size', xlabel='Amount', ylabel='Size')\n",
    "axes[1].hist(df_train['rougher.input.feed_size'], density=True, alpha=0.5, bins=50)\n",
    "axes[1].hist(df_test['rougher.input.feed_size'], density=True, alpha=0.5, bins=50)\n",
    "axes[1].set(title='Rougher Input Feed Size', xlabel='Amount', ylabel='Size')\n",
    "fig.suptitle('Feed Particle Size Distribution')\n",
    "fig.legend(['Train Set', 'Test Set'])\n",
    "fig.show()"
   ]
  },
  {
   "cell_type": "markdown",
   "metadata": {},
   "source": [
    "There is significant but not perfect overlap between the test and training set. This shows that there is enough reasonable variation that the values in each set are likely correctly done and can be used for our ML and testing."
   ]
  },
  {
   "cell_type": "markdown",
   "metadata": {},
   "source": [
    "<div class=\"alert alert-danger\">\n",
    "<s><b>Reviewer's comment</b>\n",
    "\n",
    "As in the previous task, please share your conclusions!\n",
    "\n",
    "</div>"
   ]
  },
  {
   "cell_type": "markdown",
   "metadata": {},
   "source": [
    "<div class=\"alert alert-success\">\n",
    "<b>Reviewer's comment V2</b>\n",
    "\n",
    "Good!\n",
    "\n",
    "</div>"
   ]
  },
  {
   "cell_type": "markdown",
   "metadata": {},
   "source": [
    "### Consider the total concentrations of all substances at different stages: raw feed, rougher concentrate, and final concentrate. Do you notice any abnormal values in the total distribution?"
   ]
  },
  {
   "cell_type": "code",
   "execution_count": 20,
   "metadata": {},
   "outputs": [],
   "source": [
    "# Def for selecting raw feed\n",
    "def raw_feed(df):\n",
    "    return df['rougher.input.feed_au'] + df['rougher.input.feed_ag'] + df[\n",
    "        'rougher.input.feed_pb'] + df['rougher.input.feed_sol']"
   ]
  },
  {
   "cell_type": "code",
   "execution_count": 21,
   "metadata": {},
   "outputs": [],
   "source": [
    "# Def for selecting rough concentrate\n",
    "def rougher_conc(df):\n",
    "    return df['rougher.output.concentrate_au'] + df['rougher.output.concentrate_ag'] + df[\n",
    "        'rougher.output.concentrate_pb'] + df['rougher.output.concentrate_sol']"
   ]
  },
  {
   "cell_type": "code",
   "execution_count": 22,
   "metadata": {},
   "outputs": [],
   "source": [
    "# Def for selecting final concentrate\n",
    "def final_conc(df):\n",
    "    return df['final.output.concentrate_au'] + df['final.output.concentrate_ag'] + df[\n",
    "        'final.output.concentrate_pb'] + df['final.output.concentrate_sol']"
   ]
  },
  {
   "cell_type": "code",
   "execution_count": 23,
   "metadata": {},
   "outputs": [],
   "source": [
    "# Defining variables using previous defs for plotting\n",
    "df_full['rougher.input.feed'] = raw_feed(df_full)\n",
    "df_full['rougher.output.concentrate'] = rougher_conc(df_full)\n",
    "df_full['final.output.concentrate'] = final_conc(df_full)\n",
    "total_conc = df_full[['rougher.input.feed', 'rougher.output.concentrate', 'final.output.concentrate']]"
   ]
  },
  {
   "cell_type": "code",
   "execution_count": 24,
   "metadata": {},
   "outputs": [
    {
     "data": {
      "image/png": "[encoded data removed]",
      "text/plain": [
       "<Figure size 720x432 with 1 Axes>"
      ]
     },
     "metadata": {
      "needs_background": "light"
     },
     "output_type": "display_data"
    }
   ],
   "source": [
    "fig = plt.figure(figsize=(10, 6))\n",
    "for column in list(total_conc):\n",
    "    sns.distplot(total_conc[column], kde=False)\n",
    "plt.legend(list(total_conc))\n",
    "plt.title('Total Concentration at Stages')\n",
    "plt.xlabel('Concentration')\n",
    "plt.ylabel('Amount')\n",
    "fig.show()"
   ]
  },
  {
   "cell_type": "markdown",
   "metadata": {},
   "source": [
    "The final output concentration is significantly higher than the rest of the concentrations throughout the process. There is also fair overlap, but the input stage has a lower value of concentration than the rest of the process."
   ]
  },
  {
   "cell_type": "markdown",
   "metadata": {},
   "source": [
    "<div class=\"alert alert-danger\">\n",
    "<s><b>Reviewer's comment</b>\n",
    "\n",
    "Great, you calculated the total concentrations and plotted them. What conclusions can we make? Are there any abnormal values?\n",
    "\n",
    "</div>"
   ]
  },
  {
   "cell_type": "markdown",
   "metadata": {},
   "source": [
    "<div class=\"alert alert-success\">\n",
    "<b>Reviewer's comment V2</b>\n",
    "\n",
    "Ok!\n",
    "\n",
    "</div>"
   ]
  },
  {
   "cell_type": "markdown",
   "metadata": {},
   "source": [
    "## Build the model"
   ]
  },
  {
   "cell_type": "markdown",
   "metadata": {},
   "source": [
    "### Write a function to calculate the final sMAPE value"
   ]
  },
  {
   "cell_type": "code",
   "execution_count": 25,
   "metadata": {},
   "outputs": [],
   "source": [
    "# sMAPE defs\n",
    "def smape(y_true, y_pred):\n",
    "    return (np.abs(y_true - y_pred)/((np.abs(y_true)+np.abs(y_pred))/2)).mean()\n",
    "\n",
    "def smape_final(y_true,y_pred):\n",
    "    smape_out_rougher = smape(y_true[:,1],y_pred[:,1])\n",
    "    smape_out_final = smape(y_true[:,0],y_pred[:,0])\n",
    "    return 0.25*smape_out_rougher + 0.75*smape_out_final"
   ]
  },
  {
   "cell_type": "markdown",
   "metadata": {},
   "source": [
    "<div class=\"alert alert-danger\">\n",
    "<s><b>Reviewer's comment</b>\n",
    "\n",
    "The functions for SMAPE calculation are correct, assuming that `final.output.concentrate` is the first target column, and `rougher.output.concentrate` is the second target column, but you actually used a different order:\n",
    "    \n",
    "```python\n",
    "target_train = df_train[['rougher.output.recovery', 'final.output.recovery']]\n",
    "target_test = df_test[['rougher.output.recovery', 'final.output.recovery']]\n",
    "```\n",
    "\n",
    "</div>"
   ]
  },
  {
   "cell_type": "markdown",
   "metadata": {},
   "source": [
    "<div class=\"alert alert-success\">\n",
    "<b>Reviewer's comment V2</b>\n",
    "\n",
    "Fixed!\n",
    "\n",
    "</div>"
   ]
  },
  {
   "cell_type": "markdown",
   "metadata": {},
   "source": [
    "### Train different models. Evaluate them using cross-validation. Pick the best model and test it using the test sample"
   ]
  },
  {
   "cell_type": "code",
   "execution_count": 26,
   "metadata": {},
   "outputs": [],
   "source": [
    "# Defining out raw, rough, and final concentration columns for the train set\n",
    "df_train['rougher.input.feed'] = raw_feed(df_train)\n",
    "df_train['rougher.output.concentrate'] = rougher_conc(df_train)\n",
    "df_train['final.output.concentrate'] = final_conc(df_train)\n",
    "\n",
    "# Dropping outliers in our new concentration columns\n",
    "df_train = df_train[(df_train['rougher.input.feed'] > 20) & (df_train['rougher.output.concentrate'] > 20) & \n",
    "                      (df_train['final.output.concentrate'] > 20)]\n",
    "\n",
    "# Defining out raw, rough, and final concentration columns for the test set\n",
    "df_test['rougher.input.feed'] = raw_feed(df_test)\n",
    "df_test['rougher.output.concentrate'] = rougher_conc(df_test)\n",
    "df_test['final.output.concentrate'] = final_conc(df_test)\n",
    "\n",
    "# Dropping outliers in our new concentration columns\n",
    "df_test = df_test[(df_test['rougher.input.feed'] > 20) & \n",
    "                  (df_test['rougher.output.concentrate'] > 20) & (df_test['final.output.concentrate'] > 20)]"
   ]
  },
  {
   "cell_type": "markdown",
   "metadata": {},
   "source": [
    "<div class=\"alert alert-success\">\n",
    "<b>Reviewer's comment</b>\n",
    "\n",
    "Great, only the original test set columns are used!\n",
    "\n",
    "</div>"
   ]
  },
  {
   "cell_type": "code",
   "execution_count": 27,
   "metadata": {},
   "outputs": [],
   "source": [
    "# Defining our random state value for our models\n",
    "state = np.random.RandomState(12345)"
   ]
  },
  {
   "cell_type": "code",
   "execution_count": 28,
   "metadata": {},
   "outputs": [],
   "source": [
    "# Defining variables for our function and ML model\n",
    "features_train = pd.DataFrame(df_train.drop(columns=['final.output.concentrate', 'rougher.output.concentrate'], axis=1))\n",
    "target_train = pd.DataFrame(df_train[['final.output.concentrate', 'rougher.output.concentrate']])\n",
    "\n",
    "features_test = df_test.drop(columns=['final.output.concentrate', 'rougher.output.concentrate'], axis=1)\n",
    "target_test = df_test[['final.output.concentrate', 'rougher.output.concentrate']]"
   ]
  },
  {
   "cell_type": "code",
   "execution_count": 29,
   "metadata": {},
   "outputs": [],
   "source": [
    "# Fixing our column differences so there aren't any errors\n",
    "features_train = features_train.drop(features_train.columns.difference(features_test.columns), axis=1)"
   ]
  },
  {
   "cell_type": "code",
   "execution_count": 30,
   "metadata": {},
   "outputs": [],
   "source": [
    "# Scaling our features\n",
    "feature_scaler = StandardScaler()\n",
    "features_train = pd.DataFrame(feature_scaler.fit_transform(features_train))\n",
    "features_test = pd.DataFrame(feature_scaler.fit_transform(features_test))"
   ]
  },
  {
   "cell_type": "markdown",
   "metadata": {},
   "source": [
    "<div class=\"alert alert-danger\">\n",
    "<s><b>Reviewer's comment</b>\n",
    "\n",
    "Scaling is used incorrectly: it is only applied to the train set. But the test set now has different scales, which the model is not trained to deal with. The correct approach is to transform the test set with the same scaler that was fit using the train set.\n",
    "\n",
    "</div>"
   ]
  },
  {
   "cell_type": "markdown",
   "metadata": {},
   "source": [
    "<div class=\"alert alert-warning\">\n",
    "<b>Reviewer's comment V2</b>\n",
    "\n",
    "Using `fit_transform` for both train and test may also produce differently scaled features if we're unlucky. The correct way is to fit one scaler using the train set and then use it to transform both train and test\n",
    "\n",
    "</div>"
   ]
  },
  {
   "cell_type": "code",
   "execution_count": 31,
   "metadata": {},
   "outputs": [],
   "source": [
    "# sMAPE scorer scoring\n",
    "smape_scorer = make_scorer(smape_final, greater_is_better=False)"
   ]
  },
  {
   "cell_type": "code",
   "execution_count": 32,
   "metadata": {},
   "outputs": [
    {
     "name": "stdout",
     "output_type": "stream",
     "text": [
      "Decision Tree\n",
      "max_depth = 1\n",
      "Smape Final: 0.05002260198953982\n",
      "\n",
      "max_depth = 2\n",
      "Smape Final: 0.04404989887312736\n",
      "\n",
      "max_depth = 3\n",
      "Smape Final: 0.04195081631589698\n",
      "\n",
      "max_depth = 4\n",
      "Smape Final: 0.036001257933311416\n",
      "\n",
      "max_depth = 5\n",
      "Smape Final: 0.03320504869718174\n",
      "\n",
      "max_depth = 6\n",
      "Smape Final: 0.030561234171752046\n",
      "\n",
      "max_depth = 7\n",
      "Smape Final: 0.02948925511932715\n",
      "\n",
      "max_depth = 8\n",
      "Smape Final: 0.02963518673311555\n",
      "\n",
      "max_depth = 9\n",
      "Smape Final: 0.030003193872329973\n",
      "\n"
     ]
    }
   ],
   "source": [
    "# Testing sMAPE with Decision Tree Regressor\n",
    "print(\"Decision Tree\")\n",
    "for depth in range(1, 10, 1):\n",
    "    model = DecisionTreeRegressor(max_depth=depth, random_state=state)\n",
    "    model.fit(features_train, target_train)\n",
    "    preds = model.predict(features_test)\n",
    "    score = np.mean(np.abs(cross_val_score(model, features_train.values, target_train.values, scoring=smape_scorer)))\n",
    "    print(\"max_depth =\", depth)\n",
    "    print(\"Smape Final:\", score)\n",
    "    print()"
   ]
  },
  {
   "cell_type": "code",
   "execution_count": 33,
   "metadata": {},
   "outputs": [
    {
     "name": "stdout",
     "output_type": "stream",
     "text": [
      "Random Forest\n",
      "n_estimators = 1\n",
      "Smape Final: 0.033965005576608816\n",
      "\n",
      "n_estimators = 2\n",
      "Smape Final: 0.027492281091749674\n",
      "\n",
      "n_estimators = 3\n",
      "Smape Final: 0.026604398875146356\n",
      "\n",
      "n_estimators = 4\n",
      "Smape Final: 0.025444042782559406\n",
      "\n",
      "n_estimators = 5\n",
      "Smape Final: 0.024184304188432707\n",
      "\n",
      "n_estimators = 6\n",
      "Smape Final: 0.023962701060353125\n",
      "\n",
      "n_estimators = 7\n",
      "Smape Final: 0.02359178061509488\n",
      "\n",
      "n_estimators = 8\n",
      "Smape Final: 0.02352163178483258\n",
      "\n",
      "n_estimators = 9\n",
      "Smape Final: 0.02292795251005515\n",
      "\n"
     ]
    }
   ],
   "source": [
    "# Testing sMAPE with Random Forest Regressor\n",
    "print(\"Random Forest\")\n",
    "for estim in range(1, 10, 1):\n",
    "    model = RandomForestRegressor(n_estimators=estim, random_state=state)\n",
    "    model.fit(features_train, target_train)\n",
    "    preds = model.predict(features_test)\n",
    "    score = np.mean(np.abs(cross_val_score(model, features_train.values, target_train.values, scoring=smape_scorer)))\n",
    "    print(\"n_estimators =\", estim)\n",
    "    print(\"Smape Final:\", score)\n",
    "    print()"
   ]
  },
  {
   "cell_type": "code",
   "execution_count": 34,
   "metadata": {},
   "outputs": [
    {
     "name": "stdout",
     "output_type": "stream",
     "text": [
      "Linear Regression\n",
      "Smape Final: 6.696318459945104e-15\n"
     ]
    }
   ],
   "source": [
    "# Testing sMAPE with linear Regression\n",
    "print(\"Linear Regression\")\n",
    "model = LinearRegression()\n",
    "model.fit(features_train, target_train)\n",
    "score = np.mean(np.abs(cross_val_score(model, features_train.values, target_train.values, scoring=smape_scorer)))\n",
    "print(\"Smape Final:\", score)"
   ]
  },
  {
   "cell_type": "markdown",
   "metadata": {},
   "source": [
    "<div class=\"alert alert-danger\">\n",
    "<s><b>Reviewer's comment</b>\n",
    "\n",
    "Using the test set for hyperparameter tuning is problematic because it leads to an overly optimistic test set score. To avoid that, hyperparameters should be tuned either using a separate validation set or cross-validation. The second option is suggested to use in this project by the task description. Luckily, it's easy to change your code to fix this problem: just replace the evaluation on the test set by calling `cross_val_score` on the train set. It's easy to use our custom SMAPE scoring by making a scorer using [make_scorer](https://scikit-learn.org/stable/modules/generated/sklearn.metrics.make_scorer.html) and passing it as `scoring parameter to `cross_val_score` like this:\n",
    "    \n",
    "```python\n",
    "smape_scorer = make_scorer(smape_final, greater_is_better=False)\n",
    "score = np.mean(np.abs(cross_val_score(model, features_train, target_train, scoring=smape_scorer))\n",
    "```\n",
    "  \n",
    "The `greater_is_better=False` is used to comply with scikit-learn convention that greater values of a scoring function are better, and as such functions like `GridSearchCV` always maximize the score. This assumption is wrong for error functions like MSE, MAE or SMAPE, so the function is multiplied by -1: maximizing `-f` is the same thing as minimizing `f`.\n",
    "    \n",
    "Last reminder: make sure to evaluate the final model on the test set (after hyperparameter tuning using cross-validation on the train set is finished) to get an unbiased estimate of the model's generalization performance\n",
    "\n",
    "</div>"
   ]
  },
  {
   "cell_type": "markdown",
   "metadata": {},
   "source": [
    "<div class=\"alert alert-success\">\n",
    "<b>Reviewer's comment V2</b>\n",
    "\n",
    "Fixed!\n",
    "\n",
    "</div>"
   ]
  },
  {
   "cell_type": "code",
   "execution_count": 35,
   "metadata": {},
   "outputs": [
    {
     "name": "stdout",
     "output_type": "stream",
     "text": [
      "Constant Model sMAPE: 0.057086279367055445\n"
     ]
    }
   ],
   "source": [
    "# Testing a constant sMAPE\n",
    "constant_model_mean = target_train.mean()\n",
    "constant_model_test = pd.DataFrame(index=range(len(target_test)),columns=[\"rougher.output.recovery\", \"final.output.recovery\"])\n",
    "constant_model_test[\"rougher.output.recovery\"] = constant_model_mean[0]\n",
    "constant_model_test[\"final.output.recovery\"] = constant_model_mean[1]\n",
    "constant_smape = smape_final(constant_model_test.values, target_test.values)\n",
    "print(\"Constant Model sMAPE:\", constant_smape)"
   ]
  },
  {
   "cell_type": "code",
   "execution_count": 36,
   "metadata": {},
   "outputs": [
    {
     "name": "stdout",
     "output_type": "stream",
     "text": [
      "Final Model sMAPE: 0.05002260198953971\n",
      "Final Model sMAPE: 0.048514167058621806\n"
     ]
    }
   ],
   "source": [
    "# Final model using test set\n",
    "model = DecisionTreeRegressor(max_depth=1, random_state=state)\n",
    "model.fit(features_test, target_test)\n",
    "\n",
    "score = np.mean(np.abs(cross_val_score(model, features_train.values, target_train.values, scoring=smape_scorer)))\n",
    "print(\"Final Model sMAPE:\", score)\n",
    "\n",
    "score = np.mean(np.abs(cross_val_score(model, features_test.values, target_test.values, scoring=smape_scorer)))\n",
    "print(\"Final Model sMAPE:\", score)\n",
    "\n",
    "## Wasn't sure which one you were saying I need to use"
   ]
  },
  {
   "cell_type": "markdown",
   "metadata": {},
   "source": [
    "<div class=\"alert alert-success\">\n",
    "<b>Reviewer's comment</b>\n",
    "\n",
    "It's great that you have a simple baseline!\n",
    "\n",
    "</div>"
   ]
  },
  {
   "cell_type": "markdown",
   "metadata": {},
   "source": [
    "An sMAPE for Decision Tree Regressor with a depth of 1 is our best model for a high sMAPE, however it still manages to underpreform a constant sMAPE."
   ]
  },
  {
   "cell_type": "code",
   "execution_count": null,
   "metadata": {},
   "outputs": [],
   "source": []
  }
 ],
 "metadata": {
  "ExecuteTimeLog": [
   {
    "duration": 2982,
    "start_time": "2021-12-21T07:12:44.422Z"
   },
   {
    "duration": 76,
    "start_time": "2021-12-21T07:12:59.226Z"
   },
   {
    "duration": 2074,
    "start_time": "2021-12-21T07:13:03.409Z"
   },
   {
    "duration": 266,
    "start_time": "2021-12-21T07:13:09.257Z"
   },
   {
    "duration": 52,
    "start_time": "2021-12-21T07:13:11.587Z"
   },
   {
    "duration": 2483,
    "start_time": "2021-12-22T05:04:45.961Z"
   },
   {
    "duration": 1033,
    "start_time": "2021-12-22T05:04:56.807Z"
   },
   {
    "duration": 51,
    "start_time": "2021-12-22T05:09:57.967Z"
   },
   {
    "duration": 59,
    "start_time": "2021-12-22T05:10:06.867Z"
   },
   {
    "duration": 20,
    "start_time": "2021-12-22T05:10:37.077Z"
   },
   {
    "duration": 30,
    "start_time": "2021-12-22T05:10:41.923Z"
   },
   {
    "duration": 25,
    "start_time": "2021-12-22T05:11:20.141Z"
   },
   {
    "duration": 25,
    "start_time": "2021-12-22T05:11:24.564Z"
   },
   {
    "duration": 25,
    "start_time": "2021-12-22T05:11:26.697Z"
   },
   {
    "duration": 22,
    "start_time": "2021-12-22T05:11:30.473Z"
   },
   {
    "duration": 41,
    "start_time": "2021-12-22T05:11:39.109Z"
   },
   {
    "duration": 29,
    "start_time": "2021-12-22T05:11:42.433Z"
   },
   {
    "duration": 457,
    "start_time": "2021-12-22T05:12:14.628Z"
   },
   {
    "duration": 1082,
    "start_time": "2021-12-22T05:12:20.433Z"
   },
   {
    "duration": 1786,
    "start_time": "2021-12-22T05:12:28.159Z"
   },
   {
    "duration": 30,
    "start_time": "2021-12-22T05:12:29.948Z"
   },
   {
    "duration": 40,
    "start_time": "2021-12-22T05:12:29.981Z"
   },
   {
    "duration": 46,
    "start_time": "2021-12-22T05:12:30.024Z"
   },
   {
    "duration": 32,
    "start_time": "2021-12-22T05:12:30.072Z"
   },
   {
    "duration": 58,
    "start_time": "2021-12-22T05:12:30.106Z"
   },
   {
    "duration": 454,
    "start_time": "2021-12-22T05:12:30.167Z"
   },
   {
    "duration": 24,
    "start_time": "2021-12-22T05:12:40.223Z"
   },
   {
    "duration": 30,
    "start_time": "2021-12-22T05:12:45.138Z"
   },
   {
    "duration": 365,
    "start_time": "2021-12-22T05:26:21.580Z"
   },
   {
    "duration": 365,
    "start_time": "2021-12-22T05:26:39.214Z"
   },
   {
    "duration": 364,
    "start_time": "2021-12-22T05:26:45.986Z"
   },
   {
    "duration": 1154,
    "start_time": "2021-12-22T05:26:57.592Z"
   },
   {
    "duration": 361,
    "start_time": "2021-12-22T05:27:24.705Z"
   },
   {
    "duration": 365,
    "start_time": "2021-12-22T05:28:51.537Z"
   },
   {
    "duration": 218,
    "start_time": "2021-12-22T05:30:05.352Z"
   },
   {
    "duration": 38,
    "start_time": "2021-12-22T05:30:34.751Z"
   },
   {
    "duration": 14,
    "start_time": "2021-12-22T05:30:39.208Z"
   },
   {
    "duration": 17,
    "start_time": "2021-12-22T05:30:59.799Z"
   },
   {
    "duration": 591,
    "start_time": "2021-12-22T05:32:04.270Z"
   },
   {
    "duration": 503,
    "start_time": "2021-12-22T05:32:33.221Z"
   },
   {
    "duration": 566,
    "start_time": "2021-12-22T05:32:47.998Z"
   },
   {
    "duration": 399,
    "start_time": "2021-12-22T05:32:51.897Z"
   },
   {
    "duration": 357,
    "start_time": "2021-12-22T05:33:08.798Z"
   },
   {
    "duration": 67258,
    "start_time": "2021-12-22T05:34:39.034Z"
   },
   {
    "duration": 40,
    "start_time": "2021-12-22T05:36:03.324Z"
   },
   {
    "duration": 376,
    "start_time": "2021-12-22T05:38:40.876Z"
   },
   {
    "duration": 17,
    "start_time": "2021-12-22T05:39:18.880Z"
   },
   {
    "duration": 39,
    "start_time": "2021-12-22T05:39:28.017Z"
   },
   {
    "duration": 21,
    "start_time": "2021-12-22T05:39:38.040Z"
   },
   {
    "duration": 41,
    "start_time": "2021-12-22T05:39:58.298Z"
   },
   {
    "duration": 651,
    "start_time": "2021-12-22T05:41:40.940Z"
   },
   {
    "duration": 52910,
    "start_time": "2021-12-22T05:41:50.713Z"
   },
   {
    "duration": 37,
    "start_time": "2021-12-22T05:43:25.455Z"
   },
   {
    "duration": 1801,
    "start_time": "2021-12-22T05:43:38.294Z"
   },
   {
    "duration": 26,
    "start_time": "2021-12-22T05:43:40.098Z"
   },
   {
    "duration": 53,
    "start_time": "2021-12-22T05:43:40.127Z"
   },
   {
    "duration": 17,
    "start_time": "2021-12-22T05:43:40.184Z"
   },
   {
    "duration": 61,
    "start_time": "2021-12-22T05:43:40.205Z"
   },
   {
    "duration": 27,
    "start_time": "2021-12-22T05:43:40.269Z"
   },
   {
    "duration": 23,
    "start_time": "2021-12-22T05:43:40.299Z"
   },
   {
    "duration": 33,
    "start_time": "2021-12-22T05:43:40.359Z"
   },
   {
    "duration": 22,
    "start_time": "2021-12-22T05:43:40.395Z"
   },
   {
    "duration": 397,
    "start_time": "2021-12-22T05:43:40.419Z"
   },
   {
    "duration": 222,
    "start_time": "2021-12-22T05:43:40.819Z"
   },
   {
    "duration": 67667,
    "start_time": "2021-12-22T05:43:41.044Z"
   },
   {
    "duration": 51,
    "start_time": "2021-12-22T05:44:48.713Z"
   },
   {
    "duration": 397,
    "start_time": "2021-12-22T05:47:44.701Z"
   },
   {
    "duration": 138,
    "start_time": "2021-12-22T05:49:37.004Z"
   },
   {
    "duration": 357,
    "start_time": "2021-12-22T05:49:45.538Z"
   },
   {
    "duration": 342,
    "start_time": "2021-12-22T05:49:52.586Z"
   },
   {
    "duration": 332,
    "start_time": "2021-12-22T05:50:03.294Z"
   },
   {
    "duration": 333,
    "start_time": "2021-12-22T05:51:50.381Z"
   },
   {
    "duration": -1624,
    "start_time": "2021-12-22T05:52:26.336Z"
   },
   {
    "duration": 10369,
    "start_time": "2021-12-22T05:52:26.181Z"
   },
   {
    "duration": 721,
    "start_time": "2021-12-22T05:52:41.373Z"
   },
   {
    "duration": 355,
    "start_time": "2021-12-22T05:52:49.021Z"
   },
   {
    "duration": 358,
    "start_time": "2021-12-22T05:54:21.532Z"
   },
   {
    "duration": 205,
    "start_time": "2021-12-22T05:54:26.324Z"
   },
   {
    "duration": 332,
    "start_time": "2021-12-22T05:55:15.292Z"
   },
   {
    "duration": 346,
    "start_time": "2021-12-22T05:55:26.566Z"
   },
   {
    "duration": 16,
    "start_time": "2021-12-22T06:04:44.314Z"
   },
   {
    "duration": 381,
    "start_time": "2021-12-22T06:06:30.852Z"
   },
   {
    "duration": 1553,
    "start_time": "2021-12-22T06:08:46.239Z"
   },
   {
    "duration": 460,
    "start_time": "2021-12-22T06:08:53.849Z"
   },
   {
    "duration": 389,
    "start_time": "2021-12-22T06:09:17.553Z"
   },
   {
    "duration": 121,
    "start_time": "2021-12-22T06:11:09.823Z"
   },
   {
    "duration": 11,
    "start_time": "2021-12-22T06:11:13.902Z"
   },
   {
    "duration": 12,
    "start_time": "2021-12-22T06:12:40.343Z"
   },
   {
    "duration": 12,
    "start_time": "2021-12-22T06:12:52.610Z"
   },
   {
    "duration": 12,
    "start_time": "2021-12-22T06:13:38.144Z"
   },
   {
    "duration": 10,
    "start_time": "2021-12-22T06:14:03.372Z"
   },
   {
    "duration": 10,
    "start_time": "2021-12-22T06:14:21.853Z"
   },
   {
    "duration": 10,
    "start_time": "2021-12-22T06:18:00.109Z"
   },
   {
    "duration": 400,
    "start_time": "2021-12-22T06:19:02.031Z"
   },
   {
    "duration": 10,
    "start_time": "2021-12-22T06:23:05.998Z"
   },
   {
    "duration": 68,
    "start_time": "2021-12-22T06:26:11.263Z"
   },
   {
    "duration": 38,
    "start_time": "2021-12-22T06:26:21.745Z"
   },
   {
    "duration": 60,
    "start_time": "2021-12-22T06:27:14.605Z"
   },
   {
    "duration": 44,
    "start_time": "2021-12-22T06:27:34.927Z"
   },
   {
    "duration": 12,
    "start_time": "2021-12-22T06:28:16.235Z"
   },
   {
    "duration": 592,
    "start_time": "2021-12-22T06:33:47.705Z"
   },
   {
    "duration": 3,
    "start_time": "2021-12-22T06:34:34.774Z"
   },
   {
    "duration": 615,
    "start_time": "2021-12-22T06:36:29.783Z"
   },
   {
    "duration": 700,
    "start_time": "2021-12-22T06:36:46.124Z"
   },
   {
    "duration": 7,
    "start_time": "2021-12-22T06:51:40.249Z"
   },
   {
    "duration": 797,
    "start_time": "2021-12-22T07:03:08.623Z"
   },
   {
    "duration": 8370,
    "start_time": "2021-12-22T07:07:26.729Z"
   },
   {
    "duration": 380,
    "start_time": "2021-12-23T04:59:26.830Z"
   },
   {
    "duration": 8085,
    "start_time": "2021-12-23T04:59:34.918Z"
   },
   {
    "duration": 43,
    "start_time": "2021-12-23T04:59:43.006Z"
   },
   {
    "duration": 30,
    "start_time": "2021-12-23T04:59:43.064Z"
   },
   {
    "duration": 30,
    "start_time": "2021-12-23T04:59:43.097Z"
   },
   {
    "duration": 44,
    "start_time": "2021-12-23T04:59:43.129Z"
   },
   {
    "duration": 24,
    "start_time": "2021-12-23T04:59:43.175Z"
   },
   {
    "duration": 25,
    "start_time": "2021-12-23T04:59:43.202Z"
   },
   {
    "duration": 31,
    "start_time": "2021-12-23T04:59:43.265Z"
   },
   {
    "duration": 7,
    "start_time": "2021-12-23T04:59:43.298Z"
   },
   {
    "duration": 40,
    "start_time": "2021-12-23T04:59:43.308Z"
   },
   {
    "duration": 23,
    "start_time": "2021-12-23T04:59:43.363Z"
   },
   {
    "duration": 402,
    "start_time": "2021-12-23T04:59:43.389Z"
   },
   {
    "duration": 224,
    "start_time": "2021-12-23T04:59:43.795Z"
   },
   {
    "duration": 69687,
    "start_time": "2021-12-23T04:59:44.021Z"
   },
   {
    "duration": 53490,
    "start_time": "2021-12-23T05:00:53.711Z"
   },
   {
    "duration": 980,
    "start_time": "2021-12-23T05:01:47.203Z"
   },
   {
    "duration": 109,
    "start_time": "2021-12-23T05:02:01.803Z"
   },
   {
    "duration": 99,
    "start_time": "2021-12-23T05:02:24.119Z"
   },
   {
    "duration": 417,
    "start_time": "2021-12-23T05:05:39.594Z"
   },
   {
    "duration": 2346,
    "start_time": "2021-12-23T05:05:49.583Z"
   },
   {
    "duration": 46,
    "start_time": "2021-12-23T05:05:51.932Z"
   },
   {
    "duration": 30,
    "start_time": "2021-12-23T05:05:51.982Z"
   },
   {
    "duration": 53,
    "start_time": "2021-12-23T05:05:52.016Z"
   },
   {
    "duration": 15,
    "start_time": "2021-12-23T05:05:52.072Z"
   },
   {
    "duration": 23,
    "start_time": "2021-12-23T05:05:52.090Z"
   },
   {
    "duration": 57,
    "start_time": "2021-12-23T05:05:52.116Z"
   },
   {
    "duration": 16,
    "start_time": "2021-12-23T05:05:52.177Z"
   },
   {
    "duration": 7,
    "start_time": "2021-12-23T05:05:52.195Z"
   },
   {
    "duration": 72,
    "start_time": "2021-12-23T05:05:52.205Z"
   },
   {
    "duration": 22,
    "start_time": "2021-12-23T05:05:52.279Z"
   },
   {
    "duration": 390,
    "start_time": "2021-12-23T05:05:52.304Z"
   },
   {
    "duration": 215,
    "start_time": "2021-12-23T05:05:52.696Z"
   },
   {
    "duration": 98,
    "start_time": "2021-12-23T05:05:52.913Z"
   },
   {
    "duration": 231,
    "start_time": "2021-12-23T05:05:52.782Z"
   },
   {
    "duration": 144,
    "start_time": "2021-12-23T05:05:52.871Z"
   },
   {
    "duration": 143,
    "start_time": "2021-12-23T05:05:52.873Z"
   },
   {
    "duration": 19,
    "start_time": "2021-12-23T05:08:16.615Z"
   },
   {
    "duration": 440,
    "start_time": "2021-12-23T05:08:19.295Z"
   },
   {
    "duration": 317,
    "start_time": "2021-12-23T05:09:24.822Z"
   },
   {
    "duration": 289,
    "start_time": "2021-12-23T05:09:30.481Z"
   },
   {
    "duration": 2428,
    "start_time": "2021-12-23T05:09:41.581Z"
   },
   {
    "duration": 66,
    "start_time": "2021-12-23T05:09:44.012Z"
   },
   {
    "duration": 40,
    "start_time": "2021-12-23T05:09:44.082Z"
   },
   {
    "duration": 62,
    "start_time": "2021-12-23T05:09:44.125Z"
   },
   {
    "duration": 17,
    "start_time": "2021-12-23T05:09:44.189Z"
   },
   {
    "duration": 64,
    "start_time": "2021-12-23T05:09:44.210Z"
   },
   {
    "duration": 25,
    "start_time": "2021-12-23T05:09:44.277Z"
   },
   {
    "duration": 16,
    "start_time": "2021-12-23T05:09:44.306Z"
   },
   {
    "duration": 7,
    "start_time": "2021-12-23T05:09:44.324Z"
   },
   {
    "duration": 21,
    "start_time": "2021-12-23T05:09:44.364Z"
   },
   {
    "duration": 402,
    "start_time": "2021-12-23T05:09:44.388Z"
   },
   {
    "duration": 215,
    "start_time": "2021-12-23T05:09:44.792Z"
   },
   {
    "duration": 29,
    "start_time": "2021-12-23T05:09:45.010Z"
   },
   {
    "duration": 39,
    "start_time": "2021-12-23T05:09:45.042Z"
   },
   {
    "duration": 18,
    "start_time": "2021-12-23T05:09:45.083Z"
   },
   {
    "duration": 435,
    "start_time": "2021-12-23T05:09:45.103Z"
   },
   {
    "duration": 70,
    "start_time": "2021-12-23T05:09:45.472Z"
   },
   {
    "duration": 286,
    "start_time": "2021-12-23T05:11:28.489Z"
   },
   {
    "duration": 2289,
    "start_time": "2021-12-23T05:11:34.918Z"
   },
   {
    "duration": 40,
    "start_time": "2021-12-23T05:11:37.209Z"
   },
   {
    "duration": 28,
    "start_time": "2021-12-23T05:11:37.263Z"
   },
   {
    "duration": 30,
    "start_time": "2021-12-23T05:11:37.294Z"
   },
   {
    "duration": 41,
    "start_time": "2021-12-23T05:11:37.327Z"
   },
   {
    "duration": 23,
    "start_time": "2021-12-23T05:11:37.371Z"
   },
   {
    "duration": 24,
    "start_time": "2021-12-23T05:11:37.397Z"
   },
   {
    "duration": 49,
    "start_time": "2021-12-23T05:11:37.425Z"
   },
   {
    "duration": 6,
    "start_time": "2021-12-23T05:11:37.477Z"
   },
   {
    "duration": 21,
    "start_time": "2021-12-23T05:11:37.486Z"
   },
   {
    "duration": 397,
    "start_time": "2021-12-23T05:11:37.510Z"
   },
   {
    "duration": 213,
    "start_time": "2021-12-23T05:11:37.909Z"
   },
   {
    "duration": 38,
    "start_time": "2021-12-23T05:11:38.124Z"
   },
   {
    "duration": 37,
    "start_time": "2021-12-23T05:11:38.165Z"
   },
   {
    "duration": 25,
    "start_time": "2021-12-23T05:11:38.204Z"
   },
   {
    "duration": 31,
    "start_time": "2021-12-23T05:11:38.232Z"
   },
   {
    "duration": 417,
    "start_time": "2021-12-23T05:11:38.265Z"
   },
   {
    "duration": 1653,
    "start_time": "2021-12-23T05:13:14.689Z"
   },
   {
    "duration": 1206,
    "start_time": "2021-12-23T05:13:19.966Z"
   },
   {
    "duration": 1180,
    "start_time": "2021-12-23T05:14:15.550Z"
   },
   {
    "duration": 1270,
    "start_time": "2021-12-23T05:14:29.073Z"
   },
   {
    "duration": 2852,
    "start_time": "2021-12-23T05:14:34.199Z"
   },
   {
    "duration": 1263,
    "start_time": "2021-12-23T05:18:25.076Z"
   },
   {
    "duration": 1544,
    "start_time": "2021-12-23T05:18:31.738Z"
   },
   {
    "duration": 4,
    "start_time": "2021-12-23T05:19:23.677Z"
   },
   {
    "duration": 4,
    "start_time": "2021-12-23T05:19:31.621Z"
   },
   {
    "duration": 4,
    "start_time": "2021-12-23T05:19:40.994Z"
   },
   {
    "duration": 296,
    "start_time": "2021-12-23T05:19:50.255Z"
   },
   {
    "duration": 102,
    "start_time": "2021-12-23T05:20:16.165Z"
   },
   {
    "duration": 3,
    "start_time": "2021-12-23T05:20:27.974Z"
   },
   {
    "duration": 23,
    "start_time": "2021-12-23T05:21:41.611Z"
   },
   {
    "duration": 2725,
    "start_time": "2021-12-23T05:21:57.045Z"
   },
   {
    "duration": 9,
    "start_time": "2021-12-23T05:22:15.615Z"
   },
   {
    "duration": 580,
    "start_time": "2021-12-23T05:23:17.674Z"
   },
   {
    "duration": 2481,
    "start_time": "2021-12-23T05:23:46.163Z"
   },
   {
    "duration": 41,
    "start_time": "2021-12-23T05:23:48.648Z"
   },
   {
    "duration": 31,
    "start_time": "2021-12-23T05:23:48.693Z"
   },
   {
    "duration": 59,
    "start_time": "2021-12-23T05:23:48.728Z"
   },
   {
    "duration": 15,
    "start_time": "2021-12-23T05:23:48.790Z"
   },
   {
    "duration": 24,
    "start_time": "2021-12-23T05:23:48.807Z"
   },
   {
    "duration": 48,
    "start_time": "2021-12-23T05:23:48.834Z"
   },
   {
    "duration": 15,
    "start_time": "2021-12-23T05:23:48.886Z"
   },
   {
    "duration": 6,
    "start_time": "2021-12-23T05:23:48.904Z"
   },
   {
    "duration": 53,
    "start_time": "2021-12-23T05:23:48.912Z"
   },
   {
    "duration": 388,
    "start_time": "2021-12-23T05:23:48.968Z"
   },
   {
    "duration": 215,
    "start_time": "2021-12-23T05:23:49.358Z"
   },
   {
    "duration": 25,
    "start_time": "2021-12-23T05:23:49.576Z"
   },
   {
    "duration": 60,
    "start_time": "2021-12-23T05:23:49.603Z"
   },
   {
    "duration": 26,
    "start_time": "2021-12-23T05:23:49.666Z"
   },
   {
    "duration": 8,
    "start_time": "2021-12-23T05:23:49.695Z"
   },
   {
    "duration": 3046,
    "start_time": "2021-12-23T05:23:49.706Z"
   },
   {
    "duration": 8110,
    "start_time": "2021-12-23T05:23:52.755Z"
   },
   {
    "duration": 98,
    "start_time": "2021-12-23T05:24:00.770Z"
   },
   {
    "duration": 98,
    "start_time": "2021-12-23T05:24:00.771Z"
   },
   {
    "duration": 99,
    "start_time": "2021-12-23T05:24:00.772Z"
   },
   {
    "duration": 98,
    "start_time": "2021-12-23T05:24:00.774Z"
   },
   {
    "duration": 99,
    "start_time": "2021-12-23T05:24:00.774Z"
   },
   {
    "duration": 2581,
    "start_time": "2021-12-23T05:26:29.439Z"
   },
   {
    "duration": 46,
    "start_time": "2021-12-23T05:26:32.023Z"
   },
   {
    "duration": 30,
    "start_time": "2021-12-23T05:26:32.072Z"
   },
   {
    "duration": 58,
    "start_time": "2021-12-23T05:26:32.104Z"
   },
   {
    "duration": 16,
    "start_time": "2021-12-23T05:26:32.164Z"
   },
   {
    "duration": 35,
    "start_time": "2021-12-23T05:26:32.183Z"
   },
   {
    "duration": 73,
    "start_time": "2021-12-23T05:26:32.221Z"
   },
   {
    "duration": 19,
    "start_time": "2021-12-23T05:26:32.299Z"
   },
   {
    "duration": 7,
    "start_time": "2021-12-23T05:26:32.322Z"
   },
   {
    "duration": 61,
    "start_time": "2021-12-23T05:26:32.332Z"
   },
   {
    "duration": 543,
    "start_time": "2021-12-23T05:26:32.396Z"
   },
   {
    "duration": 220,
    "start_time": "2021-12-23T05:26:32.942Z"
   },
   {
    "duration": 29,
    "start_time": "2021-12-23T05:26:33.165Z"
   },
   {
    "duration": 20,
    "start_time": "2021-12-23T05:26:33.196Z"
   },
   {
    "duration": 54,
    "start_time": "2021-12-23T05:26:33.219Z"
   },
   {
    "duration": 10,
    "start_time": "2021-12-23T05:26:33.276Z"
   },
   {
    "duration": 2961,
    "start_time": "2021-12-23T05:26:33.288Z"
   },
   {
    "duration": 1454,
    "start_time": "2021-12-23T05:26:36.251Z"
   },
   {
    "duration": 5,
    "start_time": "2021-12-23T05:26:37.708Z"
   },
   {
    "duration": 7,
    "start_time": "2021-12-23T05:26:37.716Z"
   },
   {
    "duration": 37,
    "start_time": "2021-12-23T05:26:37.726Z"
   },
   {
    "duration": 30,
    "start_time": "2021-12-23T05:26:37.765Z"
   },
   {
    "duration": 925,
    "start_time": "2021-12-23T05:26:37.801Z"
   },
   {
    "duration": 6,
    "start_time": "2021-12-23T05:29:14.976Z"
   },
   {
    "duration": 455,
    "start_time": "2021-12-23T05:29:23.857Z"
   },
   {
    "duration": 1125,
    "start_time": "2021-12-23T05:29:43.144Z"
   },
   {
    "duration": 4,
    "start_time": "2021-12-23T05:29:48.097Z"
   },
   {
    "duration": 6,
    "start_time": "2021-12-23T05:30:04.011Z"
   },
   {
    "duration": 1010,
    "start_time": "2021-12-23T05:30:49.296Z"
   },
   {
    "duration": 11,
    "start_time": "2021-12-23T05:32:23.377Z"
   },
   {
    "duration": 24,
    "start_time": "2021-12-23T05:33:30.001Z"
   },
   {
    "duration": 8116,
    "start_time": "2021-12-23T05:33:50.329Z"
   },
   {
    "duration": 2709,
    "start_time": "2021-12-23T05:36:56.622Z"
   },
   {
    "duration": 43,
    "start_time": "2021-12-23T05:36:59.334Z"
   },
   {
    "duration": 30,
    "start_time": "2021-12-23T05:36:59.380Z"
   },
   {
    "duration": 62,
    "start_time": "2021-12-23T05:36:59.413Z"
   },
   {
    "duration": 16,
    "start_time": "2021-12-23T05:36:59.478Z"
   },
   {
    "duration": 27,
    "start_time": "2021-12-23T05:36:59.496Z"
   },
   {
    "duration": 55,
    "start_time": "2021-12-23T05:36:59.525Z"
   },
   {
    "duration": 17,
    "start_time": "2021-12-23T05:36:59.583Z"
   },
   {
    "duration": 6,
    "start_time": "2021-12-23T05:36:59.603Z"
   },
   {
    "duration": 58,
    "start_time": "2021-12-23T05:36:59.611Z"
   },
   {
    "duration": 403,
    "start_time": "2021-12-23T05:36:59.671Z"
   },
   {
    "duration": 216,
    "start_time": "2021-12-23T05:37:00.077Z"
   },
   {
    "duration": 28,
    "start_time": "2021-12-23T05:37:00.295Z"
   },
   {
    "duration": 40,
    "start_time": "2021-12-23T05:37:00.326Z"
   },
   {
    "duration": 24,
    "start_time": "2021-12-23T05:37:00.369Z"
   },
   {
    "duration": 13,
    "start_time": "2021-12-23T05:37:00.396Z"
   },
   {
    "duration": 3014,
    "start_time": "2021-12-23T05:37:00.411Z"
   },
   {
    "duration": 1335,
    "start_time": "2021-12-23T05:37:03.427Z"
   },
   {
    "duration": 3,
    "start_time": "2021-12-23T05:37:04.765Z"
   },
   {
    "duration": 10,
    "start_time": "2021-12-23T05:37:04.771Z"
   },
   {
    "duration": 10,
    "start_time": "2021-12-23T05:37:04.783Z"
   },
   {
    "duration": 38,
    "start_time": "2021-12-23T05:37:04.795Z"
   },
   {
    "duration": 901,
    "start_time": "2021-12-23T05:37:04.838Z"
   },
   {
    "duration": 6,
    "start_time": "2021-12-23T05:37:05.742Z"
   },
   {
    "duration": 13,
    "start_time": "2021-12-23T05:37:05.750Z"
   },
   {
    "duration": 10,
    "start_time": "2021-12-23T05:37:05.765Z"
   },
   {
    "duration": 26,
    "start_time": "2021-12-23T05:37:05.778Z"
   },
   {
    "duration": 9,
    "start_time": "2021-12-23T05:37:05.806Z"
   },
   {
    "duration": 447,
    "start_time": "2021-12-23T05:37:05.818Z"
   },
   {
    "duration": 285,
    "start_time": "2021-12-23T05:37:05.982Z"
   },
   {
    "duration": 284,
    "start_time": "2021-12-23T05:37:05.985Z"
   },
   {
    "duration": 284,
    "start_time": "2021-12-23T05:37:05.986Z"
   },
   {
    "duration": 284,
    "start_time": "2021-12-23T05:37:05.987Z"
   },
   {
    "duration": 280,
    "start_time": "2021-12-23T05:37:05.992Z"
   },
   {
    "duration": 280,
    "start_time": "2021-12-23T05:37:05.994Z"
   },
   {
    "duration": 280,
    "start_time": "2021-12-23T05:37:05.995Z"
   },
   {
    "duration": 277,
    "start_time": "2021-12-23T05:37:05.999Z"
   },
   {
    "duration": 276,
    "start_time": "2021-12-23T05:37:06.001Z"
   },
   {
    "duration": 276,
    "start_time": "2021-12-23T05:37:06.003Z"
   },
   {
    "duration": 276,
    "start_time": "2021-12-23T05:37:06.004Z"
   },
   {
    "duration": 272,
    "start_time": "2021-12-23T05:37:06.009Z"
   },
   {
    "duration": 94,
    "start_time": "2021-12-23T05:38:04.049Z"
   },
   {
    "duration": 299,
    "start_time": "2021-12-23T05:38:12.060Z"
   },
   {
    "duration": 13,
    "start_time": "2021-12-23T05:38:20.307Z"
   },
   {
    "duration": 8,
    "start_time": "2021-12-23T05:38:35.367Z"
   },
   {
    "duration": 10,
    "start_time": "2021-12-23T05:38:48.080Z"
   },
   {
    "duration": 280,
    "start_time": "2021-12-23T05:38:52.087Z"
   },
   {
    "duration": 1081,
    "start_time": "2021-12-23T05:39:12.920Z"
   },
   {
    "duration": 20,
    "start_time": "2021-12-23T05:39:21.343Z"
   },
   {
    "duration": 1008,
    "start_time": "2021-12-23T05:39:35.151Z"
   },
   {
    "duration": 4,
    "start_time": "2021-12-23T05:41:39.860Z"
   },
   {
    "duration": 321,
    "start_time": "2021-12-23T05:41:59.762Z"
   },
   {
    "duration": 2560,
    "start_time": "2021-12-23T05:43:48.154Z"
   },
   {
    "duration": 34,
    "start_time": "2021-12-23T05:43:50.716Z"
   },
   {
    "duration": 28,
    "start_time": "2021-12-23T05:43:50.764Z"
   },
   {
    "duration": 29,
    "start_time": "2021-12-23T05:43:50.795Z"
   },
   {
    "duration": 44,
    "start_time": "2021-12-23T05:43:50.827Z"
   },
   {
    "duration": 23,
    "start_time": "2021-12-23T05:43:50.874Z"
   },
   {
    "duration": 25,
    "start_time": "2021-12-23T05:43:50.899Z"
   },
   {
    "duration": 47,
    "start_time": "2021-12-23T05:43:50.928Z"
   },
   {
    "duration": 6,
    "start_time": "2021-12-23T05:43:50.979Z"
   },
   {
    "duration": 21,
    "start_time": "2021-12-23T05:43:50.987Z"
   },
   {
    "duration": 398,
    "start_time": "2021-12-23T05:43:51.010Z"
   },
   {
    "duration": 238,
    "start_time": "2021-12-23T05:43:51.411Z"
   },
   {
    "duration": 31,
    "start_time": "2021-12-23T05:43:51.651Z"
   },
   {
    "duration": 19,
    "start_time": "2021-12-23T05:43:51.684Z"
   },
   {
    "duration": 24,
    "start_time": "2021-12-23T05:43:51.705Z"
   },
   {
    "duration": 34,
    "start_time": "2021-12-23T05:43:51.732Z"
   },
   {
    "duration": 2940,
    "start_time": "2021-12-23T05:43:51.768Z"
   },
   {
    "duration": 1353,
    "start_time": "2021-12-23T05:43:54.710Z"
   },
   {
    "duration": 4,
    "start_time": "2021-12-23T05:43:56.065Z"
   },
   {
    "duration": 6,
    "start_time": "2021-12-23T05:43:56.072Z"
   },
   {
    "duration": 5,
    "start_time": "2021-12-23T05:43:56.080Z"
   },
   {
    "duration": 30,
    "start_time": "2021-12-23T05:43:56.088Z"
   },
   {
    "duration": 931,
    "start_time": "2021-12-23T05:43:56.123Z"
   },
   {
    "duration": 10,
    "start_time": "2021-12-23T05:43:57.057Z"
   },
   {
    "duration": 5,
    "start_time": "2021-12-23T05:43:57.070Z"
   },
   {
    "duration": 13,
    "start_time": "2021-12-23T05:43:57.078Z"
   },
   {
    "duration": 27,
    "start_time": "2021-12-23T05:43:57.093Z"
   },
   {
    "duration": 46,
    "start_time": "2021-12-23T05:43:57.122Z"
   },
   {
    "duration": 33,
    "start_time": "2021-12-23T05:43:57.170Z"
   },
   {
    "duration": 8,
    "start_time": "2021-12-23T05:43:57.206Z"
   },
   {
    "duration": 12,
    "start_time": "2021-12-23T05:43:57.217Z"
   },
   {
    "duration": 34,
    "start_time": "2021-12-23T05:43:57.232Z"
   },
   {
    "duration": 3,
    "start_time": "2021-12-23T05:43:57.269Z"
   },
   {
    "duration": 26,
    "start_time": "2021-12-23T05:43:57.274Z"
   },
   {
    "duration": 22,
    "start_time": "2021-12-23T05:43:57.302Z"
   },
   {
    "duration": 3560,
    "start_time": "2021-12-23T05:43:57.326Z"
   },
   {
    "duration": -30,
    "start_time": "2021-12-23T05:44:00.919Z"
   },
   {
    "duration": -31,
    "start_time": "2021-12-23T05:44:00.921Z"
   },
   {
    "duration": -30,
    "start_time": "2021-12-23T05:44:00.922Z"
   },
   {
    "duration": -30,
    "start_time": "2021-12-23T05:44:00.923Z"
   },
   {
    "duration": -30,
    "start_time": "2021-12-23T05:44:00.925Z"
   },
   {
    "duration": 10,
    "start_time": "2021-12-23T05:46:54.053Z"
   },
   {
    "duration": 3250,
    "start_time": "2021-12-23T05:52:20.824Z"
   },
   {
    "duration": 3392,
    "start_time": "2021-12-23T05:52:59.523Z"
   },
   {
    "duration": 3349,
    "start_time": "2021-12-23T05:54:04.267Z"
   },
   {
    "duration": 3533,
    "start_time": "2021-12-23T05:56:18.342Z"
   },
   {
    "duration": 35,
    "start_time": "2021-12-23T05:56:21.878Z"
   },
   {
    "duration": 49,
    "start_time": "2021-12-23T05:56:21.916Z"
   },
   {
    "duration": 30,
    "start_time": "2021-12-23T05:56:21.968Z"
   },
   {
    "duration": 18,
    "start_time": "2021-12-23T05:56:22.002Z"
   },
   {
    "duration": 56,
    "start_time": "2021-12-23T05:56:22.023Z"
   },
   {
    "duration": 26,
    "start_time": "2021-12-23T05:56:22.082Z"
   },
   {
    "duration": 16,
    "start_time": "2021-12-23T05:56:22.112Z"
   },
   {
    "duration": 37,
    "start_time": "2021-12-23T05:56:22.131Z"
   },
   {
    "duration": 22,
    "start_time": "2021-12-23T05:56:22.170Z"
   },
   {
    "duration": 408,
    "start_time": "2021-12-23T05:56:22.195Z"
   },
   {
    "duration": 214,
    "start_time": "2021-12-23T05:56:22.606Z"
   },
   {
    "duration": 40,
    "start_time": "2021-12-23T05:56:22.823Z"
   },
   {
    "duration": 19,
    "start_time": "2021-12-23T05:56:22.865Z"
   },
   {
    "duration": 23,
    "start_time": "2021-12-23T05:56:22.887Z"
   },
   {
    "duration": 9,
    "start_time": "2021-12-23T05:56:22.912Z"
   },
   {
    "duration": 3086,
    "start_time": "2021-12-23T05:56:22.923Z"
   },
   {
    "duration": 1451,
    "start_time": "2021-12-23T05:56:26.011Z"
   },
   {
    "duration": 3,
    "start_time": "2021-12-23T05:56:27.465Z"
   },
   {
    "duration": 7,
    "start_time": "2021-12-23T05:56:27.471Z"
   },
   {
    "duration": 5,
    "start_time": "2021-12-23T05:56:27.480Z"
   },
   {
    "duration": 31,
    "start_time": "2021-12-23T05:56:27.487Z"
   },
   {
    "duration": 893,
    "start_time": "2021-12-23T05:56:27.523Z"
   },
   {
    "duration": 7,
    "start_time": "2021-12-23T05:56:28.419Z"
   },
   {
    "duration": 5,
    "start_time": "2021-12-23T05:56:28.428Z"
   },
   {
    "duration": 31,
    "start_time": "2021-12-23T05:56:28.435Z"
   },
   {
    "duration": 27,
    "start_time": "2021-12-23T05:56:28.468Z"
   },
   {
    "duration": 10,
    "start_time": "2021-12-23T05:56:28.498Z"
   },
   {
    "duration": 13,
    "start_time": "2021-12-23T05:56:28.510Z"
   },
   {
    "duration": 42,
    "start_time": "2021-12-23T05:56:28.525Z"
   },
   {
    "duration": 9,
    "start_time": "2021-12-23T05:56:28.570Z"
   },
   {
    "duration": 24,
    "start_time": "2021-12-23T05:56:28.582Z"
   },
   {
    "duration": 5,
    "start_time": "2021-12-23T05:56:28.608Z"
   },
   {
    "duration": 10,
    "start_time": "2021-12-23T05:56:28.615Z"
   },
   {
    "duration": 36,
    "start_time": "2021-12-23T05:56:28.628Z"
   },
   {
    "duration": 3416,
    "start_time": "2021-12-23T05:56:28.667Z"
   },
   {
    "duration": 132,
    "start_time": "2021-12-23T05:56:31.955Z"
   },
   {
    "duration": 130,
    "start_time": "2021-12-23T05:56:31.959Z"
   },
   {
    "duration": -35,
    "start_time": "2021-12-23T05:56:32.127Z"
   },
   {
    "duration": -37,
    "start_time": "2021-12-23T05:56:32.131Z"
   },
   {
    "duration": -37,
    "start_time": "2021-12-23T05:56:32.133Z"
   },
   {
    "duration": 5,
    "start_time": "2021-12-23T06:03:47.822Z"
   },
   {
    "duration": 6,
    "start_time": "2021-12-23T06:08:21.688Z"
   },
   {
    "duration": 9,
    "start_time": "2021-12-23T06:08:26.543Z"
   },
   {
    "duration": 4,
    "start_time": "2021-12-23T06:08:38.345Z"
   },
   {
    "duration": 1712,
    "start_time": "2021-12-23T06:14:07.604Z"
   },
   {
    "duration": 3008,
    "start_time": "2021-12-23T06:14:38.044Z"
   },
   {
    "duration": 2533,
    "start_time": "2021-12-23T06:14:49.275Z"
   },
   {
    "duration": 35,
    "start_time": "2021-12-23T06:14:51.811Z"
   },
   {
    "duration": 29,
    "start_time": "2021-12-23T06:14:51.863Z"
   },
   {
    "duration": 29,
    "start_time": "2021-12-23T06:14:51.894Z"
   },
   {
    "duration": 39,
    "start_time": "2021-12-23T06:14:51.925Z"
   },
   {
    "duration": 24,
    "start_time": "2021-12-23T06:14:51.966Z"
   },
   {
    "duration": 26,
    "start_time": "2021-12-23T06:14:51.992Z"
   },
   {
    "duration": 43,
    "start_time": "2021-12-23T06:14:52.022Z"
   },
   {
    "duration": 6,
    "start_time": "2021-12-23T06:14:52.068Z"
   },
   {
    "duration": 20,
    "start_time": "2021-12-23T06:14:52.076Z"
   },
   {
    "duration": 403,
    "start_time": "2021-12-23T06:14:52.098Z"
   },
   {
    "duration": 215,
    "start_time": "2021-12-23T06:14:52.504Z"
   },
   {
    "duration": 26,
    "start_time": "2021-12-23T06:14:52.722Z"
   },
   {
    "duration": 20,
    "start_time": "2021-12-23T06:14:52.763Z"
   },
   {
    "duration": 24,
    "start_time": "2021-12-23T06:14:52.786Z"
   },
   {
    "duration": 10,
    "start_time": "2021-12-23T06:14:52.812Z"
   },
   {
    "duration": 2990,
    "start_time": "2021-12-23T06:14:52.825Z"
   },
   {
    "duration": 1431,
    "start_time": "2021-12-23T06:14:55.818Z"
   },
   {
    "duration": 10,
    "start_time": "2021-12-23T06:14:57.252Z"
   },
   {
    "duration": 4,
    "start_time": "2021-12-23T06:14:57.265Z"
   },
   {
    "duration": 9,
    "start_time": "2021-12-23T06:14:57.271Z"
   },
   {
    "duration": 37,
    "start_time": "2021-12-23T06:14:57.282Z"
   },
   {
    "duration": 908,
    "start_time": "2021-12-23T06:14:57.324Z"
   },
   {
    "duration": 6,
    "start_time": "2021-12-23T06:14:58.236Z"
   },
   {
    "duration": 20,
    "start_time": "2021-12-23T06:14:58.244Z"
   },
   {
    "duration": 10,
    "start_time": "2021-12-23T06:14:58.266Z"
   },
   {
    "duration": 27,
    "start_time": "2021-12-23T06:14:58.278Z"
   },
   {
    "duration": 10,
    "start_time": "2021-12-23T06:14:58.307Z"
   },
   {
    "duration": 50,
    "start_time": "2021-12-23T06:14:58.319Z"
   },
   {
    "duration": 7,
    "start_time": "2021-12-23T06:14:58.371Z"
   },
   {
    "duration": 10,
    "start_time": "2021-12-23T06:14:58.381Z"
   },
   {
    "duration": 24,
    "start_time": "2021-12-23T06:14:58.393Z"
   },
   {
    "duration": 9,
    "start_time": "2021-12-23T06:14:58.420Z"
   },
   {
    "duration": 33,
    "start_time": "2021-12-23T06:14:58.432Z"
   },
   {
    "duration": 1968,
    "start_time": "2021-12-23T06:14:58.467Z"
   },
   {
    "duration": 363,
    "start_time": "2021-12-23T06:15:00.074Z"
   },
   {
    "duration": 195,
    "start_time": "2021-12-23T06:15:00.243Z"
   },
   {
    "duration": 193,
    "start_time": "2021-12-23T06:15:00.247Z"
   },
   {
    "duration": 192,
    "start_time": "2021-12-23T06:15:00.249Z"
   },
   {
    "duration": 192,
    "start_time": "2021-12-23T06:15:00.250Z"
   },
   {
    "duration": 3021,
    "start_time": "2021-12-23T06:15:26.808Z"
   },
   {
    "duration": 4,
    "start_time": "2021-12-23T06:18:37.837Z"
   },
   {
    "duration": 11259,
    "start_time": "2021-12-23T06:18:43.265Z"
   },
   {
    "duration": 47,
    "start_time": "2021-12-23T06:20:30.389Z"
   },
   {
    "duration": 7,
    "start_time": "2021-12-23T06:21:30.679Z"
   },
   {
    "duration": 8,
    "start_time": "2021-12-23T06:21:49.345Z"
   },
   {
    "duration": 4,
    "start_time": "2021-12-23T06:22:01.723Z"
   },
   {
    "duration": 2610,
    "start_time": "2021-12-23T06:22:48.656Z"
   },
   {
    "duration": 43,
    "start_time": "2021-12-23T06:22:51.269Z"
   },
   {
    "duration": 51,
    "start_time": "2021-12-23T06:22:51.315Z"
   },
   {
    "duration": 31,
    "start_time": "2021-12-23T06:22:51.369Z"
   },
   {
    "duration": 18,
    "start_time": "2021-12-23T06:22:51.403Z"
   },
   {
    "duration": 52,
    "start_time": "2021-12-23T06:22:51.424Z"
   },
   {
    "duration": 26,
    "start_time": "2021-12-23T06:22:51.478Z"
   },
   {
    "duration": 31,
    "start_time": "2021-12-23T06:22:51.510Z"
   },
   {
    "duration": 9,
    "start_time": "2021-12-23T06:22:51.564Z"
   },
   {
    "duration": 28,
    "start_time": "2021-12-23T06:22:51.576Z"
   },
   {
    "duration": 409,
    "start_time": "2021-12-23T06:22:51.606Z"
   },
   {
    "duration": 217,
    "start_time": "2021-12-23T06:22:52.017Z"
   },
   {
    "duration": 38,
    "start_time": "2021-12-23T06:22:52.236Z"
   },
   {
    "duration": 21,
    "start_time": "2021-12-23T06:22:52.276Z"
   },
   {
    "duration": 24,
    "start_time": "2021-12-23T06:22:52.299Z"
   },
   {
    "duration": 8,
    "start_time": "2021-12-23T06:22:52.325Z"
   },
   {
    "duration": 3001,
    "start_time": "2021-12-23T06:22:52.363Z"
   },
   {
    "duration": 1349,
    "start_time": "2021-12-23T06:22:55.366Z"
   },
   {
    "duration": 4,
    "start_time": "2021-12-23T06:22:56.718Z"
   },
   {
    "duration": 7,
    "start_time": "2021-12-23T06:22:56.724Z"
   },
   {
    "duration": 4,
    "start_time": "2021-12-23T06:22:56.734Z"
   },
   {
    "duration": 30,
    "start_time": "2021-12-23T06:22:56.762Z"
   },
   {
    "duration": 920,
    "start_time": "2021-12-23T06:22:56.797Z"
   },
   {
    "duration": 5,
    "start_time": "2021-12-23T06:22:57.720Z"
   },
   {
    "duration": 6,
    "start_time": "2021-12-23T06:22:57.727Z"
   },
   {
    "duration": 26,
    "start_time": "2021-12-23T06:22:57.736Z"
   },
   {
    "duration": 10,
    "start_time": "2021-12-23T06:22:57.765Z"
   },
   {
    "duration": 27,
    "start_time": "2021-12-23T06:22:57.777Z"
   },
   {
    "duration": 9,
    "start_time": "2021-12-23T06:22:57.807Z"
   },
   {
    "duration": 48,
    "start_time": "2021-12-23T06:22:57.819Z"
   },
   {
    "duration": 7,
    "start_time": "2021-12-23T06:22:57.870Z"
   },
   {
    "duration": 19,
    "start_time": "2021-12-23T06:22:57.880Z"
   },
   {
    "duration": 26,
    "start_time": "2021-12-23T06:22:57.901Z"
   },
   {
    "duration": 34,
    "start_time": "2021-12-23T06:22:57.929Z"
   },
   {
    "duration": 4,
    "start_time": "2021-12-23T06:22:57.965Z"
   },
   {
    "duration": 10583,
    "start_time": "2021-12-23T06:22:57.972Z"
   },
   {
    "duration": 32,
    "start_time": "2021-12-23T06:23:08.525Z"
   },
   {
    "duration": 31,
    "start_time": "2021-12-23T06:23:08.527Z"
   },
   {
    "duration": 4,
    "start_time": "2021-12-23T06:23:08.556Z"
   },
   {
    "duration": 4,
    "start_time": "2021-12-23T06:23:08.558Z"
   },
   {
    "duration": 3,
    "start_time": "2021-12-23T06:23:08.560Z"
   },
   {
    "duration": 304,
    "start_time": "2021-12-23T06:24:42.160Z"
   },
   {
    "duration": 1281,
    "start_time": "2021-12-23T06:25:26.107Z"
   },
   {
    "duration": 628,
    "start_time": "2021-12-23T06:25:33.564Z"
   },
   {
    "duration": 570,
    "start_time": "2021-12-23T06:25:51.648Z"
   },
   {
    "duration": 11285,
    "start_time": "2021-12-23T06:26:17.312Z"
   },
   {
    "duration": 191,
    "start_time": "2021-12-23T06:34:29.501Z"
   },
   {
    "duration": 2042,
    "start_time": "2021-12-23T06:34:34.266Z"
   },
   {
    "duration": 13716,
    "start_time": "2021-12-23T06:34:39.912Z"
   },
   {
    "duration": 2766,
    "start_time": "2021-12-23T06:36:01.800Z"
   },
   {
    "duration": 48,
    "start_time": "2021-12-23T06:36:04.568Z"
   },
   {
    "duration": 46,
    "start_time": "2021-12-23T06:36:04.620Z"
   },
   {
    "duration": 33,
    "start_time": "2021-12-23T06:36:04.670Z"
   },
   {
    "duration": 19,
    "start_time": "2021-12-23T06:36:04.706Z"
   },
   {
    "duration": 57,
    "start_time": "2021-12-23T06:36:04.728Z"
   },
   {
    "duration": 25,
    "start_time": "2021-12-23T06:36:04.788Z"
   },
   {
    "duration": 20,
    "start_time": "2021-12-23T06:36:04.817Z"
   },
   {
    "duration": 27,
    "start_time": "2021-12-23T06:36:04.840Z"
   },
   {
    "duration": 23,
    "start_time": "2021-12-23T06:36:04.869Z"
   },
   {
    "duration": 445,
    "start_time": "2021-12-23T06:36:04.894Z"
   },
   {
    "duration": 299,
    "start_time": "2021-12-23T06:36:05.341Z"
   },
   {
    "duration": 36,
    "start_time": "2021-12-23T06:36:05.643Z"
   },
   {
    "duration": 21,
    "start_time": "2021-12-23T06:36:05.681Z"
   },
   {
    "duration": 58,
    "start_time": "2021-12-23T06:36:05.705Z"
   },
   {
    "duration": 10,
    "start_time": "2021-12-23T06:36:05.765Z"
   },
   {
    "duration": 3104,
    "start_time": "2021-12-23T06:36:05.777Z"
   },
   {
    "duration": 1464,
    "start_time": "2021-12-23T06:36:08.884Z"
   },
   {
    "duration": 13,
    "start_time": "2021-12-23T06:36:10.351Z"
   },
   {
    "duration": 7,
    "start_time": "2021-12-23T06:36:10.367Z"
   },
   {
    "duration": 6,
    "start_time": "2021-12-23T06:36:10.376Z"
   },
   {
    "duration": 33,
    "start_time": "2021-12-23T06:36:10.385Z"
   },
   {
    "duration": 945,
    "start_time": "2021-12-23T06:36:10.425Z"
   },
   {
    "duration": 6,
    "start_time": "2021-12-23T06:36:11.373Z"
   },
   {
    "duration": 568,
    "start_time": "2021-12-23T06:36:11.383Z"
   },
   {
    "duration": 404,
    "start_time": "2021-12-23T06:36:11.550Z"
   },
   {
    "duration": 403,
    "start_time": "2021-12-23T06:36:11.553Z"
   },
   {
    "duration": 402,
    "start_time": "2021-12-23T06:36:11.555Z"
   },
   {
    "duration": 400,
    "start_time": "2021-12-23T06:36:11.559Z"
   },
   {
    "duration": 399,
    "start_time": "2021-12-23T06:36:11.561Z"
   },
   {
    "duration": 398,
    "start_time": "2021-12-23T06:36:11.564Z"
   },
   {
    "duration": 397,
    "start_time": "2021-12-23T06:36:11.567Z"
   },
   {
    "duration": 253,
    "start_time": "2021-12-23T06:36:11.712Z"
   },
   {
    "duration": 253,
    "start_time": "2021-12-23T06:36:11.714Z"
   },
   {
    "duration": 253,
    "start_time": "2021-12-23T06:36:11.715Z"
   },
   {
    "duration": 253,
    "start_time": "2021-12-23T06:36:11.717Z"
   },
   {
    "duration": 253,
    "start_time": "2021-12-23T06:36:11.718Z"
   },
   {
    "duration": 253,
    "start_time": "2021-12-23T06:36:11.720Z"
   },
   {
    "duration": 254,
    "start_time": "2021-12-23T06:36:11.721Z"
   },
   {
    "duration": 253,
    "start_time": "2021-12-23T06:36:11.723Z"
   },
   {
    "duration": 3,
    "start_time": "2021-12-23T06:36:46.762Z"
   },
   {
    "duration": 9,
    "start_time": "2021-12-23T06:36:48.879Z"
   },
   {
    "duration": 31,
    "start_time": "2021-12-23T06:36:49.379Z"
   },
   {
    "duration": 11,
    "start_time": "2021-12-23T06:36:49.655Z"
   },
   {
    "duration": 14,
    "start_time": "2021-12-23T06:36:49.866Z"
   },
   {
    "duration": 8,
    "start_time": "2021-12-23T06:36:50.012Z"
   },
   {
    "duration": 10,
    "start_time": "2021-12-23T06:36:50.184Z"
   },
   {
    "duration": 23,
    "start_time": "2021-12-23T06:36:50.343Z"
   },
   {
    "duration": 4,
    "start_time": "2021-12-23T06:36:50.514Z"
   },
   {
    "duration": 10,
    "start_time": "2021-12-23T06:36:50.653Z"
   },
   {
    "duration": 8,
    "start_time": "2021-12-23T06:36:50.961Z"
   },
   {
    "duration": 1819,
    "start_time": "2021-12-23T06:36:51.183Z"
   },
   {
    "duration": 400,
    "start_time": "2021-12-23T06:36:52.605Z"
   },
   {
    "duration": 3627,
    "start_time": "2021-12-23T06:37:14.775Z"
   },
   {
    "duration": 5,
    "start_time": "2021-12-23T06:46:08.068Z"
   },
   {
    "duration": 314,
    "start_time": "2021-12-23T06:46:22.663Z"
   },
   {
    "duration": 310,
    "start_time": "2021-12-23T06:47:57.050Z"
   },
   {
    "duration": 2611,
    "start_time": "2021-12-23T06:48:12.252Z"
   },
   {
    "duration": 36,
    "start_time": "2021-12-23T06:48:14.865Z"
   },
   {
    "duration": 29,
    "start_time": "2021-12-23T06:48:14.904Z"
   },
   {
    "duration": 51,
    "start_time": "2021-12-23T06:48:14.936Z"
   },
   {
    "duration": 25,
    "start_time": "2021-12-23T06:48:14.989Z"
   },
   {
    "duration": 54,
    "start_time": "2021-12-23T06:48:15.017Z"
   },
   {
    "duration": 27,
    "start_time": "2021-12-23T06:48:15.074Z"
   },
   {
    "duration": 18,
    "start_time": "2021-12-23T06:48:15.105Z"
   },
   {
    "duration": 8,
    "start_time": "2021-12-23T06:48:15.126Z"
   },
   {
    "duration": 22,
    "start_time": "2021-12-23T06:48:15.162Z"
   },
   {
    "duration": 547,
    "start_time": "2021-12-23T06:48:15.187Z"
   },
   {
    "duration": 300,
    "start_time": "2021-12-23T06:48:15.737Z"
   },
   {
    "duration": 47,
    "start_time": "2021-12-23T06:48:16.040Z"
   },
   {
    "duration": 25,
    "start_time": "2021-12-23T06:48:16.090Z"
   },
   {
    "duration": 45,
    "start_time": "2021-12-23T06:48:16.118Z"
   },
   {
    "duration": 11,
    "start_time": "2021-12-23T06:48:16.166Z"
   },
   {
    "duration": 2907,
    "start_time": "2021-12-23T06:48:16.180Z"
   },
   {
    "duration": 1351,
    "start_time": "2021-12-23T06:48:19.090Z"
   },
   {
    "duration": 4,
    "start_time": "2021-12-23T06:48:20.444Z"
   },
   {
    "duration": 4,
    "start_time": "2021-12-23T06:48:20.462Z"
   },
   {
    "duration": 6,
    "start_time": "2021-12-23T06:48:20.469Z"
   },
   {
    "duration": 32,
    "start_time": "2021-12-23T06:48:20.478Z"
   },
   {
    "duration": 912,
    "start_time": "2021-12-23T06:48:20.514Z"
   },
   {
    "duration": 5,
    "start_time": "2021-12-23T06:48:21.429Z"
   },
   {
    "duration": 515,
    "start_time": "2021-12-23T06:48:21.446Z"
   },
   {
    "duration": 413,
    "start_time": "2021-12-23T06:48:21.550Z"
   },
   {
    "duration": 413,
    "start_time": "2021-12-23T06:48:21.552Z"
   },
   {
    "duration": 413,
    "start_time": "2021-12-23T06:48:21.553Z"
   },
   {
    "duration": 413,
    "start_time": "2021-12-23T06:48:21.555Z"
   },
   {
    "duration": 413,
    "start_time": "2021-12-23T06:48:21.557Z"
   },
   {
    "duration": 413,
    "start_time": "2021-12-23T06:48:21.558Z"
   },
   {
    "duration": 414,
    "start_time": "2021-12-23T06:48:21.559Z"
   },
   {
    "duration": 413,
    "start_time": "2021-12-23T06:48:21.561Z"
   },
   {
    "duration": 412,
    "start_time": "2021-12-23T06:48:21.564Z"
   },
   {
    "duration": 412,
    "start_time": "2021-12-23T06:48:21.566Z"
   },
   {
    "duration": 412,
    "start_time": "2021-12-23T06:48:21.567Z"
   },
   {
    "duration": 300,
    "start_time": "2021-12-23T06:48:48.886Z"
   },
   {
    "duration": 6,
    "start_time": "2021-12-23T06:48:57.265Z"
   },
   {
    "duration": 13,
    "start_time": "2021-12-23T06:49:38.255Z"
   },
   {
    "duration": 338,
    "start_time": "2021-12-23T06:49:38.868Z"
   },
   {
    "duration": 305,
    "start_time": "2021-12-23T06:49:39.368Z"
   },
   {
    "duration": 5262,
    "start_time": "2021-12-23T19:55:54.783Z"
   },
   {
    "duration": 47,
    "start_time": "2021-12-23T19:56:00.048Z"
   },
   {
    "duration": 34,
    "start_time": "2021-12-23T19:56:00.098Z"
   },
   {
    "duration": 47,
    "start_time": "2021-12-23T19:56:00.161Z"
   },
   {
    "duration": 18,
    "start_time": "2021-12-23T19:56:00.211Z"
   },
   {
    "duration": 25,
    "start_time": "2021-12-23T19:56:00.260Z"
   },
   {
    "duration": 27,
    "start_time": "2021-12-23T19:56:00.288Z"
   },
   {
    "duration": 44,
    "start_time": "2021-12-23T19:56:00.319Z"
   },
   {
    "duration": 9,
    "start_time": "2021-12-23T19:56:00.366Z"
   },
   {
    "duration": 38,
    "start_time": "2021-12-23T19:56:00.378Z"
   },
   {
    "duration": 534,
    "start_time": "2021-12-23T19:56:00.419Z"
   },
   {
    "duration": 249,
    "start_time": "2021-12-23T19:56:00.955Z"
   },
   {
    "duration": 28,
    "start_time": "2021-12-23T19:56:01.206Z"
   },
   {
    "duration": 37,
    "start_time": "2021-12-23T19:56:01.237Z"
   },
   {
    "duration": 31,
    "start_time": "2021-12-23T19:56:01.277Z"
   },
   {
    "duration": 10,
    "start_time": "2021-12-23T19:56:01.310Z"
   },
   {
    "duration": 3706,
    "start_time": "2021-12-23T19:56:01.322Z"
   },
   {
    "duration": 1923,
    "start_time": "2021-12-23T19:56:05.031Z"
   },
   {
    "duration": 7,
    "start_time": "2021-12-23T19:56:06.960Z"
   },
   {
    "duration": 5,
    "start_time": "2021-12-23T19:56:06.970Z"
   },
   {
    "duration": 5,
    "start_time": "2021-12-23T19:56:06.979Z"
   },
   {
    "duration": 39,
    "start_time": "2021-12-23T19:56:06.987Z"
   },
   {
    "duration": 1528,
    "start_time": "2021-12-23T19:56:07.061Z"
   },
   {
    "duration": 7,
    "start_time": "2021-12-23T19:56:08.593Z"
   },
   {
    "duration": 778,
    "start_time": "2021-12-23T19:56:08.602Z"
   },
   {
    "duration": -286,
    "start_time": "2021-12-23T19:56:09.669Z"
   },
   {
    "duration": -439,
    "start_time": "2021-12-23T19:56:09.823Z"
   },
   {
    "duration": -442,
    "start_time": "2021-12-23T19:56:09.828Z"
   },
   {
    "duration": -443,
    "start_time": "2021-12-23T19:56:09.830Z"
   },
   {
    "duration": -443,
    "start_time": "2021-12-23T19:56:09.831Z"
   },
   {
    "duration": -444,
    "start_time": "2021-12-23T19:56:09.833Z"
   },
   {
    "duration": -444,
    "start_time": "2021-12-23T19:56:09.834Z"
   },
   {
    "duration": -444,
    "start_time": "2021-12-23T19:56:09.835Z"
   },
   {
    "duration": -445,
    "start_time": "2021-12-23T19:56:09.837Z"
   },
   {
    "duration": -445,
    "start_time": "2021-12-23T19:56:09.838Z"
   },
   {
    "duration": -445,
    "start_time": "2021-12-23T19:56:09.839Z"
   },
   {
    "duration": -446,
    "start_time": "2021-12-23T19:56:09.841Z"
   },
   {
    "duration": -446,
    "start_time": "2021-12-23T19:56:09.842Z"
   },
   {
    "duration": 35,
    "start_time": "2021-12-23T19:57:03.568Z"
   },
   {
    "duration": 22,
    "start_time": "2021-12-23T19:57:47.462Z"
   },
   {
    "duration": 399,
    "start_time": "2021-12-23T19:57:50.790Z"
   },
   {
    "duration": 3078,
    "start_time": "2021-12-23T19:58:05.690Z"
   },
   {
    "duration": 40,
    "start_time": "2021-12-23T19:58:08.771Z"
   },
   {
    "duration": 55,
    "start_time": "2021-12-23T19:58:08.815Z"
   },
   {
    "duration": 32,
    "start_time": "2021-12-23T19:58:08.873Z"
   },
   {
    "duration": 17,
    "start_time": "2021-12-23T19:58:08.908Z"
   },
   {
    "duration": 32,
    "start_time": "2021-12-23T19:58:08.961Z"
   },
   {
    "duration": 28,
    "start_time": "2021-12-23T19:58:08.996Z"
   },
   {
    "duration": 59,
    "start_time": "2021-12-23T19:58:09.029Z"
   },
   {
    "duration": 7,
    "start_time": "2021-12-23T19:58:09.091Z"
   },
   {
    "duration": 25,
    "start_time": "2021-12-23T19:58:09.101Z"
   },
   {
    "duration": 431,
    "start_time": "2021-12-23T19:58:09.128Z"
   },
   {
    "duration": 257,
    "start_time": "2021-12-23T19:58:09.562Z"
   },
   {
    "duration": 44,
    "start_time": "2021-12-23T19:58:09.822Z"
   },
   {
    "duration": 24,
    "start_time": "2021-12-23T19:58:09.869Z"
   },
   {
    "duration": 24,
    "start_time": "2021-12-23T19:58:09.896Z"
   },
   {
    "duration": 8,
    "start_time": "2021-12-23T19:58:09.922Z"
   },
   {
    "duration": 3436,
    "start_time": "2021-12-23T19:58:09.960Z"
   },
   {
    "duration": 1415,
    "start_time": "2021-12-23T19:58:13.399Z"
   },
   {
    "duration": 5,
    "start_time": "2021-12-23T19:58:14.817Z"
   },
   {
    "duration": 8,
    "start_time": "2021-12-23T19:58:14.824Z"
   },
   {
    "duration": 26,
    "start_time": "2021-12-23T19:58:14.835Z"
   },
   {
    "duration": 28,
    "start_time": "2021-12-23T19:58:14.863Z"
   },
   {
    "duration": 1129,
    "start_time": "2021-12-23T19:58:14.898Z"
   },
   {
    "duration": 5,
    "start_time": "2021-12-23T19:58:16.031Z"
   },
   {
    "duration": 57,
    "start_time": "2021-12-23T19:58:16.038Z"
   },
   {
    "duration": 25,
    "start_time": "2021-12-23T19:58:16.099Z"
   },
   {
    "duration": 10,
    "start_time": "2021-12-23T19:58:16.127Z"
   },
   {
    "duration": 1452,
    "start_time": "2021-12-23T19:58:16.160Z"
   },
   {
    "duration": -459,
    "start_time": "2021-12-23T19:58:18.074Z"
   },
   {
    "duration": -458,
    "start_time": "2021-12-23T19:58:18.075Z"
   },
   {
    "duration": -459,
    "start_time": "2021-12-23T19:58:18.077Z"
   },
   {
    "duration": -461,
    "start_time": "2021-12-23T19:58:18.081Z"
   },
   {
    "duration": -462,
    "start_time": "2021-12-23T19:58:18.083Z"
   },
   {
    "duration": -461,
    "start_time": "2021-12-23T19:58:18.084Z"
   },
   {
    "duration": -462,
    "start_time": "2021-12-23T19:58:18.086Z"
   },
   {
    "duration": -465,
    "start_time": "2021-12-23T19:58:18.091Z"
   },
   {
    "duration": -467,
    "start_time": "2021-12-23T19:58:18.094Z"
   },
   {
    "duration": 403,
    "start_time": "2021-12-23T19:58:43.924Z"
   },
   {
    "duration": 37,
    "start_time": "2021-12-23T19:58:56.649Z"
   },
   {
    "duration": 389,
    "start_time": "2021-12-23T19:59:49.539Z"
   },
   {
    "duration": 386,
    "start_time": "2021-12-23T20:00:08.597Z"
   },
   {
    "duration": 2770,
    "start_time": "2021-12-23T20:00:16.314Z"
   },
   {
    "duration": 43,
    "start_time": "2021-12-23T20:00:19.087Z"
   },
   {
    "duration": 65,
    "start_time": "2021-12-23T20:00:19.133Z"
   },
   {
    "duration": 58,
    "start_time": "2021-12-23T20:00:19.201Z"
   },
   {
    "duration": 18,
    "start_time": "2021-12-23T20:00:19.262Z"
   },
   {
    "duration": 26,
    "start_time": "2021-12-23T20:00:19.283Z"
   },
   {
    "duration": 62,
    "start_time": "2021-12-23T20:00:19.312Z"
   },
   {
    "duration": 27,
    "start_time": "2021-12-23T20:00:19.378Z"
   },
   {
    "duration": 7,
    "start_time": "2021-12-23T20:00:19.409Z"
   },
   {
    "duration": 56,
    "start_time": "2021-12-23T20:00:19.420Z"
   },
   {
    "duration": 422,
    "start_time": "2021-12-23T20:00:19.479Z"
   },
   {
    "duration": 283,
    "start_time": "2021-12-23T20:00:19.904Z"
   },
   {
    "duration": 30,
    "start_time": "2021-12-23T20:00:20.189Z"
   },
   {
    "duration": 48,
    "start_time": "2021-12-23T20:00:20.222Z"
   },
   {
    "duration": 28,
    "start_time": "2021-12-23T20:00:20.273Z"
   },
   {
    "duration": 10,
    "start_time": "2021-12-23T20:00:20.304Z"
   },
   {
    "duration": 3465,
    "start_time": "2021-12-23T20:00:20.316Z"
   },
   {
    "duration": 1558,
    "start_time": "2021-12-23T20:00:23.785Z"
   },
   {
    "duration": 12,
    "start_time": "2021-12-23T20:00:25.347Z"
   },
   {
    "duration": 3,
    "start_time": "2021-12-23T20:00:25.362Z"
   },
   {
    "duration": 6,
    "start_time": "2021-12-23T20:00:25.368Z"
   },
   {
    "duration": 34,
    "start_time": "2021-12-23T20:00:25.376Z"
   },
   {
    "duration": 1102,
    "start_time": "2021-12-23T20:00:25.415Z"
   },
   {
    "duration": 5,
    "start_time": "2021-12-23T20:00:26.520Z"
   },
   {
    "duration": 51,
    "start_time": "2021-12-23T20:00:26.528Z"
   },
   {
    "duration": 20,
    "start_time": "2021-12-23T20:00:26.581Z"
   },
   {
    "duration": 9,
    "start_time": "2021-12-23T20:00:26.603Z"
   },
   {
    "duration": 573,
    "start_time": "2021-12-23T20:00:26.614Z"
   },
   {
    "duration": -278,
    "start_time": "2021-12-23T20:00:27.468Z"
   },
   {
    "duration": -278,
    "start_time": "2021-12-23T20:00:27.470Z"
   },
   {
    "duration": -279,
    "start_time": "2021-12-23T20:00:27.472Z"
   },
   {
    "duration": -430,
    "start_time": "2021-12-23T20:00:27.625Z"
   },
   {
    "duration": -432,
    "start_time": "2021-12-23T20:00:27.629Z"
   },
   {
    "duration": -432,
    "start_time": "2021-12-23T20:00:27.631Z"
   },
   {
    "duration": -432,
    "start_time": "2021-12-23T20:00:27.632Z"
   },
   {
    "duration": -434,
    "start_time": "2021-12-23T20:00:27.636Z"
   },
   {
    "duration": -435,
    "start_time": "2021-12-23T20:00:27.638Z"
   },
   {
    "duration": 47,
    "start_time": "2021-12-23T20:00:51.942Z"
   },
   {
    "duration": 391,
    "start_time": "2021-12-23T20:01:11.521Z"
   },
   {
    "duration": 363,
    "start_time": "2021-12-23T20:02:55.225Z"
   },
   {
    "duration": 402,
    "start_time": "2021-12-23T20:03:26.022Z"
   },
   {
    "duration": 40,
    "start_time": "2021-12-23T20:03:35.952Z"
   },
   {
    "duration": 77,
    "start_time": "2021-12-23T20:05:02.341Z"
   },
   {
    "duration": 6,
    "start_time": "2021-12-23T20:05:12.335Z"
   },
   {
    "duration": 46,
    "start_time": "2021-12-23T20:05:34.441Z"
   },
   {
    "duration": 806,
    "start_time": "2021-12-23T20:06:01.841Z"
   },
   {
    "duration": 3202,
    "start_time": "2021-12-23T20:06:12.700Z"
   },
   {
    "duration": 36,
    "start_time": "2021-12-23T20:06:15.905Z"
   },
   {
    "duration": 56,
    "start_time": "2021-12-23T20:06:15.944Z"
   },
   {
    "duration": 58,
    "start_time": "2021-12-23T20:06:16.002Z"
   },
   {
    "duration": 23,
    "start_time": "2021-12-23T20:06:16.064Z"
   },
   {
    "duration": 34,
    "start_time": "2021-12-23T20:06:16.089Z"
   },
   {
    "duration": 66,
    "start_time": "2021-12-23T20:06:16.126Z"
   },
   {
    "duration": 19,
    "start_time": "2021-12-23T20:06:16.196Z"
   },
   {
    "duration": 7,
    "start_time": "2021-12-23T20:06:16.218Z"
   },
   {
    "duration": 52,
    "start_time": "2021-12-23T20:06:16.228Z"
   },
   {
    "duration": 532,
    "start_time": "2021-12-23T20:06:16.284Z"
   },
   {
    "duration": 269,
    "start_time": "2021-12-23T20:06:16.820Z"
   },
   {
    "duration": 28,
    "start_time": "2021-12-23T20:06:17.092Z"
   },
   {
    "duration": 42,
    "start_time": "2021-12-23T20:06:17.123Z"
   },
   {
    "duration": 25,
    "start_time": "2021-12-23T20:06:17.168Z"
   },
   {
    "duration": 8,
    "start_time": "2021-12-23T20:06:17.195Z"
   },
   {
    "duration": 3744,
    "start_time": "2021-12-23T20:06:17.206Z"
   },
   {
    "duration": 1624,
    "start_time": "2021-12-23T20:06:20.953Z"
   },
   {
    "duration": 6,
    "start_time": "2021-12-23T20:06:22.580Z"
   },
   {
    "duration": 13,
    "start_time": "2021-12-23T20:06:22.589Z"
   },
   {
    "duration": 14,
    "start_time": "2021-12-23T20:06:22.604Z"
   },
   {
    "duration": 51,
    "start_time": "2021-12-23T20:06:22.621Z"
   },
   {
    "duration": 1062,
    "start_time": "2021-12-23T20:06:22.679Z"
   },
   {
    "duration": 19,
    "start_time": "2021-12-23T20:06:23.745Z"
   },
   {
    "duration": 41,
    "start_time": "2021-12-23T20:06:23.767Z"
   },
   {
    "duration": 21,
    "start_time": "2021-12-23T20:06:23.810Z"
   },
   {
    "duration": 29,
    "start_time": "2021-12-23T20:06:23.834Z"
   },
   {
    "duration": 57,
    "start_time": "2021-12-23T20:06:23.866Z"
   },
   {
    "duration": 585,
    "start_time": "2021-12-23T20:06:23.925Z"
   },
   {
    "duration": -267,
    "start_time": "2021-12-23T20:06:24.780Z"
   },
   {
    "duration": -431,
    "start_time": "2021-12-23T20:06:24.947Z"
   },
   {
    "duration": -431,
    "start_time": "2021-12-23T20:06:24.949Z"
   },
   {
    "duration": -430,
    "start_time": "2021-12-23T20:06:24.950Z"
   },
   {
    "duration": -430,
    "start_time": "2021-12-23T20:06:24.952Z"
   },
   {
    "duration": -432,
    "start_time": "2021-12-23T20:06:24.956Z"
   },
   {
    "duration": -431,
    "start_time": "2021-12-23T20:06:24.958Z"
   },
   {
    "duration": -430,
    "start_time": "2021-12-23T20:06:24.959Z"
   },
   {
    "duration": 411,
    "start_time": "2021-12-23T20:07:00.126Z"
   },
   {
    "duration": 28,
    "start_time": "2021-12-23T20:07:35.280Z"
   },
   {
    "duration": 30,
    "start_time": "2021-12-23T20:07:56.232Z"
   },
   {
    "duration": 56,
    "start_time": "2021-12-23T20:08:04.414Z"
   },
   {
    "duration": 2642,
    "start_time": "2021-12-23T20:08:13.933Z"
   },
   {
    "duration": 38,
    "start_time": "2021-12-23T20:08:16.577Z"
   },
   {
    "duration": 51,
    "start_time": "2021-12-23T20:08:16.618Z"
   },
   {
    "duration": 30,
    "start_time": "2021-12-23T20:08:16.672Z"
   },
   {
    "duration": 16,
    "start_time": "2021-12-23T20:08:16.705Z"
   },
   {
    "duration": 56,
    "start_time": "2021-12-23T20:08:16.723Z"
   },
   {
    "duration": 26,
    "start_time": "2021-12-23T20:08:16.782Z"
   },
   {
    "duration": 16,
    "start_time": "2021-12-23T20:08:16.812Z"
   },
   {
    "duration": 33,
    "start_time": "2021-12-23T20:08:16.831Z"
   },
   {
    "duration": 25,
    "start_time": "2021-12-23T20:08:16.866Z"
   },
   {
    "duration": 387,
    "start_time": "2021-12-23T20:08:16.893Z"
   },
   {
    "duration": 211,
    "start_time": "2021-12-23T20:08:17.282Z"
   },
   {
    "duration": 26,
    "start_time": "2021-12-23T20:08:17.496Z"
   },
   {
    "duration": 39,
    "start_time": "2021-12-23T20:08:17.524Z"
   },
   {
    "duration": 24,
    "start_time": "2021-12-23T20:08:17.566Z"
   },
   {
    "duration": 8,
    "start_time": "2021-12-23T20:08:17.592Z"
   },
   {
    "duration": 2901,
    "start_time": "2021-12-23T20:08:17.603Z"
   },
   {
    "duration": 1430,
    "start_time": "2021-12-23T20:08:20.507Z"
   },
   {
    "duration": 4,
    "start_time": "2021-12-23T20:08:21.939Z"
   },
   {
    "duration": 14,
    "start_time": "2021-12-23T20:08:21.945Z"
   },
   {
    "duration": 6,
    "start_time": "2021-12-23T20:08:21.961Z"
   },
   {
    "duration": 35,
    "start_time": "2021-12-23T20:08:21.969Z"
   },
   {
    "duration": 959,
    "start_time": "2021-12-23T20:08:22.008Z"
   },
   {
    "duration": 6,
    "start_time": "2021-12-23T20:08:22.971Z"
   },
   {
    "duration": 36,
    "start_time": "2021-12-23T20:08:22.980Z"
   },
   {
    "duration": 53,
    "start_time": "2021-12-23T20:08:23.019Z"
   },
   {
    "duration": 9,
    "start_time": "2021-12-23T20:08:23.074Z"
   },
   {
    "duration": 81,
    "start_time": "2021-12-23T20:08:23.086Z"
   },
   {
    "duration": 30,
    "start_time": "2021-12-23T20:08:23.170Z"
   },
   {
    "duration": 5,
    "start_time": "2021-12-23T20:08:23.202Z"
   },
   {
    "duration": 6,
    "start_time": "2021-12-23T20:08:23.209Z"
   },
   {
    "duration": 557,
    "start_time": "2021-12-23T20:08:23.217Z"
   },
   {
    "duration": -261,
    "start_time": "2021-12-23T20:08:24.039Z"
   },
   {
    "duration": -260,
    "start_time": "2021-12-23T20:08:24.040Z"
   },
   {
    "duration": -261,
    "start_time": "2021-12-23T20:08:24.042Z"
   },
   {
    "duration": -260,
    "start_time": "2021-12-23T20:08:24.043Z"
   },
   {
    "duration": -260,
    "start_time": "2021-12-23T20:08:24.045Z"
   },
   {
    "duration": 2866,
    "start_time": "2021-12-23T20:27:54.642Z"
   },
   {
    "duration": 395,
    "start_time": "2021-12-23T20:30:39.456Z"
   },
   {
    "duration": 443,
    "start_time": "2021-12-23T20:30:55.931Z"
   },
   {
    "duration": 378,
    "start_time": "2021-12-23T20:31:56.877Z"
   },
   {
    "duration": 1966,
    "start_time": "2021-12-23T20:32:30.949Z"
   },
   {
    "duration": 660,
    "start_time": "2021-12-23T20:32:56.732Z"
   },
   {
    "duration": 7,
    "start_time": "2021-12-23T20:46:28.992Z"
   },
   {
    "duration": 3,
    "start_time": "2021-12-23T20:46:38.053Z"
   },
   {
    "duration": 2723,
    "start_time": "2021-12-23T20:49:01.503Z"
   },
   {
    "duration": 48,
    "start_time": "2021-12-23T20:49:04.230Z"
   },
   {
    "duration": 36,
    "start_time": "2021-12-23T20:49:04.282Z"
   },
   {
    "duration": 54,
    "start_time": "2021-12-23T20:49:04.321Z"
   },
   {
    "duration": 16,
    "start_time": "2021-12-23T20:49:04.378Z"
   },
   {
    "duration": 24,
    "start_time": "2021-12-23T20:49:04.397Z"
   },
   {
    "duration": 59,
    "start_time": "2021-12-23T20:49:04.423Z"
   },
   {
    "duration": 16,
    "start_time": "2021-12-23T20:49:04.488Z"
   },
   {
    "duration": 7,
    "start_time": "2021-12-23T20:49:04.508Z"
   },
   {
    "duration": 56,
    "start_time": "2021-12-23T20:49:04.517Z"
   },
   {
    "duration": 383,
    "start_time": "2021-12-23T20:49:04.576Z"
   },
   {
    "duration": 212,
    "start_time": "2021-12-23T20:49:04.962Z"
   },
   {
    "duration": 29,
    "start_time": "2021-12-23T20:49:05.177Z"
   },
   {
    "duration": 51,
    "start_time": "2021-12-23T20:49:05.208Z"
   },
   {
    "duration": 27,
    "start_time": "2021-12-23T20:49:05.262Z"
   },
   {
    "duration": 10,
    "start_time": "2021-12-23T20:49:05.292Z"
   },
   {
    "duration": 3029,
    "start_time": "2021-12-23T20:49:05.305Z"
   },
   {
    "duration": 1325,
    "start_time": "2021-12-23T20:49:08.338Z"
   },
   {
    "duration": 4,
    "start_time": "2021-12-23T20:49:09.667Z"
   },
   {
    "duration": 5,
    "start_time": "2021-12-23T20:49:09.674Z"
   },
   {
    "duration": 5,
    "start_time": "2021-12-23T20:49:09.681Z"
   },
   {
    "duration": 33,
    "start_time": "2021-12-23T20:49:09.688Z"
   },
   {
    "duration": 899,
    "start_time": "2021-12-23T20:49:09.726Z"
   },
   {
    "duration": 7,
    "start_time": "2021-12-23T20:49:10.628Z"
   },
   {
    "duration": 22,
    "start_time": "2021-12-23T20:49:10.637Z"
   },
   {
    "duration": 3,
    "start_time": "2021-12-23T20:49:10.662Z"
   },
   {
    "duration": 580,
    "start_time": "2021-12-23T20:49:10.668Z"
   },
   {
    "duration": -184,
    "start_time": "2021-12-23T20:49:11.434Z"
   },
   {
    "duration": -184,
    "start_time": "2021-12-23T20:49:11.436Z"
   },
   {
    "duration": -184,
    "start_time": "2021-12-23T20:49:11.437Z"
   },
   {
    "duration": -187,
    "start_time": "2021-12-23T20:49:11.442Z"
   },
   {
    "duration": -335,
    "start_time": "2021-12-23T20:49:11.591Z"
   },
   {
    "duration": -338,
    "start_time": "2021-12-23T20:49:11.596Z"
   },
   {
    "duration": -338,
    "start_time": "2021-12-23T20:49:11.597Z"
   },
   {
    "duration": 2643,
    "start_time": "2021-12-23T20:49:37.151Z"
   },
   {
    "duration": 35,
    "start_time": "2021-12-23T20:49:39.797Z"
   },
   {
    "duration": 50,
    "start_time": "2021-12-23T20:49:39.835Z"
   },
   {
    "duration": 30,
    "start_time": "2021-12-23T20:49:39.888Z"
   },
   {
    "duration": 40,
    "start_time": "2021-12-23T20:49:39.920Z"
   },
   {
    "duration": 26,
    "start_time": "2021-12-23T20:49:39.963Z"
   },
   {
    "duration": 26,
    "start_time": "2021-12-23T20:49:39.991Z"
   },
   {
    "duration": 41,
    "start_time": "2021-12-23T20:49:40.020Z"
   },
   {
    "duration": 7,
    "start_time": "2021-12-23T20:49:40.064Z"
   },
   {
    "duration": 22,
    "start_time": "2021-12-23T20:49:40.074Z"
   },
   {
    "duration": 398,
    "start_time": "2021-12-23T20:49:40.099Z"
   },
   {
    "duration": 237,
    "start_time": "2021-12-23T20:49:40.500Z"
   },
   {
    "duration": 44,
    "start_time": "2021-12-23T20:49:40.739Z"
   },
   {
    "duration": 25,
    "start_time": "2021-12-23T20:49:40.786Z"
   },
   {
    "duration": 46,
    "start_time": "2021-12-23T20:49:40.814Z"
   },
   {
    "duration": 12,
    "start_time": "2021-12-23T20:49:40.863Z"
   },
   {
    "duration": 3540,
    "start_time": "2021-12-23T20:49:40.878Z"
   },
   {
    "duration": 1634,
    "start_time": "2021-12-23T20:49:44.421Z"
   },
   {
    "duration": 5,
    "start_time": "2021-12-23T20:49:46.060Z"
   },
   {
    "duration": 10,
    "start_time": "2021-12-23T20:49:46.068Z"
   },
   {
    "duration": 9,
    "start_time": "2021-12-23T20:49:46.081Z"
   },
   {
    "duration": 66,
    "start_time": "2021-12-23T20:49:46.093Z"
   },
   {
    "duration": 1047,
    "start_time": "2021-12-23T20:49:46.166Z"
   },
   {
    "duration": 8,
    "start_time": "2021-12-23T20:49:47.217Z"
   },
   {
    "duration": 5,
    "start_time": "2021-12-23T20:49:47.228Z"
   },
   {
    "duration": 24,
    "start_time": "2021-12-23T20:49:47.236Z"
   },
   {
    "duration": 60,
    "start_time": "2021-12-23T20:49:47.263Z"
   },
   {
    "duration": 8,
    "start_time": "2021-12-23T20:49:47.325Z"
   },
   {
    "duration": 9,
    "start_time": "2021-12-23T20:49:47.361Z"
   },
   {
    "duration": 26,
    "start_time": "2021-12-23T20:49:47.373Z"
   },
   {
    "duration": 4,
    "start_time": "2021-12-23T20:49:47.402Z"
   },
   {
    "duration": 50,
    "start_time": "2021-12-23T20:49:47.409Z"
   },
   {
    "duration": 5,
    "start_time": "2021-12-23T20:49:47.462Z"
   },
   {
    "duration": 3971,
    "start_time": "2021-12-23T20:49:47.470Z"
   },
   {
    "duration": 7,
    "start_time": "2021-12-23T20:51:08.464Z"
   },
   {
    "duration": 3552,
    "start_time": "2021-12-23T20:51:12.213Z"
   },
   {
    "duration": 2681,
    "start_time": "2021-12-23T20:51:53.240Z"
   },
   {
    "duration": 45,
    "start_time": "2021-12-23T20:51:55.924Z"
   },
   {
    "duration": 33,
    "start_time": "2021-12-23T20:51:55.972Z"
   },
   {
    "duration": 55,
    "start_time": "2021-12-23T20:51:56.008Z"
   },
   {
    "duration": 39,
    "start_time": "2021-12-23T20:51:56.066Z"
   },
   {
    "duration": 25,
    "start_time": "2021-12-23T20:51:56.108Z"
   },
   {
    "duration": 45,
    "start_time": "2021-12-23T20:51:56.135Z"
   },
   {
    "duration": 15,
    "start_time": "2021-12-23T20:51:56.184Z"
   },
   {
    "duration": 7,
    "start_time": "2021-12-23T20:51:56.202Z"
   },
   {
    "duration": 55,
    "start_time": "2021-12-23T20:51:56.211Z"
   },
   {
    "duration": 374,
    "start_time": "2021-12-23T20:51:56.268Z"
   },
   {
    "duration": 211,
    "start_time": "2021-12-23T20:51:56.644Z"
   },
   {
    "duration": 27,
    "start_time": "2021-12-23T20:51:56.860Z"
   },
   {
    "duration": 21,
    "start_time": "2021-12-23T20:51:56.890Z"
   },
   {
    "duration": 48,
    "start_time": "2021-12-23T20:51:56.914Z"
   },
   {
    "duration": 9,
    "start_time": "2021-12-23T20:51:56.965Z"
   },
   {
    "duration": 2922,
    "start_time": "2021-12-23T20:51:56.976Z"
   },
   {
    "duration": 1506,
    "start_time": "2021-12-23T20:51:59.901Z"
   },
   {
    "duration": 5,
    "start_time": "2021-12-23T20:52:01.410Z"
   },
   {
    "duration": 15,
    "start_time": "2021-12-23T20:52:01.418Z"
   },
   {
    "duration": 25,
    "start_time": "2021-12-23T20:52:01.436Z"
   },
   {
    "duration": 32,
    "start_time": "2021-12-23T20:52:01.464Z"
   },
   {
    "duration": 994,
    "start_time": "2021-12-23T20:52:01.501Z"
   },
   {
    "duration": 7,
    "start_time": "2021-12-23T20:52:02.498Z"
   },
   {
    "duration": 6,
    "start_time": "2021-12-23T20:52:02.507Z"
   },
   {
    "duration": 6,
    "start_time": "2021-12-23T20:52:02.516Z"
   },
   {
    "duration": 74,
    "start_time": "2021-12-23T20:52:02.524Z"
   },
   {
    "duration": 6,
    "start_time": "2021-12-23T20:52:02.601Z"
   },
   {
    "duration": 11,
    "start_time": "2021-12-23T20:52:02.609Z"
   },
   {
    "duration": 48,
    "start_time": "2021-12-23T20:52:02.623Z"
   },
   {
    "duration": 4,
    "start_time": "2021-12-23T20:52:02.673Z"
   },
   {
    "duration": 12,
    "start_time": "2021-12-23T20:52:02.680Z"
   },
   {
    "duration": 5,
    "start_time": "2021-12-23T20:52:02.694Z"
   },
   {
    "duration": 6859,
    "start_time": "2021-12-23T20:52:02.701Z"
   },
   {
    "duration": 5,
    "start_time": "2021-12-23T20:55:01.109Z"
   },
   {
    "duration": 5740,
    "start_time": "2021-12-23T20:55:03.125Z"
   },
   {
    "duration": 4,
    "start_time": "2021-12-23T20:55:42.222Z"
   },
   {
    "duration": 6,
    "start_time": "2021-12-23T20:57:53.365Z"
   },
   {
    "duration": 11,
    "start_time": "2021-12-23T21:00:03.584Z"
   },
   {
    "duration": 5805,
    "start_time": "2021-12-23T21:00:08.569Z"
   },
   {
    "duration": 8,
    "start_time": "2021-12-23T21:01:34.900Z"
   },
   {
    "duration": 6118,
    "start_time": "2021-12-23T21:01:39.003Z"
   },
   {
    "duration": 2814,
    "start_time": "2021-12-23T21:02:28.819Z"
   },
   {
    "duration": 44,
    "start_time": "2021-12-23T21:02:31.637Z"
   },
   {
    "duration": 31,
    "start_time": "2021-12-23T21:02:31.684Z"
   },
   {
    "duration": 55,
    "start_time": "2021-12-23T21:02:31.718Z"
   },
   {
    "duration": 20,
    "start_time": "2021-12-23T21:02:31.775Z"
   },
   {
    "duration": 64,
    "start_time": "2021-12-23T21:02:31.797Z"
   },
   {
    "duration": 31,
    "start_time": "2021-12-23T21:02:31.864Z"
   },
   {
    "duration": 15,
    "start_time": "2021-12-23T21:02:31.899Z"
   },
   {
    "duration": 7,
    "start_time": "2021-12-23T21:02:31.917Z"
   },
   {
    "duration": 35,
    "start_time": "2021-12-23T21:02:31.959Z"
   },
   {
    "duration": 414,
    "start_time": "2021-12-23T21:02:31.996Z"
   },
   {
    "duration": 215,
    "start_time": "2021-12-23T21:02:32.413Z"
   },
   {
    "duration": 38,
    "start_time": "2021-12-23T21:02:32.631Z"
   },
   {
    "duration": 19,
    "start_time": "2021-12-23T21:02:32.671Z"
   },
   {
    "duration": 25,
    "start_time": "2021-12-23T21:02:32.692Z"
   },
   {
    "duration": 9,
    "start_time": "2021-12-23T21:02:32.720Z"
   },
   {
    "duration": 2992,
    "start_time": "2021-12-23T21:02:32.758Z"
   },
   {
    "duration": 1338,
    "start_time": "2021-12-23T21:02:35.759Z"
   },
   {
    "duration": 4,
    "start_time": "2021-12-23T21:02:37.099Z"
   },
   {
    "duration": 6,
    "start_time": "2021-12-23T21:02:37.106Z"
   },
   {
    "duration": 6,
    "start_time": "2021-12-23T21:02:37.114Z"
   },
   {
    "duration": 60,
    "start_time": "2021-12-23T21:02:37.122Z"
   },
   {
    "duration": 902,
    "start_time": "2021-12-23T21:02:37.187Z"
   },
   {
    "duration": 6,
    "start_time": "2021-12-23T21:02:38.092Z"
   },
   {
    "duration": 7,
    "start_time": "2021-12-23T21:02:38.101Z"
   },
   {
    "duration": 6,
    "start_time": "2021-12-23T21:02:38.110Z"
   },
   {
    "duration": 72,
    "start_time": "2021-12-23T21:02:38.118Z"
   },
   {
    "duration": 7,
    "start_time": "2021-12-23T21:02:38.193Z"
   },
   {
    "duration": 10,
    "start_time": "2021-12-23T21:02:38.202Z"
   },
   {
    "duration": 45,
    "start_time": "2021-12-23T21:02:38.214Z"
   },
   {
    "duration": 3,
    "start_time": "2021-12-23T21:02:38.262Z"
   },
   {
    "duration": 11,
    "start_time": "2021-12-23T21:02:38.268Z"
   },
   {
    "duration": 4,
    "start_time": "2021-12-23T21:02:38.282Z"
   },
   {
    "duration": 4014,
    "start_time": "2021-12-23T21:02:38.288Z"
   },
   {
    "duration": 7,
    "start_time": "2021-12-23T21:03:02.388Z"
   },
   {
    "duration": 2642,
    "start_time": "2021-12-23T21:03:15.836Z"
   },
   {
    "duration": 34,
    "start_time": "2021-12-23T21:03:18.481Z"
   },
   {
    "duration": 43,
    "start_time": "2021-12-23T21:03:18.517Z"
   },
   {
    "duration": 31,
    "start_time": "2021-12-23T21:03:18.563Z"
   },
   {
    "duration": 16,
    "start_time": "2021-12-23T21:03:18.596Z"
   },
   {
    "duration": 63,
    "start_time": "2021-12-23T21:03:18.615Z"
   },
   {
    "duration": 25,
    "start_time": "2021-12-23T21:03:18.680Z"
   },
   {
    "duration": 16,
    "start_time": "2021-12-23T21:03:18.709Z"
   },
   {
    "duration": 6,
    "start_time": "2021-12-23T21:03:18.728Z"
   },
   {
    "duration": 41,
    "start_time": "2021-12-23T21:03:18.736Z"
   },
   {
    "duration": 403,
    "start_time": "2021-12-23T21:03:18.780Z"
   },
   {
    "duration": 221,
    "start_time": "2021-12-23T21:03:19.185Z"
   },
   {
    "duration": 50,
    "start_time": "2021-12-23T21:03:19.409Z"
   },
   {
    "duration": 22,
    "start_time": "2021-12-23T21:03:19.461Z"
   },
   {
    "duration": 26,
    "start_time": "2021-12-23T21:03:19.486Z"
   },
   {
    "duration": 9,
    "start_time": "2021-12-23T21:03:19.515Z"
   },
   {
    "duration": 2956,
    "start_time": "2021-12-23T21:03:19.559Z"
   },
   {
    "duration": 1344,
    "start_time": "2021-12-23T21:03:22.519Z"
   },
   {
    "duration": 4,
    "start_time": "2021-12-23T21:03:23.867Z"
   },
   {
    "duration": 8,
    "start_time": "2021-12-23T21:03:23.874Z"
   },
   {
    "duration": 6,
    "start_time": "2021-12-23T21:03:23.884Z"
   },
   {
    "duration": 30,
    "start_time": "2021-12-23T21:03:23.892Z"
   },
   {
    "duration": 896,
    "start_time": "2021-12-23T21:03:23.959Z"
   },
   {
    "duration": 7,
    "start_time": "2021-12-23T21:03:24.859Z"
   },
   {
    "duration": 6,
    "start_time": "2021-12-23T21:03:24.868Z"
   },
   {
    "duration": 5,
    "start_time": "2021-12-23T21:03:24.877Z"
   },
   {
    "duration": 76,
    "start_time": "2021-12-23T21:03:24.884Z"
   },
   {
    "duration": 8,
    "start_time": "2021-12-23T21:03:24.962Z"
   },
   {
    "duration": 9,
    "start_time": "2021-12-23T21:03:24.972Z"
   },
   {
    "duration": 23,
    "start_time": "2021-12-23T21:03:24.983Z"
   },
   {
    "duration": 4,
    "start_time": "2021-12-23T21:03:25.009Z"
   },
   {
    "duration": 10,
    "start_time": "2021-12-23T21:03:25.015Z"
   },
   {
    "duration": 7,
    "start_time": "2021-12-23T21:03:25.059Z"
   },
   {
    "duration": 3898,
    "start_time": "2021-12-23T21:03:25.068Z"
   },
   {
    "duration": 7,
    "start_time": "2021-12-23T21:06:11.834Z"
   },
   {
    "duration": 2622,
    "start_time": "2021-12-23T21:06:21.079Z"
   },
   {
    "duration": 36,
    "start_time": "2021-12-23T21:06:23.704Z"
   },
   {
    "duration": 50,
    "start_time": "2021-12-23T21:06:23.742Z"
   },
   {
    "duration": 30,
    "start_time": "2021-12-23T21:06:23.795Z"
   },
   {
    "duration": 40,
    "start_time": "2021-12-23T21:06:23.828Z"
   },
   {
    "duration": 23,
    "start_time": "2021-12-23T21:06:23.871Z"
   },
   {
    "duration": 27,
    "start_time": "2021-12-23T21:06:23.897Z"
   },
   {
    "duration": 44,
    "start_time": "2021-12-23T21:06:23.929Z"
   },
   {
    "duration": 7,
    "start_time": "2021-12-23T21:06:23.976Z"
   },
   {
    "duration": 22,
    "start_time": "2021-12-23T21:06:23.985Z"
   },
   {
    "duration": 417,
    "start_time": "2021-12-23T21:06:24.009Z"
   },
   {
    "duration": 216,
    "start_time": "2021-12-23T21:06:24.428Z"
   },
   {
    "duration": 31,
    "start_time": "2021-12-23T21:06:24.646Z"
   },
   {
    "duration": 19,
    "start_time": "2021-12-23T21:06:24.680Z"
   },
   {
    "duration": 23,
    "start_time": "2021-12-23T21:06:24.701Z"
   },
   {
    "duration": 37,
    "start_time": "2021-12-23T21:06:24.727Z"
   },
   {
    "duration": 2903,
    "start_time": "2021-12-23T21:06:24.766Z"
   },
   {
    "duration": 1327,
    "start_time": "2021-12-23T21:06:27.671Z"
   },
   {
    "duration": 5,
    "start_time": "2021-12-23T21:06:29.001Z"
   },
   {
    "duration": 10,
    "start_time": "2021-12-23T21:06:29.008Z"
   },
   {
    "duration": 5,
    "start_time": "2021-12-23T21:06:29.020Z"
   },
   {
    "duration": 57,
    "start_time": "2021-12-23T21:06:29.027Z"
   },
   {
    "duration": 912,
    "start_time": "2021-12-23T21:06:29.089Z"
   },
   {
    "duration": 7,
    "start_time": "2021-12-23T21:06:30.004Z"
   },
   {
    "duration": 18,
    "start_time": "2021-12-23T21:06:30.014Z"
   },
   {
    "duration": 13,
    "start_time": "2021-12-23T21:06:30.034Z"
   },
   {
    "duration": 58,
    "start_time": "2021-12-23T21:06:30.050Z"
   },
   {
    "duration": 7,
    "start_time": "2021-12-23T21:06:30.111Z"
   },
   {
    "duration": 15,
    "start_time": "2021-12-23T21:06:30.120Z"
   },
   {
    "duration": 22,
    "start_time": "2021-12-23T21:06:30.160Z"
   },
   {
    "duration": 4,
    "start_time": "2021-12-23T21:06:30.184Z"
   },
   {
    "duration": 16,
    "start_time": "2021-12-23T21:06:30.191Z"
   },
   {
    "duration": 11,
    "start_time": "2021-12-23T21:06:30.210Z"
   },
   {
    "duration": 3935,
    "start_time": "2021-12-23T21:06:30.223Z"
   },
   {
    "duration": 6,
    "start_time": "2021-12-23T21:07:36.286Z"
   },
   {
    "duration": 7,
    "start_time": "2021-12-23T21:07:48.380Z"
   },
   {
    "duration": 2646,
    "start_time": "2021-12-23T21:07:54.081Z"
   },
   {
    "duration": 45,
    "start_time": "2021-12-23T21:07:56.729Z"
   },
   {
    "duration": 30,
    "start_time": "2021-12-23T21:07:56.778Z"
   },
   {
    "duration": 59,
    "start_time": "2021-12-23T21:07:56.811Z"
   },
   {
    "duration": 17,
    "start_time": "2021-12-23T21:07:56.872Z"
   },
   {
    "duration": 24,
    "start_time": "2021-12-23T21:07:56.891Z"
   },
   {
    "duration": 58,
    "start_time": "2021-12-23T21:07:56.917Z"
   },
   {
    "duration": 17,
    "start_time": "2021-12-23T21:07:56.979Z"
   },
   {
    "duration": 6,
    "start_time": "2021-12-23T21:07:56.999Z"
   },
   {
    "duration": 22,
    "start_time": "2021-12-23T21:07:57.007Z"
   },
   {
    "duration": 397,
    "start_time": "2021-12-23T21:07:57.031Z"
   },
   {
    "duration": 207,
    "start_time": "2021-12-23T21:07:57.430Z"
   },
   {
    "duration": 40,
    "start_time": "2021-12-23T21:07:57.639Z"
   },
   {
    "duration": 20,
    "start_time": "2021-12-23T21:07:57.681Z"
   },
   {
    "duration": 25,
    "start_time": "2021-12-23T21:07:57.704Z"
   },
   {
    "duration": 34,
    "start_time": "2021-12-23T21:07:57.731Z"
   },
   {
    "duration": 2863,
    "start_time": "2021-12-23T21:07:57.768Z"
   },
   {
    "duration": 1454,
    "start_time": "2021-12-23T21:08:00.634Z"
   },
   {
    "duration": 5,
    "start_time": "2021-12-23T21:08:02.090Z"
   },
   {
    "duration": 17,
    "start_time": "2021-12-23T21:08:02.098Z"
   },
   {
    "duration": 8,
    "start_time": "2021-12-23T21:08:02.117Z"
   },
   {
    "duration": 65,
    "start_time": "2021-12-23T21:08:02.127Z"
   },
   {
    "duration": 1052,
    "start_time": "2021-12-23T21:08:02.197Z"
   },
   {
    "duration": 6,
    "start_time": "2021-12-23T21:08:03.260Z"
   },
   {
    "duration": 6,
    "start_time": "2021-12-23T21:08:03.269Z"
   },
   {
    "duration": 8,
    "start_time": "2021-12-23T21:08:03.277Z"
   },
   {
    "duration": 88,
    "start_time": "2021-12-23T21:08:03.288Z"
   },
   {
    "duration": 9,
    "start_time": "2021-12-23T21:08:03.379Z"
   },
   {
    "duration": 23,
    "start_time": "2021-12-23T21:08:03.390Z"
   },
   {
    "duration": 29,
    "start_time": "2021-12-23T21:08:03.416Z"
   },
   {
    "duration": 12,
    "start_time": "2021-12-23T21:08:03.448Z"
   },
   {
    "duration": 11,
    "start_time": "2021-12-23T21:08:03.462Z"
   },
   {
    "duration": 5,
    "start_time": "2021-12-23T21:08:03.476Z"
   },
   {
    "duration": 4296,
    "start_time": "2021-12-23T21:08:03.484Z"
   },
   {
    "duration": 2799,
    "start_time": "2021-12-23T21:10:15.251Z"
   },
   {
    "duration": 41,
    "start_time": "2021-12-23T21:10:18.052Z"
   },
   {
    "duration": 30,
    "start_time": "2021-12-23T21:10:18.096Z"
   },
   {
    "duration": 64,
    "start_time": "2021-12-23T21:10:18.130Z"
   },
   {
    "duration": 22,
    "start_time": "2021-12-23T21:10:18.196Z"
   },
   {
    "duration": 63,
    "start_time": "2021-12-23T21:10:18.221Z"
   },
   {
    "duration": 27,
    "start_time": "2021-12-23T21:10:18.287Z"
   },
   {
    "duration": 15,
    "start_time": "2021-12-23T21:10:18.320Z"
   },
   {
    "duration": 8,
    "start_time": "2021-12-23T21:10:18.365Z"
   },
   {
    "duration": 23,
    "start_time": "2021-12-23T21:10:18.376Z"
   },
   {
    "duration": 414,
    "start_time": "2021-12-23T21:10:18.402Z"
   },
   {
    "duration": 218,
    "start_time": "2021-12-23T21:10:18.818Z"
   },
   {
    "duration": 35,
    "start_time": "2021-12-23T21:10:19.038Z"
   },
   {
    "duration": 19,
    "start_time": "2021-12-23T21:10:19.076Z"
   },
   {
    "duration": 24,
    "start_time": "2021-12-23T21:10:19.097Z"
   },
   {
    "duration": 38,
    "start_time": "2021-12-23T21:10:19.123Z"
   },
   {
    "duration": 3158,
    "start_time": "2021-12-23T21:10:19.164Z"
   },
   {
    "duration": 1375,
    "start_time": "2021-12-23T21:10:22.324Z"
   },
   {
    "duration": 4,
    "start_time": "2021-12-23T21:10:23.701Z"
   },
   {
    "duration": 6,
    "start_time": "2021-12-23T21:10:23.707Z"
   },
   {
    "duration": 12,
    "start_time": "2021-12-23T21:10:23.715Z"
   },
   {
    "duration": 58,
    "start_time": "2021-12-23T21:10:23.730Z"
   },
   {
    "duration": 1171,
    "start_time": "2021-12-23T21:10:23.792Z"
   },
   {
    "duration": 7,
    "start_time": "2021-12-23T21:10:24.966Z"
   },
   {
    "duration": 6,
    "start_time": "2021-12-23T21:10:24.975Z"
   },
   {
    "duration": 4,
    "start_time": "2021-12-23T21:10:24.984Z"
   },
   {
    "duration": 85,
    "start_time": "2021-12-23T21:10:24.990Z"
   },
   {
    "duration": 7,
    "start_time": "2021-12-23T21:10:25.077Z"
   },
   {
    "duration": 14,
    "start_time": "2021-12-23T21:10:25.086Z"
   },
   {
    "duration": 25,
    "start_time": "2021-12-23T21:10:25.103Z"
   },
   {
    "duration": 28,
    "start_time": "2021-12-23T21:10:25.131Z"
   },
   {
    "duration": 10,
    "start_time": "2021-12-23T21:10:25.162Z"
   },
   {
    "duration": 4,
    "start_time": "2021-12-23T21:10:25.174Z"
   },
   {
    "duration": 21349,
    "start_time": "2021-12-23T21:10:25.181Z"
   },
   {
    "duration": 55,
    "start_time": "2021-12-23T21:11:49.325Z"
   },
   {
    "duration": 21,
    "start_time": "2021-12-23T21:12:03.472Z"
   },
   {
    "duration": 23783,
    "start_time": "2021-12-23T21:12:09.561Z"
   },
   {
    "duration": 6,
    "start_time": "2021-12-23T21:14:27.981Z"
   },
   {
    "duration": 22147,
    "start_time": "2021-12-23T21:14:31.036Z"
   },
   {
    "duration": 7,
    "start_time": "2021-12-23T21:15:43.802Z"
   },
   {
    "duration": 21534,
    "start_time": "2021-12-23T21:26:30.510Z"
   },
   {
    "duration": 3508,
    "start_time": "2021-12-23T21:27:08.425Z"
   },
   {
    "duration": 57,
    "start_time": "2021-12-23T21:27:11.936Z"
   },
   {
    "duration": 67,
    "start_time": "2021-12-23T21:27:11.997Z"
   },
   {
    "duration": 41,
    "start_time": "2021-12-23T21:27:12.067Z"
   },
   {
    "duration": 48,
    "start_time": "2021-12-23T21:27:12.111Z"
   },
   {
    "duration": 36,
    "start_time": "2021-12-23T21:27:12.162Z"
   },
   {
    "duration": 58,
    "start_time": "2021-12-23T21:27:12.201Z"
   },
   {
    "duration": 20,
    "start_time": "2021-12-23T21:27:12.265Z"
   },
   {
    "duration": 8,
    "start_time": "2021-12-23T21:27:12.288Z"
   },
   {
    "duration": 25,
    "start_time": "2021-12-23T21:27:12.299Z"
   },
   {
    "duration": 417,
    "start_time": "2021-12-23T21:27:12.327Z"
   },
   {
    "duration": 231,
    "start_time": "2021-12-23T21:27:12.747Z"
   },
   {
    "duration": 27,
    "start_time": "2021-12-23T21:27:12.980Z"
   },
   {
    "duration": 20,
    "start_time": "2021-12-23T21:27:13.009Z"
   },
   {
    "duration": 48,
    "start_time": "2021-12-23T21:27:13.032Z"
   },
   {
    "duration": 9,
    "start_time": "2021-12-23T21:27:13.083Z"
   },
   {
    "duration": 3679,
    "start_time": "2021-12-23T21:27:13.095Z"
   },
   {
    "duration": 1942,
    "start_time": "2021-12-23T21:27:16.777Z"
   },
   {
    "duration": 4,
    "start_time": "2021-12-23T21:27:18.721Z"
   },
   {
    "duration": 6,
    "start_time": "2021-12-23T21:27:18.727Z"
   },
   {
    "duration": 4,
    "start_time": "2021-12-23T21:27:18.761Z"
   },
   {
    "duration": 35,
    "start_time": "2021-12-23T21:27:18.767Z"
   },
   {
    "duration": 910,
    "start_time": "2021-12-23T21:27:18.807Z"
   },
   {
    "duration": 7,
    "start_time": "2021-12-23T21:27:19.720Z"
   },
   {
    "duration": 7,
    "start_time": "2021-12-23T21:27:19.730Z"
   },
   {
    "duration": 20,
    "start_time": "2021-12-23T21:27:19.739Z"
   },
   {
    "duration": 50,
    "start_time": "2021-12-23T21:27:19.762Z"
   },
   {
    "duration": 17,
    "start_time": "2021-12-23T21:27:19.815Z"
   },
   {
    "duration": 8,
    "start_time": "2021-12-23T21:27:19.860Z"
   },
   {
    "duration": 24,
    "start_time": "2021-12-23T21:27:19.870Z"
   },
   {
    "duration": 4,
    "start_time": "2021-12-23T21:27:19.896Z"
   },
   {
    "duration": 12,
    "start_time": "2021-12-23T21:27:19.903Z"
   },
   {
    "duration": 5,
    "start_time": "2021-12-23T21:27:19.917Z"
   },
   {
    "duration": 3719,
    "start_time": "2021-12-23T21:27:19.925Z"
   },
   {
    "duration": 2624,
    "start_time": "2021-12-23T22:01:54.125Z"
   },
   {
    "duration": 40,
    "start_time": "2021-12-23T22:01:56.752Z"
   },
   {
    "duration": 30,
    "start_time": "2021-12-23T22:01:56.794Z"
   },
   {
    "duration": 54,
    "start_time": "2021-12-23T22:01:56.827Z"
   },
   {
    "duration": 17,
    "start_time": "2021-12-23T22:01:56.884Z"
   },
   {
    "duration": 24,
    "start_time": "2021-12-23T22:01:56.903Z"
   },
   {
    "duration": 50,
    "start_time": "2021-12-23T22:01:56.930Z"
   },
   {
    "duration": 16,
    "start_time": "2021-12-23T22:01:56.983Z"
   },
   {
    "duration": 6,
    "start_time": "2021-12-23T22:01:57.002Z"
   },
   {
    "duration": 53,
    "start_time": "2021-12-23T22:01:57.010Z"
   },
   {
    "duration": 377,
    "start_time": "2021-12-23T22:01:57.066Z"
   },
   {
    "duration": 214,
    "start_time": "2021-12-23T22:01:57.446Z"
   },
   {
    "duration": 27,
    "start_time": "2021-12-23T22:01:57.663Z"
   },
   {
    "duration": 19,
    "start_time": "2021-12-23T22:01:57.692Z"
   },
   {
    "duration": 58,
    "start_time": "2021-12-23T22:01:57.714Z"
   },
   {
    "duration": 9,
    "start_time": "2021-12-23T22:01:57.776Z"
   },
   {
    "duration": 3059,
    "start_time": "2021-12-23T22:01:57.788Z"
   },
   {
    "duration": 1367,
    "start_time": "2021-12-23T22:02:00.849Z"
   },
   {
    "duration": 5,
    "start_time": "2021-12-23T22:02:02.219Z"
   },
   {
    "duration": 51,
    "start_time": "2021-12-23T22:02:02.227Z"
   },
   {
    "duration": 92,
    "start_time": "2021-12-23T22:02:02.282Z"
   },
   {
    "duration": 256,
    "start_time": "2021-12-23T22:02:02.378Z"
   },
   {
    "duration": 1142,
    "start_time": "2021-12-23T22:02:02.647Z"
   },
   {
    "duration": 647,
    "start_time": "2021-12-23T22:02:03.792Z"
   },
   {
    "duration": -395,
    "start_time": "2021-12-23T22:02:04.837Z"
   },
   {
    "duration": -397,
    "start_time": "2021-12-23T22:02:04.841Z"
   },
   {
    "duration": -413,
    "start_time": "2021-12-23T22:02:04.859Z"
   },
   {
    "duration": -415,
    "start_time": "2021-12-23T22:02:04.862Z"
   },
   {
    "duration": -415,
    "start_time": "2021-12-23T22:02:04.863Z"
   },
   {
    "duration": -414,
    "start_time": "2021-12-23T22:02:04.864Z"
   },
   {
    "duration": -563,
    "start_time": "2021-12-23T22:02:05.014Z"
   },
   {
    "duration": -566,
    "start_time": "2021-12-23T22:02:05.018Z"
   },
   {
    "duration": -566,
    "start_time": "2021-12-23T22:02:05.020Z"
   },
   {
    "duration": 2664,
    "start_time": "2021-12-23T22:02:18.700Z"
   },
   {
    "duration": 37,
    "start_time": "2021-12-23T22:02:21.367Z"
   },
   {
    "duration": 54,
    "start_time": "2021-12-23T22:02:21.407Z"
   },
   {
    "duration": 31,
    "start_time": "2021-12-23T22:02:21.463Z"
   },
   {
    "duration": 19,
    "start_time": "2021-12-23T22:02:21.497Z"
   },
   {
    "duration": 62,
    "start_time": "2021-12-23T22:02:21.519Z"
   },
   {
    "duration": 28,
    "start_time": "2021-12-23T22:02:21.583Z"
   },
   {
    "duration": 17,
    "start_time": "2021-12-23T22:02:21.617Z"
   },
   {
    "duration": 9,
    "start_time": "2021-12-23T22:02:21.662Z"
   },
   {
    "duration": 27,
    "start_time": "2021-12-23T22:02:21.673Z"
   },
   {
    "duration": 419,
    "start_time": "2021-12-23T22:02:21.702Z"
   },
   {
    "duration": 214,
    "start_time": "2021-12-23T22:02:22.123Z"
   },
   {
    "duration": 34,
    "start_time": "2021-12-23T22:02:22.340Z"
   },
   {
    "duration": 21,
    "start_time": "2021-12-23T22:02:22.376Z"
   },
   {
    "duration": 26,
    "start_time": "2021-12-23T22:02:22.400Z"
   },
   {
    "duration": 38,
    "start_time": "2021-12-23T22:02:22.428Z"
   },
   {
    "duration": 2992,
    "start_time": "2021-12-23T22:02:22.470Z"
   },
   {
    "duration": 1324,
    "start_time": "2021-12-23T22:02:25.464Z"
   },
   {
    "duration": 3,
    "start_time": "2021-12-23T22:02:26.791Z"
   },
   {
    "duration": 22,
    "start_time": "2021-12-23T22:02:26.797Z"
   },
   {
    "duration": 5,
    "start_time": "2021-12-23T22:02:26.822Z"
   },
   {
    "duration": 45,
    "start_time": "2021-12-23T22:02:26.829Z"
   },
   {
    "duration": 880,
    "start_time": "2021-12-23T22:02:26.879Z"
   },
   {
    "duration": 4,
    "start_time": "2021-12-23T22:02:27.761Z"
   },
   {
    "duration": 52,
    "start_time": "2021-12-23T22:02:27.767Z"
   },
   {
    "duration": 38,
    "start_time": "2021-12-23T22:02:27.822Z"
   },
   {
    "duration": 8,
    "start_time": "2021-12-23T22:02:27.862Z"
   },
   {
    "duration": 27,
    "start_time": "2021-12-23T22:02:27.872Z"
   },
   {
    "duration": 4,
    "start_time": "2021-12-23T22:02:27.901Z"
   },
   {
    "duration": 11,
    "start_time": "2021-12-23T22:02:27.907Z"
   },
   {
    "duration": 4,
    "start_time": "2021-12-23T22:02:27.920Z"
   },
   {
    "duration": 2261,
    "start_time": "2021-12-23T22:02:27.959Z"
   },
   {
    "duration": 7,
    "start_time": "2021-12-23T22:08:59.591Z"
   },
   {
    "duration": 4,
    "start_time": "2021-12-23T22:09:00.717Z"
   },
   {
    "duration": 378,
    "start_time": "2021-12-23T22:12:18.848Z"
   },
   {
    "duration": 461,
    "start_time": "2021-12-23T22:12:36.351Z"
   },
   {
    "duration": 2598,
    "start_time": "2021-12-23T22:13:38.480Z"
   },
   {
    "duration": 36,
    "start_time": "2021-12-23T22:13:41.081Z"
   },
   {
    "duration": 50,
    "start_time": "2021-12-23T22:13:41.120Z"
   },
   {
    "duration": 45,
    "start_time": "2021-12-23T22:13:41.173Z"
   },
   {
    "duration": 45,
    "start_time": "2021-12-23T22:13:41.221Z"
   },
   {
    "duration": 25,
    "start_time": "2021-12-23T22:13:41.268Z"
   },
   {
    "duration": 27,
    "start_time": "2021-12-23T22:13:41.296Z"
   },
   {
    "duration": 45,
    "start_time": "2021-12-23T22:13:41.329Z"
   },
   {
    "duration": 6,
    "start_time": "2021-12-23T22:13:41.378Z"
   },
   {
    "duration": 20,
    "start_time": "2021-12-23T22:13:41.387Z"
   },
   {
    "duration": 397,
    "start_time": "2021-12-23T22:13:41.410Z"
   },
   {
    "duration": 208,
    "start_time": "2021-12-23T22:13:41.809Z"
   },
   {
    "duration": 25,
    "start_time": "2021-12-23T22:13:42.020Z"
   },
   {
    "duration": 28,
    "start_time": "2021-12-23T22:13:42.047Z"
   },
   {
    "duration": 24,
    "start_time": "2021-12-23T22:13:42.078Z"
   },
   {
    "duration": 8,
    "start_time": "2021-12-23T22:13:42.104Z"
   },
   {
    "duration": 2940,
    "start_time": "2021-12-23T22:13:42.114Z"
   },
   {
    "duration": 1380,
    "start_time": "2021-12-23T22:13:45.059Z"
   },
   {
    "duration": 4,
    "start_time": "2021-12-23T22:13:46.442Z"
   },
   {
    "duration": 5,
    "start_time": "2021-12-23T22:13:46.460Z"
   },
   {
    "duration": 8,
    "start_time": "2021-12-23T22:13:46.468Z"
   },
   {
    "duration": 31,
    "start_time": "2021-12-23T22:13:46.478Z"
   },
   {
    "duration": 914,
    "start_time": "2021-12-23T22:13:46.515Z"
   },
   {
    "duration": 7,
    "start_time": "2021-12-23T22:13:47.432Z"
   },
   {
    "duration": 5,
    "start_time": "2021-12-23T22:13:47.442Z"
   },
   {
    "duration": 6,
    "start_time": "2021-12-23T22:13:47.459Z"
   },
   {
    "duration": 10,
    "start_time": "2021-12-23T22:13:47.467Z"
   },
   {
    "duration": 52,
    "start_time": "2021-12-23T22:13:47.479Z"
   },
   {
    "duration": 42,
    "start_time": "2021-12-23T22:13:47.533Z"
   },
   {
    "duration": 8,
    "start_time": "2021-12-23T22:13:47.577Z"
   },
   {
    "duration": 25,
    "start_time": "2021-12-23T22:13:47.588Z"
   },
   {
    "duration": 12,
    "start_time": "2021-12-23T22:13:47.617Z"
   },
   {
    "duration": 5,
    "start_time": "2021-12-23T22:13:47.660Z"
   },
   {
    "duration": 3703,
    "start_time": "2021-12-23T22:13:47.669Z"
   },
   {
    "duration": 371,
    "start_time": "2021-12-23T22:14:59.090Z"
   },
   {
    "duration": 158,
    "start_time": "2021-12-23T22:15:09.962Z"
   },
   {
    "duration": 404,
    "start_time": "2021-12-23T22:15:23.611Z"
   },
   {
    "duration": 469,
    "start_time": "2021-12-23T22:15:42.260Z"
   },
   {
    "duration": 365,
    "start_time": "2021-12-23T22:16:05.465Z"
   },
   {
    "duration": 1279,
    "start_time": "2021-12-23T22:16:12.411Z"
   },
   {
    "duration": 19,
    "start_time": "2021-12-23T22:16:14.637Z"
   },
   {
    "duration": 21,
    "start_time": "2021-12-23T22:16:21.461Z"
   },
   {
    "duration": 25,
    "start_time": "2021-12-23T22:20:08.041Z"
   },
   {
    "duration": 23,
    "start_time": "2021-12-23T22:20:20.172Z"
   },
   {
    "duration": 2676,
    "start_time": "2021-12-23T22:20:48.128Z"
   },
   {
    "duration": 2684,
    "start_time": "2021-12-23T22:21:19.308Z"
   },
   {
    "duration": 47,
    "start_time": "2021-12-23T22:21:38.582Z"
   },
   {
    "duration": 11645,
    "start_time": "2021-12-23T22:21:57.120Z"
   },
   {
    "duration": 8016,
    "start_time": "2021-12-23T22:22:09.996Z"
   },
   {
    "duration": 3133,
    "start_time": "2021-12-23T22:22:33.496Z"
   },
   {
    "duration": 44,
    "start_time": "2021-12-23T22:22:36.632Z"
   },
   {
    "duration": 31,
    "start_time": "2021-12-23T22:22:36.679Z"
   },
   {
    "duration": 60,
    "start_time": "2021-12-23T22:22:36.713Z"
   },
   {
    "duration": 18,
    "start_time": "2021-12-23T22:22:36.775Z"
   },
   {
    "duration": 26,
    "start_time": "2021-12-23T22:22:36.796Z"
   },
   {
    "duration": 53,
    "start_time": "2021-12-23T22:22:36.825Z"
   },
   {
    "duration": 15,
    "start_time": "2021-12-23T22:22:36.883Z"
   },
   {
    "duration": 6,
    "start_time": "2021-12-23T22:22:36.901Z"
   },
   {
    "duration": 57,
    "start_time": "2021-12-23T22:22:36.910Z"
   },
   {
    "duration": 384,
    "start_time": "2021-12-23T22:22:36.969Z"
   },
   {
    "duration": 211,
    "start_time": "2021-12-23T22:22:37.359Z"
   },
   {
    "duration": 27,
    "start_time": "2021-12-23T22:22:37.572Z"
   },
   {
    "duration": 20,
    "start_time": "2021-12-23T22:22:37.601Z"
   },
   {
    "duration": 49,
    "start_time": "2021-12-23T22:22:37.624Z"
   },
   {
    "duration": 9,
    "start_time": "2021-12-23T22:22:37.676Z"
   },
   {
    "duration": 2990,
    "start_time": "2021-12-23T22:22:37.687Z"
   },
   {
    "duration": 1463,
    "start_time": "2021-12-23T22:22:40.680Z"
   },
   {
    "duration": 4,
    "start_time": "2021-12-23T22:22:42.146Z"
   },
   {
    "duration": 4,
    "start_time": "2021-12-23T22:22:42.159Z"
   },
   {
    "duration": 5,
    "start_time": "2021-12-23T22:22:42.166Z"
   },
   {
    "duration": 32,
    "start_time": "2021-12-23T22:22:42.173Z"
   },
   {
    "duration": 1268,
    "start_time": "2021-12-23T22:22:42.209Z"
   },
   {
    "duration": 526,
    "start_time": "2021-12-23T22:22:43.481Z"
   },
   {
    "duration": -7,
    "start_time": "2021-12-23T22:22:44.016Z"
   },
   {
    "duration": -10,
    "start_time": "2021-12-23T22:22:44.021Z"
   },
   {
    "duration": -11,
    "start_time": "2021-12-23T22:22:44.023Z"
   },
   {
    "duration": -10,
    "start_time": "2021-12-23T22:22:44.024Z"
   },
   {
    "duration": -13,
    "start_time": "2021-12-23T22:22:44.028Z"
   },
   {
    "duration": -14,
    "start_time": "2021-12-23T22:22:44.030Z"
   },
   {
    "duration": -13,
    "start_time": "2021-12-23T22:22:44.031Z"
   },
   {
    "duration": -14,
    "start_time": "2021-12-23T22:22:44.033Z"
   },
   {
    "duration": -17,
    "start_time": "2021-12-23T22:22:44.037Z"
   },
   {
    "duration": -17,
    "start_time": "2021-12-23T22:22:44.039Z"
   },
   {
    "duration": 2620,
    "start_time": "2021-12-23T22:23:13.700Z"
   },
   {
    "duration": 42,
    "start_time": "2021-12-23T22:23:16.323Z"
   },
   {
    "duration": 31,
    "start_time": "2021-12-23T22:23:16.368Z"
   },
   {
    "duration": 58,
    "start_time": "2021-12-23T22:23:16.401Z"
   },
   {
    "duration": 17,
    "start_time": "2021-12-23T22:23:16.462Z"
   },
   {
    "duration": 26,
    "start_time": "2021-12-23T22:23:16.482Z"
   },
   {
    "duration": 58,
    "start_time": "2021-12-23T22:23:16.510Z"
   },
   {
    "duration": 16,
    "start_time": "2021-12-23T22:23:16.572Z"
   },
   {
    "duration": 5,
    "start_time": "2021-12-23T22:23:16.591Z"
   },
   {
    "duration": 22,
    "start_time": "2021-12-23T22:23:16.599Z"
   },
   {
    "duration": 401,
    "start_time": "2021-12-23T22:23:16.623Z"
   },
   {
    "duration": 211,
    "start_time": "2021-12-23T22:23:17.026Z"
   },
   {
    "duration": 39,
    "start_time": "2021-12-23T22:23:17.239Z"
   },
   {
    "duration": 21,
    "start_time": "2021-12-23T22:23:17.280Z"
   },
   {
    "duration": 23,
    "start_time": "2021-12-23T22:23:17.303Z"
   },
   {
    "duration": 31,
    "start_time": "2021-12-23T22:23:17.329Z"
   },
   {
    "duration": 2891,
    "start_time": "2021-12-23T22:23:17.363Z"
   },
   {
    "duration": 1443,
    "start_time": "2021-12-23T22:23:20.260Z"
   },
   {
    "duration": 4,
    "start_time": "2021-12-23T22:23:21.705Z"
   },
   {
    "duration": 6,
    "start_time": "2021-12-23T22:23:21.711Z"
   },
   {
    "duration": 7,
    "start_time": "2021-12-23T22:23:21.719Z"
   },
   {
    "duration": 57,
    "start_time": "2021-12-23T22:23:21.728Z"
   },
   {
    "duration": 886,
    "start_time": "2021-12-23T22:23:21.789Z"
   },
   {
    "duration": 532,
    "start_time": "2021-12-23T22:23:22.678Z"
   },
   {
    "duration": -15,
    "start_time": "2021-12-23T22:23:23.228Z"
   },
   {
    "duration": -16,
    "start_time": "2021-12-23T22:23:23.230Z"
   },
   {
    "duration": -16,
    "start_time": "2021-12-23T22:23:23.232Z"
   },
   {
    "duration": -16,
    "start_time": "2021-12-23T22:23:23.233Z"
   },
   {
    "duration": -19,
    "start_time": "2021-12-23T22:23:23.238Z"
   },
   {
    "duration": -20,
    "start_time": "2021-12-23T22:23:23.240Z"
   },
   {
    "duration": -19,
    "start_time": "2021-12-23T22:23:23.241Z"
   },
   {
    "duration": -20,
    "start_time": "2021-12-23T22:23:23.243Z"
   },
   {
    "duration": -20,
    "start_time": "2021-12-23T22:23:23.244Z"
   },
   {
    "duration": -20,
    "start_time": "2021-12-23T22:23:23.246Z"
   },
   {
    "duration": 2625,
    "start_time": "2021-12-23T22:25:00.688Z"
   },
   {
    "duration": 45,
    "start_time": "2021-12-23T22:25:03.316Z"
   },
   {
    "duration": 32,
    "start_time": "2021-12-23T22:25:03.364Z"
   },
   {
    "duration": 32,
    "start_time": "2021-12-23T22:25:03.399Z"
   },
   {
    "duration": 42,
    "start_time": "2021-12-23T22:25:03.433Z"
   },
   {
    "duration": 24,
    "start_time": "2021-12-23T22:25:03.477Z"
   },
   {
    "duration": 64,
    "start_time": "2021-12-23T22:25:03.503Z"
   },
   {
    "duration": 16,
    "start_time": "2021-12-23T22:25:03.572Z"
   },
   {
    "duration": 7,
    "start_time": "2021-12-23T22:25:03.592Z"
   },
   {
    "duration": 23,
    "start_time": "2021-12-23T22:25:03.602Z"
   },
   {
    "duration": 421,
    "start_time": "2021-12-23T22:25:03.627Z"
   },
   {
    "duration": 214,
    "start_time": "2021-12-23T22:25:04.050Z"
   },
   {
    "duration": 29,
    "start_time": "2021-12-23T22:25:04.267Z"
   },
   {
    "duration": 21,
    "start_time": "2021-12-23T22:25:04.299Z"
   },
   {
    "duration": 52,
    "start_time": "2021-12-23T22:25:04.323Z"
   },
   {
    "duration": 8,
    "start_time": "2021-12-23T22:25:04.377Z"
   },
   {
    "duration": 3133,
    "start_time": "2021-12-23T22:25:04.387Z"
   },
   {
    "duration": 1341,
    "start_time": "2021-12-23T22:25:07.522Z"
   },
   {
    "duration": 3,
    "start_time": "2021-12-23T22:25:08.866Z"
   },
   {
    "duration": 16,
    "start_time": "2021-12-23T22:25:08.872Z"
   },
   {
    "duration": 6,
    "start_time": "2021-12-23T22:25:08.891Z"
   },
   {
    "duration": 35,
    "start_time": "2021-12-23T22:25:08.899Z"
   },
   {
    "duration": 880,
    "start_time": "2021-12-23T22:25:08.939Z"
   },
   {
    "duration": 3,
    "start_time": "2021-12-23T22:25:09.822Z"
   },
   {
    "duration": 65,
    "start_time": "2021-12-23T22:25:09.827Z"
   },
   {
    "duration": 17,
    "start_time": "2021-12-23T22:25:09.894Z"
   },
   {
    "duration": 7,
    "start_time": "2021-12-23T22:25:09.913Z"
   },
   {
    "duration": 9786,
    "start_time": "2021-12-23T22:25:09.923Z"
   },
   {
    "duration": -240,
    "start_time": "2021-12-23T22:25:19.951Z"
   },
   {
    "duration": -240,
    "start_time": "2021-12-23T22:25:19.953Z"
   },
   {
    "duration": -238,
    "start_time": "2021-12-23T22:25:19.954Z"
   },
   {
    "duration": -239,
    "start_time": "2021-12-23T22:25:19.956Z"
   },
   {
    "duration": 7,
    "start_time": "2021-12-23T22:26:00.775Z"
   },
   {
    "duration": 38,
    "start_time": "2021-12-23T22:26:08.691Z"
   },
   {
    "duration": 18,
    "start_time": "2021-12-23T22:26:42.739Z"
   },
   {
    "duration": 47,
    "start_time": "2021-12-23T22:26:51.585Z"
   },
   {
    "duration": 2646,
    "start_time": "2021-12-23T22:26:59.583Z"
   },
   {
    "duration": 43,
    "start_time": "2021-12-23T22:27:02.232Z"
   },
   {
    "duration": 32,
    "start_time": "2021-12-23T22:27:02.279Z"
   },
   {
    "duration": 67,
    "start_time": "2021-12-23T22:27:02.315Z"
   },
   {
    "duration": 18,
    "start_time": "2021-12-23T22:27:02.386Z"
   },
   {
    "duration": 55,
    "start_time": "2021-12-23T22:27:02.407Z"
   },
   {
    "duration": 29,
    "start_time": "2021-12-23T22:27:02.465Z"
   },
   {
    "duration": 18,
    "start_time": "2021-12-23T22:27:02.500Z"
   },
   {
    "duration": 9,
    "start_time": "2021-12-23T22:27:02.522Z"
   },
   {
    "duration": 24,
    "start_time": "2021-12-23T22:27:02.560Z"
   },
   {
    "duration": 399,
    "start_time": "2021-12-23T22:27:02.587Z"
   },
   {
    "duration": 211,
    "start_time": "2021-12-23T22:27:02.988Z"
   },
   {
    "duration": 29,
    "start_time": "2021-12-23T22:27:03.201Z"
   },
   {
    "duration": 39,
    "start_time": "2021-12-23T22:27:03.233Z"
   },
   {
    "duration": 23,
    "start_time": "2021-12-23T22:27:03.275Z"
   },
   {
    "duration": 8,
    "start_time": "2021-12-23T22:27:03.300Z"
   },
   {
    "duration": 2912,
    "start_time": "2021-12-23T22:27:03.311Z"
   },
   {
    "duration": 1338,
    "start_time": "2021-12-23T22:27:06.226Z"
   },
   {
    "duration": 4,
    "start_time": "2021-12-23T22:27:07.566Z"
   },
   {
    "duration": 6,
    "start_time": "2021-12-23T22:27:07.572Z"
   },
   {
    "duration": 5,
    "start_time": "2021-12-23T22:27:07.581Z"
   },
   {
    "duration": 31,
    "start_time": "2021-12-23T22:27:07.589Z"
   },
   {
    "duration": 899,
    "start_time": "2021-12-23T22:27:07.626Z"
   },
   {
    "duration": 4,
    "start_time": "2021-12-23T22:27:08.528Z"
   },
   {
    "duration": 71,
    "start_time": "2021-12-23T22:27:08.535Z"
   },
   {
    "duration": 19,
    "start_time": "2021-12-23T22:27:08.609Z"
   },
   {
    "duration": 34,
    "start_time": "2021-12-23T22:27:08.630Z"
   },
   {
    "duration": 50,
    "start_time": "2021-12-23T22:27:08.668Z"
   },
   {
    "duration": 55,
    "start_time": "2021-12-23T22:27:08.721Z"
   },
   {
    "duration": 12,
    "start_time": "2021-12-23T22:27:08.779Z"
   },
   {
    "duration": 5,
    "start_time": "2021-12-23T22:27:08.794Z"
   },
   {
    "duration": 1932,
    "start_time": "2021-12-23T22:27:08.801Z"
   },
   {
    "duration": 7,
    "start_time": "2021-12-23T22:27:32.124Z"
   },
   {
    "duration": 2567,
    "start_time": "2021-12-23T22:28:38.498Z"
   },
   {
    "duration": 39,
    "start_time": "2021-12-23T22:28:41.068Z"
   },
   {
    "duration": 58,
    "start_time": "2021-12-23T22:28:41.110Z"
   },
   {
    "duration": 50,
    "start_time": "2021-12-23T22:28:41.170Z"
   },
   {
    "duration": 26,
    "start_time": "2021-12-23T22:28:41.223Z"
   },
   {
    "duration": 27,
    "start_time": "2021-12-23T22:28:41.259Z"
   },
   {
    "duration": 26,
    "start_time": "2021-12-23T22:28:41.289Z"
   },
   {
    "duration": 41,
    "start_time": "2021-12-23T22:28:41.318Z"
   },
   {
    "duration": 6,
    "start_time": "2021-12-23T22:28:41.362Z"
   },
   {
    "duration": 21,
    "start_time": "2021-12-23T22:28:41.371Z"
   },
   {
    "duration": 402,
    "start_time": "2021-12-23T22:28:41.395Z"
   },
   {
    "duration": 212,
    "start_time": "2021-12-23T22:28:41.799Z"
   },
   {
    "duration": 26,
    "start_time": "2021-12-23T22:28:42.013Z"
   },
   {
    "duration": 33,
    "start_time": "2021-12-23T22:28:42.041Z"
   },
   {
    "duration": 24,
    "start_time": "2021-12-23T22:28:42.076Z"
   },
   {
    "duration": 8,
    "start_time": "2021-12-23T22:28:42.103Z"
   },
   {
    "duration": 2896,
    "start_time": "2021-12-23T22:28:42.114Z"
   },
   {
    "duration": 1524,
    "start_time": "2021-12-23T22:28:45.012Z"
   },
   {
    "duration": 4,
    "start_time": "2021-12-23T22:28:46.539Z"
   },
   {
    "duration": 16,
    "start_time": "2021-12-23T22:28:46.545Z"
   },
   {
    "duration": 6,
    "start_time": "2021-12-23T22:28:46.564Z"
   },
   {
    "duration": 30,
    "start_time": "2021-12-23T22:28:46.573Z"
   },
   {
    "duration": 907,
    "start_time": "2021-12-23T22:28:46.610Z"
   },
   {
    "duration": 7,
    "start_time": "2021-12-23T22:28:47.520Z"
   },
   {
    "duration": 508,
    "start_time": "2021-12-23T22:28:47.530Z"
   },
   {
    "duration": 2,
    "start_time": "2021-12-23T22:28:48.039Z"
   },
   {
    "duration": 2,
    "start_time": "2021-12-23T22:28:48.041Z"
   },
   {
    "duration": 0,
    "start_time": "2021-12-23T22:28:48.045Z"
   },
   {
    "duration": -1,
    "start_time": "2021-12-23T22:28:48.049Z"
   },
   {
    "duration": -3,
    "start_time": "2021-12-23T22:28:48.053Z"
   },
   {
    "duration": -1,
    "start_time": "2021-12-23T22:28:48.054Z"
   },
   {
    "duration": -2,
    "start_time": "2021-12-23T22:28:48.057Z"
   },
   {
    "duration": -1,
    "start_time": "2021-12-23T22:28:48.058Z"
   },
   {
    "duration": 2688,
    "start_time": "2021-12-23T22:29:05.492Z"
   },
   {
    "duration": 36,
    "start_time": "2021-12-23T22:29:08.183Z"
   },
   {
    "duration": 49,
    "start_time": "2021-12-23T22:29:08.221Z"
   },
   {
    "duration": 35,
    "start_time": "2021-12-23T22:29:08.273Z"
   },
   {
    "duration": 48,
    "start_time": "2021-12-23T22:29:08.311Z"
   },
   {
    "duration": 26,
    "start_time": "2021-12-23T22:29:08.362Z"
   },
   {
    "duration": 29,
    "start_time": "2021-12-23T22:29:08.391Z"
   },
   {
    "duration": 44,
    "start_time": "2021-12-23T22:29:08.426Z"
   },
   {
    "duration": 7,
    "start_time": "2021-12-23T22:29:08.474Z"
   },
   {
    "duration": 24,
    "start_time": "2021-12-23T22:29:08.484Z"
   },
   {
    "duration": 430,
    "start_time": "2021-12-23T22:29:08.510Z"
   },
   {
    "duration": 330,
    "start_time": "2021-12-23T22:29:08.943Z"
   },
   {
    "duration": 27,
    "start_time": "2021-12-23T22:29:09.276Z"
   },
   {
    "duration": 20,
    "start_time": "2021-12-23T22:29:09.305Z"
   },
   {
    "duration": 48,
    "start_time": "2021-12-23T22:29:09.327Z"
   },
   {
    "duration": 8,
    "start_time": "2021-12-23T22:29:09.378Z"
   },
   {
    "duration": 3107,
    "start_time": "2021-12-23T22:29:09.388Z"
   },
   {
    "duration": 1800,
    "start_time": "2021-12-23T22:29:12.497Z"
   },
   {
    "duration": 4,
    "start_time": "2021-12-23T22:29:14.300Z"
   },
   {
    "duration": 5,
    "start_time": "2021-12-23T22:29:14.307Z"
   },
   {
    "duration": 7,
    "start_time": "2021-12-23T22:29:14.315Z"
   },
   {
    "duration": 56,
    "start_time": "2021-12-23T22:29:14.324Z"
   },
   {
    "duration": 885,
    "start_time": "2021-12-23T22:29:14.384Z"
   },
   {
    "duration": 9,
    "start_time": "2021-12-23T22:29:15.272Z"
   },
   {
    "duration": 11,
    "start_time": "2021-12-23T22:29:15.284Z"
   },
   {
    "duration": 70,
    "start_time": "2021-12-23T22:29:15.298Z"
   },
   {
    "duration": 17,
    "start_time": "2021-12-23T22:29:15.371Z"
   },
   {
    "duration": 8,
    "start_time": "2021-12-23T22:29:15.390Z"
   },
   {
    "duration": 28,
    "start_time": "2021-12-23T22:29:15.400Z"
   },
   {
    "duration": 35,
    "start_time": "2021-12-23T22:29:15.431Z"
   },
   {
    "duration": 9,
    "start_time": "2021-12-23T22:29:15.469Z"
   },
   {
    "duration": 1944,
    "start_time": "2021-12-23T22:29:15.480Z"
   },
   {
    "duration": 3,
    "start_time": "2021-12-23T22:29:34.314Z"
   },
   {
    "duration": 4,
    "start_time": "2021-12-23T22:29:46.732Z"
   },
   {
    "duration": 21777,
    "start_time": "2021-12-23T22:29:52.102Z"
   },
   {
    "duration": 2959,
    "start_time": "2021-12-23T22:30:55.002Z"
   },
   {
    "duration": 2799,
    "start_time": "2021-12-23T22:31:06.593Z"
   },
   {
    "duration": 2851,
    "start_time": "2021-12-23T22:31:11.644Z"
   },
   {
    "duration": 9,
    "start_time": "2021-12-23T22:32:22.223Z"
   },
   {
    "duration": 2932,
    "start_time": "2021-12-23T22:32:25.062Z"
   },
   {
    "duration": 6,
    "start_time": "2021-12-23T22:33:25.073Z"
   },
   {
    "duration": 478,
    "start_time": "2021-12-23T22:33:46.094Z"
   },
   {
    "duration": 2811,
    "start_time": "2021-12-23T22:33:53.100Z"
   },
   {
    "duration": 2769,
    "start_time": "2021-12-23T22:34:31.272Z"
   },
   {
    "duration": 2710,
    "start_time": "2021-12-23T22:34:46.076Z"
   },
   {
    "duration": 34,
    "start_time": "2021-12-23T22:34:48.789Z"
   },
   {
    "duration": 46,
    "start_time": "2021-12-23T22:34:48.826Z"
   },
   {
    "duration": 31,
    "start_time": "2021-12-23T22:34:48.874Z"
   },
   {
    "duration": 16,
    "start_time": "2021-12-23T22:34:48.907Z"
   },
   {
    "duration": 53,
    "start_time": "2021-12-23T22:34:48.925Z"
   },
   {
    "duration": 26,
    "start_time": "2021-12-23T22:34:48.980Z"
   },
   {
    "duration": 15,
    "start_time": "2021-12-23T22:34:49.010Z"
   },
   {
    "duration": 35,
    "start_time": "2021-12-23T22:34:49.028Z"
   },
   {
    "duration": 22,
    "start_time": "2021-12-23T22:34:49.066Z"
   },
   {
    "duration": 402,
    "start_time": "2021-12-23T22:34:49.091Z"
   },
   {
    "duration": 209,
    "start_time": "2021-12-23T22:34:49.496Z"
   },
   {
    "duration": 25,
    "start_time": "2021-12-23T22:34:49.708Z"
   },
   {
    "duration": 36,
    "start_time": "2021-12-23T22:34:49.736Z"
   },
   {
    "duration": 24,
    "start_time": "2021-12-23T22:34:49.775Z"
   },
   {
    "duration": 8,
    "start_time": "2021-12-23T22:34:49.802Z"
   },
   {
    "duration": 3063,
    "start_time": "2021-12-23T22:34:49.812Z"
   },
   {
    "duration": 1341,
    "start_time": "2021-12-23T22:34:52.877Z"
   },
   {
    "duration": 4,
    "start_time": "2021-12-23T22:34:54.221Z"
   },
   {
    "duration": 8,
    "start_time": "2021-12-23T22:34:54.227Z"
   },
   {
    "duration": 23,
    "start_time": "2021-12-23T22:34:54.237Z"
   },
   {
    "duration": 32,
    "start_time": "2021-12-23T22:34:54.262Z"
   },
   {
    "duration": 880,
    "start_time": "2021-12-23T22:34:54.299Z"
   },
   {
    "duration": 6,
    "start_time": "2021-12-23T22:34:55.182Z"
   },
   {
    "duration": 8,
    "start_time": "2021-12-23T22:34:55.190Z"
   },
   {
    "duration": 6,
    "start_time": "2021-12-23T22:34:55.200Z"
   },
   {
    "duration": 508,
    "start_time": "2021-12-23T22:34:55.208Z"
   },
   {
    "duration": 15,
    "start_time": "2021-12-23T22:34:55.703Z"
   },
   {
    "duration": 12,
    "start_time": "2021-12-23T22:34:55.708Z"
   },
   {
    "duration": 12,
    "start_time": "2021-12-23T22:34:55.709Z"
   },
   {
    "duration": 11,
    "start_time": "2021-12-23T22:34:55.711Z"
   },
   {
    "duration": 7,
    "start_time": "2021-12-23T22:34:55.716Z"
   },
   {
    "duration": 7,
    "start_time": "2021-12-23T22:34:55.717Z"
   },
   {
    "duration": 7,
    "start_time": "2021-12-23T22:34:55.719Z"
   },
   {
    "duration": 7,
    "start_time": "2021-12-23T22:34:55.720Z"
   },
   {
    "duration": 2688,
    "start_time": "2021-12-23T22:35:21.107Z"
   },
   {
    "duration": 34,
    "start_time": "2021-12-23T22:35:23.798Z"
   },
   {
    "duration": 46,
    "start_time": "2021-12-23T22:35:23.835Z"
   },
   {
    "duration": 30,
    "start_time": "2021-12-23T22:35:23.884Z"
   },
   {
    "duration": 43,
    "start_time": "2021-12-23T22:35:23.916Z"
   },
   {
    "duration": 25,
    "start_time": "2021-12-23T22:35:23.962Z"
   },
   {
    "duration": 26,
    "start_time": "2021-12-23T22:35:23.989Z"
   },
   {
    "duration": 43,
    "start_time": "2021-12-23T22:35:24.019Z"
   },
   {
    "duration": 6,
    "start_time": "2021-12-23T22:35:24.065Z"
   },
   {
    "duration": 21,
    "start_time": "2021-12-23T22:35:24.074Z"
   },
   {
    "duration": 411,
    "start_time": "2021-12-23T22:35:24.098Z"
   },
   {
    "duration": 215,
    "start_time": "2021-12-23T22:35:24.512Z"
   },
   {
    "duration": 40,
    "start_time": "2021-12-23T22:35:24.729Z"
   },
   {
    "duration": 20,
    "start_time": "2021-12-23T22:35:24.772Z"
   },
   {
    "duration": 24,
    "start_time": "2021-12-23T22:35:24.794Z"
   },
   {
    "duration": 9,
    "start_time": "2021-12-23T22:35:24.821Z"
   },
   {
    "duration": 3036,
    "start_time": "2021-12-23T22:35:24.860Z"
   },
   {
    "duration": 1360,
    "start_time": "2021-12-23T22:35:27.899Z"
   },
   {
    "duration": 4,
    "start_time": "2021-12-23T22:35:29.262Z"
   },
   {
    "duration": 5,
    "start_time": "2021-12-23T22:35:29.269Z"
   },
   {
    "duration": 4,
    "start_time": "2021-12-23T22:35:29.277Z"
   },
   {
    "duration": 32,
    "start_time": "2021-12-23T22:35:29.284Z"
   },
   {
    "duration": 921,
    "start_time": "2021-12-23T22:35:29.360Z"
   },
   {
    "duration": 8,
    "start_time": "2021-12-23T22:35:30.285Z"
   },
   {
    "duration": 6,
    "start_time": "2021-12-23T22:35:30.295Z"
   },
   {
    "duration": 6,
    "start_time": "2021-12-23T22:35:30.303Z"
   },
   {
    "duration": 12,
    "start_time": "2021-12-23T22:35:30.312Z"
   },
   {
    "duration": 77,
    "start_time": "2021-12-23T22:35:30.326Z"
   },
   {
    "duration": 18,
    "start_time": "2021-12-23T22:35:30.405Z"
   },
   {
    "duration": 26,
    "start_time": "2021-12-23T22:35:30.426Z"
   },
   {
    "duration": 32,
    "start_time": "2021-12-23T22:35:30.455Z"
   },
   {
    "duration": 13,
    "start_time": "2021-12-23T22:35:30.494Z"
   },
   {
    "duration": 5,
    "start_time": "2021-12-23T22:35:30.511Z"
   },
   {
    "duration": 555,
    "start_time": "2021-12-23T22:35:30.518Z"
   },
   {
    "duration": 18,
    "start_time": "2021-12-23T22:35:31.058Z"
   },
   {
    "duration": 1388,
    "start_time": "2021-12-23T22:36:09.392Z"
   },
   {
    "duration": 1393,
    "start_time": "2021-12-23T22:36:17.768Z"
   },
   {
    "duration": 21359,
    "start_time": "2021-12-23T22:37:39.100Z"
   },
   {
    "duration": 2602,
    "start_time": "2021-12-23T22:38:19.176Z"
   },
   {
    "duration": 36,
    "start_time": "2021-12-23T22:38:21.781Z"
   },
   {
    "duration": 51,
    "start_time": "2021-12-23T22:38:21.820Z"
   },
   {
    "duration": 30,
    "start_time": "2021-12-23T22:38:21.874Z"
   },
   {
    "duration": 17,
    "start_time": "2021-12-23T22:38:21.907Z"
   },
   {
    "duration": 53,
    "start_time": "2021-12-23T22:38:21.926Z"
   },
   {
    "duration": 25,
    "start_time": "2021-12-23T22:38:21.981Z"
   },
   {
    "duration": 16,
    "start_time": "2021-12-23T22:38:22.010Z"
   },
   {
    "duration": 33,
    "start_time": "2021-12-23T22:38:22.028Z"
   },
   {
    "duration": 22,
    "start_time": "2021-12-23T22:38:22.063Z"
   },
   {
    "duration": 396,
    "start_time": "2021-12-23T22:38:22.087Z"
   },
   {
    "duration": 312,
    "start_time": "2021-12-23T22:38:22.486Z"
   },
   {
    "duration": 30,
    "start_time": "2021-12-23T22:38:22.800Z"
   },
   {
    "duration": 46,
    "start_time": "2021-12-23T22:38:22.832Z"
   },
   {
    "duration": 27,
    "start_time": "2021-12-23T22:38:22.880Z"
   },
   {
    "duration": 9,
    "start_time": "2021-12-23T22:38:22.910Z"
   },
   {
    "duration": 2868,
    "start_time": "2021-12-23T22:38:22.923Z"
   },
   {
    "duration": 1320,
    "start_time": "2021-12-23T22:38:25.793Z"
   },
   {
    "duration": 4,
    "start_time": "2021-12-23T22:38:27.115Z"
   },
   {
    "duration": 5,
    "start_time": "2021-12-23T22:38:27.122Z"
   },
   {
    "duration": 6,
    "start_time": "2021-12-23T22:38:27.129Z"
   },
   {
    "duration": 51,
    "start_time": "2021-12-23T22:38:27.137Z"
   },
   {
    "duration": 880,
    "start_time": "2021-12-23T22:38:27.192Z"
   },
   {
    "duration": 7,
    "start_time": "2021-12-23T22:38:28.074Z"
   },
   {
    "duration": 6,
    "start_time": "2021-12-23T22:38:28.083Z"
   },
   {
    "duration": 5,
    "start_time": "2021-12-23T22:38:28.091Z"
   },
   {
    "duration": 79,
    "start_time": "2021-12-23T22:38:28.098Z"
   },
   {
    "duration": 17,
    "start_time": "2021-12-23T22:38:28.180Z"
   },
   {
    "duration": 8,
    "start_time": "2021-12-23T22:38:28.199Z"
   },
   {
    "duration": 24,
    "start_time": "2021-12-23T22:38:28.210Z"
   },
   {
    "duration": 10,
    "start_time": "2021-12-23T22:38:28.260Z"
   },
   {
    "duration": 5,
    "start_time": "2021-12-23T22:38:28.272Z"
   },
   {
    "duration": 21462,
    "start_time": "2021-12-23T22:38:28.279Z"
   },
   {
    "duration": 6,
    "start_time": "2021-12-23T22:39:17.680Z"
   },
   {
    "duration": 37258,
    "start_time": "2021-12-23T22:39:49.227Z"
   },
   {
    "duration": 4,
    "start_time": "2021-12-23T22:41:15.169Z"
   },
   {
    "duration": 35977,
    "start_time": "2021-12-23T22:41:20.974Z"
   },
   {
    "duration": 2271,
    "start_time": "2021-12-23T22:46:34.935Z"
   },
   {
    "duration": 2696,
    "start_time": "2021-12-23T22:46:58.078Z"
   },
   {
    "duration": 4,
    "start_time": "2021-12-23T22:47:00.777Z"
   },
   {
    "duration": 42,
    "start_time": "2021-12-23T22:47:00.784Z"
   },
   {
    "duration": 50,
    "start_time": "2021-12-23T22:47:00.829Z"
   },
   {
    "duration": 30,
    "start_time": "2021-12-23T22:47:00.882Z"
   },
   {
    "duration": 47,
    "start_time": "2021-12-23T22:47:00.914Z"
   },
   {
    "duration": 25,
    "start_time": "2021-12-23T22:47:00.964Z"
   },
   {
    "duration": 27,
    "start_time": "2021-12-23T22:47:00.993Z"
   },
   {
    "duration": 48,
    "start_time": "2021-12-23T22:47:01.023Z"
   },
   {
    "duration": 19,
    "start_time": "2021-12-23T22:47:01.073Z"
   },
   {
    "duration": 24,
    "start_time": "2021-12-23T22:47:01.095Z"
   },
   {
    "duration": 400,
    "start_time": "2021-12-23T22:47:01.122Z"
   },
   {
    "duration": 211,
    "start_time": "2021-12-23T22:47:01.525Z"
   },
   {
    "duration": 37,
    "start_time": "2021-12-23T22:47:01.738Z"
   },
   {
    "duration": 20,
    "start_time": "2021-12-23T22:47:01.778Z"
   },
   {
    "duration": 26,
    "start_time": "2021-12-23T22:47:01.800Z"
   },
   {
    "duration": 37,
    "start_time": "2021-12-23T22:47:01.828Z"
   },
   {
    "duration": 2917,
    "start_time": "2021-12-23T22:47:01.868Z"
   },
   {
    "duration": 1431,
    "start_time": "2021-12-23T22:47:04.789Z"
   },
   {
    "duration": 4,
    "start_time": "2021-12-23T22:47:06.223Z"
   },
   {
    "duration": 8,
    "start_time": "2021-12-23T22:47:06.229Z"
   },
   {
    "duration": 22,
    "start_time": "2021-12-23T22:47:06.239Z"
   },
   {
    "duration": 29,
    "start_time": "2021-12-23T22:47:06.266Z"
   },
   {
    "duration": 950,
    "start_time": "2021-12-23T22:47:06.297Z"
   },
   {
    "duration": 12,
    "start_time": "2021-12-23T22:47:07.249Z"
   },
   {
    "duration": 5,
    "start_time": "2021-12-23T22:47:07.263Z"
   },
   {
    "duration": 5,
    "start_time": "2021-12-23T22:47:07.270Z"
   },
   {
    "duration": 49,
    "start_time": "2021-12-23T22:47:07.277Z"
   },
   {
    "duration": 44,
    "start_time": "2021-12-23T22:47:07.328Z"
   },
   {
    "duration": 7,
    "start_time": "2021-12-23T22:47:07.375Z"
   },
   {
    "duration": 26,
    "start_time": "2021-12-23T22:47:07.384Z"
   },
   {
    "duration": 10,
    "start_time": "2021-12-23T22:47:07.412Z"
   },
   {
    "duration": 35,
    "start_time": "2021-12-23T22:47:07.425Z"
   },
   {
    "duration": 1997,
    "start_time": "2021-12-23T22:47:07.462Z"
   },
   {
    "duration": 995,
    "start_time": "2021-12-23T22:47:23.688Z"
   },
   {
    "duration": 1776,
    "start_time": "2021-12-23T22:47:26.708Z"
   },
   {
    "duration": 384,
    "start_time": "2021-12-23T22:49:01.416Z"
   },
   {
    "duration": 2017,
    "start_time": "2021-12-27T21:48:12.723Z"
   },
   {
    "duration": 3,
    "start_time": "2021-12-27T21:48:14.742Z"
   },
   {
    "duration": 23,
    "start_time": "2021-12-27T21:48:14.746Z"
   },
   {
    "duration": 16,
    "start_time": "2021-12-27T21:48:14.771Z"
   },
   {
    "duration": 23,
    "start_time": "2021-12-27T21:48:14.789Z"
   },
   {
    "duration": 9,
    "start_time": "2021-12-27T21:48:14.827Z"
   },
   {
    "duration": 13,
    "start_time": "2021-12-27T21:48:14.838Z"
   },
   {
    "duration": 15,
    "start_time": "2021-12-27T21:48:14.853Z"
   },
   {
    "duration": 10,
    "start_time": "2021-12-27T21:48:14.870Z"
   },
   {
    "duration": 4,
    "start_time": "2021-12-27T21:48:14.881Z"
   },
   {
    "duration": 43,
    "start_time": "2021-12-27T21:48:14.887Z"
   },
   {
    "duration": 230,
    "start_time": "2021-12-27T21:48:14.932Z"
   },
   {
    "duration": 115,
    "start_time": "2021-12-27T21:48:15.164Z"
   },
   {
    "duration": 22,
    "start_time": "2021-12-27T21:48:15.280Z"
   },
   {
    "duration": 27,
    "start_time": "2021-12-27T21:48:15.304Z"
   },
   {
    "duration": 17,
    "start_time": "2021-12-27T21:48:15.333Z"
   },
   {
    "duration": 5,
    "start_time": "2021-12-27T21:48:15.352Z"
   },
   {
    "duration": 1629,
    "start_time": "2021-12-27T21:48:15.358Z"
   },
   {
    "duration": 738,
    "start_time": "2021-12-27T21:48:16.989Z"
   },
   {
    "duration": 3,
    "start_time": "2021-12-27T21:48:17.729Z"
   },
   {
    "duration": 4,
    "start_time": "2021-12-27T21:48:17.734Z"
   },
   {
    "duration": 4,
    "start_time": "2021-12-27T21:48:17.740Z"
   },
   {
    "duration": 24,
    "start_time": "2021-12-27T21:48:17.747Z"
   },
   {
    "duration": 522,
    "start_time": "2021-12-27T21:48:17.773Z"
   },
   {
    "duration": 4,
    "start_time": "2021-12-27T21:48:18.297Z"
   },
   {
    "duration": 412,
    "start_time": "2021-12-27T21:48:18.303Z"
   },
   {
    "duration": -1075,
    "start_time": "2021-12-27T21:48:19.792Z"
   },
   {
    "duration": -1075,
    "start_time": "2021-12-27T21:48:19.793Z"
   },
   {
    "duration": -1075,
    "start_time": "2021-12-27T21:48:19.794Z"
   },
   {
    "duration": -1076,
    "start_time": "2021-12-27T21:48:19.796Z"
   },
   {
    "duration": -1076,
    "start_time": "2021-12-27T21:48:19.797Z"
   },
   {
    "duration": -1077,
    "start_time": "2021-12-27T21:48:19.799Z"
   },
   {
    "duration": -1077,
    "start_time": "2021-12-27T21:48:19.800Z"
   },
   {
    "duration": -1077,
    "start_time": "2021-12-27T21:48:19.801Z"
   },
   {
    "duration": -1077,
    "start_time": "2021-12-27T21:48:19.802Z"
   },
   {
    "duration": 10,
    "start_time": "2021-12-27T21:50:42.855Z"
   },
   {
    "duration": 5,
    "start_time": "2021-12-27T21:50:44.293Z"
   },
   {
    "duration": 7,
    "start_time": "2021-12-27T21:50:45.364Z"
   },
   {
    "duration": 312,
    "start_time": "2021-12-27T21:54:38.315Z"
   },
   {
    "duration": 33,
    "start_time": "2021-12-27T21:54:46.059Z"
   },
   {
    "duration": 12,
    "start_time": "2021-12-27T21:54:47.871Z"
   },
   {
    "duration": 314,
    "start_time": "2021-12-27T21:54:55.296Z"
   },
   {
    "duration": 1892,
    "start_time": "2021-12-27T21:55:49.961Z"
   },
   {
    "duration": 2,
    "start_time": "2021-12-27T21:55:51.855Z"
   },
   {
    "duration": 22,
    "start_time": "2021-12-27T21:55:51.859Z"
   },
   {
    "duration": 15,
    "start_time": "2021-12-27T21:55:51.883Z"
   },
   {
    "duration": 36,
    "start_time": "2021-12-27T21:55:51.900Z"
   },
   {
    "duration": 9,
    "start_time": "2021-12-27T21:55:51.938Z"
   },
   {
    "duration": 14,
    "start_time": "2021-12-27T21:55:51.949Z"
   },
   {
    "duration": 15,
    "start_time": "2021-12-27T21:55:51.966Z"
   },
   {
    "duration": 7,
    "start_time": "2021-12-27T21:55:51.982Z"
   },
   {
    "duration": 5,
    "start_time": "2021-12-27T21:55:51.990Z"
   },
   {
    "duration": 14,
    "start_time": "2021-12-27T21:55:52.027Z"
   },
   {
    "duration": 230,
    "start_time": "2021-12-27T21:55:52.042Z"
   },
   {
    "duration": 114,
    "start_time": "2021-12-27T21:55:52.273Z"
   },
   {
    "duration": 21,
    "start_time": "2021-12-27T21:55:52.388Z"
   },
   {
    "duration": 21,
    "start_time": "2021-12-27T21:55:52.411Z"
   },
   {
    "duration": 18,
    "start_time": "2021-12-27T21:55:52.434Z"
   },
   {
    "duration": 5,
    "start_time": "2021-12-27T21:55:52.454Z"
   },
   {
    "duration": 1575,
    "start_time": "2021-12-27T21:55:52.460Z"
   },
   {
    "duration": 726,
    "start_time": "2021-12-27T21:55:54.036Z"
   },
   {
    "duration": 3,
    "start_time": "2021-12-27T21:55:54.764Z"
   },
   {
    "duration": 4,
    "start_time": "2021-12-27T21:55:54.769Z"
   },
   {
    "duration": 4,
    "start_time": "2021-12-27T21:55:54.775Z"
   },
   {
    "duration": 22,
    "start_time": "2021-12-27T21:55:54.782Z"
   },
   {
    "duration": 498,
    "start_time": "2021-12-27T21:55:54.806Z"
   },
   {
    "duration": 9,
    "start_time": "2021-12-27T21:55:55.306Z"
   },
   {
    "duration": 13,
    "start_time": "2021-12-27T21:55:55.317Z"
   },
   {
    "duration": 7,
    "start_time": "2021-12-27T21:55:55.332Z"
   },
   {
    "duration": 2,
    "start_time": "2021-12-27T21:55:55.341Z"
   },
   {
    "duration": 3,
    "start_time": "2021-12-27T21:55:55.345Z"
   },
   {
    "duration": 34,
    "start_time": "2021-12-27T21:55:55.350Z"
   },
   {
    "duration": 42,
    "start_time": "2021-12-27T21:55:55.385Z"
   },
   {
    "duration": 391,
    "start_time": "2021-12-27T21:55:55.429Z"
   },
   {
    "duration": -1077,
    "start_time": "2021-12-27T21:55:56.899Z"
   },
   {
    "duration": -1077,
    "start_time": "2021-12-27T21:55:56.901Z"
   },
   {
    "duration": -1078,
    "start_time": "2021-12-27T21:55:56.903Z"
   },
   {
    "duration": 22,
    "start_time": "2021-12-27T21:58:58.087Z"
   },
   {
    "duration": 32,
    "start_time": "2021-12-27T21:59:12.426Z"
   },
   {
    "duration": 315,
    "start_time": "2021-12-27T21:59:23.403Z"
   },
   {
    "duration": 10,
    "start_time": "2021-12-27T22:00:23.790Z"
   },
   {
    "duration": 8,
    "start_time": "2021-12-27T22:01:10.654Z"
   },
   {
    "duration": 10,
    "start_time": "2021-12-27T22:01:14.446Z"
   },
   {
    "duration": 306,
    "start_time": "2021-12-27T22:01:57.044Z"
   },
   {
    "duration": 407,
    "start_time": "2021-12-27T22:02:02.366Z"
   },
   {
    "duration": 2103,
    "start_time": "2021-12-27T22:02:07.099Z"
   },
   {
    "duration": 314,
    "start_time": "2021-12-27T22:02:51.044Z"
   },
   {
    "duration": 8,
    "start_time": "2021-12-27T22:03:02.110Z"
   },
   {
    "duration": 316,
    "start_time": "2021-12-27T22:03:32.598Z"
   },
   {
    "duration": 341,
    "start_time": "2021-12-27T22:05:48.582Z"
   },
   {
    "duration": 314,
    "start_time": "2021-12-27T22:06:21.269Z"
   },
   {
    "duration": 99,
    "start_time": "2021-12-27T22:09:53.473Z"
   },
   {
    "duration": 315,
    "start_time": "2021-12-27T22:11:06.696Z"
   },
   {
    "duration": 49,
    "start_time": "2021-12-27T22:11:17.076Z"
   },
   {
    "duration": 358,
    "start_time": "2021-12-27T22:11:23.575Z"
   },
   {
    "duration": 11,
    "start_time": "2021-12-27T22:11:38.037Z"
   },
   {
    "duration": 314,
    "start_time": "2021-12-27T22:12:45.253Z"
   },
   {
    "duration": 317,
    "start_time": "2021-12-27T22:13:08.175Z"
   },
   {
    "duration": 308,
    "start_time": "2021-12-27T22:13:15.111Z"
   },
   {
    "duration": 13,
    "start_time": "2021-12-27T22:13:43.343Z"
   },
   {
    "duration": 10,
    "start_time": "2021-12-27T22:20:15.177Z"
   },
   {
    "duration": 21,
    "start_time": "2021-12-27T22:25:24.559Z"
   },
   {
    "duration": 61,
    "start_time": "2021-12-27T22:25:53.981Z"
   },
   {
    "duration": 41,
    "start_time": "2021-12-27T22:26:08.983Z"
   },
   {
    "duration": 364,
    "start_time": "2021-12-27T22:26:13.822Z"
   },
   {
    "duration": 55,
    "start_time": "2021-12-27T22:26:26.945Z"
   },
   {
    "duration": 11,
    "start_time": "2021-12-27T22:26:47.796Z"
   },
   {
    "duration": 323,
    "start_time": "2021-12-27T22:28:21.763Z"
   },
   {
    "duration": 312,
    "start_time": "2021-12-27T22:28:39.171Z"
   },
   {
    "duration": 21,
    "start_time": "2021-12-27T22:29:51.528Z"
   },
   {
    "duration": 11,
    "start_time": "2021-12-27T22:31:35.647Z"
   },
   {
    "duration": 2605,
    "start_time": "2021-12-29T03:06:39.044Z"
   },
   {
    "duration": 3,
    "start_time": "2021-12-29T03:06:41.652Z"
   },
   {
    "duration": 36,
    "start_time": "2021-12-29T03:06:41.658Z"
   },
   {
    "duration": 29,
    "start_time": "2021-12-29T03:06:41.697Z"
   },
   {
    "duration": 57,
    "start_time": "2021-12-29T03:06:41.729Z"
   },
   {
    "duration": 16,
    "start_time": "2021-12-29T03:06:41.789Z"
   },
   {
    "duration": 52,
    "start_time": "2021-12-29T03:06:41.807Z"
   },
   {
    "duration": 26,
    "start_time": "2021-12-29T03:06:41.863Z"
   },
   {
    "duration": 15,
    "start_time": "2021-12-29T03:06:41.892Z"
   },
   {
    "duration": 6,
    "start_time": "2021-12-29T03:06:41.910Z"
   },
   {
    "duration": 54,
    "start_time": "2021-12-29T03:06:41.919Z"
   },
   {
    "duration": 384,
    "start_time": "2021-12-29T03:06:41.976Z"
   },
   {
    "duration": 209,
    "start_time": "2021-12-29T03:06:42.363Z"
   },
   {
    "duration": 25,
    "start_time": "2021-12-29T03:06:42.575Z"
   },
   {
    "duration": 18,
    "start_time": "2021-12-29T03:06:42.603Z"
   },
   {
    "duration": 50,
    "start_time": "2021-12-29T03:06:42.623Z"
   },
   {
    "duration": 8,
    "start_time": "2021-12-29T03:06:42.675Z"
   },
   {
    "duration": 2845,
    "start_time": "2021-12-29T03:06:42.686Z"
   },
   {
    "duration": 1320,
    "start_time": "2021-12-29T03:06:45.533Z"
   },
   {
    "duration": 3,
    "start_time": "2021-12-29T03:06:46.859Z"
   },
   {
    "duration": 7,
    "start_time": "2021-12-29T03:06:46.864Z"
   },
   {
    "duration": 5,
    "start_time": "2021-12-29T03:06:46.873Z"
   },
   {
    "duration": 29,
    "start_time": "2021-12-29T03:06:46.883Z"
   },
   {
    "duration": 904,
    "start_time": "2021-12-29T03:06:46.915Z"
   },
   {
    "duration": 21,
    "start_time": "2021-12-29T03:06:47.822Z"
   },
   {
    "duration": 108,
    "start_time": "2021-12-29T03:06:47.847Z"
   },
   {
    "duration": 62,
    "start_time": "2021-12-29T03:06:47.958Z"
   },
   {
    "duration": 16,
    "start_time": "2021-12-29T03:06:48.023Z"
   },
   {
    "duration": 37,
    "start_time": "2021-12-29T03:06:48.042Z"
   },
   {
    "duration": 39,
    "start_time": "2021-12-29T03:06:48.083Z"
   },
   {
    "duration": 573,
    "start_time": "2021-12-29T03:06:48.125Z"
   },
   {
    "duration": 757,
    "start_time": "2021-12-29T03:06:47.943Z"
   },
   {
    "duration": 755,
    "start_time": "2021-12-29T03:06:47.947Z"
   },
   {
    "duration": 755,
    "start_time": "2021-12-29T03:06:47.948Z"
   },
   {
    "duration": 2568,
    "start_time": "2021-12-29T03:09:06.192Z"
   },
   {
    "duration": 3,
    "start_time": "2021-12-29T03:09:08.763Z"
   },
   {
    "duration": 36,
    "start_time": "2021-12-29T03:09:08.769Z"
   },
   {
    "duration": 53,
    "start_time": "2021-12-29T03:09:08.808Z"
   },
   {
    "duration": 30,
    "start_time": "2021-12-29T03:09:08.864Z"
   },
   {
    "duration": 18,
    "start_time": "2021-12-29T03:09:08.897Z"
   },
   {
    "duration": 57,
    "start_time": "2021-12-29T03:09:08.917Z"
   },
   {
    "duration": 25,
    "start_time": "2021-12-29T03:09:08.978Z"
   },
   {
    "duration": 15,
    "start_time": "2021-12-29T03:09:09.006Z"
   },
   {
    "duration": 38,
    "start_time": "2021-12-29T03:09:09.023Z"
   },
   {
    "duration": 22,
    "start_time": "2021-12-29T03:09:09.063Z"
   },
   {
    "duration": 423,
    "start_time": "2021-12-29T03:09:09.087Z"
   },
   {
    "duration": 216,
    "start_time": "2021-12-29T03:09:09.512Z"
   },
   {
    "duration": 31,
    "start_time": "2021-12-29T03:09:09.731Z"
   },
   {
    "duration": 22,
    "start_time": "2021-12-29T03:09:09.765Z"
   },
   {
    "duration": 24,
    "start_time": "2021-12-29T03:09:09.789Z"
   },
   {
    "duration": 9,
    "start_time": "2021-12-29T03:09:09.815Z"
   },
   {
    "duration": 3128,
    "start_time": "2021-12-29T03:09:09.826Z"
   },
   {
    "duration": 1438,
    "start_time": "2021-12-29T03:09:12.957Z"
   },
   {
    "duration": 4,
    "start_time": "2021-12-29T03:09:14.397Z"
   },
   {
    "duration": 5,
    "start_time": "2021-12-29T03:09:14.403Z"
   },
   {
    "duration": 7,
    "start_time": "2021-12-29T03:09:14.410Z"
   },
   {
    "duration": 57,
    "start_time": "2021-12-29T03:09:14.422Z"
   },
   {
    "duration": 882,
    "start_time": "2021-12-29T03:09:14.481Z"
   },
   {
    "duration": 13,
    "start_time": "2021-12-29T03:09:15.366Z"
   },
   {
    "duration": 10,
    "start_time": "2021-12-29T03:09:15.382Z"
   },
   {
    "duration": 15,
    "start_time": "2021-12-29T03:09:15.394Z"
   },
   {
    "duration": 8,
    "start_time": "2021-12-29T03:09:15.413Z"
   },
   {
    "duration": 81,
    "start_time": "2021-12-29T03:09:15.424Z"
   },
   {
    "duration": 19,
    "start_time": "2021-12-29T03:09:15.507Z"
   },
   {
    "duration": 41,
    "start_time": "2021-12-29T03:09:15.530Z"
   },
   {
    "duration": 581,
    "start_time": "2021-12-29T03:09:15.574Z"
   },
   {
    "duration": 758,
    "start_time": "2021-12-29T03:09:15.400Z"
   },
   {
    "duration": 756,
    "start_time": "2021-12-29T03:09:15.404Z"
   },
   {
    "duration": 756,
    "start_time": "2021-12-29T03:09:15.406Z"
   },
   {
    "duration": 16,
    "start_time": "2021-12-29T03:10:02.351Z"
   },
   {
    "duration": 13,
    "start_time": "2021-12-29T03:10:08.713Z"
   },
   {
    "duration": 437,
    "start_time": "2021-12-29T03:12:08.589Z"
   },
   {
    "duration": 502,
    "start_time": "2021-12-29T03:14:22.304Z"
   },
   {
    "duration": 2579,
    "start_time": "2021-12-29T03:14:30.001Z"
   },
   {
    "duration": 4,
    "start_time": "2021-12-29T03:14:32.583Z"
   },
   {
    "duration": 36,
    "start_time": "2021-12-29T03:14:32.589Z"
   },
   {
    "duration": 50,
    "start_time": "2021-12-29T03:14:32.627Z"
   },
   {
    "duration": 29,
    "start_time": "2021-12-29T03:14:32.680Z"
   },
   {
    "duration": 16,
    "start_time": "2021-12-29T03:14:32.711Z"
   },
   {
    "duration": 53,
    "start_time": "2021-12-29T03:14:32.730Z"
   },
   {
    "duration": 27,
    "start_time": "2021-12-29T03:14:32.789Z"
   },
   {
    "duration": 51,
    "start_time": "2021-12-29T03:14:32.820Z"
   },
   {
    "duration": 6,
    "start_time": "2021-12-29T03:14:32.873Z"
   },
   {
    "duration": 21,
    "start_time": "2021-12-29T03:14:32.881Z"
   },
   {
    "duration": 390,
    "start_time": "2021-12-29T03:14:32.904Z"
   },
   {
    "duration": 213,
    "start_time": "2021-12-29T03:14:33.296Z"
   },
   {
    "duration": 50,
    "start_time": "2021-12-29T03:14:33.512Z"
   },
   {
    "duration": 27,
    "start_time": "2021-12-29T03:14:33.565Z"
   },
   {
    "duration": 30,
    "start_time": "2021-12-29T03:14:33.595Z"
   },
   {
    "duration": 33,
    "start_time": "2021-12-29T03:14:33.629Z"
   },
   {
    "duration": 2969,
    "start_time": "2021-12-29T03:14:33.665Z"
   },
   {
    "duration": 1327,
    "start_time": "2021-12-29T03:14:36.636Z"
   },
   {
    "duration": 4,
    "start_time": "2021-12-29T03:14:37.966Z"
   },
   {
    "duration": 7,
    "start_time": "2021-12-29T03:14:37.972Z"
   },
   {
    "duration": 6,
    "start_time": "2021-12-29T03:14:37.982Z"
   },
   {
    "duration": 40,
    "start_time": "2021-12-29T03:14:37.992Z"
   },
   {
    "duration": 897,
    "start_time": "2021-12-29T03:14:38.035Z"
   },
   {
    "duration": 24,
    "start_time": "2021-12-29T03:14:38.935Z"
   },
   {
    "duration": 7,
    "start_time": "2021-12-29T03:14:38.962Z"
   },
   {
    "duration": 17,
    "start_time": "2021-12-29T03:14:38.971Z"
   },
   {
    "duration": 6,
    "start_time": "2021-12-29T03:14:38.991Z"
   },
   {
    "duration": 79,
    "start_time": "2021-12-29T03:14:38.999Z"
   },
   {
    "duration": 16,
    "start_time": "2021-12-29T03:14:39.080Z"
   },
   {
    "duration": 16,
    "start_time": "2021-12-29T03:14:39.098Z"
   },
   {
    "duration": 548,
    "start_time": "2021-12-29T03:14:39.117Z"
   },
   {
    "duration": 884,
    "start_time": "2021-12-29T03:14:38.784Z"
   },
   {
    "duration": 771,
    "start_time": "2021-12-29T03:14:38.898Z"
   },
   {
    "duration": 769,
    "start_time": "2021-12-29T03:14:38.902Z"
   },
   {
    "duration": 24,
    "start_time": "2021-12-29T03:15:05.600Z"
   },
   {
    "duration": 12,
    "start_time": "2021-12-29T03:15:18.875Z"
   },
   {
    "duration": 9521,
    "start_time": "2021-12-29T03:15:41.475Z"
   },
   {
    "duration": 10380,
    "start_time": "2021-12-29T03:15:53.048Z"
   },
   {
    "duration": 2672,
    "start_time": "2021-12-29T03:16:21.121Z"
   },
   {
    "duration": 3,
    "start_time": "2021-12-29T03:16:23.796Z"
   },
   {
    "duration": 38,
    "start_time": "2021-12-29T03:16:24.984Z"
   },
   {
    "duration": 31,
    "start_time": "2021-12-29T03:16:26.166Z"
   },
   {
    "duration": 31,
    "start_time": "2021-12-29T03:16:26.845Z"
   },
   {
    "duration": 17,
    "start_time": "2021-12-29T03:16:27.549Z"
   },
   {
    "duration": 25,
    "start_time": "2021-12-29T03:16:28.263Z"
   },
   {
    "duration": 26,
    "start_time": "2021-12-29T03:16:28.931Z"
   },
   {
    "duration": 641,
    "start_time": "2021-12-29T03:16:33.730Z"
   },
   {
    "duration": 10,
    "start_time": "2021-12-29T03:17:42.806Z"
   },
   {
    "duration": 496,
    "start_time": "2021-12-29T03:17:52.057Z"
   },
   {
    "duration": 669,
    "start_time": "2021-12-29T03:19:15.588Z"
   },
   {
    "duration": 26,
    "start_time": "2021-12-29T03:20:39.176Z"
   },
   {
    "duration": 422,
    "start_time": "2021-12-29T03:21:03.873Z"
   },
   {
    "duration": 386,
    "start_time": "2021-12-29T03:21:14.269Z"
   },
   {
    "duration": 20,
    "start_time": "2021-12-29T03:21:23.068Z"
   },
   {
    "duration": 8,
    "start_time": "2021-12-29T03:21:30.241Z"
   },
   {
    "duration": 533,
    "start_time": "2021-12-29T03:21:43.319Z"
   },
   {
    "duration": 372,
    "start_time": "2021-12-29T03:21:53.556Z"
   },
   {
    "duration": 2535,
    "start_time": "2021-12-29T03:22:02.743Z"
   },
   {
    "duration": 4,
    "start_time": "2021-12-29T03:22:05.280Z"
   },
   {
    "duration": 36,
    "start_time": "2021-12-29T03:22:05.286Z"
   },
   {
    "duration": 51,
    "start_time": "2021-12-29T03:22:05.325Z"
   },
   {
    "duration": 32,
    "start_time": "2021-12-29T03:22:05.378Z"
   },
   {
    "duration": 16,
    "start_time": "2021-12-29T03:22:05.412Z"
   },
   {
    "duration": 48,
    "start_time": "2021-12-29T03:22:05.430Z"
   },
   {
    "duration": 26,
    "start_time": "2021-12-29T03:22:05.482Z"
   },
   {
    "duration": 54,
    "start_time": "2021-12-29T03:22:05.511Z"
   },
   {
    "duration": 6,
    "start_time": "2021-12-29T03:22:05.567Z"
   },
   {
    "duration": 18684,
    "start_time": "2021-12-29T03:22:05.576Z"
   },
   {
    "duration": 743,
    "start_time": "2021-12-29T03:22:23.522Z"
   },
   {
    "duration": 743,
    "start_time": "2021-12-29T03:22:23.524Z"
   },
   {
    "duration": 627,
    "start_time": "2021-12-29T03:22:23.642Z"
   },
   {
    "duration": 625,
    "start_time": "2021-12-29T03:22:23.646Z"
   },
   {
    "duration": 625,
    "start_time": "2021-12-29T03:22:23.648Z"
   },
   {
    "duration": 626,
    "start_time": "2021-12-29T03:22:23.649Z"
   },
   {
    "duration": 626,
    "start_time": "2021-12-29T03:22:23.651Z"
   },
   {
    "duration": 627,
    "start_time": "2021-12-29T03:22:23.652Z"
   },
   {
    "duration": 627,
    "start_time": "2021-12-29T03:22:23.654Z"
   },
   {
    "duration": 628,
    "start_time": "2021-12-29T03:22:23.655Z"
   },
   {
    "duration": 627,
    "start_time": "2021-12-29T03:22:23.659Z"
   },
   {
    "duration": 627,
    "start_time": "2021-12-29T03:22:23.661Z"
   },
   {
    "duration": 630,
    "start_time": "2021-12-29T03:22:23.662Z"
   },
   {
    "duration": 631,
    "start_time": "2021-12-29T03:22:23.663Z"
   },
   {
    "duration": 631,
    "start_time": "2021-12-29T03:22:23.665Z"
   },
   {
    "duration": 633,
    "start_time": "2021-12-29T03:22:23.666Z"
   },
   {
    "duration": 515,
    "start_time": "2021-12-29T03:22:23.786Z"
   },
   {
    "duration": 513,
    "start_time": "2021-12-29T03:22:23.790Z"
   },
   {
    "duration": 568,
    "start_time": "2021-12-29T03:22:23.792Z"
   },
   {
    "duration": 569,
    "start_time": "2021-12-29T03:22:23.793Z"
   },
   {
    "duration": 569,
    "start_time": "2021-12-29T03:22:23.795Z"
   },
   {
    "duration": 570,
    "start_time": "2021-12-29T03:22:23.796Z"
   },
   {
    "duration": 572,
    "start_time": "2021-12-29T03:22:23.797Z"
   },
   {
    "duration": 572,
    "start_time": "2021-12-29T03:22:23.799Z"
   },
   {
    "duration": 574,
    "start_time": "2021-12-29T03:22:23.803Z"
   },
   {
    "duration": 401,
    "start_time": "2021-12-29T03:22:26.379Z"
   },
   {
    "duration": 2464,
    "start_time": "2021-12-29T03:22:42.604Z"
   },
   {
    "duration": 3,
    "start_time": "2021-12-29T03:22:45.070Z"
   },
   {
    "duration": 37,
    "start_time": "2021-12-29T03:22:45.076Z"
   },
   {
    "duration": 49,
    "start_time": "2021-12-29T03:22:45.116Z"
   },
   {
    "duration": 30,
    "start_time": "2021-12-29T03:22:45.167Z"
   },
   {
    "duration": 17,
    "start_time": "2021-12-29T03:22:45.199Z"
   },
   {
    "duration": 60,
    "start_time": "2021-12-29T03:22:45.219Z"
   },
   {
    "duration": 26,
    "start_time": "2021-12-29T03:22:45.324Z"
   },
   {
    "duration": 20,
    "start_time": "2021-12-29T03:22:56.162Z"
   },
   {
    "duration": 16,
    "start_time": "2021-12-29T03:23:02.685Z"
   },
   {
    "duration": 557,
    "start_time": "2021-12-29T03:23:04.953Z"
   },
   {
    "duration": 33,
    "start_time": "2021-12-29T03:23:09.963Z"
   },
   {
    "duration": 14,
    "start_time": "2021-12-29T03:24:07.170Z"
   },
   {
    "duration": 382,
    "start_time": "2021-12-29T03:24:28.933Z"
   },
   {
    "duration": 28,
    "start_time": "2021-12-29T03:24:37.584Z"
   },
   {
    "duration": 372,
    "start_time": "2021-12-29T03:25:14.421Z"
   },
   {
    "duration": 20,
    "start_time": "2021-12-29T03:25:18.206Z"
   },
   {
    "duration": 2550,
    "start_time": "2021-12-29T03:25:37.717Z"
   },
   {
    "duration": 5,
    "start_time": "2021-12-29T03:25:40.270Z"
   },
   {
    "duration": 34,
    "start_time": "2021-12-29T03:25:40.279Z"
   },
   {
    "duration": 59,
    "start_time": "2021-12-29T03:25:40.316Z"
   },
   {
    "duration": 38,
    "start_time": "2021-12-29T03:25:40.377Z"
   },
   {
    "duration": 17,
    "start_time": "2021-12-29T03:25:40.417Z"
   },
   {
    "duration": 24,
    "start_time": "2021-12-29T03:25:40.460Z"
   },
   {
    "duration": 25,
    "start_time": "2021-12-29T03:25:40.487Z"
   },
   {
    "duration": 32,
    "start_time": "2021-12-29T03:25:57.162Z"
   },
   {
    "duration": 9,
    "start_time": "2021-12-29T03:26:05.430Z"
   },
   {
    "duration": 8,
    "start_time": "2021-12-29T03:26:06.511Z"
   },
   {
    "duration": 9,
    "start_time": "2021-12-29T03:26:23.271Z"
   },
   {
    "duration": 7,
    "start_time": "2021-12-29T03:26:25.563Z"
   },
   {
    "duration": 2634,
    "start_time": "2021-12-29T03:26:39.848Z"
   },
   {
    "duration": 3,
    "start_time": "2021-12-29T03:26:42.485Z"
   },
   {
    "duration": 37,
    "start_time": "2021-12-29T03:26:42.491Z"
   },
   {
    "duration": 52,
    "start_time": "2021-12-29T03:26:42.531Z"
   },
   {
    "duration": 31,
    "start_time": "2021-12-29T03:26:42.586Z"
   },
   {
    "duration": 45,
    "start_time": "2021-12-29T03:26:42.620Z"
   },
   {
    "duration": 25,
    "start_time": "2021-12-29T03:26:42.667Z"
   },
   {
    "duration": 26,
    "start_time": "2021-12-29T03:26:42.696Z"
   },
   {
    "duration": 47,
    "start_time": "2021-12-29T03:26:42.725Z"
   },
   {
    "duration": 8,
    "start_time": "2021-12-29T03:26:42.775Z"
   },
   {
    "duration": 26,
    "start_time": "2021-12-29T03:26:42.786Z"
   },
   {
    "duration": 449,
    "start_time": "2021-12-29T03:26:42.815Z"
   },
   {
    "duration": 214,
    "start_time": "2021-12-29T03:26:43.266Z"
   },
   {
    "duration": 28,
    "start_time": "2021-12-29T03:26:43.483Z"
   },
   {
    "duration": 22,
    "start_time": "2021-12-29T03:26:43.513Z"
   },
   {
    "duration": 25,
    "start_time": "2021-12-29T03:26:43.560Z"
   },
   {
    "duration": 9,
    "start_time": "2021-12-29T03:26:43.587Z"
   },
   {
    "duration": 2967,
    "start_time": "2021-12-29T03:26:43.598Z"
   },
   {
    "duration": 1318,
    "start_time": "2021-12-29T03:26:46.567Z"
   },
   {
    "duration": 4,
    "start_time": "2021-12-29T03:26:47.887Z"
   },
   {
    "duration": 6,
    "start_time": "2021-12-29T03:26:47.893Z"
   },
   {
    "duration": 7,
    "start_time": "2021-12-29T03:26:47.901Z"
   },
   {
    "duration": 54,
    "start_time": "2021-12-29T03:26:47.913Z"
   },
   {
    "duration": 875,
    "start_time": "2021-12-29T03:26:47.970Z"
   },
   {
    "duration": 22,
    "start_time": "2021-12-29T03:26:48.847Z"
   },
   {
    "duration": 9,
    "start_time": "2021-12-29T03:26:48.872Z"
   },
   {
    "duration": 12,
    "start_time": "2021-12-29T03:26:48.885Z"
   },
   {
    "duration": 3,
    "start_time": "2021-12-29T03:26:48.900Z"
   },
   {
    "duration": 80,
    "start_time": "2021-12-29T03:26:48.905Z"
   },
   {
    "duration": 17,
    "start_time": "2021-12-29T03:26:48.988Z"
   },
   {
    "duration": 13,
    "start_time": "2021-12-29T03:26:49.007Z"
   },
   {
    "duration": 60,
    "start_time": "2021-12-29T03:26:49.022Z"
   },
   {
    "duration": 531,
    "start_time": "2021-12-29T03:26:49.084Z"
   },
   {
    "duration": 905,
    "start_time": "2021-12-29T03:26:48.712Z"
   },
   {
    "duration": 905,
    "start_time": "2021-12-29T03:26:48.714Z"
   },
   {
    "duration": 403,
    "start_time": "2021-12-29T03:27:56.434Z"
   },
   {
    "duration": 3,
    "start_time": "2021-12-29T03:29:36.900Z"
   },
   {
    "duration": 383,
    "start_time": "2021-12-29T03:29:37.775Z"
   },
   {
    "duration": 35,
    "start_time": "2021-12-29T03:29:46.031Z"
   },
   {
    "duration": 406,
    "start_time": "2021-12-29T03:29:47.966Z"
   },
   {
    "duration": 374,
    "start_time": "2021-12-29T03:30:25.071Z"
   },
   {
    "duration": 350,
    "start_time": "2021-12-29T03:30:42.234Z"
   },
   {
    "duration": 359,
    "start_time": "2021-12-29T03:30:50.975Z"
   },
   {
    "duration": 374,
    "start_time": "2021-12-29T03:31:09.900Z"
   },
   {
    "duration": 633,
    "start_time": "2021-12-29T03:31:25.335Z"
   },
   {
    "duration": 1589,
    "start_time": "2021-12-29T03:33:38.556Z"
   },
   {
    "duration": 17,
    "start_time": "2021-12-29T03:33:48.559Z"
   },
   {
    "duration": 19,
    "start_time": "2021-12-29T03:34:21.454Z"
   },
   {
    "duration": 398,
    "start_time": "2021-12-29T03:34:41.775Z"
   },
   {
    "duration": 381,
    "start_time": "2021-12-29T03:34:59.477Z"
   },
   {
    "duration": 34,
    "start_time": "2021-12-29T03:35:21.283Z"
   },
   {
    "duration": 372,
    "start_time": "2021-12-29T03:35:22.621Z"
   },
   {
    "duration": 9,
    "start_time": "2021-12-29T03:36:20.701Z"
   },
   {
    "duration": 403,
    "start_time": "2021-12-29T03:37:45.825Z"
   },
   {
    "duration": 9,
    "start_time": "2021-12-29T03:37:49.170Z"
   },
   {
    "duration": 10,
    "start_time": "2021-12-29T03:38:02.516Z"
   },
   {
    "duration": 10,
    "start_time": "2021-12-29T03:38:15.945Z"
   },
   {
    "duration": 395,
    "start_time": "2021-12-29T03:40:55.372Z"
   },
   {
    "duration": 4,
    "start_time": "2021-12-29T03:41:02.678Z"
   },
   {
    "duration": 2885,
    "start_time": "2021-12-29T03:41:03.925Z"
   },
   {
    "duration": 2996,
    "start_time": "2021-12-29T04:04:50.703Z"
   },
   {
    "duration": 6,
    "start_time": "2021-12-29T04:05:37.090Z"
   },
   {
    "duration": 12902,
    "start_time": "2021-12-29T04:05:41.219Z"
   },
   {
    "duration": 3259,
    "start_time": "2021-12-29T04:06:13.341Z"
   },
   {
    "duration": 379,
    "start_time": "2021-12-29T04:10:02.090Z"
   },
   {
    "duration": 6,
    "start_time": "2021-12-29T04:10:04.070Z"
   },
   {
    "duration": 10051,
    "start_time": "2021-12-29T04:10:04.944Z"
   },
   {
    "duration": 5,
    "start_time": "2021-12-29T04:10:35.282Z"
   },
   {
    "duration": 2987,
    "start_time": "2021-12-29T04:10:41.157Z"
   },
   {
    "duration": 6,
    "start_time": "2021-12-29T04:10:53.678Z"
   },
   {
    "duration": 11,
    "start_time": "2021-12-29T04:10:55.179Z"
   },
   {
    "duration": 3118,
    "start_time": "2021-12-29T04:17:12.557Z"
   },
   {
    "duration": 3287,
    "start_time": "2021-12-29T04:17:29.873Z"
   },
   {
    "duration": 3033,
    "start_time": "2021-12-29T04:18:27.454Z"
   },
   {
    "duration": 1009,
    "start_time": "2021-12-29T04:18:29.481Z"
   },
   {
    "duration": 14,
    "start_time": "2021-12-29T04:18:32.957Z"
   },
   {
    "duration": 7,
    "start_time": "2021-12-29T04:18:37.767Z"
   },
   {
    "duration": 10,
    "start_time": "2021-12-29T04:18:38.827Z"
   },
   {
    "duration": 1012,
    "start_time": "2021-12-29T04:18:58.605Z"
   },
   {
    "duration": 3134,
    "start_time": "2021-12-29T04:19:00.592Z"
   },
   {
    "duration": 3029,
    "start_time": "2021-12-29T04:19:54.820Z"
   },
   {
    "duration": 2558,
    "start_time": "2021-12-29T04:20:02.222Z"
   },
   {
    "duration": 3,
    "start_time": "2021-12-29T04:20:04.782Z"
   },
   {
    "duration": 40,
    "start_time": "2021-12-29T04:20:04.788Z"
   },
   {
    "duration": 49,
    "start_time": "2021-12-29T04:20:04.830Z"
   },
   {
    "duration": 31,
    "start_time": "2021-12-29T04:20:04.882Z"
   },
   {
    "duration": 44,
    "start_time": "2021-12-29T04:20:04.915Z"
   },
   {
    "duration": 25,
    "start_time": "2021-12-29T04:20:04.961Z"
   },
   {
    "duration": 26,
    "start_time": "2021-12-29T04:20:04.990Z"
   },
   {
    "duration": 40,
    "start_time": "2021-12-29T04:20:05.019Z"
   },
   {
    "duration": 6,
    "start_time": "2021-12-29T04:20:05.062Z"
   },
   {
    "duration": 25,
    "start_time": "2021-12-29T04:20:05.071Z"
   },
   {
    "duration": 380,
    "start_time": "2021-12-29T04:20:05.098Z"
   },
   {
    "duration": 210,
    "start_time": "2021-12-29T04:20:05.480Z"
   },
   {
    "duration": 29,
    "start_time": "2021-12-29T04:20:05.693Z"
   },
   {
    "duration": 39,
    "start_time": "2021-12-29T04:20:05.725Z"
   },
   {
    "duration": 23,
    "start_time": "2021-12-29T04:20:05.767Z"
   },
   {
    "duration": 8,
    "start_time": "2021-12-29T04:20:05.792Z"
   },
   {
    "duration": 3013,
    "start_time": "2021-12-29T04:20:05.803Z"
   },
   {
    "duration": 1308,
    "start_time": "2021-12-29T04:20:08.818Z"
   },
   {
    "duration": 5,
    "start_time": "2021-12-29T04:20:10.128Z"
   },
   {
    "duration": 24,
    "start_time": "2021-12-29T04:20:10.135Z"
   },
   {
    "duration": 4,
    "start_time": "2021-12-29T04:20:10.161Z"
   },
   {
    "duration": 33,
    "start_time": "2021-12-29T04:20:10.169Z"
   },
   {
    "duration": 903,
    "start_time": "2021-12-29T04:20:10.205Z"
   },
   {
    "duration": 14,
    "start_time": "2021-12-29T04:20:11.111Z"
   },
   {
    "duration": 8,
    "start_time": "2021-12-29T04:20:11.127Z"
   },
   {
    "duration": 669,
    "start_time": "2021-12-29T04:20:11.137Z"
   },
   {
    "duration": -2135,
    "start_time": "2021-12-29T04:20:13.944Z"
   },
   {
    "duration": -2138,
    "start_time": "2021-12-29T04:20:13.949Z"
   },
   {
    "duration": -2139,
    "start_time": "2021-12-29T04:20:13.951Z"
   },
   {
    "duration": -2250,
    "start_time": "2021-12-29T04:20:14.064Z"
   },
   {
    "duration": -2254,
    "start_time": "2021-12-29T04:20:14.069Z"
   },
   {
    "duration": -2253,
    "start_time": "2021-12-29T04:20:14.070Z"
   },
   {
    "duration": 11,
    "start_time": "2021-12-29T04:20:52.185Z"
   },
   {
    "duration": 2576,
    "start_time": "2021-12-29T04:21:02.117Z"
   },
   {
    "duration": 3,
    "start_time": "2021-12-29T04:21:04.696Z"
   },
   {
    "duration": 35,
    "start_time": "2021-12-29T04:21:04.702Z"
   },
   {
    "duration": 47,
    "start_time": "2021-12-29T04:21:04.740Z"
   },
   {
    "duration": 31,
    "start_time": "2021-12-29T04:21:04.789Z"
   },
   {
    "duration": 48,
    "start_time": "2021-12-29T04:21:04.822Z"
   },
   {
    "duration": 25,
    "start_time": "2021-12-29T04:21:04.872Z"
   },
   {
    "duration": 25,
    "start_time": "2021-12-29T04:21:04.901Z"
   },
   {
    "duration": 43,
    "start_time": "2021-12-29T04:21:04.930Z"
   },
   {
    "duration": 6,
    "start_time": "2021-12-29T04:21:04.976Z"
   },
   {
    "duration": 22,
    "start_time": "2021-12-29T04:21:04.984Z"
   },
   {
    "duration": 384,
    "start_time": "2021-12-29T04:21:05.008Z"
   },
   {
    "duration": 206,
    "start_time": "2021-12-29T04:21:05.395Z"
   },
   {
    "duration": 29,
    "start_time": "2021-12-29T04:21:05.603Z"
   },
   {
    "duration": 36,
    "start_time": "2021-12-29T04:21:05.634Z"
   },
   {
    "duration": 25,
    "start_time": "2021-12-29T04:21:05.672Z"
   },
   {
    "duration": 9,
    "start_time": "2021-12-29T04:21:05.699Z"
   },
   {
    "duration": 2988,
    "start_time": "2021-12-29T04:21:05.710Z"
   },
   {
    "duration": 1460,
    "start_time": "2021-12-29T04:21:08.716Z"
   },
   {
    "duration": 5,
    "start_time": "2021-12-29T04:21:10.180Z"
   },
   {
    "duration": 6,
    "start_time": "2021-12-29T04:21:10.188Z"
   },
   {
    "duration": 5,
    "start_time": "2021-12-29T04:21:10.197Z"
   },
   {
    "duration": 74,
    "start_time": "2021-12-29T04:21:10.208Z"
   },
   {
    "duration": 875,
    "start_time": "2021-12-29T04:21:10.284Z"
   },
   {
    "duration": 13,
    "start_time": "2021-12-29T04:21:11.161Z"
   },
   {
    "duration": 7,
    "start_time": "2021-12-29T04:21:11.176Z"
   },
   {
    "duration": 11,
    "start_time": "2021-12-29T04:21:11.186Z"
   },
   {
    "duration": 3,
    "start_time": "2021-12-29T04:21:11.200Z"
   },
   {
    "duration": 92,
    "start_time": "2021-12-29T04:21:11.206Z"
   },
   {
    "duration": 16,
    "start_time": "2021-12-29T04:21:11.300Z"
   },
   {
    "duration": 4,
    "start_time": "2021-12-29T04:21:11.319Z"
   },
   {
    "duration": 753,
    "start_time": "2021-12-29T04:21:11.326Z"
   },
   {
    "duration": 1009,
    "start_time": "2021-12-29T04:21:11.073Z"
   },
   {
    "duration": 13094,
    "start_time": "2021-12-29T04:26:50.612Z"
   },
   {
    "duration": 3001,
    "start_time": "2021-12-29T04:32:16.301Z"
   },
   {
    "duration": 12956,
    "start_time": "2021-12-29T04:33:40.502Z"
   },
   {
    "duration": 63257,
    "start_time": "2021-12-29T04:34:22.564Z"
   },
   {
    "duration": 46,
    "start_time": "2021-12-29T04:35:25.823Z"
   },
   {
    "duration": 63620,
    "start_time": "2021-12-29T04:35:29.939Z"
   },
   {
    "duration": 7,
    "start_time": "2021-12-29T04:36:40.276Z"
   },
   {
    "duration": 63418,
    "start_time": "2021-12-29T04:36:44.873Z"
   },
   {
    "duration": 9,
    "start_time": "2021-12-29T04:39:13.901Z"
   },
   {
    "duration": 4,
    "start_time": "2021-12-29T04:39:33.594Z"
   },
   {
    "duration": 5034,
    "start_time": "2021-12-29T04:39:37.525Z"
   },
   {
    "duration": 6,
    "start_time": "2021-12-29T04:40:46.687Z"
   },
   {
    "duration": 3,
    "start_time": "2021-12-29T04:40:47.760Z"
   },
   {
    "duration": 4,
    "start_time": "2021-12-29T04:40:48.447Z"
   },
   {
    "duration": 4999,
    "start_time": "2021-12-29T04:40:52.726Z"
   },
   {
    "duration": 7,
    "start_time": "2021-12-29T04:42:32.616Z"
   },
   {
    "duration": 35,
    "start_time": "2021-12-29T04:42:44.692Z"
   },
   {
    "duration": 13,
    "start_time": "2021-12-29T04:42:56.113Z"
   },
   {
    "duration": 5193,
    "start_time": "2021-12-29T04:43:23.547Z"
   },
   {
    "duration": 4,
    "start_time": "2021-12-29T04:43:53.503Z"
   },
   {
    "duration": 36531,
    "start_time": "2021-12-29T04:44:02.714Z"
   },
   {
    "duration": 11,
    "start_time": "2021-12-29T04:44:39.249Z"
   },
   {
    "duration": 2577,
    "start_time": "2021-12-29T04:45:29.037Z"
   },
   {
    "duration": 4,
    "start_time": "2021-12-29T04:45:31.616Z"
   },
   {
    "duration": 51,
    "start_time": "2021-12-29T04:45:31.624Z"
   },
   {
    "duration": 30,
    "start_time": "2021-12-29T04:45:31.678Z"
   },
   {
    "duration": 56,
    "start_time": "2021-12-29T04:45:31.710Z"
   },
   {
    "duration": 16,
    "start_time": "2021-12-29T04:45:31.768Z"
   },
   {
    "duration": 24,
    "start_time": "2021-12-29T04:45:31.786Z"
   },
   {
    "duration": 57,
    "start_time": "2021-12-29T04:45:31.814Z"
   },
   {
    "duration": 14,
    "start_time": "2021-12-29T04:45:31.874Z"
   },
   {
    "duration": 6,
    "start_time": "2021-12-29T04:45:31.890Z"
   },
   {
    "duration": 23,
    "start_time": "2021-12-29T04:45:31.898Z"
   },
   {
    "duration": 378,
    "start_time": "2021-12-29T04:45:31.923Z"
   },
   {
    "duration": 209,
    "start_time": "2021-12-29T04:45:32.303Z"
   },
   {
    "duration": 30,
    "start_time": "2021-12-29T04:45:32.514Z"
   },
   {
    "duration": 21,
    "start_time": "2021-12-29T04:45:32.558Z"
   },
   {
    "duration": 24,
    "start_time": "2021-12-29T04:45:32.581Z"
   },
   {
    "duration": 9,
    "start_time": "2021-12-29T04:45:32.608Z"
   },
   {
    "duration": 2840,
    "start_time": "2021-12-29T04:45:32.619Z"
   },
   {
    "duration": 1298,
    "start_time": "2021-12-29T04:45:35.461Z"
   },
   {
    "duration": 4,
    "start_time": "2021-12-29T04:45:36.761Z"
   },
   {
    "duration": 5,
    "start_time": "2021-12-29T04:45:36.767Z"
   },
   {
    "duration": 8,
    "start_time": "2021-12-29T04:45:36.774Z"
   },
   {
    "duration": 32,
    "start_time": "2021-12-29T04:45:36.787Z"
   },
   {
    "duration": 891,
    "start_time": "2021-12-29T04:45:36.822Z"
   },
   {
    "duration": 6,
    "start_time": "2021-12-29T04:45:37.715Z"
   },
   {
    "duration": 514,
    "start_time": "2021-12-29T04:45:37.724Z"
   },
   {
    "duration": 1062,
    "start_time": "2021-12-29T04:45:37.178Z"
   },
   {
    "duration": 1062,
    "start_time": "2021-12-29T04:45:37.179Z"
   },
   {
    "duration": 1058,
    "start_time": "2021-12-29T04:45:37.184Z"
   },
   {
    "duration": 1057,
    "start_time": "2021-12-29T04:45:37.186Z"
   },
   {
    "duration": 1057,
    "start_time": "2021-12-29T04:45:37.188Z"
   },
   {
    "duration": 1057,
    "start_time": "2021-12-29T04:45:37.189Z"
   },
   {
    "duration": 947,
    "start_time": "2021-12-29T04:45:37.300Z"
   },
   {
    "duration": 946,
    "start_time": "2021-12-29T04:45:37.302Z"
   },
   {
    "duration": 945,
    "start_time": "2021-12-29T04:45:37.304Z"
   },
   {
    "duration": 945,
    "start_time": "2021-12-29T04:45:37.305Z"
   },
   {
    "duration": 945,
    "start_time": "2021-12-29T04:45:37.307Z"
   },
   {
    "duration": 2663,
    "start_time": "2021-12-29T04:46:39.643Z"
   },
   {
    "duration": 3,
    "start_time": "2021-12-29T04:46:42.309Z"
   },
   {
    "duration": 53,
    "start_time": "2021-12-29T04:46:42.315Z"
   },
   {
    "duration": 30,
    "start_time": "2021-12-29T04:46:42.371Z"
   },
   {
    "duration": 29,
    "start_time": "2021-12-29T04:46:42.404Z"
   },
   {
    "duration": 16,
    "start_time": "2021-12-29T04:46:42.460Z"
   },
   {
    "duration": 23,
    "start_time": "2021-12-29T04:46:42.479Z"
   },
   {
    "duration": 63,
    "start_time": "2021-12-29T04:46:42.506Z"
   },
   {
    "duration": 16,
    "start_time": "2021-12-29T04:46:42.573Z"
   },
   {
    "duration": 8,
    "start_time": "2021-12-29T04:46:42.592Z"
   },
   {
    "duration": 22,
    "start_time": "2021-12-29T04:46:42.603Z"
   },
   {
    "duration": 378,
    "start_time": "2021-12-29T04:46:42.660Z"
   },
   {
    "duration": 221,
    "start_time": "2021-12-29T04:46:43.041Z"
   },
   {
    "duration": 32,
    "start_time": "2021-12-29T04:46:43.265Z"
   },
   {
    "duration": 23,
    "start_time": "2021-12-29T04:46:43.300Z"
   },
   {
    "duration": 55,
    "start_time": "2021-12-29T04:46:43.325Z"
   },
   {
    "duration": 10,
    "start_time": "2021-12-29T04:46:43.383Z"
   },
   {
    "duration": 2992,
    "start_time": "2021-12-29T04:46:43.396Z"
   },
   {
    "duration": 1424,
    "start_time": "2021-12-29T04:46:46.391Z"
   },
   {
    "duration": 5,
    "start_time": "2021-12-29T04:46:47.818Z"
   },
   {
    "duration": 5,
    "start_time": "2021-12-29T04:46:47.826Z"
   },
   {
    "duration": 27,
    "start_time": "2021-12-29T04:46:47.834Z"
   },
   {
    "duration": 32,
    "start_time": "2021-12-29T04:46:47.869Z"
   },
   {
    "duration": 942,
    "start_time": "2021-12-29T04:46:47.904Z"
   },
   {
    "duration": 10,
    "start_time": "2021-12-29T04:46:48.850Z"
   },
   {
    "duration": 5,
    "start_time": "2021-12-29T04:46:48.863Z"
   },
   {
    "duration": 5,
    "start_time": "2021-12-29T04:46:48.871Z"
   },
   {
    "duration": 88,
    "start_time": "2021-12-29T04:46:48.879Z"
   },
   {
    "duration": 21,
    "start_time": "2021-12-29T04:46:48.970Z"
   },
   {
    "duration": 5,
    "start_time": "2021-12-29T04:46:48.994Z"
   },
   {
    "duration": 11,
    "start_time": "2021-12-29T04:46:49.002Z"
   },
   {
    "duration": 62,
    "start_time": "2021-12-29T04:46:49.016Z"
   },
   {
    "duration": 20980,
    "start_time": "2021-12-29T04:46:49.081Z"
   },
   {
    "duration": 812,
    "start_time": "2021-12-29T04:49:17.853Z"
   },
   {
    "duration": 811,
    "start_time": "2021-12-29T04:49:17.856Z"
   },
   {
    "duration": 810,
    "start_time": "2021-12-29T04:49:17.858Z"
   },
   {
    "duration": 809,
    "start_time": "2021-12-29T04:49:17.862Z"
   },
   {
    "duration": 812,
    "start_time": "2021-12-29T04:49:17.864Z"
   },
   {
    "duration": 476,
    "start_time": "2021-12-29T04:49:20.228Z"
   },
   {
    "duration": 3022,
    "start_time": "2021-12-29T04:49:28.456Z"
   },
   {
    "duration": 6,
    "start_time": "2021-12-29T04:49:58.275Z"
   },
   {
    "duration": 4023,
    "start_time": "2021-12-29T04:50:02.207Z"
   },
   {
    "duration": 4,
    "start_time": "2021-12-29T04:51:02.742Z"
   },
   {
    "duration": 469,
    "start_time": "2021-12-29T04:51:11.430Z"
   },
   {
    "duration": 464,
    "start_time": "2021-12-29T04:51:19.900Z"
   },
   {
    "duration": 954,
    "start_time": "2021-12-29T04:51:35.074Z"
   },
   {
    "duration": 2572,
    "start_time": "2021-12-29T04:51:55.519Z"
   },
   {
    "duration": 4,
    "start_time": "2021-12-29T04:51:58.093Z"
   },
   {
    "duration": 35,
    "start_time": "2021-12-29T04:51:58.100Z"
   },
   {
    "duration": 48,
    "start_time": "2021-12-29T04:51:58.138Z"
   },
   {
    "duration": 30,
    "start_time": "2021-12-29T04:51:58.188Z"
   },
   {
    "duration": 40,
    "start_time": "2021-12-29T04:51:58.220Z"
   },
   {
    "duration": 23,
    "start_time": "2021-12-29T04:51:58.263Z"
   },
   {
    "duration": 24,
    "start_time": "2021-12-29T04:51:58.290Z"
   },
   {
    "duration": 43,
    "start_time": "2021-12-29T04:51:58.317Z"
   },
   {
    "duration": 6,
    "start_time": "2021-12-29T04:51:58.363Z"
   },
   {
    "duration": 22,
    "start_time": "2021-12-29T04:51:58.371Z"
   },
   {
    "duration": 369,
    "start_time": "2021-12-29T04:51:58.395Z"
   },
   {
    "duration": 207,
    "start_time": "2021-12-29T04:51:58.766Z"
   },
   {
    "duration": 29,
    "start_time": "2021-12-29T04:51:58.975Z"
   },
   {
    "duration": 18,
    "start_time": "2021-12-29T04:51:59.007Z"
   },
   {
    "duration": 48,
    "start_time": "2021-12-29T04:51:59.028Z"
   },
   {
    "duration": 8,
    "start_time": "2021-12-29T04:51:59.079Z"
   },
   {
    "duration": 3012,
    "start_time": "2021-12-29T04:51:59.089Z"
   },
   {
    "duration": 1407,
    "start_time": "2021-12-29T04:52:02.104Z"
   },
   {
    "duration": 4,
    "start_time": "2021-12-29T04:52:03.514Z"
   },
   {
    "duration": 8,
    "start_time": "2021-12-29T04:52:03.520Z"
   },
   {
    "duration": 28,
    "start_time": "2021-12-29T04:52:03.531Z"
   },
   {
    "duration": 29,
    "start_time": "2021-12-29T04:52:03.564Z"
   },
   {
    "duration": 884,
    "start_time": "2021-12-29T04:52:03.595Z"
   },
   {
    "duration": 6,
    "start_time": "2021-12-29T04:52:04.481Z"
   },
   {
    "duration": 7,
    "start_time": "2021-12-29T04:52:04.489Z"
   },
   {
    "duration": 71,
    "start_time": "2021-12-29T04:52:04.498Z"
   },
   {
    "duration": 18,
    "start_time": "2021-12-29T04:52:04.572Z"
   },
   {
    "duration": 3,
    "start_time": "2021-12-29T04:52:04.593Z"
   },
   {
    "duration": 11,
    "start_time": "2021-12-29T04:52:04.599Z"
   },
   {
    "duration": 53,
    "start_time": "2021-12-29T04:52:04.612Z"
   },
   {
    "duration": 1109,
    "start_time": "2021-12-29T04:52:04.668Z"
   },
   {
    "duration": 930,
    "start_time": "2021-12-29T04:52:04.850Z"
   },
   {
    "duration": 929,
    "start_time": "2021-12-29T04:52:04.852Z"
   },
   {
    "duration": 930,
    "start_time": "2021-12-29T04:52:04.853Z"
   },
   {
    "duration": 930,
    "start_time": "2021-12-29T04:52:04.854Z"
   },
   {
    "duration": 922,
    "start_time": "2021-12-29T04:53:56.042Z"
   },
   {
    "duration": 466,
    "start_time": "2021-12-29T04:55:06.753Z"
   },
   {
    "duration": 4,
    "start_time": "2021-12-29T04:55:21.791Z"
   },
   {
    "duration": 6,
    "start_time": "2021-12-29T04:55:23.043Z"
   },
   {
    "duration": 835,
    "start_time": "2021-12-29T04:55:33.906Z"
   },
   {
    "duration": 6,
    "start_time": "2021-12-29T04:56:21.563Z"
   },
   {
    "duration": 4,
    "start_time": "2021-12-29T04:56:32.455Z"
   },
   {
    "duration": 4,
    "start_time": "2021-12-29T04:56:47.717Z"
   },
   {
    "duration": 6,
    "start_time": "2021-12-29T04:56:49.086Z"
   },
   {
    "duration": 4,
    "start_time": "2021-12-29T04:56:49.401Z"
   },
   {
    "duration": 4,
    "start_time": "2021-12-29T04:56:49.608Z"
   },
   {
    "duration": 3455,
    "start_time": "2021-12-29T04:57:03.428Z"
   },
   {
    "duration": 1348,
    "start_time": "2021-12-29T04:57:09.431Z"
   },
   {
    "duration": 6,
    "start_time": "2021-12-29T04:57:41.294Z"
   },
   {
    "duration": 1425,
    "start_time": "2021-12-29T04:57:45.183Z"
   },
   {
    "duration": 11,
    "start_time": "2021-12-29T04:58:02.372Z"
   },
   {
    "duration": 1391,
    "start_time": "2021-12-29T04:58:07.100Z"
   },
   {
    "duration": 2570,
    "start_time": "2021-12-29T04:58:17.216Z"
   },
   {
    "duration": 4,
    "start_time": "2021-12-29T04:58:19.789Z"
   },
   {
    "duration": 36,
    "start_time": "2021-12-29T04:58:19.797Z"
   },
   {
    "duration": 30,
    "start_time": "2021-12-29T04:58:19.860Z"
   },
   {
    "duration": 31,
    "start_time": "2021-12-29T04:58:19.894Z"
   },
   {
    "duration": 47,
    "start_time": "2021-12-29T04:58:19.928Z"
   },
   {
    "duration": 26,
    "start_time": "2021-12-29T04:58:19.978Z"
   },
   {
    "duration": 60,
    "start_time": "2021-12-29T04:58:20.010Z"
   },
   {
    "duration": 14,
    "start_time": "2021-12-29T04:58:20.075Z"
   },
   {
    "duration": 7,
    "start_time": "2021-12-29T04:58:20.092Z"
   },
   {
    "duration": 22,
    "start_time": "2021-12-29T04:58:20.101Z"
   },
   {
    "duration": 404,
    "start_time": "2021-12-29T04:58:20.126Z"
   },
   {
    "duration": 211,
    "start_time": "2021-12-29T04:58:20.532Z"
   },
   {
    "duration": 35,
    "start_time": "2021-12-29T04:58:20.746Z"
   },
   {
    "duration": 20,
    "start_time": "2021-12-29T04:58:20.783Z"
   },
   {
    "duration": 23,
    "start_time": "2021-12-29T04:58:20.805Z"
   },
   {
    "duration": 30,
    "start_time": "2021-12-29T04:58:20.830Z"
   },
   {
    "duration": 3078,
    "start_time": "2021-12-29T04:58:20.863Z"
   },
   {
    "duration": 1464,
    "start_time": "2021-12-29T04:58:23.944Z"
   },
   {
    "duration": 4,
    "start_time": "2021-12-29T04:58:25.410Z"
   },
   {
    "duration": 8,
    "start_time": "2021-12-29T04:58:25.416Z"
   },
   {
    "duration": 5,
    "start_time": "2021-12-29T04:58:25.427Z"
   },
   {
    "duration": 50,
    "start_time": "2021-12-29T04:58:25.437Z"
   },
   {
    "duration": 1053,
    "start_time": "2021-12-29T04:58:25.490Z"
   },
   {
    "duration": 13,
    "start_time": "2021-12-29T04:58:26.546Z"
   },
   {
    "duration": 5,
    "start_time": "2021-12-29T04:58:26.561Z"
   },
   {
    "duration": 5,
    "start_time": "2021-12-29T04:58:26.568Z"
   },
   {
    "duration": 49,
    "start_time": "2021-12-29T04:58:26.575Z"
   },
   {
    "duration": 45,
    "start_time": "2021-12-29T04:58:26.626Z"
   },
   {
    "duration": 3,
    "start_time": "2021-12-29T04:58:26.674Z"
   },
   {
    "duration": 12,
    "start_time": "2021-12-29T04:58:26.680Z"
   },
   {
    "duration": 24,
    "start_time": "2021-12-29T04:58:26.694Z"
   },
   {
    "duration": 12314,
    "start_time": "2021-12-29T04:58:26.721Z"
   },
   {
    "duration": 2519,
    "start_time": "2021-12-29T04:59:08.684Z"
   },
   {
    "duration": 3,
    "start_time": "2021-12-29T04:59:11.206Z"
   },
   {
    "duration": 49,
    "start_time": "2021-12-29T04:59:11.212Z"
   },
   {
    "duration": 29,
    "start_time": "2021-12-29T04:59:11.264Z"
   },
   {
    "duration": 29,
    "start_time": "2021-12-29T04:59:11.296Z"
   },
   {
    "duration": 43,
    "start_time": "2021-12-29T04:59:11.327Z"
   },
   {
    "duration": 23,
    "start_time": "2021-12-29T04:59:11.373Z"
   },
   {
    "duration": 25,
    "start_time": "2021-12-29T04:59:11.400Z"
   },
   {
    "duration": 43,
    "start_time": "2021-12-29T04:59:11.428Z"
   },
   {
    "duration": 6,
    "start_time": "2021-12-29T04:59:11.473Z"
   },
   {
    "duration": 21,
    "start_time": "2021-12-29T04:59:11.481Z"
   },
   {
    "duration": 382,
    "start_time": "2021-12-29T04:59:11.504Z"
   },
   {
    "duration": 209,
    "start_time": "2021-12-29T04:59:11.889Z"
   },
   {
    "duration": 28,
    "start_time": "2021-12-29T04:59:12.101Z"
   },
   {
    "duration": 35,
    "start_time": "2021-12-29T04:59:12.132Z"
   },
   {
    "duration": 23,
    "start_time": "2021-12-29T04:59:12.169Z"
   },
   {
    "duration": 8,
    "start_time": "2021-12-29T04:59:12.195Z"
   },
   {
    "duration": 3227,
    "start_time": "2021-12-29T04:59:12.205Z"
   },
   {
    "duration": 1376,
    "start_time": "2021-12-29T04:59:15.436Z"
   },
   {
    "duration": 3,
    "start_time": "2021-12-29T04:59:16.815Z"
   },
   {
    "duration": 6,
    "start_time": "2021-12-29T04:59:16.820Z"
   },
   {
    "duration": 5,
    "start_time": "2021-12-29T04:59:16.828Z"
   },
   {
    "duration": 50,
    "start_time": "2021-12-29T04:59:16.837Z"
   },
   {
    "duration": 894,
    "start_time": "2021-12-29T04:59:16.890Z"
   },
   {
    "duration": 7,
    "start_time": "2021-12-29T04:59:17.786Z"
   },
   {
    "duration": 6,
    "start_time": "2021-12-29T04:59:17.795Z"
   },
   {
    "duration": 6,
    "start_time": "2021-12-29T04:59:17.803Z"
   },
   {
    "duration": 77,
    "start_time": "2021-12-29T04:59:17.811Z"
   },
   {
    "duration": 18,
    "start_time": "2021-12-29T04:59:17.890Z"
   },
   {
    "duration": 4,
    "start_time": "2021-12-29T04:59:17.910Z"
   },
   {
    "duration": 11,
    "start_time": "2021-12-29T04:59:17.916Z"
   },
   {
    "duration": 49,
    "start_time": "2021-12-29T04:59:17.929Z"
   },
   {
    "duration": 12858,
    "start_time": "2021-12-29T04:59:17.980Z"
   },
   {
    "duration": 413,
    "start_time": "2021-12-29T05:02:26.532Z"
   },
   {
    "duration": 2496,
    "start_time": "2021-12-29T05:02:34.409Z"
   },
   {
    "duration": 4,
    "start_time": "2021-12-29T05:02:36.908Z"
   },
   {
    "duration": 51,
    "start_time": "2021-12-29T05:02:36.914Z"
   },
   {
    "duration": 30,
    "start_time": "2021-12-29T05:02:36.968Z"
   },
   {
    "duration": 30,
    "start_time": "2021-12-29T05:02:37.000Z"
   },
   {
    "duration": 16,
    "start_time": "2021-12-29T05:02:37.059Z"
   },
   {
    "duration": 23,
    "start_time": "2021-12-29T05:02:37.078Z"
   },
   {
    "duration": 54,
    "start_time": "2021-12-29T05:02:37.105Z"
   },
   {
    "duration": 15,
    "start_time": "2021-12-29T05:02:37.163Z"
   },
   {
    "duration": 7,
    "start_time": "2021-12-29T05:02:37.180Z"
   },
   {
    "duration": 37,
    "start_time": "2021-12-29T05:02:37.189Z"
   },
   {
    "duration": 375,
    "start_time": "2021-12-29T05:02:37.229Z"
   },
   {
    "duration": 212,
    "start_time": "2021-12-29T05:02:37.607Z"
   },
   {
    "duration": 43,
    "start_time": "2021-12-29T05:02:37.821Z"
   },
   {
    "duration": 19,
    "start_time": "2021-12-29T05:02:37.866Z"
   },
   {
    "duration": 30,
    "start_time": "2021-12-29T05:02:37.888Z"
   },
   {
    "duration": 8,
    "start_time": "2021-12-29T05:02:37.921Z"
   },
   {
    "duration": 2901,
    "start_time": "2021-12-29T05:02:37.931Z"
   },
   {
    "duration": 1317,
    "start_time": "2021-12-29T05:02:40.835Z"
   },
   {
    "duration": 6,
    "start_time": "2021-12-29T05:02:42.154Z"
   },
   {
    "duration": 7,
    "start_time": "2021-12-29T05:02:42.162Z"
   },
   {
    "duration": 12,
    "start_time": "2021-12-29T05:02:42.171Z"
   },
   {
    "duration": 34,
    "start_time": "2021-12-29T05:02:42.188Z"
   },
   {
    "duration": 903,
    "start_time": "2021-12-29T05:02:42.225Z"
   },
   {
    "duration": 7,
    "start_time": "2021-12-29T05:02:43.131Z"
   },
   {
    "duration": 19,
    "start_time": "2021-12-29T05:02:43.140Z"
   },
   {
    "duration": 7,
    "start_time": "2021-12-29T05:02:43.161Z"
   },
   {
    "duration": 52,
    "start_time": "2021-12-29T05:02:43.170Z"
   },
   {
    "duration": 41,
    "start_time": "2021-12-29T05:02:43.224Z"
   },
   {
    "duration": 5,
    "start_time": "2021-12-29T05:02:43.268Z"
   },
   {
    "duration": 12,
    "start_time": "2021-12-29T05:02:43.276Z"
   },
   {
    "duration": 29,
    "start_time": "2021-12-29T05:02:43.291Z"
   },
   {
    "duration": 560,
    "start_time": "2021-12-29T05:02:43.322Z"
   },
   {
    "duration": 364,
    "start_time": "2021-12-29T05:02:47.906Z"
   },
   {
    "duration": 423,
    "start_time": "2021-12-29T05:03:20.340Z"
   },
   {
    "duration": 6,
    "start_time": "2022-01-09T01:56:46.293Z"
   },
   {
    "duration": 339,
    "start_time": "2022-01-09T01:56:48.344Z"
   },
   {
    "duration": 5,
    "start_time": "2022-01-09T01:56:56.816Z"
   },
   {
    "duration": 272,
    "start_time": "2022-01-09T01:56:58.192Z"
   },
   {
    "duration": 2587,
    "start_time": "2022-01-09T01:57:03.982Z"
   },
   {
    "duration": 4,
    "start_time": "2022-01-09T01:57:06.571Z"
   },
   {
    "duration": 41,
    "start_time": "2022-01-09T01:57:06.577Z"
   },
   {
    "duration": 50,
    "start_time": "2022-01-09T01:57:06.621Z"
   },
   {
    "duration": 38,
    "start_time": "2022-01-09T01:57:06.674Z"
   },
   {
    "duration": 17,
    "start_time": "2022-01-09T01:57:06.714Z"
   },
   {
    "duration": 48,
    "start_time": "2022-01-09T01:57:06.733Z"
   },
   {
    "duration": 25,
    "start_time": "2022-01-09T01:57:06.785Z"
   },
   {
    "duration": 13,
    "start_time": "2022-01-09T01:57:06.814Z"
   },
   {
    "duration": 40,
    "start_time": "2022-01-09T01:57:06.829Z"
   },
   {
    "duration": 22,
    "start_time": "2022-01-09T01:57:06.871Z"
   },
   {
    "duration": 390,
    "start_time": "2022-01-09T01:57:06.895Z"
   },
   {
    "duration": 212,
    "start_time": "2022-01-09T01:57:07.288Z"
   },
   {
    "duration": 31,
    "start_time": "2022-01-09T01:57:07.503Z"
   },
   {
    "duration": 42,
    "start_time": "2022-01-09T01:57:07.536Z"
   },
   {
    "duration": 24,
    "start_time": "2022-01-09T01:57:07.580Z"
   },
   {
    "duration": 8,
    "start_time": "2022-01-09T01:57:07.606Z"
   },
   {
    "duration": 2942,
    "start_time": "2022-01-09T01:57:07.617Z"
   },
   {
    "duration": 1336,
    "start_time": "2022-01-09T01:57:10.561Z"
   },
   {
    "duration": 4,
    "start_time": "2022-01-09T01:57:11.899Z"
   },
   {
    "duration": 6,
    "start_time": "2022-01-09T01:57:11.905Z"
   },
   {
    "duration": 6,
    "start_time": "2022-01-09T01:57:11.914Z"
   },
   {
    "duration": 59,
    "start_time": "2022-01-09T01:57:11.924Z"
   },
   {
    "duration": 901,
    "start_time": "2022-01-09T01:57:11.986Z"
   },
   {
    "duration": 5,
    "start_time": "2022-01-09T01:57:12.890Z"
   },
   {
    "duration": 70,
    "start_time": "2022-01-09T01:57:12.897Z"
   },
   {
    "duration": 20,
    "start_time": "2022-01-09T01:57:12.969Z"
   },
   {
    "duration": 4,
    "start_time": "2022-01-09T01:57:12.991Z"
   },
   {
    "duration": 20,
    "start_time": "2022-01-09T01:57:12.998Z"
   },
   {
    "duration": 47,
    "start_time": "2022-01-09T01:57:13.020Z"
   },
   {
    "duration": 689,
    "start_time": "2022-01-09T01:57:13.070Z"
   },
   {
    "duration": 5,
    "start_time": "2022-01-09T02:05:34.466Z"
   },
   {
    "duration": 6,
    "start_time": "2022-01-09T02:10:17.603Z"
   },
   {
    "duration": 521,
    "start_time": "2022-01-09T02:10:40.316Z"
   },
   {
    "duration": 785,
    "start_time": "2022-01-09T02:14:50.485Z"
   },
   {
    "duration": 558,
    "start_time": "2022-01-09T02:15:00.200Z"
   },
   {
    "duration": 11812,
    "start_time": "2022-01-09T02:15:14.119Z"
   },
   {
    "duration": 556,
    "start_time": "2022-01-09T02:16:01.189Z"
   },
   {
    "duration": 546,
    "start_time": "2022-01-09T02:18:21.961Z"
   },
   {
    "duration": 49,
    "start_time": "2022-01-09T02:19:29.562Z"
   },
   {
    "duration": 12,
    "start_time": "2022-01-09T02:20:13.468Z"
   },
   {
    "duration": 12949,
    "start_time": "2022-01-09T02:20:20.895Z"
   },
   {
    "duration": 10292,
    "start_time": "2022-01-09T02:20:52.685Z"
   },
   {
    "duration": 5,
    "start_time": "2022-01-09T02:21:46.342Z"
   },
   {
    "duration": 7045,
    "start_time": "2022-01-09T02:21:49.375Z"
   },
   {
    "duration": -724,
    "start_time": "2022-01-09T02:21:57.147Z"
   },
   {
    "duration": -727,
    "start_time": "2022-01-09T02:21:57.151Z"
   },
   {
    "duration": -726,
    "start_time": "2022-01-09T02:21:57.152Z"
   },
   {
    "duration": -726,
    "start_time": "2022-01-09T02:21:57.153Z"
   },
   {
    "duration": -727,
    "start_time": "2022-01-09T02:21:57.155Z"
   },
   {
    "duration": 2529,
    "start_time": "2022-01-09T02:22:19.201Z"
   },
   {
    "duration": 4,
    "start_time": "2022-01-09T02:22:21.732Z"
   },
   {
    "duration": 50,
    "start_time": "2022-01-09T02:22:21.739Z"
   },
   {
    "duration": 32,
    "start_time": "2022-01-09T02:22:21.792Z"
   },
   {
    "duration": 57,
    "start_time": "2022-01-09T02:22:21.826Z"
   },
   {
    "duration": 17,
    "start_time": "2022-01-09T02:22:21.885Z"
   },
   {
    "duration": 25,
    "start_time": "2022-01-09T02:22:21.905Z"
   },
   {
    "duration": 60,
    "start_time": "2022-01-09T02:22:21.934Z"
   },
   {
    "duration": 13,
    "start_time": "2022-01-09T02:22:21.997Z"
   },
   {
    "duration": 7,
    "start_time": "2022-01-09T02:22:22.012Z"
   },
   {
    "duration": 54,
    "start_time": "2022-01-09T02:22:22.021Z"
   },
   {
    "duration": 366,
    "start_time": "2022-01-09T02:22:22.077Z"
   },
   {
    "duration": 212,
    "start_time": "2022-01-09T02:22:22.446Z"
   },
   {
    "duration": 33,
    "start_time": "2022-01-09T02:22:22.661Z"
   },
   {
    "duration": 20,
    "start_time": "2022-01-09T02:22:22.696Z"
   },
   {
    "duration": 52,
    "start_time": "2022-01-09T02:22:22.719Z"
   },
   {
    "duration": 8,
    "start_time": "2022-01-09T02:22:22.774Z"
   },
   {
    "duration": 2923,
    "start_time": "2022-01-09T02:22:22.784Z"
   },
   {
    "duration": 1340,
    "start_time": "2022-01-09T02:22:25.711Z"
   },
   {
    "duration": 17,
    "start_time": "2022-01-09T02:22:27.054Z"
   },
   {
    "duration": 11,
    "start_time": "2022-01-09T02:22:27.073Z"
   },
   {
    "duration": 6,
    "start_time": "2022-01-09T02:22:27.087Z"
   },
   {
    "duration": 30,
    "start_time": "2022-01-09T02:22:27.099Z"
   },
   {
    "duration": 1022,
    "start_time": "2022-01-09T02:22:27.133Z"
   },
   {
    "duration": 9,
    "start_time": "2022-01-09T02:22:28.158Z"
   },
   {
    "duration": 55,
    "start_time": "2022-01-09T02:22:28.170Z"
   },
   {
    "duration": 49,
    "start_time": "2022-01-09T02:22:28.228Z"
   },
   {
    "duration": 4,
    "start_time": "2022-01-09T02:22:28.280Z"
   },
   {
    "duration": 17,
    "start_time": "2022-01-09T02:22:28.286Z"
   },
   {
    "duration": 34,
    "start_time": "2022-01-09T02:22:28.305Z"
   },
   {
    "duration": 10725,
    "start_time": "2022-01-09T02:22:28.366Z"
   },
   {
    "duration": 9994,
    "start_time": "2022-01-09T02:23:08.826Z"
   },
   {
    "duration": 9595,
    "start_time": "2022-01-09T02:24:44.938Z"
   },
   {
    "duration": 552,
    "start_time": "2022-01-09T02:29:53.329Z"
   },
   {
    "duration": 9449,
    "start_time": "2022-01-09T02:30:00.620Z"
   },
   {
    "duration": 9527,
    "start_time": "2022-01-09T02:30:32.178Z"
   },
   {
    "duration": 5,
    "start_time": "2022-01-09T02:31:56.184Z"
   },
   {
    "duration": 9512,
    "start_time": "2022-01-09T02:31:59.388Z"
   },
   {
    "duration": 15,
    "start_time": "2022-01-09T02:33:13.676Z"
   },
   {
    "duration": 9591,
    "start_time": "2022-01-09T02:34:07.466Z"
   },
   {
    "duration": 2679,
    "start_time": "2022-01-09T02:36:34.340Z"
   },
   {
    "duration": 3,
    "start_time": "2022-01-09T02:36:37.021Z"
   },
   {
    "duration": 41,
    "start_time": "2022-01-09T02:36:37.027Z"
   },
   {
    "duration": 30,
    "start_time": "2022-01-09T02:36:37.071Z"
   },
   {
    "duration": 38,
    "start_time": "2022-01-09T02:36:37.104Z"
   },
   {
    "duration": 17,
    "start_time": "2022-01-09T02:36:37.144Z"
   },
   {
    "duration": 25,
    "start_time": "2022-01-09T02:36:37.168Z"
   },
   {
    "duration": 28,
    "start_time": "2022-01-09T02:36:37.197Z"
   },
   {
    "duration": 14,
    "start_time": "2022-01-09T02:36:37.228Z"
   },
   {
    "duration": 6,
    "start_time": "2022-01-09T02:36:37.244Z"
   },
   {
    "duration": 28,
    "start_time": "2022-01-09T02:36:37.253Z"
   },
   {
    "duration": 384,
    "start_time": "2022-01-09T02:36:37.283Z"
   },
   {
    "duration": 322,
    "start_time": "2022-01-09T02:36:37.669Z"
   },
   {
    "duration": 30,
    "start_time": "2022-01-09T02:36:37.994Z"
   },
   {
    "duration": 21,
    "start_time": "2022-01-09T02:36:38.026Z"
   },
   {
    "duration": 33,
    "start_time": "2022-01-09T02:36:38.049Z"
   },
   {
    "duration": 9,
    "start_time": "2022-01-09T02:36:38.085Z"
   },
   {
    "duration": 3201,
    "start_time": "2022-01-09T02:36:38.097Z"
   },
   {
    "duration": 1363,
    "start_time": "2022-01-09T02:36:41.301Z"
   },
   {
    "duration": 4,
    "start_time": "2022-01-09T02:36:42.667Z"
   },
   {
    "duration": 6,
    "start_time": "2022-01-09T02:36:42.673Z"
   },
   {
    "duration": 6,
    "start_time": "2022-01-09T02:36:42.681Z"
   },
   {
    "duration": 35,
    "start_time": "2022-01-09T02:36:42.692Z"
   },
   {
    "duration": 1010,
    "start_time": "2022-01-09T02:36:42.729Z"
   },
   {
    "duration": 5,
    "start_time": "2022-01-09T02:36:43.741Z"
   },
   {
    "duration": 59,
    "start_time": "2022-01-09T02:36:43.748Z"
   },
   {
    "duration": 19,
    "start_time": "2022-01-09T02:36:43.810Z"
   },
   {
    "duration": 3,
    "start_time": "2022-01-09T02:36:43.832Z"
   },
   {
    "duration": 40,
    "start_time": "2022-01-09T02:36:43.838Z"
   },
   {
    "duration": 27,
    "start_time": "2022-01-09T02:36:43.880Z"
   },
   {
    "duration": 16,
    "start_time": "2022-01-09T02:36:43.909Z"
   },
   {
    "duration": 9587,
    "start_time": "2022-01-09T02:36:43.927Z"
   },
   {
    "duration": 82090,
    "start_time": "2022-01-09T02:36:53.516Z"
   },
   {
    "duration": 567,
    "start_time": "2022-01-09T02:38:15.609Z"
   },
   {
    "duration": 440,
    "start_time": "2022-01-09T02:38:35.008Z"
   },
   {
    "duration": 2176,
    "start_time": "2022-01-09T03:40:40.181Z"
   },
   {
    "duration": 2254,
    "start_time": "2022-01-09T03:40:49.253Z"
   },
   {
    "duration": 21,
    "start_time": "2022-01-09T03:40:55.258Z"
   },
   {
    "duration": 1082,
    "start_time": "2022-01-09T03:42:11.011Z"
   },
   {
    "duration": 449,
    "start_time": "2022-01-09T03:42:42.723Z"
   },
   {
    "duration": 1128,
    "start_time": "2022-01-09T03:42:56.637Z"
   },
   {
    "duration": 379,
    "start_time": "2022-01-09T03:43:03.587Z"
   },
   {
    "duration": 304,
    "start_time": "2022-01-09T03:43:06.631Z"
   },
   {
    "duration": 286,
    "start_time": "2022-01-09T03:43:22.986Z"
   },
   {
    "duration": 276,
    "start_time": "2022-01-09T03:43:55.416Z"
   },
   {
    "duration": 822,
    "start_time": "2022-01-09T03:44:15.240Z"
   },
   {
    "duration": 379,
    "start_time": "2022-01-09T03:44:36.443Z"
   },
   {
    "duration": 408,
    "start_time": "2022-01-09T03:44:43.532Z"
   },
   {
    "duration": 838,
    "start_time": "2022-01-09T03:44:50.741Z"
   },
   {
    "duration": 106,
    "start_time": "2022-01-09T03:46:06.711Z"
   },
   {
    "duration": 2821,
    "start_time": "2022-01-09T21:09:00.039Z"
   },
   {
    "duration": 4,
    "start_time": "2022-01-09T21:09:02.863Z"
   },
   {
    "duration": 36,
    "start_time": "2022-01-09T21:09:02.870Z"
   },
   {
    "duration": 64,
    "start_time": "2022-01-09T21:09:02.908Z"
   },
   {
    "duration": 30,
    "start_time": "2022-01-09T21:09:02.974Z"
   },
   {
    "duration": 15,
    "start_time": "2022-01-09T21:09:03.007Z"
   },
   {
    "duration": 59,
    "start_time": "2022-01-09T21:09:03.025Z"
   },
   {
    "duration": 26,
    "start_time": "2022-01-09T21:09:03.089Z"
   },
   {
    "duration": 43,
    "start_time": "2022-01-09T21:09:03.118Z"
   },
   {
    "duration": 577,
    "start_time": "2022-01-09T21:09:03.164Z"
   },
   {
    "duration": -251,
    "start_time": "2022-01-09T21:09:03.995Z"
   },
   {
    "duration": -251,
    "start_time": "2022-01-09T21:09:03.997Z"
   },
   {
    "duration": -251,
    "start_time": "2022-01-09T21:09:03.998Z"
   },
   {
    "duration": -250,
    "start_time": "2022-01-09T21:09:03.999Z"
   },
   {
    "duration": -251,
    "start_time": "2022-01-09T21:09:04.001Z"
   },
   {
    "duration": -251,
    "start_time": "2022-01-09T21:09:04.002Z"
   },
   {
    "duration": -250,
    "start_time": "2022-01-09T21:09:04.003Z"
   },
   {
    "duration": -249,
    "start_time": "2022-01-09T21:09:04.004Z"
   },
   {
    "duration": -249,
    "start_time": "2022-01-09T21:09:04.005Z"
   },
   {
    "duration": -249,
    "start_time": "2022-01-09T21:09:04.007Z"
   },
   {
    "duration": -248,
    "start_time": "2022-01-09T21:09:04.008Z"
   },
   {
    "duration": -250,
    "start_time": "2022-01-09T21:09:04.012Z"
   },
   {
    "duration": -249,
    "start_time": "2022-01-09T21:09:04.013Z"
   },
   {
    "duration": -361,
    "start_time": "2022-01-09T21:09:04.127Z"
   },
   {
    "duration": -361,
    "start_time": "2022-01-09T21:09:04.128Z"
   },
   {
    "duration": -362,
    "start_time": "2022-01-09T21:09:04.130Z"
   },
   {
    "duration": -362,
    "start_time": "2022-01-09T21:09:04.131Z"
   },
   {
    "duration": -361,
    "start_time": "2022-01-09T21:09:04.132Z"
   },
   {
    "duration": -359,
    "start_time": "2022-01-09T21:09:04.133Z"
   },
   {
    "duration": -358,
    "start_time": "2022-01-09T21:09:04.134Z"
   },
   {
    "duration": -358,
    "start_time": "2022-01-09T21:09:04.136Z"
   },
   {
    "duration": -357,
    "start_time": "2022-01-09T21:09:04.137Z"
   },
   {
    "duration": -356,
    "start_time": "2022-01-09T21:09:04.138Z"
   },
   {
    "duration": -356,
    "start_time": "2022-01-09T21:09:04.139Z"
   },
   {
    "duration": -353,
    "start_time": "2022-01-09T21:09:04.140Z"
   },
   {
    "duration": 12,
    "start_time": "2022-01-09T21:10:47.428Z"
   },
   {
    "duration": 2671,
    "start_time": "2022-01-09T21:10:55.906Z"
   },
   {
    "duration": 3,
    "start_time": "2022-01-09T21:10:58.580Z"
   },
   {
    "duration": 38,
    "start_time": "2022-01-09T21:10:58.586Z"
   },
   {
    "duration": 53,
    "start_time": "2022-01-09T21:10:58.627Z"
   },
   {
    "duration": 32,
    "start_time": "2022-01-09T21:10:58.683Z"
   },
   {
    "duration": 45,
    "start_time": "2022-01-09T21:10:58.717Z"
   },
   {
    "duration": 25,
    "start_time": "2022-01-09T21:10:58.764Z"
   },
   {
    "duration": 25,
    "start_time": "2022-01-09T21:10:58.793Z"
   },
   {
    "duration": 38,
    "start_time": "2022-01-09T21:10:58.821Z"
   },
   {
    "duration": 12,
    "start_time": "2022-01-09T21:10:58.862Z"
   },
   {
    "duration": 22,
    "start_time": "2022-01-09T21:10:58.877Z"
   },
   {
    "duration": 271,
    "start_time": "2022-01-09T21:10:58.901Z"
   },
   {
    "duration": 236,
    "start_time": "2022-01-09T21:10:59.175Z"
   },
   {
    "duration": 25,
    "start_time": "2022-01-09T21:10:59.413Z"
   },
   {
    "duration": 31,
    "start_time": "2022-01-09T21:10:59.440Z"
   },
   {
    "duration": 22,
    "start_time": "2022-01-09T21:10:59.474Z"
   },
   {
    "duration": 8,
    "start_time": "2022-01-09T21:10:59.499Z"
   },
   {
    "duration": 5097,
    "start_time": "2022-01-09T21:10:59.511Z"
   },
   {
    "duration": 2248,
    "start_time": "2022-01-09T21:11:04.611Z"
   },
   {
    "duration": 6,
    "start_time": "2022-01-09T21:11:06.862Z"
   },
   {
    "duration": 8,
    "start_time": "2022-01-09T21:11:06.871Z"
   },
   {
    "duration": 4,
    "start_time": "2022-01-09T21:11:06.882Z"
   },
   {
    "duration": 68,
    "start_time": "2022-01-09T21:11:06.891Z"
   },
   {
    "duration": 881,
    "start_time": "2022-01-09T21:11:06.962Z"
   },
   {
    "duration": 13,
    "start_time": "2022-01-09T21:11:07.846Z"
   },
   {
    "duration": 10021,
    "start_time": "2022-01-09T21:11:07.862Z"
   },
   {
    "duration": -256,
    "start_time": "2022-01-09T21:11:18.141Z"
   },
   {
    "duration": -255,
    "start_time": "2022-01-09T21:11:18.142Z"
   },
   {
    "duration": -257,
    "start_time": "2022-01-09T21:11:18.145Z"
   },
   {
    "duration": -256,
    "start_time": "2022-01-09T21:11:18.146Z"
   },
   {
    "duration": -259,
    "start_time": "2022-01-09T21:11:18.150Z"
   },
   {
    "duration": -260,
    "start_time": "2022-01-09T21:11:18.152Z"
   },
   {
    "duration": -259,
    "start_time": "2022-01-09T21:11:18.153Z"
   },
   {
    "duration": -260,
    "start_time": "2022-01-09T21:11:18.155Z"
   },
   {
    "duration": -259,
    "start_time": "2022-01-09T21:11:18.156Z"
   },
   {
    "duration": 631,
    "start_time": "2022-01-09T21:24:11.016Z"
   },
   {
    "duration": 2592,
    "start_time": "2022-01-09T21:24:52.398Z"
   },
   {
    "duration": 4,
    "start_time": "2022-01-09T21:24:54.993Z"
   },
   {
    "duration": 37,
    "start_time": "2022-01-09T21:24:55.001Z"
   },
   {
    "duration": 33,
    "start_time": "2022-01-09T21:24:55.059Z"
   },
   {
    "duration": 31,
    "start_time": "2022-01-09T21:24:55.094Z"
   },
   {
    "duration": 45,
    "start_time": "2022-01-09T21:24:55.128Z"
   },
   {
    "duration": 24,
    "start_time": "2022-01-09T21:24:55.176Z"
   },
   {
    "duration": 26,
    "start_time": "2022-01-09T21:24:55.204Z"
   },
   {
    "duration": 39,
    "start_time": "2022-01-09T21:24:55.233Z"
   },
   {
    "duration": 6,
    "start_time": "2022-01-09T21:24:55.275Z"
   },
   {
    "duration": 22,
    "start_time": "2022-01-09T21:24:55.283Z"
   },
   {
    "duration": 395,
    "start_time": "2022-01-09T21:24:55.308Z"
   },
   {
    "duration": 214,
    "start_time": "2022-01-09T21:24:55.706Z"
   },
   {
    "duration": 44,
    "start_time": "2022-01-09T21:24:55.923Z"
   },
   {
    "duration": 19,
    "start_time": "2022-01-09T21:24:55.970Z"
   },
   {
    "duration": 23,
    "start_time": "2022-01-09T21:24:55.991Z"
   },
   {
    "duration": 8,
    "start_time": "2022-01-09T21:24:56.016Z"
   },
   {
    "duration": 3067,
    "start_time": "2022-01-09T21:24:56.027Z"
   },
   {
    "duration": 1355,
    "start_time": "2022-01-09T21:24:59.096Z"
   },
   {
    "duration": 8,
    "start_time": "2022-01-09T21:25:00.454Z"
   },
   {
    "duration": 12,
    "start_time": "2022-01-09T21:25:00.464Z"
   },
   {
    "duration": 21,
    "start_time": "2022-01-09T21:25:00.479Z"
   },
   {
    "duration": 34,
    "start_time": "2022-01-09T21:25:00.505Z"
   },
   {
    "duration": 924,
    "start_time": "2022-01-09T21:25:00.543Z"
   },
   {
    "duration": 6,
    "start_time": "2022-01-09T21:25:01.470Z"
   },
   {
    "duration": 52,
    "start_time": "2022-01-09T21:25:01.479Z"
   },
   {
    "duration": 49,
    "start_time": "2022-01-09T21:25:01.533Z"
   },
   {
    "duration": 20,
    "start_time": "2022-01-09T21:25:01.584Z"
   },
   {
    "duration": 549,
    "start_time": "2022-01-09T21:25:01.607Z"
   },
   {
    "duration": -260,
    "start_time": "2022-01-09T21:25:02.420Z"
   },
   {
    "duration": -259,
    "start_time": "2022-01-09T21:25:02.421Z"
   },
   {
    "duration": -266,
    "start_time": "2022-01-09T21:25:02.430Z"
   },
   {
    "duration": -267,
    "start_time": "2022-01-09T21:25:02.433Z"
   },
   {
    "duration": -267,
    "start_time": "2022-01-09T21:25:02.435Z"
   },
   {
    "duration": -266,
    "start_time": "2022-01-09T21:25:02.436Z"
   },
   {
    "duration": 390,
    "start_time": "2022-01-09T21:26:41.343Z"
   },
   {
    "duration": 7,
    "start_time": "2022-01-09T21:26:57.921Z"
   },
   {
    "duration": 9561,
    "start_time": "2022-01-09T21:28:26.775Z"
   },
   {
    "duration": 6,
    "start_time": "2022-01-09T21:29:25.748Z"
   },
   {
    "duration": 11039,
    "start_time": "2022-01-09T21:29:47.054Z"
   },
   {
    "duration": 2756,
    "start_time": "2022-01-09T21:30:50.520Z"
   },
   {
    "duration": 4,
    "start_time": "2022-01-09T21:30:53.279Z"
   },
   {
    "duration": 36,
    "start_time": "2022-01-09T21:30:53.288Z"
   },
   {
    "duration": 78,
    "start_time": "2022-01-09T21:30:53.326Z"
   },
   {
    "duration": 63,
    "start_time": "2022-01-09T21:30:53.407Z"
   },
   {
    "duration": 26,
    "start_time": "2022-01-09T21:30:53.473Z"
   },
   {
    "duration": 26,
    "start_time": "2022-01-09T21:30:53.502Z"
   },
   {
    "duration": 52,
    "start_time": "2022-01-09T21:30:53.532Z"
   },
   {
    "duration": 14,
    "start_time": "2022-01-09T21:30:53.588Z"
   },
   {
    "duration": 6,
    "start_time": "2022-01-09T21:30:53.605Z"
   },
   {
    "duration": 60,
    "start_time": "2022-01-09T21:30:53.614Z"
   },
   {
    "duration": 436,
    "start_time": "2022-01-09T21:30:53.676Z"
   },
   {
    "duration": 219,
    "start_time": "2022-01-09T21:30:54.114Z"
   },
   {
    "duration": 35,
    "start_time": "2022-01-09T21:30:54.335Z"
   },
   {
    "duration": 22,
    "start_time": "2022-01-09T21:30:54.372Z"
   },
   {
    "duration": 27,
    "start_time": "2022-01-09T21:30:54.397Z"
   },
   {
    "duration": 37,
    "start_time": "2022-01-09T21:30:54.428Z"
   },
   {
    "duration": 3230,
    "start_time": "2022-01-09T21:30:54.468Z"
   },
   {
    "duration": 2223,
    "start_time": "2022-01-09T21:30:57.702Z"
   },
   {
    "duration": 5,
    "start_time": "2022-01-09T21:30:59.928Z"
   },
   {
    "duration": 24,
    "start_time": "2022-01-09T21:30:59.937Z"
   },
   {
    "duration": 9,
    "start_time": "2022-01-09T21:30:59.963Z"
   },
   {
    "duration": 30,
    "start_time": "2022-01-09T21:30:59.977Z"
   },
   {
    "duration": 1093,
    "start_time": "2022-01-09T21:31:00.011Z"
   },
   {
    "duration": 8,
    "start_time": "2022-01-09T21:31:01.107Z"
   },
   {
    "duration": 83,
    "start_time": "2022-01-09T21:31:01.118Z"
   },
   {
    "duration": 25,
    "start_time": "2022-01-09T21:31:01.204Z"
   },
   {
    "duration": 6,
    "start_time": "2022-01-09T21:31:01.232Z"
   },
   {
    "duration": 10104,
    "start_time": "2022-01-09T21:31:01.240Z"
   },
   {
    "duration": -257,
    "start_time": "2022-01-09T21:31:11.604Z"
   },
   {
    "duration": -255,
    "start_time": "2022-01-09T21:31:11.605Z"
   },
   {
    "duration": -254,
    "start_time": "2022-01-09T21:31:11.606Z"
   },
   {
    "duration": -254,
    "start_time": "2022-01-09T21:31:11.608Z"
   },
   {
    "duration": -253,
    "start_time": "2022-01-09T21:31:11.610Z"
   },
   {
    "duration": -253,
    "start_time": "2022-01-09T21:31:11.612Z"
   },
   {
    "duration": -255,
    "start_time": "2022-01-09T21:31:11.616Z"
   },
   {
    "duration": 371,
    "start_time": "2022-01-09T21:31:34.828Z"
   },
   {
    "duration": 16,
    "start_time": "2022-01-09T21:31:44.097Z"
   },
   {
    "duration": 22,
    "start_time": "2022-01-09T21:31:45.036Z"
   },
   {
    "duration": 17,
    "start_time": "2022-01-09T21:31:46.527Z"
   },
   {
    "duration": 11578,
    "start_time": "2022-01-09T21:31:47.084Z"
   },
   {
    "duration": 104690,
    "start_time": "2022-01-09T21:31:58.665Z"
   },
   {
    "duration": 2817,
    "start_time": "2022-01-09T21:33:51.558Z"
   },
   {
    "duration": 3,
    "start_time": "2022-01-09T21:33:54.378Z"
   },
   {
    "duration": 37,
    "start_time": "2022-01-09T21:33:54.385Z"
   },
   {
    "duration": 56,
    "start_time": "2022-01-09T21:33:54.425Z"
   },
   {
    "duration": 31,
    "start_time": "2022-01-09T21:33:54.484Z"
   },
   {
    "duration": 61,
    "start_time": "2022-01-09T21:33:54.518Z"
   },
   {
    "duration": 25,
    "start_time": "2022-01-09T21:33:54.582Z"
   },
   {
    "duration": 54,
    "start_time": "2022-01-09T21:33:54.612Z"
   },
   {
    "duration": 17,
    "start_time": "2022-01-09T21:33:54.669Z"
   },
   {
    "duration": 5,
    "start_time": "2022-01-09T21:33:54.688Z"
   },
   {
    "duration": 26,
    "start_time": "2022-01-09T21:33:54.696Z"
   },
   {
    "duration": 448,
    "start_time": "2022-01-09T21:33:54.725Z"
   },
   {
    "duration": 253,
    "start_time": "2022-01-09T21:33:55.176Z"
   },
   {
    "duration": 42,
    "start_time": "2022-01-09T21:33:55.432Z"
   },
   {
    "duration": 23,
    "start_time": "2022-01-09T21:33:55.477Z"
   },
   {
    "duration": 25,
    "start_time": "2022-01-09T21:33:55.502Z"
   },
   {
    "duration": 29,
    "start_time": "2022-01-09T21:33:55.531Z"
   },
   {
    "duration": 3362,
    "start_time": "2022-01-09T21:33:55.563Z"
   },
   {
    "duration": 1842,
    "start_time": "2022-01-09T21:33:58.928Z"
   },
   {
    "duration": 6,
    "start_time": "2022-01-09T21:34:00.774Z"
   },
   {
    "duration": 141,
    "start_time": "2022-01-09T21:34:00.784Z"
   },
   {
    "duration": 101,
    "start_time": "2022-01-09T21:34:00.929Z"
   },
   {
    "duration": 177,
    "start_time": "2022-01-09T21:34:01.038Z"
   },
   {
    "duration": 1053,
    "start_time": "2022-01-09T21:34:01.236Z"
   },
   {
    "duration": 7,
    "start_time": "2022-01-09T21:34:02.292Z"
   },
   {
    "duration": 69,
    "start_time": "2022-01-09T21:34:02.302Z"
   },
   {
    "duration": 6,
    "start_time": "2022-01-09T21:34:02.373Z"
   },
   {
    "duration": 18,
    "start_time": "2022-01-09T21:34:02.382Z"
   },
   {
    "duration": 69,
    "start_time": "2022-01-09T21:34:02.403Z"
   },
   {
    "duration": 28,
    "start_time": "2022-01-09T21:34:02.476Z"
   },
   {
    "duration": 1650,
    "start_time": "2022-01-09T21:34:02.507Z"
   },
   {
    "duration": -246,
    "start_time": "2022-01-09T21:34:04.406Z"
   },
   {
    "duration": -246,
    "start_time": "2022-01-09T21:34:04.408Z"
   },
   {
    "duration": -246,
    "start_time": "2022-01-09T21:34:04.410Z"
   },
   {
    "duration": 5,
    "start_time": "2022-01-09T21:34:19.547Z"
   },
   {
    "duration": 37,
    "start_time": "2022-01-09T21:34:50.425Z"
   },
   {
    "duration": 1021,
    "start_time": "2022-01-09T21:34:55.254Z"
   },
   {
    "duration": 9,
    "start_time": "2022-01-09T21:36:30.293Z"
   },
   {
    "duration": 2236,
    "start_time": "2022-01-09T21:36:32.231Z"
   },
   {
    "duration": 6,
    "start_time": "2022-01-09T21:37:03.679Z"
   },
   {
    "duration": 402,
    "start_time": "2022-01-09T21:37:05.486Z"
   },
   {
    "duration": 2883,
    "start_time": "2022-01-09T21:37:18.738Z"
   },
   {
    "duration": 3,
    "start_time": "2022-01-09T21:37:21.624Z"
   },
   {
    "duration": 56,
    "start_time": "2022-01-09T21:37:21.630Z"
   },
   {
    "duration": 40,
    "start_time": "2022-01-09T21:37:21.689Z"
   },
   {
    "duration": 62,
    "start_time": "2022-01-09T21:37:21.731Z"
   },
   {
    "duration": 25,
    "start_time": "2022-01-09T21:37:21.796Z"
   },
   {
    "duration": 51,
    "start_time": "2022-01-09T21:37:21.824Z"
   },
   {
    "duration": 39,
    "start_time": "2022-01-09T21:37:21.879Z"
   },
   {
    "duration": 43,
    "start_time": "2022-01-09T21:37:21.921Z"
   },
   {
    "duration": 7,
    "start_time": "2022-01-09T21:37:21.967Z"
   },
   {
    "duration": 45,
    "start_time": "2022-01-09T21:37:21.977Z"
   },
   {
    "duration": 549,
    "start_time": "2022-01-09T21:37:22.025Z"
   },
   {
    "duration": 248,
    "start_time": "2022-01-09T21:37:22.577Z"
   },
   {
    "duration": 42,
    "start_time": "2022-01-09T21:37:22.827Z"
   },
   {
    "duration": 25,
    "start_time": "2022-01-09T21:37:22.871Z"
   },
   {
    "duration": 26,
    "start_time": "2022-01-09T21:37:22.899Z"
   },
   {
    "duration": 34,
    "start_time": "2022-01-09T21:37:22.927Z"
   },
   {
    "duration": 3891,
    "start_time": "2022-01-09T21:37:22.964Z"
   },
   {
    "duration": 1490,
    "start_time": "2022-01-09T21:37:26.859Z"
   },
   {
    "duration": 8,
    "start_time": "2022-01-09T21:37:28.351Z"
   },
   {
    "duration": 9,
    "start_time": "2022-01-09T21:37:28.362Z"
   },
   {
    "duration": 15,
    "start_time": "2022-01-09T21:37:28.374Z"
   },
   {
    "duration": 40,
    "start_time": "2022-01-09T21:37:28.394Z"
   },
   {
    "duration": 1056,
    "start_time": "2022-01-09T21:37:28.439Z"
   },
   {
    "duration": 6,
    "start_time": "2022-01-09T21:37:29.497Z"
   },
   {
    "duration": 61,
    "start_time": "2022-01-09T21:37:29.505Z"
   },
   {
    "duration": 4,
    "start_time": "2022-01-09T21:37:29.568Z"
   },
   {
    "duration": 17,
    "start_time": "2022-01-09T21:37:29.574Z"
   },
   {
    "duration": 42,
    "start_time": "2022-01-09T21:37:29.593Z"
   },
   {
    "duration": 35,
    "start_time": "2022-01-09T21:37:29.638Z"
   },
   {
    "duration": 6,
    "start_time": "2022-01-09T21:37:29.675Z"
   },
   {
    "duration": 637,
    "start_time": "2022-01-09T21:37:29.683Z"
   },
   {
    "duration": -256,
    "start_time": "2022-01-09T21:37:30.579Z"
   },
   {
    "duration": -256,
    "start_time": "2022-01-09T21:37:30.581Z"
   },
   {
    "duration": -257,
    "start_time": "2022-01-09T21:37:30.583Z"
   },
   {
    "duration": 15,
    "start_time": "2022-01-09T21:37:52.714Z"
   },
   {
    "duration": 8,
    "start_time": "2022-01-09T21:38:17.461Z"
   },
   {
    "duration": 2685,
    "start_time": "2022-01-09T21:38:25.928Z"
   },
   {
    "duration": 3,
    "start_time": "2022-01-09T21:38:28.616Z"
   },
   {
    "duration": 54,
    "start_time": "2022-01-09T21:38:28.623Z"
   },
   {
    "duration": 32,
    "start_time": "2022-01-09T21:38:28.681Z"
   },
   {
    "duration": 61,
    "start_time": "2022-01-09T21:38:28.716Z"
   },
   {
    "duration": 17,
    "start_time": "2022-01-09T21:38:28.779Z"
   },
   {
    "duration": 24,
    "start_time": "2022-01-09T21:38:28.799Z"
   },
   {
    "duration": 25,
    "start_time": "2022-01-09T21:38:28.859Z"
   },
   {
    "duration": 14,
    "start_time": "2022-01-09T21:38:28.887Z"
   },
   {
    "duration": 5,
    "start_time": "2022-01-09T21:38:28.904Z"
   },
   {
    "duration": 59,
    "start_time": "2022-01-09T21:38:28.912Z"
   },
   {
    "duration": 383,
    "start_time": "2022-01-09T21:38:28.973Z"
   },
   {
    "duration": 212,
    "start_time": "2022-01-09T21:38:29.359Z"
   },
   {
    "duration": 30,
    "start_time": "2022-01-09T21:38:29.573Z"
   },
   {
    "duration": 19,
    "start_time": "2022-01-09T21:38:29.606Z"
   },
   {
    "duration": 46,
    "start_time": "2022-01-09T21:38:29.628Z"
   },
   {
    "duration": 10,
    "start_time": "2022-01-09T21:38:29.677Z"
   },
   {
    "duration": 2975,
    "start_time": "2022-01-09T21:38:29.690Z"
   },
   {
    "duration": 1331,
    "start_time": "2022-01-09T21:38:32.669Z"
   },
   {
    "duration": 3,
    "start_time": "2022-01-09T21:38:34.003Z"
   },
   {
    "duration": 6,
    "start_time": "2022-01-09T21:38:34.009Z"
   },
   {
    "duration": 7,
    "start_time": "2022-01-09T21:38:34.018Z"
   },
   {
    "duration": 30,
    "start_time": "2022-01-09T21:38:34.059Z"
   },
   {
    "duration": 1550,
    "start_time": "2022-01-09T21:38:34.092Z"
   },
   {
    "duration": 20,
    "start_time": "2022-01-09T21:38:35.646Z"
   },
   {
    "duration": 58,
    "start_time": "2022-01-09T21:38:35.669Z"
   },
   {
    "duration": 5,
    "start_time": "2022-01-09T21:38:35.731Z"
   },
   {
    "duration": 19,
    "start_time": "2022-01-09T21:38:35.759Z"
   },
   {
    "duration": 47,
    "start_time": "2022-01-09T21:38:35.782Z"
   },
   {
    "duration": 50,
    "start_time": "2022-01-09T21:38:35.832Z"
   },
   {
    "duration": 11,
    "start_time": "2022-01-09T21:38:35.885Z"
   },
   {
    "duration": 1708,
    "start_time": "2022-01-09T21:38:35.899Z"
   },
   {
    "duration": -244,
    "start_time": "2022-01-09T21:38:37.855Z"
   },
   {
    "duration": -243,
    "start_time": "2022-01-09T21:38:37.856Z"
   },
   {
    "duration": -241,
    "start_time": "2022-01-09T21:38:37.857Z"
   },
   {
    "duration": 35,
    "start_time": "2022-01-09T21:39:10.148Z"
   },
   {
    "duration": 55,
    "start_time": "2022-01-09T21:39:53.518Z"
   },
   {
    "duration": 40,
    "start_time": "2022-01-09T21:40:43.911Z"
   },
   {
    "duration": 19,
    "start_time": "2022-01-09T21:40:47.710Z"
   },
   {
    "duration": 416,
    "start_time": "2022-01-09T21:40:50.969Z"
   },
   {
    "duration": 1097,
    "start_time": "2022-01-09T21:41:00.161Z"
   },
   {
    "duration": 8,
    "start_time": "2022-01-09T21:42:54.058Z"
   },
   {
    "duration": 18,
    "start_time": "2022-01-09T21:42:56.105Z"
   },
   {
    "duration": 38,
    "start_time": "2022-01-09T21:42:56.897Z"
   },
   {
    "duration": 20,
    "start_time": "2022-01-09T21:42:58.409Z"
   },
   {
    "duration": 1458,
    "start_time": "2022-01-09T21:42:59.082Z"
   },
   {
    "duration": 35,
    "start_time": "2022-01-09T21:43:40.843Z"
   },
   {
    "duration": 26,
    "start_time": "2022-01-09T21:43:56.160Z"
   },
   {
    "duration": 20,
    "start_time": "2022-01-09T21:44:20.748Z"
   },
   {
    "duration": 35,
    "start_time": "2022-01-09T21:44:33.572Z"
   },
   {
    "duration": 2627,
    "start_time": "2022-01-09T21:44:52.086Z"
   },
   {
    "duration": 4,
    "start_time": "2022-01-09T21:44:54.716Z"
   },
   {
    "duration": 47,
    "start_time": "2022-01-09T21:44:54.723Z"
   },
   {
    "duration": 31,
    "start_time": "2022-01-09T21:44:54.773Z"
   },
   {
    "duration": 60,
    "start_time": "2022-01-09T21:44:54.807Z"
   },
   {
    "duration": 27,
    "start_time": "2022-01-09T21:44:54.871Z"
   },
   {
    "duration": 67,
    "start_time": "2022-01-09T21:44:54.901Z"
   },
   {
    "duration": 46,
    "start_time": "2022-01-09T21:44:54.974Z"
   },
   {
    "duration": 36,
    "start_time": "2022-01-09T21:44:55.025Z"
   },
   {
    "duration": 9,
    "start_time": "2022-01-09T21:44:55.064Z"
   },
   {
    "duration": 29,
    "start_time": "2022-01-09T21:44:55.075Z"
   },
   {
    "duration": 394,
    "start_time": "2022-01-09T21:44:55.107Z"
   },
   {
    "duration": 215,
    "start_time": "2022-01-09T21:44:55.504Z"
   },
   {
    "duration": 43,
    "start_time": "2022-01-09T21:44:55.721Z"
   },
   {
    "duration": 28,
    "start_time": "2022-01-09T21:44:55.767Z"
   },
   {
    "duration": 28,
    "start_time": "2022-01-09T21:44:55.799Z"
   },
   {
    "duration": 30,
    "start_time": "2022-01-09T21:44:55.831Z"
   },
   {
    "duration": 3045,
    "start_time": "2022-01-09T21:44:55.865Z"
   },
   {
    "duration": 1346,
    "start_time": "2022-01-09T21:44:58.913Z"
   },
   {
    "duration": 4,
    "start_time": "2022-01-09T21:45:00.262Z"
   },
   {
    "duration": 10,
    "start_time": "2022-01-09T21:45:00.268Z"
   },
   {
    "duration": 5,
    "start_time": "2022-01-09T21:45:00.280Z"
   },
   {
    "duration": 29,
    "start_time": "2022-01-09T21:45:00.292Z"
   },
   {
    "duration": 1036,
    "start_time": "2022-01-09T21:45:00.324Z"
   },
   {
    "duration": 5,
    "start_time": "2022-01-09T21:45:01.362Z"
   },
   {
    "duration": 44,
    "start_time": "2022-01-09T21:45:01.370Z"
   },
   {
    "duration": 5,
    "start_time": "2022-01-09T21:45:01.417Z"
   },
   {
    "duration": 44,
    "start_time": "2022-01-09T21:45:01.425Z"
   },
   {
    "duration": 51,
    "start_time": "2022-01-09T21:45:01.472Z"
   },
   {
    "duration": 9,
    "start_time": "2022-01-09T21:45:01.525Z"
   },
   {
    "duration": 510,
    "start_time": "2022-01-09T21:45:01.561Z"
   },
   {
    "duration": -138,
    "start_time": "2022-01-09T21:45:02.212Z"
   },
   {
    "duration": -138,
    "start_time": "2022-01-09T21:45:02.214Z"
   },
   {
    "duration": -138,
    "start_time": "2022-01-09T21:45:02.216Z"
   },
   {
    "duration": -141,
    "start_time": "2022-01-09T21:45:02.221Z"
   },
   {
    "duration": 554,
    "start_time": "2022-01-09T21:45:15.133Z"
   },
   {
    "duration": 18,
    "start_time": "2022-01-09T21:46:31.041Z"
   },
   {
    "duration": 39,
    "start_time": "2022-01-09T21:46:34.227Z"
   },
   {
    "duration": 15,
    "start_time": "2022-01-09T21:46:50.591Z"
   },
   {
    "duration": 48,
    "start_time": "2022-01-09T21:46:52.145Z"
   },
   {
    "duration": 35,
    "start_time": "2022-01-09T21:46:55.901Z"
   },
   {
    "duration": 21,
    "start_time": "2022-01-09T21:46:56.683Z"
   },
   {
    "duration": 1023,
    "start_time": "2022-01-09T21:46:57.617Z"
   },
   {
    "duration": 50,
    "start_time": "2022-01-09T21:47:23.052Z"
   },
   {
    "duration": 919,
    "start_time": "2022-01-09T21:47:32.447Z"
   },
   {
    "duration": 364,
    "start_time": "2022-01-09T21:48:18.093Z"
   },
   {
    "duration": 35,
    "start_time": "2022-01-09T21:48:29.903Z"
   },
   {
    "duration": 353,
    "start_time": "2022-01-09T21:48:53.477Z"
   },
   {
    "duration": 6,
    "start_time": "2022-01-09T21:49:09.283Z"
   },
   {
    "duration": 2760,
    "start_time": "2022-01-09T21:49:16.355Z"
   },
   {
    "duration": 4,
    "start_time": "2022-01-09T21:49:19.117Z"
   },
   {
    "duration": 51,
    "start_time": "2022-01-09T21:49:19.124Z"
   },
   {
    "duration": 30,
    "start_time": "2022-01-09T21:49:19.178Z"
   },
   {
    "duration": 55,
    "start_time": "2022-01-09T21:49:19.210Z"
   },
   {
    "duration": 16,
    "start_time": "2022-01-09T21:49:19.267Z"
   },
   {
    "duration": 23,
    "start_time": "2022-01-09T21:49:19.286Z"
   },
   {
    "duration": 58,
    "start_time": "2022-01-09T21:49:19.313Z"
   },
   {
    "duration": 14,
    "start_time": "2022-01-09T21:49:19.374Z"
   },
   {
    "duration": 6,
    "start_time": "2022-01-09T21:49:19.390Z"
   },
   {
    "duration": 21,
    "start_time": "2022-01-09T21:49:19.398Z"
   },
   {
    "duration": 388,
    "start_time": "2022-01-09T21:49:19.421Z"
   },
   {
    "duration": 211,
    "start_time": "2022-01-09T21:49:19.812Z"
   },
   {
    "duration": 42,
    "start_time": "2022-01-09T21:49:20.026Z"
   },
   {
    "duration": 20,
    "start_time": "2022-01-09T21:49:20.070Z"
   },
   {
    "duration": 24,
    "start_time": "2022-01-09T21:49:20.092Z"
   },
   {
    "duration": 8,
    "start_time": "2022-01-09T21:49:20.118Z"
   },
   {
    "duration": 3054,
    "start_time": "2022-01-09T21:49:20.128Z"
   },
   {
    "duration": 1379,
    "start_time": "2022-01-09T21:49:23.185Z"
   },
   {
    "duration": 4,
    "start_time": "2022-01-09T21:49:24.567Z"
   },
   {
    "duration": 10,
    "start_time": "2022-01-09T21:49:24.574Z"
   },
   {
    "duration": 6,
    "start_time": "2022-01-09T21:49:24.586Z"
   },
   {
    "duration": 67,
    "start_time": "2022-01-09T21:49:24.599Z"
   },
   {
    "duration": 912,
    "start_time": "2022-01-09T21:49:24.669Z"
   },
   {
    "duration": 6,
    "start_time": "2022-01-09T21:49:25.583Z"
   },
   {
    "duration": 42,
    "start_time": "2022-01-09T21:49:25.591Z"
   },
   {
    "duration": 24,
    "start_time": "2022-01-09T21:49:25.636Z"
   },
   {
    "duration": 17,
    "start_time": "2022-01-09T21:49:25.663Z"
   },
   {
    "duration": 51,
    "start_time": "2022-01-09T21:49:25.682Z"
   },
   {
    "duration": 619,
    "start_time": "2022-01-09T21:49:25.735Z"
   },
   {
    "duration": -124,
    "start_time": "2022-01-09T21:49:26.480Z"
   },
   {
    "duration": -125,
    "start_time": "2022-01-09T21:49:26.483Z"
   },
   {
    "duration": -125,
    "start_time": "2022-01-09T21:49:26.485Z"
   },
   {
    "duration": -244,
    "start_time": "2022-01-09T21:49:26.606Z"
   },
   {
    "duration": 6,
    "start_time": "2022-01-09T21:49:37.566Z"
   },
   {
    "duration": 6,
    "start_time": "2022-01-09T21:49:54.707Z"
   },
   {
    "duration": 18,
    "start_time": "2022-01-09T21:49:55.985Z"
   },
   {
    "duration": 38,
    "start_time": "2022-01-09T21:49:56.364Z"
   },
   {
    "duration": 42,
    "start_time": "2022-01-09T21:50:12.892Z"
   },
   {
    "duration": 36,
    "start_time": "2022-01-09T21:50:14.485Z"
   },
   {
    "duration": 42,
    "start_time": "2022-01-09T21:50:26.125Z"
   },
   {
    "duration": 35,
    "start_time": "2022-01-09T21:50:27.025Z"
   },
   {
    "duration": 34,
    "start_time": "2022-01-09T21:50:31.677Z"
   },
   {
    "duration": 9,
    "start_time": "2022-01-09T21:51:48.374Z"
   },
   {
    "duration": 35,
    "start_time": "2022-01-09T21:51:49.702Z"
   },
   {
    "duration": 34,
    "start_time": "2022-01-09T21:51:58.522Z"
   },
   {
    "duration": 38,
    "start_time": "2022-01-09T21:52:05.409Z"
   },
   {
    "duration": 9,
    "start_time": "2022-01-09T21:52:30.497Z"
   },
   {
    "duration": 36,
    "start_time": "2022-01-09T21:52:30.869Z"
   },
   {
    "duration": 5025,
    "start_time": "2022-01-09T21:52:32.215Z"
   },
   {
    "duration": 16,
    "start_time": "2022-01-09T21:53:11.651Z"
   },
   {
    "duration": 8,
    "start_time": "2022-01-09T21:53:12.577Z"
   },
   {
    "duration": 33,
    "start_time": "2022-01-09T21:53:12.913Z"
   },
   {
    "duration": 5078,
    "start_time": "2022-01-09T21:53:13.774Z"
   },
   {
    "duration": 40246,
    "start_time": "2022-01-09T21:53:22.879Z"
   },
   {
    "duration": 350,
    "start_time": "2022-01-09T21:54:03.128Z"
   },
   {
    "duration": 180,
    "start_time": "2022-01-09T21:54:03.482Z"
   },
   {
    "duration": 126,
    "start_time": "2022-01-09T21:58:27.928Z"
   },
   {
    "duration": 3379,
    "start_time": "2022-01-09T21:58:34.539Z"
   },
   {
    "duration": 1004,
    "start_time": "2022-01-10T00:22:17.046Z"
   },
   {
    "duration": 2623,
    "start_time": "2022-01-10T00:22:29.272Z"
   },
   {
    "duration": 3,
    "start_time": "2022-01-10T00:22:31.898Z"
   },
   {
    "duration": 49,
    "start_time": "2022-01-10T00:22:31.904Z"
   },
   {
    "duration": 30,
    "start_time": "2022-01-10T00:22:31.956Z"
   },
   {
    "duration": 58,
    "start_time": "2022-01-10T00:22:31.989Z"
   },
   {
    "duration": 16,
    "start_time": "2022-01-10T00:22:32.050Z"
   },
   {
    "duration": 23,
    "start_time": "2022-01-10T00:22:32.069Z"
   },
   {
    "duration": 52,
    "start_time": "2022-01-10T00:22:32.096Z"
   },
   {
    "duration": 14,
    "start_time": "2022-01-10T00:22:32.151Z"
   },
   {
    "duration": 6,
    "start_time": "2022-01-10T00:22:32.167Z"
   },
   {
    "duration": 59,
    "start_time": "2022-01-10T00:22:32.176Z"
   },
   {
    "duration": 360,
    "start_time": "2022-01-10T00:22:32.238Z"
   },
   {
    "duration": 216,
    "start_time": "2022-01-10T00:22:32.601Z"
   },
   {
    "duration": 29,
    "start_time": "2022-01-10T00:22:32.824Z"
   },
   {
    "duration": 19,
    "start_time": "2022-01-10T00:22:32.855Z"
   },
   {
    "duration": 46,
    "start_time": "2022-01-10T00:22:32.877Z"
   },
   {
    "duration": 8,
    "start_time": "2022-01-10T00:22:32.926Z"
   },
   {
    "duration": 2887,
    "start_time": "2022-01-10T00:22:32.936Z"
   },
   {
    "duration": 1336,
    "start_time": "2022-01-10T00:22:35.825Z"
   },
   {
    "duration": 4,
    "start_time": "2022-01-10T00:22:37.164Z"
   },
   {
    "duration": 7,
    "start_time": "2022-01-10T00:22:37.170Z"
   },
   {
    "duration": 4,
    "start_time": "2022-01-10T00:22:37.179Z"
   },
   {
    "duration": 61,
    "start_time": "2022-01-10T00:22:37.188Z"
   },
   {
    "duration": 871,
    "start_time": "2022-01-10T00:22:37.252Z"
   },
   {
    "duration": 5,
    "start_time": "2022-01-10T00:22:38.126Z"
   },
   {
    "duration": 43,
    "start_time": "2022-01-10T00:22:38.134Z"
   },
   {
    "duration": 4,
    "start_time": "2022-01-10T00:22:38.180Z"
   },
   {
    "duration": 40,
    "start_time": "2022-01-10T00:22:38.186Z"
   },
   {
    "duration": 12,
    "start_time": "2022-01-10T00:22:38.228Z"
   },
   {
    "duration": 32,
    "start_time": "2022-01-10T00:22:38.243Z"
   },
   {
    "duration": 4975,
    "start_time": "2022-01-10T00:22:38.277Z"
   },
   {
    "duration": 39049,
    "start_time": "2022-01-10T00:22:43.255Z"
   },
   {
    "duration": 224,
    "start_time": "2022-01-10T00:23:22.306Z"
   },
   {
    "duration": 3164,
    "start_time": "2022-01-10T00:23:22.533Z"
   },
   {
    "duration": -675,
    "start_time": "2022-01-10T00:23:26.374Z"
   },
   {
    "duration": 935,
    "start_time": "2022-01-10T00:25:06.092Z"
   },
   {
    "duration": 5,
    "start_time": "2022-01-10T00:25:21.667Z"
   },
   {
    "duration": 1172,
    "start_time": "2022-01-10T00:26:36.356Z"
   },
   {
    "duration": 1596,
    "start_time": "2022-01-10T00:28:13.993Z"
   },
   {
    "duration": 1154,
    "start_time": "2022-01-10T00:28:44.112Z"
   },
   {
    "duration": 98,
    "start_time": "2022-01-10T00:29:28.372Z"
   },
   {
    "duration": 518,
    "start_time": "2022-01-10T00:29:31.619Z"
   },
   {
    "duration": 436,
    "start_time": "2022-01-10T00:29:36.203Z"
   },
   {
    "duration": 423,
    "start_time": "2022-01-10T00:29:49.124Z"
   },
   {
    "duration": 424,
    "start_time": "2022-01-10T00:29:52.426Z"
   },
   {
    "duration": 2470,
    "start_time": "2022-01-10T00:30:03.377Z"
   },
   {
    "duration": 276,
    "start_time": "2022-01-10T00:30:16.133Z"
   },
   {
    "duration": 427,
    "start_time": "2022-01-10T00:30:17.570Z"
   },
   {
    "duration": 402,
    "start_time": "2022-01-10T00:30:25.185Z"
   },
   {
    "duration": 1198,
    "start_time": "2022-01-10T00:32:30.902Z"
   },
   {
    "duration": 614,
    "start_time": "2022-01-10T00:32:44.512Z"
   },
   {
    "duration": 2564,
    "start_time": "2022-01-10T00:32:57.149Z"
   },
   {
    "duration": 7,
    "start_time": "2022-01-10T00:32:59.716Z"
   },
   {
    "duration": 42,
    "start_time": "2022-01-10T00:32:59.726Z"
   },
   {
    "duration": 29,
    "start_time": "2022-01-10T00:32:59.771Z"
   },
   {
    "duration": 32,
    "start_time": "2022-01-10T00:32:59.822Z"
   },
   {
    "duration": 16,
    "start_time": "2022-01-10T00:32:59.856Z"
   },
   {
    "duration": 52,
    "start_time": "2022-01-10T00:32:59.874Z"
   },
   {
    "duration": 27,
    "start_time": "2022-01-10T00:32:59.929Z"
   },
   {
    "duration": 14,
    "start_time": "2022-01-10T00:32:59.959Z"
   },
   {
    "duration": 5,
    "start_time": "2022-01-10T00:32:59.975Z"
   },
   {
    "duration": 55,
    "start_time": "2022-01-10T00:32:59.982Z"
   },
   {
    "duration": 368,
    "start_time": "2022-01-10T00:33:00.039Z"
   },
   {
    "duration": 214,
    "start_time": "2022-01-10T00:33:00.410Z"
   },
   {
    "duration": 29,
    "start_time": "2022-01-10T00:33:00.627Z"
   },
   {
    "duration": 19,
    "start_time": "2022-01-10T00:33:00.659Z"
   },
   {
    "duration": 50,
    "start_time": "2022-01-10T00:33:00.680Z"
   },
   {
    "duration": 9,
    "start_time": "2022-01-10T00:33:00.732Z"
   },
   {
    "duration": 3174,
    "start_time": "2022-01-10T00:33:00.743Z"
   },
   {
    "duration": 1307,
    "start_time": "2022-01-10T00:33:03.923Z"
   },
   {
    "duration": 4,
    "start_time": "2022-01-10T00:33:05.233Z"
   },
   {
    "duration": 5,
    "start_time": "2022-01-10T00:33:05.239Z"
   },
   {
    "duration": 6,
    "start_time": "2022-01-10T00:33:05.246Z"
   },
   {
    "duration": 27,
    "start_time": "2022-01-10T00:33:05.257Z"
   },
   {
    "duration": 914,
    "start_time": "2022-01-10T00:33:05.287Z"
   },
   {
    "duration": 5,
    "start_time": "2022-01-10T00:33:06.204Z"
   },
   {
    "duration": 40,
    "start_time": "2022-01-10T00:33:06.224Z"
   },
   {
    "duration": 3,
    "start_time": "2022-01-10T00:33:06.267Z"
   },
   {
    "duration": 16,
    "start_time": "2022-01-10T00:33:06.273Z"
   },
   {
    "duration": 33,
    "start_time": "2022-01-10T00:33:06.292Z"
   },
   {
    "duration": 38,
    "start_time": "2022-01-10T00:33:06.328Z"
   },
   {
    "duration": 424,
    "start_time": "2022-01-10T00:33:06.369Z"
   },
   {
    "duration": -460,
    "start_time": "2022-01-10T00:33:07.255Z"
   },
   {
    "duration": -459,
    "start_time": "2022-01-10T00:33:07.256Z"
   },
   {
    "duration": -458,
    "start_time": "2022-01-10T00:33:07.257Z"
   },
   {
    "duration": -459,
    "start_time": "2022-01-10T00:33:07.259Z"
   },
   {
    "duration": 2490,
    "start_time": "2022-01-10T00:38:01.963Z"
   },
   {
    "duration": 3,
    "start_time": "2022-01-10T00:38:04.456Z"
   },
   {
    "duration": 35,
    "start_time": "2022-01-10T00:38:04.462Z"
   },
   {
    "duration": 49,
    "start_time": "2022-01-10T00:38:04.500Z"
   },
   {
    "duration": 29,
    "start_time": "2022-01-10T00:38:04.552Z"
   },
   {
    "duration": 42,
    "start_time": "2022-01-10T00:38:04.583Z"
   },
   {
    "duration": 24,
    "start_time": "2022-01-10T00:38:04.627Z"
   },
   {
    "duration": 25,
    "start_time": "2022-01-10T00:38:04.655Z"
   },
   {
    "duration": 43,
    "start_time": "2022-01-10T00:38:04.683Z"
   },
   {
    "duration": 6,
    "start_time": "2022-01-10T00:38:04.728Z"
   },
   {
    "duration": 23,
    "start_time": "2022-01-10T00:38:04.737Z"
   },
   {
    "duration": 383,
    "start_time": "2022-01-10T00:38:04.763Z"
   },
   {
    "duration": 209,
    "start_time": "2022-01-10T00:38:05.149Z"
   },
   {
    "duration": 31,
    "start_time": "2022-01-10T00:38:05.361Z"
   },
   {
    "duration": 36,
    "start_time": "2022-01-10T00:38:05.394Z"
   },
   {
    "duration": 24,
    "start_time": "2022-01-10T00:38:05.432Z"
   },
   {
    "duration": 8,
    "start_time": "2022-01-10T00:38:05.459Z"
   },
   {
    "duration": 2877,
    "start_time": "2022-01-10T00:38:05.470Z"
   },
   {
    "duration": 1321,
    "start_time": "2022-01-10T00:38:08.350Z"
   },
   {
    "duration": 4,
    "start_time": "2022-01-10T00:38:09.674Z"
   },
   {
    "duration": 6,
    "start_time": "2022-01-10T00:38:09.680Z"
   },
   {
    "duration": 7,
    "start_time": "2022-01-10T00:38:09.689Z"
   },
   {
    "duration": 29,
    "start_time": "2022-01-10T00:38:09.727Z"
   },
   {
    "duration": 898,
    "start_time": "2022-01-10T00:38:09.759Z"
   },
   {
    "duration": 7,
    "start_time": "2022-01-10T00:38:10.660Z"
   },
   {
    "duration": 66,
    "start_time": "2022-01-10T00:38:10.670Z"
   },
   {
    "duration": 5,
    "start_time": "2022-01-10T00:38:10.739Z"
   },
   {
    "duration": 15,
    "start_time": "2022-01-10T00:38:10.747Z"
   },
   {
    "duration": 13,
    "start_time": "2022-01-10T00:38:10.765Z"
   },
   {
    "duration": 61,
    "start_time": "2022-01-10T00:38:10.781Z"
   },
   {
    "duration": 433,
    "start_time": "2022-01-10T00:38:10.845Z"
   },
   {
    "duration": -790,
    "start_time": "2022-01-10T00:38:12.071Z"
   },
   {
    "duration": -790,
    "start_time": "2022-01-10T00:38:12.073Z"
   },
   {
    "duration": -789,
    "start_time": "2022-01-10T00:38:12.074Z"
   },
   {
    "duration": -1247,
    "start_time": "2022-01-10T00:38:12.535Z"
   },
   {
    "duration": 3,
    "start_time": "2022-01-10T00:40:01.750Z"
   },
   {
    "duration": 93,
    "start_time": "2022-01-10T00:40:14.572Z"
   },
   {
    "duration": 14366,
    "start_time": "2022-01-10T00:40:21.339Z"
   },
   {
    "duration": 3,
    "start_time": "2022-01-10T00:40:50.733Z"
   },
   {
    "duration": 112117,
    "start_time": "2022-01-10T00:41:27.508Z"
   },
   {
    "duration": 1301,
    "start_time": "2022-01-10T00:43:19.628Z"
   },
   {
    "duration": 197,
    "start_time": "2022-01-10T00:43:20.932Z"
   },
   {
    "duration": 228,
    "start_time": "2022-01-10T00:55:32.123Z"
   },
   {
    "duration": 144,
    "start_time": "2022-01-10T00:55:47.045Z"
   },
   {
    "duration": 362,
    "start_time": "2022-01-10T00:55:54.647Z"
   },
   {
    "duration": 302,
    "start_time": "2022-01-10T00:55:58.710Z"
   },
   {
    "duration": 412,
    "start_time": "2022-01-10T00:56:44.923Z"
   },
   {
    "duration": 418,
    "start_time": "2022-01-10T00:57:02.978Z"
   },
   {
    "duration": 390,
    "start_time": "2022-01-10T00:57:22.774Z"
   },
   {
    "duration": 2454,
    "start_time": "2022-01-10T00:57:34.661Z"
   },
   {
    "duration": 6,
    "start_time": "2022-01-10T00:57:37.118Z"
   },
   {
    "duration": 36,
    "start_time": "2022-01-10T00:57:37.127Z"
   },
   {
    "duration": 28,
    "start_time": "2022-01-10T00:57:37.166Z"
   },
   {
    "duration": 30,
    "start_time": "2022-01-10T00:57:37.223Z"
   },
   {
    "duration": 16,
    "start_time": "2022-01-10T00:57:37.256Z"
   },
   {
    "duration": 52,
    "start_time": "2022-01-10T00:57:37.275Z"
   },
   {
    "duration": 27,
    "start_time": "2022-01-10T00:57:37.330Z"
   },
   {
    "duration": 14,
    "start_time": "2022-01-10T00:57:37.360Z"
   },
   {
    "duration": 6,
    "start_time": "2022-01-10T00:57:37.376Z"
   },
   {
    "duration": 56,
    "start_time": "2022-01-10T00:57:37.384Z"
   },
   {
    "duration": 377,
    "start_time": "2022-01-10T00:57:37.442Z"
   },
   {
    "duration": 213,
    "start_time": "2022-01-10T00:57:37.824Z"
   },
   {
    "duration": 29,
    "start_time": "2022-01-10T00:57:38.040Z"
   },
   {
    "duration": 21,
    "start_time": "2022-01-10T00:57:38.071Z"
   },
   {
    "duration": 50,
    "start_time": "2022-01-10T00:57:38.095Z"
   },
   {
    "duration": 10,
    "start_time": "2022-01-10T00:57:38.147Z"
   },
   {
    "duration": 2811,
    "start_time": "2022-01-10T00:57:38.161Z"
   },
   {
    "duration": 1382,
    "start_time": "2022-01-10T00:57:40.975Z"
   },
   {
    "duration": 4,
    "start_time": "2022-01-10T00:57:42.359Z"
   },
   {
    "duration": 6,
    "start_time": "2022-01-10T00:57:42.365Z"
   },
   {
    "duration": 6,
    "start_time": "2022-01-10T00:57:42.373Z"
   },
   {
    "duration": 54,
    "start_time": "2022-01-10T00:57:42.383Z"
   },
   {
    "duration": 873,
    "start_time": "2022-01-10T00:57:42.439Z"
   },
   {
    "duration": 9,
    "start_time": "2022-01-10T00:57:43.315Z"
   },
   {
    "duration": 40,
    "start_time": "2022-01-10T00:57:43.326Z"
   },
   {
    "duration": 4,
    "start_time": "2022-01-10T00:57:43.368Z"
   },
   {
    "duration": 16,
    "start_time": "2022-01-10T00:57:43.374Z"
   },
   {
    "duration": 32,
    "start_time": "2022-01-10T00:57:43.393Z"
   },
   {
    "duration": 34,
    "start_time": "2022-01-10T00:57:43.428Z"
   },
   {
    "duration": 4,
    "start_time": "2022-01-10T00:57:43.464Z"
   },
   {
    "duration": 14229,
    "start_time": "2022-01-10T00:57:43.470Z"
   },
   {
    "duration": 109576,
    "start_time": "2022-01-10T00:57:57.701Z"
   },
   {
    "duration": 1348,
    "start_time": "2022-01-10T00:59:47.279Z"
   },
   {
    "duration": 98,
    "start_time": "2022-01-10T00:59:48.630Z"
   },
   {
    "duration": 463,
    "start_time": "2022-01-10T00:59:48.731Z"
   }
  ],
  "kernelspec": {
   "display_name": "Python 3 (ipykernel)",
   "language": "python",
   "name": "python3"
  },
  "language_info": {
   "codemirror_mode": {
    "name": "ipython",
    "version": 3
   },
   "file_extension": ".py",
   "mimetype": "text/x-python",
   "name": "python",
   "nbconvert_exporter": "python",
   "pygments_lexer": "ipython3",
   "version": "3.9.5"
  },
  "toc": {
   "base_numbering": 1,
   "nav_menu": {},
   "number_sections": true,
   "sideBar": true,
   "skip_h1_title": true,
   "title_cell": "Table of Contents",
   "title_sidebar": "Contents",
   "toc_cell": false,
   "toc_position": {},
   "toc_section_display": true,
   "toc_window_display": false
  }
 },
 "nbformat": 4,
 "nbformat_minor": 2
}
