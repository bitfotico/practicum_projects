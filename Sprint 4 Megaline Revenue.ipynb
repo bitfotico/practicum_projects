{
 "cells": [
  {
   "cell_type": "markdown",
   "metadata": {},
   "source": [
    "## General Overview"
   ]
  },
  {
   "cell_type": "markdown",
   "metadata": {},
   "source": [
    "You work as an analyst for the telecom operator Megaline. The company offers its clients two prepaid plans, Surf and Ultimate. The commercial department wants to know which of the plans brings in more revenue in order to adjust the advertising budget."
   ]
  },
  {
   "cell_type": "code",
   "execution_count": 1,
   "metadata": {},
   "outputs": [],
   "source": [
    "import pandas as pd\n",
    "import numpy as np\n",
    "import math\n",
    "import functools as ft\n",
    "import matplotlib.pyplot as plt\n",
    "from scipy import stats as st\n",
    "\n",
    "try:\n",
    "    mega_calls = pd.read_csv('/datasets/megaline_calls.csv')\n",
    "except:\n",
    "    mega_calls = pd.read_csv('/megaline_calls.csv')\n",
    "    \n",
    "try:\n",
    "    mega_internet = pd.read_csv('/datasets/megaline_internet.csv')\n",
    "except:\n",
    "    mega_internet = pd.read_csv('/megaline_internet.csv')\n",
    "    \n",
    "try:\n",
    "    mega_messages = pd.read_csv('/datasets/megaline_messages.csv')\n",
    "except:\n",
    "    mega_messages = pd.read_csv('/megaline_messages.csv')\n",
    "    \n",
    "try:\n",
    "    mega_plans = pd.read_csv('/datasets/megaline_plans.csv')\n",
    "except:\n",
    "    mega_plans = pd.read_csv('/megaline_plans.csv')\n",
    "    \n",
    "try:\n",
    "    mega_users = pd.read_csv('/datasets/megaline_users.csv')\n",
    "except:\n",
    "    mega_users = pd.read_csv('/megaline_users.csv')"
   ]
  },
  {
   "cell_type": "markdown",
   "metadata": {},
   "source": [
    "<div class=\"alert alert-block alert-warning\">\n",
    "<b>Reviewer's comment</b> <a class=\"tocSkip\"></a>\n",
    "    \n",
    "Great start!\n",
    "    \n",
    "It would be better to import libraries in a first cell and usetry/except in a second cell.\n",
    "    \n",
    "If we need to add a library, it will be easy to restart 1 cell, not the whole project. :)\n",
    "</div>"
   ]
  },
  {
   "cell_type": "code",
   "execution_count": 2,
   "metadata": {},
   "outputs": [
    {
     "name": "stdout",
     "output_type": "stream",
     "text": [
      "<class 'pandas.core.frame.DataFrame'>\n",
      "RangeIndex: 137735 entries, 0 to 137734\n",
      "Data columns (total 4 columns):\n",
      "id           137735 non-null object\n",
      "user_id      137735 non-null int64\n",
      "call_date    137735 non-null object\n",
      "duration     137735 non-null float64\n",
      "dtypes: float64(1), int64(1), object(2)\n",
      "memory usage: 4.2+ MB\n",
      "<class 'pandas.core.frame.DataFrame'>\n",
      "RangeIndex: 104825 entries, 0 to 104824\n",
      "Data columns (total 4 columns):\n",
      "id              104825 non-null object\n",
      "user_id         104825 non-null int64\n",
      "session_date    104825 non-null object\n",
      "mb_used         104825 non-null float64\n",
      "dtypes: float64(1), int64(1), object(2)\n",
      "memory usage: 3.2+ MB\n",
      "<class 'pandas.core.frame.DataFrame'>\n",
      "RangeIndex: 76051 entries, 0 to 76050\n",
      "Data columns (total 3 columns):\n",
      "id              76051 non-null object\n",
      "user_id         76051 non-null int64\n",
      "message_date    76051 non-null object\n",
      "dtypes: int64(1), object(2)\n",
      "memory usage: 1.7+ MB\n",
      "<class 'pandas.core.frame.DataFrame'>\n",
      "RangeIndex: 2 entries, 0 to 1\n",
      "Data columns (total 8 columns):\n",
      "messages_included        2 non-null int64\n",
      "mb_per_month_included    2 non-null int64\n",
      "minutes_included         2 non-null int64\n",
      "usd_monthly_pay          2 non-null int64\n",
      "usd_per_gb               2 non-null int64\n",
      "usd_per_message          2 non-null float64\n",
      "usd_per_minute           2 non-null float64\n",
      "plan_name                2 non-null object\n",
      "dtypes: float64(2), int64(5), object(1)\n",
      "memory usage: 256.0+ bytes\n",
      "<class 'pandas.core.frame.DataFrame'>\n",
      "RangeIndex: 500 entries, 0 to 499\n",
      "Data columns (total 8 columns):\n",
      "user_id       500 non-null int64\n",
      "first_name    500 non-null object\n",
      "last_name     500 non-null object\n",
      "age           500 non-null int64\n",
      "city          500 non-null object\n",
      "reg_date      500 non-null object\n",
      "plan          500 non-null object\n",
      "churn_date    34 non-null object\n",
      "dtypes: int64(2), object(6)\n",
      "memory usage: 31.4+ KB\n"
     ]
    }
   ],
   "source": [
    "mega_calls.info()\n",
    "mega_internet.info()\n",
    "mega_messages.info()\n",
    "mega_plans.info()\n",
    "mega_users.info()"
   ]
  },
  {
   "cell_type": "code",
   "execution_count": 3,
   "metadata": {},
   "outputs": [
    {
     "data": {
      "text/html": [
       "<div>\n",
       "<style scoped>\n",
       "    .dataframe tbody tr th:only-of-type {\n",
       "        vertical-align: middle;\n",
       "    }\n",
       "\n",
       "    .dataframe tbody tr th {\n",
       "        vertical-align: top;\n",
       "    }\n",
       "\n",
       "    .dataframe thead th {\n",
       "        text-align: right;\n",
       "    }\n",
       "</style>\n",
       "<table border=\"1\" class=\"dataframe\">\n",
       "  <thead>\n",
       "    <tr style=\"text-align: right;\">\n",
       "      <th></th>\n",
       "      <th>id</th>\n",
       "      <th>user_id</th>\n",
       "      <th>call_date</th>\n",
       "      <th>duration</th>\n",
       "    </tr>\n",
       "  </thead>\n",
       "  <tbody>\n",
       "    <tr>\n",
       "      <td>0</td>\n",
       "      <td>1000_93</td>\n",
       "      <td>1000</td>\n",
       "      <td>2018-12-27</td>\n",
       "      <td>8.52</td>\n",
       "    </tr>\n",
       "    <tr>\n",
       "      <td>1</td>\n",
       "      <td>1000_145</td>\n",
       "      <td>1000</td>\n",
       "      <td>2018-12-27</td>\n",
       "      <td>13.66</td>\n",
       "    </tr>\n",
       "    <tr>\n",
       "      <td>2</td>\n",
       "      <td>1000_247</td>\n",
       "      <td>1000</td>\n",
       "      <td>2018-12-27</td>\n",
       "      <td>14.48</td>\n",
       "    </tr>\n",
       "    <tr>\n",
       "      <td>3</td>\n",
       "      <td>1000_309</td>\n",
       "      <td>1000</td>\n",
       "      <td>2018-12-28</td>\n",
       "      <td>5.76</td>\n",
       "    </tr>\n",
       "    <tr>\n",
       "      <td>4</td>\n",
       "      <td>1000_380</td>\n",
       "      <td>1000</td>\n",
       "      <td>2018-12-30</td>\n",
       "      <td>4.22</td>\n",
       "    </tr>\n",
       "  </tbody>\n",
       "</table>\n",
       "</div>"
      ],
      "text/plain": [
       "         id  user_id   call_date  duration\n",
       "0   1000_93     1000  2018-12-27      8.52\n",
       "1  1000_145     1000  2018-12-27     13.66\n",
       "2  1000_247     1000  2018-12-27     14.48\n",
       "3  1000_309     1000  2018-12-28      5.76\n",
       "4  1000_380     1000  2018-12-30      4.22"
      ]
     },
     "execution_count": 3,
     "metadata": {},
     "output_type": "execute_result"
    }
   ],
   "source": [
    "mega_calls.head()"
   ]
  },
  {
   "cell_type": "code",
   "execution_count": 4,
   "metadata": {},
   "outputs": [
    {
     "data": {
      "text/html": [
       "<div>\n",
       "<style scoped>\n",
       "    .dataframe tbody tr th:only-of-type {\n",
       "        vertical-align: middle;\n",
       "    }\n",
       "\n",
       "    .dataframe tbody tr th {\n",
       "        vertical-align: top;\n",
       "    }\n",
       "\n",
       "    .dataframe thead th {\n",
       "        text-align: right;\n",
       "    }\n",
       "</style>\n",
       "<table border=\"1\" class=\"dataframe\">\n",
       "  <thead>\n",
       "    <tr style=\"text-align: right;\">\n",
       "      <th></th>\n",
       "      <th>messages_included</th>\n",
       "      <th>mb_per_month_included</th>\n",
       "      <th>minutes_included</th>\n",
       "      <th>usd_monthly_pay</th>\n",
       "      <th>usd_per_gb</th>\n",
       "      <th>usd_per_message</th>\n",
       "      <th>usd_per_minute</th>\n",
       "      <th>plan_name</th>\n",
       "    </tr>\n",
       "  </thead>\n",
       "  <tbody>\n",
       "    <tr>\n",
       "      <td>0</td>\n",
       "      <td>50</td>\n",
       "      <td>15360</td>\n",
       "      <td>500</td>\n",
       "      <td>20</td>\n",
       "      <td>10</td>\n",
       "      <td>0.03</td>\n",
       "      <td>0.03</td>\n",
       "      <td>surf</td>\n",
       "    </tr>\n",
       "    <tr>\n",
       "      <td>1</td>\n",
       "      <td>1000</td>\n",
       "      <td>30720</td>\n",
       "      <td>3000</td>\n",
       "      <td>70</td>\n",
       "      <td>7</td>\n",
       "      <td>0.01</td>\n",
       "      <td>0.01</td>\n",
       "      <td>ultimate</td>\n",
       "    </tr>\n",
       "  </tbody>\n",
       "</table>\n",
       "</div>"
      ],
      "text/plain": [
       "   messages_included  mb_per_month_included  minutes_included  \\\n",
       "0                 50                  15360               500   \n",
       "1               1000                  30720              3000   \n",
       "\n",
       "   usd_monthly_pay  usd_per_gb  usd_per_message  usd_per_minute plan_name  \n",
       "0               20          10             0.03            0.03      surf  \n",
       "1               70           7             0.01            0.01  ultimate  "
      ]
     },
     "execution_count": 4,
     "metadata": {},
     "output_type": "execute_result"
    }
   ],
   "source": [
    "mega_plans.head()"
   ]
  },
  {
   "cell_type": "code",
   "execution_count": 5,
   "metadata": {},
   "outputs": [
    {
     "data": {
      "text/html": [
       "<div>\n",
       "<style scoped>\n",
       "    .dataframe tbody tr th:only-of-type {\n",
       "        vertical-align: middle;\n",
       "    }\n",
       "\n",
       "    .dataframe tbody tr th {\n",
       "        vertical-align: top;\n",
       "    }\n",
       "\n",
       "    .dataframe thead th {\n",
       "        text-align: right;\n",
       "    }\n",
       "</style>\n",
       "<table border=\"1\" class=\"dataframe\">\n",
       "  <thead>\n",
       "    <tr style=\"text-align: right;\">\n",
       "      <th></th>\n",
       "      <th>id</th>\n",
       "      <th>user_id</th>\n",
       "      <th>message_date</th>\n",
       "    </tr>\n",
       "  </thead>\n",
       "  <tbody>\n",
       "    <tr>\n",
       "      <td>0</td>\n",
       "      <td>1000_125</td>\n",
       "      <td>1000</td>\n",
       "      <td>2018-12-27</td>\n",
       "    </tr>\n",
       "    <tr>\n",
       "      <td>1</td>\n",
       "      <td>1000_160</td>\n",
       "      <td>1000</td>\n",
       "      <td>2018-12-31</td>\n",
       "    </tr>\n",
       "    <tr>\n",
       "      <td>2</td>\n",
       "      <td>1000_223</td>\n",
       "      <td>1000</td>\n",
       "      <td>2018-12-31</td>\n",
       "    </tr>\n",
       "    <tr>\n",
       "      <td>3</td>\n",
       "      <td>1000_251</td>\n",
       "      <td>1000</td>\n",
       "      <td>2018-12-27</td>\n",
       "    </tr>\n",
       "    <tr>\n",
       "      <td>4</td>\n",
       "      <td>1000_255</td>\n",
       "      <td>1000</td>\n",
       "      <td>2018-12-26</td>\n",
       "    </tr>\n",
       "  </tbody>\n",
       "</table>\n",
       "</div>"
      ],
      "text/plain": [
       "         id  user_id message_date\n",
       "0  1000_125     1000   2018-12-27\n",
       "1  1000_160     1000   2018-12-31\n",
       "2  1000_223     1000   2018-12-31\n",
       "3  1000_251     1000   2018-12-27\n",
       "4  1000_255     1000   2018-12-26"
      ]
     },
     "execution_count": 5,
     "metadata": {},
     "output_type": "execute_result"
    }
   ],
   "source": [
    "mega_messages.head()"
   ]
  },
  {
   "cell_type": "code",
   "execution_count": 6,
   "metadata": {},
   "outputs": [
    {
     "data": {
      "text/html": [
       "<div>\n",
       "<style scoped>\n",
       "    .dataframe tbody tr th:only-of-type {\n",
       "        vertical-align: middle;\n",
       "    }\n",
       "\n",
       "    .dataframe tbody tr th {\n",
       "        vertical-align: top;\n",
       "    }\n",
       "\n",
       "    .dataframe thead th {\n",
       "        text-align: right;\n",
       "    }\n",
       "</style>\n",
       "<table border=\"1\" class=\"dataframe\">\n",
       "  <thead>\n",
       "    <tr style=\"text-align: right;\">\n",
       "      <th></th>\n",
       "      <th>user_id</th>\n",
       "      <th>first_name</th>\n",
       "      <th>last_name</th>\n",
       "      <th>age</th>\n",
       "      <th>city</th>\n",
       "      <th>reg_date</th>\n",
       "      <th>plan</th>\n",
       "      <th>churn_date</th>\n",
       "    </tr>\n",
       "  </thead>\n",
       "  <tbody>\n",
       "    <tr>\n",
       "      <td>0</td>\n",
       "      <td>1000</td>\n",
       "      <td>Anamaria</td>\n",
       "      <td>Bauer</td>\n",
       "      <td>45</td>\n",
       "      <td>Atlanta-Sandy Springs-Roswell, GA MSA</td>\n",
       "      <td>2018-12-24</td>\n",
       "      <td>ultimate</td>\n",
       "      <td>NaN</td>\n",
       "    </tr>\n",
       "    <tr>\n",
       "      <td>1</td>\n",
       "      <td>1001</td>\n",
       "      <td>Mickey</td>\n",
       "      <td>Wilkerson</td>\n",
       "      <td>28</td>\n",
       "      <td>Seattle-Tacoma-Bellevue, WA MSA</td>\n",
       "      <td>2018-08-13</td>\n",
       "      <td>surf</td>\n",
       "      <td>NaN</td>\n",
       "    </tr>\n",
       "    <tr>\n",
       "      <td>2</td>\n",
       "      <td>1002</td>\n",
       "      <td>Carlee</td>\n",
       "      <td>Hoffman</td>\n",
       "      <td>36</td>\n",
       "      <td>Las Vegas-Henderson-Paradise, NV MSA</td>\n",
       "      <td>2018-10-21</td>\n",
       "      <td>surf</td>\n",
       "      <td>NaN</td>\n",
       "    </tr>\n",
       "    <tr>\n",
       "      <td>3</td>\n",
       "      <td>1003</td>\n",
       "      <td>Reynaldo</td>\n",
       "      <td>Jenkins</td>\n",
       "      <td>52</td>\n",
       "      <td>Tulsa, OK MSA</td>\n",
       "      <td>2018-01-28</td>\n",
       "      <td>surf</td>\n",
       "      <td>NaN</td>\n",
       "    </tr>\n",
       "    <tr>\n",
       "      <td>4</td>\n",
       "      <td>1004</td>\n",
       "      <td>Leonila</td>\n",
       "      <td>Thompson</td>\n",
       "      <td>40</td>\n",
       "      <td>Seattle-Tacoma-Bellevue, WA MSA</td>\n",
       "      <td>2018-05-23</td>\n",
       "      <td>surf</td>\n",
       "      <td>NaN</td>\n",
       "    </tr>\n",
       "  </tbody>\n",
       "</table>\n",
       "</div>"
      ],
      "text/plain": [
       "   user_id first_name  last_name  age                                   city  \\\n",
       "0     1000   Anamaria      Bauer   45  Atlanta-Sandy Springs-Roswell, GA MSA   \n",
       "1     1001     Mickey  Wilkerson   28        Seattle-Tacoma-Bellevue, WA MSA   \n",
       "2     1002     Carlee    Hoffman   36   Las Vegas-Henderson-Paradise, NV MSA   \n",
       "3     1003   Reynaldo    Jenkins   52                          Tulsa, OK MSA   \n",
       "4     1004    Leonila   Thompson   40        Seattle-Tacoma-Bellevue, WA MSA   \n",
       "\n",
       "     reg_date      plan churn_date  \n",
       "0  2018-12-24  ultimate        NaN  \n",
       "1  2018-08-13      surf        NaN  \n",
       "2  2018-10-21      surf        NaN  \n",
       "3  2018-01-28      surf        NaN  \n",
       "4  2018-05-23      surf        NaN  "
      ]
     },
     "execution_count": 6,
     "metadata": {},
     "output_type": "execute_result"
    }
   ],
   "source": [
    "mega_users.head()"
   ]
  },
  {
   "cell_type": "code",
   "execution_count": 7,
   "metadata": {},
   "outputs": [
    {
     "data": {
      "text/html": [
       "<div>\n",
       "<style scoped>\n",
       "    .dataframe tbody tr th:only-of-type {\n",
       "        vertical-align: middle;\n",
       "    }\n",
       "\n",
       "    .dataframe tbody tr th {\n",
       "        vertical-align: top;\n",
       "    }\n",
       "\n",
       "    .dataframe thead th {\n",
       "        text-align: right;\n",
       "    }\n",
       "</style>\n",
       "<table border=\"1\" class=\"dataframe\">\n",
       "  <thead>\n",
       "    <tr style=\"text-align: right;\">\n",
       "      <th></th>\n",
       "      <th>id</th>\n",
       "      <th>user_id</th>\n",
       "      <th>session_date</th>\n",
       "      <th>mb_used</th>\n",
       "    </tr>\n",
       "  </thead>\n",
       "  <tbody>\n",
       "    <tr>\n",
       "      <td>0</td>\n",
       "      <td>1000_13</td>\n",
       "      <td>1000</td>\n",
       "      <td>2018-12-29</td>\n",
       "      <td>89.86</td>\n",
       "    </tr>\n",
       "    <tr>\n",
       "      <td>1</td>\n",
       "      <td>1000_204</td>\n",
       "      <td>1000</td>\n",
       "      <td>2018-12-31</td>\n",
       "      <td>0.00</td>\n",
       "    </tr>\n",
       "    <tr>\n",
       "      <td>2</td>\n",
       "      <td>1000_379</td>\n",
       "      <td>1000</td>\n",
       "      <td>2018-12-28</td>\n",
       "      <td>660.40</td>\n",
       "    </tr>\n",
       "    <tr>\n",
       "      <td>3</td>\n",
       "      <td>1000_413</td>\n",
       "      <td>1000</td>\n",
       "      <td>2018-12-26</td>\n",
       "      <td>270.99</td>\n",
       "    </tr>\n",
       "    <tr>\n",
       "      <td>4</td>\n",
       "      <td>1000_442</td>\n",
       "      <td>1000</td>\n",
       "      <td>2018-12-27</td>\n",
       "      <td>880.22</td>\n",
       "    </tr>\n",
       "  </tbody>\n",
       "</table>\n",
       "</div>"
      ],
      "text/plain": [
       "         id  user_id session_date  mb_used\n",
       "0   1000_13     1000   2018-12-29    89.86\n",
       "1  1000_204     1000   2018-12-31     0.00\n",
       "2  1000_379     1000   2018-12-28   660.40\n",
       "3  1000_413     1000   2018-12-26   270.99\n",
       "4  1000_442     1000   2018-12-27   880.22"
      ]
     },
     "execution_count": 7,
     "metadata": {},
     "output_type": "execute_result"
    }
   ],
   "source": [
    "mega_internet.head()"
   ]
  },
  {
   "cell_type": "markdown",
   "metadata": {},
   "source": [
    "### Conclusion"
   ]
  },
  {
   "cell_type": "markdown",
   "metadata": {},
   "source": [
    "Most of these all suffer from the same issue that dates will need to be converted to panda's datetime, but otherwise look good! I will also need to round up each call and other info that Megaline normally rounds up."
   ]
  },
  {
   "cell_type": "markdown",
   "metadata": {},
   "source": [
    "<div class=\"alert alert-block alert-success\">\n",
    "<b>Reviewer's comment</b> <a class=\"tocSkip\"></a>\n",
    "    \n",
    "Well done! We have basic information about our datasets. Also we checked them and ready to prepare the data.\n",
    "</div>"
   ]
  },
  {
   "cell_type": "markdown",
   "metadata": {},
   "source": [
    "## Prepare the Data"
   ]
  },
  {
   "cell_type": "code",
   "execution_count": 8,
   "metadata": {},
   "outputs": [],
   "source": [
    "# To easily groupby\n",
    "mega_calls['month'] = pd.DatetimeIndex(mega_calls['call_date']).month\n",
    "mega_internet['month'] = pd.DatetimeIndex(mega_internet['session_date']).month\n",
    "mega_messages['month'] = pd.DatetimeIndex(mega_messages['message_date']).month\n",
    "\n",
    "# Rounded up up up!\n",
    "mega_calls['duration'] = mega_calls['duration'].apply(np.ceil)\n",
    "\n",
    "# Groups for merging into the ultimate dataframe! Huzzah!\n",
    "calls_group_sum = mega_calls.groupby(['user_id', 'month']).sum()\n",
    "calls_group_count = mega_calls.groupby(['user_id', 'month'], as_index=False).count()\n",
    "internet_group = mega_internet.groupby(['user_id', 'month']).sum()\n",
    "messages_group_count = mega_messages.groupby(['user_id', 'month']).count()\n",
    "\n",
    "# More rounding\n",
    "internet_group['mb_used'] = (internet_group['mb_used'] / 1000).apply(np.ceil)"
   ]
  },
  {
   "cell_type": "code",
   "execution_count": 9,
   "metadata": {},
   "outputs": [
    {
     "data": {
      "text/html": [
       "<div>\n",
       "<style scoped>\n",
       "    .dataframe tbody tr th:only-of-type {\n",
       "        vertical-align: middle;\n",
       "    }\n",
       "\n",
       "    .dataframe tbody tr th {\n",
       "        vertical-align: top;\n",
       "    }\n",
       "\n",
       "    .dataframe thead th {\n",
       "        text-align: right;\n",
       "    }\n",
       "</style>\n",
       "<table border=\"1\" class=\"dataframe\">\n",
       "  <thead>\n",
       "    <tr style=\"text-align: right;\">\n",
       "      <th></th>\n",
       "      <th></th>\n",
       "      <th>duration</th>\n",
       "    </tr>\n",
       "    <tr>\n",
       "      <th>user_id</th>\n",
       "      <th>month</th>\n",
       "      <th></th>\n",
       "    </tr>\n",
       "  </thead>\n",
       "  <tbody>\n",
       "    <tr>\n",
       "      <td>1000</td>\n",
       "      <td>12</td>\n",
       "      <td>124.0</td>\n",
       "    </tr>\n",
       "    <tr>\n",
       "      <td rowspan=\"4\" valign=\"top\">1001</td>\n",
       "      <td>8</td>\n",
       "      <td>182.0</td>\n",
       "    </tr>\n",
       "    <tr>\n",
       "      <td>9</td>\n",
       "      <td>315.0</td>\n",
       "    </tr>\n",
       "    <tr>\n",
       "      <td>10</td>\n",
       "      <td>393.0</td>\n",
       "    </tr>\n",
       "    <tr>\n",
       "      <td>11</td>\n",
       "      <td>426.0</td>\n",
       "    </tr>\n",
       "    <tr>\n",
       "      <td>...</td>\n",
       "      <td>...</td>\n",
       "      <td>...</td>\n",
       "    </tr>\n",
       "    <tr>\n",
       "      <td>1498</td>\n",
       "      <td>12</td>\n",
       "      <td>339.0</td>\n",
       "    </tr>\n",
       "    <tr>\n",
       "      <td rowspan=\"4\" valign=\"top\">1499</td>\n",
       "      <td>9</td>\n",
       "      <td>346.0</td>\n",
       "    </tr>\n",
       "    <tr>\n",
       "      <td>10</td>\n",
       "      <td>385.0</td>\n",
       "    </tr>\n",
       "    <tr>\n",
       "      <td>11</td>\n",
       "      <td>308.0</td>\n",
       "    </tr>\n",
       "    <tr>\n",
       "      <td>12</td>\n",
       "      <td>496.0</td>\n",
       "    </tr>\n",
       "  </tbody>\n",
       "</table>\n",
       "<p>2258 rows × 1 columns</p>\n",
       "</div>"
      ],
      "text/plain": [
       "               duration\n",
       "user_id month          \n",
       "1000    12        124.0\n",
       "1001    8         182.0\n",
       "        9         315.0\n",
       "        10        393.0\n",
       "        11        426.0\n",
       "...                 ...\n",
       "1498    12        339.0\n",
       "1499    9         346.0\n",
       "        10        385.0\n",
       "        11        308.0\n",
       "        12        496.0\n",
       "\n",
       "[2258 rows x 1 columns]"
      ]
     },
     "execution_count": 9,
     "metadata": {},
     "output_type": "execute_result"
    }
   ],
   "source": [
    "calls_group_sum"
   ]
  },
  {
   "cell_type": "code",
   "execution_count": 10,
   "metadata": {},
   "outputs": [
    {
     "data": {
      "text/html": [
       "<div>\n",
       "<style scoped>\n",
       "    .dataframe tbody tr th:only-of-type {\n",
       "        vertical-align: middle;\n",
       "    }\n",
       "\n",
       "    .dataframe tbody tr th {\n",
       "        vertical-align: top;\n",
       "    }\n",
       "\n",
       "    .dataframe thead th {\n",
       "        text-align: right;\n",
       "    }\n",
       "</style>\n",
       "<table border=\"1\" class=\"dataframe\">\n",
       "  <thead>\n",
       "    <tr style=\"text-align: right;\">\n",
       "      <th></th>\n",
       "      <th></th>\n",
       "      <th>gb_used</th>\n",
       "    </tr>\n",
       "    <tr>\n",
       "      <th>user_id</th>\n",
       "      <th>month</th>\n",
       "      <th></th>\n",
       "    </tr>\n",
       "  </thead>\n",
       "  <tbody>\n",
       "    <tr>\n",
       "      <td>1000</td>\n",
       "      <td>12</td>\n",
       "      <td>2.0</td>\n",
       "    </tr>\n",
       "    <tr>\n",
       "      <td rowspan=\"4\" valign=\"top\">1001</td>\n",
       "      <td>8</td>\n",
       "      <td>7.0</td>\n",
       "    </tr>\n",
       "    <tr>\n",
       "      <td>9</td>\n",
       "      <td>14.0</td>\n",
       "    </tr>\n",
       "    <tr>\n",
       "      <td>10</td>\n",
       "      <td>23.0</td>\n",
       "    </tr>\n",
       "    <tr>\n",
       "      <td>11</td>\n",
       "      <td>19.0</td>\n",
       "    </tr>\n",
       "    <tr>\n",
       "      <td>...</td>\n",
       "      <td>...</td>\n",
       "      <td>...</td>\n",
       "    </tr>\n",
       "    <tr>\n",
       "      <td>1498</td>\n",
       "      <td>12</td>\n",
       "      <td>24.0</td>\n",
       "    </tr>\n",
       "    <tr>\n",
       "      <td rowspan=\"4\" valign=\"top\">1499</td>\n",
       "      <td>9</td>\n",
       "      <td>13.0</td>\n",
       "    </tr>\n",
       "    <tr>\n",
       "      <td>10</td>\n",
       "      <td>20.0</td>\n",
       "    </tr>\n",
       "    <tr>\n",
       "      <td>11</td>\n",
       "      <td>17.0</td>\n",
       "    </tr>\n",
       "    <tr>\n",
       "      <td>12</td>\n",
       "      <td>23.0</td>\n",
       "    </tr>\n",
       "  </tbody>\n",
       "</table>\n",
       "<p>2277 rows × 1 columns</p>\n",
       "</div>"
      ],
      "text/plain": [
       "               gb_used\n",
       "user_id month         \n",
       "1000    12         2.0\n",
       "1001    8          7.0\n",
       "        9         14.0\n",
       "        10        23.0\n",
       "        11        19.0\n",
       "...                ...\n",
       "1498    12        24.0\n",
       "1499    9         13.0\n",
       "        10        20.0\n",
       "        11        17.0\n",
       "        12        23.0\n",
       "\n",
       "[2277 rows x 1 columns]"
      ]
     },
     "execution_count": 10,
     "metadata": {},
     "output_type": "execute_result"
    }
   ],
   "source": [
    "# Renaming\n",
    "internet_group.columns = ['gb_used']\n",
    "internet_group"
   ]
  },
  {
   "cell_type": "code",
   "execution_count": 11,
   "metadata": {},
   "outputs": [
    {
     "data": {
      "text/html": [
       "<div>\n",
       "<style scoped>\n",
       "    .dataframe tbody tr th:only-of-type {\n",
       "        vertical-align: middle;\n",
       "    }\n",
       "\n",
       "    .dataframe tbody tr th {\n",
       "        vertical-align: top;\n",
       "    }\n",
       "\n",
       "    .dataframe thead th {\n",
       "        text-align: right;\n",
       "    }\n",
       "</style>\n",
       "<table border=\"1\" class=\"dataframe\">\n",
       "  <thead>\n",
       "    <tr style=\"text-align: right;\">\n",
       "      <th></th>\n",
       "      <th></th>\n",
       "      <th>messages_count</th>\n",
       "    </tr>\n",
       "    <tr>\n",
       "      <th>user_id</th>\n",
       "      <th>month</th>\n",
       "      <th></th>\n",
       "    </tr>\n",
       "  </thead>\n",
       "  <tbody>\n",
       "    <tr>\n",
       "      <td>1000</td>\n",
       "      <td>12</td>\n",
       "      <td>11</td>\n",
       "    </tr>\n",
       "    <tr>\n",
       "      <td rowspan=\"4\" valign=\"top\">1001</td>\n",
       "      <td>8</td>\n",
       "      <td>30</td>\n",
       "    </tr>\n",
       "    <tr>\n",
       "      <td>9</td>\n",
       "      <td>44</td>\n",
       "    </tr>\n",
       "    <tr>\n",
       "      <td>10</td>\n",
       "      <td>53</td>\n",
       "    </tr>\n",
       "    <tr>\n",
       "      <td>11</td>\n",
       "      <td>36</td>\n",
       "    </tr>\n",
       "    <tr>\n",
       "      <td>...</td>\n",
       "      <td>...</td>\n",
       "      <td>...</td>\n",
       "    </tr>\n",
       "    <tr>\n",
       "      <td rowspan=\"4\" valign=\"top\">1496</td>\n",
       "      <td>9</td>\n",
       "      <td>21</td>\n",
       "    </tr>\n",
       "    <tr>\n",
       "      <td>10</td>\n",
       "      <td>18</td>\n",
       "    </tr>\n",
       "    <tr>\n",
       "      <td>11</td>\n",
       "      <td>13</td>\n",
       "    </tr>\n",
       "    <tr>\n",
       "      <td>12</td>\n",
       "      <td>11</td>\n",
       "    </tr>\n",
       "    <tr>\n",
       "      <td>1497</td>\n",
       "      <td>12</td>\n",
       "      <td>50</td>\n",
       "    </tr>\n",
       "  </tbody>\n",
       "</table>\n",
       "<p>1806 rows × 1 columns</p>\n",
       "</div>"
      ],
      "text/plain": [
       "               messages_count\n",
       "user_id month                \n",
       "1000    12                 11\n",
       "1001    8                  30\n",
       "        9                  44\n",
       "        10                 53\n",
       "        11                 36\n",
       "...                       ...\n",
       "1496    9                  21\n",
       "        10                 18\n",
       "        11                 13\n",
       "        12                 11\n",
       "1497    12                 50\n",
       "\n",
       "[1806 rows x 1 columns]"
      ]
     },
     "execution_count": 11,
     "metadata": {},
     "output_type": "execute_result"
    }
   ],
   "source": [
    "# Dropped useless column + renaming\n",
    "messages_group_count.drop(['message_date'], axis=1, inplace=True)\n",
    "messages_group_count.columns = ['messages_count']\n",
    "messages_group_count"
   ]
  },
  {
   "cell_type": "code",
   "execution_count": 12,
   "metadata": {},
   "outputs": [
    {
     "data": {
      "text/html": [
       "<div>\n",
       "<style scoped>\n",
       "    .dataframe tbody tr th:only-of-type {\n",
       "        vertical-align: middle;\n",
       "    }\n",
       "\n",
       "    .dataframe tbody tr th {\n",
       "        vertical-align: top;\n",
       "    }\n",
       "\n",
       "    .dataframe thead th {\n",
       "        text-align: right;\n",
       "    }\n",
       "</style>\n",
       "<table border=\"1\" class=\"dataframe\">\n",
       "  <thead>\n",
       "    <tr style=\"text-align: right;\">\n",
       "      <th></th>\n",
       "      <th>user_id</th>\n",
       "      <th>month</th>\n",
       "      <th>calls_count</th>\n",
       "    </tr>\n",
       "  </thead>\n",
       "  <tbody>\n",
       "    <tr>\n",
       "      <td>0</td>\n",
       "      <td>1000</td>\n",
       "      <td>12</td>\n",
       "      <td>16</td>\n",
       "    </tr>\n",
       "    <tr>\n",
       "      <td>1</td>\n",
       "      <td>1001</td>\n",
       "      <td>8</td>\n",
       "      <td>27</td>\n",
       "    </tr>\n",
       "    <tr>\n",
       "      <td>2</td>\n",
       "      <td>1001</td>\n",
       "      <td>9</td>\n",
       "      <td>49</td>\n",
       "    </tr>\n",
       "    <tr>\n",
       "      <td>3</td>\n",
       "      <td>1001</td>\n",
       "      <td>10</td>\n",
       "      <td>65</td>\n",
       "    </tr>\n",
       "    <tr>\n",
       "      <td>4</td>\n",
       "      <td>1001</td>\n",
       "      <td>11</td>\n",
       "      <td>64</td>\n",
       "    </tr>\n",
       "    <tr>\n",
       "      <td>...</td>\n",
       "      <td>...</td>\n",
       "      <td>...</td>\n",
       "      <td>...</td>\n",
       "    </tr>\n",
       "    <tr>\n",
       "      <td>2253</td>\n",
       "      <td>1498</td>\n",
       "      <td>12</td>\n",
       "      <td>39</td>\n",
       "    </tr>\n",
       "    <tr>\n",
       "      <td>2254</td>\n",
       "      <td>1499</td>\n",
       "      <td>9</td>\n",
       "      <td>41</td>\n",
       "    </tr>\n",
       "    <tr>\n",
       "      <td>2255</td>\n",
       "      <td>1499</td>\n",
       "      <td>10</td>\n",
       "      <td>53</td>\n",
       "    </tr>\n",
       "    <tr>\n",
       "      <td>2256</td>\n",
       "      <td>1499</td>\n",
       "      <td>11</td>\n",
       "      <td>45</td>\n",
       "    </tr>\n",
       "    <tr>\n",
       "      <td>2257</td>\n",
       "      <td>1499</td>\n",
       "      <td>12</td>\n",
       "      <td>65</td>\n",
       "    </tr>\n",
       "  </tbody>\n",
       "</table>\n",
       "<p>2258 rows × 3 columns</p>\n",
       "</div>"
      ],
      "text/plain": [
       "      user_id  month  calls_count\n",
       "0        1000     12           16\n",
       "1        1001      8           27\n",
       "2        1001      9           49\n",
       "3        1001     10           65\n",
       "4        1001     11           64\n",
       "...       ...    ...          ...\n",
       "2253     1498     12           39\n",
       "2254     1499      9           41\n",
       "2255     1499     10           53\n",
       "2256     1499     11           45\n",
       "2257     1499     12           65\n",
       "\n",
       "[2258 rows x 3 columns]"
      ]
     },
     "execution_count": 12,
     "metadata": {},
     "output_type": "execute_result"
    }
   ],
   "source": [
    "# Dropped useless columns + renaming\n",
    "calls_group_count.drop(['call_date', 'duration'], axis=1, inplace=True)\n",
    "calls_group_count.columns = ['user_id', 'month', 'calls_count']\n",
    "calls_group_count"
   ]
  },
  {
   "cell_type": "code",
   "execution_count": 13,
   "metadata": {},
   "outputs": [
    {
     "data": {
      "text/html": [
       "<div>\n",
       "<style scoped>\n",
       "    .dataframe tbody tr th:only-of-type {\n",
       "        vertical-align: middle;\n",
       "    }\n",
       "\n",
       "    .dataframe tbody tr th {\n",
       "        vertical-align: top;\n",
       "    }\n",
       "\n",
       "    .dataframe thead th {\n",
       "        text-align: right;\n",
       "    }\n",
       "</style>\n",
       "<table border=\"1\" class=\"dataframe\">\n",
       "  <thead>\n",
       "    <tr style=\"text-align: right;\">\n",
       "      <th></th>\n",
       "      <th>user_id</th>\n",
       "      <th>month</th>\n",
       "      <th>duration</th>\n",
       "      <th>calls_count</th>\n",
       "      <th>gb_used</th>\n",
       "      <th>messages_count</th>\n",
       "      <th>first_name</th>\n",
       "      <th>last_name</th>\n",
       "      <th>age</th>\n",
       "      <th>city</th>\n",
       "      <th>reg_date</th>\n",
       "      <th>plan</th>\n",
       "      <th>churn_date</th>\n",
       "    </tr>\n",
       "  </thead>\n",
       "  <tbody>\n",
       "    <tr>\n",
       "      <td>0</td>\n",
       "      <td>1000</td>\n",
       "      <td>12.0</td>\n",
       "      <td>124.0</td>\n",
       "      <td>16.0</td>\n",
       "      <td>2.0</td>\n",
       "      <td>11.0</td>\n",
       "      <td>Anamaria</td>\n",
       "      <td>Bauer</td>\n",
       "      <td>45</td>\n",
       "      <td>Atlanta-Sandy Springs-Roswell, GA MSA</td>\n",
       "      <td>2018-12-24</td>\n",
       "      <td>ultimate</td>\n",
       "      <td>NaN</td>\n",
       "    </tr>\n",
       "    <tr>\n",
       "      <td>1</td>\n",
       "      <td>1001</td>\n",
       "      <td>8.0</td>\n",
       "      <td>182.0</td>\n",
       "      <td>27.0</td>\n",
       "      <td>7.0</td>\n",
       "      <td>30.0</td>\n",
       "      <td>Mickey</td>\n",
       "      <td>Wilkerson</td>\n",
       "      <td>28</td>\n",
       "      <td>Seattle-Tacoma-Bellevue, WA MSA</td>\n",
       "      <td>2018-08-13</td>\n",
       "      <td>surf</td>\n",
       "      <td>NaN</td>\n",
       "    </tr>\n",
       "    <tr>\n",
       "      <td>2</td>\n",
       "      <td>1001</td>\n",
       "      <td>9.0</td>\n",
       "      <td>315.0</td>\n",
       "      <td>49.0</td>\n",
       "      <td>14.0</td>\n",
       "      <td>44.0</td>\n",
       "      <td>Mickey</td>\n",
       "      <td>Wilkerson</td>\n",
       "      <td>28</td>\n",
       "      <td>Seattle-Tacoma-Bellevue, WA MSA</td>\n",
       "      <td>2018-08-13</td>\n",
       "      <td>surf</td>\n",
       "      <td>NaN</td>\n",
       "    </tr>\n",
       "    <tr>\n",
       "      <td>3</td>\n",
       "      <td>1001</td>\n",
       "      <td>10.0</td>\n",
       "      <td>393.0</td>\n",
       "      <td>65.0</td>\n",
       "      <td>23.0</td>\n",
       "      <td>53.0</td>\n",
       "      <td>Mickey</td>\n",
       "      <td>Wilkerson</td>\n",
       "      <td>28</td>\n",
       "      <td>Seattle-Tacoma-Bellevue, WA MSA</td>\n",
       "      <td>2018-08-13</td>\n",
       "      <td>surf</td>\n",
       "      <td>NaN</td>\n",
       "    </tr>\n",
       "    <tr>\n",
       "      <td>4</td>\n",
       "      <td>1001</td>\n",
       "      <td>11.0</td>\n",
       "      <td>426.0</td>\n",
       "      <td>64.0</td>\n",
       "      <td>19.0</td>\n",
       "      <td>36.0</td>\n",
       "      <td>Mickey</td>\n",
       "      <td>Wilkerson</td>\n",
       "      <td>28</td>\n",
       "      <td>Seattle-Tacoma-Bellevue, WA MSA</td>\n",
       "      <td>2018-08-13</td>\n",
       "      <td>surf</td>\n",
       "      <td>NaN</td>\n",
       "    </tr>\n",
       "    <tr>\n",
       "      <td>...</td>\n",
       "      <td>...</td>\n",
       "      <td>...</td>\n",
       "      <td>...</td>\n",
       "      <td>...</td>\n",
       "      <td>...</td>\n",
       "      <td>...</td>\n",
       "      <td>...</td>\n",
       "      <td>...</td>\n",
       "      <td>...</td>\n",
       "      <td>...</td>\n",
       "      <td>...</td>\n",
       "      <td>...</td>\n",
       "      <td>...</td>\n",
       "    </tr>\n",
       "    <tr>\n",
       "      <td>2298</td>\n",
       "      <td>1307</td>\n",
       "      <td>NaN</td>\n",
       "      <td>NaN</td>\n",
       "      <td>NaN</td>\n",
       "      <td>NaN</td>\n",
       "      <td>NaN</td>\n",
       "      <td>Kristopher</td>\n",
       "      <td>Lang</td>\n",
       "      <td>28</td>\n",
       "      <td>Boston-Cambridge-Newton, MA-NH MSA</td>\n",
       "      <td>2018-12-31</td>\n",
       "      <td>surf</td>\n",
       "      <td>NaN</td>\n",
       "    </tr>\n",
       "    <tr>\n",
       "      <td>2299</td>\n",
       "      <td>1319</td>\n",
       "      <td>NaN</td>\n",
       "      <td>NaN</td>\n",
       "      <td>NaN</td>\n",
       "      <td>NaN</td>\n",
       "      <td>NaN</td>\n",
       "      <td>Eliseo</td>\n",
       "      <td>Carson</td>\n",
       "      <td>21</td>\n",
       "      <td>Colorado Springs, CO MSA</td>\n",
       "      <td>2018-06-17</td>\n",
       "      <td>surf</td>\n",
       "      <td>NaN</td>\n",
       "    </tr>\n",
       "    <tr>\n",
       "      <td>2300</td>\n",
       "      <td>1378</td>\n",
       "      <td>NaN</td>\n",
       "      <td>NaN</td>\n",
       "      <td>NaN</td>\n",
       "      <td>NaN</td>\n",
       "      <td>NaN</td>\n",
       "      <td>Mckinley</td>\n",
       "      <td>Clayton</td>\n",
       "      <td>22</td>\n",
       "      <td>Denver-Aurora-Lakewood, CO MSA</td>\n",
       "      <td>2018-12-17</td>\n",
       "      <td>surf</td>\n",
       "      <td>NaN</td>\n",
       "    </tr>\n",
       "    <tr>\n",
       "      <td>2301</td>\n",
       "      <td>1463</td>\n",
       "      <td>NaN</td>\n",
       "      <td>NaN</td>\n",
       "      <td>NaN</td>\n",
       "      <td>NaN</td>\n",
       "      <td>NaN</td>\n",
       "      <td>Dinorah</td>\n",
       "      <td>Simmons</td>\n",
       "      <td>30</td>\n",
       "      <td>Atlanta-Sandy Springs-Roswell, GA MSA</td>\n",
       "      <td>2018-11-27</td>\n",
       "      <td>ultimate</td>\n",
       "      <td>NaN</td>\n",
       "    </tr>\n",
       "    <tr>\n",
       "      <td>2302</td>\n",
       "      <td>1473</td>\n",
       "      <td>NaN</td>\n",
       "      <td>NaN</td>\n",
       "      <td>NaN</td>\n",
       "      <td>NaN</td>\n",
       "      <td>NaN</td>\n",
       "      <td>Kirk</td>\n",
       "      <td>Velez</td>\n",
       "      <td>61</td>\n",
       "      <td>Louisville/Jefferson County, KY-IN MSA</td>\n",
       "      <td>2018-12-31</td>\n",
       "      <td>surf</td>\n",
       "      <td>NaN</td>\n",
       "    </tr>\n",
       "  </tbody>\n",
       "</table>\n",
       "<p>2303 rows × 13 columns</p>\n",
       "</div>"
      ],
      "text/plain": [
       "      user_id  month  duration  calls_count  gb_used  messages_count  \\\n",
       "0        1000   12.0     124.0         16.0      2.0            11.0   \n",
       "1        1001    8.0     182.0         27.0      7.0            30.0   \n",
       "2        1001    9.0     315.0         49.0     14.0            44.0   \n",
       "3        1001   10.0     393.0         65.0     23.0            53.0   \n",
       "4        1001   11.0     426.0         64.0     19.0            36.0   \n",
       "...       ...    ...       ...          ...      ...             ...   \n",
       "2298     1307    NaN       NaN          NaN      NaN             NaN   \n",
       "2299     1319    NaN       NaN          NaN      NaN             NaN   \n",
       "2300     1378    NaN       NaN          NaN      NaN             NaN   \n",
       "2301     1463    NaN       NaN          NaN      NaN             NaN   \n",
       "2302     1473    NaN       NaN          NaN      NaN             NaN   \n",
       "\n",
       "      first_name  last_name  age                                    city  \\\n",
       "0       Anamaria      Bauer   45   Atlanta-Sandy Springs-Roswell, GA MSA   \n",
       "1         Mickey  Wilkerson   28         Seattle-Tacoma-Bellevue, WA MSA   \n",
       "2         Mickey  Wilkerson   28         Seattle-Tacoma-Bellevue, WA MSA   \n",
       "3         Mickey  Wilkerson   28         Seattle-Tacoma-Bellevue, WA MSA   \n",
       "4         Mickey  Wilkerson   28         Seattle-Tacoma-Bellevue, WA MSA   \n",
       "...          ...        ...  ...                                     ...   \n",
       "2298  Kristopher       Lang   28      Boston-Cambridge-Newton, MA-NH MSA   \n",
       "2299      Eliseo     Carson   21                Colorado Springs, CO MSA   \n",
       "2300    Mckinley    Clayton   22          Denver-Aurora-Lakewood, CO MSA   \n",
       "2301     Dinorah    Simmons   30   Atlanta-Sandy Springs-Roswell, GA MSA   \n",
       "2302        Kirk      Velez   61  Louisville/Jefferson County, KY-IN MSA   \n",
       "\n",
       "        reg_date      plan churn_date  \n",
       "0     2018-12-24  ultimate        NaN  \n",
       "1     2018-08-13      surf        NaN  \n",
       "2     2018-08-13      surf        NaN  \n",
       "3     2018-08-13      surf        NaN  \n",
       "4     2018-08-13      surf        NaN  \n",
       "...          ...       ...        ...  \n",
       "2298  2018-12-31      surf        NaN  \n",
       "2299  2018-06-17      surf        NaN  \n",
       "2300  2018-12-17      surf        NaN  \n",
       "2301  2018-11-27  ultimate        NaN  \n",
       "2302  2018-12-31      surf        NaN  \n",
       "\n",
       "[2303 rows x 13 columns]"
      ]
     },
     "execution_count": 13,
     "metadata": {},
     "output_type": "execute_result"
    }
   ],
   "source": [
    "# The ultimate dataframe! Rawr!\n",
    "df_raw = [calls_group_sum, calls_group_count, internet_group, messages_group_count]\n",
    "df = ft.reduce(lambda left, right: pd.merge(left, right, on=['user_id', 'month'], how='outer'), df_raw)\n",
    "df = pd.merge(left=df, right=mega_users, how='outer', on=['user_id'])\n",
    "df"
   ]
  },
  {
   "cell_type": "code",
   "execution_count": 14,
   "metadata": {},
   "outputs": [
    {
     "name": "stdout",
     "output_type": "stream",
     "text": [
      "10\n"
     ]
    },
    {
     "data": {
      "text/html": [
       "<div>\n",
       "<style scoped>\n",
       "    .dataframe tbody tr th:only-of-type {\n",
       "        vertical-align: middle;\n",
       "    }\n",
       "\n",
       "    .dataframe tbody tr th {\n",
       "        vertical-align: top;\n",
       "    }\n",
       "\n",
       "    .dataframe thead th {\n",
       "        text-align: right;\n",
       "    }\n",
       "</style>\n",
       "<table border=\"1\" class=\"dataframe\">\n",
       "  <thead>\n",
       "    <tr style=\"text-align: right;\">\n",
       "      <th></th>\n",
       "      <th>user_id</th>\n",
       "      <th>month</th>\n",
       "      <th>duration</th>\n",
       "      <th>calls_count</th>\n",
       "      <th>gb_used</th>\n",
       "      <th>messages_count</th>\n",
       "      <th>first_name</th>\n",
       "      <th>last_name</th>\n",
       "      <th>age</th>\n",
       "      <th>city</th>\n",
       "      <th>reg_date</th>\n",
       "      <th>plan</th>\n",
       "      <th>churn_date</th>\n",
       "    </tr>\n",
       "  </thead>\n",
       "  <tbody>\n",
       "    <tr>\n",
       "      <td>0</td>\n",
       "      <td>1000</td>\n",
       "      <td>12.0</td>\n",
       "      <td>124.0</td>\n",
       "      <td>16.0</td>\n",
       "      <td>2.0</td>\n",
       "      <td>11.0</td>\n",
       "      <td>Anamaria</td>\n",
       "      <td>Bauer</td>\n",
       "      <td>45</td>\n",
       "      <td>Atlanta-Sandy Springs-Roswell, GA MSA</td>\n",
       "      <td>2018-12-24</td>\n",
       "      <td>ultimate</td>\n",
       "      <td>NaN</td>\n",
       "    </tr>\n",
       "    <tr>\n",
       "      <td>1</td>\n",
       "      <td>1001</td>\n",
       "      <td>8.0</td>\n",
       "      <td>182.0</td>\n",
       "      <td>27.0</td>\n",
       "      <td>7.0</td>\n",
       "      <td>30.0</td>\n",
       "      <td>Mickey</td>\n",
       "      <td>Wilkerson</td>\n",
       "      <td>28</td>\n",
       "      <td>Seattle-Tacoma-Bellevue, WA MSA</td>\n",
       "      <td>2018-08-13</td>\n",
       "      <td>surf</td>\n",
       "      <td>NaN</td>\n",
       "    </tr>\n",
       "    <tr>\n",
       "      <td>2</td>\n",
       "      <td>1001</td>\n",
       "      <td>9.0</td>\n",
       "      <td>315.0</td>\n",
       "      <td>49.0</td>\n",
       "      <td>14.0</td>\n",
       "      <td>44.0</td>\n",
       "      <td>Mickey</td>\n",
       "      <td>Wilkerson</td>\n",
       "      <td>28</td>\n",
       "      <td>Seattle-Tacoma-Bellevue, WA MSA</td>\n",
       "      <td>2018-08-13</td>\n",
       "      <td>surf</td>\n",
       "      <td>NaN</td>\n",
       "    </tr>\n",
       "    <tr>\n",
       "      <td>3</td>\n",
       "      <td>1001</td>\n",
       "      <td>10.0</td>\n",
       "      <td>393.0</td>\n",
       "      <td>65.0</td>\n",
       "      <td>23.0</td>\n",
       "      <td>53.0</td>\n",
       "      <td>Mickey</td>\n",
       "      <td>Wilkerson</td>\n",
       "      <td>28</td>\n",
       "      <td>Seattle-Tacoma-Bellevue, WA MSA</td>\n",
       "      <td>2018-08-13</td>\n",
       "      <td>surf</td>\n",
       "      <td>NaN</td>\n",
       "    </tr>\n",
       "    <tr>\n",
       "      <td>4</td>\n",
       "      <td>1001</td>\n",
       "      <td>11.0</td>\n",
       "      <td>426.0</td>\n",
       "      <td>64.0</td>\n",
       "      <td>19.0</td>\n",
       "      <td>36.0</td>\n",
       "      <td>Mickey</td>\n",
       "      <td>Wilkerson</td>\n",
       "      <td>28</td>\n",
       "      <td>Seattle-Tacoma-Bellevue, WA MSA</td>\n",
       "      <td>2018-08-13</td>\n",
       "      <td>surf</td>\n",
       "      <td>NaN</td>\n",
       "    </tr>\n",
       "    <tr>\n",
       "      <td>...</td>\n",
       "      <td>...</td>\n",
       "      <td>...</td>\n",
       "      <td>...</td>\n",
       "      <td>...</td>\n",
       "      <td>...</td>\n",
       "      <td>...</td>\n",
       "      <td>...</td>\n",
       "      <td>...</td>\n",
       "      <td>...</td>\n",
       "      <td>...</td>\n",
       "      <td>...</td>\n",
       "      <td>...</td>\n",
       "      <td>...</td>\n",
       "    </tr>\n",
       "    <tr>\n",
       "      <td>2288</td>\n",
       "      <td>1204</td>\n",
       "      <td>11.0</td>\n",
       "      <td>NaN</td>\n",
       "      <td>NaN</td>\n",
       "      <td>22.0</td>\n",
       "      <td>42.0</td>\n",
       "      <td>Sherly</td>\n",
       "      <td>Levy</td>\n",
       "      <td>44</td>\n",
       "      <td>Chicago-Naperville-Elgin, IL-IN-WI MSA</td>\n",
       "      <td>2018-08-20</td>\n",
       "      <td>ultimate</td>\n",
       "      <td>NaN</td>\n",
       "    </tr>\n",
       "    <tr>\n",
       "      <td>2289</td>\n",
       "      <td>1204</td>\n",
       "      <td>12.0</td>\n",
       "      <td>NaN</td>\n",
       "      <td>NaN</td>\n",
       "      <td>37.0</td>\n",
       "      <td>78.0</td>\n",
       "      <td>Sherly</td>\n",
       "      <td>Levy</td>\n",
       "      <td>44</td>\n",
       "      <td>Chicago-Naperville-Elgin, IL-IN-WI MSA</td>\n",
       "      <td>2018-08-20</td>\n",
       "      <td>ultimate</td>\n",
       "      <td>NaN</td>\n",
       "    </tr>\n",
       "    <tr>\n",
       "      <td>2290</td>\n",
       "      <td>1349</td>\n",
       "      <td>10.0</td>\n",
       "      <td>NaN</td>\n",
       "      <td>NaN</td>\n",
       "      <td>14.0</td>\n",
       "      <td>76.0</td>\n",
       "      <td>Florentina</td>\n",
       "      <td>Diaz</td>\n",
       "      <td>69</td>\n",
       "      <td>Boston-Cambridge-Newton, MA-NH MSA</td>\n",
       "      <td>2018-10-01</td>\n",
       "      <td>surf</td>\n",
       "      <td>NaN</td>\n",
       "    </tr>\n",
       "    <tr>\n",
       "      <td>2291</td>\n",
       "      <td>1349</td>\n",
       "      <td>11.0</td>\n",
       "      <td>NaN</td>\n",
       "      <td>NaN</td>\n",
       "      <td>18.0</td>\n",
       "      <td>72.0</td>\n",
       "      <td>Florentina</td>\n",
       "      <td>Diaz</td>\n",
       "      <td>69</td>\n",
       "      <td>Boston-Cambridge-Newton, MA-NH MSA</td>\n",
       "      <td>2018-10-01</td>\n",
       "      <td>surf</td>\n",
       "      <td>NaN</td>\n",
       "    </tr>\n",
       "    <tr>\n",
       "      <td>2292</td>\n",
       "      <td>1349</td>\n",
       "      <td>12.0</td>\n",
       "      <td>NaN</td>\n",
       "      <td>NaN</td>\n",
       "      <td>14.0</td>\n",
       "      <td>61.0</td>\n",
       "      <td>Florentina</td>\n",
       "      <td>Diaz</td>\n",
       "      <td>69</td>\n",
       "      <td>Boston-Cambridge-Newton, MA-NH MSA</td>\n",
       "      <td>2018-10-01</td>\n",
       "      <td>surf</td>\n",
       "      <td>NaN</td>\n",
       "    </tr>\n",
       "  </tbody>\n",
       "</table>\n",
       "<p>2293 rows × 13 columns</p>\n",
       "</div>"
      ],
      "text/plain": [
       "      user_id  month  duration  calls_count  gb_used  messages_count  \\\n",
       "0        1000   12.0     124.0         16.0      2.0            11.0   \n",
       "1        1001    8.0     182.0         27.0      7.0            30.0   \n",
       "2        1001    9.0     315.0         49.0     14.0            44.0   \n",
       "3        1001   10.0     393.0         65.0     23.0            53.0   \n",
       "4        1001   11.0     426.0         64.0     19.0            36.0   \n",
       "...       ...    ...       ...          ...      ...             ...   \n",
       "2288     1204   11.0       NaN          NaN     22.0            42.0   \n",
       "2289     1204   12.0       NaN          NaN     37.0            78.0   \n",
       "2290     1349   10.0       NaN          NaN     14.0            76.0   \n",
       "2291     1349   11.0       NaN          NaN     18.0            72.0   \n",
       "2292     1349   12.0       NaN          NaN     14.0            61.0   \n",
       "\n",
       "      first_name  last_name  age                                    city  \\\n",
       "0       Anamaria      Bauer   45   Atlanta-Sandy Springs-Roswell, GA MSA   \n",
       "1         Mickey  Wilkerson   28         Seattle-Tacoma-Bellevue, WA MSA   \n",
       "2         Mickey  Wilkerson   28         Seattle-Tacoma-Bellevue, WA MSA   \n",
       "3         Mickey  Wilkerson   28         Seattle-Tacoma-Bellevue, WA MSA   \n",
       "4         Mickey  Wilkerson   28         Seattle-Tacoma-Bellevue, WA MSA   \n",
       "...          ...        ...  ...                                     ...   \n",
       "2288      Sherly       Levy   44  Chicago-Naperville-Elgin, IL-IN-WI MSA   \n",
       "2289      Sherly       Levy   44  Chicago-Naperville-Elgin, IL-IN-WI MSA   \n",
       "2290  Florentina       Diaz   69      Boston-Cambridge-Newton, MA-NH MSA   \n",
       "2291  Florentina       Diaz   69      Boston-Cambridge-Newton, MA-NH MSA   \n",
       "2292  Florentina       Diaz   69      Boston-Cambridge-Newton, MA-NH MSA   \n",
       "\n",
       "        reg_date      plan churn_date  \n",
       "0     2018-12-24  ultimate        NaN  \n",
       "1     2018-08-13      surf        NaN  \n",
       "2     2018-08-13      surf        NaN  \n",
       "3     2018-08-13      surf        NaN  \n",
       "4     2018-08-13      surf        NaN  \n",
       "...          ...       ...        ...  \n",
       "2288  2018-08-20  ultimate        NaN  \n",
       "2289  2018-08-20  ultimate        NaN  \n",
       "2290  2018-10-01      surf        NaN  \n",
       "2291  2018-10-01      surf        NaN  \n",
       "2292  2018-10-01      surf        NaN  \n",
       "\n",
       "[2293 rows x 13 columns]"
      ]
     },
     "execution_count": 14,
     "metadata": {},
     "output_type": "execute_result"
    }
   ],
   "source": [
    "# Less than 10 rows, removed useless rows\n",
    "print(len(df.loc[df['month'].isnull()]['user_id'].unique()))\n",
    "df.dropna(subset=['month'], inplace=True)\n",
    "df"
   ]
  },
  {
   "cell_type": "markdown",
   "metadata": {},
   "source": [
    "There are still lots of NaN, but I don't see any good value to replace them with. I can still work with it just fine so I'll leave them as-is."
   ]
  },
  {
   "cell_type": "code",
   "execution_count": 15,
   "metadata": {},
   "outputs": [],
   "source": [
    "# Turning all the numbered columns from floats to ints\n",
    "df[['month', 'duration', 'calls_count', 'gb_used', 'messages_count']] = df[[\n",
    "    'month', 'duration', 'calls_count', 'gb_used', 'messages_count']].astype('Int64')"
   ]
  },
  {
   "cell_type": "markdown",
   "metadata": {},
   "source": [
    "For each user the number of calls made for each month is 'calls_count', and the duration is 'duration'. The number of texts per month is 'messages_count', and 'gb_used' is how much data they use each month."
   ]
  },
  {
   "cell_type": "code",
   "execution_count": 16,
   "metadata": {},
   "outputs": [
    {
     "data": {
      "text/html": [
       "<div>\n",
       "<style scoped>\n",
       "    .dataframe tbody tr th:only-of-type {\n",
       "        vertical-align: middle;\n",
       "    }\n",
       "\n",
       "    .dataframe tbody tr th {\n",
       "        vertical-align: top;\n",
       "    }\n",
       "\n",
       "    .dataframe thead th {\n",
       "        text-align: right;\n",
       "    }\n",
       "</style>\n",
       "<table border=\"1\" class=\"dataframe\">\n",
       "  <thead>\n",
       "    <tr style=\"text-align: right;\">\n",
       "      <th></th>\n",
       "      <th>user_id</th>\n",
       "      <th>month</th>\n",
       "      <th>duration</th>\n",
       "      <th>calls_count</th>\n",
       "      <th>gb_used</th>\n",
       "      <th>messages_count</th>\n",
       "      <th>first_name</th>\n",
       "      <th>last_name</th>\n",
       "      <th>age</th>\n",
       "      <th>city</th>\n",
       "      <th>...</th>\n",
       "      <th>plan</th>\n",
       "      <th>churn_date</th>\n",
       "      <th>messages_included</th>\n",
       "      <th>mb_per_month_included</th>\n",
       "      <th>minutes_included</th>\n",
       "      <th>usd_monthly_pay</th>\n",
       "      <th>usd_per_gb</th>\n",
       "      <th>usd_per_message</th>\n",
       "      <th>usd_per_minute</th>\n",
       "      <th>plan_name</th>\n",
       "    </tr>\n",
       "  </thead>\n",
       "  <tbody>\n",
       "    <tr>\n",
       "      <td>0</td>\n",
       "      <td>1000</td>\n",
       "      <td>12</td>\n",
       "      <td>124</td>\n",
       "      <td>16</td>\n",
       "      <td>2</td>\n",
       "      <td>11</td>\n",
       "      <td>Anamaria</td>\n",
       "      <td>Bauer</td>\n",
       "      <td>45</td>\n",
       "      <td>Atlanta-Sandy Springs-Roswell, GA MSA</td>\n",
       "      <td>...</td>\n",
       "      <td>ultimate</td>\n",
       "      <td>NaN</td>\n",
       "      <td>1000</td>\n",
       "      <td>30720</td>\n",
       "      <td>3000</td>\n",
       "      <td>70</td>\n",
       "      <td>7</td>\n",
       "      <td>0.01</td>\n",
       "      <td>0.01</td>\n",
       "      <td>ultimate</td>\n",
       "    </tr>\n",
       "    <tr>\n",
       "      <td>1</td>\n",
       "      <td>1001</td>\n",
       "      <td>8</td>\n",
       "      <td>182</td>\n",
       "      <td>27</td>\n",
       "      <td>7</td>\n",
       "      <td>30</td>\n",
       "      <td>Mickey</td>\n",
       "      <td>Wilkerson</td>\n",
       "      <td>28</td>\n",
       "      <td>Seattle-Tacoma-Bellevue, WA MSA</td>\n",
       "      <td>...</td>\n",
       "      <td>surf</td>\n",
       "      <td>NaN</td>\n",
       "      <td>50</td>\n",
       "      <td>15360</td>\n",
       "      <td>500</td>\n",
       "      <td>20</td>\n",
       "      <td>10</td>\n",
       "      <td>0.03</td>\n",
       "      <td>0.03</td>\n",
       "      <td>surf</td>\n",
       "    </tr>\n",
       "    <tr>\n",
       "      <td>2</td>\n",
       "      <td>1001</td>\n",
       "      <td>9</td>\n",
       "      <td>315</td>\n",
       "      <td>49</td>\n",
       "      <td>14</td>\n",
       "      <td>44</td>\n",
       "      <td>Mickey</td>\n",
       "      <td>Wilkerson</td>\n",
       "      <td>28</td>\n",
       "      <td>Seattle-Tacoma-Bellevue, WA MSA</td>\n",
       "      <td>...</td>\n",
       "      <td>surf</td>\n",
       "      <td>NaN</td>\n",
       "      <td>50</td>\n",
       "      <td>15360</td>\n",
       "      <td>500</td>\n",
       "      <td>20</td>\n",
       "      <td>10</td>\n",
       "      <td>0.03</td>\n",
       "      <td>0.03</td>\n",
       "      <td>surf</td>\n",
       "    </tr>\n",
       "    <tr>\n",
       "      <td>3</td>\n",
       "      <td>1001</td>\n",
       "      <td>10</td>\n",
       "      <td>393</td>\n",
       "      <td>65</td>\n",
       "      <td>23</td>\n",
       "      <td>53</td>\n",
       "      <td>Mickey</td>\n",
       "      <td>Wilkerson</td>\n",
       "      <td>28</td>\n",
       "      <td>Seattle-Tacoma-Bellevue, WA MSA</td>\n",
       "      <td>...</td>\n",
       "      <td>surf</td>\n",
       "      <td>NaN</td>\n",
       "      <td>50</td>\n",
       "      <td>15360</td>\n",
       "      <td>500</td>\n",
       "      <td>20</td>\n",
       "      <td>10</td>\n",
       "      <td>0.03</td>\n",
       "      <td>0.03</td>\n",
       "      <td>surf</td>\n",
       "    </tr>\n",
       "    <tr>\n",
       "      <td>4</td>\n",
       "      <td>1001</td>\n",
       "      <td>11</td>\n",
       "      <td>426</td>\n",
       "      <td>64</td>\n",
       "      <td>19</td>\n",
       "      <td>36</td>\n",
       "      <td>Mickey</td>\n",
       "      <td>Wilkerson</td>\n",
       "      <td>28</td>\n",
       "      <td>Seattle-Tacoma-Bellevue, WA MSA</td>\n",
       "      <td>...</td>\n",
       "      <td>surf</td>\n",
       "      <td>NaN</td>\n",
       "      <td>50</td>\n",
       "      <td>15360</td>\n",
       "      <td>500</td>\n",
       "      <td>20</td>\n",
       "      <td>10</td>\n",
       "      <td>0.03</td>\n",
       "      <td>0.03</td>\n",
       "      <td>surf</td>\n",
       "    </tr>\n",
       "    <tr>\n",
       "      <td>...</td>\n",
       "      <td>...</td>\n",
       "      <td>...</td>\n",
       "      <td>...</td>\n",
       "      <td>...</td>\n",
       "      <td>...</td>\n",
       "      <td>...</td>\n",
       "      <td>...</td>\n",
       "      <td>...</td>\n",
       "      <td>...</td>\n",
       "      <td>...</td>\n",
       "      <td>...</td>\n",
       "      <td>...</td>\n",
       "      <td>...</td>\n",
       "      <td>...</td>\n",
       "      <td>...</td>\n",
       "      <td>...</td>\n",
       "      <td>...</td>\n",
       "      <td>...</td>\n",
       "      <td>...</td>\n",
       "      <td>...</td>\n",
       "      <td>...</td>\n",
       "    </tr>\n",
       "    <tr>\n",
       "      <td>2288</td>\n",
       "      <td>1204</td>\n",
       "      <td>11</td>\n",
       "      <td>NaN</td>\n",
       "      <td>NaN</td>\n",
       "      <td>22</td>\n",
       "      <td>42</td>\n",
       "      <td>Sherly</td>\n",
       "      <td>Levy</td>\n",
       "      <td>44</td>\n",
       "      <td>Chicago-Naperville-Elgin, IL-IN-WI MSA</td>\n",
       "      <td>...</td>\n",
       "      <td>ultimate</td>\n",
       "      <td>NaN</td>\n",
       "      <td>1000</td>\n",
       "      <td>30720</td>\n",
       "      <td>3000</td>\n",
       "      <td>70</td>\n",
       "      <td>7</td>\n",
       "      <td>0.01</td>\n",
       "      <td>0.01</td>\n",
       "      <td>ultimate</td>\n",
       "    </tr>\n",
       "    <tr>\n",
       "      <td>2289</td>\n",
       "      <td>1204</td>\n",
       "      <td>12</td>\n",
       "      <td>NaN</td>\n",
       "      <td>NaN</td>\n",
       "      <td>37</td>\n",
       "      <td>78</td>\n",
       "      <td>Sherly</td>\n",
       "      <td>Levy</td>\n",
       "      <td>44</td>\n",
       "      <td>Chicago-Naperville-Elgin, IL-IN-WI MSA</td>\n",
       "      <td>...</td>\n",
       "      <td>ultimate</td>\n",
       "      <td>NaN</td>\n",
       "      <td>1000</td>\n",
       "      <td>30720</td>\n",
       "      <td>3000</td>\n",
       "      <td>70</td>\n",
       "      <td>7</td>\n",
       "      <td>0.01</td>\n",
       "      <td>0.01</td>\n",
       "      <td>ultimate</td>\n",
       "    </tr>\n",
       "    <tr>\n",
       "      <td>2290</td>\n",
       "      <td>1349</td>\n",
       "      <td>10</td>\n",
       "      <td>NaN</td>\n",
       "      <td>NaN</td>\n",
       "      <td>14</td>\n",
       "      <td>76</td>\n",
       "      <td>Florentina</td>\n",
       "      <td>Diaz</td>\n",
       "      <td>69</td>\n",
       "      <td>Boston-Cambridge-Newton, MA-NH MSA</td>\n",
       "      <td>...</td>\n",
       "      <td>surf</td>\n",
       "      <td>NaN</td>\n",
       "      <td>50</td>\n",
       "      <td>15360</td>\n",
       "      <td>500</td>\n",
       "      <td>20</td>\n",
       "      <td>10</td>\n",
       "      <td>0.03</td>\n",
       "      <td>0.03</td>\n",
       "      <td>surf</td>\n",
       "    </tr>\n",
       "    <tr>\n",
       "      <td>2291</td>\n",
       "      <td>1349</td>\n",
       "      <td>11</td>\n",
       "      <td>NaN</td>\n",
       "      <td>NaN</td>\n",
       "      <td>18</td>\n",
       "      <td>72</td>\n",
       "      <td>Florentina</td>\n",
       "      <td>Diaz</td>\n",
       "      <td>69</td>\n",
       "      <td>Boston-Cambridge-Newton, MA-NH MSA</td>\n",
       "      <td>...</td>\n",
       "      <td>surf</td>\n",
       "      <td>NaN</td>\n",
       "      <td>50</td>\n",
       "      <td>15360</td>\n",
       "      <td>500</td>\n",
       "      <td>20</td>\n",
       "      <td>10</td>\n",
       "      <td>0.03</td>\n",
       "      <td>0.03</td>\n",
       "      <td>surf</td>\n",
       "    </tr>\n",
       "    <tr>\n",
       "      <td>2292</td>\n",
       "      <td>1349</td>\n",
       "      <td>12</td>\n",
       "      <td>NaN</td>\n",
       "      <td>NaN</td>\n",
       "      <td>14</td>\n",
       "      <td>61</td>\n",
       "      <td>Florentina</td>\n",
       "      <td>Diaz</td>\n",
       "      <td>69</td>\n",
       "      <td>Boston-Cambridge-Newton, MA-NH MSA</td>\n",
       "      <td>...</td>\n",
       "      <td>surf</td>\n",
       "      <td>NaN</td>\n",
       "      <td>50</td>\n",
       "      <td>15360</td>\n",
       "      <td>500</td>\n",
       "      <td>20</td>\n",
       "      <td>10</td>\n",
       "      <td>0.03</td>\n",
       "      <td>0.03</td>\n",
       "      <td>surf</td>\n",
       "    </tr>\n",
       "  </tbody>\n",
       "</table>\n",
       "<p>2293 rows × 21 columns</p>\n",
       "</div>"
      ],
      "text/plain": [
       "      user_id  month  duration  calls_count  gb_used  messages_count  \\\n",
       "0        1000     12       124           16        2              11   \n",
       "1        1001      8       182           27        7              30   \n",
       "2        1001      9       315           49       14              44   \n",
       "3        1001     10       393           65       23              53   \n",
       "4        1001     11       426           64       19              36   \n",
       "...       ...    ...       ...          ...      ...             ...   \n",
       "2288     1204     11       NaN          NaN       22              42   \n",
       "2289     1204     12       NaN          NaN       37              78   \n",
       "2290     1349     10       NaN          NaN       14              76   \n",
       "2291     1349     11       NaN          NaN       18              72   \n",
       "2292     1349     12       NaN          NaN       14              61   \n",
       "\n",
       "      first_name  last_name  age                                    city  ...  \\\n",
       "0       Anamaria      Bauer   45   Atlanta-Sandy Springs-Roswell, GA MSA  ...   \n",
       "1         Mickey  Wilkerson   28         Seattle-Tacoma-Bellevue, WA MSA  ...   \n",
       "2         Mickey  Wilkerson   28         Seattle-Tacoma-Bellevue, WA MSA  ...   \n",
       "3         Mickey  Wilkerson   28         Seattle-Tacoma-Bellevue, WA MSA  ...   \n",
       "4         Mickey  Wilkerson   28         Seattle-Tacoma-Bellevue, WA MSA  ...   \n",
       "...          ...        ...  ...                                     ...  ...   \n",
       "2288      Sherly       Levy   44  Chicago-Naperville-Elgin, IL-IN-WI MSA  ...   \n",
       "2289      Sherly       Levy   44  Chicago-Naperville-Elgin, IL-IN-WI MSA  ...   \n",
       "2290  Florentina       Diaz   69      Boston-Cambridge-Newton, MA-NH MSA  ...   \n",
       "2291  Florentina       Diaz   69      Boston-Cambridge-Newton, MA-NH MSA  ...   \n",
       "2292  Florentina       Diaz   69      Boston-Cambridge-Newton, MA-NH MSA  ...   \n",
       "\n",
       "          plan churn_date messages_included  mb_per_month_included  \\\n",
       "0     ultimate        NaN              1000                  30720   \n",
       "1         surf        NaN                50                  15360   \n",
       "2         surf        NaN                50                  15360   \n",
       "3         surf        NaN                50                  15360   \n",
       "4         surf        NaN                50                  15360   \n",
       "...        ...        ...               ...                    ...   \n",
       "2288  ultimate        NaN              1000                  30720   \n",
       "2289  ultimate        NaN              1000                  30720   \n",
       "2290      surf        NaN                50                  15360   \n",
       "2291      surf        NaN                50                  15360   \n",
       "2292      surf        NaN                50                  15360   \n",
       "\n",
       "      minutes_included  usd_monthly_pay  usd_per_gb  usd_per_message  \\\n",
       "0                 3000               70           7             0.01   \n",
       "1                  500               20          10             0.03   \n",
       "2                  500               20          10             0.03   \n",
       "3                  500               20          10             0.03   \n",
       "4                  500               20          10             0.03   \n",
       "...                ...              ...         ...              ...   \n",
       "2288              3000               70           7             0.01   \n",
       "2289              3000               70           7             0.01   \n",
       "2290               500               20          10             0.03   \n",
       "2291               500               20          10             0.03   \n",
       "2292               500               20          10             0.03   \n",
       "\n",
       "      usd_per_minute  plan_name  \n",
       "0               0.01   ultimate  \n",
       "1               0.03       surf  \n",
       "2               0.03       surf  \n",
       "3               0.03       surf  \n",
       "4               0.03       surf  \n",
       "...              ...        ...  \n",
       "2288            0.01   ultimate  \n",
       "2289            0.01   ultimate  \n",
       "2290            0.03       surf  \n",
       "2291            0.03       surf  \n",
       "2292            0.03       surf  \n",
       "\n",
       "[2293 rows x 21 columns]"
      ]
     },
     "execution_count": 16,
     "metadata": {},
     "output_type": "execute_result"
    }
   ],
   "source": [
    "df_for_count = pd.merge(left=df, right=mega_plans,\n",
    "                        left_on='plan', right_on='plan_name', how='left')\n",
    "df_for_count"
   ]
  },
  {
   "cell_type": "code",
   "execution_count": 1,
   "metadata": {},
   "outputs": [
    {
     "ename": "NameError",
     "evalue": "name 'df_for_count' is not defined",
     "output_type": "error",
     "traceback": [
      "\u001b[0;31m---------------------------------------------------------------------------\u001b[0m",
      "\u001b[0;31mNameError\u001b[0m                                 Traceback (most recent call last)",
      "\u001b[0;32m<ipython-input-1-ebfe16cad71d>\u001b[0m in \u001b[0;36m<module>\u001b[0;34m\u001b[0m\n\u001b[1;32m     16\u001b[0m \u001b[0;34m\u001b[0m\u001b[0m\n\u001b[1;32m     17\u001b[0m \u001b[0;34m\u001b[0m\u001b[0m\n\u001b[0;32m---> 18\u001b[0;31m \u001b[0mdf\u001b[0m\u001b[0;34m[\u001b[0m\u001b[0;34m'monthly_revenue'\u001b[0m\u001b[0;34m]\u001b[0m \u001b[0;34m=\u001b[0m \u001b[0mdf_for_count\u001b[0m\u001b[0;34m.\u001b[0m\u001b[0mapply\u001b[0m\u001b[0;34m(\u001b[0m\u001b[0mall_info\u001b[0m\u001b[0;34m)\u001b[0m\u001b[0;34m\u001b[0m\u001b[0;34m\u001b[0m\u001b[0m\n\u001b[0m\u001b[1;32m     19\u001b[0m \u001b[0mdf\u001b[0m\u001b[0;34m\u001b[0m\u001b[0;34m\u001b[0m\u001b[0m\n",
      "\u001b[0;31mNameError\u001b[0m: name 'df_for_count' is not defined"
     ]
    }
   ],
   "source": [
    "def all_info(df):\n",
    "    \n",
    "    calls_count = df['duration'] - df['minutes_included']\n",
    "    internet_count = df['gb_used'] - df['mb_per_month_included']\n",
    "    sms_count = df['messages_count'] - df['messages_included']\n",
    "    \n",
    "    costs = 0\n",
    "    if calls_count > 0:\n",
    "        costs += calls_count * df['usd_per_minute']\n",
    "    if calls_count > 0:\n",
    "        costs += internet_count * df['usd_per_gb']\n",
    "    if calls_count > 0:\n",
    "        costs += sms_count * df['usd_per_message']\n",
    "        \n",
    "    return costs + df['usd_monthly_pay']\n",
    "\n",
    "\n",
    "df['monthly_revenue'] = df_for_count.apply(all_info, axis=1)\n",
    "df"
   ]
  },
  {
   "cell_type": "code",
   "execution_count": 18,
   "metadata": {},
   "outputs": [],
   "source": [
    "# Removing negative monthly revenue\n",
    "df[df['monthly_revenue'] < 0] = np.nan"
   ]
  },
  {
   "cell_type": "markdown",
   "metadata": {},
   "source": [
    "This functions creates a new row 'monthly_revenue' respectively for the monthly costs for each user."
   ]
  },
  {
   "cell_type": "markdown",
   "metadata": {},
   "source": [
    "### Conclusion"
   ]
  },
  {
   "cell_type": "markdown",
   "metadata": {},
   "source": [
    "The data is ready for analazying and processing. Some rows have been removed and the data has been merged for easy use."
   ]
  },
  {
   "cell_type": "markdown",
   "metadata": {},
   "source": [
    "<div class=\"alert alert-block alert-success\">\n",
    "<b>Reviewer's comment</b> <a class=\"tocSkip\"></a>\n",
    "    \n",
    "Very good! One table is best variant. Great function! Now we have all information about our clients in one dataset and can start to analyze.\n",
    "</div>"
   ]
  },
  {
   "cell_type": "markdown",
   "metadata": {},
   "source": [
    "## Analyze"
   ]
  },
  {
   "cell_type": "code",
   "execution_count": 19,
   "metadata": {},
   "outputs": [
    {
     "data": {
      "image/png": "[encoded data removed]",
      "text/plain": [
       "<Figure size 720x360 with 1 Axes>"
      ]
     },
     "metadata": {
      "needs_background": "light"
     },
     "output_type": "display_data"
    }
   ],
   "source": [
    "plt.figure(figsize=(10, 5))\n",
    "df.groupby(by='plan')['duration'].plot(kind='hist', grid=True, range=(0, 900), alpha=0.5, title='Call Duration');"
   ]
  },
  {
   "cell_type": "markdown",
   "metadata": {},
   "source": [
    "The plot shows that most users tend to use 200 to about 700 minutes each month. The graph looks similar to a bell curve but seems skewed to the right."
   ]
  },
  {
   "cell_type": "code",
   "execution_count": 20,
   "metadata": {},
   "outputs": [
    {
     "data": {
      "image/png": "[encoded data removed]",
      "text/plain": [
       "<Figure size 720x360 with 1 Axes>"
      ]
     },
     "metadata": {
      "needs_background": "light"
     },
     "output_type": "display_data"
    }
   ],
   "source": [
    "plt.figure(figsize=(10, 5))\n",
    "df.groupby(by='plan')['gb_used'].plot(kind='hist', grid=True, range=(0, 40), alpha=0.5, title='GB Usage');"
   ]
  },
  {
   "cell_type": "markdown",
   "metadata": {},
   "source": [
    "Most users tend to use 13 - 24 gbs per month of data. The users of the Ultimate plan use much more data comparatively. The graph shows a very good bell curve."
   ]
  },
  {
   "cell_type": "code",
   "execution_count": 21,
   "metadata": {},
   "outputs": [
    {
     "data": {
      "image/png": "[encoded data removed]",
      "text/plain": [
       "<Figure size 720x360 with 1 Axes>"
      ]
     },
     "metadata": {
      "needs_background": "light"
     },
     "output_type": "display_data"
    }
   ],
   "source": [
    "plt.figure(figsize=(10, 5))\n",
    "df.groupby(by='plan')['messages_count'].plot(kind='hist', grid=True, range=(0, 100), alpha=0.5, title='SMS Usage');"
   ]
  },
  {
   "cell_type": "markdown",
   "metadata": {},
   "source": [
    "Most all users fit between sending 0 to 40 messages per month. There are is significantly more SMS being used for users of the Ultimate plan. The graph is heavily skewed to the right."
   ]
  },
  {
   "cell_type": "code",
   "execution_count": 22,
   "metadata": {},
   "outputs": [
    {
     "data": {
      "text/html": [
       "<div>\n",
       "<style scoped>\n",
       "    .dataframe tbody tr th:only-of-type {\n",
       "        vertical-align: middle;\n",
       "    }\n",
       "\n",
       "    .dataframe tbody tr th {\n",
       "        vertical-align: top;\n",
       "    }\n",
       "\n",
       "    .dataframe thead th {\n",
       "        text-align: right;\n",
       "    }\n",
       "</style>\n",
       "<table border=\"1\" class=\"dataframe\">\n",
       "  <thead>\n",
       "    <tr style=\"text-align: right;\">\n",
       "      <th></th>\n",
       "      <th>duration</th>\n",
       "      <th>gb_used</th>\n",
       "      <th>messages_count</th>\n",
       "    </tr>\n",
       "  </thead>\n",
       "  <tbody>\n",
       "    <tr>\n",
       "      <td>count</td>\n",
       "      <td>1811.000000</td>\n",
       "      <td>1830.000000</td>\n",
       "      <td>1359.000000</td>\n",
       "    </tr>\n",
       "    <tr>\n",
       "      <td>mean</td>\n",
       "      <td>376.004970</td>\n",
       "      <td>16.814754</td>\n",
       "      <td>40.512141</td>\n",
       "    </tr>\n",
       "    <tr>\n",
       "      <td>std</td>\n",
       "      <td>205.118692</td>\n",
       "      <td>7.881164</td>\n",
       "      <td>31.448833</td>\n",
       "    </tr>\n",
       "    <tr>\n",
       "      <td>min</td>\n",
       "      <td>0.000000</td>\n",
       "      <td>1.000000</td>\n",
       "      <td>1.000000</td>\n",
       "    </tr>\n",
       "    <tr>\n",
       "      <td>25%</td>\n",
       "      <td>238.500000</td>\n",
       "      <td>12.000000</td>\n",
       "      <td>16.000000</td>\n",
       "    </tr>\n",
       "    <tr>\n",
       "      <td>50%</td>\n",
       "      <td>370.000000</td>\n",
       "      <td>17.000000</td>\n",
       "      <td>33.000000</td>\n",
       "    </tr>\n",
       "    <tr>\n",
       "      <td>75%</td>\n",
       "      <td>478.000000</td>\n",
       "      <td>21.000000</td>\n",
       "      <td>58.000000</td>\n",
       "    </tr>\n",
       "    <tr>\n",
       "      <td>max</td>\n",
       "      <td>1369.000000</td>\n",
       "      <td>67.000000</td>\n",
       "      <td>180.000000</td>\n",
       "    </tr>\n",
       "  </tbody>\n",
       "</table>\n",
       "</div>"
      ],
      "text/plain": [
       "          duration      gb_used  messages_count\n",
       "count  1811.000000  1830.000000     1359.000000\n",
       "mean    376.004970    16.814754       40.512141\n",
       "std     205.118692     7.881164       31.448833\n",
       "min       0.000000     1.000000        1.000000\n",
       "25%     238.500000    12.000000       16.000000\n",
       "50%     370.000000    17.000000       33.000000\n",
       "75%     478.000000    21.000000       58.000000\n",
       "max    1369.000000    67.000000      180.000000"
      ]
     },
     "execution_count": 22,
     "metadata": {},
     "output_type": "execute_result"
    }
   ],
   "source": [
    "df[['duration', 'gb_used', 'messages_count']].describe()"
   ]
  },
  {
   "cell_type": "markdown",
   "metadata": {},
   "source": [
    "Here the mean and standard deviation is outlined."
   ]
  },
  {
   "cell_type": "markdown",
   "metadata": {},
   "source": [
    "### Conclusion"
   ]
  },
  {
   "cell_type": "markdown",
   "metadata": {},
   "source": [
    "Overall users of the ultimate plan use their plans much more often, and tend to use more than twice as much."
   ]
  },
  {
   "cell_type": "markdown",
   "metadata": {},
   "source": [
    "<div class=\"alert alert-block alert-success\">\n",
    "<b>Reviewer's comment</b> <a class=\"tocSkip\"></a>\n",
    "    \n",
    "Very good graphs!We can see the difference and compare plans.\n",
    "</div>\n",
    "\n",
    "<div class=\"alert alert-block alert-warning\">\n",
    "<b>Reviewer's comment</b> <a class=\"tocSkip\"></a>\n",
    "    \n",
    "We should write more information about our graphs. Also we can write ideas why we have such graphs. :) \n",
    "</div>"
   ]
  },
  {
   "cell_type": "markdown",
   "metadata": {},
   "source": [
    "## Testing the Hypothesis"
   ]
  },
  {
   "cell_type": "markdown",
   "metadata": {},
   "source": [
    "Null hypothesis - The profit of each calling plan is the same.\n",
    "\n",
    "Alternative hypotheses - Some calling plans are more profitable than the other."
   ]
  },
  {
   "cell_type": "code",
   "execution_count": 23,
   "metadata": {},
   "outputs": [
    {
     "name": "stdout",
     "output_type": "stream",
     "text": [
      "p-value:  0.0\n",
      "We reject the null hypothesis\n"
     ]
    }
   ],
   "source": [
    "results = st.ttest_ind(df.loc[df['plan'] == 'surf']['monthly_revenue'],\n",
    "                       df.loc[df['plan'] == 'ultimate']['monthly_revenue'], equal_var=False, nan_policy = 'omit')\n",
    "\n",
    "alpha = 0.05\n",
    "\n",
    "print('p-value: ', results.pvalue)\n",
    "\n",
    "if results.pvalue < alpha:\n",
    "    print(\"We reject the null hypothesis\")\n",
    "else:\n",
    "    print(\"We can't reject the null hypothesis\")"
   ]
  },
  {
   "cell_type": "code",
   "execution_count": 29,
   "metadata": {},
   "outputs": [
    {
     "name": "stdout",
     "output_type": "stream",
     "text": [
      "Ultimate plans make more profit\n"
     ]
    }
   ],
   "source": [
    "if df.loc[df['plan'] == 'surf']['monthly_revenue'].mean() < df.loc[df['plan'] == 'ultimate']['monthly_revenue'].mean():\n",
    "    print('Ultimate plans make more profit')\n",
    "else:\n",
    "    print('Surf plans make more profit')"
   ]
  },
  {
   "cell_type": "markdown",
   "metadata": {},
   "source": [
    "The null hypothesis is incorrect that each calling plan makes the same profit, and the Ultimate plan has shown to be better for the company."
   ]
  },
  {
   "cell_type": "markdown",
   "metadata": {},
   "source": [
    "Null hypothesis - The average profit from customers in the NY-NJ area the same as that of other regions.\n",
    "\n",
    "Alternative hypotheses - The average profit from customers in the NY-NJ area is different from that of other regions."
   ]
  },
  {
   "cell_type": "code",
   "execution_count": 33,
   "metadata": {},
   "outputs": [
    {
     "name": "stdout",
     "output_type": "stream",
     "text": [
      "p-value:  3.185540632040458e-10\n",
      "We reject the null hypothesis\n"
     ]
    }
   ],
   "source": [
    "results = st.ttest_ind(df.loc[df['city'] == 'New York-Newark-Jersey City, NY-NJ-PA MSA']['monthly_revenue'], \n",
    "                       df.loc[df['city'] != 'New York-Newark-Jersey City, NY-NJ-PA MSA']['monthly_revenue'], \n",
    "                       equal_var = False, nan_policy = 'omit')\n",
    "\n",
    "print('p-value: ', results.pvalue)\n",
    "\n",
    "if (results.pvalue < alpha):\n",
    "        print(\"We reject the null hypothesis\")\n",
    "else:\n",
    "        print(\"We can't reject the null hypothesis\")"
   ]
  },
  {
   "cell_type": "markdown",
   "metadata": {},
   "source": [
    "### Conclusion"
   ]
  },
  {
   "cell_type": "markdown",
   "metadata": {},
   "source": [
    "Here our tests show that there is indeed a price difference between each plan and that the Ultimate plan makes more money. Additionally, there is a profit difference for those in the NY-NJ area as compared to other regions. The null hypothesis was rejected in both cases."
   ]
  },
  {
   "cell_type": "markdown",
   "metadata": {},
   "source": [
    "<div class=\"alert alert-block alert-success\">\n",
    "<b>Reviewer's comment</b> <a class=\"tocSkip\"></a>\n",
    "    \n",
    "Excellent! Right formularation of hypothesys and test.\n",
    "</div>"
   ]
  },
  {
   "cell_type": "markdown",
   "metadata": {},
   "source": [
    "## Major Conclusion"
   ]
  },
  {
   "cell_type": "markdown",
   "metadata": {},
   "source": [
    "Overall, our results indeed show a price difference between the two plans. The profit of the Ultimate plan is almost more than twice that of Surf, and the NY-NJ area has not shown to differ in profits compared to other regions. Through this we removed some rows of useless NaN's and cojoined each dataframe into one for easier calculations and plotted and analyzed the behavior of our users. Megaline's marketing should focus on the Ultimate plan and all regions."
   ]
  },
  {
   "cell_type": "markdown",
   "metadata": {},
   "source": [
    "<div class=\"alert alert-block alert-success\">\n",
    "<b>Reviewer's comment</b> <a class=\"tocSkip\"></a>\n",
    "    \n",
    "Very good that we have thesis of our research. We always can write more. \n",
    "</div>"
   ]
  }
 ],
 "metadata": {
  "ExecuteTimeLog": [
   {
    "duration": 514,
    "start_time": "2021-07-30T23:52:21.544Z"
   },
   {
    "duration": 262,
    "start_time": "2021-07-30T23:54:54.779Z"
   },
   {
    "duration": 15,
    "start_time": "2021-07-30T23:55:15.053Z"
   },
   {
    "duration": 11,
    "start_time": "2021-07-30T23:55:53.155Z"
   },
   {
    "duration": 11,
    "start_time": "2021-07-30T23:56:19.195Z"
   },
   {
    "duration": 10,
    "start_time": "2021-07-30T23:56:27.219Z"
   },
   {
    "duration": 15,
    "start_time": "2021-07-30T23:56:34.418Z"
   },
   {
    "duration": 11,
    "start_time": "2021-07-30T23:56:41.760Z"
   },
   {
    "duration": 840,
    "start_time": "2021-07-30T23:59:12.161Z"
   },
   {
    "duration": 14,
    "start_time": "2021-07-30T23:59:13.003Z"
   },
   {
    "duration": 15,
    "start_time": "2021-07-30T23:59:13.019Z"
   },
   {
    "duration": 62,
    "start_time": "2021-07-31T00:00:15.185Z"
   },
   {
    "duration": 63,
    "start_time": "2021-07-31T00:00:18.860Z"
   },
   {
    "duration": 871,
    "start_time": "2021-07-31T00:00:30.272Z"
   },
   {
    "duration": 63,
    "start_time": "2021-07-31T00:00:31.145Z"
   },
   {
    "duration": 15,
    "start_time": "2021-07-31T00:00:31.210Z"
   },
   {
    "duration": 36,
    "start_time": "2021-07-31T00:02:03.779Z"
   },
   {
    "duration": 10,
    "start_time": "2021-07-31T00:05:41.473Z"
   },
   {
    "duration": 9,
    "start_time": "2021-07-31T00:06:25.298Z"
   },
   {
    "duration": 8,
    "start_time": "2021-07-31T00:06:41.631Z"
   },
   {
    "duration": 13,
    "start_time": "2021-07-31T00:09:40.734Z"
   },
   {
    "duration": 542,
    "start_time": "2021-08-03T21:20:24.887Z"
   },
   {
    "duration": 1871,
    "start_time": "2021-08-03T21:20:33.509Z"
   },
   {
    "duration": 54,
    "start_time": "2021-08-03T21:20:35.383Z"
   },
   {
    "duration": 25,
    "start_time": "2021-08-03T21:20:35.440Z"
   },
   {
    "duration": 29,
    "start_time": "2021-08-03T21:20:35.468Z"
   },
   {
    "duration": 21,
    "start_time": "2021-08-03T21:21:22.226Z"
   },
   {
    "duration": 21,
    "start_time": "2021-08-03T21:23:14.659Z"
   },
   {
    "duration": 372,
    "start_time": "2021-08-03T21:23:27.529Z"
   },
   {
    "duration": 21,
    "start_time": "2021-08-03T21:23:33.763Z"
   },
   {
    "duration": 369,
    "start_time": "2021-08-03T21:23:41.491Z"
   },
   {
    "duration": 19,
    "start_time": "2021-08-03T21:23:44.834Z"
   },
   {
    "duration": 396,
    "start_time": "2021-08-03T21:23:55.143Z"
   },
   {
    "duration": 21,
    "start_time": "2021-08-03T21:24:00.389Z"
   },
   {
    "duration": 1127,
    "start_time": "2021-08-03T21:24:51.532Z"
   },
   {
    "duration": 51,
    "start_time": "2021-08-03T21:24:52.662Z"
   },
   {
    "duration": 20,
    "start_time": "2021-08-03T21:24:52.716Z"
   },
   {
    "duration": 11,
    "start_time": "2021-08-03T21:24:52.756Z"
   },
   {
    "duration": 11,
    "start_time": "2021-08-03T21:24:52.769Z"
   },
   {
    "duration": 14,
    "start_time": "2021-08-03T21:24:52.782Z"
   },
   {
    "duration": 13,
    "start_time": "2021-08-03T21:24:52.799Z"
   },
   {
    "duration": 437,
    "start_time": "2021-08-03T21:45:20.052Z"
   },
   {
    "duration": 383,
    "start_time": "2021-08-03T21:45:27.957Z"
   },
   {
    "duration": 324,
    "start_time": "2021-08-03T21:46:23.012Z"
   },
   {
    "duration": 382,
    "start_time": "2021-08-03T21:47:33.435Z"
   },
   {
    "duration": 358,
    "start_time": "2021-08-03T21:47:37.238Z"
   },
   {
    "duration": 343,
    "start_time": "2021-08-03T21:48:41.685Z"
   },
   {
    "duration": 334,
    "start_time": "2021-08-03T21:49:18.721Z"
   },
   {
    "duration": 341,
    "start_time": "2021-08-03T21:49:36.726Z"
   },
   {
    "duration": 152,
    "start_time": "2021-08-03T21:49:46.018Z"
   },
   {
    "duration": 161,
    "start_time": "2021-08-03T21:50:00.579Z"
   },
   {
    "duration": 523,
    "start_time": "2021-08-03T21:50:03.723Z"
   },
   {
    "duration": 20,
    "start_time": "2021-08-03T21:50:15.172Z"
   },
   {
    "duration": 20,
    "start_time": "2021-08-03T21:51:38.346Z"
   },
   {
    "duration": 558,
    "start_time": "2021-08-03T21:51:49.987Z"
   },
   {
    "duration": 519,
    "start_time": "2021-08-03T21:52:04.160Z"
   },
   {
    "duration": 520,
    "start_time": "2021-08-03T21:52:10.771Z"
   },
   {
    "duration": 196,
    "start_time": "2021-08-03T21:52:18.798Z"
   },
   {
    "duration": 18,
    "start_time": "2021-08-03T21:52:20.970Z"
   },
   {
    "duration": 183,
    "start_time": "2021-08-03T21:52:28.559Z"
   },
   {
    "duration": 17,
    "start_time": "2021-08-03T21:52:31.676Z"
   },
   {
    "duration": 18,
    "start_time": "2021-08-03T21:54:22.984Z"
   },
   {
    "duration": 181,
    "start_time": "2021-08-03T21:54:24.837Z"
   },
   {
    "duration": 18,
    "start_time": "2021-08-03T21:54:26.346Z"
   },
   {
    "duration": 331,
    "start_time": "2021-08-03T21:55:25.191Z"
   },
   {
    "duration": 408,
    "start_time": "2021-08-03T21:55:33.315Z"
   },
   {
    "duration": 176,
    "start_time": "2021-08-03T21:55:40.916Z"
   },
   {
    "duration": 12,
    "start_time": "2021-08-03T21:55:42.343Z"
   },
   {
    "duration": 19,
    "start_time": "2021-08-03T21:56:08.498Z"
   },
   {
    "duration": 1110,
    "start_time": "2021-08-03T21:56:14.300Z"
   },
   {
    "duration": 53,
    "start_time": "2021-08-03T21:56:15.412Z"
   },
   {
    "duration": 21,
    "start_time": "2021-08-03T21:56:15.467Z"
   },
   {
    "duration": 15,
    "start_time": "2021-08-03T21:56:15.491Z"
   },
   {
    "duration": 11,
    "start_time": "2021-08-03T21:56:15.508Z"
   },
   {
    "duration": 40,
    "start_time": "2021-08-03T21:56:15.521Z"
   },
   {
    "duration": 12,
    "start_time": "2021-08-03T21:56:15.564Z"
   },
   {
    "duration": 215,
    "start_time": "2021-08-03T21:56:15.581Z"
   },
   {
    "duration": 17,
    "start_time": "2021-08-03T21:56:15.799Z"
   },
   {
    "duration": 38,
    "start_time": "2021-08-03T21:56:15.819Z"
   },
   {
    "duration": 10,
    "start_time": "2021-08-03T21:56:15.859Z"
   },
   {
    "duration": 12,
    "start_time": "2021-08-03T21:56:15.871Z"
   },
   {
    "duration": 11,
    "start_time": "2021-08-03T21:57:10.164Z"
   },
   {
    "duration": 1061,
    "start_time": "2021-08-03T21:57:17.498Z"
   },
   {
    "duration": 52,
    "start_time": "2021-08-03T21:57:18.561Z"
   },
   {
    "duration": 39,
    "start_time": "2021-08-03T21:57:18.616Z"
   },
   {
    "duration": 13,
    "start_time": "2021-08-03T21:57:18.658Z"
   },
   {
    "duration": 12,
    "start_time": "2021-08-03T21:57:18.673Z"
   },
   {
    "duration": 13,
    "start_time": "2021-08-03T21:57:18.688Z"
   },
   {
    "duration": 21,
    "start_time": "2021-08-03T21:57:18.703Z"
   },
   {
    "duration": 225,
    "start_time": "2021-08-03T21:57:18.727Z"
   },
   {
    "duration": 18,
    "start_time": "2021-08-03T21:57:18.956Z"
   },
   {
    "duration": 19,
    "start_time": "2021-08-03T21:57:18.977Z"
   },
   {
    "duration": 10,
    "start_time": "2021-08-03T21:57:18.999Z"
   },
   {
    "duration": 48,
    "start_time": "2021-08-03T21:57:19.012Z"
   },
   {
    "duration": 191,
    "start_time": "2021-08-03T21:58:00.632Z"
   },
   {
    "duration": 17,
    "start_time": "2021-08-03T21:58:07.796Z"
   },
   {
    "duration": 187,
    "start_time": "2021-08-03T21:58:29.669Z"
   },
   {
    "duration": 10,
    "start_time": "2021-08-03T21:58:41.887Z"
   },
   {
    "duration": 1152,
    "start_time": "2021-08-03T22:00:04.983Z"
   },
   {
    "duration": 56,
    "start_time": "2021-08-03T22:00:06.137Z"
   },
   {
    "duration": 21,
    "start_time": "2021-08-03T22:00:06.196Z"
   },
   {
    "duration": 17,
    "start_time": "2021-08-03T22:00:06.220Z"
   },
   {
    "duration": 25,
    "start_time": "2021-08-03T22:00:06.239Z"
   },
   {
    "duration": 20,
    "start_time": "2021-08-03T22:00:06.267Z"
   },
   {
    "duration": 14,
    "start_time": "2021-08-03T22:00:06.290Z"
   },
   {
    "duration": 239,
    "start_time": "2021-08-03T22:00:06.308Z"
   },
   {
    "duration": 20,
    "start_time": "2021-08-03T22:00:06.550Z"
   },
   {
    "duration": 21,
    "start_time": "2021-08-03T22:00:06.573Z"
   },
   {
    "duration": 26,
    "start_time": "2021-08-03T22:00:06.596Z"
   },
   {
    "duration": 55,
    "start_time": "2021-08-03T22:00:06.625Z"
   },
   {
    "duration": 434,
    "start_time": "2021-08-03T22:02:35.202Z"
   },
   {
    "duration": 32,
    "start_time": "2021-08-03T22:02:45.152Z"
   },
   {
    "duration": 941,
    "start_time": "2021-08-03T22:04:23.221Z"
   },
   {
    "duration": 327,
    "start_time": "2021-08-03T22:05:23.215Z"
   },
   {
    "duration": 448,
    "start_time": "2021-08-03T22:05:39.726Z"
   },
   {
    "duration": 403,
    "start_time": "2021-08-03T22:06:03.709Z"
   },
   {
    "duration": 1373,
    "start_time": "2021-08-03T22:14:39.247Z"
   },
   {
    "duration": 357,
    "start_time": "2021-08-03T22:14:53.188Z"
   },
   {
    "duration": 424,
    "start_time": "2021-08-03T22:18:00.792Z"
   },
   {
    "duration": 350,
    "start_time": "2021-08-03T22:18:28.794Z"
   },
   {
    "duration": 126,
    "start_time": "2021-08-03T22:18:50.203Z"
   },
   {
    "duration": 32,
    "start_time": "2021-08-03T22:18:57.125Z"
   },
   {
    "duration": 30,
    "start_time": "2021-08-03T22:19:49.038Z"
   },
   {
    "duration": 1083,
    "start_time": "2021-08-03T22:20:28.798Z"
   },
   {
    "duration": 51,
    "start_time": "2021-08-03T22:20:29.884Z"
   },
   {
    "duration": 22,
    "start_time": "2021-08-03T22:20:29.938Z"
   },
   {
    "duration": 13,
    "start_time": "2021-08-03T22:20:29.962Z"
   },
   {
    "duration": 12,
    "start_time": "2021-08-03T22:20:29.978Z"
   },
   {
    "duration": 21,
    "start_time": "2021-08-03T22:20:29.993Z"
   },
   {
    "duration": 52,
    "start_time": "2021-08-03T22:20:30.016Z"
   },
   {
    "duration": 233,
    "start_time": "2021-08-03T22:20:30.073Z"
   },
   {
    "duration": 21,
    "start_time": "2021-08-03T22:20:30.309Z"
   },
   {
    "duration": 38,
    "start_time": "2021-08-03T22:20:30.333Z"
   },
   {
    "duration": 27,
    "start_time": "2021-08-03T22:20:30.373Z"
   },
   {
    "duration": 32,
    "start_time": "2021-08-03T22:20:30.402Z"
   },
   {
    "duration": 47,
    "start_time": "2021-08-03T22:20:30.436Z"
   },
   {
    "duration": 193,
    "start_time": "2021-08-03T22:21:24.205Z"
   },
   {
    "duration": 14,
    "start_time": "2021-08-03T22:21:29.935Z"
   },
   {
    "duration": 14,
    "start_time": "2021-08-03T22:21:32.955Z"
   },
   {
    "duration": 1122,
    "start_time": "2021-08-03T22:21:38.166Z"
   },
   {
    "duration": 53,
    "start_time": "2021-08-03T22:21:39.290Z"
   },
   {
    "duration": 23,
    "start_time": "2021-08-03T22:21:39.348Z"
   },
   {
    "duration": 20,
    "start_time": "2021-08-03T22:21:39.373Z"
   },
   {
    "duration": 22,
    "start_time": "2021-08-03T22:21:39.395Z"
   },
   {
    "duration": 18,
    "start_time": "2021-08-03T22:21:39.419Z"
   },
   {
    "duration": 22,
    "start_time": "2021-08-03T22:21:39.439Z"
   },
   {
    "duration": 230,
    "start_time": "2021-08-03T22:21:39.464Z"
   },
   {
    "duration": 18,
    "start_time": "2021-08-03T22:21:39.696Z"
   },
   {
    "duration": 40,
    "start_time": "2021-08-03T22:21:39.717Z"
   },
   {
    "duration": 18,
    "start_time": "2021-08-03T22:21:39.760Z"
   },
   {
    "duration": 20,
    "start_time": "2021-08-03T22:21:39.781Z"
   },
   {
    "duration": 53,
    "start_time": "2021-08-03T22:21:39.803Z"
   },
   {
    "duration": 27,
    "start_time": "2021-08-03T22:56:25.509Z"
   },
   {
    "duration": 29,
    "start_time": "2021-08-03T22:56:36.253Z"
   },
   {
    "duration": 28,
    "start_time": "2021-08-03T22:56:42.654Z"
   },
   {
    "duration": 26,
    "start_time": "2021-08-03T22:56:48.170Z"
   },
   {
    "duration": 34,
    "start_time": "2021-08-03T22:56:51.461Z"
   },
   {
    "duration": 1143,
    "start_time": "2021-08-03T22:56:59.769Z"
   },
   {
    "duration": 54,
    "start_time": "2021-08-03T22:57:00.914Z"
   },
   {
    "duration": 20,
    "start_time": "2021-08-03T22:57:00.970Z"
   },
   {
    "duration": 22,
    "start_time": "2021-08-03T22:57:00.993Z"
   },
   {
    "duration": 26,
    "start_time": "2021-08-03T22:57:01.017Z"
   },
   {
    "duration": 28,
    "start_time": "2021-08-03T22:57:01.045Z"
   },
   {
    "duration": 23,
    "start_time": "2021-08-03T22:57:01.075Z"
   },
   {
    "duration": 220,
    "start_time": "2021-08-03T22:57:01.102Z"
   },
   {
    "duration": 19,
    "start_time": "2021-08-03T22:57:01.324Z"
   },
   {
    "duration": 25,
    "start_time": "2021-08-03T22:57:01.355Z"
   },
   {
    "duration": 33,
    "start_time": "2021-08-03T22:57:01.383Z"
   },
   {
    "duration": 31,
    "start_time": "2021-08-03T22:57:01.418Z"
   },
   {
    "duration": 42,
    "start_time": "2021-08-03T22:57:01.451Z"
   },
   {
    "duration": 376,
    "start_time": "2021-08-03T23:33:40.210Z"
   },
   {
    "duration": 466,
    "start_time": "2021-08-03T23:33:44.697Z"
   },
   {
    "duration": 396,
    "start_time": "2021-08-03T23:36:23.855Z"
   },
   {
    "duration": 390,
    "start_time": "2021-08-03T23:37:24.512Z"
   },
   {
    "duration": 382,
    "start_time": "2021-08-03T23:38:00.548Z"
   },
   {
    "duration": 13,
    "start_time": "2021-08-03T23:38:13.263Z"
   },
   {
    "duration": 338,
    "start_time": "2021-08-03T23:48:41.114Z"
   },
   {
    "duration": 17,
    "start_time": "2021-08-03T23:49:14.153Z"
   },
   {
    "duration": 16,
    "start_time": "2021-08-03T23:49:24.843Z"
   },
   {
    "duration": 16,
    "start_time": "2021-08-03T23:55:43.660Z"
   },
   {
    "duration": 15,
    "start_time": "2021-08-03T23:55:47.501Z"
   },
   {
    "duration": 367,
    "start_time": "2021-08-03T23:56:04.209Z"
   },
   {
    "duration": 14,
    "start_time": "2021-08-03T23:57:17.605Z"
   },
   {
    "duration": 13,
    "start_time": "2021-08-03T23:59:33.703Z"
   },
   {
    "duration": 392,
    "start_time": "2021-08-04T00:00:04.159Z"
   },
   {
    "duration": 18,
    "start_time": "2021-08-04T00:00:56.580Z"
   },
   {
    "duration": 25,
    "start_time": "2021-08-04T00:07:26.160Z"
   },
   {
    "duration": 20,
    "start_time": "2021-08-04T00:07:28.568Z"
   },
   {
    "duration": 20,
    "start_time": "2021-08-04T00:07:37.939Z"
   },
   {
    "duration": 686,
    "start_time": "2021-08-04T00:14:15.652Z"
   },
   {
    "duration": 673,
    "start_time": "2021-08-04T00:14:47.364Z"
   },
   {
    "duration": 478,
    "start_time": "2021-08-04T00:16:06.379Z"
   },
   {
    "duration": 202,
    "start_time": "2021-08-04T00:18:42.985Z"
   },
   {
    "duration": 19,
    "start_time": "2021-08-04T00:19:00.923Z"
   },
   {
    "duration": 18,
    "start_time": "2021-08-04T00:19:02.735Z"
   },
   {
    "duration": 18,
    "start_time": "2021-08-04T00:19:03.837Z"
   },
   {
    "duration": 201,
    "start_time": "2021-08-04T00:19:57.242Z"
   },
   {
    "duration": 18,
    "start_time": "2021-08-04T00:20:04.680Z"
   },
   {
    "duration": 210,
    "start_time": "2021-08-04T00:20:32.936Z"
   },
   {
    "duration": 19,
    "start_time": "2021-08-04T00:20:38.170Z"
   },
   {
    "duration": 455,
    "start_time": "2021-08-04T00:23:43.346Z"
   },
   {
    "duration": 440,
    "start_time": "2021-08-04T00:25:39.428Z"
   },
   {
    "duration": 1701,
    "start_time": "2021-08-04T00:25:56.855Z"
   },
   {
    "duration": 113,
    "start_time": "2021-08-04T00:27:52.624Z"
   },
   {
    "duration": 468,
    "start_time": "2021-08-04T00:28:03.784Z"
   },
   {
    "duration": 205,
    "start_time": "2021-08-04T00:28:10.751Z"
   },
   {
    "duration": 18,
    "start_time": "2021-08-04T00:28:19.089Z"
   },
   {
    "duration": 18,
    "start_time": "2021-08-04T00:28:21.370Z"
   },
   {
    "duration": 9,
    "start_time": "2021-08-04T00:28:27.403Z"
   },
   {
    "duration": 18,
    "start_time": "2021-08-04T00:28:39.534Z"
   },
   {
    "duration": 19,
    "start_time": "2021-08-04T00:29:29.808Z"
   },
   {
    "duration": 396,
    "start_time": "2021-08-04T00:30:09.429Z"
   },
   {
    "duration": 20,
    "start_time": "2021-08-04T00:30:20.041Z"
   },
   {
    "duration": 198,
    "start_time": "2021-08-04T00:31:01.834Z"
   },
   {
    "duration": 1116,
    "start_time": "2021-08-04T00:31:07.547Z"
   },
   {
    "duration": 50,
    "start_time": "2021-08-04T00:31:08.665Z"
   },
   {
    "duration": 21,
    "start_time": "2021-08-04T00:31:08.717Z"
   },
   {
    "duration": 12,
    "start_time": "2021-08-04T00:31:08.756Z"
   },
   {
    "duration": 13,
    "start_time": "2021-08-04T00:31:08.770Z"
   },
   {
    "duration": 14,
    "start_time": "2021-08-04T00:31:08.786Z"
   },
   {
    "duration": 14,
    "start_time": "2021-08-04T00:31:08.803Z"
   },
   {
    "duration": 250,
    "start_time": "2021-08-04T00:31:08.820Z"
   },
   {
    "duration": 18,
    "start_time": "2021-08-04T00:31:09.073Z"
   },
   {
    "duration": 21,
    "start_time": "2021-08-04T00:31:09.093Z"
   },
   {
    "duration": 43,
    "start_time": "2021-08-04T00:31:09.116Z"
   },
   {
    "duration": 15,
    "start_time": "2021-08-04T00:31:09.161Z"
   },
   {
    "duration": 461,
    "start_time": "2021-08-04T00:31:09.178Z"
   },
   {
    "duration": 408,
    "start_time": "2021-08-04T00:32:05.048Z"
   },
   {
    "duration": 367,
    "start_time": "2021-08-04T00:32:15.216Z"
   },
   {
    "duration": 343,
    "start_time": "2021-08-04T00:32:43.869Z"
   },
   {
    "duration": 18,
    "start_time": "2021-08-04T00:33:22.561Z"
   },
   {
    "duration": 355,
    "start_time": "2021-08-04T00:33:33.196Z"
   },
   {
    "duration": 359,
    "start_time": "2021-08-04T00:33:44.593Z"
   },
   {
    "duration": 1438,
    "start_time": "2021-08-04T00:34:01.603Z"
   },
   {
    "duration": 20,
    "start_time": "2021-08-04T00:34:13.515Z"
   },
   {
    "duration": 369,
    "start_time": "2021-08-04T00:36:58.854Z"
   },
   {
    "duration": 1084,
    "start_time": "2021-08-04T00:37:12.868Z"
   },
   {
    "duration": 51,
    "start_time": "2021-08-04T00:37:13.955Z"
   },
   {
    "duration": 19,
    "start_time": "2021-08-04T00:37:14.009Z"
   },
   {
    "duration": 32,
    "start_time": "2021-08-04T00:37:14.031Z"
   },
   {
    "duration": 20,
    "start_time": "2021-08-04T00:37:14.066Z"
   },
   {
    "duration": 20,
    "start_time": "2021-08-04T00:37:14.089Z"
   },
   {
    "duration": 14,
    "start_time": "2021-08-04T00:37:14.111Z"
   },
   {
    "duration": 228,
    "start_time": "2021-08-04T00:37:14.128Z"
   },
   {
    "duration": 19,
    "start_time": "2021-08-04T00:37:14.358Z"
   },
   {
    "duration": 22,
    "start_time": "2021-08-04T00:37:14.379Z"
   },
   {
    "duration": 27,
    "start_time": "2021-08-04T00:37:14.403Z"
   },
   {
    "duration": 424,
    "start_time": "2021-08-04T00:37:14.432Z"
   },
   {
    "duration": 235,
    "start_time": "2021-08-04T00:37:14.624Z"
   },
   {
    "duration": 362,
    "start_time": "2021-08-04T00:37:41.156Z"
   },
   {
    "duration": 374,
    "start_time": "2021-08-04T00:37:44.477Z"
   },
   {
    "duration": 1088,
    "start_time": "2021-08-04T00:37:58.083Z"
   },
   {
    "duration": 51,
    "start_time": "2021-08-04T00:37:59.174Z"
   },
   {
    "duration": 20,
    "start_time": "2021-08-04T00:37:59.227Z"
   },
   {
    "duration": 12,
    "start_time": "2021-08-04T00:37:59.256Z"
   },
   {
    "duration": 13,
    "start_time": "2021-08-04T00:37:59.270Z"
   },
   {
    "duration": 16,
    "start_time": "2021-08-04T00:37:59.285Z"
   },
   {
    "duration": 13,
    "start_time": "2021-08-04T00:37:59.303Z"
   },
   {
    "duration": 223,
    "start_time": "2021-08-04T00:37:59.355Z"
   },
   {
    "duration": 20,
    "start_time": "2021-08-04T00:37:59.581Z"
   },
   {
    "duration": 22,
    "start_time": "2021-08-04T00:37:59.603Z"
   },
   {
    "duration": 38,
    "start_time": "2021-08-04T00:37:59.628Z"
   },
   {
    "duration": 14,
    "start_time": "2021-08-04T00:37:59.668Z"
   },
   {
    "duration": 448,
    "start_time": "2021-08-04T00:37:59.684Z"
   },
   {
    "duration": 341,
    "start_time": "2021-08-04T00:39:37.506Z"
   },
   {
    "duration": 1103,
    "start_time": "2021-08-04T00:39:54.465Z"
   },
   {
    "duration": 50,
    "start_time": "2021-08-04T00:39:55.571Z"
   },
   {
    "duration": 20,
    "start_time": "2021-08-04T00:39:55.624Z"
   },
   {
    "duration": 25,
    "start_time": "2021-08-04T00:39:55.646Z"
   },
   {
    "duration": 11,
    "start_time": "2021-08-04T00:39:55.674Z"
   },
   {
    "duration": 21,
    "start_time": "2021-08-04T00:39:55.687Z"
   },
   {
    "duration": 56,
    "start_time": "2021-08-04T00:39:55.710Z"
   },
   {
    "duration": 221,
    "start_time": "2021-08-04T00:39:55.771Z"
   },
   {
    "duration": 18,
    "start_time": "2021-08-04T00:39:55.995Z"
   },
   {
    "duration": 40,
    "start_time": "2021-08-04T00:39:56.016Z"
   },
   {
    "duration": 412,
    "start_time": "2021-08-04T00:39:56.058Z"
   },
   {
    "duration": 241,
    "start_time": "2021-08-04T00:39:56.232Z"
   },
   {
    "duration": 243,
    "start_time": "2021-08-04T00:39:56.232Z"
   },
   {
    "duration": 375,
    "start_time": "2021-08-04T00:40:10.943Z"
   },
   {
    "duration": 15,
    "start_time": "2021-08-04T00:40:48.916Z"
   },
   {
    "duration": 382,
    "start_time": "2021-08-04T00:40:55.968Z"
   },
   {
    "duration": 1082,
    "start_time": "2021-08-04T00:41:03.901Z"
   },
   {
    "duration": 56,
    "start_time": "2021-08-04T00:41:04.986Z"
   },
   {
    "duration": 21,
    "start_time": "2021-08-04T00:41:05.045Z"
   },
   {
    "duration": 23,
    "start_time": "2021-08-04T00:41:05.069Z"
   },
   {
    "duration": 19,
    "start_time": "2021-08-04T00:41:05.094Z"
   },
   {
    "duration": 26,
    "start_time": "2021-08-04T00:41:05.115Z"
   },
   {
    "duration": 27,
    "start_time": "2021-08-04T00:41:05.143Z"
   },
   {
    "duration": 223,
    "start_time": "2021-08-04T00:41:05.174Z"
   },
   {
    "duration": 19,
    "start_time": "2021-08-04T00:41:05.400Z"
   },
   {
    "duration": 36,
    "start_time": "2021-08-04T00:41:05.421Z"
   },
   {
    "duration": 23,
    "start_time": "2021-08-04T00:41:05.460Z"
   },
   {
    "duration": 19,
    "start_time": "2021-08-04T00:41:05.485Z"
   },
   {
    "duration": 424,
    "start_time": "2021-08-04T00:41:05.507Z"
   },
   {
    "duration": 372,
    "start_time": "2021-08-04T00:41:36.383Z"
   },
   {
    "duration": 55,
    "start_time": "2021-08-04T00:43:48.288Z"
   },
   {
    "duration": 10,
    "start_time": "2021-08-04T00:45:19.806Z"
   },
   {
    "duration": 36,
    "start_time": "2021-08-04T00:45:22.395Z"
   },
   {
    "duration": 36,
    "start_time": "2021-08-04T00:45:29.943Z"
   },
   {
    "duration": 36,
    "start_time": "2021-08-04T00:45:41.715Z"
   },
   {
    "duration": 1075,
    "start_time": "2021-08-04T00:46:03.701Z"
   },
   {
    "duration": 53,
    "start_time": "2021-08-04T00:46:04.778Z"
   },
   {
    "duration": 26,
    "start_time": "2021-08-04T00:46:04.834Z"
   },
   {
    "duration": 11,
    "start_time": "2021-08-04T00:46:04.863Z"
   },
   {
    "duration": 13,
    "start_time": "2021-08-04T00:46:04.877Z"
   },
   {
    "duration": 15,
    "start_time": "2021-08-04T00:46:04.892Z"
   },
   {
    "duration": 11,
    "start_time": "2021-08-04T00:46:04.909Z"
   },
   {
    "duration": 228,
    "start_time": "2021-08-04T00:46:04.958Z"
   },
   {
    "duration": 20,
    "start_time": "2021-08-04T00:46:05.189Z"
   },
   {
    "duration": 21,
    "start_time": "2021-08-04T00:46:05.211Z"
   },
   {
    "duration": 36,
    "start_time": "2021-08-04T00:46:05.235Z"
   },
   {
    "duration": 16,
    "start_time": "2021-08-04T00:46:05.274Z"
   },
   {
    "duration": 90,
    "start_time": "2021-08-04T00:46:05.292Z"
   },
   {
    "duration": 35,
    "start_time": "2021-08-04T00:46:05.385Z"
   },
   {
    "duration": 675,
    "start_time": "2021-08-04T00:55:19.119Z"
   },
   {
    "duration": 345,
    "start_time": "2021-08-04T00:55:28.655Z"
   },
   {
    "duration": 349,
    "start_time": "2021-08-04T00:55:39.744Z"
   },
   {
    "duration": 14,
    "start_time": "2021-08-04T00:56:55.632Z"
   },
   {
    "duration": 34,
    "start_time": "2021-08-04T00:57:00.155Z"
   },
   {
    "duration": 6,
    "start_time": "2021-08-04T00:57:06.497Z"
   },
   {
    "duration": 395,
    "start_time": "2021-08-04T01:10:57.161Z"
   },
   {
    "duration": 53,
    "start_time": "2021-08-04T01:11:08.477Z"
   },
   {
    "duration": 8516,
    "start_time": "2021-08-04T01:22:25.268Z"
   },
   {
    "duration": 13,
    "start_time": "2021-08-04T01:22:59.514Z"
   },
   {
    "duration": 397,
    "start_time": "2021-08-04T01:23:09.314Z"
   },
   {
    "duration": 365,
    "start_time": "2021-08-04T01:23:27.259Z"
   },
   {
    "duration": 37,
    "start_time": "2021-08-04T01:23:51.366Z"
   },
   {
    "duration": 12,
    "start_time": "2021-08-04T01:24:13.124Z"
   },
   {
    "duration": 1135,
    "start_time": "2021-08-04T01:24:21.538Z"
   },
   {
    "duration": 49,
    "start_time": "2021-08-04T01:24:22.676Z"
   },
   {
    "duration": 19,
    "start_time": "2021-08-04T01:24:22.728Z"
   },
   {
    "duration": 16,
    "start_time": "2021-08-04T01:24:22.750Z"
   },
   {
    "duration": 12,
    "start_time": "2021-08-04T01:24:22.768Z"
   },
   {
    "duration": 16,
    "start_time": "2021-08-04T01:24:22.782Z"
   },
   {
    "duration": 14,
    "start_time": "2021-08-04T01:24:22.800Z"
   },
   {
    "duration": 240,
    "start_time": "2021-08-04T01:24:22.817Z"
   },
   {
    "duration": 18,
    "start_time": "2021-08-04T01:24:23.060Z"
   },
   {
    "duration": 25,
    "start_time": "2021-08-04T01:24:23.080Z"
   },
   {
    "duration": 24,
    "start_time": "2021-08-04T01:24:23.107Z"
   },
   {
    "duration": 28,
    "start_time": "2021-08-04T01:24:23.133Z"
   },
   {
    "duration": 68,
    "start_time": "2021-08-04T01:24:23.163Z"
   },
   {
    "duration": 51,
    "start_time": "2021-08-04T01:24:23.233Z"
   },
   {
    "duration": 13,
    "start_time": "2021-08-04T01:24:23.287Z"
   },
   {
    "duration": 75,
    "start_time": "2021-08-04T01:24:23.302Z"
   },
   {
    "duration": 37,
    "start_time": "2021-08-04T01:24:30.373Z"
   },
   {
    "duration": 3845,
    "start_time": "2021-08-04T01:24:45.955Z"
   },
   {
    "duration": 3886,
    "start_time": "2021-08-04T01:25:59.852Z"
   },
   {
    "duration": 4435,
    "start_time": "2021-08-04T01:43:59.778Z"
   },
   {
    "duration": 4078,
    "start_time": "2021-08-04T01:44:07.094Z"
   },
   {
    "duration": 23,
    "start_time": "2021-08-04T01:50:32.550Z"
   },
   {
    "duration": 23,
    "start_time": "2021-08-04T01:50:36.647Z"
   },
   {
    "duration": 19,
    "start_time": "2021-08-04T01:50:45.883Z"
   },
   {
    "duration": 138,
    "start_time": "2021-08-04T01:54:41.651Z"
   },
   {
    "duration": 356,
    "start_time": "2021-08-04T01:54:45.863Z"
   },
   {
    "duration": 340,
    "start_time": "2021-08-04T02:01:12.647Z"
   },
   {
    "duration": 57,
    "start_time": "2021-08-04T02:01:20.486Z"
   },
   {
    "duration": 178,
    "start_time": "2021-08-04T02:04:42.566Z"
   },
   {
    "duration": 126,
    "start_time": "2021-08-04T02:05:44.396Z"
   },
   {
    "duration": 759,
    "start_time": "2021-08-04T02:06:11.059Z"
   },
   {
    "duration": 686,
    "start_time": "2021-08-04T02:06:24.350Z"
   },
   {
    "duration": 2264,
    "start_time": "2021-08-04T02:06:48.038Z"
   },
   {
    "duration": 666,
    "start_time": "2021-08-04T02:07:06.147Z"
   },
   {
    "duration": 1160,
    "start_time": "2021-08-04T02:07:30.617Z"
   },
   {
    "duration": 720,
    "start_time": "2021-08-04T02:07:59.829Z"
   },
   {
    "duration": 1095,
    "start_time": "2021-08-04T02:08:52.663Z"
   },
   {
    "duration": 51,
    "start_time": "2021-08-04T02:08:53.760Z"
   },
   {
    "duration": 19,
    "start_time": "2021-08-04T02:08:53.813Z"
   },
   {
    "duration": 11,
    "start_time": "2021-08-04T02:08:53.856Z"
   },
   {
    "duration": 15,
    "start_time": "2021-08-04T02:08:53.869Z"
   },
   {
    "duration": 19,
    "start_time": "2021-08-04T02:08:53.886Z"
   },
   {
    "duration": 13,
    "start_time": "2021-08-04T02:08:53.907Z"
   },
   {
    "duration": 245,
    "start_time": "2021-08-04T02:08:53.924Z"
   },
   {
    "duration": 19,
    "start_time": "2021-08-04T02:08:54.172Z"
   },
   {
    "duration": 22,
    "start_time": "2021-08-04T02:08:54.193Z"
   },
   {
    "duration": 44,
    "start_time": "2021-08-04T02:08:54.217Z"
   },
   {
    "duration": 14,
    "start_time": "2021-08-04T02:08:54.264Z"
   },
   {
    "duration": 76,
    "start_time": "2021-08-04T02:08:54.281Z"
   },
   {
    "duration": 36,
    "start_time": "2021-08-04T02:08:54.359Z"
   },
   {
    "duration": 13,
    "start_time": "2021-08-04T02:08:54.398Z"
   },
   {
    "duration": 85,
    "start_time": "2021-08-04T02:08:54.413Z"
   },
   {
    "duration": 434,
    "start_time": "2021-08-04T02:08:54.500Z"
   },
   {
    "duration": 676,
    "start_time": "2021-08-04T02:09:10.670Z"
   },
   {
    "duration": 9656,
    "start_time": "2021-08-04T02:09:55.836Z"
   },
   {
    "duration": 231,
    "start_time": "2021-08-04T02:10:32.188Z"
   },
   {
    "duration": 35,
    "start_time": "2021-08-04T02:10:41.525Z"
   },
   {
    "duration": 193,
    "start_time": "2021-08-04T02:11:56.439Z"
   },
   {
    "duration": 31,
    "start_time": "2021-08-04T02:11:59.555Z"
   },
   {
    "duration": 223,
    "start_time": "2021-08-04T02:12:13.653Z"
   },
   {
    "duration": 1397,
    "start_time": "2021-08-05T01:28:50.505Z"
   },
   {
    "duration": 365,
    "start_time": "2021-08-05T01:28:55.670Z"
   },
   {
    "duration": 1237,
    "start_time": "2021-08-05T01:29:07.818Z"
   },
   {
    "duration": 53,
    "start_time": "2021-08-05T01:29:09.058Z"
   },
   {
    "duration": 16,
    "start_time": "2021-08-05T01:29:09.113Z"
   },
   {
    "duration": 14,
    "start_time": "2021-08-05T01:29:09.155Z"
   },
   {
    "duration": 16,
    "start_time": "2021-08-05T01:29:09.173Z"
   },
   {
    "duration": 18,
    "start_time": "2021-08-05T01:29:09.192Z"
   },
   {
    "duration": 45,
    "start_time": "2021-08-05T01:29:09.213Z"
   },
   {
    "duration": 245,
    "start_time": "2021-08-05T01:29:09.261Z"
   },
   {
    "duration": 19,
    "start_time": "2021-08-05T01:29:09.509Z"
   },
   {
    "duration": 38,
    "start_time": "2021-08-05T01:29:09.530Z"
   },
   {
    "duration": 19,
    "start_time": "2021-08-05T01:29:09.571Z"
   },
   {
    "duration": 15,
    "start_time": "2021-08-05T01:29:09.592Z"
   },
   {
    "duration": 97,
    "start_time": "2021-08-05T01:29:09.609Z"
   },
   {
    "duration": 52,
    "start_time": "2021-08-05T01:29:09.709Z"
   },
   {
    "duration": 12,
    "start_time": "2021-08-05T01:29:09.763Z"
   },
   {
    "duration": 56,
    "start_time": "2021-08-05T01:29:09.778Z"
   },
   {
    "duration": 248,
    "start_time": "2021-08-05T01:29:09.855Z"
   },
   {
    "duration": 392,
    "start_time": "2021-08-05T01:29:10.106Z"
   },
   {
    "duration": 366,
    "start_time": "2021-08-05T01:29:48.285Z"
   },
   {
    "duration": 382,
    "start_time": "2021-08-05T01:29:59.612Z"
   },
   {
    "duration": 437,
    "start_time": "2021-08-05T01:30:10.611Z"
   },
   {
    "duration": 540,
    "start_time": "2021-08-05T01:30:17.945Z"
   },
   {
    "duration": 527,
    "start_time": "2021-08-05T01:33:50.665Z"
   },
   {
    "duration": 384,
    "start_time": "2021-08-05T01:36:00.497Z"
   },
   {
    "duration": 409,
    "start_time": "2021-08-05T01:36:08.798Z"
   },
   {
    "duration": 383,
    "start_time": "2021-08-05T01:36:19.955Z"
   },
   {
    "duration": 380,
    "start_time": "2021-08-05T01:36:27.813Z"
   },
   {
    "duration": 397,
    "start_time": "2021-08-05T01:36:36.330Z"
   },
   {
    "duration": 357,
    "start_time": "2021-08-05T01:36:55.604Z"
   },
   {
    "duration": 262,
    "start_time": "2021-08-05T01:38:08.057Z"
   },
   {
    "duration": 376,
    "start_time": "2021-08-05T01:38:15.381Z"
   },
   {
    "duration": 434,
    "start_time": "2021-08-05T01:39:05.796Z"
   },
   {
    "duration": 364,
    "start_time": "2021-08-05T01:39:12.685Z"
   },
   {
    "duration": 405,
    "start_time": "2021-08-05T01:39:26.435Z"
   },
   {
    "duration": 374,
    "start_time": "2021-08-05T01:39:37.097Z"
   },
   {
    "duration": 375,
    "start_time": "2021-08-05T01:39:43.258Z"
   },
   {
    "duration": 386,
    "start_time": "2021-08-05T01:39:53.181Z"
   },
   {
    "duration": 293,
    "start_time": "2021-08-05T01:42:10.630Z"
   },
   {
    "duration": 30,
    "start_time": "2021-08-05T01:42:21.621Z"
   },
   {
    "duration": 265,
    "start_time": "2021-08-05T02:45:56.662Z"
   },
   {
    "duration": 933,
    "start_time": "2021-08-05T02:46:18.982Z"
   },
   {
    "duration": 6929,
    "start_time": "2021-08-05T02:46:23.913Z"
   },
   {
    "duration": 16,
    "start_time": "2021-08-05T02:46:46.561Z"
   },
   {
    "duration": 13,
    "start_time": "2021-08-05T02:51:25.370Z"
   },
   {
    "duration": 15,
    "start_time": "2021-08-05T03:14:08.809Z"
   },
   {
    "duration": 310,
    "start_time": "2021-08-05T03:15:08.835Z"
   },
   {
    "duration": 20,
    "start_time": "2021-08-05T03:17:47.033Z"
   },
   {
    "duration": 22,
    "start_time": "2021-08-05T03:18:00.553Z"
   },
   {
    "duration": 18,
    "start_time": "2021-08-05T03:18:06.402Z"
   },
   {
    "duration": 4500,
    "start_time": "2021-08-05T03:20:59.742Z"
   },
   {
    "duration": 278,
    "start_time": "2021-08-05T03:22:21.683Z"
   },
   {
    "duration": 21,
    "start_time": "2021-08-05T03:23:36.460Z"
   },
   {
    "duration": 18,
    "start_time": "2021-08-05T03:23:56.797Z"
   },
   {
    "duration": 18,
    "start_time": "2021-08-05T03:24:09.114Z"
   },
   {
    "duration": 19,
    "start_time": "2021-08-05T03:24:22.207Z"
   },
   {
    "duration": 14,
    "start_time": "2021-08-05T03:24:35.050Z"
   },
   {
    "duration": 12,
    "start_time": "2021-08-05T03:25:18.818Z"
   },
   {
    "duration": 12,
    "start_time": "2021-08-05T03:25:25.343Z"
   },
   {
    "duration": 12,
    "start_time": "2021-08-05T03:25:35.073Z"
   },
   {
    "duration": 12,
    "start_time": "2021-08-05T03:25:39.878Z"
   },
   {
    "duration": 211,
    "start_time": "2021-08-05T03:26:16.439Z"
   },
   {
    "duration": 213,
    "start_time": "2021-08-05T03:26:26.193Z"
   },
   {
    "duration": 4891,
    "start_time": "2021-08-05T03:29:29.421Z"
   },
   {
    "duration": 4755,
    "start_time": "2021-08-05T03:29:47.168Z"
   },
   {
    "duration": 1055,
    "start_time": "2021-08-05T03:30:42.667Z"
   },
   {
    "duration": 1539,
    "start_time": "2021-08-05T03:31:41.863Z"
   },
   {
    "duration": 15,
    "start_time": "2021-08-05T03:32:02.718Z"
   },
   {
    "duration": 14,
    "start_time": "2021-08-05T03:32:09.343Z"
   },
   {
    "duration": 1798,
    "start_time": "2021-08-05T03:32:14.879Z"
   },
   {
    "duration": 55,
    "start_time": "2021-08-05T03:32:16.680Z"
   },
   {
    "duration": 16,
    "start_time": "2021-08-05T03:32:16.738Z"
   },
   {
    "duration": 16,
    "start_time": "2021-08-05T03:32:16.756Z"
   },
   {
    "duration": 10,
    "start_time": "2021-08-05T03:32:16.775Z"
   },
   {
    "duration": 23,
    "start_time": "2021-08-05T03:32:16.788Z"
   },
   {
    "duration": 43,
    "start_time": "2021-08-05T03:32:16.813Z"
   },
   {
    "duration": 231,
    "start_time": "2021-08-05T03:32:16.862Z"
   },
   {
    "duration": 21,
    "start_time": "2021-08-05T03:32:17.097Z"
   },
   {
    "duration": 48,
    "start_time": "2021-08-05T03:32:17.121Z"
   },
   {
    "duration": 20,
    "start_time": "2021-08-05T03:32:17.172Z"
   },
   {
    "duration": 20,
    "start_time": "2021-08-05T03:32:17.194Z"
   },
   {
    "duration": 82,
    "start_time": "2021-08-05T03:32:17.216Z"
   },
   {
    "duration": 54,
    "start_time": "2021-08-05T03:32:17.300Z"
   },
   {
    "duration": 14,
    "start_time": "2021-08-05T03:32:17.356Z"
   },
   {
    "duration": 64,
    "start_time": "2021-08-05T03:32:17.372Z"
   },
   {
    "duration": 236,
    "start_time": "2021-08-05T03:32:17.455Z"
   },
   {
    "duration": 16,
    "start_time": "2021-08-05T03:32:17.694Z"
   },
   {
    "duration": 404,
    "start_time": "2021-08-05T03:32:17.712Z"
   },
   {
    "duration": 408,
    "start_time": "2021-08-05T03:32:18.118Z"
   },
   {
    "duration": 407,
    "start_time": "2021-08-05T03:32:18.528Z"
   },
   {
    "duration": 37,
    "start_time": "2021-08-05T03:32:18.938Z"
   },
   {
    "duration": 11,
    "start_time": "2021-08-05T03:32:18.979Z"
   },
   {
    "duration": 14,
    "start_time": "2021-08-05T03:32:18.992Z"
   },
   {
    "duration": 14,
    "start_time": "2021-08-05T03:38:55.190Z"
   },
   {
    "duration": 1158,
    "start_time": "2021-08-05T03:54:57.805Z"
   },
   {
    "duration": 1116,
    "start_time": "2021-08-05T04:29:05.293Z"
   },
   {
    "duration": 15,
    "start_time": "2021-08-05T04:29:26.657Z"
   },
   {
    "duration": 25,
    "start_time": "2021-08-05T04:31:30.804Z"
   },
   {
    "duration": 421,
    "start_time": "2021-08-05T20:29:18.309Z"
   },
   {
    "duration": 150,
    "start_time": "2021-08-05T20:29:30.628Z"
   },
   {
    "duration": 422,
    "start_time": "2021-08-05T20:29:55.448Z"
   },
   {
    "duration": 1906,
    "start_time": "2021-08-05T20:30:09.569Z"
   },
   {
    "duration": 57,
    "start_time": "2021-08-05T20:30:11.477Z"
   },
   {
    "duration": 17,
    "start_time": "2021-08-05T20:30:11.537Z"
   },
   {
    "duration": 35,
    "start_time": "2021-08-05T20:30:11.557Z"
   },
   {
    "duration": 17,
    "start_time": "2021-08-05T20:30:11.595Z"
   },
   {
    "duration": 17,
    "start_time": "2021-08-05T20:30:11.614Z"
   },
   {
    "duration": 21,
    "start_time": "2021-08-05T20:30:11.634Z"
   },
   {
    "duration": 267,
    "start_time": "2021-08-05T20:30:11.659Z"
   },
   {
    "duration": 18,
    "start_time": "2021-08-05T20:30:11.929Z"
   },
   {
    "duration": 37,
    "start_time": "2021-08-05T20:30:11.950Z"
   },
   {
    "duration": 21,
    "start_time": "2021-08-05T20:30:11.989Z"
   },
   {
    "duration": 25,
    "start_time": "2021-08-05T20:30:12.012Z"
   },
   {
    "duration": 85,
    "start_time": "2021-08-05T20:30:12.040Z"
   },
   {
    "duration": 37,
    "start_time": "2021-08-05T20:30:12.127Z"
   },
   {
    "duration": 13,
    "start_time": "2021-08-05T20:30:12.186Z"
   },
   {
    "duration": 70,
    "start_time": "2021-08-05T20:30:12.201Z"
   },
   {
    "duration": 256,
    "start_time": "2021-08-05T20:30:12.274Z"
   },
   {
    "duration": 14,
    "start_time": "2021-08-05T20:30:12.532Z"
   },
   {
    "duration": 413,
    "start_time": "2021-08-05T20:30:12.548Z"
   },
   {
    "duration": 424,
    "start_time": "2021-08-05T20:30:12.964Z"
   },
   {
    "duration": 406,
    "start_time": "2021-08-05T20:30:13.391Z"
   },
   {
    "duration": 30,
    "start_time": "2021-08-05T20:30:13.799Z"
   },
   {
    "duration": 14,
    "start_time": "2021-08-05T20:30:13.833Z"
   },
   {
    "duration": 9659,
    "start_time": "2021-08-05T20:30:13.850Z"
   },
   {
    "duration": 13,
    "start_time": "2021-08-05T20:30:28.776Z"
   },
   {
    "duration": 19,
    "start_time": "2021-08-05T20:39:39.982Z"
   },
   {
    "duration": -2149,
    "start_time": "2021-08-05T20:41:53.968Z"
   },
   {
    "duration": -2260,
    "start_time": "2021-08-05T20:42:05.169Z"
   },
   {
    "duration": 14,
    "start_time": "2021-08-05T20:42:04.093Z"
   },
   {
    "duration": 13,
    "start_time": "2021-08-05T20:43:51.155Z"
   },
   {
    "duration": 9725,
    "start_time": "2021-08-05T20:46:37.422Z"
   },
   {
    "duration": 17,
    "start_time": "2021-08-05T20:46:48.303Z"
   },
   {
    "duration": 16,
    "start_time": "2021-08-05T20:46:57.325Z"
   },
   {
    "duration": 143,
    "start_time": "2021-08-07T20:28:53.774Z"
   },
   {
    "duration": 315,
    "start_time": "2021-08-11T23:32:00.909Z"
   }
  ],
  "kernelspec": {
   "display_name": "Python 3 (ipykernel)",
   "language": "python",
   "name": "python3"
  },
  "language_info": {
   "codemirror_mode": {
    "name": "ipython",
    "version": 3
   },
   "file_extension": ".py",
   "mimetype": "text/x-python",
   "name": "python",
   "nbconvert_exporter": "python",
   "pygments_lexer": "ipython3",
   "version": "3.9.5"
  },
  "toc": {
   "base_numbering": 1,
   "nav_menu": {},
   "number_sections": true,
   "sideBar": true,
   "skip_h1_title": true,
   "title_cell": "Table of Contents",
   "title_sidebar": "Contents",
   "toc_cell": false,
   "toc_position": {},
   "toc_section_display": true,
   "toc_window_display": false
  }
 },
 "nbformat": 4,
 "nbformat_minor": 2
}
