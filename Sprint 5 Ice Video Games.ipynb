{
 "cells": [
  {
   "cell_type": "markdown",
   "metadata": {},
   "source": [
    "# Ice Video Games"
   ]
  },
  {
   "cell_type": "markdown",
   "metadata": {},
   "source": [
    "I work for the online store Ice, which sells video games all over the world. I need to identify patterns that determine whether a game succeeds or not to spot potential big winners and plan advertising campaigns."
   ]
  },
  {
   "cell_type": "markdown",
   "metadata": {},
   "source": [
    "## Overview"
   ]
  },
  {
   "cell_type": "code",
   "execution_count": 1,
   "metadata": {},
   "outputs": [],
   "source": [
    "import pandas as pd\n",
    "import numpy as np\n",
    "import matplotlib.pyplot as plt\n",
    "from scipy import stats as st\n",
    "import seaborn as sns\n",
    "\n",
    "from matplotlib.axes._axes import _log as matplotlib_axes_logger\n",
    "matplotlib_axes_logger.setLevel('ERROR')\n",
    "\n",
    "try:\n",
    "    df = pd.read_csv('/datasets/games.csv')\n",
    "except:\n",
    "    df = pd.read_csv('/games.csv')"
   ]
  },
  {
   "cell_type": "markdown",
   "metadata": {},
   "source": [
    "    \n",
    "<div class=\"alert alert-block alert-success\">\n",
    "    <h2>Reviewer's commentary <a class=\"tocSkip\"> </h2>\n",
    "    <br/>\n",
    "<b>Well done!👍:</b> \n",
    "      \n",
    "A big plus for using `try-except`, good job!"
   ]
  },
  {
   "cell_type": "code",
   "execution_count": 2,
   "metadata": {},
   "outputs": [
    {
     "name": "stdout",
     "output_type": "stream",
     "text": [
      "<class 'pandas.core.frame.DataFrame'>\n",
      "RangeIndex: 16715 entries, 0 to 16714\n",
      "Data columns (total 11 columns):\n",
      "Name               16713 non-null object\n",
      "Platform           16715 non-null object\n",
      "Year_of_Release    16446 non-null float64\n",
      "Genre              16713 non-null object\n",
      "NA_sales           16715 non-null float64\n",
      "EU_sales           16715 non-null float64\n",
      "JP_sales           16715 non-null float64\n",
      "Other_sales        16715 non-null float64\n",
      "Critic_Score       8137 non-null float64\n",
      "User_Score         10014 non-null object\n",
      "Rating             9949 non-null object\n",
      "dtypes: float64(6), object(5)\n",
      "memory usage: 1.4+ MB\n"
     ]
    }
   ],
   "source": [
    "df.info()"
   ]
  },
  {
   "cell_type": "code",
   "execution_count": 3,
   "metadata": {},
   "outputs": [
    {
     "data": {
      "text/html": [
       "<div>\n",
       "<style scoped>\n",
       "    .dataframe tbody tr th:only-of-type {\n",
       "        vertical-align: middle;\n",
       "    }\n",
       "\n",
       "    .dataframe tbody tr th {\n",
       "        vertical-align: top;\n",
       "    }\n",
       "\n",
       "    .dataframe thead th {\n",
       "        text-align: right;\n",
       "    }\n",
       "</style>\n",
       "<table border=\"1\" class=\"dataframe\">\n",
       "  <thead>\n",
       "    <tr style=\"text-align: right;\">\n",
       "      <th></th>\n",
       "      <th>Name</th>\n",
       "      <th>Platform</th>\n",
       "      <th>Year_of_Release</th>\n",
       "      <th>Genre</th>\n",
       "      <th>NA_sales</th>\n",
       "      <th>EU_sales</th>\n",
       "      <th>JP_sales</th>\n",
       "      <th>Other_sales</th>\n",
       "      <th>Critic_Score</th>\n",
       "      <th>User_Score</th>\n",
       "      <th>Rating</th>\n",
       "    </tr>\n",
       "  </thead>\n",
       "  <tbody>\n",
       "    <tr>\n",
       "      <td>0</td>\n",
       "      <td>Wii Sports</td>\n",
       "      <td>Wii</td>\n",
       "      <td>2006.0</td>\n",
       "      <td>Sports</td>\n",
       "      <td>41.36</td>\n",
       "      <td>28.96</td>\n",
       "      <td>3.77</td>\n",
       "      <td>8.45</td>\n",
       "      <td>76.0</td>\n",
       "      <td>8</td>\n",
       "      <td>E</td>\n",
       "    </tr>\n",
       "    <tr>\n",
       "      <td>1</td>\n",
       "      <td>Super Mario Bros.</td>\n",
       "      <td>NES</td>\n",
       "      <td>1985.0</td>\n",
       "      <td>Platform</td>\n",
       "      <td>29.08</td>\n",
       "      <td>3.58</td>\n",
       "      <td>6.81</td>\n",
       "      <td>0.77</td>\n",
       "      <td>NaN</td>\n",
       "      <td>NaN</td>\n",
       "      <td>NaN</td>\n",
       "    </tr>\n",
       "    <tr>\n",
       "      <td>2</td>\n",
       "      <td>Mario Kart Wii</td>\n",
       "      <td>Wii</td>\n",
       "      <td>2008.0</td>\n",
       "      <td>Racing</td>\n",
       "      <td>15.68</td>\n",
       "      <td>12.76</td>\n",
       "      <td>3.79</td>\n",
       "      <td>3.29</td>\n",
       "      <td>82.0</td>\n",
       "      <td>8.3</td>\n",
       "      <td>E</td>\n",
       "    </tr>\n",
       "    <tr>\n",
       "      <td>3</td>\n",
       "      <td>Wii Sports Resort</td>\n",
       "      <td>Wii</td>\n",
       "      <td>2009.0</td>\n",
       "      <td>Sports</td>\n",
       "      <td>15.61</td>\n",
       "      <td>10.93</td>\n",
       "      <td>3.28</td>\n",
       "      <td>2.95</td>\n",
       "      <td>80.0</td>\n",
       "      <td>8</td>\n",
       "      <td>E</td>\n",
       "    </tr>\n",
       "    <tr>\n",
       "      <td>4</td>\n",
       "      <td>Pokemon Red/Pokemon Blue</td>\n",
       "      <td>GB</td>\n",
       "      <td>1996.0</td>\n",
       "      <td>Role-Playing</td>\n",
       "      <td>11.27</td>\n",
       "      <td>8.89</td>\n",
       "      <td>10.22</td>\n",
       "      <td>1.00</td>\n",
       "      <td>NaN</td>\n",
       "      <td>NaN</td>\n",
       "      <td>NaN</td>\n",
       "    </tr>\n",
       "  </tbody>\n",
       "</table>\n",
       "</div>"
      ],
      "text/plain": [
       "                       Name Platform  Year_of_Release         Genre  NA_sales  \\\n",
       "0                Wii Sports      Wii           2006.0        Sports     41.36   \n",
       "1         Super Mario Bros.      NES           1985.0      Platform     29.08   \n",
       "2            Mario Kart Wii      Wii           2008.0        Racing     15.68   \n",
       "3         Wii Sports Resort      Wii           2009.0        Sports     15.61   \n",
       "4  Pokemon Red/Pokemon Blue       GB           1996.0  Role-Playing     11.27   \n",
       "\n",
       "   EU_sales  JP_sales  Other_sales  Critic_Score User_Score Rating  \n",
       "0     28.96      3.77         8.45          76.0          8      E  \n",
       "1      3.58      6.81         0.77           NaN        NaN    NaN  \n",
       "2     12.76      3.79         3.29          82.0        8.3      E  \n",
       "3     10.93      3.28         2.95          80.0          8      E  \n",
       "4      8.89     10.22         1.00           NaN        NaN    NaN  "
      ]
     },
     "execution_count": 3,
     "metadata": {},
     "output_type": "execute_result"
    }
   ],
   "source": [
    "df.head()"
   ]
  },
  {
   "cell_type": "markdown",
   "metadata": {},
   "source": [
    "### Conclusion"
   ]
  },
  {
   "cell_type": "markdown",
   "metadata": {},
   "source": [
    "Year of Release will need to be converted to an int and it seems there's a big amount of NaN's here. User score needs to be a float."
   ]
  },
  {
   "cell_type": "markdown",
   "metadata": {},
   "source": [
    "## Data Reprocessing"
   ]
  },
  {
   "cell_type": "code",
   "execution_count": 4,
   "metadata": {},
   "outputs": [],
   "source": [
    "# Lowercase all column titles\n",
    "df.columns = df.columns.str.lower()\n",
    "\n",
    "# Convert float year into integer\n",
    "df['year_of_release'] = df['year_of_release'].astype('Int64')\n",
    "\n",
    "# Convert 'tbd' in user score to NaN\n",
    "df.loc[df['user_score'] == 'tbd'] = np.nan\n",
    "\n",
    "# Convert user score to float\n",
    "df['user_score'] = df['user_score'].astype(float)"
   ]
  },
  {
   "cell_type": "code",
   "execution_count": 5,
   "metadata": {},
   "outputs": [
    {
     "data": {
      "text/html": [
       "<div>\n",
       "<style scoped>\n",
       "    .dataframe tbody tr th:only-of-type {\n",
       "        vertical-align: middle;\n",
       "    }\n",
       "\n",
       "    .dataframe tbody tr th {\n",
       "        vertical-align: top;\n",
       "    }\n",
       "\n",
       "    .dataframe thead th {\n",
       "        text-align: right;\n",
       "    }\n",
       "</style>\n",
       "<table border=\"1\" class=\"dataframe\">\n",
       "  <thead>\n",
       "    <tr style=\"text-align: right;\">\n",
       "      <th></th>\n",
       "      <th>name</th>\n",
       "      <th>platform</th>\n",
       "      <th>year_of_release</th>\n",
       "      <th>genre</th>\n",
       "      <th>na_sales</th>\n",
       "      <th>eu_sales</th>\n",
       "      <th>jp_sales</th>\n",
       "      <th>other_sales</th>\n",
       "      <th>critic_score</th>\n",
       "      <th>user_score</th>\n",
       "      <th>rating</th>\n",
       "    </tr>\n",
       "  </thead>\n",
       "  <tbody>\n",
       "    <tr>\n",
       "      <td>0</td>\n",
       "      <td>Wii Sports</td>\n",
       "      <td>Wii</td>\n",
       "      <td>2006</td>\n",
       "      <td>Sports</td>\n",
       "      <td>41.36</td>\n",
       "      <td>28.96</td>\n",
       "      <td>3.77</td>\n",
       "      <td>8.45</td>\n",
       "      <td>76.0</td>\n",
       "      <td>8.0</td>\n",
       "      <td>E</td>\n",
       "    </tr>\n",
       "    <tr>\n",
       "      <td>1</td>\n",
       "      <td>Super Mario Bros.</td>\n",
       "      <td>NES</td>\n",
       "      <td>1985</td>\n",
       "      <td>Platform</td>\n",
       "      <td>29.08</td>\n",
       "      <td>3.58</td>\n",
       "      <td>6.81</td>\n",
       "      <td>0.77</td>\n",
       "      <td>NaN</td>\n",
       "      <td>NaN</td>\n",
       "      <td>NaN</td>\n",
       "    </tr>\n",
       "    <tr>\n",
       "      <td>2</td>\n",
       "      <td>Mario Kart Wii</td>\n",
       "      <td>Wii</td>\n",
       "      <td>2008</td>\n",
       "      <td>Racing</td>\n",
       "      <td>15.68</td>\n",
       "      <td>12.76</td>\n",
       "      <td>3.79</td>\n",
       "      <td>3.29</td>\n",
       "      <td>82.0</td>\n",
       "      <td>8.3</td>\n",
       "      <td>E</td>\n",
       "    </tr>\n",
       "    <tr>\n",
       "      <td>3</td>\n",
       "      <td>Wii Sports Resort</td>\n",
       "      <td>Wii</td>\n",
       "      <td>2009</td>\n",
       "      <td>Sports</td>\n",
       "      <td>15.61</td>\n",
       "      <td>10.93</td>\n",
       "      <td>3.28</td>\n",
       "      <td>2.95</td>\n",
       "      <td>80.0</td>\n",
       "      <td>8.0</td>\n",
       "      <td>E</td>\n",
       "    </tr>\n",
       "    <tr>\n",
       "      <td>4</td>\n",
       "      <td>Pokemon Red/Pokemon Blue</td>\n",
       "      <td>GB</td>\n",
       "      <td>1996</td>\n",
       "      <td>Role-Playing</td>\n",
       "      <td>11.27</td>\n",
       "      <td>8.89</td>\n",
       "      <td>10.22</td>\n",
       "      <td>1.00</td>\n",
       "      <td>NaN</td>\n",
       "      <td>NaN</td>\n",
       "      <td>NaN</td>\n",
       "    </tr>\n",
       "    <tr>\n",
       "      <td>...</td>\n",
       "      <td>...</td>\n",
       "      <td>...</td>\n",
       "      <td>...</td>\n",
       "      <td>...</td>\n",
       "      <td>...</td>\n",
       "      <td>...</td>\n",
       "      <td>...</td>\n",
       "      <td>...</td>\n",
       "      <td>...</td>\n",
       "      <td>...</td>\n",
       "      <td>...</td>\n",
       "    </tr>\n",
       "    <tr>\n",
       "      <td>16710</td>\n",
       "      <td>Samurai Warriors: Sanada Maru</td>\n",
       "      <td>PS3</td>\n",
       "      <td>2016</td>\n",
       "      <td>Action</td>\n",
       "      <td>0.00</td>\n",
       "      <td>0.00</td>\n",
       "      <td>0.01</td>\n",
       "      <td>0.00</td>\n",
       "      <td>NaN</td>\n",
       "      <td>NaN</td>\n",
       "      <td>NaN</td>\n",
       "    </tr>\n",
       "    <tr>\n",
       "      <td>16711</td>\n",
       "      <td>LMA Manager 2007</td>\n",
       "      <td>X360</td>\n",
       "      <td>2006</td>\n",
       "      <td>Sports</td>\n",
       "      <td>0.00</td>\n",
       "      <td>0.01</td>\n",
       "      <td>0.00</td>\n",
       "      <td>0.00</td>\n",
       "      <td>NaN</td>\n",
       "      <td>NaN</td>\n",
       "      <td>NaN</td>\n",
       "    </tr>\n",
       "    <tr>\n",
       "      <td>16712</td>\n",
       "      <td>Haitaka no Psychedelica</td>\n",
       "      <td>PSV</td>\n",
       "      <td>2016</td>\n",
       "      <td>Adventure</td>\n",
       "      <td>0.00</td>\n",
       "      <td>0.00</td>\n",
       "      <td>0.01</td>\n",
       "      <td>0.00</td>\n",
       "      <td>NaN</td>\n",
       "      <td>NaN</td>\n",
       "      <td>NaN</td>\n",
       "    </tr>\n",
       "    <tr>\n",
       "      <td>16713</td>\n",
       "      <td>Spirits &amp; Spells</td>\n",
       "      <td>GBA</td>\n",
       "      <td>2003</td>\n",
       "      <td>Platform</td>\n",
       "      <td>0.01</td>\n",
       "      <td>0.00</td>\n",
       "      <td>0.00</td>\n",
       "      <td>0.00</td>\n",
       "      <td>NaN</td>\n",
       "      <td>NaN</td>\n",
       "      <td>NaN</td>\n",
       "    </tr>\n",
       "    <tr>\n",
       "      <td>16714</td>\n",
       "      <td>Winning Post 8 2016</td>\n",
       "      <td>PSV</td>\n",
       "      <td>2016</td>\n",
       "      <td>Simulation</td>\n",
       "      <td>0.00</td>\n",
       "      <td>0.00</td>\n",
       "      <td>0.01</td>\n",
       "      <td>0.00</td>\n",
       "      <td>NaN</td>\n",
       "      <td>NaN</td>\n",
       "      <td>NaN</td>\n",
       "    </tr>\n",
       "  </tbody>\n",
       "</table>\n",
       "<p>16715 rows × 11 columns</p>\n",
       "</div>"
      ],
      "text/plain": [
       "                                name platform  year_of_release         genre  \\\n",
       "0                         Wii Sports      Wii             2006        Sports   \n",
       "1                  Super Mario Bros.      NES             1985      Platform   \n",
       "2                     Mario Kart Wii      Wii             2008        Racing   \n",
       "3                  Wii Sports Resort      Wii             2009        Sports   \n",
       "4           Pokemon Red/Pokemon Blue       GB             1996  Role-Playing   \n",
       "...                              ...      ...              ...           ...   \n",
       "16710  Samurai Warriors: Sanada Maru      PS3             2016        Action   \n",
       "16711               LMA Manager 2007     X360             2006        Sports   \n",
       "16712        Haitaka no Psychedelica      PSV             2016     Adventure   \n",
       "16713               Spirits & Spells      GBA             2003      Platform   \n",
       "16714            Winning Post 8 2016      PSV             2016    Simulation   \n",
       "\n",
       "       na_sales  eu_sales  jp_sales  other_sales  critic_score  user_score  \\\n",
       "0         41.36     28.96      3.77         8.45          76.0         8.0   \n",
       "1         29.08      3.58      6.81         0.77           NaN         NaN   \n",
       "2         15.68     12.76      3.79         3.29          82.0         8.3   \n",
       "3         15.61     10.93      3.28         2.95          80.0         8.0   \n",
       "4         11.27      8.89     10.22         1.00           NaN         NaN   \n",
       "...         ...       ...       ...          ...           ...         ...   \n",
       "16710      0.00      0.00      0.01         0.00           NaN         NaN   \n",
       "16711      0.00      0.01      0.00         0.00           NaN         NaN   \n",
       "16712      0.00      0.00      0.01         0.00           NaN         NaN   \n",
       "16713      0.01      0.00      0.00         0.00           NaN         NaN   \n",
       "16714      0.00      0.00      0.01         0.00           NaN         NaN   \n",
       "\n",
       "      rating  \n",
       "0          E  \n",
       "1        NaN  \n",
       "2          E  \n",
       "3          E  \n",
       "4        NaN  \n",
       "...      ...  \n",
       "16710    NaN  \n",
       "16711    NaN  \n",
       "16712    NaN  \n",
       "16713    NaN  \n",
       "16714    NaN  \n",
       "\n",
       "[16715 rows x 11 columns]"
      ]
     },
     "execution_count": 5,
     "metadata": {},
     "output_type": "execute_result"
    }
   ],
   "source": [
    "df"
   ]
  },
  {
   "cell_type": "code",
   "execution_count": 6,
   "metadata": {},
   "outputs": [],
   "source": [
    "# New columns for total sales\n",
    "df['all_sales'] = df[['na_sales', 'eu_sales', 'jp_sales', 'other_sales']].sum(axis=1)\n",
    "\n",
    "# There wasn't any duplicate rows"
   ]
  },
  {
   "cell_type": "code",
   "execution_count": 7,
   "metadata": {},
   "outputs": [
    {
     "data": {
      "text/plain": [
       "name               14.513910\n",
       "platform           14.501944\n",
       "year_of_release    15.824110\n",
       "genre              14.513910\n",
       "na_sales           14.501944\n",
       "eu_sales           14.501944\n",
       "jp_sales           14.501944\n",
       "other_sales        14.501944\n",
       "critic_score       57.792402\n",
       "user_score         54.591684\n",
       "rating             54.681424\n",
       "all_sales           0.000000\n",
       "dtype: float64"
      ]
     },
     "execution_count": 7,
     "metadata": {},
     "output_type": "execute_result"
    }
   ],
   "source": [
    "df.isna().mean() * 100"
   ]
  },
  {
   "cell_type": "markdown",
   "metadata": {},
   "source": [
    "<div class=\"alert alert-block alert-warning\">\n",
    "   <h2>Reviewer's commentary <a class=\"tocSkip\"> </h2>\n",
    "    <br/>\n",
    "<b>Remarks and recommendations📌:</b>  \n",
    "    \n",
    "Ok, Tyler,  it is important to analyse the percentage of missing values in columns, for example, like this:\n",
    "    \n",
    "`data.isna().sum()*100/len(data)`\n",
    "       \n",
    "`data.isna().mean() * 100`\n",
    "\n",
    "Or like this:\n",
    "    \n",
    "`report = data.isna().sum().to_frame()\n",
    "report = report.rename(columns = {0: 'missing_values'})\n",
    "report['% of total'] = (report['missing_values'] / data.shape[0]).round(2)\n",
    "report.sort_values(by = 'missing_values', ascending = False)`"
   ]
  },
  {
   "cell_type": "markdown",
   "metadata": {},
   "source": [
    "<div class=\"alert alert-block alert-success\">\n",
    "    <h2>Reviewer's commentary: second iteration of the review <a class=\"tocSkip\"> </h2>\n",
    "    <br/>\n",
    "<b>Well done!👍:</b> \n",
    "        \n",
    "Ok, Tyler, it is great that you tried to check the percentage of missing values per column, good job!"
   ]
  },
  {
   "cell_type": "code",
   "execution_count": 8,
   "metadata": {},
   "outputs": [],
   "source": [
    "# Filter out platforms with less than 200 games\n",
    "df = df.groupby('platform').filter(lambda x: len(x) > 200)\n",
    "df = df.reset_index(drop=True)"
   ]
  },
  {
   "cell_type": "markdown",
   "metadata": {},
   "source": [
    "### Conclusion"
   ]
  },
  {
   "cell_type": "markdown",
   "metadata": {},
   "source": [
    "The dataframe shows a lot of 0.00 values and NaN values, however it would be better if these are left as-is as the 0's indicate a failing game's profit and the NaN's do not affect our calculations. The reason for NaN's may be that some such as critic score, user score, and rating are perhaps normal in the US, EU, and Japan may not be the case outside of these countries and as such the games that have NaN values for those columns are games made outside of those countries. I also filtered out platforms will very small values."
   ]
  },
  {
   "cell_type": "markdown",
   "metadata": {},
   "source": [
    "There are also NaNs for the game names, I will leave these as it may still contribute to our overall findings, same with the rest of the data. Ultimately it doesn't seem to be an issue."
   ]
  },
  {
   "cell_type": "markdown",
   "metadata": {},
   "source": [
    "<div class=\"alert alert-block alert-success\">\n",
    "    <h2>Reviewer's commentary<a class=\"tocSkip\"> </h2>\n",
    "    <br/>\n",
    "<b>Well done!👍:</b>\n",
    "        \n",
    "Ok, Tyler, what you did absolutely correct at the step of the preprocessing of the data:\n",
    "        \n",
    "1) the data types are changed correctly\n",
    "        \n",
    "2) you correctly preprocessed the `tbd` value, keep it up!\n",
    "        \n",
    "3) also I agree with your strategy of preprocessing missing values in columns `critic_score` and `user_score`.  In fact, we do not know why the data in these columns is missing (we can only hypothesize as you did), and we do not have access to a source that would allow us to replenish the data, restore it, so it is better leave missing values in the data and simply replace them with indicators. Missing values are also some kind of signal worth paying attention to and analyzing, it is valuable in its own way! The analyst's goal when working with missing values is not about filling the 100% of missing values! When filling missing values, it is important to proceed from the specifics of the data, take into account the risks of data distortion and the introduction of artificial trends and characteristics."
   ]
  },
  {
   "cell_type": "markdown",
   "metadata": {},
   "source": [
    "<div class=\"alert alert-block alert-warning\">\n",
    "   <h2>Reviewer's commentary<a class=\"tocSkip\"> </h2>\n",
    "    <br/>\n",
    "<b>Remarks and recommendations📌:</b> \n",
    "    \n",
    "\n",
    "For rating it is better to replace NaN values in the column `rating` with `unknown`as marker because, again, if we try to fill in missing values in this column in other ways we face the risk of distortion of the original data. What is more important is that at the next steps of the analysis we need to analyse the rating by the region, and at this step it is better to analyse the games without rating!\n"
   ]
  },
  {
   "cell_type": "markdown",
   "metadata": {},
   "source": [
    "<font color='Purple'>Student's commentary:</font> **I was planning on not filling in the NaN values, so I don't see how it wo** <a class=\"tocSkip\">"
   ]
  },
  {
   "cell_type": "markdown",
   "metadata": {},
   "source": [
    "<div class=\"alert alert-block alert-success\">\n",
    "    <h2>Reviewer's commentary: second iteration of the review <a class=\"tocSkip\"> </h2>\n",
    "    <br/>\n",
    "<b>Well done!👍:</b> \n",
    "        \n",
    "Ok, I understand your point of view, but it seems to me that in case of rating it is better to marker the NaN values with default marker value and include it in the analysis."
   ]
  },
  {
   "cell_type": "markdown",
   "metadata": {},
   "source": [
    "## Analyze"
   ]
  },
  {
   "cell_type": "code",
   "execution_count": 9,
   "metadata": {},
   "outputs": [
    {
     "data": {
      "image/png": "[encoded data removed]",
      "text/plain": [
       "<Figure size 720x360 with 1 Axes>"
      ]
     },
     "metadata": {
      "needs_background": "light"
     },
     "output_type": "display_data"
    }
   ],
   "source": [
    "count_pvt = df.pivot_table(index='year_of_release', aggfunc='count')\n",
    "count_pvt = count_pvt['all_sales']\n",
    "count_pvt.plot(title='Amount of Games, Yearly', figsize=(10,5))\n",
    "plt.xlabel('Year');\n",
    "plt.ylabel('Games');"
   ]
  },
  {
   "cell_type": "markdown",
   "metadata": {},
   "source": [
    "There is a large rise in games from 1980 to 2008 to where it hits its peak, then rapidly lowers. The reason for this is unclear."
   ]
  },
  {
   "cell_type": "code",
   "execution_count": 10,
   "metadata": {},
   "outputs": [
    {
     "data": {
      "text/plain": [
       "array(['Wii', 'DS', 'X360', 'PS3', 'PS2', 'SNES', 'GBA', 'PS4', '3DS',\n",
       "       'N64', 'PS', 'XB', 'PC', 'PSP', 'XOne', 'GC', 'PSV'], dtype=object)"
      ]
     },
     "execution_count": 10,
     "metadata": {},
     "output_type": "execute_result"
    }
   ],
   "source": [
    "# Listing all platforms\n",
    "df['platform'].unique()"
   ]
  },
  {
   "cell_type": "code",
   "execution_count": 11,
   "metadata": {},
   "outputs": [
    {
     "data": {
      "image/png": "[encoded data removed]",
      "text/plain": [
       "<Figure size 720x360 with 1 Axes>"
      ]
     },
     "metadata": {
      "needs_background": "light"
     },
     "output_type": "display_data"
    }
   ],
   "source": [
    "all_platforms = df.pivot_table(index='year_of_release', values='all_sales', columns='platform', aggfunc='sum').fillna(0).plot(\n",
    "title=\"All Platform's Success\", figsize=(10,5))\n",
    "plt.xlabel('Year');\n",
    "plt.ylabel('Amount of Games');"
   ]
  },
  {
   "cell_type": "markdown",
   "metadata": {},
   "source": [
    "Using the graph above I believe the best time period to predict 2017 games will be the 2012-16 period. New platforms typically rised and died out in a matter of a 5 or 6 years, and new platforms would take rise even while other platforms were at their peak. All platforms of 2016 are sinking in popularity but there are no new platforms taking their place. We may expect to see a new one very soon."
   ]
  },
  {
   "cell_type": "code",
   "execution_count": 12,
   "metadata": {},
   "outputs": [],
   "source": [
    "# Cut out all irrelevant data\n",
    "filtered_df = df[df['year_of_release'] > 2012]\n",
    "filtered_df.reset_index(inplace=True, drop=True)"
   ]
  },
  {
   "cell_type": "markdown",
   "metadata": {},
   "source": [
    "<div class=\"alert alert-block alert-success\">\n",
    "    <h2>Reviewer's commentary<a class=\"tocSkip\"> </h2>\n",
    "    <br/>\n",
    "<b>Well done!👍:</b>\n",
    "        \n",
    "Ok, Tyler, the 2012 can be chosen as the lower border of the current period. If we choose a longer period, it can be a risk of capturing a lagging trend, i.e. we include in the data irrelevant pre-period platforms that should not remain in the data for the predicted period.\n",
    "        \n",
    "I can even recommend to use 2013 or 2014 year as the lower border of the currect period. The year that can be considered as boundary of the current period, can be determined by building histograms for each platform. The histograms will show that games lose relevance within 3-4, maximum 5 years, at the same time the lifespan of the platform is on average about 10 years. The final year of the dataset is 2016, so we subtract 3-4 years from 2017 (as the year for which we buid the prediction) and get a year, which can be considered the boundary of the current period."
   ]
  },
  {
   "cell_type": "code",
   "execution_count": 13,
   "metadata": {},
   "outputs": [
    {
     "data": {
      "text/html": [
       "<div>\n",
       "<style scoped>\n",
       "    .dataframe tbody tr th:only-of-type {\n",
       "        vertical-align: middle;\n",
       "    }\n",
       "\n",
       "    .dataframe tbody tr th {\n",
       "        vertical-align: top;\n",
       "    }\n",
       "\n",
       "    .dataframe thead th {\n",
       "        text-align: right;\n",
       "    }\n",
       "</style>\n",
       "<table border=\"1\" class=\"dataframe\">\n",
       "  <thead>\n",
       "    <tr style=\"text-align: right;\">\n",
       "      <th></th>\n",
       "      <th>all_sales</th>\n",
       "    </tr>\n",
       "    <tr>\n",
       "      <th>platform</th>\n",
       "      <th></th>\n",
       "    </tr>\n",
       "  </thead>\n",
       "  <tbody>\n",
       "    <tr>\n",
       "      <td>DS</td>\n",
       "      <td>0.97</td>\n",
       "    </tr>\n",
       "    <tr>\n",
       "      <td>PSP</td>\n",
       "      <td>3.50</td>\n",
       "    </tr>\n",
       "    <tr>\n",
       "      <td>Wii</td>\n",
       "      <td>10.87</td>\n",
       "    </tr>\n",
       "    <tr>\n",
       "      <td>PSV</td>\n",
       "      <td>32.68</td>\n",
       "    </tr>\n",
       "    <tr>\n",
       "      <td>PC</td>\n",
       "      <td>39.34</td>\n",
       "    </tr>\n",
       "    <tr>\n",
       "      <td>X360</td>\n",
       "      <td>135.43</td>\n",
       "    </tr>\n",
       "    <tr>\n",
       "      <td>3DS</td>\n",
       "      <td>141.70</td>\n",
       "    </tr>\n",
       "    <tr>\n",
       "      <td>XOne</td>\n",
       "      <td>158.77</td>\n",
       "    </tr>\n",
       "    <tr>\n",
       "      <td>PS3</td>\n",
       "      <td>180.10</td>\n",
       "    </tr>\n",
       "    <tr>\n",
       "      <td>PS4</td>\n",
       "      <td>314.00</td>\n",
       "    </tr>\n",
       "  </tbody>\n",
       "</table>\n",
       "</div>"
      ],
      "text/plain": [
       "          all_sales\n",
       "platform           \n",
       "DS             0.97\n",
       "PSP            3.50\n",
       "Wii           10.87\n",
       "PSV           32.68\n",
       "PC            39.34\n",
       "X360         135.43\n",
       "3DS          141.70\n",
       "XOne         158.77\n",
       "PS3          180.10\n",
       "PS4          314.00"
      ]
     },
     "execution_count": 13,
     "metadata": {},
     "output_type": "execute_result"
    }
   ],
   "source": [
    "filtered_df.pivot_table(index='platform', values='all_sales', aggfunc='sum').sort_values('all_sales')"
   ]
  },
  {
   "cell_type": "markdown",
   "metadata": {},
   "source": [
    "Looking at the list above, the PS3, PS4, and XOne are the most profitable platforms right now for our advertising."
   ]
  },
  {
   "cell_type": "code",
   "execution_count": 14,
   "metadata": {},
   "outputs": [
    {
     "data": {
      "image/png": "[encoded data removed]",
      "text/plain": [
       "<Figure size 1080x720 with 1 Axes>"
      ]
     },
     "metadata": {
      "needs_background": "light"
     },
     "output_type": "display_data"
    }
   ],
   "source": [
    "plt.figure(figsize=(15,10))\n",
    "sns.boxplot(x='all_sales', y='platform', data=filtered_df[filtered_df['all_sales'] < 8]);\n",
    "plt.title('Sale range in Millions for each Platform')\n",
    "plt.xlabel('Sales in Millions');\n",
    "plt.ylabel('Platforms');"
   ]
  },
  {
   "cell_type": "markdown",
   "metadata": {},
   "source": [
    "Despite the PS3 and PS4 being clear leaders in terms of profitability, Wii has a much higher average and spread of sale profits but little to no big hit games. Some platforms have much bigger hit games that sway in their favor of the sales total for each platform. The differences between some platforms are very large.\n",
    "\n",
    "I also cut off some of the outliers so the graph would have a lower reach and more clearly show the differences between the botplots."
   ]
  },
  {
   "cell_type": "markdown",
   "metadata": {},
   "source": [
    "<div class=\"alert alert-block alert-warning\">\n",
    "   <h2>Reviewer's commentary <a class=\"tocSkip\"> </h2>\n",
    "    <br/>\n",
    "<b>Remarks and recommendations📌:</b>  \n",
    "       \n",
    "As a whole the logic of your analysis is correct, but at this step of the project you need to build the boxplot for all platforms that are in the current period, not only for potentially profitable."
   ]
  },
  {
   "cell_type": "markdown",
   "metadata": {},
   "source": [
    "<div class=\"alert alert-block alert-success\">\n",
    "    <h2>Reviewer's commentary: second iteration of the review <a class=\"tocSkip\"> </h2>\n",
    "    <br/>\n",
    "<b>Well done!👍:</b> \n",
    "        \n",
    "Ok, good job! Also one tip for appearance of boxplots: you can use argument `showfliers = False` to remove the outliers from your visualization."
   ]
  },
  {
   "cell_type": "code",
   "execution_count": 15,
   "metadata": {},
   "outputs": [
    {
     "data": {
      "image/png": "[encoded data removed]",
      "text/plain": [
       "<Figure size 720x360 with 1 Axes>"
      ]
     },
     "metadata": {
      "needs_background": "light"
     },
     "output_type": "display_data"
    }
   ],
   "source": [
    "rating_df = filtered_df[filtered_df['platform'] == 'PS4']\n",
    "rating_df.plot(x='user_score', y='all_sales', kind='scatter', figsize=(10,5), \n",
    "               title='Correlation between Sales and User Scores');\n",
    "plt.xlabel('User Score');\n",
    "plt.ylabel('Profit in Millions');"
   ]
  },
  {
   "cell_type": "code",
   "execution_count": 16,
   "metadata": {},
   "outputs": [
    {
     "data": {
      "image/png": "[encoded data removed]",
      "text/plain": [
       "<Figure size 720x360 with 1 Axes>"
      ]
     },
     "metadata": {
      "needs_background": "light"
     },
     "output_type": "display_data"
    }
   ],
   "source": [
    "rating_df.plot(x='critic_score', y='all_sales', kind='scatter', figsize=(10,5), \n",
    "               title='Correlation between Sales and Critic Scores');\n",
    "plt.xlabel('Critic Score');\n",
    "plt.ylabel('Profit in Millions');"
   ]
  },
  {
   "cell_type": "code",
   "execution_count": 17,
   "metadata": {},
   "outputs": [
    {
     "name": "stdout",
     "output_type": "stream",
     "text": [
      "The correlation between critic scores and sales: 0.4064685741971657\n",
      "The correlation between user scores and sales: -0.031957110204556424\n"
     ]
    }
   ],
   "source": [
    "print('The correlation between critic scores and sales:', rating_df['critic_score'].corr(rating_df['all_sales']))\n",
    "print('The correlation between user scores and sales:', rating_df['user_score'].corr(rating_df['all_sales']))"
   ]
  },
  {
   "cell_type": "markdown",
   "metadata": {},
   "source": [
    "Looking at the two graphs, critic scores tend to be closer in their reflection of the sales with their reviews. User scores are much more varying and can have a noticable amount of low ratings for high profit games. This may reflect that users buy games even if some parts of it are very unpopular. \n",
    "\n",
    "When it comes to user scores there there is a slight negatively correlation between reviews and sales while there seems to be a good correlation between good critic scores and sales."
   ]
  },
  {
   "cell_type": "markdown",
   "metadata": {},
   "source": [
    "<div class=\"alert alert-block alert-warning\">\n",
    "   <h2>Reviewer's commentary <a class=\"tocSkip\"> </h2>\n",
    "    <br/>\n",
    "<b>Remarks and recommendations📌:</b> \n",
    "\n",
    "If you use the visualization in your project,  it is better to pay more attention to the formatting and appearance of the plots! Please, add the common titles and x and y axis labels to all the graphs in your project! It is important because it makes it easier to understand and read the visualization especially for the external observer who is not immersed in the specifics of your project! Technical strings like `<matplotlib.axes._subplots.AxesSubplot at 0x7f69fa0023d0>` you can delete using `plt.show()` method \n",
    "       \n",
    "A couple of links about how to add x and y axis labels:\n",
    "        \n",
    "https://www.kite.com/python/answers/how-to-add-axis-labels-to-a-plot-in-matplotlib-in-python\n",
    "        \n",
    "https://stackoverflow.com/questions/12444716/how-do-i-set-the-figure-title-and-axes-labels-font-size-in-matplotlib\n",
    "       \n",
    "So, please, try to improve all the plots in your project."
   ]
  },
  {
   "cell_type": "markdown",
   "metadata": {},
   "source": [
    "<div class=\"alert alert-block alert-danger\">\n",
    "    <h2>Reviewer's commentary <a class=\"tocSkip\"> </h2>\n",
    "    <br/>\n",
    "<b>Needs fixing!🤔:</b> \n",
    "        \n",
    "Also apart from building scatter plots you need to calculate the correlation and interpret the results, so, please, try to do it!"
   ]
  },
  {
   "cell_type": "markdown",
   "metadata": {},
   "source": [
    "<div class=\"alert alert-block alert-success\">\n",
    "    <h2>Reviewer's commentary: second iteration of the review <a class=\"tocSkip\"> </h2>\n",
    "    <br/>\n",
    "<b>Well done!👍:</b> \n",
    "        \n",
    "Ok, good job, agree with your improvements!"
   ]
  },
  {
   "cell_type": "code",
   "execution_count": 18,
   "metadata": {},
   "outputs": [
    {
     "data": {
      "image/png": "[encoded data removed]",
      "text/plain": [
       "<Figure size 720x360 with 1 Axes>"
      ]
     },
     "metadata": {
      "needs_background": "light"
     },
     "output_type": "display_data"
    }
   ],
   "source": [
    "top_games = (filtered_df\n",
    " .pivot_table(index='name', values='all_sales', aggfunc='sum')\n",
    " .sort_values('all_sales', ascending=False)).head(10)\n",
    "\n",
    "filtered_df[filtered_df['name'].isin(top_games.index)].pivot_table(values='all_sales', index='name',\n",
    "               columns='platform', aggfunc='sum').plot(kind='bar', figsize=(10,5));\n",
    "plt.xlabel('Games');\n",
    "plt.ylabel('Profit in Millions');"
   ]
  },
  {
   "cell_type": "markdown",
   "metadata": {},
   "source": [
    "Some games preform much better on some platforms than others, while those same platforms that preformed worse can preform better with different games. Overall, PS3, PS4, and Xbox 360 tend to be better sellers across all games. This somewhat fits our earlier findings except for the Xbox 360 being a bigger success than the Xbox One with these 10 games."
   ]
  },
  {
   "cell_type": "code",
   "execution_count": 19,
   "metadata": {},
   "outputs": [
    {
     "data": {
      "text/html": [
       "<div>\n",
       "<style scoped>\n",
       "    .dataframe tbody tr th:only-of-type {\n",
       "        vertical-align: middle;\n",
       "    }\n",
       "\n",
       "    .dataframe tbody tr th {\n",
       "        vertical-align: top;\n",
       "    }\n",
       "\n",
       "    .dataframe thead th {\n",
       "        text-align: right;\n",
       "    }\n",
       "</style>\n",
       "<table border=\"1\" class=\"dataframe\">\n",
       "  <thead>\n",
       "    <tr style=\"text-align: right;\">\n",
       "      <th></th>\n",
       "      <th>all_sales</th>\n",
       "    </tr>\n",
       "    <tr>\n",
       "      <th>genre</th>\n",
       "      <th></th>\n",
       "    </tr>\n",
       "  </thead>\n",
       "  <tbody>\n",
       "    <tr>\n",
       "      <td>Action</td>\n",
       "      <td>303.33</td>\n",
       "    </tr>\n",
       "    <tr>\n",
       "      <td>Shooter</td>\n",
       "      <td>227.23</td>\n",
       "    </tr>\n",
       "    <tr>\n",
       "      <td>Sports</td>\n",
       "      <td>147.75</td>\n",
       "    </tr>\n",
       "    <tr>\n",
       "      <td>Role-Playing</td>\n",
       "      <td>143.96</td>\n",
       "    </tr>\n",
       "    <tr>\n",
       "      <td>Misc</td>\n",
       "      <td>53.74</td>\n",
       "    </tr>\n",
       "    <tr>\n",
       "      <td>Racing</td>\n",
       "      <td>32.28</td>\n",
       "    </tr>\n",
       "    <tr>\n",
       "      <td>Fighting</td>\n",
       "      <td>29.14</td>\n",
       "    </tr>\n",
       "    <tr>\n",
       "      <td>Platform</td>\n",
       "      <td>25.74</td>\n",
       "    </tr>\n",
       "    <tr>\n",
       "      <td>Adventure</td>\n",
       "      <td>22.60</td>\n",
       "    </tr>\n",
       "    <tr>\n",
       "      <td>Simulation</td>\n",
       "      <td>21.00</td>\n",
       "    </tr>\n",
       "    <tr>\n",
       "      <td>Strategy</td>\n",
       "      <td>8.86</td>\n",
       "    </tr>\n",
       "    <tr>\n",
       "      <td>Puzzle</td>\n",
       "      <td>1.73</td>\n",
       "    </tr>\n",
       "  </tbody>\n",
       "</table>\n",
       "</div>"
      ],
      "text/plain": [
       "              all_sales\n",
       "genre                  \n",
       "Action           303.33\n",
       "Shooter          227.23\n",
       "Sports           147.75\n",
       "Role-Playing     143.96\n",
       "Misc              53.74\n",
       "Racing            32.28\n",
       "Fighting          29.14\n",
       "Platform          25.74\n",
       "Adventure         22.60\n",
       "Simulation        21.00\n",
       "Strategy           8.86\n",
       "Puzzle             1.73"
      ]
     },
     "execution_count": 19,
     "metadata": {},
     "output_type": "execute_result"
    }
   ],
   "source": [
    "filtered_df.pivot_table(index='genre', values='all_sales', aggfunc='sum').sort_values('all_sales', ascending=False)"
   ]
  },
  {
   "cell_type": "markdown",
   "metadata": {},
   "source": [
    "Action and Shooter games are the most profitable genres, noticably outpreforming most other categories. Generally speaking, a game made in one or more of the top categories will likely preform much better than games in the lowest ones, especially puzzle games. There's no data to help understand why this may be the case."
   ]
  },
  {
   "cell_type": "markdown",
   "metadata": {},
   "source": [
    "<div class=\"alert alert-block alert-warning\">\n",
    "   <h2>Reviewer's commentary <a class=\"tocSkip\"> </h2>\n",
    "    <br/>\n",
    "<b>Remarks and recommendations📌:</b>  \n",
    "       \n",
    "Also you can try to calculate also the median or mean sales, not only sum, the leader will change!"
   ]
  },
  {
   "cell_type": "markdown",
   "metadata": {},
   "source": [
    "<font color='Purple'>Student's commentary:</font> **I did check the mean/median sales, actually! But I decided that since we're looking for specific games, not genres as a whole, it would be best to focus only on the sum. It would make sense to look at the median if we were to look for which game type a developer should focus on making, but not here, no?** <a class=\"tocSkip\">"
   ]
  },
  {
   "cell_type": "markdown",
   "metadata": {},
   "source": [
    "<div class=\"alert alert-block alert-success\">\n",
    "    <h2>Reviewer's commentary: second iteration of the review <a class=\"tocSkip\"> </h2>\n",
    "    <br/>\n",
    "<b>Well done!👍:</b> \n",
    "        \n",
    "Ok, Tyler, as a whole your logic is correct. But sometimes different statistics/methods etc can provide different results that is why in some cases it is important additionally check such tricky moments. It seems to me that we can look at the median in case of this task too, because we try to evaluate the sales per genre, so, we can look at sum sales, mean or median sales and compare results.😉"
   ]
  },
  {
   "cell_type": "markdown",
   "metadata": {},
   "source": [
    "### Conclusion"
   ]
  },
  {
   "cell_type": "markdown",
   "metadata": {},
   "source": [
    "Using the data we've gathered in this step we would expect the next big games to be on PS3 or PS4, and to be an Action and/or Shooter genre of game. Critic scores may be partially useful for helping determine this."
   ]
  },
  {
   "cell_type": "markdown",
   "metadata": {},
   "source": [
    "## User Profiles by Region"
   ]
  },
  {
   "cell_type": "markdown",
   "metadata": {},
   "source": [
    "### North America"
   ]
  },
  {
   "cell_type": "code",
   "execution_count": 20,
   "metadata": {},
   "outputs": [
    {
     "data": {
      "text/html": [
       "<div>\n",
       "<style scoped>\n",
       "    .dataframe tbody tr th:only-of-type {\n",
       "        vertical-align: middle;\n",
       "    }\n",
       "\n",
       "    .dataframe tbody tr th {\n",
       "        vertical-align: top;\n",
       "    }\n",
       "\n",
       "    .dataframe thead th {\n",
       "        text-align: right;\n",
       "    }\n",
       "</style>\n",
       "<table border=\"1\" class=\"dataframe\">\n",
       "  <thead>\n",
       "    <tr style=\"text-align: right;\">\n",
       "      <th></th>\n",
       "      <th>na_sales</th>\n",
       "    </tr>\n",
       "    <tr>\n",
       "      <th>platform</th>\n",
       "      <th></th>\n",
       "    </tr>\n",
       "  </thead>\n",
       "  <tbody>\n",
       "    <tr>\n",
       "      <td>PSP</td>\n",
       "      <td>0.00</td>\n",
       "    </tr>\n",
       "    <tr>\n",
       "      <td>DS</td>\n",
       "      <td>0.46</td>\n",
       "    </tr>\n",
       "    <tr>\n",
       "      <td>PSV</td>\n",
       "      <td>5.03</td>\n",
       "    </tr>\n",
       "    <tr>\n",
       "      <td>Wii</td>\n",
       "      <td>5.46</td>\n",
       "    </tr>\n",
       "    <tr>\n",
       "      <td>PC</td>\n",
       "      <td>11.11</td>\n",
       "    </tr>\n",
       "    <tr>\n",
       "      <td>3DS</td>\n",
       "      <td>37.71</td>\n",
       "    </tr>\n",
       "    <tr>\n",
       "      <td>PS3</td>\n",
       "      <td>63.27</td>\n",
       "    </tr>\n",
       "    <tr>\n",
       "      <td>X360</td>\n",
       "      <td>80.90</td>\n",
       "    </tr>\n",
       "    <tr>\n",
       "      <td>XOne</td>\n",
       "      <td>92.77</td>\n",
       "    </tr>\n",
       "    <tr>\n",
       "      <td>PS4</td>\n",
       "      <td>108.62</td>\n",
       "    </tr>\n",
       "  </tbody>\n",
       "</table>\n",
       "</div>"
      ],
      "text/plain": [
       "          na_sales\n",
       "platform          \n",
       "PSP           0.00\n",
       "DS            0.46\n",
       "PSV           5.03\n",
       "Wii           5.46\n",
       "PC           11.11\n",
       "3DS          37.71\n",
       "PS3          63.27\n",
       "X360         80.90\n",
       "XOne         92.77\n",
       "PS4         108.62"
      ]
     },
     "execution_count": 20,
     "metadata": {},
     "output_type": "execute_result"
    }
   ],
   "source": [
    "filtered_df.pivot_table(index='platform', values='na_sales', aggfunc='sum').sort_values('na_sales')"
   ]
  },
  {
   "cell_type": "code",
   "execution_count": 21,
   "metadata": {},
   "outputs": [
    {
     "data": {
      "text/html": [
       "<div>\n",
       "<style scoped>\n",
       "    .dataframe tbody tr th:only-of-type {\n",
       "        vertical-align: middle;\n",
       "    }\n",
       "\n",
       "    .dataframe tbody tr th {\n",
       "        vertical-align: top;\n",
       "    }\n",
       "\n",
       "    .dataframe thead th {\n",
       "        text-align: right;\n",
       "    }\n",
       "</style>\n",
       "<table border=\"1\" class=\"dataframe\">\n",
       "  <thead>\n",
       "    <tr style=\"text-align: right;\">\n",
       "      <th></th>\n",
       "      <th>na_sales</th>\n",
       "    </tr>\n",
       "    <tr>\n",
       "      <th>genre</th>\n",
       "      <th></th>\n",
       "    </tr>\n",
       "  </thead>\n",
       "  <tbody>\n",
       "    <tr>\n",
       "      <td>Puzzle</td>\n",
       "      <td>0.15</td>\n",
       "    </tr>\n",
       "    <tr>\n",
       "      <td>Strategy</td>\n",
       "      <td>2.79</td>\n",
       "    </tr>\n",
       "    <tr>\n",
       "      <td>Simulation</td>\n",
       "      <td>4.50</td>\n",
       "    </tr>\n",
       "    <tr>\n",
       "      <td>Adventure</td>\n",
       "      <td>6.79</td>\n",
       "    </tr>\n",
       "    <tr>\n",
       "      <td>Racing</td>\n",
       "      <td>9.59</td>\n",
       "    </tr>\n",
       "    <tr>\n",
       "      <td>Platform</td>\n",
       "      <td>10.36</td>\n",
       "    </tr>\n",
       "    <tr>\n",
       "      <td>Fighting</td>\n",
       "      <td>12.34</td>\n",
       "    </tr>\n",
       "    <tr>\n",
       "      <td>Misc</td>\n",
       "      <td>24.04</td>\n",
       "    </tr>\n",
       "    <tr>\n",
       "      <td>Role-Playing</td>\n",
       "      <td>45.72</td>\n",
       "    </tr>\n",
       "    <tr>\n",
       "      <td>Sports</td>\n",
       "      <td>64.15</td>\n",
       "    </tr>\n",
       "    <tr>\n",
       "      <td>Shooter</td>\n",
       "      <td>107.55</td>\n",
       "    </tr>\n",
       "    <tr>\n",
       "      <td>Action</td>\n",
       "      <td>117.35</td>\n",
       "    </tr>\n",
       "  </tbody>\n",
       "</table>\n",
       "</div>"
      ],
      "text/plain": [
       "              na_sales\n",
       "genre                 \n",
       "Puzzle            0.15\n",
       "Strategy          2.79\n",
       "Simulation        4.50\n",
       "Adventure         6.79\n",
       "Racing            9.59\n",
       "Platform         10.36\n",
       "Fighting         12.34\n",
       "Misc             24.04\n",
       "Role-Playing     45.72\n",
       "Sports           64.15\n",
       "Shooter         107.55\n",
       "Action          117.35"
      ]
     },
     "execution_count": 21,
     "metadata": {},
     "output_type": "execute_result"
    }
   ],
   "source": [
    "filtered_df.pivot_table(index='genre', values='na_sales', aggfunc='sum').sort_values('na_sales')"
   ]
  },
  {
   "cell_type": "code",
   "execution_count": 22,
   "metadata": {},
   "outputs": [
    {
     "data": {
      "text/html": [
       "<div>\n",
       "<style scoped>\n",
       "    .dataframe tbody tr th:only-of-type {\n",
       "        vertical-align: middle;\n",
       "    }\n",
       "\n",
       "    .dataframe tbody tr th {\n",
       "        vertical-align: top;\n",
       "    }\n",
       "\n",
       "    .dataframe thead th {\n",
       "        text-align: right;\n",
       "    }\n",
       "</style>\n",
       "<table border=\"1\" class=\"dataframe\">\n",
       "  <thead>\n",
       "    <tr style=\"text-align: right;\">\n",
       "      <th></th>\n",
       "      <th>na_sales</th>\n",
       "    </tr>\n",
       "    <tr>\n",
       "      <th>rating</th>\n",
       "      <th></th>\n",
       "    </tr>\n",
       "  </thead>\n",
       "  <tbody>\n",
       "    <tr>\n",
       "      <td>E10+</td>\n",
       "      <td>43.69</td>\n",
       "    </tr>\n",
       "    <tr>\n",
       "      <td>T</td>\n",
       "      <td>47.51</td>\n",
       "    </tr>\n",
       "    <tr>\n",
       "      <td>E</td>\n",
       "      <td>66.08</td>\n",
       "    </tr>\n",
       "    <tr>\n",
       "      <td>M</td>\n",
       "      <td>164.14</td>\n",
       "    </tr>\n",
       "  </tbody>\n",
       "</table>\n",
       "</div>"
      ],
      "text/plain": [
       "        na_sales\n",
       "rating          \n",
       "E10+       43.69\n",
       "T          47.51\n",
       "E          66.08\n",
       "M         164.14"
      ]
     },
     "execution_count": 22,
     "metadata": {},
     "output_type": "execute_result"
    }
   ],
   "source": [
    "filtered_df.pivot_table(index='rating', values='na_sales', aggfunc='sum').sort_values('na_sales')"
   ]
  },
  {
   "cell_type": "markdown",
   "metadata": {},
   "source": [
    "### Europe"
   ]
  },
  {
   "cell_type": "code",
   "execution_count": 23,
   "metadata": {},
   "outputs": [
    {
     "data": {
      "text/html": [
       "<div>\n",
       "<style scoped>\n",
       "    .dataframe tbody tr th:only-of-type {\n",
       "        vertical-align: middle;\n",
       "    }\n",
       "\n",
       "    .dataframe tbody tr th {\n",
       "        vertical-align: top;\n",
       "    }\n",
       "\n",
       "    .dataframe thead th {\n",
       "        text-align: right;\n",
       "    }\n",
       "</style>\n",
       "<table border=\"1\" class=\"dataframe\">\n",
       "  <thead>\n",
       "    <tr style=\"text-align: right;\">\n",
       "      <th></th>\n",
       "      <th>eu_sales</th>\n",
       "    </tr>\n",
       "    <tr>\n",
       "      <th>platform</th>\n",
       "      <th></th>\n",
       "    </tr>\n",
       "  </thead>\n",
       "  <tbody>\n",
       "    <tr>\n",
       "      <td>PSP</td>\n",
       "      <td>0.17</td>\n",
       "    </tr>\n",
       "    <tr>\n",
       "      <td>DS</td>\n",
       "      <td>0.43</td>\n",
       "    </tr>\n",
       "    <tr>\n",
       "      <td>Wii</td>\n",
       "      <td>4.46</td>\n",
       "    </tr>\n",
       "    <tr>\n",
       "      <td>PSV</td>\n",
       "      <td>5.95</td>\n",
       "    </tr>\n",
       "    <tr>\n",
       "      <td>PC</td>\n",
       "      <td>25.27</td>\n",
       "    </tr>\n",
       "    <tr>\n",
       "      <td>3DS</td>\n",
       "      <td>30.11</td>\n",
       "    </tr>\n",
       "    <tr>\n",
       "      <td>X360</td>\n",
       "      <td>42.04</td>\n",
       "    </tr>\n",
       "    <tr>\n",
       "      <td>XOne</td>\n",
       "      <td>51.43</td>\n",
       "    </tr>\n",
       "    <tr>\n",
       "      <td>PS3</td>\n",
       "      <td>67.23</td>\n",
       "    </tr>\n",
       "    <tr>\n",
       "      <td>PS4</td>\n",
       "      <td>141.09</td>\n",
       "    </tr>\n",
       "  </tbody>\n",
       "</table>\n",
       "</div>"
      ],
      "text/plain": [
       "          eu_sales\n",
       "platform          \n",
       "PSP           0.17\n",
       "DS            0.43\n",
       "Wii           4.46\n",
       "PSV           5.95\n",
       "PC           25.27\n",
       "3DS          30.11\n",
       "X360         42.04\n",
       "XOne         51.43\n",
       "PS3          67.23\n",
       "PS4         141.09"
      ]
     },
     "execution_count": 23,
     "metadata": {},
     "output_type": "execute_result"
    }
   ],
   "source": [
    "filtered_df.pivot_table(index='platform', values='eu_sales', aggfunc='sum').sort_values('eu_sales')"
   ]
  },
  {
   "cell_type": "code",
   "execution_count": 24,
   "metadata": {},
   "outputs": [
    {
     "data": {
      "text/html": [
       "<div>\n",
       "<style scoped>\n",
       "    .dataframe tbody tr th:only-of-type {\n",
       "        vertical-align: middle;\n",
       "    }\n",
       "\n",
       "    .dataframe tbody tr th {\n",
       "        vertical-align: top;\n",
       "    }\n",
       "\n",
       "    .dataframe thead th {\n",
       "        text-align: right;\n",
       "    }\n",
       "</style>\n",
       "<table border=\"1\" class=\"dataframe\">\n",
       "  <thead>\n",
       "    <tr style=\"text-align: right;\">\n",
       "      <th></th>\n",
       "      <th>eu_sales</th>\n",
       "    </tr>\n",
       "    <tr>\n",
       "      <th>genre</th>\n",
       "      <th></th>\n",
       "    </tr>\n",
       "  </thead>\n",
       "  <tbody>\n",
       "    <tr>\n",
       "      <td>Puzzle</td>\n",
       "      <td>0.57</td>\n",
       "    </tr>\n",
       "    <tr>\n",
       "      <td>Strategy</td>\n",
       "      <td>3.86</td>\n",
       "    </tr>\n",
       "    <tr>\n",
       "      <td>Fighting</td>\n",
       "      <td>7.11</td>\n",
       "    </tr>\n",
       "    <tr>\n",
       "      <td>Adventure</td>\n",
       "      <td>7.66</td>\n",
       "    </tr>\n",
       "    <tr>\n",
       "      <td>Platform</td>\n",
       "      <td>10.15</td>\n",
       "    </tr>\n",
       "    <tr>\n",
       "      <td>Simulation</td>\n",
       "      <td>10.64</td>\n",
       "    </tr>\n",
       "    <tr>\n",
       "      <td>Misc</td>\n",
       "      <td>16.98</td>\n",
       "    </tr>\n",
       "    <tr>\n",
       "      <td>Racing</td>\n",
       "      <td>17.82</td>\n",
       "    </tr>\n",
       "    <tr>\n",
       "      <td>Role-Playing</td>\n",
       "      <td>36.50</td>\n",
       "    </tr>\n",
       "    <tr>\n",
       "      <td>Sports</td>\n",
       "      <td>59.46</td>\n",
       "    </tr>\n",
       "    <tr>\n",
       "      <td>Shooter</td>\n",
       "      <td>86.20</td>\n",
       "    </tr>\n",
       "    <tr>\n",
       "      <td>Action</td>\n",
       "      <td>111.23</td>\n",
       "    </tr>\n",
       "  </tbody>\n",
       "</table>\n",
       "</div>"
      ],
      "text/plain": [
       "              eu_sales\n",
       "genre                 \n",
       "Puzzle            0.57\n",
       "Strategy          3.86\n",
       "Fighting          7.11\n",
       "Adventure         7.66\n",
       "Platform         10.15\n",
       "Simulation       10.64\n",
       "Misc             16.98\n",
       "Racing           17.82\n",
       "Role-Playing     36.50\n",
       "Sports           59.46\n",
       "Shooter          86.20\n",
       "Action          111.23"
      ]
     },
     "execution_count": 24,
     "metadata": {},
     "output_type": "execute_result"
    }
   ],
   "source": [
    "filtered_df.pivot_table(index='genre', values='eu_sales', aggfunc='sum').sort_values('eu_sales')"
   ]
  },
  {
   "cell_type": "code",
   "execution_count": 25,
   "metadata": {},
   "outputs": [
    {
     "data": {
      "text/html": [
       "<div>\n",
       "<style scoped>\n",
       "    .dataframe tbody tr th:only-of-type {\n",
       "        vertical-align: middle;\n",
       "    }\n",
       "\n",
       "    .dataframe tbody tr th {\n",
       "        vertical-align: top;\n",
       "    }\n",
       "\n",
       "    .dataframe thead th {\n",
       "        text-align: right;\n",
       "    }\n",
       "</style>\n",
       "<table border=\"1\" class=\"dataframe\">\n",
       "  <thead>\n",
       "    <tr style=\"text-align: right;\">\n",
       "      <th></th>\n",
       "      <th>eu_sales</th>\n",
       "    </tr>\n",
       "    <tr>\n",
       "      <th>rating</th>\n",
       "      <th></th>\n",
       "    </tr>\n",
       "  </thead>\n",
       "  <tbody>\n",
       "    <tr>\n",
       "      <td>E10+</td>\n",
       "      <td>33.81</td>\n",
       "    </tr>\n",
       "    <tr>\n",
       "      <td>T</td>\n",
       "      <td>40.42</td>\n",
       "    </tr>\n",
       "    <tr>\n",
       "      <td>E</td>\n",
       "      <td>73.75</td>\n",
       "    </tr>\n",
       "    <tr>\n",
       "      <td>M</td>\n",
       "      <td>144.55</td>\n",
       "    </tr>\n",
       "  </tbody>\n",
       "</table>\n",
       "</div>"
      ],
      "text/plain": [
       "        eu_sales\n",
       "rating          \n",
       "E10+       33.81\n",
       "T          40.42\n",
       "E          73.75\n",
       "M         144.55"
      ]
     },
     "execution_count": 25,
     "metadata": {},
     "output_type": "execute_result"
    }
   ],
   "source": [
    "filtered_df.pivot_table(index='rating', values='eu_sales', aggfunc='sum').sort_values('eu_sales')"
   ]
  },
  {
   "cell_type": "markdown",
   "metadata": {},
   "source": [
    "### Japan"
   ]
  },
  {
   "cell_type": "code",
   "execution_count": 26,
   "metadata": {},
   "outputs": [
    {
     "data": {
      "text/html": [
       "<div>\n",
       "<style scoped>\n",
       "    .dataframe tbody tr th:only-of-type {\n",
       "        vertical-align: middle;\n",
       "    }\n",
       "\n",
       "    .dataframe tbody tr th {\n",
       "        vertical-align: top;\n",
       "    }\n",
       "\n",
       "    .dataframe thead th {\n",
       "        text-align: right;\n",
       "    }\n",
       "</style>\n",
       "<table border=\"1\" class=\"dataframe\">\n",
       "  <thead>\n",
       "    <tr style=\"text-align: right;\">\n",
       "      <th></th>\n",
       "      <th>jp_sales</th>\n",
       "    </tr>\n",
       "    <tr>\n",
       "      <th>platform</th>\n",
       "      <th></th>\n",
       "    </tr>\n",
       "  </thead>\n",
       "  <tbody>\n",
       "    <tr>\n",
       "      <td>DS</td>\n",
       "      <td>0.00</td>\n",
       "    </tr>\n",
       "    <tr>\n",
       "      <td>PC</td>\n",
       "      <td>0.00</td>\n",
       "    </tr>\n",
       "    <tr>\n",
       "      <td>Wii</td>\n",
       "      <td>0.05</td>\n",
       "    </tr>\n",
       "    <tr>\n",
       "      <td>XOne</td>\n",
       "      <td>0.34</td>\n",
       "    </tr>\n",
       "    <tr>\n",
       "      <td>X360</td>\n",
       "      <td>0.50</td>\n",
       "    </tr>\n",
       "    <tr>\n",
       "      <td>PSP</td>\n",
       "      <td>3.29</td>\n",
       "    </tr>\n",
       "    <tr>\n",
       "      <td>PS4</td>\n",
       "      <td>15.96</td>\n",
       "    </tr>\n",
       "    <tr>\n",
       "      <td>PSV</td>\n",
       "      <td>18.48</td>\n",
       "    </tr>\n",
       "    <tr>\n",
       "      <td>PS3</td>\n",
       "      <td>22.98</td>\n",
       "    </tr>\n",
       "    <tr>\n",
       "      <td>3DS</td>\n",
       "      <td>67.70</td>\n",
       "    </tr>\n",
       "  </tbody>\n",
       "</table>\n",
       "</div>"
      ],
      "text/plain": [
       "          jp_sales\n",
       "platform          \n",
       "DS            0.00\n",
       "PC            0.00\n",
       "Wii           0.05\n",
       "XOne          0.34\n",
       "X360          0.50\n",
       "PSP           3.29\n",
       "PS4          15.96\n",
       "PSV          18.48\n",
       "PS3          22.98\n",
       "3DS          67.70"
      ]
     },
     "execution_count": 26,
     "metadata": {},
     "output_type": "execute_result"
    }
   ],
   "source": [
    "filtered_df.pivot_table(index='platform', values='jp_sales', aggfunc='sum').sort_values('jp_sales')"
   ]
  },
  {
   "cell_type": "code",
   "execution_count": 27,
   "metadata": {},
   "outputs": [
    {
     "data": {
      "text/html": [
       "<div>\n",
       "<style scoped>\n",
       "    .dataframe tbody tr th:only-of-type {\n",
       "        vertical-align: middle;\n",
       "    }\n",
       "\n",
       "    .dataframe tbody tr th {\n",
       "        vertical-align: top;\n",
       "    }\n",
       "\n",
       "    .dataframe thead th {\n",
       "        text-align: right;\n",
       "    }\n",
       "</style>\n",
       "<table border=\"1\" class=\"dataframe\">\n",
       "  <thead>\n",
       "    <tr style=\"text-align: right;\">\n",
       "      <th></th>\n",
       "      <th>jp_sales</th>\n",
       "    </tr>\n",
       "    <tr>\n",
       "      <th>genre</th>\n",
       "      <th></th>\n",
       "    </tr>\n",
       "  </thead>\n",
       "  <tbody>\n",
       "    <tr>\n",
       "      <td>Puzzle</td>\n",
       "      <td>0.96</td>\n",
       "    </tr>\n",
       "    <tr>\n",
       "      <td>Racing</td>\n",
       "      <td>0.99</td>\n",
       "    </tr>\n",
       "    <tr>\n",
       "      <td>Strategy</td>\n",
       "      <td>1.48</td>\n",
       "    </tr>\n",
       "    <tr>\n",
       "      <td>Platform</td>\n",
       "      <td>2.38</td>\n",
       "    </tr>\n",
       "    <tr>\n",
       "      <td>Simulation</td>\n",
       "      <td>4.46</td>\n",
       "    </tr>\n",
       "    <tr>\n",
       "      <td>Sports</td>\n",
       "      <td>4.89</td>\n",
       "    </tr>\n",
       "    <tr>\n",
       "      <td>Shooter</td>\n",
       "      <td>5.06</td>\n",
       "    </tr>\n",
       "    <tr>\n",
       "      <td>Adventure</td>\n",
       "      <td>5.82</td>\n",
       "    </tr>\n",
       "    <tr>\n",
       "      <td>Fighting</td>\n",
       "      <td>6.62</td>\n",
       "    </tr>\n",
       "    <tr>\n",
       "      <td>Misc</td>\n",
       "      <td>7.21</td>\n",
       "    </tr>\n",
       "    <tr>\n",
       "      <td>Action</td>\n",
       "      <td>39.06</td>\n",
       "    </tr>\n",
       "    <tr>\n",
       "      <td>Role-Playing</td>\n",
       "      <td>50.37</td>\n",
       "    </tr>\n",
       "  </tbody>\n",
       "</table>\n",
       "</div>"
      ],
      "text/plain": [
       "              jp_sales\n",
       "genre                 \n",
       "Puzzle            0.96\n",
       "Racing            0.99\n",
       "Strategy          1.48\n",
       "Platform          2.38\n",
       "Simulation        4.46\n",
       "Sports            4.89\n",
       "Shooter           5.06\n",
       "Adventure         5.82\n",
       "Fighting          6.62\n",
       "Misc              7.21\n",
       "Action           39.06\n",
       "Role-Playing     50.37"
      ]
     },
     "execution_count": 27,
     "metadata": {},
     "output_type": "execute_result"
    }
   ],
   "source": [
    "filtered_df.pivot_table(index='genre', values='jp_sales', aggfunc='sum').sort_values('jp_sales')"
   ]
  },
  {
   "cell_type": "code",
   "execution_count": 28,
   "metadata": {},
   "outputs": [
    {
     "data": {
      "text/html": [
       "<div>\n",
       "<style scoped>\n",
       "    .dataframe tbody tr th:only-of-type {\n",
       "        vertical-align: middle;\n",
       "    }\n",
       "\n",
       "    .dataframe tbody tr th {\n",
       "        vertical-align: top;\n",
       "    }\n",
       "\n",
       "    .dataframe thead th {\n",
       "        text-align: right;\n",
       "    }\n",
       "</style>\n",
       "<table border=\"1\" class=\"dataframe\">\n",
       "  <thead>\n",
       "    <tr style=\"text-align: right;\">\n",
       "      <th></th>\n",
       "      <th>jp_sales</th>\n",
       "    </tr>\n",
       "    <tr>\n",
       "      <th>rating</th>\n",
       "      <th></th>\n",
       "    </tr>\n",
       "  </thead>\n",
       "  <tbody>\n",
       "    <tr>\n",
       "      <td>E10+</td>\n",
       "      <td>3.47</td>\n",
       "    </tr>\n",
       "    <tr>\n",
       "      <td>E</td>\n",
       "      <td>9.76</td>\n",
       "    </tr>\n",
       "    <tr>\n",
       "      <td>M</td>\n",
       "      <td>13.87</td>\n",
       "    </tr>\n",
       "    <tr>\n",
       "      <td>T</td>\n",
       "      <td>19.67</td>\n",
       "    </tr>\n",
       "  </tbody>\n",
       "</table>\n",
       "</div>"
      ],
      "text/plain": [
       "        jp_sales\n",
       "rating          \n",
       "E10+        3.47\n",
       "E           9.76\n",
       "M          13.87\n",
       "T          19.67"
      ]
     },
     "execution_count": 28,
     "metadata": {},
     "output_type": "execute_result"
    }
   ],
   "source": [
    "filtered_df.pivot_table(index='rating', values='jp_sales', aggfunc='sum').sort_values('jp_sales')"
   ]
  },
  {
   "cell_type": "markdown",
   "metadata": {},
   "source": [
    "### Conclusion"
   ]
  },
  {
   "cell_type": "markdown",
   "metadata": {},
   "source": [
    "The top platforms in NA and Europe are both the same in that they favor the Xbox and Playstation platform series, but in the case of Japan the 3DS is much more popular than either of the other two, but with PS3 just behind. \n",
    "\n",
    "For genres in NA and Europe once again Action, Shooter, and Sports are the most popular whereas in Japan Role-Playing and Action are the most popular with all other categories far behind.\n",
    "\n",
    "With maturaty ratings NA and Europe have the same hierarchy with M, E, then T, but in Japan the Teen rating is the most widely sold with M and then E behind it.\n",
    "\n",
    "It's quite apparent by this point North America and Europe have almost identical game preferences in genre, maturing ratings, and platform. However, with Japan a lot of these are flipped, as even the 3DS which is the most popular there is only 5th elsewhere. It is most likely the case that careful investigation into games in Japan will be necessary for a successful ad campain."
   ]
  },
  {
   "cell_type": "markdown",
   "metadata": {},
   "source": [
    "    \n",
    "<div class=\"alert alert-block alert-success\">\n",
    "    <h2>Reviewer's commentary <a class=\"tocSkip\"> </h2>\n",
    "    <br/>\n",
    "<b>Well done!👍:</b> \n",
    "        \n",
    "Ok, the logic of the analysis at this step is correct, keep it up!"
   ]
  },
  {
   "cell_type": "markdown",
   "metadata": {},
   "source": [
    "<div class=\"alert alert-block alert-warning\">\n",
    "   <h2>Reviewer's commentary<a class=\"tocSkip\"> </h2>\n",
    "    <br/>\n",
    "<b>Remarks and recommendations📌:</b> \n",
    "       \n",
    "It is important to analyse games without rating."
   ]
  },
  {
   "cell_type": "markdown",
   "metadata": {},
   "source": [
    "<font color='Purple'> Student's commentary:</font> **By this do you mean I didn't focus enough on the other parts of the data, and should have talked more about the rest of it such as genres?** <a class=\"tocSkip\">"
   ]
  },
  {
   "cell_type": "markdown",
   "metadata": {},
   "source": [
    "<div class=\"alert alert-block alert-success\">\n",
    "    <h2>Reviewer's commentary: second iteration of the review <a class=\"tocSkip\"> </h2>\n",
    "    <br/>\n",
    "<b>Well done!👍:</b> \n",
    "        \n",
    "By this comment I mean that it would be nice to look at the contribution of the games without ratings to the common picture per region, because yes, at the column rating we have no data, but for these NaN values in these columns we have data in other columns and we can analyse (not lose) it replacing the NaN with marker."
   ]
  },
  {
   "cell_type": "markdown",
   "metadata": {},
   "source": [
    "## Test Hypothesis"
   ]
  },
  {
   "cell_type": "markdown",
   "metadata": {},
   "source": [
    "**Null:** Average user ratings of the Xbox One and PC platforms are the same.\n",
    "\n",
    "**Alternative:** Average user ratings of the Xbox One and PC platforms vary."
   ]
  },
  {
   "cell_type": "markdown",
   "metadata": {},
   "source": [
    "    \n",
    "<div class=\"alert alert-block alert-success\">\n",
    "    <h2>Reviewer's commentary <a class=\"tocSkip\"> </h2>\n",
    "    <br/>\n",
    "<b>Well done!👍:</b> \n",
    "        \n",
    "Ok, Tyler, H0 and H1 are formulated correctly!"
   ]
  },
  {
   "cell_type": "code",
   "execution_count": 29,
   "metadata": {},
   "outputs": [
    {
     "name": "stdout",
     "output_type": "stream",
     "text": [
      "p-value:  0.1475959401343003\n",
      "We can't reject the null hypothesis\n"
     ]
    }
   ],
   "source": [
    "results = st.ttest_ind(filtered_df.loc[filtered_df['platform'] == 'XOne']['user_score'],\n",
    "                       filtered_df.loc[filtered_df['platform'] == 'PC']['user_score'], nan_policy = 'omit', equal_var = False)\n",
    "\n",
    "alpha = 0.05\n",
    "\n",
    "print('p-value: ', results.pvalue)\n",
    "\n",
    "if results.pvalue < alpha:\n",
    "    print(\"We reject the null hypothesis\")\n",
    "else:\n",
    "    print(\"We can't reject the null hypothesis\")"
   ]
  },
  {
   "cell_type": "markdown",
   "metadata": {},
   "source": [
    "    \n",
    "<div class=\"alert alert-block alert-success\">\n",
    "    <h2>Reviewer's commentary <a class=\"tocSkip\"> </h2>\n",
    "    <br/>\n",
    "<b>Well done!👍:</b> \n",
    "        \n",
    "Good job! It is absolutely correct to exclude the NaN values from samples when we use Students' t-test for statistical hypotheses testing!"
   ]
  },
  {
   "cell_type": "markdown",
   "metadata": {},
   "source": [
    "**Null:** Average user ratings for the Action and Sports genres are the same.\n",
    "\n",
    "**Alternative:** Average user ratings for the Action and Sports genres vary."
   ]
  },
  {
   "cell_type": "code",
   "execution_count": 30,
   "metadata": {},
   "outputs": [
    {
     "name": "stdout",
     "output_type": "stream",
     "text": [
      "p-value:  8.063003736608425e-20\n",
      "We reject the null hypothesis\n"
     ]
    }
   ],
   "source": [
    "results = st.ttest_ind(filtered_df.loc[filtered_df['genre'] == 'Action']['user_score'],\n",
    "                       filtered_df.loc[filtered_df['genre'] == 'Sports']['user_score'], nan_policy = 'omit', equal_var = False)\n",
    "\n",
    "alpha = 0.05\n",
    "\n",
    "print('p-value: ', results.pvalue)\n",
    "\n",
    "if results.pvalue < alpha:\n",
    "    print(\"We reject the null hypothesis\")\n",
    "else:\n",
    "    print(\"We can't reject the null hypothesis\")"
   ]
  },
  {
   "cell_type": "markdown",
   "metadata": {},
   "source": [
    "    \n",
    "<div class=\"alert alert-block alert-success\">\n",
    "    <h2>Reviewer's commentary <a class=\"tocSkip\"> </h2>\n",
    "    <br/>\n",
    "<b>Well done!👍:</b> \n",
    "        \n",
    "Yes, you are right!"
   ]
  },
  {
   "cell_type": "markdown",
   "metadata": {},
   "source": [
    "### Conclusion"
   ]
  },
  {
   "cell_type": "markdown",
   "metadata": {},
   "source": [
    "I formulated the null hypothesis as neutral hypothesis as that's how null hypothesis are supposed to be, and came out as the ratings being the same. The alternative would then naturally be the opposite conclusion. I chose a significance level of 5% as this is the typical alpha to use, but even at as high as 10% the results would be the same.\n",
    "\n",
    "We can't reject the possibility that the average user ratings of the Xbox One and PC platforms are similar, but in the case of Actions and Sports genres the user ratings provably vary."
   ]
  },
  {
   "cell_type": "markdown",
   "metadata": {},
   "source": [
    "## Overall Conclusion"
   ]
  },
  {
   "cell_type": "markdown",
   "metadata": {},
   "source": [
    "Overall the most successful games for advertising campains typically fall into the category of being Sports, Actions, or Shooter; on the PS4, Xbox One, or 3DS in Japan; and rated M, E, or T in Japan. This was determined using the data but this may be skewed in favor of NA and Europe as it makes 2/3rds of our calculations. When it comes Japan successful games are much different and were the reason for 3DS being a popular choice of platform, but elsewhere 3DS is actually an underpreformer. It may be best to be cautious when choosing ad campains for Japan but elsewhere follows a more typical formula.\n",
    "\n",
    "Critic scores may be a somewhat helpful for also finding successful games but critic scores do not make a game popular and may be wrong, so it should be seen as a loose guideline. Popular games can also vary among different platforms so the most popular platforms should recieve equal consideration.\n",
    "\n",
    "\n",
    "The best patterns to look for for finding a strong game for our next ad campain would be a rated M game that falls under the Action and/or Shooter genre and is on the PS4. Or, in Japan, a rated T game that has Action and/or Role-playing in it, on the 3DS platform. A good critic rating is also a plus for our game candidate. "
   ]
  },
  {
   "cell_type": "markdown",
   "metadata": {},
   "source": [
    "<div class=\"alert alert-block alert-danger\">\n",
    "    <h2>Reviewer's commentary <a class=\"tocSkip\"> </h2>\n",
    "    <br/>\n",
    "<b>Needs fixing!🤔:</b> \n",
    "\n",
    "\n",
    "In the final conclusion it is important apart from summarizing your actions, provide some recommendations for the client! It is important to remember about the main aim of the analysis!\n",
    "    \n",
    "`You need to identify patterns that determine whether a game succeeds or not. This will allow you to spot potential big winners and plan advertising campaigns.`"
   ]
  },
  {
   "cell_type": "markdown",
   "metadata": {},
   "source": [
    "<div class=\"alert alert-block alert-success\">\n",
    "    <h2>Reviewer's commentary: second iteration of the review <a class=\"tocSkip\"> </h2>\n",
    "    <br/>\n",
    "<b>Well done!👍:</b> \n",
    "        \n",
    "Ok, this time your final conclusion is more focused on the analysis main aim, you are doing great!"
   ]
  },
  {
   "cell_type": "markdown",
   "metadata": {},
   "source": [
    "<div style=\"border:solid Chocolate 2px; padding: 40px\">\n",
    "\n",
    "**The overall review conclusion**\n",
    "\n",
    "Tyler, thank you for submitting your project! I can see that you've worked really hard on it! I'm really impressed this the amount of work you have done. But there are several things in your project which I suppose it is important to fix in order to make your project really ideal! My comments will navigate you!\n",
    "\n",
    "\n",
    "**Good things and practices in your project I want to highlight🙂**:\n",
    "\n",
    "* You use different methods for working with your data. It is really great that you can apply these methods on practice, keep it up!\n",
    "* You worked with the visualization, it is really good that you use plots in your work and formatted them correctly!\n",
    "* You correctly used test for statistical hypotheses testing.\n",
    "    \n",
    "**What is worth working on👀**:\n",
    "\n",
    "\n",
    "* It is important to calculate correlation.\n",
    "* Fix the final conclusion.\n",
    "* Other recommendations you will find in my comments.\n",
    "\n",
    "\n",
    "**Good luck! I will wait for your work for a second iteration of the review!😉**\n",
    "![gif](https://media.giphy.com/media/VTtANKl0beDFQRLDTh/giphy.gif)  "
   ]
  },
  {
   "cell_type": "markdown",
   "metadata": {},
   "source": [
    "<div style=\"border:solid Chocolate 2px; padding: 40px\">\n",
    "\n",
    "**The overall review conclusion: second iteration of the review**\n",
    "\n",
    "Tyler, thank you for submitting your project with corrections!\n",
    "    \n",
    "You did a great job to improve the project, I can see your progress and agree with all your corrections, so I hasten to say that your project has been accepted and you can proceed to the next sprint!\n",
    "    \n",
    "**I wish you exciting and cool projects in the next sprints😉**\n",
    "\n",
    "![gif](https://media.giphy.com/media/l3UcjBJUov1gCRGbS/giphy.gif)  "
   ]
  },
  {
   "cell_type": "code",
   "execution_count": null,
   "metadata": {},
   "outputs": [],
   "source": []
  }
 ],
 "metadata": {
  "ExecuteTimeLog": [
   {
    "duration": 1746,
    "start_time": "2021-08-11T23:10:18.263Z"
   },
   {
    "duration": 75,
    "start_time": "2021-08-11T23:10:29.898Z"
   },
   {
    "duration": 19,
    "start_time": "2021-08-11T23:10:54.850Z"
   },
   {
    "duration": 49,
    "start_time": "2021-08-11T23:10:57.898Z"
   },
   {
    "duration": 15,
    "start_time": "2021-08-11T23:11:20.965Z"
   },
   {
    "duration": 19,
    "start_time": "2021-08-11T23:11:31.471Z"
   },
   {
    "duration": 259,
    "start_time": "2021-08-11T23:17:53.616Z"
   },
   {
    "duration": 212,
    "start_time": "2021-08-11T23:18:15.867Z"
   },
   {
    "duration": 191,
    "start_time": "2021-08-11T23:18:19.617Z"
   },
   {
    "duration": 274,
    "start_time": "2021-08-11T23:18:43.392Z"
   },
   {
    "duration": 257,
    "start_time": "2021-08-11T23:18:46.964Z"
   },
   {
    "duration": 6,
    "start_time": "2021-08-11T23:19:02.661Z"
   },
   {
    "duration": 255,
    "start_time": "2021-08-11T23:20:07.773Z"
   },
   {
    "duration": 230,
    "start_time": "2021-08-11T23:21:26.104Z"
   },
   {
    "duration": 5,
    "start_time": "2021-08-11T23:22:11.212Z"
   },
   {
    "duration": 29,
    "start_time": "2021-08-11T23:22:16.010Z"
   },
   {
    "duration": 4,
    "start_time": "2021-08-11T23:28:57.138Z"
   },
   {
    "duration": 3190,
    "start_time": "2021-08-11T23:29:07.806Z"
   },
   {
    "duration": 5,
    "start_time": "2021-08-11T23:29:41.722Z"
   },
   {
    "duration": 536,
    "start_time": "2021-08-11T23:29:45.396Z"
   },
   {
    "duration": 4,
    "start_time": "2021-08-11T23:30:56.127Z"
   },
   {
    "duration": 430,
    "start_time": "2021-08-11T23:30:59.554Z"
   },
   {
    "duration": 4,
    "start_time": "2021-08-11T23:31:22.760Z"
   },
   {
    "duration": 3219,
    "start_time": "2021-08-11T23:31:24.588Z"
   },
   {
    "duration": 3140,
    "start_time": "2021-08-11T23:32:50.927Z"
   },
   {
    "duration": 5727,
    "start_time": "2021-08-11T23:40:12.616Z"
   },
   {
    "duration": 10,
    "start_time": "2021-08-11T23:41:53.422Z"
   },
   {
    "duration": 41,
    "start_time": "2021-08-11T23:41:56.419Z"
   },
   {
    "duration": 249,
    "start_time": "2021-08-11T23:42:19.220Z"
   },
   {
    "duration": 10,
    "start_time": "2021-08-11T23:42:35.849Z"
   },
   {
    "duration": 31,
    "start_time": "2021-08-11T23:42:37.639Z"
   },
   {
    "duration": 7,
    "start_time": "2021-08-11T23:42:42.754Z"
   },
   {
    "duration": 33,
    "start_time": "2021-08-11T23:42:44.454Z"
   },
   {
    "duration": 53,
    "start_time": "2021-08-11T23:43:23.657Z"
   },
   {
    "duration": 1348,
    "start_time": "2021-08-11T23:43:59.921Z"
   },
   {
    "duration": 14,
    "start_time": "2021-08-11T23:44:01.272Z"
   },
   {
    "duration": 44,
    "start_time": "2021-08-11T23:44:01.289Z"
   },
   {
    "duration": 17,
    "start_time": "2021-08-11T23:44:01.336Z"
   },
   {
    "duration": 41,
    "start_time": "2021-08-11T23:44:01.355Z"
   },
   {
    "duration": 21,
    "start_time": "2021-08-11T23:44:01.398Z"
   },
   {
    "duration": 11,
    "start_time": "2021-08-11T23:44:01.422Z"
   },
   {
    "duration": 55,
    "start_time": "2021-08-11T23:44:05.993Z"
   },
   {
    "duration": 8,
    "start_time": "2021-08-11T23:44:50.584Z"
   },
   {
    "duration": 395,
    "start_time": "2021-08-11T23:45:40.800Z"
   },
   {
    "duration": 6,
    "start_time": "2021-08-11T23:45:50.906Z"
   },
   {
    "duration": 7,
    "start_time": "2021-08-11T23:46:06.683Z"
   },
   {
    "duration": 272,
    "start_time": "2021-08-11T23:46:35.270Z"
   },
   {
    "duration": 210,
    "start_time": "2021-08-11T23:46:41.302Z"
   },
   {
    "duration": 13,
    "start_time": "2021-08-11T23:46:49.443Z"
   },
   {
    "duration": 19,
    "start_time": "2021-08-11T23:48:21.920Z"
   },
   {
    "duration": 20,
    "start_time": "2021-08-11T23:48:29.497Z"
   },
   {
    "duration": 13,
    "start_time": "2021-08-11T23:48:33.057Z"
   },
   {
    "duration": 43,
    "start_time": "2021-08-12T00:28:04.189Z"
   },
   {
    "duration": 280,
    "start_time": "2021-08-12T00:29:55.397Z"
   },
   {
    "duration": 21,
    "start_time": "2021-08-12T00:29:59.763Z"
   },
   {
    "duration": 40,
    "start_time": "2021-08-12T00:30:37.026Z"
   },
   {
    "duration": 21,
    "start_time": "2021-08-12T00:30:55.333Z"
   },
   {
    "duration": 24,
    "start_time": "2021-08-12T00:30:59.314Z"
   },
   {
    "duration": 23,
    "start_time": "2021-08-12T00:34:39.251Z"
   },
   {
    "duration": 20,
    "start_time": "2021-08-12T00:34:51.347Z"
   },
   {
    "duration": 288,
    "start_time": "2021-08-12T00:34:59.115Z"
   },
   {
    "duration": 272,
    "start_time": "2021-08-12T00:35:05.301Z"
   },
   {
    "duration": 265,
    "start_time": "2021-08-12T00:35:08.973Z"
   },
   {
    "duration": 227,
    "start_time": "2021-08-12T00:35:14.393Z"
   },
   {
    "duration": 204,
    "start_time": "2021-08-12T00:35:17.648Z"
   },
   {
    "duration": 220,
    "start_time": "2021-08-12T00:35:21.694Z"
   },
   {
    "duration": 20,
    "start_time": "2021-08-12T00:37:01.416Z"
   },
   {
    "duration": 25,
    "start_time": "2021-08-12T00:37:13.663Z"
   },
   {
    "duration": 270,
    "start_time": "2021-08-12T00:39:49.938Z"
   },
   {
    "duration": 302,
    "start_time": "2021-08-12T00:40:06.955Z"
   },
   {
    "duration": 301,
    "start_time": "2021-08-12T00:47:08.186Z"
   },
   {
    "duration": 67,
    "start_time": "2021-08-12T00:48:04.027Z"
   },
   {
    "duration": 560,
    "start_time": "2021-08-12T00:48:33.806Z"
   },
   {
    "duration": 557,
    "start_time": "2021-08-12T00:48:40.669Z"
   },
   {
    "duration": 506,
    "start_time": "2021-08-12T00:49:02.701Z"
   },
   {
    "duration": 288,
    "start_time": "2021-08-12T00:50:23.513Z"
   },
   {
    "duration": 583,
    "start_time": "2021-08-12T00:50:58.541Z"
   },
   {
    "duration": 586,
    "start_time": "2021-08-12T00:51:41.740Z"
   },
   {
    "duration": 393,
    "start_time": "2021-08-12T00:51:49.886Z"
   },
   {
    "duration": 285,
    "start_time": "2021-08-12T00:52:28.513Z"
   },
   {
    "duration": 21,
    "start_time": "2021-08-12T00:54:34.031Z"
   },
   {
    "duration": 68,
    "start_time": "2021-08-12T00:58:48.378Z"
   },
   {
    "duration": 74,
    "start_time": "2021-08-12T00:59:49.033Z"
   },
   {
    "duration": 230,
    "start_time": "2021-08-12T01:00:47.739Z"
   },
   {
    "duration": 75,
    "start_time": "2021-08-12T01:01:11.495Z"
   },
   {
    "duration": 77,
    "start_time": "2021-08-12T01:01:44.061Z"
   },
   {
    "duration": 654,
    "start_time": "2021-08-12T01:02:16.995Z"
   },
   {
    "duration": 680,
    "start_time": "2021-08-12T01:02:32.406Z"
   },
   {
    "duration": 1298,
    "start_time": "2021-08-12T01:02:41.084Z"
   },
   {
    "duration": 1018,
    "start_time": "2021-08-12T01:03:04.072Z"
   },
   {
    "duration": 39,
    "start_time": "2021-08-12T01:04:13.370Z"
   },
   {
    "duration": 39,
    "start_time": "2021-08-12T01:04:52.601Z"
   },
   {
    "duration": 460,
    "start_time": "2021-08-12T01:11:28.103Z"
   },
   {
    "duration": 285,
    "start_time": "2021-08-12T01:11:56.206Z"
   },
   {
    "duration": 428,
    "start_time": "2021-08-12T01:13:26.177Z"
   },
   {
    "duration": 34,
    "start_time": "2021-08-12T01:13:39.742Z"
   },
   {
    "duration": 34,
    "start_time": "2021-08-12T01:13:46.277Z"
   },
   {
    "duration": 47,
    "start_time": "2021-08-12T01:13:49.672Z"
   },
   {
    "duration": 63,
    "start_time": "2021-08-12T01:14:04.987Z"
   },
   {
    "duration": 74,
    "start_time": "2021-08-12T01:14:16.623Z"
   },
   {
    "duration": 66,
    "start_time": "2021-08-12T01:14:21.762Z"
   },
   {
    "duration": 1438,
    "start_time": "2021-08-12T01:14:58.738Z"
   },
   {
    "duration": 15,
    "start_time": "2021-08-12T01:15:00.179Z"
   },
   {
    "duration": 23,
    "start_time": "2021-08-12T01:15:00.197Z"
   },
   {
    "duration": 13,
    "start_time": "2021-08-12T01:15:00.223Z"
   },
   {
    "duration": 51,
    "start_time": "2021-08-12T01:15:00.238Z"
   },
   {
    "duration": 8,
    "start_time": "2021-08-12T01:15:00.291Z"
   },
   {
    "duration": 22,
    "start_time": "2021-08-12T01:15:00.301Z"
   },
   {
    "duration": 75,
    "start_time": "2021-08-12T01:15:00.326Z"
   },
   {
    "duration": 320,
    "start_time": "2021-08-12T01:15:00.404Z"
   },
   {
    "duration": 1111,
    "start_time": "2021-08-12T01:15:00.727Z"
   },
   {
    "duration": 970,
    "start_time": "2021-08-12T01:15:36.936Z"
   },
   {
    "duration": 112,
    "start_time": "2021-08-12T01:15:59.304Z"
   },
   {
    "duration": 57,
    "start_time": "2021-08-12T01:16:03.889Z"
   },
   {
    "duration": 26,
    "start_time": "2021-08-12T01:16:10.497Z"
   },
   {
    "duration": 53,
    "start_time": "2021-08-12T01:16:13.045Z"
   },
   {
    "duration": 1412,
    "start_time": "2021-08-12T01:16:22.338Z"
   },
   {
    "duration": 15,
    "start_time": "2021-08-12T01:16:23.753Z"
   },
   {
    "duration": 23,
    "start_time": "2021-08-12T01:16:23.771Z"
   },
   {
    "duration": 6,
    "start_time": "2021-08-12T01:16:23.797Z"
   },
   {
    "duration": 61,
    "start_time": "2021-08-12T01:16:23.806Z"
   },
   {
    "duration": 8,
    "start_time": "2021-08-12T01:16:23.870Z"
   },
   {
    "duration": 15,
    "start_time": "2021-08-12T01:16:23.880Z"
   },
   {
    "duration": 30,
    "start_time": "2021-08-12T01:16:23.898Z"
   },
   {
    "duration": 359,
    "start_time": "2021-08-12T01:16:23.931Z"
   },
   {
    "duration": 864,
    "start_time": "2021-08-12T01:16:24.294Z"
   },
   {
    "duration": 868,
    "start_time": "2021-08-12T01:16:37.672Z"
   },
   {
    "duration": 50,
    "start_time": "2021-08-12T01:17:08.656Z"
   },
   {
    "duration": 1411,
    "start_time": "2021-08-12T01:17:19.071Z"
   },
   {
    "duration": 15,
    "start_time": "2021-08-12T01:17:20.485Z"
   },
   {
    "duration": 24,
    "start_time": "2021-08-12T01:17:20.503Z"
   },
   {
    "duration": 37,
    "start_time": "2021-08-12T01:17:20.530Z"
   },
   {
    "duration": 31,
    "start_time": "2021-08-12T01:17:20.570Z"
   },
   {
    "duration": 8,
    "start_time": "2021-08-12T01:17:20.603Z"
   },
   {
    "duration": 16,
    "start_time": "2021-08-12T01:17:20.614Z"
   },
   {
    "duration": 87,
    "start_time": "2021-08-12T01:17:20.633Z"
   },
   {
    "duration": 325,
    "start_time": "2021-08-12T01:17:20.722Z"
   },
   {
    "duration": 889,
    "start_time": "2021-08-12T01:17:21.050Z"
   },
   {
    "duration": 25,
    "start_time": "2021-08-12T01:17:41.099Z"
   },
   {
    "duration": 876,
    "start_time": "2021-08-12T01:17:47.010Z"
   },
   {
    "duration": 867,
    "start_time": "2021-08-12T01:18:00.107Z"
   },
   {
    "duration": 401,
    "start_time": "2021-08-12T01:19:33.103Z"
   },
   {
    "duration": 279,
    "start_time": "2021-08-12T01:21:05.486Z"
   },
   {
    "duration": 232,
    "start_time": "2021-08-12T01:21:24.690Z"
   },
   {
    "duration": 363,
    "start_time": "2021-08-12T01:21:41.533Z"
   },
   {
    "duration": 444,
    "start_time": "2021-08-12T01:22:10.379Z"
   },
   {
    "duration": 574,
    "start_time": "2021-08-12T01:23:30.221Z"
   },
   {
    "duration": 680,
    "start_time": "2021-08-12T01:23:35.232Z"
   },
   {
    "duration": 273,
    "start_time": "2021-08-12T01:24:29.843Z"
   },
   {
    "duration": 170,
    "start_time": "2021-08-12T01:24:46.556Z"
   },
   {
    "duration": 394,
    "start_time": "2021-08-12T01:24:49.751Z"
   },
   {
    "duration": 6210,
    "start_time": "2021-08-12T01:44:49.927Z"
   },
   {
    "duration": 5817,
    "start_time": "2021-08-12T01:45:00.621Z"
   },
   {
    "duration": 1439,
    "start_time": "2021-08-12T01:45:27.955Z"
   },
   {
    "duration": 14,
    "start_time": "2021-08-12T01:45:29.397Z"
   },
   {
    "duration": 23,
    "start_time": "2021-08-12T01:45:29.414Z"
   },
   {
    "duration": 29,
    "start_time": "2021-08-12T01:45:29.440Z"
   },
   {
    "duration": 28,
    "start_time": "2021-08-12T01:45:29.472Z"
   },
   {
    "duration": 7,
    "start_time": "2021-08-12T01:45:29.502Z"
   },
   {
    "duration": 12,
    "start_time": "2021-08-12T01:45:29.511Z"
   },
   {
    "duration": 61,
    "start_time": "2021-08-12T01:45:29.526Z"
   },
   {
    "duration": 330,
    "start_time": "2021-08-12T01:45:29.590Z"
   },
   {
    "duration": 6,
    "start_time": "2021-08-12T01:45:29.922Z"
   },
   {
    "duration": 11,
    "start_time": "2021-08-12T01:45:29.931Z"
   },
   {
    "duration": 498,
    "start_time": "2021-08-12T01:46:41.636Z"
   },
   {
    "duration": 272,
    "start_time": "2021-08-12T01:47:36.084Z"
   },
   {
    "duration": 6600,
    "start_time": "2021-08-12T01:47:59.911Z"
   },
   {
    "duration": 320,
    "start_time": "2021-08-12T01:48:15.200Z"
   },
   {
    "duration": 251,
    "start_time": "2021-08-12T01:49:05.298Z"
   },
   {
    "duration": 520,
    "start_time": "2021-08-12T01:51:07.576Z"
   },
   {
    "duration": 478,
    "start_time": "2021-08-12T01:51:57.799Z"
   },
   {
    "duration": 567,
    "start_time": "2021-08-12T01:52:07.027Z"
   },
   {
    "duration": 244,
    "start_time": "2021-08-12T01:54:25.453Z"
   },
   {
    "duration": 242,
    "start_time": "2021-08-12T01:54:37.250Z"
   },
   {
    "duration": 486,
    "start_time": "2021-08-12T01:56:49.387Z"
   },
   {
    "duration": 288,
    "start_time": "2021-08-12T01:56:59.681Z"
   },
   {
    "duration": 517,
    "start_time": "2021-08-12T01:57:10.319Z"
   },
   {
    "duration": 278,
    "start_time": "2021-08-12T01:59:11.745Z"
   },
   {
    "duration": 485,
    "start_time": "2021-08-12T02:01:13.581Z"
   },
   {
    "duration": 561,
    "start_time": "2021-08-12T02:01:30.194Z"
   },
   {
    "duration": 2031,
    "start_time": "2021-08-12T02:04:11.961Z"
   },
   {
    "duration": 80,
    "start_time": "2021-08-12T02:05:33.039Z"
   },
   {
    "duration": 218,
    "start_time": "2021-08-12T02:05:37.843Z"
   },
   {
    "duration": 633,
    "start_time": "2021-08-12T02:05:51.760Z"
   },
   {
    "duration": 259,
    "start_time": "2021-08-12T02:06:08.217Z"
   },
   {
    "duration": 462,
    "start_time": "2021-08-12T02:06:38.037Z"
   },
   {
    "duration": 560,
    "start_time": "2021-08-12T02:06:46.218Z"
   },
   {
    "duration": 588,
    "start_time": "2021-08-12T02:07:11.236Z"
   },
   {
    "duration": 537,
    "start_time": "2021-08-12T02:08:43.937Z"
   },
   {
    "duration": 24,
    "start_time": "2021-08-12T02:10:50.014Z"
   },
   {
    "duration": 285,
    "start_time": "2021-08-12T02:10:57.912Z"
   },
   {
    "duration": 605,
    "start_time": "2021-08-12T02:11:43.053Z"
   },
   {
    "duration": 342,
    "start_time": "2021-08-12T02:12:00.044Z"
   },
   {
    "duration": 332,
    "start_time": "2021-08-12T02:12:19.746Z"
   },
   {
    "duration": 332,
    "start_time": "2021-08-12T02:12:35.480Z"
   },
   {
    "duration": 327,
    "start_time": "2021-08-12T02:12:50.161Z"
   },
   {
    "duration": 574,
    "start_time": "2021-08-12T02:15:16.580Z"
   },
   {
    "duration": 307,
    "start_time": "2021-08-12T02:16:59.852Z"
   },
   {
    "duration": 243,
    "start_time": "2021-08-12T02:17:28.004Z"
   },
   {
    "duration": 527,
    "start_time": "2021-08-12T02:18:01.381Z"
   },
   {
    "duration": 504,
    "start_time": "2021-08-12T02:18:18.953Z"
   },
   {
    "duration": 502,
    "start_time": "2021-08-12T02:19:44.265Z"
   },
   {
    "duration": 434,
    "start_time": "2021-08-12T02:19:59.854Z"
   },
   {
    "duration": 514,
    "start_time": "2021-08-12T02:20:31.815Z"
   },
   {
    "duration": 511,
    "start_time": "2021-08-12T02:23:34.533Z"
   },
   {
    "duration": 5913,
    "start_time": "2021-08-12T02:24:35.736Z"
   },
   {
    "duration": 1534,
    "start_time": "2021-08-12T02:25:18.164Z"
   },
   {
    "duration": 17,
    "start_time": "2021-08-12T02:25:19.701Z"
   },
   {
    "duration": 24,
    "start_time": "2021-08-12T02:25:19.722Z"
   },
   {
    "duration": 8,
    "start_time": "2021-08-12T02:25:19.769Z"
   },
   {
    "duration": 30,
    "start_time": "2021-08-12T02:25:19.779Z"
   },
   {
    "duration": 10,
    "start_time": "2021-08-12T02:25:19.812Z"
   },
   {
    "duration": 55,
    "start_time": "2021-08-12T02:25:19.824Z"
   },
   {
    "duration": 32,
    "start_time": "2021-08-12T02:25:19.882Z"
   },
   {
    "duration": 335,
    "start_time": "2021-08-12T02:25:19.917Z"
   },
   {
    "duration": 14,
    "start_time": "2021-08-12T02:25:20.255Z"
   },
   {
    "duration": 399,
    "start_time": "2021-08-12T02:25:20.271Z"
   },
   {
    "duration": 488,
    "start_time": "2021-08-12T02:28:36.775Z"
   },
   {
    "duration": 458,
    "start_time": "2021-08-12T02:28:51.635Z"
   },
   {
    "duration": 242,
    "start_time": "2021-08-12T02:29:04.175Z"
   },
   {
    "duration": 294,
    "start_time": "2021-08-12T02:29:19.359Z"
   },
   {
    "duration": 513,
    "start_time": "2021-08-12T02:29:54.205Z"
   },
   {
    "duration": 514,
    "start_time": "2021-08-12T02:32:06.974Z"
   },
   {
    "duration": 457,
    "start_time": "2021-08-12T02:32:19.178Z"
   },
   {
    "duration": 337,
    "start_time": "2021-08-12T02:33:04.317Z"
   },
   {
    "duration": 602,
    "start_time": "2021-08-12T02:33:40.316Z"
   },
   {
    "duration": 310,
    "start_time": "2021-08-12T02:35:37.259Z"
   },
   {
    "duration": 1969,
    "start_time": "2021-08-12T02:35:57.923Z"
   },
   {
    "duration": 311,
    "start_time": "2021-08-12T02:37:07.646Z"
   },
   {
    "duration": 480,
    "start_time": "2021-08-12T02:37:14.111Z"
   },
   {
    "duration": 305,
    "start_time": "2021-08-12T02:37:24.620Z"
   },
   {
    "duration": 596,
    "start_time": "2021-08-12T02:38:54.972Z"
   },
   {
    "duration": 3,
    "start_time": "2021-08-12T02:42:19.566Z"
   },
   {
    "duration": 28,
    "start_time": "2021-08-12T02:43:29.225Z"
   },
   {
    "duration": 410,
    "start_time": "2021-08-12T02:43:45.759Z"
   },
   {
    "duration": 297,
    "start_time": "2021-08-12T02:43:51.644Z"
   },
   {
    "duration": 34,
    "start_time": "2021-08-12T02:44:53.884Z"
   },
   {
    "duration": 35,
    "start_time": "2021-08-12T02:45:10.291Z"
   },
   {
    "duration": 36,
    "start_time": "2021-08-12T02:45:21.558Z"
   },
   {
    "duration": 33,
    "start_time": "2021-08-12T02:45:27.862Z"
   },
   {
    "duration": 20,
    "start_time": "2021-08-12T02:49:55.114Z"
   },
   {
    "duration": 21,
    "start_time": "2021-08-12T02:50:17.912Z"
   },
   {
    "duration": 136,
    "start_time": "2021-08-12T02:51:02.293Z"
   },
   {
    "duration": 288,
    "start_time": "2021-08-12T02:51:18.033Z"
   },
   {
    "duration": 1503,
    "start_time": "2021-08-12T02:53:58.883Z"
   },
   {
    "duration": 17,
    "start_time": "2021-08-12T02:54:00.389Z"
   },
   {
    "duration": 25,
    "start_time": "2021-08-12T02:54:00.410Z"
   },
   {
    "duration": 34,
    "start_time": "2021-08-12T02:54:00.438Z"
   },
   {
    "duration": 33,
    "start_time": "2021-08-12T02:54:00.476Z"
   },
   {
    "duration": 10,
    "start_time": "2021-08-12T02:54:00.512Z"
   },
   {
    "duration": 46,
    "start_time": "2021-08-12T02:54:00.525Z"
   },
   {
    "duration": 30,
    "start_time": "2021-08-12T02:54:00.576Z"
   },
   {
    "duration": 324,
    "start_time": "2021-08-12T02:54:00.609Z"
   },
   {
    "duration": 8,
    "start_time": "2021-08-12T02:54:00.937Z"
   },
   {
    "duration": 21,
    "start_time": "2021-08-12T02:54:00.948Z"
   },
   {
    "duration": 14,
    "start_time": "2021-08-12T02:54:00.972Z"
   },
   {
    "duration": 24,
    "start_time": "2021-08-12T02:54:00.989Z"
   },
   {
    "duration": 20,
    "start_time": "2021-08-12T02:56:31.930Z"
   },
   {
    "duration": 19,
    "start_time": "2021-08-12T03:01:08.117Z"
   },
   {
    "duration": 20,
    "start_time": "2021-08-12T03:01:46.290Z"
   },
   {
    "duration": 21,
    "start_time": "2021-08-12T03:01:50.640Z"
   },
   {
    "duration": 19,
    "start_time": "2021-08-12T03:02:37.392Z"
   },
   {
    "duration": 5955,
    "start_time": "2021-08-12T03:13:54.460Z"
   },
   {
    "duration": 257,
    "start_time": "2021-08-12T03:14:23.840Z"
   },
   {
    "duration": 1480,
    "start_time": "2021-08-12T03:14:53.012Z"
   },
   {
    "duration": 15,
    "start_time": "2021-08-12T03:14:54.494Z"
   },
   {
    "duration": 35,
    "start_time": "2021-08-12T03:14:54.512Z"
   },
   {
    "duration": 19,
    "start_time": "2021-08-12T03:14:54.550Z"
   },
   {
    "duration": 43,
    "start_time": "2021-08-12T03:14:54.572Z"
   },
   {
    "duration": 12,
    "start_time": "2021-08-12T03:14:54.618Z"
   },
   {
    "duration": 41,
    "start_time": "2021-08-12T03:14:54.633Z"
   },
   {
    "duration": 29,
    "start_time": "2021-08-12T03:14:54.679Z"
   },
   {
    "duration": 332,
    "start_time": "2021-08-12T03:14:54.711Z"
   },
   {
    "duration": 7,
    "start_time": "2021-08-12T03:14:55.046Z"
   },
   {
    "duration": 5,
    "start_time": "2021-08-12T03:14:55.068Z"
   },
   {
    "duration": 9,
    "start_time": "2021-08-12T03:14:55.076Z"
   },
   {
    "duration": 41,
    "start_time": "2021-08-12T03:14:55.087Z"
   },
   {
    "duration": 37,
    "start_time": "2021-08-12T03:14:55.130Z"
   },
   {
    "duration": 20,
    "start_time": "2021-08-12T03:14:55.169Z"
   },
   {
    "duration": 29,
    "start_time": "2021-08-12T03:14:55.191Z"
   },
   {
    "duration": 49,
    "start_time": "2021-08-12T03:14:55.223Z"
   },
   {
    "duration": 21,
    "start_time": "2021-08-12T03:14:55.274Z"
   },
   {
    "duration": 22,
    "start_time": "2021-08-12T03:14:55.298Z"
   },
   {
    "duration": 49,
    "start_time": "2021-08-12T03:14:55.322Z"
   },
   {
    "duration": 20,
    "start_time": "2021-08-12T03:14:55.374Z"
   },
   {
    "duration": 30,
    "start_time": "2021-08-12T03:14:55.396Z"
   },
   {
    "duration": 433,
    "start_time": "2021-08-12T03:14:55.432Z"
   },
   {
    "duration": 259,
    "start_time": "2021-08-12T03:15:04.703Z"
   },
   {
    "duration": 693,
    "start_time": "2021-08-12T03:15:13.598Z"
   },
   {
    "duration": 460,
    "start_time": "2021-08-13T01:43:25.707Z"
   },
   {
    "duration": 1504,
    "start_time": "2021-08-13T01:43:33.085Z"
   },
   {
    "duration": 14,
    "start_time": "2021-08-13T01:43:34.592Z"
   },
   {
    "duration": 22,
    "start_time": "2021-08-13T01:43:34.609Z"
   },
   {
    "duration": 32,
    "start_time": "2021-08-13T01:43:34.634Z"
   },
   {
    "duration": 39,
    "start_time": "2021-08-13T01:43:34.669Z"
   },
   {
    "duration": 11,
    "start_time": "2021-08-13T01:43:34.711Z"
   },
   {
    "duration": 45,
    "start_time": "2021-08-13T01:43:34.724Z"
   },
   {
    "duration": 30,
    "start_time": "2021-08-13T01:43:34.774Z"
   },
   {
    "duration": 327,
    "start_time": "2021-08-13T01:43:34.807Z"
   },
   {
    "duration": 6,
    "start_time": "2021-08-13T01:43:35.136Z"
   },
   {
    "duration": 456,
    "start_time": "2021-08-13T01:43:35.145Z"
   },
   {
    "duration": -1396,
    "start_time": "2021-08-13T01:43:36.999Z"
   },
   {
    "duration": -1395,
    "start_time": "2021-08-13T01:43:37.000Z"
   },
   {
    "duration": -1431,
    "start_time": "2021-08-13T01:43:37.037Z"
   },
   {
    "duration": -1433,
    "start_time": "2021-08-13T01:43:37.040Z"
   },
   {
    "duration": -1433,
    "start_time": "2021-08-13T01:43:37.042Z"
   },
   {
    "duration": -1433,
    "start_time": "2021-08-13T01:43:37.043Z"
   },
   {
    "duration": -1433,
    "start_time": "2021-08-13T01:43:37.044Z"
   },
   {
    "duration": -1432,
    "start_time": "2021-08-13T01:43:37.045Z"
   },
   {
    "duration": -1435,
    "start_time": "2021-08-13T01:43:37.049Z"
   },
   {
    "duration": -1434,
    "start_time": "2021-08-13T01:43:37.050Z"
   },
   {
    "duration": -1434,
    "start_time": "2021-08-13T01:43:37.051Z"
   },
   {
    "duration": -1516,
    "start_time": "2021-08-13T01:43:37.135Z"
   },
   {
    "duration": 29,
    "start_time": "2021-08-13T01:43:42.066Z"
   },
   {
    "duration": 287,
    "start_time": "2021-08-13T01:46:14.075Z"
   },
   {
    "duration": 60,
    "start_time": "2021-08-13T01:46:34.137Z"
   },
   {
    "duration": 466,
    "start_time": "2021-08-13T01:46:55.801Z"
   },
   {
    "duration": 291,
    "start_time": "2021-08-13T01:47:37.942Z"
   },
   {
    "duration": 663,
    "start_time": "2021-08-13T01:47:49.848Z"
   },
   {
    "duration": 666,
    "start_time": "2021-08-13T01:47:53.102Z"
   },
   {
    "duration": 85,
    "start_time": "2021-08-13T01:47:59.160Z"
   },
   {
    "duration": 78,
    "start_time": "2021-08-13T01:48:01.622Z"
   },
   {
    "duration": 785,
    "start_time": "2021-08-13T01:48:03.587Z"
   },
   {
    "duration": 663,
    "start_time": "2021-08-13T01:49:21.918Z"
   },
   {
    "duration": 295,
    "start_time": "2021-08-13T01:52:33.508Z"
   },
   {
    "duration": 311,
    "start_time": "2021-08-13T01:53:44.703Z"
   },
   {
    "duration": 296,
    "start_time": "2021-08-13T01:54:09.070Z"
   },
   {
    "duration": 295,
    "start_time": "2021-08-13T01:54:29.122Z"
   },
   {
    "duration": 569,
    "start_time": "2021-08-13T01:55:10.893Z"
   },
   {
    "duration": 2471,
    "start_time": "2021-08-13T01:55:25.239Z"
   },
   {
    "duration": 564,
    "start_time": "2021-08-13T01:56:35.676Z"
   },
   {
    "duration": 2499,
    "start_time": "2021-08-13T01:57:21.381Z"
   },
   {
    "duration": 2452,
    "start_time": "2021-08-13T01:57:30.915Z"
   },
   {
    "duration": 3638,
    "start_time": "2021-08-13T01:58:01.208Z"
   },
   {
    "duration": 2648,
    "start_time": "2021-08-13T01:58:15.824Z"
   },
   {
    "duration": 2741,
    "start_time": "2021-08-13T01:59:30.936Z"
   },
   {
    "duration": 894,
    "start_time": "2021-08-13T02:00:28.735Z"
   },
   {
    "duration": 692,
    "start_time": "2021-08-13T02:00:50.424Z"
   },
   {
    "duration": 7,
    "start_time": "2021-08-13T02:01:06.749Z"
   },
   {
    "duration": 20,
    "start_time": "2021-08-13T02:01:09.794Z"
   },
   {
    "duration": 2033,
    "start_time": "2021-08-13T02:07:46.463Z"
   },
   {
    "duration": 9,
    "start_time": "2021-08-13T02:10:17.928Z"
   },
   {
    "duration": 21,
    "start_time": "2021-08-13T02:11:01.537Z"
   },
   {
    "duration": 17,
    "start_time": "2021-08-13T02:11:09.317Z"
   },
   {
    "duration": 35,
    "start_time": "2021-08-13T02:11:26.934Z"
   },
   {
    "duration": 253,
    "start_time": "2021-08-13T02:11:33.741Z"
   },
   {
    "duration": 21,
    "start_time": "2021-08-13T02:11:37.826Z"
   },
   {
    "duration": 225,
    "start_time": "2021-08-13T02:14:22.184Z"
   },
   {
    "duration": 88,
    "start_time": "2021-08-13T02:15:23.079Z"
   },
   {
    "duration": 425,
    "start_time": "2021-08-13T02:15:31.437Z"
   },
   {
    "duration": 385,
    "start_time": "2021-08-13T02:16:18.510Z"
   },
   {
    "duration": 47,
    "start_time": "2021-08-13T02:17:25.951Z"
   },
   {
    "duration": 422,
    "start_time": "2021-08-13T02:17:31.773Z"
   },
   {
    "duration": 390,
    "start_time": "2021-08-13T02:17:35.587Z"
   },
   {
    "duration": 277,
    "start_time": "2021-08-13T02:18:17.580Z"
   },
   {
    "duration": 251,
    "start_time": "2021-08-13T02:18:20.602Z"
   },
   {
    "duration": 259,
    "start_time": "2021-08-13T02:21:53.203Z"
   },
   {
    "duration": 259,
    "start_time": "2021-08-13T02:22:22.444Z"
   },
   {
    "duration": 372,
    "start_time": "2021-08-13T02:37:10.475Z"
   },
   {
    "duration": 301,
    "start_time": "2021-08-13T02:38:44.964Z"
   },
   {
    "duration": 288,
    "start_time": "2021-08-13T02:38:59.183Z"
   },
   {
    "duration": 285,
    "start_time": "2021-08-13T02:39:11.502Z"
   },
   {
    "duration": 6109,
    "start_time": "2021-08-13T02:39:39.857Z"
   },
   {
    "duration": 19,
    "start_time": "2021-08-13T02:39:53.108Z"
   },
   {
    "duration": 85,
    "start_time": "2021-08-13T02:40:39.732Z"
   },
   {
    "duration": 275,
    "start_time": "2021-08-13T02:40:42.380Z"
   },
   {
    "duration": 6787,
    "start_time": "2021-08-13T02:43:17.482Z"
   },
   {
    "duration": 6,
    "start_time": "2021-08-13T02:43:54.053Z"
   },
   {
    "duration": 300,
    "start_time": "2021-08-13T02:45:13.141Z"
   },
   {
    "duration": 35,
    "start_time": "2021-08-13T02:45:34.421Z"
   },
   {
    "duration": 243,
    "start_time": "2021-08-13T02:48:13.547Z"
   },
   {
    "duration": 329,
    "start_time": "2021-08-13T02:48:25.782Z"
   },
   {
    "duration": 231,
    "start_time": "2021-08-13T02:48:28.375Z"
   },
   {
    "duration": 252,
    "start_time": "2021-08-13T02:48:29.995Z"
   },
   {
    "duration": 374,
    "start_time": "2021-08-13T02:49:59.015Z"
   },
   {
    "duration": 104,
    "start_time": "2021-08-13T02:50:09.537Z"
   },
   {
    "duration": 35,
    "start_time": "2021-08-13T02:53:03.851Z"
   },
   {
    "duration": 35,
    "start_time": "2021-08-13T02:53:38.619Z"
   },
   {
    "duration": 1514,
    "start_time": "2021-08-13T02:55:27.161Z"
   },
   {
    "duration": 14,
    "start_time": "2021-08-13T02:55:28.677Z"
   },
   {
    "duration": 25,
    "start_time": "2021-08-13T02:55:28.694Z"
   },
   {
    "duration": 7,
    "start_time": "2021-08-13T02:55:28.721Z"
   },
   {
    "duration": 55,
    "start_time": "2021-08-13T02:55:28.731Z"
   },
   {
    "duration": 8,
    "start_time": "2021-08-13T02:55:28.788Z"
   },
   {
    "duration": 13,
    "start_time": "2021-08-13T02:55:28.799Z"
   },
   {
    "duration": 67,
    "start_time": "2021-08-13T02:55:28.816Z"
   },
   {
    "duration": 300,
    "start_time": "2021-08-13T02:55:28.887Z"
   },
   {
    "duration": 5,
    "start_time": "2021-08-13T02:55:29.190Z"
   },
   {
    "duration": 719,
    "start_time": "2021-08-13T02:55:29.198Z"
   },
   {
    "duration": 7,
    "start_time": "2021-08-13T02:55:29.920Z"
   },
   {
    "duration": 43,
    "start_time": "2021-08-13T02:55:29.929Z"
   },
   {
    "duration": 292,
    "start_time": "2021-08-13T02:55:29.975Z"
   },
   {
    "duration": 36,
    "start_time": "2021-08-13T02:55:30.270Z"
   },
   {
    "duration": 36,
    "start_time": "2021-08-13T02:55:30.308Z"
   },
   {
    "duration": 20,
    "start_time": "2021-08-13T02:55:30.362Z"
   },
   {
    "duration": 27,
    "start_time": "2021-08-13T02:55:30.385Z"
   },
   {
    "duration": 61,
    "start_time": "2021-08-13T02:55:30.415Z"
   },
   {
    "duration": 28,
    "start_time": "2021-08-13T02:55:30.479Z"
   },
   {
    "duration": 53,
    "start_time": "2021-08-13T02:55:30.510Z"
   },
   {
    "duration": 28,
    "start_time": "2021-08-13T02:55:30.566Z"
   },
   {
    "duration": 34,
    "start_time": "2021-08-13T02:55:30.600Z"
   },
   {
    "duration": 47,
    "start_time": "2021-08-13T02:55:30.637Z"
   },
   {
    "duration": 487,
    "start_time": "2021-08-13T02:55:30.688Z"
   },
   {
    "duration": 288,
    "start_time": "2021-08-13T02:58:28.775Z"
   },
   {
    "duration": 32,
    "start_time": "2021-08-13T03:02:32.803Z"
   },
   {
    "duration": 23,
    "start_time": "2021-08-13T03:03:14.065Z"
   },
   {
    "duration": 21,
    "start_time": "2021-08-13T03:05:23.168Z"
   },
   {
    "duration": 331,
    "start_time": "2021-08-13T03:05:33.461Z"
   },
   {
    "duration": 293,
    "start_time": "2021-08-13T03:05:37.367Z"
   },
   {
    "duration": 29,
    "start_time": "2021-08-13T03:05:45.880Z"
   },
   {
    "duration": 30,
    "start_time": "2021-08-13T03:05:54.719Z"
   },
   {
    "duration": 246,
    "start_time": "2021-08-13T03:26:41.530Z"
   },
   {
    "duration": 491,
    "start_time": "2021-08-13T03:27:44.101Z"
   },
   {
    "duration": 283,
    "start_time": "2021-08-13T03:28:18.543Z"
   },
   {
    "duration": 420,
    "start_time": "2021-08-13T03:28:28.018Z"
   },
   {
    "duration": 339,
    "start_time": "2021-08-13T03:31:14.086Z"
   },
   {
    "duration": 242,
    "start_time": "2021-08-13T03:32:27.884Z"
   },
   {
    "duration": 32,
    "start_time": "2021-08-13T03:32:43.852Z"
   },
   {
    "duration": 302,
    "start_time": "2021-08-13T03:32:54.036Z"
   },
   {
    "duration": 39,
    "start_time": "2021-08-13T03:33:03.721Z"
   },
   {
    "duration": 284,
    "start_time": "2021-08-13T03:33:15.833Z"
   },
   {
    "duration": 281,
    "start_time": "2021-08-13T03:34:40.661Z"
   },
   {
    "duration": 1561,
    "start_time": "2021-08-13T03:34:50.522Z"
   },
   {
    "duration": 15,
    "start_time": "2021-08-13T03:34:52.086Z"
   },
   {
    "duration": 24,
    "start_time": "2021-08-13T03:34:52.104Z"
   },
   {
    "duration": 31,
    "start_time": "2021-08-13T03:34:52.131Z"
   },
   {
    "duration": 30,
    "start_time": "2021-08-13T03:34:52.165Z"
   },
   {
    "duration": 30,
    "start_time": "2021-08-13T03:34:52.197Z"
   },
   {
    "duration": 26,
    "start_time": "2021-08-13T03:34:52.230Z"
   },
   {
    "duration": 29,
    "start_time": "2021-08-13T03:34:52.264Z"
   },
   {
    "duration": 316,
    "start_time": "2021-08-13T03:34:52.297Z"
   },
   {
    "duration": 6,
    "start_time": "2021-08-13T03:34:52.616Z"
   },
   {
    "duration": 712,
    "start_time": "2021-08-13T03:34:52.625Z"
   },
   {
    "duration": 24,
    "start_time": "2021-08-13T03:34:53.339Z"
   },
   {
    "duration": 21,
    "start_time": "2021-08-13T03:34:53.366Z"
   },
   {
    "duration": 288,
    "start_time": "2021-08-13T03:34:53.390Z"
   },
   {
    "duration": 378,
    "start_time": "2021-08-13T03:34:53.681Z"
   },
   {
    "duration": -1317,
    "start_time": "2021-08-13T03:34:55.379Z"
   },
   {
    "duration": -1317,
    "start_time": "2021-08-13T03:34:55.380Z"
   },
   {
    "duration": -1322,
    "start_time": "2021-08-13T03:34:55.387Z"
   },
   {
    "duration": -1323,
    "start_time": "2021-08-13T03:34:55.389Z"
   },
   {
    "duration": -1331,
    "start_time": "2021-08-13T03:34:55.399Z"
   },
   {
    "duration": -1341,
    "start_time": "2021-08-13T03:34:55.411Z"
   },
   {
    "duration": -1341,
    "start_time": "2021-08-13T03:34:55.412Z"
   },
   {
    "duration": -1340,
    "start_time": "2021-08-13T03:34:55.413Z"
   },
   {
    "duration": -1341,
    "start_time": "2021-08-13T03:34:55.415Z"
   },
   {
    "duration": -1340,
    "start_time": "2021-08-13T03:34:55.416Z"
   },
   {
    "duration": -1341,
    "start_time": "2021-08-13T03:34:55.418Z"
   },
   {
    "duration": -1340,
    "start_time": "2021-08-13T03:34:55.419Z"
   },
   {
    "duration": -1342,
    "start_time": "2021-08-13T03:34:55.423Z"
   },
   {
    "duration": 263,
    "start_time": "2021-08-13T03:35:20.873Z"
   },
   {
    "duration": 6522,
    "start_time": "2021-08-13T03:38:09.797Z"
   },
   {
    "duration": 1494,
    "start_time": "2021-08-13T03:38:31.065Z"
   },
   {
    "duration": 15,
    "start_time": "2021-08-13T03:38:32.561Z"
   },
   {
    "duration": 22,
    "start_time": "2021-08-13T03:38:32.579Z"
   },
   {
    "duration": 397,
    "start_time": "2021-08-13T03:38:32.603Z"
   },
   {
    "duration": -1250,
    "start_time": "2021-08-13T03:38:34.253Z"
   },
   {
    "duration": -1251,
    "start_time": "2021-08-13T03:38:34.255Z"
   },
   {
    "duration": -1253,
    "start_time": "2021-08-13T03:38:34.259Z"
   },
   {
    "duration": -1256,
    "start_time": "2021-08-13T03:38:34.263Z"
   },
   {
    "duration": -1260,
    "start_time": "2021-08-13T03:38:34.268Z"
   },
   {
    "duration": -1263,
    "start_time": "2021-08-13T03:38:34.272Z"
   },
   {
    "duration": -1449,
    "start_time": "2021-08-13T03:38:34.460Z"
   },
   {
    "duration": -1452,
    "start_time": "2021-08-13T03:38:34.464Z"
   },
   {
    "duration": -1452,
    "start_time": "2021-08-13T03:38:34.465Z"
   },
   {
    "duration": -1451,
    "start_time": "2021-08-13T03:38:34.466Z"
   },
   {
    "duration": -1451,
    "start_time": "2021-08-13T03:38:34.467Z"
   },
   {
    "duration": -1451,
    "start_time": "2021-08-13T03:38:34.468Z"
   },
   {
    "duration": -1452,
    "start_time": "2021-08-13T03:38:34.470Z"
   },
   {
    "duration": -1452,
    "start_time": "2021-08-13T03:38:34.471Z"
   },
   {
    "duration": -1451,
    "start_time": "2021-08-13T03:38:34.472Z"
   },
   {
    "duration": -1451,
    "start_time": "2021-08-13T03:38:34.473Z"
   },
   {
    "duration": -1451,
    "start_time": "2021-08-13T03:38:34.474Z"
   },
   {
    "duration": -1452,
    "start_time": "2021-08-13T03:38:34.476Z"
   },
   {
    "duration": -1452,
    "start_time": "2021-08-13T03:38:34.477Z"
   },
   {
    "duration": -1451,
    "start_time": "2021-08-13T03:38:34.478Z"
   },
   {
    "duration": -1451,
    "start_time": "2021-08-13T03:38:34.479Z"
   },
   {
    "duration": -1451,
    "start_time": "2021-08-13T03:38:34.480Z"
   },
   {
    "duration": -1451,
    "start_time": "2021-08-13T03:38:34.481Z"
   },
   {
    "duration": -1451,
    "start_time": "2021-08-13T03:38:34.483Z"
   },
   {
    "duration": 6522,
    "start_time": "2021-08-13T03:39:04.161Z"
   },
   {
    "duration": 1562,
    "start_time": "2021-08-13T03:39:16.624Z"
   },
   {
    "duration": 15,
    "start_time": "2021-08-13T03:39:18.188Z"
   },
   {
    "duration": 25,
    "start_time": "2021-08-13T03:39:18.206Z"
   },
   {
    "duration": 389,
    "start_time": "2021-08-13T03:39:18.234Z"
   },
   {
    "duration": -1447,
    "start_time": "2021-08-13T03:39:20.073Z"
   },
   {
    "duration": -1446,
    "start_time": "2021-08-13T03:39:20.074Z"
   },
   {
    "duration": -1447,
    "start_time": "2021-08-13T03:39:20.076Z"
   },
   {
    "duration": -1447,
    "start_time": "2021-08-13T03:39:20.077Z"
   },
   {
    "duration": -1449,
    "start_time": "2021-08-13T03:39:20.081Z"
   },
   {
    "duration": -1450,
    "start_time": "2021-08-13T03:39:20.083Z"
   },
   {
    "duration": -1450,
    "start_time": "2021-08-13T03:39:20.085Z"
   },
   {
    "duration": -1450,
    "start_time": "2021-08-13T03:39:20.086Z"
   },
   {
    "duration": -1453,
    "start_time": "2021-08-13T03:39:20.090Z"
   },
   {
    "duration": -1453,
    "start_time": "2021-08-13T03:39:20.092Z"
   },
   {
    "duration": -1453,
    "start_time": "2021-08-13T03:39:20.093Z"
   },
   {
    "duration": -1456,
    "start_time": "2021-08-13T03:39:20.097Z"
   },
   {
    "duration": -1457,
    "start_time": "2021-08-13T03:39:20.099Z"
   },
   {
    "duration": -1458,
    "start_time": "2021-08-13T03:39:20.101Z"
   },
   {
    "duration": -1457,
    "start_time": "2021-08-13T03:39:20.102Z"
   },
   {
    "duration": -1457,
    "start_time": "2021-08-13T03:39:20.103Z"
   },
   {
    "duration": -1460,
    "start_time": "2021-08-13T03:39:20.107Z"
   },
   {
    "duration": -1460,
    "start_time": "2021-08-13T03:39:20.109Z"
   },
   {
    "duration": -1460,
    "start_time": "2021-08-13T03:39:20.110Z"
   },
   {
    "duration": -1463,
    "start_time": "2021-08-13T03:39:20.114Z"
   },
   {
    "duration": -1464,
    "start_time": "2021-08-13T03:39:20.116Z"
   },
   {
    "duration": -1464,
    "start_time": "2021-08-13T03:39:20.118Z"
   },
   {
    "duration": -1521,
    "start_time": "2021-08-13T03:39:20.176Z"
   },
   {
    "duration": -1525,
    "start_time": "2021-08-13T03:39:20.181Z"
   },
   {
    "duration": 1487,
    "start_time": "2021-08-13T03:39:47.189Z"
   },
   {
    "duration": 15,
    "start_time": "2021-08-13T03:39:48.679Z"
   },
   {
    "duration": 22,
    "start_time": "2021-08-13T03:39:48.697Z"
   },
   {
    "duration": 709,
    "start_time": "2021-08-13T03:39:48.723Z"
   },
   {
    "duration": -1903,
    "start_time": "2021-08-13T03:39:51.338Z"
   },
   {
    "duration": -1904,
    "start_time": "2021-08-13T03:39:51.340Z"
   },
   {
    "duration": -1903,
    "start_time": "2021-08-13T03:39:51.341Z"
   },
   {
    "duration": -1916,
    "start_time": "2021-08-13T03:39:51.355Z"
   },
   {
    "duration": -1916,
    "start_time": "2021-08-13T03:39:51.357Z"
   },
   {
    "duration": -1916,
    "start_time": "2021-08-13T03:39:51.358Z"
   },
   {
    "duration": -1919,
    "start_time": "2021-08-13T03:39:51.363Z"
   },
   {
    "duration": -1919,
    "start_time": "2021-08-13T03:39:51.364Z"
   },
   {
    "duration": -1925,
    "start_time": "2021-08-13T03:39:51.371Z"
   },
   {
    "duration": -1925,
    "start_time": "2021-08-13T03:39:51.372Z"
   },
   {
    "duration": -1927,
    "start_time": "2021-08-13T03:39:51.375Z"
   },
   {
    "duration": -1926,
    "start_time": "2021-08-13T03:39:51.376Z"
   },
   {
    "duration": -1932,
    "start_time": "2021-08-13T03:39:51.383Z"
   },
   {
    "duration": -1933,
    "start_time": "2021-08-13T03:39:51.385Z"
   },
   {
    "duration": -2034,
    "start_time": "2021-08-13T03:39:51.488Z"
   },
   {
    "duration": -2036,
    "start_time": "2021-08-13T03:39:51.491Z"
   },
   {
    "duration": -2037,
    "start_time": "2021-08-13T03:39:51.493Z"
   },
   {
    "duration": -2038,
    "start_time": "2021-08-13T03:39:51.495Z"
   },
   {
    "duration": -2038,
    "start_time": "2021-08-13T03:39:51.496Z"
   },
   {
    "duration": -2037,
    "start_time": "2021-08-13T03:39:51.497Z"
   },
   {
    "duration": -2037,
    "start_time": "2021-08-13T03:39:51.498Z"
   },
   {
    "duration": -2037,
    "start_time": "2021-08-13T03:39:51.499Z"
   },
   {
    "duration": -2037,
    "start_time": "2021-08-13T03:39:51.501Z"
   },
   {
    "duration": -2040,
    "start_time": "2021-08-13T03:39:51.505Z"
   },
   {
    "duration": 10,
    "start_time": "2021-08-13T03:40:48.177Z"
   },
   {
    "duration": 19,
    "start_time": "2021-08-13T03:42:05.460Z"
   },
   {
    "duration": 29,
    "start_time": "2021-08-13T03:42:07.608Z"
   },
   {
    "duration": 1516,
    "start_time": "2021-08-13T03:42:16.788Z"
   },
   {
    "duration": 17,
    "start_time": "2021-08-13T03:42:18.307Z"
   },
   {
    "duration": 38,
    "start_time": "2021-08-13T03:42:18.328Z"
   },
   {
    "duration": 23,
    "start_time": "2021-08-13T03:42:18.370Z"
   },
   {
    "duration": 33,
    "start_time": "2021-08-13T03:42:18.396Z"
   },
   {
    "duration": 12,
    "start_time": "2021-08-13T03:42:18.463Z"
   },
   {
    "duration": 17,
    "start_time": "2021-08-13T03:42:18.477Z"
   },
   {
    "duration": 28,
    "start_time": "2021-08-13T03:42:18.497Z"
   },
   {
    "duration": 323,
    "start_time": "2021-08-13T03:42:18.528Z"
   },
   {
    "duration": 11,
    "start_time": "2021-08-13T03:42:18.853Z"
   },
   {
    "duration": 722,
    "start_time": "2021-08-13T03:42:18.867Z"
   },
   {
    "duration": 10,
    "start_time": "2021-08-13T03:42:19.592Z"
   },
   {
    "duration": 22,
    "start_time": "2021-08-13T03:42:19.605Z"
   },
   {
    "duration": 294,
    "start_time": "2021-08-13T03:42:19.661Z"
   },
   {
    "duration": 417,
    "start_time": "2021-08-13T03:42:19.958Z"
   },
   {
    "duration": 412,
    "start_time": "2021-08-13T03:42:20.377Z"
   },
   {
    "duration": 22,
    "start_time": "2021-08-13T03:42:20.791Z"
   },
   {
    "duration": 48,
    "start_time": "2021-08-13T03:42:20.816Z"
   },
   {
    "duration": 19,
    "start_time": "2021-08-13T03:42:20.866Z"
   },
   {
    "duration": 18,
    "start_time": "2021-08-13T03:42:20.888Z"
   },
   {
    "duration": 56,
    "start_time": "2021-08-13T03:42:20.908Z"
   },
   {
    "duration": 25,
    "start_time": "2021-08-13T03:42:20.966Z"
   },
   {
    "duration": 20,
    "start_time": "2021-08-13T03:42:20.995Z"
   },
   {
    "duration": 59,
    "start_time": "2021-08-13T03:42:21.017Z"
   },
   {
    "duration": 20,
    "start_time": "2021-08-13T03:42:21.078Z"
   },
   {
    "duration": 22,
    "start_time": "2021-08-13T03:42:21.100Z"
   },
   {
    "duration": 50,
    "start_time": "2021-08-13T03:42:21.124Z"
   },
   {
    "duration": 11,
    "start_time": "2021-08-13T03:42:21.177Z"
   },
   {
    "duration": 11,
    "start_time": "2021-08-13T03:43:17.678Z"
   },
   {
    "duration": 31,
    "start_time": "2021-08-13T03:43:19.877Z"
   },
   {
    "duration": 1549,
    "start_time": "2021-08-13T03:43:26.149Z"
   },
   {
    "duration": 15,
    "start_time": "2021-08-13T03:43:27.700Z"
   },
   {
    "duration": 30,
    "start_time": "2021-08-13T03:43:27.718Z"
   },
   {
    "duration": 441,
    "start_time": "2021-08-13T03:43:27.751Z"
   },
   {
    "duration": -1323,
    "start_time": "2021-08-13T03:43:29.518Z"
   },
   {
    "duration": -1324,
    "start_time": "2021-08-13T03:43:29.520Z"
   },
   {
    "duration": -1371,
    "start_time": "2021-08-13T03:43:29.569Z"
   },
   {
    "duration": -1371,
    "start_time": "2021-08-13T03:43:29.571Z"
   },
   {
    "duration": -1369,
    "start_time": "2021-08-13T03:43:29.572Z"
   },
   {
    "duration": -1368,
    "start_time": "2021-08-13T03:43:29.573Z"
   },
   {
    "duration": -1481,
    "start_time": "2021-08-13T03:43:29.688Z"
   },
   {
    "duration": -1484,
    "start_time": "2021-08-13T03:43:29.693Z"
   },
   {
    "duration": -1483,
    "start_time": "2021-08-13T03:43:29.694Z"
   },
   {
    "duration": -1481,
    "start_time": "2021-08-13T03:43:29.695Z"
   },
   {
    "duration": -1480,
    "start_time": "2021-08-13T03:43:29.696Z"
   },
   {
    "duration": -1479,
    "start_time": "2021-08-13T03:43:29.697Z"
   },
   {
    "duration": -1478,
    "start_time": "2021-08-13T03:43:29.698Z"
   },
   {
    "duration": -1479,
    "start_time": "2021-08-13T03:43:29.701Z"
   },
   {
    "duration": -1481,
    "start_time": "2021-08-13T03:43:29.705Z"
   },
   {
    "duration": -1480,
    "start_time": "2021-08-13T03:43:29.706Z"
   },
   {
    "duration": -1480,
    "start_time": "2021-08-13T03:43:29.707Z"
   },
   {
    "duration": -1447,
    "start_time": "2021-08-13T03:43:29.709Z"
   },
   {
    "duration": -1447,
    "start_time": "2021-08-13T03:43:29.710Z"
   },
   {
    "duration": -1449,
    "start_time": "2021-08-13T03:43:29.714Z"
   },
   {
    "duration": -1451,
    "start_time": "2021-08-13T03:43:29.717Z"
   },
   {
    "duration": -1451,
    "start_time": "2021-08-13T03:43:29.719Z"
   },
   {
    "duration": -1480,
    "start_time": "2021-08-13T03:43:29.749Z"
   },
   {
    "duration": -1480,
    "start_time": "2021-08-13T03:43:29.750Z"
   },
   {
    "duration": 265,
    "start_time": "2021-08-13T03:46:37.609Z"
   },
   {
    "duration": 339,
    "start_time": "2021-08-13T03:46:58.655Z"
   },
   {
    "duration": 21,
    "start_time": "2021-08-13T03:47:44.978Z"
   },
   {
    "duration": 38,
    "start_time": "2021-08-13T03:47:47.687Z"
   },
   {
    "duration": 1650,
    "start_time": "2021-08-13T03:47:54.968Z"
   },
   {
    "duration": 18,
    "start_time": "2021-08-13T03:47:56.620Z"
   },
   {
    "duration": 41,
    "start_time": "2021-08-13T03:47:56.642Z"
   },
   {
    "duration": 39,
    "start_time": "2021-08-13T03:47:56.686Z"
   },
   {
    "duration": 54,
    "start_time": "2021-08-13T03:47:56.735Z"
   },
   {
    "duration": 9,
    "start_time": "2021-08-13T03:47:56.791Z"
   },
   {
    "duration": 12,
    "start_time": "2021-08-13T03:47:56.803Z"
   },
   {
    "duration": 61,
    "start_time": "2021-08-13T03:47:56.819Z"
   },
   {
    "duration": 300,
    "start_time": "2021-08-13T03:47:56.883Z"
   },
   {
    "duration": 7,
    "start_time": "2021-08-13T03:47:57.185Z"
   },
   {
    "duration": 772,
    "start_time": "2021-08-13T03:47:57.194Z"
   },
   {
    "duration": 7,
    "start_time": "2021-08-13T03:47:57.969Z"
   },
   {
    "duration": 22,
    "start_time": "2021-08-13T03:47:57.978Z"
   },
   {
    "duration": 328,
    "start_time": "2021-08-13T03:47:58.002Z"
   },
   {
    "duration": 410,
    "start_time": "2021-08-13T03:47:58.332Z"
   },
   {
    "duration": 412,
    "start_time": "2021-08-13T03:47:58.745Z"
   },
   {
    "duration": 23,
    "start_time": "2021-08-13T03:47:59.162Z"
   },
   {
    "duration": 26,
    "start_time": "2021-08-13T03:47:59.188Z"
   },
   {
    "duration": 18,
    "start_time": "2021-08-13T03:47:59.216Z"
   },
   {
    "duration": 20,
    "start_time": "2021-08-13T03:47:59.262Z"
   },
   {
    "duration": 25,
    "start_time": "2021-08-13T03:47:59.284Z"
   },
   {
    "duration": 20,
    "start_time": "2021-08-13T03:47:59.312Z"
   },
   {
    "duration": 45,
    "start_time": "2021-08-13T03:47:59.336Z"
   },
   {
    "duration": 24,
    "start_time": "2021-08-13T03:47:59.384Z"
   },
   {
    "duration": 22,
    "start_time": "2021-08-13T03:47:59.410Z"
   },
   {
    "duration": 20,
    "start_time": "2021-08-13T03:47:59.463Z"
   },
   {
    "duration": 36,
    "start_time": "2021-08-13T03:47:59.486Z"
   },
   {
    "duration": 11,
    "start_time": "2021-08-13T03:47:59.525Z"
   },
   {
    "duration": 407,
    "start_time": "2021-08-13T03:48:41.450Z"
   },
   {
    "duration": 485,
    "start_time": "2021-08-13T03:49:17.933Z"
   },
   {
    "duration": 1802,
    "start_time": "2021-08-13T03:50:24.665Z"
   },
   {
    "duration": 20,
    "start_time": "2021-08-13T03:50:26.471Z"
   },
   {
    "duration": 32,
    "start_time": "2021-08-13T03:50:26.496Z"
   },
   {
    "duration": 53,
    "start_time": "2021-08-13T03:50:26.532Z"
   },
   {
    "duration": 43,
    "start_time": "2021-08-13T03:50:26.588Z"
   },
   {
    "duration": 36,
    "start_time": "2021-08-13T03:50:26.635Z"
   },
   {
    "duration": 23,
    "start_time": "2021-08-13T03:50:26.674Z"
   },
   {
    "duration": 32,
    "start_time": "2021-08-13T03:50:26.702Z"
   },
   {
    "duration": 332,
    "start_time": "2021-08-13T03:50:26.738Z"
   },
   {
    "duration": 7,
    "start_time": "2021-08-13T03:50:27.072Z"
   },
   {
    "duration": 764,
    "start_time": "2021-08-13T03:50:27.081Z"
   },
   {
    "duration": 17,
    "start_time": "2021-08-13T03:50:27.848Z"
   },
   {
    "duration": 21,
    "start_time": "2021-08-13T03:50:27.868Z"
   },
   {
    "duration": 307,
    "start_time": "2021-08-13T03:50:27.892Z"
   },
   {
    "duration": 460,
    "start_time": "2021-08-13T03:50:28.201Z"
   },
   {
    "duration": 400,
    "start_time": "2021-08-13T03:50:28.664Z"
   },
   {
    "duration": 21,
    "start_time": "2021-08-13T03:50:29.066Z"
   },
   {
    "duration": 30,
    "start_time": "2021-08-13T03:50:29.091Z"
   },
   {
    "duration": 60,
    "start_time": "2021-08-13T03:50:29.125Z"
   },
   {
    "duration": 19,
    "start_time": "2021-08-13T03:50:29.188Z"
   },
   {
    "duration": 53,
    "start_time": "2021-08-13T03:50:29.211Z"
   },
   {
    "duration": 22,
    "start_time": "2021-08-13T03:50:29.266Z"
   },
   {
    "duration": 19,
    "start_time": "2021-08-13T03:50:29.293Z"
   },
   {
    "duration": 49,
    "start_time": "2021-08-13T03:50:29.314Z"
   },
   {
    "duration": 19,
    "start_time": "2021-08-13T03:50:29.366Z"
   },
   {
    "duration": 18,
    "start_time": "2021-08-13T03:50:29.388Z"
   },
   {
    "duration": 53,
    "start_time": "2021-08-13T03:50:29.409Z"
   },
   {
    "duration": 11,
    "start_time": "2021-08-13T03:50:29.464Z"
   },
   {
    "duration": 18,
    "start_time": "2021-08-13T03:59:16.999Z"
   },
   {
    "duration": 16,
    "start_time": "2021-08-13T03:59:20.259Z"
   },
   {
    "duration": 445,
    "start_time": "2021-08-13T03:59:36.490Z"
   },
   {
    "duration": 775,
    "start_time": "2021-08-13T03:59:43.887Z"
   },
   {
    "duration": 683,
    "start_time": "2021-08-13T03:59:50.495Z"
   },
   {
    "duration": 675,
    "start_time": "2021-08-13T04:00:05.263Z"
   },
   {
    "duration": 672,
    "start_time": "2021-08-13T04:00:13.828Z"
   },
   {
    "duration": 689,
    "start_time": "2021-08-13T04:01:02.750Z"
   },
   {
    "duration": 671,
    "start_time": "2021-08-13T04:01:17.853Z"
   },
   {
    "duration": 372,
    "start_time": "2021-08-13T04:01:35.428Z"
   },
   {
    "duration": 677,
    "start_time": "2021-08-13T04:01:48.470Z"
   },
   {
    "duration": 781,
    "start_time": "2021-08-13T04:02:21.304Z"
   },
   {
    "duration": 795,
    "start_time": "2021-08-13T04:02:50.256Z"
   },
   {
    "duration": 787,
    "start_time": "2021-08-13T04:03:58.090Z"
   },
   {
    "duration": 727,
    "start_time": "2021-08-13T04:04:15.246Z"
   },
   {
    "duration": 1036,
    "start_time": "2021-08-13T04:04:20.894Z"
   },
   {
    "duration": 808,
    "start_time": "2021-08-13T04:04:26.269Z"
   },
   {
    "duration": 699,
    "start_time": "2021-08-13T04:04:31.209Z"
   },
   {
    "duration": 1986,
    "start_time": "2021-08-13T04:04:42.269Z"
   },
   {
    "duration": 785,
    "start_time": "2021-08-13T04:04:55.895Z"
   },
   {
    "duration": 698,
    "start_time": "2021-08-13T04:05:21.757Z"
   },
   {
    "duration": 907,
    "start_time": "2021-08-13T04:05:36.902Z"
   },
   {
    "duration": 997,
    "start_time": "2021-08-13T04:07:42.407Z"
   },
   {
    "duration": 710,
    "start_time": "2021-08-13T04:10:51.219Z"
   },
   {
    "duration": 514,
    "start_time": "2021-08-13T04:11:14.230Z"
   },
   {
    "duration": 787,
    "start_time": "2021-08-13T04:11:27.086Z"
   },
   {
    "duration": 316,
    "start_time": "2021-08-13T04:11:34.709Z"
   },
   {
    "duration": 438,
    "start_time": "2021-08-13T04:12:00.385Z"
   },
   {
    "duration": 495,
    "start_time": "2021-08-13T04:12:06.722Z"
   },
   {
    "duration": 251,
    "start_time": "2021-08-13T04:22:58.021Z"
   },
   {
    "duration": 292,
    "start_time": "2021-08-13T04:23:55.160Z"
   },
   {
    "duration": 295,
    "start_time": "2021-08-13T04:26:57.247Z"
   },
   {
    "duration": 21,
    "start_time": "2021-08-13T04:27:00.845Z"
   },
   {
    "duration": 1757,
    "start_time": "2021-08-13T04:30:30.718Z"
   },
   {
    "duration": 14,
    "start_time": "2021-08-13T04:30:32.478Z"
   },
   {
    "duration": 26,
    "start_time": "2021-08-13T04:30:32.495Z"
   },
   {
    "duration": 38,
    "start_time": "2021-08-13T04:30:32.524Z"
   },
   {
    "duration": 31,
    "start_time": "2021-08-13T04:30:32.564Z"
   },
   {
    "duration": 13,
    "start_time": "2021-08-13T04:30:32.598Z"
   },
   {
    "duration": 12,
    "start_time": "2021-08-13T04:30:32.614Z"
   },
   {
    "duration": 58,
    "start_time": "2021-08-13T04:30:32.630Z"
   },
   {
    "duration": 342,
    "start_time": "2021-08-13T04:30:32.691Z"
   },
   {
    "duration": 6,
    "start_time": "2021-08-13T04:30:33.036Z"
   },
   {
    "duration": 538,
    "start_time": "2021-08-13T04:30:33.044Z"
   },
   {
    "duration": 7,
    "start_time": "2021-08-13T04:30:33.585Z"
   },
   {
    "duration": 20,
    "start_time": "2021-08-13T04:30:33.595Z"
   },
   {
    "duration": 306,
    "start_time": "2021-08-13T04:30:33.617Z"
   },
   {
    "duration": 465,
    "start_time": "2021-08-13T04:30:33.925Z"
   },
   {
    "duration": 446,
    "start_time": "2021-08-13T04:30:34.393Z"
   },
   {
    "duration": 1219,
    "start_time": "2021-08-13T04:30:34.842Z"
   },
   {
    "duration": 30,
    "start_time": "2021-08-13T04:30:36.064Z"
   },
   {
    "duration": 27,
    "start_time": "2021-08-13T04:30:36.097Z"
   },
   {
    "duration": 56,
    "start_time": "2021-08-13T04:30:36.127Z"
   },
   {
    "duration": 20,
    "start_time": "2021-08-13T04:30:36.186Z"
   },
   {
    "duration": 433,
    "start_time": "2021-08-13T04:30:36.209Z"
   },
   {
    "duration": -1140,
    "start_time": "2021-08-13T04:30:37.785Z"
   },
   {
    "duration": -1141,
    "start_time": "2021-08-13T04:30:37.787Z"
   },
   {
    "duration": -1140,
    "start_time": "2021-08-13T04:30:37.788Z"
   },
   {
    "duration": -1145,
    "start_time": "2021-08-13T04:30:37.794Z"
   },
   {
    "duration": -1144,
    "start_time": "2021-08-13T04:30:37.795Z"
   },
   {
    "duration": -1144,
    "start_time": "2021-08-13T04:30:37.797Z"
   },
   {
    "duration": 1477,
    "start_time": "2021-08-13T04:31:12.000Z"
   },
   {
    "duration": 18,
    "start_time": "2021-08-13T04:31:13.480Z"
   },
   {
    "duration": 30,
    "start_time": "2021-08-13T04:31:13.502Z"
   },
   {
    "duration": 40,
    "start_time": "2021-08-13T04:31:13.536Z"
   },
   {
    "duration": 30,
    "start_time": "2021-08-13T04:31:13.579Z"
   },
   {
    "duration": 10,
    "start_time": "2021-08-13T04:31:13.612Z"
   },
   {
    "duration": 13,
    "start_time": "2021-08-13T04:31:13.661Z"
   },
   {
    "duration": 28,
    "start_time": "2021-08-13T04:31:13.676Z"
   },
   {
    "duration": 359,
    "start_time": "2021-08-13T04:31:13.708Z"
   },
   {
    "duration": 6,
    "start_time": "2021-08-13T04:31:14.071Z"
   },
   {
    "duration": 559,
    "start_time": "2021-08-13T04:31:14.080Z"
   },
   {
    "duration": 7,
    "start_time": "2021-08-13T04:31:14.642Z"
   },
   {
    "duration": 28,
    "start_time": "2021-08-13T04:31:14.662Z"
   },
   {
    "duration": 292,
    "start_time": "2021-08-13T04:31:14.693Z"
   },
   {
    "duration": 429,
    "start_time": "2021-08-13T04:31:14.988Z"
   },
   {
    "duration": 485,
    "start_time": "2021-08-13T04:31:15.420Z"
   },
   {
    "duration": 848,
    "start_time": "2021-08-13T04:31:15.908Z"
   },
   {
    "duration": 21,
    "start_time": "2021-08-13T04:31:16.762Z"
   },
   {
    "duration": 23,
    "start_time": "2021-08-13T04:31:16.786Z"
   },
   {
    "duration": 19,
    "start_time": "2021-08-13T04:31:16.811Z"
   },
   {
    "duration": 27,
    "start_time": "2021-08-13T04:31:16.863Z"
   },
   {
    "duration": 27,
    "start_time": "2021-08-13T04:31:16.893Z"
   },
   {
    "duration": 58,
    "start_time": "2021-08-13T04:31:16.923Z"
   },
   {
    "duration": 27,
    "start_time": "2021-08-13T04:31:16.985Z"
   },
   {
    "duration": 56,
    "start_time": "2021-08-13T04:31:17.015Z"
   },
   {
    "duration": 20,
    "start_time": "2021-08-13T04:31:17.074Z"
   },
   {
    "duration": 20,
    "start_time": "2021-08-13T04:31:17.099Z"
   },
   {
    "duration": 48,
    "start_time": "2021-08-13T04:31:17.121Z"
   },
   {
    "duration": 14,
    "start_time": "2021-08-13T04:45:00.484Z"
   },
   {
    "duration": 13,
    "start_time": "2021-08-13T04:45:15.989Z"
   },
   {
    "duration": 13,
    "start_time": "2021-08-13T04:45:22.415Z"
   },
   {
    "duration": 11,
    "start_time": "2021-08-13T04:46:46.417Z"
   },
   {
    "duration": 13,
    "start_time": "2021-08-13T04:47:32.165Z"
   },
   {
    "duration": 14,
    "start_time": "2021-08-13T04:47:59.271Z"
   },
   {
    "duration": 14,
    "start_time": "2021-08-13T04:48:03.303Z"
   },
   {
    "duration": 1502,
    "start_time": "2021-08-13T04:54:11.887Z"
   },
   {
    "duration": 18,
    "start_time": "2021-08-13T04:54:13.392Z"
   },
   {
    "duration": 24,
    "start_time": "2021-08-13T04:54:13.413Z"
   },
   {
    "duration": 22,
    "start_time": "2021-08-13T04:54:13.461Z"
   },
   {
    "duration": 28,
    "start_time": "2021-08-13T04:54:13.485Z"
   },
   {
    "duration": 11,
    "start_time": "2021-08-13T04:54:13.516Z"
   },
   {
    "duration": 42,
    "start_time": "2021-08-13T04:54:13.529Z"
   },
   {
    "duration": 28,
    "start_time": "2021-08-13T04:54:13.575Z"
   },
   {
    "duration": 371,
    "start_time": "2021-08-13T04:54:13.606Z"
   },
   {
    "duration": 6,
    "start_time": "2021-08-13T04:54:13.979Z"
   },
   {
    "duration": 556,
    "start_time": "2021-08-13T04:54:13.988Z"
   },
   {
    "duration": 18,
    "start_time": "2021-08-13T04:54:14.546Z"
   },
   {
    "duration": 26,
    "start_time": "2021-08-13T04:54:14.567Z"
   },
   {
    "duration": 309,
    "start_time": "2021-08-13T04:54:14.596Z"
   },
   {
    "duration": 502,
    "start_time": "2021-08-13T04:54:14.908Z"
   },
   {
    "duration": 501,
    "start_time": "2021-08-13T04:54:15.413Z"
   },
   {
    "duration": 832,
    "start_time": "2021-08-13T04:54:15.917Z"
   },
   {
    "duration": 31,
    "start_time": "2021-08-13T04:54:16.752Z"
   },
   {
    "duration": 21,
    "start_time": "2021-08-13T04:54:16.785Z"
   },
   {
    "duration": 54,
    "start_time": "2021-08-13T04:54:16.809Z"
   },
   {
    "duration": 21,
    "start_time": "2021-08-13T04:54:16.866Z"
   },
   {
    "duration": 24,
    "start_time": "2021-08-13T04:54:16.889Z"
   },
   {
    "duration": 55,
    "start_time": "2021-08-13T04:54:16.917Z"
   },
   {
    "duration": 21,
    "start_time": "2021-08-13T04:54:16.974Z"
   },
   {
    "duration": 20,
    "start_time": "2021-08-13T04:54:16.997Z"
   },
   {
    "duration": 58,
    "start_time": "2021-08-13T04:54:17.019Z"
   },
   {
    "duration": 20,
    "start_time": "2021-08-13T04:54:17.079Z"
   },
   {
    "duration": 16,
    "start_time": "2021-08-13T04:54:17.101Z"
   },
   {
    "duration": 49,
    "start_time": "2021-08-13T04:54:17.120Z"
   },
   {
    "duration": 1475,
    "start_time": "2021-08-13T05:08:09.221Z"
   },
   {
    "duration": 14,
    "start_time": "2021-08-13T05:08:10.699Z"
   },
   {
    "duration": 26,
    "start_time": "2021-08-13T05:08:10.717Z"
   },
   {
    "duration": 34,
    "start_time": "2021-08-13T05:08:10.746Z"
   },
   {
    "duration": 32,
    "start_time": "2021-08-13T05:08:10.783Z"
   },
   {
    "duration": 44,
    "start_time": "2021-08-13T05:08:10.818Z"
   },
   {
    "duration": 14,
    "start_time": "2021-08-13T05:08:10.864Z"
   },
   {
    "duration": 27,
    "start_time": "2021-08-13T05:08:10.882Z"
   },
   {
    "duration": 369,
    "start_time": "2021-08-13T05:08:10.912Z"
   },
   {
    "duration": 6,
    "start_time": "2021-08-13T05:08:11.283Z"
   },
   {
    "duration": 573,
    "start_time": "2021-08-13T05:08:11.291Z"
   },
   {
    "duration": 7,
    "start_time": "2021-08-13T05:08:11.867Z"
   },
   {
    "duration": 29,
    "start_time": "2021-08-13T05:08:11.876Z"
   },
   {
    "duration": 303,
    "start_time": "2021-08-13T05:08:11.907Z"
   },
   {
    "duration": 595,
    "start_time": "2021-08-13T05:08:12.212Z"
   },
   {
    "duration": 465,
    "start_time": "2021-08-13T05:08:12.810Z"
   },
   {
    "duration": 826,
    "start_time": "2021-08-13T05:08:13.277Z"
   },
   {
    "duration": 22,
    "start_time": "2021-08-13T05:08:14.105Z"
   },
   {
    "duration": 46,
    "start_time": "2021-08-13T05:08:14.129Z"
   },
   {
    "duration": 22,
    "start_time": "2021-08-13T05:08:14.177Z"
   },
   {
    "duration": 26,
    "start_time": "2021-08-13T05:08:14.202Z"
   },
   {
    "duration": 45,
    "start_time": "2021-08-13T05:08:14.231Z"
   },
   {
    "duration": 20,
    "start_time": "2021-08-13T05:08:14.281Z"
   },
   {
    "duration": 20,
    "start_time": "2021-08-13T05:08:14.304Z"
   },
   {
    "duration": 50,
    "start_time": "2021-08-13T05:08:14.327Z"
   },
   {
    "duration": 22,
    "start_time": "2021-08-13T05:08:14.380Z"
   },
   {
    "duration": 23,
    "start_time": "2021-08-13T05:08:14.405Z"
   },
   {
    "duration": 42,
    "start_time": "2021-08-13T05:08:14.431Z"
   },
   {
    "duration": 13,
    "start_time": "2021-08-13T05:08:14.475Z"
   },
   {
    "duration": 1047,
    "start_time": "2021-08-13T19:55:51.209Z"
   },
   {
    "duration": 9,
    "start_time": "2021-08-13T19:55:52.258Z"
   },
   {
    "duration": 12,
    "start_time": "2021-08-13T19:55:52.271Z"
   },
   {
    "duration": 17,
    "start_time": "2021-08-13T19:55:52.285Z"
   },
   {
    "duration": 17,
    "start_time": "2021-08-13T19:55:52.303Z"
   },
   {
    "duration": 6,
    "start_time": "2021-08-13T19:55:52.321Z"
   },
   {
    "duration": 8,
    "start_time": "2021-08-13T19:55:52.329Z"
   },
   {
    "duration": 15,
    "start_time": "2021-08-13T19:55:52.338Z"
   },
   {
    "duration": 208,
    "start_time": "2021-08-13T19:55:52.355Z"
   },
   {
    "duration": 5,
    "start_time": "2021-08-13T19:55:52.565Z"
   },
   {
    "duration": 298,
    "start_time": "2021-08-13T19:55:52.572Z"
   },
   {
    "duration": 5,
    "start_time": "2021-08-13T19:55:52.872Z"
   },
   {
    "duration": 21,
    "start_time": "2021-08-13T19:55:52.878Z"
   },
   {
    "duration": 154,
    "start_time": "2021-08-13T19:55:52.900Z"
   },
   {
    "duration": 319,
    "start_time": "2021-08-13T19:55:53.056Z"
   },
   {
    "duration": 336,
    "start_time": "2021-08-13T19:55:53.376Z"
   },
   {
    "duration": 441,
    "start_time": "2021-08-13T19:55:53.713Z"
   },
   {
    "duration": 12,
    "start_time": "2021-08-13T19:55:54.156Z"
   },
   {
    "duration": 23,
    "start_time": "2021-08-13T19:55:54.169Z"
   },
   {
    "duration": 10,
    "start_time": "2021-08-13T19:55:54.194Z"
   },
   {
    "duration": 12,
    "start_time": "2021-08-13T19:55:54.206Z"
   },
   {
    "duration": 10,
    "start_time": "2021-08-13T19:55:54.221Z"
   },
   {
    "duration": 13,
    "start_time": "2021-08-13T19:55:54.233Z"
   },
   {
    "duration": 12,
    "start_time": "2021-08-13T19:55:54.247Z"
   },
   {
    "duration": 39,
    "start_time": "2021-08-13T19:55:54.260Z"
   },
   {
    "duration": 10,
    "start_time": "2021-08-13T19:55:54.301Z"
   },
   {
    "duration": 12,
    "start_time": "2021-08-13T19:55:54.313Z"
   },
   {
    "duration": 12,
    "start_time": "2021-08-13T19:55:54.326Z"
   },
   {
    "duration": 13,
    "start_time": "2021-08-13T19:55:54.340Z"
   },
   {
    "duration": 227,
    "start_time": "2021-08-13T22:27:55.730Z"
   },
   {
    "duration": 1190,
    "start_time": "2021-08-13T22:28:02.179Z"
   },
   {
    "duration": 12,
    "start_time": "2021-08-13T22:28:03.372Z"
   },
   {
    "duration": 17,
    "start_time": "2021-08-13T22:28:03.387Z"
   },
   {
    "duration": 16,
    "start_time": "2021-08-13T22:28:03.406Z"
   },
   {
    "duration": 20,
    "start_time": "2021-08-13T22:28:03.423Z"
   },
   {
    "duration": 40,
    "start_time": "2021-08-13T22:28:03.445Z"
   },
   {
    "duration": 10,
    "start_time": "2021-08-13T22:28:03.487Z"
   },
   {
    "duration": 19,
    "start_time": "2021-08-13T22:28:03.499Z"
   },
   {
    "duration": 232,
    "start_time": "2021-08-13T22:28:03.521Z"
   },
   {
    "duration": 6,
    "start_time": "2021-08-13T22:28:03.756Z"
   },
   {
    "duration": 361,
    "start_time": "2021-08-13T22:28:03.764Z"
   },
   {
    "duration": 5,
    "start_time": "2021-08-13T22:28:04.127Z"
   },
   {
    "duration": 15,
    "start_time": "2021-08-13T22:28:04.134Z"
   },
   {
    "duration": 189,
    "start_time": "2021-08-13T22:28:04.150Z"
   },
   {
    "duration": 327,
    "start_time": "2021-08-13T22:28:04.341Z"
   },
   {
    "duration": 360,
    "start_time": "2021-08-13T22:28:04.670Z"
   },
   {
    "duration": 527,
    "start_time": "2021-08-13T22:28:05.031Z"
   },
   {
    "duration": 13,
    "start_time": "2021-08-13T22:28:05.560Z"
   },
   {
    "duration": 20,
    "start_time": "2021-08-13T22:28:05.574Z"
   },
   {
    "duration": 11,
    "start_time": "2021-08-13T22:28:05.596Z"
   },
   {
    "duration": 12,
    "start_time": "2021-08-13T22:28:05.609Z"
   },
   {
    "duration": 12,
    "start_time": "2021-08-13T22:28:05.622Z"
   },
   {
    "duration": 14,
    "start_time": "2021-08-13T22:28:05.635Z"
   },
   {
    "duration": 42,
    "start_time": "2021-08-13T22:28:05.650Z"
   },
   {
    "duration": 13,
    "start_time": "2021-08-13T22:28:05.693Z"
   },
   {
    "duration": 17,
    "start_time": "2021-08-13T22:28:05.707Z"
   },
   {
    "duration": 12,
    "start_time": "2021-08-13T22:28:05.727Z"
   },
   {
    "duration": 15,
    "start_time": "2021-08-13T22:28:05.741Z"
   },
   {
    "duration": 32,
    "start_time": "2021-08-13T22:28:05.757Z"
   },
   {
    "duration": 10,
    "start_time": "2021-08-13T22:28:14.864Z"
   },
   {
    "duration": 269,
    "start_time": "2021-08-13T22:28:34.838Z"
   },
   {
    "duration": 187,
    "start_time": "2021-08-13T22:28:38.931Z"
   },
   {
    "duration": 9,
    "start_time": "2021-08-13T22:28:43.161Z"
   },
   {
    "duration": 273,
    "start_time": "2021-08-14T01:13:06.234Z"
   },
   {
    "duration": 289,
    "start_time": "2021-08-14T01:13:55.474Z"
   },
   {
    "duration": 304,
    "start_time": "2021-08-14T01:14:01.296Z"
   },
   {
    "duration": 397,
    "start_time": "2021-08-14T01:14:08.568Z"
   },
   {
    "duration": 411,
    "start_time": "2021-08-14T01:14:58.857Z"
   },
   {
    "duration": 401,
    "start_time": "2021-08-14T01:19:13.862Z"
   },
   {
    "duration": 286,
    "start_time": "2021-08-14T01:19:18.725Z"
   },
   {
    "duration": 5,
    "start_time": "2021-08-14T01:25:53.347Z"
   },
   {
    "duration": 5,
    "start_time": "2021-08-14T01:26:03.481Z"
   },
   {
    "duration": 4,
    "start_time": "2021-08-14T01:27:19.090Z"
   },
   {
    "duration": 5,
    "start_time": "2021-08-14T01:27:38.258Z"
   },
   {
    "duration": 414,
    "start_time": "2021-08-14T01:40:19.142Z"
   },
   {
    "duration": 413,
    "start_time": "2021-08-14T01:40:35.309Z"
   },
   {
    "duration": 341,
    "start_time": "2021-08-14T01:41:00.096Z"
   },
   {
    "duration": 296,
    "start_time": "2021-08-14T01:41:13.527Z"
   },
   {
    "duration": 342,
    "start_time": "2021-08-14T01:41:58.279Z"
   },
   {
    "duration": 309,
    "start_time": "2021-08-14T01:42:17.916Z"
   },
   {
    "duration": 479,
    "start_time": "2021-08-14T01:42:35.606Z"
   },
   {
    "duration": 502,
    "start_time": "2021-08-14T01:43:11.351Z"
   },
   {
    "duration": 431,
    "start_time": "2021-08-14T01:43:36.912Z"
   },
   {
    "duration": 1449,
    "start_time": "2021-08-14T08:42:02.987Z"
   },
   {
    "duration": 15,
    "start_time": "2021-08-14T08:42:04.439Z"
   },
   {
    "duration": 23,
    "start_time": "2021-08-14T08:42:04.458Z"
   },
   {
    "duration": 30,
    "start_time": "2021-08-14T08:42:04.484Z"
   },
   {
    "duration": 68,
    "start_time": "2021-08-14T08:42:04.518Z"
   },
   {
    "duration": 11,
    "start_time": "2021-08-14T08:42:04.589Z"
   },
   {
    "duration": 18,
    "start_time": "2021-08-14T08:42:04.603Z"
   },
   {
    "duration": 40,
    "start_time": "2021-08-14T08:42:04.655Z"
   },
   {
    "duration": 479,
    "start_time": "2021-08-14T08:42:04.698Z"
   },
   {
    "duration": 8,
    "start_time": "2021-08-14T08:42:05.180Z"
   },
   {
    "duration": 544,
    "start_time": "2021-08-14T08:42:05.190Z"
   },
   {
    "duration": 19,
    "start_time": "2021-08-14T08:42:05.736Z"
   },
   {
    "duration": 23,
    "start_time": "2021-08-14T08:42:05.758Z"
   },
   {
    "duration": 801,
    "start_time": "2021-08-14T08:42:05.783Z"
   },
   {
    "duration": 447,
    "start_time": "2021-08-14T08:42:06.586Z"
   },
   {
    "duration": 494,
    "start_time": "2021-08-14T08:42:07.036Z"
   },
   {
    "duration": 7,
    "start_time": "2021-08-14T08:42:07.532Z"
   },
   {
    "duration": 801,
    "start_time": "2021-08-14T08:42:07.541Z"
   },
   {
    "duration": 23,
    "start_time": "2021-08-14T08:42:08.344Z"
   },
   {
    "duration": 22,
    "start_time": "2021-08-14T08:42:08.370Z"
   },
   {
    "duration": 19,
    "start_time": "2021-08-14T08:42:08.394Z"
   },
   {
    "duration": 56,
    "start_time": "2021-08-14T08:42:08.415Z"
   },
   {
    "duration": 19,
    "start_time": "2021-08-14T08:42:08.476Z"
   },
   {
    "duration": 58,
    "start_time": "2021-08-14T08:42:08.498Z"
   },
   {
    "duration": 18,
    "start_time": "2021-08-14T08:42:08.559Z"
   },
   {
    "duration": 19,
    "start_time": "2021-08-14T08:42:08.579Z"
   },
   {
    "duration": 56,
    "start_time": "2021-08-14T08:42:08.600Z"
   },
   {
    "duration": 21,
    "start_time": "2021-08-14T08:42:08.658Z"
   },
   {
    "duration": 13,
    "start_time": "2021-08-14T08:42:08.681Z"
   },
   {
    "duration": 12,
    "start_time": "2021-08-14T08:42:08.696Z"
   }
  ],
  "kernelspec": {
   "display_name": "Python 3 (ipykernel)",
   "language": "python",
   "name": "python3"
  },
  "language_info": {
   "codemirror_mode": {
    "name": "ipython",
    "version": 3
   },
   "file_extension": ".py",
   "mimetype": "text/x-python",
   "name": "python",
   "nbconvert_exporter": "python",
   "pygments_lexer": "ipython3",
   "version": "3.9.5"
  },
  "toc": {
   "base_numbering": 1,
   "nav_menu": {},
   "number_sections": true,
   "sideBar": true,
   "skip_h1_title": true,
   "title_cell": "Table of Contents",
   "title_sidebar": "Contents",
   "toc_cell": false,
   "toc_position": {},
   "toc_section_display": true,
   "toc_window_display": false
  }
 },
 "nbformat": 4,
 "nbformat_minor": 2
}
