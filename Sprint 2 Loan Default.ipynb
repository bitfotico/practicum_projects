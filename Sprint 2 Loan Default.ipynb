{
 "cells": [
  {
   "cell_type": "markdown",
   "metadata": {},
   "source": [
    "# Analyzing borrowers’ risk of defaulting\n",
    "\n",
    "Our project is to prepare a report for a bank’s loan division. I’ll need to find out if a customer’s marital status and number of children has an impact on whether they will default on a loan. The bank has some data on customers’ credit worthiness.\n",
    "\n",
    "The report will be considered when building a credit scoring of a potential customer, which is used to evaluate the ability of a potential borrower to repay their loan."
   ]
  },
  {
   "cell_type": "markdown",
   "metadata": {},
   "source": [
    "## Open the data file and have a look at the general information. "
   ]
  },
  {
   "cell_type": "code",
   "execution_count": 1,
   "metadata": {},
   "outputs": [],
   "source": [
    "import pandas as pd\n",
    "import numpy as np\n",
    "from nltk.stem.snowball import SnowballStemmer"
   ]
  },
  {
   "cell_type": "code",
   "execution_count": 2,
   "metadata": {},
   "outputs": [],
   "source": [
    "try:\n",
    "    df = pd.read_csv('/datasets/credit_scoring_eng.csv')\n",
    "except:\n",
    "    df = pd.read_csv('/credit_scoring_eng.csv')"
   ]
  },
  {
   "cell_type": "code",
   "execution_count": 3,
   "metadata": {},
   "outputs": [
    {
     "data": {
      "text/html": [
       "<div>\n",
       "<style scoped>\n",
       "    .dataframe tbody tr th:only-of-type {\n",
       "        vertical-align: middle;\n",
       "    }\n",
       "\n",
       "    .dataframe tbody tr th {\n",
       "        vertical-align: top;\n",
       "    }\n",
       "\n",
       "    .dataframe thead th {\n",
       "        text-align: right;\n",
       "    }\n",
       "</style>\n",
       "<table border=\"1\" class=\"dataframe\">\n",
       "  <thead>\n",
       "    <tr style=\"text-align: right;\">\n",
       "      <th></th>\n",
       "      <th>children</th>\n",
       "      <th>days_employed</th>\n",
       "      <th>dob_years</th>\n",
       "      <th>education</th>\n",
       "      <th>education_id</th>\n",
       "      <th>family_status</th>\n",
       "      <th>family_status_id</th>\n",
       "      <th>gender</th>\n",
       "      <th>income_type</th>\n",
       "      <th>debt</th>\n",
       "      <th>total_income</th>\n",
       "      <th>purpose</th>\n",
       "    </tr>\n",
       "  </thead>\n",
       "  <tbody>\n",
       "    <tr>\n",
       "      <th>0</th>\n",
       "      <td>1</td>\n",
       "      <td>-8437.673028</td>\n",
       "      <td>42</td>\n",
       "      <td>bachelor's degree</td>\n",
       "      <td>0</td>\n",
       "      <td>married</td>\n",
       "      <td>0</td>\n",
       "      <td>F</td>\n",
       "      <td>employee</td>\n",
       "      <td>0</td>\n",
       "      <td>40620.102</td>\n",
       "      <td>purchase of the house</td>\n",
       "    </tr>\n",
       "    <tr>\n",
       "      <th>1</th>\n",
       "      <td>1</td>\n",
       "      <td>-4024.803754</td>\n",
       "      <td>36</td>\n",
       "      <td>secondary education</td>\n",
       "      <td>1</td>\n",
       "      <td>married</td>\n",
       "      <td>0</td>\n",
       "      <td>F</td>\n",
       "      <td>employee</td>\n",
       "      <td>0</td>\n",
       "      <td>17932.802</td>\n",
       "      <td>car purchase</td>\n",
       "    </tr>\n",
       "    <tr>\n",
       "      <th>2</th>\n",
       "      <td>0</td>\n",
       "      <td>-5623.422610</td>\n",
       "      <td>33</td>\n",
       "      <td>Secondary Education</td>\n",
       "      <td>1</td>\n",
       "      <td>married</td>\n",
       "      <td>0</td>\n",
       "      <td>M</td>\n",
       "      <td>employee</td>\n",
       "      <td>0</td>\n",
       "      <td>23341.752</td>\n",
       "      <td>purchase of the house</td>\n",
       "    </tr>\n",
       "    <tr>\n",
       "      <th>3</th>\n",
       "      <td>3</td>\n",
       "      <td>-4124.747207</td>\n",
       "      <td>32</td>\n",
       "      <td>secondary education</td>\n",
       "      <td>1</td>\n",
       "      <td>married</td>\n",
       "      <td>0</td>\n",
       "      <td>M</td>\n",
       "      <td>employee</td>\n",
       "      <td>0</td>\n",
       "      <td>42820.568</td>\n",
       "      <td>supplementary education</td>\n",
       "    </tr>\n",
       "    <tr>\n",
       "      <th>4</th>\n",
       "      <td>0</td>\n",
       "      <td>340266.072047</td>\n",
       "      <td>53</td>\n",
       "      <td>secondary education</td>\n",
       "      <td>1</td>\n",
       "      <td>civil partnership</td>\n",
       "      <td>1</td>\n",
       "      <td>F</td>\n",
       "      <td>retiree</td>\n",
       "      <td>0</td>\n",
       "      <td>25378.572</td>\n",
       "      <td>to have a wedding</td>\n",
       "    </tr>\n",
       "  </tbody>\n",
       "</table>\n",
       "</div>"
      ],
      "text/plain": [
       "   children  days_employed  dob_years            education  education_id  \\\n",
       "0         1   -8437.673028         42    bachelor's degree             0   \n",
       "1         1   -4024.803754         36  secondary education             1   \n",
       "2         0   -5623.422610         33  Secondary Education             1   \n",
       "3         3   -4124.747207         32  secondary education             1   \n",
       "4         0  340266.072047         53  secondary education             1   \n",
       "\n",
       "       family_status  family_status_id gender income_type  debt  total_income  \\\n",
       "0            married                 0      F    employee     0     40620.102   \n",
       "1            married                 0      F    employee     0     17932.802   \n",
       "2            married                 0      M    employee     0     23341.752   \n",
       "3            married                 0      M    employee     0     42820.568   \n",
       "4  civil partnership                 1      F     retiree     0     25378.572   \n",
       "\n",
       "                   purpose  \n",
       "0    purchase of the house  \n",
       "1             car purchase  \n",
       "2    purchase of the house  \n",
       "3  supplementary education  \n",
       "4        to have a wedding  "
      ]
     },
     "execution_count": 3,
     "metadata": {},
     "output_type": "execute_result"
    }
   ],
   "source": [
    "# Checking general DF info\n",
    "df.head()"
   ]
  },
  {
   "cell_type": "code",
   "execution_count": 4,
   "metadata": {},
   "outputs": [
    {
     "name": "stdout",
     "output_type": "stream",
     "text": [
      "<class 'pandas.core.frame.DataFrame'>\n",
      "RangeIndex: 21525 entries, 0 to 21524\n",
      "Data columns (total 12 columns):\n",
      " #   Column            Non-Null Count  Dtype  \n",
      "---  ------            --------------  -----  \n",
      " 0   children          21525 non-null  int64  \n",
      " 1   days_employed     19351 non-null  float64\n",
      " 2   dob_years         21525 non-null  int64  \n",
      " 3   education         21525 non-null  object \n",
      " 4   education_id      21525 non-null  int64  \n",
      " 5   family_status     21525 non-null  object \n",
      " 6   family_status_id  21525 non-null  int64  \n",
      " 7   gender            21525 non-null  object \n",
      " 8   income_type       21525 non-null  object \n",
      " 9   debt              21525 non-null  int64  \n",
      " 10  total_income      19351 non-null  float64\n",
      " 11  purpose           21525 non-null  object \n",
      "dtypes: float64(2), int64(5), object(5)\n",
      "memory usage: 2.0+ MB\n"
     ]
    }
   ],
   "source": [
    "# Checking general DF info\n",
    "df.info()"
   ]
  },
  {
   "cell_type": "markdown",
   "metadata": {},
   "source": [
    "### Conclusion"
   ]
  },
  {
   "cell_type": "markdown",
   "metadata": {},
   "source": [
    "The column days_employed seems to have a lot of impossible numbers, mostly consisting of negative days and days that go past the life-span of the one working in it - for now it seems that all of those with an extreme amount of days employed are retired, and are likely an error, while those in the negative are reasonable and likely correct and simply need to be turned into positive numbers."
   ]
  },
  {
   "cell_type": "markdown",
   "metadata": {},
   "source": [
    "## Data preprocessing"
   ]
  },
  {
   "cell_type": "markdown",
   "metadata": {},
   "source": [
    "### Processing missing values"
   ]
  },
  {
   "cell_type": "code",
   "execution_count": 5,
   "metadata": {
    "scrolled": false
   },
   "outputs": [],
   "source": [
    "df['days_employed'] = df['days_employed'].abs()\n",
    "df.loc[df['income_type'].eq('retiree'), 'days_employed'] = np.nan"
   ]
  },
  {
   "cell_type": "markdown",
   "metadata": {},
   "source": [
    "### Conclusion"
   ]
  },
  {
   "cell_type": "markdown",
   "metadata": {},
   "source": [
    "Some rows have NaN as both days_employed and total_income for an individual. There may be the possibility that it's because they no longer have the job anymore and may be unemployed, but some with NaN values for both are listed as employees under income_type. It could be possible they lied about being employeed and continued filling the rest of the questionare with N/A or something similar for income-related questions. These have an undetermined reason for why they are NaN but aren't completely random, so they will be kept in the data and left as they are, since I can still work with these rows as they are."
   ]
  },
  {
   "cell_type": "markdown",
   "metadata": {},
   "source": [
    "### Data type replacement"
   ]
  },
  {
   "cell_type": "code",
   "execution_count": 6,
   "metadata": {},
   "outputs": [],
   "source": [
    "# Using .contains() to replace strings with more general\n",
    "df.loc[df['purpose'].str.contains('car', 'purpose'), 'purpose'] = 'car'\n",
    "df.loc[df['purpose'].str.contains('educat|university'), 'purpose'] = 'education'\n",
    "df.loc[df['purpose'].str.contains('wedding'), 'purpose'] = 'marriage'\n",
    "df.loc[df['purpose'].str.contains('hous|estate|propert'), 'purpose'] = 'house'\n",
    "\n",
    "df['dob_years'] = df['dob_years'].replace([0], np.NaN)\n",
    "df['children'] = df['children'].replace([-1], np.NaN)"
   ]
  },
  {
   "cell_type": "code",
   "execution_count": 21,
   "metadata": {},
   "outputs": [
    {
     "data": {
      "text/plain": [
       "array(['house', 'car', 'education', 'marriage'], dtype=object)"
      ]
     },
     "execution_count": 21,
     "metadata": {},
     "output_type": "execute_result"
    }
   ],
   "source": [
    "# Ensuring there are minimal responses\n",
    "df['purpose'].unique()"
   ]
  },
  {
   "cell_type": "code",
   "execution_count": 22,
   "metadata": {},
   "outputs": [
    {
     "data": {
      "text/plain": [
       "array([\"bachelor's degree\", 'secondary education', 'some college',\n",
       "       'primary education', 'graduate degree'], dtype=object)"
      ]
     },
     "execution_count": 22,
     "metadata": {},
     "output_type": "execute_result"
    }
   ],
   "source": [
    "df['education'].unique()"
   ]
  },
  {
   "cell_type": "code",
   "execution_count": 23,
   "metadata": {},
   "outputs": [
    {
     "data": {
      "text/plain": [
       "array(['married', 'civil partnership', 'widow / widower', 'divorced',\n",
       "       'unmarried'], dtype=object)"
      ]
     },
     "execution_count": 23,
     "metadata": {},
     "output_type": "execute_result"
    }
   ],
   "source": [
    "df['family_status'].unique()"
   ]
  },
  {
   "cell_type": "markdown",
   "metadata": {},
   "source": [
    "### Conclusion"
   ]
  },
  {
   "cell_type": "markdown",
   "metadata": {},
   "source": [
    "In the purpose section of the loan reason there was significant variation in what is basically only four main reasons for the purpose of each loan. For some the reasons go outside the assigned category slightly, such as changing the purpose of building or renovating a house to simply a housing purchase. These variations are mostly insignificant and narrowing the categories will help the data be much more easy to work with.\n",
    "\n",
    "I also fixed the errors in the data where it was clear it was an impossible number, such as having negative one children. There wasn't reason to believe it may have meant 0 children, or even 1, so I instead made it NaN. While it is true that there was a negative amount of days when it simply needed to be postive to be correct, there's too little here to prove that it's the same case and removing these values won't affect the data significantly."
   ]
  },
  {
   "cell_type": "markdown",
   "metadata": {},
   "source": [
    "### Processing duplicates"
   ]
  },
  {
   "cell_type": "code",
   "execution_count": 27,
   "metadata": {},
   "outputs": [],
   "source": [
    "df['family_status'] = df['family_status'].str.lower()\n",
    "df['education'] = df['education'].str.lower()\n",
    "df['income_type'] = df['income_type'].str.lower()\n",
    "df['purpose'] = df['purpose'].str.lower()\n",
    "\n",
    "df = df.drop_duplicates().reset_index(drop=True)"
   ]
  },
  {
   "cell_type": "markdown",
   "metadata": {},
   "source": [
    "### Conclusion"
   ]
  },
  {
   "cell_type": "markdown",
   "metadata": {},
   "source": [
    "There are some capitals and lowercase letters in both the education and purpose column that may make finding duplicates harder, so I converted all of these strings to lowercase. After simplifying the purpose reasons into four it categories drops much more rows and turning each column with string values into lowercase, drop_duplicates() droped a noticable amount of rows. In the education column there was three different strings for what was basically just one. For example, for 'some college', there was also a version with just the first letter capitalized (Some college) and also a version with it all capitalized (SOME COLLEGE). This was the same for the other actually unique values in education. There may be an issue with how the data was processed that caused it to create two new categories for each three possible inputs for the same category."
   ]
  },
  {
   "cell_type": "markdown",
   "metadata": {},
   "source": [
    "### Categorizing Data"
   ]
  },
  {
   "cell_type": "code",
   "execution_count": 44,
   "metadata": {},
   "outputs": [],
   "source": [
    "# Total clients\n",
    "total_clients = len(df)\n",
    "\n",
    "# Correlation between having children and having debt\n",
    "pvt1 = df.pivot_table(index='children', values='debt', aggfunc=np.size)\n",
    "\n",
    "def children_row(row):\n",
    "    if row['children'] >= 1 :\n",
    "        return 1\n",
    "    else:\n",
    "        return 0\n",
    "\n",
    "df['children_or_not'] = df.apply(lambda row: children_row(row), axis=1)\n",
    "pvt1 = pvt1.drop([4, 5, 20])\n",
    "\n",
    "debt_0_children = 0\n",
    "debt_1_children = 0\n",
    "debt_2_children = 0\n",
    "debt_3_children = 0\n",
    "for index, row in df.iterrows():\n",
    "    if row['debt'] == 1 and row['children'] == 0:\n",
    "        debt_0_children += 1\n",
    "    if row['debt'] == 1 and row['children'] == 1:\n",
    "        debt_1_children += 1\n",
    "    if row['debt'] == 1 and row['children'] == 2:\n",
    "        debt_2_children += 1\n",
    "    if row['debt'] == 1 and row['children'] == 3:\n",
    "        debt_3_children += 1\n",
    "\n",
    "pvt1['with_debt'] = 'x'\n",
    "pvt1.at[0, 'with_debt']=debt_0_children\n",
    "pvt1.at[1, 'with_debt']=debt_1_children\n",
    "pvt1.at[2, 'with_debt']=debt_2_children\n",
    "pvt1.at[3, 'with_debt']=debt_3_children\n",
    "\n",
    "def conversion(row):\n",
    "    return row['with_debt'] / row['debt']\n",
    "\n",
    "pvt1['probability'] = pvt1.apply(lambda row: conversion(row), axis=1)\n",
    "\n",
    "# Correlation between being family status and having debt\n",
    "family_married = len(df.loc[df['family_status'] == 'married']) / total_clients\n",
    "family_civil = len(df.loc[df['family_status'] == 'civil partnership']) / total_clients\n",
    "family_widowed = len(df.loc[df['family_status'] == 'widow / widower']) / total_clients\n",
    "family_divorced = len(df.loc[df['family_status'] == 'divorced']) / total_clients\n",
    "family_unmarried = len(df.loc[df['family_status'] == 'unmarried']) / total_clients\n",
    "\n",
    "# Correlation between income levels and having debt\n",
    "income_section_1 = np.percentile(df['total_income'], 33)\n",
    "income_section_2 = np.percentile(df['total_income'], 66)\n",
    "\n",
    "under_class = len(df.loc[df['total_income'] >= income_section_2]) / total_clients\n",
    "middle_class = len(df.loc[df['total_income'].between(income_section_1, income_section_2)]) / total_clients\n",
    "upper_class = len(df.loc[df['total_income'] <= income_section_1]) / total_clients\n",
    "\n",
    "# Correlation between the purpose of the loan and the rate of debt\n",
    "purpose_housing = len(df.loc[df['purpose'] == 'house']) / total_clients\n",
    "purpose_education = len(df.loc[df['purpose'] == 'education']) / total_clients\n",
    "purpose_cars = len(df.loc[df['purpose'] == 'car']) / total_clients\n",
    "purpose_marriage = len(df.loc[df['purpose'] == 'marriage']) / total_clients"
   ]
  },
  {
   "cell_type": "code",
   "execution_count": 46,
   "metadata": {},
   "outputs": [
    {
     "data": {
      "text/plain": [
       "nan"
      ]
     },
     "execution_count": 46,
     "metadata": {},
     "output_type": "execute_result"
    }
   ],
   "source": [
    "np.percentile(df, 66)\n",
    "\n",
    "## abandoned here"
   ]
  },
  {
   "cell_type": "markdown",
   "metadata": {},
   "source": [
    "### Conclusion"
   ]
  },
  {
   "cell_type": "markdown",
   "metadata": {},
   "source": [
    "Here I made sections of code for each question to set the values and set up how I plan on answering each of the questions for the credit check. Each risk check will be a conversion to see which category is more likely to be a risk of late payment on a loan, except for kids and debt rate, which will be a pivot table. For total income and debt, I used the median of all incomes given to find the break point for what will be considered those with a higher income level and those with a lower level. I chose the median as it will prevent the baseline from being affected too heavily by abnormally high or low income levels. This will give a general idea of if higher income will help or hurt when deciding credit for a loan.\n",
    "\n",
    "When attempting to use a pivot table to answer the relation between having children and being able to repay a loan, I dropped the rows for those with children of 4, 5, and 20. The reason being that there are too little loaners with those amount of children to make any good conclusion out of, compared to the rest of the data. If I were to allowed those three, it may skew the conclusion as since there are fewer values it likely would vary significantly where it otherwise shouldn't."
   ]
  },
  {
   "cell_type": "markdown",
   "metadata": {},
   "source": [
    "## Answer these questions"
   ]
  },
  {
   "cell_type": "markdown",
   "metadata": {},
   "source": [
    "- Is there a relation between having kids and repaying a loan on time? "
   ]
  },
  {
   "cell_type": "markdown",
   "metadata": {},
   "source": [
    "Yes, using the table pvt1 we can see how having kids increase the chance of defaulting on a loan. While only increasing about 2% in total from having 0 children to 1, this is close to about a 25% increase in rate compared to the jump from 7% to 9%. The rate increases slightly for those that have 2 kids and then drops back down to 8% for those that have 3 kids, which is still a noticably higher rate than those without. It is likely the case that having to pay for children would make paying back a loan harder as the kids themselves take money away from what could have been a loan repayment."
   ]
  },
  {
   "cell_type": "code",
   "execution_count": 10,
   "metadata": {},
   "outputs": [
    {
     "data": {
      "text/html": [
       "<div>\n",
       "<style scoped>\n",
       "    .dataframe tbody tr th:only-of-type {\n",
       "        vertical-align: middle;\n",
       "    }\n",
       "\n",
       "    .dataframe tbody tr th {\n",
       "        vertical-align: top;\n",
       "    }\n",
       "\n",
       "    .dataframe thead th {\n",
       "        text-align: right;\n",
       "    }\n",
       "</style>\n",
       "<table border=\"1\" class=\"dataframe\">\n",
       "  <thead>\n",
       "    <tr style=\"text-align: right;\">\n",
       "      <th></th>\n",
       "      <th>debt</th>\n",
       "      <th>with_debt</th>\n",
       "      <th>probability</th>\n",
       "    </tr>\n",
       "    <tr>\n",
       "      <th>children</th>\n",
       "      <th></th>\n",
       "      <th></th>\n",
       "      <th></th>\n",
       "    </tr>\n",
       "  </thead>\n",
       "  <tbody>\n",
       "    <tr>\n",
       "      <th>0.0</th>\n",
       "      <td>14149</td>\n",
       "      <td>1063</td>\n",
       "      <td>0.075129</td>\n",
       "    </tr>\n",
       "    <tr>\n",
       "      <th>1.0</th>\n",
       "      <td>4818</td>\n",
       "      <td>444</td>\n",
       "      <td>0.092154</td>\n",
       "    </tr>\n",
       "    <tr>\n",
       "      <th>2.0</th>\n",
       "      <td>2055</td>\n",
       "      <td>194</td>\n",
       "      <td>0.094404</td>\n",
       "    </tr>\n",
       "    <tr>\n",
       "      <th>3.0</th>\n",
       "      <td>330</td>\n",
       "      <td>27</td>\n",
       "      <td>0.081818</td>\n",
       "    </tr>\n",
       "  </tbody>\n",
       "</table>\n",
       "</div>"
      ],
      "text/plain": [
       "           debt with_debt  probability\n",
       "children                              \n",
       "0.0       14149      1063     0.075129\n",
       "1.0        4818       444     0.092154\n",
       "2.0        2055       194     0.094404\n",
       "3.0         330        27     0.081818"
      ]
     },
     "execution_count": 10,
     "metadata": {},
     "output_type": "execute_result"
    }
   ],
   "source": [
    "pvt1"
   ]
  },
  {
   "cell_type": "markdown",
   "metadata": {},
   "source": [
    "<div class=\"alert alert-danger\"> <b>Reviewer comment:</b> \n",
    "    \n",
    "<s>Please note that we did not count correctly to answer the questions.\n",
    "    \n",
    "Here we need to calculate the client's probability of becoming a debtor.\n",
    "    \n",
    "How is it calculated?\n",
    "    \n",
    "Probability = number of clients who did not repay debt / total number of clients in the group\n",
    "    \n",
    "This can be calculated using pivot tables `pivot_table`, I want to remind you that pivot tables are the same dataframes. That is, you can add columns to them and do the calculations we need.\n",
    "    \n",
    "Let's correct these calculations, please.\n",
    "    \n",
    "    \n",
    "---\n",
    "    \n",
    "    \n",
    "We also need to create some categories so that we can use pivot tables to answer questions.\n",
    "    \n",
    "</div>\n",
    "\n",
    "<div class=\"alert alert-info\"> If the formula is debtors / total clients, wouldn't it be easiest to edit my existing code and simply change the bottom number to be divided in my ratio variables to the total clients, instead of setting up a pivot table?</div>"
   ]
  },
  {
   "cell_type": "markdown",
   "metadata": {},
   "source": [
    "<div class=\"alert alert-success\"> <b>Reviewer comment (2):</b> \n",
    "\n",
    "\n",
    "The point is that pivot tables are a very useful tool in our practice. Each student has a different level of training and learning speed, so it is important for us to highlight such moments that are especially important in our practice.\n",
    "\n",
    "Let's fix this point for one question so that I can make sure that we have dealt with this question.\n",
    "    \n",
    "</div>\n",
    "\n",
    "<div class=\"alert alert-info\"> I wasn't entirely sure how you wanted me to go about doing it using a pivot table, so I went about it the best way I could think of. For the point I used it on I just did the first question, which was having children and the rate of debt. It definitely didn't feel easier than my other way of doing it, but I also feel that I probably made it harder than I needed to. If you can suggest ways of improving my attempt it'd be great to take note of.\n",
    "    \n",
    "\n",
    "I also interpreted \"create some categories\" as making a 0 and 1 column for each loaner for 0 if they had no children and 1 if they did, which became df['children_or_not'], although I had trouble trying to figure out how to incorporate that into my probability column as it seemed better to instead find the probability based off each amount of children (0-3) rather than simply whether they had kids or not, which the column would help with.\n",
    "</div>"
   ]
  },
  {
   "cell_type": "markdown",
   "metadata": {},
   "source": [
    "<div class=\"alert alert-success\"> <b>Reviewer comment (2):</b> \n",
    "    \n",
    "An interesting way to calculate.\n",
    "\n",
    "I had to write to me that there were difficulties with the calculation, I would try to look at abstract examples to explain.\n",
    "    \n",
    "I left an example below how you can simplify the calculation itself.\n",
    "    \n",
    "</div>"
   ]
  },
  {
   "cell_type": "code",
   "execution_count": 11,
   "metadata": {},
   "outputs": [
    {
     "data": {
      "text/html": [
       "<div>\n",
       "<style scoped>\n",
       "    .dataframe tbody tr th:only-of-type {\n",
       "        vertical-align: middle;\n",
       "    }\n",
       "\n",
       "    .dataframe tbody tr th {\n",
       "        vertical-align: top;\n",
       "    }\n",
       "\n",
       "    .dataframe thead th {\n",
       "        text-align: right;\n",
       "    }\n",
       "</style>\n",
       "<table border=\"1\" class=\"dataframe\">\n",
       "  <thead>\n",
       "    <tr style=\"text-align: right;\">\n",
       "      <th></th>\n",
       "      <th>children</th>\n",
       "      <th>days_employed</th>\n",
       "      <th>dob_years</th>\n",
       "      <th>education</th>\n",
       "      <th>education_id</th>\n",
       "      <th>family_status</th>\n",
       "      <th>family_status_id</th>\n",
       "      <th>gender</th>\n",
       "      <th>income_type</th>\n",
       "      <th>debt</th>\n",
       "      <th>total_income</th>\n",
       "      <th>purpose</th>\n",
       "      <th>children_or_not</th>\n",
       "    </tr>\n",
       "  </thead>\n",
       "  <tbody>\n",
       "    <tr>\n",
       "      <th>0</th>\n",
       "      <td>1.0</td>\n",
       "      <td>8437.673028</td>\n",
       "      <td>42.0</td>\n",
       "      <td>bachelor's degree</td>\n",
       "      <td>0</td>\n",
       "      <td>married</td>\n",
       "      <td>0</td>\n",
       "      <td>F</td>\n",
       "      <td>employee</td>\n",
       "      <td>0</td>\n",
       "      <td>40620.102</td>\n",
       "      <td>house</td>\n",
       "      <td>1</td>\n",
       "    </tr>\n",
       "    <tr>\n",
       "      <th>1</th>\n",
       "      <td>1.0</td>\n",
       "      <td>4024.803754</td>\n",
       "      <td>36.0</td>\n",
       "      <td>secondary education</td>\n",
       "      <td>1</td>\n",
       "      <td>married</td>\n",
       "      <td>0</td>\n",
       "      <td>F</td>\n",
       "      <td>employee</td>\n",
       "      <td>0</td>\n",
       "      <td>17932.802</td>\n",
       "      <td>car</td>\n",
       "      <td>1</td>\n",
       "    </tr>\n",
       "    <tr>\n",
       "      <th>2</th>\n",
       "      <td>0.0</td>\n",
       "      <td>5623.422610</td>\n",
       "      <td>33.0</td>\n",
       "      <td>secondary education</td>\n",
       "      <td>1</td>\n",
       "      <td>married</td>\n",
       "      <td>0</td>\n",
       "      <td>M</td>\n",
       "      <td>employee</td>\n",
       "      <td>0</td>\n",
       "      <td>23341.752</td>\n",
       "      <td>house</td>\n",
       "      <td>0</td>\n",
       "    </tr>\n",
       "    <tr>\n",
       "      <th>3</th>\n",
       "      <td>3.0</td>\n",
       "      <td>4124.747207</td>\n",
       "      <td>32.0</td>\n",
       "      <td>secondary education</td>\n",
       "      <td>1</td>\n",
       "      <td>married</td>\n",
       "      <td>0</td>\n",
       "      <td>M</td>\n",
       "      <td>employee</td>\n",
       "      <td>0</td>\n",
       "      <td>42820.568</td>\n",
       "      <td>education</td>\n",
       "      <td>1</td>\n",
       "    </tr>\n",
       "    <tr>\n",
       "      <th>4</th>\n",
       "      <td>0.0</td>\n",
       "      <td>NaN</td>\n",
       "      <td>53.0</td>\n",
       "      <td>secondary education</td>\n",
       "      <td>1</td>\n",
       "      <td>civil partnership</td>\n",
       "      <td>1</td>\n",
       "      <td>F</td>\n",
       "      <td>retiree</td>\n",
       "      <td>0</td>\n",
       "      <td>25378.572</td>\n",
       "      <td>marriage</td>\n",
       "      <td>0</td>\n",
       "    </tr>\n",
       "  </tbody>\n",
       "</table>\n",
       "</div>"
      ],
      "text/plain": [
       "   children  days_employed  dob_years            education  education_id  \\\n",
       "0       1.0    8437.673028       42.0    bachelor's degree             0   \n",
       "1       1.0    4024.803754       36.0  secondary education             1   \n",
       "2       0.0    5623.422610       33.0  secondary education             1   \n",
       "3       3.0    4124.747207       32.0  secondary education             1   \n",
       "4       0.0            NaN       53.0  secondary education             1   \n",
       "\n",
       "       family_status  family_status_id gender income_type  debt  total_income  \\\n",
       "0            married                 0      F    employee     0     40620.102   \n",
       "1            married                 0      F    employee     0     17932.802   \n",
       "2            married                 0      M    employee     0     23341.752   \n",
       "3            married                 0      M    employee     0     42820.568   \n",
       "4  civil partnership                 1      F     retiree     0     25378.572   \n",
       "\n",
       "     purpose  children_or_not  \n",
       "0      house                1  \n",
       "1        car                1  \n",
       "2      house                0  \n",
       "3  education                1  \n",
       "4   marriage                0  "
      ]
     },
     "execution_count": 11,
     "metadata": {},
     "output_type": "execute_result"
    }
   ],
   "source": [
    "df.head()"
   ]
  },
  {
   "cell_type": "code",
   "execution_count": 12,
   "metadata": {},
   "outputs": [],
   "source": [
    "report_children_factors = df.pivot_table(\n",
    "    index=\"children\",\n",
    "    values=\"debt\",\n",
    "    aggfunc=[\"sum\", \"count\"]\n",
    ")"
   ]
  },
  {
   "cell_type": "code",
   "execution_count": 13,
   "metadata": {},
   "outputs": [
    {
     "data": {
      "text/html": [
       "<div>\n",
       "<style scoped>\n",
       "    .dataframe tbody tr th:only-of-type {\n",
       "        vertical-align: middle;\n",
       "    }\n",
       "\n",
       "    .dataframe tbody tr th {\n",
       "        vertical-align: top;\n",
       "    }\n",
       "\n",
       "    .dataframe thead tr th {\n",
       "        text-align: left;\n",
       "    }\n",
       "\n",
       "    .dataframe thead tr:last-of-type th {\n",
       "        text-align: right;\n",
       "    }\n",
       "</style>\n",
       "<table border=\"1\" class=\"dataframe\">\n",
       "  <thead>\n",
       "    <tr>\n",
       "      <th></th>\n",
       "      <th>sum</th>\n",
       "      <th>count</th>\n",
       "    </tr>\n",
       "    <tr>\n",
       "      <th></th>\n",
       "      <th>debt</th>\n",
       "      <th>debt</th>\n",
       "    </tr>\n",
       "    <tr>\n",
       "      <th>children</th>\n",
       "      <th></th>\n",
       "      <th></th>\n",
       "    </tr>\n",
       "  </thead>\n",
       "  <tbody>\n",
       "    <tr>\n",
       "      <th>0.0</th>\n",
       "      <td>1063</td>\n",
       "      <td>14149</td>\n",
       "    </tr>\n",
       "    <tr>\n",
       "      <th>1.0</th>\n",
       "      <td>444</td>\n",
       "      <td>4818</td>\n",
       "    </tr>\n",
       "    <tr>\n",
       "      <th>2.0</th>\n",
       "      <td>194</td>\n",
       "      <td>2055</td>\n",
       "    </tr>\n",
       "    <tr>\n",
       "      <th>3.0</th>\n",
       "      <td>27</td>\n",
       "      <td>330</td>\n",
       "    </tr>\n",
       "    <tr>\n",
       "      <th>4.0</th>\n",
       "      <td>4</td>\n",
       "      <td>41</td>\n",
       "    </tr>\n",
       "    <tr>\n",
       "      <th>5.0</th>\n",
       "      <td>0</td>\n",
       "      <td>9</td>\n",
       "    </tr>\n",
       "    <tr>\n",
       "      <th>20.0</th>\n",
       "      <td>8</td>\n",
       "      <td>76</td>\n",
       "    </tr>\n",
       "  </tbody>\n",
       "</table>\n",
       "</div>"
      ],
      "text/plain": [
       "           sum  count\n",
       "          debt   debt\n",
       "children             \n",
       "0.0       1063  14149\n",
       "1.0        444   4818\n",
       "2.0        194   2055\n",
       "3.0         27    330\n",
       "4.0          4     41\n",
       "5.0          0      9\n",
       "20.0         8     76"
      ]
     },
     "execution_count": 13,
     "metadata": {},
     "output_type": "execute_result"
    }
   ],
   "source": [
    "report_children_factors"
   ]
  },
  {
   "cell_type": "code",
   "execution_count": 14,
   "metadata": {},
   "outputs": [],
   "source": [
    "# drop excess level of columns \n",
    "\n",
    "report_children_factors.columns = report_children_factors.columns.droplevel(1)"
   ]
  },
  {
   "cell_type": "code",
   "execution_count": 15,
   "metadata": {
    "scrolled": true
   },
   "outputs": [
    {
     "data": {
      "text/html": [
       "<div>\n",
       "<style scoped>\n",
       "    .dataframe tbody tr th:only-of-type {\n",
       "        vertical-align: middle;\n",
       "    }\n",
       "\n",
       "    .dataframe tbody tr th {\n",
       "        vertical-align: top;\n",
       "    }\n",
       "\n",
       "    .dataframe thead th {\n",
       "        text-align: right;\n",
       "    }\n",
       "</style>\n",
       "<table border=\"1\" class=\"dataframe\">\n",
       "  <thead>\n",
       "    <tr style=\"text-align: right;\">\n",
       "      <th></th>\n",
       "      <th>sum</th>\n",
       "      <th>count</th>\n",
       "    </tr>\n",
       "    <tr>\n",
       "      <th>children</th>\n",
       "      <th></th>\n",
       "      <th></th>\n",
       "    </tr>\n",
       "  </thead>\n",
       "  <tbody>\n",
       "    <tr>\n",
       "      <th>0.0</th>\n",
       "      <td>1063</td>\n",
       "      <td>14149</td>\n",
       "    </tr>\n",
       "    <tr>\n",
       "      <th>1.0</th>\n",
       "      <td>444</td>\n",
       "      <td>4818</td>\n",
       "    </tr>\n",
       "    <tr>\n",
       "      <th>2.0</th>\n",
       "      <td>194</td>\n",
       "      <td>2055</td>\n",
       "    </tr>\n",
       "    <tr>\n",
       "      <th>3.0</th>\n",
       "      <td>27</td>\n",
       "      <td>330</td>\n",
       "    </tr>\n",
       "    <tr>\n",
       "      <th>4.0</th>\n",
       "      <td>4</td>\n",
       "      <td>41</td>\n",
       "    </tr>\n",
       "    <tr>\n",
       "      <th>5.0</th>\n",
       "      <td>0</td>\n",
       "      <td>9</td>\n",
       "    </tr>\n",
       "    <tr>\n",
       "      <th>20.0</th>\n",
       "      <td>8</td>\n",
       "      <td>76</td>\n",
       "    </tr>\n",
       "  </tbody>\n",
       "</table>\n",
       "</div>"
      ],
      "text/plain": [
       "           sum  count\n",
       "children             \n",
       "0.0       1063  14149\n",
       "1.0        444   4818\n",
       "2.0        194   2055\n",
       "3.0         27    330\n",
       "4.0          4     41\n",
       "5.0          0      9\n",
       "20.0         8     76"
      ]
     },
     "execution_count": 15,
     "metadata": {},
     "output_type": "execute_result"
    }
   ],
   "source": [
    "report_children_factors"
   ]
  },
  {
   "cell_type": "code",
   "execution_count": 16,
   "metadata": {},
   "outputs": [],
   "source": [
    "# add prob\n",
    "report_children_factors[\"prob\"] = report_children_factors[\"sum\"] / report_children_factors[\"count\"]"
   ]
  },
  {
   "cell_type": "code",
   "execution_count": 17,
   "metadata": {},
   "outputs": [
    {
     "data": {
      "text/html": [
       "<div>\n",
       "<style scoped>\n",
       "    .dataframe tbody tr th:only-of-type {\n",
       "        vertical-align: middle;\n",
       "    }\n",
       "\n",
       "    .dataframe tbody tr th {\n",
       "        vertical-align: top;\n",
       "    }\n",
       "\n",
       "    .dataframe thead th {\n",
       "        text-align: right;\n",
       "    }\n",
       "</style>\n",
       "<table border=\"1\" class=\"dataframe\">\n",
       "  <thead>\n",
       "    <tr style=\"text-align: right;\">\n",
       "      <th></th>\n",
       "      <th>sum</th>\n",
       "      <th>count</th>\n",
       "      <th>prob</th>\n",
       "    </tr>\n",
       "    <tr>\n",
       "      <th>children</th>\n",
       "      <th></th>\n",
       "      <th></th>\n",
       "      <th></th>\n",
       "    </tr>\n",
       "  </thead>\n",
       "  <tbody>\n",
       "    <tr>\n",
       "      <th>0.0</th>\n",
       "      <td>1063</td>\n",
       "      <td>14149</td>\n",
       "      <td>0.075129</td>\n",
       "    </tr>\n",
       "    <tr>\n",
       "      <th>1.0</th>\n",
       "      <td>444</td>\n",
       "      <td>4818</td>\n",
       "      <td>0.092154</td>\n",
       "    </tr>\n",
       "    <tr>\n",
       "      <th>2.0</th>\n",
       "      <td>194</td>\n",
       "      <td>2055</td>\n",
       "      <td>0.094404</td>\n",
       "    </tr>\n",
       "    <tr>\n",
       "      <th>3.0</th>\n",
       "      <td>27</td>\n",
       "      <td>330</td>\n",
       "      <td>0.081818</td>\n",
       "    </tr>\n",
       "    <tr>\n",
       "      <th>4.0</th>\n",
       "      <td>4</td>\n",
       "      <td>41</td>\n",
       "      <td>0.097561</td>\n",
       "    </tr>\n",
       "    <tr>\n",
       "      <th>5.0</th>\n",
       "      <td>0</td>\n",
       "      <td>9</td>\n",
       "      <td>0.000000</td>\n",
       "    </tr>\n",
       "    <tr>\n",
       "      <th>20.0</th>\n",
       "      <td>8</td>\n",
       "      <td>76</td>\n",
       "      <td>0.105263</td>\n",
       "    </tr>\n",
       "  </tbody>\n",
       "</table>\n",
       "</div>"
      ],
      "text/plain": [
       "           sum  count      prob\n",
       "children                       \n",
       "0.0       1063  14149  0.075129\n",
       "1.0        444   4818  0.092154\n",
       "2.0        194   2055  0.094404\n",
       "3.0         27    330  0.081818\n",
       "4.0          4     41  0.097561\n",
       "5.0          0      9  0.000000\n",
       "20.0         8     76  0.105263"
      ]
     },
     "execution_count": 17,
     "metadata": {},
     "output_type": "execute_result"
    }
   ],
   "source": [
    "report_children_factors"
   ]
  },
  {
   "cell_type": "markdown",
   "metadata": {},
   "source": [
    "### Conclusion"
   ]
  },
  {
   "cell_type": "markdown",
   "metadata": {},
   "source": [
    "- Is there a relation between marital status and repaying a loan on time?"
   ]
  },
  {
   "cell_type": "markdown",
   "metadata": {},
   "source": [
    "Those in a marriage and have defaulted are the majority in the dataset, while those who are not married have a lower rate of defaulting. This dispells the earlier hypothesis a co-dependant relationship may help in preventing a late loan payment. Currently, married couples are a high risk."
   ]
  },
  {
   "cell_type": "code",
   "execution_count": 18,
   "metadata": {},
   "outputs": [
    {
     "name": "stdout",
     "output_type": "stream",
     "text": [
      "Those that are in a marriage and have defaulted on a loan are 4.33% of all clients\n",
      "Those that are not married and have defaulted on a loan are 1.27% of all clients\n",
      "Those that are in a civil partnership and have defaulted on a loan are 1.80% of all clients\n"
     ]
    }
   ],
   "source": [
    "print(\n",
    "    'Those that are in a marriage and have defaulted on a loan are {:.2%} of all clients'.format(married_debt_ratio)\n",
    ")\n",
    "print(\n",
    "    'Those that are not married and have defaulted on a loan are {:.2%} of all clients'.format(not_married_debt_ratio)\n",
    ")\n",
    "print(\n",
    "    'Those that are in a civil partnership and have defaulted on a loan are {:.2%} of all clients'.format(civil_married_debt_ratio)\n",
    ")"
   ]
  },
  {
   "cell_type": "markdown",
   "metadata": {},
   "source": [
    "### Conclusion"
   ]
  },
  {
   "cell_type": "markdown",
   "metadata": {},
   "source": [
    "- Is there a relation between income level and repaying a loan on time?"
   ]
  },
  {
   "cell_type": "markdown",
   "metadata": {},
   "source": [
    "Based off the results, there is a negligible and dismissable difference between income levels for whether someone would default on a loan. Income level here provides no meaningful contribution for determining credit. It could be the case that most loan takers have a similar income level compared to the upper class, as it could be reasoned the upper class wouldn't have need for a loan in the first place."
   ]
  },
  {
   "cell_type": "code",
   "execution_count": 19,
   "metadata": {},
   "outputs": [
    {
     "name": "stdout",
     "output_type": "stream",
     "text": [
      "Those that are in the upper income bracket and have defaulted on a loan are 3.56% of all of those that have defaulted on their loans\n",
      "Those that are in the lower income bracket and have defaulted on a loan are 3.74% of all of those that have defaulted on their loans\n"
     ]
    }
   ],
   "source": [
    "print(\n",
    "    'Those that are in the upper income bracket and have defaulted on a loan are {:.2%} of all of those that have defaulted on their loans'.format(over_income_debt_ratio)\n",
    ")\n",
    "print(\n",
    "    'Those that are in the lower income bracket and have defaulted on a loan are {:.2%} of all of those that have defaulted on their loans'.format(under_income_debt_ratio)\n",
    ")"
   ]
  },
  {
   "cell_type": "markdown",
   "metadata": {},
   "source": [
    "### Conclusion"
   ]
  },
  {
   "cell_type": "markdown",
   "metadata": {},
   "source": [
    "- How do different loan purposes affect on-time repayment of the loan?"
   ]
  },
  {
   "cell_type": "markdown",
   "metadata": {},
   "source": [
    "Those that use the loan for a housing purchase are at the highest risk for not paying the loan on time, followed by car and education purchase closely tied behind, and the least risky being marriage. Housing loans may be the most risky as people may be more likely to take on a bigger loan for a nicer house than they can reasonably afford, possibily as a result of predatory real estate salespeople. Education may be lower because it is essentially able to pay for itself with the future career granted by it. Car purchases may also be less risky for a default compared to housing as cars are much cheaper than housing while also a necessity. Marriage is the safest as there are most likely two people working to pay off the loan rather than just one as it may be in the other categories."
   ]
  },
  {
   "cell_type": "code",
   "execution_count": 20,
   "metadata": {},
   "outputs": [
    {
     "name": "stdout",
     "output_type": "stream",
     "text": [
      "Those that use the loan for a housing purchase and have defaulted on a loan are 0.00% of all clients\n",
      "Those that use the loan for marriage and have defaulted on a loan are 0.86% of all clients\n",
      "Those that use the loan for education and have defaulted on a loan are 1.72% of all clients\n",
      "Those that use the loan for a car purchase and have defaulted on a loan are 0.00% of all clients\n"
     ]
    }
   ],
   "source": [
    "print(\n",
    "    'Those that use the loan for a housing purchase and have defaulted on a loan are {:.2%} of all clients'.format(purpose_housing_debt_ratio)\n",
    ")\n",
    "print(\n",
    "    'Those that use the loan for marriage and have defaulted on a loan are {:.2%} of all clients'.format(purpose_marriage_debt_ratio)\n",
    ")\n",
    "print(\n",
    "    'Those that use the loan for education and have defaulted on a loan are {:.2%} of all clients'.format(purpose_education_debt_ratio)\n",
    ")\n",
    "print(\n",
    "    'Those that use the loan for a car purchase and have defaulted on a loan are {:.2%} of all clients'.format(purpose_cars_debt_ratio)\n",
    ")"
   ]
  },
  {
   "cell_type": "markdown",
   "metadata": {},
   "source": [
    "### Conclusion"
   ]
  },
  {
   "cell_type": "markdown",
   "metadata": {},
   "source": [
    "The overall data and conclusions here is the framework for determining the best credit report for determining the risk of a loan. Most of the results were unexpected, with some being expected with reasonable inferences that can be drawn. Most notably married individuals being the riskiest compared to those that aren't married is the most surprising, especially since it would initially be surmised that two people together with (probably) combined incomes would pay off loans much easier."
   ]
  },
  {
   "cell_type": "markdown",
   "metadata": {},
   "source": [
    "## General conclusion"
   ]
  },
  {
   "cell_type": "markdown",
   "metadata": {},
   "source": [
    "Using the dataset and analyzing the data, a good idea for both a perfect and risky candidate for a loan can be determined. Overall, those with children is significantly safer of a risk for a loan than those who have none. This can be explained for the co-dependant relationship those with children likely have with the other parent, but this is disproven as someone who is married is also much more likely to default, whereas those with a civil partnership or those not married are almost twice as safe. This may lead to the possibility that unmarried couples with children are a safer loan, but more data may be needed to support that conclusion. According to the data income level makes little impact on the rate of late payment, with those under and above the median having a nearly indentical rate. Loan purpose may be the best determination for risk as those who use it for a housing purchase are much more risky, with those using it for a car purchase following behind in risk but almost twice as safe than a housing loan, with education and marriage being the safest purposes. \n",
    "\n",
    "The ideal person according to the data would be unmarried with children using the loan for marriage. This may be that those that are newly married are much more likely to stay together and rely on each other, both of which are likely to be contributing to paying back the loan as they both use it, and their co-dependance may also be a factor for ensuring the loan is sucessfully paid back on time. Individuals that are already married may also be co-dependant but the loan purpose may be more personal in nature rather than for the benefit of both, so it may only be the primary loan taker paying it instead of both and they may have progressed independance financially compared to newly weds, which may explain why already married couples are risky comparatively."
   ]
  }
 ],
 "metadata": {
  "ExecuteTimeLog": [
   {
    "duration": 884,
    "start_time": "2021-06-09T23:02:34.542Z"
   },
   {
    "duration": 59,
    "start_time": "2021-06-09T23:02:35.429Z"
   },
   {
    "duration": 37,
    "start_time": "2021-06-09T23:02:35.491Z"
   },
   {
    "duration": 74,
    "start_time": "2021-06-09T23:02:35.531Z"
   },
   {
    "duration": 1182,
    "start_time": "2021-06-09T23:12:09.388Z"
   },
   {
    "duration": 61,
    "start_time": "2021-06-09T23:12:17.120Z"
   },
   {
    "duration": 58,
    "start_time": "2021-06-09T23:12:25.916Z"
   },
   {
    "duration": 67,
    "start_time": "2021-06-09T23:16:33.986Z"
   },
   {
    "duration": 36,
    "start_time": "2021-06-09T23:16:42.562Z"
   },
   {
    "duration": 25,
    "start_time": "2021-06-09T23:17:22.912Z"
   },
   {
    "duration": 8313,
    "start_time": "2021-06-09T23:19:06.430Z"
   },
   {
    "duration": 55,
    "start_time": "2021-06-09T23:19:48.789Z"
   },
   {
    "duration": 862,
    "start_time": "2021-06-09T23:20:13.538Z"
   },
   {
    "duration": 55,
    "start_time": "2021-06-09T23:20:17.697Z"
   },
   {
    "duration": 60,
    "start_time": "2021-06-09T23:20:22.035Z"
   },
   {
    "duration": 47,
    "start_time": "2021-06-09T23:20:47.011Z"
   },
   {
    "duration": 36,
    "start_time": "2021-06-09T23:20:57.219Z"
   },
   {
    "duration": 48,
    "start_time": "2021-06-09T23:21:04.793Z"
   },
   {
    "duration": 62,
    "start_time": "2021-06-09T23:22:15.786Z"
   },
   {
    "duration": 38,
    "start_time": "2021-06-09T23:22:23.138Z"
   },
   {
    "duration": 55,
    "start_time": "2021-06-09T23:24:14.698Z"
   },
   {
    "duration": 878,
    "start_time": "2021-06-09T23:24:31.848Z"
   },
   {
    "duration": 49,
    "start_time": "2021-06-09T23:24:36.466Z"
   },
   {
    "duration": 879,
    "start_time": "2021-06-09T23:25:35.124Z"
   },
   {
    "duration": 69,
    "start_time": "2021-06-09T23:25:36.005Z"
   },
   {
    "duration": 43,
    "start_time": "2021-06-10T00:40:46.829Z"
   },
   {
    "duration": 76,
    "start_time": "2021-06-10T00:40:49.181Z"
   },
   {
    "duration": 475,
    "start_time": "2021-06-10T01:41:12.544Z"
   },
   {
    "duration": 365,
    "start_time": "2021-06-10T01:43:28.352Z"
   },
   {
    "duration": 86,
    "start_time": "2021-06-10T01:45:03.946Z"
   },
   {
    "duration": 88,
    "start_time": "2021-06-10T01:45:12.201Z"
   },
   {
    "duration": 20,
    "start_time": "2021-06-10T01:52:58.501Z"
   },
   {
    "duration": 48,
    "start_time": "2021-06-10T01:53:00.906Z"
   },
   {
    "duration": 27,
    "start_time": "2021-06-10T01:53:13.138Z"
   },
   {
    "duration": 60,
    "start_time": "2021-06-10T01:53:15.438Z"
   },
   {
    "duration": 408,
    "start_time": "2021-06-10T01:53:20.263Z"
   },
   {
    "duration": 925,
    "start_time": "2021-06-10T01:53:42.834Z"
   },
   {
    "duration": 57,
    "start_time": "2021-06-10T01:53:43.762Z"
   },
   {
    "duration": 74,
    "start_time": "2021-06-10T01:53:43.822Z"
   },
   {
    "duration": 462,
    "start_time": "2021-06-10T01:53:43.899Z"
   },
   {
    "duration": 61,
    "start_time": "2021-06-10T01:54:30.386Z"
   },
   {
    "duration": 882,
    "start_time": "2021-06-10T01:54:36.728Z"
   },
   {
    "duration": 61,
    "start_time": "2021-06-10T01:54:37.612Z"
   },
   {
    "duration": 55,
    "start_time": "2021-06-10T01:54:37.676Z"
   },
   {
    "duration": 471,
    "start_time": "2021-06-10T01:54:37.734Z"
   },
   {
    "duration": 93,
    "start_time": "2021-06-10T01:56:19.181Z"
   },
   {
    "duration": 445,
    "start_time": "2021-06-10T01:59:23.877Z"
   },
   {
    "duration": 100,
    "start_time": "2021-06-10T01:59:28.363Z"
   },
   {
    "duration": 95,
    "start_time": "2021-06-10T01:59:33.318Z"
   },
   {
    "duration": 333,
    "start_time": "2021-06-10T02:14:47.024Z"
   },
   {
    "duration": 385,
    "start_time": "2021-06-10T02:15:53.678Z"
   },
   {
    "duration": 386,
    "start_time": "2021-06-10T02:16:05.160Z"
   },
   {
    "duration": 416,
    "start_time": "2021-06-10T02:22:09.166Z"
   },
   {
    "duration": 869,
    "start_time": "2021-06-10T02:42:37.030Z"
   },
   {
    "duration": 59,
    "start_time": "2021-06-10T02:42:37.902Z"
   },
   {
    "duration": 107,
    "start_time": "2021-06-10T02:42:37.964Z"
   },
   {
    "duration": 450,
    "start_time": "2021-06-10T02:42:38.074Z"
   },
   {
    "duration": 544,
    "start_time": "2021-06-10T02:45:44.830Z"
   },
   {
    "duration": 345,
    "start_time": "2021-06-10T02:47:10.302Z"
   },
   {
    "duration": 124,
    "start_time": "2021-06-10T02:47:21.423Z"
   },
   {
    "duration": 368,
    "start_time": "2021-06-10T02:47:31.743Z"
   },
   {
    "duration": 429,
    "start_time": "2021-06-10T02:49:09.317Z"
   },
   {
    "duration": 374,
    "start_time": "2021-06-10T02:50:48.855Z"
   },
   {
    "duration": 811,
    "start_time": "2021-06-10T02:50:53.620Z"
   },
   {
    "duration": 46,
    "start_time": "2021-06-10T02:50:54.434Z"
   },
   {
    "duration": 105,
    "start_time": "2021-06-10T02:50:54.483Z"
   },
   {
    "duration": 427,
    "start_time": "2021-06-10T02:50:54.590Z"
   },
   {
    "duration": 98,
    "start_time": "2021-06-10T02:50:58.147Z"
   },
   {
    "duration": 364,
    "start_time": "2021-06-10T02:51:02.242Z"
   },
   {
    "duration": 393,
    "start_time": "2021-06-10T02:51:12.559Z"
   },
   {
    "duration": 794,
    "start_time": "2021-06-10T02:51:19.686Z"
   },
   {
    "duration": 48,
    "start_time": "2021-06-10T02:51:20.483Z"
   },
   {
    "duration": 113,
    "start_time": "2021-06-10T02:51:20.534Z"
   },
   {
    "duration": 563,
    "start_time": "2021-06-10T02:51:20.662Z"
   },
   {
    "duration": 143,
    "start_time": "2021-06-10T02:55:28.445Z"
   },
   {
    "duration": 8,
    "start_time": "2021-06-10T02:55:33.928Z"
   },
   {
    "duration": 9,
    "start_time": "2021-06-10T02:57:13.079Z"
   },
   {
    "duration": 392,
    "start_time": "2021-06-10T02:57:40.974Z"
   },
   {
    "duration": 8,
    "start_time": "2021-06-10T02:57:49.387Z"
   },
   {
    "duration": 7,
    "start_time": "2021-06-10T02:59:26.530Z"
   },
   {
    "duration": 343,
    "start_time": "2021-06-10T03:17:31.633Z"
   },
   {
    "duration": 382,
    "start_time": "2021-06-10T03:29:20.284Z"
   },
   {
    "duration": 344,
    "start_time": "2021-06-10T03:30:57.760Z"
   },
   {
    "duration": 356,
    "start_time": "2021-06-10T04:40:43.105Z"
   },
   {
    "duration": 1017,
    "start_time": "2021-06-10T23:58:38.866Z"
   },
   {
    "duration": 11,
    "start_time": "2021-06-10T23:58:46.987Z"
   },
   {
    "duration": 104,
    "start_time": "2021-06-10T23:58:53.774Z"
   },
   {
    "duration": 353,
    "start_time": "2021-06-10T23:59:07.318Z"
   },
   {
    "duration": 242,
    "start_time": "2021-06-10T23:59:16.410Z"
   },
   {
    "duration": 3301,
    "start_time": "2021-06-10T23:59:37.753Z"
   },
   {
    "duration": 3327,
    "start_time": "2021-06-11T00:03:27.492Z"
   },
   {
    "duration": 3672,
    "start_time": "2021-06-11T00:04:04.544Z"
   },
   {
    "duration": 3257,
    "start_time": "2021-06-11T00:04:08.765Z"
   },
   {
    "duration": 3351,
    "start_time": "2021-06-11T00:04:36.399Z"
   },
   {
    "duration": 3289,
    "start_time": "2021-06-11T00:06:52.146Z"
   },
   {
    "duration": 758,
    "start_time": "2021-06-11T00:09:11.070Z"
   },
   {
    "duration": 10,
    "start_time": "2021-06-11T00:09:11.830Z"
   },
   {
    "duration": 102,
    "start_time": "2021-06-11T00:09:11.843Z"
   },
   {
    "duration": 3308,
    "start_time": "2021-06-11T00:09:11.956Z"
   },
   {
    "duration": 89,
    "start_time": "2021-06-11T00:09:15.266Z"
   },
   {
    "duration": 5,
    "start_time": "2021-06-11T00:09:54.004Z"
   },
   {
    "duration": 793,
    "start_time": "2021-06-11T00:11:17.033Z"
   },
   {
    "duration": 9,
    "start_time": "2021-06-11T00:11:17.828Z"
   },
   {
    "duration": 117,
    "start_time": "2021-06-11T00:11:17.840Z"
   },
   {
    "duration": 3225,
    "start_time": "2021-06-11T00:11:17.960Z"
   },
   {
    "duration": 809,
    "start_time": "2021-06-11T00:11:29.526Z"
   },
   {
    "duration": 10,
    "start_time": "2021-06-11T00:11:30.338Z"
   },
   {
    "duration": 113,
    "start_time": "2021-06-11T00:11:30.351Z"
   },
   {
    "duration": 3293,
    "start_time": "2021-06-11T00:11:30.467Z"
   },
   {
    "duration": 5,
    "start_time": "2021-06-11T00:11:48.558Z"
   },
   {
    "duration": 90,
    "start_time": "2021-06-11T00:16:38.299Z"
   },
   {
    "duration": 6433,
    "start_time": "2021-06-11T00:18:53.043Z"
   },
   {
    "duration": 6333,
    "start_time": "2021-06-11T00:25:50.417Z"
   },
   {
    "duration": 6494,
    "start_time": "2021-06-11T00:27:43.406Z"
   },
   {
    "duration": 6,
    "start_time": "2021-06-11T00:27:58.118Z"
   },
   {
    "duration": 6776,
    "start_time": "2021-06-11T00:31:18.767Z"
   },
   {
    "duration": 6,
    "start_time": "2021-06-11T00:32:12.055Z"
   },
   {
    "duration": 331,
    "start_time": "2021-06-11T00:32:42.439Z"
   },
   {
    "duration": 5,
    "start_time": "2021-06-11T00:32:46.779Z"
   },
   {
    "duration": 5,
    "start_time": "2021-06-11T00:32:55.433Z"
   },
   {
    "duration": 5,
    "start_time": "2021-06-11T00:33:04.205Z"
   },
   {
    "duration": 5,
    "start_time": "2021-06-11T00:33:09.305Z"
   },
   {
    "duration": 6823,
    "start_time": "2021-06-11T00:38:00.377Z"
   },
   {
    "duration": 781,
    "start_time": "2021-06-11T00:40:39.840Z"
   },
   {
    "duration": 11,
    "start_time": "2021-06-11T00:40:40.624Z"
   },
   {
    "duration": 109,
    "start_time": "2021-06-11T00:40:40.639Z"
   },
   {
    "duration": 6748,
    "start_time": "2021-06-11T00:40:40.755Z"
   },
   {
    "duration": 6,
    "start_time": "2021-06-11T00:40:47.506Z"
   },
   {
    "duration": 11,
    "start_time": "2021-06-11T00:40:47.514Z"
   },
   {
    "duration": 768,
    "start_time": "2021-06-11T00:46:36.279Z"
   },
   {
    "duration": 10,
    "start_time": "2021-06-11T00:46:37.050Z"
   },
   {
    "duration": 109,
    "start_time": "2021-06-11T00:46:37.063Z"
   },
   {
    "duration": 6821,
    "start_time": "2021-06-11T00:46:37.175Z"
   },
   {
    "duration": 5,
    "start_time": "2021-06-11T00:46:43.999Z"
   },
   {
    "duration": 10,
    "start_time": "2021-06-11T00:46:44.007Z"
   },
   {
    "duration": 6890,
    "start_time": "2021-06-11T00:50:39.133Z"
   },
   {
    "duration": 106,
    "start_time": "2021-06-11T00:50:59.750Z"
   },
   {
    "duration": 108,
    "start_time": "2021-06-11T00:51:17.654Z"
   },
   {
    "duration": 14543,
    "start_time": "2021-06-11T00:55:40.538Z"
   },
   {
    "duration": 45977,
    "start_time": "2021-06-11T00:56:40.699Z"
   },
   {
    "duration": 5,
    "start_time": "2021-06-11T01:02:40.179Z"
   },
   {
    "duration": 5793,
    "start_time": "2021-06-11T01:04:53.387Z"
   },
   {
    "duration": 9,
    "start_time": "2021-06-11T01:05:12.511Z"
   },
   {
    "duration": 74,
    "start_time": "2021-06-11T01:07:26.640Z"
   },
   {
    "duration": 343,
    "start_time": "2021-06-11T01:10:11.338Z"
   },
   {
    "duration": 3199,
    "start_time": "2021-06-11T01:10:53.639Z"
   },
   {
    "duration": 3195,
    "start_time": "2021-06-11T01:11:07.486Z"
   },
   {
    "duration": 3316,
    "start_time": "2021-06-11T01:12:03.740Z"
   },
   {
    "duration": 99,
    "start_time": "2021-06-11T01:14:25.762Z"
   },
   {
    "duration": 79,
    "start_time": "2021-06-11T01:14:29.230Z"
   },
   {
    "duration": 76,
    "start_time": "2021-06-11T01:15:06.423Z"
   },
   {
    "duration": 81,
    "start_time": "2021-06-11T01:15:36.103Z"
   },
   {
    "duration": 77,
    "start_time": "2021-06-11T01:16:06.736Z"
   },
   {
    "duration": 87,
    "start_time": "2021-06-11T01:16:37.097Z"
   },
   {
    "duration": 79,
    "start_time": "2021-06-11T01:16:51.670Z"
   },
   {
    "duration": 84,
    "start_time": "2021-06-11T01:18:30.033Z"
   },
   {
    "duration": 81,
    "start_time": "2021-06-11T01:18:47.868Z"
   },
   {
    "duration": 81,
    "start_time": "2021-06-11T01:19:09.367Z"
   },
   {
    "duration": 79,
    "start_time": "2021-06-11T01:19:32.294Z"
   },
   {
    "duration": 81,
    "start_time": "2021-06-11T01:19:51.461Z"
   },
   {
    "duration": 83,
    "start_time": "2021-06-11T01:20:29.812Z"
   },
   {
    "duration": 85,
    "start_time": "2021-06-11T01:21:15.391Z"
   },
   {
    "duration": 86,
    "start_time": "2021-06-11T01:21:35.316Z"
   },
   {
    "duration": 87,
    "start_time": "2021-06-11T01:21:49.500Z"
   },
   {
    "duration": 89,
    "start_time": "2021-06-11T01:22:05.175Z"
   },
   {
    "duration": 101,
    "start_time": "2021-06-11T01:23:48.645Z"
   },
   {
    "duration": 92,
    "start_time": "2021-06-11T01:24:02.284Z"
   },
   {
    "duration": 88,
    "start_time": "2021-06-11T01:24:22.649Z"
   },
   {
    "duration": 101,
    "start_time": "2021-06-11T01:24:47.461Z"
   },
   {
    "duration": 92,
    "start_time": "2021-06-11T01:25:43.024Z"
   },
   {
    "duration": 95,
    "start_time": "2021-06-11T01:25:52.706Z"
   },
   {
    "duration": 96,
    "start_time": "2021-06-11T01:26:14.538Z"
   },
   {
    "duration": 122,
    "start_time": "2021-06-11T01:26:20.206Z"
   },
   {
    "duration": 799,
    "start_time": "2021-06-11T01:28:02.428Z"
   },
   {
    "duration": 11,
    "start_time": "2021-06-11T01:28:03.229Z"
   },
   {
    "duration": 136,
    "start_time": "2021-06-11T01:28:03.243Z"
   },
   {
    "duration": 47012,
    "start_time": "2021-06-11T01:28:03.382Z"
   },
   {
    "duration": 5,
    "start_time": "2021-06-11T01:28:50.397Z"
   },
   {
    "duration": 16,
    "start_time": "2021-06-11T01:28:50.405Z"
   },
   {
    "duration": 13,
    "start_time": "2021-06-11T01:28:50.423Z"
   },
   {
    "duration": 117,
    "start_time": "2021-06-11T01:28:50.439Z"
   },
   {
    "duration": 114,
    "start_time": "2021-06-11T01:29:06.094Z"
   },
   {
    "duration": 93,
    "start_time": "2021-06-11T01:29:20.485Z"
   },
   {
    "duration": 313,
    "start_time": "2021-06-11T01:42:41.916Z"
   },
   {
    "duration": 247,
    "start_time": "2021-06-11T01:43:02.042Z"
   },
   {
    "duration": 50674,
    "start_time": "2021-06-11T01:43:20.751Z"
   },
   {
    "duration": 6,
    "start_time": "2021-06-11T01:44:11.428Z"
   },
   {
    "duration": 6,
    "start_time": "2021-06-11T01:44:58.413Z"
   },
   {
    "duration": 830,
    "start_time": "2021-06-11T02:06:03.957Z"
   },
   {
    "duration": 10,
    "start_time": "2021-06-11T02:06:04.790Z"
   },
   {
    "duration": 34,
    "start_time": "2021-06-11T02:06:04.803Z"
   },
   {
    "duration": 115,
    "start_time": "2021-06-11T02:06:04.840Z"
   },
   {
    "duration": 50003,
    "start_time": "2021-06-11T02:06:04.958Z"
   },
   {
    "duration": 6,
    "start_time": "2021-06-11T02:06:54.963Z"
   },
   {
    "duration": 8,
    "start_time": "2021-06-11T02:06:54.971Z"
   },
   {
    "duration": 6,
    "start_time": "2021-06-11T02:06:54.981Z"
   },
   {
    "duration": 7,
    "start_time": "2021-06-11T02:06:54.990Z"
   },
   {
    "duration": 97,
    "start_time": "2021-06-11T02:07:29.787Z"
   },
   {
    "duration": 737,
    "start_time": "2021-06-11T02:08:02.095Z"
   },
   {
    "duration": 11,
    "start_time": "2021-06-11T02:08:03.793Z"
   },
   {
    "duration": 31,
    "start_time": "2021-06-11T02:08:07.880Z"
   },
   {
    "duration": 101,
    "start_time": "2021-06-11T02:08:09.780Z"
   },
   {
    "duration": 757,
    "start_time": "2021-06-11T02:09:01.975Z"
   },
   {
    "duration": 10,
    "start_time": "2021-06-11T02:09:06.838Z"
   },
   {
    "duration": 104,
    "start_time": "2021-06-11T02:09:10.109Z"
   },
   {
    "duration": 769,
    "start_time": "2021-06-11T02:12:06.655Z"
   },
   {
    "duration": 11,
    "start_time": "2021-06-11T02:12:07.427Z"
   },
   {
    "duration": 35,
    "start_time": "2021-06-11T02:12:07.441Z"
   },
   {
    "duration": 109,
    "start_time": "2021-06-11T02:12:07.479Z"
   },
   {
    "duration": 50056,
    "start_time": "2021-06-11T02:12:07.590Z"
   },
   {
    "duration": 6,
    "start_time": "2021-06-11T02:12:57.649Z"
   },
   {
    "duration": 9,
    "start_time": "2021-06-11T02:12:57.657Z"
   },
   {
    "duration": 10,
    "start_time": "2021-06-11T02:12:57.670Z"
   },
   {
    "duration": 5,
    "start_time": "2021-06-11T02:12:57.683Z"
   },
   {
    "duration": 742,
    "start_time": "2021-06-11T02:14:35.385Z"
   },
   {
    "duration": 10,
    "start_time": "2021-06-11T02:14:37.736Z"
   },
   {
    "duration": 62,
    "start_time": "2021-06-11T02:15:30.070Z"
   },
   {
    "duration": 739,
    "start_time": "2021-06-11T02:16:01.706Z"
   },
   {
    "duration": 11,
    "start_time": "2021-06-11T02:16:04.763Z"
   },
   {
    "duration": 373,
    "start_time": "2021-06-11T02:17:03.474Z"
   },
   {
    "duration": 14,
    "start_time": "2021-06-11T02:17:11.031Z"
   },
   {
    "duration": 887,
    "start_time": "2021-06-11T02:23:30.625Z"
   },
   {
    "duration": 10,
    "start_time": "2021-06-11T02:23:31.514Z"
   },
   {
    "duration": 31,
    "start_time": "2021-06-11T02:23:31.527Z"
   },
   {
    "duration": 114,
    "start_time": "2021-06-11T02:23:31.560Z"
   },
   {
    "duration": 792,
    "start_time": "2021-06-11T02:24:04.922Z"
   },
   {
    "duration": 332,
    "start_time": "2021-06-11T02:24:15.194Z"
   },
   {
    "duration": 56,
    "start_time": "2021-06-11T02:24:48.380Z"
   },
   {
    "duration": 785,
    "start_time": "2021-06-11T02:25:22.341Z"
   },
   {
    "duration": 50,
    "start_time": "2021-06-11T02:25:26.375Z"
   },
   {
    "duration": 771,
    "start_time": "2021-06-11T02:32:20.749Z"
   },
   {
    "duration": 9,
    "start_time": "2021-06-11T02:32:21.523Z"
   },
   {
    "duration": 30,
    "start_time": "2021-06-11T02:32:21.535Z"
   },
   {
    "duration": 108,
    "start_time": "2021-06-11T02:32:21.568Z"
   },
   {
    "duration": 51114,
    "start_time": "2021-06-11T02:32:21.678Z"
   },
   {
    "duration": 5,
    "start_time": "2021-06-11T02:33:12.794Z"
   },
   {
    "duration": 8,
    "start_time": "2021-06-11T02:33:12.802Z"
   },
   {
    "duration": 8,
    "start_time": "2021-06-11T02:33:12.813Z"
   },
   {
    "duration": 36,
    "start_time": "2021-06-11T02:33:12.823Z"
   },
   {
    "duration": 821,
    "start_time": "2021-06-11T02:51:34.759Z"
   },
   {
    "duration": 10,
    "start_time": "2021-06-11T02:51:35.583Z"
   },
   {
    "duration": 30,
    "start_time": "2021-06-11T02:51:35.596Z"
   },
   {
    "duration": 125,
    "start_time": "2021-06-11T02:51:35.629Z"
   },
   {
    "duration": 814,
    "start_time": "2021-06-11T08:57:33.843Z"
   },
   {
    "duration": 11,
    "start_time": "2021-06-11T08:57:34.660Z"
   },
   {
    "duration": 49,
    "start_time": "2021-06-11T08:57:34.675Z"
   },
   {
    "duration": 128,
    "start_time": "2021-06-11T08:57:34.727Z"
   },
   {
    "duration": 54509,
    "start_time": "2021-06-11T08:57:34.858Z"
   },
   {
    "duration": 6,
    "start_time": "2021-06-11T08:58:29.370Z"
   },
   {
    "duration": 25,
    "start_time": "2021-06-11T08:58:29.379Z"
   },
   {
    "duration": 8,
    "start_time": "2021-06-11T08:58:29.424Z"
   },
   {
    "duration": 23,
    "start_time": "2021-06-11T08:58:29.434Z"
   },
   {
    "duration": 5,
    "start_time": "2021-06-11T09:04:31.974Z"
   },
   {
    "duration": 323,
    "start_time": "2021-06-15T22:18:34.432Z"
   },
   {
    "duration": 787,
    "start_time": "2021-06-15T22:18:52.150Z"
   },
   {
    "duration": 10,
    "start_time": "2021-06-15T22:18:52.940Z"
   },
   {
    "duration": 35,
    "start_time": "2021-06-15T22:18:52.953Z"
   },
   {
    "duration": 121,
    "start_time": "2021-06-15T22:18:52.991Z"
   },
   {
    "duration": 3598,
    "start_time": "2021-06-15T22:18:53.123Z"
   },
   {
    "duration": -99233,
    "start_time": "2021-06-15T22:20:35.956Z"
   },
   {
    "duration": -99488,
    "start_time": "2021-06-15T22:20:36.213Z"
   },
   {
    "duration": -99489,
    "start_time": "2021-06-15T22:20:36.215Z"
   },
   {
    "duration": -99489,
    "start_time": "2021-06-15T22:20:36.216Z"
   },
   {
    "duration": 78,
    "start_time": "2021-06-15T22:19:29.025Z"
   },
   {
    "duration": 72,
    "start_time": "2021-06-15T22:19:50.302Z"
   },
   {
    "duration": 738,
    "start_time": "2021-06-15T22:21:04.177Z"
   },
   {
    "duration": 10,
    "start_time": "2021-06-15T22:21:04.918Z"
   },
   {
    "duration": 32,
    "start_time": "2021-06-15T22:21:04.930Z"
   },
   {
    "duration": 122,
    "start_time": "2021-06-15T22:21:04.965Z"
   },
   {
    "duration": 50940,
    "start_time": "2021-06-15T22:21:05.090Z"
   },
   {
    "duration": 6,
    "start_time": "2021-06-15T22:21:56.033Z"
   },
   {
    "duration": 7,
    "start_time": "2021-06-15T22:21:56.041Z"
   },
   {
    "duration": 5,
    "start_time": "2021-06-15T22:21:56.052Z"
   },
   {
    "duration": 8,
    "start_time": "2021-06-15T22:21:56.059Z"
   },
   {
    "duration": 50015,
    "start_time": "2021-06-15T22:51:50.471Z"
   },
   {
    "duration": 4,
    "start_time": "2021-06-15T22:52:53.847Z"
   },
   {
    "duration": 5,
    "start_time": "2021-06-15T22:53:14.213Z"
   },
   {
    "duration": 5,
    "start_time": "2021-06-15T22:53:53.706Z"
   },
   {
    "duration": 5,
    "start_time": "2021-06-15T22:54:05.705Z"
   },
   {
    "duration": 5,
    "start_time": "2021-06-15T22:54:10.348Z"
   },
   {
    "duration": 5,
    "start_time": "2021-06-15T22:54:19.533Z"
   },
   {
    "duration": 5,
    "start_time": "2021-06-15T22:54:29.617Z"
   },
   {
    "duration": 6,
    "start_time": "2021-06-15T22:55:12.833Z"
   },
   {
    "duration": 52071,
    "start_time": "2021-06-15T22:55:55.418Z"
   },
   {
    "duration": 7,
    "start_time": "2021-06-15T22:58:36.545Z"
   },
   {
    "duration": 333,
    "start_time": "2021-06-19T15:23:30.869Z"
   },
   {
    "duration": 292,
    "start_time": "2021-06-19T15:23:39.749Z"
   },
   {
    "duration": 813,
    "start_time": "2021-06-19T15:23:54.028Z"
   },
   {
    "duration": 12,
    "start_time": "2021-06-19T15:23:54.844Z"
   },
   {
    "duration": 33,
    "start_time": "2021-06-19T15:23:54.860Z"
   },
   {
    "duration": 122,
    "start_time": "2021-06-19T15:23:54.896Z"
   },
   {
    "duration": 47408,
    "start_time": "2021-06-19T15:23:55.021Z"
   },
   {
    "duration": 8,
    "start_time": "2021-06-19T15:24:42.432Z"
   },
   {
    "duration": 6,
    "start_time": "2021-06-19T15:24:42.454Z"
   },
   {
    "duration": 7,
    "start_time": "2021-06-19T15:24:42.463Z"
   },
   {
    "duration": 6,
    "start_time": "2021-06-19T15:24:42.472Z"
   },
   {
    "duration": 49789,
    "start_time": "2021-06-19T15:25:43.082Z"
   },
   {
    "duration": 8,
    "start_time": "2021-06-19T15:28:02.367Z"
   },
   {
    "duration": 327,
    "start_time": "2021-06-28T00:39:10.000Z"
   },
   {
    "duration": 834,
    "start_time": "2021-06-28T00:39:19.991Z"
   },
   {
    "duration": 9,
    "start_time": "2021-06-28T00:39:20.828Z"
   },
   {
    "duration": 38,
    "start_time": "2021-06-28T00:39:20.840Z"
   },
   {
    "duration": 117,
    "start_time": "2021-06-28T00:39:20.881Z"
   },
   {
    "duration": 46372,
    "start_time": "2021-06-28T00:39:21.001Z"
   },
   {
    "duration": 11,
    "start_time": "2021-06-28T00:40:07.375Z"
   },
   {
    "duration": 7,
    "start_time": "2021-06-28T00:40:07.389Z"
   },
   {
    "duration": 5,
    "start_time": "2021-06-28T00:40:07.427Z"
   },
   {
    "duration": 7,
    "start_time": "2021-06-28T00:40:07.436Z"
   },
   {
    "duration": 23,
    "start_time": "2021-06-28T00:41:51.934Z"
   },
   {
    "duration": 16,
    "start_time": "2021-06-28T00:42:14.157Z"
   },
   {
    "duration": 32,
    "start_time": "2021-06-28T00:42:20.919Z"
   },
   {
    "duration": 745,
    "start_time": "2021-06-28T00:44:19.538Z"
   },
   {
    "duration": 18,
    "start_time": "2021-06-28T00:45:29.169Z"
   },
   {
    "duration": 22,
    "start_time": "2021-06-28T00:45:39.994Z"
   },
   {
    "duration": 32,
    "start_time": "2021-06-28T00:46:26.437Z"
   },
   {
    "duration": 25,
    "start_time": "2021-06-28T00:46:56.449Z"
   },
   {
    "duration": 346,
    "start_time": "2021-07-03T13:34:34.548Z"
   },
   {
    "duration": 1272,
    "start_time": "2021-07-03T13:35:02.979Z"
   },
   {
    "duration": 19,
    "start_time": "2021-07-03T13:35:04.254Z"
   },
   {
    "duration": 49,
    "start_time": "2021-07-03T13:35:04.277Z"
   },
   {
    "duration": 206,
    "start_time": "2021-07-03T13:35:04.329Z"
   },
   {
    "duration": 55339,
    "start_time": "2021-07-03T13:35:04.539Z"
   },
   {
    "duration": 19,
    "start_time": "2021-07-03T13:35:59.881Z"
   },
   {
    "duration": 7,
    "start_time": "2021-07-03T13:35:59.903Z"
   },
   {
    "duration": 8,
    "start_time": "2021-07-03T13:35:59.914Z"
   },
   {
    "duration": 12,
    "start_time": "2021-07-03T13:35:59.963Z"
   },
   {
    "duration": 26,
    "start_time": "2021-07-03T13:37:48.052Z"
   },
   {
    "duration": 24,
    "start_time": "2021-07-03T13:38:00.163Z"
   },
   {
    "duration": 21,
    "start_time": "2021-07-03T13:39:22.041Z"
   },
   {
    "duration": 26,
    "start_time": "2021-07-03T13:39:28.327Z"
   },
   {
    "duration": 32,
    "start_time": "2021-07-03T13:39:55.140Z"
   },
   {
    "duration": 31,
    "start_time": "2021-07-03T13:46:35.853Z"
   },
   {
    "duration": 22,
    "start_time": "2021-07-03T13:51:42.692Z"
   },
   {
    "duration": 38,
    "start_time": "2021-07-03T13:53:47.472Z"
   },
   {
    "duration": 23,
    "start_time": "2021-07-03T13:54:10.524Z"
   },
   {
    "duration": 422,
    "start_time": "2021-07-03T14:55:26.770Z"
   },
   {
    "duration": 34,
    "start_time": "2021-07-03T14:55:37.963Z"
   },
   {
    "duration": 21,
    "start_time": "2021-07-03T14:55:52.995Z"
   },
   {
    "duration": 19,
    "start_time": "2021-07-03T14:57:18.282Z"
   },
   {
    "duration": 62,
    "start_time": "2021-07-03T14:59:50.891Z"
   },
   {
    "duration": 279,
    "start_time": "2021-07-03T15:00:00.314Z"
   },
   {
    "duration": 61,
    "start_time": "2021-07-03T15:00:04.572Z"
   },
   {
    "duration": 64,
    "start_time": "2021-07-03T15:00:28.931Z"
   },
   {
    "duration": 29,
    "start_time": "2021-07-03T15:00:40.944Z"
   },
   {
    "duration": 23,
    "start_time": "2021-07-03T15:00:46.719Z"
   },
   {
    "duration": 278,
    "start_time": "2021-07-03T15:08:08.006Z"
   },
   {
    "duration": 290,
    "start_time": "2021-07-03T15:08:16.064Z"
   },
   {
    "duration": 43,
    "start_time": "2021-07-03T15:08:28.920Z"
   },
   {
    "duration": 18,
    "start_time": "2021-07-03T15:08:51.371Z"
   },
   {
    "duration": 29,
    "start_time": "2021-07-03T15:09:03.871Z"
   },
   {
    "duration": 22,
    "start_time": "2021-07-03T15:10:13.862Z"
   },
   {
    "duration": 49,
    "start_time": "2021-07-03T15:11:54.967Z"
   },
   {
    "duration": 41,
    "start_time": "2021-07-03T15:12:10.152Z"
   },
   {
    "duration": 22,
    "start_time": "2021-07-03T15:12:31.193Z"
   },
   {
    "duration": 29,
    "start_time": "2021-07-03T15:12:48.413Z"
   },
   {
    "duration": 33,
    "start_time": "2021-07-03T15:12:55.541Z"
   },
   {
    "duration": 67,
    "start_time": "2021-07-03T15:13:16.594Z"
   },
   {
    "duration": -113188,
    "start_time": "2021-07-03T15:16:00.305Z"
   },
   {
    "duration": 19,
    "start_time": "2021-07-03T15:14:16.709Z"
   },
   {
    "duration": 20,
    "start_time": "2021-07-03T15:14:46.948Z"
   },
   {
    "duration": 42,
    "start_time": "2021-07-03T15:28:53.084Z"
   },
   {
    "duration": 24,
    "start_time": "2021-07-03T15:29:08.721Z"
   },
   {
    "duration": 40,
    "start_time": "2021-07-03T15:29:15.293Z"
   },
   {
    "duration": 20,
    "start_time": "2021-07-03T15:29:24.394Z"
   },
   {
    "duration": 74,
    "start_time": "2021-07-03T15:29:30.445Z"
   },
   {
    "duration": 32,
    "start_time": "2021-07-03T15:29:40.167Z"
   },
   {
    "duration": 73,
    "start_time": "2021-07-03T15:30:50.303Z"
   },
   {
    "duration": 29,
    "start_time": "2021-07-03T15:31:00.874Z"
   },
   {
    "duration": 44,
    "start_time": "2021-07-03T15:31:11.926Z"
   },
   {
    "duration": 35,
    "start_time": "2021-07-03T15:31:23.141Z"
   },
   {
    "duration": 47,
    "start_time": "2021-07-03T15:31:34.647Z"
   },
   {
    "duration": 14,
    "start_time": "2021-07-03T15:32:18.291Z"
   },
   {
    "duration": 29,
    "start_time": "2021-07-03T15:32:21.166Z"
   },
   {
    "duration": 49,
    "start_time": "2021-07-03T15:45:17.876Z"
   },
   {
    "duration": 290,
    "start_time": "2021-07-03T15:45:23.331Z"
   },
   {
    "duration": 389,
    "start_time": "2021-07-03T15:45:27.001Z"
   },
   {
    "duration": 96,
    "start_time": "2021-07-03T15:45:31.574Z"
   },
   {
    "duration": 30,
    "start_time": "2021-07-03T15:45:46.870Z"
   },
   {
    "duration": 52,
    "start_time": "2021-07-03T15:46:38.310Z"
   },
   {
    "duration": 25,
    "start_time": "2021-07-03T15:46:46.204Z"
   },
   {
    "duration": 28,
    "start_time": "2021-07-03T15:49:04.484Z"
   },
   {
    "duration": 20,
    "start_time": "2021-07-03T15:49:07.496Z"
   },
   {
    "duration": 29,
    "start_time": "2021-07-03T15:50:36.366Z"
   },
   {
    "duration": 27,
    "start_time": "2021-07-03T15:51:33.494Z"
   },
   {
    "duration": 43,
    "start_time": "2021-07-03T15:51:41.423Z"
   },
   {
    "duration": 95,
    "start_time": "2021-07-03T15:51:49.931Z"
   },
   {
    "duration": 24,
    "start_time": "2021-07-03T15:51:52.617Z"
   },
   {
    "duration": 283,
    "start_time": "2021-07-03T15:55:16.770Z"
   },
   {
    "duration": 277,
    "start_time": "2021-07-03T15:58:08.412Z"
   },
   {
    "duration": 286,
    "start_time": "2021-07-03T16:00:04.703Z"
   },
   {
    "duration": 294,
    "start_time": "2021-07-03T16:00:14.590Z"
   },
   {
    "duration": 5530,
    "start_time": "2021-07-03T16:00:25.990Z"
   },
   {
    "duration": 5581,
    "start_time": "2021-07-03T16:00:48.856Z"
   },
   {
    "duration": 4369,
    "start_time": "2021-07-03T16:03:32.483Z"
   },
   {
    "duration": 275,
    "start_time": "2021-07-03T16:06:53.039Z"
   },
   {
    "duration": 280,
    "start_time": "2021-07-03T16:07:07.454Z"
   },
   {
    "duration": 304,
    "start_time": "2021-07-03T16:07:09.826Z"
   },
   {
    "duration": 3857,
    "start_time": "2021-07-03T16:08:00.124Z"
   },
   {
    "duration": 872,
    "start_time": "2021-07-03T16:08:53.792Z"
   },
   {
    "duration": 18,
    "start_time": "2021-07-03T16:08:54.667Z"
   },
   {
    "duration": 38,
    "start_time": "2021-07-03T16:08:54.688Z"
   },
   {
    "duration": 157,
    "start_time": "2021-07-03T16:08:54.728Z"
   },
   {
    "duration": 50564,
    "start_time": "2021-07-03T16:08:54.892Z"
   },
   {
    "duration": 29970,
    "start_time": "2021-07-03T16:09:45.459Z"
   },
   {
    "duration": 5,
    "start_time": "2021-07-03T16:10:15.431Z"
   },
   {
    "duration": 26,
    "start_time": "2021-07-03T16:10:15.439Z"
   },
   {
    "duration": 11,
    "start_time": "2021-07-03T16:10:15.480Z"
   },
   {
    "duration": 3855,
    "start_time": "2021-07-03T16:11:03.212Z"
   },
   {
    "duration": 325,
    "start_time": "2021-07-04T16:36:38.379Z"
   },
   {
    "duration": 781,
    "start_time": "2021-07-04T16:36:46.029Z"
   },
   {
    "duration": 9,
    "start_time": "2021-07-04T16:36:46.813Z"
   },
   {
    "duration": 41,
    "start_time": "2021-07-04T16:36:46.825Z"
   },
   {
    "duration": 107,
    "start_time": "2021-07-04T16:36:46.869Z"
   },
   {
    "duration": 34677,
    "start_time": "2021-07-04T16:36:46.978Z"
   },
   {
    "duration": -113936,
    "start_time": "2021-07-04T16:39:15.595Z"
   },
   {
    "duration": -113936,
    "start_time": "2021-07-04T16:39:15.596Z"
   },
   {
    "duration": -113937,
    "start_time": "2021-07-04T16:39:15.598Z"
   },
   {
    "duration": -113936,
    "start_time": "2021-07-04T16:39:15.599Z"
   },
   {
    "duration": 397,
    "start_time": "2021-07-04T16:37:24.040Z"
   },
   {
    "duration": 425,
    "start_time": "2021-07-04T16:37:40.137Z"
   },
   {
    "duration": 398,
    "start_time": "2021-07-04T16:38:20.949Z"
   },
   {
    "duration": 380,
    "start_time": "2021-07-04T16:40:26.125Z"
   },
   {
    "duration": 380,
    "start_time": "2021-07-04T16:40:34.051Z"
   },
   {
    "duration": 393,
    "start_time": "2021-07-04T16:40:37.542Z"
   },
   {
    "duration": 610,
    "start_time": "2021-07-04T16:41:05.897Z"
   },
   {
    "duration": 367,
    "start_time": "2021-07-04T16:41:16.475Z"
   },
   {
    "duration": 3151,
    "start_time": "2021-07-04T16:41:59.986Z"
   },
   {
    "duration": 238,
    "start_time": "2021-07-04T16:43:46.745Z"
   },
   {
    "duration": 265,
    "start_time": "2021-07-04T16:43:59.621Z"
   },
   {
    "duration": 3129,
    "start_time": "2021-07-04T16:44:14.190Z"
   },
   {
    "duration": 307,
    "start_time": "2021-07-04T16:44:26.343Z"
   },
   {
    "duration": 3172,
    "start_time": "2021-07-04T16:45:40.404Z"
   },
   {
    "duration": 245,
    "start_time": "2021-07-04T16:46:06.551Z"
   },
   {
    "duration": 307,
    "start_time": "2021-07-04T16:46:13.935Z"
   },
   {
    "duration": 3160,
    "start_time": "2021-07-04T16:51:42.308Z"
   },
   {
    "duration": 3241,
    "start_time": "2021-07-04T16:52:45.340Z"
   },
   {
    "duration": 3357,
    "start_time": "2021-07-04T16:53:34.721Z"
   },
   {
    "duration": 1813,
    "start_time": "2021-07-04T16:56:20.094Z"
   },
   {
    "duration": 1344,
    "start_time": "2021-07-04T16:56:36.217Z"
   },
   {
    "duration": 1687,
    "start_time": "2021-07-04T16:57:43.723Z"
   },
   {
    "duration": 1442,
    "start_time": "2021-07-04T16:58:19.370Z"
   },
   {
    "duration": 1328,
    "start_time": "2021-07-04T16:58:24.031Z"
   },
   {
    "duration": 380,
    "start_time": "2021-07-04T16:58:32.750Z"
   },
   {
    "duration": 762,
    "start_time": "2021-07-04T17:00:02.522Z"
   },
   {
    "duration": 387,
    "start_time": "2021-07-04T17:00:20.489Z"
   },
   {
    "duration": 382,
    "start_time": "2021-07-04T17:00:28.061Z"
   },
   {
    "duration": 388,
    "start_time": "2021-07-04T17:00:44.386Z"
   },
   {
    "duration": 84,
    "start_time": "2021-07-04T17:04:40.205Z"
   },
   {
    "duration": 412,
    "start_time": "2021-07-04T17:09:25.959Z"
   },
   {
    "duration": 113,
    "start_time": "2021-07-04T17:12:09.717Z"
   },
   {
    "duration": 376,
    "start_time": "2021-07-04T17:12:14.266Z"
   },
   {
    "duration": 375,
    "start_time": "2021-07-04T17:12:27.947Z"
   },
   {
    "duration": 400,
    "start_time": "2021-07-04T17:12:30.369Z"
   },
   {
    "duration": 410,
    "start_time": "2021-07-04T17:13:45.045Z"
   },
   {
    "duration": 479,
    "start_time": "2021-07-04T17:16:21.910Z"
   },
   {
    "duration": 662,
    "start_time": "2021-07-04T17:24:56.749Z"
   },
   {
    "duration": 721,
    "start_time": "2021-07-04T17:25:45.483Z"
   },
   {
    "duration": 3967,
    "start_time": "2021-07-04T17:25:55.029Z"
   },
   {
    "duration": 4501,
    "start_time": "2021-07-04T17:27:44.565Z"
   },
   {
    "duration": 4146,
    "start_time": "2021-07-04T17:27:56.322Z"
   },
   {
    "duration": 4172,
    "start_time": "2021-07-04T17:28:19.538Z"
   },
   {
    "duration": 4312,
    "start_time": "2021-07-04T17:30:50.056Z"
   },
   {
    "duration": 3909,
    "start_time": "2021-07-04T17:31:32.053Z"
   },
   {
    "duration": 3970,
    "start_time": "2021-07-04T17:32:38.879Z"
   },
   {
    "duration": 3985,
    "start_time": "2021-07-04T17:33:08.749Z"
   },
   {
    "duration": 4244,
    "start_time": "2021-07-04T17:35:47.349Z"
   },
   {
    "duration": 4517,
    "start_time": "2021-07-04T17:36:07.608Z"
   },
   {
    "duration": 10891,
    "start_time": "2021-07-04T17:36:44.771Z"
   },
   {
    "duration": 7497,
    "start_time": "2021-07-04T17:38:14.587Z"
   },
   {
    "duration": 4123,
    "start_time": "2021-07-04T17:40:56.411Z"
   },
   {
    "duration": 4188,
    "start_time": "2021-07-04T17:41:17.667Z"
   },
   {
    "duration": 4243,
    "start_time": "2021-07-04T17:44:16.248Z"
   },
   {
    "duration": 4342,
    "start_time": "2021-07-04T17:44:45.919Z"
   },
   {
    "duration": 4248,
    "start_time": "2021-07-04T17:45:42.681Z"
   },
   {
    "duration": 4700,
    "start_time": "2021-07-04T17:46:16.494Z"
   },
   {
    "duration": 10,
    "start_time": "2021-07-04T17:54:22.205Z"
   },
   {
    "duration": 842,
    "start_time": "2021-07-04T17:54:46.750Z"
   },
   {
    "duration": 10,
    "start_time": "2021-07-04T17:54:47.594Z"
   },
   {
    "duration": 49,
    "start_time": "2021-07-04T17:54:47.607Z"
   },
   {
    "duration": 117,
    "start_time": "2021-07-04T17:54:47.659Z"
   },
   {
    "duration": 49561,
    "start_time": "2021-07-04T17:54:47.779Z"
   },
   {
    "duration": 15,
    "start_time": "2021-07-04T17:55:37.342Z"
   },
   {
    "duration": 10,
    "start_time": "2021-07-04T17:55:37.359Z"
   },
   {
    "duration": 6,
    "start_time": "2021-07-04T17:55:37.372Z"
   },
   {
    "duration": 7,
    "start_time": "2021-07-04T17:55:37.381Z"
   },
   {
    "duration": 29,
    "start_time": "2021-07-04T18:01:11.375Z"
   },
   {
    "duration": 940,
    "start_time": "2021-07-05T11:19:39.860Z"
   },
   {
    "duration": 11,
    "start_time": "2021-07-05T11:19:40.803Z"
   },
   {
    "duration": 40,
    "start_time": "2021-07-05T11:19:40.817Z"
   },
   {
    "duration": 121,
    "start_time": "2021-07-05T11:19:40.860Z"
   },
   {
    "duration": 54950,
    "start_time": "2021-07-05T11:19:40.984Z"
   },
   {
    "duration": 11,
    "start_time": "2021-07-05T11:20:35.936Z"
   },
   {
    "duration": 13,
    "start_time": "2021-07-05T11:20:35.949Z"
   },
   {
    "duration": 5,
    "start_time": "2021-07-05T11:20:35.965Z"
   },
   {
    "duration": 35,
    "start_time": "2021-07-05T11:20:35.973Z"
   },
   {
    "duration": 19,
    "start_time": "2021-07-05T11:23:19.773Z"
   },
   {
    "duration": 26,
    "start_time": "2021-07-05T11:24:05.204Z"
   },
   {
    "duration": 12,
    "start_time": "2021-07-05T11:24:08.291Z"
   },
   {
    "duration": 3,
    "start_time": "2021-07-05T11:26:09.345Z"
   },
   {
    "duration": 8,
    "start_time": "2021-07-05T11:26:11.254Z"
   },
   {
    "duration": 11,
    "start_time": "2021-07-05T11:26:42.771Z"
   },
   {
    "duration": 12,
    "start_time": "2021-07-05T11:26:46.911Z"
   },
   {
    "duration": 74,
    "start_time": "2022-07-15T04:27:21.045Z"
   },
   {
    "duration": 682,
    "start_time": "2022-07-15T04:27:47.428Z"
   },
   {
    "duration": 32,
    "start_time": "2022-07-15T04:27:48.113Z"
   },
   {
    "duration": 23,
    "start_time": "2022-07-15T04:27:48.211Z"
   },
   {
    "duration": 1215,
    "start_time": "2022-07-17T16:12:12.877Z"
   },
   {
    "duration": 197,
    "start_time": "2022-07-17T16:12:15.081Z"
   },
   {
    "duration": 97,
    "start_time": "2022-07-17T16:23:15.786Z"
   },
   {
    "duration": 11,
    "start_time": "2022-07-17T16:23:27.272Z"
   },
   {
    "duration": 6,
    "start_time": "2022-07-17T16:23:32.283Z"
   },
   {
    "duration": 11,
    "start_time": "2022-07-17T16:23:39.374Z"
   },
   {
    "duration": 19,
    "start_time": "2022-07-17T16:23:56.240Z"
   },
   {
    "duration": 12,
    "start_time": "2022-07-17T16:25:43.885Z"
   },
   {
    "duration": 14,
    "start_time": "2022-07-17T16:25:49.071Z"
   },
   {
    "duration": 22,
    "start_time": "2022-07-17T16:25:53.414Z"
   },
   {
    "duration": 11,
    "start_time": "2022-07-17T16:26:07.975Z"
   },
   {
    "duration": 10,
    "start_time": "2022-07-17T16:26:16.411Z"
   },
   {
    "duration": 10,
    "start_time": "2022-07-17T16:26:22.514Z"
   },
   {
    "duration": 12,
    "start_time": "2022-07-17T16:29:53.583Z"
   },
   {
    "duration": 8,
    "start_time": "2022-07-17T16:30:04.996Z"
   },
   {
    "duration": 11,
    "start_time": "2022-07-17T16:30:07.179Z"
   },
   {
    "duration": 13,
    "start_time": "2022-07-17T16:33:39.102Z"
   },
   {
    "duration": 13,
    "start_time": "2022-07-17T16:36:12.491Z"
   },
   {
    "duration": 11,
    "start_time": "2022-07-17T16:36:25.387Z"
   },
   {
    "duration": 6,
    "start_time": "2022-07-17T16:39:11.345Z"
   },
   {
    "duration": 6,
    "start_time": "2022-07-17T16:40:54.794Z"
   },
   {
    "duration": 3,
    "start_time": "2022-07-17T16:41:00.945Z"
   },
   {
    "duration": 5,
    "start_time": "2022-07-17T16:41:06.436Z"
   },
   {
    "duration": 6,
    "start_time": "2022-07-17T16:41:11.802Z"
   },
   {
    "duration": 5,
    "start_time": "2022-07-17T16:41:14.383Z"
   },
   {
    "duration": 12,
    "start_time": "2022-07-17T18:06:04.398Z"
   },
   {
    "duration": 20,
    "start_time": "2022-07-17T18:06:08.417Z"
   },
   {
    "duration": 19,
    "start_time": "2022-07-17T18:06:41.996Z"
   },
   {
    "duration": 77,
    "start_time": "2022-07-17T18:07:34.703Z"
   },
   {
    "duration": 52,
    "start_time": "2022-07-17T18:07:45.816Z"
   },
   {
    "duration": 14,
    "start_time": "2022-07-17T18:07:50.040Z"
   },
   {
    "duration": 50,
    "start_time": "2022-07-17T18:08:00.461Z"
   },
   {
    "duration": 14,
    "start_time": "2022-07-17T18:08:01.996Z"
   },
   {
    "duration": 60,
    "start_time": "2022-07-17T18:08:11.209Z"
   },
   {
    "duration": 15,
    "start_time": "2022-07-17T18:08:12.431Z"
   },
   {
    "duration": 6,
    "start_time": "2022-07-17T18:08:22.397Z"
   },
   {
    "duration": 50,
    "start_time": "2022-07-17T18:08:31.211Z"
   },
   {
    "duration": 5,
    "start_time": "2022-07-17T18:08:31.631Z"
   },
   {
    "duration": 49,
    "start_time": "2022-07-17T18:08:38.452Z"
   },
   {
    "duration": 5,
    "start_time": "2022-07-17T18:08:39.670Z"
   },
   {
    "duration": 51,
    "start_time": "2022-07-17T18:08:50.958Z"
   },
   {
    "duration": 47,
    "start_time": "2022-07-17T18:09:06.704Z"
   },
   {
    "duration": 5,
    "start_time": "2022-07-17T18:09:07.800Z"
   },
   {
    "duration": 62,
    "start_time": "2022-07-17T18:09:11.996Z"
   },
   {
    "duration": 4,
    "start_time": "2022-07-17T18:09:13.416Z"
   },
   {
    "duration": 43,
    "start_time": "2022-07-17T18:09:22.296Z"
   },
   {
    "duration": 6,
    "start_time": "2022-07-17T18:09:40.354Z"
   },
   {
    "duration": 4,
    "start_time": "2022-07-17T18:09:45.505Z"
   },
   {
    "duration": 5,
    "start_time": "2022-07-17T18:09:49.951Z"
   },
   {
    "duration": 5,
    "start_time": "2022-07-17T18:09:59.188Z"
   },
   {
    "duration": 61,
    "start_time": "2022-07-17T18:10:32.803Z"
   },
   {
    "duration": 5,
    "start_time": "2022-07-17T18:10:33.727Z"
   },
   {
    "duration": 62,
    "start_time": "2022-07-17T18:10:39.298Z"
   },
   {
    "duration": 4,
    "start_time": "2022-07-17T18:10:39.803Z"
   },
   {
    "duration": 58,
    "start_time": "2022-07-17T18:10:48.365Z"
   },
   {
    "duration": 6,
    "start_time": "2022-07-17T18:10:49.094Z"
   },
   {
    "duration": 57,
    "start_time": "2022-07-17T18:10:58.709Z"
   },
   {
    "duration": 4,
    "start_time": "2022-07-17T18:10:59.298Z"
   },
   {
    "duration": 58,
    "start_time": "2022-07-17T18:28:49.193Z"
   },
   {
    "duration": 5,
    "start_time": "2022-07-17T18:28:50.125Z"
   },
   {
    "duration": 1142,
    "start_time": "2022-07-17T18:29:04.857Z"
   },
   {
    "duration": 57,
    "start_time": "2022-07-17T18:29:06.001Z"
   },
   {
    "duration": 17,
    "start_time": "2022-07-17T18:29:06.059Z"
   },
   {
    "duration": 13,
    "start_time": "2022-07-17T18:29:06.078Z"
   },
   {
    "duration": 5,
    "start_time": "2022-07-17T18:29:06.093Z"
   },
   {
    "duration": 63,
    "start_time": "2022-07-17T18:29:06.099Z"
   },
   {
    "duration": 5,
    "start_time": "2022-07-17T18:29:06.163Z"
   },
   {
    "duration": 74,
    "start_time": "2022-07-17T18:29:06.169Z"
   },
   {
    "duration": 132,
    "start_time": "2022-07-17T18:29:06.245Z"
   },
   {
    "duration": 0,
    "start_time": "2022-07-17T18:29:06.379Z"
   },
   {
    "duration": 0,
    "start_time": "2022-07-17T18:29:06.380Z"
   },
   {
    "duration": 0,
    "start_time": "2022-07-17T18:29:06.381Z"
   },
   {
    "duration": 0,
    "start_time": "2022-07-17T18:29:06.381Z"
   },
   {
    "duration": 0,
    "start_time": "2022-07-17T18:29:06.382Z"
   },
   {
    "duration": 0,
    "start_time": "2022-07-17T18:29:06.383Z"
   },
   {
    "duration": 0,
    "start_time": "2022-07-17T18:29:06.384Z"
   },
   {
    "duration": 0,
    "start_time": "2022-07-17T18:29:06.384Z"
   },
   {
    "duration": 0,
    "start_time": "2022-07-17T18:29:06.385Z"
   },
   {
    "duration": 0,
    "start_time": "2022-07-17T18:29:06.402Z"
   },
   {
    "duration": 0,
    "start_time": "2022-07-17T18:29:06.403Z"
   },
   {
    "duration": 46,
    "start_time": "2022-07-17T18:31:54.402Z"
   },
   {
    "duration": 5,
    "start_time": "2022-07-17T18:31:55.451Z"
   },
   {
    "duration": 51,
    "start_time": "2022-07-17T18:32:05.003Z"
   },
   {
    "duration": 5,
    "start_time": "2022-07-17T18:32:05.599Z"
   },
   {
    "duration": 37,
    "start_time": "2022-07-17T18:32:15.716Z"
   },
   {
    "duration": 5,
    "start_time": "2022-07-17T18:32:16.562Z"
   },
   {
    "duration": 1267,
    "start_time": "2022-07-17T18:32:23.195Z"
   },
   {
    "duration": 52,
    "start_time": "2022-07-17T18:32:24.464Z"
   },
   {
    "duration": 16,
    "start_time": "2022-07-17T18:32:24.517Z"
   },
   {
    "duration": 13,
    "start_time": "2022-07-17T18:32:24.534Z"
   },
   {
    "duration": 5,
    "start_time": "2022-07-17T18:32:24.548Z"
   },
   {
    "duration": 72,
    "start_time": "2022-07-17T18:32:24.554Z"
   },
   {
    "duration": 4,
    "start_time": "2022-07-17T18:32:24.628Z"
   },
   {
    "duration": 57,
    "start_time": "2022-07-17T18:32:24.634Z"
   },
   {
    "duration": 135,
    "start_time": "2022-07-17T18:32:24.692Z"
   },
   {
    "duration": 0,
    "start_time": "2022-07-17T18:32:24.829Z"
   },
   {
    "duration": 0,
    "start_time": "2022-07-17T18:32:24.830Z"
   },
   {
    "duration": 0,
    "start_time": "2022-07-17T18:32:24.830Z"
   },
   {
    "duration": 0,
    "start_time": "2022-07-17T18:32:24.831Z"
   },
   {
    "duration": 0,
    "start_time": "2022-07-17T18:32:24.832Z"
   },
   {
    "duration": 0,
    "start_time": "2022-07-17T18:32:24.832Z"
   },
   {
    "duration": 0,
    "start_time": "2022-07-17T18:32:24.833Z"
   },
   {
    "duration": 0,
    "start_time": "2022-07-17T18:32:24.834Z"
   },
   {
    "duration": 0,
    "start_time": "2022-07-17T18:32:24.835Z"
   },
   {
    "duration": 0,
    "start_time": "2022-07-17T18:32:24.836Z"
   },
   {
    "duration": 1,
    "start_time": "2022-07-17T18:32:24.836Z"
   },
   {
    "duration": 1245,
    "start_time": "2022-07-18T01:20:20.684Z"
   },
   {
    "duration": 53,
    "start_time": "2022-07-18T01:20:21.930Z"
   },
   {
    "duration": 16,
    "start_time": "2022-07-18T01:20:21.984Z"
   },
   {
    "duration": 12,
    "start_time": "2022-07-18T01:20:22.001Z"
   },
   {
    "duration": 5,
    "start_time": "2022-07-18T01:20:22.016Z"
   },
   {
    "duration": 58,
    "start_time": "2022-07-18T01:20:22.022Z"
   },
   {
    "duration": 4,
    "start_time": "2022-07-18T01:20:22.082Z"
   },
   {
    "duration": 71,
    "start_time": "2022-07-18T01:20:22.087Z"
   },
   {
    "duration": 138,
    "start_time": "2022-07-18T01:20:22.159Z"
   },
   {
    "duration": 0,
    "start_time": "2022-07-18T01:20:22.298Z"
   },
   {
    "duration": 0,
    "start_time": "2022-07-18T01:20:22.301Z"
   },
   {
    "duration": 0,
    "start_time": "2022-07-18T01:20:22.302Z"
   },
   {
    "duration": 0,
    "start_time": "2022-07-18T01:20:22.303Z"
   },
   {
    "duration": 0,
    "start_time": "2022-07-18T01:20:22.304Z"
   },
   {
    "duration": 0,
    "start_time": "2022-07-18T01:20:22.305Z"
   },
   {
    "duration": 0,
    "start_time": "2022-07-18T01:20:22.306Z"
   },
   {
    "duration": 0,
    "start_time": "2022-07-18T01:20:22.307Z"
   },
   {
    "duration": 0,
    "start_time": "2022-07-18T01:20:22.308Z"
   },
   {
    "duration": 0,
    "start_time": "2022-07-18T01:20:22.309Z"
   },
   {
    "duration": 0,
    "start_time": "2022-07-18T01:20:22.310Z"
   },
   {
    "duration": 1159,
    "start_time": "2022-07-18T01:20:42.037Z"
   },
   {
    "duration": 53,
    "start_time": "2022-07-18T01:20:43.198Z"
   },
   {
    "duration": 17,
    "start_time": "2022-07-18T01:20:43.253Z"
   },
   {
    "duration": 13,
    "start_time": "2022-07-18T01:20:43.272Z"
   },
   {
    "duration": 5,
    "start_time": "2022-07-18T01:20:43.289Z"
   },
   {
    "duration": 51,
    "start_time": "2022-07-18T01:20:43.296Z"
   },
   {
    "duration": 6,
    "start_time": "2022-07-18T01:20:43.349Z"
   },
   {
    "duration": 78,
    "start_time": "2022-07-18T01:20:43.356Z"
   },
   {
    "duration": 133,
    "start_time": "2022-07-18T01:20:43.435Z"
   },
   {
    "duration": 0,
    "start_time": "2022-07-18T01:20:43.570Z"
   },
   {
    "duration": 0,
    "start_time": "2022-07-18T01:20:43.571Z"
   },
   {
    "duration": 0,
    "start_time": "2022-07-18T01:20:43.572Z"
   },
   {
    "duration": 0,
    "start_time": "2022-07-18T01:20:43.573Z"
   },
   {
    "duration": 1,
    "start_time": "2022-07-18T01:20:43.573Z"
   },
   {
    "duration": 0,
    "start_time": "2022-07-18T01:20:43.574Z"
   },
   {
    "duration": 0,
    "start_time": "2022-07-18T01:20:43.575Z"
   },
   {
    "duration": 0,
    "start_time": "2022-07-18T01:20:43.576Z"
   },
   {
    "duration": 0,
    "start_time": "2022-07-18T01:20:43.577Z"
   },
   {
    "duration": 0,
    "start_time": "2022-07-18T01:20:43.578Z"
   },
   {
    "duration": 0,
    "start_time": "2022-07-18T01:20:43.579Z"
   },
   {
    "duration": 1165,
    "start_time": "2022-07-18T01:21:02.227Z"
   },
   {
    "duration": 55,
    "start_time": "2022-07-18T01:21:03.394Z"
   },
   {
    "duration": 16,
    "start_time": "2022-07-18T01:21:03.451Z"
   },
   {
    "duration": 22,
    "start_time": "2022-07-18T01:21:03.468Z"
   },
   {
    "duration": 9,
    "start_time": "2022-07-18T01:21:03.493Z"
   },
   {
    "duration": 24,
    "start_time": "2022-07-18T01:21:03.503Z"
   },
   {
    "duration": 15,
    "start_time": "2022-07-18T01:21:03.528Z"
   },
   {
    "duration": 58,
    "start_time": "2022-07-18T01:21:03.545Z"
   },
   {
    "duration": 29056,
    "start_time": "2022-07-18T01:21:03.605Z"
   },
   {
    "duration": 7,
    "start_time": "2022-07-18T01:21:32.663Z"
   },
   {
    "duration": 26,
    "start_time": "2022-07-18T01:21:32.671Z"
   },
   {
    "duration": 34,
    "start_time": "2022-07-18T01:21:32.698Z"
   },
   {
    "duration": 17,
    "start_time": "2022-07-18T01:21:32.733Z"
   },
   {
    "duration": 15,
    "start_time": "2022-07-18T01:21:32.752Z"
   },
   {
    "duration": 16,
    "start_time": "2022-07-18T01:21:32.768Z"
   },
   {
    "duration": 12,
    "start_time": "2022-07-18T01:21:32.785Z"
   },
   {
    "duration": 23,
    "start_time": "2022-07-18T01:21:32.798Z"
   },
   {
    "duration": 15,
    "start_time": "2022-07-18T01:21:32.822Z"
   },
   {
    "duration": 39,
    "start_time": "2022-07-18T01:21:32.838Z"
   },
   {
    "duration": 29,
    "start_time": "2022-07-18T01:21:32.878Z"
   },
   {
    "duration": 1206,
    "start_time": "2022-07-19T14:19:19.446Z"
   },
   {
    "duration": 193,
    "start_time": "2022-07-19T14:19:20.653Z"
   },
   {
    "duration": 22,
    "start_time": "2022-07-19T14:19:20.848Z"
   },
   {
    "duration": 19,
    "start_time": "2022-07-19T14:19:20.872Z"
   },
   {
    "duration": 5,
    "start_time": "2022-07-19T14:19:20.893Z"
   },
   {
    "duration": 64,
    "start_time": "2022-07-19T14:19:20.900Z"
   },
   {
    "duration": 5,
    "start_time": "2022-07-19T14:19:20.966Z"
   },
   {
    "duration": 73,
    "start_time": "2022-07-19T14:19:20.973Z"
   },
   {
    "duration": 138,
    "start_time": "2022-07-19T14:19:21.048Z"
   },
   {
    "duration": 0,
    "start_time": "2022-07-19T14:19:21.188Z"
   },
   {
    "duration": 0,
    "start_time": "2022-07-19T14:19:21.189Z"
   },
   {
    "duration": 0,
    "start_time": "2022-07-19T14:19:21.190Z"
   },
   {
    "duration": 0,
    "start_time": "2022-07-19T14:19:21.202Z"
   },
   {
    "duration": 0,
    "start_time": "2022-07-19T14:19:21.204Z"
   },
   {
    "duration": 0,
    "start_time": "2022-07-19T14:19:21.205Z"
   },
   {
    "duration": 0,
    "start_time": "2022-07-19T14:19:21.206Z"
   },
   {
    "duration": 0,
    "start_time": "2022-07-19T14:19:21.207Z"
   },
   {
    "duration": 0,
    "start_time": "2022-07-19T14:19:21.208Z"
   },
   {
    "duration": 0,
    "start_time": "2022-07-19T14:19:21.209Z"
   },
   {
    "duration": 1,
    "start_time": "2022-07-19T14:19:21.209Z"
   },
   {
    "duration": 1306,
    "start_time": "2022-07-20T03:43:40.087Z"
   },
   {
    "duration": 165,
    "start_time": "2022-07-20T03:43:41.395Z"
   },
   {
    "duration": 27,
    "start_time": "2022-07-20T03:43:41.562Z"
   },
   {
    "duration": 25,
    "start_time": "2022-07-20T03:43:41.592Z"
   },
   {
    "duration": 6,
    "start_time": "2022-07-20T03:43:41.620Z"
   },
   {
    "duration": 74,
    "start_time": "2022-07-20T03:43:41.627Z"
   },
   {
    "duration": 7,
    "start_time": "2022-07-20T03:43:41.711Z"
   },
   {
    "duration": 70,
    "start_time": "2022-07-20T03:43:41.719Z"
   },
   {
    "duration": 157,
    "start_time": "2022-07-20T03:43:41.790Z"
   },
   {
    "duration": 0,
    "start_time": "2022-07-20T03:43:41.948Z"
   },
   {
    "duration": 0,
    "start_time": "2022-07-20T03:43:41.949Z"
   },
   {
    "duration": 0,
    "start_time": "2022-07-20T03:43:41.950Z"
   },
   {
    "duration": 0,
    "start_time": "2022-07-20T03:43:41.952Z"
   },
   {
    "duration": 0,
    "start_time": "2022-07-20T03:43:41.953Z"
   },
   {
    "duration": 0,
    "start_time": "2022-07-20T03:43:41.954Z"
   },
   {
    "duration": 0,
    "start_time": "2022-07-20T03:43:41.955Z"
   },
   {
    "duration": 0,
    "start_time": "2022-07-20T03:43:41.956Z"
   },
   {
    "duration": 0,
    "start_time": "2022-07-20T03:43:41.958Z"
   },
   {
    "duration": 0,
    "start_time": "2022-07-20T03:43:41.958Z"
   },
   {
    "duration": 0,
    "start_time": "2022-07-20T03:43:41.960Z"
   },
   {
    "duration": 1232,
    "start_time": "2022-07-20T03:44:16.691Z"
   },
   {
    "duration": 63,
    "start_time": "2022-07-20T03:44:17.924Z"
   },
   {
    "duration": 20,
    "start_time": "2022-07-20T03:44:17.988Z"
   },
   {
    "duration": 17,
    "start_time": "2022-07-20T03:44:18.010Z"
   },
   {
    "duration": 6,
    "start_time": "2022-07-20T03:44:18.029Z"
   },
   {
    "duration": 74,
    "start_time": "2022-07-20T03:44:18.037Z"
   },
   {
    "duration": 5,
    "start_time": "2022-07-20T03:44:18.113Z"
   },
   {
    "duration": 73,
    "start_time": "2022-07-20T03:44:18.120Z"
   },
   {
    "duration": 170,
    "start_time": "2022-07-20T03:44:18.195Z"
   },
   {
    "duration": 0,
    "start_time": "2022-07-20T03:44:18.367Z"
   },
   {
    "duration": 0,
    "start_time": "2022-07-20T03:44:18.368Z"
   },
   {
    "duration": 0,
    "start_time": "2022-07-20T03:44:18.370Z"
   },
   {
    "duration": 0,
    "start_time": "2022-07-20T03:44:18.371Z"
   },
   {
    "duration": 0,
    "start_time": "2022-07-20T03:44:18.372Z"
   },
   {
    "duration": 0,
    "start_time": "2022-07-20T03:44:18.374Z"
   },
   {
    "duration": 0,
    "start_time": "2022-07-20T03:44:18.375Z"
   },
   {
    "duration": 0,
    "start_time": "2022-07-20T03:44:18.376Z"
   },
   {
    "duration": 0,
    "start_time": "2022-07-20T03:44:18.377Z"
   },
   {
    "duration": 0,
    "start_time": "2022-07-20T03:44:18.379Z"
   },
   {
    "duration": 0,
    "start_time": "2022-07-20T03:44:18.380Z"
   },
   {
    "duration": 18,
    "start_time": "2022-07-20T03:44:46.977Z"
   },
   {
    "duration": 1225,
    "start_time": "2022-07-20T03:46:25.145Z"
   },
   {
    "duration": 70,
    "start_time": "2022-07-20T03:46:26.372Z"
   },
   {
    "duration": 26,
    "start_time": "2022-07-20T03:46:26.444Z"
   },
   {
    "duration": 39,
    "start_time": "2022-07-20T03:46:26.473Z"
   },
   {
    "duration": 9,
    "start_time": "2022-07-20T03:46:26.514Z"
   },
   {
    "duration": 88,
    "start_time": "2022-07-20T03:46:26.525Z"
   },
   {
    "duration": 23,
    "start_time": "2022-07-20T03:46:26.615Z"
   },
   {
    "duration": 101,
    "start_time": "2022-07-20T03:46:26.640Z"
   },
   {
    "duration": 35051,
    "start_time": "2022-07-20T03:46:26.743Z"
   },
   {
    "duration": 8,
    "start_time": "2022-07-20T03:47:01.796Z"
   },
   {
    "duration": 22,
    "start_time": "2022-07-20T03:47:01.806Z"
   },
   {
    "duration": 32,
    "start_time": "2022-07-20T03:47:01.830Z"
   },
   {
    "duration": 26,
    "start_time": "2022-07-20T03:47:01.864Z"
   },
   {
    "duration": 31,
    "start_time": "2022-07-20T03:47:01.892Z"
   },
   {
    "duration": 26,
    "start_time": "2022-07-20T03:47:01.925Z"
   },
   {
    "duration": 16,
    "start_time": "2022-07-20T03:47:01.953Z"
   },
   {
    "duration": 18,
    "start_time": "2022-07-20T03:47:01.971Z"
   },
   {
    "duration": 21,
    "start_time": "2022-07-20T03:47:01.990Z"
   },
   {
    "duration": 10,
    "start_time": "2022-07-20T03:47:02.013Z"
   },
   {
    "duration": 28,
    "start_time": "2022-07-20T03:47:02.025Z"
   },
   {
    "duration": 14,
    "start_time": "2022-07-20T03:47:02.055Z"
   },
   {
    "duration": 6,
    "start_time": "2022-07-20T03:48:18.924Z"
   },
   {
    "duration": 6,
    "start_time": "2022-07-20T03:48:35.357Z"
   },
   {
    "duration": 46,
    "start_time": "2022-07-20T03:49:59.781Z"
   },
   {
    "duration": 14,
    "start_time": "2022-07-20T03:50:03.492Z"
   },
   {
    "duration": 114,
    "start_time": "2022-07-20T03:50:17.234Z"
   },
   {
    "duration": 63,
    "start_time": "2022-07-20T03:50:20.816Z"
   },
   {
    "duration": 32534,
    "start_time": "2022-07-20T03:55:29.464Z"
   },
   {
    "duration": 2790,
    "start_time": "2022-07-20T03:58:05.045Z"
   },
   {
    "duration": 68,
    "start_time": "2022-07-20T04:04:16.691Z"
   },
   {
    "duration": 51,
    "start_time": "2022-07-20T04:04:25.926Z"
   },
   {
    "duration": 1654,
    "start_time": "2022-07-20T04:04:33.445Z"
   },
   {
    "duration": 1637,
    "start_time": "2022-07-20T04:05:10.559Z"
   },
   {
    "duration": 1498,
    "start_time": "2022-07-20T04:08:29.705Z"
   },
   {
    "duration": 1608,
    "start_time": "2022-07-20T04:10:30.213Z"
   },
   {
    "duration": 4,
    "start_time": "2022-07-20T04:10:48.356Z"
   },
   {
    "duration": 3,
    "start_time": "2022-07-20T04:11:04.900Z"
   },
   {
    "duration": 3,
    "start_time": "2022-07-20T04:11:10.152Z"
   },
   {
    "duration": 1566,
    "start_time": "2022-07-20T04:11:26.432Z"
   },
   {
    "duration": 10,
    "start_time": "2022-07-20T04:11:28.000Z"
   },
   {
    "duration": 8,
    "start_time": "2022-07-20T04:11:41.344Z"
   },
   {
    "duration": 5,
    "start_time": "2022-07-20T04:12:02.664Z"
   },
   {
    "duration": 1658,
    "start_time": "2022-07-20T04:12:11.221Z"
   },
   {
    "duration": 1536,
    "start_time": "2022-07-20T04:12:18.055Z"
   },
   {
    "duration": 93,
    "start_time": "2022-07-20T04:12:20.524Z"
   },
   {
    "duration": 5,
    "start_time": "2022-07-20T04:12:38.891Z"
   }
  ],
  "kernelspec": {
   "display_name": "Python 3 (ipykernel)",
   "language": "python",
   "name": "python3"
  },
  "language_info": {
   "codemirror_mode": {
    "name": "ipython",
    "version": 3
   },
   "file_extension": ".py",
   "mimetype": "text/x-python",
   "name": "python",
   "nbconvert_exporter": "python",
   "pygments_lexer": "ipython3",
   "version": "3.9.5"
  },
  "toc": {
   "base_numbering": 1,
   "nav_menu": {},
   "number_sections": true,
   "sideBar": true,
   "skip_h1_title": true,
   "title_cell": "Table of Contents",
   "title_sidebar": "Contents",
   "toc_cell": false,
   "toc_position": {},
   "toc_section_display": true,
   "toc_window_display": false
  }
 },
 "nbformat": 4,
 "nbformat_minor": 2
}
