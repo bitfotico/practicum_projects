{
 "cells": [
  {
   "cell_type": "markdown",
   "metadata": {},
   "source": [
    "# Beta Bank "
   ]
  },
  {
   "cell_type": "markdown",
   "metadata": {},
   "source": [
    "Beta Bank customers are leaving: little by little, chipping away every month. The bankers figured out it’s cheaper to save the existing customers rather than to attract new ones.\n",
    "\n",
    "We need to predict whether a customer will leave the bank soon. We have the data on clients’ past behavior and termination of contracts with the bank.\n",
    "\n",
    "Build a model with the maximum possible F1 score. To pass the project, we need an F1 score of at least 0.59. Check the F1 for the test set.\n",
    "\n",
    "Additionally, measure the AUC-ROC metric and compare it with the F1."
   ]
  },
  {
   "cell_type": "markdown",
   "metadata": {},
   "source": [
    "## Preparation "
   ]
  },
  {
   "cell_type": "code",
   "execution_count": 1,
   "metadata": {},
   "outputs": [],
   "source": [
    "import pandas as pd\n",
    "import matplotlib.pyplot as plt\n",
    "import numpy as np\n",
    "import seaborn as sns\n",
    "\n",
    "from sklearn.tree import DecisionTreeClassifier\n",
    "from sklearn.ensemble import RandomForestClassifier\n",
    "from sklearn.linear_model import LogisticRegression\n",
    "\n",
    "from sklearn.model_selection import train_test_split\n",
    "from sklearn.metrics import roc_auc_score, f1_score, confusion_matrix\n",
    "from sklearn.model_selection import GridSearchCV\n",
    "from sklearn.impute import KNNImputer\n",
    "from sklearn.utils import shuffle\n",
    "from sklearn.preprocessing import StandardScaler\n",
    "from sklearn.dummy import DummyClassifier"
   ]
  },
  {
   "cell_type": "code",
   "execution_count": 2,
   "metadata": {},
   "outputs": [],
   "source": [
    "df = pd.read_csv('C:/Users/Kayo/Downloads/Churn.csv')"
   ]
  },
  {
   "cell_type": "code",
   "execution_count": 3,
   "metadata": {},
   "outputs": [
    {
     "data": {
      "text/html": [
       "<div>\n",
       "<style scoped>\n",
       "    .dataframe tbody tr th:only-of-type {\n",
       "        vertical-align: middle;\n",
       "    }\n",
       "\n",
       "    .dataframe tbody tr th {\n",
       "        vertical-align: top;\n",
       "    }\n",
       "\n",
       "    .dataframe thead th {\n",
       "        text-align: right;\n",
       "    }\n",
       "</style>\n",
       "<table border=\"1\" class=\"dataframe\">\n",
       "  <thead>\n",
       "    <tr style=\"text-align: right;\">\n",
       "      <th></th>\n",
       "      <th>RowNumber</th>\n",
       "      <th>CustomerId</th>\n",
       "      <th>Surname</th>\n",
       "      <th>CreditScore</th>\n",
       "      <th>Geography</th>\n",
       "      <th>Gender</th>\n",
       "      <th>Age</th>\n",
       "      <th>Tenure</th>\n",
       "      <th>Balance</th>\n",
       "      <th>NumOfProducts</th>\n",
       "      <th>HasCrCard</th>\n",
       "      <th>IsActiveMember</th>\n",
       "      <th>EstimatedSalary</th>\n",
       "      <th>Exited</th>\n",
       "    </tr>\n",
       "  </thead>\n",
       "  <tbody>\n",
       "    <tr>\n",
       "      <th>0</th>\n",
       "      <td>1</td>\n",
       "      <td>15634602</td>\n",
       "      <td>Hargrave</td>\n",
       "      <td>619</td>\n",
       "      <td>France</td>\n",
       "      <td>Female</td>\n",
       "      <td>42</td>\n",
       "      <td>2.0</td>\n",
       "      <td>0.00</td>\n",
       "      <td>1</td>\n",
       "      <td>1</td>\n",
       "      <td>1</td>\n",
       "      <td>101348.88</td>\n",
       "      <td>1</td>\n",
       "    </tr>\n",
       "    <tr>\n",
       "      <th>1</th>\n",
       "      <td>2</td>\n",
       "      <td>15647311</td>\n",
       "      <td>Hill</td>\n",
       "      <td>608</td>\n",
       "      <td>Spain</td>\n",
       "      <td>Female</td>\n",
       "      <td>41</td>\n",
       "      <td>1.0</td>\n",
       "      <td>83807.86</td>\n",
       "      <td>1</td>\n",
       "      <td>0</td>\n",
       "      <td>1</td>\n",
       "      <td>112542.58</td>\n",
       "      <td>0</td>\n",
       "    </tr>\n",
       "    <tr>\n",
       "      <th>2</th>\n",
       "      <td>3</td>\n",
       "      <td>15619304</td>\n",
       "      <td>Onio</td>\n",
       "      <td>502</td>\n",
       "      <td>France</td>\n",
       "      <td>Female</td>\n",
       "      <td>42</td>\n",
       "      <td>8.0</td>\n",
       "      <td>159660.80</td>\n",
       "      <td>3</td>\n",
       "      <td>1</td>\n",
       "      <td>0</td>\n",
       "      <td>113931.57</td>\n",
       "      <td>1</td>\n",
       "    </tr>\n",
       "    <tr>\n",
       "      <th>3</th>\n",
       "      <td>4</td>\n",
       "      <td>15701354</td>\n",
       "      <td>Boni</td>\n",
       "      <td>699</td>\n",
       "      <td>France</td>\n",
       "      <td>Female</td>\n",
       "      <td>39</td>\n",
       "      <td>1.0</td>\n",
       "      <td>0.00</td>\n",
       "      <td>2</td>\n",
       "      <td>0</td>\n",
       "      <td>0</td>\n",
       "      <td>93826.63</td>\n",
       "      <td>0</td>\n",
       "    </tr>\n",
       "    <tr>\n",
       "      <th>4</th>\n",
       "      <td>5</td>\n",
       "      <td>15737888</td>\n",
       "      <td>Mitchell</td>\n",
       "      <td>850</td>\n",
       "      <td>Spain</td>\n",
       "      <td>Female</td>\n",
       "      <td>43</td>\n",
       "      <td>2.0</td>\n",
       "      <td>125510.82</td>\n",
       "      <td>1</td>\n",
       "      <td>1</td>\n",
       "      <td>1</td>\n",
       "      <td>79084.10</td>\n",
       "      <td>0</td>\n",
       "    </tr>\n",
       "  </tbody>\n",
       "</table>\n",
       "</div>"
      ],
      "text/plain": [
       "   RowNumber  CustomerId   Surname  CreditScore Geography  Gender  Age  \\\n",
       "0          1    15634602  Hargrave          619    France  Female   42   \n",
       "1          2    15647311      Hill          608     Spain  Female   41   \n",
       "2          3    15619304      Onio          502    France  Female   42   \n",
       "3          4    15701354      Boni          699    France  Female   39   \n",
       "4          5    15737888  Mitchell          850     Spain  Female   43   \n",
       "\n",
       "   Tenure    Balance  NumOfProducts  HasCrCard  IsActiveMember  \\\n",
       "0     2.0       0.00              1          1               1   \n",
       "1     1.0   83807.86              1          0               1   \n",
       "2     8.0  159660.80              3          1               0   \n",
       "3     1.0       0.00              2          0               0   \n",
       "4     2.0  125510.82              1          1               1   \n",
       "\n",
       "   EstimatedSalary  Exited  \n",
       "0        101348.88       1  \n",
       "1        112542.58       0  \n",
       "2        113931.57       1  \n",
       "3         93826.63       0  \n",
       "4         79084.10       0  "
      ]
     },
     "execution_count": 3,
     "metadata": {},
     "output_type": "execute_result"
    }
   ],
   "source": [
    "# Checking general DF info\n",
    "df.head()"
   ]
  },
  {
   "cell_type": "code",
   "execution_count": 29,
   "metadata": {},
   "outputs": [
    {
     "data": {
      "text/html": [
       "<div>\n",
       "<style scoped>\n",
       "    .dataframe tbody tr th:only-of-type {\n",
       "        vertical-align: middle;\n",
       "    }\n",
       "\n",
       "    .dataframe tbody tr th {\n",
       "        vertical-align: top;\n",
       "    }\n",
       "\n",
       "    .dataframe thead th {\n",
       "        text-align: right;\n",
       "    }\n",
       "</style>\n",
       "<table border=\"1\" class=\"dataframe\">\n",
       "  <thead>\n",
       "    <tr style=\"text-align: right;\">\n",
       "      <th></th>\n",
       "      <th>CreditScore</th>\n",
       "      <th>Age</th>\n",
       "      <th>Tenure</th>\n",
       "      <th>Balance</th>\n",
       "      <th>NumOfProducts</th>\n",
       "      <th>HasCrCard</th>\n",
       "      <th>IsActiveMember</th>\n",
       "      <th>EstimatedSalary</th>\n",
       "      <th>Exited</th>\n",
       "      <th>Geography_Germany</th>\n",
       "      <th>Geography_Spain</th>\n",
       "      <th>Gender</th>\n",
       "    </tr>\n",
       "  </thead>\n",
       "  <tbody>\n",
       "    <tr>\n",
       "      <th>count</th>\n",
       "      <td>10000.000000</td>\n",
       "      <td>10000.000000</td>\n",
       "      <td>10000.000000</td>\n",
       "      <td>10000.000000</td>\n",
       "      <td>10000.000000</td>\n",
       "      <td>10000.00000</td>\n",
       "      <td>10000.000000</td>\n",
       "      <td>10000.000000</td>\n",
       "      <td>10000.000000</td>\n",
       "      <td>10000.000000</td>\n",
       "      <td>10000.000000</td>\n",
       "      <td>10000.000000</td>\n",
       "    </tr>\n",
       "    <tr>\n",
       "      <th>mean</th>\n",
       "      <td>650.528800</td>\n",
       "      <td>38.921800</td>\n",
       "      <td>4.998900</td>\n",
       "      <td>76485.889288</td>\n",
       "      <td>1.530200</td>\n",
       "      <td>0.70550</td>\n",
       "      <td>0.515100</td>\n",
       "      <td>100090.239881</td>\n",
       "      <td>0.203700</td>\n",
       "      <td>0.250900</td>\n",
       "      <td>0.247700</td>\n",
       "      <td>0.545700</td>\n",
       "    </tr>\n",
       "    <tr>\n",
       "      <th>std</th>\n",
       "      <td>96.653299</td>\n",
       "      <td>10.487806</td>\n",
       "      <td>2.784982</td>\n",
       "      <td>62397.405202</td>\n",
       "      <td>0.581654</td>\n",
       "      <td>0.45584</td>\n",
       "      <td>0.499797</td>\n",
       "      <td>57510.492818</td>\n",
       "      <td>0.402769</td>\n",
       "      <td>0.433553</td>\n",
       "      <td>0.431698</td>\n",
       "      <td>0.497932</td>\n",
       "    </tr>\n",
       "    <tr>\n",
       "      <th>min</th>\n",
       "      <td>350.000000</td>\n",
       "      <td>18.000000</td>\n",
       "      <td>0.000000</td>\n",
       "      <td>0.000000</td>\n",
       "      <td>1.000000</td>\n",
       "      <td>0.00000</td>\n",
       "      <td>0.000000</td>\n",
       "      <td>11.580000</td>\n",
       "      <td>0.000000</td>\n",
       "      <td>0.000000</td>\n",
       "      <td>0.000000</td>\n",
       "      <td>0.000000</td>\n",
       "    </tr>\n",
       "    <tr>\n",
       "      <th>25%</th>\n",
       "      <td>584.000000</td>\n",
       "      <td>32.000000</td>\n",
       "      <td>3.000000</td>\n",
       "      <td>0.000000</td>\n",
       "      <td>1.000000</td>\n",
       "      <td>0.00000</td>\n",
       "      <td>0.000000</td>\n",
       "      <td>51002.110000</td>\n",
       "      <td>0.000000</td>\n",
       "      <td>0.000000</td>\n",
       "      <td>0.000000</td>\n",
       "      <td>0.000000</td>\n",
       "    </tr>\n",
       "    <tr>\n",
       "      <th>50%</th>\n",
       "      <td>652.000000</td>\n",
       "      <td>37.000000</td>\n",
       "      <td>5.000000</td>\n",
       "      <td>97198.540000</td>\n",
       "      <td>1.000000</td>\n",
       "      <td>1.00000</td>\n",
       "      <td>1.000000</td>\n",
       "      <td>100193.915000</td>\n",
       "      <td>0.000000</td>\n",
       "      <td>0.000000</td>\n",
       "      <td>0.000000</td>\n",
       "      <td>1.000000</td>\n",
       "    </tr>\n",
       "    <tr>\n",
       "      <th>75%</th>\n",
       "      <td>718.000000</td>\n",
       "      <td>44.000000</td>\n",
       "      <td>7.000000</td>\n",
       "      <td>127644.240000</td>\n",
       "      <td>2.000000</td>\n",
       "      <td>1.00000</td>\n",
       "      <td>1.000000</td>\n",
       "      <td>149388.247500</td>\n",
       "      <td>0.000000</td>\n",
       "      <td>1.000000</td>\n",
       "      <td>0.000000</td>\n",
       "      <td>1.000000</td>\n",
       "    </tr>\n",
       "    <tr>\n",
       "      <th>max</th>\n",
       "      <td>850.000000</td>\n",
       "      <td>92.000000</td>\n",
       "      <td>10.000000</td>\n",
       "      <td>250898.090000</td>\n",
       "      <td>4.000000</td>\n",
       "      <td>1.00000</td>\n",
       "      <td>1.000000</td>\n",
       "      <td>199992.480000</td>\n",
       "      <td>1.000000</td>\n",
       "      <td>1.000000</td>\n",
       "      <td>1.000000</td>\n",
       "      <td>1.000000</td>\n",
       "    </tr>\n",
       "  </tbody>\n",
       "</table>\n",
       "</div>"
      ],
      "text/plain": [
       "        CreditScore           Age        Tenure        Balance  NumOfProducts  \\\n",
       "count  10000.000000  10000.000000  10000.000000   10000.000000   10000.000000   \n",
       "mean     650.528800     38.921800      4.998900   76485.889288       1.530200   \n",
       "std       96.653299     10.487806      2.784982   62397.405202       0.581654   \n",
       "min      350.000000     18.000000      0.000000       0.000000       1.000000   \n",
       "25%      584.000000     32.000000      3.000000       0.000000       1.000000   \n",
       "50%      652.000000     37.000000      5.000000   97198.540000       1.000000   \n",
       "75%      718.000000     44.000000      7.000000  127644.240000       2.000000   \n",
       "max      850.000000     92.000000     10.000000  250898.090000       4.000000   \n",
       "\n",
       "         HasCrCard  IsActiveMember  EstimatedSalary        Exited  \\\n",
       "count  10000.00000    10000.000000     10000.000000  10000.000000   \n",
       "mean       0.70550        0.515100    100090.239881      0.203700   \n",
       "std        0.45584        0.499797     57510.492818      0.402769   \n",
       "min        0.00000        0.000000        11.580000      0.000000   \n",
       "25%        0.00000        0.000000     51002.110000      0.000000   \n",
       "50%        1.00000        1.000000    100193.915000      0.000000   \n",
       "75%        1.00000        1.000000    149388.247500      0.000000   \n",
       "max        1.00000        1.000000    199992.480000      1.000000   \n",
       "\n",
       "       Geography_Germany  Geography_Spain        Gender  \n",
       "count       10000.000000     10000.000000  10000.000000  \n",
       "mean            0.250900         0.247700      0.545700  \n",
       "std             0.433553         0.431698      0.497932  \n",
       "min             0.000000         0.000000      0.000000  \n",
       "25%             0.000000         0.000000      0.000000  \n",
       "50%             0.000000         0.000000      1.000000  \n",
       "75%             1.000000         0.000000      1.000000  \n",
       "max             1.000000         1.000000      1.000000  "
      ]
     },
     "execution_count": 29,
     "metadata": {},
     "output_type": "execute_result"
    }
   ],
   "source": [
    "df.describe()"
   ]
  },
  {
   "cell_type": "code",
   "execution_count": 4,
   "metadata": {},
   "outputs": [
    {
     "name": "stdout",
     "output_type": "stream",
     "text": [
      "<class 'pandas.core.frame.DataFrame'>\n",
      "RangeIndex: 10000 entries, 0 to 9999\n",
      "Data columns (total 14 columns):\n",
      " #   Column           Non-Null Count  Dtype  \n",
      "---  ------           --------------  -----  \n",
      " 0   RowNumber        10000 non-null  int64  \n",
      " 1   CustomerId       10000 non-null  int64  \n",
      " 2   Surname          10000 non-null  object \n",
      " 3   CreditScore      10000 non-null  int64  \n",
      " 4   Geography        10000 non-null  object \n",
      " 5   Gender           10000 non-null  object \n",
      " 6   Age              10000 non-null  int64  \n",
      " 7   Tenure           9091 non-null   float64\n",
      " 8   Balance          10000 non-null  float64\n",
      " 9   NumOfProducts    10000 non-null  int64  \n",
      " 10  HasCrCard        10000 non-null  int64  \n",
      " 11  IsActiveMember   10000 non-null  int64  \n",
      " 12  EstimatedSalary  10000 non-null  float64\n",
      " 13  Exited           10000 non-null  int64  \n",
      "dtypes: float64(3), int64(8), object(3)\n",
      "memory usage: 1.1+ MB\n"
     ]
    }
   ],
   "source": [
    "df.info()"
   ]
  },
  {
   "cell_type": "code",
   "execution_count": 5,
   "metadata": {},
   "outputs": [],
   "source": [
    "# Dropping useless columns\n",
    "df = df.drop(['RowNumber', 'CustomerId', 'Surname'], axis=1)"
   ]
  },
  {
   "cell_type": "code",
   "execution_count": 6,
   "metadata": {},
   "outputs": [],
   "source": [
    "# OHE\n",
    "df = pd.get_dummies(df, drop_first=True)\n",
    "df.rename(columns={'Gender_Male':'Gender'}, inplace=True)"
   ]
  },
  {
   "cell_type": "code",
   "execution_count": 7,
   "metadata": {},
   "outputs": [
    {
     "data": {
      "text/html": [
       "<div>\n",
       "<style scoped>\n",
       "    .dataframe tbody tr th:only-of-type {\n",
       "        vertical-align: middle;\n",
       "    }\n",
       "\n",
       "    .dataframe tbody tr th {\n",
       "        vertical-align: top;\n",
       "    }\n",
       "\n",
       "    .dataframe thead th {\n",
       "        text-align: right;\n",
       "    }\n",
       "</style>\n",
       "<table border=\"1\" class=\"dataframe\">\n",
       "  <thead>\n",
       "    <tr style=\"text-align: right;\">\n",
       "      <th></th>\n",
       "      <th>CreditScore</th>\n",
       "      <th>Age</th>\n",
       "      <th>Tenure</th>\n",
       "      <th>Balance</th>\n",
       "      <th>NumOfProducts</th>\n",
       "      <th>HasCrCard</th>\n",
       "      <th>IsActiveMember</th>\n",
       "      <th>EstimatedSalary</th>\n",
       "      <th>Exited</th>\n",
       "      <th>Geography_Germany</th>\n",
       "      <th>Geography_Spain</th>\n",
       "      <th>Gender</th>\n",
       "    </tr>\n",
       "  </thead>\n",
       "  <tbody>\n",
       "    <tr>\n",
       "      <th>0</th>\n",
       "      <td>619</td>\n",
       "      <td>42</td>\n",
       "      <td>2.0</td>\n",
       "      <td>0.00</td>\n",
       "      <td>1</td>\n",
       "      <td>1</td>\n",
       "      <td>1</td>\n",
       "      <td>101348.88</td>\n",
       "      <td>1</td>\n",
       "      <td>0</td>\n",
       "      <td>0</td>\n",
       "      <td>0</td>\n",
       "    </tr>\n",
       "    <tr>\n",
       "      <th>1</th>\n",
       "      <td>608</td>\n",
       "      <td>41</td>\n",
       "      <td>1.0</td>\n",
       "      <td>83807.86</td>\n",
       "      <td>1</td>\n",
       "      <td>0</td>\n",
       "      <td>1</td>\n",
       "      <td>112542.58</td>\n",
       "      <td>0</td>\n",
       "      <td>0</td>\n",
       "      <td>1</td>\n",
       "      <td>0</td>\n",
       "    </tr>\n",
       "    <tr>\n",
       "      <th>2</th>\n",
       "      <td>502</td>\n",
       "      <td>42</td>\n",
       "      <td>8.0</td>\n",
       "      <td>159660.80</td>\n",
       "      <td>3</td>\n",
       "      <td>1</td>\n",
       "      <td>0</td>\n",
       "      <td>113931.57</td>\n",
       "      <td>1</td>\n",
       "      <td>0</td>\n",
       "      <td>0</td>\n",
       "      <td>0</td>\n",
       "    </tr>\n",
       "    <tr>\n",
       "      <th>3</th>\n",
       "      <td>699</td>\n",
       "      <td>39</td>\n",
       "      <td>1.0</td>\n",
       "      <td>0.00</td>\n",
       "      <td>2</td>\n",
       "      <td>0</td>\n",
       "      <td>0</td>\n",
       "      <td>93826.63</td>\n",
       "      <td>0</td>\n",
       "      <td>0</td>\n",
       "      <td>0</td>\n",
       "      <td>0</td>\n",
       "    </tr>\n",
       "    <tr>\n",
       "      <th>4</th>\n",
       "      <td>850</td>\n",
       "      <td>43</td>\n",
       "      <td>2.0</td>\n",
       "      <td>125510.82</td>\n",
       "      <td>1</td>\n",
       "      <td>1</td>\n",
       "      <td>1</td>\n",
       "      <td>79084.10</td>\n",
       "      <td>0</td>\n",
       "      <td>0</td>\n",
       "      <td>1</td>\n",
       "      <td>0</td>\n",
       "    </tr>\n",
       "  </tbody>\n",
       "</table>\n",
       "</div>"
      ],
      "text/plain": [
       "   CreditScore  Age  Tenure    Balance  NumOfProducts  HasCrCard  \\\n",
       "0          619   42     2.0       0.00              1          1   \n",
       "1          608   41     1.0   83807.86              1          0   \n",
       "2          502   42     8.0  159660.80              3          1   \n",
       "3          699   39     1.0       0.00              2          0   \n",
       "4          850   43     2.0  125510.82              1          1   \n",
       "\n",
       "   IsActiveMember  EstimatedSalary  Exited  Geography_Germany  \\\n",
       "0               1        101348.88       1                  0   \n",
       "1               1        112542.58       0                  0   \n",
       "2               0        113931.57       1                  0   \n",
       "3               0         93826.63       0                  0   \n",
       "4               1         79084.10       0                  0   \n",
       "\n",
       "   Geography_Spain  Gender  \n",
       "0                0       0  \n",
       "1                1       0  \n",
       "2                0       0  \n",
       "3                0       0  \n",
       "4                1       0  "
      ]
     },
     "execution_count": 7,
     "metadata": {},
     "output_type": "execute_result"
    }
   ],
   "source": [
    "# Checking OHE worked properly\n",
    "df.head()"
   ]
  },
  {
   "cell_type": "code",
   "execution_count": 8,
   "metadata": {},
   "outputs": [],
   "source": [
    "# Replacing NaN with KNN Imputer\n",
    "imputer = KNNImputer()\n",
    "df_convert = imputer.fit_transform(df)\n",
    "df = pd.DataFrame(df_convert, columns=df.columns)"
   ]
  },
  {
   "cell_type": "code",
   "execution_count": 9,
   "metadata": {},
   "outputs": [
    {
     "name": "stdout",
     "output_type": "stream",
     "text": [
      "Total amount of NaNs: 0\n"
     ]
    }
   ],
   "source": [
    "# Rechecking NaN count\n",
    "print('Total amount of NaNs:', df.isna().sum().sum())"
   ]
  },
  {
   "cell_type": "code",
   "execution_count": 10,
   "metadata": {},
   "outputs": [
    {
     "name": "stdout",
     "output_type": "stream",
     "text": [
      "Total amount of duplicates: 0\n"
     ]
    }
   ],
   "source": [
    "# Dropping duplicate rows\n",
    "print('Total amount of duplicates:', len(df.drop_duplicates()) - len(df))"
   ]
  },
  {
   "cell_type": "markdown",
   "metadata": {},
   "source": [
    "We dropped unneeded columns, prepared our columns using panda's one hot encoding method, and imputed away our NaNs using KNNImputer."
   ]
  },
  {
   "cell_type": "markdown",
   "metadata": {},
   "source": [
    "## Building Model"
   ]
  },
  {
   "cell_type": "code",
   "execution_count": 11,
   "metadata": {},
   "outputs": [
    {
     "name": "stdout",
     "output_type": "stream",
     "text": [
      "Training set shapes: (9000, 11) (9000,)\n",
      "Testing set shapes: (1000, 11) (1000,)\n"
     ]
    }
   ],
   "source": [
    "# Building our training and test data sets\n",
    "# We use GridSearchCV so a validation set isn't needed\n",
    "features_train, features_test, target_train, target_test = train_test_split(\n",
    "    df.drop('Exited', axis=1), df['Exited'], train_size=0.9, random_state=12345)\n",
    "\n",
    "print('Training set shapes:', features_train.shape, target_train.shape)\n",
    "print('Testing set shapes:', features_test.shape, target_test.shape)"
   ]
  },
  {
   "cell_type": "code",
   "execution_count": 12,
   "metadata": {},
   "outputs": [],
   "source": [
    "# Creating a list of our best model scores\n",
    "best_f1 = []\n",
    "best_roc = []"
   ]
  },
  {
   "cell_type": "markdown",
   "metadata": {},
   "source": [
    "### Random Forest Classification"
   ]
  },
  {
   "cell_type": "code",
   "execution_count": 13,
   "metadata": {
    "scrolled": true
   },
   "outputs": [],
   "source": [
    "# Tuning Random Forest Regressors parameters using GridSearchCV\n",
    "param_grid1 = {\n",
    "    'n_estimators': [int(x) for x in np.linspace(start = 100, stop = 300, num = 5)],\n",
    "    'max_features': ['auto', 'sqrt'],\n",
    "    'max_depth': [int(x) for x in np.linspace(3, 15, num = 5)],\n",
    "}\n",
    "\n",
    "RFR_rfc = GridSearchCV(estimator=RandomForestClassifier(random_state=123), param_grid=param_grid1, cv=4)\n",
    "RFR_rfc.fit(features_train, target_train)\n",
    "RFR_predictions_test = RFR_rfc.predict(features_test)\n",
    "\n",
    "best_f1.append(f1_score(target_test, RFR_predictions_test))\n",
    "best_roc.append(roc_auc_score(target_test, RFR_rfc.predict_proba(features_test)[:, 1]))"
   ]
  },
  {
   "cell_type": "markdown",
   "metadata": {},
   "source": [
    "### Decision Tree Classification"
   ]
  },
  {
   "cell_type": "code",
   "execution_count": 14,
   "metadata": {},
   "outputs": [],
   "source": [
    "# Tuning Decision Tree Classification parameters using GridSearchCV\n",
    "param_grid2 = {\n",
    "    'max_features': ['auto', 'sqrt', 'log2'],\n",
    "    'max_depth': [int(x) for x in np.linspace(3, 15, num = 5)],\n",
    "    'criterion' : ['gini', 'entropy']\n",
    "}\n",
    "\n",
    "DTC_rfc = GridSearchCV(estimator=DecisionTreeClassifier(random_state=123), param_grid=param_grid2, cv=4)\n",
    "DTC_rfc.fit(features_train, target_train)\n",
    "DTC_predictions_test = DTC_rfc.predict(features_test)\n",
    "\n",
    "best_f1.append(f1_score(target_test, DTC_predictions_test))\n",
    "best_roc.append(roc_auc_score(target_test, DTC_rfc.predict_proba(features_test)[:, 1]))"
   ]
  },
  {
   "cell_type": "markdown",
   "metadata": {},
   "source": [
    "### Final Scores"
   ]
  },
  {
   "cell_type": "code",
   "execution_count": 15,
   "metadata": {},
   "outputs": [
    {
     "data": {
      "text/html": [
       "<div>\n",
       "<style scoped>\n",
       "    .dataframe tbody tr th:only-of-type {\n",
       "        vertical-align: middle;\n",
       "    }\n",
       "\n",
       "    .dataframe tbody tr th {\n",
       "        vertical-align: top;\n",
       "    }\n",
       "\n",
       "    .dataframe thead th {\n",
       "        text-align: right;\n",
       "    }\n",
       "</style>\n",
       "<table border=\"1\" class=\"dataframe\">\n",
       "  <thead>\n",
       "    <tr style=\"text-align: right;\">\n",
       "      <th></th>\n",
       "      <th>F1 Score</th>\n",
       "      <th>ROC-AUC Score</th>\n",
       "    </tr>\n",
       "    <tr>\n",
       "      <th>Model Type</th>\n",
       "      <th></th>\n",
       "      <th></th>\n",
       "    </tr>\n",
       "  </thead>\n",
       "  <tbody>\n",
       "    <tr>\n",
       "      <th>Random Forest</th>\n",
       "      <td>0.578171</td>\n",
       "      <td>0.865788</td>\n",
       "    </tr>\n",
       "    <tr>\n",
       "      <th>Decision Tree</th>\n",
       "      <td>0.498567</td>\n",
       "      <td>0.776294</td>\n",
       "    </tr>\n",
       "  </tbody>\n",
       "</table>\n",
       "</div>"
      ],
      "text/plain": [
       "               F1 Score  ROC-AUC Score\n",
       "Model Type                            \n",
       "Random Forest  0.578171       0.865788\n",
       "Decision Tree  0.498567       0.776294"
      ]
     },
     "execution_count": 15,
     "metadata": {},
     "output_type": "execute_result"
    }
   ],
   "source": [
    "# Merging scores into single Dataframe\n",
    "best_accuracy = pd.concat([pd.DataFrame(best_f1), pd.DataFrame(best_roc)], axis=1)\n",
    "best_accuracy = pd.concat([best_accuracy, pd.DataFrame(['Random Forest', 'Decision Tree'])], axis=1)\n",
    "\n",
    "best_accuracy.columns = ['F1 Score', 'ROC-AUC Score', 'Model Type']\n",
    "best_accuracy = best_accuracy.set_index(['Model Type'])\n",
    "\n",
    "best_accuracy"
   ]
  },
  {
   "cell_type": "markdown",
   "metadata": {},
   "source": [
    "For now, the best F1 score is 0.58 and our best ROC-AUC score is 0.87. We'll see if we can improve these scores by balancing our classes."
   ]
  },
  {
   "cell_type": "markdown",
   "metadata": {},
   "source": [
    "## Enhancing F1 Score and Balancing Classes"
   ]
  },
  {
   "cell_type": "code",
   "execution_count": 16,
   "metadata": {},
   "outputs": [
    {
     "data": {
      "image/png": "[encoded data removed]",
      "text/plain": [
       "<Figure size 864x432 with 1 Axes>"
      ]
     },
     "metadata": {},
     "output_type": "display_data"
    }
   ],
   "source": [
    "# Plotting our class imbalance\n",
    "sns.set(rc={'figure.figsize':(12, 6)})\n",
    "df['Exited'].plot(kind='hist', bins=3)\n",
    "plt.xticks(ticks=[0,1], labels=[0,1]);"
   ]
  },
  {
   "cell_type": "markdown",
   "metadata": {},
   "source": [
    "Our Exited column has roughly 4x the number of 0's than 1's. This is an obvious class imbalance and we will focus on improving this."
   ]
  },
  {
   "cell_type": "markdown",
   "metadata": {},
   "source": [
    "### Testing setting class weight to balanced"
   ]
  },
  {
   "cell_type": "code",
   "execution_count": 17,
   "metadata": {},
   "outputs": [
    {
     "name": "stdout",
     "output_type": "stream",
     "text": [
      "Initial F1 Score for our best model: 0.578\n",
      "Initial ROC-AUC Score for our best model: 0.866\n"
     ]
    }
   ],
   "source": [
    "# Our initial F1 Score\n",
    "print('Initial F1 Score for our best model: {:0.03}'.format(\n",
    "    f1_score(target_test, RFR_predictions_test)))\n",
    "print('Initial ROC-AUC Score for our best model: {:0.03}'.format(\n",
    "    roc_auc_score(target_test, RFR_rfc.predict_proba(features_test)[:, 1])))"
   ]
  },
  {
   "cell_type": "code",
   "execution_count": 18,
   "metadata": {},
   "outputs": [
    {
     "data": {
      "text/plain": [
       "array([[759,  23],\n",
       "       [120,  98]], dtype=int64)"
      ]
     },
     "execution_count": 18,
     "metadata": {},
     "output_type": "execute_result"
    }
   ],
   "source": [
    "# Checking Confusion Matrix values\n",
    "confusion_matrix(target_test, RFR_predictions_test)"
   ]
  },
  {
   "cell_type": "code",
   "execution_count": 19,
   "metadata": {},
   "outputs": [
    {
     "name": "stdout",
     "output_type": "stream",
     "text": [
      "Balanced F1 Score: 0.608\n",
      "Balanced ROC-AUC: 0.863\n"
     ]
    }
   ],
   "source": [
    "model = RandomForestClassifier(**RFR_rfc.best_params_, class_weight='balanced', random_state=123)\n",
    "model.fit(features_train, target_train)\n",
    "predicted_balanced = model.predict(features_test)\n",
    "\n",
    "# F1 Score after balancing, and it's effect on Accuracy Score\n",
    "print('Balanced F1 Score: {:0.03}'.format(f1_score(target_test, predicted_balanced)))\n",
    "print('Balanced ROC-AUC: {:0.03}'.format(roc_auc_score(target_test, model.predict_proba(features_test)[:, 1])))"
   ]
  },
  {
   "cell_type": "code",
   "execution_count": 20,
   "metadata": {},
   "outputs": [
    {
     "data": {
      "text/plain": [
       "array([[730,  52],\n",
       "       [100, 118]], dtype=int64)"
      ]
     },
     "execution_count": 20,
     "metadata": {},
     "output_type": "execute_result"
    }
   ],
   "source": [
    "# Checking Confusion Matrix values\n",
    "confusion_matrix(target_test, predicted_balanced)"
   ]
  },
  {
   "cell_type": "markdown",
   "metadata": {},
   "source": [
    "Balancing the class weight in our RF Classifier using class_weight='balanced' noticably increases our F1 and our ROC-AUC score slightly lowered."
   ]
  },
  {
   "cell_type": "markdown",
   "metadata": {},
   "source": [
    "### Testing Up/Down Sampling"
   ]
  },
  {
   "cell_type": "code",
   "execution_count": 21,
   "metadata": {},
   "outputs": [],
   "source": [
    "# Downsampling def\n",
    "def downsample(features, target, fraction):\n",
    "    features_zeros = features[target == 0]\n",
    "    features_ones = features[target == 1]\n",
    "    target_zeros = target[target == 0]\n",
    "    target_ones = target[target == 1]\n",
    "\n",
    "    features_downsampled = pd.concat(\n",
    "        [features_zeros.sample(frac=fraction, random_state=12345)]\n",
    "        + [features_ones]\n",
    "    )\n",
    "    target_downsampled = pd.concat(\n",
    "        [target_zeros.sample(frac=fraction, random_state=12345)]\n",
    "        + [target_ones]\n",
    "    )\n",
    "\n",
    "    features_downsampled, target_downsampled = shuffle(\n",
    "        features_downsampled, target_downsampled, random_state=12345\n",
    "    )\n",
    "\n",
    "    return features_downsampled, target_downsampled"
   ]
  },
  {
   "cell_type": "code",
   "execution_count": 22,
   "metadata": {},
   "outputs": [
    {
     "name": "stdout",
     "output_type": "stream",
     "text": [
      "Downsampled F1 Score: 0.603\n",
      "Downsampled ROC-AUC: 0.863\n"
     ]
    }
   ],
   "source": [
    "# Defining downsampling variables\n",
    "features_downsampled, target_downsampled = downsample(\n",
    "    features_train, target_train, 0.2)\n",
    "\n",
    "# Testing our model with downsampling\n",
    "model_down = RandomForestClassifier(**RFR_rfc.best_params_, random_state=123)\n",
    "model_down.fit(features_downsampled, target_downsampled)\n",
    "predicted_downsampled = model_down.predict(features_test)\n",
    "\n",
    "print('Downsampled F1 Score: {:0.03}'.format(f1_score(target_test, predicted_downsampled)))\n",
    "print('Downsampled ROC-AUC: {:0.03}'.format(roc_auc_score(target_test, model_down.predict_proba(features_test)[:, 1])))"
   ]
  },
  {
   "cell_type": "code",
   "execution_count": 23,
   "metadata": {},
   "outputs": [],
   "source": [
    "# Upsample def\n",
    "def upsample(features, target, repeat):\n",
    "    features_zeros = features[target == 0]\n",
    "    features_ones = features[target == 1]\n",
    "    target_zeros = target[target == 0]\n",
    "    target_ones = target[target == 1]\n",
    "\n",
    "    features_upsampled = pd.concat([features_zeros] + [features_ones] * repeat)\n",
    "    target_upsampled = pd.concat([target_zeros] + [target_ones] * repeat)\n",
    "\n",
    "    features_upsampled, target_upsampled = shuffle(\n",
    "        features_upsampled, target_upsampled, random_state=12345\n",
    "    )\n",
    "\n",
    "    return features_upsampled, target_upsampled"
   ]
  },
  {
   "cell_type": "code",
   "execution_count": 24,
   "metadata": {},
   "outputs": [
    {
     "name": "stdout",
     "output_type": "stream",
     "text": [
      "Upsampled F1 Score: 0.622\n",
      "Upsampled ROC-AUC: 0.861\n"
     ]
    }
   ],
   "source": [
    "# Defining upsampled variables\n",
    "features_upsampled, target_upsampled = upsample(\n",
    "    features_train, target_train, 4\n",
    ")\n",
    "\n",
    "# Testing our model with upsampling\n",
    "model_up = RandomForestClassifier(**RFR_rfc.best_params_, random_state=123)\n",
    "model_up.fit(features_upsampled, target_upsampled)\n",
    "predicted_upsampled = model_up.predict(features_test)\n",
    "\n",
    "print('Upsampled F1 Score: {:0.03}'.format(f1_score(target_test, predicted_upsampled)))\n",
    "print('Upsampled ROC-AUC: {:0.03}'.format(roc_auc_score(target_test, model_up.predict_proba(features_test)[:, 1])))"
   ]
  },
  {
   "cell_type": "markdown",
   "metadata": {},
   "source": [
    "Upsampling is overall more effective in increasing our F1 and ROC-AUC scores."
   ]
  },
  {
   "cell_type": "code",
   "execution_count": 25,
   "metadata": {},
   "outputs": [
    {
     "data": {
      "image/png": "[encoded data removed]",
      "text/plain": [
       "<Figure size 864x432 with 1 Axes>"
      ]
     },
     "metadata": {},
     "output_type": "display_data"
    }
   ],
   "source": [
    "# Plotting our fixed class 'imbalance'\n",
    "target_upsampled.plot(kind='hist', bins=3)\n",
    "plt.xticks(ticks=[0,1], labels=[0,1]);"
   ]
  },
  {
   "cell_type": "markdown",
   "metadata": {},
   "source": [
    "Balancing Class Weight has a noticable impact on the F1 score. We also now have an equal class balance."
   ]
  },
  {
   "cell_type": "markdown",
   "metadata": {},
   "source": [
    "### Bringing our improvements together"
   ]
  },
  {
   "cell_type": "code",
   "execution_count": 26,
   "metadata": {},
   "outputs": [
    {
     "name": "stdout",
     "output_type": "stream",
     "text": [
      "Difference between upsampled and upsampled balanced F1 Score: 0.00968\n",
      "Difference between upsampled and upsampled balanced ROC-AUC: 0.001\n"
     ]
    }
   ],
   "source": [
    "# Rechecking our scores after RF class balance and Upsampling\n",
    "model_all = RandomForestClassifier(**RFR_rfc.best_params_, random_state=123, class_weight='balanced')\n",
    "model_all.fit(features_upsampled, target_upsampled)\n",
    "predicted_upsampled_new = model_all.predict(features_test)\n",
    "\n",
    "print('Difference between upsampled and upsampled balanced F1 Score: {:0.03}'.format(\n",
    "    f1_score(target_test, predicted_upsampled) - f1_score(target_test, predicted_upsampled_new)))\n",
    "print('Difference between upsampled and upsampled balanced ROC-AUC: {:0.03}'.format(\n",
    "    roc_auc_score(target_test, model_up.predict_proba(features_test)[:, 1]) - roc_auc_score(target_test, model_all.predict_proba(features_test)[:, 1])))"
   ]
  },
  {
   "cell_type": "markdown",
   "metadata": {},
   "source": [
    "Using upsampling and class balancing together seem to have a minimal impact on improving or worsening either score. Going forward, we'll just stick with upsampled RF Classifier."
   ]
  },
  {
   "cell_type": "code",
   "execution_count": 27,
   "metadata": {},
   "outputs": [
    {
     "name": "stdout",
     "output_type": "stream",
     "text": [
      "Dummy AUC-ROC Score: 0.5\n",
      "Model AUC-ROC Score: 0.6219239373601789\n"
     ]
    }
   ],
   "source": [
    "# Sanity check our model accuracy\n",
    "dummy_model = DummyClassifier(strategy='most_frequent')\n",
    "dummy_model.fit(features_train, target_train)\n",
    "dummy_predict = dummy_model.predict(features_test)\n",
    "\n",
    "print('Dummy AUC-ROC Score:', roc_auc_score(target_test, dummy_model.predict_proba(features_test)[:, 1]))\n",
    "print('Model AUC-ROC Score:', f1_score(target_test, predicted_upsampled))"
   ]
  },
  {
   "cell_type": "markdown",
   "metadata": {},
   "source": [
    "Our model's AUC-ROC score passes a sanity check, performing noticably above random chance. Here there's no need to sanity check our F1 score, as a fake model with all 0's will return a F1 score of 0, which isn't very useful."
   ]
  },
  {
   "cell_type": "markdown",
   "metadata": {},
   "source": [
    "## Conclusion"
   ]
  },
  {
   "cell_type": "code",
   "execution_count": 28,
   "metadata": {},
   "outputs": [
    {
     "name": "stdout",
     "output_type": "stream",
     "text": [
      "Final F1 Score: 0.62\n",
      "Final ROC-AUC: 0.86\n"
     ]
    }
   ],
   "source": [
    "print('Final F1 Score: {:0.02}'.format(f1_score(target_test, predicted_upsampled)))\n",
    "print('Final ROC-AUC: {:0.02}'.format(roc_auc_score(target_test, model_up.predict_proba(features_test)[:, 1])))"
   ]
  },
  {
   "cell_type": "markdown",
   "metadata": {},
   "source": [
    "After improving our model and classes we reach our epitome, with an F1 Score over our requirement of 0.59, and AUC-ROC score of about 0.86. There was significantly less 1's in our target column so we used upsampling to fix this. Overall, our model is now passable for Beta Bank customer predictions."
   ]
  }
 ],
 "metadata": {
  "ExecuteTimeLog": [
   {
    "duration": 1063,
    "start_time": "2021-12-03T01:52:35.668Z"
   },
   {
    "duration": 64,
    "start_time": "2021-12-03T01:52:56.547Z"
   },
   {
    "duration": 357,
    "start_time": "2021-12-03T01:52:59.288Z"
   },
   {
    "duration": 27,
    "start_time": "2021-12-03T01:53:01.992Z"
   },
   {
    "duration": 180,
    "start_time": "2021-12-03T01:53:32.225Z"
   },
   {
    "duration": 186,
    "start_time": "2021-12-03T01:53:36.858Z"
   },
   {
    "duration": 5,
    "start_time": "2021-12-03T01:54:02.476Z"
   },
   {
    "duration": 19,
    "start_time": "2021-12-03T01:54:06.283Z"
   },
   {
    "duration": 9,
    "start_time": "2021-12-03T01:54:52.366Z"
   },
   {
    "duration": 12,
    "start_time": "2021-12-03T01:54:59.350Z"
   },
   {
    "duration": 12,
    "start_time": "2021-12-03T02:02:04.138Z"
   },
   {
    "duration": 179,
    "start_time": "2021-12-03T02:02:43.258Z"
   },
   {
    "duration": 173,
    "start_time": "2021-12-03T02:02:58.124Z"
   },
   {
    "duration": 176,
    "start_time": "2021-12-03T02:03:31.381Z"
   },
   {
    "duration": 175,
    "start_time": "2021-12-03T02:03:48.536Z"
   },
   {
    "duration": 223,
    "start_time": "2021-12-03T02:04:27.889Z"
   },
   {
    "duration": 1042,
    "start_time": "2021-12-03T02:04:35.605Z"
   },
   {
    "duration": 13,
    "start_time": "2021-12-03T02:04:36.649Z"
   },
   {
    "duration": 4,
    "start_time": "2021-12-03T02:04:36.664Z"
   },
   {
    "duration": 29,
    "start_time": "2021-12-03T02:04:36.670Z"
   },
   {
    "duration": 5,
    "start_time": "2021-12-03T02:05:13.816Z"
   },
   {
    "duration": 19,
    "start_time": "2021-12-03T02:05:19.719Z"
   },
   {
    "duration": 233,
    "start_time": "2021-12-03T02:11:54.812Z"
   },
   {
    "duration": 1021,
    "start_time": "2021-12-03T02:12:09.030Z"
   },
   {
    "duration": 14,
    "start_time": "2021-12-03T02:12:10.053Z"
   },
   {
    "duration": 10,
    "start_time": "2021-12-03T02:12:10.069Z"
   },
   {
    "duration": 39,
    "start_time": "2021-12-03T02:12:10.080Z"
   },
   {
    "duration": 270,
    "start_time": "2021-12-03T02:12:10.121Z"
   },
   {
    "duration": 2111,
    "start_time": "2021-12-03T02:12:08.282Z"
   },
   {
    "duration": 27,
    "start_time": "2021-12-03T02:12:20.405Z"
   },
   {
    "duration": 18,
    "start_time": "2021-12-03T02:13:37.308Z"
   },
   {
    "duration": 72,
    "start_time": "2021-12-03T02:14:30.358Z"
   },
   {
    "duration": 16,
    "start_time": "2021-12-03T02:16:23.389Z"
   },
   {
    "duration": 186,
    "start_time": "2021-12-03T02:19:38.897Z"
   },
   {
    "duration": 186,
    "start_time": "2021-12-03T02:19:54.399Z"
   },
   {
    "duration": 5,
    "start_time": "2021-12-03T02:20:01.401Z"
   },
   {
    "duration": 19,
    "start_time": "2021-12-03T02:20:10.114Z"
   },
   {
    "duration": 7,
    "start_time": "2021-12-03T02:20:21.750Z"
   },
   {
    "duration": 19,
    "start_time": "2021-12-03T02:20:25.059Z"
   },
   {
    "duration": 26,
    "start_time": "2021-12-03T02:21:59.692Z"
   },
   {
    "duration": 8,
    "start_time": "2021-12-03T02:23:08.675Z"
   },
   {
    "duration": 1037,
    "start_time": "2021-12-07T00:40:57.085Z"
   },
   {
    "duration": 12,
    "start_time": "2021-12-07T00:40:58.124Z"
   },
   {
    "duration": 4,
    "start_time": "2021-12-07T00:40:58.138Z"
   },
   {
    "duration": 7,
    "start_time": "2021-12-07T00:40:58.143Z"
   },
   {
    "duration": 32,
    "start_time": "2021-12-07T00:40:58.152Z"
   },
   {
    "duration": 6,
    "start_time": "2021-12-07T00:40:58.185Z"
   },
   {
    "duration": 339,
    "start_time": "2021-12-07T00:40:58.193Z"
   },
   {
    "duration": 249,
    "start_time": "2021-12-07T00:42:31.378Z"
   },
   {
    "duration": 254,
    "start_time": "2021-12-07T00:49:32.995Z"
   },
   {
    "duration": 9,
    "start_time": "2021-12-07T00:49:48.144Z"
   },
   {
    "duration": 238,
    "start_time": "2021-12-07T00:49:52.147Z"
   },
   {
    "duration": 8,
    "start_time": "2021-12-07T00:50:42.471Z"
   },
   {
    "duration": 11,
    "start_time": "2021-12-07T00:51:00.510Z"
   },
   {
    "duration": 7,
    "start_time": "2021-12-07T00:51:02.382Z"
   },
   {
    "duration": 1053,
    "start_time": "2021-12-07T00:51:21.865Z"
   },
   {
    "duration": 13,
    "start_time": "2021-12-07T00:51:22.920Z"
   },
   {
    "duration": 5,
    "start_time": "2021-12-07T00:51:22.935Z"
   },
   {
    "duration": 7,
    "start_time": "2021-12-07T00:51:22.941Z"
   },
   {
    "duration": 12,
    "start_time": "2021-12-07T00:51:22.950Z"
   },
   {
    "duration": 8,
    "start_time": "2021-12-07T00:51:22.963Z"
   },
   {
    "duration": 338,
    "start_time": "2021-12-07T00:51:22.973Z"
   },
   {
    "duration": -1157,
    "start_time": "2021-12-07T00:51:24.470Z"
   },
   {
    "duration": 14,
    "start_time": "2021-12-07T00:51:43.268Z"
   },
   {
    "duration": 7,
    "start_time": "2021-12-07T00:51:46.517Z"
   },
   {
    "duration": 236,
    "start_time": "2021-12-07T00:53:01.826Z"
   },
   {
    "duration": 4,
    "start_time": "2021-12-07T00:53:47.070Z"
   },
   {
    "duration": 7,
    "start_time": "2021-12-07T00:53:55.352Z"
   },
   {
    "duration": 26,
    "start_time": "2021-12-07T00:54:13.578Z"
   },
   {
    "duration": 5,
    "start_time": "2021-12-07T00:54:36.922Z"
   },
   {
    "duration": 11,
    "start_time": "2021-12-07T00:54:42.515Z"
   },
   {
    "duration": 8,
    "start_time": "2021-12-07T00:54:47.544Z"
   },
   {
    "duration": 1035,
    "start_time": "2021-12-07T00:54:52.278Z"
   },
   {
    "duration": 11,
    "start_time": "2021-12-07T00:54:53.315Z"
   },
   {
    "duration": 3,
    "start_time": "2021-12-07T00:54:53.328Z"
   },
   {
    "duration": 10,
    "start_time": "2021-12-07T00:54:53.333Z"
   },
   {
    "duration": 12,
    "start_time": "2021-12-07T00:54:53.344Z"
   },
   {
    "duration": 4,
    "start_time": "2021-12-07T00:54:53.357Z"
   },
   {
    "duration": 9,
    "start_time": "2021-12-07T00:54:53.362Z"
   },
   {
    "duration": 302,
    "start_time": "2021-12-07T00:54:53.373Z"
   },
   {
    "duration": -1948,
    "start_time": "2021-12-07T00:54:55.624Z"
   },
   {
    "duration": 21,
    "start_time": "2021-12-07T00:55:17.827Z"
   },
   {
    "duration": 8,
    "start_time": "2021-12-07T00:55:23.017Z"
   },
   {
    "duration": 17,
    "start_time": "2021-12-07T00:55:31.823Z"
   },
   {
    "duration": 8,
    "start_time": "2021-12-07T00:56:10.883Z"
   },
   {
    "duration": 7,
    "start_time": "2021-12-07T00:56:24.624Z"
   },
   {
    "duration": -1321,
    "start_time": "2021-12-07T00:56:55.115Z"
   },
   {
    "duration": 19,
    "start_time": "2021-12-07T00:56:56.658Z"
   },
   {
    "duration": 230,
    "start_time": "2021-12-07T01:07:09.455Z"
   },
   {
    "duration": 7,
    "start_time": "2021-12-07T01:07:22.054Z"
   },
   {
    "duration": 3,
    "start_time": "2021-12-07T01:07:27.490Z"
   },
   {
    "duration": 3023,
    "start_time": "2021-12-07T01:25:06.022Z"
   },
   {
    "duration": -1262,
    "start_time": "2021-12-07T01:25:10.309Z"
   },
   {
    "duration": 1037,
    "start_time": "2021-12-07T01:25:26.980Z"
   },
   {
    "duration": 12,
    "start_time": "2021-12-07T01:25:28.018Z"
   },
   {
    "duration": 4,
    "start_time": "2021-12-07T01:25:28.031Z"
   },
   {
    "duration": 11,
    "start_time": "2021-12-07T01:25:28.037Z"
   },
   {
    "duration": 10,
    "start_time": "2021-12-07T01:25:28.049Z"
   },
   {
    "duration": 3,
    "start_time": "2021-12-07T01:25:28.061Z"
   },
   {
    "duration": 8,
    "start_time": "2021-12-07T01:25:28.065Z"
   },
   {
    "duration": 82,
    "start_time": "2021-12-07T01:25:28.075Z"
   },
   {
    "duration": 346,
    "start_time": "2021-12-07T01:25:28.159Z"
   },
   {
    "duration": 212,
    "start_time": "2021-12-07T01:25:44.479Z"
   },
   {
    "duration": 42,
    "start_time": "2021-12-07T01:26:01.346Z"
   },
   {
    "duration": 73,
    "start_time": "2021-12-07T01:29:38.815Z"
   },
   {
    "duration": 348,
    "start_time": "2021-12-07T01:30:05.555Z"
   },
   {
    "duration": 139,
    "start_time": "2021-12-07T01:30:10.081Z"
   },
   {
    "duration": 277,
    "start_time": "2021-12-07T01:32:26.674Z"
   },
   {
    "duration": 27,
    "start_time": "2021-12-07T01:33:10.050Z"
   },
   {
    "duration": 1021,
    "start_time": "2021-12-07T01:33:21.397Z"
   },
   {
    "duration": 11,
    "start_time": "2021-12-07T01:33:22.420Z"
   },
   {
    "duration": 4,
    "start_time": "2021-12-07T01:33:22.433Z"
   },
   {
    "duration": 7,
    "start_time": "2021-12-07T01:33:22.438Z"
   },
   {
    "duration": 13,
    "start_time": "2021-12-07T01:33:22.446Z"
   },
   {
    "duration": 3,
    "start_time": "2021-12-07T01:33:22.460Z"
   },
   {
    "duration": 9,
    "start_time": "2021-12-07T01:33:22.465Z"
   },
   {
    "duration": 146,
    "start_time": "2021-12-07T01:33:22.476Z"
   },
   {
    "duration": 366,
    "start_time": "2021-12-07T01:33:22.623Z"
   },
   {
    "duration": 32,
    "start_time": "2021-12-07T01:33:22.990Z"
   },
   {
    "duration": 168,
    "start_time": "2021-12-07T01:33:23.026Z"
   },
   {
    "duration": 75,
    "start_time": "2021-12-07T01:37:57.051Z"
   },
   {
    "duration": 80,
    "start_time": "2021-12-07T01:38:04.686Z"
   },
   {
    "duration": 162,
    "start_time": "2021-12-07T01:38:10.472Z"
   },
   {
    "duration": 24,
    "start_time": "2021-12-07T01:38:32.202Z"
   },
   {
    "duration": 23,
    "start_time": "2021-12-07T01:38:44.186Z"
   },
   {
    "duration": 396,
    "start_time": "2021-12-07T01:38:48.945Z"
   },
   {
    "duration": 23,
    "start_time": "2021-12-07T01:38:52.927Z"
   },
   {
    "duration": 26,
    "start_time": "2021-12-07T01:39:01.000Z"
   },
   {
    "duration": 24,
    "start_time": "2021-12-07T01:39:19.311Z"
   },
   {
    "duration": 75,
    "start_time": "2021-12-07T01:39:51.079Z"
   },
   {
    "duration": 287,
    "start_time": "2021-12-07T01:39:56.177Z"
   },
   {
    "duration": 249,
    "start_time": "2021-12-07T01:40:37.682Z"
   },
   {
    "duration": 264,
    "start_time": "2021-12-07T01:41:23.443Z"
   },
   {
    "duration": 353,
    "start_time": "2021-12-07T01:41:33.787Z"
   },
   {
    "duration": 24,
    "start_time": "2021-12-07T01:41:49.492Z"
   },
   {
    "duration": 251,
    "start_time": "2021-12-07T01:47:29.883Z"
   },
   {
    "duration": 416,
    "start_time": "2021-12-07T01:47:49.511Z"
   },
   {
    "duration": 84262,
    "start_time": "2021-12-07T01:48:04.842Z"
   },
   {
    "duration": 84834,
    "start_time": "2021-12-07T01:51:15.282Z"
   },
   {
    "duration": 4,
    "start_time": "2021-12-07T01:53:09.065Z"
   },
   {
    "duration": 162,
    "start_time": "2021-12-07T01:54:15.664Z"
   },
   {
    "duration": 157,
    "start_time": "2021-12-07T01:55:37.985Z"
   },
   {
    "duration": 167,
    "start_time": "2021-12-07T01:55:44.289Z"
   },
   {
    "duration": 76,
    "start_time": "2021-12-07T01:56:33.985Z"
   },
   {
    "duration": 268,
    "start_time": "2021-12-07T01:57:13.321Z"
   },
   {
    "duration": 291,
    "start_time": "2021-12-07T01:57:19.911Z"
   },
   {
    "duration": 299,
    "start_time": "2021-12-07T01:57:30.659Z"
   },
   {
    "duration": 232,
    "start_time": "2021-12-07T01:58:13.885Z"
   },
   {
    "duration": 232,
    "start_time": "2021-12-07T01:58:33.210Z"
   },
   {
    "duration": 2960,
    "start_time": "2021-12-07T01:59:24.729Z"
   },
   {
    "duration": 1157,
    "start_time": "2021-12-07T01:59:41.767Z"
   },
   {
    "duration": 2135,
    "start_time": "2021-12-07T01:59:42.926Z"
   },
   {
    "duration": 14,
    "start_time": "2021-12-07T01:59:45.064Z"
   },
   {
    "duration": 4,
    "start_time": "2021-12-07T01:59:45.080Z"
   },
   {
    "duration": 8,
    "start_time": "2021-12-07T01:59:45.085Z"
   },
   {
    "duration": 16,
    "start_time": "2021-12-07T01:59:45.094Z"
   },
   {
    "duration": 6,
    "start_time": "2021-12-07T01:59:45.112Z"
   },
   {
    "duration": 17,
    "start_time": "2021-12-07T01:59:45.120Z"
   },
   {
    "duration": 321,
    "start_time": "2021-12-07T01:59:45.138Z"
   },
   {
    "duration": -1063,
    "start_time": "2021-12-07T01:59:46.524Z"
   },
   {
    "duration": -1064,
    "start_time": "2021-12-07T01:59:46.526Z"
   },
   {
    "duration": -1065,
    "start_time": "2021-12-07T01:59:46.527Z"
   },
   {
    "duration": -1065,
    "start_time": "2021-12-07T01:59:46.528Z"
   },
   {
    "duration": -1066,
    "start_time": "2021-12-07T01:59:46.530Z"
   },
   {
    "duration": 264,
    "start_time": "2021-12-07T02:00:01.637Z"
   },
   {
    "duration": 140,
    "start_time": "2021-12-07T02:00:05.511Z"
   },
   {
    "duration": 246,
    "start_time": "2021-12-07T02:00:06.718Z"
   },
   {
    "duration": 40,
    "start_time": "2021-12-07T02:00:15.110Z"
   },
   {
    "duration": 356,
    "start_time": "2021-12-07T02:00:16.937Z"
   },
   {
    "duration": 23,
    "start_time": "2021-12-07T02:00:18.349Z"
   },
   {
    "duration": 190,
    "start_time": "2021-12-07T02:00:20.076Z"
   },
   {
    "duration": 25,
    "start_time": "2021-12-07T02:00:20.694Z"
   },
   {
    "duration": 162,
    "start_time": "2021-12-07T02:00:58.498Z"
   },
   {
    "duration": 379,
    "start_time": "2021-12-07T02:02:36.724Z"
   },
   {
    "duration": 31,
    "start_time": "2021-12-07T02:02:52.116Z"
   },
   {
    "duration": 432,
    "start_time": "2021-12-07T02:02:55.990Z"
   },
   {
    "duration": 221,
    "start_time": "2021-12-07T02:05:24.212Z"
   },
   {
    "duration": 146,
    "start_time": "2021-12-07T02:05:31.941Z"
   },
   {
    "duration": 375,
    "start_time": "2021-12-07T02:06:18.795Z"
   },
   {
    "duration": 396,
    "start_time": "2021-12-07T02:06:57.901Z"
   },
   {
    "duration": 118,
    "start_time": "2021-12-07T02:07:12.598Z"
   },
   {
    "duration": 129,
    "start_time": "2021-12-07T02:07:19.360Z"
   },
   {
    "duration": 121,
    "start_time": "2021-12-07T02:07:28.322Z"
   },
   {
    "duration": 121,
    "start_time": "2021-12-07T02:07:32.695Z"
   },
   {
    "duration": 120,
    "start_time": "2021-12-07T02:07:35.454Z"
   },
   {
    "duration": 118,
    "start_time": "2021-12-07T02:07:37.111Z"
   },
   {
    "duration": 117,
    "start_time": "2021-12-07T02:07:43.864Z"
   },
   {
    "duration": 112,
    "start_time": "2021-12-07T02:07:50.206Z"
   },
   {
    "duration": 114,
    "start_time": "2021-12-07T02:07:53.158Z"
   },
   {
    "duration": 25,
    "start_time": "2021-12-07T02:16:16.613Z"
   },
   {
    "duration": 25,
    "start_time": "2021-12-07T02:18:46.489Z"
   },
   {
    "duration": 556,
    "start_time": "2021-12-07T02:20:32.637Z"
   },
   {
    "duration": 29,
    "start_time": "2021-12-07T02:20:55.691Z"
   },
   {
    "duration": 13,
    "start_time": "2021-12-07T02:21:00.608Z"
   },
   {
    "duration": 31,
    "start_time": "2021-12-07T02:21:41.149Z"
   },
   {
    "duration": 31,
    "start_time": "2021-12-07T02:22:02.390Z"
   },
   {
    "duration": 32,
    "start_time": "2021-12-07T02:22:51.065Z"
   },
   {
    "duration": 32,
    "start_time": "2021-12-07T02:23:05.464Z"
   },
   {
    "duration": 34,
    "start_time": "2021-12-07T02:26:20.460Z"
   },
   {
    "duration": 206,
    "start_time": "2021-12-07T02:30:25.121Z"
   },
   {
    "duration": 523,
    "start_time": "2021-12-07T02:30:59.920Z"
   },
   {
    "duration": 44,
    "start_time": "2021-12-07T02:31:31.891Z"
   },
   {
    "duration": 233,
    "start_time": "2021-12-07T02:33:33.141Z"
   },
   {
    "duration": 112,
    "start_time": "2021-12-07T02:33:39.464Z"
   },
   {
    "duration": 110,
    "start_time": "2021-12-07T02:34:07.048Z"
   },
   {
    "duration": 72,
    "start_time": "2021-12-07T02:39:25.179Z"
   },
   {
    "duration": 1212,
    "start_time": "2021-12-08T06:22:55.725Z"
   },
   {
    "duration": 108,
    "start_time": "2021-12-08T06:22:56.939Z"
   },
   {
    "duration": -3596,
    "start_time": "2021-12-08T06:23:00.645Z"
   },
   {
    "duration": -3653,
    "start_time": "2021-12-08T06:23:00.703Z"
   },
   {
    "duration": -3653,
    "start_time": "2021-12-08T06:23:00.704Z"
   },
   {
    "duration": -3654,
    "start_time": "2021-12-08T06:23:00.706Z"
   },
   {
    "duration": -3654,
    "start_time": "2021-12-08T06:23:00.707Z"
   },
   {
    "duration": -3655,
    "start_time": "2021-12-08T06:23:00.709Z"
   },
   {
    "duration": -3655,
    "start_time": "2021-12-08T06:23:00.710Z"
   },
   {
    "duration": -3658,
    "start_time": "2021-12-08T06:23:00.714Z"
   },
   {
    "duration": -3658,
    "start_time": "2021-12-08T06:23:00.715Z"
   },
   {
    "duration": -3658,
    "start_time": "2021-12-08T06:23:00.716Z"
   },
   {
    "duration": -3783,
    "start_time": "2021-12-08T06:23:00.842Z"
   },
   {
    "duration": -3783,
    "start_time": "2021-12-08T06:23:00.843Z"
   },
   {
    "duration": -3784,
    "start_time": "2021-12-08T06:23:00.845Z"
   },
   {
    "duration": -3784,
    "start_time": "2021-12-08T06:23:00.846Z"
   },
   {
    "duration": -3784,
    "start_time": "2021-12-08T06:23:00.847Z"
   },
   {
    "duration": 1174,
    "start_time": "2021-12-08T06:23:26.034Z"
   },
   {
    "duration": 13,
    "start_time": "2021-12-08T06:23:27.210Z"
   },
   {
    "duration": 4,
    "start_time": "2021-12-08T06:23:27.225Z"
   },
   {
    "duration": 9,
    "start_time": "2021-12-08T06:23:27.231Z"
   },
   {
    "duration": 13,
    "start_time": "2021-12-08T06:23:27.241Z"
   },
   {
    "duration": 4,
    "start_time": "2021-12-08T06:23:27.255Z"
   },
   {
    "duration": 7,
    "start_time": "2021-12-08T06:23:27.261Z"
   },
   {
    "duration": 190,
    "start_time": "2021-12-08T06:23:27.270Z"
   },
   {
    "duration": 410,
    "start_time": "2021-12-08T06:23:27.461Z"
   },
   {
    "duration": 134,
    "start_time": "2021-12-08T06:23:27.873Z"
   },
   {
    "duration": 231,
    "start_time": "2021-12-08T06:23:28.009Z"
   },
   {
    "duration": 26,
    "start_time": "2021-12-08T06:23:28.242Z"
   },
   {
    "duration": 39,
    "start_time": "2021-12-08T06:23:28.269Z"
   },
   {
    "duration": 15,
    "start_time": "2021-12-08T06:23:28.310Z"
   },
   {
    "duration": 135,
    "start_time": "2021-12-08T06:23:28.327Z"
   },
   {
    "duration": 47,
    "start_time": "2021-12-08T06:23:28.463Z"
   },
   {
    "duration": 3043,
    "start_time": "2021-12-08T06:35:01.261Z"
   },
   {
    "duration": 29,
    "start_time": "2021-12-08T06:35:22.241Z"
   },
   {
    "duration": 527,
    "start_time": "2021-12-08T06:35:28.127Z"
   },
   {
    "duration": 16,
    "start_time": "2021-12-08T06:35:51.517Z"
   },
   {
    "duration": 353,
    "start_time": "2021-12-08T06:44:00.430Z"
   },
   {
    "duration": 394,
    "start_time": "2021-12-08T06:44:06.646Z"
   },
   {
    "duration": 20,
    "start_time": "2021-12-08T06:45:06.729Z"
   },
   {
    "duration": 1218,
    "start_time": "2021-12-08T06:45:18.418Z"
   },
   {
    "duration": 12,
    "start_time": "2021-12-08T06:45:19.638Z"
   },
   {
    "duration": 4,
    "start_time": "2021-12-08T06:45:19.652Z"
   },
   {
    "duration": 9,
    "start_time": "2021-12-08T06:45:19.658Z"
   },
   {
    "duration": 12,
    "start_time": "2021-12-08T06:45:19.668Z"
   },
   {
    "duration": 4,
    "start_time": "2021-12-08T06:45:19.681Z"
   },
   {
    "duration": 28,
    "start_time": "2021-12-08T06:45:19.687Z"
   },
   {
    "duration": 139,
    "start_time": "2021-12-08T06:45:19.717Z"
   },
   {
    "duration": 358,
    "start_time": "2021-12-08T06:45:19.858Z"
   },
   {
    "duration": 93,
    "start_time": "2021-12-08T06:45:20.218Z"
   },
   {
    "duration": 103,
    "start_time": "2021-12-08T06:45:20.314Z"
   },
   {
    "duration": 153,
    "start_time": "2021-12-08T06:45:20.419Z"
   },
   {
    "duration": 31,
    "start_time": "2021-12-08T06:45:20.575Z"
   },
   {
    "duration": 26,
    "start_time": "2021-12-08T06:45:20.608Z"
   },
   {
    "duration": 16,
    "start_time": "2021-12-08T06:45:20.637Z"
   },
   {
    "duration": 148,
    "start_time": "2021-12-08T06:45:20.655Z"
   },
   {
    "duration": 35,
    "start_time": "2021-12-08T06:45:20.807Z"
   },
   {
    "duration": 22,
    "start_time": "2021-12-08T06:46:33.493Z"
   },
   {
    "duration": 23,
    "start_time": "2021-12-08T06:46:35.206Z"
   },
   {
    "duration": 22,
    "start_time": "2021-12-08T06:47:44.137Z"
   },
   {
    "duration": 22,
    "start_time": "2021-12-08T06:47:53.749Z"
   },
   {
    "duration": 22,
    "start_time": "2021-12-08T06:47:57.479Z"
   },
   {
    "duration": 130,
    "start_time": "2021-12-08T06:50:23.522Z"
   },
   {
    "duration": 23,
    "start_time": "2021-12-08T06:53:25.673Z"
   },
   {
    "duration": 22,
    "start_time": "2021-12-08T06:55:38.616Z"
   },
   {
    "duration": 151,
    "start_time": "2021-12-08T06:56:54.715Z"
   },
   {
    "duration": 152,
    "start_time": "2021-12-08T06:57:00.525Z"
   },
   {
    "duration": 156,
    "start_time": "2021-12-08T06:57:28.067Z"
   },
   {
    "duration": 145,
    "start_time": "2021-12-08T06:57:34.056Z"
   },
   {
    "duration": 154,
    "start_time": "2021-12-08T06:57:52.916Z"
   },
   {
    "duration": 437,
    "start_time": "2021-12-08T06:58:21.373Z"
   },
   {
    "duration": 147,
    "start_time": "2021-12-08T06:58:24.565Z"
   },
   {
    "duration": 54,
    "start_time": "2021-12-08T06:59:03.254Z"
   },
   {
    "duration": 40,
    "start_time": "2021-12-08T06:59:06.188Z"
   },
   {
    "duration": 373,
    "start_time": "2021-12-08T06:59:08.141Z"
   },
   {
    "duration": 164,
    "start_time": "2021-12-08T07:01:00.686Z"
   },
   {
    "duration": 393,
    "start_time": "2021-12-08T07:01:22.413Z"
   },
   {
    "duration": 94,
    "start_time": "2021-12-08T07:01:29.617Z"
   },
   {
    "duration": 42,
    "start_time": "2021-12-08T07:01:48.764Z"
   },
   {
    "duration": 401,
    "start_time": "2021-12-08T07:02:02.930Z"
   },
   {
    "duration": 21,
    "start_time": "2021-12-08T07:03:34.191Z"
   },
   {
    "duration": 8,
    "start_time": "2021-12-08T07:09:35.289Z"
   },
   {
    "duration": 35,
    "start_time": "2021-12-08T07:10:01.510Z"
   },
   {
    "duration": 35,
    "start_time": "2021-12-08T07:13:20.759Z"
   },
   {
    "duration": 736,
    "start_time": "2021-12-08T07:21:26.368Z"
   },
   {
    "duration": 1284,
    "start_time": "2021-12-08T07:21:38.275Z"
   },
   {
    "duration": 14,
    "start_time": "2021-12-08T07:21:39.561Z"
   },
   {
    "duration": 4,
    "start_time": "2021-12-08T07:21:39.577Z"
   },
   {
    "duration": 9,
    "start_time": "2021-12-08T07:21:39.583Z"
   },
   {
    "duration": 20,
    "start_time": "2021-12-08T07:21:39.594Z"
   },
   {
    "duration": 5,
    "start_time": "2021-12-08T07:21:39.615Z"
   },
   {
    "duration": 17,
    "start_time": "2021-12-08T07:21:39.621Z"
   },
   {
    "duration": 192,
    "start_time": "2021-12-08T07:21:39.640Z"
   },
   {
    "duration": 409,
    "start_time": "2021-12-08T07:21:39.834Z"
   },
   {
    "duration": 69,
    "start_time": "2021-12-08T07:21:40.244Z"
   },
   {
    "duration": 109,
    "start_time": "2021-12-08T07:21:40.315Z"
   },
   {
    "duration": 231,
    "start_time": "2021-12-08T07:21:40.426Z"
   },
   {
    "duration": 22,
    "start_time": "2021-12-08T07:21:40.659Z"
   },
   {
    "duration": 41,
    "start_time": "2021-12-08T07:21:40.683Z"
   },
   {
    "duration": 16,
    "start_time": "2021-12-08T07:21:40.726Z"
   },
   {
    "duration": 12,
    "start_time": "2021-12-08T07:21:40.744Z"
   },
   {
    "duration": 144,
    "start_time": "2021-12-08T07:21:40.758Z"
   },
   {
    "duration": 17,
    "start_time": "2021-12-08T07:21:40.903Z"
   },
   {
    "duration": 17,
    "start_time": "2021-12-08T07:21:54.015Z"
   },
   {
    "duration": 35,
    "start_time": "2021-12-08T07:22:04.555Z"
   },
   {
    "duration": 150,
    "start_time": "2021-12-08T07:22:25.838Z"
   },
   {
    "duration": 13,
    "start_time": "2021-12-08T07:22:51.631Z"
   },
   {
    "duration": 131,
    "start_time": "2021-12-08T07:22:53.339Z"
   },
   {
    "duration": 21,
    "start_time": "2021-12-08T07:23:02.418Z"
   },
   {
    "duration": 20,
    "start_time": "2021-12-08T07:23:14.742Z"
   },
   {
    "duration": 35,
    "start_time": "2021-12-08T07:23:23.369Z"
   },
   {
    "duration": 122,
    "start_time": "2021-12-08T07:23:39.889Z"
   },
   {
    "duration": 33,
    "start_time": "2021-12-08T07:23:47.892Z"
   },
   {
    "duration": 227,
    "start_time": "2021-12-08T07:35:27.101Z"
   },
   {
    "duration": 221,
    "start_time": "2021-12-08T07:36:07.798Z"
   },
   {
    "duration": 118,
    "start_time": "2021-12-08T07:36:14.058Z"
   },
   {
    "duration": 226,
    "start_time": "2021-12-08T07:36:16.468Z"
   },
   {
    "duration": 216,
    "start_time": "2021-12-08T07:36:20.461Z"
   },
   {
    "duration": 213,
    "start_time": "2021-12-08T07:36:56.732Z"
   },
   {
    "duration": 277,
    "start_time": "2021-12-08T07:37:01.131Z"
   },
   {
    "duration": 229,
    "start_time": "2021-12-08T07:37:22.895Z"
   },
   {
    "duration": 229,
    "start_time": "2021-12-08T07:37:30.266Z"
   },
   {
    "duration": 325,
    "start_time": "2021-12-08T07:38:19.671Z"
   },
   {
    "duration": 146,
    "start_time": "2021-12-08T07:39:50.499Z"
   },
   {
    "duration": 293,
    "start_time": "2021-12-08T07:41:39.814Z"
   },
   {
    "duration": 141,
    "start_time": "2021-12-08T07:41:48.861Z"
   },
   {
    "duration": 115,
    "start_time": "2021-12-08T07:43:51.492Z"
   },
   {
    "duration": 148,
    "start_time": "2021-12-08T07:44:29.218Z"
   },
   {
    "duration": 115,
    "start_time": "2021-12-08T07:44:39.193Z"
   },
   {
    "duration": 152,
    "start_time": "2021-12-08T07:45:52.051Z"
   },
   {
    "duration": 604,
    "start_time": "2021-12-08T07:46:03.177Z"
   },
   {
    "duration": 145,
    "start_time": "2021-12-08T07:46:22.730Z"
   },
   {
    "duration": 144,
    "start_time": "2021-12-08T07:46:54.155Z"
   },
   {
    "duration": 157,
    "start_time": "2021-12-08T07:49:05.230Z"
   },
   {
    "duration": 143,
    "start_time": "2021-12-08T07:49:13.092Z"
   },
   {
    "duration": 146,
    "start_time": "2021-12-08T07:49:43.235Z"
   },
   {
    "duration": 356,
    "start_time": "2021-12-08T07:51:40.653Z"
   },
   {
    "duration": 149,
    "start_time": "2021-12-08T07:53:09.715Z"
   },
   {
    "duration": 142,
    "start_time": "2021-12-08T07:53:27.855Z"
   },
   {
    "duration": 124,
    "start_time": "2021-12-08T07:56:16.432Z"
   },
   {
    "duration": 110,
    "start_time": "2021-12-08T07:56:32.006Z"
   },
   {
    "duration": 111,
    "start_time": "2021-12-08T07:56:35.332Z"
   },
   {
    "duration": 112,
    "start_time": "2021-12-08T07:56:44.396Z"
   },
   {
    "duration": 95,
    "start_time": "2021-12-08T07:56:52.117Z"
   },
   {
    "duration": 535,
    "start_time": "2021-12-08T07:57:11.319Z"
   },
   {
    "duration": 150,
    "start_time": "2021-12-08T07:57:21.515Z"
   },
   {
    "duration": 25,
    "start_time": "2021-12-08T07:58:22.459Z"
   },
   {
    "duration": 324,
    "start_time": "2021-12-08T07:58:29.239Z"
   },
   {
    "duration": 350,
    "start_time": "2021-12-08T07:58:33.311Z"
   },
   {
    "duration": 6,
    "start_time": "2021-12-08T07:58:37.940Z"
   },
   {
    "duration": 27,
    "start_time": "2021-12-08T07:58:44.317Z"
   },
   {
    "duration": 344,
    "start_time": "2021-12-08T08:07:27.191Z"
   },
   {
    "duration": 3,
    "start_time": "2021-12-08T08:07:33.310Z"
   },
   {
    "duration": 5,
    "start_time": "2021-12-08T08:07:42.932Z"
   },
   {
    "duration": 31,
    "start_time": "2021-12-08T08:08:24.477Z"
   },
   {
    "duration": 352,
    "start_time": "2021-12-08T08:08:37.927Z"
   },
   {
    "duration": 1209,
    "start_time": "2021-12-08T08:09:11.147Z"
   },
   {
    "duration": 15,
    "start_time": "2021-12-08T08:09:12.358Z"
   },
   {
    "duration": 5,
    "start_time": "2021-12-08T08:09:12.376Z"
   },
   {
    "duration": 10,
    "start_time": "2021-12-08T08:09:12.384Z"
   },
   {
    "duration": 18,
    "start_time": "2021-12-08T08:09:12.395Z"
   },
   {
    "duration": 4,
    "start_time": "2021-12-08T08:09:12.415Z"
   },
   {
    "duration": 14,
    "start_time": "2021-12-08T08:09:12.421Z"
   },
   {
    "duration": 34,
    "start_time": "2021-12-08T08:09:12.437Z"
   },
   {
    "duration": 199,
    "start_time": "2021-12-08T08:09:12.473Z"
   },
   {
    "duration": 384,
    "start_time": "2021-12-08T08:09:12.675Z"
   },
   {
    "duration": 48,
    "start_time": "2021-12-08T08:09:13.061Z"
   },
   {
    "duration": 111,
    "start_time": "2021-12-08T08:09:13.112Z"
   },
   {
    "duration": 210,
    "start_time": "2021-12-08T08:09:13.225Z"
   },
   {
    "duration": 23,
    "start_time": "2021-12-08T08:09:13.437Z"
   },
   {
    "duration": 26,
    "start_time": "2021-12-08T08:09:13.461Z"
   },
   {
    "duration": 12,
    "start_time": "2021-12-08T08:09:13.507Z"
   },
   {
    "duration": 144,
    "start_time": "2021-12-08T08:09:13.521Z"
   },
   {
    "duration": 48,
    "start_time": "2021-12-08T08:09:13.667Z"
   },
   {
    "duration": 15,
    "start_time": "2021-12-08T08:09:29.224Z"
   },
   {
    "duration": 13,
    "start_time": "2021-12-08T08:09:32.463Z"
   },
   {
    "duration": 13,
    "start_time": "2021-12-08T08:09:33.986Z"
   },
   {
    "duration": 141,
    "start_time": "2021-12-08T08:09:52.385Z"
   },
   {
    "duration": 143,
    "start_time": "2021-12-08T08:10:22.744Z"
   },
   {
    "duration": 326,
    "start_time": "2021-12-08T08:10:48.833Z"
   },
   {
    "duration": 64,
    "start_time": "2021-12-08T08:11:22.144Z"
   },
   {
    "duration": 448,
    "start_time": "2021-12-08T08:15:01.859Z"
   },
   {
    "duration": 5,
    "start_time": "2021-12-08T08:15:08.864Z"
   },
   {
    "duration": 5,
    "start_time": "2021-12-08T08:15:45.009Z"
   },
   {
    "duration": 6,
    "start_time": "2021-12-08T08:16:29.674Z"
   },
   {
    "duration": 6,
    "start_time": "2021-12-08T08:17:17.344Z"
   },
   {
    "duration": 7,
    "start_time": "2021-12-08T08:17:19.999Z"
   },
   {
    "duration": 31,
    "start_time": "2021-12-08T08:18:46.522Z"
   },
   {
    "duration": 34,
    "start_time": "2021-12-08T08:19:19.206Z"
   },
   {
    "duration": 1204,
    "start_time": "2021-12-08T08:21:25.335Z"
   },
   {
    "duration": 13,
    "start_time": "2021-12-08T08:21:26.541Z"
   },
   {
    "duration": 4,
    "start_time": "2021-12-08T08:21:26.557Z"
   },
   {
    "duration": 17,
    "start_time": "2021-12-08T08:21:26.563Z"
   },
   {
    "duration": 16,
    "start_time": "2021-12-08T08:21:26.582Z"
   },
   {
    "duration": 7,
    "start_time": "2021-12-08T08:21:26.599Z"
   },
   {
    "duration": 14,
    "start_time": "2021-12-08T08:21:26.608Z"
   },
   {
    "duration": 28,
    "start_time": "2021-12-08T08:21:26.624Z"
   },
   {
    "duration": 168,
    "start_time": "2021-12-08T08:21:26.654Z"
   },
   {
    "duration": 347,
    "start_time": "2021-12-08T08:21:26.824Z"
   },
   {
    "duration": 42,
    "start_time": "2021-12-08T08:21:27.173Z"
   },
   {
    "duration": 117,
    "start_time": "2021-12-08T08:21:27.308Z"
   },
   {
    "duration": 145,
    "start_time": "2021-12-08T08:21:27.427Z"
   },
   {
    "duration": 33,
    "start_time": "2021-12-08T08:21:27.573Z"
   },
   {
    "duration": 23,
    "start_time": "2021-12-08T08:21:27.608Z"
   },
   {
    "duration": 11,
    "start_time": "2021-12-08T08:21:27.633Z"
   },
   {
    "duration": 140,
    "start_time": "2021-12-08T08:21:27.646Z"
   },
   {
    "duration": 46,
    "start_time": "2021-12-08T08:21:27.788Z"
   },
   {
    "duration": 5,
    "start_time": "2021-12-08T08:21:27.836Z"
   },
   {
    "duration": 33,
    "start_time": "2021-12-08T08:21:40.087Z"
   },
   {
    "duration": 45,
    "start_time": "2021-12-08T08:21:54.947Z"
   },
   {
    "duration": 22,
    "start_time": "2021-12-08T08:23:59.158Z"
   },
   {
    "duration": 37,
    "start_time": "2021-12-08T08:25:16.250Z"
   },
   {
    "duration": 41,
    "start_time": "2021-12-08T08:25:24.863Z"
   },
   {
    "duration": 33,
    "start_time": "2021-12-08T08:25:31.924Z"
   },
   {
    "duration": 35,
    "start_time": "2021-12-08T08:25:58.682Z"
   },
   {
    "duration": 1266,
    "start_time": "2021-12-08T08:26:08.188Z"
   },
   {
    "duration": 17,
    "start_time": "2021-12-08T08:26:09.456Z"
   },
   {
    "duration": 4,
    "start_time": "2021-12-08T08:26:09.475Z"
   },
   {
    "duration": 8,
    "start_time": "2021-12-08T08:26:09.481Z"
   },
   {
    "duration": 25,
    "start_time": "2021-12-08T08:26:09.491Z"
   },
   {
    "duration": 5,
    "start_time": "2021-12-08T08:26:09.518Z"
   },
   {
    "duration": 16,
    "start_time": "2021-12-08T08:26:09.525Z"
   },
   {
    "duration": 177,
    "start_time": "2021-12-08T08:26:09.543Z"
   },
   {
    "duration": 394,
    "start_time": "2021-12-08T08:26:09.721Z"
   },
   {
    "duration": 99,
    "start_time": "2021-12-08T08:26:10.117Z"
   },
   {
    "duration": 108,
    "start_time": "2021-12-08T08:26:10.218Z"
   },
   {
    "duration": 150,
    "start_time": "2021-12-08T08:26:10.328Z"
   },
   {
    "duration": 31,
    "start_time": "2021-12-08T08:26:10.481Z"
   },
   {
    "duration": 27,
    "start_time": "2021-12-08T08:26:10.514Z"
   },
   {
    "duration": 16,
    "start_time": "2021-12-08T08:26:10.543Z"
   },
   {
    "duration": 150,
    "start_time": "2021-12-08T08:26:10.561Z"
   },
   {
    "duration": 35,
    "start_time": "2021-12-08T08:26:10.713Z"
   },
   {
    "duration": 6,
    "start_time": "2021-12-08T08:26:10.749Z"
   },
   {
    "duration": 29,
    "start_time": "2021-12-08T08:26:28.572Z"
   },
   {
    "duration": 33,
    "start_time": "2021-12-08T08:26:32.163Z"
   },
   {
    "duration": 1323,
    "start_time": "2021-12-08T08:26:45.407Z"
   },
   {
    "duration": 29,
    "start_time": "2021-12-08T08:26:46.733Z"
   },
   {
    "duration": 60,
    "start_time": "2021-12-08T08:26:46.765Z"
   },
   {
    "duration": 17,
    "start_time": "2021-12-08T08:26:46.828Z"
   },
   {
    "duration": 15,
    "start_time": "2021-12-08T08:26:46.848Z"
   },
   {
    "duration": 9,
    "start_time": "2021-12-08T08:26:46.865Z"
   },
   {
    "duration": 16,
    "start_time": "2021-12-08T08:26:46.876Z"
   },
   {
    "duration": 44,
    "start_time": "2021-12-08T08:26:46.895Z"
   },
   {
    "duration": 144,
    "start_time": "2021-12-08T08:26:46.941Z"
   },
   {
    "duration": 347,
    "start_time": "2021-12-08T08:26:47.086Z"
   },
   {
    "duration": 73,
    "start_time": "2021-12-08T08:26:47.435Z"
   },
   {
    "duration": 114,
    "start_time": "2021-12-08T08:26:47.511Z"
   },
   {
    "duration": 154,
    "start_time": "2021-12-08T08:26:47.626Z"
   },
   {
    "duration": 30,
    "start_time": "2021-12-08T08:26:47.783Z"
   },
   {
    "duration": 23,
    "start_time": "2021-12-08T08:26:47.815Z"
   },
   {
    "duration": 11,
    "start_time": "2021-12-08T08:26:47.840Z"
   },
   {
    "duration": 140,
    "start_time": "2021-12-08T08:26:47.852Z"
   },
   {
    "duration": 42,
    "start_time": "2021-12-08T08:26:47.994Z"
   },
   {
    "duration": 6,
    "start_time": "2021-12-08T08:26:48.039Z"
   },
   {
    "duration": 23,
    "start_time": "2021-12-08T08:28:19.547Z"
   },
   {
    "duration": 29,
    "start_time": "2021-12-08T08:28:51.857Z"
   },
   {
    "duration": 27,
    "start_time": "2021-12-08T08:28:56.010Z"
   },
   {
    "duration": 29,
    "start_time": "2021-12-08T08:28:58.518Z"
   },
   {
    "duration": 25,
    "start_time": "2021-12-08T08:29:01.649Z"
   },
   {
    "duration": 38,
    "start_time": "2021-12-08T08:29:06.846Z"
   },
   {
    "duration": 42,
    "start_time": "2021-12-08T08:29:12.047Z"
   },
   {
    "duration": 53,
    "start_time": "2021-12-08T08:29:14.240Z"
   },
   {
    "duration": 51,
    "start_time": "2021-12-08T08:29:16.520Z"
   },
   {
    "duration": 32,
    "start_time": "2021-12-08T08:29:18.954Z"
   },
   {
    "duration": 23,
    "start_time": "2021-12-08T08:29:21.927Z"
   },
   {
    "duration": 26,
    "start_time": "2021-12-08T08:30:06.086Z"
   },
   {
    "duration": 35,
    "start_time": "2021-12-08T08:30:13.475Z"
   },
   {
    "duration": 38,
    "start_time": "2021-12-08T08:30:16.496Z"
   },
   {
    "duration": 49,
    "start_time": "2021-12-08T08:30:19.558Z"
   },
   {
    "duration": 33,
    "start_time": "2021-12-08T08:30:23.747Z"
   },
   {
    "duration": 48,
    "start_time": "2021-12-08T08:30:28.036Z"
   },
   {
    "duration": 42,
    "start_time": "2021-12-08T08:30:31.559Z"
   },
   {
    "duration": 6,
    "start_time": "2021-12-08T08:30:51.823Z"
   },
   {
    "duration": 301,
    "start_time": "2021-12-08T08:31:11.095Z"
   },
   {
    "duration": 783,
    "start_time": "2021-12-08T08:31:23.486Z"
   },
   {
    "duration": 41,
    "start_time": "2021-12-08T08:31:35.617Z"
   },
   {
    "duration": 19,
    "start_time": "2021-12-08T08:31:44.379Z"
   },
   {
    "duration": 127,
    "start_time": "2021-12-08T08:32:04.826Z"
   },
   {
    "duration": 12,
    "start_time": "2021-12-08T08:32:09.833Z"
   },
   {
    "duration": 17,
    "start_time": "2021-12-08T08:32:28.612Z"
   },
   {
    "duration": 19,
    "start_time": "2021-12-08T08:32:33.702Z"
   },
   {
    "duration": 6,
    "start_time": "2021-12-08T08:32:42.169Z"
   },
   {
    "duration": 28,
    "start_time": "2021-12-08T08:33:06.994Z"
   },
   {
    "duration": 28,
    "start_time": "2021-12-08T08:33:14.104Z"
   },
   {
    "duration": 29,
    "start_time": "2021-12-08T08:33:17.529Z"
   },
   {
    "duration": 30,
    "start_time": "2021-12-08T08:33:25.349Z"
   },
   {
    "duration": 28,
    "start_time": "2021-12-08T08:33:30.511Z"
   },
   {
    "duration": 30,
    "start_time": "2021-12-08T08:33:35.369Z"
   },
   {
    "duration": 32,
    "start_time": "2021-12-08T08:33:53.504Z"
   },
   {
    "duration": 7,
    "start_time": "2021-12-08T08:34:08.340Z"
   },
   {
    "duration": 441,
    "start_time": "2021-12-08T08:34:41.289Z"
   },
   {
    "duration": 41,
    "start_time": "2021-12-08T08:34:49.733Z"
   },
   {
    "duration": 33,
    "start_time": "2021-12-08T08:34:57.783Z"
   },
   {
    "duration": 281,
    "start_time": "2021-12-08T08:35:16.437Z"
   },
   {
    "duration": 29,
    "start_time": "2021-12-08T08:35:31.871Z"
   },
   {
    "duration": 1198,
    "start_time": "2021-12-08T08:35:36.565Z"
   },
   {
    "duration": 13,
    "start_time": "2021-12-08T08:35:37.765Z"
   },
   {
    "duration": 24,
    "start_time": "2021-12-08T08:35:37.781Z"
   },
   {
    "duration": 11,
    "start_time": "2021-12-08T08:35:37.807Z"
   },
   {
    "duration": 24,
    "start_time": "2021-12-08T08:35:37.820Z"
   },
   {
    "duration": 4,
    "start_time": "2021-12-08T08:35:37.845Z"
   },
   {
    "duration": 22,
    "start_time": "2021-12-08T08:35:37.851Z"
   },
   {
    "duration": 39,
    "start_time": "2021-12-08T08:35:37.876Z"
   },
   {
    "duration": 309,
    "start_time": "2021-12-08T08:35:37.917Z"
   },
   {
    "duration": 837,
    "start_time": "2021-12-08T08:35:38.228Z"
   },
   {
    "duration": 51,
    "start_time": "2021-12-08T08:35:39.067Z"
   },
   {
    "duration": 114,
    "start_time": "2021-12-08T08:35:39.207Z"
   },
   {
    "duration": 163,
    "start_time": "2021-12-08T08:35:39.322Z"
   },
   {
    "duration": 43,
    "start_time": "2021-12-08T08:35:39.487Z"
   },
   {
    "duration": 31,
    "start_time": "2021-12-08T08:35:39.532Z"
   },
   {
    "duration": 11,
    "start_time": "2021-12-08T08:35:39.565Z"
   },
   {
    "duration": 162,
    "start_time": "2021-12-08T08:35:39.578Z"
   },
   {
    "duration": 35,
    "start_time": "2021-12-08T08:35:39.741Z"
   },
   {
    "duration": 6,
    "start_time": "2021-12-08T08:35:39.777Z"
   },
   {
    "duration": 31,
    "start_time": "2021-12-08T08:35:50.336Z"
   },
   {
    "duration": 39,
    "start_time": "2021-12-08T08:35:53.759Z"
   },
   {
    "duration": 28,
    "start_time": "2021-12-08T08:35:56.230Z"
   },
   {
    "duration": 22,
    "start_time": "2021-12-08T08:35:58.293Z"
   },
   {
    "duration": 59,
    "start_time": "2021-12-08T08:36:49.076Z"
   },
   {
    "duration": 27,
    "start_time": "2021-12-08T08:38:33.042Z"
   },
   {
    "duration": 28,
    "start_time": "2021-12-08T08:38:34.804Z"
   },
   {
    "duration": 27,
    "start_time": "2021-12-08T08:38:35.721Z"
   },
   {
    "duration": 22,
    "start_time": "2021-12-08T08:39:28.883Z"
   },
   {
    "duration": 22,
    "start_time": "2021-12-08T08:39:37.869Z"
   },
   {
    "duration": 30,
    "start_time": "2021-12-08T08:39:44.322Z"
   },
   {
    "duration": 35,
    "start_time": "2021-12-08T08:40:30.909Z"
   },
   {
    "duration": 31,
    "start_time": "2021-12-08T08:40:34.732Z"
   },
   {
    "duration": 34,
    "start_time": "2021-12-08T08:40:39.689Z"
   },
   {
    "duration": 36,
    "start_time": "2021-12-08T08:40:53.456Z"
   },
   {
    "duration": 7,
    "start_time": "2021-12-08T08:40:57.827Z"
   },
   {
    "duration": 1257,
    "start_time": "2021-12-08T08:41:29.688Z"
   },
   {
    "duration": 13,
    "start_time": "2021-12-08T08:41:30.947Z"
   },
   {
    "duration": 5,
    "start_time": "2021-12-08T08:41:30.962Z"
   },
   {
    "duration": 8,
    "start_time": "2021-12-08T08:41:30.969Z"
   },
   {
    "duration": 11,
    "start_time": "2021-12-08T08:41:30.979Z"
   },
   {
    "duration": 4,
    "start_time": "2021-12-08T08:41:30.991Z"
   },
   {
    "duration": 13,
    "start_time": "2021-12-08T08:41:31.007Z"
   },
   {
    "duration": 301,
    "start_time": "2021-12-08T08:41:31.022Z"
   },
   {
    "duration": 758,
    "start_time": "2021-12-08T08:41:31.325Z"
   },
   {
    "duration": 222,
    "start_time": "2021-12-08T08:41:32.084Z"
   },
   {
    "duration": 21,
    "start_time": "2021-12-08T08:41:32.308Z"
   },
   {
    "duration": 150,
    "start_time": "2021-12-08T08:41:32.331Z"
   },
   {
    "duration": 36,
    "start_time": "2021-12-08T08:41:32.483Z"
   },
   {
    "duration": 30,
    "start_time": "2021-12-08T08:41:32.520Z"
   },
   {
    "duration": 14,
    "start_time": "2021-12-08T08:41:32.552Z"
   },
   {
    "duration": 141,
    "start_time": "2021-12-08T08:41:32.567Z"
   },
   {
    "duration": 33,
    "start_time": "2021-12-08T08:41:32.710Z"
   },
   {
    "duration": 6,
    "start_time": "2021-12-08T08:41:32.744Z"
   },
   {
    "duration": 27,
    "start_time": "2021-12-08T08:44:33.559Z"
   },
   {
    "duration": 21,
    "start_time": "2021-12-08T08:45:40.339Z"
   },
   {
    "duration": 33,
    "start_time": "2021-12-08T08:49:34.490Z"
   },
   {
    "duration": 34,
    "start_time": "2021-12-08T08:49:47.875Z"
   },
   {
    "duration": 34,
    "start_time": "2021-12-08T08:51:47.215Z"
   },
   {
    "duration": 134,
    "start_time": "2021-12-08T08:52:08.112Z"
   },
   {
    "duration": 15,
    "start_time": "2021-12-08T08:52:21.745Z"
   },
   {
    "duration": 125,
    "start_time": "2021-12-08T08:52:23.405Z"
   },
   {
    "duration": 19,
    "start_time": "2021-12-08T08:52:26.205Z"
   },
   {
    "duration": 124,
    "start_time": "2021-12-08T08:52:27.860Z"
   },
   {
    "duration": 34,
    "start_time": "2021-12-08T08:53:33.746Z"
   },
   {
    "duration": 33,
    "start_time": "2021-12-08T08:53:40.519Z"
   },
   {
    "duration": 38,
    "start_time": "2021-12-08T08:54:00.496Z"
   },
   {
    "duration": 31,
    "start_time": "2021-12-08T08:54:03.738Z"
   },
   {
    "duration": 276,
    "start_time": "2021-12-09T13:48:02.279Z"
   },
   {
    "duration": 1298,
    "start_time": "2021-12-09T13:48:09.808Z"
   },
   {
    "duration": 11,
    "start_time": "2021-12-09T13:48:11.108Z"
   },
   {
    "duration": 4,
    "start_time": "2021-12-09T13:48:11.122Z"
   },
   {
    "duration": 8,
    "start_time": "2021-12-09T13:48:11.128Z"
   },
   {
    "duration": 15,
    "start_time": "2021-12-09T13:48:11.138Z"
   },
   {
    "duration": 4,
    "start_time": "2021-12-09T13:48:11.155Z"
   },
   {
    "duration": 29,
    "start_time": "2021-12-09T13:48:11.160Z"
   },
   {
    "duration": 25,
    "start_time": "2021-12-09T13:48:11.192Z"
   },
   {
    "duration": 275,
    "start_time": "2021-12-09T13:48:11.219Z"
   },
   {
    "duration": 815,
    "start_time": "2021-12-09T13:48:11.496Z"
   },
   {
    "duration": 80,
    "start_time": "2021-12-09T13:48:12.313Z"
   },
   {
    "duration": 114,
    "start_time": "2021-12-09T13:48:12.396Z"
   },
   {
    "duration": 138,
    "start_time": "2021-12-09T13:48:12.512Z"
   },
   {
    "duration": 20,
    "start_time": "2021-12-09T13:48:12.652Z"
   },
   {
    "duration": 33,
    "start_time": "2021-12-09T13:48:12.674Z"
   },
   {
    "duration": 10,
    "start_time": "2021-12-09T13:48:12.708Z"
   },
   {
    "duration": 128,
    "start_time": "2021-12-09T13:48:12.719Z"
   },
   {
    "duration": 40,
    "start_time": "2021-12-09T13:48:12.848Z"
   },
   {
    "duration": 7,
    "start_time": "2021-12-09T13:48:12.889Z"
   },
   {
    "duration": 27,
    "start_time": "2021-12-09T13:48:41.976Z"
   },
   {
    "duration": 28,
    "start_time": "2021-12-09T13:48:46.476Z"
   },
   {
    "duration": 32,
    "start_time": "2021-12-09T13:51:34.326Z"
   },
   {
    "duration": 31,
    "start_time": "2021-12-09T13:52:01.135Z"
   },
   {
    "duration": 31,
    "start_time": "2021-12-09T13:52:20.743Z"
   },
   {
    "duration": 478,
    "start_time": "2021-12-09T13:55:15.800Z"
   },
   {
    "duration": 69,
    "start_time": "2021-12-09T13:55:46.590Z"
   },
   {
    "duration": 71,
    "start_time": "2021-12-09T13:55:51.675Z"
   },
   {
    "duration": 81,
    "start_time": "2021-12-09T13:55:59.137Z"
   },
   {
    "duration": 127,
    "start_time": "2021-12-09T13:56:04.552Z"
   },
   {
    "duration": 264,
    "start_time": "2021-12-09T13:56:12.752Z"
   },
   {
    "duration": 63,
    "start_time": "2021-12-09T13:56:17.837Z"
   },
   {
    "duration": 98,
    "start_time": "2021-12-09T13:56:22.317Z"
   },
   {
    "duration": 254,
    "start_time": "2021-12-09T13:56:28.199Z"
   },
   {
    "duration": 95,
    "start_time": "2021-12-09T13:56:33.280Z"
   },
   {
    "duration": 62,
    "start_time": "2021-12-09T13:56:46.060Z"
   },
   {
    "duration": 78,
    "start_time": "2021-12-09T13:56:50.196Z"
   },
   {
    "duration": 76,
    "start_time": "2021-12-09T14:01:28.726Z"
   },
   {
    "duration": 6773,
    "start_time": "2021-12-09T14:01:34.263Z"
   },
   {
    "duration": 9937,
    "start_time": "2021-12-09T14:02:17.325Z"
   },
   {
    "duration": 6657,
    "start_time": "2021-12-09T14:03:31.899Z"
   },
   {
    "duration": 3,
    "start_time": "2021-12-09T14:04:01.058Z"
   },
   {
    "duration": 255,
    "start_time": "2021-12-09T14:04:09.025Z"
   },
   {
    "duration": 6829,
    "start_time": "2021-12-09T14:04:34.929Z"
   },
   {
    "duration": 3,
    "start_time": "2021-12-09T14:04:45.353Z"
   },
   {
    "duration": 6850,
    "start_time": "2021-12-09T14:05:01.164Z"
   },
   {
    "duration": 245,
    "start_time": "2021-12-09T14:09:51.474Z"
   },
   {
    "duration": 250,
    "start_time": "2021-12-09T14:10:00.221Z"
   },
   {
    "duration": 833,
    "start_time": "2021-12-09T14:11:17.357Z"
   },
   {
    "duration": 19,
    "start_time": "2021-12-09T14:18:17.172Z"
   },
   {
    "duration": 21,
    "start_time": "2021-12-09T14:18:31.313Z"
   },
   {
    "duration": 10,
    "start_time": "2021-12-09T14:18:39.061Z"
   },
   {
    "duration": 283,
    "start_time": "2021-12-09T14:19:59.289Z"
   },
   {
    "duration": 13,
    "start_time": "2021-12-09T14:20:30.641Z"
   },
   {
    "duration": 15,
    "start_time": "2021-12-09T14:20:46.978Z"
   },
   {
    "duration": 20,
    "start_time": "2021-12-09T14:21:28.338Z"
   },
   {
    "duration": 7,
    "start_time": "2021-12-09T14:21:32.983Z"
   },
   {
    "duration": 22,
    "start_time": "2021-12-09T14:21:38.082Z"
   },
   {
    "duration": 27,
    "start_time": "2021-12-09T14:21:51.044Z"
   },
   {
    "duration": 20,
    "start_time": "2021-12-09T14:22:24.375Z"
   },
   {
    "duration": 20,
    "start_time": "2021-12-09T14:22:44.149Z"
   },
   {
    "duration": 17,
    "start_time": "2021-12-09T14:22:46.613Z"
   },
   {
    "duration": 19,
    "start_time": "2021-12-09T14:22:52.608Z"
   },
   {
    "duration": 13,
    "start_time": "2021-12-09T17:07:18.290Z"
   },
   {
    "duration": 34,
    "start_time": "2021-12-09T17:07:37.382Z"
   },
   {
    "duration": 310,
    "start_time": "2021-12-09T17:11:45.127Z"
   },
   {
    "duration": 23,
    "start_time": "2021-12-09T17:11:54.607Z"
   },
   {
    "duration": 21,
    "start_time": "2021-12-09T17:12:21.303Z"
   },
   {
    "duration": 20,
    "start_time": "2021-12-09T17:12:38.102Z"
   },
   {
    "duration": 15,
    "start_time": "2021-12-09T17:13:14.274Z"
   },
   {
    "duration": 18,
    "start_time": "2021-12-09T17:14:02.902Z"
   },
   {
    "duration": 12,
    "start_time": "2021-12-09T17:18:41.147Z"
   },
   {
    "duration": 15,
    "start_time": "2021-12-09T17:18:42.970Z"
   },
   {
    "duration": 22,
    "start_time": "2021-12-09T17:19:34.402Z"
   },
   {
    "duration": 20,
    "start_time": "2021-12-09T17:19:38.749Z"
   },
   {
    "duration": 18,
    "start_time": "2021-12-09T17:19:46.056Z"
   },
   {
    "duration": 16,
    "start_time": "2021-12-09T17:19:55.014Z"
   },
   {
    "duration": 14,
    "start_time": "2021-12-09T17:22:46.099Z"
   },
   {
    "duration": 16,
    "start_time": "2021-12-09T17:23:24.734Z"
   },
   {
    "duration": 18,
    "start_time": "2021-12-09T17:23:47.340Z"
   },
   {
    "duration": 20,
    "start_time": "2021-12-09T17:25:22.925Z"
   },
   {
    "duration": 91,
    "start_time": "2021-12-09T17:25:39.676Z"
   },
   {
    "duration": 17,
    "start_time": "2021-12-09T17:25:43.704Z"
   },
   {
    "duration": 19,
    "start_time": "2021-12-09T17:25:49.241Z"
   },
   {
    "duration": 18,
    "start_time": "2021-12-09T17:25:56.234Z"
   },
   {
    "duration": 19,
    "start_time": "2021-12-09T17:25:58.169Z"
   },
   {
    "duration": 5,
    "start_time": "2021-12-09T17:26:25.410Z"
   },
   {
    "duration": 6,
    "start_time": "2021-12-09T17:26:27.650Z"
   },
   {
    "duration": 8,
    "start_time": "2021-12-09T17:27:30.372Z"
   },
   {
    "duration": 7,
    "start_time": "2021-12-09T17:27:34.331Z"
   },
   {
    "duration": 6,
    "start_time": "2021-12-09T17:27:49.980Z"
   },
   {
    "duration": 5,
    "start_time": "2021-12-09T17:27:51.184Z"
   },
   {
    "duration": 19,
    "start_time": "2021-12-09T17:28:46.462Z"
   },
   {
    "duration": 19,
    "start_time": "2021-12-09T17:28:47.724Z"
   },
   {
    "duration": 19,
    "start_time": "2021-12-09T17:31:13.140Z"
   },
   {
    "duration": 59,
    "start_time": "2022-07-07T21:02:30.854Z"
   },
   {
    "duration": 1666,
    "start_time": "2022-07-07T21:06:42.991Z"
   },
   {
    "duration": 3,
    "start_time": "2022-07-07T21:06:44.659Z"
   },
   {
    "duration": 59,
    "start_time": "2022-07-07T21:06:44.664Z"
   },
   {
    "duration": 13,
    "start_time": "2022-07-07T21:06:44.725Z"
   },
   {
    "duration": 4,
    "start_time": "2022-07-07T21:06:44.740Z"
   },
   {
    "duration": 13,
    "start_time": "2022-07-07T21:06:44.745Z"
   },
   {
    "duration": 37,
    "start_time": "2022-07-07T21:06:44.759Z"
   },
   {
    "duration": 6,
    "start_time": "2022-07-07T21:06:44.798Z"
   },
   {
    "duration": 12,
    "start_time": "2022-07-07T21:06:44.805Z"
   },
   {
    "duration": 10,
    "start_time": "2022-07-07T21:06:44.819Z"
   },
   {
    "duration": 40,
    "start_time": "2022-07-07T21:06:44.831Z"
   },
   {
    "duration": 883,
    "start_time": "2022-07-07T21:06:44.876Z"
   },
   {
    "duration": 8364,
    "start_time": "2022-07-07T21:06:45.763Z"
   },
   {
    "duration": 52,
    "start_time": "2022-07-07T21:06:54.130Z"
   },
   {
    "duration": 245,
    "start_time": "2022-07-07T21:06:54.183Z"
   },
   {
    "duration": 14,
    "start_time": "2022-07-07T21:06:54.429Z"
   },
   {
    "duration": 42,
    "start_time": "2022-07-07T21:06:54.444Z"
   },
   {
    "duration": 19,
    "start_time": "2022-07-07T21:06:54.488Z"
   },
   {
    "duration": 23,
    "start_time": "2022-07-07T21:06:54.508Z"
   },
   {
    "duration": 118,
    "start_time": "2022-07-07T21:06:54.532Z"
   },
   {
    "duration": 36,
    "start_time": "2022-07-07T21:06:54.651Z"
   },
   {
    "duration": 25,
    "start_time": "2022-07-07T21:06:54.689Z"
   },
   {
    "duration": 22,
    "start_time": "2022-07-07T21:06:54.715Z"
   },
   {
    "duration": 5,
    "start_time": "2022-07-07T21:06:54.738Z"
   },
   {
    "duration": 49,
    "start_time": "2022-07-07T21:06:54.744Z"
   },
   {
    "duration": 1404,
    "start_time": "2022-07-15T05:04:28.575Z"
   },
   {
    "duration": 2,
    "start_time": "2022-07-15T05:04:32.964Z"
   },
   {
    "duration": 25,
    "start_time": "2022-07-15T05:04:33.300Z"
   },
   {
    "duration": 1437,
    "start_time": "2022-07-15T05:04:41.276Z"
   },
   {
    "duration": 3,
    "start_time": "2022-07-15T05:04:42.715Z"
   },
   {
    "duration": 30,
    "start_time": "2022-07-15T05:04:42.719Z"
   },
   {
    "duration": 12,
    "start_time": "2022-07-15T05:04:42.751Z"
   },
   {
    "duration": 10,
    "start_time": "2022-07-15T05:04:42.764Z"
   },
   {
    "duration": 17,
    "start_time": "2022-07-15T05:04:42.776Z"
   },
   {
    "duration": 13,
    "start_time": "2022-07-15T05:04:42.795Z"
   },
   {
    "duration": 127,
    "start_time": "2022-07-15T05:04:42.809Z"
   },
   {
    "duration": 0,
    "start_time": "2022-07-15T05:04:42.938Z"
   },
   {
    "duration": 0,
    "start_time": "2022-07-15T05:04:42.939Z"
   },
   {
    "duration": 0,
    "start_time": "2022-07-15T05:04:42.940Z"
   },
   {
    "duration": 0,
    "start_time": "2022-07-15T05:04:42.941Z"
   },
   {
    "duration": 0,
    "start_time": "2022-07-15T05:04:42.942Z"
   },
   {
    "duration": 0,
    "start_time": "2022-07-15T05:04:42.943Z"
   },
   {
    "duration": 0,
    "start_time": "2022-07-15T05:04:42.945Z"
   },
   {
    "duration": 0,
    "start_time": "2022-07-15T05:04:42.946Z"
   },
   {
    "duration": 0,
    "start_time": "2022-07-15T05:04:42.947Z"
   },
   {
    "duration": 0,
    "start_time": "2022-07-15T05:04:42.948Z"
   },
   {
    "duration": 0,
    "start_time": "2022-07-15T05:04:42.949Z"
   },
   {
    "duration": 0,
    "start_time": "2022-07-15T05:04:42.950Z"
   },
   {
    "duration": 0,
    "start_time": "2022-07-15T05:04:42.951Z"
   },
   {
    "duration": 0,
    "start_time": "2022-07-15T05:04:42.952Z"
   },
   {
    "duration": 0,
    "start_time": "2022-07-15T05:04:42.953Z"
   },
   {
    "duration": 10,
    "start_time": "2022-07-15T05:05:26.847Z"
   },
   {
    "duration": 1363,
    "start_time": "2022-07-15T05:06:05.891Z"
   },
   {
    "duration": 1398,
    "start_time": "2022-07-15T05:06:12.908Z"
   },
   {
    "duration": 13,
    "start_time": "2022-07-15T05:06:19.216Z"
   },
   {
    "duration": 22,
    "start_time": "2022-07-15T05:06:33.392Z"
   },
   {
    "duration": 1345,
    "start_time": "2022-07-15T05:06:49.969Z"
   },
   {
    "duration": 3,
    "start_time": "2022-07-15T05:06:51.316Z"
   },
   {
    "duration": 24,
    "start_time": "2022-07-15T05:06:51.321Z"
   },
   {
    "duration": 13,
    "start_time": "2022-07-15T05:06:51.347Z"
   },
   {
    "duration": 3,
    "start_time": "2022-07-15T05:06:51.361Z"
   },
   {
    "duration": 7,
    "start_time": "2022-07-15T05:06:51.777Z"
   },
   {
    "duration": 9,
    "start_time": "2022-07-15T05:06:52.406Z"
   },
   {
    "duration": 18,
    "start_time": "2022-07-15T05:06:58.488Z"
   },
   {
    "duration": 1327,
    "start_time": "2022-07-15T05:11:46.348Z"
   },
   {
    "duration": 32,
    "start_time": "2022-07-15T05:11:52.811Z"
   },
   {
    "duration": 16,
    "start_time": "2022-07-15T05:12:16.332Z"
   },
   {
    "duration": 1326,
    "start_time": "2022-07-15T05:12:26.244Z"
   },
   {
    "duration": 2,
    "start_time": "2022-07-15T05:12:27.572Z"
   },
   {
    "duration": 29,
    "start_time": "2022-07-15T05:12:27.576Z"
   },
   {
    "duration": 13,
    "start_time": "2022-07-15T05:12:27.608Z"
   },
   {
    "duration": 4,
    "start_time": "2022-07-15T05:12:27.622Z"
   },
   {
    "duration": 9,
    "start_time": "2022-07-15T05:12:27.627Z"
   },
   {
    "duration": 13,
    "start_time": "2022-07-15T05:12:27.637Z"
   },
   {
    "duration": 11,
    "start_time": "2022-07-15T05:12:27.963Z"
   },
   {
    "duration": 108,
    "start_time": "2022-07-15T05:12:32.756Z"
   },
   {
    "duration": 4,
    "start_time": "2022-07-15T05:12:32.961Z"
   },
   {
    "duration": 9,
    "start_time": "2022-07-15T05:12:33.209Z"
   },
   {
    "duration": 12,
    "start_time": "2022-07-15T05:12:33.718Z"
   },
   {
    "duration": 1241,
    "start_time": "2022-07-15T05:12:49.032Z"
   },
   {
    "duration": 23,
    "start_time": "2022-07-15T05:12:50.478Z"
   },
   {
    "duration": 7,
    "start_time": "2022-07-15T05:13:24.015Z"
   },
   {
    "duration": 24,
    "start_time": "2022-07-15T05:14:19.376Z"
   },
   {
    "duration": 15,
    "start_time": "2022-07-15T05:14:22.192Z"
   },
   {
    "duration": 19,
    "start_time": "2022-07-15T05:14:24.749Z"
   },
   {
    "duration": 4,
    "start_time": "2022-07-15T05:14:51.171Z"
   },
   {
    "duration": 3,
    "start_time": "2022-07-15T05:14:58.714Z"
   },
   {
    "duration": 1430,
    "start_time": "2022-07-15T05:15:08.899Z"
   },
   {
    "duration": 2,
    "start_time": "2022-07-15T05:15:10.331Z"
   },
   {
    "duration": 22,
    "start_time": "2022-07-15T05:15:10.335Z"
   },
   {
    "duration": 27,
    "start_time": "2022-07-15T05:15:10.359Z"
   },
   {
    "duration": 24,
    "start_time": "2022-07-15T05:15:10.389Z"
   },
   {
    "duration": 43,
    "start_time": "2022-07-15T05:15:10.414Z"
   },
   {
    "duration": 32,
    "start_time": "2022-07-15T05:15:10.459Z"
   },
   {
    "duration": 18,
    "start_time": "2022-07-15T05:15:10.493Z"
   },
   {
    "duration": 1512,
    "start_time": "2022-07-15T05:15:10.513Z"
   },
   {
    "duration": 0,
    "start_time": "2022-07-15T05:15:12.028Z"
   },
   {
    "duration": 0,
    "start_time": "2022-07-15T05:15:12.029Z"
   },
   {
    "duration": 0,
    "start_time": "2022-07-15T05:15:12.031Z"
   },
   {
    "duration": 0,
    "start_time": "2022-07-15T05:15:12.032Z"
   },
   {
    "duration": 0,
    "start_time": "2022-07-15T05:15:12.033Z"
   },
   {
    "duration": 0,
    "start_time": "2022-07-15T05:15:12.034Z"
   },
   {
    "duration": 0,
    "start_time": "2022-07-15T05:15:12.035Z"
   },
   {
    "duration": 0,
    "start_time": "2022-07-15T05:15:12.036Z"
   },
   {
    "duration": 0,
    "start_time": "2022-07-15T05:15:12.037Z"
   },
   {
    "duration": 0,
    "start_time": "2022-07-15T05:15:12.039Z"
   },
   {
    "duration": 0,
    "start_time": "2022-07-15T05:15:12.040Z"
   },
   {
    "duration": 0,
    "start_time": "2022-07-15T05:15:12.041Z"
   },
   {
    "duration": 0,
    "start_time": "2022-07-15T05:15:12.043Z"
   },
   {
    "duration": 0,
    "start_time": "2022-07-15T05:15:12.044Z"
   },
   {
    "duration": 0,
    "start_time": "2022-07-15T05:15:12.046Z"
   },
   {
    "duration": 0,
    "start_time": "2022-07-15T05:15:12.047Z"
   },
   {
    "duration": 1277,
    "start_time": "2022-07-15T05:16:05.859Z"
   },
   {
    "duration": 23,
    "start_time": "2022-07-15T05:16:08.339Z"
   },
   {
    "duration": 5,
    "start_time": "2022-07-15T05:16:46.163Z"
   },
   {
    "duration": 1329,
    "start_time": "2022-07-15T05:17:02.937Z"
   },
   {
    "duration": 3,
    "start_time": "2022-07-15T05:17:04.268Z"
   },
   {
    "duration": 37,
    "start_time": "2022-07-15T05:17:04.273Z"
   },
   {
    "duration": 44,
    "start_time": "2022-07-15T05:17:04.313Z"
   },
   {
    "duration": 4,
    "start_time": "2022-07-15T05:17:04.359Z"
   },
   {
    "duration": 12,
    "start_time": "2022-07-15T05:17:04.365Z"
   },
   {
    "duration": 21,
    "start_time": "2022-07-15T05:17:04.378Z"
   },
   {
    "duration": 12,
    "start_time": "2022-07-15T05:17:04.400Z"
   },
   {
    "duration": 1224,
    "start_time": "2022-07-15T05:17:04.414Z"
   },
   {
    "duration": 5,
    "start_time": "2022-07-15T05:17:05.640Z"
   },
   {
    "duration": 12,
    "start_time": "2022-07-15T05:17:05.647Z"
   },
   {
    "duration": 9,
    "start_time": "2022-07-15T05:17:05.660Z"
   },
   {
    "duration": 16,
    "start_time": "2022-07-15T05:17:05.670Z"
   },
   {
    "duration": 888,
    "start_time": "2022-07-15T05:17:05.687Z"
   },
   {
    "duration": 119,
    "start_time": "2022-07-15T05:17:06.577Z"
   },
   {
    "duration": 22,
    "start_time": "2022-07-15T05:17:06.698Z"
   },
   {
    "duration": 17,
    "start_time": "2022-07-15T05:17:06.722Z"
   },
   {
    "duration": 19,
    "start_time": "2022-07-15T05:17:06.741Z"
   },
   {
    "duration": 53,
    "start_time": "2022-07-15T05:17:06.762Z"
   },
   {
    "duration": 101,
    "start_time": "2022-07-15T05:17:06.816Z"
   },
   {
    "duration": 23,
    "start_time": "2022-07-15T05:17:06.919Z"
   },
   {
    "duration": 27,
    "start_time": "2022-07-15T05:17:06.944Z"
   },
   {
    "duration": 63,
    "start_time": "2022-07-15T05:17:06.973Z"
   },
   {
    "duration": 6,
    "start_time": "2022-07-15T05:17:07.038Z"
   },
   {
    "duration": 33,
    "start_time": "2022-07-15T05:17:07.046Z"
   },
   {
    "duration": 1401,
    "start_time": "2022-07-15T05:18:58.960Z"
   },
   {
    "duration": 4,
    "start_time": "2022-07-15T05:19:00.363Z"
   },
   {
    "duration": 32,
    "start_time": "2022-07-15T05:19:00.369Z"
   },
   {
    "duration": 35,
    "start_time": "2022-07-15T05:19:00.403Z"
   },
   {
    "duration": 11,
    "start_time": "2022-07-15T05:19:00.439Z"
   },
   {
    "duration": 16,
    "start_time": "2022-07-15T05:19:00.452Z"
   },
   {
    "duration": 29,
    "start_time": "2022-07-15T05:19:00.470Z"
   },
   {
    "duration": 38,
    "start_time": "2022-07-15T05:19:00.501Z"
   },
   {
    "duration": 1318,
    "start_time": "2022-07-15T05:19:00.541Z"
   },
   {
    "duration": 8,
    "start_time": "2022-07-15T05:19:01.862Z"
   },
   {
    "duration": 20,
    "start_time": "2022-07-15T05:19:01.872Z"
   },
   {
    "duration": 29,
    "start_time": "2022-07-15T05:19:01.894Z"
   },
   {
    "duration": 20,
    "start_time": "2022-07-15T05:19:01.924Z"
   },
   {
    "duration": 968,
    "start_time": "2022-07-15T05:19:01.946Z"
   },
   {
    "duration": 120,
    "start_time": "2022-07-15T05:19:02.916Z"
   },
   {
    "duration": 16,
    "start_time": "2022-07-15T05:19:03.037Z"
   },
   {
    "duration": 16,
    "start_time": "2022-07-15T05:19:03.055Z"
   },
   {
    "duration": 42,
    "start_time": "2022-07-15T05:19:03.073Z"
   },
   {
    "duration": 24,
    "start_time": "2022-07-15T05:19:03.119Z"
   },
   {
    "duration": 110,
    "start_time": "2022-07-15T05:19:03.145Z"
   },
   {
    "duration": 19,
    "start_time": "2022-07-15T05:19:03.257Z"
   },
   {
    "duration": 46,
    "start_time": "2022-07-15T05:19:03.277Z"
   },
   {
    "duration": 25,
    "start_time": "2022-07-15T05:19:03.324Z"
   },
   {
    "duration": 6,
    "start_time": "2022-07-15T05:19:03.351Z"
   },
   {
    "duration": 25,
    "start_time": "2022-07-15T05:19:03.359Z"
   },
   {
    "duration": 4,
    "start_time": "2022-07-15T05:32:35.132Z"
   },
   {
    "duration": 941,
    "start_time": "2022-07-15T05:32:36.062Z"
   },
   {
    "duration": 1371,
    "start_time": "2022-07-15T05:32:59.074Z"
   },
   {
    "duration": 3,
    "start_time": "2022-07-15T05:33:00.447Z"
   },
   {
    "duration": 40,
    "start_time": "2022-07-15T05:33:00.451Z"
   },
   {
    "duration": 15,
    "start_time": "2022-07-15T05:33:00.493Z"
   },
   {
    "duration": 33,
    "start_time": "2022-07-15T05:33:00.516Z"
   },
   {
    "duration": 24,
    "start_time": "2022-07-15T05:33:00.551Z"
   },
   {
    "duration": 25,
    "start_time": "2022-07-15T05:33:00.577Z"
   },
   {
    "duration": 1313,
    "start_time": "2022-07-15T05:33:00.604Z"
   },
   {
    "duration": 7,
    "start_time": "2022-07-15T05:33:01.918Z"
   },
   {
    "duration": 50,
    "start_time": "2022-07-15T05:33:01.929Z"
   },
   {
    "duration": 20,
    "start_time": "2022-07-15T05:33:01.981Z"
   },
   {
    "duration": 63,
    "start_time": "2022-07-15T05:33:02.003Z"
   },
   {
    "duration": 999,
    "start_time": "2022-07-15T05:33:02.069Z"
   },
   {
    "duration": 165,
    "start_time": "2022-07-15T05:33:03.071Z"
   },
   {
    "duration": 15,
    "start_time": "2022-07-15T05:33:03.239Z"
   },
   {
    "duration": 36,
    "start_time": "2022-07-15T05:33:03.256Z"
   },
   {
    "duration": 34,
    "start_time": "2022-07-15T05:33:03.294Z"
   },
   {
    "duration": 23,
    "start_time": "2022-07-15T05:33:03.330Z"
   },
   {
    "duration": 114,
    "start_time": "2022-07-15T05:33:03.355Z"
   },
   {
    "duration": 37,
    "start_time": "2022-07-15T05:33:03.471Z"
   },
   {
    "duration": 25,
    "start_time": "2022-07-15T05:33:03.512Z"
   },
   {
    "duration": 41,
    "start_time": "2022-07-15T05:33:03.538Z"
   },
   {
    "duration": 7,
    "start_time": "2022-07-15T05:33:03.580Z"
   },
   {
    "duration": 63,
    "start_time": "2022-07-15T05:33:03.589Z"
   },
   {
    "duration": 4687,
    "start_time": "2022-07-15T05:33:18.405Z"
   },
   {
    "duration": 16,
    "start_time": "2022-07-15T05:40:03.544Z"
   },
   {
    "duration": 40,
    "start_time": "2022-07-15T05:57:30.651Z"
   },
   {
    "duration": 202,
    "start_time": "2022-07-15T05:58:06.099Z"
   },
   {
    "duration": 21,
    "start_time": "2022-07-15T05:59:03.385Z"
   },
   {
    "duration": 8,
    "start_time": "2022-07-15T06:05:30.269Z"
   },
   {
    "duration": 1559,
    "start_time": "2022-07-16T20:22:43.740Z"
   },
   {
    "duration": 2,
    "start_time": "2022-07-16T20:22:45.301Z"
   },
   {
    "duration": 21,
    "start_time": "2022-07-16T20:22:45.305Z"
   },
   {
    "duration": 13,
    "start_time": "2022-07-16T20:22:45.328Z"
   },
   {
    "duration": 5,
    "start_time": "2022-07-16T20:22:45.343Z"
   },
   {
    "duration": 14,
    "start_time": "2022-07-16T20:22:45.349Z"
   },
   {
    "duration": 12,
    "start_time": "2022-07-16T20:22:45.365Z"
   },
   {
    "duration": 1274,
    "start_time": "2022-07-16T20:22:45.379Z"
   },
   {
    "duration": 6,
    "start_time": "2022-07-16T20:22:46.655Z"
   },
   {
    "duration": 12,
    "start_time": "2022-07-16T20:22:46.663Z"
   },
   {
    "duration": 11,
    "start_time": "2022-07-16T20:22:46.676Z"
   },
   {
    "duration": 3,
    "start_time": "2022-07-16T20:22:46.689Z"
   },
   {
    "duration": 963,
    "start_time": "2022-07-16T20:22:46.694Z"
   },
   {
    "duration": 122,
    "start_time": "2022-07-16T20:22:47.659Z"
   },
   {
    "duration": 15,
    "start_time": "2022-07-16T20:22:47.782Z"
   },
   {
    "duration": 5,
    "start_time": "2022-07-16T20:22:47.799Z"
   },
   {
    "duration": 16,
    "start_time": "2022-07-16T20:22:47.806Z"
   },
   {
    "duration": 43,
    "start_time": "2022-07-16T20:22:47.823Z"
   },
   {
    "duration": 23,
    "start_time": "2022-07-16T20:22:47.867Z"
   },
   {
    "duration": 110,
    "start_time": "2022-07-16T20:22:47.891Z"
   },
   {
    "duration": 19,
    "start_time": "2022-07-16T20:22:48.002Z"
   },
   {
    "duration": 37,
    "start_time": "2022-07-16T20:22:48.023Z"
   },
   {
    "duration": 25,
    "start_time": "2022-07-16T20:22:48.061Z"
   },
   {
    "duration": 5,
    "start_time": "2022-07-16T20:22:48.088Z"
   },
   {
    "duration": 25,
    "start_time": "2022-07-16T20:22:48.095Z"
   },
   {
    "duration": 4,
    "start_time": "2022-07-16T20:23:23.151Z"
   },
   {
    "duration": 3,
    "start_time": "2022-07-16T20:23:30.347Z"
   },
   {
    "duration": 51,
    "start_time": "2022-07-22T22:22:37.906Z"
   },
   {
    "duration": 1366,
    "start_time": "2022-07-22T22:22:44.250Z"
   },
   {
    "duration": 16,
    "start_time": "2022-07-22T22:22:45.618Z"
   },
   {
    "duration": 12,
    "start_time": "2022-07-22T22:22:45.636Z"
   },
   {
    "duration": 4,
    "start_time": "2022-07-22T22:22:45.649Z"
   },
   {
    "duration": 15,
    "start_time": "2022-07-22T22:22:45.655Z"
   },
   {
    "duration": 22,
    "start_time": "2022-07-22T22:22:45.672Z"
   },
   {
    "duration": 1152,
    "start_time": "2022-07-22T22:22:45.695Z"
   },
   {
    "duration": 6,
    "start_time": "2022-07-22T22:22:46.848Z"
   },
   {
    "duration": 10,
    "start_time": "2022-07-22T22:22:46.855Z"
   },
   {
    "duration": 9,
    "start_time": "2022-07-22T22:22:46.867Z"
   },
   {
    "duration": 127,
    "start_time": "2022-07-22T22:22:46.878Z"
   },
   {
    "duration": 0,
    "start_time": "2022-07-22T22:22:47.006Z"
   },
   {
    "duration": 0,
    "start_time": "2022-07-22T22:22:47.008Z"
   },
   {
    "duration": 0,
    "start_time": "2022-07-22T22:22:47.009Z"
   },
   {
    "duration": 0,
    "start_time": "2022-07-22T22:22:47.009Z"
   },
   {
    "duration": 0,
    "start_time": "2022-07-22T22:22:47.010Z"
   },
   {
    "duration": 0,
    "start_time": "2022-07-22T22:22:47.011Z"
   },
   {
    "duration": 0,
    "start_time": "2022-07-22T22:22:47.023Z"
   },
   {
    "duration": 0,
    "start_time": "2022-07-22T22:22:47.024Z"
   },
   {
    "duration": 0,
    "start_time": "2022-07-22T22:22:47.025Z"
   },
   {
    "duration": 0,
    "start_time": "2022-07-22T22:22:47.025Z"
   },
   {
    "duration": 0,
    "start_time": "2022-07-22T22:22:47.026Z"
   },
   {
    "duration": 0,
    "start_time": "2022-07-22T22:22:47.028Z"
   },
   {
    "duration": 1246,
    "start_time": "2022-07-22T22:23:10.463Z"
   },
   {
    "duration": 17,
    "start_time": "2022-07-22T22:23:11.710Z"
   },
   {
    "duration": 13,
    "start_time": "2022-07-22T22:23:11.729Z"
   },
   {
    "duration": 4,
    "start_time": "2022-07-22T22:23:11.744Z"
   },
   {
    "duration": 11,
    "start_time": "2022-07-22T22:23:11.751Z"
   },
   {
    "duration": 11,
    "start_time": "2022-07-22T22:23:11.763Z"
   },
   {
    "duration": 1167,
    "start_time": "2022-07-22T22:23:11.775Z"
   },
   {
    "duration": 7,
    "start_time": "2022-07-22T22:23:12.943Z"
   },
   {
    "duration": 19,
    "start_time": "2022-07-22T22:23:12.952Z"
   },
   {
    "duration": 10,
    "start_time": "2022-07-22T22:23:12.973Z"
   },
   {
    "duration": 824,
    "start_time": "2022-07-22T22:23:12.984Z"
   },
   {
    "duration": 123,
    "start_time": "2022-07-22T22:23:13.810Z"
   },
   {
    "duration": 122,
    "start_time": "2022-07-22T22:23:13.935Z"
   },
   {
    "duration": 0,
    "start_time": "2022-07-22T22:23:14.059Z"
   },
   {
    "duration": 0,
    "start_time": "2022-07-22T22:23:14.060Z"
   },
   {
    "duration": 0,
    "start_time": "2022-07-22T22:23:14.061Z"
   },
   {
    "duration": 0,
    "start_time": "2022-07-22T22:23:14.062Z"
   },
   {
    "duration": 0,
    "start_time": "2022-07-22T22:23:14.063Z"
   },
   {
    "duration": 0,
    "start_time": "2022-07-22T22:23:14.064Z"
   },
   {
    "duration": 0,
    "start_time": "2022-07-22T22:23:14.065Z"
   },
   {
    "duration": 0,
    "start_time": "2022-07-22T22:23:14.066Z"
   },
   {
    "duration": 0,
    "start_time": "2022-07-22T22:23:14.067Z"
   },
   {
    "duration": 0,
    "start_time": "2022-07-22T22:23:14.069Z"
   },
   {
    "duration": 7,
    "start_time": "2022-07-22T22:25:07.868Z"
   },
   {
    "duration": 5,
    "start_time": "2022-07-22T22:25:32.801Z"
   },
   {
    "duration": 1309,
    "start_time": "2022-07-22T22:26:04.940Z"
   },
   {
    "duration": 16,
    "start_time": "2022-07-22T22:26:06.250Z"
   },
   {
    "duration": 11,
    "start_time": "2022-07-22T22:26:06.268Z"
   },
   {
    "duration": 4,
    "start_time": "2022-07-22T22:26:06.680Z"
   },
   {
    "duration": 11,
    "start_time": "2022-07-22T22:26:07.761Z"
   },
   {
    "duration": 11,
    "start_time": "2022-07-22T22:26:08.482Z"
   },
   {
    "duration": 8,
    "start_time": "2022-07-22T22:27:20.205Z"
   },
   {
    "duration": 9,
    "start_time": "2022-07-22T22:27:20.912Z"
   },
   {
    "duration": 11,
    "start_time": "2022-07-22T22:27:22.202Z"
   },
   {
    "duration": 1085,
    "start_time": "2022-07-22T22:27:51.063Z"
   },
   {
    "duration": 5,
    "start_time": "2022-07-22T22:27:52.854Z"
   },
   {
    "duration": 25,
    "start_time": "2022-07-22T22:27:54.162Z"
   },
   {
    "duration": 18,
    "start_time": "2022-07-22T22:28:15.193Z"
   },
   {
    "duration": 12,
    "start_time": "2022-07-22T22:28:28.939Z"
   },
   {
    "duration": 8,
    "start_time": "2022-07-22T22:28:41.639Z"
   },
   {
    "duration": 101,
    "start_time": "2022-07-22T22:33:24.191Z"
   },
   {
    "duration": 13,
    "start_time": "2022-07-22T22:33:28.713Z"
   },
   {
    "duration": 14,
    "start_time": "2022-07-22T22:33:39.538Z"
   },
   {
    "duration": 8,
    "start_time": "2022-07-22T22:33:49.479Z"
   },
   {
    "duration": 68,
    "start_time": "2022-07-22T22:40:24.414Z"
   },
   {
    "duration": 2,
    "start_time": "2022-07-22T22:41:37.811Z"
   },
   {
    "duration": 60,
    "start_time": "2022-07-22T22:41:42.465Z"
   },
   {
    "duration": 36,
    "start_time": "2022-07-22T22:41:47.745Z"
   },
   {
    "duration": 570,
    "start_time": "2022-07-22T22:41:52.833Z"
   },
   {
    "duration": 504,
    "start_time": "2022-07-22T22:45:25.230Z"
   },
   {
    "duration": 529,
    "start_time": "2022-07-22T22:49:27.317Z"
   },
   {
    "duration": 44,
    "start_time": "2022-07-22T22:50:05.550Z"
   },
   {
    "duration": 602,
    "start_time": "2022-07-22T22:50:19.135Z"
   },
   {
    "duration": 2,
    "start_time": "2022-07-22T22:51:03.593Z"
   },
   {
    "duration": 549,
    "start_time": "2022-07-22T22:51:05.088Z"
   },
   {
    "duration": 2,
    "start_time": "2022-07-22T22:51:11.509Z"
   },
   {
    "duration": 514,
    "start_time": "2022-07-22T22:51:12.835Z"
   },
   {
    "duration": 515,
    "start_time": "2022-07-22T22:52:10.208Z"
   },
   {
    "duration": 71357,
    "start_time": "2022-07-22T23:15:07.997Z"
   },
   {
    "duration": 4,
    "start_time": "2022-07-22T23:17:01.031Z"
   },
   {
    "duration": 3,
    "start_time": "2022-07-22T23:17:07.674Z"
   },
   {
    "duration": 4,
    "start_time": "2022-07-22T23:17:33.962Z"
   },
   {
    "duration": 4,
    "start_time": "2022-07-22T23:17:40.804Z"
   },
   {
    "duration": 3,
    "start_time": "2022-07-22T23:18:52.826Z"
   },
   {
    "duration": 3,
    "start_time": "2022-07-22T23:19:06.884Z"
   },
   {
    "duration": 4,
    "start_time": "2022-07-22T23:19:10.553Z"
   },
   {
    "duration": 3,
    "start_time": "2022-07-22T23:19:14.164Z"
   },
   {
    "duration": 4,
    "start_time": "2022-07-22T23:20:30.294Z"
   },
   {
    "duration": 3,
    "start_time": "2022-07-22T23:20:35.126Z"
   },
   {
    "duration": 3,
    "start_time": "2022-07-22T23:20:38.495Z"
   },
   {
    "duration": 3,
    "start_time": "2022-07-22T23:20:41.207Z"
   },
   {
    "duration": 12,
    "start_time": "2022-07-22T23:23:58.919Z"
   },
   {
    "duration": 88,
    "start_time": "2022-07-22T23:24:07.834Z"
   },
   {
    "duration": 12,
    "start_time": "2022-07-22T23:24:14.349Z"
   },
   {
    "duration": 15,
    "start_time": "2022-07-22T23:24:14.363Z"
   },
   {
    "duration": 4,
    "start_time": "2022-07-22T23:24:14.379Z"
   },
   {
    "duration": 10,
    "start_time": "2022-07-22T23:24:14.385Z"
   },
   {
    "duration": 11,
    "start_time": "2022-07-22T23:24:14.396Z"
   },
   {
    "duration": 1226,
    "start_time": "2022-07-22T23:24:14.408Z"
   },
   {
    "duration": 5,
    "start_time": "2022-07-22T23:24:15.636Z"
   },
   {
    "duration": 18,
    "start_time": "2022-07-22T23:24:15.643Z"
   },
   {
    "duration": 10,
    "start_time": "2022-07-22T23:24:15.663Z"
   },
   {
    "duration": 9,
    "start_time": "2022-07-22T23:24:15.676Z"
   },
   {
    "duration": 7015,
    "start_time": "2022-07-22T23:24:15.687Z"
   },
   {
    "duration": 0,
    "start_time": "2022-07-22T23:24:22.704Z"
   },
   {
    "duration": 0,
    "start_time": "2022-07-22T23:24:22.705Z"
   },
   {
    "duration": 0,
    "start_time": "2022-07-22T23:24:22.706Z"
   },
   {
    "duration": 1345,
    "start_time": "2022-07-22T23:24:25.918Z"
   },
   {
    "duration": 15,
    "start_time": "2022-07-22T23:24:27.265Z"
   },
   {
    "duration": 12,
    "start_time": "2022-07-22T23:24:27.281Z"
   },
   {
    "duration": 4,
    "start_time": "2022-07-22T23:24:27.294Z"
   },
   {
    "duration": 11,
    "start_time": "2022-07-22T23:24:27.300Z"
   },
   {
    "duration": 11,
    "start_time": "2022-07-22T23:24:27.313Z"
   },
   {
    "duration": 1116,
    "start_time": "2022-07-22T23:24:27.325Z"
   },
   {
    "duration": 5,
    "start_time": "2022-07-22T23:24:28.442Z"
   },
   {
    "duration": 13,
    "start_time": "2022-07-22T23:24:28.448Z"
   },
   {
    "duration": 8,
    "start_time": "2022-07-22T23:24:28.463Z"
   },
   {
    "duration": 5,
    "start_time": "2022-07-22T23:24:28.473Z"
   },
   {
    "duration": 71167,
    "start_time": "2022-07-22T23:24:28.479Z"
   },
   {
    "duration": 511,
    "start_time": "2022-07-22T23:25:39.648Z"
   },
   {
    "duration": 4,
    "start_time": "2022-07-22T23:25:40.161Z"
   },
   {
    "duration": 155,
    "start_time": "2022-07-22T23:25:40.166Z"
   },
   {
    "duration": 20,
    "start_time": "2022-07-22T23:25:40.323Z"
   },
   {
    "duration": 0,
    "start_time": "2022-07-22T23:25:40.345Z"
   },
   {
    "duration": 0,
    "start_time": "2022-07-22T23:25:40.346Z"
   },
   {
    "duration": 139,
    "start_time": "2022-07-22T23:33:16.080Z"
   },
   {
    "duration": 70071,
    "start_time": "2022-07-22T23:34:09.115Z"
   },
   {
    "duration": 9,
    "start_time": "2022-07-22T23:36:13.829Z"
   },
   {
    "duration": 11,
    "start_time": "2022-07-22T23:38:16.932Z"
   },
   {
    "duration": 10,
    "start_time": "2022-07-22T23:44:48.615Z"
   },
   {
    "duration": 18,
    "start_time": "2022-07-22T23:44:55.212Z"
   },
   {
    "duration": 6,
    "start_time": "2022-07-22T23:45:12.104Z"
   },
   {
    "duration": 8,
    "start_time": "2022-07-22T23:45:15.947Z"
   },
   {
    "duration": 4,
    "start_time": "2022-07-22T23:50:26.849Z"
   },
   {
    "duration": 4,
    "start_time": "2022-07-22T23:50:37.405Z"
   },
   {
    "duration": 1308,
    "start_time": "2022-07-22T23:50:51.366Z"
   },
   {
    "duration": 16,
    "start_time": "2022-07-22T23:50:52.677Z"
   },
   {
    "duration": 13,
    "start_time": "2022-07-22T23:50:52.694Z"
   },
   {
    "duration": 4,
    "start_time": "2022-07-22T23:50:52.709Z"
   },
   {
    "duration": 14,
    "start_time": "2022-07-22T23:50:52.715Z"
   },
   {
    "duration": 10,
    "start_time": "2022-07-22T23:50:52.731Z"
   },
   {
    "duration": 1188,
    "start_time": "2022-07-22T23:50:52.742Z"
   },
   {
    "duration": 5,
    "start_time": "2022-07-22T23:50:53.931Z"
   },
   {
    "duration": 11,
    "start_time": "2022-07-22T23:50:53.937Z"
   },
   {
    "duration": 8,
    "start_time": "2022-07-22T23:50:53.950Z"
   },
   {
    "duration": 7,
    "start_time": "2022-07-22T23:50:53.960Z"
   },
   {
    "duration": 70899,
    "start_time": "2022-07-22T23:50:53.968Z"
   },
   {
    "duration": 547,
    "start_time": "2022-07-22T23:52:04.868Z"
   },
   {
    "duration": 7,
    "start_time": "2022-07-22T23:52:05.417Z"
   },
   {
    "duration": 9,
    "start_time": "2022-07-22T23:52:05.425Z"
   },
   {
    "duration": 120,
    "start_time": "2022-07-22T23:52:05.436Z"
   },
   {
    "duration": 0,
    "start_time": "2022-07-22T23:52:05.559Z"
   },
   {
    "duration": 0,
    "start_time": "2022-07-22T23:52:05.560Z"
   },
   {
    "duration": 0,
    "start_time": "2022-07-22T23:52:05.561Z"
   },
   {
    "duration": 0,
    "start_time": "2022-07-22T23:52:05.562Z"
   },
   {
    "duration": 0,
    "start_time": "2022-07-22T23:52:05.563Z"
   },
   {
    "duration": 0,
    "start_time": "2022-07-22T23:52:05.564Z"
   },
   {
    "duration": 0,
    "start_time": "2022-07-22T23:52:05.565Z"
   },
   {
    "duration": 0,
    "start_time": "2022-07-22T23:52:05.567Z"
   },
   {
    "duration": 0,
    "start_time": "2022-07-22T23:52:05.568Z"
   },
   {
    "duration": 0,
    "start_time": "2022-07-22T23:52:05.569Z"
   },
   {
    "duration": 0,
    "start_time": "2022-07-22T23:52:05.571Z"
   },
   {
    "duration": 0,
    "start_time": "2022-07-22T23:52:05.572Z"
   },
   {
    "duration": 1385,
    "start_time": "2022-07-23T02:36:43.205Z"
   },
   {
    "duration": 15,
    "start_time": "2022-07-23T02:36:44.592Z"
   },
   {
    "duration": 14,
    "start_time": "2022-07-23T02:36:44.609Z"
   },
   {
    "duration": 4,
    "start_time": "2022-07-23T02:36:44.624Z"
   },
   {
    "duration": 23,
    "start_time": "2022-07-23T02:36:44.630Z"
   },
   {
    "duration": 13,
    "start_time": "2022-07-23T02:36:44.655Z"
   },
   {
    "duration": 1161,
    "start_time": "2022-07-23T02:36:44.670Z"
   },
   {
    "duration": 4,
    "start_time": "2022-07-23T02:36:45.833Z"
   },
   {
    "duration": 12,
    "start_time": "2022-07-23T02:36:45.838Z"
   },
   {
    "duration": 7,
    "start_time": "2022-07-23T02:36:45.851Z"
   },
   {
    "duration": 2,
    "start_time": "2022-07-23T02:36:45.860Z"
   },
   {
    "duration": 40502,
    "start_time": "2022-07-23T02:36:45.864Z"
   },
   {
    "duration": 0,
    "start_time": "2022-07-23T02:37:26.368Z"
   },
   {
    "duration": 0,
    "start_time": "2022-07-23T02:37:26.370Z"
   },
   {
    "duration": 0,
    "start_time": "2022-07-23T02:37:26.371Z"
   },
   {
    "duration": 0,
    "start_time": "2022-07-23T02:37:26.372Z"
   },
   {
    "duration": 0,
    "start_time": "2022-07-23T02:37:26.373Z"
   },
   {
    "duration": 0,
    "start_time": "2022-07-23T02:37:26.374Z"
   },
   {
    "duration": 0,
    "start_time": "2022-07-23T02:37:26.375Z"
   },
   {
    "duration": 1,
    "start_time": "2022-07-23T02:37:26.375Z"
   },
   {
    "duration": 0,
    "start_time": "2022-07-23T02:37:26.377Z"
   },
   {
    "duration": 0,
    "start_time": "2022-07-23T02:37:26.378Z"
   },
   {
    "duration": 0,
    "start_time": "2022-07-23T02:37:26.379Z"
   },
   {
    "duration": 0,
    "start_time": "2022-07-23T02:37:26.380Z"
   },
   {
    "duration": 0,
    "start_time": "2022-07-23T02:37:26.381Z"
   },
   {
    "duration": 0,
    "start_time": "2022-07-23T02:37:26.382Z"
   },
   {
    "duration": 0,
    "start_time": "2022-07-23T02:37:26.383Z"
   },
   {
    "duration": 0,
    "start_time": "2022-07-23T02:37:26.384Z"
   },
   {
    "duration": 0,
    "start_time": "2022-07-23T02:37:26.385Z"
   },
   {
    "duration": 8,
    "start_time": "2022-07-23T02:37:27.579Z"
   },
   {
    "duration": 3,
    "start_time": "2022-07-23T02:37:27.844Z"
   },
   {
    "duration": 81343,
    "start_time": "2022-07-23T02:37:28.545Z"
   },
   {
    "duration": 575,
    "start_time": "2022-07-23T02:38:49.889Z"
   },
   {
    "duration": 4,
    "start_time": "2022-07-23T02:38:50.465Z"
   },
   {
    "duration": 10,
    "start_time": "2022-07-23T02:38:50.471Z"
   },
   {
    "duration": 11,
    "start_time": "2022-07-23T02:38:50.482Z"
   },
   {
    "duration": 0,
    "start_time": "2022-07-23T02:38:50.495Z"
   },
   {
    "duration": 0,
    "start_time": "2022-07-23T02:38:50.496Z"
   },
   {
    "duration": 0,
    "start_time": "2022-07-23T02:38:50.497Z"
   },
   {
    "duration": 0,
    "start_time": "2022-07-23T02:38:50.498Z"
   },
   {
    "duration": 0,
    "start_time": "2022-07-23T02:38:50.500Z"
   },
   {
    "duration": 0,
    "start_time": "2022-07-23T02:38:50.501Z"
   },
   {
    "duration": 0,
    "start_time": "2022-07-23T02:38:50.524Z"
   },
   {
    "duration": 0,
    "start_time": "2022-07-23T02:38:50.525Z"
   },
   {
    "duration": 0,
    "start_time": "2022-07-23T02:38:50.526Z"
   },
   {
    "duration": 0,
    "start_time": "2022-07-23T02:38:50.527Z"
   },
   {
    "duration": 0,
    "start_time": "2022-07-23T02:38:50.528Z"
   },
   {
    "duration": 0,
    "start_time": "2022-07-23T02:38:50.529Z"
   },
   {
    "duration": 3,
    "start_time": "2022-07-23T04:38:02.398Z"
   },
   {
    "duration": 8,
    "start_time": "2022-07-23T04:38:03.784Z"
   },
   {
    "duration": 6,
    "start_time": "2022-07-23T04:38:16.753Z"
   },
   {
    "duration": 1358,
    "start_time": "2022-07-23T04:38:49.985Z"
   },
   {
    "duration": 16,
    "start_time": "2022-07-23T04:38:51.345Z"
   },
   {
    "duration": 11,
    "start_time": "2022-07-23T04:38:51.362Z"
   },
   {
    "duration": 7,
    "start_time": "2022-07-23T04:38:51.375Z"
   },
   {
    "duration": 15,
    "start_time": "2022-07-23T04:38:51.383Z"
   },
   {
    "duration": 19,
    "start_time": "2022-07-23T04:38:51.399Z"
   },
   {
    "duration": 1111,
    "start_time": "2022-07-23T04:38:51.422Z"
   },
   {
    "duration": 5,
    "start_time": "2022-07-23T04:38:52.535Z"
   },
   {
    "duration": 10,
    "start_time": "2022-07-23T04:38:52.541Z"
   },
   {
    "duration": 8,
    "start_time": "2022-07-23T04:38:52.555Z"
   },
   {
    "duration": 9,
    "start_time": "2022-07-23T04:38:52.565Z"
   },
   {
    "duration": 82432,
    "start_time": "2022-07-23T04:38:52.575Z"
   },
   {
    "duration": 594,
    "start_time": "2022-07-23T04:40:15.009Z"
   },
   {
    "duration": 4,
    "start_time": "2022-07-23T04:40:15.604Z"
   },
   {
    "duration": 19,
    "start_time": "2022-07-23T04:40:15.609Z"
   },
   {
    "duration": 117,
    "start_time": "2022-07-23T04:40:15.630Z"
   },
   {
    "duration": 0,
    "start_time": "2022-07-23T04:40:15.749Z"
   },
   {
    "duration": 0,
    "start_time": "2022-07-23T04:40:15.750Z"
   },
   {
    "duration": 0,
    "start_time": "2022-07-23T04:40:15.751Z"
   },
   {
    "duration": 0,
    "start_time": "2022-07-23T04:40:15.753Z"
   },
   {
    "duration": 0,
    "start_time": "2022-07-23T04:40:15.754Z"
   },
   {
    "duration": 0,
    "start_time": "2022-07-23T04:40:15.755Z"
   },
   {
    "duration": 0,
    "start_time": "2022-07-23T04:40:15.757Z"
   },
   {
    "duration": 0,
    "start_time": "2022-07-23T04:40:15.757Z"
   },
   {
    "duration": 0,
    "start_time": "2022-07-23T04:40:15.758Z"
   },
   {
    "duration": 0,
    "start_time": "2022-07-23T04:40:15.759Z"
   },
   {
    "duration": 0,
    "start_time": "2022-07-23T04:40:15.761Z"
   },
   {
    "duration": 0,
    "start_time": "2022-07-23T04:40:15.762Z"
   },
   {
    "duration": 6,
    "start_time": "2022-07-23T06:48:02.858Z"
   },
   {
    "duration": 12,
    "start_time": "2022-07-23T06:48:21.463Z"
   },
   {
    "duration": 10,
    "start_time": "2022-07-23T06:48:32.278Z"
   },
   {
    "duration": 1342,
    "start_time": "2022-07-23T06:48:39.328Z"
   },
   {
    "duration": 16,
    "start_time": "2022-07-23T06:48:40.672Z"
   },
   {
    "duration": 13,
    "start_time": "2022-07-23T06:48:40.690Z"
   },
   {
    "duration": 4,
    "start_time": "2022-07-23T06:48:40.705Z"
   },
   {
    "duration": 21,
    "start_time": "2022-07-23T06:48:40.710Z"
   },
   {
    "duration": 14,
    "start_time": "2022-07-23T06:48:40.732Z"
   },
   {
    "duration": 1193,
    "start_time": "2022-07-23T06:48:40.747Z"
   },
   {
    "duration": 5,
    "start_time": "2022-07-23T06:48:41.942Z"
   },
   {
    "duration": 13,
    "start_time": "2022-07-23T06:48:41.948Z"
   },
   {
    "duration": 8,
    "start_time": "2022-07-23T06:48:41.963Z"
   },
   {
    "duration": 11,
    "start_time": "2022-07-23T06:48:41.972Z"
   },
   {
    "duration": 83262,
    "start_time": "2022-07-23T06:48:41.984Z"
   },
   {
    "duration": 562,
    "start_time": "2022-07-23T06:50:05.248Z"
   },
   {
    "duration": 4,
    "start_time": "2022-07-23T06:50:05.811Z"
   },
   {
    "duration": 15,
    "start_time": "2022-07-23T06:50:05.816Z"
   },
   {
    "duration": 161,
    "start_time": "2022-07-23T06:50:05.832Z"
   },
   {
    "duration": 125,
    "start_time": "2022-07-23T06:50:05.994Z"
   },
   {
    "duration": 0,
    "start_time": "2022-07-23T06:50:06.123Z"
   },
   {
    "duration": 0,
    "start_time": "2022-07-23T06:50:06.124Z"
   },
   {
    "duration": 0,
    "start_time": "2022-07-23T06:50:06.125Z"
   },
   {
    "duration": 0,
    "start_time": "2022-07-23T06:50:06.126Z"
   },
   {
    "duration": 0,
    "start_time": "2022-07-23T06:50:06.128Z"
   },
   {
    "duration": 0,
    "start_time": "2022-07-23T06:50:06.129Z"
   },
   {
    "duration": 0,
    "start_time": "2022-07-23T06:50:06.130Z"
   },
   {
    "duration": 0,
    "start_time": "2022-07-23T06:50:06.130Z"
   },
   {
    "duration": 0,
    "start_time": "2022-07-23T06:50:06.131Z"
   },
   {
    "duration": 0,
    "start_time": "2022-07-23T06:50:06.133Z"
   },
   {
    "duration": 10,
    "start_time": "2022-07-23T06:50:19.712Z"
   },
   {
    "duration": 9,
    "start_time": "2022-07-23T06:51:37.503Z"
   },
   {
    "duration": 5,
    "start_time": "2022-07-23T06:51:39.412Z"
   },
   {
    "duration": 10,
    "start_time": "2022-07-23T06:51:51.903Z"
   },
   {
    "duration": 11,
    "start_time": "2022-07-23T06:51:55.454Z"
   },
   {
    "duration": 11,
    "start_time": "2022-07-23T06:51:59.229Z"
   },
   {
    "duration": 12,
    "start_time": "2022-07-23T06:52:02.956Z"
   },
   {
    "duration": 21,
    "start_time": "2022-07-23T06:52:08.772Z"
   },
   {
    "duration": 11,
    "start_time": "2022-07-23T06:54:01.525Z"
   },
   {
    "duration": 9,
    "start_time": "2022-07-23T06:54:12.408Z"
   },
   {
    "duration": 12,
    "start_time": "2022-07-23T06:54:32.885Z"
   },
   {
    "duration": 11,
    "start_time": "2022-07-23T06:55:01.491Z"
   },
   {
    "duration": 12,
    "start_time": "2022-07-23T06:55:09.416Z"
   },
   {
    "duration": 4,
    "start_time": "2022-07-23T06:55:24.589Z"
   },
   {
    "duration": 14,
    "start_time": "2022-07-23T06:55:27.390Z"
   },
   {
    "duration": 9,
    "start_time": "2022-07-23T06:56:11.101Z"
   },
   {
    "duration": 10,
    "start_time": "2022-07-23T06:56:17.799Z"
   },
   {
    "duration": 223,
    "start_time": "2022-07-23T06:59:16.928Z"
   },
   {
    "duration": 10,
    "start_time": "2022-07-23T06:59:40.653Z"
   },
   {
    "duration": 14,
    "start_time": "2022-07-23T07:00:10.871Z"
   },
   {
    "duration": 11,
    "start_time": "2022-07-23T07:00:15.786Z"
   },
   {
    "duration": 9,
    "start_time": "2022-07-23T07:00:18.993Z"
   },
   {
    "duration": 10,
    "start_time": "2022-07-23T07:00:24.128Z"
   },
   {
    "duration": 10,
    "start_time": "2022-07-23T07:00:28.784Z"
   },
   {
    "duration": 98,
    "start_time": "2022-07-23T07:01:29.150Z"
   },
   {
    "duration": 16,
    "start_time": "2022-07-23T07:01:36.690Z"
   },
   {
    "duration": 78,
    "start_time": "2022-07-23T07:01:47.292Z"
   },
   {
    "duration": 63,
    "start_time": "2022-07-23T07:01:55.648Z"
   },
   {
    "duration": 11,
    "start_time": "2022-07-23T07:02:08.590Z"
   },
   {
    "duration": 7,
    "start_time": "2022-07-23T07:02:24.092Z"
   },
   {
    "duration": 10,
    "start_time": "2022-07-23T07:02:31.157Z"
   },
   {
    "duration": 11,
    "start_time": "2022-07-23T07:03:16.484Z"
   },
   {
    "duration": 12,
    "start_time": "2022-07-23T07:04:16.368Z"
   },
   {
    "duration": 13,
    "start_time": "2022-07-23T07:04:28.190Z"
   },
   {
    "duration": 13,
    "start_time": "2022-07-23T07:04:38.862Z"
   },
   {
    "duration": 62,
    "start_time": "2022-07-23T07:06:09.228Z"
   },
   {
    "duration": 11,
    "start_time": "2022-07-23T07:06:15.187Z"
   },
   {
    "duration": 11,
    "start_time": "2022-07-23T07:06:22.153Z"
   },
   {
    "duration": 17,
    "start_time": "2022-07-23T07:06:26.873Z"
   },
   {
    "duration": 10,
    "start_time": "2022-07-23T07:06:57.772Z"
   },
   {
    "duration": 13,
    "start_time": "2022-07-23T07:07:45.760Z"
   },
   {
    "duration": 11,
    "start_time": "2022-07-23T07:07:53.659Z"
   },
   {
    "duration": 13,
    "start_time": "2022-07-23T07:08:40.381Z"
   },
   {
    "duration": 11,
    "start_time": "2022-07-23T07:09:00.365Z"
   },
   {
    "duration": 11,
    "start_time": "2022-07-23T07:12:59.379Z"
   },
   {
    "duration": 10,
    "start_time": "2022-07-23T07:13:06.619Z"
   },
   {
    "duration": 84,
    "start_time": "2022-07-23T07:15:02.054Z"
   },
   {
    "duration": 75,
    "start_time": "2022-07-23T07:15:31.065Z"
   },
   {
    "duration": 82,
    "start_time": "2022-07-23T07:15:49.787Z"
   },
   {
    "duration": 75,
    "start_time": "2022-07-23T07:16:52.012Z"
   },
   {
    "duration": 75,
    "start_time": "2022-07-23T07:17:03.490Z"
   },
   {
    "duration": 75,
    "start_time": "2022-07-23T07:17:07.622Z"
   },
   {
    "duration": 75,
    "start_time": "2022-07-23T07:17:12.337Z"
   },
   {
    "duration": 76,
    "start_time": "2022-07-23T07:17:15.193Z"
   },
   {
    "duration": 77,
    "start_time": "2022-07-23T07:17:20.770Z"
   },
   {
    "duration": 77,
    "start_time": "2022-07-23T07:17:23.400Z"
   },
   {
    "duration": 80,
    "start_time": "2022-07-23T07:17:31.713Z"
   },
   {
    "duration": 10,
    "start_time": "2022-07-23T07:17:42.659Z"
   },
   {
    "duration": 1368,
    "start_time": "2022-07-23T07:17:57.964Z"
   },
   {
    "duration": 16,
    "start_time": "2022-07-23T07:17:59.334Z"
   },
   {
    "duration": 12,
    "start_time": "2022-07-23T07:17:59.352Z"
   },
   {
    "duration": 4,
    "start_time": "2022-07-23T07:17:59.365Z"
   },
   {
    "duration": 14,
    "start_time": "2022-07-23T07:17:59.371Z"
   },
   {
    "duration": 12,
    "start_time": "2022-07-23T07:17:59.387Z"
   },
   {
    "duration": 1119,
    "start_time": "2022-07-23T07:17:59.424Z"
   },
   {
    "duration": 5,
    "start_time": "2022-07-23T07:18:00.545Z"
   },
   {
    "duration": 19,
    "start_time": "2022-07-23T07:18:00.551Z"
   },
   {
    "duration": 22,
    "start_time": "2022-07-23T07:18:00.571Z"
   },
   {
    "duration": 24,
    "start_time": "2022-07-23T07:18:00.595Z"
   },
   {
    "duration": 82815,
    "start_time": "2022-07-23T07:18:00.621Z"
   },
   {
    "duration": 562,
    "start_time": "2022-07-23T07:19:23.438Z"
   },
   {
    "duration": 110,
    "start_time": "2022-07-23T07:19:24.003Z"
   },
   {
    "duration": 0,
    "start_time": "2022-07-23T07:19:24.115Z"
   },
   {
    "duration": 0,
    "start_time": "2022-07-23T07:19:24.116Z"
   },
   {
    "duration": 0,
    "start_time": "2022-07-23T07:19:24.117Z"
   },
   {
    "duration": 0,
    "start_time": "2022-07-23T07:19:24.123Z"
   },
   {
    "duration": 0,
    "start_time": "2022-07-23T07:19:24.124Z"
   },
   {
    "duration": 0,
    "start_time": "2022-07-23T07:19:24.125Z"
   },
   {
    "duration": 0,
    "start_time": "2022-07-23T07:19:24.126Z"
   },
   {
    "duration": 0,
    "start_time": "2022-07-23T07:19:24.127Z"
   },
   {
    "duration": 0,
    "start_time": "2022-07-23T07:19:24.128Z"
   },
   {
    "duration": 0,
    "start_time": "2022-07-23T07:19:24.129Z"
   },
   {
    "duration": 0,
    "start_time": "2022-07-23T07:19:24.130Z"
   },
   {
    "duration": 0,
    "start_time": "2022-07-23T07:19:24.132Z"
   },
   {
    "duration": 121,
    "start_time": "2022-07-24T07:54:53.441Z"
   },
   {
    "duration": 2723,
    "start_time": "2022-07-24T07:55:04.810Z"
   },
   {
    "duration": 112,
    "start_time": "2022-07-24T07:55:07.536Z"
   },
   {
    "duration": 72,
    "start_time": "2022-07-24T07:55:07.650Z"
   },
   {
    "duration": 19,
    "start_time": "2022-07-24T07:55:07.725Z"
   },
   {
    "duration": 12,
    "start_time": "2022-07-24T07:55:07.747Z"
   },
   {
    "duration": 74,
    "start_time": "2022-07-24T07:55:07.763Z"
   },
   {
    "duration": 23,
    "start_time": "2022-07-24T07:55:07.839Z"
   },
   {
    "duration": 2383,
    "start_time": "2022-07-24T07:55:07.863Z"
   },
   {
    "duration": 7,
    "start_time": "2022-07-24T07:55:10.248Z"
   },
   {
    "duration": 77,
    "start_time": "2022-07-24T07:55:10.257Z"
   },
   {
    "duration": 12,
    "start_time": "2022-07-24T07:55:10.336Z"
   },
   {
    "duration": 7,
    "start_time": "2022-07-24T07:55:10.350Z"
   },
   {
    "duration": 209993,
    "start_time": "2022-07-24T07:55:10.360Z"
   },
   {
    "duration": 1368,
    "start_time": "2022-07-24T07:58:40.357Z"
   },
   {
    "duration": 13,
    "start_time": "2022-07-24T07:58:41.727Z"
   },
   {
    "duration": 326,
    "start_time": "2022-07-24T07:58:41.742Z"
   },
   {
    "duration": 138,
    "start_time": "2022-07-24T07:58:42.123Z"
   },
   {
    "duration": 274,
    "start_time": "2022-07-24T07:58:42.263Z"
   },
   {
    "duration": 0,
    "start_time": "2022-07-24T07:58:42.539Z"
   },
   {
    "duration": 0,
    "start_time": "2022-07-24T07:58:42.541Z"
   },
   {
    "duration": 0,
    "start_time": "2022-07-24T07:58:42.542Z"
   },
   {
    "duration": 0,
    "start_time": "2022-07-24T07:58:42.543Z"
   },
   {
    "duration": 0,
    "start_time": "2022-07-24T07:58:42.544Z"
   },
   {
    "duration": 0,
    "start_time": "2022-07-24T07:58:42.545Z"
   },
   {
    "duration": 0,
    "start_time": "2022-07-24T07:58:42.547Z"
   },
   {
    "duration": 0,
    "start_time": "2022-07-24T07:58:42.548Z"
   },
   {
    "duration": 0,
    "start_time": "2022-07-24T07:58:42.549Z"
   },
   {
    "duration": 7,
    "start_time": "2022-07-24T08:46:04.820Z"
   },
   {
    "duration": 23,
    "start_time": "2022-07-24T08:46:05.644Z"
   },
   {
    "duration": 18,
    "start_time": "2022-07-24T08:46:25.945Z"
   },
   {
    "duration": 167,
    "start_time": "2022-07-24T08:46:45.265Z"
   },
   {
    "duration": 66,
    "start_time": "2022-07-24T08:48:55.359Z"
   },
   {
    "duration": 54,
    "start_time": "2022-07-24T08:49:09.976Z"
   },
   {
    "duration": 38,
    "start_time": "2022-07-24T08:52:01.213Z"
   },
   {
    "duration": 5,
    "start_time": "2022-07-24T09:02:56.538Z"
   },
   {
    "duration": 4,
    "start_time": "2022-07-24T09:03:28.480Z"
   },
   {
    "duration": 12,
    "start_time": "2022-07-24T09:03:41.041Z"
   },
   {
    "duration": 11,
    "start_time": "2022-07-24T09:03:59.282Z"
   },
   {
    "duration": 99,
    "start_time": "2022-07-24T09:04:20.337Z"
   },
   {
    "duration": 60,
    "start_time": "2022-07-24T09:04:32.130Z"
   },
   {
    "duration": 102,
    "start_time": "2022-07-24T09:04:35.121Z"
   },
   {
    "duration": 116,
    "start_time": "2022-07-24T09:04:37.607Z"
   },
   {
    "duration": 15,
    "start_time": "2022-07-24T09:07:43.730Z"
   },
   {
    "duration": 15,
    "start_time": "2022-07-24T09:08:04.770Z"
   },
   {
    "duration": 65,
    "start_time": "2022-07-24T09:08:10.385Z"
   },
   {
    "duration": 5059,
    "start_time": "2022-07-24T09:08:12.198Z"
   },
   {
    "duration": 4,
    "start_time": "2022-07-24T09:08:18.450Z"
   },
   {
    "duration": 4865,
    "start_time": "2022-07-24T09:08:52.097Z"
   },
   {
    "duration": 4816,
    "start_time": "2022-07-24T09:09:14.846Z"
   },
   {
    "duration": 2437,
    "start_time": "2022-07-24T09:09:49.423Z"
   },
   {
    "duration": 2395,
    "start_time": "2022-07-24T09:10:24.516Z"
   },
   {
    "duration": 2417,
    "start_time": "2022-07-24T09:10:42.962Z"
   },
   {
    "duration": 2338,
    "start_time": "2022-07-24T09:11:14.597Z"
   },
   {
    "duration": 2476,
    "start_time": "2022-07-24T09:12:06.249Z"
   },
   {
    "duration": 2482,
    "start_time": "2022-07-24T09:12:30.437Z"
   },
   {
    "duration": 2449,
    "start_time": "2022-07-24T09:12:50.516Z"
   },
   {
    "duration": 7,
    "start_time": "2022-07-24T09:14:01.816Z"
   },
   {
    "duration": 9,
    "start_time": "2022-07-24T09:14:15.485Z"
   },
   {
    "duration": 1097,
    "start_time": "2022-07-24T09:16:45.078Z"
   },
   {
    "duration": 1558,
    "start_time": "2022-07-24T09:17:33.921Z"
   },
   {
    "duration": 1184,
    "start_time": "2022-07-24T09:18:49.892Z"
   },
   {
    "duration": 3196,
    "start_time": "2022-07-24T09:19:00.323Z"
   },
   {
    "duration": 3250,
    "start_time": "2022-07-24T09:19:40.680Z"
   },
   {
    "duration": 5,
    "start_time": "2022-07-24T09:20:12.571Z"
   },
   {
    "duration": 1279,
    "start_time": "2022-07-24T09:20:12.763Z"
   },
   {
    "duration": 4,
    "start_time": "2022-07-24T09:20:14.044Z"
   },
   {
    "duration": 3308,
    "start_time": "2022-07-24T09:20:14.050Z"
   },
   {
    "duration": 3375,
    "start_time": "2022-07-24T09:20:28.154Z"
   },
   {
    "duration": 1268,
    "start_time": "2022-07-24T09:20:43.670Z"
   },
   {
    "duration": 89,
    "start_time": "2022-07-24T09:21:10.600Z"
   },
   {
    "duration": 7,
    "start_time": "2022-07-24T09:21:10.933Z"
   },
   {
    "duration": 2496,
    "start_time": "2022-07-24T09:21:11.105Z"
   },
   {
    "duration": 7,
    "start_time": "2022-07-24T09:21:13.604Z"
   },
   {
    "duration": 2408,
    "start_time": "2022-07-24T09:21:45.646Z"
   },
   {
    "duration": 7,
    "start_time": "2022-07-24T09:21:48.057Z"
   },
   {
    "duration": 2361,
    "start_time": "2022-07-24T09:22:15.021Z"
   },
   {
    "duration": 1204,
    "start_time": "2022-07-24T09:22:40.621Z"
   },
   {
    "duration": 3278,
    "start_time": "2022-07-24T09:22:49.573Z"
   },
   {
    "duration": 170,
    "start_time": "2022-07-24T09:23:53.579Z"
   },
   {
    "duration": 3645,
    "start_time": "2022-07-24T09:26:42.848Z"
   },
   {
    "duration": 3380,
    "start_time": "2022-07-24T09:27:22.072Z"
   },
   {
    "duration": 3546,
    "start_time": "2022-07-24T09:27:30.242Z"
   },
   {
    "duration": 3243,
    "start_time": "2022-07-24T09:29:15.887Z"
   },
   {
    "duration": 1221,
    "start_time": "2022-07-24T09:29:39.503Z"
   },
   {
    "duration": 3199,
    "start_time": "2022-07-24T09:29:47.252Z"
   },
   {
    "duration": 3397,
    "start_time": "2022-07-24T09:30:04.158Z"
   },
   {
    "duration": 3279,
    "start_time": "2022-07-24T09:30:47.290Z"
   },
   {
    "duration": 15,
    "start_time": "2022-07-24T09:32:14.621Z"
   },
   {
    "duration": 23,
    "start_time": "2022-07-24T09:32:44.539Z"
   },
   {
    "duration": 11,
    "start_time": "2022-07-24T09:32:48.800Z"
   },
   {
    "duration": 11,
    "start_time": "2022-07-24T09:32:59.551Z"
   },
   {
    "duration": 4,
    "start_time": "2022-07-24T09:35:27.105Z"
   },
   {
    "duration": 4,
    "start_time": "2022-07-24T09:35:33.391Z"
   },
   {
    "duration": 16,
    "start_time": "2022-07-24T09:36:01.663Z"
   },
   {
    "duration": 94,
    "start_time": "2022-07-24T09:36:38.602Z"
   },
   {
    "duration": 96,
    "start_time": "2022-07-24T09:36:42.727Z"
   },
   {
    "duration": 98,
    "start_time": "2022-07-24T09:36:52.661Z"
   },
   {
    "duration": 9,
    "start_time": "2022-07-24T09:38:38.374Z"
   },
   {
    "duration": 11,
    "start_time": "2022-07-24T09:38:57.957Z"
   },
   {
    "duration": 1639,
    "start_time": "2022-07-24T09:42:34.639Z"
   },
   {
    "duration": 39,
    "start_time": "2022-07-24T09:42:36.280Z"
   },
   {
    "duration": 17,
    "start_time": "2022-07-24T09:42:36.321Z"
   },
   {
    "duration": 15,
    "start_time": "2022-07-24T09:42:36.339Z"
   },
   {
    "duration": 5,
    "start_time": "2022-07-24T09:42:36.356Z"
   },
   {
    "duration": 17,
    "start_time": "2022-07-24T09:42:36.363Z"
   },
   {
    "duration": 12,
    "start_time": "2022-07-24T09:42:36.382Z"
   },
   {
    "duration": 1373,
    "start_time": "2022-07-24T09:42:36.422Z"
   },
   {
    "duration": 7,
    "start_time": "2022-07-24T09:42:37.797Z"
   },
   {
    "duration": 20,
    "start_time": "2022-07-24T09:42:37.805Z"
   },
   {
    "duration": 8,
    "start_time": "2022-07-24T09:42:37.827Z"
   },
   {
    "duration": 29,
    "start_time": "2022-07-24T09:42:37.836Z"
   },
   {
    "duration": 172,
    "start_time": "2022-07-24T09:42:37.867Z"
   },
   {
    "duration": 57,
    "start_time": "2022-07-24T09:42:38.042Z"
   },
   {
    "duration": 210,
    "start_time": "2022-07-24T09:42:38.101Z"
   },
   {
    "duration": 0,
    "start_time": "2022-07-24T09:42:38.312Z"
   },
   {
    "duration": 0,
    "start_time": "2022-07-24T09:42:38.314Z"
   },
   {
    "duration": 0,
    "start_time": "2022-07-24T09:42:38.315Z"
   },
   {
    "duration": 0,
    "start_time": "2022-07-24T09:42:38.316Z"
   },
   {
    "duration": 0,
    "start_time": "2022-07-24T09:42:38.318Z"
   },
   {
    "duration": 0,
    "start_time": "2022-07-24T09:42:38.319Z"
   },
   {
    "duration": 0,
    "start_time": "2022-07-24T09:42:38.320Z"
   },
   {
    "duration": 0,
    "start_time": "2022-07-24T09:42:38.321Z"
   },
   {
    "duration": 0,
    "start_time": "2022-07-24T09:42:38.323Z"
   },
   {
    "duration": 0,
    "start_time": "2022-07-24T09:42:38.324Z"
   },
   {
    "duration": 0,
    "start_time": "2022-07-24T09:42:38.326Z"
   },
   {
    "duration": 0,
    "start_time": "2022-07-24T09:42:38.327Z"
   },
   {
    "duration": 0,
    "start_time": "2022-07-24T09:42:38.328Z"
   },
   {
    "duration": 1515,
    "start_time": "2022-07-24T09:45:05.361Z"
   },
   {
    "duration": 43,
    "start_time": "2022-07-24T09:45:06.878Z"
   },
   {
    "duration": 21,
    "start_time": "2022-07-24T09:45:06.923Z"
   },
   {
    "duration": 46,
    "start_time": "2022-07-24T09:45:06.947Z"
   },
   {
    "duration": 5,
    "start_time": "2022-07-24T09:45:06.995Z"
   },
   {
    "duration": 16,
    "start_time": "2022-07-24T09:45:07.003Z"
   },
   {
    "duration": 14,
    "start_time": "2022-07-24T09:45:07.021Z"
   },
   {
    "duration": 1449,
    "start_time": "2022-07-24T09:45:07.036Z"
   },
   {
    "duration": 7,
    "start_time": "2022-07-24T09:45:08.487Z"
   },
   {
    "duration": 25,
    "start_time": "2022-07-24T09:45:08.499Z"
   },
   {
    "duration": 11,
    "start_time": "2022-07-24T09:45:08.527Z"
   },
   {
    "duration": 5,
    "start_time": "2022-07-24T09:45:08.540Z"
   },
   {
    "duration": 239729,
    "start_time": "2022-07-24T09:45:08.547Z"
   },
   {
    "duration": 1783,
    "start_time": "2022-07-24T09:49:08.278Z"
   },
   {
    "duration": 12,
    "start_time": "2022-07-24T09:49:10.063Z"
   },
   {
    "duration": 194,
    "start_time": "2022-07-24T09:49:10.076Z"
   },
   {
    "duration": 86,
    "start_time": "2022-07-24T09:49:10.271Z"
   },
   {
    "duration": 7,
    "start_time": "2022-07-24T09:49:10.359Z"
   },
   {
    "duration": 2124,
    "start_time": "2022-07-24T09:49:10.368Z"
   },
   {
    "duration": 7,
    "start_time": "2022-07-24T09:49:12.494Z"
   },
   {
    "duration": 20,
    "start_time": "2022-07-24T09:49:12.503Z"
   },
   {
    "duration": 1036,
    "start_time": "2022-07-24T09:49:12.526Z"
   },
   {
    "duration": 4,
    "start_time": "2022-07-24T09:49:13.564Z"
   },
   {
    "duration": 2867,
    "start_time": "2022-07-24T09:49:13.570Z"
   },
   {
    "duration": 148,
    "start_time": "2022-07-24T09:49:16.440Z"
   },
   {
    "duration": 2899,
    "start_time": "2022-07-24T09:49:16.590Z"
   },
   {
    "duration": 9,
    "start_time": "2022-07-24T09:49:19.491Z"
   },
   {
    "duration": 94,
    "start_time": "2022-07-24T09:49:19.504Z"
   }
  ],
  "kernelspec": {
   "display_name": "Python 3 (ipykernel)",
   "language": "python",
   "name": "python3"
  },
  "language_info": {
   "codemirror_mode": {
    "name": "ipython",
    "version": 3
   },
   "file_extension": ".py",
   "mimetype": "text/x-python",
   "name": "python",
   "nbconvert_exporter": "python",
   "pygments_lexer": "ipython3",
   "version": "3.9.7"
  },
  "toc": {
   "base_numbering": 1,
   "nav_menu": {},
   "number_sections": true,
   "sideBar": true,
   "skip_h1_title": true,
   "title_cell": "Table of Contents",
   "title_sidebar": "Contents",
   "toc_cell": false,
   "toc_position": {},
   "toc_section_display": true,
   "toc_window_display": false
  }
 },
 "nbformat": 4,
 "nbformat_minor": 2
}
