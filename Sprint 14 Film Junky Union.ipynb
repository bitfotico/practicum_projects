{
 "cells": [
  {
   "cell_type": "markdown",
   "metadata": {},
   "source": [
    "<div class=\"alert alert-success\">\n",
    "Important: Some of this project is pre-code, and may not fully reflect how my projects would usually look."
   ]
  },
  {
   "cell_type": "markdown",
   "metadata": {},
   "source": [
    "# Project Statement"
   ]
  },
  {
   "cell_type": "markdown",
   "metadata": {},
   "source": [
    "The Film Junky Union, a new edgy community for classic movie enthusiasts, is developing a system for filtering and categorizing movie reviews. The goal is to train a model to automatically detect negative reviews. You'll be using a dataset of IMBD movie reviews with polarity labelling to build a model for classifying positive and negative reviews. It will need to have an F1 score of at least 0.85."
   ]
  },
  {
   "cell_type": "markdown",
   "metadata": {},
   "source": [
    "## Initialization"
   ]
  },
  {
   "cell_type": "code",
   "execution_count": 1,
   "metadata": {},
   "outputs": [
    {
     "ename": "ModuleNotFoundError",
     "evalue": "No module named 'en_core_web_sm'",
     "output_type": "error",
     "traceback": [
      "\u001b[1;31m---------------------------------------------------------------------------\u001b[0m",
      "\u001b[1;31mModuleNotFoundError\u001b[0m                       Traceback (most recent call last)",
      "\u001b[1;32m<ipython-input-1-29aee0444037>\u001b[0m in \u001b[0;36m<module>\u001b[1;34m\u001b[0m\n\u001b[0;32m     20\u001b[0m \u001b[1;32mfrom\u001b[0m \u001b[0mnltk\u001b[0m\u001b[1;33m.\u001b[0m\u001b[0mcorpus\u001b[0m \u001b[1;32mimport\u001b[0m \u001b[0mstopwords\u001b[0m\u001b[1;33m\u001b[0m\u001b[1;33m\u001b[0m\u001b[0m\n\u001b[0;32m     21\u001b[0m \u001b[1;33m\u001b[0m\u001b[0m\n\u001b[1;32m---> 22\u001b[1;33m \u001b[1;32mimport\u001b[0m \u001b[0men_core_web_sm\u001b[0m\u001b[1;33m\u001b[0m\u001b[1;33m\u001b[0m\u001b[0m\n\u001b[0m\u001b[0;32m     23\u001b[0m \u001b[1;32mimport\u001b[0m \u001b[0mre\u001b[0m\u001b[1;33m\u001b[0m\u001b[1;33m\u001b[0m\u001b[0m\n",
      "\u001b[1;31mModuleNotFoundError\u001b[0m: No module named 'en_core_web_sm'"
     ]
    }
   ],
   "source": [
    "import math\n",
    "\n",
    "import numpy as np\n",
    "import pandas as pd\n",
    "\n",
    "import matplotlib\n",
    "import matplotlib.pyplot as plt\n",
    "import matplotlib.dates as mdates\n",
    "import seaborn as sns\n",
    "\n",
    "from tqdm.auto import tqdm\n",
    "\n",
    "import nltk\n",
    "\n",
    "from sklearn.feature_extraction.text import TfidfVectorizer\n",
    "from sklearn.linear_model import LogisticRegression\n",
    "from nltk.stem.wordnet import WordNetLemmatizer\n",
    "from nltk.tokenize import word_tokenize, sent_tokenize\n",
    "\n",
    "from nltk.corpus import stopwords\n",
    "\n",
    "import en_core_web_sm\n",
    "import re"
   ]
  },
  {
   "cell_type": "code",
   "execution_count": null,
   "metadata": {},
   "outputs": [],
   "source": [
    "%matplotlib inline\n",
    "%config InlineBackend.figure_format = 'png'\n",
    "# the next line provides graphs of better quality on HiDPI screens\n",
    "%config InlineBackend.figure_format = 'retina'\n",
    "\n",
    "plt.style.use('seaborn')"
   ]
  },
  {
   "cell_type": "code",
   "execution_count": null,
   "metadata": {},
   "outputs": [],
   "source": [
    "# this is to use progress_apply, read more at https://pypi.org/project/tqdm/#pandas-integration\n",
    "tqdm.pandas()"
   ]
  },
  {
   "cell_type": "markdown",
   "metadata": {},
   "source": [
    "## Load Data"
   ]
  },
  {
   "cell_type": "code",
   "execution_count": null,
   "metadata": {},
   "outputs": [],
   "source": [
    "df_reviews = pd.read_csv('/datasets/imdb_reviews.tsv', sep='\\t', dtype={'votes': 'Int64'})"
   ]
  },
  {
   "cell_type": "code",
   "execution_count": null,
   "metadata": {},
   "outputs": [],
   "source": [
    "df_reviews.head()"
   ]
  },
  {
   "cell_type": "code",
   "execution_count": null,
   "metadata": {},
   "outputs": [],
   "source": [
    "# Dropping unneeded columns\n",
    "df_reviews = df_reviews.drop(['title_type', 'primary_title', 'original_title', 'end_year', 'runtime_minutes', \n",
    "                              'is_adult', 'genres', 'average_rating', 'votes', 'sp', 'idx'], axis=1)\n",
    "df_reviews"
   ]
  },
  {
   "cell_type": "code",
   "execution_count": null,
   "metadata": {},
   "outputs": [],
   "source": [
    "df_reviews.describe()"
   ]
  },
  {
   "cell_type": "markdown",
   "metadata": {},
   "source": [
    "## EDA"
   ]
  },
  {
   "cell_type": "markdown",
   "metadata": {},
   "source": [
    "Let's check the number of movies and reviews over years."
   ]
  },
  {
   "cell_type": "code",
   "execution_count": null,
   "metadata": {},
   "outputs": [],
   "source": [
    "fig, axs = plt.subplots(2, 1, figsize=(16, 8))\n",
    "\n",
    "ax = axs[0]\n",
    "\n",
    "dft1 = df_reviews[['tconst', 'start_year']].drop_duplicates() \\\n",
    "    ['start_year'].value_counts().sort_index()\n",
    "dft1 = dft1.reindex(index=np.arange(dft1.index.min(), max(dft1.index.max(), 2021))).fillna(0)\n",
    "dft1.plot(kind='bar', ax=ax)\n",
    "ax.set_title('Number of Movies Over Years')\n",
    "\n",
    "ax = axs[1]\n",
    "\n",
    "dft2 = df_reviews.groupby(['start_year', 'pos'])['pos'].count().unstack()\n",
    "dft2 = dft2.reindex(index=np.arange(dft2.index.min(), max(dft2.index.max(), 2021))).fillna(0)\n",
    "\n",
    "dft2.plot(kind='bar', stacked=True, label='#reviews (neg, pos)', ax=ax)\n",
    "\n",
    "dft2 = df_reviews['start_year'].value_counts().sort_index()\n",
    "dft2 = dft2.reindex(index=np.arange(dft2.index.min(), max(dft2.index.max(), 2021))).fillna(0)\n",
    "dft3 = (dft2/dft1).fillna(0)\n",
    "axt = ax.twinx()\n",
    "dft3.reset_index(drop=True).rolling(5).mean().plot(color='orange', label='reviews per movie (avg over 5 years)', ax=axt)\n",
    "\n",
    "lines, labels = axt.get_legend_handles_labels()\n",
    "ax.legend(lines, labels, loc='upper left')\n",
    "\n",
    "ax.set_title('Number of Reviews Over Years')\n",
    "\n",
    "fig.tight_layout()"
   ]
  },
  {
   "cell_type": "markdown",
   "metadata": {},
   "source": [
    "The number of movies showed a steady increase from the 1930's up until the mid 1990's, where the number of movies being released increased significantly.\n",
    "\n",
    "After to 2006 there is a rapid decline in movies produced up until 2011, likely year the data was being compiled.\n",
    "\n",
    "The number of reviews also shows a steady increase but is overall much more stable than the rate of movie growth.\n",
    "\n",
    "The rate of negative and positive reviews seems fairly consistent but seems to be getting more positive than negative as the industry learns and grows. Originally about half of all reviews being negative, slowly grows into about 1/3rd being negative as it reaches the 2000s."
   ]
  },
  {
   "cell_type": "markdown",
   "metadata": {},
   "source": [
    "Let's check the distribution of number of reviews per movie with the exact counting and KDE (just to learn how it may differ from the exact counting)"
   ]
  },
  {
   "cell_type": "code",
   "execution_count": null,
   "metadata": {},
   "outputs": [],
   "source": [
    "fig, axs = plt.subplots(1, 2, figsize=(16, 5))\n",
    "\n",
    "ax = axs[0]\n",
    "dft = df_reviews.groupby('tconst')['review'].count() \\\n",
    "    .value_counts() \\\n",
    "    .sort_index()\n",
    "dft.plot.bar(ax=ax)\n",
    "ax.set_title('Bar Plot of #Reviews Per Movie')\n",
    "\n",
    "ax = axs[1]\n",
    "dft = df_reviews.groupby('tconst')['review'].count()\n",
    "sns.kdeplot(dft, ax=ax)\n",
    "ax.set_title('KDE Plot of #Reviews Per Movie')\n",
    "\n",
    "fig.tight_layout()"
   ]
  },
  {
   "cell_type": "markdown",
   "metadata": {},
   "source": [
    "We can see that the number of movies generally populate the 1 - 5 reviews range, meaning that they are not as popular.\n",
    "\n",
    "The number of movies rises again specifically at movies with 30 reviews, indicating that about 400 movies were very popular with review critics.\n",
    "\n",
    "The large peak from 0 - 5 confirms that most movies have this amount of reviews, while only  a handful become popular enough to receive more.\n",
    "\n",
    "These graphs indirectly communicate how difficult it is for most movies to achieve an audience."
   ]
  },
  {
   "cell_type": "code",
   "execution_count": null,
   "metadata": {},
   "outputs": [],
   "source": [
    "df_reviews['pos'].value_counts()"
   ]
  },
  {
   "cell_type": "code",
   "execution_count": null,
   "metadata": {},
   "outputs": [],
   "source": [
    "fig, axs = plt.subplots(1, 2, figsize=(12, 4))\n",
    "\n",
    "ax = axs[0]\n",
    "dft = df_reviews.query('ds_part == \"train\"')['rating'].value_counts().sort_index()\n",
    "dft = dft.reindex(index=np.arange(min(dft.index.min(), 1), max(dft.index.max(), 11))).fillna(0)\n",
    "dft.plot.bar(ax=ax)\n",
    "ax.set_ylim([0, 5000])\n",
    "ax.set_title('The train set: distribution of ratings')\n",
    "\n",
    "ax = axs[1]\n",
    "dft = df_reviews.query('ds_part == \"test\"')['rating'].value_counts().sort_index()\n",
    "dft = dft.reindex(index=np.arange(min(dft.index.min(), 1), max(dft.index.max(), 11))).fillna(0)\n",
    "dft.plot.bar(ax=ax)\n",
    "ax.set_ylim([0, 5000])\n",
    "ax.set_title('The test set: distribution of ratings')\n",
    "\n",
    "fig.tight_layout()"
   ]
  },
  {
   "cell_type": "markdown",
   "metadata": {},
   "source": [
    "The train and test set have a very close disribution of ratings, so a class imbalance won't be an issue here."
   ]
  },
  {
   "cell_type": "markdown",
   "metadata": {},
   "source": [
    "Distribution of negative and positive reviews over the years for two parts of the dataset"
   ]
  },
  {
   "cell_type": "code",
   "execution_count": null,
   "metadata": {},
   "outputs": [],
   "source": [
    "fig, axs = plt.subplots(2, 2, figsize=(16, 8), gridspec_kw=dict(width_ratios=(2, 1), height_ratios=(1, 1)))\n",
    "\n",
    "ax = axs[0][0]\n",
    "\n",
    "dft = df_reviews.query('ds_part == \"train\"').groupby(['start_year', 'pos'])['pos'].count().unstack()\n",
    "dft.index = dft.index.astype('int')\n",
    "dft = dft.reindex(index=np.arange(dft.index.min(), max(dft.index.max(), 2020))).fillna(0)\n",
    "dft.plot(kind='bar', stacked=True, ax=ax)\n",
    "ax.set_title('The train set: number of reviews of different polarities per year')\n",
    "\n",
    "ax = axs[0][1]\n",
    "\n",
    "dft = df_reviews.query('ds_part == \"train\"').groupby(['tconst', 'pos'])['pos'].count().unstack()\n",
    "sns.kdeplot(dft[0], color='blue', label='negative', kernel='epa', ax=ax)\n",
    "sns.kdeplot(dft[1], color='green', label='positive', kernel='epa', ax=ax)\n",
    "ax.legend()\n",
    "ax.set_title('The train set: distribution of different polarities per movie')\n",
    "\n",
    "ax = axs[1][0]\n",
    "\n",
    "dft = df_reviews.query('ds_part == \"test\"').groupby(['start_year', 'pos'])['pos'].count().unstack()\n",
    "dft.index = dft.index.astype('int')\n",
    "dft = dft.reindex(index=np.arange(dft.index.min(), max(dft.index.max(), 2020))).fillna(0)\n",
    "dft.plot(kind='bar', stacked=True, ax=ax)\n",
    "ax.set_title('The test set: number of reviews of different polarities per year')\n",
    "\n",
    "ax = axs[1][1]\n",
    "\n",
    "dft = df_reviews.query('ds_part == \"test\"').groupby(['tconst', 'pos'])['pos'].count().unstack()\n",
    "sns.kdeplot(dft[0], color='blue', label='negative', kernel='epa', ax=ax)\n",
    "sns.kdeplot(dft[1], color='green', label='positive', kernel='epa', ax=ax)\n",
    "ax.legend()\n",
    "ax.set_title('The test set: distribution of different polarities per movie')\n",
    "\n",
    "fig.tight_layout()"
   ]
  },
  {
   "cell_type": "markdown",
   "metadata": {},
   "source": [
    "The distribution for the positive and negative reviews is similar between sets, further ensuring a lack of class imbalance."
   ]
  },
  {
   "cell_type": "markdown",
   "metadata": {},
   "source": [
    "## Evaluation Procedure"
   ]
  },
  {
   "cell_type": "markdown",
   "metadata": {},
   "source": [
    "Composing an evaluation routine which can be used for all models in this project"
   ]
  },
  {
   "cell_type": "code",
   "execution_count": null,
   "metadata": {},
   "outputs": [],
   "source": [
    "import sklearn.metrics as metrics\n",
    "\n",
    "def evaluate_model(model, train_features, train_target, test_features, test_target):\n",
    "    \n",
    "    eval_stats = {}\n",
    "    \n",
    "    fig, axs = plt.subplots(1, 3, figsize=(20, 6)) \n",
    "    \n",
    "    for type, features, target in (('train', train_features, train_target), ('test', test_features, test_target)):\n",
    "        \n",
    "        eval_stats[type] = {}\n",
    "    \n",
    "        pred_target = model.predict(features)\n",
    "        pred_proba = model.predict_proba(features)[:, 1]\n",
    "        \n",
    "        # F1\n",
    "        f1_thresholds = np.arange(0, 1.01, 0.05)\n",
    "        f1_scores = [metrics.f1_score(target, pred_proba>=threshold) for threshold in f1_thresholds]\n",
    "        \n",
    "        # ROC\n",
    "        fpr, tpr, roc_thresholds = metrics.roc_curve(target, pred_proba)\n",
    "        roc_auc = metrics.roc_auc_score(target, pred_proba)    \n",
    "        eval_stats[type]['ROC AUC'] = roc_auc\n",
    "\n",
    "        # PRC\n",
    "        precision, recall, pr_thresholds = metrics.precision_recall_curve(target, pred_proba)\n",
    "        aps = metrics.average_precision_score(target, pred_proba)\n",
    "        eval_stats[type]['APS'] = aps\n",
    "        \n",
    "        if type == 'train':\n",
    "            color = 'blue'\n",
    "        else:\n",
    "            color = 'green'\n",
    "\n",
    "        # F1 Score\n",
    "        ax = axs[0]\n",
    "        max_f1_score_idx = np.argmax(f1_scores)\n",
    "        ax.plot(f1_thresholds, f1_scores, color=color, label=f'{type}, max={f1_scores[max_f1_score_idx]:.2f} @ {f1_thresholds[max_f1_score_idx]:.2f}')\n",
    "        # setting crosses for some thresholds\n",
    "        for threshold in (0.2, 0.4, 0.5, 0.6, 0.8):\n",
    "            closest_value_idx = np.argmin(np.abs(f1_thresholds-threshold))\n",
    "            marker_color = 'orange' if threshold != 0.5 else 'red'\n",
    "            ax.plot(f1_thresholds[closest_value_idx], f1_scores[closest_value_idx], color=marker_color, marker='X', markersize=7)\n",
    "        ax.set_xlim([-0.02, 1.02])    \n",
    "        ax.set_ylim([-0.02, 1.02])\n",
    "        ax.set_xlabel('threshold')\n",
    "        ax.set_ylabel('F1')\n",
    "        ax.legend(loc='lower center')\n",
    "        ax.set_title(f'F1 Score') \n",
    "\n",
    "        # ROC\n",
    "        ax = axs[1]    \n",
    "        ax.plot(fpr, tpr, color=color, label=f'{type}, ROC AUC={roc_auc:.2f}')\n",
    "        # setting crosses for some thresholds\n",
    "        for threshold in (0.2, 0.4, 0.5, 0.6, 0.8):\n",
    "            closest_value_idx = np.argmin(np.abs(roc_thresholds-threshold))\n",
    "            marker_color = 'orange' if threshold != 0.5 else 'red'            \n",
    "            ax.plot(fpr[closest_value_idx], tpr[closest_value_idx], color=marker_color, marker='X', markersize=7)\n",
    "        ax.plot([0, 1], [0, 1], color='grey', linestyle='--')\n",
    "        ax.set_xlim([-0.02, 1.02])    \n",
    "        ax.set_ylim([-0.02, 1.02])\n",
    "        ax.set_xlabel('FPR')\n",
    "        ax.set_ylabel('TPR')\n",
    "        ax.legend(loc='lower center')        \n",
    "        ax.set_title(f'ROC Curve')\n",
    "        \n",
    "        # PRC\n",
    "        ax = axs[2]\n",
    "        ax.plot(recall, precision, color=color, label=f'{type}, AP={aps:.2f}')\n",
    "        # setting crosses for some thresholds\n",
    "        for threshold in (0.2, 0.4, 0.5, 0.6, 0.8):\n",
    "            closest_value_idx = np.argmin(np.abs(pr_thresholds-threshold))\n",
    "            marker_color = 'orange' if threshold != 0.5 else 'red'\n",
    "            ax.plot(recall[closest_value_idx], precision[closest_value_idx], color=marker_color, marker='X', markersize=7)\n",
    "        ax.set_xlim([-0.02, 1.02])    \n",
    "        ax.set_ylim([-0.02, 1.02])\n",
    "        ax.set_xlabel('recall')\n",
    "        ax.set_ylabel('precision')\n",
    "        ax.legend(loc='lower center')\n",
    "        ax.set_title(f'PRC')        \n",
    "\n",
    "        eval_stats[type]['Accuracy'] = metrics.accuracy_score(target, pred_target)\n",
    "        eval_stats[type]['F1'] = metrics.f1_score(target, pred_target)\n",
    "    \n",
    "    df_eval_stats = pd.DataFrame(eval_stats)\n",
    "    df_eval_stats = df_eval_stats.round(2)\n",
    "    df_eval_stats = df_eval_stats.reindex(index=('Accuracy', 'F1', 'APS', 'ROC AUC'))\n",
    "    \n",
    "    print(df_eval_stats)\n",
    "    \n",
    "    return"
   ]
  },
  {
   "cell_type": "markdown",
   "metadata": {},
   "source": [
    "## Normalization"
   ]
  },
  {
   "cell_type": "markdown",
   "metadata": {},
   "source": [
    "We assume all models below accepts texts in lowercase and without any digits, punctuations marks etc."
   ]
  },
  {
   "cell_type": "code",
   "execution_count": null,
   "metadata": {},
   "outputs": [],
   "source": [
    "#moved"
   ]
  },
  {
   "cell_type": "code",
   "execution_count": null,
   "metadata": {},
   "outputs": [],
   "source": [
    "nlp = en_core_web_sm.load(disable=['parser', 'ner'])\n",
    "corpus = df_reviews['review']\n",
    "\n",
    "def clear_text(text):\n",
    "    \n",
    "    for i in text:\n",
    "        pattern = r\"[^a-zA-z']\" \n",
    "        text = re.sub(pattern, \" \", str(text)).split()\n",
    "        text = \" \".join(text)\n",
    "        return text\n",
    "\n",
    "def lemmatize(text):\n",
    "    \n",
    "    for i in text:\n",
    "        doc = nlp(text.lower())\n",
    "        lemmas = [token.lemma_ for token in doc]\n",
    "        return \" \".join(lemmas)"
   ]
  },
  {
   "cell_type": "code",
   "execution_count": null,
   "metadata": {},
   "outputs": [],
   "source": [
    "df_reviews['review_norm'] = corpus.apply(clear_text)"
   ]
  },
  {
   "cell_type": "markdown",
   "metadata": {},
   "source": [
    "## Train / Test Split"
   ]
  },
  {
   "cell_type": "markdown",
   "metadata": {},
   "source": [
    "Luckily, the whole dataset is already divided into train/test one parts. The corresponding flag is 'ds_part'."
   ]
  },
  {
   "cell_type": "code",
   "execution_count": null,
   "metadata": {},
   "outputs": [],
   "source": [
    "df_reviews_train = df_reviews.query('ds_part == \"train\"').copy()\n",
    "df_reviews_test = df_reviews.query('ds_part == \"test\"').copy()\n",
    "\n",
    "X_train = df_reviews_train['review_norm'].to_frame().squeeze()\n",
    "X_test = df_reviews_test['review_norm'].to_frame().squeeze()\n",
    "y_train = df_reviews_train['pos'].to_frame().squeeze()\n",
    "y_test = df_reviews_test['pos'].to_frame().squeeze()\n",
    "\n",
    "print(df_reviews_train.shape)\n",
    "print(df_reviews_test.shape)"
   ]
  },
  {
   "cell_type": "code",
   "execution_count": null,
   "metadata": {},
   "outputs": [],
   "source": [
    "df_reviews_train['review']"
   ]
  },
  {
   "cell_type": "code",
   "execution_count": null,
   "metadata": {},
   "outputs": [],
   "source": [
    "df_reviews_train['review_norm']"
   ]
  },
  {
   "cell_type": "code",
   "execution_count": null,
   "metadata": {},
   "outputs": [],
   "source": [
    "X_train"
   ]
  },
  {
   "cell_type": "markdown",
   "metadata": {},
   "source": [
    "## Working with models"
   ]
  },
  {
   "cell_type": "markdown",
   "metadata": {},
   "source": [
    "### Model 0 - Constant"
   ]
  },
  {
   "cell_type": "code",
   "execution_count": null,
   "metadata": {},
   "outputs": [],
   "source": [
    "from sklearn.dummy import DummyClassifier"
   ]
  },
  {
   "cell_type": "code",
   "execution_count": null,
   "metadata": {},
   "outputs": [],
   "source": [
    "dummy_clf = DummyClassifier()\n",
    "dummy_clf.fit(df_reviews_train.drop('pos', axis=1), df_reviews_train['pos'])\n",
    "dummy_clf.predict(df_reviews_train.drop('pos', axis=1))\n",
    "dummy_clf.score(df_reviews_train.drop('pos', axis=1), df_reviews_train['pos'])"
   ]
  },
  {
   "cell_type": "code",
   "execution_count": null,
   "metadata": {},
   "outputs": [],
   "source": [
    "evaluate_model(dummy_clf, df_reviews_train.drop('pos', axis=1), df_reviews_train['pos'], \n",
    "               df_reviews_test.drop('pos', axis=1), df_reviews_test['pos'])"
   ]
  },
  {
   "cell_type": "markdown",
   "metadata": {},
   "source": [
    "### Model 1 - NLTK, TF-IDF and LR"
   ]
  },
  {
   "cell_type": "markdown",
   "metadata": {},
   "source": [
    "TF-IDF"
   ]
  },
  {
   "cell_type": "code",
   "execution_count": null,
   "metadata": {},
   "outputs": [],
   "source": [
    "def lemmatize(text):\n",
    "    lemmatizer = WordNetLemmatizer()\n",
    "    tokens = word_tokenize(text)\n",
    "    lemmas=[]\n",
    "    for w in tokens:\n",
    "        lemmas.append(lemmatizer.lemmatize(w))\n",
    "        lemmas.append(\" \")\n",
    "    return \"\".join(lemmas)"
   ]
  },
  {
   "cell_type": "code",
   "execution_count": null,
   "metadata": {},
   "outputs": [],
   "source": [
    "# Creating a counter (TfidfVectorizer) and define stop words\n",
    "count_tf_idf = TfidfVectorizer(stop_words=set(stopwords.words('english')))\n",
    "\n",
    "# Defining train features & target\n",
    "X_train_lemm = X_train.progress_apply(lemmatize)\n",
    "X_test_lemm = X_test.progress_apply(lemmatize)\n",
    "\n",
    "X_train_trans = count_tf_idf.fit_transform(X_train_lemm)\n",
    "X_test_trans = count_tf_idf.transform(X_test_lemm)\n",
    "\n",
    "# Defining Logistic Regression Model\n",
    "model_1 = LogisticRegression()\n",
    "model_1.fit(X_train_trans, y_train)"
   ]
  },
  {
   "cell_type": "code",
   "execution_count": null,
   "metadata": {},
   "outputs": [],
   "source": [
    "evaluate_model(model_1, X_train_trans, y_train, X_test_trans, y_test)"
   ]
  },
  {
   "cell_type": "markdown",
   "metadata": {},
   "source": [
    "### Model 2 - spaCy, TF-IDF and LR"
   ]
  },
  {
   "cell_type": "code",
   "execution_count": null,
   "metadata": {},
   "outputs": [],
   "source": [
    "import spacy\n",
    "\n",
    "nlp = spacy.load('en_core_web_sm', disable=['parser', 'ner'])"
   ]
  },
  {
   "cell_type": "code",
   "execution_count": null,
   "metadata": {},
   "outputs": [],
   "source": [
    "# spaCy preprocessing function\n",
    "nlp = en_core_web_sm.load(disable=['parser', 'ner'])\n",
    "\n",
    "def lemmatize_spacy(text):\n",
    "    doc = nlp(text.lower())\n",
    "    lemmas = [token.lemma_ for token in doc]\n",
    "    return \" \".join(lemmas)"
   ]
  },
  {
   "cell_type": "code",
   "execution_count": null,
   "metadata": {},
   "outputs": [],
   "source": [
    "# Creating a counter (TfidfVectorizer) and define stop words\n",
    "count_tf_idf2 = TfidfVectorizer(stop_words=set(stopwords.words('english')))\n",
    "\n",
    "# Defining train features & target\n",
    "X_train_spacy = X_train.progress_apply(lemmatize_spacy)\n",
    "X_test_spacy = X_test.progress_apply(lemmatize_spacy)\n",
    "\n",
    "X_train_trans = count_tf_idf2.fit_transform(X_train_spacy)\n",
    "X_test_trans = count_tf_idf2.transform(X_test_spacy)\n",
    "\n",
    "# Defining Logistic Regression Model\n",
    "model_2 = LogisticRegression()\n",
    "model_2.fit(X_train_trans, y_train)"
   ]
  },
  {
   "cell_type": "code",
   "execution_count": null,
   "metadata": {},
   "outputs": [],
   "source": [
    "evaluate_model(model_2, X_train_trans, y_train, X_test_trans, y_test)"
   ]
  },
  {
   "cell_type": "markdown",
   "metadata": {},
   "source": [
    "### Model 3 - spaCy, TF-IDF and LGBMClassifier"
   ]
  },
  {
   "cell_type": "code",
   "execution_count": null,
   "metadata": {},
   "outputs": [],
   "source": [
    "from lightgbm import LGBMClassifier"
   ]
  },
  {
   "cell_type": "code",
   "execution_count": null,
   "metadata": {},
   "outputs": [],
   "source": [
    "# Creating a LGBM model using previous variables\n",
    "model_3 = LGBMClassifier(num_leaves=12)\n",
    "model_3.fit(X_train_trans, y_train)"
   ]
  },
  {
   "cell_type": "code",
   "execution_count": null,
   "metadata": {},
   "outputs": [],
   "source": [
    "evaluate_model(model_3, X_train_trans, y_train, X_test_trans, y_test)"
   ]
  },
  {
   "cell_type": "markdown",
   "metadata": {},
   "source": [
    "## My Reviews"
   ]
  },
  {
   "cell_type": "code",
   "execution_count": null,
   "metadata": {},
   "outputs": [],
   "source": [
    "my_reviews = pd.DataFrame([\n",
    "    'I did not simply like it, not my kind of movie.',\n",
    "    'Well, I was bored and felt asleep in the middle of the movie.',\n",
    "    'I was really fascinated with the movie',    \n",
    "    'Even the actors looked really old and disinterested, and they got paid to be in the movie. What a soulless cash grab.',\n",
    "    'I didn\\'t expect the reboot to be so good! Writers really cared about the source material',\n",
    "    'The movie had its upsides and downsides, but I feel like overall it\\'s a decent flick. I could see myself going to see it again.',\n",
    "    'What a rotten attempt at a comedy. Not a single joke lands, everyone acts annoying and loud, even kids won\\'t like this!',\n",
    "    'Launching on Netflix was a brave move & I really appreciate being able to binge on episode after episode, of this exciting intelligent new drama.'\n",
    "], columns=['review'])\n",
    "\n",
    "my_reviews['review_norm'] = my_reviews['review'].apply(clear_text)\n",
    "\n",
    "my_reviews"
   ]
  },
  {
   "cell_type": "markdown",
   "metadata": {},
   "source": [
    "### Model 1"
   ]
  },
  {
   "cell_type": "code",
   "execution_count": null,
   "metadata": {},
   "outputs": [],
   "source": [
    "texts = my_reviews['review_norm']\n",
    "\n",
    "my_reviews_pred_prob = model_1.predict_proba(count_tf_idf.transform(texts))[:, 1]\n",
    "\n",
    "for i, review in enumerate(texts.str.slice(0, 100)):\n",
    "    print(f'{my_reviews_pred_prob[i]:.2f}:  {review}')"
   ]
  },
  {
   "cell_type": "markdown",
   "metadata": {},
   "source": [
    "### Model 2"
   ]
  },
  {
   "cell_type": "code",
   "execution_count": null,
   "metadata": {},
   "outputs": [],
   "source": [
    "texts = my_reviews['review_norm']\n",
    "\n",
    "my_reviews_pred_prob = model_2.predict_proba(count_tf_idf2.transform(texts.apply(lambda x: lemmatize_spacy(x))))[:, 1]\n",
    "\n",
    "for i, review in enumerate(texts.str.slice(0, 100)):\n",
    "    print(f'{my_reviews_pred_prob[i]:.2f}:  {review}')"
   ]
  },
  {
   "cell_type": "markdown",
   "metadata": {},
   "source": [
    "### Model 3"
   ]
  },
  {
   "cell_type": "code",
   "execution_count": null,
   "metadata": {},
   "outputs": [],
   "source": [
    "texts = my_reviews['review_norm']\n",
    "\n",
    "my_reviews_pred_prob = model_3.predict_proba(count_tf_idf2.transform(texts.apply(lambda x: lemmatize_spacy(x))))[:, 1]\n",
    "\n",
    "for i, review in enumerate(texts.str.slice(0, 100)):\n",
    "    print(f'{my_reviews_pred_prob[i]:.2f}:  {review}')"
   ]
  },
  {
   "cell_type": "markdown",
   "metadata": {},
   "source": [
    "## Conclusions"
   ]
  },
  {
   "cell_type": "markdown",
   "metadata": {},
   "source": [
    "Models 1 and 2 passed the minimum F1 score, but model 3 did not. This could be due to inadequate hyperparameter tuning.\n",
    "\n",
    "Between the first two models, the first one is better in terms of speed."
   ]
  }
 ],
 "metadata": {
  "ExecuteTimeLog": [
   {
    "duration": 1266,
    "start_time": "2022-08-10T02:33:13.839Z"
   },
   {
    "duration": 17,
    "start_time": "2022-08-10T02:33:15.107Z"
   },
   {
    "duration": 6,
    "start_time": "2022-08-10T02:33:15.126Z"
   },
   {
    "duration": 2607,
    "start_time": "2022-08-10T02:33:15.134Z"
   },
   {
    "duration": 4187,
    "start_time": "2022-08-10T02:33:17.743Z"
   },
   {
    "duration": 814,
    "start_time": "2022-08-10T02:33:21.932Z"
   },
   {
    "duration": 5,
    "start_time": "2022-08-10T02:33:22.748Z"
   },
   {
    "duration": 504,
    "start_time": "2022-08-10T02:33:22.755Z"
   },
   {
    "duration": 4665,
    "start_time": "2022-08-10T02:33:23.260Z"
   },
   {
    "duration": 324,
    "start_time": "2022-08-10T02:33:27.927Z"
   },
   {
    "duration": 46,
    "start_time": "2022-08-10T02:33:28.253Z"
   },
   {
    "duration": 0,
    "start_time": "2022-08-10T02:33:28.301Z"
   },
   {
    "duration": 0,
    "start_time": "2022-08-10T02:33:28.302Z"
   },
   {
    "duration": 0,
    "start_time": "2022-08-10T02:33:28.304Z"
   },
   {
    "duration": 0,
    "start_time": "2022-08-10T02:33:28.305Z"
   },
   {
    "duration": 0,
    "start_time": "2022-08-10T02:33:28.306Z"
   },
   {
    "duration": 0,
    "start_time": "2022-08-10T02:33:28.307Z"
   },
   {
    "duration": 0,
    "start_time": "2022-08-10T02:33:28.308Z"
   },
   {
    "duration": 0,
    "start_time": "2022-08-10T02:33:28.310Z"
   },
   {
    "duration": 0,
    "start_time": "2022-08-10T02:33:28.310Z"
   },
   {
    "duration": 0,
    "start_time": "2022-08-10T02:33:28.312Z"
   },
   {
    "duration": 0,
    "start_time": "2022-08-10T02:33:28.313Z"
   },
   {
    "duration": 0,
    "start_time": "2022-08-10T02:33:28.314Z"
   },
   {
    "duration": 0,
    "start_time": "2022-08-10T02:33:28.315Z"
   },
   {
    "duration": 0,
    "start_time": "2022-08-10T02:33:28.316Z"
   },
   {
    "duration": 0,
    "start_time": "2022-08-10T02:33:28.317Z"
   },
   {
    "duration": 0,
    "start_time": "2022-08-10T02:33:28.319Z"
   },
   {
    "duration": 0,
    "start_time": "2022-08-10T02:33:28.320Z"
   },
   {
    "duration": 0,
    "start_time": "2022-08-10T02:33:28.322Z"
   },
   {
    "duration": 64,
    "start_time": "2022-08-12T13:22:06.600Z"
   },
   {
    "duration": 1467,
    "start_time": "2022-08-12T13:22:12.987Z"
   },
   {
    "duration": 23,
    "start_time": "2022-08-12T13:22:14.457Z"
   },
   {
    "duration": 6,
    "start_time": "2022-08-12T13:22:14.482Z"
   },
   {
    "duration": 3595,
    "start_time": "2022-08-12T13:22:14.491Z"
   },
   {
    "duration": 21,
    "start_time": "2022-08-12T13:22:18.088Z"
   },
   {
    "duration": 4538,
    "start_time": "2022-08-12T13:22:18.111Z"
   },
   {
    "duration": 978,
    "start_time": "2022-08-12T13:22:22.651Z"
   },
   {
    "duration": 8,
    "start_time": "2022-08-12T13:22:23.631Z"
   },
   {
    "duration": 538,
    "start_time": "2022-08-12T13:22:23.641Z"
   },
   {
    "duration": 5583,
    "start_time": "2022-08-12T13:22:24.182Z"
   },
   {
    "duration": 437,
    "start_time": "2022-08-12T13:22:29.768Z"
   },
   {
    "duration": 130,
    "start_time": "2022-08-12T13:22:30.208Z"
   },
   {
    "duration": 0,
    "start_time": "2022-08-12T13:22:30.341Z"
   },
   {
    "duration": 0,
    "start_time": "2022-08-12T13:22:30.343Z"
   },
   {
    "duration": 0,
    "start_time": "2022-08-12T13:22:30.346Z"
   },
   {
    "duration": 0,
    "start_time": "2022-08-12T13:22:30.348Z"
   },
   {
    "duration": 0,
    "start_time": "2022-08-12T13:22:30.349Z"
   },
   {
    "duration": 0,
    "start_time": "2022-08-12T13:22:30.351Z"
   },
   {
    "duration": 0,
    "start_time": "2022-08-12T13:22:30.353Z"
   },
   {
    "duration": 0,
    "start_time": "2022-08-12T13:22:30.354Z"
   },
   {
    "duration": 0,
    "start_time": "2022-08-12T13:22:30.356Z"
   },
   {
    "duration": 0,
    "start_time": "2022-08-12T13:22:30.358Z"
   },
   {
    "duration": 0,
    "start_time": "2022-08-12T13:22:30.359Z"
   },
   {
    "duration": 0,
    "start_time": "2022-08-12T13:22:30.361Z"
   },
   {
    "duration": 0,
    "start_time": "2022-08-12T13:22:30.362Z"
   },
   {
    "duration": 0,
    "start_time": "2022-08-12T13:22:30.363Z"
   },
   {
    "duration": 0,
    "start_time": "2022-08-12T13:22:30.364Z"
   },
   {
    "duration": 0,
    "start_time": "2022-08-12T13:22:30.365Z"
   },
   {
    "duration": 0,
    "start_time": "2022-08-12T13:22:30.367Z"
   },
   {
    "duration": 0,
    "start_time": "2022-08-12T13:22:30.369Z"
   },
   {
    "duration": 77,
    "start_time": "2022-08-12T13:22:49.778Z"
   },
   {
    "duration": 181,
    "start_time": "2022-08-12T13:22:57.906Z"
   },
   {
    "duration": 82,
    "start_time": "2022-08-12T13:23:06.449Z"
   },
   {
    "duration": 30,
    "start_time": "2022-08-12T13:24:11.922Z"
   },
   {
    "duration": 9,
    "start_time": "2022-08-12T13:24:18.804Z"
   },
   {
    "duration": 1964,
    "start_time": "2022-08-12T13:25:22.426Z"
   },
   {
    "duration": 14,
    "start_time": "2022-08-12T13:25:32.686Z"
   },
   {
    "duration": 7,
    "start_time": "2022-08-12T13:25:38.838Z"
   },
   {
    "duration": 7,
    "start_time": "2022-08-12T13:25:53.989Z"
   },
   {
    "duration": 12,
    "start_time": "2022-08-12T13:26:19.589Z"
   },
   {
    "duration": 30,
    "start_time": "2022-08-12T13:26:22.635Z"
   },
   {
    "duration": 6,
    "start_time": "2022-08-12T13:26:44.274Z"
   },
   {
    "duration": 61,
    "start_time": "2022-08-12T13:26:51.667Z"
   },
   {
    "duration": 2302,
    "start_time": "2022-08-12T13:30:27.001Z"
   },
   {
    "duration": 22,
    "start_time": "2022-08-12T13:45:47.497Z"
   },
   {
    "duration": 22,
    "start_time": "2022-08-12T13:46:11.684Z"
   },
   {
    "duration": 9,
    "start_time": "2022-08-12T13:49:27.002Z"
   },
   {
    "duration": 10,
    "start_time": "2022-08-12T13:49:31.098Z"
   },
   {
    "duration": 86770,
    "start_time": "2022-08-12T13:49:52.030Z"
   },
   {
    "duration": 683,
    "start_time": "2022-08-12T13:51:41.449Z"
   },
   {
    "duration": 245,
    "start_time": "2022-08-12T13:51:45.743Z"
   },
   {
    "duration": 3,
    "start_time": "2022-08-12T13:51:58.951Z"
   },
   {
    "duration": 677,
    "start_time": "2022-08-12T13:52:07.353Z"
   },
   {
    "duration": 40,
    "start_time": "2022-08-12T13:52:08.688Z"
   },
   {
    "duration": 20,
    "start_time": "2022-08-12T13:52:26.415Z"
   },
   {
    "duration": 5,
    "start_time": "2022-08-12T13:52:36.824Z"
   },
   {
    "duration": 17,
    "start_time": "2022-08-12T13:53:20.594Z"
   },
   {
    "duration": 20,
    "start_time": "2022-08-12T13:56:14.182Z"
   },
   {
    "duration": 6,
    "start_time": "2022-08-12T14:00:17.449Z"
   },
   {
    "duration": 1169,
    "start_time": "2022-08-12T14:10:34.523Z"
   },
   {
    "duration": 19,
    "start_time": "2022-08-12T14:10:35.694Z"
   },
   {
    "duration": 12,
    "start_time": "2022-08-12T14:10:35.715Z"
   },
   {
    "duration": 867,
    "start_time": "2022-08-12T14:10:35.728Z"
   },
   {
    "duration": 24,
    "start_time": "2022-08-12T14:10:36.598Z"
   },
   {
    "duration": 23,
    "start_time": "2022-08-12T14:10:36.624Z"
   },
   {
    "duration": 54,
    "start_time": "2022-08-12T14:10:36.649Z"
   },
   {
    "duration": 4503,
    "start_time": "2022-08-12T14:10:36.705Z"
   },
   {
    "duration": 909,
    "start_time": "2022-08-12T14:10:41.210Z"
   },
   {
    "duration": 6,
    "start_time": "2022-08-12T14:10:42.121Z"
   },
   {
    "duration": 501,
    "start_time": "2022-08-12T14:10:42.129Z"
   },
   {
    "duration": 5206,
    "start_time": "2022-08-12T14:10:42.632Z"
   },
   {
    "duration": 366,
    "start_time": "2022-08-12T14:10:47.840Z"
   },
   {
    "duration": 83534,
    "start_time": "2022-08-12T14:10:48.210Z"
   },
   {
    "duration": 522,
    "start_time": "2022-08-12T14:12:11.746Z"
   },
   {
    "duration": 18,
    "start_time": "2022-08-12T14:12:12.270Z"
   },
   {
    "duration": 24,
    "start_time": "2022-08-12T14:12:12.290Z"
   },
   {
    "duration": 12,
    "start_time": "2022-08-12T14:12:12.316Z"
   },
   {
    "duration": 17,
    "start_time": "2022-08-12T14:12:12.330Z"
   },
   {
    "duration": 796,
    "start_time": "2022-08-12T14:12:12.367Z"
   },
   {
    "duration": 348,
    "start_time": "2022-08-12T14:12:13.165Z"
   },
   {
    "duration": 0,
    "start_time": "2022-08-12T14:12:13.515Z"
   },
   {
    "duration": 0,
    "start_time": "2022-08-12T14:12:13.516Z"
   },
   {
    "duration": 0,
    "start_time": "2022-08-12T14:12:13.518Z"
   },
   {
    "duration": 0,
    "start_time": "2022-08-12T14:12:13.519Z"
   },
   {
    "duration": 0,
    "start_time": "2022-08-12T14:12:13.520Z"
   },
   {
    "duration": 0,
    "start_time": "2022-08-12T14:12:13.521Z"
   },
   {
    "duration": 0,
    "start_time": "2022-08-12T14:12:13.522Z"
   },
   {
    "duration": 0,
    "start_time": "2022-08-12T14:12:13.523Z"
   },
   {
    "duration": 0,
    "start_time": "2022-08-12T14:12:13.524Z"
   },
   {
    "duration": 0,
    "start_time": "2022-08-12T14:12:13.525Z"
   },
   {
    "duration": 1,
    "start_time": "2022-08-12T14:12:13.526Z"
   },
   {
    "duration": 0,
    "start_time": "2022-08-12T14:12:13.527Z"
   },
   {
    "duration": 0,
    "start_time": "2022-08-12T14:12:13.528Z"
   },
   {
    "duration": 0,
    "start_time": "2022-08-12T14:12:13.529Z"
   },
   {
    "duration": 950,
    "start_time": "2022-08-12T14:19:25.880Z"
   },
   {
    "duration": 29,
    "start_time": "2022-08-12T14:20:22.086Z"
   },
   {
    "duration": 27,
    "start_time": "2022-08-12T14:20:47.520Z"
   },
   {
    "duration": 30,
    "start_time": "2022-08-12T14:21:19.622Z"
   },
   {
    "duration": 101,
    "start_time": "2022-08-12T14:21:37.049Z"
   },
   {
    "duration": 43,
    "start_time": "2022-08-12T14:21:40.971Z"
   },
   {
    "duration": 44,
    "start_time": "2022-08-14T03:20:45.440Z"
   },
   {
    "duration": 1275,
    "start_time": "2022-08-14T03:20:52.709Z"
   },
   {
    "duration": 17,
    "start_time": "2022-08-14T03:20:53.986Z"
   },
   {
    "duration": 2,
    "start_time": "2022-08-14T03:20:54.005Z"
   },
   {
    "duration": 2260,
    "start_time": "2022-08-14T03:20:54.009Z"
   },
   {
    "duration": 17,
    "start_time": "2022-08-14T03:20:56.271Z"
   },
   {
    "duration": 17,
    "start_time": "2022-08-14T03:20:56.289Z"
   },
   {
    "duration": 19,
    "start_time": "2022-08-14T03:20:56.307Z"
   },
   {
    "duration": 4062,
    "start_time": "2022-08-14T03:20:56.328Z"
   },
   {
    "duration": 844,
    "start_time": "2022-08-14T03:21:00.392Z"
   },
   {
    "duration": 6,
    "start_time": "2022-08-14T03:21:01.238Z"
   },
   {
    "duration": 476,
    "start_time": "2022-08-14T03:21:01.246Z"
   },
   {
    "duration": 4385,
    "start_time": "2022-08-14T03:21:01.723Z"
   },
   {
    "duration": 320,
    "start_time": "2022-08-14T03:21:06.110Z"
   },
   {
    "duration": 52000,
    "start_time": "2022-08-14T03:21:06.432Z"
   },
   {
    "duration": 427,
    "start_time": "2022-08-14T03:21:58.434Z"
   },
   {
    "duration": 17,
    "start_time": "2022-08-14T03:21:58.862Z"
   },
   {
    "duration": 34,
    "start_time": "2022-08-14T03:21:58.880Z"
   },
   {
    "duration": 6,
    "start_time": "2022-08-14T03:21:58.915Z"
   },
   {
    "duration": 15,
    "start_time": "2022-08-14T03:21:58.922Z"
   },
   {
    "duration": 1021,
    "start_time": "2022-08-14T03:21:58.939Z"
   },
   {
    "duration": 184,
    "start_time": "2022-08-14T03:21:59.962Z"
   },
   {
    "duration": 18,
    "start_time": "2022-08-14T03:22:00.148Z"
   },
   {
    "duration": 309,
    "start_time": "2022-08-14T03:22:00.167Z"
   },
   {
    "duration": 0,
    "start_time": "2022-08-14T03:22:00.477Z"
   },
   {
    "duration": 0,
    "start_time": "2022-08-14T03:22:00.478Z"
   },
   {
    "duration": 0,
    "start_time": "2022-08-14T03:22:00.480Z"
   },
   {
    "duration": 0,
    "start_time": "2022-08-14T03:22:00.480Z"
   },
   {
    "duration": 0,
    "start_time": "2022-08-14T03:22:00.482Z"
   },
   {
    "duration": 0,
    "start_time": "2022-08-14T03:22:00.483Z"
   },
   {
    "duration": 0,
    "start_time": "2022-08-14T03:22:00.484Z"
   },
   {
    "duration": 0,
    "start_time": "2022-08-14T03:22:00.500Z"
   },
   {
    "duration": 0,
    "start_time": "2022-08-14T03:22:00.501Z"
   },
   {
    "duration": 0,
    "start_time": "2022-08-14T03:22:00.502Z"
   },
   {
    "duration": 0,
    "start_time": "2022-08-14T03:22:00.503Z"
   },
   {
    "duration": 0,
    "start_time": "2022-08-14T03:22:00.504Z"
   },
   {
    "duration": 0,
    "start_time": "2022-08-14T03:22:00.505Z"
   },
   {
    "duration": 0,
    "start_time": "2022-08-14T03:22:00.505Z"
   },
   {
    "duration": 19,
    "start_time": "2022-08-14T03:22:08.497Z"
   },
   {
    "duration": 5,
    "start_time": "2022-08-14T03:22:11.138Z"
   },
   {
    "duration": 4,
    "start_time": "2022-08-14T03:22:17.265Z"
   },
   {
    "duration": 33,
    "start_time": "2022-08-14T03:34:30.610Z"
   },
   {
    "duration": 14,
    "start_time": "2022-08-14T03:37:24.374Z"
   },
   {
    "duration": 31,
    "start_time": "2022-08-14T03:38:21.079Z"
   },
   {
    "duration": 15,
    "start_time": "2022-08-14T03:38:29.124Z"
   },
   {
    "duration": 32,
    "start_time": "2022-08-14T03:38:49.802Z"
   },
   {
    "duration": 4,
    "start_time": "2022-08-14T03:41:47.639Z"
   },
   {
    "duration": 13,
    "start_time": "2022-08-14T03:41:59.755Z"
   },
   {
    "duration": 7022,
    "start_time": "2022-08-14T03:42:08.389Z"
   },
   {
    "duration": 6946,
    "start_time": "2022-08-14T03:42:30.128Z"
   },
   {
    "duration": 6939,
    "start_time": "2022-08-14T03:42:44.610Z"
   },
   {
    "duration": 7895,
    "start_time": "2022-08-14T03:43:07.262Z"
   },
   {
    "duration": 743,
    "start_time": "2022-08-14T03:44:09.533Z"
   },
   {
    "duration": 3,
    "start_time": "2022-08-14T03:51:14.383Z"
   },
   {
    "duration": 20,
    "start_time": "2022-08-14T03:51:30.371Z"
   },
   {
    "duration": 388,
    "start_time": "2022-08-14T03:51:35.456Z"
   },
   {
    "duration": 2,
    "start_time": "2022-08-14T03:51:35.846Z"
   },
   {
    "duration": 3,
    "start_time": "2022-08-14T03:51:36.818Z"
   },
   {
    "duration": 27,
    "start_time": "2022-08-14T03:51:37.375Z"
   },
   {
    "duration": 28,
    "start_time": "2022-08-14T03:51:52.016Z"
   },
   {
    "duration": 17,
    "start_time": "2022-08-14T04:02:35.672Z"
   },
   {
    "duration": 29,
    "start_time": "2022-08-14T04:02:51.781Z"
   },
   {
    "duration": 32,
    "start_time": "2022-08-14T04:07:53.907Z"
   },
   {
    "duration": 29,
    "start_time": "2022-08-14T04:09:09.133Z"
   },
   {
    "duration": 1060,
    "start_time": "2022-08-14T04:09:17.123Z"
   },
   {
    "duration": 20,
    "start_time": "2022-08-14T04:09:18.184Z"
   },
   {
    "duration": 10,
    "start_time": "2022-08-14T04:09:18.205Z"
   },
   {
    "duration": 754,
    "start_time": "2022-08-14T04:09:18.217Z"
   },
   {
    "duration": 29,
    "start_time": "2022-08-14T04:09:18.973Z"
   },
   {
    "duration": 17,
    "start_time": "2022-08-14T04:09:19.004Z"
   },
   {
    "duration": 28,
    "start_time": "2022-08-14T04:09:19.023Z"
   },
   {
    "duration": 3937,
    "start_time": "2022-08-14T04:09:19.053Z"
   },
   {
    "duration": 778,
    "start_time": "2022-08-14T04:09:22.992Z"
   },
   {
    "duration": 6,
    "start_time": "2022-08-14T04:09:23.772Z"
   },
   {
    "duration": 469,
    "start_time": "2022-08-14T04:09:23.780Z"
   },
   {
    "duration": 4232,
    "start_time": "2022-08-14T04:09:24.251Z"
   },
   {
    "duration": 316,
    "start_time": "2022-08-14T04:09:28.484Z"
   },
   {
    "duration": 48494,
    "start_time": "2022-08-14T04:09:28.802Z"
   },
   {
    "duration": 425,
    "start_time": "2022-08-14T04:10:17.297Z"
   },
   {
    "duration": 17,
    "start_time": "2022-08-14T04:10:17.723Z"
   },
   {
    "duration": 26,
    "start_time": "2022-08-14T04:10:17.741Z"
   },
   {
    "duration": 4,
    "start_time": "2022-08-14T04:10:17.768Z"
   },
   {
    "duration": 37,
    "start_time": "2022-08-14T04:10:17.774Z"
   },
   {
    "duration": 982,
    "start_time": "2022-08-14T04:10:17.813Z"
   },
   {
    "duration": 161,
    "start_time": "2022-08-14T04:10:18.799Z"
   },
   {
    "duration": 7864,
    "start_time": "2022-08-14T04:10:18.962Z"
   },
   {
    "duration": 736,
    "start_time": "2022-08-14T04:10:26.827Z"
   },
   {
    "duration": 367,
    "start_time": "2022-08-14T04:10:27.565Z"
   },
   {
    "duration": 3,
    "start_time": "2022-08-14T04:10:27.934Z"
   },
   {
    "duration": 322,
    "start_time": "2022-08-14T04:10:27.939Z"
   },
   {
    "duration": 0,
    "start_time": "2022-08-14T04:10:28.264Z"
   },
   {
    "duration": 0,
    "start_time": "2022-08-14T04:10:28.265Z"
   },
   {
    "duration": 0,
    "start_time": "2022-08-14T04:10:28.266Z"
   },
   {
    "duration": 0,
    "start_time": "2022-08-14T04:10:28.267Z"
   },
   {
    "duration": 0,
    "start_time": "2022-08-14T04:10:28.268Z"
   },
   {
    "duration": 0,
    "start_time": "2022-08-14T04:10:28.268Z"
   },
   {
    "duration": 0,
    "start_time": "2022-08-14T04:10:28.269Z"
   },
   {
    "duration": 0,
    "start_time": "2022-08-14T04:10:28.270Z"
   },
   {
    "duration": 0,
    "start_time": "2022-08-14T04:10:28.271Z"
   },
   {
    "duration": 0,
    "start_time": "2022-08-14T04:10:28.272Z"
   },
   {
    "duration": 0,
    "start_time": "2022-08-14T04:10:28.273Z"
   },
   {
    "duration": 0,
    "start_time": "2022-08-14T04:10:28.274Z"
   },
   {
    "duration": 502,
    "start_time": "2022-08-14T04:11:07.671Z"
   },
   {
    "duration": 7050,
    "start_time": "2022-08-14T04:11:08.174Z"
   },
   {
    "duration": 6,
    "start_time": "2022-08-14T04:11:15.226Z"
   },
   {
    "duration": 80,
    "start_time": "2022-08-14T04:11:15.233Z"
   },
   {
    "duration": 0,
    "start_time": "2022-08-14T04:11:15.315Z"
   },
   {
    "duration": 42,
    "start_time": "2022-08-14T05:23:15.147Z"
   },
   {
    "duration": 19,
    "start_time": "2022-08-14T05:23:53.330Z"
   },
   {
    "duration": 37,
    "start_time": "2022-08-14T05:24:13.918Z"
   },
   {
    "duration": 21,
    "start_time": "2022-08-14T05:24:20.064Z"
   },
   {
    "duration": 29,
    "start_time": "2022-08-14T05:24:29.248Z"
   },
   {
    "duration": 15,
    "start_time": "2022-08-14T05:24:33.997Z"
   },
   {
    "duration": 17,
    "start_time": "2022-08-14T05:24:57.488Z"
   },
   {
    "duration": 56,
    "start_time": "2022-08-14T05:25:05.756Z"
   },
   {
    "duration": 38,
    "start_time": "2022-08-14T05:25:07.755Z"
   },
   {
    "duration": 17,
    "start_time": "2022-08-14T05:25:19.455Z"
   },
   {
    "duration": 20,
    "start_time": "2022-08-14T05:26:06.501Z"
   },
   {
    "duration": 7,
    "start_time": "2022-08-14T05:26:14.499Z"
   },
   {
    "duration": 15,
    "start_time": "2022-08-14T05:26:18.319Z"
   },
   {
    "duration": 15,
    "start_time": "2022-08-14T05:26:27.938Z"
   },
   {
    "duration": 31,
    "start_time": "2022-08-14T05:27:58.231Z"
   },
   {
    "duration": 55,
    "start_time": "2022-08-14T05:29:50.449Z"
   },
   {
    "duration": 35,
    "start_time": "2022-08-14T05:30:54.953Z"
   },
   {
    "duration": 0,
    "start_time": "2022-08-14T05:31:18.400Z"
   },
   {
    "duration": 32,
    "start_time": "2022-08-14T05:31:20.405Z"
   },
   {
    "duration": 1835,
    "start_time": "2022-08-14T05:33:57.496Z"
   },
   {
    "duration": 754,
    "start_time": "2022-08-14T05:34:01.750Z"
   },
   {
    "duration": 35,
    "start_time": "2022-08-14T05:35:06.050Z"
   },
   {
    "duration": 45,
    "start_time": "2022-08-15T22:28:28.441Z"
   },
   {
    "duration": 1324,
    "start_time": "2022-08-15T22:31:19.927Z"
   },
   {
    "duration": 19,
    "start_time": "2022-08-15T22:31:21.253Z"
   },
   {
    "duration": 3,
    "start_time": "2022-08-15T22:31:21.273Z"
   },
   {
    "duration": 2848,
    "start_time": "2022-08-15T22:31:21.278Z"
   },
   {
    "duration": 20,
    "start_time": "2022-08-15T22:31:24.127Z"
   },
   {
    "duration": 15,
    "start_time": "2022-08-15T22:31:24.149Z"
   },
   {
    "duration": 20,
    "start_time": "2022-08-15T22:31:24.166Z"
   },
   {
    "duration": 3936,
    "start_time": "2022-08-15T22:31:24.199Z"
   },
   {
    "duration": 864,
    "start_time": "2022-08-15T22:31:28.137Z"
   },
   {
    "duration": 6,
    "start_time": "2022-08-15T22:31:29.005Z"
   },
   {
    "duration": 458,
    "start_time": "2022-08-15T22:31:29.013Z"
   },
   {
    "duration": 4939,
    "start_time": "2022-08-15T22:31:29.474Z"
   },
   {
    "duration": 332,
    "start_time": "2022-08-15T22:31:34.415Z"
   },
   {
    "duration": 52201,
    "start_time": "2022-08-15T22:31:34.748Z"
   },
   {
    "duration": 794,
    "start_time": "2022-08-15T22:32:26.953Z"
   },
   {
    "duration": 55,
    "start_time": "2022-08-15T22:32:27.749Z"
   },
   {
    "duration": 32,
    "start_time": "2022-08-15T22:32:27.806Z"
   },
   {
    "duration": 9,
    "start_time": "2022-08-15T22:32:27.840Z"
   },
   {
    "duration": 22,
    "start_time": "2022-08-15T22:32:27.851Z"
   },
   {
    "duration": 1264,
    "start_time": "2022-08-15T22:32:27.875Z"
   },
   {
    "duration": 564,
    "start_time": "2022-08-15T22:32:29.146Z"
   },
   {
    "duration": 1764,
    "start_time": "2022-08-15T22:32:29.712Z"
   },
   {
    "duration": 0,
    "start_time": "2022-08-15T22:32:31.480Z"
   },
   {
    "duration": 0,
    "start_time": "2022-08-15T22:32:31.482Z"
   },
   {
    "duration": 0,
    "start_time": "2022-08-15T22:32:31.483Z"
   },
   {
    "duration": 0,
    "start_time": "2022-08-15T22:32:31.485Z"
   },
   {
    "duration": 0,
    "start_time": "2022-08-15T22:32:31.501Z"
   },
   {
    "duration": 0,
    "start_time": "2022-08-15T22:32:31.503Z"
   },
   {
    "duration": 0,
    "start_time": "2022-08-15T22:32:31.505Z"
   },
   {
    "duration": 0,
    "start_time": "2022-08-15T22:32:31.506Z"
   },
   {
    "duration": 0,
    "start_time": "2022-08-15T22:32:31.508Z"
   },
   {
    "duration": 0,
    "start_time": "2022-08-15T22:32:31.509Z"
   },
   {
    "duration": 0,
    "start_time": "2022-08-15T22:32:31.510Z"
   },
   {
    "duration": 0,
    "start_time": "2022-08-15T22:32:31.511Z"
   },
   {
    "duration": 0,
    "start_time": "2022-08-15T22:32:31.512Z"
   },
   {
    "duration": 0,
    "start_time": "2022-08-15T22:32:31.513Z"
   },
   {
    "duration": 0,
    "start_time": "2022-08-15T22:32:31.514Z"
   },
   {
    "duration": 0,
    "start_time": "2022-08-15T22:32:31.515Z"
   },
   {
    "duration": 0,
    "start_time": "2022-08-15T22:32:31.516Z"
   },
   {
    "duration": 27,
    "start_time": "2022-08-15T22:32:49.092Z"
   },
   {
    "duration": 29,
    "start_time": "2022-08-15T22:33:30.863Z"
   },
   {
    "duration": 28,
    "start_time": "2022-08-15T22:33:37.352Z"
   },
   {
    "duration": 42,
    "start_time": "2022-08-15T22:33:51.423Z"
   },
   {
    "duration": 19,
    "start_time": "2022-08-15T22:37:26.091Z"
   },
   {
    "duration": 4,
    "start_time": "2022-08-15T22:37:30.660Z"
   },
   {
    "duration": 20,
    "start_time": "2022-08-15T22:37:30.921Z"
   },
   {
    "duration": 824,
    "start_time": "2022-08-15T22:37:31.221Z"
   },
   {
    "duration": 4,
    "start_time": "2022-08-15T22:37:35.568Z"
   },
   {
    "duration": 1803,
    "start_time": "2022-08-15T22:37:35.932Z"
   },
   {
    "duration": 0,
    "start_time": "2022-08-15T22:37:37.737Z"
   },
   {
    "duration": 24,
    "start_time": "2022-08-15T22:38:25.490Z"
   },
   {
    "duration": 20,
    "start_time": "2022-08-15T22:39:58.561Z"
   },
   {
    "duration": 1865,
    "start_time": "2022-08-15T22:40:02.226Z"
   },
   {
    "duration": 24,
    "start_time": "2022-08-15T22:40:28.841Z"
   },
   {
    "duration": 2133,
    "start_time": "2022-08-15T22:40:31.792Z"
   },
   {
    "duration": 1879,
    "start_time": "2022-08-15T22:41:28.431Z"
   },
   {
    "duration": 399,
    "start_time": "2022-08-15T22:41:32.931Z"
   },
   {
    "duration": 22,
    "start_time": "2022-08-15T22:42:31.203Z"
   },
   {
    "duration": 2610,
    "start_time": "2022-08-15T22:42:57.929Z"
   },
   {
    "duration": 860,
    "start_time": "2022-08-15T22:43:41.400Z"
   },
   {
    "duration": 3,
    "start_time": "2022-08-15T22:46:25.392Z"
   },
   {
    "duration": 19,
    "start_time": "2022-08-15T22:48:02.492Z"
   },
   {
    "duration": 5,
    "start_time": "2022-08-15T22:48:07.282Z"
   },
   {
    "duration": 260,
    "start_time": "2022-08-15T22:48:09.129Z"
   },
   {
    "duration": 3,
    "start_time": "2022-08-15T22:48:24.897Z"
   },
   {
    "duration": 247,
    "start_time": "2022-08-15T22:48:26.944Z"
   },
   {
    "duration": 3,
    "start_time": "2022-08-15T22:48:44.291Z"
   },
   {
    "duration": 31689,
    "start_time": "2022-08-15T22:48:45.528Z"
   },
   {
    "duration": 661,
    "start_time": "2022-08-15T22:49:30.609Z"
   },
   {
    "duration": 2162,
    "start_time": "2022-08-15T22:50:38.989Z"
   },
   {
    "duration": 746,
    "start_time": "2022-08-15T22:50:41.359Z"
   },
   {
    "duration": 1918,
    "start_time": "2022-08-15T22:50:59.522Z"
   },
   {
    "duration": 827,
    "start_time": "2022-08-15T22:51:01.442Z"
   },
   {
    "duration": 1858,
    "start_time": "2022-08-15T22:53:55.032Z"
   },
   {
    "duration": 0,
    "start_time": "2022-08-15T22:53:56.892Z"
   },
   {
    "duration": 1164,
    "start_time": "2022-08-15T22:54:18.999Z"
   },
   {
    "duration": 18,
    "start_time": "2022-08-15T22:54:20.165Z"
   },
   {
    "duration": 7,
    "start_time": "2022-08-15T22:54:20.184Z"
   },
   {
    "duration": 803,
    "start_time": "2022-08-15T22:54:20.192Z"
   },
   {
    "duration": 19,
    "start_time": "2022-08-15T22:54:20.998Z"
   },
   {
    "duration": 27,
    "start_time": "2022-08-15T22:54:21.019Z"
   },
   {
    "duration": 26,
    "start_time": "2022-08-15T22:54:21.048Z"
   },
   {
    "duration": 3890,
    "start_time": "2022-08-15T22:54:21.076Z"
   },
   {
    "duration": 794,
    "start_time": "2022-08-15T22:54:24.968Z"
   },
   {
    "duration": 6,
    "start_time": "2022-08-15T22:54:25.764Z"
   },
   {
    "duration": 475,
    "start_time": "2022-08-15T22:54:25.772Z"
   },
   {
    "duration": 4463,
    "start_time": "2022-08-15T22:54:26.249Z"
   },
   {
    "duration": 353,
    "start_time": "2022-08-15T22:54:30.714Z"
   },
   {
    "duration": 50981,
    "start_time": "2022-08-15T22:54:31.070Z"
   },
   {
    "duration": 450,
    "start_time": "2022-08-15T22:55:22.053Z"
   },
   {
    "duration": 16,
    "start_time": "2022-08-15T22:55:22.504Z"
   },
   {
    "duration": 26,
    "start_time": "2022-08-15T22:55:22.522Z"
   },
   {
    "duration": 5,
    "start_time": "2022-08-15T22:55:22.549Z"
   },
   {
    "duration": 21,
    "start_time": "2022-08-15T22:55:22.555Z"
   },
   {
    "duration": 1049,
    "start_time": "2022-08-15T22:55:22.599Z"
   },
   {
    "duration": 179,
    "start_time": "2022-08-15T22:55:23.650Z"
   },
   {
    "duration": 1919,
    "start_time": "2022-08-15T22:55:23.831Z"
   },
   {
    "duration": 745,
    "start_time": "2022-08-15T22:55:25.751Z"
   },
   {
    "duration": 388,
    "start_time": "2022-08-15T22:55:26.500Z"
   },
   {
    "duration": 3,
    "start_time": "2022-08-15T22:55:26.890Z"
   },
   {
    "duration": 2074,
    "start_time": "2022-08-15T22:55:26.901Z"
   },
   {
    "duration": 0,
    "start_time": "2022-08-15T22:55:28.976Z"
   },
   {
    "duration": 0,
    "start_time": "2022-08-15T22:55:28.977Z"
   },
   {
    "duration": 0,
    "start_time": "2022-08-15T22:55:28.979Z"
   },
   {
    "duration": 0,
    "start_time": "2022-08-15T22:55:28.980Z"
   },
   {
    "duration": 0,
    "start_time": "2022-08-15T22:55:28.981Z"
   },
   {
    "duration": 0,
    "start_time": "2022-08-15T22:55:28.982Z"
   },
   {
    "duration": 0,
    "start_time": "2022-08-15T22:55:28.983Z"
   },
   {
    "duration": 0,
    "start_time": "2022-08-15T22:55:28.984Z"
   },
   {
    "duration": 0,
    "start_time": "2022-08-15T22:55:29.000Z"
   },
   {
    "duration": 0,
    "start_time": "2022-08-15T22:55:29.002Z"
   },
   {
    "duration": 0,
    "start_time": "2022-08-15T22:55:29.003Z"
   },
   {
    "duration": 0,
    "start_time": "2022-08-15T22:55:29.004Z"
   },
   {
    "duration": 0,
    "start_time": "2022-08-15T22:55:29.005Z"
   },
   {
    "duration": 1837,
    "start_time": "2022-08-15T22:57:07.840Z"
   },
   {
    "duration": 1990,
    "start_time": "2022-08-15T22:58:04.413Z"
   },
   {
    "duration": 815,
    "start_time": "2022-08-15T22:58:08.518Z"
   },
   {
    "duration": 378,
    "start_time": "2022-08-15T22:59:15.335Z"
   },
   {
    "duration": 382,
    "start_time": "2022-08-15T23:01:06.562Z"
   },
   {
    "duration": 41368,
    "start_time": "2022-08-15T23:01:06.946Z"
   },
   {
    "duration": 0,
    "start_time": "2022-08-15T23:01:48.316Z"
   },
   {
    "duration": 4,
    "start_time": "2022-08-15T23:02:45.495Z"
   },
   {
    "duration": 31949,
    "start_time": "2022-08-15T23:02:46.143Z"
   },
   {
    "duration": 772,
    "start_time": "2022-08-15T23:03:18.099Z"
   },
   {
    "duration": 22,
    "start_time": "2022-08-15T23:07:31.058Z"
   },
   {
    "duration": 813,
    "start_time": "2022-08-15T23:07:31.577Z"
   },
   {
    "duration": 404,
    "start_time": "2022-08-15T23:07:33.951Z"
   },
   {
    "duration": 326149,
    "start_time": "2022-08-15T23:07:34.357Z"
   },
   {
    "duration": 779,
    "start_time": "2022-08-15T23:13:00.507Z"
   },
   {
    "duration": 421,
    "start_time": "2022-08-15T23:14:36.984Z"
   },
   {
    "duration": 106,
    "start_time": "2022-08-15T23:14:37.407Z"
   },
   {
    "duration": 21,
    "start_time": "2022-08-15T23:14:37.514Z"
   },
   {
    "duration": 805,
    "start_time": "2022-08-15T23:15:00.341Z"
   },
   {
    "duration": 709,
    "start_time": "2022-08-15T23:15:07.950Z"
   },
   {
    "duration": 10408,
    "start_time": "2022-08-15T23:15:08.661Z"
   },
   {
    "duration": 5,
    "start_time": "2022-08-15T23:15:19.071Z"
   },
   {
    "duration": 8,
    "start_time": "2022-08-15T23:15:23.873Z"
   },
   {
    "duration": 79,
    "start_time": "2022-08-15T23:15:24.296Z"
   },
   {
    "duration": 3,
    "start_time": "2022-08-15T23:16:23.623Z"
   },
   {
    "duration": 95,
    "start_time": "2022-08-15T23:19:02.473Z"
   },
   {
    "duration": 10,
    "start_time": "2022-08-15T23:19:15.817Z"
   },
   {
    "duration": 22,
    "start_time": "2022-08-15T23:19:36.113Z"
   },
   {
    "duration": 21,
    "start_time": "2022-08-15T23:19:37.213Z"
   },
   {
    "duration": 7,
    "start_time": "2022-08-15T23:20:10.392Z"
   },
   {
    "duration": 53,
    "start_time": "2022-08-15T23:20:19.161Z"
   },
   {
    "duration": 27,
    "start_time": "2022-08-15T23:20:38.311Z"
   },
   {
    "duration": 8,
    "start_time": "2022-08-15T23:20:54.632Z"
   },
   {
    "duration": 41,
    "start_time": "2022-08-15T23:20:56.892Z"
   },
   {
    "duration": 33,
    "start_time": "2022-08-15T23:21:04.552Z"
   },
   {
    "duration": 1080,
    "start_time": "2022-08-15T23:24:21.531Z"
   },
   {
    "duration": 16,
    "start_time": "2022-08-15T23:24:22.613Z"
   },
   {
    "duration": 6,
    "start_time": "2022-08-15T23:24:22.630Z"
   },
   {
    "duration": 753,
    "start_time": "2022-08-15T23:24:22.637Z"
   },
   {
    "duration": 21,
    "start_time": "2022-08-15T23:24:23.392Z"
   },
   {
    "duration": 22,
    "start_time": "2022-08-15T23:24:23.415Z"
   },
   {
    "duration": 32,
    "start_time": "2022-08-15T23:24:23.439Z"
   },
   {
    "duration": 3885,
    "start_time": "2022-08-15T23:24:23.473Z"
   },
   {
    "duration": 813,
    "start_time": "2022-08-15T23:24:27.360Z"
   },
   {
    "duration": 7,
    "start_time": "2022-08-15T23:24:28.177Z"
   },
   {
    "duration": 462,
    "start_time": "2022-08-15T23:24:28.200Z"
   },
   {
    "duration": 4547,
    "start_time": "2022-08-15T23:24:28.664Z"
   },
   {
    "duration": 349,
    "start_time": "2022-08-15T23:24:33.213Z"
   },
   {
    "duration": 56630,
    "start_time": "2022-08-15T23:24:33.564Z"
   },
   {
    "duration": 474,
    "start_time": "2022-08-15T23:25:30.196Z"
   },
   {
    "duration": 18,
    "start_time": "2022-08-15T23:25:30.672Z"
   },
   {
    "duration": 34,
    "start_time": "2022-08-15T23:25:30.701Z"
   },
   {
    "duration": 6,
    "start_time": "2022-08-15T23:25:30.737Z"
   },
   {
    "duration": 23,
    "start_time": "2022-08-15T23:25:30.744Z"
   },
   {
    "duration": 1133,
    "start_time": "2022-08-15T23:25:30.768Z"
   },
   {
    "duration": 189,
    "start_time": "2022-08-15T23:25:31.903Z"
   },
   {
    "duration": 7,
    "start_time": "2022-08-15T23:25:32.094Z"
   },
   {
    "duration": 31421,
    "start_time": "2022-08-15T23:25:32.103Z"
   },
   {
    "duration": 765,
    "start_time": "2022-08-15T23:26:03.525Z"
   },
   {
    "duration": 428,
    "start_time": "2022-08-15T23:26:04.291Z"
   },
   {
    "duration": 459,
    "start_time": "2022-08-15T23:26:04.721Z"
   },
   {
    "duration": 1331,
    "start_time": "2022-08-16T15:31:00.117Z"
   },
   {
    "duration": 20,
    "start_time": "2022-08-16T15:31:01.450Z"
   },
   {
    "duration": 3,
    "start_time": "2022-08-16T15:31:01.471Z"
   },
   {
    "duration": 3364,
    "start_time": "2022-08-16T15:31:01.476Z"
   },
   {
    "duration": 20,
    "start_time": "2022-08-16T15:31:04.842Z"
   },
   {
    "duration": 20,
    "start_time": "2022-08-16T15:31:04.865Z"
   },
   {
    "duration": 24,
    "start_time": "2022-08-16T15:31:04.886Z"
   },
   {
    "duration": 4417,
    "start_time": "2022-08-16T15:31:04.911Z"
   },
   {
    "duration": 885,
    "start_time": "2022-08-16T15:31:09.330Z"
   },
   {
    "duration": 7,
    "start_time": "2022-08-16T15:31:10.217Z"
   },
   {
    "duration": 473,
    "start_time": "2022-08-16T15:31:10.226Z"
   },
   {
    "duration": 4990,
    "start_time": "2022-08-16T15:31:10.701Z"
   },
   {
    "duration": 376,
    "start_time": "2022-08-16T15:31:15.693Z"
   },
   {
    "duration": 110093,
    "start_time": "2022-08-16T15:31:16.072Z"
   },
   {
    "duration": 509,
    "start_time": "2022-08-16T15:33:06.167Z"
   },
   {
    "duration": 27,
    "start_time": "2022-08-16T15:33:06.678Z"
   },
   {
    "duration": 28,
    "start_time": "2022-08-16T15:33:06.707Z"
   },
   {
    "duration": 4,
    "start_time": "2022-08-16T15:33:06.736Z"
   },
   {
    "duration": 15,
    "start_time": "2022-08-16T15:33:06.742Z"
   },
   {
    "duration": 1114,
    "start_time": "2022-08-16T15:33:06.759Z"
   },
   {
    "duration": 204,
    "start_time": "2022-08-16T15:33:07.875Z"
   },
   {
    "duration": 12,
    "start_time": "2022-08-16T15:33:08.081Z"
   },
   {
    "duration": 37580,
    "start_time": "2022-08-16T15:33:08.096Z"
   },
   {
    "duration": 917,
    "start_time": "2022-08-16T15:33:45.681Z"
   },
   {
    "duration": 4,
    "start_time": "2022-08-16T15:33:55.438Z"
   },
   {
    "duration": 4,
    "start_time": "2022-08-16T15:33:59.577Z"
   },
   {
    "duration": 352,
    "start_time": "2022-08-16T15:34:11.236Z"
   },
   {
    "duration": 20,
    "start_time": "2022-08-16T15:34:14.440Z"
   },
   {
    "duration": 18,
    "start_time": "2022-08-16T15:34:19.124Z"
   },
   {
    "duration": 5,
    "start_time": "2022-08-16T15:34:23.221Z"
   },
   {
    "duration": 4,
    "start_time": "2022-08-16T15:34:26.912Z"
   },
   {
    "duration": 8,
    "start_time": "2022-08-16T15:34:52.479Z"
   },
   {
    "duration": 6,
    "start_time": "2022-08-16T15:35:07.803Z"
   },
   {
    "duration": 5,
    "start_time": "2022-08-16T15:35:17.569Z"
   },
   {
    "duration": 6,
    "start_time": "2022-08-16T15:35:24.963Z"
   },
   {
    "duration": 5,
    "start_time": "2022-08-16T15:35:47.627Z"
   },
   {
    "duration": 6,
    "start_time": "2022-08-16T15:36:36.329Z"
   },
   {
    "duration": 94752,
    "start_time": "2022-08-16T22:01:38.230Z"
   },
   {
    "duration": 37,
    "start_time": "2022-08-16T22:03:12.985Z"
   },
   {
    "duration": 9,
    "start_time": "2022-08-16T22:03:13.023Z"
   },
   {
    "duration": 4415,
    "start_time": "2022-08-16T22:03:13.035Z"
   },
   {
    "duration": 22,
    "start_time": "2022-08-16T22:03:17.452Z"
   },
   {
    "duration": 22,
    "start_time": "2022-08-16T22:03:17.475Z"
   },
   {
    "duration": 26,
    "start_time": "2022-08-16T22:03:17.511Z"
   },
   {
    "duration": 5115,
    "start_time": "2022-08-16T22:03:17.539Z"
   },
   {
    "duration": 1070,
    "start_time": "2022-08-16T22:03:22.657Z"
   },
   {
    "duration": 6,
    "start_time": "2022-08-16T22:03:23.730Z"
   },
   {
    "duration": 576,
    "start_time": "2022-08-16T22:03:23.739Z"
   },
   {
    "duration": 5737,
    "start_time": "2022-08-16T22:03:24.318Z"
   },
   {
    "duration": 19,
    "start_time": "2022-08-16T22:03:30.056Z"
   },
   {
    "duration": 51,
    "start_time": "2022-08-16T22:03:30.077Z"
   },
   {
    "duration": 546,
    "start_time": "2022-08-16T22:03:30.130Z"
   },
   {
    "duration": 2,
    "start_time": "2022-08-16T22:03:30.678Z"
   },
   {
    "duration": 1956,
    "start_time": "2022-08-16T22:03:30.681Z"
   },
   {
    "duration": 0,
    "start_time": "2022-08-16T22:03:32.639Z"
   },
   {
    "duration": 0,
    "start_time": "2022-08-16T22:03:32.641Z"
   },
   {
    "duration": 0,
    "start_time": "2022-08-16T22:03:32.642Z"
   },
   {
    "duration": 0,
    "start_time": "2022-08-16T22:03:32.643Z"
   },
   {
    "duration": 0,
    "start_time": "2022-08-16T22:03:32.644Z"
   },
   {
    "duration": 0,
    "start_time": "2022-08-16T22:03:32.646Z"
   },
   {
    "duration": 0,
    "start_time": "2022-08-16T22:03:32.647Z"
   },
   {
    "duration": 0,
    "start_time": "2022-08-16T22:03:32.648Z"
   },
   {
    "duration": 0,
    "start_time": "2022-08-16T22:03:32.649Z"
   },
   {
    "duration": 0,
    "start_time": "2022-08-16T22:03:32.651Z"
   },
   {
    "duration": 0,
    "start_time": "2022-08-16T22:03:32.652Z"
   },
   {
    "duration": 0,
    "start_time": "2022-08-16T22:03:32.654Z"
   },
   {
    "duration": 0,
    "start_time": "2022-08-16T22:03:32.655Z"
   },
   {
    "duration": 0,
    "start_time": "2022-08-16T22:03:32.656Z"
   },
   {
    "duration": 0,
    "start_time": "2022-08-16T22:03:32.657Z"
   },
   {
    "duration": 0,
    "start_time": "2022-08-16T22:03:32.658Z"
   },
   {
    "duration": 0,
    "start_time": "2022-08-16T22:03:32.660Z"
   },
   {
    "duration": 0,
    "start_time": "2022-08-16T22:03:32.661Z"
   },
   {
    "duration": 0,
    "start_time": "2022-08-16T22:03:32.662Z"
   },
   {
    "duration": 0,
    "start_time": "2022-08-16T22:03:32.663Z"
   },
   {
    "duration": 0,
    "start_time": "2022-08-16T22:03:32.665Z"
   },
   {
    "duration": 0,
    "start_time": "2022-08-16T22:03:32.666Z"
   },
   {
    "duration": 0,
    "start_time": "2022-08-16T22:03:32.667Z"
   },
   {
    "duration": 0,
    "start_time": "2022-08-16T22:03:32.668Z"
   },
   {
    "duration": 0,
    "start_time": "2022-08-16T22:03:32.669Z"
   },
   {
    "duration": 0,
    "start_time": "2022-08-16T22:03:32.670Z"
   },
   {
    "duration": 0,
    "start_time": "2022-08-16T22:03:32.672Z"
   },
   {
    "duration": 0,
    "start_time": "2022-08-16T22:03:32.673Z"
   },
   {
    "duration": 0,
    "start_time": "2022-08-16T22:03:32.674Z"
   },
   {
    "duration": 0,
    "start_time": "2022-08-16T22:03:32.697Z"
   },
   {
    "duration": 110611,
    "start_time": "2022-08-17T01:19:51.308Z"
   },
   {
    "duration": 23,
    "start_time": "2022-08-17T01:21:41.921Z"
   },
   {
    "duration": 18,
    "start_time": "2022-08-17T01:21:41.946Z"
   },
   {
    "duration": 943,
    "start_time": "2022-08-17T01:21:41.967Z"
   },
   {
    "duration": 22,
    "start_time": "2022-08-17T01:21:42.911Z"
   },
   {
    "duration": 18,
    "start_time": "2022-08-17T01:21:42.935Z"
   },
   {
    "duration": 43,
    "start_time": "2022-08-17T01:21:42.955Z"
   },
   {
    "duration": 4555,
    "start_time": "2022-08-17T01:21:43.000Z"
   },
   {
    "duration": 898,
    "start_time": "2022-08-17T01:21:47.557Z"
   },
   {
    "duration": 6,
    "start_time": "2022-08-17T01:21:48.458Z"
   },
   {
    "duration": 515,
    "start_time": "2022-08-17T01:21:48.466Z"
   },
   {
    "duration": 5366,
    "start_time": "2022-08-17T01:21:48.992Z"
   },
   {
    "duration": 14,
    "start_time": "2022-08-17T01:21:54.360Z"
   },
   {
    "duration": 16,
    "start_time": "2022-08-17T01:21:54.376Z"
   },
   {
    "duration": 499,
    "start_time": "2022-08-17T01:21:54.394Z"
   },
   {
    "duration": 3,
    "start_time": "2022-08-17T01:21:54.895Z"
   },
   {
    "duration": 1699,
    "start_time": "2022-08-17T01:21:54.900Z"
   },
   {
    "duration": 0,
    "start_time": "2022-08-17T01:21:56.602Z"
   },
   {
    "duration": 0,
    "start_time": "2022-08-17T01:21:56.603Z"
   },
   {
    "duration": 0,
    "start_time": "2022-08-17T01:21:56.604Z"
   },
   {
    "duration": 0,
    "start_time": "2022-08-17T01:21:56.606Z"
   },
   {
    "duration": 0,
    "start_time": "2022-08-17T01:21:56.607Z"
   },
   {
    "duration": 0,
    "start_time": "2022-08-17T01:21:56.608Z"
   },
   {
    "duration": 0,
    "start_time": "2022-08-17T01:21:56.610Z"
   },
   {
    "duration": 0,
    "start_time": "2022-08-17T01:21:56.611Z"
   },
   {
    "duration": 0,
    "start_time": "2022-08-17T01:21:56.613Z"
   },
   {
    "duration": 0,
    "start_time": "2022-08-17T01:21:56.614Z"
   },
   {
    "duration": 0,
    "start_time": "2022-08-17T01:21:56.616Z"
   },
   {
    "duration": 0,
    "start_time": "2022-08-17T01:21:56.617Z"
   },
   {
    "duration": 0,
    "start_time": "2022-08-17T01:21:56.619Z"
   },
   {
    "duration": 0,
    "start_time": "2022-08-17T01:21:56.619Z"
   },
   {
    "duration": 0,
    "start_time": "2022-08-17T01:21:56.620Z"
   },
   {
    "duration": 0,
    "start_time": "2022-08-17T01:21:56.622Z"
   },
   {
    "duration": 0,
    "start_time": "2022-08-17T01:21:56.623Z"
   },
   {
    "duration": 0,
    "start_time": "2022-08-17T01:21:56.625Z"
   },
   {
    "duration": 0,
    "start_time": "2022-08-17T01:21:56.626Z"
   },
   {
    "duration": 0,
    "start_time": "2022-08-17T01:21:56.627Z"
   },
   {
    "duration": 0,
    "start_time": "2022-08-17T01:21:56.628Z"
   },
   {
    "duration": 0,
    "start_time": "2022-08-17T01:21:56.629Z"
   },
   {
    "duration": 0,
    "start_time": "2022-08-17T01:21:56.630Z"
   },
   {
    "duration": 1,
    "start_time": "2022-08-17T01:21:56.631Z"
   },
   {
    "duration": 0,
    "start_time": "2022-08-17T01:21:56.633Z"
   },
   {
    "duration": 0,
    "start_time": "2022-08-17T01:21:56.634Z"
   },
   {
    "duration": 0,
    "start_time": "2022-08-17T01:21:56.635Z"
   },
   {
    "duration": 0,
    "start_time": "2022-08-17T01:21:56.636Z"
   },
   {
    "duration": 0,
    "start_time": "2022-08-17T01:21:56.637Z"
   },
   {
    "duration": 0,
    "start_time": "2022-08-17T01:21:56.638Z"
   },
   {
    "duration": 6,
    "start_time": "2022-08-17T01:29:20.222Z"
   },
   {
    "duration": 26,
    "start_time": "2022-08-17T01:29:21.672Z"
   },
   {
    "duration": 6,
    "start_time": "2022-08-17T01:29:22.511Z"
   },
   {
    "duration": 6,
    "start_time": "2022-08-17T01:29:23.568Z"
   },
   {
    "duration": 3865,
    "start_time": "2022-08-17T01:29:58.027Z"
   },
   {
    "duration": 34,
    "start_time": "2022-08-17T01:30:04.426Z"
   },
   {
    "duration": 6,
    "start_time": "2022-08-17T01:30:05.202Z"
   },
   {
    "duration": 6,
    "start_time": "2022-08-17T01:30:05.432Z"
   },
   {
    "duration": 6,
    "start_time": "2022-08-17T01:30:10.070Z"
   },
   {
    "duration": 4,
    "start_time": "2022-08-17T01:30:18.282Z"
   },
   {
    "duration": 23,
    "start_time": "2022-08-17T01:30:18.586Z"
   },
   {
    "duration": 932,
    "start_time": "2022-08-17T01:30:18.818Z"
   },
   {
    "duration": 5,
    "start_time": "2022-08-17T01:30:20.121Z"
   },
   {
    "duration": 3,
    "start_time": "2022-08-17T01:30:24.182Z"
   },
   {
    "duration": 107695,
    "start_time": "2022-08-17T01:30:27.809Z"
   },
   {
    "duration": 1401,
    "start_time": "2022-08-17T01:32:15.507Z"
   },
   {
    "duration": 79154,
    "start_time": "2022-08-17T01:37:11.977Z"
   },
   {
    "duration": 22,
    "start_time": "2022-08-17T01:38:31.133Z"
   },
   {
    "duration": 43,
    "start_time": "2022-08-17T01:38:31.157Z"
   },
   {
    "duration": 1013,
    "start_time": "2022-08-17T01:38:31.202Z"
   },
   {
    "duration": 21,
    "start_time": "2022-08-17T01:38:32.216Z"
   },
   {
    "duration": 18,
    "start_time": "2022-08-17T01:38:32.239Z"
   },
   {
    "duration": 41,
    "start_time": "2022-08-17T01:38:32.259Z"
   },
   {
    "duration": 4462,
    "start_time": "2022-08-17T01:38:32.301Z"
   },
   {
    "duration": 932,
    "start_time": "2022-08-17T01:38:36.765Z"
   },
   {
    "duration": 6,
    "start_time": "2022-08-17T01:38:37.700Z"
   },
   {
    "duration": 484,
    "start_time": "2022-08-17T01:38:37.707Z"
   },
   {
    "duration": 5217,
    "start_time": "2022-08-17T01:38:38.194Z"
   },
   {
    "duration": 17,
    "start_time": "2022-08-17T01:38:43.413Z"
   },
   {
    "duration": 26,
    "start_time": "2022-08-17T01:38:43.432Z"
   },
   {
    "duration": 479,
    "start_time": "2022-08-17T01:38:43.459Z"
   },
   {
    "duration": 3830,
    "start_time": "2022-08-17T01:38:43.940Z"
   },
   {
    "duration": 48,
    "start_time": "2022-08-17T01:38:47.772Z"
   },
   {
    "duration": 6,
    "start_time": "2022-08-17T01:38:47.821Z"
   },
   {
    "duration": 7,
    "start_time": "2022-08-17T01:38:47.829Z"
   },
   {
    "duration": 7,
    "start_time": "2022-08-17T01:38:47.837Z"
   },
   {
    "duration": 15,
    "start_time": "2022-08-17T01:38:47.846Z"
   },
   {
    "duration": 50,
    "start_time": "2022-08-17T01:38:47.863Z"
   },
   {
    "duration": 905,
    "start_time": "2022-08-17T01:38:47.915Z"
   },
   {
    "duration": 3,
    "start_time": "2022-08-17T01:38:48.822Z"
   },
   {
    "duration": 11,
    "start_time": "2022-08-17T01:38:48.826Z"
   },
   {
    "duration": 106655,
    "start_time": "2022-08-17T01:38:48.839Z"
   },
   {
    "duration": 1383,
    "start_time": "2022-08-17T01:40:35.496Z"
   },
   {
    "duration": 495,
    "start_time": "2022-08-17T01:40:36.885Z"
   },
   {
    "duration": 439,
    "start_time": "2022-08-17T01:40:37.382Z"
   },
   {
    "duration": 778172,
    "start_time": "2022-08-17T01:40:37.822Z"
   },
   {
    "duration": 1054,
    "start_time": "2022-08-17T01:53:35.996Z"
   },
   {
    "duration": 49,
    "start_time": "2022-08-17T01:53:37.052Z"
   },
   {
    "duration": 45851,
    "start_time": "2022-08-17T01:53:37.102Z"
   },
   {
    "duration": 1722,
    "start_time": "2022-08-17T01:54:22.955Z"
   },
   {
    "duration": 631,
    "start_time": "2022-08-17T01:54:24.679Z"
   },
   {
    "duration": 14716,
    "start_time": "2022-08-17T01:54:25.312Z"
   },
   {
    "duration": 6,
    "start_time": "2022-08-17T01:54:40.030Z"
   },
   {
    "duration": 14,
    "start_time": "2022-08-17T01:54:40.039Z"
   },
   {
    "duration": 5,
    "start_time": "2022-08-17T01:54:40.055Z"
   },
   {
    "duration": 6,
    "start_time": "2022-08-17T01:54:40.062Z"
   },
   {
    "duration": 6,
    "start_time": "2022-08-17T01:54:40.070Z"
   },
   {
    "duration": 14,
    "start_time": "2022-08-17T01:54:40.078Z"
   },
   {
    "duration": 3,
    "start_time": "2022-08-17T01:54:40.093Z"
   },
   {
    "duration": 15,
    "start_time": "2022-08-17T01:54:40.098Z"
   },
   {
    "duration": 8,
    "start_time": "2022-08-17T01:54:40.115Z"
   },
   {
    "duration": 701,
    "start_time": "2022-08-17T01:54:40.125Z"
   },
   {
    "duration": 0,
    "start_time": "2022-08-17T01:54:40.828Z"
   },
   {
    "duration": 0,
    "start_time": "2022-08-17T01:54:40.829Z"
   },
   {
    "duration": 53,
    "start_time": "2022-08-17T02:26:34.705Z"
   },
   {
    "duration": 75782,
    "start_time": "2022-08-17T02:26:52.650Z"
   },
   {
    "duration": 23,
    "start_time": "2022-08-17T02:28:08.434Z"
   },
   {
    "duration": 32,
    "start_time": "2022-08-17T02:28:08.459Z"
   },
   {
    "duration": 941,
    "start_time": "2022-08-17T02:28:08.493Z"
   },
   {
    "duration": 21,
    "start_time": "2022-08-17T02:28:09.436Z"
   },
   {
    "duration": 19,
    "start_time": "2022-08-17T02:28:09.459Z"
   },
   {
    "duration": 29,
    "start_time": "2022-08-17T02:28:09.480Z"
   },
   {
    "duration": 4596,
    "start_time": "2022-08-17T02:28:09.511Z"
   },
   {
    "duration": 905,
    "start_time": "2022-08-17T02:28:14.109Z"
   },
   {
    "duration": 6,
    "start_time": "2022-08-17T02:28:15.017Z"
   },
   {
    "duration": 471,
    "start_time": "2022-08-17T02:28:15.025Z"
   },
   {
    "duration": 5255,
    "start_time": "2022-08-17T02:28:15.498Z"
   },
   {
    "duration": 15,
    "start_time": "2022-08-17T02:28:20.755Z"
   },
   {
    "duration": 38,
    "start_time": "2022-08-17T02:28:20.773Z"
   },
   {
    "duration": 536,
    "start_time": "2022-08-17T02:28:20.813Z"
   },
   {
    "duration": 3809,
    "start_time": "2022-08-17T02:28:21.351Z"
   },
   {
    "duration": 50,
    "start_time": "2022-08-17T02:28:25.162Z"
   },
   {
    "duration": 6,
    "start_time": "2022-08-17T02:28:25.213Z"
   },
   {
    "duration": 8,
    "start_time": "2022-08-17T02:28:25.220Z"
   },
   {
    "duration": 15,
    "start_time": "2022-08-17T02:28:25.230Z"
   },
   {
    "duration": 10,
    "start_time": "2022-08-17T02:28:25.247Z"
   },
   {
    "duration": 34,
    "start_time": "2022-08-17T02:28:25.259Z"
   },
   {
    "duration": 892,
    "start_time": "2022-08-17T02:28:25.295Z"
   },
   {
    "duration": 3,
    "start_time": "2022-08-17T02:28:26.189Z"
   },
   {
    "duration": 7,
    "start_time": "2022-08-17T02:28:26.193Z"
   },
   {
    "duration": 106992,
    "start_time": "2022-08-17T02:28:26.201Z"
   },
   {
    "duration": 1440,
    "start_time": "2022-08-17T02:30:13.196Z"
   },
   {
    "duration": 454,
    "start_time": "2022-08-17T02:30:14.639Z"
   },
   {
    "duration": 455,
    "start_time": "2022-08-17T02:30:15.094Z"
   },
   {
    "duration": 775449,
    "start_time": "2022-08-17T02:30:15.551Z"
   },
   {
    "duration": 1097,
    "start_time": "2022-08-17T02:43:11.002Z"
   },
   {
    "duration": 60,
    "start_time": "2022-08-17T02:43:12.100Z"
   },
   {
    "duration": 41890,
    "start_time": "2022-08-17T02:43:12.162Z"
   },
   {
    "duration": 1608,
    "start_time": "2022-08-17T02:43:54.054Z"
   },
   {
    "duration": 602,
    "start_time": "2022-08-17T02:43:55.664Z"
   },
   {
    "duration": 7839,
    "start_time": "2022-08-17T02:43:56.268Z"
   },
   {
    "duration": 6,
    "start_time": "2022-08-17T02:44:04.109Z"
   },
   {
    "duration": 12,
    "start_time": "2022-08-17T02:44:04.116Z"
   },
   {
    "duration": 5,
    "start_time": "2022-08-17T02:44:04.130Z"
   },
   {
    "duration": 6,
    "start_time": "2022-08-17T02:44:04.137Z"
   },
   {
    "duration": 4,
    "start_time": "2022-08-17T02:44:04.144Z"
   },
   {
    "duration": 4,
    "start_time": "2022-08-17T02:44:04.150Z"
   },
   {
    "duration": 4,
    "start_time": "2022-08-17T02:44:04.155Z"
   },
   {
    "duration": 14,
    "start_time": "2022-08-17T02:44:04.161Z"
   },
   {
    "duration": 8,
    "start_time": "2022-08-17T02:44:04.191Z"
   },
   {
    "duration": 407,
    "start_time": "2022-08-17T02:44:04.201Z"
   },
   {
    "duration": 0,
    "start_time": "2022-08-17T02:44:04.610Z"
   },
   {
    "duration": 0,
    "start_time": "2022-08-17T02:44:04.611Z"
   },
   {
    "duration": 734584,
    "start_time": "2022-08-17T02:51:34.509Z"
   },
   {
    "duration": 394,
    "start_time": "2022-08-17T03:03:49.095Z"
   },
   {
    "duration": 52,
    "start_time": "2022-08-17T03:08:20.395Z"
   },
   {
    "duration": 54,
    "start_time": "2022-08-17T03:08:29.436Z"
   },
   {
    "duration": 79073,
    "start_time": "2022-08-17T03:12:57.574Z"
   },
   {
    "duration": 21,
    "start_time": "2022-08-17T03:14:16.649Z"
   },
   {
    "duration": 5,
    "start_time": "2022-08-17T03:14:16.672Z"
   },
   {
    "duration": 912,
    "start_time": "2022-08-17T03:14:16.679Z"
   },
   {
    "duration": 21,
    "start_time": "2022-08-17T03:14:17.593Z"
   },
   {
    "duration": 17,
    "start_time": "2022-08-17T03:14:17.616Z"
   },
   {
    "duration": 22,
    "start_time": "2022-08-17T03:14:17.635Z"
   },
   {
    "duration": 4576,
    "start_time": "2022-08-17T03:14:17.659Z"
   },
   {
    "duration": 897,
    "start_time": "2022-08-17T03:14:22.237Z"
   },
   {
    "duration": 6,
    "start_time": "2022-08-17T03:14:23.137Z"
   },
   {
    "duration": 459,
    "start_time": "2022-08-17T03:14:23.144Z"
   },
   {
    "duration": 5116,
    "start_time": "2022-08-17T03:14:23.605Z"
   },
   {
    "duration": 15,
    "start_time": "2022-08-17T03:14:28.723Z"
   },
   {
    "duration": 7,
    "start_time": "2022-08-17T03:14:28.739Z"
   },
   {
    "duration": 491,
    "start_time": "2022-08-17T03:14:28.748Z"
   },
   {
    "duration": 3913,
    "start_time": "2022-08-17T03:14:29.241Z"
   },
   {
    "duration": 43,
    "start_time": "2022-08-17T03:14:33.155Z"
   },
   {
    "duration": 6,
    "start_time": "2022-08-17T03:14:33.199Z"
   },
   {
    "duration": 6,
    "start_time": "2022-08-17T03:14:33.207Z"
   },
   {
    "duration": 6,
    "start_time": "2022-08-17T03:14:33.215Z"
   },
   {
    "duration": 4,
    "start_time": "2022-08-17T03:14:33.222Z"
   },
   {
    "duration": 20,
    "start_time": "2022-08-17T03:14:33.228Z"
   },
   {
    "duration": 898,
    "start_time": "2022-08-17T03:14:33.249Z"
   },
   {
    "duration": 3,
    "start_time": "2022-08-17T03:14:34.149Z"
   },
   {
    "duration": 6,
    "start_time": "2022-08-17T03:14:34.153Z"
   },
   {
    "duration": 115032,
    "start_time": "2022-08-17T03:14:34.161Z"
   },
   {
    "duration": 1392,
    "start_time": "2022-08-17T03:16:29.195Z"
   },
   {
    "duration": 513,
    "start_time": "2022-08-17T03:16:30.591Z"
   },
   {
    "duration": 452,
    "start_time": "2022-08-17T03:16:31.106Z"
   },
   {
    "duration": 766439,
    "start_time": "2022-08-17T03:16:31.560Z"
   },
   {
    "duration": 1024,
    "start_time": "2022-08-17T03:29:18.002Z"
   },
   {
    "duration": 25,
    "start_time": "2022-08-17T03:29:19.028Z"
   },
   {
    "duration": 38580,
    "start_time": "2022-08-17T03:29:19.054Z"
   },
   {
    "duration": 1591,
    "start_time": "2022-08-17T03:29:57.635Z"
   },
   {
    "duration": 618,
    "start_time": "2022-08-17T03:29:59.227Z"
   },
   {
    "duration": 8271,
    "start_time": "2022-08-17T03:29:59.847Z"
   },
   {
    "duration": 6,
    "start_time": "2022-08-17T03:30:08.120Z"
   },
   {
    "duration": 18,
    "start_time": "2022-08-17T03:30:08.128Z"
   },
   {
    "duration": 6,
    "start_time": "2022-08-17T03:30:08.148Z"
   },
   {
    "duration": 8,
    "start_time": "2022-08-17T03:30:08.155Z"
   },
   {
    "duration": 7,
    "start_time": "2022-08-17T03:30:08.165Z"
   },
   {
    "duration": 6,
    "start_time": "2022-08-17T03:30:08.174Z"
   },
   {
    "duration": 7,
    "start_time": "2022-08-17T03:30:08.182Z"
   },
   {
    "duration": 15,
    "start_time": "2022-08-17T03:30:08.192Z"
   },
   {
    "duration": 8,
    "start_time": "2022-08-17T03:30:08.209Z"
   },
   {
    "duration": 50,
    "start_time": "2022-08-17T03:30:08.219Z"
   },
   {
    "duration": 401,
    "start_time": "2022-08-17T03:30:08.293Z"
   },
   {
    "duration": 0,
    "start_time": "2022-08-17T03:30:08.696Z"
   },
   {
    "duration": 41,
    "start_time": "2022-08-17T03:44:17.005Z"
   },
   {
    "duration": 4,
    "start_time": "2022-08-17T03:44:19.638Z"
   }
  ],
  "kernelspec": {
   "display_name": "Python 3",
   "language": "python",
   "name": "python3"
  },
  "language_info": {
   "codemirror_mode": {
    "name": "ipython",
    "version": 3
   },
   "file_extension": ".py",
   "mimetype": "text/x-python",
   "name": "python",
   "nbconvert_exporter": "python",
   "pygments_lexer": "ipython3",
   "version": "3.8.8"
  },
  "toc": {
   "base_numbering": 1,
   "nav_menu": {},
   "number_sections": true,
   "sideBar": true,
   "skip_h1_title": true,
   "title_cell": "Table of Contents",
   "title_sidebar": "Contents",
   "toc_cell": false,
   "toc_position": {},
   "toc_section_display": true,
   "toc_window_display": false
  }
 },
 "nbformat": 4,
 "nbformat_minor": 4
}
