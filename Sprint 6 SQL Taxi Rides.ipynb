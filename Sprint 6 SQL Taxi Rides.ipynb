{
 "cells": [
  {
   "cell_type": "markdown",
   "metadata": {},
   "source": [
    "# Overview"
   ]
  },
  {
   "cell_type": "markdown",
   "metadata": {},
   "source": [
    "Our goal with this project is to further understand how weather may affect taxi rides."
   ]
  },
  {
   "cell_type": "code",
   "execution_count": 1,
   "metadata": {},
   "outputs": [],
   "source": [
    "import pandas as pd\n",
    "import seaborn as sns\n",
    "import matplotlib.pyplot as plt\n",
    "from scipy import stats as st\n",
    "\n",
    "try:\n",
    "    trips_df = pd.read_csv('/datasets/project_sql_result_01.csv')\n",
    "except:\n",
    "    trips_df = pd.read_csv('/project_sql_result_01.csv')\n",
    "    \n",
    "try:\n",
    "    company_df = pd.read_csv('/datasets/project_sql_result_04.csv')\n",
    "except:\n",
    "    company_df = pd.read_csv('/project_sql_result_04.csv')\n",
    "    \n",
    "try:\n",
    "    weather_df = pd.read_csv('/datasets/project_sql_result_07.csv')\n",
    "except:\n",
    "    weather_df = pd.read_csv('/project_sql_result_07.csv')"
   ]
  },
  {
   "cell_type": "markdown",
   "metadata": {},
   "source": [
    "<div class=\"alert alert-block alert-success\">\n",
    "<b>Reviewer's comment v.1</b> \n",
    "    \n",
    "👍 Nice to see the `try-except` construction here! It makes our code more stable and fail-safety.\n",
    "</div>"
   ]
  },
  {
   "cell_type": "code",
   "execution_count": 2,
   "metadata": {},
   "outputs": [
    {
     "name": "stdout",
     "output_type": "stream",
     "text": [
      "<class 'pandas.core.frame.DataFrame'>\n",
      "RangeIndex: 1068 entries, 0 to 1067\n",
      "Data columns (total 3 columns):\n",
      "start_ts              1068 non-null object\n",
      "weather_conditions    1068 non-null object\n",
      "duration_seconds      1068 non-null float64\n",
      "dtypes: float64(1), object(2)\n",
      "memory usage: 25.2+ KB\n",
      "None\n"
     ]
    },
    {
     "data": {
      "text/html": [
       "<div>\n",
       "<style scoped>\n",
       "    .dataframe tbody tr th:only-of-type {\n",
       "        vertical-align: middle;\n",
       "    }\n",
       "\n",
       "    .dataframe tbody tr th {\n",
       "        vertical-align: top;\n",
       "    }\n",
       "\n",
       "    .dataframe thead th {\n",
       "        text-align: right;\n",
       "    }\n",
       "</style>\n",
       "<table border=\"1\" class=\"dataframe\">\n",
       "  <thead>\n",
       "    <tr style=\"text-align: right;\">\n",
       "      <th></th>\n",
       "      <th>start_ts</th>\n",
       "      <th>weather_conditions</th>\n",
       "      <th>duration_seconds</th>\n",
       "    </tr>\n",
       "  </thead>\n",
       "  <tbody>\n",
       "    <tr>\n",
       "      <td>0</td>\n",
       "      <td>2017-11-25 16:00:00</td>\n",
       "      <td>Good</td>\n",
       "      <td>2410.0</td>\n",
       "    </tr>\n",
       "    <tr>\n",
       "      <td>1</td>\n",
       "      <td>2017-11-25 14:00:00</td>\n",
       "      <td>Good</td>\n",
       "      <td>1920.0</td>\n",
       "    </tr>\n",
       "    <tr>\n",
       "      <td>2</td>\n",
       "      <td>2017-11-25 12:00:00</td>\n",
       "      <td>Good</td>\n",
       "      <td>1543.0</td>\n",
       "    </tr>\n",
       "    <tr>\n",
       "      <td>3</td>\n",
       "      <td>2017-11-04 10:00:00</td>\n",
       "      <td>Good</td>\n",
       "      <td>2512.0</td>\n",
       "    </tr>\n",
       "    <tr>\n",
       "      <td>4</td>\n",
       "      <td>2017-11-11 07:00:00</td>\n",
       "      <td>Good</td>\n",
       "      <td>1440.0</td>\n",
       "    </tr>\n",
       "    <tr>\n",
       "      <td>5</td>\n",
       "      <td>2017-11-11 04:00:00</td>\n",
       "      <td>Good</td>\n",
       "      <td>1320.0</td>\n",
       "    </tr>\n",
       "    <tr>\n",
       "      <td>6</td>\n",
       "      <td>2017-11-04 16:00:00</td>\n",
       "      <td>Bad</td>\n",
       "      <td>2969.0</td>\n",
       "    </tr>\n",
       "    <tr>\n",
       "      <td>7</td>\n",
       "      <td>2017-11-18 11:00:00</td>\n",
       "      <td>Good</td>\n",
       "      <td>2280.0</td>\n",
       "    </tr>\n",
       "    <tr>\n",
       "      <td>8</td>\n",
       "      <td>2017-11-11 14:00:00</td>\n",
       "      <td>Good</td>\n",
       "      <td>2460.0</td>\n",
       "    </tr>\n",
       "    <tr>\n",
       "      <td>9</td>\n",
       "      <td>2017-11-11 12:00:00</td>\n",
       "      <td>Good</td>\n",
       "      <td>2040.0</td>\n",
       "    </tr>\n",
       "  </tbody>\n",
       "</table>\n",
       "</div>"
      ],
      "text/plain": [
       "              start_ts weather_conditions  duration_seconds\n",
       "0  2017-11-25 16:00:00               Good            2410.0\n",
       "1  2017-11-25 14:00:00               Good            1920.0\n",
       "2  2017-11-25 12:00:00               Good            1543.0\n",
       "3  2017-11-04 10:00:00               Good            2512.0\n",
       "4  2017-11-11 07:00:00               Good            1440.0\n",
       "5  2017-11-11 04:00:00               Good            1320.0\n",
       "6  2017-11-04 16:00:00                Bad            2969.0\n",
       "7  2017-11-18 11:00:00               Good            2280.0\n",
       "8  2017-11-11 14:00:00               Good            2460.0\n",
       "9  2017-11-11 12:00:00               Good            2040.0"
      ]
     },
     "execution_count": 2,
     "metadata": {},
     "output_type": "execute_result"
    }
   ],
   "source": [
    "print(weather_df.info())\n",
    "weather_df.head(10)"
   ]
  },
  {
   "cell_type": "markdown",
   "metadata": {},
   "source": [
    "<div class=\"alert alert-warning\">\n",
    "<b>Reviewer's comment v.1</b> \n",
    "    \n",
    "💡 As a recommendation: please, pay attention to data frame formatting in your project. Don't forget to use `head()`, `tail()`, or `sample()` when outputting large tables. If you leave everything \"as is\", when you save the project to `GitHub`, all the tables will expand to their full length and take up most of the project. Plus, the Jupyter Notebook wastes extra resources when loading such tables. \n",
    "</div>"
   ]
  },
  {
   "cell_type": "markdown",
   "metadata": {},
   "source": [
    "<div class=\"alert alert-block alert-success\">\n",
    "<b>Reviewer's comment v.2</b> \n",
    "    \n",
    "👍  Thank you for correcting that!\n",
    "</div>"
   ]
  },
  {
   "cell_type": "code",
   "execution_count": 3,
   "metadata": {},
   "outputs": [
    {
     "name": "stdout",
     "output_type": "stream",
     "text": [
      "<class 'pandas.core.frame.DataFrame'>\n",
      "RangeIndex: 94 entries, 0 to 93\n",
      "Data columns (total 2 columns):\n",
      "dropoff_location_name    94 non-null object\n",
      "average_trips            94 non-null float64\n",
      "dtypes: float64(1), object(1)\n",
      "memory usage: 1.6+ KB\n",
      "None\n"
     ]
    },
    {
     "data": {
      "text/html": [
       "<div>\n",
       "<style scoped>\n",
       "    .dataframe tbody tr th:only-of-type {\n",
       "        vertical-align: middle;\n",
       "    }\n",
       "\n",
       "    .dataframe tbody tr th {\n",
       "        vertical-align: top;\n",
       "    }\n",
       "\n",
       "    .dataframe thead th {\n",
       "        text-align: right;\n",
       "    }\n",
       "</style>\n",
       "<table border=\"1\" class=\"dataframe\">\n",
       "  <thead>\n",
       "    <tr style=\"text-align: right;\">\n",
       "      <th></th>\n",
       "      <th>dropoff_location_name</th>\n",
       "      <th>average_trips</th>\n",
       "    </tr>\n",
       "  </thead>\n",
       "  <tbody>\n",
       "    <tr>\n",
       "      <td>0</td>\n",
       "      <td>Loop</td>\n",
       "      <td>10727.466667</td>\n",
       "    </tr>\n",
       "    <tr>\n",
       "      <td>1</td>\n",
       "      <td>River North</td>\n",
       "      <td>9523.666667</td>\n",
       "    </tr>\n",
       "    <tr>\n",
       "      <td>2</td>\n",
       "      <td>Streeterville</td>\n",
       "      <td>6664.666667</td>\n",
       "    </tr>\n",
       "    <tr>\n",
       "      <td>3</td>\n",
       "      <td>West Loop</td>\n",
       "      <td>5163.666667</td>\n",
       "    </tr>\n",
       "    <tr>\n",
       "      <td>4</td>\n",
       "      <td>O'Hare</td>\n",
       "      <td>2546.900000</td>\n",
       "    </tr>\n",
       "    <tr>\n",
       "      <td>5</td>\n",
       "      <td>Lake View</td>\n",
       "      <td>2420.966667</td>\n",
       "    </tr>\n",
       "    <tr>\n",
       "      <td>6</td>\n",
       "      <td>Grant Park</td>\n",
       "      <td>2068.533333</td>\n",
       "    </tr>\n",
       "    <tr>\n",
       "      <td>7</td>\n",
       "      <td>Museum Campus</td>\n",
       "      <td>1510.000000</td>\n",
       "    </tr>\n",
       "    <tr>\n",
       "      <td>8</td>\n",
       "      <td>Gold Coast</td>\n",
       "      <td>1364.233333</td>\n",
       "    </tr>\n",
       "    <tr>\n",
       "      <td>9</td>\n",
       "      <td>Sheffield &amp; DePaul</td>\n",
       "      <td>1259.766667</td>\n",
       "    </tr>\n",
       "  </tbody>\n",
       "</table>\n",
       "</div>"
      ],
      "text/plain": [
       "  dropoff_location_name  average_trips\n",
       "0                  Loop   10727.466667\n",
       "1           River North    9523.666667\n",
       "2         Streeterville    6664.666667\n",
       "3             West Loop    5163.666667\n",
       "4                O'Hare    2546.900000\n",
       "5             Lake View    2420.966667\n",
       "6            Grant Park    2068.533333\n",
       "7         Museum Campus    1510.000000\n",
       "8            Gold Coast    1364.233333\n",
       "9    Sheffield & DePaul    1259.766667"
      ]
     },
     "execution_count": 3,
     "metadata": {},
     "output_type": "execute_result"
    }
   ],
   "source": [
    "print(company_df.info())\n",
    "company_df.head(10)"
   ]
  },
  {
   "cell_type": "code",
   "execution_count": 4,
   "metadata": {},
   "outputs": [
    {
     "name": "stdout",
     "output_type": "stream",
     "text": [
      "<class 'pandas.core.frame.DataFrame'>\n",
      "RangeIndex: 64 entries, 0 to 63\n",
      "Data columns (total 2 columns):\n",
      "company_name    64 non-null object\n",
      "trips_amount    64 non-null int64\n",
      "dtypes: int64(1), object(1)\n",
      "memory usage: 1.1+ KB\n",
      "None\n"
     ]
    },
    {
     "data": {
      "text/html": [
       "<div>\n",
       "<style scoped>\n",
       "    .dataframe tbody tr th:only-of-type {\n",
       "        vertical-align: middle;\n",
       "    }\n",
       "\n",
       "    .dataframe tbody tr th {\n",
       "        vertical-align: top;\n",
       "    }\n",
       "\n",
       "    .dataframe thead th {\n",
       "        text-align: right;\n",
       "    }\n",
       "</style>\n",
       "<table border=\"1\" class=\"dataframe\">\n",
       "  <thead>\n",
       "    <tr style=\"text-align: right;\">\n",
       "      <th></th>\n",
       "      <th>company_name</th>\n",
       "      <th>trips_amount</th>\n",
       "    </tr>\n",
       "  </thead>\n",
       "  <tbody>\n",
       "    <tr>\n",
       "      <td>0</td>\n",
       "      <td>Flash Cab</td>\n",
       "      <td>19558</td>\n",
       "    </tr>\n",
       "    <tr>\n",
       "      <td>1</td>\n",
       "      <td>Taxi Affiliation Services</td>\n",
       "      <td>11422</td>\n",
       "    </tr>\n",
       "    <tr>\n",
       "      <td>2</td>\n",
       "      <td>Medallion Leasing</td>\n",
       "      <td>10367</td>\n",
       "    </tr>\n",
       "    <tr>\n",
       "      <td>3</td>\n",
       "      <td>Yellow Cab</td>\n",
       "      <td>9888</td>\n",
       "    </tr>\n",
       "    <tr>\n",
       "      <td>4</td>\n",
       "      <td>Taxi Affiliation Service Yellow</td>\n",
       "      <td>9299</td>\n",
       "    </tr>\n",
       "    <tr>\n",
       "      <td>5</td>\n",
       "      <td>Chicago Carriage Cab Corp</td>\n",
       "      <td>9181</td>\n",
       "    </tr>\n",
       "    <tr>\n",
       "      <td>6</td>\n",
       "      <td>City Service</td>\n",
       "      <td>8448</td>\n",
       "    </tr>\n",
       "    <tr>\n",
       "      <td>7</td>\n",
       "      <td>Sun Taxi</td>\n",
       "      <td>7701</td>\n",
       "    </tr>\n",
       "    <tr>\n",
       "      <td>8</td>\n",
       "      <td>Star North Management LLC</td>\n",
       "      <td>7455</td>\n",
       "    </tr>\n",
       "    <tr>\n",
       "      <td>9</td>\n",
       "      <td>Blue Ribbon Taxi Association Inc.</td>\n",
       "      <td>5953</td>\n",
       "    </tr>\n",
       "  </tbody>\n",
       "</table>\n",
       "</div>"
      ],
      "text/plain": [
       "                        company_name  trips_amount\n",
       "0                          Flash Cab         19558\n",
       "1          Taxi Affiliation Services         11422\n",
       "2                  Medallion Leasing         10367\n",
       "3                         Yellow Cab          9888\n",
       "4    Taxi Affiliation Service Yellow          9299\n",
       "5          Chicago Carriage Cab Corp          9181\n",
       "6                       City Service          8448\n",
       "7                           Sun Taxi          7701\n",
       "8          Star North Management LLC          7455\n",
       "9  Blue Ribbon Taxi Association Inc.          5953"
      ]
     },
     "execution_count": 4,
     "metadata": {},
     "output_type": "execute_result"
    }
   ],
   "source": [
    "print(trips_df.info())\n",
    "trips_df.head(10)"
   ]
  },
  {
   "cell_type": "markdown",
   "metadata": {},
   "source": [
    "So far there's few issues in the data such as weather_df not being in panda's datetime and there may only be need for light reprocessing."
   ]
  },
  {
   "cell_type": "markdown",
   "metadata": {},
   "source": [
    "<div class=\"alert alert-block alert-success\">\n",
    "<b>Reviewer's comment v.1</b> \n",
    "    \n",
    "👍 Well done! The data have been loaded and described. Please note, the `info()` method also shows information about missing values, so we could use only one method to detect them. And if the data contain any missing values, we could study them in detail.\n",
    "\n",
    "</div>"
   ]
  },
  {
   "cell_type": "markdown",
   "metadata": {},
   "source": [
    "# Reprocessing"
   ]
  },
  {
   "cell_type": "code",
   "execution_count": 5,
   "metadata": {},
   "outputs": [],
   "source": [
    "weather_df['start_ts'] = pd.to_datetime(weather_df['start_ts'])"
   ]
  },
  {
   "cell_type": "markdown",
   "metadata": {},
   "source": [
    "<div class=\"alert alert-block alert-success\">\n",
    "<b>Reviewer's comment v.1</b> \n",
    "    \n",
    "👍 Correct!\n",
    "\n",
    "</div>"
   ]
  },
  {
   "cell_type": "markdown",
   "metadata": {},
   "source": [
    "<div class=\"alert alert-block alert-info\">\n",
    "<b>Heya, I noticed I actually made an error here and my conversion to datetime wasn't quite correct. This is of course my own error, although it may be helpful to point it out to you as well to notice it in other projects. The original code here was only \n",
    "   \n",
    "    pd.to_datetime(weather_df['start_ts'])\n",
    "    \n",
    "Which printed the correct table but didn't actually save the column changes\n",
    "   \n",
    "</div>"
   ]
  },
  {
   "cell_type": "markdown",
   "metadata": {},
   "source": [
    "<div class=\"alert alert-block alert-success\">\n",
    "<b>Reviewer's comment v.2</b> \n",
    "    \n",
    "👍 Oh, thank you! I focused on the method you used and missed the error.\n",
    "\n",
    "</div>"
   ]
  },
  {
   "cell_type": "code",
   "execution_count": 6,
   "metadata": {},
   "outputs": [
    {
     "data": {
      "text/html": [
       "<div>\n",
       "<style scoped>\n",
       "    .dataframe tbody tr th:only-of-type {\n",
       "        vertical-align: middle;\n",
       "    }\n",
       "\n",
       "    .dataframe tbody tr th {\n",
       "        vertical-align: top;\n",
       "    }\n",
       "\n",
       "    .dataframe thead th {\n",
       "        text-align: right;\n",
       "    }\n",
       "</style>\n",
       "<table border=\"1\" class=\"dataframe\">\n",
       "  <thead>\n",
       "    <tr style=\"text-align: right;\">\n",
       "      <th></th>\n",
       "      <th>start_ts</th>\n",
       "      <th>weather_conditions</th>\n",
       "      <th>duration_seconds</th>\n",
       "    </tr>\n",
       "  </thead>\n",
       "  <tbody>\n",
       "    <tr>\n",
       "      <td>0</td>\n",
       "      <td>2017-11-25 16:00:00</td>\n",
       "      <td>Good</td>\n",
       "      <td>2410.0</td>\n",
       "    </tr>\n",
       "    <tr>\n",
       "      <td>1</td>\n",
       "      <td>2017-11-25 14:00:00</td>\n",
       "      <td>Good</td>\n",
       "      <td>1920.0</td>\n",
       "    </tr>\n",
       "    <tr>\n",
       "      <td>2</td>\n",
       "      <td>2017-11-25 12:00:00</td>\n",
       "      <td>Good</td>\n",
       "      <td>1543.0</td>\n",
       "    </tr>\n",
       "    <tr>\n",
       "      <td>3</td>\n",
       "      <td>2017-11-04 10:00:00</td>\n",
       "      <td>Good</td>\n",
       "      <td>2512.0</td>\n",
       "    </tr>\n",
       "    <tr>\n",
       "      <td>4</td>\n",
       "      <td>2017-11-11 07:00:00</td>\n",
       "      <td>Good</td>\n",
       "      <td>1440.0</td>\n",
       "    </tr>\n",
       "    <tr>\n",
       "      <td>...</td>\n",
       "      <td>...</td>\n",
       "      <td>...</td>\n",
       "      <td>...</td>\n",
       "    </tr>\n",
       "    <tr>\n",
       "      <td>1057</td>\n",
       "      <td>2017-11-11 06:00:00</td>\n",
       "      <td>Good</td>\n",
       "      <td>1500.0</td>\n",
       "    </tr>\n",
       "    <tr>\n",
       "      <td>1058</td>\n",
       "      <td>2017-11-11 10:00:00</td>\n",
       "      <td>Good</td>\n",
       "      <td>1318.0</td>\n",
       "    </tr>\n",
       "    <tr>\n",
       "      <td>1059</td>\n",
       "      <td>2017-11-11 13:00:00</td>\n",
       "      <td>Good</td>\n",
       "      <td>2100.0</td>\n",
       "    </tr>\n",
       "    <tr>\n",
       "      <td>1060</td>\n",
       "      <td>2017-11-11 08:00:00</td>\n",
       "      <td>Good</td>\n",
       "      <td>1380.0</td>\n",
       "    </tr>\n",
       "    <tr>\n",
       "      <td>1061</td>\n",
       "      <td>2017-11-04 16:00:00</td>\n",
       "      <td>Bad</td>\n",
       "      <td>2834.0</td>\n",
       "    </tr>\n",
       "  </tbody>\n",
       "</table>\n",
       "<p>1062 rows × 3 columns</p>\n",
       "</div>"
      ],
      "text/plain": [
       "                start_ts weather_conditions  duration_seconds\n",
       "0    2017-11-25 16:00:00               Good            2410.0\n",
       "1    2017-11-25 14:00:00               Good            1920.0\n",
       "2    2017-11-25 12:00:00               Good            1543.0\n",
       "3    2017-11-04 10:00:00               Good            2512.0\n",
       "4    2017-11-11 07:00:00               Good            1440.0\n",
       "...                  ...                ...               ...\n",
       "1057 2017-11-11 06:00:00               Good            1500.0\n",
       "1058 2017-11-11 10:00:00               Good            1318.0\n",
       "1059 2017-11-11 13:00:00               Good            2100.0\n",
       "1060 2017-11-11 08:00:00               Good            1380.0\n",
       "1061 2017-11-04 16:00:00                Bad            2834.0\n",
       "\n",
       "[1062 rows x 3 columns]"
      ]
     },
     "execution_count": 6,
     "metadata": {},
     "output_type": "execute_result"
    }
   ],
   "source": [
    "company_df.drop_duplicates()\n",
    "weather_df.drop_duplicates()\n",
    "trips_df.drop_duplicates()\n",
    "\n",
    "weather_df = weather_df[weather_df['duration_seconds'] != 0]\n",
    "weather_df.reset_index(drop=True)"
   ]
  },
  {
   "cell_type": "markdown",
   "metadata": {},
   "source": [
    "I fixed the start_ts column in weather_df as it originally wasn't in panda's datetime so that we could better work with it. Additionally, I ensured there wasn't any duplicates and removed the outliers for weather_df where the duration of the rides were 0 seconds, and then reset the index."
   ]
  },
  {
   "cell_type": "markdown",
   "metadata": {},
   "source": [
    "<div class=\"alert alert-danger\">\n",
    "<b>Reviewer's comment v.1</b> \n",
    "    \n",
    "✍ I would suggest an additional job here. Please check the data for duplicates and any mistakes, for example, zero values within the `duration_seconds` columns of the weather dataset.\n",
    "    \n",
    "</div>"
   ]
  },
  {
   "cell_type": "markdown",
   "metadata": {},
   "source": [
    "<div class=\"alert alert-block alert-success\">\n",
    "<b>Reviewer's comment v.2</b> \n",
    "    \n",
    "👍 Well done!\n",
    "\n",
    "</div>"
   ]
  },
  {
   "cell_type": "markdown",
   "metadata": {},
   "source": [
    "# EDA"
   ]
  },
  {
   "cell_type": "markdown",
   "metadata": {},
   "source": [
    "Here we will explore the data to identify the companies with the largest amount of trips as well as the most popular dropoff locations for rides, and make and analyze their graphs."
   ]
  },
  {
   "cell_type": "markdown",
   "metadata": {},
   "source": [
    "<div class=\"alert alert-warning\">\n",
    "<b>Reviewer's comment v.1</b> \n",
    "\n",
    "📝 It makes the project more informative if we add a brief description for the EDA part, including the main steps of data analysis. \n",
    "    \n",
    "</div>"
   ]
  },
  {
   "cell_type": "markdown",
   "metadata": {},
   "source": [
    "<div class=\"alert alert-block alert-success\">\n",
    "<b>Reviewer's comment v.2</b> \n",
    "    \n",
    "👍 Thank you!\n",
    "\n",
    "</div>"
   ]
  },
  {
   "cell_type": "code",
   "execution_count": 7,
   "metadata": {},
   "outputs": [
    {
     "data": {
      "text/html": [
       "<div>\n",
       "<style scoped>\n",
       "    .dataframe tbody tr th:only-of-type {\n",
       "        vertical-align: middle;\n",
       "    }\n",
       "\n",
       "    .dataframe tbody tr th {\n",
       "        vertical-align: top;\n",
       "    }\n",
       "\n",
       "    .dataframe thead th {\n",
       "        text-align: right;\n",
       "    }\n",
       "</style>\n",
       "<table border=\"1\" class=\"dataframe\">\n",
       "  <thead>\n",
       "    <tr style=\"text-align: right;\">\n",
       "      <th></th>\n",
       "      <th>dropoff_location_name</th>\n",
       "      <th>average_trips</th>\n",
       "    </tr>\n",
       "  </thead>\n",
       "  <tbody>\n",
       "    <tr>\n",
       "      <td>0</td>\n",
       "      <td>Loop</td>\n",
       "      <td>10727.466667</td>\n",
       "    </tr>\n",
       "    <tr>\n",
       "      <td>1</td>\n",
       "      <td>River North</td>\n",
       "      <td>9523.666667</td>\n",
       "    </tr>\n",
       "    <tr>\n",
       "      <td>2</td>\n",
       "      <td>Streeterville</td>\n",
       "      <td>6664.666667</td>\n",
       "    </tr>\n",
       "    <tr>\n",
       "      <td>3</td>\n",
       "      <td>West Loop</td>\n",
       "      <td>5163.666667</td>\n",
       "    </tr>\n",
       "    <tr>\n",
       "      <td>4</td>\n",
       "      <td>O'Hare</td>\n",
       "      <td>2546.900000</td>\n",
       "    </tr>\n",
       "    <tr>\n",
       "      <td>5</td>\n",
       "      <td>Lake View</td>\n",
       "      <td>2420.966667</td>\n",
       "    </tr>\n",
       "    <tr>\n",
       "      <td>6</td>\n",
       "      <td>Grant Park</td>\n",
       "      <td>2068.533333</td>\n",
       "    </tr>\n",
       "    <tr>\n",
       "      <td>7</td>\n",
       "      <td>Museum Campus</td>\n",
       "      <td>1510.000000</td>\n",
       "    </tr>\n",
       "    <tr>\n",
       "      <td>8</td>\n",
       "      <td>Gold Coast</td>\n",
       "      <td>1364.233333</td>\n",
       "    </tr>\n",
       "    <tr>\n",
       "      <td>9</td>\n",
       "      <td>Sheffield &amp; DePaul</td>\n",
       "      <td>1259.766667</td>\n",
       "    </tr>\n",
       "  </tbody>\n",
       "</table>\n",
       "</div>"
      ],
      "text/plain": [
       "  dropoff_location_name  average_trips\n",
       "0                  Loop   10727.466667\n",
       "1           River North    9523.666667\n",
       "2         Streeterville    6664.666667\n",
       "3             West Loop    5163.666667\n",
       "4                O'Hare    2546.900000\n",
       "5             Lake View    2420.966667\n",
       "6            Grant Park    2068.533333\n",
       "7         Museum Campus    1510.000000\n",
       "8            Gold Coast    1364.233333\n",
       "9    Sheffield & DePaul    1259.766667"
      ]
     },
     "execution_count": 7,
     "metadata": {},
     "output_type": "execute_result"
    }
   ],
   "source": [
    "dropoff_10 = company_df.sort_values('average_trips', ascending=False).head(10)\n",
    "dropoff_10"
   ]
  },
  {
   "cell_type": "markdown",
   "metadata": {},
   "source": [
    "<div class=\"alert alert-block alert-success\">\n",
    "<b>Reviewer's comment v.1</b> \n",
    "    \n",
    "👍 Well done! The top 10 neighborhoods in terms of drop-offs have been obtained. It is good that you sorted the data and selected the first ten entries.\n",
    "\n",
    "In this case, we could also use the `.nlargest()` method. This method returns the first `n` rows ordered by columns in descending order and is equivalent to `df.sort_values(columns, ascending=False).head(n)`, but more performant.\n",
    "</div>"
   ]
  },
  {
   "cell_type": "markdown",
   "metadata": {},
   "source": [
    "<div class=\"alert alert-block alert-info\">\n",
    "I tried this method just now and the following code block returned an error because I couldn't specify the x and y axis since using nlargest returns a pseudo-dataframe without columns. It also removed the first column, for the dropoff location name.\n",
    "</div>"
   ]
  },
  {
   "cell_type": "markdown",
   "metadata": {},
   "source": [
    "<div class=\"alert alert-block alert-success\">\n",
    "<b>Reviewer's comment v.2</b> \n",
    "    \n",
    "📝 Sorry, without your code, it is challenging to suggest why this method provided an error. Please see how we could use this method (it works on the Practicum platform).\n",
    "</div>"
   ]
  },
  {
   "cell_type": "code",
   "execution_count": 8,
   "metadata": {},
   "outputs": [
    {
     "data": {
      "image/png": "[encoded data removed]",
      "text/plain": [
       "<Figure size 1080x504 with 1 Axes>"
      ]
     },
     "metadata": {
      "needs_background": "light"
     },
     "output_type": "display_data"
    }
   ],
   "source": [
    "# the reviewer's code:\n",
    "plt.figure(figsize=(15,7))\n",
    "sns.barplot(data=company_df.nlargest(10, 'average_trips'), x='dropoff_location_name', y='average_trips');\n",
    "plt.title('Most Popular Dropoff Locations')\n",
    "plt.xlabel('Location of Dropoff');\n",
    "plt.ylabel('Average Number of Trips');"
   ]
  },
  {
   "cell_type": "markdown",
   "metadata": {},
   "source": [
    "<div class=\"alert alert-block alert-success\">\n",
    "</div>"
   ]
  },
  {
   "cell_type": "code",
   "execution_count": 9,
   "metadata": {},
   "outputs": [
    {
     "data": {
      "image/png": "[encoded data removed]",
      "text/plain": [
       "<Figure size 1080x504 with 1 Axes>"
      ]
     },
     "metadata": {
      "needs_background": "light"
     },
     "output_type": "display_data"
    }
   ],
   "source": [
    "plt.figure(figsize=(15,7))\n",
    "sns.barplot(data=dropoff_10, x='dropoff_location_name', y='average_trips');\n",
    "plt.title('Most Popular Dropoff Locations')\n",
    "plt.xlabel('Location of Dropoff');\n",
    "plt.ylabel('Average Number of Trips');"
   ]
  },
  {
   "cell_type": "markdown",
   "metadata": {},
   "source": [
    "<div class=\"alert alert-danger\">\n",
    "<b>Reviewer's comment v.1</b> \n",
    "    \n",
    "✍ I would suggest an additional job here. It is good practice when all plots within a project are well-designed. They should contain the title and readable axis titles. Please add the title for the graph.\n",
    "    \n",
    "</div>"
   ]
  },
  {
   "cell_type": "markdown",
   "metadata": {},
   "source": [
    "<div class=\"alert alert-block alert-success\">\n",
    "<b>Reviewer's comment v.2</b> \n",
    "    \n",
    "👍 Thank you!\n",
    "\n",
    "</div>"
   ]
  },
  {
   "cell_type": "markdown",
   "metadata": {},
   "source": [
    "The highest drop off locations can easily surpass the other smallest dropoff locations combined. This is most likely the case that areas such as Loop are residential districts and may be more heavily populated than areas like West Loop may be. The names of each dropoff location seems to be indicitive of why their numbers are so high or low, such as Grant Park likely being a public park, and probably has less dropoffs since people tend to be less likely to visit a park rather than an important area that may contain a lot of workplaces or homes."
   ]
  },
  {
   "cell_type": "markdown",
   "metadata": {},
   "source": [
    "<div class=\"alert alert-success\">\n",
    "<b>Reviewer's comment v.1</b> \n",
    "    \n",
    "👍 Correct!\n",
    "    \n",
    "</div>"
   ]
  },
  {
   "cell_type": "code",
   "execution_count": 10,
   "metadata": {},
   "outputs": [
    {
     "data": {
      "text/html": [
       "<div>\n",
       "<style scoped>\n",
       "    .dataframe tbody tr th:only-of-type {\n",
       "        vertical-align: middle;\n",
       "    }\n",
       "\n",
       "    .dataframe tbody tr th {\n",
       "        vertical-align: top;\n",
       "    }\n",
       "\n",
       "    .dataframe thead th {\n",
       "        text-align: right;\n",
       "    }\n",
       "</style>\n",
       "<table border=\"1\" class=\"dataframe\">\n",
       "  <thead>\n",
       "    <tr style=\"text-align: right;\">\n",
       "      <th></th>\n",
       "      <th>company_name</th>\n",
       "      <th>trips_amount</th>\n",
       "    </tr>\n",
       "  </thead>\n",
       "  <tbody>\n",
       "    <tr>\n",
       "      <td>0</td>\n",
       "      <td>Flash Cab</td>\n",
       "      <td>19558</td>\n",
       "    </tr>\n",
       "    <tr>\n",
       "      <td>1</td>\n",
       "      <td>Taxi Affiliation Services</td>\n",
       "      <td>11422</td>\n",
       "    </tr>\n",
       "    <tr>\n",
       "      <td>2</td>\n",
       "      <td>Medallion Leasing</td>\n",
       "      <td>10367</td>\n",
       "    </tr>\n",
       "    <tr>\n",
       "      <td>3</td>\n",
       "      <td>Yellow Cab</td>\n",
       "      <td>9888</td>\n",
       "    </tr>\n",
       "    <tr>\n",
       "      <td>4</td>\n",
       "      <td>Taxi Affiliation Service Yellow</td>\n",
       "      <td>9299</td>\n",
       "    </tr>\n",
       "    <tr>\n",
       "      <td>5</td>\n",
       "      <td>Chicago Carriage Cab Corp</td>\n",
       "      <td>9181</td>\n",
       "    </tr>\n",
       "    <tr>\n",
       "      <td>6</td>\n",
       "      <td>City Service</td>\n",
       "      <td>8448</td>\n",
       "    </tr>\n",
       "    <tr>\n",
       "      <td>7</td>\n",
       "      <td>Sun Taxi</td>\n",
       "      <td>7701</td>\n",
       "    </tr>\n",
       "    <tr>\n",
       "      <td>8</td>\n",
       "      <td>Star North Management LLC</td>\n",
       "      <td>7455</td>\n",
       "    </tr>\n",
       "    <tr>\n",
       "      <td>9</td>\n",
       "      <td>Blue Ribbon Taxi Association Inc.</td>\n",
       "      <td>5953</td>\n",
       "    </tr>\n",
       "  </tbody>\n",
       "</table>\n",
       "</div>"
      ],
      "text/plain": [
       "                        company_name  trips_amount\n",
       "0                          Flash Cab         19558\n",
       "1          Taxi Affiliation Services         11422\n",
       "2                  Medallion Leasing         10367\n",
       "3                         Yellow Cab          9888\n",
       "4    Taxi Affiliation Service Yellow          9299\n",
       "5          Chicago Carriage Cab Corp          9181\n",
       "6                       City Service          8448\n",
       "7                           Sun Taxi          7701\n",
       "8          Star North Management LLC          7455\n",
       "9  Blue Ribbon Taxi Association Inc.          5953"
      ]
     },
     "execution_count": 10,
     "metadata": {},
     "output_type": "execute_result"
    }
   ],
   "source": [
    "trips_10 = trips_df.sort_values('trips_amount', ascending=False).head(10)\n",
    "trips_10"
   ]
  },
  {
   "cell_type": "code",
   "execution_count": 11,
   "metadata": {},
   "outputs": [
    {
     "data": {
      "image/png": "[encoded data removed]",
      "text/plain": [
       "<Figure size 1080x504 with 1 Axes>"
      ]
     },
     "metadata": {
      "needs_background": "light"
     },
     "output_type": "display_data"
    }
   ],
   "source": [
    "plt.figure(figsize=(15,7))\n",
    "sns.barplot(data=trips_10, x='company_name', y='trips_amount');\n",
    "plt.title('Most Popular Taxi Companies, sorted by most amount of trips')\n",
    "plt.xticks(rotation=45)\n",
    "plt.xlabel('Companies');\n",
    "plt.ylabel('Average Number of Trips');"
   ]
  },
  {
   "cell_type": "markdown",
   "metadata": {},
   "source": [
    "<div class=\"alert alert-danger\">\n",
    "<b>Reviewer's comment v.1</b> \n",
    "    \n",
    "✍ Please add the title for the graph and increase the axis labels font size. Now it is so small and unreadable.\n",
    "</div>"
   ]
  },
  {
   "cell_type": "markdown",
   "metadata": {},
   "source": [
    "<div class=\"alert alert-block alert-success\">\n",
    "<b>Reviewer's comment v.2</b> \n",
    "    \n",
    "👍 Perfect! Thank you!\n",
    "\n",
    "</div>"
   ]
  },
  {
   "cell_type": "markdown",
   "metadata": {},
   "source": [
    "Flash Cab gets roughly almost twice as many as the second place competitor, which is typical in a free market as it's easier for a larger company to dominate than an equally split group of companies. However, it may be the case with further analysis that they could have shorter/better service and drive times. The other companies aside from Flash Cab have a linearly decreasing amount of trips but are comparably not too significant, where the first to the next closest top company, second in the most trips, is a 58% difference, and the difference from the second top to the tenth top company is only a 52% decrease. This is significant because the 52% decrease is the largest difference between nine companies whereas the 58% is the difference between only the top two and still manages to be larger.\n",
    "\n",
    "Additionally, it's likely the case that Flash Cab is responsible for the most dropoffs for our dropoff_10 dataset because they have a much larger customer base."
   ]
  },
  {
   "cell_type": "markdown",
   "metadata": {},
   "source": [
    "<div class=\"alert alert-block alert-success\">\n",
    "<b>Reviewer's comment v.1</b> \n",
    "    \n",
    "👍 Good job at this stage! The top-10 drop-off locations and top taxi companies have been observed and described. I like your conclusions style. \n",
    "\n",
    "</div>"
   ]
  },
  {
   "cell_type": "markdown",
   "metadata": {},
   "source": [
    "<div class=\"alert alert-block alert-info\">\n",
    "<b>The task page asks us to analyze things such as:\n",
    "    \n",
    "    -identify the top 10 neighborhoods in terms of drop-offs\n",
    "    -make graphs: taxi companies and number of rides, top 10 neighborhoods by number of dropoffs\n",
    "    -draw conclusions based on each graph and explain the results\n",
    "    \n",
    "But how does this help us get closer to the conclusion of whether weather conditions may affect ride duration? This analysis may be helpful if our goal was different, but I don't see the point here.\n",
    "</div>"
   ]
  },
  {
   "cell_type": "markdown",
   "metadata": {},
   "source": [
    "<div class=\"alert alert-block alert-success\">\n",
    "<b>Reviewer's comment v.1</b> \n",
    "    \n",
    "📝  Well, I think that we could move this part with the main tasks at the start of this chapter. About your question: yes, I agree with you that it is a bit strange because the first two tasks did not accompany the last one. So I would suggest that we should consider them as separate tasks. However, please do not forget that we have studied the average duration of rides from the Loop to O'Hare International Airport where the Loop is the most popular neighborhood in Chicago. https://loopchicago.com/\n",
    "</div>"
   ]
  },
  {
   "cell_type": "markdown",
   "metadata": {},
   "source": [
    "# Testing the Hypothesis"
   ]
  },
  {
   "cell_type": "markdown",
   "metadata": {},
   "source": [
    "**Null**: The average duration of rides from the Loop to O'Hare International Airport is the same on rainy Saturdays.\n",
    "\n",
    "**Alternative**: The average duration of rides from the Loop to O'Hare International Airport changes on rainy Saturdays."
   ]
  },
  {
   "cell_type": "code",
   "execution_count": 12,
   "metadata": {},
   "outputs": [
    {
     "name": "stdout",
     "output_type": "stream",
     "text": [
      "p-value:  1.3318772977743245e-11\n",
      "We reject the null hypothesis\n"
     ]
    }
   ],
   "source": [
    "results = st.ttest_ind(weather_df.loc[weather_df['weather_conditions'] == 'Bad']['duration_seconds'],\n",
    "                        weather_df.loc[weather_df['weather_conditions'] == 'Good']['duration_seconds'])\n",
    "\n",
    "alpha = 0.05\n",
    "\n",
    "print('p-value: ', results.pvalue)\n",
    "\n",
    "if results.pvalue < alpha:\n",
    "    print(\"We reject the null hypothesis\")\n",
    "else:\n",
    "    print(\"We can't reject the null hypothesis\")"
   ]
  },
  {
   "cell_type": "markdown",
   "metadata": {},
   "source": [
    "The hypothesis was formulated based off the hypothesis that was given to us (in fact, it's the exact same). The null hypothesis is assuming the duration is the same as on rainy days, where the alternative assumes it's different, as that's the nature of a null and alternative hypothesis. The p-value wasn't given any special attention, 0.05 is a standard value when testing a hypothesis. The critereon for testing the hypothesis was to search specifically for weather conditions considered 'Bad' and the durations of the trips for the first value, and the same for the second except for 'Good' weather conditions. This seems to be the best values to go about testing this kind of hypothesis."
   ]
  },
  {
   "cell_type": "markdown",
   "metadata": {},
   "source": [
    "<div class=\"alert alert-block alert-success\">\n",
    "<b>Reviewer's comment v.1</b> \n",
    "    \n",
    "👍 If we consider the test part, you have done a perfect job: the hypotheses have been formulated, the code and the interpretations of the results are correct.\n",
    "    \n",
    "</div>"
   ]
  },
  {
   "cell_type": "markdown",
   "metadata": {},
   "source": [
    "<div class=\"alert alert-danger\" role=\"alert\">\n",
    "<b>Reviewer's comment v.1</b> \n",
    "    \n",
    "✍ I would suggest some additional jobs here. Please note that the result of the t-test depends on the presence of outliers in the data. So we should check that. Also, please display the values that we compared within the test results. It makes results more informative we will know how the duration be changed.\n",
    "</div>"
   ]
  },
  {
   "cell_type": "code",
   "execution_count": 13,
   "metadata": {},
   "outputs": [
    {
     "name": "stdout",
     "output_type": "stream",
     "text": [
      "Average ride duration for Saturdays in bad weather: 2427.2055555555557\n",
      "Average ride duration for Saturdays in good weather: 2013.2789115646258\n"
     ]
    }
   ],
   "source": [
    "print('Average ride duration for Saturdays in bad weather:', weather_df.loc[weather_df['weather_conditions'] == 'Bad']['duration_seconds'].mean())\n",
    "print('Average ride duration for Saturdays in good weather:', weather_df.loc[weather_df['weather_conditions'] == 'Good']['duration_seconds'].mean())"
   ]
  },
  {
   "cell_type": "markdown",
   "metadata": {},
   "source": [
    "Looking at the mean times for ride duration in both types of weather the difference becomes more clear: The gap in means represents an almost 21% increase in ride duration from rides in good weather."
   ]
  },
  {
   "cell_type": "markdown",
   "metadata": {},
   "source": [
    "<div class=\"alert alert-block alert-info\">\n",
    "I wasn't entirely sure what data you wanted to see here, I used the values in the t-test as asked but printing out the table of values seems far too unwieldy, as well as more difficult to interpret, so I found the mean times for these two tables slices instead.\n",
    "</div>"
   ]
  },
  {
   "cell_type": "markdown",
   "metadata": {},
   "source": [
    "<div class=\"alert alert-block alert-success\">\n",
    "<b>Reviewer's comment v.2</b> \n",
    "    \n",
    "👍 Correct! I meant the mean values for the two samples that we compared. Also, I suggested that it is better to check the data for anomalies before tests. Like that:\n",
    "    \n",
    "</div>"
   ]
  },
  {
   "cell_type": "code",
   "execution_count": 14,
   "metadata": {},
   "outputs": [
    {
     "data": {
      "image/png": "[encoded data removed]",
      "text/plain": [
       "<Figure size 432x288 with 1 Axes>"
      ]
     },
     "metadata": {
      "needs_background": "light"
     },
     "output_type": "display_data"
    },
    {
     "name": "stdout",
     "output_type": "stream",
     "text": [
      "p-value:  4.553857606148197e-13\n",
      "We reject the null hypothesis\n"
     ]
    }
   ],
   "source": [
    "# the reviewer's code: let's check the data for anomalies:\n",
    "sns.boxplot(x=\"weather_conditions\", y=\"duration_seconds\", data=weather_df)\n",
    "plt.show()\n",
    "\n",
    "# as you can see, we have some anomalies higher than 4000 sec. So we could filter them in the test:\n",
    "results = st.ttest_ind(weather_df.query('weather_conditions == \"Bad\" and duration_seconds < 4000')['duration_seconds'],\n",
    "                       weather_df.query('weather_conditions == \"Good\" and duration_seconds < 4000')['duration_seconds'])\n",
    "alpha = 0.05\n",
    "\n",
    "print('p-value: ', results.pvalue)\n",
    "if results.pvalue < alpha: print(\"We reject the null hypothesis\")\n",
    "else: print(\"We can't reject the null hypothesis\")"
   ]
  },
  {
   "cell_type": "markdown",
   "metadata": {},
   "source": [
    "<div class=\"alert alert-block alert-success\">\n",
    "<b>Reviewer's comment v.2</b> \n",
    "    \n",
    "👍 Also, we could visualize the compared values:\n",
    "    \n",
    "</div>"
   ]
  },
  {
   "cell_type": "code",
   "execution_count": 15,
   "metadata": {},
   "outputs": [
    {
     "data": {
      "image/png": "[encoded data removed]",
      "text/plain": [
       "<Figure size 1224x360 with 2 Axes>"
      ]
     },
     "metadata": {
      "needs_background": "light"
     },
     "output_type": "display_data"
    }
   ],
   "source": [
    "# the reviewer's code:\n",
    "fig, axs = plt.subplots(nrows=1, ncols=2, figsize=(17, 5))\n",
    "axs[0].hist(x = weather_df.query('weather_conditions == \"Good\" and duration_seconds < 4000')['duration_seconds'], \n",
    "            bins = 30, alpha = 0.5, label = \"Good weather\")\n",
    "axs[0].hist(x = weather_df.query('weather_conditions == \"Bad\" and duration_seconds < 4000')['duration_seconds'], \n",
    "            bins = 30, alpha = 0.5, label = \"Bad weather\") \n",
    "axs[0].grid()\n",
    "axs[0].set_title('Duration of rides (sec) \\n from the Loop to O\\'Hare International Airport')\n",
    "axs[0].set_xlabel('Duration of rides (sec)')\n",
    "axs[0].set_ylabel('Number of cases')\n",
    "axs[0].legend()\n",
    "\n",
    "axs[1].hist(x = weather_df.query('weather_conditions == \"Good\" and duration_seconds < 4000')['duration_seconds'], \n",
    "            bins = 30, alpha = 0.5, density = True, label = \"Good weather\")\n",
    "axs[1].hist(x = weather_df.query('weather_conditions == \"Bad\" and duration_seconds < 4000')['duration_seconds'], \n",
    "            bins = 30, alpha = 0.5, density = True, label = \"Bad weather\") \n",
    "axs[1].grid()\n",
    "axs[1].set_title('The density of duration of rides (sec) \\n from the Loop to O\\'Hare International Airport')\n",
    "axs[1].set_xlabel('Duration of rides (sec)')\n",
    "axs[1].set_ylabel('Density')\n",
    "\n",
    "axs[1].axvline(weather_df.query('weather_conditions == \"Good\" and duration_seconds < 4000')['duration_seconds'].mean(),\n",
    "              label = \"Good weather, mean value\")\n",
    "axs[1].axvline(weather_df.query('weather_conditions == \"Bad\" and duration_seconds < 4000')['duration_seconds'].mean(),\n",
    "              label = \"Bad weather, mean value\", c = 'orange')\n",
    "axs[1].legend()\n",
    "\n",
    "plt.show()"
   ]
  },
  {
   "cell_type": "markdown",
   "metadata": {},
   "source": [
    "# Conclusion"
   ]
  },
  {
   "cell_type": "markdown",
   "metadata": {},
   "source": [
    "The analysis shows that bad weather will generally negatively affect taxi ride durations. The data may be skewed in that our focus for wether weather conditions may affect ride durations are focusing on a specific route and a specific day of the week. If this was a real project, I personally wouldn't use something so specific as it may skew the results.\n",
    "\n",
    "<div class=\"alert alert-success\" role=\"alert\">\n",
    "<b>Reviewer's comment v.1:</b> \n",
    "    \n",
    "📝 Theoretically, we would study how the average duration of rides from the Loop to O'Hare International Airport changes throughout the day. Most probable that the trip duration could be affected by the increase in road traffic during rush hour.\n",
    "</div>\n",
    "\n",
    "The taxi companies data show there's a dominance of one company, Flash Cab, in the taxi trips with other companies making much less trips in comparison but with all other companies combined Flash Cab is still a minority. There is also a large amount of dropoffs to certain areas moreso than others, which may hint these areas are residential areas. Connecting these two conclusions together, a big amount of trips to these residential areas are likely from Flash Cab which could possibly skew the results as Flash Cab may have specific regulations for drivers to go slower in harsher weather.\n",
    "\n",
    "Overall, there is a significant difference in taxi ride durations in bad weather than in good weather."
   ]
  },
  {
   "cell_type": "markdown",
   "metadata": {},
   "source": [
    "<div class=\"alert alert-success\" role=\"alert\">\n",
    "<b>Reviewer's comment v.1:</b> \n",
    "    \n",
    "👍 Well done!\n",
    "</div>"
   ]
  }
 ],
 "metadata": {
  "ExecuteTimeLog": [
   {
    "duration": 647,
    "start_time": "2021-10-27T03:39:51.044Z"
   },
   {
    "duration": 294,
    "start_time": "2021-10-27T03:41:25.565Z"
   },
   {
    "duration": 52,
    "start_time": "2021-10-27T03:41:32.296Z"
   },
   {
    "duration": 16,
    "start_time": "2021-10-27T03:41:33.882Z"
   },
   {
    "duration": 9,
    "start_time": "2021-10-27T03:41:35.592Z"
   },
   {
    "duration": 13,
    "start_time": "2021-10-27T03:41:53.561Z"
   },
   {
    "duration": 283,
    "start_time": "2021-10-27T03:42:05.208Z"
   },
   {
    "duration": 13,
    "start_time": "2021-10-27T03:42:31.093Z"
   },
   {
    "duration": 13,
    "start_time": "2021-10-27T03:42:58.066Z"
   },
   {
    "duration": 234,
    "start_time": "2021-10-27T03:43:33.869Z"
   },
   {
    "duration": 248,
    "start_time": "2021-10-27T03:43:48.395Z"
   },
   {
    "duration": 10,
    "start_time": "2021-10-27T03:43:57.863Z"
   },
   {
    "duration": 6,
    "start_time": "2021-10-27T03:44:02.851Z"
   },
   {
    "duration": 7,
    "start_time": "2021-10-27T03:44:14.840Z"
   },
   {
    "duration": 6,
    "start_time": "2021-10-27T03:44:20.935Z"
   },
   {
    "duration": 8,
    "start_time": "2021-10-27T03:44:29.834Z"
   },
   {
    "duration": 87,
    "start_time": "2021-10-27T03:47:00.168Z"
   },
   {
    "duration": 59,
    "start_time": "2021-10-27T03:47:11.826Z"
   },
   {
    "duration": 14,
    "start_time": "2021-10-27T03:47:28.214Z"
   },
   {
    "duration": 9,
    "start_time": "2021-10-27T03:49:53.189Z"
   },
   {
    "duration": 9,
    "start_time": "2021-10-27T03:50:16.184Z"
   },
   {
    "duration": 244,
    "start_time": "2021-10-27T03:50:50.577Z"
   },
   {
    "duration": 7,
    "start_time": "2021-10-27T03:51:07.404Z"
   },
   {
    "duration": 243,
    "start_time": "2021-10-27T03:52:18.608Z"
   },
   {
    "duration": 239,
    "start_time": "2021-10-27T03:52:21.430Z"
   },
   {
    "duration": 59,
    "start_time": "2021-10-27T03:52:57.796Z"
   },
   {
    "duration": 240,
    "start_time": "2021-10-27T03:53:05.996Z"
   },
   {
    "duration": 403,
    "start_time": "2021-10-27T03:53:25.181Z"
   },
   {
    "duration": 5,
    "start_time": "2021-10-27T03:53:42.222Z"
   },
   {
    "duration": 6,
    "start_time": "2021-10-27T03:54:17.295Z"
   },
   {
    "duration": 5,
    "start_time": "2021-10-27T03:54:41.522Z"
   },
   {
    "duration": 347,
    "start_time": "2021-10-28T01:59:13.000Z"
   },
   {
    "duration": 3,
    "start_time": "2021-10-28T02:00:07.805Z"
   },
   {
    "duration": 13,
    "start_time": "2021-10-28T02:00:15.748Z"
   },
   {
    "duration": 8,
    "start_time": "2021-10-28T02:01:31.000Z"
   },
   {
    "duration": 8,
    "start_time": "2021-10-28T02:02:21.429Z"
   },
   {
    "duration": 8,
    "start_time": "2021-10-28T02:02:30.028Z"
   },
   {
    "duration": 12,
    "start_time": "2021-10-28T02:03:03.797Z"
   },
   {
    "duration": 373,
    "start_time": "2021-10-28T02:12:28.784Z"
   },
   {
    "duration": 814,
    "start_time": "2021-10-28T02:12:33.407Z"
   },
   {
    "duration": 2243,
    "start_time": "2021-10-28T02:12:37.313Z"
   },
   {
    "duration": 12,
    "start_time": "2021-10-28T02:13:35.860Z"
   },
   {
    "duration": 297,
    "start_time": "2021-10-28T02:13:58.392Z"
   },
   {
    "duration": 295,
    "start_time": "2021-10-28T02:14:05.512Z"
   },
   {
    "duration": 289,
    "start_time": "2021-10-28T02:14:12.420Z"
   },
   {
    "duration": 6,
    "start_time": "2021-10-28T02:14:26.644Z"
   },
   {
    "duration": 13,
    "start_time": "2021-10-28T02:14:33.886Z"
   },
   {
    "duration": 709,
    "start_time": "2021-10-28T02:15:37.466Z"
   },
   {
    "duration": 54,
    "start_time": "2021-10-28T02:15:53.048Z"
   },
   {
    "duration": 295,
    "start_time": "2021-10-28T02:15:57.018Z"
   },
   {
    "duration": 547,
    "start_time": "2021-10-28T02:19:36.671Z"
   },
   {
    "duration": 97,
    "start_time": "2021-10-28T02:19:51.041Z"
   },
   {
    "duration": 546,
    "start_time": "2021-10-28T02:19:56.031Z"
   },
   {
    "duration": 731,
    "start_time": "2021-10-28T02:20:34.752Z"
   },
   {
    "duration": 498,
    "start_time": "2021-10-28T02:20:43.032Z"
   },
   {
    "duration": 538,
    "start_time": "2021-10-28T02:20:55.716Z"
   },
   {
    "duration": 392,
    "start_time": "2021-10-28T02:21:01.842Z"
   },
   {
    "duration": 401,
    "start_time": "2021-10-28T02:21:10.026Z"
   },
   {
    "duration": 419,
    "start_time": "2021-10-28T02:21:17.701Z"
   },
   {
    "duration": 290,
    "start_time": "2021-10-28T02:22:32.177Z"
   },
   {
    "duration": 2252,
    "start_time": "2021-10-28T02:22:49.835Z"
   },
   {
    "duration": 11,
    "start_time": "2021-10-28T02:23:41.611Z"
   },
   {
    "duration": 448,
    "start_time": "2021-10-28T02:23:50.825Z"
   },
   {
    "duration": 525,
    "start_time": "2021-10-28T02:24:07.460Z"
   },
   {
    "duration": 557,
    "start_time": "2021-10-28T02:24:16.048Z"
   },
   {
    "duration": 718,
    "start_time": "2021-10-28T02:24:29.676Z"
   },
   {
    "duration": 735,
    "start_time": "2021-10-28T02:25:17.849Z"
   },
   {
    "duration": 429,
    "start_time": "2021-10-28T02:29:59.278Z"
   },
   {
    "duration": 10,
    "start_time": "2021-10-28T02:52:21.204Z"
   },
   {
    "duration": 95,
    "start_time": "2021-10-28T03:21:01.429Z"
   },
   {
    "duration": 336,
    "start_time": "2021-10-28T03:21:37.838Z"
   },
   {
    "duration": 283,
    "start_time": "2021-10-28T03:23:10.335Z"
   },
   {
    "duration": 1499,
    "start_time": "2021-10-28T03:23:19.815Z"
   },
   {
    "duration": 25,
    "start_time": "2021-10-28T03:23:21.317Z"
   },
   {
    "duration": 17,
    "start_time": "2021-10-28T03:23:21.345Z"
   },
   {
    "duration": 20,
    "start_time": "2021-10-28T03:23:21.365Z"
   },
   {
    "duration": 12,
    "start_time": "2021-10-28T03:23:21.387Z"
   },
   {
    "duration": 10,
    "start_time": "2021-10-28T03:23:21.401Z"
   },
   {
    "duration": 14,
    "start_time": "2021-10-28T03:23:21.413Z"
   },
   {
    "duration": 490,
    "start_time": "2021-10-28T03:23:21.431Z"
   },
   {
    "duration": 13,
    "start_time": "2021-10-28T03:23:21.924Z"
   },
   {
    "duration": 785,
    "start_time": "2021-10-28T03:23:21.939Z"
   },
   {
    "duration": 10,
    "start_time": "2021-10-28T03:23:22.727Z"
   },
   {
    "duration": 400,
    "start_time": "2021-10-28T03:23:22.739Z"
   },
   {
    "duration": 54,
    "start_time": "2021-10-28T03:23:38.352Z"
   },
   {
    "duration": 11,
    "start_time": "2021-10-28T03:23:41.426Z"
   },
   {
    "duration": 10,
    "start_time": "2021-10-28T03:24:01.678Z"
   },
   {
    "duration": 10,
    "start_time": "2021-10-28T03:24:26.127Z"
   },
   {
    "duration": 11,
    "start_time": "2021-10-28T03:24:31.224Z"
   },
   {
    "duration": 1475,
    "start_time": "2021-10-28T03:50:07.416Z"
   },
   {
    "duration": 23,
    "start_time": "2021-10-28T03:50:08.894Z"
   },
   {
    "duration": 17,
    "start_time": "2021-10-28T03:50:08.919Z"
   },
   {
    "duration": 15,
    "start_time": "2021-10-28T03:50:08.938Z"
   },
   {
    "duration": 12,
    "start_time": "2021-10-28T03:50:08.982Z"
   },
   {
    "duration": 10,
    "start_time": "2021-10-28T03:50:08.997Z"
   },
   {
    "duration": 11,
    "start_time": "2021-10-28T03:50:09.010Z"
   },
   {
    "duration": 470,
    "start_time": "2021-10-28T03:50:09.024Z"
   },
   {
    "duration": 11,
    "start_time": "2021-10-28T03:50:09.497Z"
   },
   {
    "duration": 879,
    "start_time": "2021-10-28T03:50:09.511Z"
   },
   {
    "duration": 11,
    "start_time": "2021-10-28T03:50:10.392Z"
   },
   {
    "duration": 12,
    "start_time": "2021-10-28T03:50:10.405Z"
   },
   {
    "duration": 1552,
    "start_time": "2021-10-28T06:40:21.911Z"
   },
   {
    "duration": 24,
    "start_time": "2021-10-28T06:40:23.466Z"
   },
   {
    "duration": 19,
    "start_time": "2021-10-28T06:40:23.493Z"
   },
   {
    "duration": 14,
    "start_time": "2021-10-28T06:40:23.515Z"
   },
   {
    "duration": 12,
    "start_time": "2021-10-28T06:40:23.532Z"
   },
   {
    "duration": 10,
    "start_time": "2021-10-28T06:40:23.546Z"
   },
   {
    "duration": 12,
    "start_time": "2021-10-28T06:40:23.559Z"
   },
   {
    "duration": 483,
    "start_time": "2021-10-28T06:40:23.574Z"
   },
   {
    "duration": 13,
    "start_time": "2021-10-28T06:40:24.060Z"
   },
   {
    "duration": 786,
    "start_time": "2021-10-28T06:40:24.076Z"
   },
   {
    "duration": 13,
    "start_time": "2021-10-28T06:40:24.865Z"
   },
   {
    "duration": 341,
    "start_time": "2021-10-28T23:55:44.197Z"
   },
   {
    "duration": 2069,
    "start_time": "2021-10-28T23:55:49.777Z"
   },
   {
    "duration": 24,
    "start_time": "2021-10-28T23:55:51.849Z"
   },
   {
    "duration": 17,
    "start_time": "2021-10-28T23:55:51.877Z"
   },
   {
    "duration": 13,
    "start_time": "2021-10-28T23:55:51.896Z"
   },
   {
    "duration": 16,
    "start_time": "2021-10-28T23:55:51.911Z"
   },
   {
    "duration": 9,
    "start_time": "2021-10-28T23:55:51.929Z"
   },
   {
    "duration": 53,
    "start_time": "2021-10-28T23:55:51.940Z"
   },
   {
    "duration": 447,
    "start_time": "2021-10-28T23:55:51.996Z"
   },
   {
    "duration": 12,
    "start_time": "2021-10-28T23:55:52.445Z"
   },
   {
    "duration": 786,
    "start_time": "2021-10-28T23:55:52.459Z"
   },
   {
    "duration": 10,
    "start_time": "2021-10-28T23:55:53.247Z"
   },
   {
    "duration": 421,
    "start_time": "2021-10-28T23:57:44.965Z"
   },
   {
    "duration": 9,
    "start_time": "2021-10-28T23:58:29.366Z"
   },
   {
    "duration": 10,
    "start_time": "2021-10-29T00:01:58.619Z"
   },
   {
    "duration": 8,
    "start_time": "2021-10-29T00:02:11.916Z"
   },
   {
    "duration": 9,
    "start_time": "2021-10-29T00:05:28.344Z"
   },
   {
    "duration": 8,
    "start_time": "2021-10-29T00:05:32.526Z"
   },
   {
    "duration": 7,
    "start_time": "2021-10-29T00:05:46.264Z"
   },
   {
    "duration": 9,
    "start_time": "2021-10-29T00:05:50.899Z"
   },
   {
    "duration": 13,
    "start_time": "2021-10-29T00:06:40.960Z"
   },
   {
    "duration": 12,
    "start_time": "2021-10-29T00:06:49.583Z"
   },
   {
    "duration": 16,
    "start_time": "2021-10-29T00:07:09.578Z"
   },
   {
    "duration": 15,
    "start_time": "2021-10-29T00:07:11.577Z"
   },
   {
    "duration": 20,
    "start_time": "2021-10-29T00:07:29.986Z"
   },
   {
    "duration": 22,
    "start_time": "2021-10-29T00:07:58.505Z"
   },
   {
    "duration": 16,
    "start_time": "2021-10-29T00:08:32.235Z"
   },
   {
    "duration": 15,
    "start_time": "2021-10-29T00:08:42.063Z"
   },
   {
    "duration": 15,
    "start_time": "2021-10-29T00:08:49.746Z"
   },
   {
    "duration": 19,
    "start_time": "2021-10-29T00:11:27.490Z"
   },
   {
    "duration": 17,
    "start_time": "2021-10-29T00:11:40.006Z"
   },
   {
    "duration": 15,
    "start_time": "2021-10-29T00:11:49.722Z"
   },
   {
    "duration": 18,
    "start_time": "2021-10-29T00:11:55.236Z"
   },
   {
    "duration": 294,
    "start_time": "2021-10-29T00:13:24.455Z"
   },
   {
    "duration": 457,
    "start_time": "2021-10-29T00:13:44.839Z"
   },
   {
    "duration": 15,
    "start_time": "2021-10-29T00:13:51.907Z"
   },
   {
    "duration": 27,
    "start_time": "2021-10-29T00:14:59.965Z"
   },
   {
    "duration": 26,
    "start_time": "2021-10-29T00:15:06.081Z"
   },
   {
    "duration": 26,
    "start_time": "2021-10-29T00:15:14.357Z"
   },
   {
    "duration": 24,
    "start_time": "2021-10-29T00:15:27.398Z"
   },
   {
    "duration": 7404,
    "start_time": "2021-10-29T00:17:20.189Z"
   },
   {
    "duration": 20,
    "start_time": "2021-10-29T00:17:28.876Z"
   },
   {
    "duration": 1070,
    "start_time": "2021-10-29T00:17:33.186Z"
   },
   {
    "duration": 29,
    "start_time": "2021-10-29T00:19:39.287Z"
   },
   {
    "duration": 24,
    "start_time": "2021-10-29T00:19:51.412Z"
   },
   {
    "duration": 31,
    "start_time": "2021-10-29T00:20:21.404Z"
   },
   {
    "duration": 26,
    "start_time": "2021-10-29T00:21:31.098Z"
   },
   {
    "duration": 1484,
    "start_time": "2021-10-29T00:21:44.503Z"
   },
   {
    "duration": 21,
    "start_time": "2021-10-29T00:21:45.990Z"
   },
   {
    "duration": 15,
    "start_time": "2021-10-29T00:21:46.014Z"
   },
   {
    "duration": 49,
    "start_time": "2021-10-29T00:21:46.032Z"
   },
   {
    "duration": 7,
    "start_time": "2021-10-29T00:21:46.084Z"
   },
   {
    "duration": 26,
    "start_time": "2021-10-29T00:21:46.093Z"
   },
   {
    "duration": 7,
    "start_time": "2021-10-29T00:21:46.122Z"
   },
   {
    "duration": 429,
    "start_time": "2021-10-29T00:21:46.132Z"
   },
   {
    "duration": -5230,
    "start_time": "2021-10-29T00:21:51.795Z"
   },
   {
    "duration": -5230,
    "start_time": "2021-10-29T00:21:51.796Z"
   },
   {
    "duration": -5228,
    "start_time": "2021-10-29T00:21:51.797Z"
   },
   {
    "duration": 24,
    "start_time": "2021-10-29T00:22:05.881Z"
   },
   {
    "duration": 22,
    "start_time": "2021-10-29T00:22:17.978Z"
   },
   {
    "duration": 300,
    "start_time": "2021-10-29T00:25:41.001Z"
   },
   {
    "duration": 1469,
    "start_time": "2021-10-29T00:25:54.879Z"
   },
   {
    "duration": 21,
    "start_time": "2021-10-29T00:25:56.351Z"
   },
   {
    "duration": 16,
    "start_time": "2021-10-29T00:25:56.375Z"
   },
   {
    "duration": 15,
    "start_time": "2021-10-29T00:25:56.393Z"
   },
   {
    "duration": 8,
    "start_time": "2021-10-29T00:25:56.411Z"
   },
   {
    "duration": 24,
    "start_time": "2021-10-29T00:25:56.421Z"
   },
   {
    "duration": 36,
    "start_time": "2021-10-29T00:25:56.448Z"
   },
   {
    "duration": 419,
    "start_time": "2021-10-29T00:25:56.488Z"
   },
   {
    "duration": -5025,
    "start_time": "2021-10-29T00:26:01.935Z"
   },
   {
    "duration": -5024,
    "start_time": "2021-10-29T00:26:01.936Z"
   },
   {
    "duration": -5024,
    "start_time": "2021-10-29T00:26:01.937Z"
   },
   {
    "duration": 12,
    "start_time": "2021-10-29T00:26:29.695Z"
   },
   {
    "duration": 435,
    "start_time": "2021-10-29T00:28:11.152Z"
   },
   {
    "duration": 443,
    "start_time": "2021-10-29T00:29:28.734Z"
   },
   {
    "duration": 1409,
    "start_time": "2021-10-29T00:32:09.323Z"
   },
   {
    "duration": 20,
    "start_time": "2021-10-29T00:32:10.735Z"
   },
   {
    "duration": 15,
    "start_time": "2021-10-29T00:32:10.757Z"
   },
   {
    "duration": 13,
    "start_time": "2021-10-29T00:32:10.774Z"
   },
   {
    "duration": 10,
    "start_time": "2021-10-29T00:32:10.789Z"
   },
   {
    "duration": 23,
    "start_time": "2021-10-29T00:32:10.801Z"
   },
   {
    "duration": 11,
    "start_time": "2021-10-29T00:32:10.826Z"
   },
   {
    "duration": 480,
    "start_time": "2021-10-29T00:32:10.840Z"
   },
   {
    "duration": 12,
    "start_time": "2021-10-29T00:32:11.322Z"
   },
   {
    "duration": 809,
    "start_time": "2021-10-29T00:32:11.336Z"
   },
   {
    "duration": 11,
    "start_time": "2021-10-29T00:32:12.147Z"
   },
   {
    "duration": 768,
    "start_time": "2021-10-29T00:32:38.766Z"
   },
   {
    "duration": 800,
    "start_time": "2021-10-29T00:33:01.469Z"
   },
   {
    "duration": 596,
    "start_time": "2021-10-29T00:33:14.786Z"
   },
   {
    "duration": 618,
    "start_time": "2021-10-29T00:33:18.805Z"
   },
   {
    "duration": 639,
    "start_time": "2021-10-29T00:33:31.166Z"
   },
   {
    "duration": 476,
    "start_time": "2021-10-29T00:33:34.023Z"
   },
   {
    "duration": 502,
    "start_time": "2021-10-29T00:34:47.531Z"
   },
   {
    "duration": 505,
    "start_time": "2021-10-29T00:34:55.303Z"
   },
   {
    "duration": 496,
    "start_time": "2021-10-29T00:35:03.319Z"
   },
   {
    "duration": 548,
    "start_time": "2021-10-29T00:35:08.944Z"
   },
   {
    "duration": 525,
    "start_time": "2021-10-29T00:35:16.831Z"
   },
   {
    "duration": 12,
    "start_time": "2021-10-29T00:36:10.843Z"
   },
   {
    "duration": 10,
    "start_time": "2021-10-29T00:38:03.854Z"
   },
   {
    "duration": 8,
    "start_time": "2021-10-29T00:38:10.725Z"
   },
   {
    "duration": 12,
    "start_time": "2021-10-29T00:38:21.359Z"
   },
   {
    "duration": 12,
    "start_time": "2021-10-29T00:38:26.867Z"
   },
   {
    "duration": 10,
    "start_time": "2021-10-29T00:38:32.727Z"
   },
   {
    "duration": 10,
    "start_time": "2021-10-29T00:39:01.430Z"
   },
   {
    "duration": 10,
    "start_time": "2021-10-29T00:39:13.289Z"
   },
   {
    "duration": 1356,
    "start_time": "2021-10-29T06:16:33.802Z"
   },
   {
    "duration": 14,
    "start_time": "2021-10-29T06:16:35.160Z"
   },
   {
    "duration": 15,
    "start_time": "2021-10-29T06:16:35.176Z"
   },
   {
    "duration": 13,
    "start_time": "2021-10-29T06:16:35.193Z"
   },
   {
    "duration": 8,
    "start_time": "2021-10-29T06:16:35.208Z"
   },
   {
    "duration": 35,
    "start_time": "2021-10-29T06:16:35.218Z"
   },
   {
    "duration": 8,
    "start_time": "2021-10-29T06:16:35.254Z"
   },
   {
    "duration": 289,
    "start_time": "2021-10-29T06:16:35.264Z"
   },
   {
    "duration": 9,
    "start_time": "2021-10-29T06:16:35.554Z"
   },
   {
    "duration": 336,
    "start_time": "2021-10-29T06:16:35.564Z"
   },
   {
    "duration": 8,
    "start_time": "2021-10-29T06:16:35.902Z"
   },
   {
    "duration": 9,
    "start_time": "2021-10-29T06:16:35.911Z"
   },
   {
    "duration": 9,
    "start_time": "2021-10-29T06:17:29.554Z"
   },
   {
    "duration": 9,
    "start_time": "2021-10-29T06:17:39.030Z"
   },
   {
    "duration": 82,
    "start_time": "2021-10-29T06:18:05.517Z"
   },
   {
    "duration": 286,
    "start_time": "2021-10-29T06:18:08.179Z"
   },
   {
    "duration": 11,
    "start_time": "2021-10-29T06:25:54.241Z"
   },
   {
    "duration": 124,
    "start_time": "2021-10-29T06:26:48.359Z"
   },
   {
    "duration": 146,
    "start_time": "2021-10-29T06:27:33.659Z"
   },
   {
    "duration": 144,
    "start_time": "2021-10-29T06:28:00.160Z"
   },
   {
    "duration": 368,
    "start_time": "2021-10-29T06:31:31.773Z"
   },
   {
    "duration": 417,
    "start_time": "2021-10-29T06:38:13.872Z"
   },
   {
    "duration": 101,
    "start_time": "2021-10-29T06:38:26.141Z"
   },
   {
    "duration": 325,
    "start_time": "2021-10-29T06:38:28.241Z"
   },
   {
    "duration": 333,
    "start_time": "2021-10-29T06:39:51.403Z"
   },
   {
    "duration": 332,
    "start_time": "2021-10-29T06:40:31.567Z"
   },
   {
    "duration": 341,
    "start_time": "2021-10-29T06:40:39.117Z"
   },
   {
    "duration": 432,
    "start_time": "2021-10-29T06:40:44.667Z"
   },
   {
    "duration": 395,
    "start_time": "2021-10-29T06:41:10.492Z"
   },
   {
    "duration": 369,
    "start_time": "2021-10-29T06:41:15.568Z"
   },
   {
    "duration": 706,
    "start_time": "2021-10-29T06:41:40.193Z"
   },
   {
    "duration": 570,
    "start_time": "2021-10-29T06:45:12.556Z"
   },
   {
    "duration": 552,
    "start_time": "2021-10-29T06:45:34.120Z"
   },
   {
    "duration": 565,
    "start_time": "2021-10-29T06:46:25.985Z"
   },
   {
    "duration": 565,
    "start_time": "2021-10-29T06:46:38.046Z"
   },
   {
    "duration": 590,
    "start_time": "2021-10-29T06:46:54.845Z"
   },
   {
    "duration": 1083,
    "start_time": "2021-10-29T06:48:10.372Z"
   },
   {
    "duration": 1030,
    "start_time": "2021-10-29T06:48:15.622Z"
   },
   {
    "duration": 1151,
    "start_time": "2021-10-29T06:48:52.948Z"
   },
   {
    "duration": 862,
    "start_time": "2021-10-29T06:49:29.372Z"
   },
   {
    "duration": 887,
    "start_time": "2021-10-29T06:49:46.573Z"
   },
   {
    "duration": 794,
    "start_time": "2021-10-29T06:50:16.073Z"
   },
   {
    "duration": 1231,
    "start_time": "2021-10-29T06:50:28.141Z"
   },
   {
    "duration": 19,
    "start_time": "2021-10-29T06:50:29.374Z"
   },
   {
    "duration": 11,
    "start_time": "2021-10-29T06:50:29.396Z"
   },
   {
    "duration": 14,
    "start_time": "2021-10-29T06:50:29.409Z"
   },
   {
    "duration": 13,
    "start_time": "2021-10-29T06:50:29.425Z"
   },
   {
    "duration": 22,
    "start_time": "2021-10-29T06:50:29.440Z"
   },
   {
    "duration": 9,
    "start_time": "2021-10-29T06:50:29.464Z"
   },
   {
    "duration": 309,
    "start_time": "2021-10-29T06:50:29.475Z"
   },
   {
    "duration": 293,
    "start_time": "2021-10-29T06:50:29.786Z"
   },
   {
    "duration": 8,
    "start_time": "2021-10-29T06:50:30.081Z"
   },
   {
    "duration": 337,
    "start_time": "2021-10-29T06:50:30.091Z"
   },
   {
    "duration": 15,
    "start_time": "2021-10-29T06:50:30.429Z"
   },
   {
    "duration": 9,
    "start_time": "2021-10-29T06:50:30.446Z"
   },
   {
    "duration": 176,
    "start_time": "2021-10-29T06:50:30.457Z"
   },
   {
    "duration": 925,
    "start_time": "2021-10-29T06:50:30.634Z"
   }
  ],
  "kernelspec": {
   "display_name": "Python 3 (ipykernel)",
   "language": "python",
   "name": "python3"
  },
  "language_info": {
   "codemirror_mode": {
    "name": "ipython",
    "version": 3
   },
   "file_extension": ".py",
   "mimetype": "text/x-python",
   "name": "python",
   "nbconvert_exporter": "python",
   "pygments_lexer": "ipython3",
   "version": "3.9.5"
  },
  "toc": {
   "base_numbering": 1,
   "nav_menu": {},
   "number_sections": true,
   "sideBar": true,
   "skip_h1_title": true,
   "title_cell": "Table of Contents",
   "title_sidebar": "Contents",
   "toc_cell": false,
   "toc_position": {},
   "toc_section_display": true,
   "toc_window_display": false
  }
 },
 "nbformat": 4,
 "nbformat_minor": 2
}
