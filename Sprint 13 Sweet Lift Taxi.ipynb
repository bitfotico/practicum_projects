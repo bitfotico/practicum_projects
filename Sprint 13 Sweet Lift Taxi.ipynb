{
 "cells": [
  {
   "cell_type": "markdown",
   "metadata": {},
   "source": [
    "# Project description\n",
    "\n",
    "Sweet Lift Taxi company has collected historical data on taxi orders at airports. To attract more drivers during peak hours, we need to predict the amount of taxi orders for the next hour. Build a model for such a prediction.\n",
    "\n",
    "The RMSE metric on the test set should not be more than 48."
   ]
  },
  {
   "cell_type": "markdown",
   "metadata": {},
   "source": [
    "## Preparation"
   ]
  },
  {
   "cell_type": "code",
   "execution_count": 1,
   "metadata": {},
   "outputs": [],
   "source": [
    "import pandas as pd\n",
    "import seaborn as sns\n",
    "import numpy as np\n",
    "import matplotlib.pyplot as plt\n",
    "from math import sqrt\n",
    "import math\n",
    "\n",
    "from sklearn.model_selection import train_test_split\n",
    "from sklearn.metrics import mean_squared_error, confusion_matrix\n",
    "from statsmodels.tsa.seasonal import seasonal_decompose\n",
    "from sklearn.model_selection import TimeSeriesSplit, GridSearchCV\n",
    "\n",
    "from sklearn.ensemble import RandomForestRegressor\n",
    "from catboost import CatBoostRegressor\n",
    "from sklearn.linear_model import LinearRegression"
   ]
  },
  {
   "cell_type": "code",
   "execution_count": 2,
   "metadata": {},
   "outputs": [],
   "source": [
    "df = pd.read_csv('C:/Users/Kayo/Downloads/taxi.csv', parse_dates=[0])"
   ]
  },
  {
   "cell_type": "code",
   "execution_count": 3,
   "metadata": {},
   "outputs": [
    {
     "name": "stdout",
     "output_type": "stream",
     "text": [
      "<class 'pandas.core.frame.DataFrame'>\n",
      "RangeIndex: 26496 entries, 0 to 26495\n",
      "Data columns (total 2 columns):\n",
      " #   Column      Non-Null Count  Dtype         \n",
      "---  ------      --------------  -----         \n",
      " 0   datetime    26496 non-null  datetime64[ns]\n",
      " 1   num_orders  26496 non-null  int64         \n",
      "dtypes: datetime64[ns](1), int64(1)\n",
      "memory usage: 414.1 KB\n"
     ]
    }
   ],
   "source": [
    "# Checking Dataframe's general info\n",
    "df.info()"
   ]
  },
  {
   "cell_type": "code",
   "execution_count": 4,
   "metadata": {},
   "outputs": [
    {
     "data": {
      "text/html": [
       "<div>\n",
       "<style scoped>\n",
       "    .dataframe tbody tr th:only-of-type {\n",
       "        vertical-align: middle;\n",
       "    }\n",
       "\n",
       "    .dataframe tbody tr th {\n",
       "        vertical-align: top;\n",
       "    }\n",
       "\n",
       "    .dataframe thead th {\n",
       "        text-align: right;\n",
       "    }\n",
       "</style>\n",
       "<table border=\"1\" class=\"dataframe\">\n",
       "  <thead>\n",
       "    <tr style=\"text-align: right;\">\n",
       "      <th></th>\n",
       "      <th>num_orders</th>\n",
       "    </tr>\n",
       "  </thead>\n",
       "  <tbody>\n",
       "    <tr>\n",
       "      <th>count</th>\n",
       "      <td>26496.000000</td>\n",
       "    </tr>\n",
       "    <tr>\n",
       "      <th>mean</th>\n",
       "      <td>14.070463</td>\n",
       "    </tr>\n",
       "    <tr>\n",
       "      <th>std</th>\n",
       "      <td>9.211330</td>\n",
       "    </tr>\n",
       "    <tr>\n",
       "      <th>min</th>\n",
       "      <td>0.000000</td>\n",
       "    </tr>\n",
       "    <tr>\n",
       "      <th>25%</th>\n",
       "      <td>8.000000</td>\n",
       "    </tr>\n",
       "    <tr>\n",
       "      <th>50%</th>\n",
       "      <td>13.000000</td>\n",
       "    </tr>\n",
       "    <tr>\n",
       "      <th>75%</th>\n",
       "      <td>19.000000</td>\n",
       "    </tr>\n",
       "    <tr>\n",
       "      <th>max</th>\n",
       "      <td>119.000000</td>\n",
       "    </tr>\n",
       "  </tbody>\n",
       "</table>\n",
       "</div>"
      ],
      "text/plain": [
       "         num_orders\n",
       "count  26496.000000\n",
       "mean      14.070463\n",
       "std        9.211330\n",
       "min        0.000000\n",
       "25%        8.000000\n",
       "50%       13.000000\n",
       "75%       19.000000\n",
       "max      119.000000"
      ]
     },
     "execution_count": 4,
     "metadata": {},
     "output_type": "execute_result"
    }
   ],
   "source": [
    "# Checking Dataframe's general info\n",
    "df.describe()"
   ]
  },
  {
   "cell_type": "code",
   "execution_count": 5,
   "metadata": {},
   "outputs": [
    {
     "data": {
      "text/html": [
       "<div>\n",
       "<style scoped>\n",
       "    .dataframe tbody tr th:only-of-type {\n",
       "        vertical-align: middle;\n",
       "    }\n",
       "\n",
       "    .dataframe tbody tr th {\n",
       "        vertical-align: top;\n",
       "    }\n",
       "\n",
       "    .dataframe thead th {\n",
       "        text-align: right;\n",
       "    }\n",
       "</style>\n",
       "<table border=\"1\" class=\"dataframe\">\n",
       "  <thead>\n",
       "    <tr style=\"text-align: right;\">\n",
       "      <th></th>\n",
       "      <th>datetime</th>\n",
       "      <th>num_orders</th>\n",
       "    </tr>\n",
       "  </thead>\n",
       "  <tbody>\n",
       "    <tr>\n",
       "      <th>0</th>\n",
       "      <td>2018-03-01 00:00:00</td>\n",
       "      <td>9</td>\n",
       "    </tr>\n",
       "    <tr>\n",
       "      <th>1</th>\n",
       "      <td>2018-03-01 00:10:00</td>\n",
       "      <td>14</td>\n",
       "    </tr>\n",
       "    <tr>\n",
       "      <th>2</th>\n",
       "      <td>2018-03-01 00:20:00</td>\n",
       "      <td>28</td>\n",
       "    </tr>\n",
       "    <tr>\n",
       "      <th>3</th>\n",
       "      <td>2018-03-01 00:30:00</td>\n",
       "      <td>20</td>\n",
       "    </tr>\n",
       "    <tr>\n",
       "      <th>4</th>\n",
       "      <td>2018-03-01 00:40:00</td>\n",
       "      <td>32</td>\n",
       "    </tr>\n",
       "  </tbody>\n",
       "</table>\n",
       "</div>"
      ],
      "text/plain": [
       "             datetime  num_orders\n",
       "0 2018-03-01 00:00:00           9\n",
       "1 2018-03-01 00:10:00          14\n",
       "2 2018-03-01 00:20:00          28\n",
       "3 2018-03-01 00:30:00          20\n",
       "4 2018-03-01 00:40:00          32"
      ]
     },
     "execution_count": 5,
     "metadata": {},
     "output_type": "execute_result"
    }
   ],
   "source": [
    "# Checking Dataframe's general info\n",
    "df.head()"
   ]
  },
  {
   "cell_type": "code",
   "execution_count": 6,
   "metadata": {},
   "outputs": [
    {
     "name": "stdout",
     "output_type": "stream",
     "text": [
      "NaN Count: 0\n",
      "Duplicate Rows: 0\n"
     ]
    }
   ],
   "source": [
    "print('NaN Count:', df.isna().sum().sum())\n",
    "print('Duplicate Rows:', len(df) - len(df.drop_duplicates()))"
   ]
  },
  {
   "cell_type": "markdown",
   "metadata": {},
   "source": [
    "The reason we didn't convert our index into datetime immediately like we did with parse_date is because if we checked for duplicates afterwards we would notice almost every row would be considered a duplicate, since a row with the same amount of orders appears as though a duplicate row if there's not an additional column to differentiate them."
   ]
  },
  {
   "cell_type": "code",
   "execution_count": 7,
   "metadata": {},
   "outputs": [],
   "source": [
    "df = df.set_index('datetime').resample('1H').sum()"
   ]
  },
  {
   "cell_type": "markdown",
   "metadata": {},
   "source": [
    "## Analysis"
   ]
  },
  {
   "cell_type": "code",
   "execution_count": 8,
   "metadata": {},
   "outputs": [
    {
     "data": {
      "image/png": "[encoded data removed]",
      "text/plain": [
       "<Figure size 1152x432 with 1 Axes>"
      ]
     },
     "metadata": {},
     "output_type": "display_data"
    }
   ],
   "source": [
    "# Plotting our dataframe\n",
    "sns.set(rc={'figure.figsize':(16, 6)})\n",
    "sns.lineplot(data=df['num_orders']);\n",
    "df['num_orders'].rolling(30).mean().plot();\n",
    "\n",
    "plt.ylabel('Number of Orders');\n",
    "plt.xlabel('Date');\n",
    "plt.title('Taxi Orders', fontsize=16);"
   ]
  },
  {
   "cell_type": "markdown",
   "metadata": {},
   "source": [
    "Our data seems fairly consistent in orders placed. Farther into the year there are more orders placed but it is overall stationary."
   ]
  },
  {
   "cell_type": "code",
   "execution_count": 9,
   "metadata": {
    "scrolled": true
   },
   "outputs": [],
   "source": [
    "# Plotting trends in our data\n",
    "df.sort_index(inplace=True)\n",
    "decomposed = seasonal_decompose(df)\n",
    "\n",
    "df_weeks = df['2018-06-01':'2018-06-3']\n",
    "decomposed_twoweeks = seasonal_decompose(df_weeks)"
   ]
  },
  {
   "cell_type": "code",
   "execution_count": 10,
   "metadata": {},
   "outputs": [
    {
     "data": {
      "image/png": "[encoded data removed]",
      "text/plain": [
       "<Figure size 1152x432 with 1 Axes>"
      ]
     },
     "metadata": {},
     "output_type": "display_data"
    }
   ],
   "source": [
    "decomposed.resid.plot(ax=plt.gca());\n",
    "\n",
    "plt.ylabel('Rate of Orders');\n",
    "plt.xlabel('Date');\n",
    "plt.title('Residuals of Taxi Orders', fontsize=16);"
   ]
  },
  {
   "cell_type": "code",
   "execution_count": 11,
   "metadata": {},
   "outputs": [
    {
     "data": {
      "image/png": "[encoded data removed]",
      "text/plain": [
       "<Figure size 1152x432 with 1 Axes>"
      ]
     },
     "metadata": {},
     "output_type": "display_data"
    }
   ],
   "source": [
    "decomposed_twoweeks.seasonal.plot(ax=plt.gca());\n",
    "\n",
    "plt.ylabel('Rate of Orders');\n",
    "plt.xlabel('Date');\n",
    "plt.title('Seasonality of Taxi Orders', fontsize=16);"
   ]
  },
  {
   "cell_type": "code",
   "execution_count": 12,
   "metadata": {},
   "outputs": [
    {
     "data": {
      "image/png": "[encoded data removed]",
      "text/plain": [
       "<Figure size 1152x432 with 1 Axes>"
      ]
     },
     "metadata": {},
     "output_type": "display_data"
    }
   ],
   "source": [
    "decomposed.trend.plot(ax=plt.gca());\n",
    "\n",
    "plt.ylabel('Rate of Orders');\n",
    "plt.xlabel('Date');\n",
    "plt.title('Trend of Taxi Orders', fontsize=16);"
   ]
  },
  {
   "cell_type": "markdown",
   "metadata": {},
   "source": [
    "The trend shows a higher rate of orders farther into August and beyond that, more than double.\n",
    "\n",
    "The seasonal and residual plot are fairly consistent, and both are both very stationary. The seasonal graph shows the variations in orders per hours of the day, but oddly enough peaking around the hours of midnight and near those hours. There could be a correlation between the difficulty of finding a ride other than taxis around those hours, or an increase in how many people get off work around that time and would need taxis to get home. \n",
    "\n",
    "In fact, the seasonal graph is so consistent it could be a strong indicator of how the dataset may be fabricated (it's never too clear how real the datasets provided to us are) or that the rate of taxi orders is something fit into their customer's everyday schedule that doesn't change, further reinforcing the likelihood these orders are from people off work, school, and related daily activites."
   ]
  },
  {
   "cell_type": "markdown",
   "metadata": {},
   "source": [
    "## Training"
   ]
  },
  {
   "cell_type": "code",
   "execution_count": 13,
   "metadata": {},
   "outputs": [],
   "source": [
    "# Creating features for our model\n",
    "def make_features(data, max_lag, rolling_mean_size):\n",
    "    data['year'] = data.index.year\n",
    "    data['month'] = data.index.month\n",
    "    data['day'] = data.index.day\n",
    "    data['dayofweek'] = data.index.dayofweek\n",
    "    \n",
    "    for lag in range(1, max_lag + 1):\n",
    "        data['lag_{}'.format(lag)] = data['num_orders'].shift(lag)\n",
    "\n",
    "    data['rolling_mean'] = data['num_orders'].shift().rolling(rolling_mean_size).mean()\n",
    "\n",
    "make_features(df, 4, 10)\n",
    "df = df.dropna()"
   ]
  },
  {
   "cell_type": "code",
   "execution_count": 14,
   "metadata": {},
   "outputs": [
    {
     "name": "stdout",
     "output_type": "stream",
     "text": [
      "Training set shapes: (3965, 9) (3965,)\n",
      "Testing set shapes: (441, 9) (441,)\n"
     ]
    }
   ],
   "source": [
    "# Creating model variables and checking their sizes for errors\n",
    "target_train, target_test, features_train, features_test = train_test_split(\n",
    "    df['num_orders'], df.drop(['num_orders'], axis=1), train_size=0.9, test_size=0.1)\n",
    "\n",
    "print('Training set shapes:', features_train.shape, target_train.shape)\n",
    "print('Testing set shapes:', features_test.shape, target_test.shape)"
   ]
  },
  {
   "cell_type": "markdown",
   "metadata": {},
   "source": [
    "### Linear Regression"
   ]
  },
  {
   "cell_type": "code",
   "execution_count": 15,
   "metadata": {},
   "outputs": [
    {
     "name": "stdout",
     "output_type": "stream",
     "text": [
      "RMSE of Linear Regression with Test set: 35.4594625582317\n"
     ]
    }
   ],
   "source": [
    "# Testing Linear Regression with GridSearchCV for cross-validation\n",
    "param_grid = {}\n",
    "\n",
    "ccv = TimeSeriesSplit(n_splits=2)\n",
    "LR = GridSearchCV(estimator=LinearRegression(), param_grid=param_grid, cv=ccv)\n",
    "LR.fit(features_train, target_train)\n",
    "\n",
    "# Creating prediction variables\n",
    "LR_predict_test = LR.predict(features_test)\n",
    "print('RMSE of Linear Regression with Test set:', sqrt(mean_squared_error(target_test, LR_predict_test)))"
   ]
  },
  {
   "cell_type": "markdown",
   "metadata": {},
   "source": [
    "### Cat Boost"
   ]
  },
  {
   "cell_type": "code",
   "execution_count": 16,
   "metadata": {},
   "outputs": [
    {
     "name": "stdout",
     "output_type": "stream",
     "text": [
      "RMSE of Cat Boost Regression with Test set: 33.62406030083145\n"
     ]
    }
   ],
   "source": [
    "# Tuning Cat Boost Regressors parameters using GridSearchCV\n",
    "# due to hardware limitations there are limited models being trained here and for Random Forest\n",
    "param_grid = {\n",
    "    'n_estimators': [int(x) for x in np.linspace(start = 100, stop = 300, num = 5)],\n",
    "    'max_depth': [int(x) for x in np.linspace(3, 15, num = 3)],\n",
    "}\n",
    "\n",
    "ccv = TimeSeriesSplit(n_splits=2)\n",
    "CB_rfc = GridSearchCV(estimator=CatBoostRegressor(random_state=123, logging_level='Silent'), param_grid=param_grid, cv=ccv)\n",
    "CB_rfc.fit(features_train, target_train)\n",
    "\n",
    "# Creating prediction variables\n",
    "CB_predict_test = CB_rfc.predict(features_test)\n",
    "print('RMSE of Cat Boost Regression with Test set:', sqrt(mean_squared_error(target_test, CB_predict_test)))"
   ]
  },
  {
   "cell_type": "markdown",
   "metadata": {},
   "source": [
    "### Random Forest"
   ]
  },
  {
   "cell_type": "code",
   "execution_count": 17,
   "metadata": {},
   "outputs": [
    {
     "name": "stdout",
     "output_type": "stream",
     "text": [
      "RMSE of Cat Boost Regression with Test set: 33.185912144305576\n"
     ]
    }
   ],
   "source": [
    "# Tuning Random Forest Regressors parameters using GridSearchCV\n",
    "param_grid = {\n",
    "    'n_estimators': [100, 300],\n",
    "    'max_features': ['auto', 'sqrt'],\n",
    "    'max_depth': [3, 15],\n",
    "}\n",
    "\n",
    "ccv = TimeSeriesSplit(n_splits=2)\n",
    "RFR_rfc = GridSearchCV(estimator=RandomForestRegressor(random_state=123), param_grid=param_grid, cv=ccv)\n",
    "RFR_rfc.fit(features_train, target_train)\n",
    "\n",
    "# Creating prediction variables\n",
    "RFR_predict_test = RFR_rfc.predict(features_test)\n",
    "print('RMSE of Cat Boost Regression with Test set:', sqrt(mean_squared_error(target_test, RFR_predict_test)))"
   ]
  },
  {
   "cell_type": "markdown",
   "metadata": {},
   "source": [
    "## Testing"
   ]
  },
  {
   "cell_type": "code",
   "execution_count": 18,
   "metadata": {},
   "outputs": [
    {
     "name": "stdout",
     "output_type": "stream",
     "text": [
      "Final RMSE of Linear Regression: 35.4594625582317\n",
      "Final RMSE of Cat Boost Regression: 33.62406030083145\n",
      "Final RMSE of Random Forest Regression: 33.185912144305576\n"
     ]
    }
   ],
   "source": [
    "print('Final RMSE of Linear Regression:', sqrt(mean_squared_error(target_test, LR_predict_test)))\n",
    "print('Final RMSE of Cat Boost Regression:', sqrt(mean_squared_error(target_test, CB_predict_test)))\n",
    "print('Final RMSE of Random Forest Regression:', sqrt(mean_squared_error(target_test, RFR_predict_test)))"
   ]
  },
  {
   "cell_type": "code",
   "execution_count": 19,
   "metadata": {},
   "outputs": [
    {
     "data": {
      "image/png": "[encoded data removed]",
      "text/plain": [
       "<Figure size 1152x432 with 1 Axes>"
      ]
     },
     "metadata": {},
     "output_type": "display_data"
    }
   ],
   "source": [
    "## Comparing real and predicted values of our best model\n",
    "# Predicted Values - CatBoost\n",
    "target_test = pd.DataFrame(target_test)\n",
    "sns.lineplot(x=target_test.index,\n",
    "             y=np.squeeze(CB_predict_test.astype(np.int64)));\n",
    "# True Values\n",
    "sns.lineplot(x=target_test.index,\n",
    "             y=target_test['num_orders']);\n",
    "\n",
    "plt.ylabel('Number of Orders');\n",
    "plt.xlabel('Date');\n",
    "plt.title('Real and Predicted Values Comparison', fontsize=16);\n",
    "plt.legend(labels=['Predicted Values', 'Real Values']);"
   ]
  },
  {
   "cell_type": "markdown",
   "metadata": {},
   "source": [
    "We were able to create features using the date and we noticed a higher rate of orders past August, which can strongly suggest a Winter trend in orders, but could be coincidence or indicate something else given the dataset only goes as far as one year. We would need a longer range of dates to ensure this is consistent.\n",
    "\n",
    "Our RMSE is lower than 48, our goal for this metric. The best RMSE we were able to aquire seems to be CatBoost, having an RMSE of 33."
   ]
  }
 ],
 "metadata": {
  "ExecuteTimeLog": [
   {
    "duration": 352,
    "start_time": "2022-07-13T09:12:16.171Z"
   },
   {
    "duration": 96,
    "start_time": "2022-07-13T09:12:47.489Z"
   },
   {
    "duration": 10,
    "start_time": "2022-07-13T09:14:50.138Z"
   },
   {
    "duration": 7,
    "start_time": "2022-07-13T09:14:56.449Z"
   },
   {
    "duration": 30,
    "start_time": "2022-07-13T09:15:16.393Z"
   },
   {
    "duration": 11,
    "start_time": "2022-07-13T09:15:17.699Z"
   },
   {
    "duration": 48,
    "start_time": "2022-07-13T09:15:27.458Z"
   },
   {
    "duration": 34,
    "start_time": "2022-07-13T09:15:30.585Z"
   },
   {
    "duration": 10,
    "start_time": "2022-07-13T09:15:32.193Z"
   },
   {
    "duration": 6,
    "start_time": "2022-07-13T09:15:34.703Z"
   },
   {
    "duration": 6,
    "start_time": "2022-07-13T09:16:34.130Z"
   },
   {
    "duration": 68,
    "start_time": "2022-07-13T09:16:58.457Z"
   },
   {
    "duration": 12,
    "start_time": "2022-07-13T09:17:07.392Z"
   },
   {
    "duration": 9,
    "start_time": "2022-07-13T09:18:41.263Z"
   },
   {
    "duration": 9,
    "start_time": "2022-07-13T09:19:24.902Z"
   },
   {
    "duration": 7,
    "start_time": "2022-07-13T09:19:32.495Z"
   },
   {
    "duration": 16,
    "start_time": "2022-07-13T09:20:25.258Z"
   },
   {
    "duration": 32,
    "start_time": "2022-07-13T09:20:48.740Z"
   },
   {
    "duration": 10,
    "start_time": "2022-07-13T09:20:51.383Z"
   },
   {
    "duration": 6,
    "start_time": "2022-07-13T09:20:53.153Z"
   },
   {
    "duration": 8,
    "start_time": "2022-07-13T09:20:54.049Z"
   },
   {
    "duration": 55,
    "start_time": "2022-07-13T09:20:59.192Z"
   },
   {
    "duration": 3,
    "start_time": "2022-07-13T09:21:23.120Z"
   },
   {
    "duration": 7,
    "start_time": "2022-07-13T09:21:29.950Z"
   },
   {
    "duration": 10,
    "start_time": "2022-07-13T09:21:40.302Z"
   },
   {
    "duration": 380,
    "start_time": "2022-07-13T09:21:45.852Z"
   },
   {
    "duration": 36,
    "start_time": "2022-07-13T09:21:46.234Z"
   },
   {
    "duration": 9,
    "start_time": "2022-07-13T09:21:46.272Z"
   },
   {
    "duration": 14,
    "start_time": "2022-07-13T09:21:46.283Z"
   },
   {
    "duration": 25,
    "start_time": "2022-07-13T09:21:46.299Z"
   },
   {
    "duration": 11,
    "start_time": "2022-07-13T09:21:46.326Z"
   },
   {
    "duration": 22,
    "start_time": "2022-07-13T09:21:46.340Z"
   },
   {
    "duration": 355,
    "start_time": "2022-07-13T09:22:01.679Z"
   },
   {
    "duration": 37,
    "start_time": "2022-07-13T09:22:02.035Z"
   },
   {
    "duration": 10,
    "start_time": "2022-07-13T09:22:02.074Z"
   },
   {
    "duration": 15,
    "start_time": "2022-07-13T09:22:02.086Z"
   },
   {
    "duration": 22,
    "start_time": "2022-07-13T09:22:02.103Z"
   },
   {
    "duration": 9,
    "start_time": "2022-07-13T09:22:02.127Z"
   },
   {
    "duration": 19,
    "start_time": "2022-07-13T09:22:02.138Z"
   },
   {
    "duration": 13,
    "start_time": "2022-07-13T09:22:39.492Z"
   },
   {
    "duration": 7,
    "start_time": "2022-07-13T09:22:43.122Z"
   },
   {
    "duration": 13,
    "start_time": "2022-07-13T09:22:45.762Z"
   },
   {
    "duration": 5,
    "start_time": "2022-07-13T09:23:11.658Z"
   },
   {
    "duration": 47,
    "start_time": "2022-07-13T09:23:54.897Z"
   },
   {
    "duration": 7,
    "start_time": "2022-07-13T09:24:00.373Z"
   },
   {
    "duration": 4,
    "start_time": "2022-07-13T09:24:22.621Z"
   },
   {
    "duration": 10,
    "start_time": "2022-07-13T09:24:41.355Z"
   },
   {
    "duration": 11,
    "start_time": "2022-07-13T09:24:56.834Z"
   },
   {
    "duration": 43,
    "start_time": "2022-07-13T09:25:28.346Z"
   },
   {
    "duration": 11,
    "start_time": "2022-07-13T09:25:29.577Z"
   },
   {
    "duration": 13,
    "start_time": "2022-07-13T09:25:29.845Z"
   },
   {
    "duration": 7,
    "start_time": "2022-07-13T09:25:30.934Z"
   },
   {
    "duration": 13,
    "start_time": "2022-07-13T09:25:32.616Z"
   },
   {
    "duration": 62,
    "start_time": "2022-07-13T09:29:39.154Z"
   },
   {
    "duration": 10,
    "start_time": "2022-07-13T09:30:41.186Z"
   },
   {
    "duration": 386,
    "start_time": "2022-07-13T09:30:46.388Z"
   },
   {
    "duration": 34,
    "start_time": "2022-07-13T09:30:46.776Z"
   },
   {
    "duration": 10,
    "start_time": "2022-07-13T09:30:46.811Z"
   },
   {
    "duration": 40,
    "start_time": "2022-07-13T09:30:46.830Z"
   },
   {
    "duration": 6,
    "start_time": "2022-07-13T09:30:46.872Z"
   },
   {
    "duration": 12,
    "start_time": "2022-07-13T09:30:46.880Z"
   },
   {
    "duration": 91,
    "start_time": "2022-07-13T09:30:46.894Z"
   },
   {
    "duration": 10,
    "start_time": "2022-07-13T09:31:01.680Z"
   },
   {
    "duration": 12,
    "start_time": "2022-07-13T09:31:08.546Z"
   },
   {
    "duration": 10,
    "start_time": "2022-07-13T09:31:26.689Z"
   },
   {
    "duration": 10,
    "start_time": "2022-07-13T09:31:49.746Z"
   },
   {
    "duration": 10,
    "start_time": "2022-07-13T09:33:59.642Z"
   },
   {
    "duration": 14,
    "start_time": "2022-07-13T09:39:29.853Z"
   },
   {
    "duration": 3,
    "start_time": "2022-07-13T09:39:35.694Z"
   },
   {
    "duration": 9,
    "start_time": "2022-07-13T09:39:37.813Z"
   },
   {
    "duration": 26,
    "start_time": "2022-07-13T09:39:45.721Z"
   },
   {
    "duration": 9,
    "start_time": "2022-07-13T09:40:19.694Z"
   },
   {
    "duration": 403,
    "start_time": "2022-07-13T09:40:28.043Z"
   },
   {
    "duration": 35,
    "start_time": "2022-07-13T09:40:28.448Z"
   },
   {
    "duration": 10,
    "start_time": "2022-07-13T09:40:28.485Z"
   },
   {
    "duration": 21,
    "start_time": "2022-07-13T09:40:28.497Z"
   },
   {
    "duration": 12,
    "start_time": "2022-07-13T09:40:28.526Z"
   },
   {
    "duration": 16,
    "start_time": "2022-07-13T09:40:28.539Z"
   },
   {
    "duration": 9,
    "start_time": "2022-07-13T09:40:28.556Z"
   },
   {
    "duration": 8,
    "start_time": "2022-07-13T09:40:59.444Z"
   },
   {
    "duration": 59,
    "start_time": "2022-07-13T09:41:32.253Z"
   },
   {
    "duration": 16,
    "start_time": "2022-07-13T09:41:40.644Z"
   },
   {
    "duration": 1861,
    "start_time": "2022-07-13T09:41:43.983Z"
   },
   {
    "duration": 1297,
    "start_time": "2022-07-13T09:41:49.004Z"
   },
   {
    "duration": 8,
    "start_time": "2022-07-13T09:42:05.123Z"
   },
   {
    "duration": 5,
    "start_time": "2022-07-13T09:42:08.360Z"
   },
   {
    "duration": 348,
    "start_time": "2022-07-13T09:42:59.486Z"
   },
   {
    "duration": 36,
    "start_time": "2022-07-13T09:42:59.836Z"
   },
   {
    "duration": 11,
    "start_time": "2022-07-13T09:42:59.874Z"
   },
   {
    "duration": 27,
    "start_time": "2022-07-13T09:42:59.887Z"
   },
   {
    "duration": 13,
    "start_time": "2022-07-13T09:42:59.916Z"
   },
   {
    "duration": 22,
    "start_time": "2022-07-13T09:42:59.933Z"
   },
   {
    "duration": 9,
    "start_time": "2022-07-13T09:42:59.957Z"
   },
   {
    "duration": 7,
    "start_time": "2022-07-13T09:42:59.968Z"
   },
   {
    "duration": 13,
    "start_time": "2022-07-13T09:43:15.583Z"
   },
   {
    "duration": 4,
    "start_time": "2022-07-13T09:43:55.812Z"
   },
   {
    "duration": 727,
    "start_time": "2022-07-13T09:44:07.019Z"
   },
   {
    "duration": 174,
    "start_time": "2022-07-13T09:44:49.339Z"
   },
   {
    "duration": 2004,
    "start_time": "2022-07-13T09:47:39.826Z"
   },
   {
    "duration": 622,
    "start_time": "2022-07-13T09:47:59.025Z"
   },
   {
    "duration": 80,
    "start_time": "2022-07-13T09:49:45.753Z"
   },
   {
    "duration": 2601,
    "start_time": "2022-07-13T09:50:35.925Z"
   },
   {
    "duration": 148,
    "start_time": "2022-07-13T09:51:50.348Z"
   },
   {
    "duration": 508,
    "start_time": "2022-07-13T09:52:23.503Z"
   },
   {
    "duration": 623,
    "start_time": "2022-07-13T09:52:29.756Z"
   },
   {
    "duration": 60,
    "start_time": "2022-07-13T09:53:25.294Z"
   },
   {
    "duration": 335,
    "start_time": "2022-07-13T09:54:41.601Z"
   },
   {
    "duration": 5,
    "start_time": "2022-07-13T09:55:23.238Z"
   },
   {
    "duration": 293,
    "start_time": "2022-07-13T09:55:30.742Z"
   },
   {
    "duration": 55,
    "start_time": "2022-07-13T22:28:19.090Z"
   },
   {
    "duration": 7,
    "start_time": "2022-07-13T22:28:23.242Z"
   },
   {
    "duration": 1425,
    "start_time": "2022-07-13T22:28:38.161Z"
   },
   {
    "duration": 156,
    "start_time": "2022-07-13T22:28:39.588Z"
   },
   {
    "duration": 12,
    "start_time": "2022-07-13T22:28:39.746Z"
   },
   {
    "duration": 16,
    "start_time": "2022-07-13T22:28:39.760Z"
   },
   {
    "duration": 6,
    "start_time": "2022-07-13T22:28:39.778Z"
   },
   {
    "duration": 13,
    "start_time": "2022-07-13T22:28:39.786Z"
   },
   {
    "duration": 10,
    "start_time": "2022-07-13T22:28:39.800Z"
   },
   {
    "duration": 5,
    "start_time": "2022-07-13T22:28:39.812Z"
   },
   {
    "duration": 1250,
    "start_time": "2022-07-13T22:28:39.818Z"
   },
   {
    "duration": 0,
    "start_time": "2022-07-13T22:28:41.069Z"
   },
   {
    "duration": 11,
    "start_time": "2022-07-13T22:29:15.428Z"
   },
   {
    "duration": 23,
    "start_time": "2022-07-13T22:29:20.833Z"
   },
   {
    "duration": 22,
    "start_time": "2022-07-13T22:29:50.071Z"
   },
   {
    "duration": 5,
    "start_time": "2022-07-13T22:29:55.038Z"
   },
   {
    "duration": 11,
    "start_time": "2022-07-13T22:32:52.407Z"
   },
   {
    "duration": 266,
    "start_time": "2022-07-13T22:33:08.040Z"
   },
   {
    "duration": 9,
    "start_time": "2022-07-13T22:33:13.793Z"
   },
   {
    "duration": 24,
    "start_time": "2022-07-13T22:34:05.235Z"
   },
   {
    "duration": 9,
    "start_time": "2022-07-13T22:35:20.628Z"
   },
   {
    "duration": 11,
    "start_time": "2022-07-13T22:35:59.083Z"
   },
   {
    "duration": 8,
    "start_time": "2022-07-13T22:36:12.311Z"
   },
   {
    "duration": 21,
    "start_time": "2022-07-13T22:39:30.037Z"
   },
   {
    "duration": 9,
    "start_time": "2022-07-13T22:40:00.997Z"
   },
   {
    "duration": 1604,
    "start_time": "2022-07-13T22:40:24.104Z"
   },
   {
    "duration": 13,
    "start_time": "2022-07-13T22:40:25.710Z"
   },
   {
    "duration": 21,
    "start_time": "2022-07-13T22:40:25.725Z"
   },
   {
    "duration": 9,
    "start_time": "2022-07-13T22:40:25.748Z"
   },
   {
    "duration": 38,
    "start_time": "2022-07-13T22:40:25.760Z"
   },
   {
    "duration": 15,
    "start_time": "2022-07-13T22:40:25.800Z"
   },
   {
    "duration": 7,
    "start_time": "2022-07-13T22:40:25.818Z"
   },
   {
    "duration": 20,
    "start_time": "2022-07-13T22:40:25.827Z"
   },
   {
    "duration": 461,
    "start_time": "2022-07-13T22:40:25.849Z"
   },
   {
    "duration": 9,
    "start_time": "2022-07-13T22:40:26.312Z"
   },
   {
    "duration": 125,
    "start_time": "2022-07-13T22:40:26.322Z"
   },
   {
    "duration": 14,
    "start_time": "2022-07-13T22:40:40.711Z"
   },
   {
    "duration": 13,
    "start_time": "2022-07-13T22:40:46.303Z"
   },
   {
    "duration": 10,
    "start_time": "2022-07-13T22:41:18.938Z"
   },
   {
    "duration": 11,
    "start_time": "2022-07-13T22:42:59.745Z"
   },
   {
    "duration": 52,
    "start_time": "2022-07-13T22:43:18.715Z"
   },
   {
    "duration": 11,
    "start_time": "2022-07-13T22:43:23.755Z"
   },
   {
    "duration": 51,
    "start_time": "2022-07-13T22:43:41.119Z"
   },
   {
    "duration": 5,
    "start_time": "2022-07-13T22:43:44.857Z"
   },
   {
    "duration": 1475,
    "start_time": "2022-07-13T22:44:59.071Z"
   },
   {
    "duration": 12,
    "start_time": "2022-07-13T22:45:00.548Z"
   },
   {
    "duration": 39,
    "start_time": "2022-07-13T22:45:00.562Z"
   },
   {
    "duration": 17,
    "start_time": "2022-07-13T22:45:00.603Z"
   },
   {
    "duration": 24,
    "start_time": "2022-07-13T22:45:00.621Z"
   },
   {
    "duration": 13,
    "start_time": "2022-07-13T22:45:00.647Z"
   },
   {
    "duration": 14,
    "start_time": "2022-07-13T22:45:00.662Z"
   },
   {
    "duration": 30,
    "start_time": "2022-07-13T22:45:00.678Z"
   },
   {
    "duration": 448,
    "start_time": "2022-07-13T22:45:00.710Z"
   },
   {
    "duration": 8,
    "start_time": "2022-07-13T22:45:01.161Z"
   },
   {
    "duration": 17,
    "start_time": "2022-07-13T22:45:01.171Z"
   },
   {
    "duration": 22,
    "start_time": "2022-07-13T22:45:01.190Z"
   },
   {
    "duration": 45,
    "start_time": "2022-07-14T22:37:16.399Z"
   },
   {
    "duration": 6,
    "start_time": "2022-07-14T22:37:24.925Z"
   },
   {
    "duration": 1597,
    "start_time": "2022-07-14T22:37:33.730Z"
   },
   {
    "duration": 12,
    "start_time": "2022-07-14T22:37:35.329Z"
   },
   {
    "duration": 29,
    "start_time": "2022-07-14T22:37:35.342Z"
   },
   {
    "duration": 20,
    "start_time": "2022-07-14T22:37:35.373Z"
   },
   {
    "duration": 39,
    "start_time": "2022-07-14T22:37:35.394Z"
   },
   {
    "duration": 18,
    "start_time": "2022-07-14T22:37:35.435Z"
   },
   {
    "duration": 29,
    "start_time": "2022-07-14T22:37:35.455Z"
   },
   {
    "duration": 18,
    "start_time": "2022-07-14T22:37:35.485Z"
   },
   {
    "duration": 591,
    "start_time": "2022-07-14T22:37:35.505Z"
   },
   {
    "duration": 9,
    "start_time": "2022-07-14T22:37:36.099Z"
   },
   {
    "duration": 128,
    "start_time": "2022-07-14T22:37:36.110Z"
   },
   {
    "duration": 0,
    "start_time": "2022-07-14T22:37:36.240Z"
   },
   {
    "duration": 311,
    "start_time": "2022-07-14T22:38:32.668Z"
   },
   {
    "duration": 37,
    "start_time": "2022-07-14T22:40:50.292Z"
   },
   {
    "duration": 11,
    "start_time": "2022-07-14T22:40:54.973Z"
   },
   {
    "duration": 46,
    "start_time": "2022-07-14T22:41:15.932Z"
   },
   {
    "duration": 17,
    "start_time": "2022-07-14T22:51:19.303Z"
   },
   {
    "duration": 14,
    "start_time": "2022-07-14T22:51:31.968Z"
   },
   {
    "duration": 1388,
    "start_time": "2022-07-14T22:51:44.313Z"
   },
   {
    "duration": 10,
    "start_time": "2022-07-14T22:51:45.703Z"
   },
   {
    "duration": 13,
    "start_time": "2022-07-14T22:51:45.715Z"
   },
   {
    "duration": 6,
    "start_time": "2022-07-14T22:51:45.730Z"
   },
   {
    "duration": 10,
    "start_time": "2022-07-14T22:51:45.737Z"
   },
   {
    "duration": 9,
    "start_time": "2022-07-14T22:51:45.749Z"
   },
   {
    "duration": 4,
    "start_time": "2022-07-14T22:51:45.760Z"
   },
   {
    "duration": 46,
    "start_time": "2022-07-14T22:51:45.766Z"
   },
   {
    "duration": 414,
    "start_time": "2022-07-14T22:51:45.814Z"
   },
   {
    "duration": 113,
    "start_time": "2022-07-14T22:51:46.231Z"
   },
   {
    "duration": 0,
    "start_time": "2022-07-14T22:51:46.346Z"
   },
   {
    "duration": 0,
    "start_time": "2022-07-14T22:51:46.347Z"
   },
   {
    "duration": 0,
    "start_time": "2022-07-14T22:51:46.348Z"
   },
   {
    "duration": 317,
    "start_time": "2022-07-14T22:52:05.381Z"
   },
   {
    "duration": 12,
    "start_time": "2022-07-14T22:52:34.994Z"
   },
   {
    "duration": 279,
    "start_time": "2022-07-14T22:52:42.575Z"
   },
   {
    "duration": 18,
    "start_time": "2022-07-14T22:54:47.809Z"
   },
   {
    "duration": 14,
    "start_time": "2022-07-14T22:59:49.366Z"
   },
   {
    "duration": 14,
    "start_time": "2022-07-14T23:01:51.008Z"
   },
   {
    "duration": 12,
    "start_time": "2022-07-14T23:03:31.431Z"
   },
   {
    "duration": 11,
    "start_time": "2022-07-14T23:03:37.671Z"
   },
   {
    "duration": 10,
    "start_time": "2022-07-14T23:03:44.731Z"
   },
   {
    "duration": 10,
    "start_time": "2022-07-14T23:04:04.039Z"
   },
   {
    "duration": 1470,
    "start_time": "2022-07-14T23:04:14.940Z"
   },
   {
    "duration": 11,
    "start_time": "2022-07-14T23:04:16.411Z"
   },
   {
    "duration": 14,
    "start_time": "2022-07-14T23:04:16.423Z"
   },
   {
    "duration": 6,
    "start_time": "2022-07-14T23:04:16.439Z"
   },
   {
    "duration": 16,
    "start_time": "2022-07-14T23:04:16.447Z"
   },
   {
    "duration": 8,
    "start_time": "2022-07-14T23:04:16.465Z"
   },
   {
    "duration": 22,
    "start_time": "2022-07-14T23:04:16.474Z"
   },
   {
    "duration": 33,
    "start_time": "2022-07-14T23:04:16.497Z"
   },
   {
    "duration": 413,
    "start_time": "2022-07-14T23:04:16.531Z"
   },
   {
    "duration": 108,
    "start_time": "2022-07-14T23:04:16.946Z"
   },
   {
    "duration": 0,
    "start_time": "2022-07-14T23:04:17.056Z"
   },
   {
    "duration": 0,
    "start_time": "2022-07-14T23:04:17.057Z"
   },
   {
    "duration": 0,
    "start_time": "2022-07-14T23:04:17.059Z"
   },
   {
    "duration": 13,
    "start_time": "2022-07-14T23:14:11.448Z"
   },
   {
    "duration": 1469,
    "start_time": "2022-07-14T23:28:34.560Z"
   },
   {
    "duration": 11,
    "start_time": "2022-07-14T23:28:36.032Z"
   },
   {
    "duration": 22,
    "start_time": "2022-07-14T23:28:36.045Z"
   },
   {
    "duration": 10,
    "start_time": "2022-07-14T23:28:36.069Z"
   },
   {
    "duration": 13,
    "start_time": "2022-07-14T23:28:36.081Z"
   },
   {
    "duration": 17,
    "start_time": "2022-07-14T23:28:36.095Z"
   },
   {
    "duration": 5,
    "start_time": "2022-07-14T23:28:36.114Z"
   },
   {
    "duration": 119,
    "start_time": "2022-07-14T23:28:36.121Z"
   },
   {
    "duration": 0,
    "start_time": "2022-07-14T23:28:36.242Z"
   },
   {
    "duration": 0,
    "start_time": "2022-07-14T23:28:36.242Z"
   },
   {
    "duration": 0,
    "start_time": "2022-07-14T23:28:36.243Z"
   },
   {
    "duration": 0,
    "start_time": "2022-07-14T23:28:36.245Z"
   },
   {
    "duration": 0,
    "start_time": "2022-07-14T23:28:36.246Z"
   },
   {
    "duration": 346,
    "start_time": "2022-07-14T23:29:02.527Z"
   },
   {
    "duration": 13,
    "start_time": "2022-07-14T23:29:28.576Z"
   },
   {
    "duration": 10,
    "start_time": "2022-07-14T23:30:15.687Z"
   },
   {
    "duration": 18,
    "start_time": "2022-07-14T23:31:20.738Z"
   },
   {
    "duration": 9,
    "start_time": "2022-07-14T23:31:27.029Z"
   },
   {
    "duration": 10,
    "start_time": "2022-07-14T23:31:29.428Z"
   },
   {
    "duration": 9,
    "start_time": "2022-07-14T23:31:34.788Z"
   },
   {
    "duration": 11,
    "start_time": "2022-07-14T23:31:56.310Z"
   },
   {
    "duration": 5,
    "start_time": "2022-07-14T23:40:02.644Z"
   },
   {
    "duration": 5,
    "start_time": "2022-07-14T23:40:14.708Z"
   },
   {
    "duration": 12,
    "start_time": "2022-07-14T23:40:28.575Z"
   },
   {
    "duration": 8,
    "start_time": "2022-07-14T23:40:33.590Z"
   },
   {
    "duration": 10,
    "start_time": "2022-07-14T23:40:36.442Z"
   },
   {
    "duration": 4,
    "start_time": "2022-07-14T23:40:47.991Z"
   },
   {
    "duration": 10,
    "start_time": "2022-07-14T23:41:14.780Z"
   },
   {
    "duration": 9,
    "start_time": "2022-07-14T23:47:19.155Z"
   },
   {
    "duration": 1367,
    "start_time": "2022-07-14T23:47:29.434Z"
   },
   {
    "duration": 11,
    "start_time": "2022-07-14T23:47:30.803Z"
   },
   {
    "duration": 25,
    "start_time": "2022-07-14T23:47:30.815Z"
   },
   {
    "duration": 8,
    "start_time": "2022-07-14T23:47:30.842Z"
   },
   {
    "duration": 34,
    "start_time": "2022-07-14T23:47:30.851Z"
   },
   {
    "duration": 24,
    "start_time": "2022-07-14T23:47:30.886Z"
   },
   {
    "duration": 18,
    "start_time": "2022-07-14T23:47:30.911Z"
   },
   {
    "duration": 376,
    "start_time": "2022-07-14T23:47:30.930Z"
   },
   {
    "duration": 8,
    "start_time": "2022-07-14T23:47:31.310Z"
   },
   {
    "duration": 23,
    "start_time": "2022-07-14T23:47:31.320Z"
   },
   {
    "duration": 20,
    "start_time": "2022-07-14T23:47:31.345Z"
   },
   {
    "duration": 26,
    "start_time": "2022-07-14T23:47:31.366Z"
   },
   {
    "duration": 155,
    "start_time": "2022-07-14T23:47:31.394Z"
   },
   {
    "duration": 0,
    "start_time": "2022-07-14T23:47:31.551Z"
   },
   {
    "duration": 0,
    "start_time": "2022-07-14T23:47:31.553Z"
   },
   {
    "duration": 0,
    "start_time": "2022-07-14T23:47:31.554Z"
   },
   {
    "duration": 0,
    "start_time": "2022-07-14T23:47:31.555Z"
   },
   {
    "duration": 49,
    "start_time": "2022-07-14T23:56:12.100Z"
   },
   {
    "duration": 15,
    "start_time": "2022-07-14T23:56:18.481Z"
   },
   {
    "duration": 1368,
    "start_time": "2022-07-14T23:56:47.651Z"
   },
   {
    "duration": 11,
    "start_time": "2022-07-14T23:56:49.021Z"
   },
   {
    "duration": 18,
    "start_time": "2022-07-14T23:56:49.034Z"
   },
   {
    "duration": 8,
    "start_time": "2022-07-14T23:56:49.055Z"
   },
   {
    "duration": 10,
    "start_time": "2022-07-14T23:56:49.064Z"
   },
   {
    "duration": 34,
    "start_time": "2022-07-14T23:56:49.076Z"
   },
   {
    "duration": 6,
    "start_time": "2022-07-14T23:56:49.111Z"
   },
   {
    "duration": 373,
    "start_time": "2022-07-14T23:56:49.118Z"
   },
   {
    "duration": 9,
    "start_time": "2022-07-14T23:56:49.492Z"
   },
   {
    "duration": 4,
    "start_time": "2022-07-14T23:56:49.511Z"
   },
   {
    "duration": 8,
    "start_time": "2022-07-14T23:56:49.517Z"
   },
   {
    "duration": 15,
    "start_time": "2022-07-14T23:56:49.527Z"
   },
   {
    "duration": 121,
    "start_time": "2022-07-14T23:56:49.544Z"
   },
   {
    "duration": 0,
    "start_time": "2022-07-14T23:56:49.667Z"
   },
   {
    "duration": 0,
    "start_time": "2022-07-14T23:56:49.669Z"
   },
   {
    "duration": 0,
    "start_time": "2022-07-14T23:56:49.670Z"
   },
   {
    "duration": 0,
    "start_time": "2022-07-14T23:56:49.671Z"
   },
   {
    "duration": 1383,
    "start_time": "2022-07-14T23:57:41.722Z"
   },
   {
    "duration": 13,
    "start_time": "2022-07-14T23:57:52.352Z"
   },
   {
    "duration": 1324,
    "start_time": "2022-07-14T23:59:44.463Z"
   },
   {
    "duration": 9,
    "start_time": "2022-07-14T23:59:45.789Z"
   },
   {
    "duration": 19,
    "start_time": "2022-07-14T23:59:45.800Z"
   },
   {
    "duration": 5,
    "start_time": "2022-07-14T23:59:45.821Z"
   },
   {
    "duration": 9,
    "start_time": "2022-07-14T23:59:45.828Z"
   },
   {
    "duration": 8,
    "start_time": "2022-07-14T23:59:45.838Z"
   },
   {
    "duration": 5,
    "start_time": "2022-07-14T23:59:45.848Z"
   },
   {
    "duration": 373,
    "start_time": "2022-07-14T23:59:45.854Z"
   },
   {
    "duration": 7,
    "start_time": "2022-07-14T23:59:46.229Z"
   },
   {
    "duration": 10,
    "start_time": "2022-07-14T23:59:46.238Z"
   },
   {
    "duration": 6,
    "start_time": "2022-07-14T23:59:46.249Z"
   },
   {
    "duration": 11,
    "start_time": "2022-07-14T23:59:46.257Z"
   },
   {
    "duration": 122,
    "start_time": "2022-07-14T23:59:46.269Z"
   },
   {
    "duration": 0,
    "start_time": "2022-07-14T23:59:46.392Z"
   },
   {
    "duration": 0,
    "start_time": "2022-07-14T23:59:46.393Z"
   },
   {
    "duration": 0,
    "start_time": "2022-07-14T23:59:46.394Z"
   },
   {
    "duration": 0,
    "start_time": "2022-07-14T23:59:46.395Z"
   },
   {
    "duration": 1590,
    "start_time": "2022-07-15T00:00:02.659Z"
   },
   {
    "duration": 10,
    "start_time": "2022-07-15T00:00:04.251Z"
   },
   {
    "duration": 40,
    "start_time": "2022-07-15T00:00:04.263Z"
   },
   {
    "duration": 33,
    "start_time": "2022-07-15T00:00:04.305Z"
   },
   {
    "duration": 38,
    "start_time": "2022-07-15T00:00:04.339Z"
   },
   {
    "duration": 25,
    "start_time": "2022-07-15T00:00:04.379Z"
   },
   {
    "duration": 29,
    "start_time": "2022-07-15T00:00:04.406Z"
   },
   {
    "duration": 381,
    "start_time": "2022-07-15T00:00:04.437Z"
   },
   {
    "duration": 9,
    "start_time": "2022-07-15T00:00:04.820Z"
   },
   {
    "duration": 30,
    "start_time": "2022-07-15T00:00:04.832Z"
   },
   {
    "duration": 50,
    "start_time": "2022-07-15T00:00:04.863Z"
   },
   {
    "duration": 45,
    "start_time": "2022-07-15T00:00:04.914Z"
   },
   {
    "duration": 160,
    "start_time": "2022-07-15T00:00:04.961Z"
   },
   {
    "duration": 0,
    "start_time": "2022-07-15T00:00:05.122Z"
   },
   {
    "duration": 0,
    "start_time": "2022-07-15T00:00:05.123Z"
   },
   {
    "duration": 0,
    "start_time": "2022-07-15T00:00:05.125Z"
   },
   {
    "duration": 0,
    "start_time": "2022-07-15T00:00:05.126Z"
   },
   {
    "duration": 4,
    "start_time": "2022-07-15T00:02:06.897Z"
   },
   {
    "duration": 11,
    "start_time": "2022-07-15T00:02:12.901Z"
   },
   {
    "duration": 47,
    "start_time": "2022-07-15T00:02:33.883Z"
   },
   {
    "duration": 1453,
    "start_time": "2022-07-15T00:02:39.797Z"
   },
   {
    "duration": 10,
    "start_time": "2022-07-15T00:02:41.252Z"
   },
   {
    "duration": 13,
    "start_time": "2022-07-15T00:02:41.264Z"
   },
   {
    "duration": 6,
    "start_time": "2022-07-15T00:02:41.279Z"
   },
   {
    "duration": 10,
    "start_time": "2022-07-15T00:02:41.287Z"
   },
   {
    "duration": 11,
    "start_time": "2022-07-15T00:02:41.298Z"
   },
   {
    "duration": 2,
    "start_time": "2022-07-15T00:02:41.311Z"
   },
   {
    "duration": 399,
    "start_time": "2022-07-15T00:02:41.315Z"
   },
   {
    "duration": 11,
    "start_time": "2022-07-15T00:02:41.716Z"
   },
   {
    "duration": 11,
    "start_time": "2022-07-15T00:02:41.730Z"
   },
   {
    "duration": 10,
    "start_time": "2022-07-15T00:02:41.743Z"
   },
   {
    "duration": 12,
    "start_time": "2022-07-15T00:02:41.755Z"
   },
   {
    "duration": 467,
    "start_time": "2022-07-15T00:02:41.769Z"
   },
   {
    "duration": 0,
    "start_time": "2022-07-15T00:02:42.237Z"
   },
   {
    "duration": 0,
    "start_time": "2022-07-15T00:02:42.239Z"
   },
   {
    "duration": 0,
    "start_time": "2022-07-15T00:02:42.240Z"
   },
   {
    "duration": 0,
    "start_time": "2022-07-15T00:02:42.241Z"
   },
   {
    "duration": 440,
    "start_time": "2022-07-15T00:07:14.635Z"
   },
   {
    "duration": 370,
    "start_time": "2022-07-15T00:07:23.404Z"
   },
   {
    "duration": 330,
    "start_time": "2022-07-15T00:07:42.899Z"
   },
   {
    "duration": 864,
    "start_time": "2022-07-15T00:07:51.156Z"
   },
   {
    "duration": 4,
    "start_time": "2022-07-15T00:08:46.021Z"
   },
   {
    "duration": 7,
    "start_time": "2022-07-15T00:08:47.247Z"
   },
   {
    "duration": 1330,
    "start_time": "2022-07-15T00:08:54.360Z"
   },
   {
    "duration": 9,
    "start_time": "2022-07-15T00:08:55.692Z"
   },
   {
    "duration": 14,
    "start_time": "2022-07-15T00:08:55.703Z"
   },
   {
    "duration": 6,
    "start_time": "2022-07-15T00:08:55.718Z"
   },
   {
    "duration": 7,
    "start_time": "2022-07-15T00:08:55.726Z"
   },
   {
    "duration": 5,
    "start_time": "2022-07-15T00:08:55.734Z"
   },
   {
    "duration": 8,
    "start_time": "2022-07-15T00:08:55.740Z"
   },
   {
    "duration": 332,
    "start_time": "2022-07-15T00:08:55.749Z"
   },
   {
    "duration": 9,
    "start_time": "2022-07-15T00:08:56.082Z"
   },
   {
    "duration": 18,
    "start_time": "2022-07-15T00:08:56.093Z"
   },
   {
    "duration": 5,
    "start_time": "2022-07-15T00:08:56.113Z"
   },
   {
    "duration": 10,
    "start_time": "2022-07-15T00:08:56.119Z"
   },
   {
    "duration": 849,
    "start_time": "2022-07-15T00:08:56.131Z"
   },
   {
    "duration": 15,
    "start_time": "2022-07-15T00:08:56.983Z"
   },
   {
    "duration": 8,
    "start_time": "2022-07-15T00:08:56.999Z"
   },
   {
    "duration": 8,
    "start_time": "2022-07-15T00:08:57.009Z"
   },
   {
    "duration": 4,
    "start_time": "2022-07-15T00:08:57.019Z"
   },
   {
    "duration": 1385,
    "start_time": "2022-07-15T00:11:42.703Z"
   },
   {
    "duration": 12,
    "start_time": "2022-07-15T00:11:44.090Z"
   },
   {
    "duration": 25,
    "start_time": "2022-07-15T00:11:44.103Z"
   },
   {
    "duration": 6,
    "start_time": "2022-07-15T00:11:44.130Z"
   },
   {
    "duration": 12,
    "start_time": "2022-07-15T00:11:44.138Z"
   },
   {
    "duration": 4,
    "start_time": "2022-07-15T00:11:44.151Z"
   },
   {
    "duration": 117,
    "start_time": "2022-07-15T00:11:44.157Z"
   },
   {
    "duration": 0,
    "start_time": "2022-07-15T00:11:44.276Z"
   },
   {
    "duration": 0,
    "start_time": "2022-07-15T00:11:44.277Z"
   },
   {
    "duration": 0,
    "start_time": "2022-07-15T00:11:44.278Z"
   },
   {
    "duration": 0,
    "start_time": "2022-07-15T00:11:44.280Z"
   },
   {
    "duration": 0,
    "start_time": "2022-07-15T00:11:44.281Z"
   },
   {
    "duration": 0,
    "start_time": "2022-07-15T00:11:44.282Z"
   },
   {
    "duration": 11,
    "start_time": "2022-07-15T00:12:06.071Z"
   },
   {
    "duration": 1387,
    "start_time": "2022-07-15T00:12:15.795Z"
   },
   {
    "duration": 12,
    "start_time": "2022-07-15T00:12:17.184Z"
   },
   {
    "duration": 15,
    "start_time": "2022-07-15T00:12:17.198Z"
   },
   {
    "duration": 6,
    "start_time": "2022-07-15T00:12:17.215Z"
   },
   {
    "duration": 20,
    "start_time": "2022-07-15T00:12:17.223Z"
   },
   {
    "duration": 5,
    "start_time": "2022-07-15T00:12:17.244Z"
   },
   {
    "duration": 8,
    "start_time": "2022-07-15T00:12:17.250Z"
   },
   {
    "duration": 325,
    "start_time": "2022-07-15T00:12:17.260Z"
   },
   {
    "duration": 833,
    "start_time": "2022-07-15T00:12:17.587Z"
   },
   {
    "duration": 15,
    "start_time": "2022-07-15T00:12:18.423Z"
   },
   {
    "duration": 8,
    "start_time": "2022-07-15T00:12:18.439Z"
   },
   {
    "duration": 10,
    "start_time": "2022-07-15T00:12:18.448Z"
   },
   {
    "duration": 6,
    "start_time": "2022-07-15T00:12:18.459Z"
   },
   {
    "duration": 116,
    "start_time": "2022-07-15T00:12:44.889Z"
   },
   {
    "duration": 20,
    "start_time": "2022-07-15T00:13:05.078Z"
   },
   {
    "duration": 1398,
    "start_time": "2022-07-15T00:13:17.008Z"
   },
   {
    "duration": 10,
    "start_time": "2022-07-15T00:13:18.408Z"
   },
   {
    "duration": 36,
    "start_time": "2022-07-15T00:13:18.420Z"
   },
   {
    "duration": 6,
    "start_time": "2022-07-15T00:13:18.457Z"
   },
   {
    "duration": 20,
    "start_time": "2022-07-15T00:13:18.465Z"
   },
   {
    "duration": 8,
    "start_time": "2022-07-15T00:13:18.487Z"
   },
   {
    "duration": 11,
    "start_time": "2022-07-15T00:13:18.497Z"
   },
   {
    "duration": 320,
    "start_time": "2022-07-15T00:13:18.509Z"
   },
   {
    "duration": 822,
    "start_time": "2022-07-15T00:13:18.830Z"
   },
   {
    "duration": 15,
    "start_time": "2022-07-15T00:13:19.653Z"
   },
   {
    "duration": 7,
    "start_time": "2022-07-15T00:13:19.669Z"
   },
   {
    "duration": 7,
    "start_time": "2022-07-15T00:13:19.677Z"
   },
   {
    "duration": 23,
    "start_time": "2022-07-15T00:13:19.686Z"
   },
   {
    "duration": 120,
    "start_time": "2022-07-15T00:13:40.208Z"
   },
   {
    "duration": 1394,
    "start_time": "2022-07-15T00:13:55.591Z"
   },
   {
    "duration": 11,
    "start_time": "2022-07-15T00:13:56.987Z"
   },
   {
    "duration": 15,
    "start_time": "2022-07-15T00:13:56.999Z"
   },
   {
    "duration": 6,
    "start_time": "2022-07-15T00:13:57.017Z"
   },
   {
    "duration": 12,
    "start_time": "2022-07-15T00:13:57.025Z"
   },
   {
    "duration": 4,
    "start_time": "2022-07-15T00:13:57.038Z"
   },
   {
    "duration": 13,
    "start_time": "2022-07-15T00:13:57.044Z"
   },
   {
    "duration": 333,
    "start_time": "2022-07-15T00:13:57.058Z"
   },
   {
    "duration": 827,
    "start_time": "2022-07-15T00:13:57.393Z"
   },
   {
    "duration": 14,
    "start_time": "2022-07-15T00:13:58.222Z"
   },
   {
    "duration": 7,
    "start_time": "2022-07-15T00:13:58.238Z"
   },
   {
    "duration": 9,
    "start_time": "2022-07-15T00:13:58.246Z"
   },
   {
    "duration": 4,
    "start_time": "2022-07-15T00:13:58.257Z"
   },
   {
    "duration": 1769,
    "start_time": "2022-07-16T05:45:21.399Z"
   },
   {
    "duration": 15,
    "start_time": "2022-07-16T05:45:23.171Z"
   },
   {
    "duration": 25,
    "start_time": "2022-07-16T05:45:23.188Z"
   },
   {
    "duration": 7,
    "start_time": "2022-07-16T05:45:23.215Z"
   },
   {
    "duration": 36,
    "start_time": "2022-07-16T05:45:23.226Z"
   },
   {
    "duration": 3,
    "start_time": "2022-07-16T05:45:23.264Z"
   },
   {
    "duration": 13,
    "start_time": "2022-07-16T05:45:23.269Z"
   },
   {
    "duration": 411,
    "start_time": "2022-07-16T05:45:23.284Z"
   },
   {
    "duration": 8,
    "start_time": "2022-07-16T05:45:23.697Z"
   },
   {
    "duration": 362,
    "start_time": "2022-07-16T05:45:23.725Z"
   },
   {
    "duration": 528,
    "start_time": "2022-07-16T05:45:24.089Z"
   },
   {
    "duration": 409,
    "start_time": "2022-07-16T05:45:24.620Z"
   },
   {
    "duration": 25,
    "start_time": "2022-07-16T05:45:25.037Z"
   },
   {
    "duration": 21,
    "start_time": "2022-07-16T05:45:25.064Z"
   },
   {
    "duration": 37,
    "start_time": "2022-07-16T05:45:25.087Z"
   },
   {
    "duration": 121,
    "start_time": "2022-07-16T05:45:25.126Z"
   },
   {
    "duration": 370,
    "start_time": "2022-07-16T05:45:59.572Z"
   },
   {
    "duration": 395,
    "start_time": "2022-07-16T05:46:06.414Z"
   },
   {
    "duration": 1609,
    "start_time": "2022-07-16T05:46:18.454Z"
   },
   {
    "duration": 16,
    "start_time": "2022-07-16T05:46:20.065Z"
   },
   {
    "duration": 18,
    "start_time": "2022-07-16T05:46:20.083Z"
   },
   {
    "duration": 23,
    "start_time": "2022-07-16T05:46:20.104Z"
   },
   {
    "duration": 37,
    "start_time": "2022-07-16T05:46:20.129Z"
   },
   {
    "duration": 3,
    "start_time": "2022-07-16T05:46:20.168Z"
   },
   {
    "duration": 21,
    "start_time": "2022-07-16T05:46:20.174Z"
   },
   {
    "duration": 424,
    "start_time": "2022-07-16T05:46:20.197Z"
   },
   {
    "duration": 11,
    "start_time": "2022-07-16T05:46:20.623Z"
   },
   {
    "duration": 376,
    "start_time": "2022-07-16T05:46:20.638Z"
   },
   {
    "duration": 450,
    "start_time": "2022-07-16T05:46:21.016Z"
   },
   {
    "duration": 459,
    "start_time": "2022-07-16T05:46:21.469Z"
   },
   {
    "duration": 29,
    "start_time": "2022-07-16T05:46:21.930Z"
   },
   {
    "duration": 17,
    "start_time": "2022-07-16T05:46:21.961Z"
   },
   {
    "duration": 16,
    "start_time": "2022-07-16T05:46:21.980Z"
   },
   {
    "duration": 7,
    "start_time": "2022-07-16T05:46:22.026Z"
   },
   {
    "duration": 345,
    "start_time": "2022-07-16T05:47:27.346Z"
   },
   {
    "duration": 348,
    "start_time": "2022-07-16T05:47:30.669Z"
   },
   {
    "duration": 110,
    "start_time": "2022-07-16T05:53:42.329Z"
   },
   {
    "duration": 16,
    "start_time": "2022-07-16T05:54:04.507Z"
   },
   {
    "duration": 37,
    "start_time": "2022-07-16T05:54:25.534Z"
   },
   {
    "duration": 26,
    "start_time": "2022-07-16T05:54:50.022Z"
   },
   {
    "duration": 1425,
    "start_time": "2022-07-16T05:55:08.862Z"
   },
   {
    "duration": 11,
    "start_time": "2022-07-16T05:55:10.288Z"
   },
   {
    "duration": 21,
    "start_time": "2022-07-16T05:55:10.301Z"
   },
   {
    "duration": 11,
    "start_time": "2022-07-16T05:55:10.324Z"
   },
   {
    "duration": 16,
    "start_time": "2022-07-16T05:55:10.337Z"
   },
   {
    "duration": 9,
    "start_time": "2022-07-16T05:55:10.354Z"
   },
   {
    "duration": 14,
    "start_time": "2022-07-16T05:55:10.364Z"
   },
   {
    "duration": 362,
    "start_time": "2022-07-16T05:55:10.379Z"
   },
   {
    "duration": 11,
    "start_time": "2022-07-16T05:55:10.743Z"
   },
   {
    "duration": 295,
    "start_time": "2022-07-16T05:55:10.756Z"
   },
   {
    "duration": 414,
    "start_time": "2022-07-16T05:55:11.052Z"
   },
   {
    "duration": 332,
    "start_time": "2022-07-16T05:55:11.468Z"
   },
   {
    "duration": 28,
    "start_time": "2022-07-16T05:55:11.802Z"
   },
   {
    "duration": 7,
    "start_time": "2022-07-16T05:55:11.833Z"
   },
   {
    "duration": 8,
    "start_time": "2022-07-16T05:55:11.841Z"
   },
   {
    "duration": 6,
    "start_time": "2022-07-16T05:55:11.851Z"
   },
   {
    "duration": 119,
    "start_time": "2022-07-16T05:55:26.335Z"
   },
   {
    "duration": 1490,
    "start_time": "2022-07-16T05:55:56.119Z"
   },
   {
    "duration": 13,
    "start_time": "2022-07-16T05:55:57.611Z"
   },
   {
    "duration": 24,
    "start_time": "2022-07-16T05:55:57.626Z"
   },
   {
    "duration": 56,
    "start_time": "2022-07-16T05:56:24.732Z"
   },
   {
    "duration": 50,
    "start_time": "2022-07-16T05:56:27.601Z"
   },
   {
    "duration": 6,
    "start_time": "2022-07-16T05:56:31.733Z"
   },
   {
    "duration": 8,
    "start_time": "2022-07-16T05:56:37.845Z"
   },
   {
    "duration": 8,
    "start_time": "2022-07-16T05:56:42.169Z"
   },
   {
    "duration": 1471,
    "start_time": "2022-07-16T05:57:44.524Z"
   },
   {
    "duration": 11,
    "start_time": "2022-07-16T05:57:45.997Z"
   },
   {
    "duration": 15,
    "start_time": "2022-07-16T05:57:46.010Z"
   },
   {
    "duration": 7,
    "start_time": "2022-07-16T05:57:46.026Z"
   },
   {
    "duration": 12,
    "start_time": "2022-07-16T05:57:46.035Z"
   },
   {
    "duration": 6,
    "start_time": "2022-07-16T05:57:46.048Z"
   },
   {
    "duration": 13,
    "start_time": "2022-07-16T05:57:46.055Z"
   },
   {
    "duration": 384,
    "start_time": "2022-07-16T05:57:46.069Z"
   },
   {
    "duration": 8,
    "start_time": "2022-07-16T05:57:46.455Z"
   },
   {
    "duration": 310,
    "start_time": "2022-07-16T05:57:46.465Z"
   },
   {
    "duration": 427,
    "start_time": "2022-07-16T05:57:46.776Z"
   },
   {
    "duration": 355,
    "start_time": "2022-07-16T05:57:47.205Z"
   },
   {
    "duration": 20,
    "start_time": "2022-07-16T05:57:47.562Z"
   },
   {
    "duration": 7,
    "start_time": "2022-07-16T05:57:47.585Z"
   },
   {
    "duration": 33,
    "start_time": "2022-07-16T05:57:47.594Z"
   },
   {
    "duration": 4,
    "start_time": "2022-07-16T05:57:47.629Z"
   },
   {
    "duration": 5,
    "start_time": "2022-07-16T06:03:36.881Z"
   },
   {
    "duration": 15,
    "start_time": "2022-07-16T06:04:27.979Z"
   },
   {
    "duration": 114,
    "start_time": "2022-07-16T06:04:31.200Z"
   },
   {
    "duration": 5,
    "start_time": "2022-07-16T06:04:52.800Z"
   },
   {
    "duration": 12,
    "start_time": "2022-07-16T06:18:51.961Z"
   },
   {
    "duration": 16,
    "start_time": "2022-07-16T06:19:10.333Z"
   },
   {
    "duration": 22,
    "start_time": "2022-07-16T07:02:00.560Z"
   },
   {
    "duration": 14,
    "start_time": "2022-07-16T07:02:23.717Z"
   },
   {
    "duration": 41,
    "start_time": "2022-07-16T07:02:50.425Z"
   },
   {
    "duration": 5,
    "start_time": "2022-07-16T07:02:53.155Z"
   },
   {
    "duration": 63,
    "start_time": "2022-07-16T07:20:17.888Z"
   },
   {
    "duration": 16,
    "start_time": "2022-07-16T07:20:26.957Z"
   },
   {
    "duration": 17,
    "start_time": "2022-07-16T07:20:35.453Z"
   },
   {
    "duration": 5,
    "start_time": "2022-07-16T07:21:01.498Z"
   },
   {
    "duration": 83,
    "start_time": "2022-07-16T07:30:38.609Z"
   },
   {
    "duration": 92,
    "start_time": "2022-07-16T07:31:33.808Z"
   },
   {
    "duration": 1635,
    "start_time": "2022-07-16T07:31:54.902Z"
   },
   {
    "duration": 19,
    "start_time": "2022-07-16T07:31:56.539Z"
   },
   {
    "duration": 26,
    "start_time": "2022-07-16T07:31:56.561Z"
   },
   {
    "duration": 10,
    "start_time": "2022-07-16T07:31:56.590Z"
   },
   {
    "duration": 53,
    "start_time": "2022-07-16T07:31:56.602Z"
   },
   {
    "duration": 3,
    "start_time": "2022-07-16T07:31:56.657Z"
   },
   {
    "duration": 15,
    "start_time": "2022-07-16T07:31:56.662Z"
   },
   {
    "duration": 439,
    "start_time": "2022-07-16T07:31:56.679Z"
   },
   {
    "duration": 1078,
    "start_time": "2022-07-16T07:31:57.121Z"
   },
   {
    "duration": 0,
    "start_time": "2022-07-16T07:31:58.202Z"
   },
   {
    "duration": 0,
    "start_time": "2022-07-16T07:31:58.203Z"
   },
   {
    "duration": 0,
    "start_time": "2022-07-16T07:31:58.205Z"
   },
   {
    "duration": 0,
    "start_time": "2022-07-16T07:31:58.207Z"
   },
   {
    "duration": 0,
    "start_time": "2022-07-16T07:31:58.208Z"
   },
   {
    "duration": 0,
    "start_time": "2022-07-16T07:31:58.210Z"
   },
   {
    "duration": 0,
    "start_time": "2022-07-16T07:31:58.211Z"
   },
   {
    "duration": 0,
    "start_time": "2022-07-16T07:31:58.212Z"
   },
   {
    "duration": 13,
    "start_time": "2022-07-16T07:32:25.873Z"
   },
   {
    "duration": 387,
    "start_time": "2022-07-16T07:32:27.379Z"
   },
   {
    "duration": 289,
    "start_time": "2022-07-16T07:32:27.769Z"
   },
   {
    "duration": 457,
    "start_time": "2022-07-16T07:32:28.059Z"
   },
   {
    "duration": 18,
    "start_time": "2022-07-16T07:33:25.970Z"
   },
   {
    "duration": 327,
    "start_time": "2022-07-16T07:33:26.701Z"
   },
   {
    "duration": 241,
    "start_time": "2022-07-16T07:33:27.030Z"
   },
   {
    "duration": 13,
    "start_time": "2022-07-16T07:33:46.452Z"
   },
   {
    "duration": 18,
    "start_time": "2022-07-16T07:33:54.521Z"
   },
   {
    "duration": 351,
    "start_time": "2022-07-16T07:33:55.549Z"
   },
   {
    "duration": 234,
    "start_time": "2022-07-16T07:33:55.902Z"
   },
   {
    "duration": 4,
    "start_time": "2022-07-16T07:39:29.168Z"
   },
   {
    "duration": 19,
    "start_time": "2022-07-16T07:39:38.420Z"
   },
   {
    "duration": 10,
    "start_time": "2022-07-16T07:39:42.488Z"
   },
   {
    "duration": 15,
    "start_time": "2022-07-16T07:42:26.603Z"
   },
   {
    "duration": 13,
    "start_time": "2022-07-16T07:42:26.752Z"
   },
   {
    "duration": 139,
    "start_time": "2022-07-16T07:42:27.385Z"
   },
   {
    "duration": 4,
    "start_time": "2022-07-16T07:42:29.018Z"
   },
   {
    "duration": 324,
    "start_time": "2022-07-16T07:47:20.497Z"
   },
   {
    "duration": 980,
    "start_time": "2022-07-16T07:47:25.514Z"
   },
   {
    "duration": 359,
    "start_time": "2022-07-16T07:47:42.297Z"
   },
   {
    "duration": 367,
    "start_time": "2022-07-16T07:47:48.295Z"
   },
   {
    "duration": 435,
    "start_time": "2022-07-16T07:47:54.074Z"
   },
   {
    "duration": 361,
    "start_time": "2022-07-16T07:50:43.972Z"
   },
   {
    "duration": 157,
    "start_time": "2022-07-16T07:51:10.362Z"
   },
   {
    "duration": 152,
    "start_time": "2022-07-16T07:51:16.767Z"
   },
   {
    "duration": 349,
    "start_time": "2022-07-16T07:51:23.389Z"
   },
   {
    "duration": 367,
    "start_time": "2022-07-16T07:53:47.540Z"
   },
   {
    "duration": 451,
    "start_time": "2022-07-16T07:53:49.948Z"
   },
   {
    "duration": 382,
    "start_time": "2022-07-16T07:54:15.314Z"
   },
   {
    "duration": 348,
    "start_time": "2022-07-16T07:54:38.101Z"
   },
   {
    "duration": 351,
    "start_time": "2022-07-16T07:55:00.792Z"
   },
   {
    "duration": 381,
    "start_time": "2022-07-16T07:55:08.525Z"
   },
   {
    "duration": 14,
    "start_time": "2022-07-16T07:55:45.635Z"
   },
   {
    "duration": 20,
    "start_time": "2022-07-16T07:56:04.500Z"
   },
   {
    "duration": 606,
    "start_time": "2022-07-16T07:56:18.080Z"
   },
   {
    "duration": 17,
    "start_time": "2022-07-16T07:56:55.245Z"
   },
   {
    "duration": 461,
    "start_time": "2022-07-16T07:58:32.884Z"
   },
   {
    "duration": 440,
    "start_time": "2022-07-16T07:58:40.894Z"
   },
   {
    "duration": 442,
    "start_time": "2022-07-16T07:58:50.869Z"
   },
   {
    "duration": 444,
    "start_time": "2022-07-16T07:58:54.804Z"
   },
   {
    "duration": 446,
    "start_time": "2022-07-16T07:59:08.345Z"
   },
   {
    "duration": 494,
    "start_time": "2022-07-16T07:59:19.455Z"
   },
   {
    "duration": 528,
    "start_time": "2022-07-16T07:59:25.011Z"
   },
   {
    "duration": 441,
    "start_time": "2022-07-16T07:59:30.039Z"
   },
   {
    "duration": 445,
    "start_time": "2022-07-16T07:59:43.239Z"
   },
   {
    "duration": 588,
    "start_time": "2022-07-16T08:00:06.117Z"
   },
   {
    "duration": 431,
    "start_time": "2022-07-16T08:00:30.475Z"
   },
   {
    "duration": 631,
    "start_time": "2022-07-16T08:01:29.796Z"
   },
   {
    "duration": 447,
    "start_time": "2022-07-16T08:01:35.357Z"
   },
   {
    "duration": 532,
    "start_time": "2022-07-16T08:03:13.080Z"
   },
   {
    "duration": 521,
    "start_time": "2022-07-16T08:03:33.798Z"
   },
   {
    "duration": 520,
    "start_time": "2022-07-16T08:03:46.997Z"
   },
   {
    "duration": 463,
    "start_time": "2022-07-16T08:04:07.784Z"
   },
   {
    "duration": 507,
    "start_time": "2022-07-16T08:04:20.197Z"
   },
   {
    "duration": 427,
    "start_time": "2022-07-16T08:04:24.726Z"
   },
   {
    "duration": 354,
    "start_time": "2022-07-16T08:04:55.601Z"
   },
   {
    "duration": 382,
    "start_time": "2022-07-16T08:05:38.704Z"
   },
   {
    "duration": 348,
    "start_time": "2022-07-16T08:05:54.048Z"
   },
   {
    "duration": 210,
    "start_time": "2022-07-16T08:06:20.958Z"
   },
   {
    "duration": 426,
    "start_time": "2022-07-16T08:06:34.665Z"
   },
   {
    "duration": 217,
    "start_time": "2022-07-16T08:07:02.676Z"
   },
   {
    "duration": 208,
    "start_time": "2022-07-16T08:07:09.268Z"
   },
   {
    "duration": 51,
    "start_time": "2022-07-16T19:46:21.819Z"
   },
   {
    "duration": 1781,
    "start_time": "2022-07-16T19:46:27.484Z"
   },
   {
    "duration": 13,
    "start_time": "2022-07-16T19:46:29.267Z"
   },
   {
    "duration": 27,
    "start_time": "2022-07-16T19:46:29.281Z"
   },
   {
    "duration": 7,
    "start_time": "2022-07-16T19:46:29.310Z"
   },
   {
    "duration": 11,
    "start_time": "2022-07-16T19:46:29.320Z"
   },
   {
    "duration": 2,
    "start_time": "2022-07-16T19:46:29.334Z"
   },
   {
    "duration": 11,
    "start_time": "2022-07-16T19:46:29.352Z"
   },
   {
    "duration": 574,
    "start_time": "2022-07-16T19:46:29.365Z"
   },
   {
    "duration": 16,
    "start_time": "2022-07-16T19:46:29.941Z"
   },
   {
    "duration": 366,
    "start_time": "2022-07-16T19:46:29.960Z"
   },
   {
    "duration": 301,
    "start_time": "2022-07-16T19:46:30.328Z"
   },
   {
    "duration": 329,
    "start_time": "2022-07-16T19:46:30.631Z"
   },
   {
    "duration": 15,
    "start_time": "2022-07-16T19:46:30.962Z"
   },
   {
    "duration": 14,
    "start_time": "2022-07-16T19:46:30.979Z"
   },
   {
    "duration": 158,
    "start_time": "2022-07-16T19:46:30.995Z"
   },
   {
    "duration": 228,
    "start_time": "2022-07-16T19:46:31.155Z"
   },
   {
    "duration": 0,
    "start_time": "2022-07-16T19:46:31.385Z"
   },
   {
    "duration": 0,
    "start_time": "2022-07-16T19:46:31.386Z"
   },
   {
    "duration": 48,
    "start_time": "2022-07-16T19:47:17.318Z"
   },
   {
    "duration": 11,
    "start_time": "2022-07-16T19:47:23.151Z"
   },
   {
    "duration": 14,
    "start_time": "2022-07-16T19:47:23.164Z"
   },
   {
    "duration": 7,
    "start_time": "2022-07-16T19:47:23.179Z"
   },
   {
    "duration": 14,
    "start_time": "2022-07-16T19:47:23.188Z"
   },
   {
    "duration": 3,
    "start_time": "2022-07-16T19:47:23.204Z"
   },
   {
    "duration": 14,
    "start_time": "2022-07-16T19:47:23.208Z"
   },
   {
    "duration": 460,
    "start_time": "2022-07-16T19:47:23.252Z"
   },
   {
    "duration": 14,
    "start_time": "2022-07-16T19:47:23.714Z"
   },
   {
    "duration": 367,
    "start_time": "2022-07-16T19:47:23.730Z"
   },
   {
    "duration": 221,
    "start_time": "2022-07-16T19:47:24.099Z"
   },
   {
    "duration": 340,
    "start_time": "2022-07-16T19:47:24.323Z"
   },
   {
    "duration": 15,
    "start_time": "2022-07-16T19:47:24.664Z"
   },
   {
    "duration": 13,
    "start_time": "2022-07-16T19:47:24.681Z"
   },
   {
    "duration": 60,
    "start_time": "2022-07-16T19:47:24.695Z"
   },
   {
    "duration": 97,
    "start_time": "2022-07-16T19:47:24.757Z"
   },
   {
    "duration": 12,
    "start_time": "2022-07-16T19:47:57.406Z"
   },
   {
    "duration": 15,
    "start_time": "2022-07-16T19:47:59.329Z"
   },
   {
    "duration": 11,
    "start_time": "2022-07-16T19:49:51.881Z"
   },
   {
    "duration": 82,
    "start_time": "2022-07-16T19:50:39.853Z"
   },
   {
    "duration": 10,
    "start_time": "2022-07-16T19:51:38.679Z"
   },
   {
    "duration": 4,
    "start_time": "2022-07-16T19:51:56.395Z"
   },
   {
    "duration": 9,
    "start_time": "2022-07-16T19:52:55.150Z"
   },
   {
    "duration": 4,
    "start_time": "2022-07-16T19:52:56.830Z"
   },
   {
    "duration": 36,
    "start_time": "2022-07-16T19:55:08.663Z"
   },
   {
    "duration": 9,
    "start_time": "2022-07-16T19:55:14.861Z"
   },
   {
    "duration": 13,
    "start_time": "2022-07-16T19:55:25.067Z"
   },
   {
    "duration": 9,
    "start_time": "2022-07-16T19:56:48.870Z"
   },
   {
    "duration": 4,
    "start_time": "2022-07-16T19:56:50.392Z"
   },
   {
    "duration": 5,
    "start_time": "2022-07-16T19:57:08.577Z"
   },
   {
    "duration": 82,
    "start_time": "2022-07-16T19:58:47.134Z"
   },
   {
    "duration": 7,
    "start_time": "2022-07-16T19:58:52.792Z"
   },
   {
    "duration": 4,
    "start_time": "2022-07-16T19:58:54.582Z"
   },
   {
    "duration": 5,
    "start_time": "2022-07-16T19:58:57.172Z"
   },
   {
    "duration": 6,
    "start_time": "2022-07-16T19:58:58.126Z"
   },
   {
    "duration": 5,
    "start_time": "2022-07-16T20:00:37.361Z"
   },
   {
    "duration": 1393,
    "start_time": "2022-07-16T20:01:02.316Z"
   },
   {
    "duration": 4,
    "start_time": "2022-07-16T20:05:06.299Z"
   },
   {
    "duration": 10,
    "start_time": "2022-07-16T20:05:37.363Z"
   },
   {
    "duration": 3,
    "start_time": "2022-07-16T20:06:08.174Z"
   },
   {
    "duration": 6,
    "start_time": "2022-07-16T20:06:13.121Z"
   },
   {
    "duration": 4,
    "start_time": "2022-07-16T20:06:19.214Z"
   },
   {
    "duration": 1424,
    "start_time": "2022-07-16T20:06:26.777Z"
   },
   {
    "duration": 11,
    "start_time": "2022-07-16T20:06:28.203Z"
   },
   {
    "duration": 21,
    "start_time": "2022-07-16T20:06:28.215Z"
   },
   {
    "duration": 7,
    "start_time": "2022-07-16T20:06:28.238Z"
   },
   {
    "duration": 32,
    "start_time": "2022-07-16T20:06:28.247Z"
   },
   {
    "duration": 3,
    "start_time": "2022-07-16T20:06:28.281Z"
   },
   {
    "duration": 10,
    "start_time": "2022-07-16T20:06:28.286Z"
   },
   {
    "duration": 569,
    "start_time": "2022-07-16T20:06:28.297Z"
   },
   {
    "duration": 15,
    "start_time": "2022-07-16T20:06:28.868Z"
   },
   {
    "duration": 347,
    "start_time": "2022-07-16T20:06:28.884Z"
   },
   {
    "duration": 274,
    "start_time": "2022-07-16T20:06:29.233Z"
   },
   {
    "duration": 340,
    "start_time": "2022-07-16T20:06:29.508Z"
   },
   {
    "duration": 23,
    "start_time": "2022-07-16T20:06:29.851Z"
   },
   {
    "duration": 4,
    "start_time": "2022-07-16T20:06:29.876Z"
   },
   {
    "duration": 10,
    "start_time": "2022-07-16T20:06:29.881Z"
   },
   {
    "duration": 65,
    "start_time": "2022-07-16T20:06:29.893Z"
   },
   {
    "duration": 246,
    "start_time": "2022-07-16T20:06:29.959Z"
   },
   {
    "duration": 1,
    "start_time": "2022-07-16T20:06:30.206Z"
   },
   {
    "duration": 0,
    "start_time": "2022-07-16T20:06:30.208Z"
   },
   {
    "duration": 5,
    "start_time": "2022-07-16T20:12:03.087Z"
   },
   {
    "duration": 10,
    "start_time": "2022-07-16T20:12:08.994Z"
   },
   {
    "duration": 12,
    "start_time": "2022-07-16T20:12:54.825Z"
   },
   {
    "duration": 10,
    "start_time": "2022-07-16T20:12:57.079Z"
   },
   {
    "duration": 5,
    "start_time": "2022-07-16T20:13:00.802Z"
   },
   {
    "duration": 8,
    "start_time": "2022-07-16T20:13:04.079Z"
   },
   {
    "duration": 5,
    "start_time": "2022-07-16T20:13:11.499Z"
   },
   {
    "duration": 8,
    "start_time": "2022-07-16T20:13:28.059Z"
   },
   {
    "duration": 10,
    "start_time": "2022-07-16T20:13:37.986Z"
   },
   {
    "duration": 5,
    "start_time": "2022-07-16T20:13:42.890Z"
   },
   {
    "duration": 18,
    "start_time": "2022-07-16T20:14:01.549Z"
   },
   {
    "duration": 9,
    "start_time": "2022-07-16T20:14:14.454Z"
   },
   {
    "duration": 9,
    "start_time": "2022-07-16T20:14:17.659Z"
   },
   {
    "duration": 4,
    "start_time": "2022-07-16T20:14:40.510Z"
   },
   {
    "duration": 3,
    "start_time": "2022-07-16T20:14:47.439Z"
   },
   {
    "duration": 4,
    "start_time": "2022-07-16T20:14:59.658Z"
   },
   {
    "duration": 4,
    "start_time": "2022-07-16T20:15:41.638Z"
   },
   {
    "duration": 1404,
    "start_time": "2022-07-16T20:16:09.174Z"
   },
   {
    "duration": 12,
    "start_time": "2022-07-16T20:16:10.580Z"
   },
   {
    "duration": 25,
    "start_time": "2022-07-16T20:16:10.593Z"
   },
   {
    "duration": 7,
    "start_time": "2022-07-16T20:16:10.621Z"
   },
   {
    "duration": 27,
    "start_time": "2022-07-16T20:16:10.630Z"
   },
   {
    "duration": 2,
    "start_time": "2022-07-16T20:16:10.659Z"
   },
   {
    "duration": 11,
    "start_time": "2022-07-16T20:16:10.663Z"
   },
   {
    "duration": 556,
    "start_time": "2022-07-16T20:16:10.675Z"
   },
   {
    "duration": 15,
    "start_time": "2022-07-16T20:16:11.233Z"
   },
   {
    "duration": 355,
    "start_time": "2022-07-16T20:16:11.251Z"
   },
   {
    "duration": 312,
    "start_time": "2022-07-16T20:16:11.608Z"
   },
   {
    "duration": 389,
    "start_time": "2022-07-16T20:16:11.922Z"
   },
   {
    "duration": 17,
    "start_time": "2022-07-16T20:16:12.313Z"
   },
   {
    "duration": 24,
    "start_time": "2022-07-16T20:16:12.332Z"
   },
   {
    "duration": 12,
    "start_time": "2022-07-16T20:16:12.358Z"
   },
   {
    "duration": 102,
    "start_time": "2022-07-16T20:16:12.453Z"
   },
   {
    "duration": 5,
    "start_time": "2022-07-16T20:16:12.557Z"
   },
   {
    "duration": 4,
    "start_time": "2022-07-16T20:16:12.564Z"
   },
   {
    "duration": 12,
    "start_time": "2022-07-16T20:16:14.047Z"
   },
   {
    "duration": 1364,
    "start_time": "2022-07-16T20:16:28.617Z"
   },
   {
    "duration": 11,
    "start_time": "2022-07-16T20:16:29.983Z"
   },
   {
    "duration": 14,
    "start_time": "2022-07-16T20:16:29.995Z"
   },
   {
    "duration": 5,
    "start_time": "2022-07-16T20:16:30.011Z"
   },
   {
    "duration": 12,
    "start_time": "2022-07-16T20:16:30.018Z"
   },
   {
    "duration": 2,
    "start_time": "2022-07-16T20:16:30.032Z"
   },
   {
    "duration": 24,
    "start_time": "2022-07-16T20:16:30.035Z"
   },
   {
    "duration": 519,
    "start_time": "2022-07-16T20:16:30.580Z"
   },
   {
    "duration": 14,
    "start_time": "2022-07-16T20:16:31.101Z"
   },
   {
    "duration": 335,
    "start_time": "2022-07-16T20:16:31.117Z"
   },
   {
    "duration": 266,
    "start_time": "2022-07-16T20:16:31.454Z"
   },
   {
    "duration": 308,
    "start_time": "2022-07-16T20:16:31.815Z"
   },
   {
    "duration": 14,
    "start_time": "2022-07-16T20:16:33.235Z"
   },
   {
    "duration": 4,
    "start_time": "2022-07-16T20:16:34.060Z"
   },
   {
    "duration": 11,
    "start_time": "2022-07-16T20:16:35.185Z"
   },
   {
    "duration": 4,
    "start_time": "2022-07-16T20:16:45.912Z"
   },
   {
    "duration": 4,
    "start_time": "2022-07-16T20:16:47.667Z"
   },
   {
    "duration": 101,
    "start_time": "2022-07-16T20:16:48.864Z"
   },
   {
    "duration": 4,
    "start_time": "2022-07-16T20:16:52.342Z"
   },
   {
    "duration": 12,
    "start_time": "2022-07-16T20:17:09.837Z"
   },
   {
    "duration": 4,
    "start_time": "2022-07-16T20:17:11.782Z"
   },
   {
    "duration": 3,
    "start_time": "2022-07-16T20:18:11.932Z"
   },
   {
    "duration": 4,
    "start_time": "2022-07-16T20:18:20.418Z"
   },
   {
    "duration": 1411,
    "start_time": "2022-07-16T20:18:41.960Z"
   },
   {
    "duration": 10,
    "start_time": "2022-07-16T20:18:43.373Z"
   },
   {
    "duration": 14,
    "start_time": "2022-07-16T20:18:43.385Z"
   },
   {
    "duration": 6,
    "start_time": "2022-07-16T20:18:43.401Z"
   },
   {
    "duration": 16,
    "start_time": "2022-07-16T20:18:43.408Z"
   },
   {
    "duration": 2,
    "start_time": "2022-07-16T20:18:43.426Z"
   },
   {
    "duration": 30,
    "start_time": "2022-07-16T20:18:43.429Z"
   },
   {
    "duration": 527,
    "start_time": "2022-07-16T20:18:43.460Z"
   },
   {
    "duration": 16,
    "start_time": "2022-07-16T20:18:43.988Z"
   },
   {
    "duration": 1442,
    "start_time": "2022-07-16T20:18:50.700Z"
   },
   {
    "duration": 12,
    "start_time": "2022-07-16T20:18:52.144Z"
   },
   {
    "duration": 23,
    "start_time": "2022-07-16T20:18:52.157Z"
   },
   {
    "duration": 8,
    "start_time": "2022-07-16T20:18:52.182Z"
   },
   {
    "duration": 30,
    "start_time": "2022-07-16T20:18:52.191Z"
   },
   {
    "duration": 14,
    "start_time": "2022-07-16T20:18:52.223Z"
   },
   {
    "duration": 24,
    "start_time": "2022-07-16T20:18:52.239Z"
   },
   {
    "duration": 558,
    "start_time": "2022-07-16T20:18:52.265Z"
   },
   {
    "duration": 15,
    "start_time": "2022-07-16T20:18:52.825Z"
   },
   {
    "duration": 350,
    "start_time": "2022-07-16T20:18:52.841Z"
   },
   {
    "duration": 292,
    "start_time": "2022-07-16T20:18:53.194Z"
   },
   {
    "duration": 346,
    "start_time": "2022-07-16T20:18:53.487Z"
   },
   {
    "duration": 27,
    "start_time": "2022-07-16T20:18:53.835Z"
   },
   {
    "duration": 4,
    "start_time": "2022-07-16T20:18:53.864Z"
   },
   {
    "duration": 10,
    "start_time": "2022-07-16T20:18:55.434Z"
   },
   {
    "duration": 4,
    "start_time": "2022-07-16T20:19:05.438Z"
   },
   {
    "duration": 4,
    "start_time": "2022-07-16T20:19:15.703Z"
   },
   {
    "duration": 3,
    "start_time": "2022-07-16T20:19:19.747Z"
   },
   {
    "duration": 3,
    "start_time": "2022-07-16T20:19:23.798Z"
   },
   {
    "duration": 3,
    "start_time": "2022-07-16T20:19:31.518Z"
   },
   {
    "duration": 4,
    "start_time": "2022-07-16T20:19:37.155Z"
   },
   {
    "duration": 6,
    "start_time": "2022-07-16T20:19:53.780Z"
   },
   {
    "duration": 5,
    "start_time": "2022-07-16T20:19:57.690Z"
   },
   {
    "duration": 10,
    "start_time": "2022-07-16T20:20:09.818Z"
   },
   {
    "duration": 13,
    "start_time": "2022-07-16T20:20:28.748Z"
   },
   {
    "duration": 102,
    "start_time": "2022-07-16T20:20:33.153Z"
   },
   {
    "duration": 4,
    "start_time": "2022-07-16T20:20:33.354Z"
   },
   {
    "duration": 4,
    "start_time": "2022-07-16T20:20:38.528Z"
   },
   {
    "duration": 12,
    "start_time": "2022-07-16T20:20:51.875Z"
   },
   {
    "duration": 19,
    "start_time": "2022-07-16T20:20:52.956Z"
   },
   {
    "duration": 4,
    "start_time": "2022-07-16T20:20:53.153Z"
   },
   {
    "duration": 5,
    "start_time": "2022-07-16T20:20:53.623Z"
   },
   {
    "duration": 3,
    "start_time": "2022-07-16T20:20:53.817Z"
   },
   {
    "duration": 4,
    "start_time": "2022-07-16T20:20:54.018Z"
   },
   {
    "duration": 4,
    "start_time": "2022-07-16T20:20:59.415Z"
   },
   {
    "duration": 110,
    "start_time": "2022-07-16T20:21:00.898Z"
   },
   {
    "duration": 6,
    "start_time": "2022-07-16T20:21:16.041Z"
   },
   {
    "duration": 4,
    "start_time": "2022-07-16T20:21:29.637Z"
   },
   {
    "duration": 3,
    "start_time": "2022-07-16T20:21:33.568Z"
   },
   {
    "duration": 4,
    "start_time": "2022-07-16T20:21:36.427Z"
   },
   {
    "duration": 15,
    "start_time": "2022-07-16T20:21:54.868Z"
   },
   {
    "duration": 14,
    "start_time": "2022-07-16T20:21:55.743Z"
   },
   {
    "duration": 12,
    "start_time": "2022-07-16T20:23:43.506Z"
   },
   {
    "duration": 16,
    "start_time": "2022-07-16T20:23:44.525Z"
   },
   {
    "duration": 12,
    "start_time": "2022-07-16T20:23:44.720Z"
   },
   {
    "duration": 14,
    "start_time": "2022-07-16T20:24:30.392Z"
   },
   {
    "duration": 5,
    "start_time": "2022-07-16T20:27:48.588Z"
   },
   {
    "duration": 6,
    "start_time": "2022-07-16T20:27:57.858Z"
   },
   {
    "duration": 1392,
    "start_time": "2022-07-16T20:28:54.298Z"
   },
   {
    "duration": 13,
    "start_time": "2022-07-16T20:28:55.692Z"
   },
   {
    "duration": 22,
    "start_time": "2022-07-16T20:28:55.706Z"
   },
   {
    "duration": 7,
    "start_time": "2022-07-16T20:28:55.730Z"
   },
   {
    "duration": 18,
    "start_time": "2022-07-16T20:28:55.740Z"
   },
   {
    "duration": 3,
    "start_time": "2022-07-16T20:28:55.760Z"
   },
   {
    "duration": 12,
    "start_time": "2022-07-16T20:28:55.765Z"
   },
   {
    "duration": 621,
    "start_time": "2022-07-16T20:28:55.778Z"
   },
   {
    "duration": 17,
    "start_time": "2022-07-16T20:28:56.401Z"
   },
   {
    "duration": 347,
    "start_time": "2022-07-16T20:28:56.419Z"
   },
   {
    "duration": 1487,
    "start_time": "2022-07-16T20:29:04.758Z"
   },
   {
    "duration": 10,
    "start_time": "2022-07-16T20:29:06.247Z"
   },
   {
    "duration": 14,
    "start_time": "2022-07-16T20:29:06.258Z"
   },
   {
    "duration": 6,
    "start_time": "2022-07-16T20:29:06.273Z"
   },
   {
    "duration": 12,
    "start_time": "2022-07-16T20:29:06.281Z"
   },
   {
    "duration": 2,
    "start_time": "2022-07-16T20:29:06.294Z"
   },
   {
    "duration": 11,
    "start_time": "2022-07-16T20:29:06.298Z"
   },
   {
    "duration": 540,
    "start_time": "2022-07-16T20:29:06.310Z"
   },
   {
    "duration": 14,
    "start_time": "2022-07-16T20:29:06.852Z"
   },
   {
    "duration": 321,
    "start_time": "2022-07-16T20:29:06.868Z"
   },
   {
    "duration": 280,
    "start_time": "2022-07-16T20:29:07.191Z"
   },
   {
    "duration": 333,
    "start_time": "2022-07-16T20:29:07.472Z"
   },
   {
    "duration": 15,
    "start_time": "2022-07-16T20:29:07.807Z"
   },
   {
    "duration": 5,
    "start_time": "2022-07-16T20:29:07.824Z"
   },
   {
    "duration": 12,
    "start_time": "2022-07-16T20:29:07.851Z"
   },
   {
    "duration": 92,
    "start_time": "2022-07-16T20:29:07.864Z"
   },
   {
    "duration": 95,
    "start_time": "2022-07-16T20:29:07.957Z"
   },
   {
    "duration": 156,
    "start_time": "2022-07-16T20:29:08.055Z"
   },
   {
    "duration": 0,
    "start_time": "2022-07-16T20:29:08.212Z"
   },
   {
    "duration": 0,
    "start_time": "2022-07-16T20:29:08.214Z"
   },
   {
    "duration": 0,
    "start_time": "2022-07-16T20:29:08.215Z"
   },
   {
    "duration": 13,
    "start_time": "2022-07-16T20:29:27.518Z"
   },
   {
    "duration": 14,
    "start_time": "2022-07-16T20:34:42.080Z"
   },
   {
    "duration": 5,
    "start_time": "2022-07-16T20:34:48.321Z"
   },
   {
    "duration": 5,
    "start_time": "2022-07-16T20:34:49.018Z"
   },
   {
    "duration": 4,
    "start_time": "2022-07-16T21:02:36.027Z"
   },
   {
    "duration": 68,
    "start_time": "2022-07-16T21:12:36.274Z"
   },
   {
    "duration": 4,
    "start_time": "2022-07-16T21:12:43.993Z"
   },
   {
    "duration": 87,
    "start_time": "2022-07-16T21:12:44.195Z"
   },
   {
    "duration": 12,
    "start_time": "2022-07-16T21:12:56.987Z"
   },
   {
    "duration": 1484,
    "start_time": "2022-07-16T21:14:10.221Z"
   },
   {
    "duration": 1,
    "start_time": "2022-07-16T21:14:11.707Z"
   },
   {
    "duration": 0,
    "start_time": "2022-07-16T21:14:11.708Z"
   },
   {
    "duration": 0,
    "start_time": "2022-07-16T21:14:11.710Z"
   },
   {
    "duration": 0,
    "start_time": "2022-07-16T21:14:11.710Z"
   },
   {
    "duration": 0,
    "start_time": "2022-07-16T21:14:11.711Z"
   },
   {
    "duration": 0,
    "start_time": "2022-07-16T21:14:11.712Z"
   },
   {
    "duration": 0,
    "start_time": "2022-07-16T21:14:11.713Z"
   },
   {
    "duration": 0,
    "start_time": "2022-07-16T21:14:11.714Z"
   },
   {
    "duration": 0,
    "start_time": "2022-07-16T21:14:11.715Z"
   },
   {
    "duration": 0,
    "start_time": "2022-07-16T21:14:11.716Z"
   },
   {
    "duration": 0,
    "start_time": "2022-07-16T21:14:11.717Z"
   },
   {
    "duration": 0,
    "start_time": "2022-07-16T21:14:11.718Z"
   },
   {
    "duration": 1,
    "start_time": "2022-07-16T21:14:11.718Z"
   },
   {
    "duration": 0,
    "start_time": "2022-07-16T21:14:11.720Z"
   },
   {
    "duration": 0,
    "start_time": "2022-07-16T21:14:11.721Z"
   },
   {
    "duration": 0,
    "start_time": "2022-07-16T21:14:11.722Z"
   },
   {
    "duration": 0,
    "start_time": "2022-07-16T21:14:11.723Z"
   },
   {
    "duration": 0,
    "start_time": "2022-07-16T21:14:11.723Z"
   },
   {
    "duration": 6433,
    "start_time": "2022-07-16T21:16:27.129Z"
   },
   {
    "duration": 2061,
    "start_time": "2022-07-16T21:16:40.988Z"
   },
   {
    "duration": 1846,
    "start_time": "2022-07-16T21:16:43.051Z"
   },
   {
    "duration": 12,
    "start_time": "2022-07-16T21:16:44.898Z"
   },
   {
    "duration": 19,
    "start_time": "2022-07-16T21:16:44.911Z"
   },
   {
    "duration": 7,
    "start_time": "2022-07-16T21:16:44.932Z"
   },
   {
    "duration": 14,
    "start_time": "2022-07-16T21:16:44.940Z"
   },
   {
    "duration": 3,
    "start_time": "2022-07-16T21:16:44.955Z"
   },
   {
    "duration": 11,
    "start_time": "2022-07-16T21:16:44.960Z"
   },
   {
    "duration": 550,
    "start_time": "2022-07-16T21:16:44.972Z"
   },
   {
    "duration": 14,
    "start_time": "2022-07-16T21:16:45.524Z"
   },
   {
    "duration": 321,
    "start_time": "2022-07-16T21:16:45.540Z"
   },
   {
    "duration": 240,
    "start_time": "2022-07-16T21:16:45.862Z"
   },
   {
    "duration": 449,
    "start_time": "2022-07-16T21:16:46.105Z"
   },
   {
    "duration": 16,
    "start_time": "2022-07-16T21:16:46.557Z"
   },
   {
    "duration": 5,
    "start_time": "2022-07-16T21:16:46.574Z"
   },
   {
    "duration": 13,
    "start_time": "2022-07-16T21:16:46.580Z"
   },
   {
    "duration": 65,
    "start_time": "2022-07-16T21:16:46.595Z"
   },
   {
    "duration": 89,
    "start_time": "2022-07-16T21:16:46.664Z"
   },
   {
    "duration": 6454,
    "start_time": "2022-07-16T21:16:46.756Z"
   },
   {
    "duration": 5,
    "start_time": "2022-07-16T21:16:53.211Z"
   },
   {
    "duration": 1804,
    "start_time": "2022-07-16T21:16:56.122Z"
   },
   {
    "duration": 10,
    "start_time": "2022-07-16T21:16:57.928Z"
   },
   {
    "duration": 13,
    "start_time": "2022-07-16T21:16:57.940Z"
   },
   {
    "duration": 6,
    "start_time": "2022-07-16T21:16:57.955Z"
   },
   {
    "duration": 17,
    "start_time": "2022-07-16T21:16:57.963Z"
   },
   {
    "duration": 3,
    "start_time": "2022-07-16T21:16:57.982Z"
   },
   {
    "duration": 21,
    "start_time": "2022-07-16T21:16:57.987Z"
   },
   {
    "duration": 500,
    "start_time": "2022-07-16T21:16:58.010Z"
   },
   {
    "duration": 13,
    "start_time": "2022-07-16T21:16:58.512Z"
   },
   {
    "duration": 313,
    "start_time": "2022-07-16T21:16:58.526Z"
   },
   {
    "duration": 192,
    "start_time": "2022-07-16T21:16:58.841Z"
   },
   {
    "duration": 440,
    "start_time": "2022-07-16T21:16:59.035Z"
   },
   {
    "duration": 15,
    "start_time": "2022-07-16T21:16:59.477Z"
   },
   {
    "duration": 4,
    "start_time": "2022-07-16T21:16:59.496Z"
   },
   {
    "duration": 10,
    "start_time": "2022-07-16T21:16:59.502Z"
   },
   {
    "duration": 41,
    "start_time": "2022-07-16T21:16:59.514Z"
   },
   {
    "duration": 94,
    "start_time": "2022-07-16T21:16:59.557Z"
   },
   {
    "duration": 10749,
    "start_time": "2022-07-16T21:16:59.654Z"
   },
   {
    "duration": 4,
    "start_time": "2022-07-16T21:17:10.405Z"
   },
   {
    "duration": 48,
    "start_time": "2022-07-16T21:17:31.184Z"
   },
   {
    "duration": 5,
    "start_time": "2022-07-16T21:17:36.068Z"
   },
   {
    "duration": 1894,
    "start_time": "2022-07-16T21:21:14.556Z"
   },
   {
    "duration": 11,
    "start_time": "2022-07-16T21:21:16.453Z"
   },
   {
    "duration": 17,
    "start_time": "2022-07-16T21:21:16.466Z"
   },
   {
    "duration": 7,
    "start_time": "2022-07-16T21:21:16.484Z"
   },
   {
    "duration": 10,
    "start_time": "2022-07-16T21:21:16.494Z"
   },
   {
    "duration": 2,
    "start_time": "2022-07-16T21:21:16.506Z"
   },
   {
    "duration": 47,
    "start_time": "2022-07-16T21:21:16.510Z"
   },
   {
    "duration": 576,
    "start_time": "2022-07-16T21:21:16.559Z"
   },
   {
    "duration": 16,
    "start_time": "2022-07-16T21:21:17.137Z"
   },
   {
    "duration": 367,
    "start_time": "2022-07-16T21:21:17.155Z"
   },
   {
    "duration": 210,
    "start_time": "2022-07-16T21:21:17.524Z"
   },
   {
    "duration": 420,
    "start_time": "2022-07-16T21:21:17.736Z"
   },
   {
    "duration": 14,
    "start_time": "2022-07-16T21:21:18.158Z"
   },
   {
    "duration": 5,
    "start_time": "2022-07-16T21:21:18.175Z"
   },
   {
    "duration": 15,
    "start_time": "2022-07-16T21:21:18.182Z"
   },
   {
    "duration": 58,
    "start_time": "2022-07-16T21:21:18.198Z"
   },
   {
    "duration": 92,
    "start_time": "2022-07-16T21:21:18.259Z"
   },
   {
    "duration": 4,
    "start_time": "2022-07-16T21:21:18.354Z"
   },
   {
    "duration": 17883,
    "start_time": "2022-07-16T21:21:18.360Z"
   },
   {
    "duration": 4,
    "start_time": "2022-07-16T21:21:36.245Z"
   },
   {
    "duration": 4,
    "start_time": "2022-07-16T21:23:00.179Z"
   },
   {
    "duration": 366240,
    "start_time": "2022-07-16T21:24:09.753Z"
   },
   {
    "duration": 3243,
    "start_time": "2022-07-16T21:35:24.116Z"
   },
   {
    "duration": 2248,
    "start_time": "2022-07-16T21:35:30.885Z"
   },
   {
    "duration": 4,
    "start_time": "2022-07-16T21:38:48.685Z"
   },
   {
    "duration": 1091,
    "start_time": "2022-07-16T21:38:48.926Z"
   },
   {
    "duration": 136,
    "start_time": "2022-07-16T21:39:12.564Z"
   },
   {
    "duration": 74,
    "start_time": "2022-07-16T21:39:15.194Z"
   },
   {
    "duration": 10,
    "start_time": "2022-07-16T21:39:19.397Z"
   },
   {
    "duration": 11,
    "start_time": "2022-07-16T21:39:25.468Z"
   },
   {
    "duration": 11,
    "start_time": "2022-07-16T21:39:39.809Z"
   },
   {
    "duration": 1138,
    "start_time": "2022-07-16T21:39:45.397Z"
   },
   {
    "duration": 1262,
    "start_time": "2022-07-16T21:39:50.979Z"
   },
   {
    "duration": 118173,
    "start_time": "2022-07-16T21:39:57.126Z"
   },
   {
    "duration": 12,
    "start_time": "2022-07-16T21:45:43.667Z"
   },
   {
    "duration": 15,
    "start_time": "2022-07-16T21:45:55.576Z"
   },
   {
    "duration": 18,
    "start_time": "2022-07-16T21:46:03.364Z"
   },
   {
    "duration": 11,
    "start_time": "2022-07-16T21:46:46.979Z"
   },
   {
    "duration": 0,
    "start_time": "2022-07-16T21:52:47.798Z"
   },
   {
    "duration": 0,
    "start_time": "2022-07-16T21:55:41.924Z"
   },
   {
    "duration": 0,
    "start_time": "2022-07-16T21:59:55.148Z"
   },
   {
    "duration": 0,
    "start_time": "2022-07-16T22:03:02.449Z"
   },
   {
    "duration": 66415,
    "start_time": "2022-07-16T22:05:17.391Z"
   },
   {
    "duration": 97,
    "start_time": "2022-07-16T22:07:51.598Z"
   },
   {
    "duration": 10,
    "start_time": "2022-07-16T22:09:09.727Z"
   },
   {
    "duration": 94,
    "start_time": "2022-07-16T22:09:09.739Z"
   },
   {
    "duration": 1707,
    "start_time": "2022-07-16T22:54:12.146Z"
   },
   {
    "duration": 1353,
    "start_time": "2022-07-16T22:55:03.353Z"
   },
   {
    "duration": 1643,
    "start_time": "2022-07-16T22:55:11.364Z"
   },
   {
    "duration": 1249,
    "start_time": "2022-07-16T22:55:27.264Z"
   },
   {
    "duration": 1323,
    "start_time": "2022-07-16T22:56:00.778Z"
   },
   {
    "duration": 6,
    "start_time": "2022-07-16T22:57:10.934Z"
   },
   {
    "duration": 1243,
    "start_time": "2022-07-16T23:04:50.036Z"
   },
   {
    "duration": 10,
    "start_time": "2022-07-16T23:04:52.151Z"
   },
   {
    "duration": 10,
    "start_time": "2022-07-16T23:05:12.456Z"
   },
   {
    "duration": 46,
    "start_time": "2022-07-16T23:07:51.138Z"
   },
   {
    "duration": 4,
    "start_time": "2022-07-16T23:08:20.184Z"
   },
   {
    "duration": 11,
    "start_time": "2022-07-16T23:08:38.017Z"
   },
   {
    "duration": 27,
    "start_time": "2022-07-16T23:09:11.977Z"
   },
   {
    "duration": 0,
    "start_time": "2022-07-16T23:12:21.474Z"
   },
   {
    "duration": 0,
    "start_time": "2022-07-16T23:12:21.475Z"
   },
   {
    "duration": 4,
    "start_time": "2022-07-16T23:12:24.164Z"
   },
   {
    "duration": 23015,
    "start_time": "2022-07-16T23:12:24.370Z"
   },
   {
    "duration": 79369,
    "start_time": "2022-07-16T23:12:49.289Z"
   },
   {
    "duration": 852,
    "start_time": "2022-07-16T23:15:07.865Z"
   },
   {
    "duration": 968,
    "start_time": "2022-07-16T23:15:14.549Z"
   },
   {
    "duration": 992,
    "start_time": "2022-07-16T23:16:15.454Z"
   },
   {
    "duration": 11,
    "start_time": "2022-07-16T23:17:00.631Z"
   },
   {
    "duration": 12,
    "start_time": "2022-07-16T23:17:40.706Z"
   },
   {
    "duration": 54,
    "start_time": "2022-07-18T00:13:37.242Z"
   },
   {
    "duration": 3,
    "start_time": "2022-07-18T00:13:43.632Z"
   },
   {
    "duration": 1250,
    "start_time": "2022-07-18T00:13:43.642Z"
   },
   {
    "duration": 0,
    "start_time": "2022-07-18T00:13:44.893Z"
   },
   {
    "duration": 0,
    "start_time": "2022-07-18T00:13:44.894Z"
   },
   {
    "duration": 0,
    "start_time": "2022-07-18T00:13:44.895Z"
   },
   {
    "duration": 0,
    "start_time": "2022-07-18T00:13:44.901Z"
   },
   {
    "duration": 0,
    "start_time": "2022-07-18T00:13:44.902Z"
   },
   {
    "duration": 0,
    "start_time": "2022-07-18T00:13:44.903Z"
   },
   {
    "duration": 0,
    "start_time": "2022-07-18T00:13:44.904Z"
   },
   {
    "duration": 0,
    "start_time": "2022-07-18T00:13:44.905Z"
   },
   {
    "duration": 0,
    "start_time": "2022-07-18T00:13:44.906Z"
   },
   {
    "duration": 0,
    "start_time": "2022-07-18T00:13:44.906Z"
   },
   {
    "duration": 0,
    "start_time": "2022-07-18T00:13:44.908Z"
   },
   {
    "duration": 0,
    "start_time": "2022-07-18T00:13:44.908Z"
   },
   {
    "duration": 0,
    "start_time": "2022-07-18T00:13:44.909Z"
   },
   {
    "duration": 0,
    "start_time": "2022-07-18T00:13:44.910Z"
   },
   {
    "duration": 0,
    "start_time": "2022-07-18T00:13:44.911Z"
   },
   {
    "duration": 0,
    "start_time": "2022-07-18T00:13:44.912Z"
   },
   {
    "duration": 0,
    "start_time": "2022-07-18T00:13:44.913Z"
   },
   {
    "duration": 0,
    "start_time": "2022-07-18T00:13:44.914Z"
   },
   {
    "duration": 0,
    "start_time": "2022-07-18T00:13:44.915Z"
   },
   {
    "duration": 0,
    "start_time": "2022-07-18T00:13:44.915Z"
   },
   {
    "duration": 341,
    "start_time": "2022-07-18T00:14:32.542Z"
   },
   {
    "duration": 1339,
    "start_time": "2022-07-18T00:14:37.488Z"
   },
   {
    "duration": 134,
    "start_time": "2022-07-18T00:14:38.829Z"
   },
   {
    "duration": 10,
    "start_time": "2022-07-18T00:14:38.965Z"
   },
   {
    "duration": 15,
    "start_time": "2022-07-18T00:14:38.976Z"
   },
   {
    "duration": 6,
    "start_time": "2022-07-18T00:14:38.993Z"
   },
   {
    "duration": 20,
    "start_time": "2022-07-18T00:14:39.001Z"
   },
   {
    "duration": 13,
    "start_time": "2022-07-18T00:14:39.022Z"
   },
   {
    "duration": 13,
    "start_time": "2022-07-18T00:14:39.037Z"
   },
   {
    "duration": 481,
    "start_time": "2022-07-18T00:14:39.051Z"
   },
   {
    "duration": 14,
    "start_time": "2022-07-18T00:14:39.534Z"
   },
   {
    "duration": 362,
    "start_time": "2022-07-18T00:14:39.549Z"
   },
   {
    "duration": 180,
    "start_time": "2022-07-18T00:14:39.912Z"
   },
   {
    "duration": 287,
    "start_time": "2022-07-18T00:14:40.093Z"
   },
   {
    "duration": 22,
    "start_time": "2022-07-18T00:14:40.382Z"
   },
   {
    "duration": 3,
    "start_time": "2022-07-18T00:14:40.406Z"
   },
   {
    "duration": 9,
    "start_time": "2022-07-18T00:14:40.411Z"
   },
   {
    "duration": 83,
    "start_time": "2022-07-18T00:14:40.421Z"
   },
   {
    "duration": 183,
    "start_time": "2022-07-18T00:14:40.505Z"
   },
   {
    "duration": 0,
    "start_time": "2022-07-18T00:14:40.689Z"
   },
   {
    "duration": 0,
    "start_time": "2022-07-18T00:14:40.701Z"
   },
   {
    "duration": 0,
    "start_time": "2022-07-18T00:14:40.703Z"
   },
   {
    "duration": 4,
    "start_time": "2022-07-18T00:15:12.675Z"
   },
   {
    "duration": 9,
    "start_time": "2022-07-18T00:15:18.404Z"
   },
   {
    "duration": 7776,
    "start_time": "2022-07-18T00:15:39.413Z"
   },
   {
    "duration": 10,
    "start_time": "2022-07-18T00:18:55.073Z"
   },
   {
    "duration": 9,
    "start_time": "2022-07-18T00:18:59.485Z"
   },
   {
    "duration": 9,
    "start_time": "2022-07-18T00:19:02.524Z"
   },
   {
    "duration": 26,
    "start_time": "2022-07-18T00:37:04.377Z"
   },
   {
    "duration": 9,
    "start_time": "2022-07-18T00:39:06.091Z"
   },
   {
    "duration": 1309,
    "start_time": "2022-07-18T00:40:43.412Z"
   },
   {
    "duration": 46,
    "start_time": "2022-07-18T00:40:44.723Z"
   },
   {
    "duration": 10,
    "start_time": "2022-07-18T00:40:44.771Z"
   },
   {
    "duration": 17,
    "start_time": "2022-07-18T00:40:44.782Z"
   },
   {
    "duration": 6,
    "start_time": "2022-07-18T00:40:44.800Z"
   },
   {
    "duration": 11,
    "start_time": "2022-07-18T00:40:44.807Z"
   },
   {
    "duration": 2,
    "start_time": "2022-07-18T00:40:44.819Z"
   },
   {
    "duration": 10,
    "start_time": "2022-07-18T00:40:44.822Z"
   },
   {
    "duration": 531,
    "start_time": "2022-07-18T00:40:44.833Z"
   },
   {
    "duration": 13,
    "start_time": "2022-07-18T00:40:45.366Z"
   },
   {
    "duration": 352,
    "start_time": "2022-07-18T00:40:45.381Z"
   },
   {
    "duration": 180,
    "start_time": "2022-07-18T00:40:45.734Z"
   },
   {
    "duration": 284,
    "start_time": "2022-07-18T00:40:45.916Z"
   },
   {
    "duration": 13,
    "start_time": "2022-07-18T00:40:46.202Z"
   },
   {
    "duration": 3,
    "start_time": "2022-07-18T00:40:46.216Z"
   },
   {
    "duration": 9,
    "start_time": "2022-07-18T00:40:46.220Z"
   },
   {
    "duration": 73,
    "start_time": "2022-07-18T00:40:46.230Z"
   },
   {
    "duration": 8282,
    "start_time": "2022-07-18T00:40:46.305Z"
   },
   {
    "duration": 1357,
    "start_time": "2022-07-18T00:40:54.588Z"
   },
   {
    "duration": 918,
    "start_time": "2022-07-18T00:40:55.946Z"
   },
   {
    "duration": 8,
    "start_time": "2022-07-18T00:40:56.865Z"
   },
   {
    "duration": 100,
    "start_time": "2022-07-18T00:41:59.243Z"
   },
   {
    "duration": 10,
    "start_time": "2022-07-18T00:44:08.398Z"
   },
   {
    "duration": 2638,
    "start_time": "2022-07-18T00:44:33.108Z"
   },
   {
    "duration": 2018,
    "start_time": "2022-07-18T00:44:36.736Z"
   },
   {
    "duration": 1897,
    "start_time": "2022-07-18T00:44:45.001Z"
   },
   {
    "duration": 1414,
    "start_time": "2022-07-18T00:44:46.900Z"
   },
   {
    "duration": 45,
    "start_time": "2022-07-18T00:44:48.315Z"
   },
   {
    "duration": 10,
    "start_time": "2022-07-18T00:44:48.362Z"
   },
   {
    "duration": 15,
    "start_time": "2022-07-18T00:44:48.373Z"
   },
   {
    "duration": 5,
    "start_time": "2022-07-18T00:44:48.389Z"
   },
   {
    "duration": 11,
    "start_time": "2022-07-18T00:44:48.395Z"
   },
   {
    "duration": 2,
    "start_time": "2022-07-18T00:44:48.408Z"
   },
   {
    "duration": 10,
    "start_time": "2022-07-18T00:44:48.411Z"
   },
   {
    "duration": 493,
    "start_time": "2022-07-18T00:44:48.423Z"
   },
   {
    "duration": 14,
    "start_time": "2022-07-18T00:44:48.917Z"
   },
   {
    "duration": 362,
    "start_time": "2022-07-18T00:44:48.933Z"
   },
   {
    "duration": 183,
    "start_time": "2022-07-18T00:44:49.296Z"
   },
   {
    "duration": 287,
    "start_time": "2022-07-18T00:44:49.480Z"
   },
   {
    "duration": 13,
    "start_time": "2022-07-18T00:44:49.768Z"
   },
   {
    "duration": 3,
    "start_time": "2022-07-18T00:44:49.783Z"
   },
   {
    "duration": 127,
    "start_time": "2022-07-18T00:44:49.787Z"
   },
   {
    "duration": 1,
    "start_time": "2022-07-18T00:44:49.915Z"
   },
   {
    "duration": 0,
    "start_time": "2022-07-18T00:44:49.916Z"
   },
   {
    "duration": 0,
    "start_time": "2022-07-18T00:44:49.917Z"
   },
   {
    "duration": 0,
    "start_time": "2022-07-18T00:44:49.918Z"
   },
   {
    "duration": 0,
    "start_time": "2022-07-18T00:44:49.919Z"
   },
   {
    "duration": 1924,
    "start_time": "2022-07-18T00:44:53.130Z"
   },
   {
    "duration": 27,
    "start_time": "2022-07-18T00:45:36.313Z"
   },
   {
    "duration": 11,
    "start_time": "2022-07-18T00:49:11.023Z"
   },
   {
    "duration": 1888,
    "start_time": "2022-07-18T00:50:36.337Z"
   },
   {
    "duration": 1303,
    "start_time": "2022-07-18T00:50:38.227Z"
   },
   {
    "duration": 45,
    "start_time": "2022-07-18T00:50:39.531Z"
   },
   {
    "duration": 10,
    "start_time": "2022-07-18T00:50:39.578Z"
   },
   {
    "duration": 14,
    "start_time": "2022-07-18T00:50:39.589Z"
   },
   {
    "duration": 6,
    "start_time": "2022-07-18T00:50:39.604Z"
   },
   {
    "duration": 10,
    "start_time": "2022-07-18T00:50:39.611Z"
   },
   {
    "duration": 2,
    "start_time": "2022-07-18T00:50:39.622Z"
   },
   {
    "duration": 9,
    "start_time": "2022-07-18T00:50:39.626Z"
   },
   {
    "duration": 492,
    "start_time": "2022-07-18T00:50:39.636Z"
   },
   {
    "duration": 14,
    "start_time": "2022-07-18T00:50:40.130Z"
   },
   {
    "duration": 372,
    "start_time": "2022-07-18T00:50:40.146Z"
   },
   {
    "duration": 175,
    "start_time": "2022-07-18T00:50:40.520Z"
   },
   {
    "duration": 289,
    "start_time": "2022-07-18T00:50:40.697Z"
   },
   {
    "duration": 20,
    "start_time": "2022-07-18T00:50:40.988Z"
   },
   {
    "duration": 2,
    "start_time": "2022-07-18T00:50:41.009Z"
   },
   {
    "duration": 10,
    "start_time": "2022-07-18T00:50:41.012Z"
   },
   {
    "duration": 83,
    "start_time": "2022-07-18T00:50:41.023Z"
   },
   {
    "duration": 7689,
    "start_time": "2022-07-18T00:50:41.108Z"
   },
   {
    "duration": 1472,
    "start_time": "2022-07-18T00:50:48.798Z"
   },
   {
    "duration": 1048,
    "start_time": "2022-07-18T00:50:50.272Z"
   },
   {
    "duration": 12,
    "start_time": "2022-07-18T00:50:51.321Z"
   },
   {
    "duration": 104,
    "start_time": "2022-07-18T00:53:08.366Z"
   },
   {
    "duration": 9,
    "start_time": "2022-07-18T00:53:24.786Z"
   },
   {
    "duration": 12,
    "start_time": "2022-07-18T01:03:06.921Z"
   },
   {
    "duration": 7156,
    "start_time": "2022-07-18T01:04:10.598Z"
   },
   {
    "duration": 10,
    "start_time": "2022-07-18T01:13:23.798Z"
   },
   {
    "duration": 10,
    "start_time": "2022-07-18T01:13:33.529Z"
   },
   {
    "duration": 23680,
    "start_time": "2022-07-18T01:13:42.386Z"
   },
   {
    "duration": 3,
    "start_time": "2022-07-18T01:14:34.666Z"
   },
   {
    "duration": 3,
    "start_time": "2022-07-18T01:14:42.214Z"
   },
   {
    "duration": 8,
    "start_time": "2022-07-18T01:14:44.898Z"
   },
   {
    "duration": 9,
    "start_time": "2022-07-18T01:14:48.163Z"
   },
   {
    "duration": 3,
    "start_time": "2022-07-18T01:18:42.652Z"
   },
   {
    "duration": 23890,
    "start_time": "2022-07-18T01:21:46.913Z"
   },
   {
    "duration": 180430,
    "start_time": "2022-07-18T01:24:44.813Z"
   },
   {
    "duration": 3,
    "start_time": "2022-07-18T03:39:44.993Z"
   },
   {
    "duration": 180599,
    "start_time": "2022-07-18T03:43:57.998Z"
   },
   {
    "duration": 13,
    "start_time": "2022-07-18T04:00:15.131Z"
   },
   {
    "duration": 70,
    "start_time": "2022-07-18T04:00:30.804Z"
   },
   {
    "duration": 78,
    "start_time": "2022-07-18T04:00:37.547Z"
   },
   {
    "duration": 42,
    "start_time": "2022-07-18T04:01:12.835Z"
   },
   {
    "duration": 46,
    "start_time": "2022-07-18T04:02:17.574Z"
   },
   {
    "duration": 41,
    "start_time": "2022-07-19T13:04:51.531Z"
   },
   {
    "duration": 2980,
    "start_time": "2022-07-19T13:04:57.654Z"
   },
   {
    "duration": 1623,
    "start_time": "2022-07-19T13:05:00.636Z"
   },
   {
    "duration": 130,
    "start_time": "2022-07-19T13:05:02.261Z"
   },
   {
    "duration": 10,
    "start_time": "2022-07-19T13:05:02.392Z"
   },
   {
    "duration": 16,
    "start_time": "2022-07-19T13:05:02.404Z"
   },
   {
    "duration": 5,
    "start_time": "2022-07-19T13:05:02.422Z"
   },
   {
    "duration": 11,
    "start_time": "2022-07-19T13:05:02.428Z"
   },
   {
    "duration": 3,
    "start_time": "2022-07-19T13:05:02.441Z"
   },
   {
    "duration": 11,
    "start_time": "2022-07-19T13:05:02.445Z"
   },
   {
    "duration": 483,
    "start_time": "2022-07-19T13:05:02.457Z"
   },
   {
    "duration": 12,
    "start_time": "2022-07-19T13:05:02.942Z"
   },
   {
    "duration": 351,
    "start_time": "2022-07-19T13:05:02.955Z"
   },
   {
    "duration": 185,
    "start_time": "2022-07-19T13:05:03.307Z"
   },
   {
    "duration": 287,
    "start_time": "2022-07-19T13:05:03.494Z"
   },
   {
    "duration": 20,
    "start_time": "2022-07-19T13:05:03.783Z"
   },
   {
    "duration": 20,
    "start_time": "2022-07-19T13:05:03.804Z"
   },
   {
    "duration": 23,
    "start_time": "2022-07-19T13:05:03.826Z"
   },
   {
    "duration": 151,
    "start_time": "2022-07-19T13:05:03.851Z"
   },
   {
    "duration": 67002,
    "start_time": "2022-07-19T13:05:04.004Z"
   },
   {
    "duration": 6,
    "start_time": "2022-07-19T13:06:11.007Z"
   },
   {
    "duration": 185477,
    "start_time": "2022-07-19T13:06:11.014Z"
   },
   {
    "duration": 110,
    "start_time": "2022-07-19T13:09:16.493Z"
   },
   {
    "duration": 0,
    "start_time": "2022-07-19T13:09:16.604Z"
   },
   {
    "duration": 0,
    "start_time": "2022-07-19T13:09:16.605Z"
   },
   {
    "duration": 77,
    "start_time": "2022-07-19T13:09:30.264Z"
   },
   {
    "duration": 26,
    "start_time": "2022-07-19T13:09:32.223Z"
   },
   {
    "duration": 0,
    "start_time": "2022-07-19T13:09:32.250Z"
   },
   {
    "duration": 8,
    "start_time": "2022-07-19T13:10:17.944Z"
   },
   {
    "duration": 16,
    "start_time": "2022-07-19T13:12:33.112Z"
   },
   {
    "duration": 8,
    "start_time": "2022-07-19T13:13:24.154Z"
   },
   {
    "duration": 7,
    "start_time": "2022-07-19T13:13:43.403Z"
   },
   {
    "duration": 15,
    "start_time": "2022-07-19T13:13:51.536Z"
   },
   {
    "duration": 15,
    "start_time": "2022-07-19T13:14:03.357Z"
   },
   {
    "duration": 8,
    "start_time": "2022-07-19T13:15:19.009Z"
   },
   {
    "duration": 12,
    "start_time": "2022-07-19T13:15:27.432Z"
   },
   {
    "duration": 11,
    "start_time": "2022-07-19T13:15:47.114Z"
   },
   {
    "duration": 10,
    "start_time": "2022-07-19T13:15:57.404Z"
   },
   {
    "duration": 11,
    "start_time": "2022-07-19T13:17:46.108Z"
   },
   {
    "duration": 11,
    "start_time": "2022-07-19T13:20:28.579Z"
   },
   {
    "duration": 15,
    "start_time": "2022-07-19T13:20:47.770Z"
   },
   {
    "duration": 240,
    "start_time": "2022-07-19T13:21:05.954Z"
   },
   {
    "duration": 9,
    "start_time": "2022-07-19T13:21:28.212Z"
   },
   {
    "duration": 9,
    "start_time": "2022-07-19T13:21:42.049Z"
   },
   {
    "duration": 8,
    "start_time": "2022-07-19T13:21:46.792Z"
   },
   {
    "duration": 10,
    "start_time": "2022-07-19T13:21:54.899Z"
   },
   {
    "duration": 177,
    "start_time": "2022-07-19T13:22:05.528Z"
   },
   {
    "duration": 474,
    "start_time": "2022-07-19T13:22:51.216Z"
   },
   {
    "duration": 9,
    "start_time": "2022-07-19T13:23:00.433Z"
   },
   {
    "duration": 377,
    "start_time": "2022-07-19T13:24:31.635Z"
   },
   {
    "duration": 187,
    "start_time": "2022-07-19T13:24:54.268Z"
   },
   {
    "duration": 17,
    "start_time": "2022-07-19T13:25:36.792Z"
   },
   {
    "duration": 16,
    "start_time": "2022-07-19T13:28:34.043Z"
   },
   {
    "duration": 63,
    "start_time": "2022-07-20T00:52:43.460Z"
   },
   {
    "duration": 3089,
    "start_time": "2022-07-20T00:52:48.658Z"
   },
   {
    "duration": 1587,
    "start_time": "2022-07-20T00:52:51.749Z"
   },
   {
    "duration": 127,
    "start_time": "2022-07-20T00:52:53.338Z"
   },
   {
    "duration": 12,
    "start_time": "2022-07-20T00:52:53.466Z"
   },
   {
    "duration": 22,
    "start_time": "2022-07-20T00:52:53.480Z"
   },
   {
    "duration": 7,
    "start_time": "2022-07-20T00:52:53.503Z"
   },
   {
    "duration": 31,
    "start_time": "2022-07-20T00:52:53.514Z"
   },
   {
    "duration": 3,
    "start_time": "2022-07-20T00:52:53.547Z"
   },
   {
    "duration": 14,
    "start_time": "2022-07-20T00:52:53.552Z"
   },
   {
    "duration": 549,
    "start_time": "2022-07-20T00:52:53.567Z"
   },
   {
    "duration": 16,
    "start_time": "2022-07-20T00:52:54.124Z"
   },
   {
    "duration": 419,
    "start_time": "2022-07-20T00:52:54.142Z"
   },
   {
    "duration": 210,
    "start_time": "2022-07-20T00:52:54.564Z"
   },
   {
    "duration": 349,
    "start_time": "2022-07-20T00:52:54.778Z"
   },
   {
    "duration": 15,
    "start_time": "2022-07-20T00:52:55.128Z"
   },
   {
    "duration": 10,
    "start_time": "2022-07-20T00:52:55.145Z"
   },
   {
    "duration": 9,
    "start_time": "2022-07-20T00:52:55.157Z"
   },
   {
    "duration": 152,
    "start_time": "2022-07-20T00:52:55.168Z"
   },
   {
    "duration": 70831,
    "start_time": "2022-07-20T00:52:55.322Z"
   },
   {
    "duration": 8,
    "start_time": "2022-07-20T00:54:06.155Z"
   },
   {
    "duration": 4,
    "start_time": "2022-07-20T00:54:06.165Z"
   },
   {
    "duration": 219613,
    "start_time": "2022-07-20T00:54:06.171Z"
   },
   {
    "duration": 94,
    "start_time": "2022-07-20T00:57:45.786Z"
   },
   {
    "duration": 144,
    "start_time": "2022-07-20T00:57:45.881Z"
   },
   {
    "duration": 0,
    "start_time": "2022-07-20T00:57:46.027Z"
   },
   {
    "duration": 4,
    "start_time": "2022-07-20T01:24:48.935Z"
   },
   {
    "duration": 10,
    "start_time": "2022-07-20T01:25:17.924Z"
   },
   {
    "duration": 9,
    "start_time": "2022-07-20T01:25:23.325Z"
   },
   {
    "duration": 12,
    "start_time": "2022-07-20T01:26:24.786Z"
   },
   {
    "duration": 8,
    "start_time": "2022-07-20T01:26:40.337Z"
   },
   {
    "duration": 2363,
    "start_time": "2022-07-20T01:26:56.679Z"
   },
   {
    "duration": 1434,
    "start_time": "2022-07-20T01:26:59.044Z"
   },
   {
    "duration": 53,
    "start_time": "2022-07-20T01:27:00.480Z"
   },
   {
    "duration": 11,
    "start_time": "2022-07-20T01:27:00.534Z"
   },
   {
    "duration": 21,
    "start_time": "2022-07-20T01:27:00.547Z"
   },
   {
    "duration": 6,
    "start_time": "2022-07-20T01:27:00.571Z"
   },
   {
    "duration": 40,
    "start_time": "2022-07-20T01:27:00.579Z"
   },
   {
    "duration": 3,
    "start_time": "2022-07-20T01:27:00.623Z"
   },
   {
    "duration": 23,
    "start_time": "2022-07-20T01:27:00.628Z"
   },
   {
    "duration": 570,
    "start_time": "2022-07-20T01:27:00.653Z"
   },
   {
    "duration": 14,
    "start_time": "2022-07-20T01:27:01.225Z"
   },
   {
    "duration": 516,
    "start_time": "2022-07-20T01:27:01.242Z"
   },
   {
    "duration": 209,
    "start_time": "2022-07-20T01:27:01.759Z"
   },
   {
    "duration": 351,
    "start_time": "2022-07-20T01:27:01.971Z"
   },
   {
    "duration": 17,
    "start_time": "2022-07-20T01:27:02.324Z"
   },
   {
    "duration": 11,
    "start_time": "2022-07-20T01:27:02.342Z"
   },
   {
    "duration": 10,
    "start_time": "2022-07-20T01:27:02.355Z"
   },
   {
    "duration": 10,
    "start_time": "2022-07-20T01:27:02.366Z"
   },
   {
    "duration": 68850,
    "start_time": "2022-07-20T01:27:02.411Z"
   },
   {
    "duration": 8,
    "start_time": "2022-07-20T01:28:11.263Z"
   },
   {
    "duration": 6,
    "start_time": "2022-07-20T01:28:11.272Z"
   },
   {
    "duration": 217493,
    "start_time": "2022-07-20T01:28:11.279Z"
   },
   {
    "duration": 98,
    "start_time": "2022-07-20T01:31:48.773Z"
   },
   {
    "duration": 7,
    "start_time": "2022-07-20T01:31:48.873Z"
   },
   {
    "duration": 149,
    "start_time": "2022-07-20T01:31:48.882Z"
   },
   {
    "duration": 0,
    "start_time": "2022-07-20T01:31:49.033Z"
   },
   {
    "duration": 20,
    "start_time": "2022-07-20T03:17:27.113Z"
   },
   {
    "duration": 176,
    "start_time": "2022-07-20T03:17:33.591Z"
   },
   {
    "duration": 10,
    "start_time": "2022-07-20T03:17:47.283Z"
   },
   {
    "duration": 12,
    "start_time": "2022-07-20T03:18:39.387Z"
   },
   {
    "duration": 1698,
    "start_time": "2022-07-20T03:18:45.123Z"
   },
   {
    "duration": 6,
    "start_time": "2022-07-20T03:18:52.722Z"
   },
   {
    "duration": 1589,
    "start_time": "2022-07-20T03:19:38.565Z"
   },
   {
    "duration": 9,
    "start_time": "2022-07-20T04:33:04.148Z"
   },
   {
    "duration": 10,
    "start_time": "2022-07-20T04:34:33.482Z"
   },
   {
    "duration": 1794,
    "start_time": "2022-07-20T04:36:00.957Z"
   },
   {
    "duration": 20,
    "start_time": "2022-07-20T04:37:40.948Z"
   },
   {
    "duration": 257,
    "start_time": "2022-07-20T04:37:55.624Z"
   },
   {
    "duration": 6,
    "start_time": "2022-07-20T04:38:50.976Z"
   },
   {
    "duration": 5,
    "start_time": "2022-07-20T04:39:02.671Z"
   },
   {
    "duration": 19,
    "start_time": "2022-07-20T04:41:11.458Z"
   },
   {
    "duration": 15,
    "start_time": "2022-07-20T04:41:40.969Z"
   },
   {
    "duration": 299,
    "start_time": "2022-07-20T04:42:42.089Z"
   },
   {
    "duration": 453,
    "start_time": "2022-07-20T04:43:16.707Z"
   },
   {
    "duration": 12,
    "start_time": "2022-07-20T04:44:06.898Z"
   },
   {
    "duration": 11,
    "start_time": "2022-07-20T04:45:24.634Z"
   },
   {
    "duration": 416,
    "start_time": "2022-07-20T04:45:30.639Z"
   },
   {
    "duration": 371,
    "start_time": "2022-07-20T04:45:44.659Z"
   },
   {
    "duration": 375,
    "start_time": "2022-07-20T04:46:30.189Z"
   },
   {
    "duration": 11,
    "start_time": "2022-07-20T04:49:35.507Z"
   },
   {
    "duration": 385,
    "start_time": "2022-07-20T04:52:22.509Z"
   },
   {
    "duration": 430,
    "start_time": "2022-07-20T04:52:59.227Z"
   },
   {
    "duration": 403,
    "start_time": "2022-07-20T04:54:32.004Z"
   },
   {
    "duration": 311,
    "start_time": "2022-07-20T04:54:49.995Z"
   },
   {
    "duration": 430,
    "start_time": "2022-07-20T04:54:59.140Z"
   },
   {
    "duration": 86,
    "start_time": "2022-07-20T05:00:12.482Z"
   },
   {
    "duration": 427,
    "start_time": "2022-07-20T05:00:42.301Z"
   },
   {
    "duration": 367,
    "start_time": "2022-07-20T05:00:59.169Z"
   },
   {
    "duration": 429,
    "start_time": "2022-07-20T05:01:14.546Z"
   },
   {
    "duration": 511,
    "start_time": "2022-07-20T05:02:16.286Z"
   },
   {
    "duration": 476,
    "start_time": "2022-07-20T05:02:28.709Z"
   },
   {
    "duration": 477,
    "start_time": "2022-07-20T05:02:37.698Z"
   },
   {
    "duration": 586,
    "start_time": "2022-07-20T05:02:51.764Z"
   },
   {
    "duration": 4,
    "start_time": "2022-07-20T05:03:56.399Z"
   },
   {
    "duration": 90259,
    "start_time": "2022-07-20T05:03:56.728Z"
   },
   {
    "duration": 0,
    "start_time": "2022-07-20T05:05:26.989Z"
   },
   {
    "duration": 5,
    "start_time": "2022-07-20T05:05:37.844Z"
   },
   {
    "duration": 409295,
    "start_time": "2022-07-20T05:05:38.793Z"
   },
   {
    "duration": 4,
    "start_time": "2022-07-20T05:12:31.363Z"
   },
   {
    "duration": 1365728,
    "start_time": "2022-07-20T05:12:31.553Z"
   },
   {
    "duration": 0,
    "start_time": "2022-07-20T05:35:17.283Z"
   },
   {
    "duration": 25210,
    "start_time": "2022-07-20T05:35:19.927Z"
   },
   {
    "duration": 0,
    "start_time": "2022-07-20T05:35:45.139Z"
   },
   {
    "duration": 19,
    "start_time": "2022-07-20T05:35:53.861Z"
   },
   {
    "duration": 11,
    "start_time": "2022-07-20T05:36:04.185Z"
   },
   {
    "duration": 1335366,
    "start_time": "2022-07-20T05:36:08.470Z"
   },
   {
    "duration": 0,
    "start_time": "2022-07-20T05:58:23.839Z"
   },
   {
    "duration": 688205,
    "start_time": "2022-07-20T05:58:26.397Z"
   },
   {
    "duration": 104,
    "start_time": "2022-07-20T06:09:54.604Z"
   },
   {
    "duration": 13,
    "start_time": "2022-07-20T06:13:36.179Z"
   },
   {
    "duration": 2743,
    "start_time": "2022-07-20T06:14:34.840Z"
   },
   {
    "duration": 1556,
    "start_time": "2022-07-20T06:14:37.585Z"
   },
   {
    "duration": 51,
    "start_time": "2022-07-20T06:14:39.149Z"
   },
   {
    "duration": 19,
    "start_time": "2022-07-20T06:14:39.201Z"
   },
   {
    "duration": 33,
    "start_time": "2022-07-20T06:14:39.231Z"
   },
   {
    "duration": 7,
    "start_time": "2022-07-20T06:14:39.266Z"
   },
   {
    "duration": 15,
    "start_time": "2022-07-20T06:14:39.274Z"
   },
   {
    "duration": 3,
    "start_time": "2022-07-20T06:14:39.291Z"
   },
   {
    "duration": 23,
    "start_time": "2022-07-20T06:14:39.295Z"
   },
   {
    "duration": 586,
    "start_time": "2022-07-20T06:14:39.320Z"
   },
   {
    "duration": 17,
    "start_time": "2022-07-20T06:14:39.909Z"
   },
   {
    "duration": 460,
    "start_time": "2022-07-20T06:14:39.928Z"
   },
   {
    "duration": 244,
    "start_time": "2022-07-20T06:14:40.391Z"
   },
   {
    "duration": 357,
    "start_time": "2022-07-20T06:14:40.641Z"
   },
   {
    "duration": 25,
    "start_time": "2022-07-20T06:14:41.000Z"
   },
   {
    "duration": 37,
    "start_time": "2022-07-20T06:14:41.027Z"
   },
   {
    "duration": 23,
    "start_time": "2022-07-20T06:14:41.066Z"
   },
   {
    "duration": 18,
    "start_time": "2022-07-20T06:14:41.091Z"
   },
   {
    "duration": 2762,
    "start_time": "2022-07-20T06:22:31.599Z"
   },
   {
    "duration": 1622,
    "start_time": "2022-07-20T06:22:34.364Z"
   },
   {
    "duration": 82,
    "start_time": "2022-07-20T06:22:35.988Z"
   },
   {
    "duration": 11,
    "start_time": "2022-07-20T06:22:36.072Z"
   },
   {
    "duration": 18,
    "start_time": "2022-07-20T06:22:36.086Z"
   },
   {
    "duration": 56,
    "start_time": "2022-07-20T06:22:36.106Z"
   },
   {
    "duration": 16,
    "start_time": "2022-07-20T06:22:36.163Z"
   },
   {
    "duration": 3,
    "start_time": "2022-07-20T06:22:36.181Z"
   },
   {
    "duration": 15,
    "start_time": "2022-07-20T06:22:36.187Z"
   },
   {
    "duration": 607,
    "start_time": "2022-07-20T06:22:36.204Z"
   },
   {
    "duration": 31,
    "start_time": "2022-07-20T06:22:36.819Z"
   },
   {
    "duration": 519,
    "start_time": "2022-07-20T06:22:36.852Z"
   },
   {
    "duration": 277,
    "start_time": "2022-07-20T06:22:37.373Z"
   },
   {
    "duration": 413,
    "start_time": "2022-07-20T06:22:37.654Z"
   },
   {
    "duration": 15,
    "start_time": "2022-07-20T06:22:38.069Z"
   },
   {
    "duration": 45,
    "start_time": "2022-07-20T06:22:38.085Z"
   },
   {
    "duration": 40,
    "start_time": "2022-07-20T06:22:38.134Z"
   },
   {
    "duration": 20,
    "start_time": "2022-07-20T06:22:38.176Z"
   },
   {
    "duration": 3173,
    "start_time": "2022-07-20T07:26:50.997Z"
   },
   {
    "duration": 1591,
    "start_time": "2022-07-20T07:26:54.172Z"
   },
   {
    "duration": 73,
    "start_time": "2022-07-20T07:26:55.765Z"
   },
   {
    "duration": 16,
    "start_time": "2022-07-20T07:26:55.840Z"
   },
   {
    "duration": 25,
    "start_time": "2022-07-20T07:26:55.859Z"
   },
   {
    "duration": 8,
    "start_time": "2022-07-20T07:26:55.886Z"
   },
   {
    "duration": 34,
    "start_time": "2022-07-20T07:26:55.896Z"
   },
   {
    "duration": 8,
    "start_time": "2022-07-20T07:26:55.932Z"
   },
   {
    "duration": 31,
    "start_time": "2022-07-20T07:26:55.942Z"
   },
   {
    "duration": 664,
    "start_time": "2022-07-20T07:26:55.975Z"
   },
   {
    "duration": 21,
    "start_time": "2022-07-20T07:26:56.645Z"
   },
   {
    "duration": 511,
    "start_time": "2022-07-20T07:26:56.667Z"
   },
   {
    "duration": 258,
    "start_time": "2022-07-20T07:26:57.180Z"
   },
   {
    "duration": 402,
    "start_time": "2022-07-20T07:26:57.451Z"
   },
   {
    "duration": 16,
    "start_time": "2022-07-20T07:26:57.857Z"
   },
   {
    "duration": 15,
    "start_time": "2022-07-20T07:26:57.875Z"
   },
   {
    "duration": 35,
    "start_time": "2022-07-20T07:26:57.892Z"
   },
   {
    "duration": 18,
    "start_time": "2022-07-20T07:26:57.929Z"
   },
   {
    "duration": 129,
    "start_time": "2022-07-20T08:25:48.239Z"
   },
   {
    "duration": 2926,
    "start_time": "2022-07-20T08:25:59.046Z"
   },
   {
    "duration": 1451,
    "start_time": "2022-07-20T08:26:01.974Z"
   },
   {
    "duration": 51,
    "start_time": "2022-07-20T08:26:03.427Z"
   },
   {
    "duration": 13,
    "start_time": "2022-07-20T08:26:03.480Z"
   },
   {
    "duration": 32,
    "start_time": "2022-07-20T08:26:03.496Z"
   },
   {
    "duration": 16,
    "start_time": "2022-07-20T08:26:03.530Z"
   },
   {
    "duration": 22,
    "start_time": "2022-07-20T08:26:03.548Z"
   },
   {
    "duration": 9,
    "start_time": "2022-07-20T08:26:03.572Z"
   },
   {
    "duration": 24,
    "start_time": "2022-07-20T08:26:03.583Z"
   },
   {
    "duration": 591,
    "start_time": "2022-07-20T08:26:03.608Z"
   },
   {
    "duration": 29,
    "start_time": "2022-07-20T08:26:04.201Z"
   },
   {
    "duration": 447,
    "start_time": "2022-07-20T08:26:04.232Z"
   },
   {
    "duration": 224,
    "start_time": "2022-07-20T08:26:04.682Z"
   },
   {
    "duration": 380,
    "start_time": "2022-07-20T08:26:04.911Z"
   },
   {
    "duration": 31,
    "start_time": "2022-07-20T08:26:05.293Z"
   },
   {
    "duration": 18,
    "start_time": "2022-07-20T08:26:05.325Z"
   },
   {
    "duration": 33,
    "start_time": "2022-07-20T08:26:05.344Z"
   },
   {
    "duration": 34,
    "start_time": "2022-07-20T08:26:05.379Z"
   },
   {
    "duration": 0,
    "start_time": "2022-07-20T09:55:37.096Z"
   },
   {
    "duration": 64,
    "start_time": "2022-07-20T09:55:40.273Z"
   },
   {
    "duration": 23841,
    "start_time": "2022-07-20T09:55:56.432Z"
   },
   {
    "duration": 46022,
    "start_time": "2022-07-20T09:56:22.279Z"
   },
   {
    "duration": 2826,
    "start_time": "2022-07-20T13:18:10.048Z"
   },
   {
    "duration": 4,
    "start_time": "2022-07-20T13:18:12.877Z"
   },
   {
    "duration": 66,
    "start_time": "2022-07-20T13:18:12.883Z"
   },
   {
    "duration": 12,
    "start_time": "2022-07-20T13:18:12.951Z"
   },
   {
    "duration": 15,
    "start_time": "2022-07-20T13:18:12.965Z"
   },
   {
    "duration": 7,
    "start_time": "2022-07-20T13:18:12.982Z"
   },
   {
    "duration": 36,
    "start_time": "2022-07-20T13:18:12.991Z"
   },
   {
    "duration": 3,
    "start_time": "2022-07-20T13:18:13.029Z"
   },
   {
    "duration": 14,
    "start_time": "2022-07-20T13:18:13.034Z"
   },
   {
    "duration": 485,
    "start_time": "2022-07-20T13:18:13.050Z"
   },
   {
    "duration": 14,
    "start_time": "2022-07-20T13:18:13.536Z"
   },
   {
    "duration": 378,
    "start_time": "2022-07-20T13:18:13.552Z"
   },
   {
    "duration": 242,
    "start_time": "2022-07-20T13:18:13.933Z"
   },
   {
    "duration": 353,
    "start_time": "2022-07-20T13:18:14.177Z"
   },
   {
    "duration": 18,
    "start_time": "2022-07-20T13:18:14.532Z"
   },
   {
    "duration": 12,
    "start_time": "2022-07-20T13:18:14.551Z"
   },
   {
    "duration": 49,
    "start_time": "2022-07-20T13:18:14.565Z"
   },
   {
    "duration": 19,
    "start_time": "2022-07-20T13:18:14.620Z"
   },
   {
    "duration": 5087631,
    "start_time": "2022-07-20T13:18:14.641Z"
   },
   {
    "duration": 11,
    "start_time": "2022-07-20T14:43:02.274Z"
   },
   {
    "duration": 12573,
    "start_time": "2022-07-20T14:43:02.287Z"
   },
   {
    "duration": 133,
    "start_time": "2022-07-20T14:43:14.861Z"
   },
   {
    "duration": 16,
    "start_time": "2022-07-20T14:43:14.995Z"
   },
   {
    "duration": 388,
    "start_time": "2022-07-20T14:43:15.013Z"
   },
   {
    "duration": 46,
    "start_time": "2022-07-23T08:58:13.976Z"
   },
   {
    "duration": 7,
    "start_time": "2022-07-23T08:58:18.178Z"
   },
   {
    "duration": 1456,
    "start_time": "2022-07-23T08:58:35.952Z"
   },
   {
    "duration": 73,
    "start_time": "2022-07-23T08:58:43.152Z"
   },
   {
    "duration": 59,
    "start_time": "2022-07-23T09:00:12.266Z"
   },
   {
    "duration": 2651,
    "start_time": "2022-07-23T09:04:17.795Z"
   },
   {
    "duration": 1359,
    "start_time": "2022-07-23T09:04:20.448Z"
   },
   {
    "duration": 115,
    "start_time": "2022-07-23T09:04:21.809Z"
   },
   {
    "duration": 11,
    "start_time": "2022-07-23T09:04:21.925Z"
   },
   {
    "duration": 16,
    "start_time": "2022-07-23T09:04:21.938Z"
   },
   {
    "duration": 5,
    "start_time": "2022-07-23T09:04:21.956Z"
   },
   {
    "duration": 10,
    "start_time": "2022-07-23T09:04:21.963Z"
   },
   {
    "duration": 2,
    "start_time": "2022-07-23T09:04:21.975Z"
   },
   {
    "duration": 11,
    "start_time": "2022-07-23T09:04:21.978Z"
   },
   {
    "duration": 534,
    "start_time": "2022-07-23T09:04:21.990Z"
   },
   {
    "duration": 18,
    "start_time": "2022-07-23T09:04:22.525Z"
   },
   {
    "duration": 418,
    "start_time": "2022-07-23T09:04:22.545Z"
   },
   {
    "duration": 205,
    "start_time": "2022-07-23T09:04:22.964Z"
   },
   {
    "duration": 326,
    "start_time": "2022-07-23T09:04:23.171Z"
   },
   {
    "duration": 26,
    "start_time": "2022-07-23T09:04:23.499Z"
   },
   {
    "duration": 7,
    "start_time": "2022-07-23T09:04:23.527Z"
   },
   {
    "duration": 243,
    "start_time": "2022-07-23T09:04:23.536Z"
   },
   {
    "duration": 7,
    "start_time": "2022-07-23T09:04:23.780Z"
   },
   {
    "duration": 2921,
    "start_time": "2022-07-24T07:34:33.033Z"
   },
   {
    "duration": 1599,
    "start_time": "2022-07-24T07:34:35.957Z"
   },
   {
    "duration": 114,
    "start_time": "2022-07-24T07:34:37.557Z"
   },
   {
    "duration": 13,
    "start_time": "2022-07-24T07:34:37.673Z"
   },
   {
    "duration": 16,
    "start_time": "2022-07-24T07:34:37.687Z"
   },
   {
    "duration": 7,
    "start_time": "2022-07-24T07:34:37.705Z"
   },
   {
    "duration": 14,
    "start_time": "2022-07-24T07:34:37.713Z"
   },
   {
    "duration": 3,
    "start_time": "2022-07-24T07:34:37.729Z"
   },
   {
    "duration": 18,
    "start_time": "2022-07-24T07:34:37.733Z"
   },
   {
    "duration": 608,
    "start_time": "2022-07-24T07:34:37.754Z"
   },
   {
    "duration": 15,
    "start_time": "2022-07-24T07:34:38.363Z"
   },
   {
    "duration": 418,
    "start_time": "2022-07-24T07:34:38.380Z"
   },
   {
    "duration": 240,
    "start_time": "2022-07-24T07:34:38.800Z"
   },
   {
    "duration": 327,
    "start_time": "2022-07-24T07:34:39.042Z"
   },
   {
    "duration": 14,
    "start_time": "2022-07-24T07:34:39.371Z"
   },
   {
    "duration": 6,
    "start_time": "2022-07-24T07:34:39.387Z"
   },
   {
    "duration": 370,
    "start_time": "2022-07-24T07:34:39.395Z"
   },
   {
    "duration": 6,
    "start_time": "2022-07-24T07:34:39.767Z"
   },
   {
    "duration": 2474,
    "start_time": "2022-07-24T07:35:22.387Z"
   },
   {
    "duration": 1394,
    "start_time": "2022-07-24T07:35:24.863Z"
   },
   {
    "duration": 51,
    "start_time": "2022-07-24T07:35:26.258Z"
   },
   {
    "duration": 12,
    "start_time": "2022-07-24T07:35:26.310Z"
   },
   {
    "duration": 20,
    "start_time": "2022-07-24T07:35:26.325Z"
   },
   {
    "duration": 7,
    "start_time": "2022-07-24T07:35:26.347Z"
   },
   {
    "duration": 23,
    "start_time": "2022-07-24T07:35:26.356Z"
   },
   {
    "duration": 21,
    "start_time": "2022-07-24T07:35:26.380Z"
   },
   {
    "duration": 13,
    "start_time": "2022-07-24T07:35:26.403Z"
   },
   {
    "duration": 589,
    "start_time": "2022-07-24T07:35:26.417Z"
   },
   {
    "duration": 16,
    "start_time": "2022-07-24T07:35:27.008Z"
   },
   {
    "duration": 480,
    "start_time": "2022-07-24T07:35:27.026Z"
   },
   {
    "duration": 228,
    "start_time": "2022-07-24T07:35:27.507Z"
   },
   {
    "duration": 373,
    "start_time": "2022-07-24T07:35:27.738Z"
   },
   {
    "duration": 22,
    "start_time": "2022-07-24T07:35:28.113Z"
   },
   {
    "duration": 8,
    "start_time": "2022-07-24T07:35:28.137Z"
   },
   {
    "duration": 252,
    "start_time": "2022-07-24T07:35:28.147Z"
   },
   {
    "duration": 7,
    "start_time": "2022-07-24T07:35:28.401Z"
   },
   {
    "duration": 2429,
    "start_time": "2022-07-24T07:35:59.424Z"
   },
   {
    "duration": 1424,
    "start_time": "2022-07-24T07:36:01.855Z"
   },
   {
    "duration": 48,
    "start_time": "2022-07-24T07:36:03.281Z"
   },
   {
    "duration": 11,
    "start_time": "2022-07-24T07:36:03.330Z"
   },
   {
    "duration": 15,
    "start_time": "2022-07-24T07:36:03.343Z"
   },
   {
    "duration": 6,
    "start_time": "2022-07-24T07:36:03.360Z"
   },
   {
    "duration": 29,
    "start_time": "2022-07-24T07:36:03.368Z"
   },
   {
    "duration": 21,
    "start_time": "2022-07-24T07:36:03.399Z"
   },
   {
    "duration": 31,
    "start_time": "2022-07-24T07:36:03.422Z"
   },
   {
    "duration": 571,
    "start_time": "2022-07-24T07:36:03.455Z"
   },
   {
    "duration": 15,
    "start_time": "2022-07-24T07:36:04.028Z"
   },
   {
    "duration": 451,
    "start_time": "2022-07-24T07:36:04.045Z"
   },
   {
    "duration": 257,
    "start_time": "2022-07-24T07:36:04.498Z"
   },
   {
    "duration": 339,
    "start_time": "2022-07-24T07:36:04.758Z"
   },
   {
    "duration": 25,
    "start_time": "2022-07-24T07:36:05.099Z"
   },
   {
    "duration": 13,
    "start_time": "2022-07-24T07:36:05.126Z"
   },
   {
    "duration": 179,
    "start_time": "2022-07-24T07:36:05.141Z"
   },
   {
    "duration": 11,
    "start_time": "2022-07-24T07:36:05.322Z"
   },
   {
    "duration": 0,
    "start_time": "2022-07-24T07:36:05.335Z"
   },
   {
    "duration": 0,
    "start_time": "2022-07-24T07:36:05.336Z"
   },
   {
    "duration": 0,
    "start_time": "2022-07-24T07:36:05.337Z"
   },
   {
    "duration": 0,
    "start_time": "2022-07-24T07:36:05.338Z"
   },
   {
    "duration": 0,
    "start_time": "2022-07-24T07:36:05.339Z"
   },
   {
    "duration": 0,
    "start_time": "2022-07-24T07:36:05.340Z"
   },
   {
    "duration": 14453,
    "start_time": "2022-07-24T07:36:49.624Z"
   },
   {
    "duration": 74,
    "start_time": "2022-07-24T07:37:04.079Z"
   },
   {
    "duration": 94,
    "start_time": "2022-07-24T07:38:10.535Z"
   },
   {
    "duration": 7,
    "start_time": "2022-07-24T07:38:12.079Z"
   },
   {
    "duration": 14895,
    "start_time": "2022-07-24T07:38:19.586Z"
   },
   {
    "duration": 105,
    "start_time": "2022-07-24T07:38:34.484Z"
   },
   {
    "duration": 13838,
    "start_time": "2022-07-24T07:38:43.614Z"
   },
   {
    "duration": 26,
    "start_time": "2022-07-24T07:38:57.455Z"
   },
   {
    "duration": 414,
    "start_time": "2022-07-24T07:39:11.510Z"
   },
   {
    "duration": 8,
    "start_time": "2022-07-24T07:39:11.927Z"
   },
   {
    "duration": 185,
    "start_time": "2022-07-24T07:39:14.745Z"
   },
   {
    "duration": 15,
    "start_time": "2022-07-24T07:39:14.935Z"
   },
   {
    "duration": 89,
    "start_time": "2022-07-24T07:39:17.457Z"
   },
   {
    "duration": 8,
    "start_time": "2022-07-24T07:39:17.667Z"
   },
   {
    "duration": 247,
    "start_time": "2022-07-24T07:39:20.377Z"
   },
   {
    "duration": 8,
    "start_time": "2022-07-24T07:39:20.629Z"
   },
   {
    "duration": 2947,
    "start_time": "2022-07-24T07:39:27.436Z"
   },
   {
    "duration": 1623,
    "start_time": "2022-07-24T07:39:30.386Z"
   },
   {
    "duration": 49,
    "start_time": "2022-07-24T07:39:32.011Z"
   },
   {
    "duration": 15,
    "start_time": "2022-07-24T07:39:32.062Z"
   },
   {
    "duration": 20,
    "start_time": "2022-07-24T07:39:32.079Z"
   },
   {
    "duration": 7,
    "start_time": "2022-07-24T07:39:32.101Z"
   },
   {
    "duration": 21,
    "start_time": "2022-07-24T07:39:32.110Z"
   },
   {
    "duration": 4,
    "start_time": "2022-07-24T07:39:32.133Z"
   },
   {
    "duration": 31,
    "start_time": "2022-07-24T07:39:32.139Z"
   },
   {
    "duration": 731,
    "start_time": "2022-07-24T07:39:32.175Z"
   },
   {
    "duration": 19,
    "start_time": "2022-07-24T07:39:32.908Z"
   },
   {
    "duration": 659,
    "start_time": "2022-07-24T07:39:32.930Z"
   },
   {
    "duration": 253,
    "start_time": "2022-07-24T07:39:33.591Z"
   },
   {
    "duration": 370,
    "start_time": "2022-07-24T07:39:33.845Z"
   },
   {
    "duration": 17,
    "start_time": "2022-07-24T07:39:34.223Z"
   },
   {
    "duration": 9,
    "start_time": "2022-07-24T07:39:34.242Z"
   },
   {
    "duration": 281,
    "start_time": "2022-07-24T07:39:34.253Z"
   },
   {
    "duration": 86,
    "start_time": "2022-07-24T07:39:34.537Z"
   },
   {
    "duration": 5371972,
    "start_time": "2022-07-24T07:39:34.626Z"
   },
   {
    "duration": 5,
    "start_time": "2022-07-24T09:09:06.600Z"
   },
   {
    "duration": 17717,
    "start_time": "2022-07-24T09:09:06.607Z"
   },
   {
    "duration": 69,
    "start_time": "2022-07-24T09:09:24.326Z"
   },
   {
    "duration": 175,
    "start_time": "2022-07-24T09:09:24.397Z"
   },
   {
    "duration": 0,
    "start_time": "2022-07-24T09:09:24.575Z"
   },
   {
    "duration": 7,
    "start_time": "2022-07-25T19:43:12.319Z"
   },
   {
    "duration": 1299,
    "start_time": "2022-07-25T19:43:12.584Z"
   },
   {
    "duration": 6,
    "start_time": "2022-07-25T19:43:36.416Z"
   },
   {
    "duration": 10,
    "start_time": "2022-07-25T19:43:52.539Z"
   },
   {
    "duration": 1317,
    "start_time": "2022-07-25T19:43:59.419Z"
   },
   {
    "duration": 1216,
    "start_time": "2022-07-25T19:44:22.186Z"
   },
   {
    "duration": 11,
    "start_time": "2022-07-25T19:44:37.162Z"
   },
   {
    "duration": 5,
    "start_time": "2022-07-25T19:45:28.946Z"
   },
   {
    "duration": 13,
    "start_time": "2022-07-25T19:45:38.890Z"
   },
   {
    "duration": 11,
    "start_time": "2022-07-25T19:45:44.058Z"
   },
   {
    "duration": 4,
    "start_time": "2022-07-25T19:46:00.655Z"
   },
   {
    "duration": 2597,
    "start_time": "2022-07-25T19:46:12.481Z"
   },
   {
    "duration": 1437,
    "start_time": "2022-07-25T19:46:15.081Z"
   },
   {
    "duration": 50,
    "start_time": "2022-07-25T19:46:16.519Z"
   },
   {
    "duration": 13,
    "start_time": "2022-07-25T19:46:16.571Z"
   },
   {
    "duration": 20,
    "start_time": "2022-07-25T19:46:16.586Z"
   },
   {
    "duration": 8,
    "start_time": "2022-07-25T19:46:16.608Z"
   },
   {
    "duration": 11,
    "start_time": "2022-07-25T19:46:16.622Z"
   },
   {
    "duration": 3,
    "start_time": "2022-07-25T19:46:16.635Z"
   },
   {
    "duration": 15,
    "start_time": "2022-07-25T19:46:16.640Z"
   },
   {
    "duration": 575,
    "start_time": "2022-07-25T19:46:16.658Z"
   },
   {
    "duration": 20,
    "start_time": "2022-07-25T19:46:17.236Z"
   },
   {
    "duration": 447,
    "start_time": "2022-07-25T19:46:17.259Z"
   },
   {
    "duration": 202,
    "start_time": "2022-07-25T19:46:17.707Z"
   },
   {
    "duration": 333,
    "start_time": "2022-07-25T19:46:17.911Z"
   },
   {
    "duration": 14,
    "start_time": "2022-07-25T19:46:18.246Z"
   },
   {
    "duration": 6,
    "start_time": "2022-07-25T19:46:18.262Z"
   },
   {
    "duration": 253,
    "start_time": "2022-07-25T19:46:18.270Z"
   },
   {
    "duration": 7,
    "start_time": "2022-07-25T19:46:18.525Z"
   },
   {
    "duration": 55412,
    "start_time": "2022-07-25T19:46:18.534Z"
   },
   {
    "duration": 0,
    "start_time": "2022-07-25T19:47:13.950Z"
   },
   {
    "duration": 0,
    "start_time": "2022-07-25T19:47:13.952Z"
   },
   {
    "duration": 0,
    "start_time": "2022-07-25T19:47:13.953Z"
   },
   {
    "duration": 0,
    "start_time": "2022-07-25T19:47:13.955Z"
   },
   {
    "duration": 0,
    "start_time": "2022-07-25T19:47:13.956Z"
   },
   {
    "duration": 0,
    "start_time": "2022-07-25T19:47:13.958Z"
   },
   {
    "duration": 2354,
    "start_time": "2022-07-25T19:47:17.813Z"
   },
   {
    "duration": 1505,
    "start_time": "2022-07-25T19:47:20.169Z"
   },
   {
    "duration": 53,
    "start_time": "2022-07-25T19:47:21.675Z"
   },
   {
    "duration": 12,
    "start_time": "2022-07-25T19:47:21.730Z"
   },
   {
    "duration": 41,
    "start_time": "2022-07-25T19:47:21.744Z"
   },
   {
    "duration": 7,
    "start_time": "2022-07-25T19:47:21.787Z"
   },
   {
    "duration": 18,
    "start_time": "2022-07-25T19:47:21.795Z"
   },
   {
    "duration": 3,
    "start_time": "2022-07-25T19:47:21.815Z"
   },
   {
    "duration": 23,
    "start_time": "2022-07-25T19:47:21.819Z"
   },
   {
    "duration": 572,
    "start_time": "2022-07-25T19:47:21.844Z"
   },
   {
    "duration": 16,
    "start_time": "2022-07-25T19:47:22.422Z"
   },
   {
    "duration": 438,
    "start_time": "2022-07-25T19:47:22.440Z"
   },
   {
    "duration": 229,
    "start_time": "2022-07-25T19:47:22.880Z"
   },
   {
    "duration": 353,
    "start_time": "2022-07-25T19:47:23.112Z"
   },
   {
    "duration": 15,
    "start_time": "2022-07-25T19:47:23.467Z"
   },
   {
    "duration": 8,
    "start_time": "2022-07-25T19:47:23.483Z"
   },
   {
    "duration": 140,
    "start_time": "2022-07-25T19:47:23.492Z"
   },
   {
    "duration": 94,
    "start_time": "2022-07-25T19:47:23.634Z"
   },
   {
    "duration": 1690742,
    "start_time": "2022-07-25T19:47:23.730Z"
   },
   {
    "duration": 8,
    "start_time": "2022-07-25T20:15:34.474Z"
   },
   {
    "duration": 14072,
    "start_time": "2022-07-25T20:15:34.485Z"
   },
   {
    "duration": 76,
    "start_time": "2022-07-25T20:15:48.559Z"
   },
   {
    "duration": 6,
    "start_time": "2022-07-25T20:15:48.637Z"
   },
   {
    "duration": 18,
    "start_time": "2022-07-25T20:15:48.645Z"
   },
   {
    "duration": 1464,
    "start_time": "2022-07-25T20:15:48.664Z"
   },
   {
    "duration": 1209,
    "start_time": "2022-07-25T21:08:41.377Z"
   },
   {
    "duration": 12,
    "start_time": "2022-07-25T21:08:56.643Z"
   },
   {
    "duration": 5,
    "start_time": "2022-07-25T21:09:08.216Z"
   },
   {
    "duration": 1300,
    "start_time": "2022-07-25T21:09:20.387Z"
   },
   {
    "duration": 9,
    "start_time": "2022-07-25T21:09:27.011Z"
   },
   {
    "duration": 6,
    "start_time": "2022-07-25T21:09:39.538Z"
   },
   {
    "duration": 376,
    "start_time": "2022-07-25T21:10:01.113Z"
   },
   {
    "duration": 12,
    "start_time": "2022-07-27T02:41:10.234Z"
   },
   {
    "duration": 8,
    "start_time": "2022-07-27T02:41:13.409Z"
   },
   {
    "duration": 2397,
    "start_time": "2022-07-27T02:45:28.770Z"
   },
   {
    "duration": 1478,
    "start_time": "2022-07-27T02:45:31.169Z"
   },
   {
    "duration": 110,
    "start_time": "2022-07-27T02:45:32.649Z"
   },
   {
    "duration": 10,
    "start_time": "2022-07-27T02:45:32.761Z"
   },
   {
    "duration": 13,
    "start_time": "2022-07-27T02:45:32.773Z"
   },
   {
    "duration": 8,
    "start_time": "2022-07-27T02:45:32.788Z"
   },
   {
    "duration": 15,
    "start_time": "2022-07-27T02:45:32.798Z"
   },
   {
    "duration": 10,
    "start_time": "2022-07-27T02:45:32.815Z"
   },
   {
    "duration": 526,
    "start_time": "2022-07-27T02:45:32.827Z"
   },
   {
    "duration": 16,
    "start_time": "2022-07-27T02:45:33.355Z"
   },
   {
    "duration": 426,
    "start_time": "2022-07-27T02:45:33.372Z"
   },
   {
    "duration": 216,
    "start_time": "2022-07-27T02:45:33.800Z"
   },
   {
    "duration": 317,
    "start_time": "2022-07-27T02:45:34.018Z"
   },
   {
    "duration": 16,
    "start_time": "2022-07-27T02:45:34.338Z"
   },
   {
    "duration": 8,
    "start_time": "2022-07-27T02:45:34.356Z"
   },
   {
    "duration": 133,
    "start_time": "2022-07-27T02:45:34.366Z"
   },
   {
    "duration": 1377116,
    "start_time": "2022-07-27T02:45:34.501Z"
   },
   {
    "duration": 14556,
    "start_time": "2022-07-27T03:08:31.618Z"
   },
   {
    "duration": 5,
    "start_time": "2022-07-27T03:08:46.176Z"
   },
   {
    "duration": 366,
    "start_time": "2022-07-27T03:08:46.183Z"
   }
  ],
  "kernelspec": {
   "display_name": "Python 3 (ipykernel)",
   "language": "python",
   "name": "python3"
  },
  "language_info": {
   "codemirror_mode": {
    "name": "ipython",
    "version": 3
   },
   "file_extension": ".py",
   "mimetype": "text/x-python",
   "name": "python",
   "nbconvert_exporter": "python",
   "pygments_lexer": "ipython3",
   "version": "3.9.7"
  },
  "toc": {
   "base_numbering": 1,
   "nav_menu": {},
   "number_sections": true,
   "sideBar": true,
   "skip_h1_title": true,
   "title_cell": "Table of Contents",
   "title_sidebar": "Contents",
   "toc_cell": false,
   "toc_position": {},
   "toc_section_display": true,
   "toc_window_display": false
  }
 },
 "nbformat": 4,
 "nbformat_minor": 2
}
