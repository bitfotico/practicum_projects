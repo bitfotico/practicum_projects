{
 "cells": [
  {
   "cell_type": "markdown",
   "metadata": {},
   "source": [
    "# OilyGiant Region ML"
   ]
  },
  {
   "cell_type": "markdown",
   "metadata": {},
   "source": [
    "We have data on oil samples from three regions. Parameters of each oil well in the region are already known. We will build a model that will help to pick the region with the highest profit margin and analyze potential profit and risks using the Bootstrapping technique."
   ]
  },
  {
   "cell_type": "markdown",
   "metadata": {},
   "source": [
    "## Preparing Data"
   ]
  },
  {
   "cell_type": "code",
   "execution_count": 1,
   "metadata": {},
   "outputs": [],
   "source": [
    "import pandas as pd\n",
    "import numpy as np\n",
    "import seaborn as sns\n",
    "import scipy.stats as st\n",
    "import matplotlib.pyplot as plt\n",
    "\n",
    "from sklearn.linear_model import LinearRegression\n",
    "\n",
    "from math import sqrt\n",
    "from sklearn.model_selection import train_test_split\n",
    "from sklearn.metrics import accuracy_score\n",
    "from sklearn.metrics import mean_squared_error\n",
    "from sklearn.model_selection import GridSearchCV"
   ]
  },
  {
   "cell_type": "code",
   "execution_count": 2,
   "metadata": {},
   "outputs": [],
   "source": [
    "try:\n",
    "    geo_1 = pd.read_csv('/geo_data_0.csv')\n",
    "    geo_2 = pd.read_csv('/geo_data_1.csv')\n",
    "    geo_3 = pd.read_csv('/geo_data_2.csv')\n",
    "except:\n",
    "    geo_1 = pd.read_csv('/datasets/geo_data_0.csv')\n",
    "    geo_2 = pd.read_csv('/datasets/geo_data_1.csv')\n",
    "    geo_3 = pd.read_csv('/datasets/geo_data_2.csv')"
   ]
  },
  {
   "cell_type": "code",
   "execution_count": 3,
   "metadata": {},
   "outputs": [
    {
     "name": "stdout",
     "output_type": "stream",
     "text": [
      "<class 'pandas.core.frame.DataFrame'>\n",
      "RangeIndex: 100000 entries, 0 to 99999\n",
      "Data columns (total 5 columns):\n",
      " #   Column   Non-Null Count   Dtype  \n",
      "---  ------   --------------   -----  \n",
      " 0   id       100000 non-null  object \n",
      " 1   f0       100000 non-null  float64\n",
      " 2   f1       100000 non-null  float64\n",
      " 3   f2       100000 non-null  float64\n",
      " 4   product  100000 non-null  float64\n",
      "dtypes: float64(4), object(1)\n",
      "memory usage: 3.8+ MB\n"
     ]
    }
   ],
   "source": [
    "# Checking Geo Data 1\n",
    "geo_1.info()"
   ]
  },
  {
   "cell_type": "code",
   "execution_count": 4,
   "metadata": {},
   "outputs": [
    {
     "data": {
      "text/html": [
       "<div>\n",
       "<style scoped>\n",
       "    .dataframe tbody tr th:only-of-type {\n",
       "        vertical-align: middle;\n",
       "    }\n",
       "\n",
       "    .dataframe tbody tr th {\n",
       "        vertical-align: top;\n",
       "    }\n",
       "\n",
       "    .dataframe thead th {\n",
       "        text-align: right;\n",
       "    }\n",
       "</style>\n",
       "<table border=\"1\" class=\"dataframe\">\n",
       "  <thead>\n",
       "    <tr style=\"text-align: right;\">\n",
       "      <th></th>\n",
       "      <th>f0</th>\n",
       "      <th>f1</th>\n",
       "      <th>f2</th>\n",
       "      <th>product</th>\n",
       "    </tr>\n",
       "  </thead>\n",
       "  <tbody>\n",
       "    <tr>\n",
       "      <th>count</th>\n",
       "      <td>100000.000000</td>\n",
       "      <td>100000.000000</td>\n",
       "      <td>100000.000000</td>\n",
       "      <td>100000.000000</td>\n",
       "    </tr>\n",
       "    <tr>\n",
       "      <th>mean</th>\n",
       "      <td>0.500419</td>\n",
       "      <td>0.250143</td>\n",
       "      <td>2.502647</td>\n",
       "      <td>92.500000</td>\n",
       "    </tr>\n",
       "    <tr>\n",
       "      <th>std</th>\n",
       "      <td>0.871832</td>\n",
       "      <td>0.504433</td>\n",
       "      <td>3.248248</td>\n",
       "      <td>44.288691</td>\n",
       "    </tr>\n",
       "    <tr>\n",
       "      <th>min</th>\n",
       "      <td>-1.408605</td>\n",
       "      <td>-0.848218</td>\n",
       "      <td>-12.088328</td>\n",
       "      <td>0.000000</td>\n",
       "    </tr>\n",
       "    <tr>\n",
       "      <th>25%</th>\n",
       "      <td>-0.072580</td>\n",
       "      <td>-0.200881</td>\n",
       "      <td>0.287748</td>\n",
       "      <td>56.497507</td>\n",
       "    </tr>\n",
       "    <tr>\n",
       "      <th>50%</th>\n",
       "      <td>0.502360</td>\n",
       "      <td>0.250252</td>\n",
       "      <td>2.515969</td>\n",
       "      <td>91.849972</td>\n",
       "    </tr>\n",
       "    <tr>\n",
       "      <th>75%</th>\n",
       "      <td>1.073581</td>\n",
       "      <td>0.700646</td>\n",
       "      <td>4.715088</td>\n",
       "      <td>128.564089</td>\n",
       "    </tr>\n",
       "    <tr>\n",
       "      <th>max</th>\n",
       "      <td>2.362331</td>\n",
       "      <td>1.343769</td>\n",
       "      <td>16.003790</td>\n",
       "      <td>185.364347</td>\n",
       "    </tr>\n",
       "  </tbody>\n",
       "</table>\n",
       "</div>"
      ],
      "text/plain": [
       "                  f0             f1             f2        product\n",
       "count  100000.000000  100000.000000  100000.000000  100000.000000\n",
       "mean        0.500419       0.250143       2.502647      92.500000\n",
       "std         0.871832       0.504433       3.248248      44.288691\n",
       "min        -1.408605      -0.848218     -12.088328       0.000000\n",
       "25%        -0.072580      -0.200881       0.287748      56.497507\n",
       "50%         0.502360       0.250252       2.515969      91.849972\n",
       "75%         1.073581       0.700646       4.715088     128.564089\n",
       "max         2.362331       1.343769      16.003790     185.364347"
      ]
     },
     "execution_count": 4,
     "metadata": {},
     "output_type": "execute_result"
    }
   ],
   "source": [
    "geo_1.describe()"
   ]
  },
  {
   "cell_type": "code",
   "execution_count": 5,
   "metadata": {},
   "outputs": [
    {
     "data": {
      "text/html": [
       "<div>\n",
       "<style scoped>\n",
       "    .dataframe tbody tr th:only-of-type {\n",
       "        vertical-align: middle;\n",
       "    }\n",
       "\n",
       "    .dataframe tbody tr th {\n",
       "        vertical-align: top;\n",
       "    }\n",
       "\n",
       "    .dataframe thead th {\n",
       "        text-align: right;\n",
       "    }\n",
       "</style>\n",
       "<table border=\"1\" class=\"dataframe\">\n",
       "  <thead>\n",
       "    <tr style=\"text-align: right;\">\n",
       "      <th></th>\n",
       "      <th>id</th>\n",
       "      <th>f0</th>\n",
       "      <th>f1</th>\n",
       "      <th>f2</th>\n",
       "      <th>product</th>\n",
       "    </tr>\n",
       "  </thead>\n",
       "  <tbody>\n",
       "    <tr>\n",
       "      <th>0</th>\n",
       "      <td>txEyH</td>\n",
       "      <td>0.705745</td>\n",
       "      <td>-0.497823</td>\n",
       "      <td>1.221170</td>\n",
       "      <td>105.280062</td>\n",
       "    </tr>\n",
       "    <tr>\n",
       "      <th>1</th>\n",
       "      <td>2acmU</td>\n",
       "      <td>1.334711</td>\n",
       "      <td>-0.340164</td>\n",
       "      <td>4.365080</td>\n",
       "      <td>73.037750</td>\n",
       "    </tr>\n",
       "    <tr>\n",
       "      <th>2</th>\n",
       "      <td>409Wp</td>\n",
       "      <td>1.022732</td>\n",
       "      <td>0.151990</td>\n",
       "      <td>1.419926</td>\n",
       "      <td>85.265647</td>\n",
       "    </tr>\n",
       "    <tr>\n",
       "      <th>3</th>\n",
       "      <td>iJLyR</td>\n",
       "      <td>-0.032172</td>\n",
       "      <td>0.139033</td>\n",
       "      <td>2.978566</td>\n",
       "      <td>168.620776</td>\n",
       "    </tr>\n",
       "    <tr>\n",
       "      <th>4</th>\n",
       "      <td>Xdl7t</td>\n",
       "      <td>1.988431</td>\n",
       "      <td>0.155413</td>\n",
       "      <td>4.751769</td>\n",
       "      <td>154.036647</td>\n",
       "    </tr>\n",
       "  </tbody>\n",
       "</table>\n",
       "</div>"
      ],
      "text/plain": [
       "      id        f0        f1        f2     product\n",
       "0  txEyH  0.705745 -0.497823  1.221170  105.280062\n",
       "1  2acmU  1.334711 -0.340164  4.365080   73.037750\n",
       "2  409Wp  1.022732  0.151990  1.419926   85.265647\n",
       "3  iJLyR -0.032172  0.139033  2.978566  168.620776\n",
       "4  Xdl7t  1.988431  0.155413  4.751769  154.036647"
      ]
     },
     "execution_count": 5,
     "metadata": {},
     "output_type": "execute_result"
    }
   ],
   "source": [
    "geo_1.head()"
   ]
  },
  {
   "cell_type": "code",
   "execution_count": 6,
   "metadata": {},
   "outputs": [
    {
     "name": "stdout",
     "output_type": "stream",
     "text": [
      "<class 'pandas.core.frame.DataFrame'>\n",
      "RangeIndex: 100000 entries, 0 to 99999\n",
      "Data columns (total 5 columns):\n",
      " #   Column   Non-Null Count   Dtype  \n",
      "---  ------   --------------   -----  \n",
      " 0   id       100000 non-null  object \n",
      " 1   f0       100000 non-null  float64\n",
      " 2   f1       100000 non-null  float64\n",
      " 3   f2       100000 non-null  float64\n",
      " 4   product  100000 non-null  float64\n",
      "dtypes: float64(4), object(1)\n",
      "memory usage: 3.8+ MB\n"
     ]
    }
   ],
   "source": [
    "# Checking Geo Data 2\n",
    "geo_2.info()"
   ]
  },
  {
   "cell_type": "code",
   "execution_count": 7,
   "metadata": {},
   "outputs": [
    {
     "data": {
      "text/html": [
       "<div>\n",
       "<style scoped>\n",
       "    .dataframe tbody tr th:only-of-type {\n",
       "        vertical-align: middle;\n",
       "    }\n",
       "\n",
       "    .dataframe tbody tr th {\n",
       "        vertical-align: top;\n",
       "    }\n",
       "\n",
       "    .dataframe thead th {\n",
       "        text-align: right;\n",
       "    }\n",
       "</style>\n",
       "<table border=\"1\" class=\"dataframe\">\n",
       "  <thead>\n",
       "    <tr style=\"text-align: right;\">\n",
       "      <th></th>\n",
       "      <th>f0</th>\n",
       "      <th>f1</th>\n",
       "      <th>f2</th>\n",
       "      <th>product</th>\n",
       "    </tr>\n",
       "  </thead>\n",
       "  <tbody>\n",
       "    <tr>\n",
       "      <th>count</th>\n",
       "      <td>100000.000000</td>\n",
       "      <td>100000.000000</td>\n",
       "      <td>100000.000000</td>\n",
       "      <td>100000.000000</td>\n",
       "    </tr>\n",
       "    <tr>\n",
       "      <th>mean</th>\n",
       "      <td>1.141296</td>\n",
       "      <td>-4.796579</td>\n",
       "      <td>2.494541</td>\n",
       "      <td>68.825000</td>\n",
       "    </tr>\n",
       "    <tr>\n",
       "      <th>std</th>\n",
       "      <td>8.965932</td>\n",
       "      <td>5.119872</td>\n",
       "      <td>1.703572</td>\n",
       "      <td>45.944423</td>\n",
       "    </tr>\n",
       "    <tr>\n",
       "      <th>min</th>\n",
       "      <td>-31.609576</td>\n",
       "      <td>-26.358598</td>\n",
       "      <td>-0.018144</td>\n",
       "      <td>0.000000</td>\n",
       "    </tr>\n",
       "    <tr>\n",
       "      <th>25%</th>\n",
       "      <td>-6.298551</td>\n",
       "      <td>-8.267985</td>\n",
       "      <td>1.000021</td>\n",
       "      <td>26.953261</td>\n",
       "    </tr>\n",
       "    <tr>\n",
       "      <th>50%</th>\n",
       "      <td>1.153055</td>\n",
       "      <td>-4.813172</td>\n",
       "      <td>2.011479</td>\n",
       "      <td>57.085625</td>\n",
       "    </tr>\n",
       "    <tr>\n",
       "      <th>75%</th>\n",
       "      <td>8.621015</td>\n",
       "      <td>-1.332816</td>\n",
       "      <td>3.999904</td>\n",
       "      <td>107.813044</td>\n",
       "    </tr>\n",
       "    <tr>\n",
       "      <th>max</th>\n",
       "      <td>29.421755</td>\n",
       "      <td>18.734063</td>\n",
       "      <td>5.019721</td>\n",
       "      <td>137.945408</td>\n",
       "    </tr>\n",
       "  </tbody>\n",
       "</table>\n",
       "</div>"
      ],
      "text/plain": [
       "                  f0             f1             f2        product\n",
       "count  100000.000000  100000.000000  100000.000000  100000.000000\n",
       "mean        1.141296      -4.796579       2.494541      68.825000\n",
       "std         8.965932       5.119872       1.703572      45.944423\n",
       "min       -31.609576     -26.358598      -0.018144       0.000000\n",
       "25%        -6.298551      -8.267985       1.000021      26.953261\n",
       "50%         1.153055      -4.813172       2.011479      57.085625\n",
       "75%         8.621015      -1.332816       3.999904     107.813044\n",
       "max        29.421755      18.734063       5.019721     137.945408"
      ]
     },
     "execution_count": 7,
     "metadata": {},
     "output_type": "execute_result"
    }
   ],
   "source": [
    "geo_2.describe()"
   ]
  },
  {
   "cell_type": "code",
   "execution_count": 8,
   "metadata": {},
   "outputs": [
    {
     "data": {
      "text/html": [
       "<div>\n",
       "<style scoped>\n",
       "    .dataframe tbody tr th:only-of-type {\n",
       "        vertical-align: middle;\n",
       "    }\n",
       "\n",
       "    .dataframe tbody tr th {\n",
       "        vertical-align: top;\n",
       "    }\n",
       "\n",
       "    .dataframe thead th {\n",
       "        text-align: right;\n",
       "    }\n",
       "</style>\n",
       "<table border=\"1\" class=\"dataframe\">\n",
       "  <thead>\n",
       "    <tr style=\"text-align: right;\">\n",
       "      <th></th>\n",
       "      <th>id</th>\n",
       "      <th>f0</th>\n",
       "      <th>f1</th>\n",
       "      <th>f2</th>\n",
       "      <th>product</th>\n",
       "    </tr>\n",
       "  </thead>\n",
       "  <tbody>\n",
       "    <tr>\n",
       "      <th>0</th>\n",
       "      <td>kBEdx</td>\n",
       "      <td>-15.001348</td>\n",
       "      <td>-8.276000</td>\n",
       "      <td>-0.005876</td>\n",
       "      <td>3.179103</td>\n",
       "    </tr>\n",
       "    <tr>\n",
       "      <th>1</th>\n",
       "      <td>62mP7</td>\n",
       "      <td>14.272088</td>\n",
       "      <td>-3.475083</td>\n",
       "      <td>0.999183</td>\n",
       "      <td>26.953261</td>\n",
       "    </tr>\n",
       "    <tr>\n",
       "      <th>2</th>\n",
       "      <td>vyE1P</td>\n",
       "      <td>6.263187</td>\n",
       "      <td>-5.948386</td>\n",
       "      <td>5.001160</td>\n",
       "      <td>134.766305</td>\n",
       "    </tr>\n",
       "    <tr>\n",
       "      <th>3</th>\n",
       "      <td>KcrkZ</td>\n",
       "      <td>-13.081196</td>\n",
       "      <td>-11.506057</td>\n",
       "      <td>4.999415</td>\n",
       "      <td>137.945408</td>\n",
       "    </tr>\n",
       "    <tr>\n",
       "      <th>4</th>\n",
       "      <td>AHL4O</td>\n",
       "      <td>12.702195</td>\n",
       "      <td>-8.147433</td>\n",
       "      <td>5.004363</td>\n",
       "      <td>134.766305</td>\n",
       "    </tr>\n",
       "  </tbody>\n",
       "</table>\n",
       "</div>"
      ],
      "text/plain": [
       "      id         f0         f1        f2     product\n",
       "0  kBEdx -15.001348  -8.276000 -0.005876    3.179103\n",
       "1  62mP7  14.272088  -3.475083  0.999183   26.953261\n",
       "2  vyE1P   6.263187  -5.948386  5.001160  134.766305\n",
       "3  KcrkZ -13.081196 -11.506057  4.999415  137.945408\n",
       "4  AHL4O  12.702195  -8.147433  5.004363  134.766305"
      ]
     },
     "execution_count": 8,
     "metadata": {},
     "output_type": "execute_result"
    }
   ],
   "source": [
    "geo_2.head()"
   ]
  },
  {
   "cell_type": "code",
   "execution_count": 9,
   "metadata": {},
   "outputs": [
    {
     "name": "stdout",
     "output_type": "stream",
     "text": [
      "<class 'pandas.core.frame.DataFrame'>\n",
      "RangeIndex: 100000 entries, 0 to 99999\n",
      "Data columns (total 5 columns):\n",
      " #   Column   Non-Null Count   Dtype  \n",
      "---  ------   --------------   -----  \n",
      " 0   id       100000 non-null  object \n",
      " 1   f0       100000 non-null  float64\n",
      " 2   f1       100000 non-null  float64\n",
      " 3   f2       100000 non-null  float64\n",
      " 4   product  100000 non-null  float64\n",
      "dtypes: float64(4), object(1)\n",
      "memory usage: 3.8+ MB\n"
     ]
    }
   ],
   "source": [
    "# Checking Geo Data 3\n",
    "geo_3.info()"
   ]
  },
  {
   "cell_type": "code",
   "execution_count": 10,
   "metadata": {},
   "outputs": [
    {
     "data": {
      "text/html": [
       "<div>\n",
       "<style scoped>\n",
       "    .dataframe tbody tr th:only-of-type {\n",
       "        vertical-align: middle;\n",
       "    }\n",
       "\n",
       "    .dataframe tbody tr th {\n",
       "        vertical-align: top;\n",
       "    }\n",
       "\n",
       "    .dataframe thead th {\n",
       "        text-align: right;\n",
       "    }\n",
       "</style>\n",
       "<table border=\"1\" class=\"dataframe\">\n",
       "  <thead>\n",
       "    <tr style=\"text-align: right;\">\n",
       "      <th></th>\n",
       "      <th>f0</th>\n",
       "      <th>f1</th>\n",
       "      <th>f2</th>\n",
       "      <th>product</th>\n",
       "    </tr>\n",
       "  </thead>\n",
       "  <tbody>\n",
       "    <tr>\n",
       "      <th>count</th>\n",
       "      <td>100000.000000</td>\n",
       "      <td>100000.000000</td>\n",
       "      <td>100000.000000</td>\n",
       "      <td>100000.000000</td>\n",
       "    </tr>\n",
       "    <tr>\n",
       "      <th>mean</th>\n",
       "      <td>0.002023</td>\n",
       "      <td>-0.002081</td>\n",
       "      <td>2.495128</td>\n",
       "      <td>95.000000</td>\n",
       "    </tr>\n",
       "    <tr>\n",
       "      <th>std</th>\n",
       "      <td>1.732045</td>\n",
       "      <td>1.730417</td>\n",
       "      <td>3.473445</td>\n",
       "      <td>44.749921</td>\n",
       "    </tr>\n",
       "    <tr>\n",
       "      <th>min</th>\n",
       "      <td>-8.760004</td>\n",
       "      <td>-7.084020</td>\n",
       "      <td>-11.970335</td>\n",
       "      <td>0.000000</td>\n",
       "    </tr>\n",
       "    <tr>\n",
       "      <th>25%</th>\n",
       "      <td>-1.162288</td>\n",
       "      <td>-1.174820</td>\n",
       "      <td>0.130359</td>\n",
       "      <td>59.450441</td>\n",
       "    </tr>\n",
       "    <tr>\n",
       "      <th>50%</th>\n",
       "      <td>0.009424</td>\n",
       "      <td>-0.009482</td>\n",
       "      <td>2.484236</td>\n",
       "      <td>94.925613</td>\n",
       "    </tr>\n",
       "    <tr>\n",
       "      <th>75%</th>\n",
       "      <td>1.158535</td>\n",
       "      <td>1.163678</td>\n",
       "      <td>4.858794</td>\n",
       "      <td>130.595027</td>\n",
       "    </tr>\n",
       "    <tr>\n",
       "      <th>max</th>\n",
       "      <td>7.238262</td>\n",
       "      <td>7.844801</td>\n",
       "      <td>16.739402</td>\n",
       "      <td>190.029838</td>\n",
       "    </tr>\n",
       "  </tbody>\n",
       "</table>\n",
       "</div>"
      ],
      "text/plain": [
       "                  f0             f1             f2        product\n",
       "count  100000.000000  100000.000000  100000.000000  100000.000000\n",
       "mean        0.002023      -0.002081       2.495128      95.000000\n",
       "std         1.732045       1.730417       3.473445      44.749921\n",
       "min        -8.760004      -7.084020     -11.970335       0.000000\n",
       "25%        -1.162288      -1.174820       0.130359      59.450441\n",
       "50%         0.009424      -0.009482       2.484236      94.925613\n",
       "75%         1.158535       1.163678       4.858794     130.595027\n",
       "max         7.238262       7.844801      16.739402     190.029838"
      ]
     },
     "execution_count": 10,
     "metadata": {},
     "output_type": "execute_result"
    }
   ],
   "source": [
    "geo_3.describe()"
   ]
  },
  {
   "cell_type": "code",
   "execution_count": 11,
   "metadata": {},
   "outputs": [
    {
     "data": {
      "text/html": [
       "<div>\n",
       "<style scoped>\n",
       "    .dataframe tbody tr th:only-of-type {\n",
       "        vertical-align: middle;\n",
       "    }\n",
       "\n",
       "    .dataframe tbody tr th {\n",
       "        vertical-align: top;\n",
       "    }\n",
       "\n",
       "    .dataframe thead th {\n",
       "        text-align: right;\n",
       "    }\n",
       "</style>\n",
       "<table border=\"1\" class=\"dataframe\">\n",
       "  <thead>\n",
       "    <tr style=\"text-align: right;\">\n",
       "      <th></th>\n",
       "      <th>id</th>\n",
       "      <th>f0</th>\n",
       "      <th>f1</th>\n",
       "      <th>f2</th>\n",
       "      <th>product</th>\n",
       "    </tr>\n",
       "  </thead>\n",
       "  <tbody>\n",
       "    <tr>\n",
       "      <th>0</th>\n",
       "      <td>fwXo0</td>\n",
       "      <td>-1.146987</td>\n",
       "      <td>0.963328</td>\n",
       "      <td>-0.828965</td>\n",
       "      <td>27.758673</td>\n",
       "    </tr>\n",
       "    <tr>\n",
       "      <th>1</th>\n",
       "      <td>WJtFt</td>\n",
       "      <td>0.262778</td>\n",
       "      <td>0.269839</td>\n",
       "      <td>-2.530187</td>\n",
       "      <td>56.069697</td>\n",
       "    </tr>\n",
       "    <tr>\n",
       "      <th>2</th>\n",
       "      <td>ovLUW</td>\n",
       "      <td>0.194587</td>\n",
       "      <td>0.289035</td>\n",
       "      <td>-5.586433</td>\n",
       "      <td>62.871910</td>\n",
       "    </tr>\n",
       "    <tr>\n",
       "      <th>3</th>\n",
       "      <td>q6cA6</td>\n",
       "      <td>2.236060</td>\n",
       "      <td>-0.553760</td>\n",
       "      <td>0.930038</td>\n",
       "      <td>114.572842</td>\n",
       "    </tr>\n",
       "    <tr>\n",
       "      <th>4</th>\n",
       "      <td>WPMUX</td>\n",
       "      <td>-0.515993</td>\n",
       "      <td>1.716266</td>\n",
       "      <td>5.899011</td>\n",
       "      <td>149.600746</td>\n",
       "    </tr>\n",
       "  </tbody>\n",
       "</table>\n",
       "</div>"
      ],
      "text/plain": [
       "      id        f0        f1        f2     product\n",
       "0  fwXo0 -1.146987  0.963328 -0.828965   27.758673\n",
       "1  WJtFt  0.262778  0.269839 -2.530187   56.069697\n",
       "2  ovLUW  0.194587  0.289035 -5.586433   62.871910\n",
       "3  q6cA6  2.236060 -0.553760  0.930038  114.572842\n",
       "4  WPMUX -0.515993  1.716266  5.899011  149.600746"
      ]
     },
     "execution_count": 11,
     "metadata": {},
     "output_type": "execute_result"
    }
   ],
   "source": [
    "geo_3.head()"
   ]
  },
  {
   "cell_type": "code",
   "execution_count": 12,
   "metadata": {},
   "outputs": [
    {
     "name": "stdout",
     "output_type": "stream",
     "text": [
      "Total amount of NaNs: 0\n"
     ]
    }
   ],
   "source": [
    "# Checking for NaNs\n",
    "print('Total amount of NaNs:', \n",
    "      geo_1.isna().sum().sum() + geo_2.isna().sum().sum() + geo_3.isna().sum().sum())"
   ]
  },
  {
   "cell_type": "code",
   "execution_count": 13,
   "metadata": {},
   "outputs": [
    {
     "name": "stdout",
     "output_type": "stream",
     "text": [
      "Total amount of duplicates: 0\n"
     ]
    }
   ],
   "source": [
    "# Dropping duplicate rows\n",
    "print('Total amount of duplicates:',\n",
    "      len(geo_1.drop_duplicates()) + len(geo_2.drop_duplicates()) + len(geo_3.drop_duplicates()) - len(geo_3) * 3)"
   ]
  },
  {
   "cell_type": "code",
   "execution_count": 14,
   "metadata": {},
   "outputs": [],
   "source": [
    "# Dropping useless columns\n",
    "geo_1 = geo_1.drop('id', axis=1)\n",
    "geo_2 = geo_2.drop('id', axis=1)\n",
    "geo_3 = geo_3.drop('id', axis=1)"
   ]
  },
  {
   "cell_type": "markdown",
   "metadata": {},
   "source": [
    "Our data is now usable for EDA. I decided not to combine each set into one dataset since they're each seperated as a independant region."
   ]
  },
  {
   "cell_type": "markdown",
   "metadata": {},
   "source": [
    "## Creating our Model"
   ]
  },
  {
   "cell_type": "code",
   "execution_count": 15,
   "metadata": {},
   "outputs": [
    {
     "name": "stdout",
     "output_type": "stream",
     "text": [
      "Training set 1 shapes: (90000, 3) (90000,)\n",
      "Training set 2 shapes: (90000, 3) (90000,)\n",
      "Training set 3 shapes: (90000, 3) (90000,)\n",
      "\n",
      "Test set 1 shapes: (10000, 3) (10000,)\n",
      "Test set 2 shapes: (10000, 3) (10000,)\n",
      "Test set 3 shapes: (10000, 3) (10000,)\n"
     ]
    }
   ],
   "source": [
    "# Creating our training and testing sets\n",
    "# We use GridSearchCV so a validation set isn't needed\n",
    "features_train_1, features_test_1, target_train_1, target_test_1 = train_test_split(\n",
    "    geo_1.drop(['product'], axis=1), geo_1['product'], train_size=0.9, random_state=12345)\n",
    "\n",
    "features_train_2, features_test_2, target_train_2, target_test_2 = train_test_split(\n",
    "    geo_2.drop(['product'], axis=1), geo_2['product'], train_size=0.9, random_state=12345)\n",
    "\n",
    "features_train_3, features_test_3, target_train_3, target_test_3 = train_test_split(\n",
    "    geo_3.drop(['product'], axis=1), geo_1['product'], train_size=0.9, random_state=12345)\n",
    "\n",
    "# Checking train and test shapes for errors\n",
    "print('Training set 1 shapes:', features_train_1.shape, target_train_1.shape)\n",
    "print('Training set 2 shapes:', features_train_2.shape, target_train_2.shape)\n",
    "print('Training set 3 shapes:', features_train_3.shape, target_train_3.shape)\n",
    "print()\n",
    "print('Test set 1 shapes:', features_test_1.shape, target_test_1.shape)\n",
    "print('Test set 2 shapes:', features_test_2.shape, target_test_2.shape)\n",
    "print('Test set 3 shapes:', features_test_3.shape, target_test_3.shape)"
   ]
  },
  {
   "cell_type": "code",
   "execution_count": 16,
   "metadata": {},
   "outputs": [
    {
     "name": "stdout",
     "output_type": "stream",
     "text": [
      "Geo 1\n",
      "RMSE: 37.58\n",
      "Average Reserves: 92.66\n",
      "\n"
     ]
    }
   ],
   "source": [
    "# Creating a Linear Regression model for Geo 1 with GridSearchCV\n",
    "param_grid = {}\n",
    "\n",
    "lr1 = GridSearchCV(estimator=LinearRegression(), param_grid=param_grid, cv=4)\n",
    "lr1.fit(features_train_1, target_train_1)\n",
    "lr1_predict_test = lr1.predict(features_test_1)\n",
    "\n",
    "print('Geo 1')\n",
    "print('RMSE:', round(sqrt(mean_squared_error(target_test_1, lr1_predict_test)), 2))\n",
    "print('Average Reserves:', round(lr1_predict_test.mean(), 2))\n",
    "print()"
   ]
  },
  {
   "cell_type": "code",
   "execution_count": 17,
   "metadata": {},
   "outputs": [
    {
     "name": "stdout",
     "output_type": "stream",
     "text": [
      "Geo 2\n",
      "RMSE: 0.9\n",
      "Average Reserves: 68.98\n",
      "\n"
     ]
    }
   ],
   "source": [
    "# Creating a Linear Regression model for Geo 2 with GridSearchCV\n",
    "param_grid = {}\n",
    "\n",
    "lr2 = GridSearchCV(estimator=LinearRegression(), param_grid=param_grid, cv=4)\n",
    "lr2.fit(features_train_2, target_train_2)\n",
    "lr2_predict_test = lr2.predict(features_test_2)\n",
    "\n",
    "print('Geo 2')\n",
    "print('RMSE:', round(sqrt(mean_squared_error(target_test_2, lr2_predict_test)), 2))\n",
    "print('Average Reserves:', round(lr2_predict_test.mean(), 2))\n",
    "print()"
   ]
  },
  {
   "cell_type": "code",
   "execution_count": 18,
   "metadata": {},
   "outputs": [
    {
     "name": "stdout",
     "output_type": "stream",
     "text": [
      "Geo 3\n",
      "RMSE: 44.28\n",
      "Average Reserves: 92.58\n",
      "\n"
     ]
    }
   ],
   "source": [
    "# Creating a Linear Regression model for Geo 3 with GridSearchCV\n",
    "param_grid = {}\n",
    "\n",
    "lr3 = GridSearchCV(estimator=LinearRegression(), param_grid=param_grid, cv=4)\n",
    "lr3.fit(features_train_3, target_train_3)\n",
    "lr3_predict_test = lr3.predict(features_test_3)\n",
    "\n",
    "print('Geo 3')\n",
    "print('RMSE:', round(sqrt(mean_squared_error(target_test_3, lr3_predict_test)), 2))\n",
    "print('Average Reserves:', round(lr3_predict_test.mean(), 2))\n",
    "print()"
   ]
  },
  {
   "cell_type": "code",
   "execution_count": 19,
   "metadata": {},
   "outputs": [],
   "source": [
    "# Creating dataframe for our predictions and correct answers\n",
    "predicted_df_1 = pd.DataFrame(target_test_1)\n",
    "predicted_df_1['prediction'] = lr1_predict_test\n",
    "predicted_df_1 = predicted_df_1.reset_index(drop=True)\n",
    "\n",
    "predicted_df_2 = pd.DataFrame(target_test_2)\n",
    "predicted_df_2['prediction'] = lr2_predict_test\n",
    "predicted_df_2 = predicted_df_2.reset_index(drop=True)\n",
    "\n",
    "predicted_df_3 = pd.DataFrame(target_test_3)\n",
    "predicted_df_3['prediction'] = lr3_predict_test\n",
    "predicted_df_3= predicted_df_3.reset_index(drop=True)"
   ]
  },
  {
   "cell_type": "markdown",
   "metadata": {},
   "source": [
    "## Profit Calculations"
   ]
  },
  {
   "cell_type": "code",
   "execution_count": 20,
   "metadata": {},
   "outputs": [],
   "source": [
    "# Budget for delevopment\n",
    "DEV_BUDGET = 100000000\n",
    "# Maximum wells\n",
    "WELL_BUDGET = 200 \n",
    "# Cost per barrel\n",
    "BARREL_COST = 4.5\n",
    "# Reverse of Barrels\n",
    "RESERVE = 1000\n",
    "# Max risk per loss\n",
    "RISK = 0.025\n",
    "\n",
    "# Cost of goods\n",
    "COST_OF_GOODS = DEV_BUDGET / WELL_BUDGET\n",
    "# Reserve cost\n",
    "UNIT_REV = BARREL_COST * RESERVE"
   ]
  },
  {
   "cell_type": "code",
   "execution_count": 21,
   "metadata": {},
   "outputs": [
    {
     "name": "stdout",
     "output_type": "stream",
     "text": [
      "Reserves needed to negate losses: 111\n",
      "Region 1 Mean Volume: 92\n",
      "Region 2 Mean Volume: 68\n",
      "Region 3 Mean Volume: 92\n"
     ]
    }
   ],
   "source": [
    "# Reserves needed without losses\n",
    "RESERVES_NEEDED = COST_OF_GOODS / UNIT_REV\n",
    "\n",
    "print('Reserves needed to negate losses:', int(RESERVES_NEEDED))\n",
    "print('Region 1 Mean Volume:', int(lr1_predict_test.mean()))\n",
    "print('Region 2 Mean Volume:', int(lr2_predict_test.mean()))\n",
    "print('Region 3 Mean Volume:', int(lr3_predict_test.mean()))"
   ]
  },
  {
   "cell_type": "markdown",
   "metadata": {},
   "source": [
    "The average volume of reserves is lower than the needed amount to negate losses, however this only means the average well isn't good enough - good thing the average isn't the highest 200."
   ]
  },
  {
   "cell_type": "code",
   "execution_count": 22,
   "metadata": {},
   "outputs": [],
   "source": [
    "# Filtering for the top 200\n",
    "top_predicted_1 = predicted_df_1.sort_values(by='prediction', ascending=False).head(200)\n",
    "top_predicted_2 = predicted_df_2.sort_values(by='prediction', ascending=False).head(200)\n",
    "top_predicted_3 = predicted_df_3.sort_values(by='prediction', ascending=False).head(200)\n",
    "\n",
    "# Calculating profits\n",
    "top_predicted_1['profit'] = top_predicted_1['prediction'] * UNIT_REV - COST_OF_GOODS\n",
    "top_predicted_2['profit'] = top_predicted_2['prediction'] * UNIT_REV - COST_OF_GOODS\n",
    "top_predicted_3['profit'] = top_predicted_3['prediction'] * UNIT_REV - COST_OF_GOODS"
   ]
  },
  {
   "cell_type": "code",
   "execution_count": 23,
   "metadata": {},
   "outputs": [
    {
     "name": "stdout",
     "output_type": "stream",
     "text": [
      "Total Expected Profit in Region 1: 34,018,015\n",
      "Total Expected Profit in Region 2: 24,532,353\n",
      "Total Expected Profit in Region 3: -16,153,604\n"
     ]
    }
   ],
   "source": [
    "print('Total Expected Profit in Region 1: {:,d}'.format(int(top_predicted_1['profit'].sum())))\n",
    "print('Total Expected Profit in Region 2: {:,d}'.format(int(top_predicted_2['profit'].sum())))\n",
    "print('Total Expected Profit in Region 3: {:,d}'.format(int(top_predicted_3['profit'].sum())))"
   ]
  },
  {
   "cell_type": "markdown",
   "metadata": {},
   "source": [
    "Between our three regions, region 1 is our clear winner, making about 28% more in profit than the second most profitable region, region 2."
   ]
  },
  {
   "cell_type": "markdown",
   "metadata": {},
   "source": [
    "## Calculating Risks and Profits"
   ]
  },
  {
   "cell_type": "code",
   "execution_count": 24,
   "metadata": {},
   "outputs": [],
   "source": [
    "# Def for calculating profits\n",
    "def profit_calculation(well_profits, profit, amount):\n",
    "    well_profits = well_profits.sort_values(by=['predicted'], ascending=False).head(amount)\n",
    "    \n",
    "    product_sum = well_profits['product'].sum()\n",
    "    predicted_sum = well_profits['predicted'].sum()\n",
    "    revenue_2 = product_sum * profit\n",
    "    predicted_revenue = predicted_sum * profit\n",
    "    \n",
    "    profit = revenue_2 - DEV_BUDGET\n",
    "    predicted_profit = predicted_revenue - DEV_BUDGET\n",
    "    \n",
    "    return profit, predicted_profit         "
   ]
  },
  {
   "cell_type": "code",
   "execution_count": 25,
   "metadata": {},
   "outputs": [],
   "source": [
    "# Def for using bootstrap to calculate profit\n",
    "def bootstrap_profit(df, amount):\n",
    "    state = np.random.RandomState(12345)\n",
    "\n",
    "    target_subsample = pd.DataFrame(columns = ['product', 'predicted'])\n",
    "    highest_wells_profit = []\n",
    "    \n",
    "    for i in range(amount):   \n",
    "        target_subsample = df.sample(n=500, replace=True, random_state=state)\n",
    "        profit = profit_calculation(well_profits = target_subsample, profit = 4500, amount = 200)\n",
    "        highest_wells_profit.append(profit)\n",
    "    \n",
    "    return pd.DataFrame(highest_wells_profit, columns = ['product', 'predicted'])"
   ]
  },
  {
   "cell_type": "code",
   "execution_count": 26,
   "metadata": {},
   "outputs": [],
   "source": [
    "# Creating datatframes using target test and the region's model prediction\n",
    "target_predictions_1 = pd.DataFrame(target_test_1)\n",
    "target_predictions_1['predicted'] = lr1_predict_test\n",
    "\n",
    "target_predictions_2 = pd.DataFrame(target_test_2)\n",
    "target_predictions_2['predicted'] = lr2_predict_test\n",
    "\n",
    "target_predictions_3 = pd.DataFrame(target_test_3)\n",
    "target_predictions_3['predicted'] = lr3_predict_test\n",
    "\n",
    "# Assigning the dataframes to a list\n",
    "regions = [target_predictions_1, target_predictions_2, target_predictions_3]"
   ]
  },
  {
   "cell_type": "code",
   "execution_count": 27,
   "metadata": {},
   "outputs": [],
   "source": [
    "# Finding bootstrap profits, average profits, confidence interval, and risk\n",
    "regions_profit = []\n",
    "i = 0\n",
    "\n",
    "for dfi in regions:\n",
    "    profit = bootstrap_profit(df = dfi, amount = 1000)\n",
    "    \n",
    "    # 95% confidence interval\n",
    "    conf_low = profit.quantile(0.025)\n",
    "    conf_high = profit.quantile(0.975)\n",
    "    \n",
    "    confidence_interval = st.t.interval(\n",
    "        0.95, len(profit['product'])-1, \n",
    "        loc=profit['product'].mean(), \n",
    "        scale=st.sem(profit['product']))\n",
    "    \n",
    "    loss_risk = (profit['product'] < 0).mean()\n",
    "    \n",
    "    region_dict = {\n",
    "                    'name': 'reg_'+str(i),\n",
    "                    'profit_df': profit,\n",
    "                    'average_profit': profit.mean(),\n",
    "                    'confidence_interval': confidence_interval,\n",
    "                    'loss_risk': loss_risk\n",
    "                  }\n",
    "    \n",
    "    i += 1\n",
    "    regions_profit.append(region_dict)"
   ]
  },
  {
   "cell_type": "code",
   "execution_count": 28,
   "metadata": {},
   "outputs": [],
   "source": [
    "# Def for creating plots for true and predicted profit\n",
    "def dist_plot(df, location, size):\n",
    "    fig, axes = plt.subplots(1, 2, figsize = (size), sharey=True, sharex=True)\n",
    "    \n",
    "    sns.histplot(data=df['product'], ax=axes[0])\n",
    "    sns.histplot(data=df['predicted'], ax=axes[1])\n",
    "    \n",
    "    axes[0].set(xlabel='Profit (in mil $)', ylabel='Frequecy');\n",
    "    axes[0].set(title='Region {} Distribution of True Profit'.format(location));\n",
    "    axes[1].set(xlabel='Profit (in mil $)', ylabel='Frequecy');\n",
    "    axes[1].set(title='Region {} Distribution of Predicted Profit'.format(location));\n",
    "    \n",
    "    plt.show()"
   ]
  },
  {
   "cell_type": "code",
   "execution_count": 29,
   "metadata": {},
   "outputs": [
    {
     "name": "stdout",
     "output_type": "stream",
     "text": [
      "Region 1\n"
     ]
    },
    {
     "data": {
      "image/png": "[encoded data removed]",
      "text/plain": [
       "<Figure size 864x360 with 2 Axes>"
      ]
     },
     "metadata": {
      "needs_background": "light"
     },
     "output_type": "display_data"
    },
    {
     "name": "stdout",
     "output_type": "stream",
     "text": [
      "Region 2\n"
     ]
    },
    {
     "data": {
      "image/png": "[encoded data removed]",
      "text/plain": [
       "<Figure size 864x360 with 2 Axes>"
      ]
     },
     "metadata": {
      "needs_background": "light"
     },
     "output_type": "display_data"
    },
    {
     "name": "stdout",
     "output_type": "stream",
     "text": [
      "Region 3\n"
     ]
    },
    {
     "data": {
      "image/png": "[encoded data removed]",
      "text/plain": [
       "<Figure size 864x360 with 2 Axes>"
      ]
     },
     "metadata": {
      "needs_background": "light"
     },
     "output_type": "display_data"
    }
   ],
   "source": [
    "# Plotting our profit graphs\n",
    "r = 1\n",
    "for reg_dict in regions_profit:\n",
    "    print('Region '+str(r))\n",
    "    dist_plot(df = reg_dict['profit_df'], location = r,  size = [12, 5])\n",
    "    r += 1"
   ]
  },
  {
   "cell_type": "markdown",
   "metadata": {},
   "source": [
    "The distibution of true profit is about the same in all regions, whereas the distribution of predicted profit shows a much wider range for region 2, and a decreasing range of a lower amount for region 1 and even lower for region 3."
   ]
  },
  {
   "cell_type": "code",
   "execution_count": 30,
   "metadata": {},
   "outputs": [
    {
     "name": "stdout",
     "output_type": "stream",
     "text": [
      "95% Confidence Interval Region 1:\n",
      " Lower Bound: 3595580.75 \n",
      " Upper Bound: 3938545.37\n",
      "\n",
      "95% Confidence Interval Region 2:\n",
      " Lower Bound: 4892517.15 \n",
      " Upper Bound: 5150813.46\n",
      "\n",
      "95% Confidence Interval Region 3:\n",
      " Lower Bound: -17980969.73 \n",
      " Upper Bound: -17629299.96\n",
      "\n"
     ]
    }
   ],
   "source": [
    "# Finding confidence interval\n",
    "r = 1\n",
    "for reg_dict in regions_profit:\n",
    "    print('95% Confidence Interval Region '+str(r)+':\\n Lower Bound:',\n",
    "          round(reg_dict['confidence_interval'][0], 2),'\\n Upper Bound:',round(reg_dict['confidence_interval'][1], 2))    \n",
    "    r += 1\n",
    "    print()"
   ]
  },
  {
   "cell_type": "code",
   "execution_count": 31,
   "metadata": {},
   "outputs": [
    {
     "name": "stdout",
     "output_type": "stream",
     "text": [
      "Risk of Losses for Region 1: 8.60%\n",
      "\n",
      "Risk of Losses for Region 2: 0.70%\n",
      "\n",
      "Risk of Losses for Region 3: 100.00%\n",
      "\n"
     ]
    }
   ],
   "source": [
    "# Finding risk of loss for each region\n",
    "r = 1\n",
    "for reg_dict in regions_profit:\n",
    "    print('Risk of Losses for Region '+str(r)+': {:.2%}'.format(reg_dict['loss_risk']))\n",
    "    r += 1\n",
    "    print()"
   ]
  },
  {
   "cell_type": "markdown",
   "metadata": {},
   "source": [
    "The highest 95% confidence interval is for Region 1, having both a higher lower and upper bound than the other two regions. Region 1 is about in the middle for risk of losses."
   ]
  },
  {
   "cell_type": "markdown",
   "metadata": {},
   "source": [
    "## Overall Conclusion"
   ]
  },
  {
   "cell_type": "markdown",
   "metadata": {},
   "source": [
    "Analyzing our overall data, the only region suitable for our purposes is Region 2 as our condition for choosing a region is a risk below 2.5%. Region 2 has the lowest risk at 1.8%, a very high confidence interval, but one of the lowest expected profit amounts.\n",
    "\n",
    "But, despite the shortcoming of expected profit, Region 2 is our only choice for our goals."
   ]
  }
 ],
 "metadata": {
  "ExecuteTimeLog": [
   {
    "duration": 559,
    "start_time": "2021-12-16T03:49:51.253Z"
   },
   {
    "duration": 303,
    "start_time": "2021-12-16T03:52:51.215Z"
   },
   {
    "duration": 428,
    "start_time": "2021-12-16T03:52:54.263Z"
   },
   {
    "duration": 16,
    "start_time": "2021-12-16T03:52:56.632Z"
   },
   {
    "duration": 13,
    "start_time": "2021-12-16T03:54:04.554Z"
   },
   {
    "duration": 234,
    "start_time": "2021-12-16T03:54:05.802Z"
   },
   {
    "duration": 12,
    "start_time": "2021-12-16T03:54:13.121Z"
   },
   {
    "duration": 12,
    "start_time": "2021-12-16T03:54:24.022Z"
   },
   {
    "duration": 14,
    "start_time": "2021-12-16T03:54:54.818Z"
   },
   {
    "duration": 15,
    "start_time": "2021-12-16T03:55:17.018Z"
   },
   {
    "duration": 16,
    "start_time": "2021-12-16T03:55:25.015Z"
   },
   {
    "duration": 245,
    "start_time": "2021-12-16T03:56:55.702Z"
   },
   {
    "duration": 268,
    "start_time": "2021-12-16T03:57:04.881Z"
   },
   {
    "duration": 250,
    "start_time": "2021-12-16T03:57:33.593Z"
   },
   {
    "duration": 262,
    "start_time": "2021-12-16T04:00:00.300Z"
   },
   {
    "duration": 34,
    "start_time": "2021-12-16T04:03:46.567Z"
   },
   {
    "duration": 18,
    "start_time": "2021-12-16T04:04:27.528Z"
   },
   {
    "duration": 921,
    "start_time": "2021-12-16T04:04:41.108Z"
   },
   {
    "duration": 24,
    "start_time": "2021-12-16T04:04:42.031Z"
   },
   {
    "duration": 33,
    "start_time": "2021-12-16T04:04:42.058Z"
   },
   {
    "duration": 16,
    "start_time": "2021-12-16T04:04:42.093Z"
   },
   {
    "duration": 18,
    "start_time": "2021-12-16T04:04:42.111Z"
   },
   {
    "duration": 11,
    "start_time": "2021-12-16T04:04:53.115Z"
   },
   {
    "duration": 86,
    "start_time": "2021-12-16T04:04:54.743Z"
   },
   {
    "duration": 12,
    "start_time": "2021-12-16T04:04:58.232Z"
   },
   {
    "duration": 11,
    "start_time": "2021-12-16T04:04:59.521Z"
   },
   {
    "duration": 7,
    "start_time": "2021-12-16T04:05:12.858Z"
   },
   {
    "duration": 18,
    "start_time": "2021-12-16T04:05:16.149Z"
   },
   {
    "duration": 53,
    "start_time": "2021-12-16T04:05:35.090Z"
   },
   {
    "duration": 19,
    "start_time": "2021-12-16T04:06:29.479Z"
   },
   {
    "duration": 320,
    "start_time": "2021-12-16T04:06:45.125Z"
   },
   {
    "duration": 6,
    "start_time": "2021-12-16T04:07:06.388Z"
   },
   {
    "duration": 15,
    "start_time": "2021-12-16T04:07:10.164Z"
   },
   {
    "duration": 1383,
    "start_time": "2021-12-16T04:07:18.711Z"
   },
   {
    "duration": 23,
    "start_time": "2021-12-16T04:07:20.096Z"
   },
   {
    "duration": 19,
    "start_time": "2021-12-16T04:07:20.121Z"
   },
   {
    "duration": 17,
    "start_time": "2021-12-16T04:07:20.142Z"
   },
   {
    "duration": 36,
    "start_time": "2021-12-16T04:07:20.161Z"
   },
   {
    "duration": 10,
    "start_time": "2021-12-16T04:07:20.199Z"
   },
   {
    "duration": 20,
    "start_time": "2021-12-16T04:07:20.210Z"
   },
   {
    "duration": 16,
    "start_time": "2021-12-16T04:08:34.520Z"
   },
   {
    "duration": 916,
    "start_time": "2021-12-16T04:08:41.063Z"
   },
   {
    "duration": 24,
    "start_time": "2021-12-16T04:08:41.981Z"
   },
   {
    "duration": 15,
    "start_time": "2021-12-16T04:08:42.007Z"
   },
   {
    "duration": 13,
    "start_time": "2021-12-16T04:08:42.024Z"
   },
   {
    "duration": 10,
    "start_time": "2021-12-16T04:08:42.039Z"
   },
   {
    "duration": 40,
    "start_time": "2021-12-16T04:08:42.050Z"
   },
   {
    "duration": 10,
    "start_time": "2021-12-16T04:08:42.092Z"
   },
   {
    "duration": 293,
    "start_time": "2021-12-16T04:09:01.380Z"
   },
   {
    "duration": 17,
    "start_time": "2021-12-16T04:09:04.771Z"
   },
   {
    "duration": 18,
    "start_time": "2021-12-16T04:09:06.045Z"
   },
   {
    "duration": 13,
    "start_time": "2021-12-16T04:12:30.673Z"
   },
   {
    "duration": 10,
    "start_time": "2021-12-16T04:12:39.092Z"
   },
   {
    "duration": 13,
    "start_time": "2021-12-16T04:13:07.680Z"
   },
   {
    "duration": 10,
    "start_time": "2021-12-16T04:13:57.243Z"
   },
   {
    "duration": 34,
    "start_time": "2021-12-16T04:14:08.181Z"
   },
   {
    "duration": 28,
    "start_time": "2021-12-16T04:14:13.031Z"
   },
   {
    "duration": 36,
    "start_time": "2021-12-16T04:14:18.423Z"
   },
   {
    "duration": 778,
    "start_time": "2021-12-16T04:16:42.383Z"
   },
   {
    "duration": 31,
    "start_time": "2021-12-16T04:19:48.075Z"
   },
   {
    "duration": 59,
    "start_time": "2021-12-16T04:21:03.239Z"
   },
   {
    "duration": 13,
    "start_time": "2021-12-16T04:21:40.174Z"
   },
   {
    "duration": 28,
    "start_time": "2021-12-16T04:21:49.235Z"
   },
   {
    "duration": 9,
    "start_time": "2021-12-16T04:21:57.099Z"
   },
   {
    "duration": 9,
    "start_time": "2021-12-16T04:22:00.367Z"
   },
   {
    "duration": 9,
    "start_time": "2021-12-16T04:22:01.951Z"
   },
   {
    "duration": 424,
    "start_time": "2021-12-16T04:24:26.947Z"
   },
   {
    "duration": 2006,
    "start_time": "2021-12-16T04:29:26.001Z"
   },
   {
    "duration": 271,
    "start_time": "2021-12-16T04:29:57.810Z"
   },
   {
    "duration": 1466,
    "start_time": "2021-12-16T04:29:58.279Z"
   },
   {
    "duration": 21,
    "start_time": "2021-12-16T04:29:59.747Z"
   },
   {
    "duration": 18,
    "start_time": "2021-12-16T04:29:59.770Z"
   },
   {
    "duration": 16,
    "start_time": "2021-12-16T04:29:59.790Z"
   },
   {
    "duration": 13,
    "start_time": "2021-12-16T04:29:59.808Z"
   },
   {
    "duration": 310,
    "start_time": "2021-12-16T04:29:59.822Z"
   },
   {
    "duration": -1808,
    "start_time": "2021-12-16T04:30:01.943Z"
   },
   {
    "duration": -1809,
    "start_time": "2021-12-16T04:30:01.945Z"
   },
   {
    "duration": 257,
    "start_time": "2021-12-16T04:30:05.056Z"
   },
   {
    "duration": 251,
    "start_time": "2021-12-16T04:30:24.536Z"
   },
   {
    "duration": 253,
    "start_time": "2021-12-16T04:30:28.947Z"
   },
   {
    "duration": 245,
    "start_time": "2021-12-16T04:30:42.337Z"
   },
   {
    "duration": 244,
    "start_time": "2021-12-16T04:31:17.467Z"
   },
   {
    "duration": 445,
    "start_time": "2021-12-16T04:31:30.936Z"
   },
   {
    "duration": 3,
    "start_time": "2021-12-16T04:32:33.360Z"
   },
   {
    "duration": 6,
    "start_time": "2021-12-16T04:34:18.480Z"
   },
   {
    "duration": 9,
    "start_time": "2021-12-16T04:35:00.056Z"
   },
   {
    "duration": 6124,
    "start_time": "2021-12-16T04:35:13.920Z"
   },
   {
    "duration": 6,
    "start_time": "2021-12-16T04:35:21.977Z"
   },
   {
    "duration": 6,
    "start_time": "2021-12-16T04:35:24.623Z"
   },
   {
    "duration": 7,
    "start_time": "2021-12-16T04:35:27.354Z"
   },
   {
    "duration": 7,
    "start_time": "2021-12-16T04:35:30.624Z"
   },
   {
    "duration": 8,
    "start_time": "2021-12-16T04:35:55.282Z"
   },
   {
    "duration": 17,
    "start_time": "2021-12-16T04:36:05.004Z"
   },
   {
    "duration": 271,
    "start_time": "2021-12-16T04:36:36.108Z"
   },
   {
    "duration": 10,
    "start_time": "2021-12-16T04:37:10.959Z"
   },
   {
    "duration": 11,
    "start_time": "2021-12-16T04:37:25.847Z"
   },
   {
    "duration": 330,
    "start_time": "2021-12-16T04:37:27.329Z"
   },
   {
    "duration": 10,
    "start_time": "2021-12-16T04:38:43.734Z"
   },
   {
    "duration": 260,
    "start_time": "2021-12-16T04:38:45.227Z"
   },
   {
    "duration": 10,
    "start_time": "2021-12-16T04:38:55.066Z"
   },
   {
    "duration": 273,
    "start_time": "2021-12-16T04:38:56.784Z"
   },
   {
    "duration": 1396,
    "start_time": "2021-12-16T04:39:04.041Z"
   },
   {
    "duration": 20,
    "start_time": "2021-12-16T04:39:05.438Z"
   },
   {
    "duration": 14,
    "start_time": "2021-12-16T04:39:05.460Z"
   },
   {
    "duration": 14,
    "start_time": "2021-12-16T04:39:05.488Z"
   },
   {
    "duration": 11,
    "start_time": "2021-12-16T04:39:05.504Z"
   },
   {
    "duration": 354,
    "start_time": "2021-12-16T04:39:05.517Z"
   },
   {
    "duration": 21,
    "start_time": "2021-12-16T04:39:05.873Z"
   },
   {
    "duration": 280,
    "start_time": "2021-12-16T04:39:05.896Z"
   },
   {
    "duration": 41,
    "start_time": "2021-12-16T04:39:06.177Z"
   },
   {
    "duration": 337,
    "start_time": "2021-12-16T04:39:06.219Z"
   },
   {
    "duration": 12,
    "start_time": "2021-12-16T04:39:13.508Z"
   },
   {
    "duration": 1354,
    "start_time": "2021-12-16T04:39:17.515Z"
   },
   {
    "duration": 33,
    "start_time": "2021-12-16T04:39:18.871Z"
   },
   {
    "duration": 23,
    "start_time": "2021-12-16T04:39:18.906Z"
   },
   {
    "duration": 21,
    "start_time": "2021-12-16T04:39:18.933Z"
   },
   {
    "duration": 40,
    "start_time": "2021-12-16T04:39:18.956Z"
   },
   {
    "duration": 440,
    "start_time": "2021-12-16T04:39:18.998Z"
   },
   {
    "duration": 13,
    "start_time": "2021-12-16T04:39:19.440Z"
   },
   {
    "duration": 310,
    "start_time": "2021-12-16T04:39:19.455Z"
   },
   {
    "duration": 42,
    "start_time": "2021-12-16T04:39:19.767Z"
   },
   {
    "duration": 364,
    "start_time": "2021-12-16T04:39:19.810Z"
   },
   {
    "duration": 20,
    "start_time": "2021-12-16T04:39:40.350Z"
   },
   {
    "duration": 282,
    "start_time": "2021-12-16T04:39:42.391Z"
   },
   {
    "duration": 273,
    "start_time": "2021-12-16T04:40:06.905Z"
   },
   {
    "duration": 16,
    "start_time": "2021-12-16T04:40:34.988Z"
   },
   {
    "duration": 333,
    "start_time": "2021-12-16T04:40:40.665Z"
   },
   {
    "duration": 280,
    "start_time": "2021-12-16T04:40:44.511Z"
   },
   {
    "duration": 1323,
    "start_time": "2021-12-16T04:40:48.889Z"
   },
   {
    "duration": 20,
    "start_time": "2021-12-16T04:40:50.213Z"
   },
   {
    "duration": 13,
    "start_time": "2021-12-16T04:40:50.235Z"
   },
   {
    "duration": 13,
    "start_time": "2021-12-16T04:40:50.250Z"
   },
   {
    "duration": 12,
    "start_time": "2021-12-16T04:40:50.287Z"
   },
   {
    "duration": 351,
    "start_time": "2021-12-16T04:40:50.301Z"
   },
   {
    "duration": 20,
    "start_time": "2021-12-16T04:40:50.653Z"
   },
   {
    "duration": 291,
    "start_time": "2021-12-16T04:40:50.675Z"
   },
   {
    "duration": 26,
    "start_time": "2021-12-16T04:40:50.967Z"
   },
   {
    "duration": 286,
    "start_time": "2021-12-16T04:40:50.994Z"
   },
   {
    "duration": 48,
    "start_time": "2021-12-16T04:40:51.281Z"
   },
   {
    "duration": 312,
    "start_time": "2021-12-16T04:40:51.331Z"
   },
   {
    "duration": 162,
    "start_time": "2021-12-16T04:41:40.386Z"
   },
   {
    "duration": 173,
    "start_time": "2021-12-16T04:41:55.823Z"
   },
   {
    "duration": 1330,
    "start_time": "2021-12-16T04:42:09.092Z"
   },
   {
    "duration": 21,
    "start_time": "2021-12-16T04:42:10.424Z"
   },
   {
    "duration": 14,
    "start_time": "2021-12-16T04:42:10.447Z"
   },
   {
    "duration": 34,
    "start_time": "2021-12-16T04:42:10.463Z"
   },
   {
    "duration": 11,
    "start_time": "2021-12-16T04:42:10.498Z"
   },
   {
    "duration": 353,
    "start_time": "2021-12-16T04:42:10.511Z"
   },
   {
    "duration": 24,
    "start_time": "2021-12-16T04:42:10.866Z"
   },
   {
    "duration": 280,
    "start_time": "2021-12-16T04:42:10.892Z"
   },
   {
    "duration": 22,
    "start_time": "2021-12-16T04:42:11.174Z"
   },
   {
    "duration": 111,
    "start_time": "2021-12-16T04:42:11.197Z"
   },
   {
    "duration": 283,
    "start_time": "2021-12-16T04:42:11.310Z"
   },
   {
    "duration": 41,
    "start_time": "2021-12-16T04:42:11.594Z"
   },
   {
    "duration": 401,
    "start_time": "2021-12-16T04:42:11.637Z"
   },
   {
    "duration": 268,
    "start_time": "2021-12-16T04:42:52.156Z"
   },
   {
    "duration": 17,
    "start_time": "2021-12-16T04:43:19.170Z"
   },
   {
    "duration": 117,
    "start_time": "2021-12-16T04:43:21.605Z"
   },
   {
    "duration": 114,
    "start_time": "2021-12-16T04:43:57.026Z"
   },
   {
    "duration": 263,
    "start_time": "2021-12-16T04:44:15.504Z"
   },
   {
    "duration": 18,
    "start_time": "2021-12-16T04:44:50.914Z"
   },
   {
    "duration": 115,
    "start_time": "2021-12-16T04:45:43.173Z"
   },
   {
    "duration": 270,
    "start_time": "2021-12-16T04:45:57.242Z"
   },
   {
    "duration": 244,
    "start_time": "2021-12-16T04:47:39.868Z"
   },
   {
    "duration": 237,
    "start_time": "2021-12-16T04:47:43.913Z"
   },
   {
    "duration": 265,
    "start_time": "2021-12-16T04:49:45.540Z"
   },
   {
    "duration": 87,
    "start_time": "2021-12-16T04:52:16.353Z"
   },
   {
    "duration": 171,
    "start_time": "2021-12-16T04:52:19.008Z"
   },
   {
    "duration": 203,
    "start_time": "2021-12-16T04:52:21.107Z"
   },
   {
    "duration": 110,
    "start_time": "2021-12-16T04:52:55.107Z"
   },
   {
    "duration": 18,
    "start_time": "2021-12-16T04:53:12.181Z"
   },
   {
    "duration": 11,
    "start_time": "2021-12-16T04:53:30.158Z"
   },
   {
    "duration": 14,
    "start_time": "2021-12-16T04:53:37.300Z"
   },
   {
    "duration": 14,
    "start_time": "2021-12-16T04:53:43.139Z"
   },
   {
    "duration": 14,
    "start_time": "2021-12-16T04:53:44.679Z"
   },
   {
    "duration": 13,
    "start_time": "2021-12-16T04:53:45.967Z"
   },
   {
    "duration": 20,
    "start_time": "2021-12-16T04:55:10.982Z"
   },
   {
    "duration": 81,
    "start_time": "2021-12-16T04:56:12.555Z"
   },
   {
    "duration": 13,
    "start_time": "2021-12-16T04:56:15.822Z"
   },
   {
    "duration": 13,
    "start_time": "2021-12-16T04:57:01.852Z"
   },
   {
    "duration": 1435,
    "start_time": "2021-12-16T04:57:06.786Z"
   },
   {
    "duration": 31,
    "start_time": "2021-12-16T04:57:08.223Z"
   },
   {
    "duration": 21,
    "start_time": "2021-12-16T04:57:08.256Z"
   },
   {
    "duration": 23,
    "start_time": "2021-12-16T04:57:08.288Z"
   },
   {
    "duration": 14,
    "start_time": "2021-12-16T04:57:08.313Z"
   },
   {
    "duration": 560,
    "start_time": "2021-12-16T04:57:08.329Z"
   },
   {
    "duration": 17,
    "start_time": "2021-12-16T04:57:08.891Z"
   },
   {
    "duration": 183,
    "start_time": "2021-12-16T04:57:08.911Z"
   },
   {
    "duration": 437,
    "start_time": "2021-12-16T04:57:09.096Z"
   },
   {
    "duration": 12,
    "start_time": "2021-12-16T04:57:09.535Z"
   },
   {
    "duration": 128,
    "start_time": "2021-12-16T04:57:09.549Z"
   },
   {
    "duration": 276,
    "start_time": "2021-12-16T04:57:09.679Z"
   },
   {
    "duration": 32,
    "start_time": "2021-12-16T04:57:09.957Z"
   },
   {
    "duration": 109,
    "start_time": "2021-12-16T04:57:09.991Z"
   },
   {
    "duration": 304,
    "start_time": "2021-12-16T04:57:10.101Z"
   },
   {
    "duration": 114,
    "start_time": "2021-12-16T04:57:45.747Z"
   },
   {
    "duration": 159,
    "start_time": "2021-12-16T04:58:52.883Z"
   },
   {
    "duration": 1627,
    "start_time": "2021-12-16T05:01:34.428Z"
   },
   {
    "duration": 36,
    "start_time": "2021-12-16T05:01:36.058Z"
   },
   {
    "duration": 23,
    "start_time": "2021-12-16T05:01:36.097Z"
   },
   {
    "duration": 39,
    "start_time": "2021-12-16T05:01:36.122Z"
   },
   {
    "duration": 14,
    "start_time": "2021-12-16T05:01:36.164Z"
   },
   {
    "duration": 545,
    "start_time": "2021-12-16T05:01:36.188Z"
   },
   {
    "duration": 16,
    "start_time": "2021-12-16T05:01:36.735Z"
   },
   {
    "duration": 172,
    "start_time": "2021-12-16T05:01:36.753Z"
   },
   {
    "duration": 407,
    "start_time": "2021-12-16T05:01:36.927Z"
   },
   {
    "duration": 14,
    "start_time": "2021-12-16T05:01:37.336Z"
   },
   {
    "duration": 182,
    "start_time": "2021-12-16T05:01:37.351Z"
   },
   {
    "duration": 427,
    "start_time": "2021-12-16T05:01:37.535Z"
   },
   {
    "duration": 32,
    "start_time": "2021-12-16T05:01:37.964Z"
   },
   {
    "duration": 311,
    "start_time": "2021-12-16T05:01:37.998Z"
   },
   {
    "duration": 53,
    "start_time": "2021-12-16T05:01:38.311Z"
   },
   {
    "duration": 357,
    "start_time": "2021-12-16T05:01:38.366Z"
   },
   {
    "duration": 37,
    "start_time": "2021-12-16T05:06:34.221Z"
   },
   {
    "duration": 1333,
    "start_time": "2021-12-16T05:07:28.026Z"
   },
   {
    "duration": 28,
    "start_time": "2021-12-16T05:07:29.360Z"
   },
   {
    "duration": 16,
    "start_time": "2021-12-16T05:07:29.391Z"
   },
   {
    "duration": 15,
    "start_time": "2021-12-16T05:07:29.409Z"
   },
   {
    "duration": 12,
    "start_time": "2021-12-16T05:07:29.452Z"
   },
   {
    "duration": 354,
    "start_time": "2021-12-16T05:07:29.466Z"
   },
   {
    "duration": 12,
    "start_time": "2021-12-16T05:07:29.822Z"
   },
   {
    "duration": 129,
    "start_time": "2021-12-16T05:07:29.836Z"
   },
   {
    "duration": 294,
    "start_time": "2021-12-16T05:07:29.967Z"
   },
   {
    "duration": 11,
    "start_time": "2021-12-16T05:07:30.263Z"
   },
   {
    "duration": 126,
    "start_time": "2021-12-16T05:07:30.275Z"
   },
   {
    "duration": 290,
    "start_time": "2021-12-16T05:07:30.402Z"
   },
   {
    "duration": 22,
    "start_time": "2021-12-16T05:07:30.694Z"
   },
   {
    "duration": 247,
    "start_time": "2021-12-16T05:07:30.717Z"
   },
   {
    "duration": 52,
    "start_time": "2021-12-16T05:07:30.966Z"
   },
   {
    "duration": 377,
    "start_time": "2021-12-16T05:07:31.019Z"
   },
   {
    "duration": 12,
    "start_time": "2021-12-16T05:13:04.978Z"
   },
   {
    "duration": 304,
    "start_time": "2021-12-16T05:15:23.090Z"
   },
   {
    "duration": 294,
    "start_time": "2021-12-16T05:15:35.669Z"
   },
   {
    "duration": 290,
    "start_time": "2021-12-16T05:15:57.257Z"
   },
   {
    "duration": 347,
    "start_time": "2021-12-16T05:16:16.809Z"
   },
   {
    "duration": 341,
    "start_time": "2021-12-16T05:17:03.927Z"
   },
   {
    "duration": 321,
    "start_time": "2021-12-16T05:17:33.644Z"
   },
   {
    "duration": 353,
    "start_time": "2021-12-16T05:17:42.826Z"
   },
   {
    "duration": 347,
    "start_time": "2021-12-16T05:17:47.704Z"
   },
   {
    "duration": 265,
    "start_time": "2021-12-16T05:17:57.109Z"
   },
   {
    "duration": 81,
    "start_time": "2021-12-16T05:19:56.154Z"
   },
   {
    "duration": 17,
    "start_time": "2021-12-16T05:19:59.891Z"
   },
   {
    "duration": 11,
    "start_time": "2021-12-16T05:20:02.759Z"
   },
   {
    "duration": 264,
    "start_time": "2021-12-16T05:20:21.621Z"
   },
   {
    "duration": 234,
    "start_time": "2021-12-16T05:20:35.426Z"
   },
   {
    "duration": 244,
    "start_time": "2021-12-16T05:20:57.176Z"
   },
   {
    "duration": 22,
    "start_time": "2021-12-16T05:21:24.565Z"
   },
   {
    "duration": 11,
    "start_time": "2021-12-16T05:21:30.273Z"
   },
   {
    "duration": 11,
    "start_time": "2021-12-16T05:22:31.593Z"
   },
   {
    "duration": 12,
    "start_time": "2021-12-16T05:22:33.678Z"
   },
   {
    "duration": 16,
    "start_time": "2021-12-16T05:38:20.630Z"
   },
   {
    "duration": 12,
    "start_time": "2021-12-16T05:38:22.325Z"
   },
   {
    "duration": 11,
    "start_time": "2021-12-16T05:38:23.821Z"
   },
   {
    "duration": 3,
    "start_time": "2021-12-16T05:55:27.107Z"
   },
   {
    "duration": 16,
    "start_time": "2021-12-16T06:01:26.026Z"
   },
   {
    "duration": 13,
    "start_time": "2021-12-16T06:01:46.743Z"
   },
   {
    "duration": 13,
    "start_time": "2021-12-16T06:01:48.037Z"
   },
   {
    "duration": 14,
    "start_time": "2021-12-16T06:01:57.199Z"
   },
   {
    "duration": 3,
    "start_time": "2021-12-16T06:06:11.800Z"
   },
   {
    "duration": 253,
    "start_time": "2021-12-16T06:06:14.481Z"
   },
   {
    "duration": 280,
    "start_time": "2021-12-16T06:06:29.740Z"
   },
   {
    "duration": 7,
    "start_time": "2021-12-16T06:06:39.735Z"
   },
   {
    "duration": 5,
    "start_time": "2021-12-16T06:06:51.617Z"
   },
   {
    "duration": 5,
    "start_time": "2021-12-16T06:07:20.796Z"
   },
   {
    "duration": 5,
    "start_time": "2021-12-16T06:07:49.268Z"
   },
   {
    "duration": 377,
    "start_time": "2021-12-16T06:13:06.675Z"
   },
   {
    "duration": 251,
    "start_time": "2021-12-16T06:13:14.505Z"
   },
   {
    "duration": 266,
    "start_time": "2021-12-16T06:13:58.022Z"
   },
   {
    "duration": 78,
    "start_time": "2021-12-16T06:14:22.811Z"
   },
   {
    "duration": 289,
    "start_time": "2021-12-16T06:14:24.118Z"
   },
   {
    "duration": 245,
    "start_time": "2021-12-16T06:14:43.806Z"
   },
   {
    "duration": 21,
    "start_time": "2021-12-16T06:14:49.788Z"
   },
   {
    "duration": 18,
    "start_time": "2021-12-16T06:15:18.972Z"
   },
   {
    "duration": 17,
    "start_time": "2021-12-16T06:16:24.241Z"
   },
   {
    "duration": 234,
    "start_time": "2021-12-16T06:20:01.630Z"
   },
   {
    "duration": 4,
    "start_time": "2021-12-16T06:20:09.196Z"
   },
   {
    "duration": 10,
    "start_time": "2021-12-16T06:20:15.769Z"
   },
   {
    "duration": 10,
    "start_time": "2021-12-16T06:20:35.267Z"
   },
   {
    "duration": 10,
    "start_time": "2021-12-16T06:21:00.107Z"
   },
   {
    "duration": 10,
    "start_time": "2021-12-16T06:21:08.304Z"
   },
   {
    "duration": 10,
    "start_time": "2021-12-16T06:21:17.821Z"
   },
   {
    "duration": 11,
    "start_time": "2021-12-16T06:21:22.698Z"
   },
   {
    "duration": 11,
    "start_time": "2021-12-16T06:21:28.999Z"
   },
   {
    "duration": 5,
    "start_time": "2021-12-16T06:21:36.296Z"
   },
   {
    "duration": 4,
    "start_time": "2021-12-16T06:21:38.843Z"
   },
   {
    "duration": 5,
    "start_time": "2021-12-16T06:21:44.844Z"
   },
   {
    "duration": 4,
    "start_time": "2021-12-16T06:21:53.273Z"
   },
   {
    "duration": 10,
    "start_time": "2021-12-16T06:21:58.977Z"
   },
   {
    "duration": 8,
    "start_time": "2021-12-16T06:23:56.970Z"
   },
   {
    "duration": 8,
    "start_time": "2021-12-16T06:24:03.831Z"
   },
   {
    "duration": 8,
    "start_time": "2021-12-16T06:24:50.817Z"
   },
   {
    "duration": 14,
    "start_time": "2021-12-16T06:25:37.168Z"
   },
   {
    "duration": 17,
    "start_time": "2021-12-16T06:25:46.807Z"
   },
   {
    "duration": 11,
    "start_time": "2021-12-16T06:25:51.747Z"
   },
   {
    "duration": 80,
    "start_time": "2021-12-16T06:28:13.912Z"
   },
   {
    "duration": 11,
    "start_time": "2021-12-16T06:28:23.348Z"
   },
   {
    "duration": 19,
    "start_time": "2021-12-16T06:28:46.880Z"
   },
   {
    "duration": 12,
    "start_time": "2021-12-16T06:29:01.380Z"
   },
   {
    "duration": 14,
    "start_time": "2021-12-16T06:34:47.676Z"
   },
   {
    "duration": 10,
    "start_time": "2021-12-16T06:34:48.963Z"
   },
   {
    "duration": 13,
    "start_time": "2021-12-16T06:34:59.320Z"
   },
   {
    "duration": 9,
    "start_time": "2021-12-16T06:35:00.543Z"
   },
   {
    "duration": 4,
    "start_time": "2021-12-16T06:35:19.996Z"
   },
   {
    "duration": 11,
    "start_time": "2021-12-16T06:35:21.420Z"
   },
   {
    "duration": 5,
    "start_time": "2021-12-16T06:38:10.143Z"
   },
   {
    "duration": 4,
    "start_time": "2021-12-16T06:38:28.011Z"
   },
   {
    "duration": 4,
    "start_time": "2021-12-16T06:38:43.417Z"
   },
   {
    "duration": 21,
    "start_time": "2021-12-16T06:41:57.968Z"
   },
   {
    "duration": 14,
    "start_time": "2021-12-16T06:42:01.007Z"
   },
   {
    "duration": 10,
    "start_time": "2021-12-16T06:42:05.485Z"
   },
   {
    "duration": 17,
    "start_time": "2021-12-16T06:42:34.044Z"
   },
   {
    "duration": 11,
    "start_time": "2021-12-16T06:42:35.620Z"
   },
   {
    "duration": 17,
    "start_time": "2021-12-16T06:42:58.666Z"
   },
   {
    "duration": 12,
    "start_time": "2021-12-16T06:42:59.946Z"
   },
   {
    "duration": 20,
    "start_time": "2021-12-16T06:43:24.590Z"
   },
   {
    "duration": 13,
    "start_time": "2021-12-16T06:43:26.465Z"
   },
   {
    "duration": 7,
    "start_time": "2021-12-16T06:46:24.362Z"
   },
   {
    "duration": 12,
    "start_time": "2021-12-16T06:46:39.248Z"
   },
   {
    "duration": 9,
    "start_time": "2021-12-16T06:46:48.478Z"
   },
   {
    "duration": 9,
    "start_time": "2021-12-16T06:47:06.623Z"
   },
   {
    "duration": 8,
    "start_time": "2021-12-16T06:47:19.154Z"
   },
   {
    "duration": 5,
    "start_time": "2021-12-16T06:47:46.067Z"
   },
   {
    "duration": 5,
    "start_time": "2021-12-16T06:48:26.592Z"
   },
   {
    "duration": 5,
    "start_time": "2021-12-16T06:48:39.632Z"
   },
   {
    "duration": 5,
    "start_time": "2021-12-16T06:48:52.290Z"
   },
   {
    "duration": 17,
    "start_time": "2021-12-16T06:54:36.783Z"
   },
   {
    "duration": 5,
    "start_time": "2021-12-16T06:54:38.149Z"
   },
   {
    "duration": 256,
    "start_time": "2021-12-16T07:10:29.300Z"
   },
   {
    "duration": 353,
    "start_time": "2021-12-16T07:10:40.899Z"
   },
   {
    "duration": 4,
    "start_time": "2021-12-16T07:10:47.035Z"
   },
   {
    "duration": 289,
    "start_time": "2021-12-16T07:11:14.243Z"
   },
   {
    "duration": 490,
    "start_time": "2021-12-16T07:12:56.670Z"
   },
   {
    "duration": 4,
    "start_time": "2021-12-16T07:14:15.605Z"
   },
   {
    "duration": 503,
    "start_time": "2021-12-16T07:14:16.967Z"
   },
   {
    "duration": 5,
    "start_time": "2021-12-16T07:14:27.002Z"
   },
   {
    "duration": 831,
    "start_time": "2021-12-16T07:14:29.415Z"
   },
   {
    "duration": 4,
    "start_time": "2021-12-16T07:15:24.810Z"
   },
   {
    "duration": 480,
    "start_time": "2021-12-16T07:15:26.651Z"
   },
   {
    "duration": 7,
    "start_time": "2021-12-16T07:16:13.124Z"
   },
   {
    "duration": 489,
    "start_time": "2021-12-16T07:16:14.892Z"
   },
   {
    "duration": 487,
    "start_time": "2021-12-16T07:16:58.934Z"
   },
   {
    "duration": 4,
    "start_time": "2021-12-16T07:17:05.434Z"
   },
   {
    "duration": 661,
    "start_time": "2021-12-16T07:17:06.848Z"
   },
   {
    "duration": 5,
    "start_time": "2021-12-16T07:18:08.795Z"
   },
   {
    "duration": 14910,
    "start_time": "2021-12-16T07:18:10.362Z"
   },
   {
    "duration": 6,
    "start_time": "2021-12-16T07:18:32.961Z"
   },
   {
    "duration": 6,
    "start_time": "2021-12-16T07:19:32.701Z"
   },
   {
    "duration": 8896,
    "start_time": "2021-12-16T07:19:35.383Z"
   },
   {
    "duration": 5,
    "start_time": "2021-12-16T07:19:45.950Z"
   },
   {
    "duration": 10265,
    "start_time": "2021-12-16T07:20:27.632Z"
   },
   {
    "duration": 273,
    "start_time": "2021-12-16T07:20:43.739Z"
   },
   {
    "duration": 8,
    "start_time": "2021-12-16T07:20:51.760Z"
   },
   {
    "duration": 4,
    "start_time": "2021-12-16T07:22:32.348Z"
   },
   {
    "duration": 3,
    "start_time": "2021-12-16T07:25:36.795Z"
   },
   {
    "duration": 249,
    "start_time": "2021-12-16T07:26:34.475Z"
   },
   {
    "duration": 249,
    "start_time": "2021-12-16T07:27:35.470Z"
   },
   {
    "duration": 1656,
    "start_time": "2021-12-17T05:15:11.867Z"
   },
   {
    "duration": 32,
    "start_time": "2021-12-17T05:15:13.525Z"
   },
   {
    "duration": 22,
    "start_time": "2021-12-17T05:15:13.561Z"
   },
   {
    "duration": 53,
    "start_time": "2021-12-17T05:15:13.586Z"
   },
   {
    "duration": 15,
    "start_time": "2021-12-17T05:15:13.641Z"
   },
   {
    "duration": 614,
    "start_time": "2021-12-17T05:15:13.659Z"
   },
   {
    "duration": 17,
    "start_time": "2021-12-17T05:15:14.275Z"
   },
   {
    "duration": 208,
    "start_time": "2021-12-17T05:15:14.296Z"
   },
   {
    "duration": 485,
    "start_time": "2021-12-17T05:15:14.507Z"
   },
   {
    "duration": 28,
    "start_time": "2021-12-17T05:15:14.995Z"
   },
   {
    "duration": 198,
    "start_time": "2021-12-17T05:15:15.025Z"
   },
   {
    "duration": 455,
    "start_time": "2021-12-17T05:15:15.225Z"
   },
   {
    "duration": 41,
    "start_time": "2021-12-17T05:15:15.682Z"
   },
   {
    "duration": 334,
    "start_time": "2021-12-17T05:15:15.725Z"
   },
   {
    "duration": 76,
    "start_time": "2021-12-17T05:15:16.062Z"
   },
   {
    "duration": 21,
    "start_time": "2021-12-17T05:15:16.141Z"
   },
   {
    "duration": 161,
    "start_time": "2021-12-17T05:15:16.164Z"
   },
   {
    "duration": 107,
    "start_time": "2021-12-17T05:15:16.328Z"
   },
   {
    "duration": 99,
    "start_time": "2021-12-17T05:15:16.524Z"
   },
   {
    "duration": 7,
    "start_time": "2021-12-17T05:15:16.626Z"
   },
   {
    "duration": 10,
    "start_time": "2021-12-17T05:15:16.635Z"
   },
   {
    "duration": 31,
    "start_time": "2021-12-17T05:15:16.647Z"
   },
   {
    "duration": 44,
    "start_time": "2021-12-17T05:15:16.684Z"
   },
   {
    "duration": 387,
    "start_time": "2021-12-17T05:15:16.730Z"
   },
   {
    "duration": -3587,
    "start_time": "2021-12-17T05:15:20.707Z"
   },
   {
    "duration": -3593,
    "start_time": "2021-12-17T05:15:20.714Z"
   },
   {
    "duration": 5,
    "start_time": "2021-12-17T05:16:44.007Z"
   },
   {
    "duration": 284,
    "start_time": "2021-12-17T05:19:15.016Z"
   },
   {
    "duration": 268,
    "start_time": "2021-12-17T05:19:22.324Z"
   },
   {
    "duration": 278,
    "start_time": "2021-12-17T05:22:07.509Z"
   },
   {
    "duration": 286,
    "start_time": "2021-12-17T05:22:51.136Z"
   },
   {
    "duration": 11,
    "start_time": "2021-12-17T05:23:00.308Z"
   },
   {
    "duration": 567,
    "start_time": "2021-12-17T05:23:13.018Z"
   },
   {
    "duration": 8,
    "start_time": "2021-12-17T05:24:59.692Z"
   },
   {
    "duration": 1926,
    "start_time": "2021-12-17T05:25:05.728Z"
   },
   {
    "duration": 424,
    "start_time": "2021-12-17T05:25:37.551Z"
   },
   {
    "duration": 7,
    "start_time": "2021-12-17T05:25:46.236Z"
   },
   {
    "duration": 4921,
    "start_time": "2021-12-17T05:25:51.364Z"
   },
   {
    "duration": 306,
    "start_time": "2021-12-17T05:26:25.266Z"
   },
   {
    "duration": 6,
    "start_time": "2021-12-17T05:26:50.694Z"
   },
   {
    "duration": 580,
    "start_time": "2021-12-17T05:26:55.012Z"
   },
   {
    "duration": 428,
    "start_time": "2021-12-17T05:27:15.355Z"
   },
   {
    "duration": 939,
    "start_time": "2021-12-17T05:27:19.098Z"
   },
   {
    "duration": 496,
    "start_time": "2021-12-17T05:27:33.937Z"
   },
   {
    "duration": 942,
    "start_time": "2021-12-17T05:27:39.967Z"
   },
   {
    "duration": 4331,
    "start_time": "2021-12-17T05:28:23.704Z"
   },
   {
    "duration": 3380,
    "start_time": "2021-12-17T05:28:30.399Z"
   },
   {
    "duration": 1024,
    "start_time": "2021-12-17T05:28:55.250Z"
   },
   {
    "duration": 1835,
    "start_time": "2021-12-17T05:29:05.777Z"
   },
   {
    "duration": 101,
    "start_time": "2021-12-17T05:29:07.614Z"
   },
   {
    "duration": -3384,
    "start_time": "2021-12-17T05:29:11.103Z"
   },
   {
    "duration": -3386,
    "start_time": "2021-12-17T05:29:11.106Z"
   },
   {
    "duration": -3389,
    "start_time": "2021-12-17T05:29:11.111Z"
   },
   {
    "duration": -3392,
    "start_time": "2021-12-17T05:29:11.115Z"
   },
   {
    "duration": -3393,
    "start_time": "2021-12-17T05:29:11.117Z"
   },
   {
    "duration": -3393,
    "start_time": "2021-12-17T05:29:11.119Z"
   },
   {
    "duration": -3396,
    "start_time": "2021-12-17T05:29:11.123Z"
   },
   {
    "duration": -3397,
    "start_time": "2021-12-17T05:29:11.125Z"
   },
   {
    "duration": -3406,
    "start_time": "2021-12-17T05:29:11.135Z"
   },
   {
    "duration": -3407,
    "start_time": "2021-12-17T05:29:11.138Z"
   },
   {
    "duration": -3461,
    "start_time": "2021-12-17T05:29:11.193Z"
   },
   {
    "duration": -3463,
    "start_time": "2021-12-17T05:29:11.196Z"
   },
   {
    "duration": -3472,
    "start_time": "2021-12-17T05:29:11.207Z"
   },
   {
    "duration": -3473,
    "start_time": "2021-12-17T05:29:11.209Z"
   },
   {
    "duration": -3476,
    "start_time": "2021-12-17T05:29:11.213Z"
   },
   {
    "duration": -3480,
    "start_time": "2021-12-17T05:29:11.218Z"
   },
   {
    "duration": -3481,
    "start_time": "2021-12-17T05:29:11.221Z"
   },
   {
    "duration": -3483,
    "start_time": "2021-12-17T05:29:11.224Z"
   },
   {
    "duration": -3484,
    "start_time": "2021-12-17T05:29:11.226Z"
   },
   {
    "duration": -3494,
    "start_time": "2021-12-17T05:29:11.237Z"
   },
   {
    "duration": -3496,
    "start_time": "2021-12-17T05:29:11.240Z"
   },
   {
    "duration": -3499,
    "start_time": "2021-12-17T05:29:11.244Z"
   },
   {
    "duration": -3502,
    "start_time": "2021-12-17T05:29:11.249Z"
   },
   {
    "duration": -3504,
    "start_time": "2021-12-17T05:29:11.252Z"
   },
   {
    "duration": -3507,
    "start_time": "2021-12-17T05:29:11.256Z"
   },
   {
    "duration": -3512,
    "start_time": "2021-12-17T05:29:11.263Z"
   },
   {
    "duration": -3514,
    "start_time": "2021-12-17T05:29:11.266Z"
   },
   {
    "duration": -3515,
    "start_time": "2021-12-17T05:29:11.268Z"
   },
   {
    "duration": 82,
    "start_time": "2021-12-17T05:29:51.954Z"
   },
   {
    "duration": 3261,
    "start_time": "2021-12-17T05:29:55.507Z"
   },
   {
    "duration": 1894,
    "start_time": "2021-12-17T05:30:05.916Z"
   },
   {
    "duration": 3232,
    "start_time": "2021-12-17T05:30:07.813Z"
   },
   {
    "duration": 32,
    "start_time": "2021-12-17T05:30:11.048Z"
   },
   {
    "duration": 25,
    "start_time": "2021-12-17T05:30:11.083Z"
   },
   {
    "duration": 33,
    "start_time": "2021-12-17T05:30:11.111Z"
   },
   {
    "duration": 18,
    "start_time": "2021-12-17T05:30:11.147Z"
   },
   {
    "duration": 504,
    "start_time": "2021-12-17T05:30:11.168Z"
   },
   {
    "duration": 19,
    "start_time": "2021-12-17T05:30:11.675Z"
   },
   {
    "duration": 230,
    "start_time": "2021-12-17T05:30:11.696Z"
   },
   {
    "duration": 495,
    "start_time": "2021-12-17T05:30:11.928Z"
   },
   {
    "duration": 15,
    "start_time": "2021-12-17T05:30:12.425Z"
   },
   {
    "duration": 197,
    "start_time": "2021-12-17T05:30:12.442Z"
   },
   {
    "duration": 555,
    "start_time": "2021-12-17T05:30:12.641Z"
   },
   {
    "duration": 46,
    "start_time": "2021-12-17T05:30:13.199Z"
   },
   {
    "duration": 268,
    "start_time": "2021-12-17T05:30:13.248Z"
   },
   {
    "duration": 56,
    "start_time": "2021-12-17T05:30:13.523Z"
   },
   {
    "duration": 144,
    "start_time": "2021-12-17T05:30:13.581Z"
   },
   {
    "duration": 95,
    "start_time": "2021-12-17T05:30:13.728Z"
   },
   {
    "duration": 14,
    "start_time": "2021-12-17T05:30:13.826Z"
   },
   {
    "duration": 90,
    "start_time": "2021-12-17T05:30:13.843Z"
   },
   {
    "duration": 5,
    "start_time": "2021-12-17T05:30:13.936Z"
   },
   {
    "duration": 87,
    "start_time": "2021-12-17T05:30:13.944Z"
   },
   {
    "duration": 26,
    "start_time": "2021-12-17T05:30:14.036Z"
   },
   {
    "duration": 7,
    "start_time": "2021-12-17T05:30:14.064Z"
   },
   {
    "duration": 6,
    "start_time": "2021-12-17T05:30:14.073Z"
   },
   {
    "duration": 43,
    "start_time": "2021-12-17T05:30:14.081Z"
   },
   {
    "duration": 11,
    "start_time": "2021-12-17T05:30:14.126Z"
   },
   {
    "duration": 4871,
    "start_time": "2021-12-17T05:30:14.140Z"
   },
   {
    "duration": 10,
    "start_time": "2021-12-17T05:30:19.013Z"
   },
   {
    "duration": 2111,
    "start_time": "2021-12-17T05:30:19.026Z"
   },
   {
    "duration": 9,
    "start_time": "2021-12-17T05:31:21.690Z"
   },
   {
    "duration": 8,
    "start_time": "2021-12-17T05:31:48.523Z"
   },
   {
    "duration": 8,
    "start_time": "2021-12-17T05:31:58.172Z"
   },
   {
    "duration": 7,
    "start_time": "2021-12-17T05:32:12.058Z"
   },
   {
    "duration": 6,
    "start_time": "2021-12-17T05:32:15.201Z"
   },
   {
    "duration": 2431,
    "start_time": "2021-12-17T05:35:29.694Z"
   },
   {
    "duration": 3197,
    "start_time": "2021-12-17T05:35:32.127Z"
   },
   {
    "duration": 32,
    "start_time": "2021-12-17T05:35:35.327Z"
   },
   {
    "duration": 24,
    "start_time": "2021-12-17T05:35:35.361Z"
   },
   {
    "duration": 52,
    "start_time": "2021-12-17T05:35:35.388Z"
   },
   {
    "duration": 15,
    "start_time": "2021-12-17T05:35:35.442Z"
   },
   {
    "duration": 510,
    "start_time": "2021-12-17T05:35:35.459Z"
   },
   {
    "duration": 17,
    "start_time": "2021-12-17T05:35:35.973Z"
   },
   {
    "duration": 221,
    "start_time": "2021-12-17T05:35:35.992Z"
   },
   {
    "duration": 488,
    "start_time": "2021-12-17T05:35:36.215Z"
   },
   {
    "duration": 23,
    "start_time": "2021-12-17T05:35:36.705Z"
   },
   {
    "duration": 192,
    "start_time": "2021-12-17T05:35:36.731Z"
   },
   {
    "duration": 546,
    "start_time": "2021-12-17T05:35:36.925Z"
   },
   {
    "duration": 28,
    "start_time": "2021-12-17T05:35:37.474Z"
   },
   {
    "duration": 266,
    "start_time": "2021-12-17T05:35:37.504Z"
   },
   {
    "duration": 73,
    "start_time": "2021-12-17T05:35:37.772Z"
   },
   {
    "duration": 178,
    "start_time": "2021-12-17T05:35:37.847Z"
   },
   {
    "duration": 103,
    "start_time": "2021-12-17T05:35:38.028Z"
   },
   {
    "duration": 104,
    "start_time": "2021-12-17T05:35:38.134Z"
   },
   {
    "duration": 185,
    "start_time": "2021-12-17T05:35:38.240Z"
   },
   {
    "duration": 5,
    "start_time": "2021-12-17T05:35:38.427Z"
   },
   {
    "duration": 18,
    "start_time": "2021-12-17T05:35:38.435Z"
   },
   {
    "duration": 33,
    "start_time": "2021-12-17T05:35:38.459Z"
   },
   {
    "duration": 28,
    "start_time": "2021-12-17T05:35:38.495Z"
   },
   {
    "duration": 5,
    "start_time": "2021-12-17T05:35:38.526Z"
   },
   {
    "duration": 32,
    "start_time": "2021-12-17T05:35:38.535Z"
   },
   {
    "duration": 44,
    "start_time": "2021-12-17T05:35:38.570Z"
   },
   {
    "duration": 4828,
    "start_time": "2021-12-17T05:35:38.617Z"
   },
   {
    "duration": 7,
    "start_time": "2021-12-17T05:35:43.447Z"
   },
   {
    "duration": 2125,
    "start_time": "2021-12-17T05:35:43.456Z"
   },
   {
    "duration": 7,
    "start_time": "2021-12-17T05:35:45.583Z"
   },
   {
    "duration": 32,
    "start_time": "2021-12-17T05:35:45.592Z"
   },
   {
    "duration": 10,
    "start_time": "2021-12-17T05:36:37.641Z"
   },
   {
    "duration": 10,
    "start_time": "2021-12-17T05:37:57.973Z"
   },
   {
    "duration": 4922,
    "start_time": "2021-12-17T05:39:33.195Z"
   },
   {
    "duration": 6,
    "start_time": "2021-12-17T05:39:43.684Z"
   },
   {
    "duration": 2177,
    "start_time": "2021-12-17T05:39:45.110Z"
   },
   {
    "duration": 2846,
    "start_time": "2021-12-17T05:39:49.030Z"
   },
   {
    "duration": 5501,
    "start_time": "2021-12-17T05:40:48.101Z"
   },
   {
    "duration": 3609,
    "start_time": "2021-12-17T05:40:53.604Z"
   },
   {
    "duration": 34,
    "start_time": "2021-12-17T05:40:57.217Z"
   },
   {
    "duration": 24,
    "start_time": "2021-12-17T05:40:57.255Z"
   },
   {
    "duration": 49,
    "start_time": "2021-12-17T05:40:57.281Z"
   },
   {
    "duration": 15,
    "start_time": "2021-12-17T05:40:57.332Z"
   },
   {
    "duration": 489,
    "start_time": "2021-12-17T05:40:57.350Z"
   },
   {
    "duration": 17,
    "start_time": "2021-12-17T05:40:57.843Z"
   },
   {
    "duration": 219,
    "start_time": "2021-12-17T05:40:57.863Z"
   },
   {
    "duration": 533,
    "start_time": "2021-12-17T05:40:58.084Z"
   },
   {
    "duration": 16,
    "start_time": "2021-12-17T05:40:58.620Z"
   },
   {
    "duration": 204,
    "start_time": "2021-12-17T05:40:58.638Z"
   },
   {
    "duration": 539,
    "start_time": "2021-12-17T05:40:58.845Z"
   },
   {
    "duration": 40,
    "start_time": "2021-12-17T05:40:59.387Z"
   },
   {
    "duration": 272,
    "start_time": "2021-12-17T05:40:59.429Z"
   },
   {
    "duration": 64,
    "start_time": "2021-12-17T05:40:59.703Z"
   },
   {
    "duration": 155,
    "start_time": "2021-12-17T05:40:59.770Z"
   },
   {
    "duration": 109,
    "start_time": "2021-12-17T05:40:59.929Z"
   },
   {
    "duration": 188,
    "start_time": "2021-12-17T05:41:00.041Z"
   },
   {
    "duration": 198,
    "start_time": "2021-12-17T05:41:00.232Z"
   },
   {
    "duration": 11,
    "start_time": "2021-12-17T05:41:00.433Z"
   },
   {
    "duration": 23,
    "start_time": "2021-12-17T05:41:00.446Z"
   },
   {
    "duration": 33,
    "start_time": "2021-12-17T05:41:00.473Z"
   },
   {
    "duration": 7,
    "start_time": "2021-12-17T05:41:00.509Z"
   },
   {
    "duration": 24,
    "start_time": "2021-12-17T05:41:00.518Z"
   },
   {
    "duration": 22,
    "start_time": "2021-12-17T05:41:00.544Z"
   },
   {
    "duration": 26,
    "start_time": "2021-12-17T05:41:00.568Z"
   },
   {
    "duration": 4909,
    "start_time": "2021-12-17T05:41:00.596Z"
   },
   {
    "duration": 6,
    "start_time": "2021-12-17T05:41:05.508Z"
   },
   {
    "duration": 2048,
    "start_time": "2021-12-17T05:41:05.523Z"
   },
   {
    "duration": 7,
    "start_time": "2021-12-17T05:41:07.574Z"
   },
   {
    "duration": 24,
    "start_time": "2021-12-17T05:41:07.583Z"
   },
   {
    "duration": 317,
    "start_time": "2021-12-19T21:13:50.861Z"
   },
   {
    "duration": 2141,
    "start_time": "2021-12-19T21:13:57.464Z"
   },
   {
    "duration": 5635,
    "start_time": "2021-12-19T21:13:59.608Z"
   },
   {
    "duration": 50,
    "start_time": "2021-12-19T21:14:05.248Z"
   },
   {
    "duration": 32,
    "start_time": "2021-12-19T21:14:05.302Z"
   },
   {
    "duration": 36,
    "start_time": "2021-12-19T21:14:05.338Z"
   },
   {
    "duration": 50,
    "start_time": "2021-12-19T21:14:05.376Z"
   },
   {
    "duration": 109,
    "start_time": "2021-12-19T21:14:05.430Z"
   },
   {
    "duration": 178,
    "start_time": "2021-12-19T21:14:05.545Z"
   },
   {
    "duration": 196,
    "start_time": "2021-12-19T21:14:05.733Z"
   },
   {
    "duration": 195,
    "start_time": "2021-12-19T21:14:05.936Z"
   },
   {
    "duration": 17,
    "start_time": "2021-12-19T21:14:06.216Z"
   },
   {
    "duration": 5,
    "start_time": "2021-12-19T21:14:06.237Z"
   },
   {
    "duration": 8,
    "start_time": "2021-12-19T21:14:06.245Z"
   },
   {
    "duration": 70,
    "start_time": "2021-12-19T21:14:06.256Z"
   },
   {
    "duration": 9,
    "start_time": "2021-12-19T21:14:06.328Z"
   },
   {
    "duration": 9,
    "start_time": "2021-12-19T21:14:06.340Z"
   },
   {
    "duration": 9,
    "start_time": "2021-12-19T21:14:06.352Z"
   },
   {
    "duration": 13,
    "start_time": "2021-12-19T21:14:06.363Z"
   },
   {
    "duration": 5425,
    "start_time": "2021-12-19T21:14:06.379Z"
   },
   {
    "duration": 18,
    "start_time": "2021-12-19T21:14:11.807Z"
   },
   {
    "duration": 1329,
    "start_time": "2021-12-19T21:14:11.829Z"
   },
   {
    "duration": 119,
    "start_time": "2021-12-19T21:14:13.042Z"
   },
   {
    "duration": 118,
    "start_time": "2021-12-19T21:14:13.044Z"
   },
   {
    "duration": 5983,
    "start_time": "2021-12-19T21:16:59.910Z"
   },
   {
    "duration": 5091,
    "start_time": "2021-12-19T21:18:57.244Z"
   },
   {
    "duration": 5358,
    "start_time": "2021-12-19T21:19:13.420Z"
   },
   {
    "duration": 5197,
    "start_time": "2021-12-19T21:19:47.627Z"
   },
   {
    "duration": 5065,
    "start_time": "2021-12-19T21:19:57.871Z"
   },
   {
    "duration": 111,
    "start_time": "2021-12-19T21:20:40.239Z"
   },
   {
    "duration": 5177,
    "start_time": "2021-12-19T21:20:45.366Z"
   },
   {
    "duration": 5133,
    "start_time": "2021-12-19T21:21:04.178Z"
   },
   {
    "duration": 5358,
    "start_time": "2021-12-19T21:22:33.019Z"
   },
   {
    "duration": 5869,
    "start_time": "2021-12-19T21:24:25.621Z"
   },
   {
    "duration": 161,
    "start_time": "2021-12-19T21:25:10.182Z"
   },
   {
    "duration": 5236,
    "start_time": "2021-12-19T21:25:21.704Z"
   },
   {
    "duration": 7588,
    "start_time": "2021-12-19T21:25:43.621Z"
   },
   {
    "duration": 7525,
    "start_time": "2021-12-19T21:26:29.794Z"
   },
   {
    "duration": 64,
    "start_time": "2022-07-24T07:52:01.728Z"
   },
   {
    "duration": 157,
    "start_time": "2022-07-24T07:52:33.273Z"
   },
   {
    "duration": 2866,
    "start_time": "2022-07-24T07:52:43.857Z"
   },
   {
    "duration": 1517,
    "start_time": "2022-07-24T07:52:46.725Z"
   },
   {
    "duration": 22,
    "start_time": "2022-07-24T07:52:48.245Z"
   },
   {
    "duration": 69,
    "start_time": "2022-07-24T07:52:48.270Z"
   },
   {
    "duration": 83,
    "start_time": "2022-07-24T07:52:48.341Z"
   },
   {
    "duration": 11,
    "start_time": "2022-07-24T07:52:48.427Z"
   },
   {
    "duration": 83,
    "start_time": "2022-07-24T07:52:48.440Z"
   },
   {
    "duration": 11,
    "start_time": "2022-07-24T07:52:48.526Z"
   },
   {
    "duration": 21,
    "start_time": "2022-07-24T07:52:48.539Z"
   },
   {
    "duration": 386,
    "start_time": "2022-07-24T07:52:48.564Z"
   },
   {
    "duration": 0,
    "start_time": "2022-07-24T07:52:48.953Z"
   },
   {
    "duration": 0,
    "start_time": "2022-07-24T07:52:48.954Z"
   },
   {
    "duration": 0,
    "start_time": "2022-07-24T07:52:48.956Z"
   },
   {
    "duration": 0,
    "start_time": "2022-07-24T07:52:48.957Z"
   },
   {
    "duration": 0,
    "start_time": "2022-07-24T07:52:48.960Z"
   },
   {
    "duration": 0,
    "start_time": "2022-07-24T07:52:48.961Z"
   },
   {
    "duration": 0,
    "start_time": "2022-07-24T07:52:48.963Z"
   },
   {
    "duration": 0,
    "start_time": "2022-07-24T07:52:48.964Z"
   },
   {
    "duration": 0,
    "start_time": "2022-07-24T07:52:49.032Z"
   },
   {
    "duration": 0,
    "start_time": "2022-07-24T07:52:49.034Z"
   },
   {
    "duration": 0,
    "start_time": "2022-07-24T07:52:49.036Z"
   },
   {
    "duration": 0,
    "start_time": "2022-07-24T07:52:49.037Z"
   },
   {
    "duration": 0,
    "start_time": "2022-07-24T07:52:49.039Z"
   },
   {
    "duration": 0,
    "start_time": "2022-07-24T07:52:49.040Z"
   },
   {
    "duration": 0,
    "start_time": "2022-07-24T07:52:49.041Z"
   },
   {
    "duration": 0,
    "start_time": "2022-07-24T07:52:49.042Z"
   },
   {
    "duration": 9,
    "start_time": "2022-07-24T07:56:49.923Z"
   },
   {
    "duration": 98,
    "start_time": "2022-07-24T07:57:20.527Z"
   },
   {
    "duration": 564,
    "start_time": "2022-07-24T07:57:27.663Z"
   },
   {
    "duration": 388,
    "start_time": "2022-07-24T07:57:49.541Z"
   },
   {
    "duration": 401,
    "start_time": "2022-07-24T07:58:04.223Z"
   },
   {
    "duration": 409,
    "start_time": "2022-07-24T07:58:13.542Z"
   },
   {
    "duration": 125,
    "start_time": "2022-07-24T07:58:18.328Z"
   },
   {
    "duration": 216,
    "start_time": "2022-07-24T07:58:28.023Z"
   },
   {
    "duration": 182,
    "start_time": "2022-07-24T07:58:38.564Z"
   },
   {
    "duration": 14,
    "start_time": "2022-07-24T07:59:00.939Z"
   },
   {
    "duration": 106,
    "start_time": "2022-07-24T07:59:08.237Z"
   },
   {
    "duration": 50,
    "start_time": "2022-07-24T07:59:31.901Z"
   },
   {
    "duration": 121,
    "start_time": "2022-07-24T08:00:06.045Z"
   },
   {
    "duration": 66,
    "start_time": "2022-07-24T08:01:20.779Z"
   },
   {
    "duration": 92,
    "start_time": "2022-07-24T08:01:29.362Z"
   },
   {
    "duration": 42,
    "start_time": "2022-07-24T08:01:38.724Z"
   },
   {
    "duration": 78,
    "start_time": "2022-07-24T08:01:43.867Z"
   },
   {
    "duration": 45,
    "start_time": "2022-07-24T08:01:57.127Z"
   },
   {
    "duration": 4,
    "start_time": "2022-07-24T08:03:22.293Z"
   },
   {
    "duration": 20,
    "start_time": "2022-07-24T08:03:30.934Z"
   },
   {
    "duration": 53,
    "start_time": "2022-07-24T08:03:31.170Z"
   },
   {
    "duration": 53,
    "start_time": "2022-07-24T08:03:31.370Z"
   },
   {
    "duration": 17,
    "start_time": "2022-07-24T08:03:56.619Z"
   },
   {
    "duration": 152,
    "start_time": "2022-07-24T08:05:22.881Z"
   },
   {
    "duration": 4,
    "start_time": "2022-07-24T08:05:50.056Z"
   },
   {
    "duration": 80,
    "start_time": "2022-07-24T08:05:57.649Z"
   },
   {
    "duration": 20,
    "start_time": "2022-07-24T08:06:17.039Z"
   },
   {
    "duration": 2562,
    "start_time": "2022-07-24T08:07:34.480Z"
   },
   {
    "duration": 790,
    "start_time": "2022-07-24T08:07:37.044Z"
   },
   {
    "duration": 19,
    "start_time": "2022-07-24T08:07:37.836Z"
   },
   {
    "duration": 73,
    "start_time": "2022-07-24T08:07:37.857Z"
   },
   {
    "duration": 17,
    "start_time": "2022-07-24T08:07:37.934Z"
   },
   {
    "duration": 73,
    "start_time": "2022-07-24T08:07:37.953Z"
   },
   {
    "duration": 20,
    "start_time": "2022-07-24T08:07:38.027Z"
   },
   {
    "duration": 10,
    "start_time": "2022-07-24T08:07:38.049Z"
   },
   {
    "duration": 95,
    "start_time": "2022-07-24T08:07:38.061Z"
   },
   {
    "duration": 366,
    "start_time": "2022-07-24T08:07:38.158Z"
   },
   {
    "duration": 11,
    "start_time": "2022-07-24T08:07:38.526Z"
   },
   {
    "duration": 103,
    "start_time": "2022-07-24T08:07:38.540Z"
   },
   {
    "duration": 80,
    "start_time": "2022-07-24T08:07:38.645Z"
   },
   {
    "duration": 194,
    "start_time": "2022-07-24T08:07:38.729Z"
   },
   {
    "duration": 114,
    "start_time": "2022-07-24T08:07:38.928Z"
   },
   {
    "duration": 98,
    "start_time": "2022-07-24T08:07:39.125Z"
   },
   {
    "duration": 5,
    "start_time": "2022-07-24T08:07:39.225Z"
   },
   {
    "duration": 9,
    "start_time": "2022-07-24T08:07:39.231Z"
   },
   {
    "duration": 24,
    "start_time": "2022-07-24T08:07:39.242Z"
   },
   {
    "duration": 60,
    "start_time": "2022-07-24T08:07:39.268Z"
   },
   {
    "duration": 5,
    "start_time": "2022-07-24T08:07:39.330Z"
   },
   {
    "duration": 9,
    "start_time": "2022-07-24T08:07:39.337Z"
   },
   {
    "duration": 14,
    "start_time": "2022-07-24T08:07:39.348Z"
   },
   {
    "duration": 2081,
    "start_time": "2022-07-24T08:07:39.363Z"
   },
   {
    "duration": 0,
    "start_time": "2022-07-24T08:07:41.446Z"
   },
   {
    "duration": 0,
    "start_time": "2022-07-24T08:07:41.448Z"
   },
   {
    "duration": 0,
    "start_time": "2022-07-24T08:07:41.449Z"
   },
   {
    "duration": 0,
    "start_time": "2022-07-24T08:07:41.450Z"
   },
   {
    "duration": 70,
    "start_time": "2022-07-24T08:08:38.028Z"
   },
   {
    "duration": 28,
    "start_time": "2022-07-24T08:08:41.809Z"
   },
   {
    "duration": 66,
    "start_time": "2022-07-24T08:08:48.762Z"
   },
   {
    "duration": 114,
    "start_time": "2022-07-24T08:10:03.915Z"
   },
   {
    "duration": 104,
    "start_time": "2022-07-24T08:10:04.223Z"
   },
   {
    "duration": 103,
    "start_time": "2022-07-24T08:10:04.425Z"
   },
   {
    "duration": 133,
    "start_time": "2022-07-24T08:10:24.693Z"
   },
   {
    "duration": 108,
    "start_time": "2022-07-24T08:11:00.218Z"
   },
   {
    "duration": 100,
    "start_time": "2022-07-24T08:11:00.424Z"
   },
   {
    "duration": 99,
    "start_time": "2022-07-24T08:11:00.625Z"
   },
   {
    "duration": 9,
    "start_time": "2022-07-24T08:11:10.540Z"
   },
   {
    "duration": 12,
    "start_time": "2022-07-24T08:11:56.852Z"
   },
   {
    "duration": 8,
    "start_time": "2022-07-24T08:12:01.293Z"
   },
   {
    "duration": 22,
    "start_time": "2022-07-24T08:12:02.009Z"
   },
   {
    "duration": 12,
    "start_time": "2022-07-24T08:29:03.880Z"
   },
   {
    "duration": 10,
    "start_time": "2022-07-24T08:34:59.854Z"
   },
   {
    "duration": 6,
    "start_time": "2022-07-24T08:37:32.745Z"
   },
   {
    "duration": 19,
    "start_time": "2022-07-24T08:37:36.804Z"
   },
   {
    "duration": 18,
    "start_time": "2022-07-24T08:38:14.849Z"
   },
   {
    "duration": 20,
    "start_time": "2022-07-24T08:38:24.558Z"
   },
   {
    "duration": 22,
    "start_time": "2022-07-24T08:38:33.104Z"
   },
   {
    "duration": 24,
    "start_time": "2022-07-24T08:38:55.162Z"
   },
   {
    "duration": 18,
    "start_time": "2022-07-24T08:39:39.204Z"
   },
   {
    "duration": 75,
    "start_time": "2022-07-24T08:40:57.383Z"
   },
   {
    "duration": 17,
    "start_time": "2022-07-24T08:41:02.738Z"
   },
   {
    "duration": 12,
    "start_time": "2022-07-24T08:41:11.877Z"
   },
   {
    "duration": 20,
    "start_time": "2022-07-24T08:41:16.222Z"
   },
   {
    "duration": 6,
    "start_time": "2022-07-24T08:41:18.542Z"
   },
   {
    "duration": 7,
    "start_time": "2022-07-24T08:41:43.295Z"
   },
   {
    "duration": 17,
    "start_time": "2022-07-24T08:42:49.905Z"
   },
   {
    "duration": 4,
    "start_time": "2022-07-24T08:42:57.684Z"
   },
   {
    "duration": 4,
    "start_time": "2022-07-24T08:43:15.337Z"
   },
   {
    "duration": 5,
    "start_time": "2022-07-24T08:43:18.359Z"
   },
   {
    "duration": 4,
    "start_time": "2022-07-24T08:43:22.142Z"
   },
   {
    "duration": 4,
    "start_time": "2022-07-24T08:44:35.263Z"
   },
   {
    "duration": 6,
    "start_time": "2022-07-24T09:52:45.885Z"
   },
   {
    "duration": 5,
    "start_time": "2022-07-24T09:52:55.084Z"
   },
   {
    "duration": 69,
    "start_time": "2022-07-24T09:57:25.045Z"
   },
   {
    "duration": 506,
    "start_time": "2022-07-24T09:57:41.852Z"
   },
   {
    "duration": 635,
    "start_time": "2022-07-24T09:57:49.739Z"
   },
   {
    "duration": 583,
    "start_time": "2022-07-24T09:57:54.446Z"
   },
   {
    "duration": 587,
    "start_time": "2022-07-24T09:58:39.341Z"
   },
   {
    "duration": 715,
    "start_time": "2022-07-24T09:58:47.012Z"
   },
   {
    "duration": 755,
    "start_time": "2022-07-24T09:58:51.868Z"
   },
   {
    "duration": 665,
    "start_time": "2022-07-24T09:59:39.762Z"
   },
   {
    "duration": 10,
    "start_time": "2022-07-25T21:17:46.284Z"
   },
   {
    "duration": 777,
    "start_time": "2022-07-25T21:26:05.265Z"
   },
   {
    "duration": 751,
    "start_time": "2022-07-25T21:26:22.204Z"
   },
   {
    "duration": 50,
    "start_time": "2022-07-25T21:27:50.946Z"
   },
   {
    "duration": 7,
    "start_time": "2022-07-25T21:28:20.935Z"
   },
   {
    "duration": 9,
    "start_time": "2022-07-25T21:28:23.655Z"
   },
   {
    "duration": 1403,
    "start_time": "2022-07-25T21:28:29.359Z"
   },
   {
    "duration": 428,
    "start_time": "2022-07-25T21:28:30.764Z"
   },
   {
    "duration": 17,
    "start_time": "2022-07-25T21:28:31.194Z"
   },
   {
    "duration": 22,
    "start_time": "2022-07-25T21:28:31.213Z"
   },
   {
    "duration": 30,
    "start_time": "2022-07-25T21:28:31.237Z"
   },
   {
    "duration": 11,
    "start_time": "2022-07-25T21:28:31.269Z"
   },
   {
    "duration": 30,
    "start_time": "2022-07-25T21:28:31.282Z"
   },
   {
    "duration": 31,
    "start_time": "2022-07-25T21:28:31.314Z"
   },
   {
    "duration": 37,
    "start_time": "2022-07-25T21:28:31.347Z"
   },
   {
    "duration": 160,
    "start_time": "2022-07-25T21:28:31.386Z"
   },
   {
    "duration": 10,
    "start_time": "2022-07-25T21:28:31.548Z"
   },
   {
    "duration": 92,
    "start_time": "2022-07-25T21:28:31.560Z"
   },
   {
    "duration": 670,
    "start_time": "2022-07-25T21:28:31.653Z"
   },
   {
    "duration": 701,
    "start_time": "2022-07-25T21:28:32.327Z"
   },
   {
    "duration": 795,
    "start_time": "2022-07-25T21:28:33.031Z"
   },
   {
    "duration": 298,
    "start_time": "2022-07-25T21:28:33.829Z"
   },
   {
    "duration": 0,
    "start_time": "2022-07-25T21:28:34.129Z"
   },
   {
    "duration": 0,
    "start_time": "2022-07-25T21:28:34.130Z"
   },
   {
    "duration": 0,
    "start_time": "2022-07-25T21:28:34.132Z"
   },
   {
    "duration": 1,
    "start_time": "2022-07-25T21:28:34.132Z"
   },
   {
    "duration": 0,
    "start_time": "2022-07-25T21:28:34.134Z"
   },
   {
    "duration": 0,
    "start_time": "2022-07-25T21:28:34.135Z"
   },
   {
    "duration": 0,
    "start_time": "2022-07-25T21:28:34.136Z"
   },
   {
    "duration": 0,
    "start_time": "2022-07-25T21:28:34.137Z"
   },
   {
    "duration": 0,
    "start_time": "2022-07-25T21:28:34.138Z"
   },
   {
    "duration": 0,
    "start_time": "2022-07-25T21:28:34.139Z"
   },
   {
    "duration": 0,
    "start_time": "2022-07-25T21:28:34.140Z"
   },
   {
    "duration": 0,
    "start_time": "2022-07-25T21:28:34.141Z"
   },
   {
    "duration": 10,
    "start_time": "2022-07-25T21:33:57.652Z"
   },
   {
    "duration": 21,
    "start_time": "2022-07-25T21:34:21.938Z"
   },
   {
    "duration": 17,
    "start_time": "2022-07-25T21:34:40.452Z"
   },
   {
    "duration": 10,
    "start_time": "2022-07-25T21:36:23.944Z"
   },
   {
    "duration": 3,
    "start_time": "2022-07-25T21:36:38.490Z"
   },
   {
    "duration": 8,
    "start_time": "2022-07-25T21:36:43.652Z"
   },
   {
    "duration": 11,
    "start_time": "2022-07-25T21:36:56.808Z"
   },
   {
    "duration": 12,
    "start_time": "2022-07-25T21:37:06.167Z"
   },
   {
    "duration": 14,
    "start_time": "2022-07-25T21:37:47.136Z"
   },
   {
    "duration": 15,
    "start_time": "2022-07-25T21:38:25.029Z"
   },
   {
    "duration": 9,
    "start_time": "2022-07-25T21:38:29.220Z"
   },
   {
    "duration": 1342,
    "start_time": "2022-07-25T21:38:36.537Z"
   },
   {
    "duration": 377,
    "start_time": "2022-07-25T21:38:37.881Z"
   },
   {
    "duration": 15,
    "start_time": "2022-07-25T21:38:38.260Z"
   },
   {
    "duration": 12,
    "start_time": "2022-07-25T21:38:38.277Z"
   },
   {
    "duration": 33,
    "start_time": "2022-07-25T21:38:38.291Z"
   },
   {
    "duration": 8,
    "start_time": "2022-07-25T21:38:38.326Z"
   },
   {
    "duration": 20,
    "start_time": "2022-07-25T21:38:38.336Z"
   },
   {
    "duration": 9,
    "start_time": "2022-07-25T21:38:38.357Z"
   },
   {
    "duration": 24,
    "start_time": "2022-07-25T21:38:38.368Z"
   },
   {
    "duration": 174,
    "start_time": "2022-07-25T21:38:38.393Z"
   },
   {
    "duration": 11,
    "start_time": "2022-07-25T21:38:38.569Z"
   },
   {
    "duration": 51,
    "start_time": "2022-07-25T21:38:38.581Z"
   },
   {
    "duration": 594,
    "start_time": "2022-07-25T21:38:38.634Z"
   },
   {
    "duration": 699,
    "start_time": "2022-07-25T21:38:39.233Z"
   },
   {
    "duration": 794,
    "start_time": "2022-07-25T21:38:39.934Z"
   },
   {
    "duration": 101,
    "start_time": "2022-07-25T21:38:40.730Z"
   },
   {
    "duration": 97,
    "start_time": "2022-07-25T21:38:40.834Z"
   },
   {
    "duration": 108,
    "start_time": "2022-07-25T21:38:40.933Z"
   },
   {
    "duration": 0,
    "start_time": "2022-07-25T21:38:41.043Z"
   },
   {
    "duration": 0,
    "start_time": "2022-07-25T21:38:41.044Z"
   },
   {
    "duration": 0,
    "start_time": "2022-07-25T21:38:41.044Z"
   },
   {
    "duration": 0,
    "start_time": "2022-07-25T21:38:41.046Z"
   },
   {
    "duration": 0,
    "start_time": "2022-07-25T21:38:41.046Z"
   },
   {
    "duration": 0,
    "start_time": "2022-07-25T21:38:41.048Z"
   },
   {
    "duration": 0,
    "start_time": "2022-07-25T21:38:41.049Z"
   },
   {
    "duration": 0,
    "start_time": "2022-07-25T21:38:41.049Z"
   },
   {
    "duration": 0,
    "start_time": "2022-07-25T21:38:41.050Z"
   },
   {
    "duration": 1,
    "start_time": "2022-07-25T21:38:41.051Z"
   },
   {
    "duration": 5,
    "start_time": "2022-07-25T21:46:15.933Z"
   },
   {
    "duration": 25,
    "start_time": "2022-07-25T21:46:22.263Z"
   },
   {
    "duration": 6,
    "start_time": "2022-07-25T21:46:23.006Z"
   },
   {
    "duration": 3,
    "start_time": "2022-07-25T21:46:23.575Z"
   },
   {
    "duration": 5,
    "start_time": "2022-07-25T21:46:23.760Z"
   },
   {
    "duration": 12,
    "start_time": "2022-07-25T21:46:24.052Z"
   },
   {
    "duration": 13,
    "start_time": "2022-07-25T21:46:24.208Z"
   },
   {
    "duration": 6,
    "start_time": "2022-07-25T21:46:24.783Z"
   },
   {
    "duration": 3,
    "start_time": "2022-07-25T21:46:24.905Z"
   },
   {
    "duration": 7,
    "start_time": "2022-07-25T21:46:45.370Z"
   },
   {
    "duration": 1350,
    "start_time": "2022-07-25T21:46:52.058Z"
   },
   {
    "duration": 388,
    "start_time": "2022-07-25T21:46:53.409Z"
   },
   {
    "duration": 16,
    "start_time": "2022-07-25T21:46:53.799Z"
   },
   {
    "duration": 12,
    "start_time": "2022-07-25T21:46:53.822Z"
   },
   {
    "duration": 14,
    "start_time": "2022-07-25T21:46:53.836Z"
   },
   {
    "duration": 9,
    "start_time": "2022-07-25T21:46:53.851Z"
   },
   {
    "duration": 23,
    "start_time": "2022-07-25T21:46:53.862Z"
   },
   {
    "duration": 10,
    "start_time": "2022-07-25T21:46:53.887Z"
   },
   {
    "duration": 21,
    "start_time": "2022-07-25T21:46:53.922Z"
   },
   {
    "duration": 159,
    "start_time": "2022-07-25T21:46:53.944Z"
   },
   {
    "duration": 17,
    "start_time": "2022-07-25T21:46:54.105Z"
   },
   {
    "duration": 43,
    "start_time": "2022-07-25T21:46:54.124Z"
   },
   {
    "duration": 558,
    "start_time": "2022-07-25T21:46:54.169Z"
   },
   {
    "duration": 796,
    "start_time": "2022-07-25T21:46:54.731Z"
   },
   {
    "duration": 794,
    "start_time": "2022-07-25T21:46:55.529Z"
   },
   {
    "duration": 100,
    "start_time": "2022-07-25T21:46:56.326Z"
   },
   {
    "duration": 7,
    "start_time": "2022-07-25T21:46:56.428Z"
   },
   {
    "duration": 11,
    "start_time": "2022-07-25T21:46:56.436Z"
   },
   {
    "duration": 24,
    "start_time": "2022-07-25T21:46:56.448Z"
   },
   {
    "duration": 13,
    "start_time": "2022-07-25T21:46:56.473Z"
   },
   {
    "duration": 6,
    "start_time": "2022-07-25T21:46:56.488Z"
   },
   {
    "duration": 7,
    "start_time": "2022-07-25T21:46:56.496Z"
   },
   {
    "duration": 11,
    "start_time": "2022-07-25T21:46:56.505Z"
   },
   {
    "duration": 2244,
    "start_time": "2022-07-25T21:46:56.518Z"
   },
   {
    "duration": 5,
    "start_time": "2022-07-25T21:46:58.763Z"
   },
   {
    "duration": 1001,
    "start_time": "2022-07-25T21:46:58.770Z"
   },
   {
    "duration": 116,
    "start_time": "2022-07-25T21:46:59.773Z"
   },
   {
    "duration": 0,
    "start_time": "2022-07-25T21:46:59.890Z"
   },
   {
    "duration": 17,
    "start_time": "2022-07-25T21:54:39.612Z"
   },
   {
    "duration": 37,
    "start_time": "2022-07-25T21:55:00.343Z"
   },
   {
    "duration": 18,
    "start_time": "2022-07-25T21:55:11.841Z"
   },
   {
    "duration": 1801,
    "start_time": "2022-07-27T03:21:48.546Z"
   },
   {
    "duration": 1831,
    "start_time": "2022-07-27T03:22:22.285Z"
   },
   {
    "duration": 1743,
    "start_time": "2022-07-27T03:35:04.515Z"
   },
   {
    "duration": 1759,
    "start_time": "2022-07-27T03:35:19.635Z"
   },
   {
    "duration": 1734,
    "start_time": "2022-07-27T03:45:44.711Z"
   },
   {
    "duration": 1829,
    "start_time": "2022-07-27T03:46:03.853Z"
   },
   {
    "duration": 1786,
    "start_time": "2022-07-27T03:46:19.360Z"
   },
   {
    "duration": 1743,
    "start_time": "2022-07-27T03:46:37.844Z"
   },
   {
    "duration": 9,
    "start_time": "2022-07-27T03:47:05.050Z"
   },
   {
    "duration": 1751,
    "start_time": "2022-07-27T03:49:48.277Z"
   },
   {
    "duration": 1752,
    "start_time": "2022-07-27T03:50:42.284Z"
   },
   {
    "duration": 83,
    "start_time": "2022-07-27T03:51:14.196Z"
   },
   {
    "duration": 46,
    "start_time": "2022-07-27T03:51:19.114Z"
   },
   {
    "duration": 50,
    "start_time": "2022-07-27T03:51:22.385Z"
   },
   {
    "duration": 1803,
    "start_time": "2022-07-27T03:51:24.656Z"
   },
   {
    "duration": 1827,
    "start_time": "2022-07-27T03:52:23.440Z"
   },
   {
    "duration": 1810,
    "start_time": "2022-07-27T03:52:35.104Z"
   },
   {
    "duration": 13,
    "start_time": "2022-07-27T03:53:08.113Z"
   },
   {
    "duration": 6,
    "start_time": "2022-07-27T03:53:11.422Z"
   },
   {
    "duration": 9,
    "start_time": "2022-07-27T03:53:51.417Z"
   },
   {
    "duration": 9,
    "start_time": "2022-07-27T03:55:25.096Z"
   },
   {
    "duration": 9,
    "start_time": "2022-07-27T03:55:44.784Z"
   },
   {
    "duration": 53,
    "start_time": "2022-07-27T03:56:03.176Z"
   },
   {
    "duration": 1128,
    "start_time": "2022-07-27T03:56:08.440Z"
   },
   {
    "duration": 1064,
    "start_time": "2022-07-27T03:56:23.823Z"
   },
   {
    "duration": 1074,
    "start_time": "2022-07-27T03:56:34.660Z"
   },
   {
    "duration": 898,
    "start_time": "2022-07-27T03:56:56.696Z"
   },
   {
    "duration": 899,
    "start_time": "2022-07-27T03:57:13.276Z"
   },
   {
    "duration": 19,
    "start_time": "2022-07-27T03:59:18.879Z"
   },
   {
    "duration": 18,
    "start_time": "2022-07-27T03:59:33.116Z"
   },
   {
    "duration": 18,
    "start_time": "2022-07-27T03:59:41.353Z"
   },
   {
    "duration": 3,
    "start_time": "2022-07-27T04:01:14.828Z"
   },
   {
    "duration": 20,
    "start_time": "2022-07-27T04:01:20.023Z"
   },
   {
    "duration": 3,
    "start_time": "2022-07-27T04:01:32.579Z"
   },
   {
    "duration": 21,
    "start_time": "2022-07-27T04:01:36.961Z"
   },
   {
    "duration": 3,
    "start_time": "2022-07-27T04:01:57.027Z"
   },
   {
    "duration": 4,
    "start_time": "2022-07-27T04:01:58.791Z"
   },
   {
    "duration": 6,
    "start_time": "2022-07-27T04:01:59.266Z"
   },
   {
    "duration": 1819,
    "start_time": "2022-07-27T04:01:59.753Z"
   },
   {
    "duration": 50,
    "start_time": "2022-08-03T22:40:13.655Z"
   },
   {
    "duration": 1503,
    "start_time": "2022-08-03T22:40:19.059Z"
   },
   {
    "duration": 914,
    "start_time": "2022-08-03T22:40:20.935Z"
   },
   {
    "duration": 15,
    "start_time": "2022-08-03T22:40:21.851Z"
   },
   {
    "duration": 40,
    "start_time": "2022-08-03T22:40:21.867Z"
   },
   {
    "duration": 9,
    "start_time": "2022-08-03T22:40:21.954Z"
   },
   {
    "duration": 1405,
    "start_time": "2022-08-03T22:41:06.990Z"
   },
   {
    "duration": 421,
    "start_time": "2022-08-03T22:41:08.397Z"
   },
   {
    "duration": 16,
    "start_time": "2022-08-03T22:41:08.820Z"
   },
   {
    "duration": 68,
    "start_time": "2022-08-03T22:41:08.839Z"
   },
   {
    "duration": 13,
    "start_time": "2022-08-03T22:41:08.912Z"
   },
   {
    "duration": 23,
    "start_time": "2022-08-03T22:41:08.926Z"
   },
   {
    "duration": 60,
    "start_time": "2022-08-03T22:41:08.951Z"
   },
   {
    "duration": 13,
    "start_time": "2022-08-03T22:41:09.017Z"
   },
   {
    "duration": 26,
    "start_time": "2022-08-03T22:41:09.032Z"
   },
   {
    "duration": 53,
    "start_time": "2022-08-03T22:41:09.060Z"
   },
   {
    "duration": 16,
    "start_time": "2022-08-03T22:41:09.117Z"
   },
   {
    "duration": 34,
    "start_time": "2022-08-03T22:41:09.135Z"
   },
   {
    "duration": 162,
    "start_time": "2022-08-03T22:41:09.172Z"
   },
   {
    "duration": 10,
    "start_time": "2022-08-03T22:41:09.338Z"
   },
   {
    "duration": 41,
    "start_time": "2022-08-03T22:41:09.349Z"
   },
   {
    "duration": 412,
    "start_time": "2022-08-03T22:41:09.411Z"
   },
   {
    "duration": 586,
    "start_time": "2022-08-03T22:41:09.824Z"
   },
   {
    "duration": 491,
    "start_time": "2022-08-03T22:41:10.412Z"
   },
   {
    "duration": 10,
    "start_time": "2022-08-03T22:41:10.905Z"
   },
   {
    "duration": 98,
    "start_time": "2022-08-03T22:41:10.917Z"
   },
   {
    "duration": 5,
    "start_time": "2022-08-03T22:41:11.017Z"
   },
   {
    "duration": 13,
    "start_time": "2022-08-03T22:41:11.024Z"
   },
   {
    "duration": 5,
    "start_time": "2022-08-03T22:41:11.039Z"
   },
   {
    "duration": 5,
    "start_time": "2022-08-03T22:41:11.046Z"
   },
   {
    "duration": 5,
    "start_time": "2022-08-03T22:41:11.053Z"
   },
   {
    "duration": 7,
    "start_time": "2022-08-03T22:41:11.059Z"
   },
   {
    "duration": 984,
    "start_time": "2022-08-03T22:41:11.068Z"
   },
   {
    "duration": 0,
    "start_time": "2022-08-03T22:41:12.054Z"
   },
   {
    "duration": 0,
    "start_time": "2022-08-03T22:41:12.055Z"
   },
   {
    "duration": 1,
    "start_time": "2022-08-03T22:41:12.056Z"
   },
   {
    "duration": 0,
    "start_time": "2022-08-03T22:41:12.058Z"
   },
   {
    "duration": 2521,
    "start_time": "2022-08-03T22:42:02.271Z"
   },
   {
    "duration": 4,
    "start_time": "2022-08-03T22:42:19.174Z"
   },
   {
    "duration": 1028,
    "start_time": "2022-08-03T22:42:19.470Z"
   },
   {
    "duration": 11,
    "start_time": "2022-08-03T22:42:25.561Z"
   },
   {
    "duration": 4,
    "start_time": "2022-08-03T22:42:25.822Z"
   },
   {
    "duration": 13,
    "start_time": "2022-08-03T22:53:32.834Z"
   },
   {
    "duration": 13,
    "start_time": "2022-08-03T22:53:42.981Z"
   },
   {
    "duration": 13,
    "start_time": "2022-08-03T22:53:43.733Z"
   },
   {
    "duration": 12,
    "start_time": "2022-08-03T22:53:52.957Z"
   },
   {
    "duration": 11,
    "start_time": "2022-08-03T22:53:54.370Z"
   },
   {
    "duration": 2396,
    "start_time": "2022-08-03T22:57:41.432Z"
   },
   {
    "duration": 829,
    "start_time": "2022-08-03T22:59:17.429Z"
   },
   {
    "duration": 789,
    "start_time": "2022-08-03T22:59:22.679Z"
   },
   {
    "duration": 12,
    "start_time": "2022-08-03T23:01:12.704Z"
   },
   {
    "duration": 839,
    "start_time": "2022-08-03T23:03:45.702Z"
   },
   {
    "duration": 861,
    "start_time": "2022-08-03T23:04:11.435Z"
   },
   {
    "duration": 2489,
    "start_time": "2022-08-03T23:04:16.084Z"
   },
   {
    "duration": 157,
    "start_time": "2022-08-04T13:36:27.496Z"
   },
   {
    "duration": 60,
    "start_time": "2022-08-04T13:36:34.434Z"
   },
   {
    "duration": 1744,
    "start_time": "2022-08-04T13:36:55.835Z"
   },
   {
    "duration": 2432,
    "start_time": "2022-08-04T13:36:57.585Z"
   },
   {
    "duration": 16,
    "start_time": "2022-08-04T13:37:00.019Z"
   },
   {
    "duration": 64,
    "start_time": "2022-08-04T13:37:00.037Z"
   },
   {
    "duration": 15,
    "start_time": "2022-08-04T13:37:00.103Z"
   },
   {
    "duration": 44,
    "start_time": "2022-08-04T13:37:00.121Z"
   },
   {
    "duration": 52,
    "start_time": "2022-08-04T13:37:00.173Z"
   },
   {
    "duration": 9,
    "start_time": "2022-08-04T13:37:00.227Z"
   },
   {
    "duration": 32,
    "start_time": "2022-08-04T13:37:00.239Z"
   },
   {
    "duration": 66,
    "start_time": "2022-08-04T13:37:00.275Z"
   },
   {
    "duration": 9,
    "start_time": "2022-08-04T13:37:00.342Z"
   },
   {
    "duration": 57,
    "start_time": "2022-08-04T13:37:00.352Z"
   },
   {
    "duration": 169,
    "start_time": "2022-08-04T13:37:00.411Z"
   },
   {
    "duration": 13,
    "start_time": "2022-08-04T13:37:00.584Z"
   },
   {
    "duration": 73,
    "start_time": "2022-08-04T13:37:00.599Z"
   },
   {
    "duration": 427,
    "start_time": "2022-08-04T13:37:00.673Z"
   },
   {
    "duration": 560,
    "start_time": "2022-08-04T13:37:01.102Z"
   },
   {
    "duration": 512,
    "start_time": "2022-08-04T13:37:01.671Z"
   },
   {
    "duration": 72,
    "start_time": "2022-08-04T13:37:02.185Z"
   },
   {
    "duration": 49,
    "start_time": "2022-08-04T13:37:02.260Z"
   },
   {
    "duration": 6,
    "start_time": "2022-08-04T13:37:02.312Z"
   },
   {
    "duration": 22,
    "start_time": "2022-08-04T13:37:02.357Z"
   },
   {
    "duration": 27,
    "start_time": "2022-08-04T13:37:02.384Z"
   },
   {
    "duration": 8,
    "start_time": "2022-08-04T13:37:02.413Z"
   },
   {
    "duration": 17,
    "start_time": "2022-08-04T13:37:02.424Z"
   },
   {
    "duration": 9,
    "start_time": "2022-08-04T13:37:02.443Z"
   },
   {
    "duration": 2332,
    "start_time": "2022-08-04T13:37:02.454Z"
   },
   {
    "duration": 9,
    "start_time": "2022-08-04T13:37:04.792Z"
   },
   {
    "duration": 1225,
    "start_time": "2022-08-04T13:37:04.802Z"
   },
   {
    "duration": 113,
    "start_time": "2022-08-04T13:37:06.029Z"
   },
   {
    "duration": 0,
    "start_time": "2022-08-04T13:37:06.144Z"
   },
   {
    "duration": 7,
    "start_time": "2022-08-04T13:44:11.889Z"
   },
   {
    "duration": 9,
    "start_time": "2022-08-04T13:44:15.600Z"
   },
   {
    "duration": 21,
    "start_time": "2022-08-04T13:45:45.646Z"
   },
   {
    "duration": 16,
    "start_time": "2022-08-04T13:46:06.536Z"
   },
   {
    "duration": 99,
    "start_time": "2022-08-04T13:46:21.220Z"
   },
   {
    "duration": 105,
    "start_time": "2022-08-04T13:46:25.328Z"
   },
   {
    "duration": 6,
    "start_time": "2022-08-04T13:46:25.483Z"
   },
   {
    "duration": 16,
    "start_time": "2022-08-04T13:46:30.320Z"
   },
   {
    "duration": 77,
    "start_time": "2022-08-04T13:46:47.793Z"
   },
   {
    "duration": 10,
    "start_time": "2022-08-04T13:46:51.234Z"
   },
   {
    "duration": 10,
    "start_time": "2022-08-04T13:53:53.732Z"
   },
   {
    "duration": 11,
    "start_time": "2022-08-04T13:54:00.331Z"
   },
   {
    "duration": 11,
    "start_time": "2022-08-04T13:54:14.769Z"
   },
   {
    "duration": 14317,
    "start_time": "2022-08-04T13:54:40.085Z"
   },
   {
    "duration": 14257,
    "start_time": "2022-08-04T13:55:08.518Z"
   },
   {
    "duration": 10,
    "start_time": "2022-08-04T13:55:22.777Z"
   },
   {
    "duration": 125,
    "start_time": "2022-08-04T13:55:27.036Z"
   },
   {
    "duration": 10,
    "start_time": "2022-08-04T13:55:45.533Z"
   },
   {
    "duration": 35,
    "start_time": "2022-08-04T13:55:56.431Z"
   },
   {
    "duration": 14,
    "start_time": "2022-08-04T13:56:06.092Z"
   },
   {
    "duration": 14088,
    "start_time": "2022-08-04T13:56:57.828Z"
   },
   {
    "duration": 8,
    "start_time": "2022-08-04T13:57:11.918Z"
   },
   {
    "duration": 11,
    "start_time": "2022-08-04T14:00:18.930Z"
   },
   {
    "duration": 2161,
    "start_time": "2022-08-04T14:01:23.173Z"
   },
   {
    "duration": 5,
    "start_time": "2022-08-04T14:01:27.132Z"
   },
   {
    "duration": 972,
    "start_time": "2022-08-04T14:01:27.629Z"
   },
   {
    "duration": 5,
    "start_time": "2022-08-04T14:01:33.174Z"
   },
   {
    "duration": 4,
    "start_time": "2022-08-04T14:01:33.395Z"
   },
   {
    "duration": 2197,
    "start_time": "2022-08-04T14:02:02.584Z"
   },
   {
    "duration": 2367,
    "start_time": "2022-08-04T14:02:14.878Z"
   },
   {
    "duration": 2243,
    "start_time": "2022-08-04T14:03:17.442Z"
   },
   {
    "duration": 4,
    "start_time": "2022-08-04T14:03:41.121Z"
   },
   {
    "duration": 1258,
    "start_time": "2022-08-04T14:03:45.629Z"
   },
   {
    "duration": 16,
    "start_time": "2022-08-04T14:03:50.273Z"
   },
   {
    "duration": 6,
    "start_time": "2022-08-04T14:03:52.928Z"
   },
   {
    "duration": 2504,
    "start_time": "2022-08-04T14:06:16.480Z"
   },
   {
    "duration": 5,
    "start_time": "2022-08-04T14:07:19.834Z"
   },
   {
    "duration": 1020,
    "start_time": "2022-08-04T14:07:19.841Z"
   },
   {
    "duration": 1427,
    "start_time": "2022-08-04T14:07:28.252Z"
   },
   {
    "duration": 375,
    "start_time": "2022-08-04T14:07:29.682Z"
   },
   {
    "duration": 23,
    "start_time": "2022-08-04T14:07:30.060Z"
   },
   {
    "duration": 45,
    "start_time": "2022-08-04T14:07:30.085Z"
   },
   {
    "duration": 9,
    "start_time": "2022-08-04T14:07:30.132Z"
   },
   {
    "duration": 30,
    "start_time": "2022-08-04T14:07:30.142Z"
   },
   {
    "duration": 49,
    "start_time": "2022-08-04T14:07:30.174Z"
   },
   {
    "duration": 9,
    "start_time": "2022-08-04T14:07:30.224Z"
   },
   {
    "duration": 24,
    "start_time": "2022-08-04T14:07:30.234Z"
   },
   {
    "duration": 50,
    "start_time": "2022-08-04T14:07:30.263Z"
   },
   {
    "duration": 10,
    "start_time": "2022-08-04T14:07:30.314Z"
   },
   {
    "duration": 31,
    "start_time": "2022-08-04T14:07:30.325Z"
   },
   {
    "duration": 220,
    "start_time": "2022-08-04T14:07:30.357Z"
   },
   {
    "duration": 10,
    "start_time": "2022-08-04T14:07:30.579Z"
   },
   {
    "duration": 1359,
    "start_time": "2022-08-08T22:45:36.482Z"
   },
   {
    "duration": 731,
    "start_time": "2022-08-08T22:45:37.843Z"
   },
   {
    "duration": 13,
    "start_time": "2022-08-08T22:45:38.576Z"
   },
   {
    "duration": 34,
    "start_time": "2022-08-08T22:45:38.590Z"
   },
   {
    "duration": 7,
    "start_time": "2022-08-08T22:45:38.626Z"
   },
   {
    "duration": 14,
    "start_time": "2022-08-08T22:45:38.634Z"
   },
   {
    "duration": 29,
    "start_time": "2022-08-08T22:45:38.649Z"
   },
   {
    "duration": 7,
    "start_time": "2022-08-08T22:45:38.680Z"
   },
   {
    "duration": 14,
    "start_time": "2022-08-08T22:45:38.688Z"
   },
   {
    "duration": 52,
    "start_time": "2022-08-08T22:45:38.703Z"
   },
   {
    "duration": 7,
    "start_time": "2022-08-08T22:45:38.756Z"
   },
   {
    "duration": 26,
    "start_time": "2022-08-08T22:45:38.764Z"
   },
   {
    "duration": 142,
    "start_time": "2022-08-08T22:45:38.791Z"
   },
   {
    "duration": 11,
    "start_time": "2022-08-08T22:45:38.939Z"
   },
   {
    "duration": 60,
    "start_time": "2022-08-08T22:45:38.952Z"
   },
   {
    "duration": 530,
    "start_time": "2022-08-08T22:45:39.014Z"
   },
   {
    "duration": 699,
    "start_time": "2022-08-08T22:45:39.546Z"
   },
   {
    "duration": 595,
    "start_time": "2022-08-08T22:45:40.247Z"
   },
   {
    "duration": 98,
    "start_time": "2022-08-08T22:45:40.845Z"
   },
   {
    "duration": 96,
    "start_time": "2022-08-08T22:45:40.946Z"
   },
   {
    "duration": 8,
    "start_time": "2022-08-08T22:45:41.044Z"
   },
   {
    "duration": 15,
    "start_time": "2022-08-08T22:45:41.054Z"
   },
   {
    "duration": 5,
    "start_time": "2022-08-08T22:45:41.071Z"
   },
   {
    "duration": 7,
    "start_time": "2022-08-08T22:45:41.078Z"
   },
   {
    "duration": 6,
    "start_time": "2022-08-08T22:45:41.087Z"
   },
   {
    "duration": 10,
    "start_time": "2022-08-08T22:45:41.094Z"
   },
   {
    "duration": 2213,
    "start_time": "2022-08-08T22:45:41.105Z"
   },
   {
    "duration": 4,
    "start_time": "2022-08-08T22:45:43.319Z"
   },
   {
    "duration": 923,
    "start_time": "2022-08-08T22:45:43.325Z"
   },
   {
    "duration": 5,
    "start_time": "2022-08-08T22:45:44.249Z"
   },
   {
    "duration": 7,
    "start_time": "2022-08-08T22:45:44.256Z"
   }
  ],
  "kernelspec": {
   "display_name": "Python 3 (ipykernel)",
   "language": "python",
   "name": "python3"
  },
  "language_info": {
   "codemirror_mode": {
    "name": "ipython",
    "version": 3
   },
   "file_extension": ".py",
   "mimetype": "text/x-python",
   "name": "python",
   "nbconvert_exporter": "python",
   "pygments_lexer": "ipython3",
   "version": "3.9.5"
  },
  "toc": {
   "base_numbering": 1,
   "nav_menu": {},
   "number_sections": true,
   "sideBar": true,
   "skip_h1_title": true,
   "title_cell": "Table of Contents",
   "title_sidebar": "Contents",
   "toc_cell": false,
   "toc_position": {},
   "toc_section_display": true,
   "toc_window_display": false
  }
 },
 "nbformat": 4,
 "nbformat_minor": 2
}
