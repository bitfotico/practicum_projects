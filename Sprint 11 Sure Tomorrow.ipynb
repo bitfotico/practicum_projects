{
 "cells": [
  {
   "cell_type": "markdown",
   "metadata": {},
   "source": [
    "<div class=\"alert alert-success\">\n",
    "Important: Much of this project is pre-code, and we simply had to fill in parts of the code they left out. It looks much different than how I would normally do a project like this."
   ]
  },
  {
   "cell_type": "markdown",
   "metadata": {},
   "source": [
    "# Sure Tomorrow"
   ]
  },
  {
   "cell_type": "markdown",
   "metadata": {},
   "source": [
    "The Sure Tomorrow insurance company wants to solve several tasks with the help of Machine Learning and you are asked to evaluate that possibility.\n",
    "\n",
    "- Task 1: Find customers who are similar to a given customer. This will help the company's agents with marketing.\n",
    "- Task 2: Predict whether a new customer is likely to receive an insurance benefit. Can a prediction model do better than a dummy model?\n",
    "- Task 3: Predict the number of insurance benefits a new customer is likely to receive using a linear regression model.\n",
    "- Task 4: Protect clients' personal data without breaking the model from the previous task. It's necessary to develop a data transformation algorithm that would make it hard to recover personal information if the data fell into the wrong hands. This is called data masking, or data obfuscation. But the data should be protected in such a way that the quality of machine learning models doesn't suffer. You don't need to pick the best model, just prove that the algorithm works correctly."
   ]
  },
  {
   "cell_type": "markdown",
   "metadata": {},
   "source": [
    "# Data Preprocessing & Exploration"
   ]
  },
  {
   "cell_type": "code",
   "execution_count": 1,
   "metadata": {},
   "outputs": [],
   "source": [
    "import numpy as np\n",
    "import pandas as pd\n",
    "import math\n",
    "import seaborn as sns\n",
    "\n",
    "import sklearn.linear_model\n",
    "import sklearn.metrics\n",
    "import sklearn.neighbors\n",
    "import sklearn.preprocessing\n",
    "from sklearn.model_selection import train_test_split\n",
    "\n",
    "from IPython.display import display\n",
    "import warnings\n",
    "warnings.filterwarnings(\"ignore\")"
   ]
  },
  {
   "cell_type": "code",
   "execution_count": 2,
   "metadata": {},
   "outputs": [],
   "source": [
    "df = pd.read_csv('C:/Users/Kayo/Downloads/insurance_us.csv')"
   ]
  },
  {
   "cell_type": "code",
   "execution_count": 3,
   "metadata": {},
   "outputs": [
    {
     "data": {
      "text/html": [
       "<div>\n",
       "<style scoped>\n",
       "    .dataframe tbody tr th:only-of-type {\n",
       "        vertical-align: middle;\n",
       "    }\n",
       "\n",
       "    .dataframe tbody tr th {\n",
       "        vertical-align: top;\n",
       "    }\n",
       "\n",
       "    .dataframe thead th {\n",
       "        text-align: right;\n",
       "    }\n",
       "</style>\n",
       "<table border=\"1\" class=\"dataframe\">\n",
       "  <thead>\n",
       "    <tr style=\"text-align: right;\">\n",
       "      <th></th>\n",
       "      <th>Gender</th>\n",
       "      <th>Age</th>\n",
       "      <th>Salary</th>\n",
       "      <th>Family members</th>\n",
       "      <th>Insurance benefits</th>\n",
       "    </tr>\n",
       "  </thead>\n",
       "  <tbody>\n",
       "    <tr>\n",
       "      <th>0</th>\n",
       "      <td>1</td>\n",
       "      <td>41.0</td>\n",
       "      <td>49600.0</td>\n",
       "      <td>1</td>\n",
       "      <td>0</td>\n",
       "    </tr>\n",
       "    <tr>\n",
       "      <th>1</th>\n",
       "      <td>0</td>\n",
       "      <td>46.0</td>\n",
       "      <td>38000.0</td>\n",
       "      <td>1</td>\n",
       "      <td>1</td>\n",
       "    </tr>\n",
       "    <tr>\n",
       "      <th>2</th>\n",
       "      <td>0</td>\n",
       "      <td>29.0</td>\n",
       "      <td>21000.0</td>\n",
       "      <td>0</td>\n",
       "      <td>0</td>\n",
       "    </tr>\n",
       "    <tr>\n",
       "      <th>3</th>\n",
       "      <td>0</td>\n",
       "      <td>21.0</td>\n",
       "      <td>41700.0</td>\n",
       "      <td>2</td>\n",
       "      <td>0</td>\n",
       "    </tr>\n",
       "    <tr>\n",
       "      <th>4</th>\n",
       "      <td>1</td>\n",
       "      <td>28.0</td>\n",
       "      <td>26100.0</td>\n",
       "      <td>0</td>\n",
       "      <td>0</td>\n",
       "    </tr>\n",
       "  </tbody>\n",
       "</table>\n",
       "</div>"
      ],
      "text/plain": [
       "   Gender   Age   Salary  Family members  Insurance benefits\n",
       "0       1  41.0  49600.0               1                   0\n",
       "1       0  46.0  38000.0               1                   1\n",
       "2       0  29.0  21000.0               0                   0\n",
       "3       0  21.0  41700.0               2                   0\n",
       "4       1  28.0  26100.0               0                   0"
      ]
     },
     "execution_count": 3,
     "metadata": {},
     "output_type": "execute_result"
    }
   ],
   "source": [
    "# Checking general info\n",
    "df.head()"
   ]
  },
  {
   "cell_type": "code",
   "execution_count": 4,
   "metadata": {},
   "outputs": [
    {
     "name": "stdout",
     "output_type": "stream",
     "text": [
      "<class 'pandas.core.frame.DataFrame'>\n",
      "RangeIndex: 5000 entries, 0 to 4999\n",
      "Data columns (total 5 columns):\n",
      " #   Column              Non-Null Count  Dtype  \n",
      "---  ------              --------------  -----  \n",
      " 0   Gender              5000 non-null   int64  \n",
      " 1   Age                 5000 non-null   float64\n",
      " 2   Salary              5000 non-null   float64\n",
      " 3   Family members      5000 non-null   int64  \n",
      " 4   Insurance benefits  5000 non-null   int64  \n",
      "dtypes: float64(2), int64(3)\n",
      "memory usage: 195.4 KB\n"
     ]
    }
   ],
   "source": [
    "df.info()"
   ]
  },
  {
   "cell_type": "code",
   "execution_count": 5,
   "metadata": {},
   "outputs": [
    {
     "data": {
      "text/html": [
       "<div>\n",
       "<style scoped>\n",
       "    .dataframe tbody tr th:only-of-type {\n",
       "        vertical-align: middle;\n",
       "    }\n",
       "\n",
       "    .dataframe tbody tr th {\n",
       "        vertical-align: top;\n",
       "    }\n",
       "\n",
       "    .dataframe thead th {\n",
       "        text-align: right;\n",
       "    }\n",
       "</style>\n",
       "<table border=\"1\" class=\"dataframe\">\n",
       "  <thead>\n",
       "    <tr style=\"text-align: right;\">\n",
       "      <th></th>\n",
       "      <th>Gender</th>\n",
       "      <th>Age</th>\n",
       "      <th>Salary</th>\n",
       "      <th>Family members</th>\n",
       "      <th>Insurance benefits</th>\n",
       "    </tr>\n",
       "  </thead>\n",
       "  <tbody>\n",
       "    <tr>\n",
       "      <th>count</th>\n",
       "      <td>5000.000000</td>\n",
       "      <td>5000.000000</td>\n",
       "      <td>5000.000000</td>\n",
       "      <td>5000.000000</td>\n",
       "      <td>5000.000000</td>\n",
       "    </tr>\n",
       "    <tr>\n",
       "      <th>mean</th>\n",
       "      <td>0.499000</td>\n",
       "      <td>30.952800</td>\n",
       "      <td>39916.360000</td>\n",
       "      <td>1.194200</td>\n",
       "      <td>0.148000</td>\n",
       "    </tr>\n",
       "    <tr>\n",
       "      <th>std</th>\n",
       "      <td>0.500049</td>\n",
       "      <td>8.440807</td>\n",
       "      <td>9900.083569</td>\n",
       "      <td>1.091387</td>\n",
       "      <td>0.463183</td>\n",
       "    </tr>\n",
       "    <tr>\n",
       "      <th>min</th>\n",
       "      <td>0.000000</td>\n",
       "      <td>18.000000</td>\n",
       "      <td>5300.000000</td>\n",
       "      <td>0.000000</td>\n",
       "      <td>0.000000</td>\n",
       "    </tr>\n",
       "    <tr>\n",
       "      <th>25%</th>\n",
       "      <td>0.000000</td>\n",
       "      <td>24.000000</td>\n",
       "      <td>33300.000000</td>\n",
       "      <td>0.000000</td>\n",
       "      <td>0.000000</td>\n",
       "    </tr>\n",
       "    <tr>\n",
       "      <th>50%</th>\n",
       "      <td>0.000000</td>\n",
       "      <td>30.000000</td>\n",
       "      <td>40200.000000</td>\n",
       "      <td>1.000000</td>\n",
       "      <td>0.000000</td>\n",
       "    </tr>\n",
       "    <tr>\n",
       "      <th>75%</th>\n",
       "      <td>1.000000</td>\n",
       "      <td>37.000000</td>\n",
       "      <td>46600.000000</td>\n",
       "      <td>2.000000</td>\n",
       "      <td>0.000000</td>\n",
       "    </tr>\n",
       "    <tr>\n",
       "      <th>max</th>\n",
       "      <td>1.000000</td>\n",
       "      <td>65.000000</td>\n",
       "      <td>79000.000000</td>\n",
       "      <td>6.000000</td>\n",
       "      <td>5.000000</td>\n",
       "    </tr>\n",
       "  </tbody>\n",
       "</table>\n",
       "</div>"
      ],
      "text/plain": [
       "            Gender          Age        Salary  Family members  \\\n",
       "count  5000.000000  5000.000000   5000.000000     5000.000000   \n",
       "mean      0.499000    30.952800  39916.360000        1.194200   \n",
       "std       0.500049     8.440807   9900.083569        1.091387   \n",
       "min       0.000000    18.000000   5300.000000        0.000000   \n",
       "25%       0.000000    24.000000  33300.000000        0.000000   \n",
       "50%       0.000000    30.000000  40200.000000        1.000000   \n",
       "75%       1.000000    37.000000  46600.000000        2.000000   \n",
       "max       1.000000    65.000000  79000.000000        6.000000   \n",
       "\n",
       "       Insurance benefits  \n",
       "count         5000.000000  \n",
       "mean             0.148000  \n",
       "std              0.463183  \n",
       "min              0.000000  \n",
       "25%              0.000000  \n",
       "50%              0.000000  \n",
       "75%              0.000000  \n",
       "max              5.000000  "
      ]
     },
     "execution_count": 5,
     "metadata": {},
     "output_type": "execute_result"
    }
   ],
   "source": [
    "df.describe()"
   ]
  },
  {
   "cell_type": "markdown",
   "metadata": {},
   "source": [
    "The income minimum seems suspicious, though not something impossible. There a mix between float and int, though it doesn't actually matter. The rest seems fairly error free."
   ]
  },
  {
   "cell_type": "markdown",
   "metadata": {},
   "source": [
    "## EDA"
   ]
  },
  {
   "cell_type": "markdown",
   "metadata": {},
   "source": [
    "Let's quickly check whether there are certain groups of customers by looking at the pair plot."
   ]
  },
  {
   "cell_type": "code",
   "execution_count": 6,
   "metadata": {},
   "outputs": [
    {
     "data": {
      "image/png": "[encoded data removed]",
      "text/plain": [
       "<Figure size 864x864 with 30 Axes>"
      ]
     },
     "metadata": {
      "needs_background": "light"
     },
     "output_type": "display_data"
    }
   ],
   "source": [
    "df_graphs = sns.pairplot(df, kind='hist')\n",
    "df_graphs.fig.set_size_inches(12, 12)"
   ]
  },
  {
   "cell_type": "markdown",
   "metadata": {},
   "source": [
    "Ok, it is a bit difficult to spot obvious groups (clusters) as it is difficult to combine several variables simultaneously (to analyze multivariate distributions). That's where LA and ML can be quite handy."
   ]
  },
  {
   "cell_type": "markdown",
   "metadata": {},
   "source": [
    "# Task 1. Similar Customers"
   ]
  },
  {
   "cell_type": "markdown",
   "metadata": {},
   "source": [
    "In the language of ML, it is necessary to develop a procedure that returns k nearest neighbors (objects) for a given object based on the distance between the objects.\n",
    "\n",
    "You may want to review the following lessons (chapter -> lesson)\n",
    "- Distance Between Vectors -> Euclidean Distance\n",
    "- Distance Between Vectors -> Manhattan Distance\n",
    "\n",
    "To solve the task, we can try different distance metrics."
   ]
  },
  {
   "cell_type": "markdown",
   "metadata": {},
   "source": [
    "Write a function that returns k nearest neighbors for an $n^{th}$ object based on a specified distance metric. The number of received insurance benefits should not be taken into account for this task. \n",
    "\n",
    "You can use a ready implementation of the kNN algorithm from scikit-learn (check [the link](https://scikit-learn.org/stable/modules/generated/sklearn.neighbors.NearestNeighbors.html#sklearn.neighbors.NearestNeighbors)) or use your own.\n",
    "\n",
    "Test it for four combination of two cases\n",
    "- Scaling\n",
    "  - the data is not scaled\n",
    "  - the data is scaled with the [MaxAbsScaler](https://scikit-learn.org/stable/modules/generated/sklearn.preprocessing.MaxAbsScaler.html) scaler\n",
    "- Distance Metrics\n",
    "  - Euclidean\n",
    "  - Manhattan\n",
    "\n",
    "Answer these questions:\n",
    "- Does the data being not scaled affect the kNN algorithm? If so, how does that appear?\n",
    "- How similar are the results using the Manhattan distance metric (regardless of the scaling)?"
   ]
  },
  {
   "cell_type": "code",
   "execution_count": 7,
   "metadata": {},
   "outputs": [],
   "source": [
    "def get_knn(df, n, k, metric):\n",
    "    \n",
    "    \"\"\"\n",
    "    Returns k nearest neighborsnei\n",
    "\n",
    "    :param df: pandas DataFrame used to find similar objects within\n",
    "    :param n: object no for which the nearest neighbours are looked for\n",
    "    :param k: the number of the nearest neighbours to return\n",
    "    :param metric: name of distance metric\n",
    "    \"\"\"\n",
    "    \n",
    "    nbrs = sklearn.neighbors.NearestNeighbors(n_neighbors=n, metric=metric)\n",
    "    nbrs.fit(df[feature_names])\n",
    "    nbrs_distances, nbrs_indices = nbrs.kneighbors([df.iloc[n][feature_names]], k, return_distance=True)\n",
    "    \n",
    "    df_res = pd.concat([\n",
    "        df.iloc[nbrs_indices[0]], \n",
    "        pd.DataFrame(nbrs_distances.T, index=nbrs_indices[0], columns=['distance'])\n",
    "        ], axis=1)\n",
    "    \n",
    "    return df_res"
   ]
  },
  {
   "cell_type": "code",
   "execution_count": 8,
   "metadata": {},
   "outputs": [],
   "source": [
    "# Scaling our dataframe\n",
    "feature_names = df.drop(['Insurance benefits'], axis=1).columns\n",
    "transformer_mas = sklearn.preprocessing.MaxAbsScaler().fit(df[feature_names].to_numpy())\n",
    "\n",
    "df_scaled = df.copy()\n",
    "df_scaled.loc[:, feature_names] = transformer_mas.transform(df[feature_names].to_numpy())"
   ]
  },
  {
   "cell_type": "code",
   "execution_count": 9,
   "metadata": {},
   "outputs": [
    {
     "data": {
      "text/html": [
       "<div>\n",
       "<style scoped>\n",
       "    .dataframe tbody tr th:only-of-type {\n",
       "        vertical-align: middle;\n",
       "    }\n",
       "\n",
       "    .dataframe tbody tr th {\n",
       "        vertical-align: top;\n",
       "    }\n",
       "\n",
       "    .dataframe thead th {\n",
       "        text-align: right;\n",
       "    }\n",
       "</style>\n",
       "<table border=\"1\" class=\"dataframe\">\n",
       "  <thead>\n",
       "    <tr style=\"text-align: right;\">\n",
       "      <th></th>\n",
       "      <th>Gender</th>\n",
       "      <th>Age</th>\n",
       "      <th>Salary</th>\n",
       "      <th>Family members</th>\n",
       "      <th>Insurance benefits</th>\n",
       "    </tr>\n",
       "  </thead>\n",
       "  <tbody>\n",
       "    <tr>\n",
       "      <th>3252</th>\n",
       "      <td>1.0</td>\n",
       "      <td>0.538462</td>\n",
       "      <td>0.527848</td>\n",
       "      <td>0.166667</td>\n",
       "      <td>0</td>\n",
       "    </tr>\n",
       "    <tr>\n",
       "      <th>3235</th>\n",
       "      <td>0.0</td>\n",
       "      <td>0.323077</td>\n",
       "      <td>0.513924</td>\n",
       "      <td>0.000000</td>\n",
       "      <td>0</td>\n",
       "    </tr>\n",
       "    <tr>\n",
       "      <th>1938</th>\n",
       "      <td>0.0</td>\n",
       "      <td>0.323077</td>\n",
       "      <td>0.573418</td>\n",
       "      <td>0.333333</td>\n",
       "      <td>0</td>\n",
       "    </tr>\n",
       "    <tr>\n",
       "      <th>4842</th>\n",
       "      <td>0.0</td>\n",
       "      <td>0.415385</td>\n",
       "      <td>0.492405</td>\n",
       "      <td>0.000000</td>\n",
       "      <td>0</td>\n",
       "    </tr>\n",
       "    <tr>\n",
       "      <th>2043</th>\n",
       "      <td>0.0</td>\n",
       "      <td>0.553846</td>\n",
       "      <td>0.354430</td>\n",
       "      <td>0.333333</td>\n",
       "      <td>0</td>\n",
       "    </tr>\n",
       "  </tbody>\n",
       "</table>\n",
       "</div>"
      ],
      "text/plain": [
       "      Gender       Age    Salary  Family members  Insurance benefits\n",
       "3252     1.0  0.538462  0.527848        0.166667                   0\n",
       "3235     0.0  0.323077  0.513924        0.000000                   0\n",
       "1938     0.0  0.323077  0.573418        0.333333                   0\n",
       "4842     0.0  0.415385  0.492405        0.000000                   0\n",
       "2043     0.0  0.553846  0.354430        0.333333                   0"
      ]
     },
     "execution_count": 9,
     "metadata": {},
     "output_type": "execute_result"
    }
   ],
   "source": [
    "df_scaled.sample(5)"
   ]
  },
  {
   "cell_type": "markdown",
   "metadata": {},
   "source": [
    "Now, let's get similar records for a given one for every combination"
   ]
  },
  {
   "cell_type": "code",
   "execution_count": 10,
   "metadata": {},
   "outputs": [
    {
     "data": {
      "text/html": [
       "<div>\n",
       "<style scoped>\n",
       "    .dataframe tbody tr th:only-of-type {\n",
       "        vertical-align: middle;\n",
       "    }\n",
       "\n",
       "    .dataframe tbody tr th {\n",
       "        vertical-align: top;\n",
       "    }\n",
       "\n",
       "    .dataframe thead th {\n",
       "        text-align: right;\n",
       "    }\n",
       "</style>\n",
       "<table border=\"1\" class=\"dataframe\">\n",
       "  <thead>\n",
       "    <tr style=\"text-align: right;\">\n",
       "      <th></th>\n",
       "      <th>Gender</th>\n",
       "      <th>Age</th>\n",
       "      <th>Salary</th>\n",
       "      <th>Family members</th>\n",
       "      <th>Insurance benefits</th>\n",
       "      <th>distance</th>\n",
       "    </tr>\n",
       "  </thead>\n",
       "  <tbody>\n",
       "    <tr>\n",
       "      <th>6</th>\n",
       "      <td>1</td>\n",
       "      <td>39.0</td>\n",
       "      <td>39700.0</td>\n",
       "      <td>2</td>\n",
       "      <td>0</td>\n",
       "      <td>0.000000</td>\n",
       "    </tr>\n",
       "    <tr>\n",
       "      <th>3695</th>\n",
       "      <td>1</td>\n",
       "      <td>40.0</td>\n",
       "      <td>39700.0</td>\n",
       "      <td>3</td>\n",
       "      <td>0</td>\n",
       "      <td>1.414214</td>\n",
       "    </tr>\n",
       "    <tr>\n",
       "      <th>4248</th>\n",
       "      <td>1</td>\n",
       "      <td>38.0</td>\n",
       "      <td>39700.0</td>\n",
       "      <td>1</td>\n",
       "      <td>0</td>\n",
       "      <td>1.414214</td>\n",
       "    </tr>\n",
       "  </tbody>\n",
       "</table>\n",
       "</div>"
      ],
      "text/plain": [
       "      Gender   Age   Salary  Family members  Insurance benefits  distance\n",
       "6          1  39.0  39700.0               2                   0  0.000000\n",
       "3695       1  40.0  39700.0               3                   0  1.414214\n",
       "4248       1  38.0  39700.0               1                   0  1.414214"
      ]
     },
     "execution_count": 10,
     "metadata": {},
     "output_type": "execute_result"
    }
   ],
   "source": [
    "get_knn(df=df, n=6, k=3, metric='euclidean')"
   ]
  },
  {
   "cell_type": "code",
   "execution_count": 11,
   "metadata": {},
   "outputs": [
    {
     "data": {
      "text/html": [
       "<div>\n",
       "<style scoped>\n",
       "    .dataframe tbody tr th:only-of-type {\n",
       "        vertical-align: middle;\n",
       "    }\n",
       "\n",
       "    .dataframe tbody tr th {\n",
       "        vertical-align: top;\n",
       "    }\n",
       "\n",
       "    .dataframe thead th {\n",
       "        text-align: right;\n",
       "    }\n",
       "</style>\n",
       "<table border=\"1\" class=\"dataframe\">\n",
       "  <thead>\n",
       "    <tr style=\"text-align: right;\">\n",
       "      <th></th>\n",
       "      <th>Gender</th>\n",
       "      <th>Age</th>\n",
       "      <th>Salary</th>\n",
       "      <th>Family members</th>\n",
       "      <th>Insurance benefits</th>\n",
       "      <th>distance</th>\n",
       "    </tr>\n",
       "  </thead>\n",
       "  <tbody>\n",
       "    <tr>\n",
       "      <th>6</th>\n",
       "      <td>1</td>\n",
       "      <td>39.0</td>\n",
       "      <td>39700.0</td>\n",
       "      <td>2</td>\n",
       "      <td>0</td>\n",
       "      <td>0.0</td>\n",
       "    </tr>\n",
       "    <tr>\n",
       "      <th>3695</th>\n",
       "      <td>1</td>\n",
       "      <td>40.0</td>\n",
       "      <td>39700.0</td>\n",
       "      <td>3</td>\n",
       "      <td>0</td>\n",
       "      <td>2.0</td>\n",
       "    </tr>\n",
       "    <tr>\n",
       "      <th>4248</th>\n",
       "      <td>1</td>\n",
       "      <td>38.0</td>\n",
       "      <td>39700.0</td>\n",
       "      <td>1</td>\n",
       "      <td>0</td>\n",
       "      <td>2.0</td>\n",
       "    </tr>\n",
       "  </tbody>\n",
       "</table>\n",
       "</div>"
      ],
      "text/plain": [
       "      Gender   Age   Salary  Family members  Insurance benefits  distance\n",
       "6          1  39.0  39700.0               2                   0       0.0\n",
       "3695       1  40.0  39700.0               3                   0       2.0\n",
       "4248       1  38.0  39700.0               1                   0       2.0"
      ]
     },
     "execution_count": 11,
     "metadata": {},
     "output_type": "execute_result"
    }
   ],
   "source": [
    "get_knn(df=df, n=6, k=3, metric='manhattan')"
   ]
  },
  {
   "cell_type": "code",
   "execution_count": 12,
   "metadata": {},
   "outputs": [
    {
     "data": {
      "text/html": [
       "<div>\n",
       "<style scoped>\n",
       "    .dataframe tbody tr th:only-of-type {\n",
       "        vertical-align: middle;\n",
       "    }\n",
       "\n",
       "    .dataframe tbody tr th {\n",
       "        vertical-align: top;\n",
       "    }\n",
       "\n",
       "    .dataframe thead th {\n",
       "        text-align: right;\n",
       "    }\n",
       "</style>\n",
       "<table border=\"1\" class=\"dataframe\">\n",
       "  <thead>\n",
       "    <tr style=\"text-align: right;\">\n",
       "      <th></th>\n",
       "      <th>Gender</th>\n",
       "      <th>Age</th>\n",
       "      <th>Salary</th>\n",
       "      <th>Family members</th>\n",
       "      <th>Insurance benefits</th>\n",
       "      <th>distance</th>\n",
       "    </tr>\n",
       "  </thead>\n",
       "  <tbody>\n",
       "    <tr>\n",
       "      <th>6</th>\n",
       "      <td>1.0</td>\n",
       "      <td>0.6</td>\n",
       "      <td>0.502532</td>\n",
       "      <td>0.333333</td>\n",
       "      <td>0</td>\n",
       "      <td>0.000000</td>\n",
       "    </tr>\n",
       "    <tr>\n",
       "      <th>1415</th>\n",
       "      <td>1.0</td>\n",
       "      <td>0.6</td>\n",
       "      <td>0.505063</td>\n",
       "      <td>0.333333</td>\n",
       "      <td>0</td>\n",
       "      <td>0.002532</td>\n",
       "    </tr>\n",
       "    <tr>\n",
       "      <th>108</th>\n",
       "      <td>1.0</td>\n",
       "      <td>0.6</td>\n",
       "      <td>0.507595</td>\n",
       "      <td>0.333333</td>\n",
       "      <td>0</td>\n",
       "      <td>0.005063</td>\n",
       "    </tr>\n",
       "  </tbody>\n",
       "</table>\n",
       "</div>"
      ],
      "text/plain": [
       "      Gender  Age    Salary  Family members  Insurance benefits  distance\n",
       "6        1.0  0.6  0.502532        0.333333                   0  0.000000\n",
       "1415     1.0  0.6  0.505063        0.333333                   0  0.002532\n",
       "108      1.0  0.6  0.507595        0.333333                   0  0.005063"
      ]
     },
     "execution_count": 12,
     "metadata": {},
     "output_type": "execute_result"
    }
   ],
   "source": [
    "get_knn(df=df_scaled, n=6, k=3, metric='euclidean')"
   ]
  },
  {
   "cell_type": "code",
   "execution_count": 13,
   "metadata": {},
   "outputs": [
    {
     "data": {
      "text/html": [
       "<div>\n",
       "<style scoped>\n",
       "    .dataframe tbody tr th:only-of-type {\n",
       "        vertical-align: middle;\n",
       "    }\n",
       "\n",
       "    .dataframe tbody tr th {\n",
       "        vertical-align: top;\n",
       "    }\n",
       "\n",
       "    .dataframe thead th {\n",
       "        text-align: right;\n",
       "    }\n",
       "</style>\n",
       "<table border=\"1\" class=\"dataframe\">\n",
       "  <thead>\n",
       "    <tr style=\"text-align: right;\">\n",
       "      <th></th>\n",
       "      <th>Gender</th>\n",
       "      <th>Age</th>\n",
       "      <th>Salary</th>\n",
       "      <th>Family members</th>\n",
       "      <th>Insurance benefits</th>\n",
       "      <th>distance</th>\n",
       "    </tr>\n",
       "  </thead>\n",
       "  <tbody>\n",
       "    <tr>\n",
       "      <th>6</th>\n",
       "      <td>1.0</td>\n",
       "      <td>0.6</td>\n",
       "      <td>0.502532</td>\n",
       "      <td>0.333333</td>\n",
       "      <td>0</td>\n",
       "      <td>0.000000</td>\n",
       "    </tr>\n",
       "    <tr>\n",
       "      <th>1415</th>\n",
       "      <td>1.0</td>\n",
       "      <td>0.6</td>\n",
       "      <td>0.505063</td>\n",
       "      <td>0.333333</td>\n",
       "      <td>0</td>\n",
       "      <td>0.002532</td>\n",
       "    </tr>\n",
       "    <tr>\n",
       "      <th>108</th>\n",
       "      <td>1.0</td>\n",
       "      <td>0.6</td>\n",
       "      <td>0.507595</td>\n",
       "      <td>0.333333</td>\n",
       "      <td>0</td>\n",
       "      <td>0.005063</td>\n",
       "    </tr>\n",
       "  </tbody>\n",
       "</table>\n",
       "</div>"
      ],
      "text/plain": [
       "      Gender  Age    Salary  Family members  Insurance benefits  distance\n",
       "6        1.0  0.6  0.502532        0.333333                   0  0.000000\n",
       "1415     1.0  0.6  0.505063        0.333333                   0  0.002532\n",
       "108      1.0  0.6  0.507595        0.333333                   0  0.005063"
      ]
     },
     "execution_count": 13,
     "metadata": {},
     "output_type": "execute_result"
    }
   ],
   "source": [
    "get_knn(df=df_scaled, n=6, k=3, metric='manhattan')"
   ]
  },
  {
   "cell_type": "markdown",
   "metadata": {},
   "source": [
    "Answers to the questions"
   ]
  },
  {
   "cell_type": "markdown",
   "metadata": {},
   "source": [
    "**Does the data being not scaled affect the kNN algorithm? If so, how does that appear?** \n",
    "\n",
    "When it's not scaled it results in finding the 'nearest' values still having relatively large distances. Scaling seems to improve the function's ability to find the closest value's rows."
   ]
  },
  {
   "cell_type": "markdown",
   "metadata": {},
   "source": [
    "**How similar are the results using the Manhattan distance metric (regardless of the scaling)?** \n",
    "\n",
    "Using Manhattan vs Euclidean seems to result in the same outcome for this dataset."
   ]
  },
  {
   "cell_type": "markdown",
   "metadata": {},
   "source": [
    "# Task 2. Is Customer Likely to Receive Insurance Benefit?"
   ]
  },
  {
   "cell_type": "markdown",
   "metadata": {},
   "source": [
    "In terms of machine learning we can look at this like a binary classification task."
   ]
  },
  {
   "cell_type": "markdown",
   "metadata": {},
   "source": [
    "With `insurance_benefits` being more than zero as the target, evaluate whether the kNN classification approach can do better than a dummy model.\n",
    "\n",
    "Instructions:\n",
    "- Build a KNN-based classifier and measure its quality with the F1 metric for k=1..10 for both the original data and the scaled one. That'd be interesting to see how k may influece the evaluation metric, and whether scaling the data makes any difference. You can use a ready implemention of the kNN classification algorithm from scikit-learn (check [the link](https://scikit-learn.org/stable/modules/generated/sklearn.neighbors.KNeighborsClassifier.html)) or use your own.\n",
    "- Build the dummy model which is just random for this case. It should return \"1\" with some probability. Let's test the model with four probability values: 0, the probability of paying any insurance benefit, 0.5, 1.\n",
    "\n",
    "The probability of paying any insurance benefit can be defined as\n",
    "\n",
    "$$\n",
    "P\\{\\text{insurance benefit received}\\}=\\frac{\\text{number of clients received any insurance benefit}}{\\text{total number of clients}}.\n",
    "$$\n",
    "\n",
    "Split the whole data in the 70:30 proportion for the training/testing parts."
   ]
  },
  {
   "cell_type": "code",
   "execution_count": 14,
   "metadata": {},
   "outputs": [],
   "source": [
    "# calculate the target\n",
    "df['insurance_benefits_received'] = (df['Insurance benefits'] > 0).astype(int)\n",
    "\n",
    "target_train, target_test, features_train, features_test = train_test_split(\n",
    "    df['insurance_benefits_received'], df.drop(['insurance_benefits_received'], axis=1), test_size=0.7, random_state=42)"
   ]
  },
  {
   "cell_type": "code",
   "execution_count": 15,
   "metadata": {},
   "outputs": [
    {
     "data": {
      "text/plain": [
       "0    4436\n",
       "1     564\n",
       "Name: insurance_benefits_received, dtype: int64"
      ]
     },
     "execution_count": 15,
     "metadata": {},
     "output_type": "execute_result"
    }
   ],
   "source": [
    "# check for the class imbalance with value_counts()\n",
    "df['insurance_benefits_received'].value_counts()"
   ]
  },
  {
   "cell_type": "code",
   "execution_count": 16,
   "metadata": {},
   "outputs": [],
   "source": [
    "def eval_classifier(y_true, y_pred):\n",
    "    \n",
    "    f1_score = sklearn.metrics.f1_score(y_true, y_pred)\n",
    "    print(f'F1: {f1_score:.2f}')\n",
    "    \n",
    "# if you have an issue with the following line, restart the kernel and run the notebook again\n",
    "    cm = sklearn.metrics.confusion_matrix(y_true, y_pred, normalize='all')\n",
    "    print('Confusion Matrix')\n",
    "    print(cm)"
   ]
  },
  {
   "cell_type": "code",
   "execution_count": 17,
   "metadata": {},
   "outputs": [],
   "source": [
    "# generating output of a random model\n",
    "\n",
    "def rnd_model_predict(P, size, seed=42):\n",
    "\n",
    "    rng = np.random.default_rng(seed=seed)\n",
    "    return rng.binomial(n=1, p=P, size=size)"
   ]
  },
  {
   "cell_type": "code",
   "execution_count": 18,
   "metadata": {},
   "outputs": [
    {
     "name": "stdout",
     "output_type": "stream",
     "text": [
      "The probability: 0.00\n",
      "F1: 0.00\n",
      "Confusion Matrix\n",
      "[[0.8872 0.    ]\n",
      " [0.1128 0.    ]]\n",
      "\n",
      "The probability: 0.11\n",
      "F1: 0.12\n",
      "Confusion Matrix\n",
      "[[0.7914 0.0958]\n",
      " [0.0994 0.0134]]\n",
      "\n",
      "The probability: 0.50\n",
      "F1: 0.20\n",
      "Confusion Matrix\n",
      "[[0.456  0.4312]\n",
      " [0.053  0.0598]]\n",
      "\n",
      "The probability: 1.00\n",
      "F1: 0.20\n",
      "Confusion Matrix\n",
      "[[0.     0.8872]\n",
      " [0.     0.1128]]\n",
      "\n"
     ]
    }
   ],
   "source": [
    "# Dummy model\n",
    "for P in [0, df['insurance_benefits_received'].sum() / len(df), 0.5, 1]:\n",
    "\n",
    "    print(f'The probability: {P:.2f}')\n",
    "    y_pred_rnd = rnd_model_predict(P, len(df))\n",
    "        \n",
    "    eval_classifier(df['insurance_benefits_received'], y_pred_rnd)\n",
    "    \n",
    "    print()"
   ]
  },
  {
   "cell_type": "code",
   "execution_count": 19,
   "metadata": {},
   "outputs": [
    {
     "name": "stdout",
     "output_type": "stream",
     "text": [
      "F1: 0.08\n",
      "Confusion Matrix\n",
      "[[0.884      0.00314286]\n",
      " [0.10828571 0.00457143]]\n"
     ]
    }
   ],
   "source": [
    "# Proper model\n",
    "model = sklearn.neighbors.KNeighborsClassifier(n_neighbors=5, metric='euclidean', algorithm='brute')\n",
    "model.fit(features_train, target_train)\n",
    "\n",
    "P = model.predict(features_test)\n",
    "\n",
    "eval_classifier(target_test, P)"
   ]
  },
  {
   "cell_type": "code",
   "execution_count": 20,
   "metadata": {},
   "outputs": [
    {
     "name": "stdout",
     "output_type": "stream",
     "text": [
      "F1: 1.00\n",
      "Confusion Matrix\n",
      "[[0.88714286 0.        ]\n",
      " [0.         0.11285714]]\n"
     ]
    }
   ],
   "source": [
    "# Proper scaled model\n",
    "df_scaled = df\n",
    "df_scaled.loc[:, feature_names] = transformer_mas.transform(df[feature_names].to_numpy())\n",
    "\n",
    "scaled_target_train, scaled_target_test, scaled_features_train, scaled_features_test = train_test_split(\n",
    "    df_scaled['insurance_benefits_received'], df_scaled.drop(['insurance_benefits_received'], axis=1), test_size=0.7, random_state=42)\n",
    "\n",
    "model = sklearn.neighbors.KNeighborsClassifier(n_neighbors=5, metric='euclidean', algorithm='brute')\n",
    "model.fit(scaled_features_train, scaled_target_train)\n",
    "predict = model.predict(scaled_features_test)\n",
    "\n",
    "P = model.predict(scaled_features_test)\n",
    "eval_classifier(scaled_target_test, P)"
   ]
  },
  {
   "cell_type": "markdown",
   "metadata": {},
   "source": [
    "The dummy can surpass the unscaled model, though the scaled model has a much better (1.0) F1 score than the dummy or unscaled model."
   ]
  },
  {
   "cell_type": "markdown",
   "metadata": {},
   "source": [
    "# Task 3. Regression (with Linear Regression)"
   ]
  },
  {
   "cell_type": "markdown",
   "metadata": {},
   "source": [
    "With `insurance_benefits` as the target, evaluate what RMSE would be for a Linear Regression model."
   ]
  },
  {
   "cell_type": "markdown",
   "metadata": {},
   "source": [
    "Build your own implementation of LR. For that, recall how the linear regression task's solution is formulated in terms of LA. Check RMSE for both the original data and the scaled one. Can you see any difference in RMSE between these two cases?\n",
    "\n",
    "Let's denote\n",
    "- $X$ — feature matrix, each row is a case, each column is a feature, the first column consists of unities\n",
    "- $y$ — target (a vector)\n",
    "- $\\hat{y}$ — estimated tagret (a vector)\n",
    "- $w$ — weight vector\n",
    "\n",
    "The task of linear regression in the language of matrices can be formulated as\n",
    "\n",
    "$$\n",
    "y = Xw\n",
    "$$\n",
    "\n",
    "The training objective then is to find such $w$ that it would minimize the L2-distance (MSE) between $Xw$ and $y$:\n",
    "\n",
    "$$\n",
    "\\min_w d_2(Xw, y) \\quad \\text{or} \\quad \\min_w \\text{MSE}(Xw, y)\n",
    "$$\n",
    "\n",
    "It appears that there is analytical solution for the above:\n",
    "\n",
    "$$\n",
    "w = (X^T X)^{-1} X^T y\n",
    "$$\n",
    "\n",
    "The formula above can be used to find the weights $w$ and the latter can be used to calculate predicted values\n",
    "\n",
    "$$\n",
    "\\hat{y} = X_{val}w\n",
    "$$"
   ]
  },
  {
   "cell_type": "markdown",
   "metadata": {},
   "source": [
    "Split the whole data in the 70:30 proportion for the training/validation parts. Use the RMSE metric for the model evaluation."
   ]
  },
  {
   "cell_type": "code",
   "execution_count": 21,
   "metadata": {},
   "outputs": [],
   "source": [
    "class MyLinearRegression:\n",
    "    \n",
    "    def __init__(self):\n",
    "        \n",
    "        self.weights = None\n",
    "    \n",
    "    def fit(self, X, y):\n",
    "        \n",
    "        # adding the unities\n",
    "        X2 = np.append(np.ones([len(X), 1]), X, axis=1)\n",
    "        self.weights = np.linalg.inv(X2.T.dot(X2)).dot(X2.T).dot(y)\n",
    "\n",
    "    def predict(self, X):\n",
    "        \n",
    "        # adding the unities\n",
    "        X2 = np.append(np.ones([len(X), 1]), X, axis=1)\n",
    "        y_pred = np.dot(X2, self.weights)\n",
    "        \n",
    "        return y_pred"
   ]
  },
  {
   "cell_type": "code",
   "execution_count": 22,
   "metadata": {},
   "outputs": [],
   "source": [
    "def eval_regressor(y_true, y_pred):\n",
    "    \n",
    "    rmse = math.sqrt(sklearn.metrics.mean_squared_error(y_true, y_pred))\n",
    "    print(f'RMSE: {rmse:.2f}')\n",
    "    \n",
    "    r2_score = math.sqrt(sklearn.metrics.r2_score(y_true, y_pred))\n",
    "    print(f'R2: {r2_score:.2f}')    "
   ]
  },
  {
   "cell_type": "code",
   "execution_count": null,
   "metadata": {},
   "outputs": [],
   "source": []
  },
  {
   "cell_type": "code",
   "execution_count": 23,
   "metadata": {},
   "outputs": [
    {
     "name": "stdout",
     "output_type": "stream",
     "text": [
      "[-0.94353901  2.32372069  0.01642727 -0.02059875 -0.07014128]\n",
      "RMSE: 0.34\n",
      "R2: 0.66\n"
     ]
    }
   ],
   "source": [
    "X = df[['Age', 'Gender', 'Salary', 'Family members']].to_numpy()\n",
    "y = df['Insurance benefits'].to_numpy()\n",
    "\n",
    "X_train, X_test, y_train, y_test = train_test_split(X, y, test_size=0.3, random_state=12345)\n",
    "\n",
    "lr = MyLinearRegression()\n",
    "\n",
    "lr.fit(X_train, y_train)\n",
    "print(lr.weights)\n",
    "\n",
    "y_test_pred = lr.predict(X_test)\n",
    "eval_regressor(y_test, y_test_pred)"
   ]
  },
  {
   "cell_type": "code",
   "execution_count": 24,
   "metadata": {},
   "outputs": [
    {
     "name": "stdout",
     "output_type": "stream",
     "text": [
      "[-0.12072951  0.00209797  0.27613324  0.02609914  0.00180037  0.59851614]\n",
      "RMSE: 0.14\n",
      "R2: 0.89\n"
     ]
    }
   ],
   "source": [
    "lr = MyLinearRegression()\n",
    "\n",
    "lr.fit(scaled_features_train, scaled_target_train)\n",
    "print(lr.weights)\n",
    "\n",
    "scaled_target_test_pred = lr.predict(scaled_features_test)\n",
    "eval_regressor(scaled_target_test, scaled_target_test_pred)"
   ]
  },
  {
   "cell_type": "markdown",
   "metadata": {},
   "source": [
    "The RMSE for the unscaled model is much higher than the scaled model, as well as the R2 score being higher for the scaled model. It seems that scaling is almost always better."
   ]
  },
  {
   "cell_type": "markdown",
   "metadata": {},
   "source": [
    "# Task 4. Obfuscating Data"
   ]
  },
  {
   "cell_type": "markdown",
   "metadata": {},
   "source": [
    "It best to obfuscate data by multiplying the numerical features (remember, they can be seen as the matrix $X$) by an invertible matrix $P$. \n",
    "\n",
    "$$\n",
    "X' = X \\times P\n",
    "$$\n",
    "\n",
    "Try to do that and check how the features' values will look like after the transformation. By the way, the intertible property is important here so make sure that $P$ is indeed invertible.\n",
    "\n",
    "You may want to review the 'Matrices and Matrix Operations -> Matrix Multiplication' lesson to recall the rule of matrix multiplication and its implementation with NumPy."
   ]
  },
  {
   "cell_type": "code",
   "execution_count": 25,
   "metadata": {},
   "outputs": [],
   "source": [
    "personal_info_column_list = feature_names\n",
    "df_pn = df[personal_info_column_list]\n",
    "\n",
    "X = df_pn.to_numpy()"
   ]
  },
  {
   "cell_type": "markdown",
   "metadata": {},
   "source": [
    "Generating a random matrix $P$."
   ]
  },
  {
   "cell_type": "code",
   "execution_count": 26,
   "metadata": {},
   "outputs": [],
   "source": [
    "rng = np.random.default_rng(seed=42)\n",
    "P = rng.random(size=(X.shape[1], X.shape[1]))"
   ]
  },
  {
   "cell_type": "code",
   "execution_count": 27,
   "metadata": {},
   "outputs": [
    {
     "data": {
      "text/plain": [
       "(4, 4)"
      ]
     },
     "execution_count": 27,
     "metadata": {},
     "output_type": "execute_result"
    }
   ],
   "source": [
    "P.shape"
   ]
  },
  {
   "cell_type": "markdown",
   "metadata": {},
   "source": [
    "Checking the matrix $P$ is invertible"
   ]
  },
  {
   "cell_type": "code",
   "execution_count": 28,
   "metadata": {},
   "outputs": [],
   "source": [
    "try:\n",
    "    np.dot(P, np.linalg.inv(P))\n",
    "except:\n",
    "    print('Not invertible - generates an error.')"
   ]
  },
  {
   "cell_type": "markdown",
   "metadata": {},
   "source": [
    "Can you guess the customers' ages or income after the transformation?"
   ]
  },
  {
   "cell_type": "markdown",
   "metadata": {},
   "source": [
    "No"
   ]
  },
  {
   "cell_type": "markdown",
   "metadata": {},
   "source": [
    "Can you recover the original data from $X'$ if you know $P$? Try to check that with calculations by moving $P$ from the right side of the formula above to the left one. The rules of matrix multiplcation are really helpful here."
   ]
  },
  {
   "cell_type": "code",
   "execution_count": 29,
   "metadata": {},
   "outputs": [
    {
     "data": {
      "text/plain": [
       "array([[ 1.00000000e+00,  6.30769231e-01,  6.27848101e-01,\n",
       "         1.66666667e-01],\n",
       "       [-1.96826790e-17,  7.07692308e-01,  4.81012658e-01,\n",
       "         1.66666667e-01],\n",
       "       [ 8.19970575e-17,  4.46153846e-01,  2.65822785e-01,\n",
       "        -5.81541810e-17],\n",
       "       ...,\n",
       "       [-3.62265212e-18,  3.07692308e-01,  4.29113924e-01,\n",
       "         3.33333333e-01],\n",
       "       [ 1.00000000e+00,  3.38461538e-01,  4.13924051e-01,\n",
       "         5.00000000e-01],\n",
       "       [ 1.00000000e+00,  4.30769231e-01,  5.13924051e-01,\n",
       "         1.66666667e-01]])"
      ]
     },
     "execution_count": 29,
     "metadata": {},
     "output_type": "execute_result"
    }
   ],
   "source": [
    "np.dot(np.dot(X, P), np.linalg.inv(P))"
   ]
  },
  {
   "cell_type": "markdown",
   "metadata": {},
   "source": [
    "Print all three cases for a few customers\n",
    "- The original data\n",
    "- The transformed one\n",
    "- The reversed (recovered) one"
   ]
  },
  {
   "cell_type": "code",
   "execution_count": 30,
   "metadata": {},
   "outputs": [
    {
     "name": "stdout",
     "output_type": "stream",
     "text": [
      "[[0.77395605 0.43887844 0.85859792 0.69736803]\n",
      " [0.09417735 0.97562235 0.7611397  0.78606431]\n",
      " [0.12811363 0.45038594 0.37079802 0.92676499]\n",
      " [0.64386512 0.82276161 0.4434142  0.22723872]]\n",
      "\n",
      "[[1.02110698 1.47417189 1.64540863 1.81293397]\n",
      " [0.23558372 1.04420871 0.79091362 1.03995047]\n",
      " [0.07607311 0.55500051 0.43815197 0.59706086]\n",
      " ...\n",
      " [0.2985747  0.76771224 0.54111616 0.71529994]\n",
      " [1.18079333 1.36689546 1.49140375 1.46065024]\n",
      " [0.98767628 1.22773763 1.45093787 1.55014028]]\n",
      "\n",
      "[[ 1.00000000e+00  6.30769231e-01  6.27848101e-01  1.66666667e-01]\n",
      " [-1.96826790e-17  7.07692308e-01  4.81012658e-01  1.66666667e-01]\n",
      " [ 8.19970575e-17  4.46153846e-01  2.65822785e-01 -5.81541810e-17]\n",
      " ...\n",
      " [-3.62265212e-18  3.07692308e-01  4.29113924e-01  3.33333333e-01]\n",
      " [ 1.00000000e+00  3.38461538e-01  4.13924051e-01  5.00000000e-01]\n",
      " [ 1.00000000e+00  4.30769231e-01  5.13924051e-01  1.66666667e-01]]\n"
     ]
    }
   ],
   "source": [
    "print(P)\n",
    "print()\n",
    "print(np.dot(X, P))\n",
    "print()\n",
    "print(np.dot(np.dot(X, P), np.linalg.inv(P)))"
   ]
  },
  {
   "cell_type": "markdown",
   "metadata": {},
   "source": [
    "You can probably see that some values are not exactly the same as they are in the original data. What might be the reason for that?"
   ]
  },
  {
   "cell_type": "markdown",
   "metadata": {},
   "source": [
    "The reason may be that the numbers displayed for each element in the matrix is only a shortened form of the real value of each element. 1/3 is printed as 0.3333333333333333, but it's real value is actually 0.3 repeating infinitely, though for the purposes of calculation it is cut off at the remaining 53 numbers and rounded, and it only actually displays the remaining 16 numbers. It may be the case that the values it calculates has small numbers that add up to a larger sum once the calculations are finished and displayed, resulting in a much different number than expected whilst still being the most accurate it can be within python's limitations."
   ]
  },
  {
   "cell_type": "code",
   "execution_count": 31,
   "metadata": {},
   "outputs": [
    {
     "data": {
      "text/plain": [
       "0.3333333333333333"
      ]
     },
     "execution_count": 31,
     "metadata": {},
     "output_type": "execute_result"
    }
   ],
   "source": [
    "1/3"
   ]
  },
  {
   "cell_type": "markdown",
   "metadata": {},
   "source": [
    "## Proof That Data Obfuscation Can Work with LR"
   ]
  },
  {
   "cell_type": "markdown",
   "metadata": {},
   "source": [
    "The regression task has been solved with linear regression in this project. Your next task is to prove _analytically_ that the given obfuscation method won't affect linear regression in terms of predicted values i.e. their values will remain the same. Can you believe that? Well, you don't have to, you should prove it!"
   ]
  },
  {
   "cell_type": "markdown",
   "metadata": {},
   "source": [
    "So, the data is obfuscated and there is $X \\times P$ instead of just $X$ now. Consequently, there are other weights $w_P$ as\n",
    "$$\n",
    "w = (X^T X)^{-1} X^T y \\quad \\Rightarrow \\quad w_P = [(XP)^T XP]^{-1} (XP)^T y\n",
    "$$\n",
    "\n",
    "How would $w$ and $w_P$ be linked if you simplify the formula for $w_P$ above? \n",
    "\n",
    "What would be predicted values with $w_P$? \n",
    "\n",
    "What does that mean for the quality of linear regression if you measure it with RMSE?\n",
    "\n",
    "Check Appendix B Properties of Matrices in the end of the notebook. There are useful formulas in there!\n",
    "\n",
    "No code is necessary in this section, only analytical explanation!"
   ]
  },
  {
   "cell_type": "markdown",
   "metadata": {},
   "source": [
    "**Answer**"
   ]
  },
  {
   "cell_type": "markdown",
   "metadata": {},
   "source": [
    "The formula for $w_P$ is similar to the formula for $w$, but with the addition of the $P$ variable. Without it it would be close to identical. The addition of another weight would likely change the direction of the line for the equation, which may lower RMSE by giving it another factor to consider for error."
   ]
  },
  {
   "cell_type": "markdown",
   "metadata": {},
   "source": [
    "**Analytical proof**"
   ]
  },
  {
   "cell_type": "markdown",
   "metadata": {},
   "source": [
    "$$w_P = [(XP)^T XP]^{-1} (XP)^T y$$\n",
    "$$w_P = [(P^TX^TX)P]^{-1} P^TX^T y$$\n",
    "$$w_P = [P^TX^T]^{-1}X^{-1}P^{-1} P^TX^T y$$\n",
    "$$w_P = [X^T]^{-1}X^{-1}P^{-1T}P^{-1} P^TX^T y$$\n",
    "$$w_P = [X^T]^{-1}X^{-1}P^{-1} X^T y$$\n",
    "$$w_P = (X^TX)^{-1}P^{-1} X^T y$$\n",
    "$$w = (X^T X)^{-1} X^T y $$\n",
    "$$w_P = P^{-1}w$$ \n",
    "\n",
    "Predicted values with $w_P$:\n",
    "\n",
    "$$\\hat{y}_P = XP w_P$$\n",
    "$$\\hat{y}_P = XP P^{-1}w$$\n",
    "$$\\hat{y}_P = Xw$$"
   ]
  },
  {
   "cell_type": "markdown",
   "metadata": {},
   "source": [
    "## Test Linear Regression With Data Obfuscation"
   ]
  },
  {
   "cell_type": "markdown",
   "metadata": {},
   "source": [
    "Now, let's prove Linear Regression can work computationally with the chosen obfuscation transformation.\n",
    "\n",
    "Build a procedure or a class that runs Linear Regression optionally with the obfuscation. You can use either a ready implementation of Linear Regression from sciki-learn or your own.\n",
    "\n",
    "Run Linear Regression for the original data and the obfuscated one, compare the predicted values and the RMSE, $R^2$ metric values. Is there any difference?"
   ]
  },
  {
   "cell_type": "markdown",
   "metadata": {},
   "source": [
    "**Procedure**\n",
    "\n",
    "- Create a square matrix $P$ of random numbers.\n",
    "- Check that it is invertible. If not, repeat the first point until we get an invertible matrix.\n",
    "- Implement Linear Regression with and without obfuscation\n",
    "- Use $XP$ as the new feature matrix"
   ]
  },
  {
   "cell_type": "code",
   "execution_count": 32,
   "metadata": {},
   "outputs": [],
   "source": [
    "rng = np.random.default_rng(seed=200)\n",
    "P = rng.random(size=(X.shape[1], X.shape[1]))\n",
    "\n",
    "P = np.linalg.inv(P)"
   ]
  },
  {
   "cell_type": "code",
   "execution_count": 33,
   "metadata": {},
   "outputs": [],
   "source": [
    "# df can't be multiplied with P because of it's shape, so the now uneeded df['insurance_benefits'] will be dropped\n",
    "df = df.drop(['Insurance benefits'], axis=1)"
   ]
  },
  {
   "cell_type": "code",
   "execution_count": 34,
   "metadata": {},
   "outputs": [],
   "source": [
    "# Rescaling to undo previous alterations\n",
    "df_scaled = df\n",
    "df_scaled.loc[:, feature_names] = transformer_mas.transform(df[feature_names].to_numpy())\n",
    "\n",
    "scaled_target_train, scaled_target_test, scaled_features_train, scaled_features_test = train_test_split(\n",
    "    df_scaled['insurance_benefits_received'], df_scaled.drop(['insurance_benefits_received'], axis=1), test_size=0.7, random_state=42)\n",
    "\n",
    "# Redoing train/test variables to undo previous alterations\n",
    "target_train, target_test, features_train, features_test = train_test_split(\n",
    "    df['insurance_benefits_received'], df.drop(['insurance_benefits_received'], axis=1), test_size=0.7, random_state=42)"
   ]
  },
  {
   "cell_type": "code",
   "execution_count": 35,
   "metadata": {},
   "outputs": [
    {
     "name": "stdout",
     "output_type": "stream",
     "text": [
      "RMSE score: 0.23911840297746664\n",
      "R2 score: 0.6542696972058942\n"
     ]
    }
   ],
   "source": [
    "# Checking RMSE with scaled model\n",
    "lr = sklearn.linear_model.LinearRegression()\n",
    "scaled_features_train = np.dot(scaled_features_train, P)\n",
    "\n",
    "lr.fit(scaled_features_train, scaled_target_train)\n",
    "predict = lr.predict(scaled_features_train)\n",
    "\n",
    "print('RMSE score:', math.sqrt(sklearn.metrics.mean_squared_error(scaled_target_train, predict)))\n",
    "print('R2 score:', math.sqrt(sklearn.metrics.r2_score(scaled_target_train, predict)))"
   ]
  },
  {
   "cell_type": "code",
   "execution_count": 36,
   "metadata": {},
   "outputs": [
    {
     "name": "stdout",
     "output_type": "stream",
     "text": [
      "RMSE score: 0.23911840297746664\n",
      "R2 score: 0.6542696972058942\n"
     ]
    }
   ],
   "source": [
    "# Checking RMSE without scaled model\n",
    "kr = sklearn.linear_model.LinearRegression()\n",
    "features_train = np.dot(features_train, P)\n",
    "\n",
    "kr.fit(features_train, target_train)\n",
    "predict = lr.predict(features_train)\n",
    "\n",
    "print('RMSE score:', math.sqrt(sklearn.metrics.mean_squared_error(target_train, predict)))\n",
    "print('R2 score:', math.sqrt(sklearn.metrics.r2_score(target_train, predict)))"
   ]
  },
  {
   "cell_type": "markdown",
   "metadata": {},
   "source": [
    "# Conclusions"
   ]
  },
  {
   "cell_type": "markdown",
   "metadata": {},
   "source": [
    "The RMSE and R2 score of the obfuscated scaled model is just as good as the non-obfuscated model. The previous tasks have shown us a scaled model is almost always better than an unscaled model, and obfuscating can be done without sacrificing model quality."
   ]
  },
  {
   "cell_type": "markdown",
   "metadata": {},
   "source": [
    "# Appendices \n",
    "\n",
    "## Appendix A: Writing Formulas in Jupyter Notebooks"
   ]
  },
  {
   "cell_type": "markdown",
   "metadata": {},
   "source": [
    "You can write formulas in your Jupyter Notebook in a markup language provided by a high-quality publishing system called $\\LaTeX$ (pronounced \"Lah-tech\"), and they will look like formulas in textbooks.\n",
    "\n",
    "To put a formula in a text, put the dollar sign (\\\\$) before and after the formula's text e.g. $\\frac{1}{2} \\times \\frac{3}{2} = \\frac{3}{4}$ or $y = x^2, x \\ge 1$.\n",
    "\n",
    "If a formula should be in its own paragraph, put the double dollar sign (\\\\$\\\\$) before and after the formula text e.g.\n",
    "\n",
    "$$\n",
    "\\bar{x} = \\frac{1}{n}\\sum_{i=1}^{n} x_i.\n",
    "$$\n",
    "\n",
    "The markup language of [LaTeX](https://en.wikipedia.org/wiki/LaTeX) is very popular among people who use formulas in their articles, books and texts. It can be complex but its basics are easy. Check this two page [cheatsheet](http://tug.ctan.org/info/undergradmath/undergradmath.pdf) for learning how to compose the most common formulas."
   ]
  },
  {
   "cell_type": "markdown",
   "metadata": {},
   "source": [
    "## Appendix B: Properties of Matrices"
   ]
  },
  {
   "cell_type": "markdown",
   "metadata": {},
   "source": [
    "Matrices have many properties in Linear Algebra. A few of them are listed here which can help with the analytical proof in this project."
   ]
  },
  {
   "cell_type": "markdown",
   "metadata": {},
   "source": [
    "<table>\n",
    "<tr>\n",
    "<td>Distributivity</td><td>$A(B+C)=AB+AC$</td>\n",
    "</tr>\n",
    "<tr>\n",
    "<td>Non-commutativity</td><td>$AB \\neq BA$</td>\n",
    "</tr>\n",
    "<tr>\n",
    "<td>Associative property of multiplication</td><td>$(AB)C = A(BC)$</td>\n",
    "</tr>\n",
    "<tr>\n",
    "<td>Multiplicative identity property</td><td>$IA = AI = A$</td>\n",
    "</tr>\n",
    "<tr>\n",
    "<td></td><td>$A^{-1}A = AA^{-1} = I$\n",
    "</td>\n",
    "</tr>    \n",
    "<tr>\n",
    "<td></td><td>$(AB)^{-1} = B^{-1}A^{-1}$</td>\n",
    "</tr>    \n",
    "<tr>\n",
    "<td>Reversivity of the transpose of a product of matrices,</td><td>$(AB)^T = B^TA^T$</td>\n",
    "</tr>    \n",
    "</table>"
   ]
  }
 ],
 "metadata": {
  "ExecuteTimeLog": [
   {
    "duration": 53,
    "start_time": "2022-06-23T21:32:36.462Z"
   },
   {
    "duration": 6839,
    "start_time": "2022-06-23T21:32:44.317Z"
   },
   {
    "duration": 1519,
    "start_time": "2022-06-23T21:32:51.158Z"
   },
   {
    "duration": 65,
    "start_time": "2022-06-23T21:32:52.678Z"
   },
   {
    "duration": 4,
    "start_time": "2022-06-23T21:32:52.745Z"
   },
   {
    "duration": 32,
    "start_time": "2022-06-23T21:32:52.751Z"
   },
   {
    "duration": 14,
    "start_time": "2022-06-23T21:32:52.785Z"
   },
   {
    "duration": 10,
    "start_time": "2022-06-23T21:32:52.801Z"
   },
   {
    "duration": 8,
    "start_time": "2022-06-23T21:32:52.813Z"
   },
   {
    "duration": 5,
    "start_time": "2022-06-23T21:32:52.824Z"
   },
   {
    "duration": 3534,
    "start_time": "2022-06-23T21:32:52.833Z"
   },
   {
    "duration": 4,
    "start_time": "2022-06-23T21:32:56.368Z"
   },
   {
    "duration": 62,
    "start_time": "2022-06-23T21:32:56.374Z"
   },
   {
    "duration": 0,
    "start_time": "2022-06-23T21:32:56.438Z"
   },
   {
    "duration": 0,
    "start_time": "2022-06-23T21:32:56.440Z"
   },
   {
    "duration": 0,
    "start_time": "2022-06-23T21:32:56.441Z"
   },
   {
    "duration": 0,
    "start_time": "2022-06-23T21:32:56.443Z"
   },
   {
    "duration": 0,
    "start_time": "2022-06-23T21:32:56.444Z"
   },
   {
    "duration": 0,
    "start_time": "2022-06-23T21:32:56.445Z"
   },
   {
    "duration": 0,
    "start_time": "2022-06-23T21:32:56.447Z"
   },
   {
    "duration": 0,
    "start_time": "2022-06-23T21:32:56.448Z"
   },
   {
    "duration": 0,
    "start_time": "2022-06-23T21:32:56.450Z"
   },
   {
    "duration": 0,
    "start_time": "2022-06-23T21:32:56.453Z"
   },
   {
    "duration": 0,
    "start_time": "2022-06-23T21:32:56.454Z"
   },
   {
    "duration": 0,
    "start_time": "2022-06-23T21:32:56.456Z"
   },
   {
    "duration": 0,
    "start_time": "2022-06-23T21:32:56.457Z"
   },
   {
    "duration": 53,
    "start_time": "2022-06-23T21:32:59.818Z"
   },
   {
    "duration": 11,
    "start_time": "2022-06-23T21:33:03.913Z"
   },
   {
    "duration": 13,
    "start_time": "2022-06-23T21:33:04.824Z"
   },
   {
    "duration": 14,
    "start_time": "2022-06-23T21:33:06.490Z"
   },
   {
    "duration": 117,
    "start_time": "2022-06-23T21:33:41.328Z"
   },
   {
    "duration": 5,
    "start_time": "2022-06-23T21:34:09.986Z"
   },
   {
    "duration": 5,
    "start_time": "2022-06-23T21:34:26.190Z"
   },
   {
    "duration": 13,
    "start_time": "2022-06-23T21:34:51.985Z"
   },
   {
    "duration": 12,
    "start_time": "2022-06-23T21:34:59.798Z"
   },
   {
    "duration": 35,
    "start_time": "2022-06-23T21:35:40.099Z"
   },
   {
    "duration": 9,
    "start_time": "2022-06-23T21:42:36.596Z"
   },
   {
    "duration": 9,
    "start_time": "2022-06-23T21:42:38.685Z"
   },
   {
    "duration": 20,
    "start_time": "2022-06-23T21:42:39.824Z"
   },
   {
    "duration": 10,
    "start_time": "2022-06-23T21:42:40.911Z"
   },
   {
    "duration": 10,
    "start_time": "2022-06-23T21:42:41.987Z"
   },
   {
    "duration": 5,
    "start_time": "2022-06-23T21:43:26.116Z"
   },
   {
    "duration": 14,
    "start_time": "2022-06-23T21:43:30.125Z"
   },
   {
    "duration": 8,
    "start_time": "2022-06-23T21:43:44.496Z"
   },
   {
    "duration": 8,
    "start_time": "2022-06-23T21:43:51.415Z"
   },
   {
    "duration": 22,
    "start_time": "2022-06-23T21:44:26.040Z"
   },
   {
    "duration": 4,
    "start_time": "2022-06-23T22:08:13.490Z"
   },
   {
    "duration": 12,
    "start_time": "2022-06-23T22:08:21.642Z"
   },
   {
    "duration": 11,
    "start_time": "2022-06-23T22:08:23.012Z"
   },
   {
    "duration": 4,
    "start_time": "2022-06-23T22:14:36.089Z"
   },
   {
    "duration": 11,
    "start_time": "2022-06-23T22:14:38.245Z"
   },
   {
    "duration": 10,
    "start_time": "2022-06-23T22:14:40.190Z"
   },
   {
    "duration": 10,
    "start_time": "2022-06-23T22:14:43.487Z"
   },
   {
    "duration": 9,
    "start_time": "2022-06-23T22:22:08.809Z"
   },
   {
    "duration": 9,
    "start_time": "2022-06-23T22:22:19.490Z"
   },
   {
    "duration": 10,
    "start_time": "2022-06-23T22:26:36.611Z"
   },
   {
    "duration": 10,
    "start_time": "2022-06-23T22:27:02.523Z"
   },
   {
    "duration": 10,
    "start_time": "2022-06-23T22:27:09.546Z"
   },
   {
    "duration": 4,
    "start_time": "2022-06-23T22:29:50.026Z"
   },
   {
    "duration": 13,
    "start_time": "2022-06-23T22:29:51.886Z"
   },
   {
    "duration": 11,
    "start_time": "2022-06-23T22:29:54.188Z"
   },
   {
    "duration": 9,
    "start_time": "2022-06-23T22:37:20.943Z"
   },
   {
    "duration": 4,
    "start_time": "2022-06-23T22:39:33.834Z"
   },
   {
    "duration": 10,
    "start_time": "2022-06-23T22:39:42.578Z"
   },
   {
    "duration": 3,
    "start_time": "2022-06-23T22:39:51.885Z"
   },
   {
    "duration": 4,
    "start_time": "2022-06-23T22:40:42.281Z"
   },
   {
    "duration": 10,
    "start_time": "2022-06-23T22:40:45.522Z"
   },
   {
    "duration": 11,
    "start_time": "2022-06-23T22:43:11.504Z"
   },
   {
    "duration": 12,
    "start_time": "2022-06-23T22:43:22.633Z"
   },
   {
    "duration": 11,
    "start_time": "2022-06-23T22:45:00.594Z"
   },
   {
    "duration": 11,
    "start_time": "2022-06-23T22:45:09.188Z"
   },
   {
    "duration": 9,
    "start_time": "2022-06-23T22:45:26.145Z"
   },
   {
    "duration": 11,
    "start_time": "2022-06-23T22:45:44.524Z"
   },
   {
    "duration": 3,
    "start_time": "2022-06-23T22:46:14.244Z"
   },
   {
    "duration": 9,
    "start_time": "2022-06-23T22:46:20.683Z"
   },
   {
    "duration": 15,
    "start_time": "2022-06-23T22:46:33.795Z"
   },
   {
    "duration": 10,
    "start_time": "2022-06-23T22:50:21.281Z"
   },
   {
    "duration": 9,
    "start_time": "2022-06-23T23:18:18.074Z"
   },
   {
    "duration": 4,
    "start_time": "2022-06-23T23:35:52.034Z"
   },
   {
    "duration": 9,
    "start_time": "2022-06-23T23:35:57.681Z"
   },
   {
    "duration": 4,
    "start_time": "2022-06-23T23:36:28.202Z"
   },
   {
    "duration": 12,
    "start_time": "2022-06-23T23:36:34.185Z"
   },
   {
    "duration": 4,
    "start_time": "2022-06-23T23:37:04.321Z"
   },
   {
    "duration": 8,
    "start_time": "2022-06-23T23:37:44.665Z"
   },
   {
    "duration": 10,
    "start_time": "2022-06-23T23:37:58.931Z"
   },
   {
    "duration": 7,
    "start_time": "2022-06-24T22:11:52.340Z"
   },
   {
    "duration": 7477,
    "start_time": "2022-06-24T22:11:59.764Z"
   },
   {
    "duration": 1278,
    "start_time": "2022-06-24T22:12:07.243Z"
   },
   {
    "duration": 62,
    "start_time": "2022-06-24T22:12:08.523Z"
   },
   {
    "duration": 3,
    "start_time": "2022-06-24T22:12:08.587Z"
   },
   {
    "duration": 16,
    "start_time": "2022-06-24T22:12:08.591Z"
   },
   {
    "duration": 9,
    "start_time": "2022-06-24T22:12:08.608Z"
   },
   {
    "duration": 3,
    "start_time": "2022-06-24T22:12:08.618Z"
   },
   {
    "duration": 7,
    "start_time": "2022-06-24T22:12:08.622Z"
   },
   {
    "duration": 19,
    "start_time": "2022-06-24T22:12:08.631Z"
   },
   {
    "duration": 2964,
    "start_time": "2022-06-24T22:12:08.651Z"
   },
   {
    "duration": 2,
    "start_time": "2022-06-24T22:12:11.617Z"
   },
   {
    "duration": 8,
    "start_time": "2022-06-24T22:12:11.620Z"
   },
   {
    "duration": 16,
    "start_time": "2022-06-24T22:12:11.629Z"
   },
   {
    "duration": 8,
    "start_time": "2022-06-24T22:12:11.646Z"
   },
   {
    "duration": 96,
    "start_time": "2022-06-24T22:12:11.655Z"
   },
   {
    "duration": 1,
    "start_time": "2022-06-24T22:12:11.752Z"
   },
   {
    "duration": 0,
    "start_time": "2022-06-24T22:12:11.753Z"
   },
   {
    "duration": 0,
    "start_time": "2022-06-24T22:12:11.754Z"
   },
   {
    "duration": 0,
    "start_time": "2022-06-24T22:12:11.755Z"
   },
   {
    "duration": 0,
    "start_time": "2022-06-24T22:12:11.756Z"
   },
   {
    "duration": 0,
    "start_time": "2022-06-24T22:12:11.757Z"
   },
   {
    "duration": 0,
    "start_time": "2022-06-24T22:12:11.758Z"
   },
   {
    "duration": 0,
    "start_time": "2022-06-24T22:12:11.759Z"
   },
   {
    "duration": 0,
    "start_time": "2022-06-24T22:12:11.760Z"
   },
   {
    "duration": 0,
    "start_time": "2022-06-24T22:12:11.761Z"
   },
   {
    "duration": 0,
    "start_time": "2022-06-24T22:12:11.761Z"
   },
   {
    "duration": 0,
    "start_time": "2022-06-24T22:12:11.762Z"
   },
   {
    "duration": 53,
    "start_time": "2022-06-24T22:15:50.690Z"
   },
   {
    "duration": 59,
    "start_time": "2022-06-24T22:15:57.515Z"
   },
   {
    "duration": 8,
    "start_time": "2022-06-24T22:16:03.580Z"
   },
   {
    "duration": 8,
    "start_time": "2022-06-24T22:16:10.796Z"
   },
   {
    "duration": 49,
    "start_time": "2022-06-24T22:16:16.702Z"
   },
   {
    "duration": 58,
    "start_time": "2022-06-24T22:16:38.859Z"
   },
   {
    "duration": 8,
    "start_time": "2022-06-24T22:16:43.116Z"
   },
   {
    "duration": 4,
    "start_time": "2022-06-24T22:16:53.730Z"
   },
   {
    "duration": 8,
    "start_time": "2022-06-24T22:16:58.487Z"
   },
   {
    "duration": 3,
    "start_time": "2022-06-24T22:22:06.460Z"
   },
   {
    "duration": 7,
    "start_time": "2022-06-24T22:22:12.564Z"
   },
   {
    "duration": 8,
    "start_time": "2022-06-24T22:24:38.643Z"
   },
   {
    "duration": 3,
    "start_time": "2022-06-24T22:24:47.927Z"
   },
   {
    "duration": 12,
    "start_time": "2022-06-24T22:53:48.782Z"
   },
   {
    "duration": 11,
    "start_time": "2022-06-24T22:54:05.809Z"
   },
   {
    "duration": 12,
    "start_time": "2022-06-24T22:57:10.305Z"
   },
   {
    "duration": 8,
    "start_time": "2022-06-24T22:58:03.907Z"
   },
   {
    "duration": 11,
    "start_time": "2022-06-24T22:58:24.225Z"
   },
   {
    "duration": 4,
    "start_time": "2022-06-24T22:59:41.801Z"
   },
   {
    "duration": 3,
    "start_time": "2022-06-24T22:59:48.102Z"
   },
   {
    "duration": 11,
    "start_time": "2022-06-24T22:59:53.235Z"
   },
   {
    "duration": 9,
    "start_time": "2022-06-24T22:59:57.753Z"
   },
   {
    "duration": 3,
    "start_time": "2022-06-24T23:00:03.473Z"
   },
   {
    "duration": 11,
    "start_time": "2022-06-24T23:00:08.812Z"
   },
   {
    "duration": 9,
    "start_time": "2022-06-24T23:00:44.916Z"
   },
   {
    "duration": 4,
    "start_time": "2022-06-24T23:00:48.696Z"
   },
   {
    "duration": 11,
    "start_time": "2022-06-24T23:00:52.387Z"
   },
   {
    "duration": 7,
    "start_time": "2022-06-24T23:01:00.343Z"
   },
   {
    "duration": 4,
    "start_time": "2022-06-24T23:01:09.991Z"
   },
   {
    "duration": 11,
    "start_time": "2022-06-24T23:01:13.642Z"
   },
   {
    "duration": 7,
    "start_time": "2022-06-24T23:03:48.750Z"
   },
   {
    "duration": 3,
    "start_time": "2022-06-24T23:03:55.446Z"
   },
   {
    "duration": 12,
    "start_time": "2022-06-24T23:03:59.831Z"
   },
   {
    "duration": 60,
    "start_time": "2022-06-24T23:12:04.045Z"
   },
   {
    "duration": 12,
    "start_time": "2022-06-24T23:12:27.592Z"
   },
   {
    "duration": 80,
    "start_time": "2022-06-24T23:22:35.749Z"
   },
   {
    "duration": 77,
    "start_time": "2022-06-24T23:23:27.007Z"
   },
   {
    "duration": 4,
    "start_time": "2022-06-24T23:23:43.063Z"
   },
   {
    "duration": 14,
    "start_time": "2022-06-24T23:23:47.247Z"
   },
   {
    "duration": 4,
    "start_time": "2022-06-24T23:30:26.912Z"
   },
   {
    "duration": 4,
    "start_time": "2022-06-24T23:30:44.293Z"
   },
   {
    "duration": 17,
    "start_time": "2022-06-24T23:30:48.299Z"
   },
   {
    "duration": 3,
    "start_time": "2022-06-24T23:33:48.997Z"
   },
   {
    "duration": 4,
    "start_time": "2022-06-24T23:35:13.060Z"
   },
   {
    "duration": 17,
    "start_time": "2022-06-24T23:35:21.401Z"
   },
   {
    "duration": 8,
    "start_time": "2022-06-24T23:41:19.343Z"
   },
   {
    "duration": 2,
    "start_time": "2022-06-24T23:41:23.953Z"
   },
   {
    "duration": 4,
    "start_time": "2022-06-24T23:41:31.177Z"
   },
   {
    "duration": 1033,
    "start_time": "2022-06-24T23:41:37.418Z"
   },
   {
    "duration": 4,
    "start_time": "2022-06-24T23:41:53.150Z"
   },
   {
    "duration": 14,
    "start_time": "2022-06-24T23:41:57.395Z"
   },
   {
    "duration": 14,
    "start_time": "2022-06-24T23:42:14.775Z"
   },
   {
    "duration": 15,
    "start_time": "2022-06-24T23:42:17.334Z"
   },
   {
    "duration": 10,
    "start_time": "2022-06-24T23:43:10.206Z"
   },
   {
    "duration": 9,
    "start_time": "2022-06-24T23:43:14.232Z"
   },
   {
    "duration": 95,
    "start_time": "2022-06-24T23:43:16.256Z"
   },
   {
    "duration": 17,
    "start_time": "2022-06-24T23:43:27.223Z"
   },
   {
    "duration": 15,
    "start_time": "2022-06-24T23:43:32.835Z"
   },
   {
    "duration": 104,
    "start_time": "2022-06-25T00:01:33.548Z"
   },
   {
    "duration": 3,
    "start_time": "2022-06-25T00:01:57.249Z"
   },
   {
    "duration": 65,
    "start_time": "2022-06-25T00:01:59.586Z"
   },
   {
    "duration": 81,
    "start_time": "2022-06-25T00:02:07.374Z"
   },
   {
    "duration": 26,
    "start_time": "2022-06-25T00:02:17.025Z"
   },
   {
    "duration": 21,
    "start_time": "2022-06-25T00:02:25.940Z"
   },
   {
    "duration": 17,
    "start_time": "2022-06-25T00:02:31.861Z"
   },
   {
    "duration": 15,
    "start_time": "2022-06-25T00:02:41.714Z"
   },
   {
    "duration": 11,
    "start_time": "2022-06-25T00:02:45.150Z"
   },
   {
    "duration": 154,
    "start_time": "2022-06-25T00:02:54.202Z"
   },
   {
    "duration": 13,
    "start_time": "2022-06-25T00:03:00.839Z"
   },
   {
    "duration": 14,
    "start_time": "2022-06-25T00:03:21.295Z"
   },
   {
    "duration": 54,
    "start_time": "2022-06-26T17:29:05.001Z"
   },
   {
    "duration": 10265,
    "start_time": "2022-06-26T17:29:14.743Z"
   },
   {
    "duration": 1530,
    "start_time": "2022-06-26T17:29:25.010Z"
   },
   {
    "duration": 103,
    "start_time": "2022-06-26T17:29:26.542Z"
   },
   {
    "duration": 5,
    "start_time": "2022-06-26T17:29:26.647Z"
   },
   {
    "duration": 20,
    "start_time": "2022-06-26T17:29:26.654Z"
   },
   {
    "duration": 16,
    "start_time": "2022-06-26T17:29:26.676Z"
   },
   {
    "duration": 8,
    "start_time": "2022-06-26T17:29:26.694Z"
   },
   {
    "duration": 15,
    "start_time": "2022-06-26T17:29:26.704Z"
   },
   {
    "duration": 49,
    "start_time": "2022-06-26T17:29:26.721Z"
   },
   {
    "duration": 3804,
    "start_time": "2022-06-26T17:29:26.774Z"
   },
   {
    "duration": 4,
    "start_time": "2022-06-26T17:29:30.580Z"
   },
   {
    "duration": 15,
    "start_time": "2022-06-26T17:29:30.586Z"
   },
   {
    "duration": 15,
    "start_time": "2022-06-26T17:29:30.603Z"
   },
   {
    "duration": 30,
    "start_time": "2022-06-26T17:29:30.620Z"
   },
   {
    "duration": 19,
    "start_time": "2022-06-26T17:29:30.651Z"
   },
   {
    "duration": 118,
    "start_time": "2022-06-26T17:29:30.743Z"
   },
   {
    "duration": 292,
    "start_time": "2022-06-26T17:29:30.863Z"
   },
   {
    "duration": 26,
    "start_time": "2022-06-26T17:29:31.243Z"
   },
   {
    "duration": 77,
    "start_time": "2022-06-26T17:29:31.272Z"
   },
   {
    "duration": 0,
    "start_time": "2022-06-26T17:29:31.351Z"
   },
   {
    "duration": 0,
    "start_time": "2022-06-26T17:29:31.352Z"
   },
   {
    "duration": 0,
    "start_time": "2022-06-26T17:29:31.353Z"
   },
   {
    "duration": 0,
    "start_time": "2022-06-26T17:29:31.355Z"
   },
   {
    "duration": 0,
    "start_time": "2022-06-26T17:29:31.356Z"
   },
   {
    "duration": 0,
    "start_time": "2022-06-26T17:29:31.357Z"
   },
   {
    "duration": 0,
    "start_time": "2022-06-26T17:29:31.358Z"
   },
   {
    "duration": 0,
    "start_time": "2022-06-26T17:29:31.360Z"
   },
   {
    "duration": 0,
    "start_time": "2022-06-26T17:29:31.361Z"
   },
   {
    "duration": 0,
    "start_time": "2022-06-26T17:29:31.362Z"
   },
   {
    "duration": 12,
    "start_time": "2022-06-26T17:30:06.266Z"
   },
   {
    "duration": 132,
    "start_time": "2022-06-26T17:34:01.694Z"
   },
   {
    "duration": 5,
    "start_time": "2022-06-26T17:34:06.633Z"
   },
   {
    "duration": 79,
    "start_time": "2022-06-26T17:34:26.565Z"
   },
   {
    "duration": 15,
    "start_time": "2022-06-26T17:36:42.552Z"
   },
   {
    "duration": 138,
    "start_time": "2022-06-26T17:36:49.114Z"
   },
   {
    "duration": 27,
    "start_time": "2022-06-26T17:36:56.718Z"
   },
   {
    "duration": 8,
    "start_time": "2022-06-26T17:39:09.505Z"
   },
   {
    "duration": 17,
    "start_time": "2022-06-26T17:39:13.806Z"
   },
   {
    "duration": 13,
    "start_time": "2022-06-26T17:40:59.033Z"
   },
   {
    "duration": 6,
    "start_time": "2022-06-26T17:42:09.353Z"
   },
   {
    "duration": 16,
    "start_time": "2022-06-26T17:42:17.817Z"
   },
   {
    "duration": 18,
    "start_time": "2022-06-26T17:42:36.204Z"
   },
   {
    "duration": 104,
    "start_time": "2022-06-26T17:47:56.798Z"
   },
   {
    "duration": 7,
    "start_time": "2022-06-26T17:48:12.434Z"
   },
   {
    "duration": 19,
    "start_time": "2022-06-26T17:48:16.586Z"
   },
   {
    "duration": 5,
    "start_time": "2022-06-26T17:48:32.549Z"
   },
   {
    "duration": 16,
    "start_time": "2022-06-26T17:48:35.442Z"
   },
   {
    "duration": 15,
    "start_time": "2022-06-26T17:48:41.100Z"
   },
   {
    "duration": 100,
    "start_time": "2022-06-26T17:48:50.841Z"
   },
   {
    "duration": 82,
    "start_time": "2022-06-26T17:48:57.294Z"
   },
   {
    "duration": 19,
    "start_time": "2022-06-26T17:49:09.300Z"
   },
   {
    "duration": 5,
    "start_time": "2022-06-26T17:49:19.299Z"
   },
   {
    "duration": 15,
    "start_time": "2022-06-26T17:49:23.737Z"
   },
   {
    "duration": 24,
    "start_time": "2022-06-26T17:49:55.187Z"
   },
   {
    "duration": 98,
    "start_time": "2022-06-26T17:57:11.754Z"
   },
   {
    "duration": 1720,
    "start_time": "2022-06-26T17:57:26.343Z"
   },
   {
    "duration": 5,
    "start_time": "2022-06-26T17:57:45.909Z"
   },
   {
    "duration": 7,
    "start_time": "2022-06-26T17:57:58.404Z"
   },
   {
    "duration": 4,
    "start_time": "2022-06-26T17:58:21.914Z"
   },
   {
    "duration": 5,
    "start_time": "2022-06-26T17:58:25.497Z"
   },
   {
    "duration": 92,
    "start_time": "2022-06-26T17:58:26.413Z"
   },
   {
    "duration": 30,
    "start_time": "2022-06-26T18:10:52.191Z"
   },
   {
    "duration": 1600,
    "start_time": "2022-06-26T18:11:19.019Z"
   },
   {
    "duration": 39,
    "start_time": "2022-06-26T18:11:49.621Z"
   },
   {
    "duration": 12,
    "start_time": "2022-06-26T18:30:53.754Z"
   },
   {
    "duration": 21,
    "start_time": "2022-06-26T18:31:47.640Z"
   },
   {
    "duration": 23,
    "start_time": "2022-06-26T18:32:03.354Z"
   },
   {
    "duration": 37,
    "start_time": "2022-06-26T18:35:13.493Z"
   },
   {
    "duration": 4,
    "start_time": "2022-06-26T18:39:19.372Z"
   },
   {
    "duration": 23,
    "start_time": "2022-06-26T18:39:20.515Z"
   },
   {
    "duration": 8,
    "start_time": "2022-06-26T18:41:20.196Z"
   },
   {
    "duration": 5,
    "start_time": "2022-06-26T18:42:04.562Z"
   },
   {
    "duration": 6,
    "start_time": "2022-06-26T18:42:16.747Z"
   },
   {
    "duration": 12,
    "start_time": "2022-06-26T18:42:20.605Z"
   },
   {
    "duration": 17,
    "start_time": "2022-06-26T18:42:25.589Z"
   },
   {
    "duration": 6,
    "start_time": "2022-06-26T18:42:30.205Z"
   },
   {
    "duration": 5,
    "start_time": "2022-06-26T18:42:47.966Z"
   },
   {
    "duration": 34,
    "start_time": "2022-06-26T18:42:49.591Z"
   },
   {
    "duration": 26,
    "start_time": "2022-06-26T18:47:40.501Z"
   },
   {
    "duration": 11,
    "start_time": "2022-06-26T18:49:12.584Z"
   },
   {
    "duration": 12,
    "start_time": "2022-06-26T18:49:31.508Z"
   },
   {
    "duration": 21,
    "start_time": "2022-06-26T18:53:00.815Z"
   },
   {
    "duration": 21,
    "start_time": "2022-06-26T18:53:14.972Z"
   },
   {
    "duration": 33,
    "start_time": "2022-06-26T18:53:32.924Z"
   },
   {
    "duration": 13,
    "start_time": "2022-06-26T18:58:03.094Z"
   },
   {
    "duration": 8,
    "start_time": "2022-06-26T18:58:15.466Z"
   },
   {
    "duration": 118,
    "start_time": "2022-06-26T18:59:55.962Z"
   },
   {
    "duration": 108,
    "start_time": "2022-06-26T19:00:01.626Z"
   },
   {
    "duration": 93,
    "start_time": "2022-06-26T19:00:06.236Z"
   },
   {
    "duration": 81,
    "start_time": "2022-06-26T19:00:13.757Z"
   },
   {
    "duration": 28,
    "start_time": "2022-06-26T19:00:28.901Z"
   },
   {
    "duration": 12,
    "start_time": "2022-06-26T19:07:14.277Z"
   },
   {
    "duration": 32,
    "start_time": "2022-06-26T19:07:56.074Z"
   },
   {
    "duration": 24,
    "start_time": "2022-06-26T19:08:06.375Z"
   },
   {
    "duration": 27,
    "start_time": "2022-06-26T19:08:34.136Z"
   },
   {
    "duration": 12,
    "start_time": "2022-06-26T19:08:43.815Z"
   },
   {
    "duration": 28,
    "start_time": "2022-06-26T19:08:57.266Z"
   },
   {
    "duration": 5,
    "start_time": "2022-06-26T19:09:10.345Z"
   },
   {
    "duration": 17,
    "start_time": "2022-06-26T19:09:14.668Z"
   },
   {
    "duration": 10,
    "start_time": "2022-06-26T19:09:36.823Z"
   },
   {
    "duration": 10,
    "start_time": "2022-06-26T19:09:45.500Z"
   },
   {
    "duration": 22,
    "start_time": "2022-06-26T19:11:17.866Z"
   },
   {
    "duration": 6,
    "start_time": "2022-06-26T19:11:49.214Z"
   },
   {
    "duration": 8,
    "start_time": "2022-06-26T19:12:09.061Z"
   },
   {
    "duration": 12,
    "start_time": "2022-06-26T19:12:17.815Z"
   },
   {
    "duration": 14,
    "start_time": "2022-06-26T19:12:29.408Z"
   },
   {
    "duration": 19,
    "start_time": "2022-06-26T19:12:47.585Z"
   },
   {
    "duration": 28,
    "start_time": "2022-06-26T19:13:02.829Z"
   },
   {
    "duration": 8,
    "start_time": "2022-06-26T19:13:36.364Z"
   },
   {
    "duration": 5,
    "start_time": "2022-06-26T19:13:40.186Z"
   },
   {
    "duration": 3084,
    "start_time": "2022-06-26T19:13:53.105Z"
   },
   {
    "duration": 1439,
    "start_time": "2022-06-26T19:13:56.192Z"
   },
   {
    "duration": 32,
    "start_time": "2022-06-26T19:13:57.634Z"
   },
   {
    "duration": 5,
    "start_time": "2022-06-26T19:13:57.669Z"
   },
   {
    "duration": 18,
    "start_time": "2022-06-26T19:13:57.676Z"
   },
   {
    "duration": 14,
    "start_time": "2022-06-26T19:13:57.696Z"
   },
   {
    "duration": 8,
    "start_time": "2022-06-26T19:13:57.712Z"
   },
   {
    "duration": 22,
    "start_time": "2022-06-26T19:13:57.722Z"
   },
   {
    "duration": 46,
    "start_time": "2022-06-26T19:13:57.745Z"
   },
   {
    "duration": 4377,
    "start_time": "2022-06-26T19:13:57.795Z"
   },
   {
    "duration": 3,
    "start_time": "2022-06-26T19:14:02.174Z"
   },
   {
    "duration": 20,
    "start_time": "2022-06-26T19:14:02.179Z"
   },
   {
    "duration": 16,
    "start_time": "2022-06-26T19:14:02.201Z"
   },
   {
    "duration": 41,
    "start_time": "2022-06-26T19:14:02.220Z"
   },
   {
    "duration": 88,
    "start_time": "2022-06-26T19:14:02.264Z"
   },
   {
    "duration": 128,
    "start_time": "2022-06-26T19:14:02.353Z"
   },
   {
    "duration": 134,
    "start_time": "2022-06-26T19:14:02.484Z"
   },
   {
    "duration": 106,
    "start_time": "2022-06-26T19:14:02.643Z"
   },
   {
    "duration": 26,
    "start_time": "2022-06-26T19:14:02.751Z"
   },
   {
    "duration": 10,
    "start_time": "2022-06-26T19:14:02.780Z"
   },
   {
    "duration": 6,
    "start_time": "2022-06-26T19:14:02.792Z"
   },
   {
    "duration": 188,
    "start_time": "2022-06-26T19:14:02.801Z"
   },
   {
    "duration": 0,
    "start_time": "2022-06-26T19:14:02.991Z"
   },
   {
    "duration": 0,
    "start_time": "2022-06-26T19:14:02.992Z"
   },
   {
    "duration": 0,
    "start_time": "2022-06-26T19:14:02.994Z"
   },
   {
    "duration": 0,
    "start_time": "2022-06-26T19:14:02.995Z"
   },
   {
    "duration": 1,
    "start_time": "2022-06-26T19:14:02.996Z"
   },
   {
    "duration": 0,
    "start_time": "2022-06-26T19:14:03.000Z"
   },
   {
    "duration": 0,
    "start_time": "2022-06-26T19:14:03.002Z"
   },
   {
    "duration": 0,
    "start_time": "2022-06-26T19:14:03.004Z"
   },
   {
    "duration": 0,
    "start_time": "2022-06-26T19:14:03.005Z"
   },
   {
    "duration": 0,
    "start_time": "2022-06-26T19:14:03.006Z"
   },
   {
    "duration": 379,
    "start_time": "2022-06-26T19:20:51.537Z"
   },
   {
    "duration": 395,
    "start_time": "2022-06-26T19:23:27.621Z"
   },
   {
    "duration": 374,
    "start_time": "2022-06-26T19:23:31.543Z"
   },
   {
    "duration": 4,
    "start_time": "2022-06-26T19:23:48.096Z"
   },
   {
    "duration": 29,
    "start_time": "2022-06-26T19:23:48.859Z"
   },
   {
    "duration": 419,
    "start_time": "2022-06-26T19:24:00.591Z"
   },
   {
    "duration": 15,
    "start_time": "2022-06-26T19:26:52.809Z"
   },
   {
    "duration": 176,
    "start_time": "2022-06-26T19:28:25.465Z"
   },
   {
    "duration": 504,
    "start_time": "2022-06-26T19:30:56.825Z"
   },
   {
    "duration": 47,
    "start_time": "2022-06-26T20:42:18.962Z"
   },
   {
    "duration": 6684,
    "start_time": "2022-06-26T20:42:25.681Z"
   },
   {
    "duration": 1552,
    "start_time": "2022-06-26T20:42:32.367Z"
   },
   {
    "duration": 52,
    "start_time": "2022-06-26T20:42:33.921Z"
   },
   {
    "duration": 1032,
    "start_time": "2022-06-26T20:42:33.974Z"
   },
   {
    "duration": 435,
    "start_time": "2022-06-26T20:42:35.010Z"
   },
   {
    "duration": 187,
    "start_time": "2022-06-26T20:42:35.447Z"
   },
   {
    "duration": 73,
    "start_time": "2022-06-26T20:42:35.636Z"
   },
   {
    "duration": 31,
    "start_time": "2022-06-26T20:42:35.712Z"
   },
   {
    "duration": 70,
    "start_time": "2022-06-26T20:42:35.746Z"
   },
   {
    "duration": 4281,
    "start_time": "2022-06-26T20:42:35.818Z"
   },
   {
    "duration": 3,
    "start_time": "2022-06-26T20:42:40.101Z"
   },
   {
    "duration": 5,
    "start_time": "2022-06-26T20:42:40.106Z"
   },
   {
    "duration": 16,
    "start_time": "2022-06-26T20:42:40.126Z"
   },
   {
    "duration": 15,
    "start_time": "2022-06-26T20:42:40.145Z"
   },
   {
    "duration": 68,
    "start_time": "2022-06-26T20:42:40.162Z"
   },
   {
    "duration": 99,
    "start_time": "2022-06-26T20:42:40.232Z"
   },
   {
    "duration": 148,
    "start_time": "2022-06-26T20:42:40.333Z"
   },
   {
    "duration": 152,
    "start_time": "2022-06-26T20:42:40.484Z"
   },
   {
    "duration": 10,
    "start_time": "2022-06-26T20:42:40.642Z"
   },
   {
    "duration": 12,
    "start_time": "2022-06-26T20:42:40.654Z"
   },
   {
    "duration": 9,
    "start_time": "2022-06-26T20:42:40.668Z"
   },
   {
    "duration": 12,
    "start_time": "2022-06-26T20:42:40.680Z"
   },
   {
    "duration": 35,
    "start_time": "2022-06-26T20:42:40.694Z"
   },
   {
    "duration": 484,
    "start_time": "2022-06-26T20:42:40.730Z"
   },
   {
    "duration": 187,
    "start_time": "2022-06-26T20:42:41.217Z"
   },
   {
    "duration": 158,
    "start_time": "2022-06-26T20:42:41.405Z"
   },
   {
    "duration": 0,
    "start_time": "2022-06-26T20:42:41.565Z"
   },
   {
    "duration": 0,
    "start_time": "2022-06-26T20:42:41.567Z"
   },
   {
    "duration": 0,
    "start_time": "2022-06-26T20:42:41.568Z"
   },
   {
    "duration": 0,
    "start_time": "2022-06-26T20:42:41.571Z"
   },
   {
    "duration": 0,
    "start_time": "2022-06-26T20:42:41.573Z"
   },
   {
    "duration": 0,
    "start_time": "2022-06-26T20:42:41.574Z"
   },
   {
    "duration": 197,
    "start_time": "2022-06-26T20:48:16.673Z"
   },
   {
    "duration": 10,
    "start_time": "2022-06-26T21:37:34.555Z"
   },
   {
    "duration": 3,
    "start_time": "2022-06-26T21:37:39.683Z"
   },
   {
    "duration": 37,
    "start_time": "2022-06-26T21:37:43.935Z"
   },
   {
    "duration": 5859,
    "start_time": "2022-06-26T21:37:51.305Z"
   },
   {
    "duration": 1256,
    "start_time": "2022-06-26T21:37:57.166Z"
   },
   {
    "duration": 40,
    "start_time": "2022-06-26T21:37:58.423Z"
   },
   {
    "duration": 3,
    "start_time": "2022-06-26T21:37:58.464Z"
   },
   {
    "duration": 13,
    "start_time": "2022-06-26T21:37:58.470Z"
   },
   {
    "duration": 10,
    "start_time": "2022-06-26T21:37:58.484Z"
   },
   {
    "duration": 7,
    "start_time": "2022-06-26T21:37:58.495Z"
   },
   {
    "duration": 6,
    "start_time": "2022-06-26T21:37:58.503Z"
   },
   {
    "duration": 19,
    "start_time": "2022-06-26T21:37:58.511Z"
   },
   {
    "duration": 3001,
    "start_time": "2022-06-26T21:37:58.550Z"
   },
   {
    "duration": 3,
    "start_time": "2022-06-26T21:38:01.552Z"
   },
   {
    "duration": 13,
    "start_time": "2022-06-26T21:38:01.556Z"
   },
   {
    "duration": 11,
    "start_time": "2022-06-26T21:38:01.571Z"
   },
   {
    "duration": 8,
    "start_time": "2022-06-26T21:38:01.584Z"
   },
   {
    "duration": 58,
    "start_time": "2022-06-26T21:38:01.594Z"
   },
   {
    "duration": 103,
    "start_time": "2022-06-26T21:38:01.654Z"
   },
   {
    "duration": 96,
    "start_time": "2022-06-26T21:38:01.758Z"
   },
   {
    "duration": 104,
    "start_time": "2022-06-26T21:38:01.856Z"
   },
   {
    "duration": 13,
    "start_time": "2022-06-26T21:38:02.051Z"
   },
   {
    "duration": 17,
    "start_time": "2022-06-26T21:38:02.065Z"
   },
   {
    "duration": 11,
    "start_time": "2022-06-26T21:38:02.083Z"
   },
   {
    "duration": 7,
    "start_time": "2022-06-26T21:38:02.096Z"
   },
   {
    "duration": 25,
    "start_time": "2022-06-26T21:38:02.104Z"
   },
   {
    "duration": 332,
    "start_time": "2022-06-26T21:38:02.130Z"
   },
   {
    "duration": 182,
    "start_time": "2022-06-26T21:38:02.464Z"
   },
   {
    "duration": 0,
    "start_time": "2022-06-26T21:38:02.648Z"
   },
   {
    "duration": 0,
    "start_time": "2022-06-26T21:38:02.649Z"
   },
   {
    "duration": 0,
    "start_time": "2022-06-26T21:38:02.650Z"
   },
   {
    "duration": 0,
    "start_time": "2022-06-26T21:38:02.651Z"
   },
   {
    "duration": 0,
    "start_time": "2022-06-26T21:38:02.652Z"
   },
   {
    "duration": 0,
    "start_time": "2022-06-26T21:38:02.653Z"
   },
   {
    "duration": 11,
    "start_time": "2022-06-26T21:39:11.246Z"
   },
   {
    "duration": 90,
    "start_time": "2022-06-26T21:39:24.177Z"
   },
   {
    "duration": 183,
    "start_time": "2022-06-26T21:39:43.221Z"
   },
   {
    "duration": 184,
    "start_time": "2022-06-26T21:39:51.395Z"
   },
   {
    "duration": 168,
    "start_time": "2022-06-26T21:39:57.765Z"
   },
   {
    "duration": 373,
    "start_time": "2022-06-26T21:40:13.405Z"
   },
   {
    "duration": 13,
    "start_time": "2022-06-26T21:40:21.907Z"
   },
   {
    "duration": 332,
    "start_time": "2022-06-26T21:43:04.929Z"
   },
   {
    "duration": 347,
    "start_time": "2022-06-26T21:49:41.116Z"
   },
   {
    "duration": 158,
    "start_time": "2022-06-26T21:49:47.203Z"
   },
   {
    "duration": 2588,
    "start_time": "2022-06-26T21:49:57.604Z"
   },
   {
    "duration": 1073,
    "start_time": "2022-06-26T21:50:00.194Z"
   },
   {
    "duration": 15,
    "start_time": "2022-06-26T21:50:01.269Z"
   },
   {
    "duration": 3,
    "start_time": "2022-06-26T21:50:01.286Z"
   },
   {
    "duration": 24,
    "start_time": "2022-06-26T21:50:01.290Z"
   },
   {
    "duration": 9,
    "start_time": "2022-06-26T21:50:01.315Z"
   },
   {
    "duration": 7,
    "start_time": "2022-06-26T21:50:01.326Z"
   },
   {
    "duration": 10,
    "start_time": "2022-06-26T21:50:01.334Z"
   },
   {
    "duration": 34,
    "start_time": "2022-06-26T21:50:01.345Z"
   },
   {
    "duration": 2943,
    "start_time": "2022-06-26T21:50:01.382Z"
   },
   {
    "duration": 2,
    "start_time": "2022-06-26T21:50:04.327Z"
   },
   {
    "duration": 5,
    "start_time": "2022-06-26T21:50:04.331Z"
   },
   {
    "duration": 19,
    "start_time": "2022-06-26T21:50:04.337Z"
   },
   {
    "duration": 8,
    "start_time": "2022-06-26T21:50:04.357Z"
   },
   {
    "duration": 88,
    "start_time": "2022-06-26T21:50:04.367Z"
   },
   {
    "duration": 117,
    "start_time": "2022-06-26T21:50:04.457Z"
   },
   {
    "duration": 92,
    "start_time": "2022-06-26T21:50:04.576Z"
   },
   {
    "duration": 103,
    "start_time": "2022-06-26T21:50:04.751Z"
   },
   {
    "duration": 7,
    "start_time": "2022-06-26T21:50:04.856Z"
   },
   {
    "duration": 7,
    "start_time": "2022-06-26T21:50:04.865Z"
   },
   {
    "duration": 4,
    "start_time": "2022-06-26T21:50:04.873Z"
   },
   {
    "duration": 5,
    "start_time": "2022-06-26T21:50:04.878Z"
   },
   {
    "duration": 19,
    "start_time": "2022-06-26T21:50:04.884Z"
   },
   {
    "duration": 367,
    "start_time": "2022-06-26T21:50:04.904Z"
   },
   {
    "duration": 169,
    "start_time": "2022-06-26T21:50:05.272Z"
   },
   {
    "duration": 10,
    "start_time": "2022-06-26T21:50:05.442Z"
   },
   {
    "duration": 7,
    "start_time": "2022-06-26T21:50:05.453Z"
   },
   {
    "duration": 108,
    "start_time": "2022-06-26T21:50:05.463Z"
   },
   {
    "duration": 0,
    "start_time": "2022-06-26T21:50:05.573Z"
   },
   {
    "duration": 0,
    "start_time": "2022-06-26T21:50:05.574Z"
   },
   {
    "duration": 0,
    "start_time": "2022-06-26T21:50:05.576Z"
   },
   {
    "duration": 4,
    "start_time": "2022-06-26T21:51:59.865Z"
   },
   {
    "duration": 4,
    "start_time": "2022-06-26T21:52:01.455Z"
   },
   {
    "duration": 14,
    "start_time": "2022-06-26T21:52:02.377Z"
   },
   {
    "duration": 14,
    "start_time": "2022-06-26T21:52:26.826Z"
   },
   {
    "duration": 17,
    "start_time": "2022-06-26T21:52:31.597Z"
   },
   {
    "duration": 3,
    "start_time": "2022-06-26T21:55:43.926Z"
   },
   {
    "duration": 4,
    "start_time": "2022-06-26T22:00:25.216Z"
   },
   {
    "duration": 3,
    "start_time": "2022-06-26T22:00:26.219Z"
   },
   {
    "duration": 20,
    "start_time": "2022-06-26T22:00:27.387Z"
   },
   {
    "duration": 45,
    "start_time": "2022-06-27T20:53:16.696Z"
   },
   {
    "duration": 7255,
    "start_time": "2022-06-27T20:54:04.210Z"
   },
   {
    "duration": 1329,
    "start_time": "2022-06-27T20:54:11.467Z"
   },
   {
    "duration": 94,
    "start_time": "2022-06-27T20:54:12.798Z"
   },
   {
    "duration": 4,
    "start_time": "2022-06-27T20:54:12.894Z"
   },
   {
    "duration": 20,
    "start_time": "2022-06-27T20:54:12.899Z"
   },
   {
    "duration": 10,
    "start_time": "2022-06-27T20:54:12.920Z"
   },
   {
    "duration": 4,
    "start_time": "2022-06-27T20:54:12.932Z"
   },
   {
    "duration": 13,
    "start_time": "2022-06-27T20:54:12.937Z"
   },
   {
    "duration": 23,
    "start_time": "2022-06-27T20:54:12.952Z"
   },
   {
    "duration": 3356,
    "start_time": "2022-06-27T20:54:12.977Z"
   },
   {
    "duration": 2,
    "start_time": "2022-06-27T20:54:16.334Z"
   },
   {
    "duration": 10,
    "start_time": "2022-06-27T20:54:16.338Z"
   },
   {
    "duration": 21,
    "start_time": "2022-06-27T20:54:16.349Z"
   },
   {
    "duration": 13,
    "start_time": "2022-06-27T20:54:16.372Z"
   },
   {
    "duration": 48,
    "start_time": "2022-06-27T20:54:16.386Z"
   },
   {
    "duration": 113,
    "start_time": "2022-06-27T20:54:16.435Z"
   },
   {
    "duration": 183,
    "start_time": "2022-06-27T20:54:16.549Z"
   },
   {
    "duration": 107,
    "start_time": "2022-06-27T20:54:16.737Z"
   },
   {
    "duration": 914,
    "start_time": "2022-06-27T20:54:16.846Z"
   },
   {
    "duration": 931,
    "start_time": "2022-06-27T20:54:17.761Z"
   },
   {
    "duration": 176,
    "start_time": "2022-06-27T20:54:18.694Z"
   },
   {
    "duration": 7,
    "start_time": "2022-06-27T20:54:18.873Z"
   },
   {
    "duration": 27,
    "start_time": "2022-06-27T20:54:18.882Z"
   },
   {
    "duration": 366,
    "start_time": "2022-06-27T20:54:18.911Z"
   },
   {
    "duration": 225,
    "start_time": "2022-06-27T20:54:19.279Z"
   },
   {
    "duration": 4,
    "start_time": "2022-06-27T20:54:19.506Z"
   },
   {
    "duration": 9,
    "start_time": "2022-06-27T20:54:19.512Z"
   },
   {
    "duration": 274,
    "start_time": "2022-06-27T20:54:19.531Z"
   },
   {
    "duration": 0,
    "start_time": "2022-06-27T20:54:19.806Z"
   },
   {
    "duration": 0,
    "start_time": "2022-06-27T20:54:19.808Z"
   },
   {
    "duration": 0,
    "start_time": "2022-06-27T20:54:19.809Z"
   },
   {
    "duration": 1,
    "start_time": "2022-06-27T20:54:19.829Z"
   },
   {
    "duration": 0,
    "start_time": "2022-06-27T20:54:19.831Z"
   },
   {
    "duration": 0,
    "start_time": "2022-06-27T20:54:19.832Z"
   },
   {
    "duration": 0,
    "start_time": "2022-06-27T20:54:19.834Z"
   },
   {
    "duration": 0,
    "start_time": "2022-06-27T20:54:19.835Z"
   },
   {
    "duration": 0,
    "start_time": "2022-06-27T20:54:19.837Z"
   },
   {
    "duration": 0,
    "start_time": "2022-06-27T20:54:19.838Z"
   },
   {
    "duration": 14,
    "start_time": "2022-06-27T20:58:14.793Z"
   },
   {
    "duration": 73,
    "start_time": "2022-06-27T20:58:22.358Z"
   },
   {
    "duration": 2368,
    "start_time": "2022-06-27T21:01:43.231Z"
   },
   {
    "duration": 1362,
    "start_time": "2022-06-27T21:01:45.601Z"
   },
   {
    "duration": 32,
    "start_time": "2022-06-27T21:01:46.965Z"
   },
   {
    "duration": 3,
    "start_time": "2022-06-27T21:01:46.999Z"
   },
   {
    "duration": 31,
    "start_time": "2022-06-27T21:01:47.005Z"
   },
   {
    "duration": 14,
    "start_time": "2022-06-27T21:01:47.038Z"
   },
   {
    "duration": 12,
    "start_time": "2022-06-27T21:01:47.054Z"
   },
   {
    "duration": 11,
    "start_time": "2022-06-27T21:01:47.068Z"
   },
   {
    "duration": 31,
    "start_time": "2022-06-27T21:01:47.081Z"
   },
   {
    "duration": 3220,
    "start_time": "2022-06-27T21:01:47.113Z"
   },
   {
    "duration": 3,
    "start_time": "2022-06-27T21:01:50.334Z"
   },
   {
    "duration": 6,
    "start_time": "2022-06-27T21:01:50.338Z"
   },
   {
    "duration": 14,
    "start_time": "2022-06-27T21:01:50.345Z"
   },
   {
    "duration": 11,
    "start_time": "2022-06-27T21:01:50.362Z"
   },
   {
    "duration": 61,
    "start_time": "2022-06-27T21:01:50.374Z"
   },
   {
    "duration": 106,
    "start_time": "2022-06-27T21:01:50.436Z"
   },
   {
    "duration": 187,
    "start_time": "2022-06-27T21:01:50.544Z"
   },
   {
    "duration": 101,
    "start_time": "2022-06-27T21:01:50.735Z"
   },
   {
    "duration": 8,
    "start_time": "2022-06-27T21:01:50.838Z"
   },
   {
    "duration": 15,
    "start_time": "2022-06-27T21:01:50.847Z"
   },
   {
    "duration": 10,
    "start_time": "2022-06-27T21:01:50.864Z"
   },
   {
    "duration": 6,
    "start_time": "2022-06-27T21:01:50.875Z"
   },
   {
    "duration": 25,
    "start_time": "2022-06-27T21:01:50.882Z"
   },
   {
    "duration": 439,
    "start_time": "2022-06-27T21:01:50.909Z"
   },
   {
    "duration": 194,
    "start_time": "2022-06-27T21:01:51.349Z"
   },
   {
    "duration": 4,
    "start_time": "2022-06-27T21:01:51.545Z"
   },
   {
    "duration": 11,
    "start_time": "2022-06-27T21:01:51.551Z"
   },
   {
    "duration": 251,
    "start_time": "2022-06-27T21:01:51.563Z"
   },
   {
    "duration": 0,
    "start_time": "2022-06-27T21:01:51.816Z"
   },
   {
    "duration": 0,
    "start_time": "2022-06-27T21:01:51.817Z"
   },
   {
    "duration": 0,
    "start_time": "2022-06-27T21:01:51.817Z"
   },
   {
    "duration": 0,
    "start_time": "2022-06-27T21:01:51.829Z"
   },
   {
    "duration": 0,
    "start_time": "2022-06-27T21:01:51.830Z"
   },
   {
    "duration": 0,
    "start_time": "2022-06-27T21:01:51.831Z"
   },
   {
    "duration": 0,
    "start_time": "2022-06-27T21:01:51.832Z"
   },
   {
    "duration": 0,
    "start_time": "2022-06-27T21:01:51.833Z"
   },
   {
    "duration": 0,
    "start_time": "2022-06-27T21:01:51.834Z"
   },
   {
    "duration": 0,
    "start_time": "2022-06-27T21:01:51.835Z"
   },
   {
    "duration": 3,
    "start_time": "2022-06-27T21:02:45.135Z"
   },
   {
    "duration": 109,
    "start_time": "2022-06-27T21:02:52.922Z"
   },
   {
    "duration": 90,
    "start_time": "2022-06-27T21:12:43.641Z"
   },
   {
    "duration": 253,
    "start_time": "2022-06-27T21:17:48.352Z"
   },
   {
    "duration": 64,
    "start_time": "2022-06-27T21:18:16.167Z"
   },
   {
    "duration": 277,
    "start_time": "2022-06-27T21:19:42.086Z"
   },
   {
    "duration": 193,
    "start_time": "2022-06-27T21:22:36.814Z"
   },
   {
    "duration": 8,
    "start_time": "2022-06-27T21:30:06.610Z"
   },
   {
    "duration": 212,
    "start_time": "2022-06-27T21:31:40.897Z"
   },
   {
    "duration": 268,
    "start_time": "2022-06-27T21:32:06.339Z"
   },
   {
    "duration": 9,
    "start_time": "2022-06-27T21:32:18.225Z"
   },
   {
    "duration": 7,
    "start_time": "2022-06-27T21:47:54.596Z"
   },
   {
    "duration": 4,
    "start_time": "2022-06-27T21:49:36.310Z"
   },
   {
    "duration": 2,
    "start_time": "2022-06-27T21:49:37.353Z"
   },
   {
    "duration": 3,
    "start_time": "2022-06-27T21:49:38.496Z"
   },
   {
    "duration": 3,
    "start_time": "2022-06-27T21:49:39.633Z"
   },
   {
    "duration": 11,
    "start_time": "2022-06-27T21:49:41.483Z"
   },
   {
    "duration": 3,
    "start_time": "2022-06-27T21:50:19.102Z"
   },
   {
    "duration": 9,
    "start_time": "2022-06-27T21:51:28.602Z"
   },
   {
    "duration": 10,
    "start_time": "2022-06-27T21:51:59.240Z"
   },
   {
    "duration": 4,
    "start_time": "2022-06-27T21:52:13.778Z"
   },
   {
    "duration": 3,
    "start_time": "2022-06-27T21:52:29.233Z"
   },
   {
    "duration": 3,
    "start_time": "2022-06-27T21:53:00.749Z"
   },
   {
    "duration": 8,
    "start_time": "2022-06-27T21:55:09.959Z"
   },
   {
    "duration": 2,
    "start_time": "2022-06-27T21:55:54.389Z"
   },
   {
    "duration": 2,
    "start_time": "2022-06-27T21:55:57.264Z"
   },
   {
    "duration": 4,
    "start_time": "2022-06-27T22:01:01.404Z"
   },
   {
    "duration": 10,
    "start_time": "2022-06-27T22:01:07.962Z"
   },
   {
    "duration": 2,
    "start_time": "2022-06-27T22:01:19.157Z"
   },
   {
    "duration": 8,
    "start_time": "2022-06-27T22:01:28.618Z"
   },
   {
    "duration": 8,
    "start_time": "2022-06-27T22:04:27.468Z"
   },
   {
    "duration": 2,
    "start_time": "2022-06-27T22:12:27.555Z"
   },
   {
    "duration": 8,
    "start_time": "2022-06-27T22:12:30.335Z"
   },
   {
    "duration": 2222,
    "start_time": "2022-06-27T22:12:49.087Z"
   },
   {
    "duration": 1146,
    "start_time": "2022-06-27T22:12:51.311Z"
   },
   {
    "duration": 28,
    "start_time": "2022-06-27T22:12:52.459Z"
   },
   {
    "duration": 4,
    "start_time": "2022-06-27T22:12:52.489Z"
   },
   {
    "duration": 18,
    "start_time": "2022-06-27T22:12:52.494Z"
   },
   {
    "duration": 11,
    "start_time": "2022-06-27T22:12:52.513Z"
   },
   {
    "duration": 6,
    "start_time": "2022-06-27T22:12:52.525Z"
   },
   {
    "duration": 7,
    "start_time": "2022-06-27T22:12:52.532Z"
   },
   {
    "duration": 23,
    "start_time": "2022-06-27T22:12:52.540Z"
   },
   {
    "duration": 3199,
    "start_time": "2022-06-27T22:12:52.565Z"
   },
   {
    "duration": 2,
    "start_time": "2022-06-27T22:12:55.765Z"
   },
   {
    "duration": 6,
    "start_time": "2022-06-27T22:12:55.769Z"
   },
   {
    "duration": 12,
    "start_time": "2022-06-27T22:12:55.777Z"
   },
   {
    "duration": 9,
    "start_time": "2022-06-27T22:12:55.790Z"
   },
   {
    "duration": 38,
    "start_time": "2022-06-27T22:12:55.800Z"
   },
   {
    "duration": 13,
    "start_time": "2022-06-27T22:12:55.928Z"
   },
   {
    "duration": 189,
    "start_time": "2022-06-27T22:12:55.943Z"
   },
   {
    "duration": 107,
    "start_time": "2022-06-27T22:12:56.134Z"
   },
   {
    "duration": 10,
    "start_time": "2022-06-27T22:12:56.244Z"
   },
   {
    "duration": 74,
    "start_time": "2022-06-27T22:12:56.256Z"
   },
   {
    "duration": 3,
    "start_time": "2022-06-27T22:12:56.332Z"
   },
   {
    "duration": 6,
    "start_time": "2022-06-27T22:12:56.336Z"
   },
   {
    "duration": 20,
    "start_time": "2022-06-27T22:12:56.343Z"
   },
   {
    "duration": 377,
    "start_time": "2022-06-27T22:12:56.364Z"
   },
   {
    "duration": 190,
    "start_time": "2022-06-27T22:12:56.743Z"
   },
   {
    "duration": 4,
    "start_time": "2022-06-27T22:12:56.935Z"
   },
   {
    "duration": 7,
    "start_time": "2022-06-27T22:12:56.940Z"
   },
   {
    "duration": 10,
    "start_time": "2022-06-27T22:12:56.950Z"
   },
   {
    "duration": 68,
    "start_time": "2022-06-27T22:12:56.962Z"
   },
   {
    "duration": 98,
    "start_time": "2022-06-27T22:12:57.031Z"
   },
   {
    "duration": 2,
    "start_time": "2022-06-27T22:12:57.131Z"
   },
   {
    "duration": 110,
    "start_time": "2022-06-27T22:12:57.135Z"
   },
   {
    "duration": 0,
    "start_time": "2022-06-27T22:12:57.247Z"
   },
   {
    "duration": 0,
    "start_time": "2022-06-27T22:12:57.248Z"
   },
   {
    "duration": 0,
    "start_time": "2022-06-27T22:12:57.249Z"
   },
   {
    "duration": 0,
    "start_time": "2022-06-27T22:12:57.250Z"
   },
   {
    "duration": 0,
    "start_time": "2022-06-27T22:12:57.251Z"
   },
   {
    "duration": 0,
    "start_time": "2022-06-27T22:12:57.252Z"
   },
   {
    "duration": 3,
    "start_time": "2022-06-27T22:13:16.912Z"
   },
   {
    "duration": 8,
    "start_time": "2022-06-27T22:18:48.983Z"
   },
   {
    "duration": 9,
    "start_time": "2022-06-27T22:19:39.303Z"
   },
   {
    "duration": 9,
    "start_time": "2022-06-27T22:26:00.665Z"
   },
   {
    "duration": 9,
    "start_time": "2022-06-27T22:26:04.052Z"
   },
   {
    "duration": 9,
    "start_time": "2022-06-27T22:26:08.537Z"
   },
   {
    "duration": 106,
    "start_time": "2022-06-27T22:26:15.240Z"
   },
   {
    "duration": 4,
    "start_time": "2022-06-27T22:26:59.741Z"
   },
   {
    "duration": 3,
    "start_time": "2022-06-27T22:28:19.433Z"
   },
   {
    "duration": 4,
    "start_time": "2022-06-27T22:31:44.667Z"
   },
   {
    "duration": 8,
    "start_time": "2022-06-28T01:03:43.729Z"
   },
   {
    "duration": 3,
    "start_time": "2022-06-28T01:03:49.102Z"
   },
   {
    "duration": 7,
    "start_time": "2022-06-28T01:03:51.151Z"
   },
   {
    "duration": 8,
    "start_time": "2022-06-28T01:09:48.884Z"
   },
   {
    "duration": 8,
    "start_time": "2022-06-28T01:13:42.590Z"
   },
   {
    "duration": 3,
    "start_time": "2022-06-28T01:17:47.719Z"
   },
   {
    "duration": 3,
    "start_time": "2022-06-28T01:17:50.305Z"
   },
   {
    "duration": 3,
    "start_time": "2022-06-28T01:17:55.087Z"
   },
   {
    "duration": 45,
    "start_time": "2022-06-28T01:26:40.203Z"
   },
   {
    "duration": 2190,
    "start_time": "2022-06-28T01:26:47.000Z"
   },
   {
    "duration": 1156,
    "start_time": "2022-06-28T01:26:49.193Z"
   },
   {
    "duration": 26,
    "start_time": "2022-06-28T01:26:50.351Z"
   },
   {
    "duration": 3,
    "start_time": "2022-06-28T01:26:50.379Z"
   },
   {
    "duration": 16,
    "start_time": "2022-06-28T01:26:50.383Z"
   },
   {
    "duration": 9,
    "start_time": "2022-06-28T01:26:50.400Z"
   },
   {
    "duration": 5,
    "start_time": "2022-06-28T01:26:50.411Z"
   },
   {
    "duration": 13,
    "start_time": "2022-06-28T01:26:50.418Z"
   },
   {
    "duration": 20,
    "start_time": "2022-06-28T01:26:50.432Z"
   },
   {
    "duration": 3082,
    "start_time": "2022-06-28T01:26:50.454Z"
   },
   {
    "duration": 3,
    "start_time": "2022-06-28T01:26:53.538Z"
   },
   {
    "duration": 6,
    "start_time": "2022-06-28T01:26:53.542Z"
   },
   {
    "duration": 13,
    "start_time": "2022-06-28T01:26:53.549Z"
   },
   {
    "duration": 12,
    "start_time": "2022-06-28T01:26:53.564Z"
   },
   {
    "duration": 154,
    "start_time": "2022-06-28T01:26:53.577Z"
   },
   {
    "duration": 18,
    "start_time": "2022-06-28T01:26:53.732Z"
   },
   {
    "duration": 179,
    "start_time": "2022-06-28T01:26:53.752Z"
   },
   {
    "duration": 107,
    "start_time": "2022-06-28T01:26:53.934Z"
   },
   {
    "duration": 7,
    "start_time": "2022-06-28T01:26:54.043Z"
   },
   {
    "duration": 5,
    "start_time": "2022-06-28T01:26:54.052Z"
   },
   {
    "duration": 4,
    "start_time": "2022-06-28T01:26:54.059Z"
   },
   {
    "duration": 4,
    "start_time": "2022-06-28T01:26:54.065Z"
   },
   {
    "duration": 19,
    "start_time": "2022-06-28T01:26:54.070Z"
   },
   {
    "duration": 430,
    "start_time": "2022-06-28T01:26:54.090Z"
   },
   {
    "duration": 175,
    "start_time": "2022-06-28T01:26:54.522Z"
   },
   {
    "duration": 3,
    "start_time": "2022-06-28T01:26:54.699Z"
   },
   {
    "duration": 5,
    "start_time": "2022-06-28T01:26:54.704Z"
   },
   {
    "duration": 22,
    "start_time": "2022-06-28T01:26:54.713Z"
   },
   {
    "duration": 96,
    "start_time": "2022-06-28T01:26:54.737Z"
   },
   {
    "duration": 4,
    "start_time": "2022-06-28T01:26:54.835Z"
   },
   {
    "duration": 90,
    "start_time": "2022-06-28T01:26:54.841Z"
   },
   {
    "duration": 7,
    "start_time": "2022-06-28T01:26:54.932Z"
   },
   {
    "duration": 4,
    "start_time": "2022-06-28T01:26:54.941Z"
   },
   {
    "duration": 119,
    "start_time": "2022-06-28T01:26:54.947Z"
   },
   {
    "duration": 0,
    "start_time": "2022-06-28T01:26:55.067Z"
   },
   {
    "duration": 0,
    "start_time": "2022-06-28T01:26:55.068Z"
   },
   {
    "duration": 0,
    "start_time": "2022-06-28T01:26:55.069Z"
   },
   {
    "duration": 3,
    "start_time": "2022-06-28T01:27:17.542Z"
   },
   {
    "duration": 85,
    "start_time": "2022-06-28T01:27:31.527Z"
   },
   {
    "duration": 4,
    "start_time": "2022-06-28T01:28:22.502Z"
   },
   {
    "duration": 4,
    "start_time": "2022-06-28T01:28:56.232Z"
   },
   {
    "duration": 3,
    "start_time": "2022-06-28T01:29:22.663Z"
   },
   {
    "duration": 4,
    "start_time": "2022-06-28T01:29:23.340Z"
   },
   {
    "duration": 5,
    "start_time": "2022-06-28T01:30:13.213Z"
   },
   {
    "duration": 5,
    "start_time": "2022-06-28T01:30:43.903Z"
   },
   {
    "duration": 3,
    "start_time": "2022-06-28T01:31:22.766Z"
   },
   {
    "duration": 5,
    "start_time": "2022-06-28T01:31:27.407Z"
   },
   {
    "duration": 4,
    "start_time": "2022-06-28T01:31:28.296Z"
   },
   {
    "duration": 5,
    "start_time": "2022-06-28T01:31:39.142Z"
   },
   {
    "duration": 13701,
    "start_time": "2022-06-29T21:29:23.570Z"
   },
   {
    "duration": 1590,
    "start_time": "2022-06-29T21:29:37.276Z"
   },
   {
    "duration": 133,
    "start_time": "2022-06-29T21:29:38.871Z"
   },
   {
    "duration": 4,
    "start_time": "2022-06-29T21:29:39.005Z"
   },
   {
    "duration": 15,
    "start_time": "2022-06-29T21:29:39.012Z"
   },
   {
    "duration": 12,
    "start_time": "2022-06-29T21:29:39.029Z"
   },
   {
    "duration": 35,
    "start_time": "2022-06-29T21:29:39.047Z"
   },
   {
    "duration": 8,
    "start_time": "2022-06-29T21:29:39.086Z"
   },
   {
    "duration": 24,
    "start_time": "2022-06-29T21:29:39.096Z"
   },
   {
    "duration": 4137,
    "start_time": "2022-06-29T21:29:39.122Z"
   },
   {
    "duration": 3,
    "start_time": "2022-06-29T21:29:43.260Z"
   },
   {
    "duration": 5,
    "start_time": "2022-06-29T21:29:43.265Z"
   },
   {
    "duration": 22,
    "start_time": "2022-06-29T21:29:43.274Z"
   },
   {
    "duration": 12,
    "start_time": "2022-06-29T21:29:43.299Z"
   },
   {
    "duration": 46,
    "start_time": "2022-06-29T21:29:43.312Z"
   },
   {
    "duration": 109,
    "start_time": "2022-06-29T21:29:43.360Z"
   },
   {
    "duration": 201,
    "start_time": "2022-06-29T21:29:43.471Z"
   },
   {
    "duration": 171,
    "start_time": "2022-06-29T21:29:43.685Z"
   },
   {
    "duration": 26,
    "start_time": "2022-06-29T21:29:43.860Z"
   },
   {
    "duration": 6,
    "start_time": "2022-06-29T21:29:43.888Z"
   },
   {
    "duration": 5,
    "start_time": "2022-06-29T21:29:43.896Z"
   },
   {
    "duration": 10,
    "start_time": "2022-06-29T21:29:43.903Z"
   },
   {
    "duration": 25,
    "start_time": "2022-06-29T21:29:43.915Z"
   },
   {
    "duration": 344,
    "start_time": "2022-06-29T21:29:43.944Z"
   },
   {
    "duration": 236,
    "start_time": "2022-06-29T21:29:44.289Z"
   },
   {
    "duration": 5,
    "start_time": "2022-06-29T21:29:44.527Z"
   },
   {
    "duration": 19,
    "start_time": "2022-06-29T21:29:44.534Z"
   },
   {
    "duration": 33,
    "start_time": "2022-06-29T21:29:44.558Z"
   },
   {
    "duration": 72,
    "start_time": "2022-06-29T21:29:44.593Z"
   },
   {
    "duration": 121,
    "start_time": "2022-06-29T21:29:44.667Z"
   },
   {
    "duration": 6,
    "start_time": "2022-06-29T21:29:44.790Z"
   },
   {
    "duration": 10,
    "start_time": "2022-06-29T21:29:44.798Z"
   },
   {
    "duration": 7,
    "start_time": "2022-06-29T21:29:44.810Z"
   },
   {
    "duration": 39,
    "start_time": "2022-06-29T21:29:44.819Z"
   },
   {
    "duration": 96,
    "start_time": "2022-06-29T21:29:44.860Z"
   },
   {
    "duration": 31,
    "start_time": "2022-06-29T21:29:44.957Z"
   },
   {
    "duration": 104,
    "start_time": "2022-06-29T21:29:44.989Z"
   },
   {
    "duration": 53,
    "start_time": "2022-06-29T21:29:45.095Z"
   },
   {
    "duration": 117,
    "start_time": "2022-06-29T21:29:45.150Z"
   },
   {
    "duration": 19,
    "start_time": "2022-06-29T21:29:45.272Z"
   },
   {
    "duration": 8,
    "start_time": "2022-06-29T21:29:45.295Z"
   },
   {
    "duration": 344,
    "start_time": "2022-06-29T22:20:07.678Z"
   },
   {
    "duration": 47,
    "start_time": "2022-06-30T21:13:23.160Z"
   },
   {
    "duration": 8445,
    "start_time": "2022-06-30T21:13:33.072Z"
   },
   {
    "duration": 1511,
    "start_time": "2022-06-30T21:13:41.520Z"
   },
   {
    "duration": 38,
    "start_time": "2022-06-30T21:13:43.033Z"
   },
   {
    "duration": 4,
    "start_time": "2022-06-30T21:13:43.073Z"
   },
   {
    "duration": 17,
    "start_time": "2022-06-30T21:13:43.079Z"
   },
   {
    "duration": 12,
    "start_time": "2022-06-30T21:13:43.098Z"
   },
   {
    "duration": 6,
    "start_time": "2022-06-30T21:13:43.112Z"
   },
   {
    "duration": 11,
    "start_time": "2022-06-30T21:13:43.119Z"
   },
   {
    "duration": 23,
    "start_time": "2022-06-30T21:13:43.132Z"
   },
   {
    "duration": 3541,
    "start_time": "2022-06-30T21:13:43.157Z"
   },
   {
    "duration": 2,
    "start_time": "2022-06-30T21:13:46.700Z"
   },
   {
    "duration": 8,
    "start_time": "2022-06-30T21:13:46.704Z"
   },
   {
    "duration": 21,
    "start_time": "2022-06-30T21:13:46.713Z"
   },
   {
    "duration": 10,
    "start_time": "2022-06-30T21:13:46.735Z"
   },
   {
    "duration": 21,
    "start_time": "2022-06-30T21:13:46.747Z"
   },
   {
    "duration": 15,
    "start_time": "2022-06-30T21:13:46.769Z"
   },
   {
    "duration": 16,
    "start_time": "2022-06-30T21:13:46.785Z"
   },
   {
    "duration": 39,
    "start_time": "2022-06-30T21:13:46.803Z"
   },
   {
    "duration": 7,
    "start_time": "2022-06-30T21:13:46.844Z"
   },
   {
    "duration": 9,
    "start_time": "2022-06-30T21:13:46.853Z"
   },
   {
    "duration": 7,
    "start_time": "2022-06-30T21:13:46.863Z"
   },
   {
    "duration": 6,
    "start_time": "2022-06-30T21:13:46.871Z"
   },
   {
    "duration": 38,
    "start_time": "2022-06-30T21:13:46.878Z"
   },
   {
    "duration": 446,
    "start_time": "2022-06-30T21:13:46.918Z"
   },
   {
    "duration": 410,
    "start_time": "2022-06-30T21:13:47.366Z"
   },
   {
    "duration": 5,
    "start_time": "2022-06-30T21:13:47.778Z"
   },
   {
    "duration": 6,
    "start_time": "2022-06-30T21:13:47.784Z"
   },
   {
    "duration": 33,
    "start_time": "2022-06-30T21:13:47.794Z"
   },
   {
    "duration": 98,
    "start_time": "2022-06-30T21:13:47.830Z"
   },
   {
    "duration": 100,
    "start_time": "2022-06-30T21:13:47.930Z"
   },
   {
    "duration": 8,
    "start_time": "2022-06-30T21:13:48.031Z"
   },
   {
    "duration": 8,
    "start_time": "2022-06-30T21:13:48.040Z"
   },
   {
    "duration": 7,
    "start_time": "2022-06-30T21:13:48.049Z"
   },
   {
    "duration": 69,
    "start_time": "2022-06-30T21:13:48.058Z"
   },
   {
    "duration": 7,
    "start_time": "2022-06-30T21:13:48.129Z"
   },
   {
    "duration": 89,
    "start_time": "2022-06-30T21:13:48.139Z"
   },
   {
    "duration": 11,
    "start_time": "2022-06-30T21:13:48.230Z"
   },
   {
    "duration": 84,
    "start_time": "2022-06-30T21:13:48.243Z"
   },
   {
    "duration": 16,
    "start_time": "2022-06-30T21:13:48.330Z"
   },
   {
    "duration": 10,
    "start_time": "2022-06-30T21:13:48.425Z"
   },
   {
    "duration": 9,
    "start_time": "2022-06-30T21:13:48.437Z"
   },
   {
    "duration": 6845,
    "start_time": "2022-07-01T14:50:33.328Z"
   },
   {
    "duration": 1376,
    "start_time": "2022-07-01T14:50:40.177Z"
   },
   {
    "duration": 63,
    "start_time": "2022-07-01T14:50:41.555Z"
   },
   {
    "duration": 5,
    "start_time": "2022-07-01T14:50:41.620Z"
   },
   {
    "duration": 32,
    "start_time": "2022-07-01T14:50:41.628Z"
   },
   {
    "duration": 12,
    "start_time": "2022-07-01T14:50:41.665Z"
   },
   {
    "duration": 9,
    "start_time": "2022-07-01T14:50:41.679Z"
   },
   {
    "duration": 17,
    "start_time": "2022-07-01T14:50:41.689Z"
   },
   {
    "duration": 35,
    "start_time": "2022-07-01T14:50:41.708Z"
   },
   {
    "duration": 3659,
    "start_time": "2022-07-01T14:50:41.746Z"
   },
   {
    "duration": 4,
    "start_time": "2022-07-01T14:50:45.406Z"
   },
   {
    "duration": 15,
    "start_time": "2022-07-01T14:50:45.411Z"
   },
   {
    "duration": 10,
    "start_time": "2022-07-01T14:50:45.428Z"
   },
   {
    "duration": 18,
    "start_time": "2022-07-01T14:50:45.439Z"
   },
   {
    "duration": 22,
    "start_time": "2022-07-01T14:50:45.458Z"
   },
   {
    "duration": 14,
    "start_time": "2022-07-01T14:50:45.482Z"
   },
   {
    "duration": 31,
    "start_time": "2022-07-01T14:50:45.497Z"
   },
   {
    "duration": 16,
    "start_time": "2022-07-01T14:50:45.529Z"
   },
   {
    "duration": 6,
    "start_time": "2022-07-01T14:50:45.547Z"
   },
   {
    "duration": 5,
    "start_time": "2022-07-01T14:50:45.554Z"
   },
   {
    "duration": 8,
    "start_time": "2022-07-01T14:50:45.561Z"
   },
   {
    "duration": 7,
    "start_time": "2022-07-01T14:50:45.570Z"
   },
   {
    "duration": 56,
    "start_time": "2022-07-01T14:50:45.578Z"
   },
   {
    "duration": 364,
    "start_time": "2022-07-01T14:50:45.636Z"
   },
   {
    "duration": 498,
    "start_time": "2022-07-01T14:50:46.002Z"
   },
   {
    "duration": 4,
    "start_time": "2022-07-01T14:50:46.502Z"
   },
   {
    "duration": 7,
    "start_time": "2022-07-01T14:50:46.508Z"
   },
   {
    "duration": 11,
    "start_time": "2022-07-01T14:50:46.526Z"
   },
   {
    "duration": 193,
    "start_time": "2022-07-01T14:50:46.539Z"
   },
   {
    "duration": 5,
    "start_time": "2022-07-01T14:50:46.735Z"
   },
   {
    "duration": 194,
    "start_time": "2022-07-01T14:50:46.742Z"
   },
   {
    "duration": 9,
    "start_time": "2022-07-01T14:50:46.938Z"
   },
   {
    "duration": 7,
    "start_time": "2022-07-01T14:50:46.949Z"
   },
   {
    "duration": 73,
    "start_time": "2022-07-01T14:50:46.959Z"
   },
   {
    "duration": 94,
    "start_time": "2022-07-01T14:50:47.035Z"
   },
   {
    "duration": 20,
    "start_time": "2022-07-01T14:50:47.131Z"
   },
   {
    "duration": 11,
    "start_time": "2022-07-01T14:50:47.228Z"
   },
   {
    "duration": 86,
    "start_time": "2022-07-01T14:50:47.241Z"
   },
   {
    "duration": 107,
    "start_time": "2022-07-01T14:50:47.329Z"
   },
   {
    "duration": 10,
    "start_time": "2022-07-01T14:50:47.438Z"
   },
   {
    "duration": 9,
    "start_time": "2022-07-01T14:50:47.451Z"
   },
   {
    "duration": 1513,
    "start_time": "2022-07-27T04:07:10.569Z"
   },
   {
    "duration": 0,
    "start_time": "2022-07-27T04:07:12.084Z"
   },
   {
    "duration": 0,
    "start_time": "2022-07-27T04:07:12.085Z"
   },
   {
    "duration": 0,
    "start_time": "2022-07-27T04:07:12.086Z"
   },
   {
    "duration": 0,
    "start_time": "2022-07-27T04:07:12.087Z"
   },
   {
    "duration": 0,
    "start_time": "2022-07-27T04:07:12.087Z"
   },
   {
    "duration": 0,
    "start_time": "2022-07-27T04:07:12.097Z"
   },
   {
    "duration": 0,
    "start_time": "2022-07-27T04:07:12.099Z"
   },
   {
    "duration": 0,
    "start_time": "2022-07-27T04:07:12.099Z"
   },
   {
    "duration": 0,
    "start_time": "2022-07-27T04:07:12.100Z"
   },
   {
    "duration": 0,
    "start_time": "2022-07-27T04:07:12.101Z"
   },
   {
    "duration": 0,
    "start_time": "2022-07-27T04:07:12.102Z"
   },
   {
    "duration": 0,
    "start_time": "2022-07-27T04:07:12.103Z"
   },
   {
    "duration": 0,
    "start_time": "2022-07-27T04:07:12.104Z"
   },
   {
    "duration": 0,
    "start_time": "2022-07-27T04:07:12.104Z"
   },
   {
    "duration": 0,
    "start_time": "2022-07-27T04:07:12.105Z"
   },
   {
    "duration": 0,
    "start_time": "2022-07-27T04:07:12.106Z"
   },
   {
    "duration": 0,
    "start_time": "2022-07-27T04:07:12.107Z"
   },
   {
    "duration": 0,
    "start_time": "2022-07-27T04:07:12.108Z"
   },
   {
    "duration": 0,
    "start_time": "2022-07-27T04:07:12.109Z"
   },
   {
    "duration": 0,
    "start_time": "2022-07-27T04:07:12.110Z"
   },
   {
    "duration": 0,
    "start_time": "2022-07-27T04:07:12.111Z"
   },
   {
    "duration": 0,
    "start_time": "2022-07-27T04:07:12.112Z"
   },
   {
    "duration": 0,
    "start_time": "2022-07-27T04:07:12.112Z"
   },
   {
    "duration": 0,
    "start_time": "2022-07-27T04:07:12.114Z"
   },
   {
    "duration": 0,
    "start_time": "2022-07-27T04:07:12.114Z"
   },
   {
    "duration": 0,
    "start_time": "2022-07-27T04:07:12.115Z"
   },
   {
    "duration": 0,
    "start_time": "2022-07-27T04:07:12.116Z"
   },
   {
    "duration": 0,
    "start_time": "2022-07-27T04:07:12.117Z"
   },
   {
    "duration": 0,
    "start_time": "2022-07-27T04:07:12.118Z"
   },
   {
    "duration": 0,
    "start_time": "2022-07-27T04:07:12.119Z"
   },
   {
    "duration": 0,
    "start_time": "2022-07-27T04:07:12.120Z"
   },
   {
    "duration": 0,
    "start_time": "2022-07-27T04:07:12.121Z"
   },
   {
    "duration": 0,
    "start_time": "2022-07-27T04:07:12.122Z"
   },
   {
    "duration": 0,
    "start_time": "2022-07-27T04:07:12.123Z"
   },
   {
    "duration": 0,
    "start_time": "2022-07-27T04:07:12.124Z"
   },
   {
    "duration": 0,
    "start_time": "2022-07-27T04:07:12.125Z"
   },
   {
    "duration": 0,
    "start_time": "2022-07-27T04:07:12.126Z"
   },
   {
    "duration": 0,
    "start_time": "2022-07-27T04:07:12.127Z"
   },
   {
    "duration": 0,
    "start_time": "2022-07-27T04:07:12.128Z"
   },
   {
    "duration": 2987,
    "start_time": "2022-07-27T04:09:44.469Z"
   },
   {
    "duration": 2179,
    "start_time": "2022-07-27T04:09:52.084Z"
   },
   {
    "duration": 1544,
    "start_time": "2022-07-27T04:09:54.265Z"
   },
   {
    "duration": 0,
    "start_time": "2022-07-27T04:09:55.811Z"
   },
   {
    "duration": 0,
    "start_time": "2022-07-27T04:09:55.812Z"
   },
   {
    "duration": 0,
    "start_time": "2022-07-27T04:09:55.813Z"
   },
   {
    "duration": 0,
    "start_time": "2022-07-27T04:09:55.814Z"
   },
   {
    "duration": 0,
    "start_time": "2022-07-27T04:09:55.815Z"
   },
   {
    "duration": 0,
    "start_time": "2022-07-27T04:09:55.816Z"
   },
   {
    "duration": 0,
    "start_time": "2022-07-27T04:09:55.817Z"
   },
   {
    "duration": 0,
    "start_time": "2022-07-27T04:09:55.819Z"
   },
   {
    "duration": 0,
    "start_time": "2022-07-27T04:09:55.820Z"
   },
   {
    "duration": 0,
    "start_time": "2022-07-27T04:09:55.821Z"
   },
   {
    "duration": 0,
    "start_time": "2022-07-27T04:09:55.822Z"
   },
   {
    "duration": 0,
    "start_time": "2022-07-27T04:09:55.823Z"
   },
   {
    "duration": 0,
    "start_time": "2022-07-27T04:09:55.824Z"
   },
   {
    "duration": 0,
    "start_time": "2022-07-27T04:09:55.825Z"
   },
   {
    "duration": 0,
    "start_time": "2022-07-27T04:09:55.826Z"
   },
   {
    "duration": 0,
    "start_time": "2022-07-27T04:09:55.826Z"
   },
   {
    "duration": 0,
    "start_time": "2022-07-27T04:09:55.827Z"
   },
   {
    "duration": 0,
    "start_time": "2022-07-27T04:09:55.828Z"
   },
   {
    "duration": 0,
    "start_time": "2022-07-27T04:09:55.830Z"
   },
   {
    "duration": 0,
    "start_time": "2022-07-27T04:09:55.831Z"
   },
   {
    "duration": 0,
    "start_time": "2022-07-27T04:09:55.832Z"
   },
   {
    "duration": 0,
    "start_time": "2022-07-27T04:09:55.832Z"
   },
   {
    "duration": 0,
    "start_time": "2022-07-27T04:09:55.834Z"
   },
   {
    "duration": 0,
    "start_time": "2022-07-27T04:09:55.835Z"
   },
   {
    "duration": 0,
    "start_time": "2022-07-27T04:09:55.836Z"
   },
   {
    "duration": 0,
    "start_time": "2022-07-27T04:09:55.837Z"
   },
   {
    "duration": 0,
    "start_time": "2022-07-27T04:09:55.838Z"
   },
   {
    "duration": 0,
    "start_time": "2022-07-27T04:09:55.839Z"
   },
   {
    "duration": 0,
    "start_time": "2022-07-27T04:09:55.840Z"
   },
   {
    "duration": 0,
    "start_time": "2022-07-27T04:09:55.841Z"
   },
   {
    "duration": 0,
    "start_time": "2022-07-27T04:09:55.842Z"
   },
   {
    "duration": 0,
    "start_time": "2022-07-27T04:09:55.843Z"
   },
   {
    "duration": 0,
    "start_time": "2022-07-27T04:09:55.844Z"
   },
   {
    "duration": 0,
    "start_time": "2022-07-27T04:09:55.897Z"
   },
   {
    "duration": 0,
    "start_time": "2022-07-27T04:09:55.899Z"
   },
   {
    "duration": 0,
    "start_time": "2022-07-27T04:09:55.900Z"
   },
   {
    "duration": 0,
    "start_time": "2022-07-27T04:09:55.901Z"
   },
   {
    "duration": 0,
    "start_time": "2022-07-27T04:09:55.902Z"
   },
   {
    "duration": 0,
    "start_time": "2022-07-27T04:09:55.902Z"
   },
   {
    "duration": 3,
    "start_time": "2022-07-27T04:11:53.968Z"
   }
  ],
  "kernelspec": {
   "display_name": "Python 3 (ipykernel)",
   "language": "python",
   "name": "python3"
  },
  "language_info": {
   "codemirror_mode": {
    "name": "ipython",
    "version": 3
   },
   "file_extension": ".py",
   "mimetype": "text/x-python",
   "name": "python",
   "nbconvert_exporter": "python",
   "pygments_lexer": "ipython3",
   "version": "3.9.7"
  },
  "toc": {
   "base_numbering": 1,
   "nav_menu": {},
   "number_sections": true,
   "sideBar": true,
   "skip_h1_title": true,
   "title_cell": "Table of Contents",
   "title_sidebar": "Contents",
   "toc_cell": false,
   "toc_position": {},
   "toc_section_display": true,
   "toc_window_display": false
  }
 },
 "nbformat": 4,
 "nbformat_minor": 4
}
