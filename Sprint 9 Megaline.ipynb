{
 "cells": [
  {
   "cell_type": "markdown",
   "metadata": {},
   "source": [
    "# Megaline"
   ]
  },
  {
   "cell_type": "markdown",
   "metadata": {},
   "source": [
    "Mobile carrier Megaline has found out that many of their subscribers use legacy plans. They want to develop a model that would analyze subscribers' behavior and recommend one of Megaline's newer plans: Smart or Ultra.\n",
    "\n",
    "We need to develop a model that will pick the right plan for the customer. We need to develop a model with the highest possible accuracy. In this project, the threshold for accuracy is 0.75."
   ]
  },
  {
   "cell_type": "markdown",
   "metadata": {},
   "source": [
    "## Preparation "
   ]
  },
  {
   "cell_type": "code",
   "execution_count": 1,
   "metadata": {},
   "outputs": [],
   "source": [
    "import pandas as pd\n",
    "import numpy as np\n",
    "import seaborn as sns\n",
    "import matplotlib.pyplot as plt\n",
    "\n",
    "from sklearn.model_selection import train_test_split\n",
    "from sklearn.metrics import accuracy_score\n",
    "from sklearn.model_selection import TimeSeriesSplit, GridSearchCV\n",
    "\n",
    "from sklearn.tree import DecisionTreeClassifier\n",
    "from sklearn.ensemble import RandomForestClassifier\n",
    "from sklearn.linear_model import LogisticRegression\n",
    "from sklearn.dummy import DummyClassifier"
   ]
  },
  {
   "cell_type": "code",
   "execution_count": 2,
   "metadata": {},
   "outputs": [],
   "source": [
    "df = pd.read_csv('/datasets/users_behavior.csv')"
   ]
  },
  {
   "cell_type": "code",
   "execution_count": 3,
   "metadata": {},
   "outputs": [
    {
     "data": {
      "text/html": [
       "<div>\n",
       "<style scoped>\n",
       "    .dataframe tbody tr th:only-of-type {\n",
       "        vertical-align: middle;\n",
       "    }\n",
       "\n",
       "    .dataframe tbody tr th {\n",
       "        vertical-align: top;\n",
       "    }\n",
       "\n",
       "    .dataframe thead th {\n",
       "        text-align: right;\n",
       "    }\n",
       "</style>\n",
       "<table border=\"1\" class=\"dataframe\">\n",
       "  <thead>\n",
       "    <tr style=\"text-align: right;\">\n",
       "      <th></th>\n",
       "      <th>calls</th>\n",
       "      <th>minutes</th>\n",
       "      <th>messages</th>\n",
       "      <th>mb_used</th>\n",
       "      <th>is_ultra</th>\n",
       "    </tr>\n",
       "  </thead>\n",
       "  <tbody>\n",
       "    <tr>\n",
       "      <th>0</th>\n",
       "      <td>40.0</td>\n",
       "      <td>311.90</td>\n",
       "      <td>83.0</td>\n",
       "      <td>19915.42</td>\n",
       "      <td>0</td>\n",
       "    </tr>\n",
       "    <tr>\n",
       "      <th>1</th>\n",
       "      <td>85.0</td>\n",
       "      <td>516.75</td>\n",
       "      <td>56.0</td>\n",
       "      <td>22696.96</td>\n",
       "      <td>0</td>\n",
       "    </tr>\n",
       "    <tr>\n",
       "      <th>2</th>\n",
       "      <td>77.0</td>\n",
       "      <td>467.66</td>\n",
       "      <td>86.0</td>\n",
       "      <td>21060.45</td>\n",
       "      <td>0</td>\n",
       "    </tr>\n",
       "    <tr>\n",
       "      <th>3</th>\n",
       "      <td>106.0</td>\n",
       "      <td>745.53</td>\n",
       "      <td>81.0</td>\n",
       "      <td>8437.39</td>\n",
       "      <td>1</td>\n",
       "    </tr>\n",
       "    <tr>\n",
       "      <th>4</th>\n",
       "      <td>66.0</td>\n",
       "      <td>418.74</td>\n",
       "      <td>1.0</td>\n",
       "      <td>14502.75</td>\n",
       "      <td>0</td>\n",
       "    </tr>\n",
       "  </tbody>\n",
       "</table>\n",
       "</div>"
      ],
      "text/plain": [
       "   calls  minutes  messages   mb_used  is_ultra\n",
       "0   40.0   311.90      83.0  19915.42         0\n",
       "1   85.0   516.75      56.0  22696.96         0\n",
       "2   77.0   467.66      86.0  21060.45         0\n",
       "3  106.0   745.53      81.0   8437.39         1\n",
       "4   66.0   418.74       1.0  14502.75         0"
      ]
     },
     "execution_count": 3,
     "metadata": {},
     "output_type": "execute_result"
    }
   ],
   "source": [
    "# Checking general info on df\n",
    "df.head()"
   ]
  },
  {
   "cell_type": "code",
   "execution_count": 4,
   "metadata": {},
   "outputs": [
    {
     "name": "stdout",
     "output_type": "stream",
     "text": [
      "<class 'pandas.core.frame.DataFrame'>\n",
      "RangeIndex: 3214 entries, 0 to 3213\n",
      "Data columns (total 5 columns):\n",
      " #   Column    Non-Null Count  Dtype  \n",
      "---  ------    --------------  -----  \n",
      " 0   calls     3214 non-null   float64\n",
      " 1   minutes   3214 non-null   float64\n",
      " 2   messages  3214 non-null   float64\n",
      " 3   mb_used   3214 non-null   float64\n",
      " 4   is_ultra  3214 non-null   int64  \n",
      "dtypes: float64(4), int64(1)\n",
      "memory usage: 125.7 KB\n"
     ]
    }
   ],
   "source": [
    "# Checking general info on df\n",
    "df.info()"
   ]
  },
  {
   "cell_type": "code",
   "execution_count": 5,
   "metadata": {},
   "outputs": [],
   "source": [
    "# Convert unnecessary floats into ints\n",
    "df['calls'] = df['calls'].astype(np.int64)\n",
    "df['messages'] = df['messages'].astype(np.int64)"
   ]
  },
  {
   "cell_type": "code",
   "execution_count": 6,
   "metadata": {},
   "outputs": [
    {
     "name": "stdout",
     "output_type": "stream",
     "text": [
      "Amount of NaNs: 0\n"
     ]
    }
   ],
   "source": [
    "# Checking NaNs\n",
    "print('Amount of NaNs:', df.isna().sum().sum())"
   ]
  },
  {
   "cell_type": "code",
   "execution_count": 7,
   "metadata": {},
   "outputs": [
    {
     "name": "stdout",
     "output_type": "stream",
     "text": [
      "Total Duplicate Rows: 0\n"
     ]
    }
   ],
   "source": [
    "# Checking duplicates\n",
    "print('Total Duplicate Rows:', len(df.drop_duplicates()) - len(df))"
   ]
  },
  {
   "cell_type": "code",
   "execution_count": 8,
   "metadata": {},
   "outputs": [
    {
     "name": "stdout",
     "output_type": "stream",
     "text": [
      "Training set shapes: (2571, 4) (2571,)\n",
      "Testing set shapes: (322, 4) (322,)\n"
     ]
    }
   ],
   "source": [
    "# Creating model variables and checking their sizes for errors\n",
    "target_train, target_test, features_train, features_test = train_test_split(\n",
    "    df['is_ultra'], df.drop(['is_ultra'], axis=1), train_size=0.8, test_size=0.1)\n",
    "\n",
    "print('Training set shapes:', features_train.shape, target_train.shape)\n",
    "print('Testing set shapes:', features_test.shape, target_test.shape)"
   ]
  },
  {
   "cell_type": "markdown",
   "metadata": {},
   "source": [
    "Here we split the data into a train and test dataset. There's no need for a validation set since we'll be using GridSearchCV."
   ]
  },
  {
   "cell_type": "markdown",
   "metadata": {},
   "source": [
    "## Analysis"
   ]
  },
  {
   "cell_type": "code",
   "execution_count": 9,
   "metadata": {},
   "outputs": [
    {
     "name": "stdout",
     "output_type": "stream",
     "text": [
      "69.35% of customers use Ultra plan\n",
      "30.65% of customers use Smart plan\n"
     ]
    }
   ],
   "source": [
    "print('{:.02%} of customers use Ultra plan'.format(len(df.loc[df['is_ultra'] == 0]) / len(df)))\n",
    "print('{:.02%} of customers use Smart plan'.format(len(df.loc[df['is_ultra'] == 1]) / len(df)))"
   ]
  },
  {
   "cell_type": "code",
   "execution_count": 10,
   "metadata": {},
   "outputs": [
    {
     "name": "stdout",
     "output_type": "stream",
     "text": [
      "Average amount of messages sent per month 38.3\n",
      "Max amount of messages sent per month by a customer 224\n"
     ]
    }
   ],
   "source": [
    "print('Average amount of messages sent per month {:}'.format(df['messages'].mean().round(1)))\n",
    "print('Max amount of messages sent per month by a customer {:}'.format(df['messages'].max()))"
   ]
  },
  {
   "cell_type": "markdown",
   "metadata": {},
   "source": [
    "An average of 38 messages sent per month seems odd, and could indicate an older aged customer base. However, 224 messages sent maximum seems to just be wrong. I tried to find reliable statistics to prove this and found many sites, but none of them credible enough to be worth citing. Despite that, the rate still seems suspicious and could indicate a problem with the service, or an issue with how the message count was made for this dataset."
   ]
  },
  {
   "cell_type": "markdown",
   "metadata": {},
   "source": [
    "## Creating ML Models"
   ]
  },
  {
   "cell_type": "code",
   "execution_count": 11,
   "metadata": {},
   "outputs": [],
   "source": [
    "best_accuracy = []"
   ]
  },
  {
   "cell_type": "markdown",
   "metadata": {},
   "source": [
    "### Decision Tree"
   ]
  },
  {
   "cell_type": "code",
   "execution_count": 12,
   "metadata": {},
   "outputs": [
    {
     "name": "stdout",
     "output_type": "stream",
     "text": [
      "CPU times: user 368 ms, sys: 3.35 ms, total: 371 ms\n",
      "Wall time: 370 ms\n"
     ]
    }
   ],
   "source": [
    "# Tuning Random Forest Regressors parameters using GridSearchCV\n",
    "param_grid1 = {\n",
    "    'max_features': ['auto', 'sqrt', 'log2'],\n",
    "    'max_depth': [int(x) for x in np.linspace(3, 15, num = 5)],\n",
    "    'criterion' : ['gini', 'entropy']\n",
    "}\n",
    "\n",
    "ccv = TimeSeriesSplit(n_splits=2)\n",
    "DTC_rfc = GridSearchCV(estimator=DecisionTreeClassifier(random_state=123), param_grid=param_grid1, cv=ccv)\n",
    "DTC_rfc.fit(features_train, target_train)\n",
    "predictions_test = DTC_rfc.predict(features_test)\n",
    "best_accuracy.append(accuracy_score(target_test, predictions_test))"
   ]
  },
  {
   "cell_type": "markdown",
   "metadata": {},
   "source": [
    "### Random Forest"
   ]
  },
  {
   "cell_type": "code",
   "execution_count": 13,
   "metadata": {},
   "outputs": [
    {
     "name": "stdout",
     "output_type": "stream",
     "text": [
      "CPU times: user 45.3 s, sys: 386 ms, total: 45.7 s\n",
      "Wall time: 46 s\n"
     ]
    }
   ],
   "source": [
    "# Tuning Random Forest Regressors parameters using GridSearchCV\n",
    "param_grid2 = {\n",
    "    'n_estimators': [int(x) for x in np.linspace(start = 100, stop = 300, num = 5)],\n",
    "    'max_features': ['auto', 'sqrt'],\n",
    "    'max_depth': [int(x) for x in np.linspace(3, 15, num = 5)],\n",
    "}\n",
    "\n",
    "ccv = TimeSeriesSplit(n_splits=2)\n",
    "RFR_rfc = GridSearchCV(estimator=RandomForestClassifier(random_state=123), param_grid=param_grid2, cv=ccv)\n",
    "RFR_rfc.fit(features_train, target_train)\n",
    "predictions_test = RFR_rfc.predict(features_test)\n",
    "best_accuracy.append(accuracy_score(target_test, predictions_test))"
   ]
  },
  {
   "cell_type": "markdown",
   "metadata": {},
   "source": [
    "### Logistic Regression"
   ]
  },
  {
   "cell_type": "code",
   "execution_count": 14,
   "metadata": {},
   "outputs": [
    {
     "name": "stdout",
     "output_type": "stream",
     "text": [
      "CPU times: user 218 ms, sys: 394 ms, total: 611 ms\n",
      "Wall time: 558 ms\n"
     ]
    }
   ],
   "source": [
    "# Using Linear Regression with GridSearchCV for the cross-validation\n",
    "param_grid3 = {}\n",
    "\n",
    "ccv = TimeSeriesSplit(n_splits=2)\n",
    "LR = GridSearchCV(estimator=LogisticRegression(random_state=123), param_grid=param_grid3, cv=ccv)\n",
    "LR.fit(features_train, target_train)\n",
    "predictions_test = LR.predict(features_test)\n",
    "best_accuracy.append(accuracy_score(target_test, predictions_test))"
   ]
  },
  {
   "cell_type": "code",
   "execution_count": 15,
   "metadata": {},
   "outputs": [
    {
     "data": {
      "text/html": [
       "<div>\n",
       "<style scoped>\n",
       "    .dataframe tbody tr th:only-of-type {\n",
       "        vertical-align: middle;\n",
       "    }\n",
       "\n",
       "    .dataframe tbody tr th {\n",
       "        vertical-align: top;\n",
       "    }\n",
       "\n",
       "    .dataframe thead th {\n",
       "        text-align: right;\n",
       "    }\n",
       "</style>\n",
       "<table border=\"1\" class=\"dataframe\">\n",
       "  <thead>\n",
       "    <tr style=\"text-align: right;\">\n",
       "      <th></th>\n",
       "      <th>Accuracy Score</th>\n",
       "    </tr>\n",
       "  </thead>\n",
       "  <tbody>\n",
       "    <tr>\n",
       "      <th>Random Forest</th>\n",
       "      <td>0.798137</td>\n",
       "    </tr>\n",
       "    <tr>\n",
       "      <th>Decision Tree</th>\n",
       "      <td>0.788820</td>\n",
       "    </tr>\n",
       "    <tr>\n",
       "      <th>Linear Regression</th>\n",
       "      <td>0.708075</td>\n",
       "    </tr>\n",
       "  </tbody>\n",
       "</table>\n",
       "</div>"
      ],
      "text/plain": [
       "                   Accuracy Score\n",
       "Random Forest            0.798137\n",
       "Decision Tree            0.788820\n",
       "Linear Regression        0.708075"
      ]
     },
     "execution_count": 15,
     "metadata": {},
     "output_type": "execute_result"
    }
   ],
   "source": [
    "best_accuracy_df = pd.DataFrame(best_accuracy, index = ['Decision Tree', 'Random Forest', 'Linear Regression'])\n",
    "best_accuracy_df.columns = ['Accuracy Score']\n",
    "best_accuracy_df.sort_values(by='Accuracy Score', ascending=[False])"
   ]
  },
  {
   "cell_type": "markdown",
   "metadata": {},
   "source": [
    "Here we use GridSearchCV to test our classification models for the best accuracy out of the three. Random Forest Classification is our winner."
   ]
  },
  {
   "cell_type": "code",
   "execution_count": 16,
   "metadata": {},
   "outputs": [
    {
     "name": "stdout",
     "output_type": "stream",
     "text": [
      "Dummy Model Accuracy: 0.6583850931677019\n"
     ]
    }
   ],
   "source": [
    "dummy_model = DummyClassifier(strategy=\"most_frequent\")\n",
    "dummy_model.fit(features_train, target_train)\n",
    "prediction_test = dummy_model.predict(features_test)\n",
    "print('Dummy Model Accuracy:', accuracy_score(target_test, prediction_test))"
   ]
  },
  {
   "cell_type": "markdown",
   "metadata": {},
   "source": [
    "Here we sanity check our chosen model to ensure it's accuracy is higher than the random chance of achieving a similar score. Our training set exceeds the test set."
   ]
  },
  {
   "cell_type": "markdown",
   "metadata": {},
   "source": [
    "## Conclusion"
   ]
  },
  {
   "cell_type": "markdown",
   "metadata": {},
   "source": [
    "We've chosen Random Forest Classification as it has shown to be the most accurate model. We've sanity checked it and proven it's more accurate than random chance, and will be best for future Megaline users."
   ]
  }
 ],
 "metadata": {
  "ExecuteTimeLog": [
   {
    "duration": 783,
    "start_time": "2021-11-20T14:15:05.997Z"
   },
   {
    "duration": 3216,
    "start_time": "2021-11-20T14:15:19.500Z"
   },
   {
    "duration": 3007,
    "start_time": "2021-11-20T14:15:25.241Z"
   },
   {
    "duration": 20,
    "start_time": "2021-11-20T14:15:47.680Z"
   },
   {
    "duration": 44,
    "start_time": "2021-11-20T14:15:52.617Z"
   },
   {
    "duration": 20,
    "start_time": "2021-11-20T14:16:34.058Z"
   },
   {
    "duration": 16,
    "start_time": "2021-11-20T14:16:37.356Z"
   },
   {
    "duration": 21,
    "start_time": "2021-11-20T14:16:53.708Z"
   },
   {
    "duration": 20,
    "start_time": "2021-11-20T14:17:02.582Z"
   },
   {
    "duration": 21,
    "start_time": "2021-11-20T16:35:59.175Z"
   },
   {
    "duration": 855,
    "start_time": "2021-11-20T16:36:11.390Z"
   },
   {
    "duration": 28,
    "start_time": "2021-11-20T16:36:13.903Z"
   },
   {
    "duration": 10,
    "start_time": "2021-11-20T16:36:35.038Z"
   },
   {
    "duration": 16,
    "start_time": "2021-11-20T16:37:23.388Z"
   },
   {
    "duration": 612,
    "start_time": "2021-11-20T16:37:43.081Z"
   },
   {
    "duration": 17,
    "start_time": "2021-11-20T16:38:11.016Z"
   },
   {
    "duration": 595,
    "start_time": "2021-11-20T16:38:13.583Z"
   },
   {
    "duration": 9,
    "start_time": "2021-11-20T16:40:36.606Z"
   },
   {
    "duration": 398,
    "start_time": "2021-11-20T16:40:42.515Z"
   },
   {
    "duration": 424,
    "start_time": "2021-11-20T16:41:00.728Z"
   },
   {
    "duration": 107,
    "start_time": "2021-11-20T16:41:02.954Z"
   },
   {
    "duration": 63,
    "start_time": "2021-11-20T16:41:26.096Z"
   },
   {
    "duration": 378,
    "start_time": "2021-11-20T16:42:55.319Z"
   },
   {
    "duration": 374,
    "start_time": "2021-11-20T16:42:59.160Z"
   },
   {
    "duration": 51,
    "start_time": "2021-11-20T16:43:11.317Z"
   },
   {
    "duration": 1421,
    "start_time": "2021-11-20T16:43:16.317Z"
   },
   {
    "duration": 26,
    "start_time": "2021-11-20T16:43:17.740Z"
   },
   {
    "duration": 6,
    "start_time": "2021-11-20T16:43:17.769Z"
   },
   {
    "duration": 14,
    "start_time": "2021-11-20T16:43:27.693Z"
   },
   {
    "duration": 10,
    "start_time": "2021-11-20T16:46:29.511Z"
   },
   {
    "duration": 956,
    "start_time": "2021-11-20T16:46:45.821Z"
   },
   {
    "duration": 448,
    "start_time": "2021-11-20T16:47:02.044Z"
   },
   {
    "duration": 10,
    "start_time": "2021-11-20T16:47:10.651Z"
   },
   {
    "duration": 10,
    "start_time": "2021-11-20T16:47:16.737Z"
   },
   {
    "duration": 30,
    "start_time": "2021-11-20T16:47:19.937Z"
   },
   {
    "duration": 1464,
    "start_time": "2021-11-20T16:47:27.215Z"
   },
   {
    "duration": 23,
    "start_time": "2021-11-20T16:47:28.681Z"
   },
   {
    "duration": 8,
    "start_time": "2021-11-20T16:47:28.707Z"
   },
   {
    "duration": 27,
    "start_time": "2021-11-20T16:47:28.717Z"
   },
   {
    "duration": 14,
    "start_time": "2021-11-20T16:48:57.008Z"
   },
   {
    "duration": 22,
    "start_time": "2021-11-20T16:49:01.345Z"
   },
   {
    "duration": 24,
    "start_time": "2021-11-20T16:49:20.303Z"
   },
   {
    "duration": 24,
    "start_time": "2021-11-20T16:49:23.487Z"
   },
   {
    "duration": 24,
    "start_time": "2021-11-20T16:49:27.093Z"
   },
   {
    "duration": 23,
    "start_time": "2021-11-20T16:49:29.401Z"
   },
   {
    "duration": 24,
    "start_time": "2021-11-20T16:49:31.054Z"
   },
   {
    "duration": 28,
    "start_time": "2021-11-20T16:50:22.688Z"
   },
   {
    "duration": 1762,
    "start_time": "2021-11-20T16:50:28.968Z"
   },
   {
    "duration": 33,
    "start_time": "2021-11-20T16:50:30.733Z"
   },
   {
    "duration": 39,
    "start_time": "2021-11-20T16:50:30.769Z"
   },
   {
    "duration": 14,
    "start_time": "2021-11-20T16:50:33.036Z"
   },
   {
    "duration": 537,
    "start_time": "2021-11-20T17:03:25.785Z"
   },
   {
    "duration": 181,
    "start_time": "2021-11-20T17:06:11.041Z"
   },
   {
    "duration": 132,
    "start_time": "2021-11-20T17:06:21.923Z"
   },
   {
    "duration": 27,
    "start_time": "2021-11-20T17:06:23.489Z"
   },
   {
    "duration": 30,
    "start_time": "2021-11-20T17:06:40.816Z"
   },
   {
    "duration": 32,
    "start_time": "2021-11-20T17:07:54.130Z"
   },
   {
    "duration": 29,
    "start_time": "2021-11-20T17:07:55.971Z"
   },
   {
    "duration": 31,
    "start_time": "2021-11-20T17:07:57.836Z"
   },
   {
    "duration": 27,
    "start_time": "2021-11-20T17:08:28.085Z"
   },
   {
    "duration": 28,
    "start_time": "2021-11-20T17:08:31.575Z"
   },
   {
    "duration": 22,
    "start_time": "2021-11-20T17:09:15.559Z"
   },
   {
    "duration": 6,
    "start_time": "2021-11-20T17:09:20.826Z"
   },
   {
    "duration": 5,
    "start_time": "2021-11-20T17:09:24.860Z"
   },
   {
    "duration": 5,
    "start_time": "2021-11-20T17:09:27.806Z"
   },
   {
    "duration": 25,
    "start_time": "2021-11-20T17:09:36.741Z"
   },
   {
    "duration": 26,
    "start_time": "2021-11-20T17:09:38.544Z"
   },
   {
    "duration": 26,
    "start_time": "2021-11-20T17:09:39.898Z"
   },
   {
    "duration": 449,
    "start_time": "2021-11-20T17:19:12.087Z"
   },
   {
    "duration": 29,
    "start_time": "2021-11-20T17:20:35.040Z"
   },
   {
    "duration": 389,
    "start_time": "2021-11-20T17:20:36.221Z"
   },
   {
    "duration": 23,
    "start_time": "2021-11-20T17:20:51.210Z"
   },
   {
    "duration": 39,
    "start_time": "2021-11-20T17:20:55.328Z"
   },
   {
    "duration": 694,
    "start_time": "2021-11-20T17:21:01.953Z"
   },
   {
    "duration": 19,
    "start_time": "2021-11-20T17:21:36.219Z"
   },
   {
    "duration": 398,
    "start_time": "2021-11-20T17:22:04.291Z"
   },
   {
    "duration": 487,
    "start_time": "2021-11-20T17:22:24.513Z"
   },
   {
    "duration": 38,
    "start_time": "2021-11-20T17:22:46.683Z"
   },
   {
    "duration": 453,
    "start_time": "2021-11-20T17:22:57.415Z"
   },
   {
    "duration": 20,
    "start_time": "2021-11-20T17:23:01.939Z"
   },
   {
    "duration": 20,
    "start_time": "2021-11-20T17:23:24.660Z"
   },
   {
    "duration": 21,
    "start_time": "2021-11-20T17:23:33.272Z"
   },
   {
    "duration": 19,
    "start_time": "2021-11-20T17:24:32.277Z"
   },
   {
    "duration": 19,
    "start_time": "2021-11-20T17:24:39.607Z"
   },
   {
    "duration": 410,
    "start_time": "2021-11-20T17:25:37.301Z"
   },
   {
    "duration": 21,
    "start_time": "2021-11-20T17:25:49.302Z"
   },
   {
    "duration": 22,
    "start_time": "2021-11-20T17:25:59.111Z"
   },
   {
    "duration": 14,
    "start_time": "2021-11-20T17:26:52.539Z"
   },
   {
    "duration": 12,
    "start_time": "2021-11-20T17:26:55.050Z"
   },
   {
    "duration": 39,
    "start_time": "2021-11-20T17:26:56.383Z"
   },
   {
    "duration": 41,
    "start_time": "2021-11-20T17:30:41.404Z"
   },
   {
    "duration": 117,
    "start_time": "2021-11-20T17:31:28.001Z"
   },
   {
    "duration": 417,
    "start_time": "2021-11-20T17:31:34.284Z"
   },
   {
    "duration": 1132,
    "start_time": "2021-11-20T17:31:39.598Z"
   },
   {
    "duration": 121,
    "start_time": "2021-11-20T17:31:49.568Z"
   },
   {
    "duration": 266,
    "start_time": "2021-11-20T17:31:55.275Z"
   },
   {
    "duration": 155,
    "start_time": "2021-11-20T17:32:01.156Z"
   },
   {
    "duration": 49,
    "start_time": "2021-11-20T17:32:11.808Z"
   },
   {
    "duration": 26,
    "start_time": "2021-11-20T17:34:24.031Z"
   },
   {
    "duration": 63,
    "start_time": "2021-11-20T17:34:53.586Z"
   },
   {
    "duration": 1363,
    "start_time": "2021-11-20T17:35:18.743Z"
   },
   {
    "duration": 24,
    "start_time": "2021-11-20T17:35:20.109Z"
   },
   {
    "duration": 25,
    "start_time": "2021-11-20T17:35:20.137Z"
   },
   {
    "duration": 44,
    "start_time": "2021-11-20T17:35:20.164Z"
   },
   {
    "duration": 160,
    "start_time": "2021-11-20T17:35:20.211Z"
   },
   {
    "duration": 57,
    "start_time": "2021-11-20T17:35:20.374Z"
   },
   {
    "duration": 32,
    "start_time": "2021-11-20T17:35:20.433Z"
   },
   {
    "duration": 24,
    "start_time": "2021-11-20T17:35:45.238Z"
   },
   {
    "duration": 35,
    "start_time": "2021-11-20T17:35:48.412Z"
   },
   {
    "duration": 140,
    "start_time": "2021-11-20T17:40:11.569Z"
   },
   {
    "duration": 16,
    "start_time": "2021-11-20T17:40:33.575Z"
   },
   {
    "duration": 16,
    "start_time": "2021-11-20T17:40:52.376Z"
   },
   {
    "duration": 14,
    "start_time": "2021-11-20T17:40:59.477Z"
   },
   {
    "duration": 605,
    "start_time": "2021-11-20T17:52:31.222Z"
   },
   {
    "duration": 12,
    "start_time": "2021-11-20T17:52:52.885Z"
   },
   {
    "duration": 51,
    "start_time": "2021-11-20T17:54:36.452Z"
   },
   {
    "duration": 18,
    "start_time": "2021-11-20T17:54:59.691Z"
   },
   {
    "duration": 1353,
    "start_time": "2021-11-20T17:55:12.447Z"
   },
   {
    "duration": 22,
    "start_time": "2021-11-20T17:55:13.803Z"
   },
   {
    "duration": 14,
    "start_time": "2021-11-20T17:55:13.828Z"
   },
   {
    "duration": 55,
    "start_time": "2021-11-20T17:55:13.845Z"
   },
   {
    "duration": 211,
    "start_time": "2021-11-20T17:55:13.903Z"
   },
   {
    "duration": 14,
    "start_time": "2021-11-20T17:55:14.117Z"
   },
   {
    "duration": 35,
    "start_time": "2021-11-20T17:55:14.133Z"
   },
   {
    "duration": 537,
    "start_time": "2021-11-20T17:55:41.087Z"
   },
   {
    "duration": 51,
    "start_time": "2021-11-20T17:55:57.613Z"
   },
   {
    "duration": 65,
    "start_time": "2021-11-20T17:58:14.878Z"
   },
   {
    "duration": 8,
    "start_time": "2021-11-21T07:16:01.731Z"
   },
   {
    "duration": 16,
    "start_time": "2021-11-21T07:16:07.215Z"
   },
   {
    "duration": 13,
    "start_time": "2021-11-21T07:16:24.539Z"
   },
   {
    "duration": 14,
    "start_time": "2021-11-21T07:16:32.980Z"
   },
   {
    "duration": 15,
    "start_time": "2021-11-21T07:16:42.390Z"
   },
   {
    "duration": 11,
    "start_time": "2021-11-21T07:16:50.104Z"
   },
   {
    "duration": 8,
    "start_time": "2021-11-21T07:17:04.442Z"
   },
   {
    "duration": 16,
    "start_time": "2021-11-21T07:17:41.695Z"
   },
   {
    "duration": 17,
    "start_time": "2021-11-21T07:18:13.146Z"
   },
   {
    "duration": 14,
    "start_time": "2021-11-21T07:18:28.461Z"
   },
   {
    "duration": 15,
    "start_time": "2021-11-21T07:18:50.803Z"
   },
   {
    "duration": 20,
    "start_time": "2021-11-21T07:19:15.170Z"
   },
   {
    "duration": 16,
    "start_time": "2021-11-21T07:19:33.924Z"
   },
   {
    "duration": 20,
    "start_time": "2021-11-21T07:19:41.268Z"
   },
   {
    "duration": 47,
    "start_time": "2022-07-20T04:17:11.069Z"
   },
   {
    "duration": 1139,
    "start_time": "2022-07-20T04:17:20.560Z"
   },
   {
    "duration": 124,
    "start_time": "2022-07-20T04:17:21.701Z"
   },
   {
    "duration": 17,
    "start_time": "2022-07-20T04:17:21.827Z"
   },
   {
    "duration": 15,
    "start_time": "2022-07-20T04:17:21.846Z"
   },
   {
    "duration": 114,
    "start_time": "2022-07-21T09:31:13.567Z"
   },
   {
    "duration": 9,
    "start_time": "2022-07-21T09:31:17.711Z"
   },
   {
    "duration": 6,
    "start_time": "2022-07-21T09:31:21.264Z"
   },
   {
    "duration": 11,
    "start_time": "2022-07-21T09:31:30.058Z"
   },
   {
    "duration": 4,
    "start_time": "2022-07-21T09:31:35.922Z"
   },
   {
    "duration": 10,
    "start_time": "2022-07-21T09:31:37.748Z"
   },
   {
    "duration": 10,
    "start_time": "2022-07-21T09:31:42.388Z"
   },
   {
    "duration": 10,
    "start_time": "2022-07-21T09:31:50.291Z"
   },
   {
    "duration": 6,
    "start_time": "2022-07-21T09:32:08.761Z"
   },
   {
    "duration": 11,
    "start_time": "2022-07-21T09:32:10.681Z"
   },
   {
    "duration": 376,
    "start_time": "2022-07-21T09:34:29.306Z"
   },
   {
    "duration": 18,
    "start_time": "2022-07-21T09:34:48.288Z"
   },
   {
    "duration": 53,
    "start_time": "2022-07-21T09:34:56.560Z"
   },
   {
    "duration": 106,
    "start_time": "2022-07-21T09:34:59.988Z"
   },
   {
    "duration": 10,
    "start_time": "2022-07-21T09:35:00.097Z"
   },
   {
    "duration": 30,
    "start_time": "2022-07-21T09:35:00.108Z"
   },
   {
    "duration": 20,
    "start_time": "2022-07-21T09:35:00.140Z"
   },
   {
    "duration": 23,
    "start_time": "2022-07-21T09:35:00.162Z"
   },
   {
    "duration": 0,
    "start_time": "2022-07-21T09:35:00.186Z"
   },
   {
    "duration": 97,
    "start_time": "2022-07-21T09:35:18.626Z"
   },
   {
    "duration": 30,
    "start_time": "2022-07-21T09:35:19.732Z"
   },
   {
    "duration": 1420,
    "start_time": "2022-07-21T09:35:25.420Z"
   },
   {
    "duration": 31,
    "start_time": "2022-07-21T09:35:26.842Z"
   },
   {
    "duration": 13,
    "start_time": "2022-07-21T09:35:26.874Z"
   },
   {
    "duration": 10,
    "start_time": "2022-07-21T09:35:26.889Z"
   },
   {
    "duration": 6,
    "start_time": "2022-07-21T09:35:26.901Z"
   },
   {
    "duration": 118,
    "start_time": "2022-07-21T09:35:26.909Z"
   },
   {
    "duration": 0,
    "start_time": "2022-07-21T09:35:27.029Z"
   },
   {
    "duration": 0,
    "start_time": "2022-07-21T09:35:27.030Z"
   },
   {
    "duration": 0,
    "start_time": "2022-07-21T09:35:27.031Z"
   },
   {
    "duration": 0,
    "start_time": "2022-07-21T09:35:27.032Z"
   },
   {
    "duration": 0,
    "start_time": "2022-07-21T09:35:27.033Z"
   },
   {
    "duration": 11,
    "start_time": "2022-07-21T09:36:08.646Z"
   },
   {
    "duration": 1441,
    "start_time": "2022-07-21T09:36:13.888Z"
   },
   {
    "duration": 31,
    "start_time": "2022-07-21T09:36:15.331Z"
   },
   {
    "duration": 13,
    "start_time": "2022-07-21T09:36:15.364Z"
   },
   {
    "duration": 12,
    "start_time": "2022-07-21T09:36:15.379Z"
   },
   {
    "duration": 9,
    "start_time": "2022-07-21T09:36:15.394Z"
   },
   {
    "duration": 16,
    "start_time": "2022-07-21T09:36:15.405Z"
   },
   {
    "duration": 253,
    "start_time": "2022-07-21T09:36:15.423Z"
   },
   {
    "duration": 62,
    "start_time": "2022-07-21T09:36:15.678Z"
   },
   {
    "duration": 156,
    "start_time": "2022-07-21T09:36:15.741Z"
   },
   {
    "duration": 19,
    "start_time": "2022-07-21T09:36:15.898Z"
   },
   {
    "duration": 45,
    "start_time": "2022-07-21T09:36:15.919Z"
   },
   {
    "duration": 5,
    "start_time": "2022-07-21T09:36:57.304Z"
   },
   {
    "duration": 308,
    "start_time": "2022-07-21T09:38:05.062Z"
   },
   {
    "duration": 3,
    "start_time": "2022-07-21T09:38:20.982Z"
   },
   {
    "duration": 232,
    "start_time": "2022-07-21T09:38:24.514Z"
   },
   {
    "duration": 247,
    "start_time": "2022-07-21T09:38:41.381Z"
   },
   {
    "duration": 247,
    "start_time": "2022-07-21T09:39:17.021Z"
   },
   {
    "duration": 185,
    "start_time": "2022-07-21T09:39:26.063Z"
   },
   {
    "duration": 10,
    "start_time": "2022-07-21T09:39:59.584Z"
   },
   {
    "duration": 2426,
    "start_time": "2022-07-21T09:40:03.242Z"
   },
   {
    "duration": 206,
    "start_time": "2022-07-21T09:40:14.774Z"
   },
   {
    "duration": 238,
    "start_time": "2022-07-21T09:40:36.542Z"
   },
   {
    "duration": 220,
    "start_time": "2022-07-21T09:40:46.194Z"
   },
   {
    "duration": 218,
    "start_time": "2022-07-21T09:41:37.315Z"
   },
   {
    "duration": 277,
    "start_time": "2022-07-21T09:41:46.561Z"
   },
   {
    "duration": 16,
    "start_time": "2022-07-21T09:42:24.713Z"
   },
   {
    "duration": 5,
    "start_time": "2022-07-21T09:42:34.562Z"
   },
   {
    "duration": 6,
    "start_time": "2022-07-21T09:42:43.653Z"
   },
   {
    "duration": 6,
    "start_time": "2022-07-21T09:42:55.265Z"
   },
   {
    "duration": 48,
    "start_time": "2022-07-21T09:43:54.399Z"
   },
   {
    "duration": 67,
    "start_time": "2022-07-21T09:43:59.893Z"
   },
   {
    "duration": 8,
    "start_time": "2022-07-21T09:44:02.587Z"
   },
   {
    "duration": 8,
    "start_time": "2022-07-21T09:44:06.669Z"
   },
   {
    "duration": 8,
    "start_time": "2022-07-21T09:44:09.048Z"
   },
   {
    "duration": 8,
    "start_time": "2022-07-21T09:44:15.091Z"
   },
   {
    "duration": 7,
    "start_time": "2022-07-21T09:44:53.653Z"
   },
   {
    "duration": 7,
    "start_time": "2022-07-21T09:48:43.757Z"
   },
   {
    "duration": 8,
    "start_time": "2022-07-21T09:49:01.912Z"
   },
   {
    "duration": 8,
    "start_time": "2022-07-21T09:49:06.057Z"
   },
   {
    "duration": 7,
    "start_time": "2022-07-21T09:49:08.974Z"
   },
   {
    "duration": 6,
    "start_time": "2022-07-21T09:49:28.194Z"
   },
   {
    "duration": 7,
    "start_time": "2022-07-21T09:50:05.794Z"
   },
   {
    "duration": 12,
    "start_time": "2022-07-21T09:50:37.962Z"
   },
   {
    "duration": 13,
    "start_time": "2022-07-21T09:50:41.034Z"
   },
   {
    "duration": 6,
    "start_time": "2022-07-21T09:50:45.806Z"
   },
   {
    "duration": 8,
    "start_time": "2022-07-21T09:50:48.214Z"
   },
   {
    "duration": 13,
    "start_time": "2022-07-21T09:51:05.794Z"
   },
   {
    "duration": 6,
    "start_time": "2022-07-21T09:51:08.422Z"
   },
   {
    "duration": 6,
    "start_time": "2022-07-21T09:52:03.415Z"
   },
   {
    "duration": 8,
    "start_time": "2022-07-21T09:52:45.384Z"
   },
   {
    "duration": 8,
    "start_time": "2022-07-21T09:52:48.043Z"
   },
   {
    "duration": 8,
    "start_time": "2022-07-21T09:52:53.084Z"
   },
   {
    "duration": 9,
    "start_time": "2022-07-21T09:53:00.562Z"
   },
   {
    "duration": 8,
    "start_time": "2022-07-21T09:53:04.494Z"
   },
   {
    "duration": 8,
    "start_time": "2022-07-21T09:53:07.881Z"
   },
   {
    "duration": 5,
    "start_time": "2022-07-21T09:54:59.913Z"
   },
   {
    "duration": 9,
    "start_time": "2022-07-21T09:55:12.832Z"
   },
   {
    "duration": 7,
    "start_time": "2022-07-21T09:55:25.674Z"
   },
   {
    "duration": 9,
    "start_time": "2022-07-21T09:55:39.054Z"
   },
   {
    "duration": 5,
    "start_time": "2022-07-21T09:55:57.655Z"
   },
   {
    "duration": 12,
    "start_time": "2022-07-21T09:59:12.704Z"
   },
   {
    "duration": 3,
    "start_time": "2022-07-21T09:59:20.222Z"
   },
   {
    "duration": 9,
    "start_time": "2022-07-21T09:59:23.414Z"
   },
   {
    "duration": 3,
    "start_time": "2022-07-21T09:59:30.894Z"
   },
   {
    "duration": 3,
    "start_time": "2022-07-21T09:59:52.932Z"
   },
   {
    "duration": 3,
    "start_time": "2022-07-21T09:59:55.713Z"
   },
   {
    "duration": 9,
    "start_time": "2022-07-21T09:59:57.254Z"
   },
   {
    "duration": 10,
    "start_time": "2022-07-21T09:59:59.379Z"
   },
   {
    "duration": 4,
    "start_time": "2022-07-21T10:00:01.754Z"
   },
   {
    "duration": 5,
    "start_time": "2022-07-21T10:00:08.704Z"
   },
   {
    "duration": 4,
    "start_time": "2022-07-21T10:00:16.123Z"
   },
   {
    "duration": 4,
    "start_time": "2022-07-21T10:02:10.910Z"
   },
   {
    "duration": 4,
    "start_time": "2022-07-21T10:02:13.381Z"
   },
   {
    "duration": 7,
    "start_time": "2022-07-21T10:02:16.531Z"
   },
   {
    "duration": 4,
    "start_time": "2022-07-21T10:02:32.001Z"
   },
   {
    "duration": 4,
    "start_time": "2022-07-21T10:02:34.517Z"
   },
   {
    "duration": 4,
    "start_time": "2022-07-21T10:02:40.448Z"
   },
   {
    "duration": 4,
    "start_time": "2022-07-21T10:02:46.588Z"
   },
   {
    "duration": 5,
    "start_time": "2022-07-21T10:02:48.754Z"
   },
   {
    "duration": 4,
    "start_time": "2022-07-21T10:02:50.752Z"
   },
   {
    "duration": 5,
    "start_time": "2022-07-21T10:02:53.085Z"
   },
   {
    "duration": 4,
    "start_time": "2022-07-21T10:02:55.816Z"
   },
   {
    "duration": 3,
    "start_time": "2022-07-21T10:03:04.834Z"
   },
   {
    "duration": 3,
    "start_time": "2022-07-21T10:03:08.269Z"
   },
   {
    "duration": 3,
    "start_time": "2022-07-21T10:03:10.192Z"
   },
   {
    "duration": 4,
    "start_time": "2022-07-21T10:03:12.452Z"
   },
   {
    "duration": 5,
    "start_time": "2022-07-21T10:03:15.332Z"
   },
   {
    "duration": 3,
    "start_time": "2022-07-21T10:04:47.234Z"
   },
   {
    "duration": 4,
    "start_time": "2022-07-21T10:04:52.608Z"
   },
   {
    "duration": 3,
    "start_time": "2022-07-21T10:04:57.227Z"
   },
   {
    "duration": 4,
    "start_time": "2022-07-21T10:04:57.837Z"
   },
   {
    "duration": 5,
    "start_time": "2022-07-21T10:05:30.554Z"
   },
   {
    "duration": 3,
    "start_time": "2022-07-21T10:05:32.304Z"
   },
   {
    "duration": 4,
    "start_time": "2022-07-21T10:05:32.628Z"
   },
   {
    "duration": 4,
    "start_time": "2022-07-21T10:06:02.414Z"
   },
   {
    "duration": 1462,
    "start_time": "2022-07-21T10:06:07.598Z"
   },
   {
    "duration": 32,
    "start_time": "2022-07-21T10:06:09.062Z"
   },
   {
    "duration": 14,
    "start_time": "2022-07-21T10:06:09.095Z"
   },
   {
    "duration": 13,
    "start_time": "2022-07-21T10:06:09.111Z"
   },
   {
    "duration": 5,
    "start_time": "2022-07-21T10:06:09.125Z"
   },
   {
    "duration": 12,
    "start_time": "2022-07-21T10:06:09.131Z"
   },
   {
    "duration": 9,
    "start_time": "2022-07-21T10:06:09.144Z"
   },
   {
    "duration": 14,
    "start_time": "2022-07-21T10:06:09.155Z"
   },
   {
    "duration": 10,
    "start_time": "2022-07-21T10:06:09.170Z"
   },
   {
    "duration": 27,
    "start_time": "2022-07-21T10:06:09.182Z"
   },
   {
    "duration": 51,
    "start_time": "2022-07-21T10:06:09.211Z"
   },
   {
    "duration": 176,
    "start_time": "2022-07-21T10:06:09.264Z"
   },
   {
    "duration": 14,
    "start_time": "2022-07-21T10:06:09.442Z"
   },
   {
    "duration": 64,
    "start_time": "2022-07-21T10:06:09.459Z"
   },
   {
    "duration": 4,
    "start_time": "2022-07-21T10:06:52.785Z"
   },
   {
    "duration": 5,
    "start_time": "2022-07-21T10:06:56.804Z"
   },
   {
    "duration": 4,
    "start_time": "2022-07-21T10:06:59.390Z"
   },
   {
    "duration": 3,
    "start_time": "2022-07-21T10:07:04.037Z"
   },
   {
    "duration": 4,
    "start_time": "2022-07-21T10:07:09.193Z"
   },
   {
    "duration": 4,
    "start_time": "2022-07-21T10:07:13.626Z"
   },
   {
    "duration": 4,
    "start_time": "2022-07-21T10:07:15.317Z"
   },
   {
    "duration": 4,
    "start_time": "2022-07-21T10:07:18.540Z"
   },
   {
    "duration": 4,
    "start_time": "2022-07-21T10:07:21.945Z"
   },
   {
    "duration": 129,
    "start_time": "2022-07-21T10:07:32.540Z"
   },
   {
    "duration": 6,
    "start_time": "2022-07-21T10:07:37.991Z"
   },
   {
    "duration": 5,
    "start_time": "2022-07-21T10:14:36.350Z"
   },
   {
    "duration": 4,
    "start_time": "2022-07-21T10:14:41.974Z"
   },
   {
    "duration": 4,
    "start_time": "2022-07-21T10:14:45.857Z"
   },
   {
    "duration": 9,
    "start_time": "2022-07-21T10:18:21.617Z"
   },
   {
    "duration": 15,
    "start_time": "2022-07-21T10:21:41.310Z"
   },
   {
    "duration": 19,
    "start_time": "2022-07-21T10:22:05.071Z"
   },
   {
    "duration": 6,
    "start_time": "2022-07-21T10:22:14.245Z"
   },
   {
    "duration": 9,
    "start_time": "2022-07-21T10:23:38.104Z"
   },
   {
    "duration": 3,
    "start_time": "2022-07-21T10:24:40.816Z"
   },
   {
    "duration": 4,
    "start_time": "2022-07-21T10:24:53.417Z"
   },
   {
    "duration": 6,
    "start_time": "2022-07-21T10:24:55.083Z"
   },
   {
    "duration": 6,
    "start_time": "2022-07-21T10:25:02.376Z"
   },
   {
    "duration": 5,
    "start_time": "2022-07-21T10:25:10.537Z"
   },
   {
    "duration": 5,
    "start_time": "2022-07-21T10:25:13.544Z"
   },
   {
    "duration": 74,
    "start_time": "2022-07-21T10:28:58.504Z"
   },
   {
    "duration": 7833,
    "start_time": "2022-07-21T10:29:12.264Z"
   },
   {
    "duration": 19,
    "start_time": "2022-07-21T10:30:43.781Z"
   },
   {
    "duration": 15,
    "start_time": "2022-07-21T10:30:50.051Z"
   },
   {
    "duration": 10,
    "start_time": "2022-07-21T10:30:54.776Z"
   },
   {
    "duration": 15,
    "start_time": "2022-07-21T10:31:03.005Z"
   },
   {
    "duration": 3,
    "start_time": "2022-07-21T10:31:17.622Z"
   },
   {
    "duration": 30,
    "start_time": "2022-07-21T10:31:21.222Z"
   },
   {
    "duration": 11,
    "start_time": "2022-07-21T10:31:21.254Z"
   },
   {
    "duration": 12,
    "start_time": "2022-07-21T10:31:21.267Z"
   },
   {
    "duration": 7,
    "start_time": "2022-07-21T10:31:21.281Z"
   },
   {
    "duration": 9,
    "start_time": "2022-07-21T10:31:21.290Z"
   },
   {
    "duration": 8,
    "start_time": "2022-07-21T10:31:21.300Z"
   },
   {
    "duration": 16,
    "start_time": "2022-07-21T10:31:21.310Z"
   },
   {
    "duration": 0,
    "start_time": "2022-07-21T10:31:21.328Z"
   },
   {
    "duration": 0,
    "start_time": "2022-07-21T10:31:21.329Z"
   },
   {
    "duration": 0,
    "start_time": "2022-07-21T10:31:21.331Z"
   },
   {
    "duration": 15,
    "start_time": "2022-07-21T10:31:25.774Z"
   },
   {
    "duration": 0,
    "start_time": "2022-07-21T10:31:25.791Z"
   },
   {
    "duration": 0,
    "start_time": "2022-07-21T10:31:25.792Z"
   },
   {
    "duration": 0,
    "start_time": "2022-07-21T10:31:25.795Z"
   },
   {
    "duration": 0,
    "start_time": "2022-07-21T10:31:25.797Z"
   },
   {
    "duration": 162,
    "start_time": "2022-07-21T10:35:15.644Z"
   },
   {
    "duration": 8,
    "start_time": "2022-07-21T10:35:29.566Z"
   },
   {
    "duration": 9,
    "start_time": "2022-07-21T10:36:13.155Z"
   },
   {
    "duration": 7,
    "start_time": "2022-07-21T10:37:11.366Z"
   },
   {
    "duration": 7,
    "start_time": "2022-07-21T10:42:09.291Z"
   },
   {
    "duration": 5,
    "start_time": "2022-07-21T10:42:09.551Z"
   },
   {
    "duration": 145,
    "start_time": "2022-07-21T10:42:13.217Z"
   },
   {
    "duration": 95,
    "start_time": "2022-07-21T10:44:41.377Z"
   },
   {
    "duration": 93,
    "start_time": "2022-07-21T10:44:45.104Z"
   },
   {
    "duration": 6,
    "start_time": "2022-07-21T10:45:37.961Z"
   },
   {
    "duration": 8,
    "start_time": "2022-07-21T10:45:52.929Z"
   },
   {
    "duration": 8,
    "start_time": "2022-07-21T10:46:07.344Z"
   },
   {
    "duration": 7,
    "start_time": "2022-07-21T10:46:18.469Z"
   },
   {
    "duration": 6,
    "start_time": "2022-07-21T10:46:18.485Z"
   },
   {
    "duration": 16,
    "start_time": "2022-07-21T10:46:18.493Z"
   },
   {
    "duration": 15,
    "start_time": "2022-07-21T10:46:18.511Z"
   },
   {
    "duration": 7491,
    "start_time": "2022-07-21T10:46:20.028Z"
   },
   {
    "duration": 318027,
    "start_time": "2022-07-21T10:48:12.736Z"
   },
   {
    "duration": 44,
    "start_time": "2022-07-21T10:53:30.765Z"
   },
   {
    "duration": 47125,
    "start_time": "2022-07-21T10:53:32.856Z"
   },
   {
    "duration": 5972,
    "start_time": "2022-07-21T10:59:01.045Z"
   },
   {
    "duration": 0,
    "start_time": "2022-07-21T10:59:07.019Z"
   },
   {
    "duration": 3,
    "start_time": "2022-07-21T10:59:08.084Z"
   },
   {
    "duration": 46958,
    "start_time": "2022-07-21T10:59:08.305Z"
   },
   {
    "duration": 4,
    "start_time": "2022-07-21T11:02:27.613Z"
   },
   {
    "duration": 57,
    "start_time": "2022-07-22T19:53:06.808Z"
   },
   {
    "duration": 1495,
    "start_time": "2022-07-22T19:53:16.347Z"
   },
   {
    "duration": 114,
    "start_time": "2022-07-22T19:53:17.844Z"
   },
   {
    "duration": 13,
    "start_time": "2022-07-22T19:53:17.959Z"
   },
   {
    "duration": 11,
    "start_time": "2022-07-22T19:53:17.974Z"
   },
   {
    "duration": 6,
    "start_time": "2022-07-22T19:53:17.987Z"
   },
   {
    "duration": 9,
    "start_time": "2022-07-22T19:53:17.994Z"
   },
   {
    "duration": 7,
    "start_time": "2022-07-22T19:53:18.004Z"
   },
   {
    "duration": 7,
    "start_time": "2022-07-22T19:53:18.012Z"
   },
   {
    "duration": 8,
    "start_time": "2022-07-22T19:53:18.020Z"
   },
   {
    "duration": 4,
    "start_time": "2022-07-22T19:53:18.029Z"
   },
   {
    "duration": 5,
    "start_time": "2022-07-22T19:53:18.034Z"
   },
   {
    "duration": 180,
    "start_time": "2022-07-22T19:53:18.040Z"
   },
   {
    "duration": 46507,
    "start_time": "2022-07-22T19:53:18.221Z"
   },
   {
    "duration": 23,
    "start_time": "2022-07-22T19:54:04.731Z"
   },
   {
    "duration": 0,
    "start_time": "2022-07-22T19:54:04.755Z"
   },
   {
    "duration": 69,
    "start_time": "2022-07-22T19:57:07.247Z"
   },
   {
    "duration": 457,
    "start_time": "2022-07-22T19:57:18.168Z"
   },
   {
    "duration": 374,
    "start_time": "2022-07-22T20:00:23.025Z"
   },
   {
    "duration": 834,
    "start_time": "2022-07-22T20:00:46.511Z"
   },
   {
    "duration": 379,
    "start_time": "2022-07-22T20:01:18.423Z"
   },
   {
    "duration": 49233,
    "start_time": "2022-07-22T20:01:20.833Z"
   },
   {
    "duration": 9,
    "start_time": "2022-07-22T20:06:14.355Z"
   },
   {
    "duration": 8,
    "start_time": "2022-07-22T20:06:16.577Z"
   },
   {
    "duration": 9,
    "start_time": "2022-07-22T20:06:27.385Z"
   },
   {
    "duration": 3606,
    "start_time": "2022-07-22T20:08:20.830Z"
   },
   {
    "duration": 1518,
    "start_time": "2022-07-22T20:08:38.206Z"
   },
   {
    "duration": 10,
    "start_time": "2022-07-22T20:10:06.553Z"
   },
   {
    "duration": 3,
    "start_time": "2022-07-22T20:10:48.557Z"
   },
   {
    "duration": 11,
    "start_time": "2022-07-22T20:13:49.147Z"
   },
   {
    "duration": 17,
    "start_time": "2022-07-22T20:14:24.755Z"
   },
   {
    "duration": 16,
    "start_time": "2022-07-22T20:14:36.154Z"
   },
   {
    "duration": 23,
    "start_time": "2022-07-22T20:15:15.319Z"
   },
   {
    "duration": 1517,
    "start_time": "2022-07-22T20:15:38.439Z"
   },
   {
    "duration": 29,
    "start_time": "2022-07-22T20:15:39.958Z"
   },
   {
    "duration": 14,
    "start_time": "2022-07-22T20:15:39.988Z"
   },
   {
    "duration": 11,
    "start_time": "2022-07-22T20:15:40.003Z"
   },
   {
    "duration": 10,
    "start_time": "2022-07-22T20:15:40.016Z"
   },
   {
    "duration": 12,
    "start_time": "2022-07-22T20:15:40.029Z"
   },
   {
    "duration": 13,
    "start_time": "2022-07-22T20:15:40.043Z"
   },
   {
    "duration": 9,
    "start_time": "2022-07-22T20:15:40.058Z"
   },
   {
    "duration": 10,
    "start_time": "2022-07-22T20:15:40.069Z"
   },
   {
    "duration": 4,
    "start_time": "2022-07-22T20:15:40.080Z"
   },
   {
    "duration": 13,
    "start_time": "2022-07-22T20:15:40.086Z"
   },
   {
    "duration": 433,
    "start_time": "2022-07-22T20:15:40.101Z"
   },
   {
    "duration": 50012,
    "start_time": "2022-07-22T20:15:40.536Z"
   },
   {
    "duration": 2987,
    "start_time": "2022-07-22T20:16:30.551Z"
   },
   {
    "duration": 93,
    "start_time": "2022-07-22T20:16:33.541Z"
   },
   {
    "duration": 191,
    "start_time": "2022-07-22T20:16:33.636Z"
   },
   {
    "duration": 97685,
    "start_time": "2022-07-22T20:18:55.121Z"
   },
   {
    "duration": 16,
    "start_time": "2022-07-22T20:21:31.071Z"
   },
   {
    "duration": 1426,
    "start_time": "2022-07-22T20:22:18.820Z"
   },
   {
    "duration": 30,
    "start_time": "2022-07-22T20:22:20.249Z"
   },
   {
    "duration": 12,
    "start_time": "2022-07-22T20:22:20.281Z"
   },
   {
    "duration": 10,
    "start_time": "2022-07-22T20:22:20.295Z"
   },
   {
    "duration": 9,
    "start_time": "2022-07-22T20:22:20.306Z"
   },
   {
    "duration": 5,
    "start_time": "2022-07-22T20:22:20.316Z"
   },
   {
    "duration": 19,
    "start_time": "2022-07-22T20:22:20.322Z"
   },
   {
    "duration": 12,
    "start_time": "2022-07-22T20:22:20.344Z"
   },
   {
    "duration": 12,
    "start_time": "2022-07-22T20:22:20.357Z"
   },
   {
    "duration": 4,
    "start_time": "2022-07-22T20:22:20.371Z"
   },
   {
    "duration": 9,
    "start_time": "2022-07-22T20:22:20.376Z"
   },
   {
    "duration": 415,
    "start_time": "2022-07-22T20:22:20.386Z"
   },
   {
    "duration": 47883,
    "start_time": "2022-07-22T20:22:20.802Z"
   },
   {
    "duration": 454,
    "start_time": "2022-07-22T20:23:08.687Z"
   },
   {
    "duration": 96,
    "start_time": "2022-07-22T20:23:09.143Z"
   },
   {
    "duration": 144,
    "start_time": "2022-07-22T20:23:09.325Z"
   },
   {
    "duration": 16,
    "start_time": "2022-07-22T20:28:02.234Z"
   },
   {
    "duration": 9,
    "start_time": "2022-07-22T20:44:47.168Z"
   },
   {
    "duration": 9,
    "start_time": "2022-07-22T20:45:34.222Z"
   },
   {
    "duration": 10,
    "start_time": "2022-07-22T20:45:38.882Z"
   },
   {
    "duration": 9,
    "start_time": "2022-07-22T20:45:39.861Z"
   },
   {
    "duration": 9,
    "start_time": "2022-07-22T20:45:44.648Z"
   },
   {
    "duration": 5,
    "start_time": "2022-07-22T20:45:54.997Z"
   },
   {
    "duration": 6,
    "start_time": "2022-07-22T20:46:51.701Z"
   },
   {
    "duration": 5,
    "start_time": "2022-07-22T21:25:29.546Z"
   },
   {
    "duration": 5,
    "start_time": "2022-07-22T21:25:38.397Z"
   },
   {
    "duration": 8,
    "start_time": "2022-07-22T21:25:42.759Z"
   },
   {
    "duration": 1538,
    "start_time": "2022-07-22T22:15:01.314Z"
   },
   {
    "duration": 30,
    "start_time": "2022-07-22T22:15:02.854Z"
   },
   {
    "duration": 13,
    "start_time": "2022-07-22T22:15:02.885Z"
   },
   {
    "duration": 14,
    "start_time": "2022-07-22T22:15:02.899Z"
   },
   {
    "duration": 8,
    "start_time": "2022-07-22T22:15:02.915Z"
   },
   {
    "duration": 22,
    "start_time": "2022-07-22T22:15:02.933Z"
   },
   {
    "duration": 16,
    "start_time": "2022-07-22T22:15:02.957Z"
   },
   {
    "duration": 6,
    "start_time": "2022-07-22T22:15:02.975Z"
   },
   {
    "duration": 14,
    "start_time": "2022-07-22T22:15:02.982Z"
   },
   {
    "duration": 5,
    "start_time": "2022-07-22T22:15:02.998Z"
   },
   {
    "duration": 11,
    "start_time": "2022-07-22T22:15:03.004Z"
   },
   {
    "duration": 377,
    "start_time": "2022-07-22T22:15:03.016Z"
   },
   {
    "duration": 45973,
    "start_time": "2022-07-22T22:15:03.394Z"
   },
   {
    "duration": 562,
    "start_time": "2022-07-22T22:15:49.370Z"
   },
   {
    "duration": 100,
    "start_time": "2022-07-22T22:15:50.024Z"
   },
   {
    "duration": 7,
    "start_time": "2022-07-22T22:15:50.126Z"
   }
  ],
  "kernelspec": {
   "display_name": "Python 3 (ipykernel)",
   "language": "python",
   "name": "python3"
  },
  "language_info": {
   "codemirror_mode": {
    "name": "ipython",
    "version": 3
   },
   "file_extension": ".py",
   "mimetype": "text/x-python",
   "name": "python",
   "nbconvert_exporter": "python",
   "pygments_lexer": "ipython3",
   "version": "3.9.7"
  },
  "toc": {
   "base_numbering": 1,
   "nav_menu": {},
   "number_sections": true,
   "sideBar": true,
   "skip_h1_title": true,
   "title_cell": "Table of Contents",
   "title_sidebar": "Contents",
   "toc_cell": false,
   "toc_position": {},
   "toc_section_display": true,
   "toc_window_display": false
  }
 },
 "nbformat": 4,
 "nbformat_minor": 2
}
